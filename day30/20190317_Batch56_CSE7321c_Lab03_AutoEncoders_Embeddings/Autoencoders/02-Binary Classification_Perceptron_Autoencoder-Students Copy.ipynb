{
 "cells": [
  {
   "cell_type": "markdown",
   "metadata": {},
   "source": [
    "##  Binary Classification using Perception, MLP and Autoencoder"
   ]
  },
  {
   "cell_type": "markdown",
   "metadata": {},
   "source": [
    "#### Loading the required libraries"
   ]
  },
  {
   "cell_type": "code",
   "execution_count": 1,
   "metadata": {
    "ExecuteTime": {
     "end_time": "2019-03-21T13:44:31.557598Z",
     "start_time": "2019-03-21T13:44:27.641018Z"
    }
   },
   "outputs": [
    {
     "name": "stderr",
     "output_type": "stream",
     "text": [
      "Using TensorFlow backend.\n"
     ]
    }
   ],
   "source": [
    "import pandas as pd\n",
    "import numpy as np\n",
    "\n",
    "from sklearn.model_selection import train_test_split\n",
    "from sklearn.metrics import confusion_matrix, roc_curve, auc\n",
    "\n",
    "from keras.models import Sequential, Model\n",
    "from keras.layers import Dense, Input\n",
    "from keras.layers.normalization import BatchNormalization\n",
    "from keras.utils import to_categorical\n",
    "\n",
    "import matplotlib.pyplot as plt"
   ]
  },
  {
   "cell_type": "markdown",
   "metadata": {},
   "source": [
    "#### Problem\n",
    "\n",
    "    Is to identify products at risk of backorder before the event occurs so the business has time to react. "
   ]
  },
  {
   "cell_type": "markdown",
   "metadata": {},
   "source": [
    "#### Data\n",
    "\n",
    "Data file contains the historical data for the 8 weeks prior to the week we are trying to predict. The data was taken as weekly snapshots at the start of each week. Columns are defined as follows:\n",
    "\n",
    "    sku - Random ID for the product\n",
    "\n",
    "    national_inv - Current inventory level for the part\n",
    "\n",
    "    lead_time - Transit time for product (if available)\n",
    "\n",
    "    in_transit_qty - Amount of product in transit from source\n",
    "\n",
    "    forecast_3_month - Forecast sales for the next 3 months\n",
    "\n",
    "    forecast_6_month - Forecast sales for the next 6 months\n",
    "\n",
    "    forecast_9_month - Forecast sales for the next 9 months\n",
    "\n",
    "    sales_1_month - Sales quantity for the prior 1 month time period\n",
    "\n",
    "    sales_3_month - Sales quantity for the prior 3 month time period\n",
    "\n",
    "    sales_6_month - Sales quantity for the prior 6 month time period\n",
    "\n",
    "    sales_9_month - Sales quantity for the prior 9 month time period\n",
    "\n",
    "    min_bank - Minimum recommend amount to stock\n",
    "\n",
    "    potential_issue - Source issue for part identified\n",
    "\n",
    "    pieces_past_due - Parts overdue from source\n",
    "\n",
    "    perf_6_month_avg - Source performance for prior 6 month period\n",
    "\n",
    "    perf_12_month_avg - Source performance for prior 12 month period\n",
    "\n",
    "    local_bo_qty - Amount of stock orders overdue\n",
    "\n",
    "    deck_risk - Part risk flag\n",
    "\n",
    "    oe_constraint - Part risk flag\n",
    "\n",
    "    ppap_risk - Part risk flag\n",
    "\n",
    "    stop_auto_buy - Part risk flag\n",
    "\n",
    "    rev_stop - Part risk flag\n",
    "\n",
    "    went_on_backorder - Product actually went on backorder. This is the target value."
   ]
  },
  {
   "cell_type": "markdown",
   "metadata": {},
   "source": [
    "#### Identify Right Error Metrics\n",
    "\n",
    "    Based on the businees have to identify right error metrics."
   ]
  },
  {
   "cell_type": "raw",
   "metadata": {},
   "source": []
  },
  {
   "cell_type": "markdown",
   "metadata": {},
   "source": [
    "#### Loading the data"
   ]
  },
  {
   "cell_type": "code",
   "execution_count": 2,
   "metadata": {
    "ExecuteTime": {
     "end_time": "2019-03-21T13:44:31.563370Z",
     "start_time": "2019-03-21T13:44:31.560476Z"
    }
   },
   "outputs": [],
   "source": [
    "import os\n",
    "PATH = os.getcwd()"
   ]
  },
  {
   "cell_type": "code",
   "execution_count": 3,
   "metadata": {
    "ExecuteTime": {
     "end_time": "2019-03-21T13:44:31.567581Z",
     "start_time": "2019-03-21T13:44:31.565262Z"
    }
   },
   "outputs": [],
   "source": [
    "os.chdir(PATH)"
   ]
  },
  {
   "cell_type": "code",
   "execution_count": 4,
   "metadata": {
    "ExecuteTime": {
     "end_time": "2019-03-21T13:44:31.766784Z",
     "start_time": "2019-03-21T13:44:31.570245Z"
    }
   },
   "outputs": [],
   "source": [
    "data = pd.read_csv(\"BackOrders.csv\",header=0)"
   ]
  },
  {
   "cell_type": "markdown",
   "metadata": {},
   "source": [
    "#### Understand the Data"
   ]
  },
  {
   "cell_type": "markdown",
   "metadata": {},
   "source": [
    "See the No. row and columns"
   ]
  },
  {
   "cell_type": "code",
   "execution_count": 5,
   "metadata": {
    "ExecuteTime": {
     "end_time": "2019-03-21T13:44:31.774825Z",
     "start_time": "2019-03-21T13:44:31.769834Z"
    }
   },
   "outputs": [
    {
     "data": {
      "text/plain": [
       "(61589, 23)"
      ]
     },
     "execution_count": 5,
     "metadata": {},
     "output_type": "execute_result"
    }
   ],
   "source": [
    "data.shape"
   ]
  },
  {
   "cell_type": "markdown",
   "metadata": {},
   "source": [
    "Display the columns"
   ]
  },
  {
   "cell_type": "code",
   "execution_count": 6,
   "metadata": {
    "ExecuteTime": {
     "end_time": "2019-03-21T13:44:31.780239Z",
     "start_time": "2019-03-21T13:44:31.776295Z"
    }
   },
   "outputs": [
    {
     "data": {
      "text/plain": [
       "Index(['sku', 'national_inv', 'lead_time', 'in_transit_qty',\n",
       "       'forecast_3_month', 'forecast_6_month', 'forecast_9_month',\n",
       "       'sales_1_month', 'sales_3_month', 'sales_6_month', 'sales_9_month',\n",
       "       'min_bank', 'potential_issue', 'pieces_past_due', 'perf_6_month_avg',\n",
       "       'perf_12_month_avg', 'local_bo_qty', 'deck_risk', 'oe_constraint',\n",
       "       'ppap_risk', 'stop_auto_buy', 'rev_stop', 'went_on_backorder'],\n",
       "      dtype='object')"
      ]
     },
     "execution_count": 6,
     "metadata": {},
     "output_type": "execute_result"
    }
   ],
   "source": [
    "data.columns"
   ]
  },
  {
   "cell_type": "markdown",
   "metadata": {},
   "source": [
    "Display the index"
   ]
  },
  {
   "cell_type": "code",
   "execution_count": 7,
   "metadata": {
    "ExecuteTime": {
     "end_time": "2019-03-21T13:44:31.784821Z",
     "start_time": "2019-03-21T13:44:31.781771Z"
    }
   },
   "outputs": [
    {
     "data": {
      "text/plain": [
       "RangeIndex(start=0, stop=61589, step=1)"
      ]
     },
     "execution_count": 7,
     "metadata": {},
     "output_type": "execute_result"
    }
   ],
   "source": [
    "data.index"
   ]
  },
  {
   "cell_type": "markdown",
   "metadata": {},
   "source": [
    "See the top rows of the data"
   ]
  },
  {
   "cell_type": "code",
   "execution_count": 8,
   "metadata": {
    "ExecuteTime": {
     "end_time": "2019-03-21T13:44:31.812735Z",
     "start_time": "2019-03-21T13:44:31.786548Z"
    }
   },
   "outputs": [
    {
     "data": {
      "text/html": [
       "<div>\n",
       "<style scoped>\n",
       "    .dataframe tbody tr th:only-of-type {\n",
       "        vertical-align: middle;\n",
       "    }\n",
       "\n",
       "    .dataframe tbody tr th {\n",
       "        vertical-align: top;\n",
       "    }\n",
       "\n",
       "    .dataframe thead th {\n",
       "        text-align: right;\n",
       "    }\n",
       "</style>\n",
       "<table border=\"1\" class=\"dataframe\">\n",
       "  <thead>\n",
       "    <tr style=\"text-align: right;\">\n",
       "      <th></th>\n",
       "      <th>sku</th>\n",
       "      <th>national_inv</th>\n",
       "      <th>lead_time</th>\n",
       "      <th>in_transit_qty</th>\n",
       "      <th>forecast_3_month</th>\n",
       "      <th>forecast_6_month</th>\n",
       "      <th>forecast_9_month</th>\n",
       "      <th>sales_1_month</th>\n",
       "      <th>sales_3_month</th>\n",
       "      <th>sales_6_month</th>\n",
       "      <th>...</th>\n",
       "      <th>pieces_past_due</th>\n",
       "      <th>perf_6_month_avg</th>\n",
       "      <th>perf_12_month_avg</th>\n",
       "      <th>local_bo_qty</th>\n",
       "      <th>deck_risk</th>\n",
       "      <th>oe_constraint</th>\n",
       "      <th>ppap_risk</th>\n",
       "      <th>stop_auto_buy</th>\n",
       "      <th>rev_stop</th>\n",
       "      <th>went_on_backorder</th>\n",
       "    </tr>\n",
       "  </thead>\n",
       "  <tbody>\n",
       "    <tr>\n",
       "      <th>0</th>\n",
       "      <td>1888279</td>\n",
       "      <td>117</td>\n",
       "      <td>NaN</td>\n",
       "      <td>0</td>\n",
       "      <td>0</td>\n",
       "      <td>0</td>\n",
       "      <td>0</td>\n",
       "      <td>0</td>\n",
       "      <td>0</td>\n",
       "      <td>15</td>\n",
       "      <td>...</td>\n",
       "      <td>0</td>\n",
       "      <td>-99.00</td>\n",
       "      <td>-99.00</td>\n",
       "      <td>0</td>\n",
       "      <td>No</td>\n",
       "      <td>No</td>\n",
       "      <td>Yes</td>\n",
       "      <td>Yes</td>\n",
       "      <td>No</td>\n",
       "      <td>No</td>\n",
       "    </tr>\n",
       "    <tr>\n",
       "      <th>1</th>\n",
       "      <td>1870557</td>\n",
       "      <td>7</td>\n",
       "      <td>2.0</td>\n",
       "      <td>0</td>\n",
       "      <td>0</td>\n",
       "      <td>0</td>\n",
       "      <td>0</td>\n",
       "      <td>0</td>\n",
       "      <td>0</td>\n",
       "      <td>0</td>\n",
       "      <td>...</td>\n",
       "      <td>0</td>\n",
       "      <td>0.50</td>\n",
       "      <td>0.28</td>\n",
       "      <td>0</td>\n",
       "      <td>Yes</td>\n",
       "      <td>No</td>\n",
       "      <td>No</td>\n",
       "      <td>Yes</td>\n",
       "      <td>No</td>\n",
       "      <td>No</td>\n",
       "    </tr>\n",
       "    <tr>\n",
       "      <th>2</th>\n",
       "      <td>1475481</td>\n",
       "      <td>258</td>\n",
       "      <td>15.0</td>\n",
       "      <td>10</td>\n",
       "      <td>10</td>\n",
       "      <td>77</td>\n",
       "      <td>184</td>\n",
       "      <td>46</td>\n",
       "      <td>132</td>\n",
       "      <td>256</td>\n",
       "      <td>...</td>\n",
       "      <td>0</td>\n",
       "      <td>0.54</td>\n",
       "      <td>0.70</td>\n",
       "      <td>0</td>\n",
       "      <td>No</td>\n",
       "      <td>No</td>\n",
       "      <td>No</td>\n",
       "      <td>Yes</td>\n",
       "      <td>No</td>\n",
       "      <td>No</td>\n",
       "    </tr>\n",
       "  </tbody>\n",
       "</table>\n",
       "<p>3 rows × 23 columns</p>\n",
       "</div>"
      ],
      "text/plain": [
       "       sku  national_inv  lead_time  in_transit_qty  forecast_3_month  \\\n",
       "0  1888279           117        NaN               0                 0   \n",
       "1  1870557             7        2.0               0                 0   \n",
       "2  1475481           258       15.0              10                10   \n",
       "\n",
       "   forecast_6_month  forecast_9_month  sales_1_month  sales_3_month  \\\n",
       "0                 0                 0              0              0   \n",
       "1                 0                 0              0              0   \n",
       "2                77               184             46            132   \n",
       "\n",
       "   sales_6_month        ...         pieces_past_due  perf_6_month_avg  \\\n",
       "0             15        ...                       0            -99.00   \n",
       "1              0        ...                       0              0.50   \n",
       "2            256        ...                       0              0.54   \n",
       "\n",
       "  perf_12_month_avg  local_bo_qty  deck_risk  oe_constraint  ppap_risk  \\\n",
       "0            -99.00             0         No             No        Yes   \n",
       "1              0.28             0        Yes             No         No   \n",
       "2              0.70             0         No             No         No   \n",
       "\n",
       "  stop_auto_buy rev_stop went_on_backorder  \n",
       "0           Yes       No                No  \n",
       "1           Yes       No                No  \n",
       "2           Yes       No                No  \n",
       "\n",
       "[3 rows x 23 columns]"
      ]
     },
     "execution_count": 8,
     "metadata": {},
     "output_type": "execute_result"
    }
   ],
   "source": [
    "data[:3]"
   ]
  },
  {
   "cell_type": "markdown",
   "metadata": {},
   "source": [
    "Shows a quick statistic summary of your data using describe"
   ]
  },
  {
   "cell_type": "code",
   "execution_count": 9,
   "metadata": {
    "ExecuteTime": {
     "end_time": "2019-03-21T13:44:31.971216Z",
     "start_time": "2019-03-21T13:44:31.814893Z"
    },
    "scrolled": true
   },
   "outputs": [
    {
     "data": {
      "text/html": [
       "<div>\n",
       "<style scoped>\n",
       "    .dataframe tbody tr th:only-of-type {\n",
       "        vertical-align: middle;\n",
       "    }\n",
       "\n",
       "    .dataframe tbody tr th {\n",
       "        vertical-align: top;\n",
       "    }\n",
       "\n",
       "    .dataframe thead th {\n",
       "        text-align: right;\n",
       "    }\n",
       "</style>\n",
       "<table border=\"1\" class=\"dataframe\">\n",
       "  <thead>\n",
       "    <tr style=\"text-align: right;\">\n",
       "      <th></th>\n",
       "      <th>sku</th>\n",
       "      <th>national_inv</th>\n",
       "      <th>lead_time</th>\n",
       "      <th>in_transit_qty</th>\n",
       "      <th>forecast_3_month</th>\n",
       "      <th>forecast_6_month</th>\n",
       "      <th>forecast_9_month</th>\n",
       "      <th>sales_1_month</th>\n",
       "      <th>sales_3_month</th>\n",
       "      <th>sales_6_month</th>\n",
       "      <th>...</th>\n",
       "      <th>pieces_past_due</th>\n",
       "      <th>perf_6_month_avg</th>\n",
       "      <th>perf_12_month_avg</th>\n",
       "      <th>local_bo_qty</th>\n",
       "      <th>deck_risk</th>\n",
       "      <th>oe_constraint</th>\n",
       "      <th>ppap_risk</th>\n",
       "      <th>stop_auto_buy</th>\n",
       "      <th>rev_stop</th>\n",
       "      <th>went_on_backorder</th>\n",
       "    </tr>\n",
       "  </thead>\n",
       "  <tbody>\n",
       "    <tr>\n",
       "      <th>count</th>\n",
       "      <td>6.158900e+04</td>\n",
       "      <td>61589.000000</td>\n",
       "      <td>58186.000000</td>\n",
       "      <td>61589.000000</td>\n",
       "      <td>6.158900e+04</td>\n",
       "      <td>6.158900e+04</td>\n",
       "      <td>6.158900e+04</td>\n",
       "      <td>61589.000000</td>\n",
       "      <td>61589.000000</td>\n",
       "      <td>6.158900e+04</td>\n",
       "      <td>...</td>\n",
       "      <td>61589.000000</td>\n",
       "      <td>61589.000000</td>\n",
       "      <td>61589.000000</td>\n",
       "      <td>61589.000000</td>\n",
       "      <td>61589</td>\n",
       "      <td>61589</td>\n",
       "      <td>61589</td>\n",
       "      <td>61589</td>\n",
       "      <td>61589</td>\n",
       "      <td>61589</td>\n",
       "    </tr>\n",
       "    <tr>\n",
       "      <th>unique</th>\n",
       "      <td>NaN</td>\n",
       "      <td>NaN</td>\n",
       "      <td>NaN</td>\n",
       "      <td>NaN</td>\n",
       "      <td>NaN</td>\n",
       "      <td>NaN</td>\n",
       "      <td>NaN</td>\n",
       "      <td>NaN</td>\n",
       "      <td>NaN</td>\n",
       "      <td>NaN</td>\n",
       "      <td>...</td>\n",
       "      <td>NaN</td>\n",
       "      <td>NaN</td>\n",
       "      <td>NaN</td>\n",
       "      <td>NaN</td>\n",
       "      <td>2</td>\n",
       "      <td>2</td>\n",
       "      <td>2</td>\n",
       "      <td>2</td>\n",
       "      <td>2</td>\n",
       "      <td>2</td>\n",
       "    </tr>\n",
       "    <tr>\n",
       "      <th>top</th>\n",
       "      <td>NaN</td>\n",
       "      <td>NaN</td>\n",
       "      <td>NaN</td>\n",
       "      <td>NaN</td>\n",
       "      <td>NaN</td>\n",
       "      <td>NaN</td>\n",
       "      <td>NaN</td>\n",
       "      <td>NaN</td>\n",
       "      <td>NaN</td>\n",
       "      <td>NaN</td>\n",
       "      <td>...</td>\n",
       "      <td>NaN</td>\n",
       "      <td>NaN</td>\n",
       "      <td>NaN</td>\n",
       "      <td>NaN</td>\n",
       "      <td>No</td>\n",
       "      <td>No</td>\n",
       "      <td>No</td>\n",
       "      <td>Yes</td>\n",
       "      <td>No</td>\n",
       "      <td>No</td>\n",
       "    </tr>\n",
       "    <tr>\n",
       "      <th>freq</th>\n",
       "      <td>NaN</td>\n",
       "      <td>NaN</td>\n",
       "      <td>NaN</td>\n",
       "      <td>NaN</td>\n",
       "      <td>NaN</td>\n",
       "      <td>NaN</td>\n",
       "      <td>NaN</td>\n",
       "      <td>NaN</td>\n",
       "      <td>NaN</td>\n",
       "      <td>NaN</td>\n",
       "      <td>...</td>\n",
       "      <td>NaN</td>\n",
       "      <td>NaN</td>\n",
       "      <td>NaN</td>\n",
       "      <td>NaN</td>\n",
       "      <td>48145</td>\n",
       "      <td>61577</td>\n",
       "      <td>53792</td>\n",
       "      <td>59303</td>\n",
       "      <td>61569</td>\n",
       "      <td>50296</td>\n",
       "    </tr>\n",
       "    <tr>\n",
       "      <th>mean</th>\n",
       "      <td>2.037188e+06</td>\n",
       "      <td>287.721882</td>\n",
       "      <td>7.559619</td>\n",
       "      <td>30.192843</td>\n",
       "      <td>1.692728e+02</td>\n",
       "      <td>3.150413e+02</td>\n",
       "      <td>4.535760e+02</td>\n",
       "      <td>44.742957</td>\n",
       "      <td>150.732631</td>\n",
       "      <td>2.835465e+02</td>\n",
       "      <td>...</td>\n",
       "      <td>1.605400</td>\n",
       "      <td>-6.264182</td>\n",
       "      <td>-5.863664</td>\n",
       "      <td>1.205361</td>\n",
       "      <td>NaN</td>\n",
       "      <td>NaN</td>\n",
       "      <td>NaN</td>\n",
       "      <td>NaN</td>\n",
       "      <td>NaN</td>\n",
       "      <td>NaN</td>\n",
       "    </tr>\n",
       "    <tr>\n",
       "      <th>std</th>\n",
       "      <td>6.564178e+05</td>\n",
       "      <td>4233.906931</td>\n",
       "      <td>6.498952</td>\n",
       "      <td>792.869253</td>\n",
       "      <td>5.286742e+03</td>\n",
       "      <td>9.774362e+03</td>\n",
       "      <td>1.420201e+04</td>\n",
       "      <td>1373.805831</td>\n",
       "      <td>5224.959649</td>\n",
       "      <td>8.872270e+03</td>\n",
       "      <td>...</td>\n",
       "      <td>42.309229</td>\n",
       "      <td>25.537906</td>\n",
       "      <td>24.844514</td>\n",
       "      <td>29.981155</td>\n",
       "      <td>NaN</td>\n",
       "      <td>NaN</td>\n",
       "      <td>NaN</td>\n",
       "      <td>NaN</td>\n",
       "      <td>NaN</td>\n",
       "      <td>NaN</td>\n",
       "    </tr>\n",
       "    <tr>\n",
       "      <th>min</th>\n",
       "      <td>1.068628e+06</td>\n",
       "      <td>-2999.000000</td>\n",
       "      <td>0.000000</td>\n",
       "      <td>0.000000</td>\n",
       "      <td>0.000000e+00</td>\n",
       "      <td>0.000000e+00</td>\n",
       "      <td>0.000000e+00</td>\n",
       "      <td>0.000000</td>\n",
       "      <td>0.000000</td>\n",
       "      <td>0.000000e+00</td>\n",
       "      <td>...</td>\n",
       "      <td>0.000000</td>\n",
       "      <td>-99.000000</td>\n",
       "      <td>-99.000000</td>\n",
       "      <td>0.000000</td>\n",
       "      <td>NaN</td>\n",
       "      <td>NaN</td>\n",
       "      <td>NaN</td>\n",
       "      <td>NaN</td>\n",
       "      <td>NaN</td>\n",
       "      <td>NaN</td>\n",
       "    </tr>\n",
       "    <tr>\n",
       "      <th>25%</th>\n",
       "      <td>1.498574e+06</td>\n",
       "      <td>3.000000</td>\n",
       "      <td>4.000000</td>\n",
       "      <td>0.000000</td>\n",
       "      <td>0.000000e+00</td>\n",
       "      <td>0.000000e+00</td>\n",
       "      <td>0.000000e+00</td>\n",
       "      <td>0.000000</td>\n",
       "      <td>0.000000</td>\n",
       "      <td>0.000000e+00</td>\n",
       "      <td>...</td>\n",
       "      <td>0.000000</td>\n",
       "      <td>0.620000</td>\n",
       "      <td>0.640000</td>\n",
       "      <td>0.000000</td>\n",
       "      <td>NaN</td>\n",
       "      <td>NaN</td>\n",
       "      <td>NaN</td>\n",
       "      <td>NaN</td>\n",
       "      <td>NaN</td>\n",
       "      <td>NaN</td>\n",
       "    </tr>\n",
       "    <tr>\n",
       "      <th>50%</th>\n",
       "      <td>1.898033e+06</td>\n",
       "      <td>10.000000</td>\n",
       "      <td>8.000000</td>\n",
       "      <td>0.000000</td>\n",
       "      <td>0.000000e+00</td>\n",
       "      <td>0.000000e+00</td>\n",
       "      <td>0.000000e+00</td>\n",
       "      <td>0.000000</td>\n",
       "      <td>2.000000</td>\n",
       "      <td>4.000000e+00</td>\n",
       "      <td>...</td>\n",
       "      <td>0.000000</td>\n",
       "      <td>0.820000</td>\n",
       "      <td>0.800000</td>\n",
       "      <td>0.000000</td>\n",
       "      <td>NaN</td>\n",
       "      <td>NaN</td>\n",
       "      <td>NaN</td>\n",
       "      <td>NaN</td>\n",
       "      <td>NaN</td>\n",
       "      <td>NaN</td>\n",
       "    </tr>\n",
       "    <tr>\n",
       "      <th>75%</th>\n",
       "      <td>2.314826e+06</td>\n",
       "      <td>57.000000</td>\n",
       "      <td>8.000000</td>\n",
       "      <td>0.000000</td>\n",
       "      <td>1.200000e+01</td>\n",
       "      <td>2.500000e+01</td>\n",
       "      <td>3.600000e+01</td>\n",
       "      <td>6.000000</td>\n",
       "      <td>17.000000</td>\n",
       "      <td>3.400000e+01</td>\n",
       "      <td>...</td>\n",
       "      <td>0.000000</td>\n",
       "      <td>0.960000</td>\n",
       "      <td>0.950000</td>\n",
       "      <td>0.000000</td>\n",
       "      <td>NaN</td>\n",
       "      <td>NaN</td>\n",
       "      <td>NaN</td>\n",
       "      <td>NaN</td>\n",
       "      <td>NaN</td>\n",
       "      <td>NaN</td>\n",
       "    </tr>\n",
       "    <tr>\n",
       "      <th>max</th>\n",
       "      <td>3.284895e+06</td>\n",
       "      <td>673445.000000</td>\n",
       "      <td>52.000000</td>\n",
       "      <td>170976.000000</td>\n",
       "      <td>1.126656e+06</td>\n",
       "      <td>2.094336e+06</td>\n",
       "      <td>3.062016e+06</td>\n",
       "      <td>295197.000000</td>\n",
       "      <td>934593.000000</td>\n",
       "      <td>1.799099e+06</td>\n",
       "      <td>...</td>\n",
       "      <td>7392.000000</td>\n",
       "      <td>1.000000</td>\n",
       "      <td>1.000000</td>\n",
       "      <td>2999.000000</td>\n",
       "      <td>NaN</td>\n",
       "      <td>NaN</td>\n",
       "      <td>NaN</td>\n",
       "      <td>NaN</td>\n",
       "      <td>NaN</td>\n",
       "      <td>NaN</td>\n",
       "    </tr>\n",
       "  </tbody>\n",
       "</table>\n",
       "<p>11 rows × 23 columns</p>\n",
       "</div>"
      ],
      "text/plain": [
       "                 sku   national_inv     lead_time  in_transit_qty  \\\n",
       "count   6.158900e+04   61589.000000  58186.000000    61589.000000   \n",
       "unique           NaN            NaN           NaN             NaN   \n",
       "top              NaN            NaN           NaN             NaN   \n",
       "freq             NaN            NaN           NaN             NaN   \n",
       "mean    2.037188e+06     287.721882      7.559619       30.192843   \n",
       "std     6.564178e+05    4233.906931      6.498952      792.869253   \n",
       "min     1.068628e+06   -2999.000000      0.000000        0.000000   \n",
       "25%     1.498574e+06       3.000000      4.000000        0.000000   \n",
       "50%     1.898033e+06      10.000000      8.000000        0.000000   \n",
       "75%     2.314826e+06      57.000000      8.000000        0.000000   \n",
       "max     3.284895e+06  673445.000000     52.000000   170976.000000   \n",
       "\n",
       "        forecast_3_month  forecast_6_month  forecast_9_month  sales_1_month  \\\n",
       "count       6.158900e+04      6.158900e+04      6.158900e+04   61589.000000   \n",
       "unique               NaN               NaN               NaN            NaN   \n",
       "top                  NaN               NaN               NaN            NaN   \n",
       "freq                 NaN               NaN               NaN            NaN   \n",
       "mean        1.692728e+02      3.150413e+02      4.535760e+02      44.742957   \n",
       "std         5.286742e+03      9.774362e+03      1.420201e+04    1373.805831   \n",
       "min         0.000000e+00      0.000000e+00      0.000000e+00       0.000000   \n",
       "25%         0.000000e+00      0.000000e+00      0.000000e+00       0.000000   \n",
       "50%         0.000000e+00      0.000000e+00      0.000000e+00       0.000000   \n",
       "75%         1.200000e+01      2.500000e+01      3.600000e+01       6.000000   \n",
       "max         1.126656e+06      2.094336e+06      3.062016e+06  295197.000000   \n",
       "\n",
       "        sales_3_month  sales_6_month        ...         pieces_past_due  \\\n",
       "count    61589.000000   6.158900e+04        ...            61589.000000   \n",
       "unique            NaN            NaN        ...                     NaN   \n",
       "top               NaN            NaN        ...                     NaN   \n",
       "freq              NaN            NaN        ...                     NaN   \n",
       "mean       150.732631   2.835465e+02        ...                1.605400   \n",
       "std       5224.959649   8.872270e+03        ...               42.309229   \n",
       "min          0.000000   0.000000e+00        ...                0.000000   \n",
       "25%          0.000000   0.000000e+00        ...                0.000000   \n",
       "50%          2.000000   4.000000e+00        ...                0.000000   \n",
       "75%         17.000000   3.400000e+01        ...                0.000000   \n",
       "max     934593.000000   1.799099e+06        ...             7392.000000   \n",
       "\n",
       "        perf_6_month_avg perf_12_month_avg  local_bo_qty  deck_risk  \\\n",
       "count       61589.000000      61589.000000  61589.000000      61589   \n",
       "unique               NaN               NaN           NaN          2   \n",
       "top                  NaN               NaN           NaN         No   \n",
       "freq                 NaN               NaN           NaN      48145   \n",
       "mean           -6.264182         -5.863664      1.205361        NaN   \n",
       "std            25.537906         24.844514     29.981155        NaN   \n",
       "min           -99.000000        -99.000000      0.000000        NaN   \n",
       "25%             0.620000          0.640000      0.000000        NaN   \n",
       "50%             0.820000          0.800000      0.000000        NaN   \n",
       "75%             0.960000          0.950000      0.000000        NaN   \n",
       "max             1.000000          1.000000   2999.000000        NaN   \n",
       "\n",
       "        oe_constraint  ppap_risk stop_auto_buy rev_stop went_on_backorder  \n",
       "count           61589      61589         61589    61589             61589  \n",
       "unique              2          2             2        2                 2  \n",
       "top                No         No           Yes       No                No  \n",
       "freq            61577      53792         59303    61569             50296  \n",
       "mean              NaN        NaN           NaN      NaN               NaN  \n",
       "std               NaN        NaN           NaN      NaN               NaN  \n",
       "min               NaN        NaN           NaN      NaN               NaN  \n",
       "25%               NaN        NaN           NaN      NaN               NaN  \n",
       "50%               NaN        NaN           NaN      NaN               NaN  \n",
       "75%               NaN        NaN           NaN      NaN               NaN  \n",
       "max               NaN        NaN           NaN      NaN               NaN  \n",
       "\n",
       "[11 rows x 23 columns]"
      ]
     },
     "execution_count": 9,
     "metadata": {},
     "output_type": "execute_result"
    }
   ],
   "source": [
    "data.describe(include='all')"
   ]
  },
  {
   "cell_type": "markdown",
   "metadata": {},
   "source": [
    "Display data type of each variable"
   ]
  },
  {
   "cell_type": "code",
   "execution_count": 10,
   "metadata": {
    "ExecuteTime": {
     "end_time": "2019-03-21T13:44:31.978505Z",
     "start_time": "2019-03-21T13:44:31.973247Z"
    }
   },
   "outputs": [
    {
     "data": {
      "text/plain": [
       "sku                    int64\n",
       "national_inv           int64\n",
       "lead_time            float64\n",
       "in_transit_qty         int64\n",
       "forecast_3_month       int64\n",
       "forecast_6_month       int64\n",
       "forecast_9_month       int64\n",
       "sales_1_month          int64\n",
       "sales_3_month          int64\n",
       "sales_6_month          int64\n",
       "sales_9_month          int64\n",
       "min_bank               int64\n",
       "potential_issue       object\n",
       "pieces_past_due        int64\n",
       "perf_6_month_avg     float64\n",
       "perf_12_month_avg    float64\n",
       "local_bo_qty           int64\n",
       "deck_risk             object\n",
       "oe_constraint         object\n",
       "ppap_risk             object\n",
       "stop_auto_buy         object\n",
       "rev_stop              object\n",
       "went_on_backorder     object\n",
       "dtype: object"
      ]
     },
     "execution_count": 10,
     "metadata": {},
     "output_type": "execute_result"
    }
   ],
   "source": [
    "data.dtypes"
   ]
  },
  {
   "cell_type": "markdown",
   "metadata": {},
   "source": [
    "#### Observations\n",
    "\n",
    "    sku is Categorical but is interpreted as int64 \n",
    "    potential_issue, deck_risk, oe_constraint, ppap_risk, stop_auto_buy, rev_stop, and went_on_backorder are also categorical but is interpreted as object. "
   ]
  },
  {
   "cell_type": "markdown",
   "metadata": {},
   "source": [
    "#### Convert all the attributes to appropriate type"
   ]
  },
  {
   "cell_type": "markdown",
   "metadata": {},
   "source": [
    "Data type conversion\n",
    "\n",
    "    Using astype('category') to convert potential_issue, deck_risk, oe_constraint, ppap_risk, stop_auto_buy, rev_stop, and went_on_backorder attributes to categorical attributes.\n"
   ]
  },
  {
   "cell_type": "code",
   "execution_count": 11,
   "metadata": {
    "ExecuteTime": {
     "end_time": "2019-03-21T13:44:32.051056Z",
     "start_time": "2019-03-21T13:44:31.980279Z"
    }
   },
   "outputs": [],
   "source": [
    "for col in ['sku', 'potential_issue', 'deck_risk', 'oe_constraint', 'ppap_risk', 'stop_auto_buy', 'rev_stop', 'went_on_backorder']:\n",
    "    data[col] = data[col].astype('category')"
   ]
  },
  {
   "cell_type": "markdown",
   "metadata": {},
   "source": [
    "Display data type of each variable"
   ]
  },
  {
   "cell_type": "code",
   "execution_count": 12,
   "metadata": {
    "ExecuteTime": {
     "end_time": "2019-03-21T13:44:32.059357Z",
     "start_time": "2019-03-21T13:44:32.053445Z"
    }
   },
   "outputs": [
    {
     "data": {
      "text/plain": [
       "sku                  category\n",
       "national_inv            int64\n",
       "lead_time             float64\n",
       "in_transit_qty          int64\n",
       "forecast_3_month        int64\n",
       "forecast_6_month        int64\n",
       "forecast_9_month        int64\n",
       "sales_1_month           int64\n",
       "sales_3_month           int64\n",
       "sales_6_month           int64\n",
       "sales_9_month           int64\n",
       "min_bank                int64\n",
       "potential_issue      category\n",
       "pieces_past_due         int64\n",
       "perf_6_month_avg      float64\n",
       "perf_12_month_avg     float64\n",
       "local_bo_qty            int64\n",
       "deck_risk            category\n",
       "oe_constraint        category\n",
       "ppap_risk            category\n",
       "stop_auto_buy        category\n",
       "rev_stop             category\n",
       "went_on_backorder    category\n",
       "dtype: object"
      ]
     },
     "execution_count": 12,
     "metadata": {},
     "output_type": "execute_result"
    }
   ],
   "source": [
    "data.dtypes"
   ]
  },
  {
   "cell_type": "markdown",
   "metadata": {},
   "source": [
    "#### Delete sku attribute"
   ]
  },
  {
   "cell_type": "code",
   "execution_count": 13,
   "metadata": {
    "ExecuteTime": {
     "end_time": "2019-03-21T13:44:32.070152Z",
     "start_time": "2019-03-21T13:44:32.061496Z"
    }
   },
   "outputs": [
    {
     "data": {
      "text/plain": [
       "61589"
      ]
     },
     "execution_count": 13,
     "metadata": {},
     "output_type": "execute_result"
    }
   ],
   "source": [
    "np.size(np.unique(data.sku, return_counts=True)[0])"
   ]
  },
  {
   "cell_type": "code",
   "execution_count": 14,
   "metadata": {
    "ExecuteTime": {
     "end_time": "2019-03-21T13:44:32.080250Z",
     "start_time": "2019-03-21T13:44:32.071682Z"
    }
   },
   "outputs": [],
   "source": [
    "data.drop('sku', axis=1, inplace=True)"
   ]
  },
  {
   "cell_type": "markdown",
   "metadata": {},
   "source": [
    "#### Missing Data\n",
    "\n",
    "    Missing value analysis and dropping the records with missing values"
   ]
  },
  {
   "cell_type": "code",
   "execution_count": 15,
   "metadata": {
    "ExecuteTime": {
     "end_time": "2019-03-21T13:44:32.106178Z",
     "start_time": "2019-03-21T13:44:32.081823Z"
    }
   },
   "outputs": [
    {
     "data": {
      "text/plain": [
       "national_inv            0\n",
       "lead_time            3403\n",
       "in_transit_qty          0\n",
       "forecast_3_month        0\n",
       "forecast_6_month        0\n",
       "forecast_9_month        0\n",
       "sales_1_month           0\n",
       "sales_3_month           0\n",
       "sales_6_month           0\n",
       "sales_9_month           0\n",
       "min_bank                0\n",
       "potential_issue         0\n",
       "pieces_past_due         0\n",
       "perf_6_month_avg        0\n",
       "perf_12_month_avg       0\n",
       "local_bo_qty            0\n",
       "deck_risk               0\n",
       "oe_constraint           0\n",
       "ppap_risk               0\n",
       "stop_auto_buy           0\n",
       "rev_stop                0\n",
       "went_on_backorder       0\n",
       "dtype: int64"
      ]
     },
     "execution_count": 15,
     "metadata": {},
     "output_type": "execute_result"
    }
   ],
   "source": [
    "data.isnull().sum()"
   ]
  },
  {
   "cell_type": "markdown",
   "metadata": {},
   "source": [
    "Observing the number of records before and after missing value records removal"
   ]
  },
  {
   "cell_type": "code",
   "execution_count": 16,
   "metadata": {
    "ExecuteTime": {
     "end_time": "2019-03-21T13:44:32.111776Z",
     "start_time": "2019-03-21T13:44:32.107867Z"
    }
   },
   "outputs": [
    {
     "name": "stdout",
     "output_type": "stream",
     "text": [
      "(61589, 22)\n"
     ]
    }
   ],
   "source": [
    "print (data.shape)"
   ]
  },
  {
   "cell_type": "code",
   "execution_count": 17,
   "metadata": {
    "ExecuteTime": {
     "end_time": "2019-03-21T13:44:32.140813Z",
     "start_time": "2019-03-21T13:44:32.114272Z"
    }
   },
   "outputs": [],
   "source": [
    "#Since the number of missing values is about 5%. For initial analysis we ignore all these records\n",
    "data = data.dropna(axis=0)"
   ]
  },
  {
   "cell_type": "code",
   "execution_count": 18,
   "metadata": {
    "ExecuteTime": {
     "end_time": "2019-03-21T13:44:32.164602Z",
     "start_time": "2019-03-21T13:44:32.145675Z"
    }
   },
   "outputs": [
    {
     "name": "stdout",
     "output_type": "stream",
     "text": [
      "(58186, 22)\n"
     ]
    }
   ],
   "source": [
    "data.isnull().sum()\n",
    "print(data.shape)"
   ]
  },
  {
   "cell_type": "markdown",
   "metadata": {},
   "source": [
    "#### Converting Categorical to Numeric\n",
    "\n",
    "For some of the models all the independent attribute should be of type numeric and Linear Regression model is one among them.\n",
    "But this data set has some categorial attributes.\n",
    "\n",
    "'pandas.get_dummies' To convert convert categorical variable into dummy/indicator variables\n"
   ]
  },
  {
   "cell_type": "code",
   "execution_count": 19,
   "metadata": {
    "ExecuteTime": {
     "end_time": "2019-03-21T13:44:32.169315Z",
     "start_time": "2019-03-21T13:44:32.166538Z"
    }
   },
   "outputs": [
    {
     "name": "stdout",
     "output_type": "stream",
     "text": [
      "Index(['national_inv', 'lead_time', 'in_transit_qty', 'forecast_3_month',\n",
      "       'forecast_6_month', 'forecast_9_month', 'sales_1_month',\n",
      "       'sales_3_month', 'sales_6_month', 'sales_9_month', 'min_bank',\n",
      "       'potential_issue', 'pieces_past_due', 'perf_6_month_avg',\n",
      "       'perf_12_month_avg', 'local_bo_qty', 'deck_risk', 'oe_constraint',\n",
      "       'ppap_risk', 'stop_auto_buy', 'rev_stop', 'went_on_backorder'],\n",
      "      dtype='object')\n"
     ]
    }
   ],
   "source": [
    "print (data.columns)"
   ]
  },
  {
   "cell_type": "markdown",
   "metadata": {},
   "source": [
    "Creating dummy variables.\n",
    "\n",
    "    If we have k levels in a category, then we create k-1 dummy variables as the last one would be redundant. So we use the parameter drop_first in pd.get_dummies function that drops the first level in each of the category\n"
   ]
  },
  {
   "cell_type": "code",
   "execution_count": 20,
   "metadata": {
    "ExecuteTime": {
     "end_time": "2019-03-21T13:44:32.180657Z",
     "start_time": "2019-03-21T13:44:32.171129Z"
    }
   },
   "outputs": [],
   "source": [
    "categorical_Attributes = data.select_dtypes(include=['category']).columns"
   ]
  },
  {
   "cell_type": "code",
   "execution_count": 21,
   "metadata": {
    "ExecuteTime": {
     "end_time": "2019-03-21T13:44:32.201763Z",
     "start_time": "2019-03-21T13:44:32.182348Z"
    }
   },
   "outputs": [],
   "source": [
    "data = pd.get_dummies(columns=categorical_Attributes, data=data, prefix=categorical_Attributes, prefix_sep=\"_\",drop_first=True)"
   ]
  },
  {
   "cell_type": "code",
   "execution_count": 22,
   "metadata": {
    "ExecuteTime": {
     "end_time": "2019-03-21T13:44:32.206970Z",
     "start_time": "2019-03-21T13:44:32.203481Z"
    }
   },
   "outputs": [
    {
     "name": "stdout",
     "output_type": "stream",
     "text": [
      "Index(['national_inv', 'lead_time', 'in_transit_qty', 'forecast_3_month',\n",
      "       'forecast_6_month', 'forecast_9_month', 'sales_1_month',\n",
      "       'sales_3_month', 'sales_6_month', 'sales_9_month', 'min_bank',\n",
      "       'pieces_past_due', 'perf_6_month_avg', 'perf_12_month_avg',\n",
      "       'local_bo_qty', 'potential_issue_Yes', 'deck_risk_Yes',\n",
      "       'oe_constraint_Yes', 'ppap_risk_Yes', 'stop_auto_buy_Yes',\n",
      "       'rev_stop_Yes', 'went_on_backorder_Yes'],\n",
      "      dtype='object') (58186, 22)\n"
     ]
    }
   ],
   "source": [
    "print (data.columns, data.shape)"
   ]
  },
  {
   "cell_type": "markdown",
   "metadata": {},
   "source": [
    "#### Target attribute distribution"
   ]
  },
  {
   "cell_type": "code",
   "execution_count": 23,
   "metadata": {
    "ExecuteTime": {
     "end_time": "2019-03-21T13:44:32.216121Z",
     "start_time": "2019-03-21T13:44:32.209284Z"
    }
   },
   "outputs": [
    {
     "data": {
      "text/plain": [
       "0    47217\n",
       "1    10969\n",
       "dtype: int64"
      ]
     },
     "execution_count": 23,
     "metadata": {},
     "output_type": "execute_result"
    }
   ],
   "source": [
    "pd.value_counts(data['went_on_backorder_Yes'].values)"
   ]
  },
  {
   "cell_type": "markdown",
   "metadata": {},
   "source": [
    "#### Split the data in to train and test\n",
    "\n",
    "sklearn.model_selection.train_test_split\n",
    "\n",
    "    Split arrays or matrices into random train and test subsets"
   ]
  },
  {
   "cell_type": "code",
   "execution_count": 24,
   "metadata": {
    "ExecuteTime": {
     "end_time": "2019-03-21T13:44:32.262531Z",
     "start_time": "2019-03-21T13:44:32.217603Z"
    }
   },
   "outputs": [],
   "source": [
    "#Performing train test split on the data\n",
    "X, y = data.loc[:,data.columns!='went_on_backorder_Yes'].values, data.loc[:,'went_on_backorder_Yes'].values\n",
    "\n",
    "X_train, X_test, y_train, y_test = train_test_split(X, y, test_size=0.3, random_state=123)\n"
   ]
  },
  {
   "cell_type": "code",
   "execution_count": 25,
   "metadata": {
    "ExecuteTime": {
     "end_time": "2019-03-21T13:44:32.270515Z",
     "start_time": "2019-03-21T13:44:32.264129Z"
    }
   },
   "outputs": [
    {
     "name": "stdout",
     "output_type": "stream",
     "text": [
      "0    33067\n",
      "1     7663\n",
      "dtype: int64\n",
      "0    14150\n",
      "1     3306\n",
      "dtype: int64\n"
     ]
    }
   ],
   "source": [
    "#To get the distribution in the target in train and test\n",
    "print(pd.value_counts(y_train))\n",
    "print(pd.value_counts(y_test))"
   ]
  },
  {
   "cell_type": "markdown",
   "metadata": {},
   "source": [
    "#### Perceptron Model Building"
   ]
  },
  {
   "cell_type": "code",
   "execution_count": 26,
   "metadata": {
    "ExecuteTime": {
     "end_time": "2019-03-21T13:44:32.295756Z",
     "start_time": "2019-03-21T13:44:32.272042Z"
    }
   },
   "outputs": [],
   "source": [
    "perceptron_model = Sequential()\n",
    "\n",
    "perceptron_model.add(Dense(1, input_dim=X_train.shape[1], activation='sigmoid', kernel_initializer='normal'))"
   ]
  },
  {
   "cell_type": "code",
   "execution_count": 27,
   "metadata": {
    "ExecuteTime": {
     "end_time": "2019-03-21T13:44:32.336673Z",
     "start_time": "2019-03-21T13:44:32.297454Z"
    }
   },
   "outputs": [],
   "source": [
    "perceptron_model.compile(loss='binary_crossentropy', optimizer='adam', metrics=['accuracy'])"
   ]
  },
  {
   "cell_type": "code",
   "execution_count": 28,
   "metadata": {
    "ExecuteTime": {
     "end_time": "2019-03-21T13:44:47.219984Z",
     "start_time": "2019-03-21T13:44:32.338514Z"
    }
   },
   "outputs": [
    {
     "name": "stdout",
     "output_type": "stream",
     "text": [
      "Epoch 1/30\n",
      "40730/40730 [==============================] - 1s 16us/step - loss: 0.4999 - acc: 0.8321\n",
      "Epoch 2/30\n",
      "40730/40730 [==============================] - 0s 11us/step - loss: 0.4173 - acc: 0.8475\n",
      "Epoch 3/30\n",
      "40730/40730 [==============================] - 0s 12us/step - loss: 0.4169 - acc: 0.8506\n",
      "Epoch 4/30\n",
      "40730/40730 [==============================] - 0s 12us/step - loss: 0.4224 - acc: 0.8559\n",
      "Epoch 5/30\n",
      "40730/40730 [==============================] - 0s 11us/step - loss: 0.4274 - acc: 0.8583\n",
      "Epoch 6/30\n",
      "40730/40730 [==============================] - 0s 11us/step - loss: 0.4114 - acc: 0.8576\n",
      "Epoch 7/30\n",
      "40730/40730 [==============================] - 0s 11us/step - loss: 0.4252 - acc: 0.8590\n",
      "Epoch 8/30\n",
      "40730/40730 [==============================] - 0s 11us/step - loss: 0.4610 - acc: 0.8587\n",
      "Epoch 9/30\n",
      "40730/40730 [==============================] - 0s 11us/step - loss: 0.4151 - acc: 0.8662\n",
      "Epoch 10/30\n",
      "40730/40730 [==============================] - 0s 11us/step - loss: 0.4207 - acc: 0.8646\n",
      "Epoch 11/30\n",
      "40730/40730 [==============================] - 0s 11us/step - loss: 0.4178 - acc: 0.8677\n",
      "Epoch 12/30\n",
      "40730/40730 [==============================] - 0s 11us/step - loss: 0.4094 - acc: 0.8662\n",
      "Epoch 13/30\n",
      "40730/40730 [==============================] - 0s 11us/step - loss: 0.4029 - acc: 0.8648\n",
      "Epoch 14/30\n",
      "40730/40730 [==============================] - 0s 11us/step - loss: 0.4122 - acc: 0.8615\n",
      "Epoch 15/30\n",
      "40730/40730 [==============================] - 0s 11us/step - loss: 0.4134 - acc: 0.8645\n",
      "Epoch 16/30\n",
      "40730/40730 [==============================] - 1s 12us/step - loss: 0.4032 - acc: 0.8644\n",
      "Epoch 17/30\n",
      "40730/40730 [==============================] - 0s 11us/step - loss: 0.4387 - acc: 0.8623\n",
      "Epoch 18/30\n",
      "40730/40730 [==============================] - 1s 12us/step - loss: 0.4287 - acc: 0.8658\n",
      "Epoch 19/30\n",
      "40730/40730 [==============================] - 1s 13us/step - loss: 0.4073 - acc: 0.8675\n",
      "Epoch 20/30\n",
      "40730/40730 [==============================] - 1s 14us/step - loss: 0.4074 - acc: 0.8642\n",
      "Epoch 21/30\n",
      "40730/40730 [==============================] - 1s 13us/step - loss: 0.6125 - acc: 0.8493\n",
      "Epoch 22/30\n",
      "40730/40730 [==============================] - 1s 14us/step - loss: 0.4075 - acc: 0.8678\n",
      "Epoch 23/30\n",
      "40730/40730 [==============================] - 1s 13us/step - loss: 0.4413 - acc: 0.8619\n",
      "Epoch 24/30\n",
      "40730/40730 [==============================] - 0s 12us/step - loss: 0.4119 - acc: 0.8682\n",
      "Epoch 25/30\n",
      "40730/40730 [==============================] - 1s 13us/step - loss: 0.4122 - acc: 0.8671\n",
      "Epoch 26/30\n",
      "40730/40730 [==============================] - 0s 11us/step - loss: 0.5661 - acc: 0.8528\n",
      "Epoch 27/30\n",
      "40730/40730 [==============================] - 1s 13us/step - loss: 0.3991 - acc: 0.8715\n",
      "Epoch 28/30\n",
      "40730/40730 [==============================] - 1s 13us/step - loss: 0.4047 - acc: 0.8684\n",
      "Epoch 29/30\n",
      "40730/40730 [==============================] - 0s 11us/step - loss: 0.4472 - acc: 0.8657\n",
      "Epoch 30/30\n",
      "40730/40730 [==============================] - 0s 11us/step - loss: 0.4077 - acc: 0.8700\n"
     ]
    },
    {
     "data": {
      "text/plain": [
       "<keras.callbacks.History at 0x1a1b027828>"
      ]
     },
     "execution_count": 28,
     "metadata": {},
     "output_type": "execute_result"
    }
   ],
   "source": [
    "perceptron_model.fit(X_train, y_train, epochs=30, batch_size=64)"
   ]
  },
  {
   "cell_type": "markdown",
   "metadata": {},
   "source": [
    "#### Predictions"
   ]
  },
  {
   "cell_type": "code",
   "execution_count": 29,
   "metadata": {
    "ExecuteTime": {
     "end_time": "2019-03-21T13:44:47.502040Z",
     "start_time": "2019-03-21T13:44:47.222560Z"
    }
   },
   "outputs": [],
   "source": [
    "test_pred=perceptron_model.predict_classes(X_test)\n",
    "train_pred=perceptron_model.predict_classes(X_train)"
   ]
  },
  {
   "cell_type": "markdown",
   "metadata": {},
   "source": [
    "#### Getting evaluation metrics and evaluating model performance"
   ]
  },
  {
   "cell_type": "code",
   "execution_count": 30,
   "metadata": {
    "ExecuteTime": {
     "end_time": "2019-03-21T13:44:47.669413Z",
     "start_time": "2019-03-21T13:44:47.503526Z"
    }
   },
   "outputs": [
    {
     "name": "stdout",
     "output_type": "stream",
     "text": [
      "[[31762  1305]\n",
      " [ 3899  3764]]\n",
      "[[13579   571]\n",
      " [ 1707  1599]]\n"
     ]
    }
   ],
   "source": [
    "confusion_matrix_test = confusion_matrix(y_test, test_pred)\n",
    "confusion_matrix_train = confusion_matrix(y_train, train_pred)\n",
    "\n",
    "print(confusion_matrix_train)\n",
    "print(confusion_matrix_test)"
   ]
  },
  {
   "cell_type": "markdown",
   "metadata": {},
   "source": [
    "#### Calculate Accuracy, True Positive Rate and True Negative Rates"
   ]
  },
  {
   "cell_type": "code",
   "execution_count": 31,
   "metadata": {
    "ExecuteTime": {
     "end_time": "2019-03-21T13:44:47.675975Z",
     "start_time": "2019-03-21T13:44:47.671205Z"
    }
   },
   "outputs": [
    {
     "name": "stdout",
     "output_type": "stream",
     "text": [
      "Train TNR:  0.9605346720295158\n",
      "Train TPR:  0.49119143938405324\n",
      "Train Accuracy:  0.8722317701939603\n"
     ]
    }
   ],
   "source": [
    "Accuracy_Train = (confusion_matrix_train[0,0]+confusion_matrix_train[1,1])/(confusion_matrix_train[0,0]+confusion_matrix_train[0,1]+confusion_matrix_train[1,0]+confusion_matrix_train[1,1])\n",
    "TNR_Train = confusion_matrix_train[0,0]/(confusion_matrix_train[0,0]+confusion_matrix_train[0,1])\n",
    "TPR_Train = confusion_matrix_train[1,1]/(confusion_matrix_train[1,0]+confusion_matrix_train[1,1])\n",
    "\n",
    "print(\"Train TNR: \",TNR_Train)\n",
    "print(\"Train TPR: \",TPR_Train)\n",
    "print(\"Train Accuracy: \",Accuracy_Train)"
   ]
  },
  {
   "cell_type": "code",
   "execution_count": 32,
   "metadata": {
    "ExecuteTime": {
     "end_time": "2019-03-21T13:44:47.684981Z",
     "start_time": "2019-03-21T13:44:47.677764Z"
    }
   },
   "outputs": [
    {
     "name": "stdout",
     "output_type": "stream",
     "text": [
      "Test TNR:  0.9596466431095406\n",
      "Test TPR:  0.48366606170598914\n",
      "Test Accuracy:  0.8695004582951421\n"
     ]
    }
   ],
   "source": [
    "Accuracy_Test = (confusion_matrix_test[0,0]+confusion_matrix_test[1,1])/(confusion_matrix_test[0,0]+confusion_matrix_test[0,1]+confusion_matrix_test[1,0]+confusion_matrix_test[1,1])\n",
    "TNR_Test = confusion_matrix_test[0,0]/(confusion_matrix_test[0,0] +confusion_matrix_test[0,1])\n",
    "TPR_Test = confusion_matrix_test[1,1]/(confusion_matrix_test[1,0] +confusion_matrix_test[1,1])\n",
    "\n",
    "print(\"Test TNR: \",TNR_Test)\n",
    "print(\"Test TPR: \",TPR_Test)\n",
    "print(\"Test Accuracy: \",Accuracy_Test)"
   ]
  },
  {
   "cell_type": "markdown",
   "metadata": {},
   "source": [
    "#### Plotting ROC curve to modify the threshold if necessary"
   ]
  },
  {
   "cell_type": "markdown",
   "metadata": {},
   "source": [
    "1. Initially we have predicted the classes. This was easy because, by default the threshold was fixed at 0.5. Hence the probabilities got converted to 0 or 1 based on probability for that record\n",
    "2. Now  the values of 0's and 1's itself are not sufficient to get the ROC curve. We need to have the probabilities.\n",
    "3. We have a function called predict_proba that generates probalility for success which can be used for plotting ROC\n"
   ]
  },
  {
   "cell_type": "code",
   "execution_count": 33,
   "metadata": {
    "ExecuteTime": {
     "end_time": "2019-03-21T13:44:47.856794Z",
     "start_time": "2019-03-21T13:44:47.687074Z"
    }
   },
   "outputs": [],
   "source": [
    "train_pred_prob=perceptron_model.predict(X_train)"
   ]
  },
  {
   "cell_type": "code",
   "execution_count": 34,
   "metadata": {
    "ExecuteTime": {
     "end_time": "2019-03-21T13:44:47.867608Z",
     "start_time": "2019-03-21T13:44:47.858216Z"
    }
   },
   "outputs": [
    {
     "name": "stdout",
     "output_type": "stream",
     "text": [
      "[[1.1487173e-36]\n",
      " [7.5869697e-01]\n",
      " [4.5059481e-01]\n",
      " ...\n",
      " [4.3022853e-01]\n",
      " [4.8003800e-02]\n",
      " [2.4811320e-01]]\n"
     ]
    }
   ],
   "source": [
    "print (train_pred_prob)"
   ]
  },
  {
   "cell_type": "markdown",
   "metadata": {},
   "source": [
    "#### Getting ROC curve to adjust the threshold "
   ]
  },
  {
   "cell_type": "code",
   "execution_count": 35,
   "metadata": {
    "ExecuteTime": {
     "end_time": "2019-03-21T13:44:47.879666Z",
     "start_time": "2019-03-21T13:44:47.869447Z"
    }
   },
   "outputs": [],
   "source": [
    "fpr, tpr, thresholds = roc_curve(y_train, train_pred_prob)\n",
    "roc_auc = auc(fpr, tpr)"
   ]
  },
  {
   "cell_type": "markdown",
   "metadata": {},
   "source": [
    "#### Using matplotlib for plotting the ROC curve "
   ]
  },
  {
   "cell_type": "code",
   "execution_count": 36,
   "metadata": {
    "ExecuteTime": {
     "end_time": "2019-03-21T13:44:48.048959Z",
     "start_time": "2019-03-21T13:44:47.885963Z"
    }
   },
   "outputs": [
    {
     "data": {
      "image/png": "[encoded data removed]",
      "text/plain": [
       "<Figure size 432x288 with 1 Axes>"
      ]
     },
     "metadata": {
      "needs_background": "light"
     },
     "output_type": "display_data"
    }
   ],
   "source": [
    "plt.figure()\n",
    "lw = 2\n",
    "plt.plot(fpr,tpr, color='darkorange',\n",
    "         lw=lw, label='ROC curve (area = %0.2f)' % roc_auc)\n",
    "plt.plot([0, 1], [0, 1], color='navy', lw=lw, linestyle='--')\n",
    "plt.xlim([0.0, 1.0])\n",
    "plt.ylim([0.0, 1.05])\n",
    "plt.xlabel('FPR')\n",
    "plt.ylabel('TPR')\n",
    "plt.title('Receiver operating characteristic example')\n",
    "plt.legend(loc=\"lower right\")\n",
    "plt.show()"
   ]
  },
  {
   "cell_type": "markdown",
   "metadata": {},
   "source": [
    "#### MLP Model Building"
   ]
  },
  {
   "cell_type": "code",
   "execution_count": 37,
   "metadata": {
    "ExecuteTime": {
     "end_time": "2019-03-21T13:44:48.087699Z",
     "start_time": "2019-03-21T13:44:48.053989Z"
    }
   },
   "outputs": [],
   "source": [
    "mlp_model = Sequential()\n",
    "\n",
    "mlp_model.add(Dense(12, input_dim=X_train.shape[1], activation='relu', kernel_initializer='glorot_normal'))\n",
    "mlp_model.add(Dense(8, activation='relu', kernel_initializer='normal'))\n",
    "mlp_model.add(Dense(1, activation='sigmoid', kernel_initializer='normal'))"
   ]
  },
  {
   "cell_type": "code",
   "execution_count": 38,
   "metadata": {
    "ExecuteTime": {
     "end_time": "2019-03-21T13:44:48.126445Z",
     "start_time": "2019-03-21T13:44:48.089503Z"
    }
   },
   "outputs": [],
   "source": [
    "mlp_model.compile(loss='binary_crossentropy', optimizer='adam', metrics=['accuracy'])"
   ]
  },
  {
   "cell_type": "code",
   "execution_count": 39,
   "metadata": {
    "ExecuteTime": {
     "end_time": "2019-03-21T13:45:07.869501Z",
     "start_time": "2019-03-21T13:44:48.128116Z"
    }
   },
   "outputs": [
    {
     "name": "stdout",
     "output_type": "stream",
     "text": [
      "Epoch 1/30\n",
      "40730/40730 [==============================] - 1s 25us/step - loss: 0.3630 - acc: 0.8353: 0s - loss: 0.4295 - acc: 0.8 - ETA: 0s - loss: 0.4000 - acc:\n",
      "Epoch 2/30\n",
      "40730/40730 [==============================] - 1s 15us/step - loss: 0.2984 - acc: 0.8863\n",
      "Epoch 3/30\n",
      "40730/40730 [==============================] - 1s 16us/step - loss: 0.2863 - acc: 0.8908\n",
      "Epoch 4/30\n",
      "40730/40730 [==============================] - 1s 17us/step - loss: 0.2835 - acc: 0.8901\n",
      "Epoch 5/30\n",
      "40730/40730 [==============================] - 1s 17us/step - loss: 0.2729 - acc: 0.8919\n",
      "Epoch 6/30\n",
      "40730/40730 [==============================] - 1s 16us/step - loss: 0.2669 - acc: 0.8943\n",
      "Epoch 7/30\n",
      "40730/40730 [==============================] - 1s 16us/step - loss: 0.2590 - acc: 0.8967\n",
      "Epoch 8/30\n",
      "40730/40730 [==============================] - 1s 16us/step - loss: 0.2566 - acc: 0.8976\n",
      "Epoch 9/30\n",
      "40730/40730 [==============================] - 1s 16us/step - loss: 0.2532 - acc: 0.8987: 0s - loss: 0.2514 - acc\n",
      "Epoch 10/30\n",
      "40730/40730 [==============================] - 1s 17us/step - loss: 0.2524 - acc: 0.8991\n",
      "Epoch 11/30\n",
      "40730/40730 [==============================] - 1s 17us/step - loss: 0.2509 - acc: 0.9004\n",
      "Epoch 12/30\n",
      "40730/40730 [==============================] - 1s 16us/step - loss: 0.2488 - acc: 0.9006\n",
      "Epoch 13/30\n",
      "40730/40730 [==============================] - 1s 16us/step - loss: 0.2463 - acc: 0.9016\n",
      "Epoch 14/30\n",
      "40730/40730 [==============================] - 1s 15us/step - loss: 0.2465 - acc: 0.9006\n",
      "Epoch 15/30\n",
      "40730/40730 [==============================] - 1s 15us/step - loss: 0.2451 - acc: 0.9023\n",
      "Epoch 16/30\n",
      "40730/40730 [==============================] - 1s 16us/step - loss: 0.2436 - acc: 0.9030\n",
      "Epoch 17/30\n",
      "40730/40730 [==============================] - 1s 14us/step - loss: 0.2423 - acc: 0.9021\n",
      "Epoch 18/30\n",
      "40730/40730 [==============================] - 1s 14us/step - loss: 0.2420 - acc: 0.9024\n",
      "Epoch 19/30\n",
      "40730/40730 [==============================] - 1s 14us/step - loss: 0.2403 - acc: 0.9038\n",
      "Epoch 20/30\n",
      "40730/40730 [==============================] - 1s 16us/step - loss: 0.2394 - acc: 0.9030\n",
      "Epoch 21/30\n",
      "40730/40730 [==============================] - 1s 15us/step - loss: 0.2404 - acc: 0.9014\n",
      "Epoch 22/30\n",
      "40730/40730 [==============================] - 1s 16us/step - loss: 0.2398 - acc: 0.9047\n",
      "Epoch 23/30\n",
      "40730/40730 [==============================] - 1s 15us/step - loss: 0.2377 - acc: 0.9039\n",
      "Epoch 24/30\n",
      "40730/40730 [==============================] - 1s 14us/step - loss: 0.2369 - acc: 0.9038\n",
      "Epoch 25/30\n",
      "40730/40730 [==============================] - 1s 14us/step - loss: 0.2371 - acc: 0.9035\n",
      "Epoch 26/30\n",
      "40730/40730 [==============================] - 1s 15us/step - loss: 0.2382 - acc: 0.9035\n",
      "Epoch 27/30\n",
      "40730/40730 [==============================] - 1s 16us/step - loss: 0.2356 - acc: 0.9032\n",
      "Epoch 28/30\n",
      "40730/40730 [==============================] - 1s 15us/step - loss: 0.2345 - acc: 0.9040\n",
      "Epoch 29/30\n",
      "40730/40730 [==============================] - 1s 15us/step - loss: 0.2359 - acc: 0.9037\n",
      "Epoch 30/30\n",
      "40730/40730 [==============================] - 1s 15us/step - loss: 0.2397 - acc: 0.9017\n"
     ]
    },
    {
     "data": {
      "text/plain": [
       "<keras.callbacks.History at 0x1a2a9ba860>"
      ]
     },
     "execution_count": 39,
     "metadata": {},
     "output_type": "execute_result"
    }
   ],
   "source": [
    "mlp_model.fit(X_train, y_train, epochs=30, batch_size=64)"
   ]
  },
  {
   "cell_type": "markdown",
   "metadata": {},
   "source": [
    "#### Predictions"
   ]
  },
  {
   "cell_type": "code",
   "execution_count": 40,
   "metadata": {
    "ExecuteTime": {
     "end_time": "2019-03-21T13:45:08.208521Z",
     "start_time": "2019-03-21T13:45:07.871945Z"
    }
   },
   "outputs": [],
   "source": [
    "test_pred=mlp_model.predict_classes(X_test)\n",
    "train_pred=mlp_model.predict_classes(X_train)"
   ]
  },
  {
   "cell_type": "markdown",
   "metadata": {},
   "source": [
    "#### Getting evaluation metrics and evaluating model performance"
   ]
  },
  {
   "cell_type": "code",
   "execution_count": 41,
   "metadata": {
    "ExecuteTime": {
     "end_time": "2019-03-21T13:45:08.365991Z",
     "start_time": "2019-03-21T13:45:08.210038Z"
    }
   },
   "outputs": [
    {
     "name": "stdout",
     "output_type": "stream",
     "text": [
      "[[31118  1949]\n",
      " [ 2041  5622]]\n",
      "[[13331   819]\n",
      " [  884  2422]]\n"
     ]
    }
   ],
   "source": [
    "confusion_matrix_test = confusion_matrix(y_test, test_pred)\n",
    "confusion_matrix_train = confusion_matrix(y_train, train_pred)\n",
    "\n",
    "print(confusion_matrix_train)\n",
    "print(confusion_matrix_test)"
   ]
  },
  {
   "cell_type": "markdown",
   "metadata": {},
   "source": [
    "#### Calculate Accuracy, True Positive Rate and True Negative Rates"
   ]
  },
  {
   "cell_type": "code",
   "execution_count": 42,
   "metadata": {
    "ExecuteTime": {
     "end_time": "2019-03-21T13:45:08.373229Z",
     "start_time": "2019-03-21T13:45:08.367843Z"
    }
   },
   "outputs": [
    {
     "name": "stdout",
     "output_type": "stream",
     "text": [
      "Train TNR:  0.9410590619046179\n",
      "Train TPR:  0.7336552264126321\n",
      "Train Accuracy:  0.9020378099680825\n"
     ]
    }
   ],
   "source": [
    "Accuracy_Train=(confusion_matrix_train[0,0]+confusion_matrix_train[1,1])/(confusion_matrix_train[0,0]+confusion_matrix_train[0,1]+confusion_matrix_train[1,0]+confusion_matrix_train[1,1])\n",
    "TNR_Train= confusion_matrix_train[0,0]/(confusion_matrix_train[0,0]+confusion_matrix_train[0,1])\n",
    "TPR_Train= confusion_matrix_train[1,1]/(confusion_matrix_train[1,0]+confusion_matrix_train[1,1])\n",
    "\n",
    "print(\"Train TNR: \",TNR_Train)\n",
    "print(\"Train TPR: \",TPR_Train)\n",
    "print(\"Train Accuracy: \",Accuracy_Train)"
   ]
  },
  {
   "cell_type": "code",
   "execution_count": 43,
   "metadata": {
    "ExecuteTime": {
     "end_time": "2019-03-21T13:45:08.380891Z",
     "start_time": "2019-03-21T13:45:08.375067Z"
    }
   },
   "outputs": [
    {
     "name": "stdout",
     "output_type": "stream",
     "text": [
      "Test TNR:  0.9421201413427562\n",
      "Test TPR:  0.7326073805202662\n",
      "Test Accuracy:  0.9024404216315307\n"
     ]
    }
   ],
   "source": [
    "Accuracy_Test=(confusion_matrix_test[0,0]+confusion_matrix_test[1,1])/(confusion_matrix_test[0,0]+confusion_matrix_test[0,1]+confusion_matrix_test[1,0]+confusion_matrix_test[1,1])\n",
    "TNR_Test= confusion_matrix_test[0,0]/(confusion_matrix_test[0,0] +confusion_matrix_test[0,1])\n",
    "TPR_Test= confusion_matrix_test[1,1]/(confusion_matrix_test[1,0] +confusion_matrix_test[1,1])\n",
    "\n",
    "print(\"Test TNR: \",TNR_Test)\n",
    "print(\"Test TPR: \",TPR_Test)\n",
    "print(\"Test Accuracy: \",Accuracy_Test)"
   ]
  },
  {
   "cell_type": "markdown",
   "metadata": {},
   "source": [
    "#### Plotting ROC curve to modify the threshold if necessary"
   ]
  },
  {
   "cell_type": "code",
   "execution_count": 44,
   "metadata": {
    "ExecuteTime": {
     "end_time": "2019-03-21T13:45:08.595485Z",
     "start_time": "2019-03-21T13:45:08.382336Z"
    }
   },
   "outputs": [],
   "source": [
    "train_pred_prob=mlp_model.predict(X_train)"
   ]
  },
  {
   "cell_type": "code",
   "execution_count": 45,
   "metadata": {
    "ExecuteTime": {
     "end_time": "2019-03-21T13:45:08.599812Z",
     "start_time": "2019-03-21T13:45:08.596911Z"
    }
   },
   "outputs": [
    {
     "name": "stdout",
     "output_type": "stream",
     "text": [
      "[[2.8080029e-05]\n",
      " [9.5718485e-01]\n",
      " [7.2788608e-01]\n",
      " ...\n",
      " [3.2356027e-01]\n",
      " [2.0085916e-01]\n",
      " [1.2483378e-01]]\n"
     ]
    }
   ],
   "source": [
    "print (train_pred_prob)"
   ]
  },
  {
   "cell_type": "markdown",
   "metadata": {},
   "source": [
    "#### Getting ROC curve to adjust the threshold "
   ]
  },
  {
   "cell_type": "code",
   "execution_count": 46,
   "metadata": {
    "ExecuteTime": {
     "end_time": "2019-03-21T13:45:08.612200Z",
     "start_time": "2019-03-21T13:45:08.602206Z"
    }
   },
   "outputs": [],
   "source": [
    "fpr, tpr, thresholds = roc_curve(y_train, train_pred_prob)\n",
    "roc_auc = auc(fpr, tpr)"
   ]
  },
  {
   "cell_type": "markdown",
   "metadata": {},
   "source": [
    "#### Using matplotlib for plotting the ROC curve "
   ]
  },
  {
   "cell_type": "code",
   "execution_count": 47,
   "metadata": {
    "ExecuteTime": {
     "end_time": "2019-03-21T13:45:08.742895Z",
     "start_time": "2019-03-21T13:45:08.613645Z"
    }
   },
   "outputs": [
    {
     "data": {
      "image/png": "[encoded data removed]",
      "text/plain": [
       "<Figure size 432x288 with 1 Axes>"
      ]
     },
     "metadata": {
      "needs_background": "light"
     },
     "output_type": "display_data"
    }
   ],
   "source": [
    "plt.figure()\n",
    "lw = 2\n",
    "plt.plot(fpr,tpr, color='darkorange',\n",
    "         lw=lw, label='ROC curve (area = %0.2f)' % roc_auc)\n",
    "plt.plot([0, 1], [0, 1], color='navy', lw=lw, linestyle='--')\n",
    "plt.xlim([0.0, 1.0])\n",
    "plt.ylim([0.0, 1.05])\n",
    "plt.xlabel('FPR')\n",
    "plt.ylabel('TPR')\n",
    "plt.title('Receiver operating characteristic example')\n",
    "plt.legend(loc=\"lower right\")\n",
    "plt.show()"
   ]
  },
  {
   "cell_type": "markdown",
   "metadata": {},
   "source": [
    "#### Derive new non-linear features using autoencoder"
   ]
  },
  {
   "cell_type": "code",
   "execution_count": 49,
   "metadata": {
    "ExecuteTime": {
     "end_time": "2019-03-21T13:46:10.360920Z",
     "start_time": "2019-03-21T13:46:10.358150Z"
    }
   },
   "outputs": [],
   "source": [
    "# The size of encoded and actual representations\n",
    "encoding_dim = 16 \n",
    "actual_dim = X_train.shape[1]"
   ]
  },
  {
   "cell_type": "code",
   "execution_count": 50,
   "metadata": {
    "ExecuteTime": {
     "end_time": "2019-03-21T13:46:12.384035Z",
     "start_time": "2019-03-21T13:46:12.360427Z"
    }
   },
   "outputs": [],
   "source": [
    "# Input placeholder\n",
    "input_img = Input(shape=(actual_dim,))\n",
    "\n",
    "# \"encoded\" is the encoded representation of the input\n",
    "encoded = Dense(encoding_dim, activation='relu')(input_img)\n",
    "\n",
    "# \"decoded\" is the lossy reconstruction of the input\n",
    "decoded = Dense(actual_dim, activation='relu')(encoded)"
   ]
  },
  {
   "cell_type": "code",
   "execution_count": 51,
   "metadata": {
    "ExecuteTime": {
     "end_time": "2019-03-21T13:46:23.050946Z",
     "start_time": "2019-03-21T13:46:23.048210Z"
    }
   },
   "outputs": [],
   "source": [
    "# this model maps an input to its reconstruction\n",
    "autoencoder = Model(input_img, decoded)"
   ]
  },
  {
   "cell_type": "code",
   "execution_count": 52,
   "metadata": {
    "ExecuteTime": {
     "end_time": "2019-03-21T13:46:24.739448Z",
     "start_time": "2019-03-21T13:46:24.734888Z"
    }
   },
   "outputs": [
    {
     "name": "stdout",
     "output_type": "stream",
     "text": [
      "_________________________________________________________________\n",
      "Layer (type)                 Output Shape              Param #   \n",
      "=================================================================\n",
      "input_1 (InputLayer)         (None, 21)                0         \n",
      "_________________________________________________________________\n",
      "dense_5 (Dense)              (None, 16)                352       \n",
      "_________________________________________________________________\n",
      "dense_6 (Dense)              (None, 21)                357       \n",
      "=================================================================\n",
      "Total params: 709\n",
      "Trainable params: 709\n",
      "Non-trainable params: 0\n",
      "_________________________________________________________________\n",
      "None\n"
     ]
    }
   ],
   "source": [
    "print(autoencoder.summary())"
   ]
  },
  {
   "cell_type": "code",
   "execution_count": 53,
   "metadata": {
    "ExecuteTime": {
     "end_time": "2019-03-21T13:46:35.268076Z",
     "start_time": "2019-03-21T13:46:35.235911Z"
    }
   },
   "outputs": [],
   "source": [
    "autoencoder.compile(optimizer='adadelta', loss='binary_crossentropy')"
   ]
  },
  {
   "cell_type": "code",
   "execution_count": 54,
   "metadata": {
    "ExecuteTime": {
     "end_time": "2019-03-21T13:48:24.643420Z",
     "start_time": "2019-03-21T13:46:35.571560Z"
    },
    "scrolled": true
   },
   "outputs": [
    {
     "name": "stdout",
     "output_type": "stream",
     "text": [
      "Epoch 1/100\n",
      "40730/40730 [==============================] - 1s 31us/step - loss: 526.3671: 1s -\n",
      "Epoch 2/100\n",
      "40730/40730 [==============================] - 1s 26us/step - loss: -859.3355\n",
      "Epoch 3/100\n",
      "40730/40730 [==============================] - 1s 26us/step - loss: -968.8141\n",
      "Epoch 4/100\n",
      "40730/40730 [==============================] - 1s 26us/step - loss: -974.9170\n",
      "Epoch 5/100\n",
      "40730/40730 [==============================] - 1s 26us/step - loss: -979.0020\n",
      "Epoch 6/100\n",
      "40730/40730 [==============================] - 1s 26us/step - loss: -981.3996\n",
      "Epoch 7/100\n",
      "40730/40730 [==============================] - 1s 26us/step - loss: -982.1283\n",
      "Epoch 8/100\n",
      "40730/40730 [==============================] - 1s 28us/step - loss: -982.3734\n",
      "Epoch 9/100\n",
      "40730/40730 [==============================] - 1s 28us/step - loss: -982.5048\n",
      "Epoch 10/100\n",
      "40730/40730 [==============================] - 1s 28us/step - loss: -982.5511\n",
      "Epoch 11/100\n",
      "40730/40730 [==============================] - 1s 27us/step - loss: -982.9491\n",
      "Epoch 12/100\n",
      "40730/40730 [==============================] - 1s 25us/step - loss: -986.4129\n",
      "Epoch 13/100\n",
      "40730/40730 [==============================] - 1s 25us/step - loss: -1008.9435\n",
      "Epoch 14/100\n",
      "40730/40730 [==============================] - 1s 24us/step - loss: -1028.2209\n",
      "Epoch 15/100\n",
      "40730/40730 [==============================] - 1s 25us/step - loss: -1027.2980\n",
      "Epoch 16/100\n",
      "40730/40730 [==============================] - 1s 24us/step - loss: -1027.9437\n",
      "Epoch 17/100\n",
      "40730/40730 [==============================] - 1s 25us/step - loss: -1028.0683\n",
      "Epoch 18/100\n",
      "40730/40730 [==============================] - 1s 29us/step - loss: -1028.5946\n",
      "Epoch 19/100\n",
      "40730/40730 [==============================] - 1s 28us/step - loss: -1028.8075\n",
      "Epoch 20/100\n",
      "40730/40730 [==============================] - 1s 26us/step - loss: -1028.9429\n",
      "Epoch 21/100\n",
      "40730/40730 [==============================] - 1s 26us/step - loss: -1029.0468\n",
      "Epoch 22/100\n",
      "40730/40730 [==============================] - 1s 27us/step - loss: -1029.1314\n",
      "Epoch 23/100\n",
      "40730/40730 [==============================] - 1s 25us/step - loss: -1028.9723\n",
      "Epoch 24/100\n",
      "40730/40730 [==============================] - 1s 26us/step - loss: -1029.1693\n",
      "Epoch 25/100\n",
      "40730/40730 [==============================] - 1s 26us/step - loss: -1028.7584\n",
      "Epoch 26/100\n",
      "40730/40730 [==============================] - 1s 26us/step - loss: -1028.9504\n",
      "Epoch 27/100\n",
      "40730/40730 [==============================] - 1s 27us/step - loss: -1029.2906\n",
      "Epoch 28/100\n",
      "40730/40730 [==============================] - 1s 26us/step - loss: -1029.2377\n",
      "Epoch 29/100\n",
      "40730/40730 [==============================] - 1s 26us/step - loss: -1029.6075\n",
      "Epoch 30/100\n",
      "40730/40730 [==============================] - 1s 29us/step - loss: -1029.3864\n",
      "Epoch 31/100\n",
      "40730/40730 [==============================] - 1s 27us/step - loss: -1029.5870\n",
      "Epoch 32/100\n",
      "40730/40730 [==============================] - 1s 26us/step - loss: -1029.5759\n",
      "Epoch 33/100\n",
      "40730/40730 [==============================] - 1s 26us/step - loss: -1029.6116\n",
      "Epoch 34/100\n",
      "40730/40730 [==============================] - 1s 26us/step - loss: -1029.7308\n",
      "Epoch 35/100\n",
      "40730/40730 [==============================] - 1s 27us/step - loss: -1029.8994\n",
      "Epoch 36/100\n",
      "40730/40730 [==============================] - 1s 27us/step - loss: -1029.8870\n",
      "Epoch 37/100\n",
      "40730/40730 [==============================] - 1s 26us/step - loss: -1029.9507\n",
      "Epoch 38/100\n",
      "40730/40730 [==============================] - 1s 26us/step - loss: -1029.9597\n",
      "Epoch 39/100\n",
      "40730/40730 [==============================] - 1s 30us/step - loss: -1030.1396\n",
      "Epoch 40/100\n",
      "40730/40730 [==============================] - 1s 25us/step - loss: -1030.0299\n",
      "Epoch 41/100\n",
      "40730/40730 [==============================] - 1s 26us/step - loss: -1030.1131\n",
      "Epoch 42/100\n",
      "40730/40730 [==============================] - 1s 26us/step - loss: -1030.1699\n",
      "Epoch 43/100\n",
      "40730/40730 [==============================] - 1s 25us/step - loss: -1030.1899\n",
      "Epoch 44/100\n",
      "40730/40730 [==============================] - 1s 24us/step - loss: -1030.0832\n",
      "Epoch 45/100\n",
      "40730/40730 [==============================] - 1s 26us/step - loss: -1029.9908\n",
      "Epoch 46/100\n",
      "40730/40730 [==============================] - 1s 25us/step - loss: -1030.2300\n",
      "Epoch 47/100\n",
      "40730/40730 [==============================] - 1s 26us/step - loss: -1029.8820\n",
      "Epoch 48/100\n",
      "40730/40730 [==============================] - 1s 25us/step - loss: -1029.9639\n",
      "Epoch 49/100\n",
      "40730/40730 [==============================] - 1s 25us/step - loss: -1030.1051\n",
      "Epoch 50/100\n",
      "40730/40730 [==============================] - 1s 24us/step - loss: -1030.1665\n",
      "Epoch 51/100\n",
      "40730/40730 [==============================] - 1s 27us/step - loss: -1030.1671\n",
      "Epoch 52/100\n",
      "40730/40730 [==============================] - 1s 26us/step - loss: -1030.2572\n",
      "Epoch 53/100\n",
      "40730/40730 [==============================] - 1s 29us/step - loss: -1030.1078: 0s - loss: -1043.188\n",
      "Epoch 54/100\n",
      "40730/40730 [==============================] - 1s 25us/step - loss: -1030.1506\n",
      "Epoch 55/100\n",
      "40730/40730 [==============================] - 1s 26us/step - loss: -1030.2196\n",
      "Epoch 56/100\n",
      "40730/40730 [==============================] - 1s 27us/step - loss: -1030.2086\n",
      "Epoch 57/100\n",
      "40730/40730 [==============================] - 1s 28us/step - loss: -1030.18260s - loss: -89\n",
      "Epoch 58/100\n",
      "40730/40730 [==============================] - 1s 27us/step - loss: -1030.1561\n",
      "Epoch 59/100\n",
      "40730/40730 [==============================] - 1s 27us/step - loss: -1030.2311\n",
      "Epoch 60/100\n",
      "40730/40730 [==============================] - 1s 28us/step - loss: -1030.2469\n",
      "Epoch 61/100\n",
      "40730/40730 [==============================] - 1s 27us/step - loss: -1030.2601\n",
      "Epoch 62/100\n",
      "40730/40730 [==============================] - 1s 27us/step - loss: -1030.2592\n",
      "Epoch 63/100\n",
      "40730/40730 [==============================] - 1s 26us/step - loss: -1030.2085\n",
      "Epoch 64/100\n",
      "40730/40730 [==============================] - 1s 30us/step - loss: -1030.2200\n",
      "Epoch 65/100\n",
      "40730/40730 [==============================] - 1s 28us/step - loss: -1030.3143\n",
      "Epoch 66/100\n",
      "40730/40730 [==============================] - 1s 28us/step - loss: -1030.3088\n",
      "Epoch 67/100\n",
      "40730/40730 [==============================] - 1s 26us/step - loss: -1030.3508\n",
      "Epoch 68/100\n",
      "40730/40730 [==============================] - 1s 27us/step - loss: -1030.2940\n",
      "Epoch 69/100\n",
      "40730/40730 [==============================] - 1s 27us/step - loss: -1030.2090\n",
      "Epoch 70/100\n",
      "40730/40730 [==============================] - 1s 28us/step - loss: -1030.3455\n",
      "Epoch 71/100\n",
      "40730/40730 [==============================] - 1s 27us/step - loss: -1030.2606\n",
      "Epoch 72/100\n",
      "40730/40730 [==============================] - 1s 27us/step - loss: -1030.3187\n",
      "Epoch 73/100\n",
      "40730/40730 [==============================] - 1s 27us/step - loss: -1030.2985\n",
      "Epoch 74/100\n",
      "40730/40730 [==============================] - 1s 29us/step - loss: -1030.3183: 0s - loss: -1043.429\n",
      "Epoch 75/100\n",
      "40730/40730 [==============================] - 1s 31us/step - loss: -1030.3118\n",
      "Epoch 76/100\n",
      "40730/40730 [==============================] - 1s 30us/step - loss: -1030.2052\n",
      "Epoch 77/100\n",
      "40730/40730 [==============================] - 1s 27us/step - loss: -1027.6900\n",
      "Epoch 78/100\n",
      "40730/40730 [==============================] - 1s 25us/step - loss: -1030.3810\n",
      "Epoch 79/100\n",
      "40730/40730 [==============================] - 1s 25us/step - loss: -1027.8591\n",
      "Epoch 80/100\n",
      "40730/40730 [==============================] - 1s 25us/step - loss: -1030.2875\n",
      "Epoch 81/100\n",
      "40730/40730 [==============================] - 1s 25us/step - loss: -1030.2989\n",
      "Epoch 82/100\n",
      "40730/40730 [==============================] - 1s 25us/step - loss: -1030.5319\n",
      "Epoch 83/100\n",
      "40730/40730 [==============================] - 1s 27us/step - loss: -1030.4022\n",
      "Epoch 84/100\n",
      "40730/40730 [==============================] - 1s 32us/step - loss: -1030.3087: 0s - loss: -103\n",
      "Epoch 85/100\n",
      "40730/40730 [==============================] - 1s 30us/step - loss: -1030.4934\n",
      "Epoch 86/100\n",
      "40730/40730 [==============================] - 1s 28us/step - loss: -1030.4779\n",
      "Epoch 87/100\n",
      "40730/40730 [==============================] - 1s 29us/step - loss: -1027.9192\n",
      "Epoch 88/100\n",
      "40730/40730 [==============================] - 1s 28us/step - loss: -1027.7878\n",
      "Epoch 89/100\n"
     ]
    },
    {
     "name": "stdout",
     "output_type": "stream",
     "text": [
      "40730/40730 [==============================] - 1s 27us/step - loss: -1030.4380\n",
      "Epoch 90/100\n",
      "40730/40730 [==============================] - 1s 27us/step - loss: -1030.3559\n",
      "Epoch 91/100\n",
      "40730/40730 [==============================] - 1s 27us/step - loss: -1027.8454\n",
      "Epoch 92/100\n",
      "40730/40730 [==============================] - 1s 26us/step - loss: -1030.5369\n",
      "Epoch 93/100\n",
      "40730/40730 [==============================] - 1s 27us/step - loss: -1030.5649\n",
      "Epoch 94/100\n",
      "40730/40730 [==============================] - 1s 27us/step - loss: -1030.5099\n",
      "Epoch 95/100\n",
      "40730/40730 [==============================] - 1s 27us/step - loss: -1030.4234\n",
      "Epoch 96/100\n",
      "40730/40730 [==============================] - 1s 28us/step - loss: -1030.4555\n",
      "Epoch 97/100\n",
      "40730/40730 [==============================] - 1s 27us/step - loss: -1030.5013\n",
      "Epoch 98/100\n",
      "40730/40730 [==============================] - 1s 27us/step - loss: -1027.8815\n",
      "Epoch 99/100\n",
      "40730/40730 [==============================] - 1s 27us/step - loss: -1027.9253\n",
      "Epoch 100/100\n",
      "40730/40730 [==============================] - 1s 28us/step - loss: -1027.1446\n"
     ]
    },
    {
     "data": {
      "text/plain": [
       "<keras.callbacks.History at 0x1a2eba4e10>"
      ]
     },
     "execution_count": 54,
     "metadata": {},
     "output_type": "execute_result"
    }
   ],
   "source": [
    "autoencoder.fit(X_train, X_train, epochs=100, batch_size=32)"
   ]
  },
  {
   "cell_type": "markdown",
   "metadata": {},
   "source": [
    "Create a separate encoder model"
   ]
  },
  {
   "cell_type": "code",
   "execution_count": 55,
   "metadata": {
    "ExecuteTime": {
     "end_time": "2019-03-21T13:48:24.776885Z",
     "start_time": "2019-03-21T13:48:24.774264Z"
    }
   },
   "outputs": [],
   "source": [
    "# this model maps an input to its encoded representation\n",
    "encoder = Model(input_img, encoded)"
   ]
  },
  {
   "cell_type": "code",
   "execution_count": 56,
   "metadata": {
    "ExecuteTime": {
     "end_time": "2019-03-21T13:48:24.903423Z",
     "start_time": "2019-03-21T13:48:24.898982Z"
    }
   },
   "outputs": [
    {
     "name": "stdout",
     "output_type": "stream",
     "text": [
      "_________________________________________________________________\n",
      "Layer (type)                 Output Shape              Param #   \n",
      "=================================================================\n",
      "input_1 (InputLayer)         (None, 21)                0         \n",
      "_________________________________________________________________\n",
      "dense_5 (Dense)              (None, 16)                352       \n",
      "=================================================================\n",
      "Total params: 352\n",
      "Trainable params: 352\n",
      "Non-trainable params: 0\n",
      "_________________________________________________________________\n",
      "None\n"
     ]
    }
   ],
   "source": [
    "print(encoder.summary())"
   ]
  },
  {
   "cell_type": "markdown",
   "metadata": {},
   "source": [
    "#### derive new non-linear features"
   ]
  },
  {
   "cell_type": "code",
   "execution_count": 57,
   "metadata": {
    "ExecuteTime": {
     "end_time": "2019-03-21T13:48:28.222327Z",
     "start_time": "2019-03-21T13:48:27.924572Z"
    }
   },
   "outputs": [],
   "source": [
    "X_train_nonLinear_features = encoder.predict(X_train)\n",
    "X_test_nonLinear_features = encoder.predict(X_test)"
   ]
  },
  {
   "cell_type": "markdown",
   "metadata": {},
   "source": [
    "#### Combining new non-linear features to X_train and X_test respectively"
   ]
  },
  {
   "cell_type": "code",
   "execution_count": 58,
   "metadata": {
    "ExecuteTime": {
     "end_time": "2019-03-21T13:49:01.736011Z",
     "start_time": "2019-03-21T13:49:01.723143Z"
    }
   },
   "outputs": [],
   "source": [
    "X_train=np.concatenate((X_train, X_train_nonLinear_features), axis=1)\n",
    "X_test=np.concatenate((X_test, X_test_nonLinear_features), axis=1)"
   ]
  },
  {
   "cell_type": "markdown",
   "metadata": {},
   "source": [
    "#### Perceptron Model Building with both actual and non-linear features"
   ]
  },
  {
   "cell_type": "code",
   "execution_count": 59,
   "metadata": {
    "ExecuteTime": {
     "end_time": "2019-03-21T13:49:13.804140Z",
     "start_time": "2019-03-21T13:49:13.786660Z"
    }
   },
   "outputs": [],
   "source": [
    "perceptron_model = Sequential()\n",
    "\n",
    "perceptron_model.add(Dense(1, input_dim=X_train.shape[1], activation='sigmoid', kernel_initializer='normal'))"
   ]
  },
  {
   "cell_type": "code",
   "execution_count": 60,
   "metadata": {
    "ExecuteTime": {
     "end_time": "2019-03-21T13:49:16.012937Z",
     "start_time": "2019-03-21T13:49:15.974005Z"
    }
   },
   "outputs": [],
   "source": [
    "perceptron_model.compile(loss='binary_crossentropy', optimizer='adam', metrics=['accuracy'])"
   ]
  },
  {
   "cell_type": "code",
   "execution_count": 61,
   "metadata": {
    "ExecuteTime": {
     "end_time": "2019-03-21T13:49:31.631829Z",
     "start_time": "2019-03-21T13:49:16.323957Z"
    },
    "scrolled": true
   },
   "outputs": [
    {
     "name": "stdout",
     "output_type": "stream",
     "text": [
      "Epoch 1/30\n",
      "40730/40730 [==============================] - 1s 16us/step - loss: 0.5578 - acc: 0.8413\n",
      "Epoch 2/30\n",
      "40730/40730 [==============================] - 0s 12us/step - loss: 0.4403 - acc: 0.8651\n",
      "Epoch 3/30\n",
      "40730/40730 [==============================] - 0s 11us/step - loss: 0.4176 - acc: 0.8804\n",
      "Epoch 4/30\n",
      "40730/40730 [==============================] - 0s 11us/step - loss: 0.4163 - acc: 0.8863\n",
      "Epoch 5/30\n",
      "40730/40730 [==============================] - 0s 12us/step - loss: 0.4301 - acc: 0.8843\n",
      "Epoch 6/30\n",
      "40730/40730 [==============================] - 1s 12us/step - loss: 0.3915 - acc: 0.8907\n",
      "Epoch 7/30\n",
      "40730/40730 [==============================] - 0s 12us/step - loss: 0.4357 - acc: 0.8841\n",
      "Epoch 8/30\n",
      "40730/40730 [==============================] - 0s 12us/step - loss: 0.3887 - acc: 0.8919\n",
      "Epoch 9/30\n",
      "40730/40730 [==============================] - 0s 12us/step - loss: 0.4364 - acc: 0.8846\n",
      "Epoch 10/30\n",
      "40730/40730 [==============================] - 0s 11us/step - loss: 0.4264 - acc: 0.8890\n",
      "Epoch 11/30\n",
      "40730/40730 [==============================] - 0s 11us/step - loss: 0.6443 - acc: 0.8716\n",
      "Epoch 12/30\n",
      "40730/40730 [==============================] - 0s 11us/step - loss: 0.4608 - acc: 0.8900\n",
      "Epoch 13/30\n",
      "40730/40730 [==============================] - 0s 11us/step - loss: 0.6771 - acc: 0.8767\n",
      "Epoch 14/30\n",
      "40730/40730 [==============================] - 1s 13us/step - loss: 1.0087 - acc: 0.8322\n",
      "Epoch 15/30\n",
      "40730/40730 [==============================] - 0s 12us/step - loss: 0.3858 - acc: 0.8944\n",
      "Epoch 16/30\n",
      "40730/40730 [==============================] - 0s 11us/step - loss: 0.3928 - acc: 0.8932\n",
      "Epoch 17/30\n",
      "40730/40730 [==============================] - 0s 11us/step - loss: 0.3903 - acc: 0.8938\n",
      "Epoch 18/30\n",
      "40730/40730 [==============================] - 0s 11us/step - loss: 0.4040 - acc: 0.8919\n",
      "Epoch 19/30\n",
      "40730/40730 [==============================] - 0s 12us/step - loss: 0.4006 - acc: 0.8898\n",
      "Epoch 20/30\n",
      "40730/40730 [==============================] - 0s 12us/step - loss: 0.4908 - acc: 0.8787\n",
      "Epoch 21/30\n",
      "40730/40730 [==============================] - 0s 12us/step - loss: 0.4780 - acc: 0.8819\n",
      "Epoch 22/30\n",
      "40730/40730 [==============================] - 0s 12us/step - loss: 0.4048 - acc: 0.8927\n",
      "Epoch 23/30\n",
      "40730/40730 [==============================] - 1s 12us/step - loss: 0.4050 - acc: 0.8929\n",
      "Epoch 24/30\n",
      "40730/40730 [==============================] - 1s 13us/step - loss: 0.5650 - acc: 0.8754\n",
      "Epoch 25/30\n",
      "40730/40730 [==============================] - 1s 14us/step - loss: 0.4252 - acc: 0.8886\n",
      "Epoch 26/30\n",
      "40730/40730 [==============================] - 1s 14us/step - loss: 0.4018 - acc: 0.8922\n",
      "Epoch 27/30\n",
      "40730/40730 [==============================] - 1s 13us/step - loss: 0.4056 - acc: 0.8899\n",
      "Epoch 28/30\n",
      "40730/40730 [==============================] - 1s 13us/step - loss: 0.3847 - acc: 0.8937: 0s - loss: 0.3863 - acc: 0.893\n",
      "Epoch 29/30\n",
      "40730/40730 [==============================] - 1s 14us/step - loss: 0.4179 - acc: 0.8873\n",
      "Epoch 30/30\n",
      "40730/40730 [==============================] - 1s 15us/step - loss: 0.3939 - acc: 0.8925\n"
     ]
    },
    {
     "data": {
      "text/plain": [
       "<keras.callbacks.History at 0x1071bef60>"
      ]
     },
     "execution_count": 61,
     "metadata": {},
     "output_type": "execute_result"
    }
   ],
   "source": [
    "perceptron_model.fit(X_train, y_train, epochs=30, batch_size=64)"
   ]
  },
  {
   "cell_type": "markdown",
   "metadata": {},
   "source": [
    "#### Predictions"
   ]
  },
  {
   "cell_type": "code",
   "execution_count": 62,
   "metadata": {
    "ExecuteTime": {
     "end_time": "2019-03-21T13:49:32.188033Z",
     "start_time": "2019-03-21T13:49:31.788067Z"
    }
   },
   "outputs": [],
   "source": [
    "test_pred=perceptron_model.predict_classes(X_test)\n",
    "train_pred=perceptron_model.predict_classes(X_train)"
   ]
  },
  {
   "cell_type": "markdown",
   "metadata": {},
   "source": [
    "#### Getting evaluation metrics and evaluating model performance"
   ]
  },
  {
   "cell_type": "code",
   "execution_count": 63,
   "metadata": {
    "ExecuteTime": {
     "end_time": "2019-03-21T13:49:35.319388Z",
     "start_time": "2019-03-21T13:49:35.162685Z"
    }
   },
   "outputs": [
    {
     "name": "stdout",
     "output_type": "stream",
     "text": [
      "[[31121  1946]\n",
      " [ 2294  5369]]\n",
      "[[13330   820]\n",
      " [  970  2336]]\n"
     ]
    }
   ],
   "source": [
    "confusion_matrix_test = confusion_matrix(y_test, test_pred)\n",
    "confusion_matrix_train = confusion_matrix(y_train, train_pred)\n",
    "\n",
    "print(confusion_matrix_train)\n",
    "print(confusion_matrix_test)"
   ]
  },
  {
   "cell_type": "markdown",
   "metadata": {},
   "source": [
    "#### Calculate Accuracy, True Positive Rate and True Negative Rates"
   ]
  },
  {
   "cell_type": "code",
   "execution_count": 64,
   "metadata": {
    "ExecuteTime": {
     "end_time": "2019-03-21T13:49:39.278859Z",
     "start_time": "2019-03-21T13:49:39.274103Z"
    }
   },
   "outputs": [
    {
     "name": "stdout",
     "output_type": "stream",
     "text": [
      "Train TNR:  0.9411497867965041\n",
      "Train TPR:  0.7006394362521206\n",
      "Train Accuracy:  0.8958998281365087\n"
     ]
    }
   ],
   "source": [
    "Accuracy_Train=(confusion_matrix_train[0,0]+confusion_matrix_train[1,1])/(confusion_matrix_train[0,0]+confusion_matrix_train[0,1]+confusion_matrix_train[1,0]+confusion_matrix_train[1,1])\n",
    "TNR_Train= confusion_matrix_train[0,0]/(confusion_matrix_train[0,0]+confusion_matrix_train[0,1])\n",
    "TPR_Train= confusion_matrix_train[1,1]/(confusion_matrix_train[1,0]+confusion_matrix_train[1,1])\n",
    "\n",
    "print(\"Train TNR: \",TNR_Train)\n",
    "print(\"Train TPR: \",TPR_Train)\n",
    "print(\"Train Accuracy: \",Accuracy_Train)"
   ]
  },
  {
   "cell_type": "code",
   "execution_count": 65,
   "metadata": {
    "ExecuteTime": {
     "end_time": "2019-03-21T13:49:39.692229Z",
     "start_time": "2019-03-21T13:49:39.686328Z"
    }
   },
   "outputs": [
    {
     "name": "stdout",
     "output_type": "stream",
     "text": [
      "Test TNR:  0.9420494699646643\n",
      "Test TPR:  0.7065940713853599\n",
      "Test Accuracy:  0.8974564619615032\n"
     ]
    }
   ],
   "source": [
    "Accuracy_Test=(confusion_matrix_test[0,0]+confusion_matrix_test[1,1])/(confusion_matrix_test[0,0]+confusion_matrix_test[0,1]+confusion_matrix_test[1,0]+confusion_matrix_test[1,1])\n",
    "TNR_Test= confusion_matrix_test[0,0]/(confusion_matrix_test[0,0] +confusion_matrix_test[0,1])\n",
    "TPR_Test= confusion_matrix_test[1,1]/(confusion_matrix_test[1,0] +confusion_matrix_test[1,1])\n",
    "\n",
    "print(\"Test TNR: \",TNR_Test)\n",
    "print(\"Test TPR: \",TPR_Test)\n",
    "print(\"Test Accuracy: \",Accuracy_Test)"
   ]
  },
  {
   "cell_type": "markdown",
   "metadata": {},
   "source": [
    "#### Plotting ROC curve to modify the threshold if necessary"
   ]
  },
  {
   "cell_type": "code",
   "execution_count": 66,
   "metadata": {
    "ExecuteTime": {
     "end_time": "2019-03-21T13:49:42.974628Z",
     "start_time": "2019-03-21T13:49:42.766015Z"
    }
   },
   "outputs": [],
   "source": [
    "train_pred_prob=perceptron_model.predict(X_train)"
   ]
  },
  {
   "cell_type": "code",
   "execution_count": 67,
   "metadata": {
    "ExecuteTime": {
     "end_time": "2019-03-21T13:49:43.690980Z",
     "start_time": "2019-03-21T13:49:43.687561Z"
    }
   },
   "outputs": [
    {
     "name": "stdout",
     "output_type": "stream",
     "text": [
      "[[0.        ]\n",
      " [0.94360936]\n",
      " [0.61789525]\n",
      " ...\n",
      " [0.4330393 ]\n",
      " [0.01081788]\n",
      " [0.31793812]]\n"
     ]
    }
   ],
   "source": [
    "print (train_pred_prob)"
   ]
  },
  {
   "cell_type": "markdown",
   "metadata": {},
   "source": [
    "#### Getting ROC curve to adjust the threshold "
   ]
  },
  {
   "cell_type": "code",
   "execution_count": 68,
   "metadata": {
    "ExecuteTime": {
     "end_time": "2019-03-21T13:49:49.609844Z",
     "start_time": "2019-03-21T13:49:49.599510Z"
    }
   },
   "outputs": [],
   "source": [
    "fpr, tpr, thresholds = roc_curve(y_train, train_pred_prob)\n",
    "roc_auc = auc(fpr, tpr)"
   ]
  },
  {
   "cell_type": "markdown",
   "metadata": {},
   "source": [
    "#### Using matplotlib for plotting the ROC curve "
   ]
  },
  {
   "cell_type": "code",
   "execution_count": 69,
   "metadata": {
    "ExecuteTime": {
     "end_time": "2019-03-21T13:49:52.121726Z",
     "start_time": "2019-03-21T13:49:51.988517Z"
    }
   },
   "outputs": [
    {
     "data": {
      "image/png": "[encoded data removed]",
      "text/plain": [
       "<Figure size 432x288 with 1 Axes>"
      ]
     },
     "metadata": {
      "needs_background": "light"
     },
     "output_type": "display_data"
    }
   ],
   "source": [
    "plt.figure()\n",
    "lw = 2\n",
    "plt.plot(fpr,tpr, color='darkorange',\n",
    "         lw=lw, label='ROC curve (area = %0.2f)' % roc_auc)\n",
    "plt.plot([0, 1], [0, 1], color='navy', lw=lw, linestyle='--')\n",
    "plt.xlim([0.0, 1.0])\n",
    "plt.ylim([0.0, 1.05])\n",
    "plt.xlabel('FPR')\n",
    "plt.ylabel('TPR')\n",
    "plt.title('Receiver operating characteristic example')\n",
    "plt.legend(loc=\"lower right\")\n",
    "plt.show()"
   ]
  },
  {
   "cell_type": "code",
   "execution_count": null,
   "metadata": {},
   "outputs": [],
   "source": []
  }
 ],
 "metadata": {
  "kernelspec": {
   "display_name": "Python 3",
   "language": "python",
   "name": "python3"
  },
  "language_info": {
   "codemirror_mode": {
    "name": "ipython",
    "version": 3
   },
   "file_extension": ".py",
   "mimetype": "text/x-python",
   "name": "python",
   "nbconvert_exporter": "python",
   "pygments_lexer": "ipython3",
   "version": "3.6.7"
  },
  "toc": {
   "base_numbering": 1,
   "nav_menu": {},
   "number_sections": true,
   "sideBar": true,
   "skip_h1_title": false,
   "title_cell": "Table of Contents",
   "title_sidebar": "Contents",
   "toc_cell": false,
   "toc_position": {},
   "toc_section_display": true,
   "toc_window_display": false
  },
  "varInspector": {
   "cols": {
    "lenName": 16,
    "lenType": 16,
    "lenVar": 40
   },
   "kernels_config": {
    "python": {
     "delete_cmd_postfix": "",
     "delete_cmd_prefix": "del ",
     "library": "var_list.py",
     "varRefreshCmd": "print(var_dic_list())"
    },
    "r": {
     "delete_cmd_postfix": ") ",
     "delete_cmd_prefix": "rm(",
     "library": "var_list.r",
     "varRefreshCmd": "cat(var_dic_list()) "
    }
   },
   "types_to_exclude": [
    "module",
    "function",
    "builtin_function_or_method",
    "instance",
    "_Feature"
   ],
   "window_display": true
  }
 },
 "nbformat": 4,
 "nbformat_minor": 2
}
