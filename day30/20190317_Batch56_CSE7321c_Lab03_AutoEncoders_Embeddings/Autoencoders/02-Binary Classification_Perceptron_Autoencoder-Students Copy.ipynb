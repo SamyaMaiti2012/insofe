{
 "cells": [
  {
   "cell_type": "markdown",
   "metadata": {},
   "source": [
    "##  Binary Classification using Perception, MLP and Autoencoder"
   ]
  },
  {
   "cell_type": "markdown",
   "metadata": {},
   "source": [
    "#### Loading the required libraries"
   ]
  },
  {
   "cell_type": "code",
   "execution_count": 1,
   "metadata": {},
   "outputs": [
    {
     "name": "stderr",
     "output_type": "stream",
     "text": [
      "Using TensorFlow backend.\n"
     ]
    }
   ],
   "source": [
    "import pandas as pd\n",
    "import numpy as np\n",
    "\n",
    "from sklearn.model_selection import train_test_split\n",
    "from sklearn.metrics import confusion_matrix, roc_curve, auc\n",
    "\n",
    "from keras.models import Sequential, Model\n",
    "from keras.layers import Dense, Input\n",
    "from keras.layers.normalization import BatchNormalization\n",
    "from keras.utils import to_categorical\n",
    "\n",
    "import matplotlib.pyplot as plt"
   ]
  },
  {
   "cell_type": "markdown",
   "metadata": {},
   "source": [
    "#### Problem\n",
    "\n",
    "    Is to identify products at risk of backorder before the event occurs so the business has time to react. "
   ]
  },
  {
   "cell_type": "markdown",
   "metadata": {},
   "source": [
    "#### Data\n",
    "\n",
    "Data file contains the historical data for the 8 weeks prior to the week we are trying to predict. The data was taken as weekly snapshots at the start of each week. Columns are defined as follows:\n",
    "\n",
    "    sku - Random ID for the product\n",
    "\n",
    "    national_inv - Current inventory level for the part\n",
    "\n",
    "    lead_time - Transit time for product (if available)\n",
    "\n",
    "    in_transit_qty - Amount of product in transit from source\n",
    "\n",
    "    forecast_3_month - Forecast sales for the next 3 months\n",
    "\n",
    "    forecast_6_month - Forecast sales for the next 6 months\n",
    "\n",
    "    forecast_9_month - Forecast sales for the next 9 months\n",
    "\n",
    "    sales_1_month - Sales quantity for the prior 1 month time period\n",
    "\n",
    "    sales_3_month - Sales quantity for the prior 3 month time period\n",
    "\n",
    "    sales_6_month - Sales quantity for the prior 6 month time period\n",
    "\n",
    "    sales_9_month - Sales quantity for the prior 9 month time period\n",
    "\n",
    "    min_bank - Minimum recommend amount to stock\n",
    "\n",
    "    potential_issue - Source issue for part identified\n",
    "\n",
    "    pieces_past_due - Parts overdue from source\n",
    "\n",
    "    perf_6_month_avg - Source performance for prior 6 month period\n",
    "\n",
    "    perf_12_month_avg - Source performance for prior 12 month period\n",
    "\n",
    "    local_bo_qty - Amount of stock orders overdue\n",
    "\n",
    "    deck_risk - Part risk flag\n",
    "\n",
    "    oe_constraint - Part risk flag\n",
    "\n",
    "    ppap_risk - Part risk flag\n",
    "\n",
    "    stop_auto_buy - Part risk flag\n",
    "\n",
    "    rev_stop - Part risk flag\n",
    "\n",
    "    went_on_backorder - Product actually went on backorder. This is the target value."
   ]
  },
  {
   "cell_type": "markdown",
   "metadata": {},
   "source": [
    "#### Identify Right Error Metrics\n",
    "\n",
    "    Based on the businees have to identify right error metrics."
   ]
  },
  {
   "cell_type": "raw",
   "metadata": {},
   "source": []
  },
  {
   "cell_type": "markdown",
   "metadata": {},
   "source": [
    "#### Loading the data"
   ]
  },
  {
   "cell_type": "code",
   "execution_count": 2,
   "metadata": {},
   "outputs": [],
   "source": [
    "import os\n",
    "PATH = os.getcwd()"
   ]
  },
  {
   "cell_type": "code",
   "execution_count": 3,
   "metadata": {},
   "outputs": [],
   "source": [
    "os.chdir(PATH)"
   ]
  },
  {
   "cell_type": "code",
   "execution_count": 4,
   "metadata": {},
   "outputs": [],
   "source": [
    "data = pd.read_csv(\"BackOrders.csv\",header=0)"
   ]
  },
  {
   "cell_type": "markdown",
   "metadata": {},
   "source": [
    "#### Understand the Data"
   ]
  },
  {
   "cell_type": "markdown",
   "metadata": {},
   "source": [
    "See the No. row and columns"
   ]
  },
  {
   "cell_type": "code",
   "execution_count": 5,
   "metadata": {},
   "outputs": [
    {
     "data": {
      "text/plain": [
       "(61589, 23)"
      ]
     },
     "execution_count": 5,
     "metadata": {},
     "output_type": "execute_result"
    }
   ],
   "source": [
    "data.shape"
   ]
  },
  {
   "cell_type": "markdown",
   "metadata": {},
   "source": [
    "Display the columns"
   ]
  },
  {
   "cell_type": "code",
   "execution_count": 6,
   "metadata": {},
   "outputs": [
    {
     "data": {
      "text/plain": [
       "Index(['sku', 'national_inv', 'lead_time', 'in_transit_qty',\n",
       "       'forecast_3_month', 'forecast_6_month', 'forecast_9_month',\n",
       "       'sales_1_month', 'sales_3_month', 'sales_6_month', 'sales_9_month',\n",
       "       'min_bank', 'potential_issue', 'pieces_past_due', 'perf_6_month_avg',\n",
       "       'perf_12_month_avg', 'local_bo_qty', 'deck_risk', 'oe_constraint',\n",
       "       'ppap_risk', 'stop_auto_buy', 'rev_stop', 'went_on_backorder'],\n",
       "      dtype='object')"
      ]
     },
     "execution_count": 6,
     "metadata": {},
     "output_type": "execute_result"
    }
   ],
   "source": [
    "data.columns"
   ]
  },
  {
   "cell_type": "markdown",
   "metadata": {},
   "source": [
    "Display the index"
   ]
  },
  {
   "cell_type": "code",
   "execution_count": 7,
   "metadata": {},
   "outputs": [
    {
     "data": {
      "text/plain": [
       "RangeIndex(start=0, stop=61589, step=1)"
      ]
     },
     "execution_count": 7,
     "metadata": {},
     "output_type": "execute_result"
    }
   ],
   "source": [
    "data.index"
   ]
  },
  {
   "cell_type": "markdown",
   "metadata": {},
   "source": [
    "See the top rows of the data"
   ]
  },
  {
   "cell_type": "code",
   "execution_count": 8,
   "metadata": {},
   "outputs": [
    {
     "data": {
      "text/html": [
       "<div>\n",
       "<style scoped>\n",
       "    .dataframe tbody tr th:only-of-type {\n",
       "        vertical-align: middle;\n",
       "    }\n",
       "\n",
       "    .dataframe tbody tr th {\n",
       "        vertical-align: top;\n",
       "    }\n",
       "\n",
       "    .dataframe thead th {\n",
       "        text-align: right;\n",
       "    }\n",
       "</style>\n",
       "<table border=\"1\" class=\"dataframe\">\n",
       "  <thead>\n",
       "    <tr style=\"text-align: right;\">\n",
       "      <th></th>\n",
       "      <th>sku</th>\n",
       "      <th>national_inv</th>\n",
       "      <th>lead_time</th>\n",
       "      <th>in_transit_qty</th>\n",
       "      <th>forecast_3_month</th>\n",
       "      <th>forecast_6_month</th>\n",
       "      <th>forecast_9_month</th>\n",
       "      <th>sales_1_month</th>\n",
       "      <th>sales_3_month</th>\n",
       "      <th>sales_6_month</th>\n",
       "      <th>...</th>\n",
       "      <th>pieces_past_due</th>\n",
       "      <th>perf_6_month_avg</th>\n",
       "      <th>perf_12_month_avg</th>\n",
       "      <th>local_bo_qty</th>\n",
       "      <th>deck_risk</th>\n",
       "      <th>oe_constraint</th>\n",
       "      <th>ppap_risk</th>\n",
       "      <th>stop_auto_buy</th>\n",
       "      <th>rev_stop</th>\n",
       "      <th>went_on_backorder</th>\n",
       "    </tr>\n",
       "  </thead>\n",
       "  <tbody>\n",
       "    <tr>\n",
       "      <th>0</th>\n",
       "      <td>1888279</td>\n",
       "      <td>117</td>\n",
       "      <td>NaN</td>\n",
       "      <td>0</td>\n",
       "      <td>0</td>\n",
       "      <td>0</td>\n",
       "      <td>0</td>\n",
       "      <td>0</td>\n",
       "      <td>0</td>\n",
       "      <td>15</td>\n",
       "      <td>...</td>\n",
       "      <td>0</td>\n",
       "      <td>-99.00</td>\n",
       "      <td>-99.00</td>\n",
       "      <td>0</td>\n",
       "      <td>No</td>\n",
       "      <td>No</td>\n",
       "      <td>Yes</td>\n",
       "      <td>Yes</td>\n",
       "      <td>No</td>\n",
       "      <td>No</td>\n",
       "    </tr>\n",
       "    <tr>\n",
       "      <th>1</th>\n",
       "      <td>1870557</td>\n",
       "      <td>7</td>\n",
       "      <td>2.0</td>\n",
       "      <td>0</td>\n",
       "      <td>0</td>\n",
       "      <td>0</td>\n",
       "      <td>0</td>\n",
       "      <td>0</td>\n",
       "      <td>0</td>\n",
       "      <td>0</td>\n",
       "      <td>...</td>\n",
       "      <td>0</td>\n",
       "      <td>0.50</td>\n",
       "      <td>0.28</td>\n",
       "      <td>0</td>\n",
       "      <td>Yes</td>\n",
       "      <td>No</td>\n",
       "      <td>No</td>\n",
       "      <td>Yes</td>\n",
       "      <td>No</td>\n",
       "      <td>No</td>\n",
       "    </tr>\n",
       "    <tr>\n",
       "      <th>2</th>\n",
       "      <td>1475481</td>\n",
       "      <td>258</td>\n",
       "      <td>15.0</td>\n",
       "      <td>10</td>\n",
       "      <td>10</td>\n",
       "      <td>77</td>\n",
       "      <td>184</td>\n",
       "      <td>46</td>\n",
       "      <td>132</td>\n",
       "      <td>256</td>\n",
       "      <td>...</td>\n",
       "      <td>0</td>\n",
       "      <td>0.54</td>\n",
       "      <td>0.70</td>\n",
       "      <td>0</td>\n",
       "      <td>No</td>\n",
       "      <td>No</td>\n",
       "      <td>No</td>\n",
       "      <td>Yes</td>\n",
       "      <td>No</td>\n",
       "      <td>No</td>\n",
       "    </tr>\n",
       "  </tbody>\n",
       "</table>\n",
       "<p>3 rows × 23 columns</p>\n",
       "</div>"
      ],
      "text/plain": [
       "       sku  national_inv  lead_time  in_transit_qty  forecast_3_month  \\\n",
       "0  1888279           117        NaN               0                 0   \n",
       "1  1870557             7        2.0               0                 0   \n",
       "2  1475481           258       15.0              10                10   \n",
       "\n",
       "   forecast_6_month  forecast_9_month  sales_1_month  sales_3_month  \\\n",
       "0                 0                 0              0              0   \n",
       "1                 0                 0              0              0   \n",
       "2                77               184             46            132   \n",
       "\n",
       "   sales_6_month  ...  pieces_past_due  perf_6_month_avg perf_12_month_avg  \\\n",
       "0             15  ...                0            -99.00            -99.00   \n",
       "1              0  ...                0              0.50              0.28   \n",
       "2            256  ...                0              0.54              0.70   \n",
       "\n",
       "   local_bo_qty  deck_risk  oe_constraint  ppap_risk stop_auto_buy rev_stop  \\\n",
       "0             0         No             No        Yes           Yes       No   \n",
       "1             0        Yes             No         No           Yes       No   \n",
       "2             0         No             No         No           Yes       No   \n",
       "\n",
       "  went_on_backorder  \n",
       "0                No  \n",
       "1                No  \n",
       "2                No  \n",
       "\n",
       "[3 rows x 23 columns]"
      ]
     },
     "execution_count": 8,
     "metadata": {},
     "output_type": "execute_result"
    }
   ],
   "source": [
    "data[:3]"
   ]
  },
  {
   "cell_type": "markdown",
   "metadata": {},
   "source": [
    "Shows a quick statistic summary of your data using describe"
   ]
  },
  {
   "cell_type": "code",
   "execution_count": 9,
   "metadata": {
    "scrolled": true
   },
   "outputs": [
    {
     "data": {
      "text/html": [
       "<div>\n",
       "<style scoped>\n",
       "    .dataframe tbody tr th:only-of-type {\n",
       "        vertical-align: middle;\n",
       "    }\n",
       "\n",
       "    .dataframe tbody tr th {\n",
       "        vertical-align: top;\n",
       "    }\n",
       "\n",
       "    .dataframe thead th {\n",
       "        text-align: right;\n",
       "    }\n",
       "</style>\n",
       "<table border=\"1\" class=\"dataframe\">\n",
       "  <thead>\n",
       "    <tr style=\"text-align: right;\">\n",
       "      <th></th>\n",
       "      <th>sku</th>\n",
       "      <th>national_inv</th>\n",
       "      <th>lead_time</th>\n",
       "      <th>in_transit_qty</th>\n",
       "      <th>forecast_3_month</th>\n",
       "      <th>forecast_6_month</th>\n",
       "      <th>forecast_9_month</th>\n",
       "      <th>sales_1_month</th>\n",
       "      <th>sales_3_month</th>\n",
       "      <th>sales_6_month</th>\n",
       "      <th>...</th>\n",
       "      <th>pieces_past_due</th>\n",
       "      <th>perf_6_month_avg</th>\n",
       "      <th>perf_12_month_avg</th>\n",
       "      <th>local_bo_qty</th>\n",
       "      <th>deck_risk</th>\n",
       "      <th>oe_constraint</th>\n",
       "      <th>ppap_risk</th>\n",
       "      <th>stop_auto_buy</th>\n",
       "      <th>rev_stop</th>\n",
       "      <th>went_on_backorder</th>\n",
       "    </tr>\n",
       "  </thead>\n",
       "  <tbody>\n",
       "    <tr>\n",
       "      <th>count</th>\n",
       "      <td>6.158900e+04</td>\n",
       "      <td>61589.000000</td>\n",
       "      <td>58186.000000</td>\n",
       "      <td>61589.000000</td>\n",
       "      <td>6.158900e+04</td>\n",
       "      <td>6.158900e+04</td>\n",
       "      <td>6.158900e+04</td>\n",
       "      <td>61589.000000</td>\n",
       "      <td>61589.000000</td>\n",
       "      <td>6.158900e+04</td>\n",
       "      <td>...</td>\n",
       "      <td>61589.000000</td>\n",
       "      <td>61589.000000</td>\n",
       "      <td>61589.000000</td>\n",
       "      <td>61589.000000</td>\n",
       "      <td>61589</td>\n",
       "      <td>61589</td>\n",
       "      <td>61589</td>\n",
       "      <td>61589</td>\n",
       "      <td>61589</td>\n",
       "      <td>61589</td>\n",
       "    </tr>\n",
       "    <tr>\n",
       "      <th>unique</th>\n",
       "      <td>NaN</td>\n",
       "      <td>NaN</td>\n",
       "      <td>NaN</td>\n",
       "      <td>NaN</td>\n",
       "      <td>NaN</td>\n",
       "      <td>NaN</td>\n",
       "      <td>NaN</td>\n",
       "      <td>NaN</td>\n",
       "      <td>NaN</td>\n",
       "      <td>NaN</td>\n",
       "      <td>...</td>\n",
       "      <td>NaN</td>\n",
       "      <td>NaN</td>\n",
       "      <td>NaN</td>\n",
       "      <td>NaN</td>\n",
       "      <td>2</td>\n",
       "      <td>2</td>\n",
       "      <td>2</td>\n",
       "      <td>2</td>\n",
       "      <td>2</td>\n",
       "      <td>2</td>\n",
       "    </tr>\n",
       "    <tr>\n",
       "      <th>top</th>\n",
       "      <td>NaN</td>\n",
       "      <td>NaN</td>\n",
       "      <td>NaN</td>\n",
       "      <td>NaN</td>\n",
       "      <td>NaN</td>\n",
       "      <td>NaN</td>\n",
       "      <td>NaN</td>\n",
       "      <td>NaN</td>\n",
       "      <td>NaN</td>\n",
       "      <td>NaN</td>\n",
       "      <td>...</td>\n",
       "      <td>NaN</td>\n",
       "      <td>NaN</td>\n",
       "      <td>NaN</td>\n",
       "      <td>NaN</td>\n",
       "      <td>No</td>\n",
       "      <td>No</td>\n",
       "      <td>No</td>\n",
       "      <td>Yes</td>\n",
       "      <td>No</td>\n",
       "      <td>No</td>\n",
       "    </tr>\n",
       "    <tr>\n",
       "      <th>freq</th>\n",
       "      <td>NaN</td>\n",
       "      <td>NaN</td>\n",
       "      <td>NaN</td>\n",
       "      <td>NaN</td>\n",
       "      <td>NaN</td>\n",
       "      <td>NaN</td>\n",
       "      <td>NaN</td>\n",
       "      <td>NaN</td>\n",
       "      <td>NaN</td>\n",
       "      <td>NaN</td>\n",
       "      <td>...</td>\n",
       "      <td>NaN</td>\n",
       "      <td>NaN</td>\n",
       "      <td>NaN</td>\n",
       "      <td>NaN</td>\n",
       "      <td>48145</td>\n",
       "      <td>61577</td>\n",
       "      <td>53792</td>\n",
       "      <td>59303</td>\n",
       "      <td>61569</td>\n",
       "      <td>50296</td>\n",
       "    </tr>\n",
       "    <tr>\n",
       "      <th>mean</th>\n",
       "      <td>2.037188e+06</td>\n",
       "      <td>287.721882</td>\n",
       "      <td>7.559619</td>\n",
       "      <td>30.192843</td>\n",
       "      <td>1.692728e+02</td>\n",
       "      <td>3.150413e+02</td>\n",
       "      <td>4.535760e+02</td>\n",
       "      <td>44.742957</td>\n",
       "      <td>150.732631</td>\n",
       "      <td>2.835465e+02</td>\n",
       "      <td>...</td>\n",
       "      <td>1.605400</td>\n",
       "      <td>-6.264182</td>\n",
       "      <td>-5.863664</td>\n",
       "      <td>1.205361</td>\n",
       "      <td>NaN</td>\n",
       "      <td>NaN</td>\n",
       "      <td>NaN</td>\n",
       "      <td>NaN</td>\n",
       "      <td>NaN</td>\n",
       "      <td>NaN</td>\n",
       "    </tr>\n",
       "    <tr>\n",
       "      <th>std</th>\n",
       "      <td>6.564178e+05</td>\n",
       "      <td>4233.906931</td>\n",
       "      <td>6.498952</td>\n",
       "      <td>792.869253</td>\n",
       "      <td>5.286742e+03</td>\n",
       "      <td>9.774362e+03</td>\n",
       "      <td>1.420201e+04</td>\n",
       "      <td>1373.805831</td>\n",
       "      <td>5224.959649</td>\n",
       "      <td>8.872270e+03</td>\n",
       "      <td>...</td>\n",
       "      <td>42.309229</td>\n",
       "      <td>25.537906</td>\n",
       "      <td>24.844514</td>\n",
       "      <td>29.981155</td>\n",
       "      <td>NaN</td>\n",
       "      <td>NaN</td>\n",
       "      <td>NaN</td>\n",
       "      <td>NaN</td>\n",
       "      <td>NaN</td>\n",
       "      <td>NaN</td>\n",
       "    </tr>\n",
       "    <tr>\n",
       "      <th>min</th>\n",
       "      <td>1.068628e+06</td>\n",
       "      <td>-2999.000000</td>\n",
       "      <td>0.000000</td>\n",
       "      <td>0.000000</td>\n",
       "      <td>0.000000e+00</td>\n",
       "      <td>0.000000e+00</td>\n",
       "      <td>0.000000e+00</td>\n",
       "      <td>0.000000</td>\n",
       "      <td>0.000000</td>\n",
       "      <td>0.000000e+00</td>\n",
       "      <td>...</td>\n",
       "      <td>0.000000</td>\n",
       "      <td>-99.000000</td>\n",
       "      <td>-99.000000</td>\n",
       "      <td>0.000000</td>\n",
       "      <td>NaN</td>\n",
       "      <td>NaN</td>\n",
       "      <td>NaN</td>\n",
       "      <td>NaN</td>\n",
       "      <td>NaN</td>\n",
       "      <td>NaN</td>\n",
       "    </tr>\n",
       "    <tr>\n",
       "      <th>25%</th>\n",
       "      <td>1.498574e+06</td>\n",
       "      <td>3.000000</td>\n",
       "      <td>4.000000</td>\n",
       "      <td>0.000000</td>\n",
       "      <td>0.000000e+00</td>\n",
       "      <td>0.000000e+00</td>\n",
       "      <td>0.000000e+00</td>\n",
       "      <td>0.000000</td>\n",
       "      <td>0.000000</td>\n",
       "      <td>0.000000e+00</td>\n",
       "      <td>...</td>\n",
       "      <td>0.000000</td>\n",
       "      <td>0.620000</td>\n",
       "      <td>0.640000</td>\n",
       "      <td>0.000000</td>\n",
       "      <td>NaN</td>\n",
       "      <td>NaN</td>\n",
       "      <td>NaN</td>\n",
       "      <td>NaN</td>\n",
       "      <td>NaN</td>\n",
       "      <td>NaN</td>\n",
       "    </tr>\n",
       "    <tr>\n",
       "      <th>50%</th>\n",
       "      <td>1.898033e+06</td>\n",
       "      <td>10.000000</td>\n",
       "      <td>8.000000</td>\n",
       "      <td>0.000000</td>\n",
       "      <td>0.000000e+00</td>\n",
       "      <td>0.000000e+00</td>\n",
       "      <td>0.000000e+00</td>\n",
       "      <td>0.000000</td>\n",
       "      <td>2.000000</td>\n",
       "      <td>4.000000e+00</td>\n",
       "      <td>...</td>\n",
       "      <td>0.000000</td>\n",
       "      <td>0.820000</td>\n",
       "      <td>0.800000</td>\n",
       "      <td>0.000000</td>\n",
       "      <td>NaN</td>\n",
       "      <td>NaN</td>\n",
       "      <td>NaN</td>\n",
       "      <td>NaN</td>\n",
       "      <td>NaN</td>\n",
       "      <td>NaN</td>\n",
       "    </tr>\n",
       "    <tr>\n",
       "      <th>75%</th>\n",
       "      <td>2.314826e+06</td>\n",
       "      <td>57.000000</td>\n",
       "      <td>8.000000</td>\n",
       "      <td>0.000000</td>\n",
       "      <td>1.200000e+01</td>\n",
       "      <td>2.500000e+01</td>\n",
       "      <td>3.600000e+01</td>\n",
       "      <td>6.000000</td>\n",
       "      <td>17.000000</td>\n",
       "      <td>3.400000e+01</td>\n",
       "      <td>...</td>\n",
       "      <td>0.000000</td>\n",
       "      <td>0.960000</td>\n",
       "      <td>0.950000</td>\n",
       "      <td>0.000000</td>\n",
       "      <td>NaN</td>\n",
       "      <td>NaN</td>\n",
       "      <td>NaN</td>\n",
       "      <td>NaN</td>\n",
       "      <td>NaN</td>\n",
       "      <td>NaN</td>\n",
       "    </tr>\n",
       "    <tr>\n",
       "      <th>max</th>\n",
       "      <td>3.284895e+06</td>\n",
       "      <td>673445.000000</td>\n",
       "      <td>52.000000</td>\n",
       "      <td>170976.000000</td>\n",
       "      <td>1.126656e+06</td>\n",
       "      <td>2.094336e+06</td>\n",
       "      <td>3.062016e+06</td>\n",
       "      <td>295197.000000</td>\n",
       "      <td>934593.000000</td>\n",
       "      <td>1.799099e+06</td>\n",
       "      <td>...</td>\n",
       "      <td>7392.000000</td>\n",
       "      <td>1.000000</td>\n",
       "      <td>1.000000</td>\n",
       "      <td>2999.000000</td>\n",
       "      <td>NaN</td>\n",
       "      <td>NaN</td>\n",
       "      <td>NaN</td>\n",
       "      <td>NaN</td>\n",
       "      <td>NaN</td>\n",
       "      <td>NaN</td>\n",
       "    </tr>\n",
       "  </tbody>\n",
       "</table>\n",
       "<p>11 rows × 23 columns</p>\n",
       "</div>"
      ],
      "text/plain": [
       "                 sku   national_inv     lead_time  in_transit_qty  \\\n",
       "count   6.158900e+04   61589.000000  58186.000000    61589.000000   \n",
       "unique           NaN            NaN           NaN             NaN   \n",
       "top              NaN            NaN           NaN             NaN   \n",
       "freq             NaN            NaN           NaN             NaN   \n",
       "mean    2.037188e+06     287.721882      7.559619       30.192843   \n",
       "std     6.564178e+05    4233.906931      6.498952      792.869253   \n",
       "min     1.068628e+06   -2999.000000      0.000000        0.000000   \n",
       "25%     1.498574e+06       3.000000      4.000000        0.000000   \n",
       "50%     1.898033e+06      10.000000      8.000000        0.000000   \n",
       "75%     2.314826e+06      57.000000      8.000000        0.000000   \n",
       "max     3.284895e+06  673445.000000     52.000000   170976.000000   \n",
       "\n",
       "        forecast_3_month  forecast_6_month  forecast_9_month  sales_1_month  \\\n",
       "count       6.158900e+04      6.158900e+04      6.158900e+04   61589.000000   \n",
       "unique               NaN               NaN               NaN            NaN   \n",
       "top                  NaN               NaN               NaN            NaN   \n",
       "freq                 NaN               NaN               NaN            NaN   \n",
       "mean        1.692728e+02      3.150413e+02      4.535760e+02      44.742957   \n",
       "std         5.286742e+03      9.774362e+03      1.420201e+04    1373.805831   \n",
       "min         0.000000e+00      0.000000e+00      0.000000e+00       0.000000   \n",
       "25%         0.000000e+00      0.000000e+00      0.000000e+00       0.000000   \n",
       "50%         0.000000e+00      0.000000e+00      0.000000e+00       0.000000   \n",
       "75%         1.200000e+01      2.500000e+01      3.600000e+01       6.000000   \n",
       "max         1.126656e+06      2.094336e+06      3.062016e+06  295197.000000   \n",
       "\n",
       "        sales_3_month  sales_6_month  ...  pieces_past_due  perf_6_month_avg  \\\n",
       "count    61589.000000   6.158900e+04  ...     61589.000000      61589.000000   \n",
       "unique            NaN            NaN  ...              NaN               NaN   \n",
       "top               NaN            NaN  ...              NaN               NaN   \n",
       "freq              NaN            NaN  ...              NaN               NaN   \n",
       "mean       150.732631   2.835465e+02  ...         1.605400         -6.264182   \n",
       "std       5224.959649   8.872270e+03  ...        42.309229         25.537906   \n",
       "min          0.000000   0.000000e+00  ...         0.000000        -99.000000   \n",
       "25%          0.000000   0.000000e+00  ...         0.000000          0.620000   \n",
       "50%          2.000000   4.000000e+00  ...         0.000000          0.820000   \n",
       "75%         17.000000   3.400000e+01  ...         0.000000          0.960000   \n",
       "max     934593.000000   1.799099e+06  ...      7392.000000          1.000000   \n",
       "\n",
       "       perf_12_month_avg  local_bo_qty  deck_risk  oe_constraint  ppap_risk  \\\n",
       "count       61589.000000  61589.000000      61589          61589      61589   \n",
       "unique               NaN           NaN          2              2          2   \n",
       "top                  NaN           NaN         No             No         No   \n",
       "freq                 NaN           NaN      48145          61577      53792   \n",
       "mean           -5.863664      1.205361        NaN            NaN        NaN   \n",
       "std            24.844514     29.981155        NaN            NaN        NaN   \n",
       "min           -99.000000      0.000000        NaN            NaN        NaN   \n",
       "25%             0.640000      0.000000        NaN            NaN        NaN   \n",
       "50%             0.800000      0.000000        NaN            NaN        NaN   \n",
       "75%             0.950000      0.000000        NaN            NaN        NaN   \n",
       "max             1.000000   2999.000000        NaN            NaN        NaN   \n",
       "\n",
       "       stop_auto_buy rev_stop went_on_backorder  \n",
       "count          61589    61589             61589  \n",
       "unique             2        2                 2  \n",
       "top              Yes       No                No  \n",
       "freq           59303    61569             50296  \n",
       "mean             NaN      NaN               NaN  \n",
       "std              NaN      NaN               NaN  \n",
       "min              NaN      NaN               NaN  \n",
       "25%              NaN      NaN               NaN  \n",
       "50%              NaN      NaN               NaN  \n",
       "75%              NaN      NaN               NaN  \n",
       "max              NaN      NaN               NaN  \n",
       "\n",
       "[11 rows x 23 columns]"
      ]
     },
     "execution_count": 9,
     "metadata": {},
     "output_type": "execute_result"
    }
   ],
   "source": [
    "data.describe(include='all')"
   ]
  },
  {
   "cell_type": "markdown",
   "metadata": {},
   "source": [
    "Display data type of each variable"
   ]
  },
  {
   "cell_type": "code",
   "execution_count": 10,
   "metadata": {},
   "outputs": [
    {
     "data": {
      "text/plain": [
       "sku                    int64\n",
       "national_inv           int64\n",
       "lead_time            float64\n",
       "in_transit_qty         int64\n",
       "forecast_3_month       int64\n",
       "forecast_6_month       int64\n",
       "forecast_9_month       int64\n",
       "sales_1_month          int64\n",
       "sales_3_month          int64\n",
       "sales_6_month          int64\n",
       "sales_9_month          int64\n",
       "min_bank               int64\n",
       "potential_issue       object\n",
       "pieces_past_due        int64\n",
       "perf_6_month_avg     float64\n",
       "perf_12_month_avg    float64\n",
       "local_bo_qty           int64\n",
       "deck_risk             object\n",
       "oe_constraint         object\n",
       "ppap_risk             object\n",
       "stop_auto_buy         object\n",
       "rev_stop              object\n",
       "went_on_backorder     object\n",
       "dtype: object"
      ]
     },
     "execution_count": 10,
     "metadata": {},
     "output_type": "execute_result"
    }
   ],
   "source": [
    "data.dtypes"
   ]
  },
  {
   "cell_type": "markdown",
   "metadata": {},
   "source": [
    "#### Observations\n",
    "\n",
    "    sku is Categorical but is interpreted as int64 \n",
    "    potential_issue, deck_risk, oe_constraint, ppap_risk, stop_auto_buy, rev_stop, and went_on_backorder are also categorical but is interpreted as object. "
   ]
  },
  {
   "cell_type": "markdown",
   "metadata": {},
   "source": [
    "#### Convert all the attributes to appropriate type"
   ]
  },
  {
   "cell_type": "markdown",
   "metadata": {},
   "source": [
    "Data type conversion\n",
    "\n",
    "    Using astype('category') to convert potential_issue, deck_risk, oe_constraint, ppap_risk, stop_auto_buy, rev_stop, and went_on_backorder attributes to categorical attributes.\n"
   ]
  },
  {
   "cell_type": "code",
   "execution_count": 11,
   "metadata": {},
   "outputs": [],
   "source": [
    "for col in ['sku', 'potential_issue', 'deck_risk', 'oe_constraint', 'ppap_risk', 'stop_auto_buy', 'rev_stop', 'went_on_backorder']:\n",
    "    data[col] = data[col].astype('category')"
   ]
  },
  {
   "cell_type": "markdown",
   "metadata": {},
   "source": [
    "Display data type of each variable"
   ]
  },
  {
   "cell_type": "code",
   "execution_count": 12,
   "metadata": {},
   "outputs": [
    {
     "data": {
      "text/plain": [
       "sku                  category\n",
       "national_inv            int64\n",
       "lead_time             float64\n",
       "in_transit_qty          int64\n",
       "forecast_3_month        int64\n",
       "forecast_6_month        int64\n",
       "forecast_9_month        int64\n",
       "sales_1_month           int64\n",
       "sales_3_month           int64\n",
       "sales_6_month           int64\n",
       "sales_9_month           int64\n",
       "min_bank                int64\n",
       "potential_issue      category\n",
       "pieces_past_due         int64\n",
       "perf_6_month_avg      float64\n",
       "perf_12_month_avg     float64\n",
       "local_bo_qty            int64\n",
       "deck_risk            category\n",
       "oe_constraint        category\n",
       "ppap_risk            category\n",
       "stop_auto_buy        category\n",
       "rev_stop             category\n",
       "went_on_backorder    category\n",
       "dtype: object"
      ]
     },
     "execution_count": 12,
     "metadata": {},
     "output_type": "execute_result"
    }
   ],
   "source": [
    "data.dtypes"
   ]
  },
  {
   "cell_type": "markdown",
   "metadata": {},
   "source": [
    "#### Delete sku attribute"
   ]
  },
  {
   "cell_type": "code",
   "execution_count": 13,
   "metadata": {},
   "outputs": [
    {
     "data": {
      "text/plain": [
       "61589"
      ]
     },
     "execution_count": 13,
     "metadata": {},
     "output_type": "execute_result"
    }
   ],
   "source": [
    "np.size(np.unique(data.sku, return_counts=True)[0])"
   ]
  },
  {
   "cell_type": "code",
   "execution_count": 14,
   "metadata": {},
   "outputs": [],
   "source": [
    "data.drop('sku', axis=1, inplace=True)"
   ]
  },
  {
   "cell_type": "markdown",
   "metadata": {},
   "source": [
    "#### Missing Data\n",
    "\n",
    "    Missing value analysis and dropping the records with missing values"
   ]
  },
  {
   "cell_type": "code",
   "execution_count": 15,
   "metadata": {},
   "outputs": [
    {
     "data": {
      "text/plain": [
       "national_inv            0\n",
       "lead_time            3403\n",
       "in_transit_qty          0\n",
       "forecast_3_month        0\n",
       "forecast_6_month        0\n",
       "forecast_9_month        0\n",
       "sales_1_month           0\n",
       "sales_3_month           0\n",
       "sales_6_month           0\n",
       "sales_9_month           0\n",
       "min_bank                0\n",
       "potential_issue         0\n",
       "pieces_past_due         0\n",
       "perf_6_month_avg        0\n",
       "perf_12_month_avg       0\n",
       "local_bo_qty            0\n",
       "deck_risk               0\n",
       "oe_constraint           0\n",
       "ppap_risk               0\n",
       "stop_auto_buy           0\n",
       "rev_stop                0\n",
       "went_on_backorder       0\n",
       "dtype: int64"
      ]
     },
     "execution_count": 15,
     "metadata": {},
     "output_type": "execute_result"
    }
   ],
   "source": [
    "data.isnull().sum()"
   ]
  },
  {
   "cell_type": "markdown",
   "metadata": {},
   "source": [
    "Observing the number of records before and after missing value records removal"
   ]
  },
  {
   "cell_type": "code",
   "execution_count": 16,
   "metadata": {},
   "outputs": [
    {
     "name": "stdout",
     "output_type": "stream",
     "text": [
      "(61589, 22)\n"
     ]
    }
   ],
   "source": [
    "print (data.shape)"
   ]
  },
  {
   "cell_type": "code",
   "execution_count": 17,
   "metadata": {},
   "outputs": [],
   "source": [
    "#Since the number of missing values is about 5%. For initial analysis we ignore all these records\n",
    "data = data.dropna(axis=0)"
   ]
  },
  {
   "cell_type": "code",
   "execution_count": 18,
   "metadata": {},
   "outputs": [
    {
     "name": "stdout",
     "output_type": "stream",
     "text": [
      "(58186, 22)\n"
     ]
    }
   ],
   "source": [
    "data.isnull().sum()\n",
    "print(data.shape)"
   ]
  },
  {
   "cell_type": "markdown",
   "metadata": {},
   "source": [
    "#### Converting Categorical to Numeric\n",
    "\n",
    "For some of the models all the independent attribute should be of type numeric and Linear Regression model is one among them.\n",
    "But this data set has some categorial attributes.\n",
    "\n",
    "'pandas.get_dummies' To convert convert categorical variable into dummy/indicator variables\n"
   ]
  },
  {
   "cell_type": "code",
   "execution_count": 19,
   "metadata": {},
   "outputs": [
    {
     "name": "stdout",
     "output_type": "stream",
     "text": [
      "Index(['national_inv', 'lead_time', 'in_transit_qty', 'forecast_3_month',\n",
      "       'forecast_6_month', 'forecast_9_month', 'sales_1_month',\n",
      "       'sales_3_month', 'sales_6_month', 'sales_9_month', 'min_bank',\n",
      "       'potential_issue', 'pieces_past_due', 'perf_6_month_avg',\n",
      "       'perf_12_month_avg', 'local_bo_qty', 'deck_risk', 'oe_constraint',\n",
      "       'ppap_risk', 'stop_auto_buy', 'rev_stop', 'went_on_backorder'],\n",
      "      dtype='object')\n"
     ]
    }
   ],
   "source": [
    "print (data.columns)"
   ]
  },
  {
   "cell_type": "markdown",
   "metadata": {},
   "source": [
    "Creating dummy variables.\n",
    "\n",
    "    If we have k levels in a category, then we create k-1 dummy variables as the last one would be redundant. So we use the parameter drop_first in pd.get_dummies function that drops the first level in each of the category\n"
   ]
  },
  {
   "cell_type": "code",
   "execution_count": 20,
   "metadata": {},
   "outputs": [],
   "source": [
    "categorical_Attributes = data.select_dtypes(include=['category']).columns"
   ]
  },
  {
   "cell_type": "code",
   "execution_count": 21,
   "metadata": {},
   "outputs": [],
   "source": [
    "data = pd.get_dummies(columns=categorical_Attributes, data=data, prefix=categorical_Attributes, prefix_sep=\"_\",drop_first=True)"
   ]
  },
  {
   "cell_type": "code",
   "execution_count": 22,
   "metadata": {},
   "outputs": [
    {
     "name": "stdout",
     "output_type": "stream",
     "text": [
      "Index(['national_inv', 'lead_time', 'in_transit_qty', 'forecast_3_month',\n",
      "       'forecast_6_month', 'forecast_9_month', 'sales_1_month',\n",
      "       'sales_3_month', 'sales_6_month', 'sales_9_month', 'min_bank',\n",
      "       'pieces_past_due', 'perf_6_month_avg', 'perf_12_month_avg',\n",
      "       'local_bo_qty', 'potential_issue_Yes', 'deck_risk_Yes',\n",
      "       'oe_constraint_Yes', 'ppap_risk_Yes', 'stop_auto_buy_Yes',\n",
      "       'rev_stop_Yes', 'went_on_backorder_Yes'],\n",
      "      dtype='object') (58186, 22)\n"
     ]
    }
   ],
   "source": [
    "print (data.columns, data.shape)"
   ]
  },
  {
   "cell_type": "markdown",
   "metadata": {},
   "source": [
    "#### Target attribute distribution"
   ]
  },
  {
   "cell_type": "code",
   "execution_count": 23,
   "metadata": {},
   "outputs": [
    {
     "data": {
      "text/plain": [
       "0    47217\n",
       "1    10969\n",
       "dtype: int64"
      ]
     },
     "execution_count": 23,
     "metadata": {},
     "output_type": "execute_result"
    }
   ],
   "source": [
    "pd.value_counts(data['went_on_backorder_Yes'].values)"
   ]
  },
  {
   "cell_type": "markdown",
   "metadata": {},
   "source": [
    "#### Split the data in to train and test\n",
    "\n",
    "sklearn.model_selection.train_test_split\n",
    "\n",
    "    Split arrays or matrices into random train and test subsets"
   ]
  },
  {
   "cell_type": "code",
   "execution_count": 24,
   "metadata": {},
   "outputs": [],
   "source": [
    "#Performing train test split on the data\n",
    "X, y = data.loc[:,data.columns!='went_on_backorder_Yes'].values, data.loc[:,'went_on_backorder_Yes'].values\n",
    "\n",
    "X_train, X_test, y_train, y_test = train_test_split(X, y, test_size=0.3, random_state=123)\n"
   ]
  },
  {
   "cell_type": "code",
   "execution_count": 25,
   "metadata": {},
   "outputs": [
    {
     "name": "stdout",
     "output_type": "stream",
     "text": [
      "0    33067\n",
      "1     7663\n",
      "dtype: int64\n",
      "0    14150\n",
      "1     3306\n",
      "dtype: int64\n"
     ]
    }
   ],
   "source": [
    "#To get the distribution in the target in train and test\n",
    "print(pd.value_counts(y_train))\n",
    "print(pd.value_counts(y_test))"
   ]
  },
  {
   "cell_type": "markdown",
   "metadata": {},
   "source": [
    "#### Perceptron Model Building"
   ]
  },
  {
   "cell_type": "code",
   "execution_count": 26,
   "metadata": {},
   "outputs": [],
   "source": [
    "perceptron_model = Sequential()\n",
    "\n",
    "perceptron_model.add(Dense(1, input_dim=X_train.shape[1], activation='sigmoid', kernel_initializer='normal'))"
   ]
  },
  {
   "cell_type": "code",
   "execution_count": 27,
   "metadata": {},
   "outputs": [],
   "source": [
    "perceptron_model.compile(loss='binary_crossentropy', optimizer='adam', metrics=['accuracy'])"
   ]
  },
  {
   "cell_type": "code",
   "execution_count": 28,
   "metadata": {},
   "outputs": [
    {
     "name": "stdout",
     "output_type": "stream",
     "text": [
      "Epoch 1/30\n",
      "40730/40730 [==============================] - 1s 29us/step - loss: 0.6324 - acc: 0.8034\n",
      "Epoch 2/30\n",
      "40730/40730 [==============================] - 1s 14us/step - loss: 0.4122 - acc: 0.8422\n",
      "Epoch 3/30\n",
      "40730/40730 [==============================] - 1s 15us/step - loss: 0.4030 - acc: 0.8467\n",
      "Epoch 4/30\n",
      "40730/40730 [==============================] - 1s 14us/step - loss: 0.4139 - acc: 0.8496\n",
      "Epoch 5/30\n",
      "40730/40730 [==============================] - 1s 15us/step - loss: 0.4062 - acc: 0.8543\n",
      "Epoch 6/30\n",
      "40730/40730 [==============================] - 1s 15us/step - loss: 0.4221 - acc: 0.8552\n",
      "Epoch 7/30\n",
      "40730/40730 [==============================] - 1s 16us/step - loss: 0.4087 - acc: 0.8575\n",
      "Epoch 8/30\n",
      "40730/40730 [==============================] - 1s 16us/step - loss: 0.4074 - acc: 0.8595\n",
      "Epoch 9/30\n",
      "40730/40730 [==============================] - 1s 14us/step - loss: 0.4779 - acc: 0.8603: 0s - loss: 0.4525 - ac\n",
      "Epoch 10/30\n",
      "40730/40730 [==============================] - 1s 15us/step - loss: 0.4134 - acc: 0.8649\n",
      "Epoch 11/30\n",
      "40730/40730 [==============================] - 1s 15us/step - loss: 0.4231 - acc: 0.8648\n",
      "Epoch 12/30\n",
      "40730/40730 [==============================] - 1s 15us/step - loss: 0.4187 - acc: 0.8632\n",
      "Epoch 13/30\n",
      "40730/40730 [==============================] - 1s 15us/step - loss: 0.4135 - acc: 0.8637\n",
      "Epoch 14/30\n",
      "40730/40730 [==============================] - 1s 15us/step - loss: 0.6161 - acc: 0.8462\n",
      "Epoch 15/30\n",
      "40730/40730 [==============================] - 1s 14us/step - loss: 0.4046 - acc: 0.8686: 0s - loss: 0.4246 - a\n",
      "Epoch 16/30\n",
      "40730/40730 [==============================] - 1s 14us/step - loss: 0.4019 - acc: 0.8681\n",
      "Epoch 17/30\n",
      "40730/40730 [==============================] - 1s 15us/step - loss: 0.4108 - acc: 0.8643\n",
      "Epoch 18/30\n",
      "40730/40730 [==============================] - 1s 14us/step - loss: 0.4099 - acc: 0.8649\n",
      "Epoch 19/30\n",
      "40730/40730 [==============================] - 1s 15us/step - loss: 0.4128 - acc: 0.8656\n",
      "Epoch 20/30\n",
      "40730/40730 [==============================] - 1s 15us/step - loss: 0.4078 - acc: 0.8663\n",
      "Epoch 21/30\n",
      "40730/40730 [==============================] - 1s 14us/step - loss: 0.4178 - acc: 0.8641\n",
      "Epoch 22/30\n",
      "40730/40730 [==============================] - 1s 15us/step - loss: 0.4591 - acc: 0.8620\n",
      "Epoch 23/30\n",
      "40730/40730 [==============================] - 1s 14us/step - loss: 0.4001 - acc: 0.8681\n",
      "Epoch 24/30\n",
      "40730/40730 [==============================] - 1s 14us/step - loss: 0.4145 - acc: 0.8646\n",
      "Epoch 25/30\n",
      "40730/40730 [==============================] - 1s 15us/step - loss: 0.4084 - acc: 0.8643\n",
      "Epoch 26/30\n",
      "40730/40730 [==============================] - 1s 14us/step - loss: 0.4059 - acc: 0.8643\n",
      "Epoch 27/30\n",
      "40730/40730 [==============================] - 1s 14us/step - loss: 0.4167 - acc: 0.8636\n",
      "Epoch 28/30\n",
      "40730/40730 [==============================] - 1s 14us/step - loss: 0.4631 - acc: 0.8598\n",
      "Epoch 29/30\n",
      "40730/40730 [==============================] - 1s 14us/step - loss: 0.4031 - acc: 0.8688\n",
      "Epoch 30/30\n",
      "40730/40730 [==============================] - 1s 14us/step - loss: 0.4081 - acc: 0.8666\n"
     ]
    },
    {
     "data": {
      "text/plain": [
       "<keras.callbacks.History at 0x1d9576adef0>"
      ]
     },
     "execution_count": 28,
     "metadata": {},
     "output_type": "execute_result"
    }
   ],
   "source": [
    "perceptron_model.fit(X_train, y_train, epochs=30, batch_size=64)"
   ]
  },
  {
   "cell_type": "markdown",
   "metadata": {},
   "source": [
    "#### Predictions"
   ]
  },
  {
   "cell_type": "code",
   "execution_count": 29,
   "metadata": {},
   "outputs": [],
   "source": [
    "test_pred=perceptron_model.predict_classes(X_test)\n",
    "train_pred=perceptron_model.predict_classes(X_train)"
   ]
  },
  {
   "cell_type": "markdown",
   "metadata": {},
   "source": [
    "#### Getting evaluation metrics and evaluating model performance"
   ]
  },
  {
   "cell_type": "code",
   "execution_count": 30,
   "metadata": {},
   "outputs": [
    {
     "name": "stdout",
     "output_type": "stream",
     "text": [
      "[[32443   624]\n",
      " [ 5318  2345]]\n",
      "[[13851   299]\n",
      " [ 2341   965]]\n"
     ]
    }
   ],
   "source": [
    "confusion_matrix_test = confusion_matrix(y_test, test_pred)\n",
    "confusion_matrix_train = confusion_matrix(y_train, train_pred)\n",
    "\n",
    "print(confusion_matrix_train)\n",
    "print(confusion_matrix_test)"
   ]
  },
  {
   "cell_type": "markdown",
   "metadata": {},
   "source": [
    "#### Calculate Accuracy, True Positive Rate and True Negative Rates"
   ]
  },
  {
   "cell_type": "code",
   "execution_count": 31,
   "metadata": {},
   "outputs": [
    {
     "name": "stdout",
     "output_type": "stream",
     "text": [
      "Train TNR:  0.9811292224876765\n",
      "Train TPR:  0.3060159206577059\n",
      "Train Accuracy:  0.8541124478271545\n"
     ]
    }
   ],
   "source": [
    "Accuracy_Train = (confusion_matrix_train[0,0]+confusion_matrix_train[1,1])/(confusion_matrix_train[0,0]+confusion_matrix_train[0,1]+confusion_matrix_train[1,0]+confusion_matrix_train[1,1])\n",
    "TNR_Train = confusion_matrix_train[0,0]/(confusion_matrix_train[0,0]+confusion_matrix_train[0,1])\n",
    "TPR_Train = confusion_matrix_train[1,1]/(confusion_matrix_train[1,0]+confusion_matrix_train[1,1])\n",
    "\n",
    "print(\"Train TNR: \",TNR_Train)\n",
    "print(\"Train TPR: \",TPR_Train)\n",
    "print(\"Train Accuracy: \",Accuracy_Train)"
   ]
  },
  {
   "cell_type": "code",
   "execution_count": 32,
   "metadata": {},
   "outputs": [
    {
     "name": "stdout",
     "output_type": "stream",
     "text": [
      "Test TNR:  0.97886925795053\n",
      "Test TPR:  0.29189352692075016\n",
      "Test Accuracy:  0.8487626031164069\n"
     ]
    }
   ],
   "source": [
    "Accuracy_Test = (confusion_matrix_test[0,0]+confusion_matrix_test[1,1])/(confusion_matrix_test[0,0]+confusion_matrix_test[0,1]+confusion_matrix_test[1,0]+confusion_matrix_test[1,1])\n",
    "TNR_Test = confusion_matrix_test[0,0]/(confusion_matrix_test[0,0] +confusion_matrix_test[0,1])\n",
    "TPR_Test = confusion_matrix_test[1,1]/(confusion_matrix_test[1,0] +confusion_matrix_test[1,1])\n",
    "\n",
    "print(\"Test TNR: \",TNR_Test)\n",
    "print(\"Test TPR: \",TPR_Test)\n",
    "print(\"Test Accuracy: \",Accuracy_Test)"
   ]
  },
  {
   "cell_type": "markdown",
   "metadata": {},
   "source": [
    "#### Plotting ROC curve to modify the threshold if necessary"
   ]
  },
  {
   "cell_type": "markdown",
   "metadata": {},
   "source": [
    "1. Initially we have predicted the classes. This was easy because, by default the threshold was fixed at 0.5. Hence the probabilities got converted to 0 or 1 based on probability for that record\n",
    "2. Now  the values of 0's and 1's itself are not sufficient to get the ROC curve. We need to have the probabilities.\n",
    "3. We have a function called predict_proba that generates probalility for success which can be used for plotting ROC\n"
   ]
  },
  {
   "cell_type": "code",
   "execution_count": 33,
   "metadata": {},
   "outputs": [],
   "source": [
    "train_pred_prob=perceptron_model.predict(X_train)"
   ]
  },
  {
   "cell_type": "code",
   "execution_count": 34,
   "metadata": {},
   "outputs": [
    {
     "name": "stdout",
     "output_type": "stream",
     "text": [
      "[[6.1375797e-37]\n",
      " [4.8655856e-01]\n",
      " [4.3205869e-01]\n",
      " ...\n",
      " [3.7598747e-01]\n",
      " [3.1340010e-02]\n",
      " [2.7165997e-01]]\n"
     ]
    }
   ],
   "source": [
    "print (train_pred_prob)"
   ]
  },
  {
   "cell_type": "markdown",
   "metadata": {},
   "source": [
    "#### Getting ROC curve to adjust the threshold "
   ]
  },
  {
   "cell_type": "code",
   "execution_count": 35,
   "metadata": {},
   "outputs": [],
   "source": [
    "fpr, tpr, thresholds = roc_curve(y_train, train_pred_prob)\n",
    "roc_auc = auc(fpr, tpr)"
   ]
  },
  {
   "cell_type": "markdown",
   "metadata": {},
   "source": [
    "#### Using matplotlib for plotting the ROC curve "
   ]
  },
  {
   "cell_type": "code",
   "execution_count": 36,
   "metadata": {},
   "outputs": [
    {
     "data": {
      "image/png": "[encoded data removed]",
      "text/plain": [
       "<Figure size 432x288 with 1 Axes>"
      ]
     },
     "metadata": {
      "needs_background": "light"
     },
     "output_type": "display_data"
    }
   ],
   "source": [
    "plt.figure()\n",
    "lw = 2\n",
    "plt.plot(fpr,tpr, color='darkorange',\n",
    "         lw=lw, label='ROC curve (area = %0.2f)' % roc_auc)\n",
    "plt.plot([0, 1], [0, 1], color='navy', lw=lw, linestyle='--')\n",
    "plt.xlim([0.0, 1.0])\n",
    "plt.ylim([0.0, 1.05])\n",
    "plt.xlabel('FPR')\n",
    "plt.ylabel('TPR')\n",
    "plt.title('Receiver operating characteristic example')\n",
    "plt.legend(loc=\"lower right\")\n",
    "plt.show()"
   ]
  },
  {
   "cell_type": "markdown",
   "metadata": {},
   "source": [
    "#### MLP Model Building"
   ]
  },
  {
   "cell_type": "code",
   "execution_count": 37,
   "metadata": {},
   "outputs": [],
   "source": [
    "mlp_model = Sequential()\n",
    "\n",
    "mlp_model.add(Dense(12, input_dim=X_train.shape[1], activation='relu', kernel_initializer='glorot_normal'))\n",
    "mlp_model.add(Dense(8, activation='relu', kernel_initializer='normal'))\n",
    "mlp_model.add(Dense(1, activation='sigmoid', kernel_initializer='normal'))"
   ]
  },
  {
   "cell_type": "code",
   "execution_count": 38,
   "metadata": {},
   "outputs": [],
   "source": [
    "mlp_model.compile(loss='binary_crossentropy', optimizer='adam', metrics=['accuracy'])"
   ]
  },
  {
   "cell_type": "code",
   "execution_count": 39,
   "metadata": {},
   "outputs": [
    {
     "name": "stdout",
     "output_type": "stream",
     "text": [
      "Epoch 1/30\n",
      "40730/40730 [==============================] - 1s 31us/step - loss: 0.3589 - acc: 0.8227\n",
      "Epoch 2/30\n",
      "40730/40730 [==============================] - 1s 17us/step - loss: 0.2943 - acc: 0.8853\n",
      "Epoch 3/30\n",
      "40730/40730 [==============================] - 1s 17us/step - loss: 0.2810 - acc: 0.8918\n",
      "Epoch 4/30\n",
      "40730/40730 [==============================] - 1s 17us/step - loss: 0.2726 - acc: 0.8939\n",
      "Epoch 5/30\n",
      "40730/40730 [==============================] - 1s 17us/step - loss: 0.2648 - acc: 0.8964\n",
      "Epoch 6/30\n",
      "40730/40730 [==============================] - 1s 17us/step - loss: 0.2609 - acc: 0.8962\n",
      "Epoch 7/30\n",
      "40730/40730 [==============================] - 1s 17us/step - loss: 0.2556 - acc: 0.8980\n",
      "Epoch 8/30\n",
      "40730/40730 [==============================] - 1s 17us/step - loss: 0.2531 - acc: 0.8972\n",
      "Epoch 9/30\n",
      "40730/40730 [==============================] - 1s 18us/step - loss: 0.2526 - acc: 0.8982\n",
      "Epoch 10/30\n",
      "40730/40730 [==============================] - 1s 17us/step - loss: 0.2493 - acc: 0.8988\n",
      "Epoch 11/30\n",
      "40730/40730 [==============================] - 1s 17us/step - loss: 0.2509 - acc: 0.8973\n",
      "Epoch 12/30\n",
      "40730/40730 [==============================] - 1s 17us/step - loss: 0.2476 - acc: 0.8988\n",
      "Epoch 13/30\n",
      "40730/40730 [==============================] - 1s 17us/step - loss: 0.2467 - acc: 0.9002\n",
      "Epoch 14/30\n",
      "40730/40730 [==============================] - 1s 17us/step - loss: 0.2466 - acc: 0.8991\n",
      "Epoch 15/30\n",
      "40730/40730 [==============================] - 1s 18us/step - loss: 0.2451 - acc: 0.9005\n",
      "Epoch 16/30\n",
      "40730/40730 [==============================] - 1s 17us/step - loss: 0.2434 - acc: 0.9014\n",
      "Epoch 17/30\n",
      "40730/40730 [==============================] - 1s 17us/step - loss: 0.2464 - acc: 0.8993\n",
      "Epoch 18/30\n",
      "40730/40730 [==============================] - 1s 18us/step - loss: 0.2478 - acc: 0.9005\n",
      "Epoch 19/30\n",
      "40730/40730 [==============================] - 1s 18us/step - loss: 0.2437 - acc: 0.9009\n",
      "Epoch 20/30\n",
      "40730/40730 [==============================] - 1s 17us/step - loss: 0.2426 - acc: 0.9015\n",
      "Epoch 21/30\n",
      "40730/40730 [==============================] - 1s 17us/step - loss: 0.2421 - acc: 0.9012\n",
      "Epoch 22/30\n",
      "40730/40730 [==============================] - 1s 17us/step - loss: 0.2451 - acc: 0.9007\n",
      "Epoch 23/30\n",
      "40730/40730 [==============================] - 1s 17us/step - loss: 0.2419 - acc: 0.9020\n",
      "Epoch 24/30\n",
      "40730/40730 [==============================] - 1s 17us/step - loss: 0.2425 - acc: 0.9010\n",
      "Epoch 25/30\n",
      "40730/40730 [==============================] - 1s 17us/step - loss: 0.2395 - acc: 0.9027\n",
      "Epoch 26/30\n",
      "40730/40730 [==============================] - 1s 17us/step - loss: 0.2398 - acc: 0.9024\n",
      "Epoch 27/30\n",
      "40730/40730 [==============================] - 1s 17us/step - loss: 0.2414 - acc: 0.9020\n",
      "Epoch 28/30\n",
      "40730/40730 [==============================] - 1s 17us/step - loss: 0.2388 - acc: 0.9025\n",
      "Epoch 29/30\n",
      "40730/40730 [==============================] - 1s 17us/step - loss: 0.2385 - acc: 0.9021\n",
      "Epoch 30/30\n",
      "40730/40730 [==============================] - 1s 18us/step - loss: 0.2387 - acc: 0.9025\n"
     ]
    },
    {
     "data": {
      "text/plain": [
       "<keras.callbacks.History at 0x1d958b13550>"
      ]
     },
     "execution_count": 39,
     "metadata": {},
     "output_type": "execute_result"
    }
   ],
   "source": [
    "mlp_model.fit(X_train, y_train, epochs=30, batch_size=64)"
   ]
  },
  {
   "cell_type": "markdown",
   "metadata": {},
   "source": [
    "#### Predictions"
   ]
  },
  {
   "cell_type": "code",
   "execution_count": 40,
   "metadata": {},
   "outputs": [],
   "source": [
    "test_pred=mlp_model.predict_classes(X_test)\n",
    "train_pred=mlp_model.predict_classes(X_train)"
   ]
  },
  {
   "cell_type": "markdown",
   "metadata": {},
   "source": [
    "#### Getting evaluation metrics and evaluating model performance"
   ]
  },
  {
   "cell_type": "code",
   "execution_count": 41,
   "metadata": {},
   "outputs": [
    {
     "name": "stdout",
     "output_type": "stream",
     "text": [
      "[[31451  1616]\n",
      " [ 2358  5305]]\n",
      "[[13436   714]\n",
      " [  998  2308]]\n"
     ]
    }
   ],
   "source": [
    "confusion_matrix_test = confusion_matrix(y_test, test_pred)\n",
    "confusion_matrix_train = confusion_matrix(y_train, train_pred)\n",
    "\n",
    "print(confusion_matrix_train)\n",
    "print(confusion_matrix_test)"
   ]
  },
  {
   "cell_type": "markdown",
   "metadata": {},
   "source": [
    "#### Calculate Accuracy, True Positive Rate and True Negative Rates"
   ]
  },
  {
   "cell_type": "code",
   "execution_count": 42,
   "metadata": {},
   "outputs": [
    {
     "name": "stdout",
     "output_type": "stream",
     "text": [
      "Train TNR:  0.9511295249039828\n",
      "Train TPR:  0.69228761581626\n",
      "Train Accuracy:  0.9024306408053032\n"
     ]
    }
   ],
   "source": [
    "Accuracy_Train=(confusion_matrix_train[0,0]+confusion_matrix_train[1,1])/(confusion_matrix_train[0,0]+confusion_matrix_train[0,1]+confusion_matrix_train[1,0]+confusion_matrix_train[1,1])\n",
    "TNR_Train= confusion_matrix_train[0,0]/(confusion_matrix_train[0,0]+confusion_matrix_train[0,1])\n",
    "TPR_Train= confusion_matrix_train[1,1]/(confusion_matrix_train[1,0]+confusion_matrix_train[1,1])\n",
    "\n",
    "print(\"Train TNR: \",TNR_Train)\n",
    "print(\"Train TPR: \",TPR_Train)\n",
    "print(\"Train Accuracy: \",Accuracy_Train)"
   ]
  },
  {
   "cell_type": "code",
   "execution_count": 43,
   "metadata": {},
   "outputs": [
    {
     "name": "stdout",
     "output_type": "stream",
     "text": [
      "Test TNR:  0.9495406360424028\n",
      "Test TPR:  0.6981246218995766\n",
      "Test Accuracy:  0.9019248395967002\n"
     ]
    }
   ],
   "source": [
    "Accuracy_Test=(confusion_matrix_test[0,0]+confusion_matrix_test[1,1])/(confusion_matrix_test[0,0]+confusion_matrix_test[0,1]+confusion_matrix_test[1,0]+confusion_matrix_test[1,1])\n",
    "TNR_Test= confusion_matrix_test[0,0]/(confusion_matrix_test[0,0] +confusion_matrix_test[0,1])\n",
    "TPR_Test= confusion_matrix_test[1,1]/(confusion_matrix_test[1,0] +confusion_matrix_test[1,1])\n",
    "\n",
    "print(\"Test TNR: \",TNR_Test)\n",
    "print(\"Test TPR: \",TPR_Test)\n",
    "print(\"Test Accuracy: \",Accuracy_Test)"
   ]
  },
  {
   "cell_type": "markdown",
   "metadata": {},
   "source": [
    "#### Plotting ROC curve to modify the threshold if necessary"
   ]
  },
  {
   "cell_type": "code",
   "execution_count": 44,
   "metadata": {},
   "outputs": [],
   "source": [
    "train_pred_prob=mlp_model.predict(X_train)"
   ]
  },
  {
   "cell_type": "code",
   "execution_count": 45,
   "metadata": {},
   "outputs": [
    {
     "name": "stdout",
     "output_type": "stream",
     "text": [
      "[[3.0999226e-07]\n",
      " [8.0560833e-01]\n",
      " [6.3126367e-01]\n",
      " ...\n",
      " [2.7321979e-01]\n",
      " [1.2387266e-01]\n",
      " [1.8899086e-01]]\n"
     ]
    }
   ],
   "source": [
    "print (train_pred_prob)"
   ]
  },
  {
   "cell_type": "markdown",
   "metadata": {},
   "source": [
    "#### Getting ROC curve to adjust the threshold "
   ]
  },
  {
   "cell_type": "code",
   "execution_count": 46,
   "metadata": {},
   "outputs": [],
   "source": [
    "fpr, tpr, thresholds = roc_curve(y_train, train_pred_prob)\n",
    "roc_auc = auc(fpr, tpr)"
   ]
  },
  {
   "cell_type": "markdown",
   "metadata": {},
   "source": [
    "#### Using matplotlib for plotting the ROC curve "
   ]
  },
  {
   "cell_type": "code",
   "execution_count": 47,
   "metadata": {},
   "outputs": [
    {
     "data": {
      "image/png": "[encoded data removed]",
      "text/plain": [
       "<Figure size 432x288 with 1 Axes>"
      ]
     },
     "metadata": {
      "needs_background": "light"
     },
     "output_type": "display_data"
    }
   ],
   "source": [
    "plt.figure()\n",
    "lw = 2\n",
    "plt.plot(fpr,tpr, color='darkorange',\n",
    "         lw=lw, label='ROC curve (area = %0.2f)' % roc_auc)\n",
    "plt.plot([0, 1], [0, 1], color='navy', lw=lw, linestyle='--')\n",
    "plt.xlim([0.0, 1.0])\n",
    "plt.ylim([0.0, 1.05])\n",
    "plt.xlabel('FPR')\n",
    "plt.ylabel('TPR')\n",
    "plt.title('Receiver operating characteristic example')\n",
    "plt.legend(loc=\"lower right\")\n",
    "plt.show()"
   ]
  },
  {
   "cell_type": "markdown",
   "metadata": {},
   "source": [
    "#### Derive new non-linear features using autoencoder"
   ]
  },
  {
   "cell_type": "code",
   "execution_count": 48,
   "metadata": {},
   "outputs": [],
   "source": [
    "# The size of encoded and actual representations\n",
    "encoding_dim = 16 \n",
    "actual_dim = X_train.shape[1]"
   ]
  },
  {
   "cell_type": "code",
   "execution_count": 49,
   "metadata": {},
   "outputs": [],
   "source": [
    "# Input placeholder\n",
    "input_img = \n",
    "\n",
    "# \"encoded\" is the encoded representation of the input\n",
    "encoded = \n",
    "\n",
    "# \"decoded\" is the lossy reconstruction of the input\n",
    "decoded = "
   ]
  },
  {
   "cell_type": "code",
   "execution_count": 50,
   "metadata": {},
   "outputs": [],
   "source": [
    "# this model maps an input to its reconstruction\n",
    "autoencoder = "
   ]
  },
  {
   "cell_type": "code",
   "execution_count": 51,
   "metadata": {},
   "outputs": [
    {
     "name": "stdout",
     "output_type": "stream",
     "text": [
      "_________________________________________________________________\n",
      "Layer (type)                 Output Shape              Param #   \n",
      "=================================================================\n",
      "input_1 (InputLayer)         (None, 21)                0         \n",
      "_________________________________________________________________\n",
      "dense_5 (Dense)              (None, 16)                352       \n",
      "_________________________________________________________________\n",
      "dense_6 (Dense)              (None, 21)                357       \n",
      "=================================================================\n",
      "Total params: 709\n",
      "Trainable params: 709\n",
      "Non-trainable params: 0\n",
      "_________________________________________________________________\n",
      "None\n"
     ]
    }
   ],
   "source": [
    "print(autoencoder.summary())"
   ]
  },
  {
   "cell_type": "code",
   "execution_count": 52,
   "metadata": {},
   "outputs": [],
   "source": [
    "           .compile(optimizer='adadelta', loss='binary_crossentropy')"
   ]
  },
  {
   "cell_type": "code",
   "execution_count": 53,
   "metadata": {},
   "outputs": [
    {
     "name": "stdout",
     "output_type": "stream",
     "text": [
      "Epoch 1/100\n",
      "40730/40730 [==============================] - 2s 49us/step - loss: -1719.2047\n",
      "Epoch 2/100\n",
      "40730/40730 [==============================] - 1s 33us/step - loss: -1766.3491\n",
      "Epoch 3/100\n",
      "40730/40730 [==============================] - 1s 33us/step - loss: -1766.5801\n",
      "Epoch 4/100\n",
      "40730/40730 [==============================] - 1s 34us/step - loss: -1767.2211\n",
      "Epoch 5/100\n",
      "40730/40730 [==============================] - 1s 34us/step - loss: -1767.6856\n",
      "Epoch 6/100\n",
      "40730/40730 [==============================] - 1s 34us/step - loss: -1768.0889\n",
      "Epoch 7/100\n",
      "40730/40730 [==============================] - 1s 34us/step - loss: -1768.3105\n",
      "Epoch 8/100\n",
      "40730/40730 [==============================] - 1s 34us/step - loss: -1768.3487\n",
      "Epoch 9/100\n",
      "40730/40730 [==============================] - 1s 34us/step - loss: -1768.8001\n",
      "Epoch 10/100\n",
      "40730/40730 [==============================] - 1s 33us/step - loss: -1769.0821\n",
      "Epoch 11/100\n",
      "40730/40730 [==============================] - 1s 35us/step - loss: -1769.0129\n",
      "Epoch 12/100\n",
      "40730/40730 [==============================] - 1s 34us/step - loss: -1769.0032\n",
      "Epoch 13/100\n",
      "40730/40730 [==============================] - 1s 34us/step - loss: -1769.1911\n",
      "Epoch 14/100\n",
      "40730/40730 [==============================] - 1s 34us/step - loss: -1769.1833\n",
      "Epoch 15/100\n",
      "40730/40730 [==============================] - 1s 34us/step - loss: -1769.3047\n",
      "Epoch 16/100\n",
      "40730/40730 [==============================] - 1s 34us/step - loss: -1769.2482\n",
      "Epoch 17/100\n",
      "40730/40730 [==============================] - 1s 34us/step - loss: -1769.3693\n",
      "Epoch 18/100\n",
      "40730/40730 [==============================] - 1s 34us/step - loss: -1769.3989\n",
      "Epoch 19/100\n",
      "40730/40730 [==============================] - 1s 34us/step - loss: -1769.4112\n",
      "Epoch 20/100\n",
      "40730/40730 [==============================] - 1s 34us/step - loss: -1769.4231\n",
      "Epoch 21/100\n",
      "40730/40730 [==============================] - 1s 35us/step - loss: -1769.5328\n",
      "Epoch 22/100\n",
      "40730/40730 [==============================] - 1s 36us/step - loss: -1769.4961\n",
      "Epoch 23/100\n",
      "40730/40730 [==============================] - 1s 33us/step - loss: -1769.4770\n",
      "Epoch 24/100\n",
      "40730/40730 [==============================] - 1s 34us/step - loss: -1769.5736: 0s - lo\n",
      "Epoch 25/100\n",
      "40730/40730 [==============================] - 1s 35us/step - loss: -1769.5270\n",
      "Epoch 26/100\n",
      "40730/40730 [==============================] - 1s 33us/step - loss: -1769.5640\n",
      "Epoch 27/100\n",
      "40730/40730 [==============================] - 1s 34us/step - loss: -1769.5685\n",
      "Epoch 28/100\n",
      "40730/40730 [==============================] - 1s 35us/step - loss: -1769.5485\n",
      "Epoch 29/100\n",
      "40730/40730 [==============================] - 1s 35us/step - loss: -1769.6005\n",
      "Epoch 30/100\n",
      "40730/40730 [==============================] - 1s 34us/step - loss: -1769.6391\n",
      "Epoch 31/100\n",
      "40730/40730 [==============================] - 1s 35us/step - loss: -1769.5978\n",
      "Epoch 32/100\n",
      "40730/40730 [==============================] - 1s 35us/step - loss: -1769.7236\n",
      "Epoch 33/100\n",
      "40730/40730 [==============================] - 1s 35us/step - loss: -1769.7399\n",
      "Epoch 34/100\n",
      "40730/40730 [==============================] - 1s 35us/step - loss: -1769.6558\n",
      "Epoch 35/100\n",
      "40730/40730 [==============================] - 1s 33us/step - loss: -1769.8461\n",
      "Epoch 36/100\n",
      "40730/40730 [==============================] - 1s 34us/step - loss: -1769.7302\n",
      "Epoch 37/100\n",
      "40730/40730 [==============================] - 1s 35us/step - loss: -1769.7632\n",
      "Epoch 38/100\n",
      "40730/40730 [==============================] - 1s 35us/step - loss: -1769.7482\n",
      "Epoch 39/100\n",
      "40730/40730 [==============================] - 1s 34us/step - loss: -1769.7905\n",
      "Epoch 40/100\n",
      "40730/40730 [==============================] - 1s 35us/step - loss: -1769.7525\n",
      "Epoch 41/100\n",
      "40730/40730 [==============================] - 1s 34us/step - loss: -1769.7829\n",
      "Epoch 42/100\n",
      "40730/40730 [==============================] - 1s 34us/step - loss: -1769.7184\n",
      "Epoch 43/100\n",
      "40730/40730 [==============================] - 1s 35us/step - loss: -1769.7407\n",
      "Epoch 44/100\n",
      "40730/40730 [==============================] - 1s 35us/step - loss: -1769.8000\n",
      "Epoch 45/100\n",
      "40730/40730 [==============================] - 1s 34us/step - loss: -1769.7922\n",
      "Epoch 46/100\n",
      "40730/40730 [==============================] - 1s 34us/step - loss: -1769.7900\n",
      "Epoch 47/100\n",
      "40730/40730 [==============================] - 1s 34us/step - loss: -1769.7699\n",
      "Epoch 48/100\n",
      "40730/40730 [==============================] - 1s 35us/step - loss: -1769.7995\n",
      "Epoch 49/100\n",
      "40730/40730 [==============================] - 1s 36us/step - loss: -1769.8052\n",
      "Epoch 50/100\n",
      "40730/40730 [==============================] - 1s 37us/step - loss: -1769.7756\n",
      "Epoch 51/100\n",
      "40730/40730 [==============================] - 1s 34us/step - loss: -1769.8732\n",
      "Epoch 52/100\n",
      "40730/40730 [==============================] - 1s 35us/step - loss: -1769.8125\n",
      "Epoch 53/100\n",
      "40730/40730 [==============================] - 1s 33us/step - loss: -1769.8301\n",
      "Epoch 54/100\n",
      "40730/40730 [==============================] - 1s 35us/step - loss: -1769.8376\n",
      "Epoch 55/100\n",
      "40730/40730 [==============================] - 1s 32us/step - loss: -1769.7649\n",
      "Epoch 56/100\n",
      "40730/40730 [==============================] - 1s 31us/step - loss: -1769.8412\n",
      "Epoch 57/100\n",
      "40730/40730 [==============================] - 1s 30us/step - loss: -1769.7804\n",
      "Epoch 58/100\n",
      "40730/40730 [==============================] - 1s 31us/step - loss: -1769.8335\n",
      "Epoch 59/100\n",
      "40730/40730 [==============================] - 1s 32us/step - loss: -1769.7770\n",
      "Epoch 60/100\n",
      "40730/40730 [==============================] - 1s 36us/step - loss: -1769.8188\n",
      "Epoch 61/100\n",
      "40730/40730 [==============================] - 1s 35us/step - loss: -1769.8493\n",
      "Epoch 62/100\n",
      "40730/40730 [==============================] - 1s 33us/step - loss: -1769.9103\n",
      "Epoch 63/100\n",
      "40730/40730 [==============================] - 1s 33us/step - loss: -1769.9091\n",
      "Epoch 64/100\n",
      "40730/40730 [==============================] - 1s 35us/step - loss: -1769.6388\n",
      "Epoch 65/100\n",
      "40730/40730 [==============================] - 1s 36us/step - loss: -1769.5832\n",
      "Epoch 66/100\n",
      "40730/40730 [==============================] - 1s 34us/step - loss: -1769.6801\n",
      "Epoch 67/100\n",
      "40730/40730 [==============================] - 1s 34us/step - loss: -1769.6896\n",
      "Epoch 68/100\n",
      "40730/40730 [==============================] - 1s 35us/step - loss: -1769.6786\n",
      "Epoch 69/100\n",
      "40730/40730 [==============================] - 1s 35us/step - loss: -1769.6941\n",
      "Epoch 70/100\n",
      "40730/40730 [==============================] - 1s 36us/step - loss: -1769.7061\n",
      "Epoch 71/100\n",
      "40730/40730 [==============================] - 2s 37us/step - loss: -1769.6538\n",
      "Epoch 72/100\n",
      "40730/40730 [==============================] - 2s 37us/step - loss: -1769.6934\n",
      "Epoch 73/100\n",
      "40730/40730 [==============================] - 1s 34us/step - loss: -1769.6785\n",
      "Epoch 74/100\n",
      "40730/40730 [==============================] - 1s 35us/step - loss: -1769.7218\n",
      "Epoch 75/100\n",
      "40730/40730 [==============================] - 1s 34us/step - loss: -1769.6963\n",
      "Epoch 76/100\n",
      "40730/40730 [==============================] - 1s 34us/step - loss: -1769.6999\n",
      "Epoch 77/100\n",
      "40730/40730 [==============================] - 1s 35us/step - loss: -1769.6617\n",
      "Epoch 78/100\n",
      "40730/40730 [==============================] - 1s 34us/step - loss: -1769.7356\n",
      "Epoch 79/100\n",
      "40730/40730 [==============================] - 1s 36us/step - loss: -1769.6730\n",
      "Epoch 80/100\n",
      "40730/40730 [==============================] - 1s 35us/step - loss: -1769.7019\n",
      "Epoch 81/100\n",
      "40730/40730 [==============================] - 1s 34us/step - loss: -1769.7190\n",
      "Epoch 82/100\n",
      "40730/40730 [==============================] - 1s 36us/step - loss: -1769.7087\n",
      "Epoch 83/100\n",
      "40730/40730 [==============================] - 1s 35us/step - loss: -1769.7116\n",
      "Epoch 84/100\n",
      "40730/40730 [==============================] - 1s 35us/step - loss: -1769.7016\n",
      "Epoch 85/100\n",
      "40730/40730 [==============================] - 2s 39us/step - loss: -1769.7262\n",
      "Epoch 86/100\n",
      "40730/40730 [==============================] - 2s 37us/step - loss: -1769.6885\n",
      "Epoch 87/100\n",
      "40730/40730 [==============================] - 1s 35us/step - loss: -1769.7405\n",
      "Epoch 88/100\n",
      "40730/40730 [==============================] - 1s 36us/step - loss: -1769.7178\n",
      "Epoch 89/100\n",
      "40730/40730 [==============================] - 1s 36us/step - loss: -1769.6512\n",
      "Epoch 90/100\n"
     ]
    },
    {
     "name": "stdout",
     "output_type": "stream",
     "text": [
      "40730/40730 [==============================] - 1s 34us/step - loss: -1769.7212\n",
      "Epoch 91/100\n",
      "40730/40730 [==============================] - 1s 34us/step - loss: -1769.6931\n",
      "Epoch 92/100\n",
      "40730/40730 [==============================] - 1s 35us/step - loss: -1769.7221\n",
      "Epoch 93/100\n",
      "40730/40730 [==============================] - 1s 35us/step - loss: -1769.6990\n",
      "Epoch 94/100\n",
      "40730/40730 [==============================] - 1s 34us/step - loss: -1769.7156\n",
      "Epoch 95/100\n",
      "40730/40730 [==============================] - 1s 33us/step - loss: -1769.7343\n",
      "Epoch 96/100\n",
      "40730/40730 [==============================] - 1s 34us/step - loss: -1769.7305\n",
      "Epoch 97/100\n",
      "40730/40730 [==============================] - 1s 34us/step - loss: -1769.7235\n",
      "Epoch 98/100\n",
      "40730/40730 [==============================] - 1s 34us/step - loss: -1769.4063\n",
      "Epoch 99/100\n",
      "40730/40730 [==============================] - 1s 35us/step - loss: -1769.7457\n",
      "Epoch 100/100\n",
      "40730/40730 [==============================] - 1s 36us/step - loss: -1769.3199\n"
     ]
    },
    {
     "data": {
      "text/plain": [
       "<keras.callbacks.History at 0x1d958b33240>"
      ]
     },
     "execution_count": 53,
     "metadata": {},
     "output_type": "execute_result"
    }
   ],
   "source": [
    "           .fit(X_train, X_train, epochs=100, batch_size=32)"
   ]
  },
  {
   "cell_type": "markdown",
   "metadata": {},
   "source": [
    "Create a separate encoder model"
   ]
  },
  {
   "cell_type": "code",
   "execution_count": 54,
   "metadata": {},
   "outputs": [],
   "source": [
    "# this model maps an input to its encoded representation\n",
    "encoder = "
   ]
  },
  {
   "cell_type": "code",
   "execution_count": 55,
   "metadata": {},
   "outputs": [
    {
     "name": "stdout",
     "output_type": "stream",
     "text": [
      "_________________________________________________________________\n",
      "Layer (type)                 Output Shape              Param #   \n",
      "=================================================================\n",
      "input_1 (InputLayer)         (None, 21)                0         \n",
      "_________________________________________________________________\n",
      "dense_5 (Dense)              (None, 16)                352       \n",
      "=================================================================\n",
      "Total params: 352\n",
      "Trainable params: 352\n",
      "Non-trainable params: 0\n",
      "_________________________________________________________________\n",
      "None\n"
     ]
    }
   ],
   "source": [
    "print(encoder.summary())"
   ]
  },
  {
   "cell_type": "markdown",
   "metadata": {},
   "source": [
    "#### derive new non-linear features"
   ]
  },
  {
   "cell_type": "code",
   "execution_count": 56,
   "metadata": {},
   "outputs": [],
   "source": [
    "X_train_nonLinear_features = encoder.predict(X_train)\n",
    "X_test_nonLinear_features = "
   ]
  },
  {
   "cell_type": "markdown",
   "metadata": {},
   "source": [
    "#### Combining new non-linear features to X_train and X_test respectively"
   ]
  },
  {
   "cell_type": "code",
   "execution_count": 57,
   "metadata": {},
   "outputs": [],
   "source": [
    "X_train=np.concatenate((X_train, X_train_nonLinear_features), axis=1)\n",
    "X_test="
   ]
  },
  {
   "cell_type": "markdown",
   "metadata": {},
   "source": [
    "#### Perceptron Model Building with both actual and non-linear features"
   ]
  },
  {
   "cell_type": "code",
   "execution_count": 58,
   "metadata": {},
   "outputs": [],
   "source": [
    "perceptron_model = Sequential()\n",
    "\n",
    "perceptron_model.add(Dense(1, input_dim=X_train.shape[1], activation='sigmoid', kernel_initializer='normal'))"
   ]
  },
  {
   "cell_type": "code",
   "execution_count": 59,
   "metadata": {},
   "outputs": [],
   "source": [
    "perceptron_model.compile(loss='binary_crossentropy', optimizer='adam', metrics=['accuracy'])"
   ]
  },
  {
   "cell_type": "code",
   "execution_count": 60,
   "metadata": {},
   "outputs": [
    {
     "name": "stdout",
     "output_type": "stream",
     "text": [
      "Epoch 1/30\n",
      "40730/40730 [==============================] - 1s 27us/step - loss: 0.7474 - acc: 0.8258\n",
      "Epoch 2/30\n",
      "40730/40730 [==============================] - 1s 16us/step - loss: 0.4778 - acc: 0.8726\n",
      "Epoch 3/30\n",
      "40730/40730 [==============================] - 1s 15us/step - loss: 0.4171 - acc: 0.8833\n",
      "Epoch 4/30\n",
      "40730/40730 [==============================] - 1s 15us/step - loss: 0.4658 - acc: 0.8789\n",
      "Epoch 5/30\n",
      "40730/40730 [==============================] - 1s 15us/step - loss: 0.4601 - acc: 0.8824\n",
      "Epoch 6/30\n",
      "40730/40730 [==============================] - 1s 16us/step - loss: 0.4708 - acc: 0.8869\n",
      "Epoch 7/30\n",
      "40730/40730 [==============================] - 1s 15us/step - loss: 0.4319 - acc: 0.8882\n",
      "Epoch 8/30\n",
      "40730/40730 [==============================] - 1s 15us/step - loss: 0.4277 - acc: 0.8873\n",
      "Epoch 9/30\n",
      "40730/40730 [==============================] - 1s 15us/step - loss: 0.5221 - acc: 0.8781\n",
      "Epoch 10/30\n",
      "40730/40730 [==============================] - 1s 15us/step - loss: 0.4449 - acc: 0.8858\n",
      "Epoch 11/30\n",
      "40730/40730 [==============================] - 1s 15us/step - loss: 0.6074 - acc: 0.8751\n",
      "Epoch 12/30\n",
      "40730/40730 [==============================] - 1s 15us/step - loss: 0.4041 - acc: 0.8888\n",
      "Epoch 13/30\n",
      "40730/40730 [==============================] - 1s 15us/step - loss: 0.4422 - acc: 0.8839\n",
      "Epoch 14/30\n",
      "40730/40730 [==============================] - 1s 15us/step - loss: 0.5185 - acc: 0.8807\n",
      "Epoch 15/30\n",
      "40730/40730 [==============================] - 1s 16us/step - loss: 0.4727 - acc: 0.8833\n",
      "Epoch 16/30\n",
      "40730/40730 [==============================] - 1s 15us/step - loss: 1.3176 - acc: 0.8409\n",
      "Epoch 17/30\n",
      "40730/40730 [==============================] - 1s 15us/step - loss: 0.9482 - acc: 0.8397\n",
      "Epoch 18/30\n",
      "40730/40730 [==============================] - 1s 15us/step - loss: 0.4089 - acc: 0.8908\n",
      "Epoch 19/30\n",
      "40730/40730 [==============================] - 1s 15us/step - loss: 0.3947 - acc: 0.8919\n",
      "Epoch 20/30\n",
      "40730/40730 [==============================] - 1s 15us/step - loss: 0.4301 - acc: 0.8862\n",
      "Epoch 21/30\n",
      "40730/40730 [==============================] - 1s 15us/step - loss: 0.4051 - acc: 0.8917\n",
      "Epoch 22/30\n",
      "40730/40730 [==============================] - 1s 16us/step - loss: 0.4372 - acc: 0.8869\n",
      "Epoch 23/30\n",
      "40730/40730 [==============================] - 1s 16us/step - loss: 0.4357 - acc: 0.8845\n",
      "Epoch 24/30\n",
      "40730/40730 [==============================] - 1s 16us/step - loss: 0.4496 - acc: 0.8841\n",
      "Epoch 25/30\n",
      "40730/40730 [==============================] - 1s 15us/step - loss: 0.4588 - acc: 0.8821\n",
      "Epoch 26/30\n",
      "40730/40730 [==============================] - 1s 15us/step - loss: 0.7893 - acc: 0.8555\n",
      "Epoch 27/30\n",
      "40730/40730 [==============================] - 1s 17us/step - loss: 0.5376 - acc: 0.8835\n",
      "Epoch 28/30\n",
      "40730/40730 [==============================] - 1s 16us/step - loss: 0.4247 - acc: 0.8921\n",
      "Epoch 29/30\n",
      "40730/40730 [==============================] - 1s 15us/step - loss: 0.4450 - acc: 0.8879\n",
      "Epoch 30/30\n",
      "40730/40730 [==============================] - 1s 15us/step - loss: 0.4092 - acc: 0.8904\n"
     ]
    },
    {
     "data": {
      "text/plain": [
       "<keras.callbacks.History at 0x1d95b8efc18>"
      ]
     },
     "execution_count": 60,
     "metadata": {},
     "output_type": "execute_result"
    }
   ],
   "source": [
    "perceptron_model.fit(X_train, y_train, epochs=30, batch_size=64)"
   ]
  },
  {
   "cell_type": "markdown",
   "metadata": {},
   "source": [
    "#### Predictions"
   ]
  },
  {
   "cell_type": "code",
   "execution_count": 61,
   "metadata": {},
   "outputs": [],
   "source": [
    "test_pred=perceptron_model.predict_classes(X_test)\n",
    "train_pred=perceptron_model.predict_classes(X_train)"
   ]
  },
  {
   "cell_type": "markdown",
   "metadata": {},
   "source": [
    "#### Getting evaluation metrics and evaluating model performance"
   ]
  },
  {
   "cell_type": "code",
   "execution_count": 62,
   "metadata": {},
   "outputs": [
    {
     "name": "stdout",
     "output_type": "stream",
     "text": [
      "[[30666  2401]\n",
      " [ 1891  5772]]\n",
      "[[13127  1023]\n",
      " [  804  2502]]\n"
     ]
    }
   ],
   "source": [
    "confusion_matrix_test = confusion_matrix(y_test, test_pred)\n",
    "confusion_matrix_train = confusion_matrix(y_train, train_pred)\n",
    "\n",
    "print(confusion_matrix_train)\n",
    "print(confusion_matrix_test)"
   ]
  },
  {
   "cell_type": "markdown",
   "metadata": {},
   "source": [
    "#### Calculate Accuracy, True Positive Rate and True Negative Rates"
   ]
  },
  {
   "cell_type": "code",
   "execution_count": 63,
   "metadata": {},
   "outputs": [
    {
     "name": "stdout",
     "output_type": "stream",
     "text": [
      "Train TNR:  0.9273898448604349\n",
      "Train TPR:  0.7532298055591805\n",
      "Train Accuracy:  0.8946231279155413\n"
     ]
    }
   ],
   "source": [
    "Accuracy_Train=(confusion_matrix_train[0,0]+confusion_matrix_train[1,1])/(confusion_matrix_train[0,0]+confusion_matrix_train[0,1]+confusion_matrix_train[1,0]+confusion_matrix_train[1,1])\n",
    "TNR_Train= confusion_matrix_train[0,0]/(confusion_matrix_train[0,0]+confusion_matrix_train[0,1])\n",
    "TPR_Train= confusion_matrix_train[1,1]/(confusion_matrix_train[1,0]+confusion_matrix_train[1,1])\n",
    "\n",
    "print(\"Train TNR: \",TNR_Train)\n",
    "print(\"Train TPR: \",TPR_Train)\n",
    "print(\"Train Accuracy: \",Accuracy_Train)"
   ]
  },
  {
   "cell_type": "code",
   "execution_count": 64,
   "metadata": {},
   "outputs": [
    {
     "name": "stdout",
     "output_type": "stream",
     "text": [
      "Test TNR:  0.9277031802120141\n",
      "Test TPR:  0.7568058076225045\n",
      "Test Accuracy:  0.8953368469294225\n"
     ]
    }
   ],
   "source": [
    "Accuracy_Test=(confusion_matrix_test[0,0]+confusion_matrix_test[1,1])/(confusion_matrix_test[0,0]+confusion_matrix_test[0,1]+confusion_matrix_test[1,0]+confusion_matrix_test[1,1])\n",
    "TNR_Test= confusion_matrix_test[0,0]/(confusion_matrix_test[0,0] +confusion_matrix_test[0,1])\n",
    "TPR_Test= confusion_matrix_test[1,1]/(confusion_matrix_test[1,0] +confusion_matrix_test[1,1])\n",
    "\n",
    "print(\"Test TNR: \",TNR_Test)\n",
    "print(\"Test TPR: \",TPR_Test)\n",
    "print(\"Test Accuracy: \",Accuracy_Test)"
   ]
  },
  {
   "cell_type": "markdown",
   "metadata": {},
   "source": [
    "#### Plotting ROC curve to modify the threshold if necessary"
   ]
  },
  {
   "cell_type": "code",
   "execution_count": 65,
   "metadata": {},
   "outputs": [],
   "source": [
    "train_pred_prob=perceptron_model.predict(X_train)"
   ]
  },
  {
   "cell_type": "code",
   "execution_count": 66,
   "metadata": {},
   "outputs": [
    {
     "name": "stdout",
     "output_type": "stream",
     "text": [
      "[[0.        ]\n",
      " [0.94607055]\n",
      " [0.7337234 ]\n",
      " ...\n",
      " [0.48663273]\n",
      " [0.00379873]\n",
      " [0.21393795]]\n"
     ]
    }
   ],
   "source": [
    "print (train_pred_prob)"
   ]
  },
  {
   "cell_type": "markdown",
   "metadata": {},
   "source": [
    "#### Getting ROC curve to adjust the threshold "
   ]
  },
  {
   "cell_type": "code",
   "execution_count": 67,
   "metadata": {},
   "outputs": [],
   "source": [
    "fpr, tpr, thresholds = roc_curve(y_train, train_pred_prob)\n",
    "roc_auc = auc(fpr, tpr)"
   ]
  },
  {
   "cell_type": "markdown",
   "metadata": {},
   "source": [
    "#### Using matplotlib for plotting the ROC curve "
   ]
  },
  {
   "cell_type": "code",
   "execution_count": 68,
   "metadata": {},
   "outputs": [
    {
     "data": {
      "image/png": "[encoded data removed]",
      "text/plain": [
       "<Figure size 432x288 with 1 Axes>"
      ]
     },
     "metadata": {
      "needs_background": "light"
     },
     "output_type": "display_data"
    }
   ],
   "source": [
    "plt.figure()\n",
    "lw = 2\n",
    "plt.plot(fpr,tpr, color='darkorange',\n",
    "         lw=lw, label='ROC curve (area = %0.2f)' % roc_auc)\n",
    "plt.plot([0, 1], [0, 1], color='navy', lw=lw, linestyle='--')\n",
    "plt.xlim([0.0, 1.0])\n",
    "plt.ylim([0.0, 1.05])\n",
    "plt.xlabel('FPR')\n",
    "plt.ylabel('TPR')\n",
    "plt.title('Receiver operating characteristic example')\n",
    "plt.legend(loc=\"lower right\")\n",
    "plt.show()"
   ]
  }
 ],
 "metadata": {
  "kernelspec": {
   "display_name": "Python 3",
   "language": "python",
   "name": "python3"
  },
  "language_info": {
   "codemirror_mode": {
    "name": "ipython",
    "version": 3
   },
   "file_extension": ".py",
   "mimetype": "text/x-python",
   "name": "python",
   "nbconvert_exporter": "python",
   "pygments_lexer": "ipython3",
   "version": "3.7.1"
  }
 },
 "nbformat": 4,
 "nbformat_minor": 2
}
