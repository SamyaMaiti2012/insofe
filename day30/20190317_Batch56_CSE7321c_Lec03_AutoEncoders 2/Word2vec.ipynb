{
 "cells": [
  {
   "cell_type": "code",
   "execution_count": 1,
   "metadata": {},
   "outputs": [],
   "source": [
    "import numpy as np\n",
    "import os\n",
    "from random import shuffle\n",
    "import re\n",
    "import urllib.request\n",
    "import zipfile\n",
    "import lxml.etree"
   ]
  },
  {
   "cell_type": "markdown",
   "metadata": {},
   "source": [
    "#download the data\n",
    "urllib.request.urlretrieve(\"https://wit3.fbk.eu/get.php?path=XML_releases/xml/ted_en-20160408.zip&filename=ted_en-20160408.zip\", filename=\"ted_en-20160408.zip\")"
   ]
  },
  {
   "cell_type": "code",
   "execution_count": 2,
   "metadata": {},
   "outputs": [],
   "source": [
    "# extract subtitle\n",
    "with zipfile.ZipFile('ted_en-20160408.zip', 'r') as z:\n",
    "    doc = lxml.etree.parse(z.open('ted_en-20160408.xml', 'r'))\n",
    "input_text = '\\n'.join(doc.xpath('//content/text()'))"
   ]
  },
  {
   "cell_type": "code",
   "execution_count": 3,
   "metadata": {},
   "outputs": [],
   "source": [
    "#Clean up the text\n",
    "# remove parenthesis \n",
    "input_text_noparens = re.sub(r'\\([^)]*\\)', '', input_text)\n",
    "# store as list of sentences\n",
    "sentences_strings_ted = []\n",
    "for line in input_text_noparens.split('\\n'):\n",
    "    m = re.match(r'^(?:(?P<precolon>[^:]{,20}):)?(?P<postcolon>.*)$', line)\n",
    "    sentences_strings_ted.extend(sent for sent in m.groupdict()['postcolon'].split('.') if sent)\n",
    "# store as list of lists of words\n",
    "sentences_ted = []\n",
    "for sent_str in sentences_strings_ted:\n",
    "    tokens = re.sub(r\"[^a-z0-9]+\", \" \", sent_str.lower()).split()\n",
    "    sentences_ted.append(tokens)"
   ]
  },
  {
   "cell_type": "code",
   "execution_count": 4,
   "metadata": {},
   "outputs": [
    {
     "name": "stderr",
     "output_type": "stream",
     "text": [
      "C:\\Users\\Murthy\\Anaconda3\\lib\\site-packages\\gensim\\utils.py:1197: UserWarning: detected Windows; aliasing chunkize to chunkize_serial\n",
      "  warnings.warn(\"detected Windows; aliasing chunkize to chunkize_serial\")\n"
     ]
    }
   ],
   "source": [
    "from gensim.models import Word2Vec\n",
    "model_ted = Word2Vec(sentences=sentences_ted, size=100, window=5, min_count=5, workers=4, sg=0)"
   ]
  },
  {
   "cell_type": "code",
   "execution_count": 5,
   "metadata": {},
   "outputs": [
    {
     "name": "stdout",
     "output_type": "stream",
     "text": [
      "[-0.68391436 -0.25471973  0.6525762   0.4104716  -0.15702242 -2.3139324\n",
      " -0.22513187  0.9998831  -0.9485713   0.68279684 -0.37711877  1.0382502\n",
      "  0.04595969 -0.55829126 -0.07567953 -1.3099108   0.2569745   0.49885386\n",
      "  1.1250598  -1.2648084  -0.7343621   0.8196438  -0.23289843  0.4288456\n",
      "  0.8723032  -0.08758009  2.2787936  -0.0853721   2.077441   -0.28898084\n",
      " -0.31309655  0.702591   -2.3045537  -1.7554103  -1.2319196   0.72069556\n",
      "  0.6650018  -1.148195    1.1785841   0.45326874  1.7265474   0.31190673\n",
      " -0.95666075  0.33973533  0.1946441  -0.582915    1.6129501   2.5764961\n",
      "  0.5560557  -0.99855125  0.64411294  1.2264754  -0.7171068   1.1212615\n",
      "  0.8099502   0.728674    1.8731914   1.0267409  -0.4086136  -0.52536494\n",
      "  0.10080434 -0.43553832 -0.16205995 -1.049386    0.37816978  1.8489345\n",
      " -2.128845   -2.0945213  -0.94764274 -1.1442782   0.30290273  0.38237146\n",
      "  2.0778217  -1.9277537  -0.47328013 -1.3439789   0.66601175 -1.1618676\n",
      "  2.306674   -0.18465856  0.18493979  0.30162436  1.2000308  -0.4217679\n",
      "  1.915674    1.2675655  -1.0576577  -0.06926543 -0.9766229   1.2795383\n",
      "  1.0182033  -0.08473819 -1.772956    0.82505786  0.70382804  0.6786479\n",
      " -1.1408079  -0.55108285  1.2260464  -1.4670902 ]\n",
      "[-1.0828286e+00 -1.2540430e+00  1.1137840e-01  1.1367586e+00\n",
      " -1.2166892e+00  1.4037359e+00 -4.4265115e-01 -8.6482745e-01\n",
      " -1.0224238e-02 -1.2864418e+00 -1.7763106e+00  2.5871129e+00\n",
      " -8.9481078e-02  1.2209323e-01 -1.3877151e+00  3.1306293e+00\n",
      "  8.7649429e-01 -8.3984995e-01 -2.5058616e-02  5.8589524e-01\n",
      " -5.1436597e-01  1.2783301e+00  1.4283506e+00 -1.3127880e-01\n",
      "  1.3178340e+00  2.5244400e-02  9.4212450e-02  1.3136044e+00\n",
      "  1.6381266e+00  4.4884101e-01 -4.2049521e-01  2.3233931e+00\n",
      " -8.1618935e-01 -2.1862853e+00  7.7663732e-01 -3.8432214e-02\n",
      " -1.1801941e+00  1.0602434e+00 -2.4343383e-01  2.8478227e+00\n",
      "  8.2968158e-01 -5.9935409e-01  7.0865923e-01 -2.3137550e+00\n",
      "  8.8777888e-04 -2.4901162e-01 -1.9848002e-01 -1.4606965e+00\n",
      "  7.6989836e-01  3.7431553e-01 -1.0464050e+00  9.0733421e-01\n",
      "  8.3479548e-01 -1.1322336e+00  1.1170262e+00 -1.6717912e+00\n",
      "  6.6423839e-01 -6.4909890e-02  1.3498260e+00  2.0887414e-01\n",
      "  5.3644866e-01  1.0275449e+00  2.8479692e-01  2.6824179e-01\n",
      " -1.3393321e+00  5.8021951e-01 -1.7660084e-01  7.9940587e-01\n",
      "  6.5266597e-01  1.0810938e-01 -1.2246569e-01  5.4138809e-01\n",
      "  7.6425874e-01 -3.6924604e-01 -3.8866055e-01 -2.0046328e-01\n",
      "  1.2320017e+00  9.4348073e-01 -4.9099693e-01 -6.9749647e-01\n",
      "  3.1379810e-01  4.1246685e-01  1.0611368e+00 -3.0745894e-01\n",
      " -1.2853371e+00 -1.8665142e+00 -8.6067814e-01 -5.8190811e-01\n",
      "  1.1234487e+00  8.2755876e-01  9.6784896e-01  3.3786282e-01\n",
      " -1.3092308e+00  5.9646469e-01  8.0921596e-01  2.7076390e-02\n",
      "  1.4902536e+00 -2.3513710e+00 -2.4663150e-01 -3.9125097e-01]\n"
     ]
    }
   ],
   "source": [
    "print(model_ted.wv['earth'])\n",
    "print(model_ted.wv['man'])"
   ]
  },
  {
   "cell_type": "code",
   "execution_count": 6,
   "metadata": {},
   "outputs": [
    {
     "data": {
      "text/plain": [
       "[('mars', 0.8177419304847717),\n",
       " ('planet', 0.8079463243484497),\n",
       " ('moon', 0.7199641466140747),\n",
       " ('sun', 0.6545634269714355),\n",
       " ('surface', 0.6520480513572693),\n",
       " ('ocean', 0.6383042335510254),\n",
       " ('orbit', 0.6329202651977539),\n",
       " ('continent', 0.632485568523407),\n",
       " ('land', 0.6294218897819519),\n",
       " ('horizon', 0.6091650724411011)]"
      ]
     },
     "execution_count": 6,
     "metadata": {},
     "output_type": "execute_result"
    }
   ],
   "source": [
    "model_ted.wv.most_similar('earth')"
   ]
  },
  {
   "cell_type": "code",
   "execution_count": 7,
   "metadata": {},
   "outputs": [
    {
     "name": "stdout",
     "output_type": "stream",
     "text": [
      "[('sky', 0.7832568883895874), ('surface', 0.7750268578529358), ('ocean', 0.7709890604019165), ('sea', 0.7641971111297607), ('atmosphere', 0.7530478835105896), ('wind', 0.7467349767684937), ('moon', 0.7372883558273315), ('light', 0.7301375865936279), ('river', 0.7301061153411865), ('ice', 0.7211363315582275)]\n",
      "[('father', 0.9359591007232666), ('daughter', 0.9347150325775146), ('husband', 0.9121847152709961), ('brother', 0.8964835405349731), ('grandmother', 0.8833799362182617), ('mother', 0.8832564949989319), ('sister', 0.8821182250976562), ('wife', 0.8817569017410278), ('uncle', 0.8758556842803955), ('cousin', 0.8413651585578918)]\n"
     ]
    }
   ],
   "source": [
    "print(model_ted.wv.most_similar(\"sun\"))\n",
    "print(model_ted.wv.most_similar(\"son\"))"
   ]
  },
  {
   "cell_type": "code",
   "execution_count": null,
   "metadata": {},
   "outputs": [],
   "source": [
    "model_ted.wv.most_similar(\"Gastroenteritis\")"
   ]
  },
  {
   "cell_type": "code",
   "execution_count": null,
   "metadata": {},
   "outputs": [],
   "source": [
    "from gensim.models import FastText\n",
    "model_ted_fast = FastText(sentences_ted, size=100, window=5, min_count=5, workers=4,sg=1)"
   ]
  },
  {
   "cell_type": "code",
   "execution_count": null,
   "metadata": {},
   "outputs": [],
   "source": [
    "model_ted_fast.wv.most_similar(\"Gastroenteritis\")"
   ]
  }
 ],
 "metadata": {
  "kernelspec": {
   "display_name": "Python 3",
   "language": "python",
   "name": "python3"
  },
  "language_info": {
   "codemirror_mode": {
    "name": "ipython",
    "version": 3
   },
   "file_extension": ".py",
   "mimetype": "text/x-python",
   "name": "python",
   "nbconvert_exporter": "python",
   "pygments_lexer": "ipython3",
   "version": "3.7.0"
  }
 },
 "nbformat": 4,
 "nbformat_minor": 2
}
