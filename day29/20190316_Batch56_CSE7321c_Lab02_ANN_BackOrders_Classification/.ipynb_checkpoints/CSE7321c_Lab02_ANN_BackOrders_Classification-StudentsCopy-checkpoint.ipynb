{
 "cells": [
  {
   "cell_type": "markdown",
   "metadata": {},
   "source": [
    "### Problem Statement\n",
    "\n",
    "    Identify products at risk of backorder before the event occurs so that business has time to react."
   ]
  },
  {
   "cell_type": "markdown",
   "metadata": {},
   "source": [
    "### What is a Backorder?\n",
    "Backorders are products that are temporarily out of stock, but a customer is permitted to place an order against future inventory. A backorder generally indicates that customer demand for a product or service exceeds a company’s capacity to supply it. Back orders are both good and bad. Strong demand can drive back orders, but so can suboptimal planning."
   ]
  },
  {
   "cell_type": "markdown",
   "metadata": {},
   "source": [
    "### Data\n",
    "\n",
    "Data file contains the historical data for the 8 weeks prior to the week we are trying to predict. The data was taken as weekly snapshots at the start of each week. Columns are defined as follows:\n",
    "\n",
    "    sku - Random ID for the product\n",
    "\n",
    "    national_inv - Current inventory level for the part\n",
    "\n",
    "    lead_time - Transit time for product (if available)\n",
    "\n",
    "    in_transit_qty - Amount of product in transit from source\n",
    "\n",
    "    forecast_3_month - Forecast sales for the next 3 months\n",
    "\n",
    "    forecast_6_month - Forecast sales for the next 6 months\n",
    "\n",
    "    forecast_9_month - Forecast sales for the next 9 months\n",
    "\n",
    "    sales_1_month - Sales quantity for the prior 1 month time period\n",
    "\n",
    "    sales_3_month - Sales quantity for the prior 3 month time period\n",
    "\n",
    "    sales_6_month - Sales quantity for the prior 6 month time period\n",
    "\n",
    "    sales_9_month - Sales quantity for the prior 9 month time period\n",
    "\n",
    "    min_bank - Minimum recommend amount to stock\n",
    "\n",
    "    potential_issue - Source issue for part identified\n",
    "\n",
    "    pieces_past_due - Parts overdue from source\n",
    "\n",
    "    perf_6_month_avg - Source performance for prior 6 month period\n",
    "\n",
    "    perf_12_month_avg - Source performance for prior 12 month period\n",
    "\n",
    "    local_bo_qty - Amount of stock orders overdue\n",
    "\n",
    "    deck_risk - Part risk flag\n",
    "\n",
    "    oe_constraint - Part risk flag\n",
    "\n",
    "    ppap_risk - Part risk flag\n",
    "\n",
    "    stop_auto_buy - Part risk flag\n",
    "\n",
    "    rev_stop - Part risk flag\n",
    "\n",
    "    went_on_backorder - Product actually went on backorder. This is the target value."
   ]
  },
  {
   "cell_type": "markdown",
   "metadata": {},
   "source": [
    "### Data Pre-processing\n",
    "#### Loading the required libraries"
   ]
  },
  {
   "cell_type": "code",
   "execution_count": 1,
   "metadata": {
    "ExecuteTime": {
     "end_time": "2019-03-16T11:21:52.846527Z",
     "start_time": "2019-03-16T11:21:49.620883Z"
    }
   },
   "outputs": [
    {
     "name": "stderr",
     "output_type": "stream",
     "text": [
      "Using TensorFlow backend.\n"
     ]
    }
   ],
   "source": [
    "import pandas as pd\n",
    "import numpy as np\n",
    "\n",
    "from sklearn.model_selection import train_test_split\n",
    "from sklearn.metrics import confusion_matrix, roc_curve, auc\n",
    "from sklearn.linear_model import LogisticRegression\n",
    "\n",
    "from keras.models import Sequential\n",
    "from keras.layers import Dense\n",
    "from keras.utils import to_categorical\n",
    "from keras import optimizers\n",
    "\n",
    "import matplotlib.pyplot as plt\n",
    "%matplotlib inline  \n",
    "import os\n",
    "\n",
    "import warnings\n",
    "warnings.filterwarnings(\"ignore\", category=DeprecationWarning) "
   ]
  },
  {
   "cell_type": "markdown",
   "metadata": {},
   "source": [
    "#### Loading the data"
   ]
  },
  {
   "cell_type": "code",
   "execution_count": 2,
   "metadata": {
    "ExecuteTime": {
     "end_time": "2019-03-16T11:21:52.854909Z",
     "start_time": "2019-03-16T11:21:52.849349Z"
    }
   },
   "outputs": [
    {
     "data": {
      "text/plain": [
       "'/Users/samyam/Documents/Samya/GIT/insofe/day29/20190316_Batch56_CSE7321c_Lab02_ANN_BackOrders_Classification'"
      ]
     },
     "execution_count": 2,
     "metadata": {},
     "output_type": "execute_result"
    }
   ],
   "source": [
    "os.getcwd()"
   ]
  },
  {
   "cell_type": "code",
   "execution_count": 3,
   "metadata": {
    "ExecuteTime": {
     "end_time": "2019-03-16T11:21:52.861157Z",
     "start_time": "2019-03-16T11:21:52.856567Z"
    }
   },
   "outputs": [],
   "source": [
    "#For setting working directory, if required\n",
    "#os.chdir('path to file)"
   ]
  },
  {
   "cell_type": "code",
   "execution_count": 4,
   "metadata": {
    "ExecuteTime": {
     "end_time": "2019-03-16T11:21:53.051004Z",
     "start_time": "2019-03-16T11:21:52.864284Z"
    },
    "scrolled": true
   },
   "outputs": [],
   "source": [
    "data = pd.read_csv(\"BackOrders.csv\",header=0)"
   ]
  },
  {
   "cell_type": "markdown",
   "metadata": {},
   "source": [
    "#### Understand the Data"
   ]
  },
  {
   "cell_type": "markdown",
   "metadata": {},
   "source": [
    "See the number row and columns"
   ]
  },
  {
   "cell_type": "code",
   "execution_count": 5,
   "metadata": {
    "ExecuteTime": {
     "end_time": "2019-03-16T11:21:53.057889Z",
     "start_time": "2019-03-16T11:21:53.053577Z"
    }
   },
   "outputs": [
    {
     "data": {
      "text/plain": [
       "(61589, 23)"
      ]
     },
     "execution_count": 5,
     "metadata": {},
     "output_type": "execute_result"
    }
   ],
   "source": [
    "data.shape"
   ]
  },
  {
   "cell_type": "markdown",
   "metadata": {},
   "source": [
    "Display the columns"
   ]
  },
  {
   "cell_type": "code",
   "execution_count": 6,
   "metadata": {
    "ExecuteTime": {
     "end_time": "2019-03-16T11:21:53.066297Z",
     "start_time": "2019-03-16T11:21:53.059395Z"
    }
   },
   "outputs": [
    {
     "data": {
      "text/plain": [
       "Index(['sku', 'national_inv', 'lead_time', 'in_transit_qty',\n",
       "       'forecast_3_month', 'forecast_6_month', 'forecast_9_month',\n",
       "       'sales_1_month', 'sales_3_month', 'sales_6_month', 'sales_9_month',\n",
       "       'min_bank', 'potential_issue', 'pieces_past_due', 'perf_6_month_avg',\n",
       "       'perf_12_month_avg', 'local_bo_qty', 'deck_risk', 'oe_constraint',\n",
       "       'ppap_risk', 'stop_auto_buy', 'rev_stop', 'went_on_backorder'],\n",
       "      dtype='object')"
      ]
     },
     "execution_count": 6,
     "metadata": {},
     "output_type": "execute_result"
    }
   ],
   "source": [
    "data.columns"
   ]
  },
  {
   "cell_type": "markdown",
   "metadata": {},
   "source": [
    "Display the index"
   ]
  },
  {
   "cell_type": "code",
   "execution_count": 7,
   "metadata": {
    "ExecuteTime": {
     "end_time": "2019-03-16T11:21:53.075025Z",
     "start_time": "2019-03-16T11:21:53.068657Z"
    }
   },
   "outputs": [
    {
     "data": {
      "text/plain": [
       "RangeIndex(start=0, stop=61589, step=1)"
      ]
     },
     "execution_count": 7,
     "metadata": {},
     "output_type": "execute_result"
    }
   ],
   "source": [
    "data.index"
   ]
  },
  {
   "cell_type": "markdown",
   "metadata": {},
   "source": [
    "See the top rows of the data"
   ]
  },
  {
   "cell_type": "code",
   "execution_count": 8,
   "metadata": {
    "ExecuteTime": {
     "end_time": "2019-03-16T11:21:53.099291Z",
     "start_time": "2019-03-16T11:21:53.076869Z"
    }
   },
   "outputs": [
    {
     "data": {
      "text/html": [
       "<div>\n",
       "<style scoped>\n",
       "    .dataframe tbody tr th:only-of-type {\n",
       "        vertical-align: middle;\n",
       "    }\n",
       "\n",
       "    .dataframe tbody tr th {\n",
       "        vertical-align: top;\n",
       "    }\n",
       "\n",
       "    .dataframe thead th {\n",
       "        text-align: right;\n",
       "    }\n",
       "</style>\n",
       "<table border=\"1\" class=\"dataframe\">\n",
       "  <thead>\n",
       "    <tr style=\"text-align: right;\">\n",
       "      <th></th>\n",
       "      <th>sku</th>\n",
       "      <th>national_inv</th>\n",
       "      <th>lead_time</th>\n",
       "      <th>in_transit_qty</th>\n",
       "      <th>forecast_3_month</th>\n",
       "      <th>forecast_6_month</th>\n",
       "      <th>forecast_9_month</th>\n",
       "      <th>sales_1_month</th>\n",
       "      <th>sales_3_month</th>\n",
       "      <th>sales_6_month</th>\n",
       "      <th>...</th>\n",
       "      <th>pieces_past_due</th>\n",
       "      <th>perf_6_month_avg</th>\n",
       "      <th>perf_12_month_avg</th>\n",
       "      <th>local_bo_qty</th>\n",
       "      <th>deck_risk</th>\n",
       "      <th>oe_constraint</th>\n",
       "      <th>ppap_risk</th>\n",
       "      <th>stop_auto_buy</th>\n",
       "      <th>rev_stop</th>\n",
       "      <th>went_on_backorder</th>\n",
       "    </tr>\n",
       "  </thead>\n",
       "  <tbody>\n",
       "    <tr>\n",
       "      <th>0</th>\n",
       "      <td>1888279</td>\n",
       "      <td>117</td>\n",
       "      <td>NaN</td>\n",
       "      <td>0</td>\n",
       "      <td>0</td>\n",
       "      <td>0</td>\n",
       "      <td>0</td>\n",
       "      <td>0</td>\n",
       "      <td>0</td>\n",
       "      <td>15</td>\n",
       "      <td>...</td>\n",
       "      <td>0</td>\n",
       "      <td>-99.00</td>\n",
       "      <td>-99.00</td>\n",
       "      <td>0</td>\n",
       "      <td>No</td>\n",
       "      <td>No</td>\n",
       "      <td>Yes</td>\n",
       "      <td>Yes</td>\n",
       "      <td>No</td>\n",
       "      <td>No</td>\n",
       "    </tr>\n",
       "    <tr>\n",
       "      <th>1</th>\n",
       "      <td>1870557</td>\n",
       "      <td>7</td>\n",
       "      <td>2.0</td>\n",
       "      <td>0</td>\n",
       "      <td>0</td>\n",
       "      <td>0</td>\n",
       "      <td>0</td>\n",
       "      <td>0</td>\n",
       "      <td>0</td>\n",
       "      <td>0</td>\n",
       "      <td>...</td>\n",
       "      <td>0</td>\n",
       "      <td>0.50</td>\n",
       "      <td>0.28</td>\n",
       "      <td>0</td>\n",
       "      <td>Yes</td>\n",
       "      <td>No</td>\n",
       "      <td>No</td>\n",
       "      <td>Yes</td>\n",
       "      <td>No</td>\n",
       "      <td>No</td>\n",
       "    </tr>\n",
       "    <tr>\n",
       "      <th>2</th>\n",
       "      <td>1475481</td>\n",
       "      <td>258</td>\n",
       "      <td>15.0</td>\n",
       "      <td>10</td>\n",
       "      <td>10</td>\n",
       "      <td>77</td>\n",
       "      <td>184</td>\n",
       "      <td>46</td>\n",
       "      <td>132</td>\n",
       "      <td>256</td>\n",
       "      <td>...</td>\n",
       "      <td>0</td>\n",
       "      <td>0.54</td>\n",
       "      <td>0.70</td>\n",
       "      <td>0</td>\n",
       "      <td>No</td>\n",
       "      <td>No</td>\n",
       "      <td>No</td>\n",
       "      <td>Yes</td>\n",
       "      <td>No</td>\n",
       "      <td>No</td>\n",
       "    </tr>\n",
       "  </tbody>\n",
       "</table>\n",
       "<p>3 rows × 23 columns</p>\n",
       "</div>"
      ],
      "text/plain": [
       "       sku  national_inv  lead_time  in_transit_qty  forecast_3_month  \\\n",
       "0  1888279           117        NaN               0                 0   \n",
       "1  1870557             7        2.0               0                 0   \n",
       "2  1475481           258       15.0              10                10   \n",
       "\n",
       "   forecast_6_month  forecast_9_month  sales_1_month  sales_3_month  \\\n",
       "0                 0                 0              0              0   \n",
       "1                 0                 0              0              0   \n",
       "2                77               184             46            132   \n",
       "\n",
       "   sales_6_month        ...         pieces_past_due  perf_6_month_avg  \\\n",
       "0             15        ...                       0            -99.00   \n",
       "1              0        ...                       0              0.50   \n",
       "2            256        ...                       0              0.54   \n",
       "\n",
       "  perf_12_month_avg  local_bo_qty  deck_risk  oe_constraint  ppap_risk  \\\n",
       "0            -99.00             0         No             No        Yes   \n",
       "1              0.28             0        Yes             No         No   \n",
       "2              0.70             0         No             No         No   \n",
       "\n",
       "  stop_auto_buy rev_stop went_on_backorder  \n",
       "0           Yes       No                No  \n",
       "1           Yes       No                No  \n",
       "2           Yes       No                No  \n",
       "\n",
       "[3 rows x 23 columns]"
      ]
     },
     "execution_count": 8,
     "metadata": {},
     "output_type": "execute_result"
    }
   ],
   "source": [
    "data[:3]"
   ]
  },
  {
   "cell_type": "markdown",
   "metadata": {},
   "source": [
    "Shows a quick statistic summary of your data using describe.\n",
    "\n",
    "For object data (e.g. strings or timestamps), the result’s index will include count, unique, top, and freq. \n",
    "\n",
    "The top is the most common value.\n",
    "\n",
    "The freq is the most common value’s frequency.\n",
    "\n",
    "Timestamps also include the first and last items."
   ]
  },
  {
   "cell_type": "code",
   "execution_count": 9,
   "metadata": {
    "ExecuteTime": {
     "end_time": "2019-03-16T11:21:53.256903Z",
     "start_time": "2019-03-16T11:21:53.100665Z"
    },
    "scrolled": true
   },
   "outputs": [
    {
     "data": {
      "text/html": [
       "<div>\n",
       "<style scoped>\n",
       "    .dataframe tbody tr th:only-of-type {\n",
       "        vertical-align: middle;\n",
       "    }\n",
       "\n",
       "    .dataframe tbody tr th {\n",
       "        vertical-align: top;\n",
       "    }\n",
       "\n",
       "    .dataframe thead th {\n",
       "        text-align: right;\n",
       "    }\n",
       "</style>\n",
       "<table border=\"1\" class=\"dataframe\">\n",
       "  <thead>\n",
       "    <tr style=\"text-align: right;\">\n",
       "      <th></th>\n",
       "      <th>sku</th>\n",
       "      <th>national_inv</th>\n",
       "      <th>lead_time</th>\n",
       "      <th>in_transit_qty</th>\n",
       "      <th>forecast_3_month</th>\n",
       "      <th>forecast_6_month</th>\n",
       "      <th>forecast_9_month</th>\n",
       "      <th>sales_1_month</th>\n",
       "      <th>sales_3_month</th>\n",
       "      <th>sales_6_month</th>\n",
       "      <th>...</th>\n",
       "      <th>pieces_past_due</th>\n",
       "      <th>perf_6_month_avg</th>\n",
       "      <th>perf_12_month_avg</th>\n",
       "      <th>local_bo_qty</th>\n",
       "      <th>deck_risk</th>\n",
       "      <th>oe_constraint</th>\n",
       "      <th>ppap_risk</th>\n",
       "      <th>stop_auto_buy</th>\n",
       "      <th>rev_stop</th>\n",
       "      <th>went_on_backorder</th>\n",
       "    </tr>\n",
       "  </thead>\n",
       "  <tbody>\n",
       "    <tr>\n",
       "      <th>count</th>\n",
       "      <td>6.158900e+04</td>\n",
       "      <td>61589.000000</td>\n",
       "      <td>58186.000000</td>\n",
       "      <td>61589.000000</td>\n",
       "      <td>6.158900e+04</td>\n",
       "      <td>6.158900e+04</td>\n",
       "      <td>6.158900e+04</td>\n",
       "      <td>61589.000000</td>\n",
       "      <td>61589.000000</td>\n",
       "      <td>6.158900e+04</td>\n",
       "      <td>...</td>\n",
       "      <td>61589.000000</td>\n",
       "      <td>61589.000000</td>\n",
       "      <td>61589.000000</td>\n",
       "      <td>61589.000000</td>\n",
       "      <td>61589</td>\n",
       "      <td>61589</td>\n",
       "      <td>61589</td>\n",
       "      <td>61589</td>\n",
       "      <td>61589</td>\n",
       "      <td>61589</td>\n",
       "    </tr>\n",
       "    <tr>\n",
       "      <th>unique</th>\n",
       "      <td>NaN</td>\n",
       "      <td>NaN</td>\n",
       "      <td>NaN</td>\n",
       "      <td>NaN</td>\n",
       "      <td>NaN</td>\n",
       "      <td>NaN</td>\n",
       "      <td>NaN</td>\n",
       "      <td>NaN</td>\n",
       "      <td>NaN</td>\n",
       "      <td>NaN</td>\n",
       "      <td>...</td>\n",
       "      <td>NaN</td>\n",
       "      <td>NaN</td>\n",
       "      <td>NaN</td>\n",
       "      <td>NaN</td>\n",
       "      <td>2</td>\n",
       "      <td>2</td>\n",
       "      <td>2</td>\n",
       "      <td>2</td>\n",
       "      <td>2</td>\n",
       "      <td>2</td>\n",
       "    </tr>\n",
       "    <tr>\n",
       "      <th>top</th>\n",
       "      <td>NaN</td>\n",
       "      <td>NaN</td>\n",
       "      <td>NaN</td>\n",
       "      <td>NaN</td>\n",
       "      <td>NaN</td>\n",
       "      <td>NaN</td>\n",
       "      <td>NaN</td>\n",
       "      <td>NaN</td>\n",
       "      <td>NaN</td>\n",
       "      <td>NaN</td>\n",
       "      <td>...</td>\n",
       "      <td>NaN</td>\n",
       "      <td>NaN</td>\n",
       "      <td>NaN</td>\n",
       "      <td>NaN</td>\n",
       "      <td>No</td>\n",
       "      <td>No</td>\n",
       "      <td>No</td>\n",
       "      <td>Yes</td>\n",
       "      <td>No</td>\n",
       "      <td>No</td>\n",
       "    </tr>\n",
       "    <tr>\n",
       "      <th>freq</th>\n",
       "      <td>NaN</td>\n",
       "      <td>NaN</td>\n",
       "      <td>NaN</td>\n",
       "      <td>NaN</td>\n",
       "      <td>NaN</td>\n",
       "      <td>NaN</td>\n",
       "      <td>NaN</td>\n",
       "      <td>NaN</td>\n",
       "      <td>NaN</td>\n",
       "      <td>NaN</td>\n",
       "      <td>...</td>\n",
       "      <td>NaN</td>\n",
       "      <td>NaN</td>\n",
       "      <td>NaN</td>\n",
       "      <td>NaN</td>\n",
       "      <td>48145</td>\n",
       "      <td>61577</td>\n",
       "      <td>53792</td>\n",
       "      <td>59303</td>\n",
       "      <td>61569</td>\n",
       "      <td>50296</td>\n",
       "    </tr>\n",
       "    <tr>\n",
       "      <th>mean</th>\n",
       "      <td>2.037188e+06</td>\n",
       "      <td>287.721882</td>\n",
       "      <td>7.559619</td>\n",
       "      <td>30.192843</td>\n",
       "      <td>1.692728e+02</td>\n",
       "      <td>3.150413e+02</td>\n",
       "      <td>4.535760e+02</td>\n",
       "      <td>44.742957</td>\n",
       "      <td>150.732631</td>\n",
       "      <td>2.835465e+02</td>\n",
       "      <td>...</td>\n",
       "      <td>1.605400</td>\n",
       "      <td>-6.264182</td>\n",
       "      <td>-5.863664</td>\n",
       "      <td>1.205361</td>\n",
       "      <td>NaN</td>\n",
       "      <td>NaN</td>\n",
       "      <td>NaN</td>\n",
       "      <td>NaN</td>\n",
       "      <td>NaN</td>\n",
       "      <td>NaN</td>\n",
       "    </tr>\n",
       "    <tr>\n",
       "      <th>std</th>\n",
       "      <td>6.564178e+05</td>\n",
       "      <td>4233.906931</td>\n",
       "      <td>6.498952</td>\n",
       "      <td>792.869253</td>\n",
       "      <td>5.286742e+03</td>\n",
       "      <td>9.774362e+03</td>\n",
       "      <td>1.420201e+04</td>\n",
       "      <td>1373.805831</td>\n",
       "      <td>5224.959649</td>\n",
       "      <td>8.872270e+03</td>\n",
       "      <td>...</td>\n",
       "      <td>42.309229</td>\n",
       "      <td>25.537906</td>\n",
       "      <td>24.844514</td>\n",
       "      <td>29.981155</td>\n",
       "      <td>NaN</td>\n",
       "      <td>NaN</td>\n",
       "      <td>NaN</td>\n",
       "      <td>NaN</td>\n",
       "      <td>NaN</td>\n",
       "      <td>NaN</td>\n",
       "    </tr>\n",
       "    <tr>\n",
       "      <th>min</th>\n",
       "      <td>1.068628e+06</td>\n",
       "      <td>-2999.000000</td>\n",
       "      <td>0.000000</td>\n",
       "      <td>0.000000</td>\n",
       "      <td>0.000000e+00</td>\n",
       "      <td>0.000000e+00</td>\n",
       "      <td>0.000000e+00</td>\n",
       "      <td>0.000000</td>\n",
       "      <td>0.000000</td>\n",
       "      <td>0.000000e+00</td>\n",
       "      <td>...</td>\n",
       "      <td>0.000000</td>\n",
       "      <td>-99.000000</td>\n",
       "      <td>-99.000000</td>\n",
       "      <td>0.000000</td>\n",
       "      <td>NaN</td>\n",
       "      <td>NaN</td>\n",
       "      <td>NaN</td>\n",
       "      <td>NaN</td>\n",
       "      <td>NaN</td>\n",
       "      <td>NaN</td>\n",
       "    </tr>\n",
       "    <tr>\n",
       "      <th>25%</th>\n",
       "      <td>1.498574e+06</td>\n",
       "      <td>3.000000</td>\n",
       "      <td>4.000000</td>\n",
       "      <td>0.000000</td>\n",
       "      <td>0.000000e+00</td>\n",
       "      <td>0.000000e+00</td>\n",
       "      <td>0.000000e+00</td>\n",
       "      <td>0.000000</td>\n",
       "      <td>0.000000</td>\n",
       "      <td>0.000000e+00</td>\n",
       "      <td>...</td>\n",
       "      <td>0.000000</td>\n",
       "      <td>0.620000</td>\n",
       "      <td>0.640000</td>\n",
       "      <td>0.000000</td>\n",
       "      <td>NaN</td>\n",
       "      <td>NaN</td>\n",
       "      <td>NaN</td>\n",
       "      <td>NaN</td>\n",
       "      <td>NaN</td>\n",
       "      <td>NaN</td>\n",
       "    </tr>\n",
       "    <tr>\n",
       "      <th>50%</th>\n",
       "      <td>1.898033e+06</td>\n",
       "      <td>10.000000</td>\n",
       "      <td>8.000000</td>\n",
       "      <td>0.000000</td>\n",
       "      <td>0.000000e+00</td>\n",
       "      <td>0.000000e+00</td>\n",
       "      <td>0.000000e+00</td>\n",
       "      <td>0.000000</td>\n",
       "      <td>2.000000</td>\n",
       "      <td>4.000000e+00</td>\n",
       "      <td>...</td>\n",
       "      <td>0.000000</td>\n",
       "      <td>0.820000</td>\n",
       "      <td>0.800000</td>\n",
       "      <td>0.000000</td>\n",
       "      <td>NaN</td>\n",
       "      <td>NaN</td>\n",
       "      <td>NaN</td>\n",
       "      <td>NaN</td>\n",
       "      <td>NaN</td>\n",
       "      <td>NaN</td>\n",
       "    </tr>\n",
       "    <tr>\n",
       "      <th>75%</th>\n",
       "      <td>2.314826e+06</td>\n",
       "      <td>57.000000</td>\n",
       "      <td>8.000000</td>\n",
       "      <td>0.000000</td>\n",
       "      <td>1.200000e+01</td>\n",
       "      <td>2.500000e+01</td>\n",
       "      <td>3.600000e+01</td>\n",
       "      <td>6.000000</td>\n",
       "      <td>17.000000</td>\n",
       "      <td>3.400000e+01</td>\n",
       "      <td>...</td>\n",
       "      <td>0.000000</td>\n",
       "      <td>0.960000</td>\n",
       "      <td>0.950000</td>\n",
       "      <td>0.000000</td>\n",
       "      <td>NaN</td>\n",
       "      <td>NaN</td>\n",
       "      <td>NaN</td>\n",
       "      <td>NaN</td>\n",
       "      <td>NaN</td>\n",
       "      <td>NaN</td>\n",
       "    </tr>\n",
       "    <tr>\n",
       "      <th>max</th>\n",
       "      <td>3.284895e+06</td>\n",
       "      <td>673445.000000</td>\n",
       "      <td>52.000000</td>\n",
       "      <td>170976.000000</td>\n",
       "      <td>1.126656e+06</td>\n",
       "      <td>2.094336e+06</td>\n",
       "      <td>3.062016e+06</td>\n",
       "      <td>295197.000000</td>\n",
       "      <td>934593.000000</td>\n",
       "      <td>1.799099e+06</td>\n",
       "      <td>...</td>\n",
       "      <td>7392.000000</td>\n",
       "      <td>1.000000</td>\n",
       "      <td>1.000000</td>\n",
       "      <td>2999.000000</td>\n",
       "      <td>NaN</td>\n",
       "      <td>NaN</td>\n",
       "      <td>NaN</td>\n",
       "      <td>NaN</td>\n",
       "      <td>NaN</td>\n",
       "      <td>NaN</td>\n",
       "    </tr>\n",
       "  </tbody>\n",
       "</table>\n",
       "<p>11 rows × 23 columns</p>\n",
       "</div>"
      ],
      "text/plain": [
       "                 sku   national_inv     lead_time  in_transit_qty  \\\n",
       "count   6.158900e+04   61589.000000  58186.000000    61589.000000   \n",
       "unique           NaN            NaN           NaN             NaN   \n",
       "top              NaN            NaN           NaN             NaN   \n",
       "freq             NaN            NaN           NaN             NaN   \n",
       "mean    2.037188e+06     287.721882      7.559619       30.192843   \n",
       "std     6.564178e+05    4233.906931      6.498952      792.869253   \n",
       "min     1.068628e+06   -2999.000000      0.000000        0.000000   \n",
       "25%     1.498574e+06       3.000000      4.000000        0.000000   \n",
       "50%     1.898033e+06      10.000000      8.000000        0.000000   \n",
       "75%     2.314826e+06      57.000000      8.000000        0.000000   \n",
       "max     3.284895e+06  673445.000000     52.000000   170976.000000   \n",
       "\n",
       "        forecast_3_month  forecast_6_month  forecast_9_month  sales_1_month  \\\n",
       "count       6.158900e+04      6.158900e+04      6.158900e+04   61589.000000   \n",
       "unique               NaN               NaN               NaN            NaN   \n",
       "top                  NaN               NaN               NaN            NaN   \n",
       "freq                 NaN               NaN               NaN            NaN   \n",
       "mean        1.692728e+02      3.150413e+02      4.535760e+02      44.742957   \n",
       "std         5.286742e+03      9.774362e+03      1.420201e+04    1373.805831   \n",
       "min         0.000000e+00      0.000000e+00      0.000000e+00       0.000000   \n",
       "25%         0.000000e+00      0.000000e+00      0.000000e+00       0.000000   \n",
       "50%         0.000000e+00      0.000000e+00      0.000000e+00       0.000000   \n",
       "75%         1.200000e+01      2.500000e+01      3.600000e+01       6.000000   \n",
       "max         1.126656e+06      2.094336e+06      3.062016e+06  295197.000000   \n",
       "\n",
       "        sales_3_month  sales_6_month        ...         pieces_past_due  \\\n",
       "count    61589.000000   6.158900e+04        ...            61589.000000   \n",
       "unique            NaN            NaN        ...                     NaN   \n",
       "top               NaN            NaN        ...                     NaN   \n",
       "freq              NaN            NaN        ...                     NaN   \n",
       "mean       150.732631   2.835465e+02        ...                1.605400   \n",
       "std       5224.959649   8.872270e+03        ...               42.309229   \n",
       "min          0.000000   0.000000e+00        ...                0.000000   \n",
       "25%          0.000000   0.000000e+00        ...                0.000000   \n",
       "50%          2.000000   4.000000e+00        ...                0.000000   \n",
       "75%         17.000000   3.400000e+01        ...                0.000000   \n",
       "max     934593.000000   1.799099e+06        ...             7392.000000   \n",
       "\n",
       "        perf_6_month_avg perf_12_month_avg  local_bo_qty  deck_risk  \\\n",
       "count       61589.000000      61589.000000  61589.000000      61589   \n",
       "unique               NaN               NaN           NaN          2   \n",
       "top                  NaN               NaN           NaN         No   \n",
       "freq                 NaN               NaN           NaN      48145   \n",
       "mean           -6.264182         -5.863664      1.205361        NaN   \n",
       "std            25.537906         24.844514     29.981155        NaN   \n",
       "min           -99.000000        -99.000000      0.000000        NaN   \n",
       "25%             0.620000          0.640000      0.000000        NaN   \n",
       "50%             0.820000          0.800000      0.000000        NaN   \n",
       "75%             0.960000          0.950000      0.000000        NaN   \n",
       "max             1.000000          1.000000   2999.000000        NaN   \n",
       "\n",
       "        oe_constraint  ppap_risk stop_auto_buy rev_stop went_on_backorder  \n",
       "count           61589      61589         61589    61589             61589  \n",
       "unique              2          2             2        2                 2  \n",
       "top                No         No           Yes       No                No  \n",
       "freq            61577      53792         59303    61569             50296  \n",
       "mean              NaN        NaN           NaN      NaN               NaN  \n",
       "std               NaN        NaN           NaN      NaN               NaN  \n",
       "min               NaN        NaN           NaN      NaN               NaN  \n",
       "25%               NaN        NaN           NaN      NaN               NaN  \n",
       "50%               NaN        NaN           NaN      NaN               NaN  \n",
       "75%               NaN        NaN           NaN      NaN               NaN  \n",
       "max               NaN        NaN           NaN      NaN               NaN  \n",
       "\n",
       "[11 rows x 23 columns]"
      ]
     },
     "execution_count": 9,
     "metadata": {},
     "output_type": "execute_result"
    }
   ],
   "source": [
    "data.describe(include='all')"
   ]
  },
  {
   "cell_type": "markdown",
   "metadata": {},
   "source": [
    "Display data type of each variable"
   ]
  },
  {
   "cell_type": "code",
   "execution_count": 10,
   "metadata": {
    "ExecuteTime": {
     "end_time": "2019-03-16T11:21:53.264034Z",
     "start_time": "2019-03-16T11:21:53.258770Z"
    }
   },
   "outputs": [
    {
     "data": {
      "text/plain": [
       "sku                    int64\n",
       "national_inv           int64\n",
       "lead_time            float64\n",
       "in_transit_qty         int64\n",
       "forecast_3_month       int64\n",
       "forecast_6_month       int64\n",
       "forecast_9_month       int64\n",
       "sales_1_month          int64\n",
       "sales_3_month          int64\n",
       "sales_6_month          int64\n",
       "sales_9_month          int64\n",
       "min_bank               int64\n",
       "potential_issue       object\n",
       "pieces_past_due        int64\n",
       "perf_6_month_avg     float64\n",
       "perf_12_month_avg    float64\n",
       "local_bo_qty           int64\n",
       "deck_risk             object\n",
       "oe_constraint         object\n",
       "ppap_risk             object\n",
       "stop_auto_buy         object\n",
       "rev_stop              object\n",
       "went_on_backorder     object\n",
       "dtype: object"
      ]
     },
     "execution_count": 10,
     "metadata": {},
     "output_type": "execute_result"
    }
   ],
   "source": [
    "data.dtypes"
   ]
  },
  {
   "cell_type": "markdown",
   "metadata": {},
   "source": [
    "#### Observations\n",
    "\n",
    "sku is Categorical but is interpreted as int64 \n",
    "potential_issue, deck_risk, oe_constraint, ppap_risk, stop_auto_buy, rev_stop, and went_on_backorder are also \n",
    "categorical but is interpreted as object. "
   ]
  },
  {
   "cell_type": "markdown",
   "metadata": {},
   "source": [
    "#### Convert all the attributes to appropriate type"
   ]
  },
  {
   "cell_type": "markdown",
   "metadata": {},
   "source": [
    "Data type conversion\n",
    "\n",
    "    Using astype('category') to convert potential_issue, deck_risk, oe_constraint, ppap_risk, stop_auto_buy, rev_stop, and went_on_backorder attributes to categorical attributes.\n"
   ]
  },
  {
   "cell_type": "code",
   "execution_count": 11,
   "metadata": {
    "ExecuteTime": {
     "end_time": "2019-03-16T11:21:53.339484Z",
     "start_time": "2019-03-16T11:21:53.265425Z"
    }
   },
   "outputs": [],
   "source": [
    "for col in ['sku', 'potential_issue', 'deck_risk', 'oe_constraint', 'ppap_risk', 'stop_auto_buy', 'rev_stop', 'went_on_backorder']:\n",
    "    data[col] = data[col].astype('category')"
   ]
  },
  {
   "cell_type": "markdown",
   "metadata": {},
   "source": [
    "Display data type of each variable"
   ]
  },
  {
   "cell_type": "code",
   "execution_count": 12,
   "metadata": {
    "ExecuteTime": {
     "end_time": "2019-03-16T11:21:53.345657Z",
     "start_time": "2019-03-16T11:21:53.340992Z"
    }
   },
   "outputs": [
    {
     "data": {
      "text/plain": [
       "sku                  category\n",
       "national_inv            int64\n",
       "lead_time             float64\n",
       "in_transit_qty          int64\n",
       "forecast_3_month        int64\n",
       "forecast_6_month        int64\n",
       "forecast_9_month        int64\n",
       "sales_1_month           int64\n",
       "sales_3_month           int64\n",
       "sales_6_month           int64\n",
       "sales_9_month           int64\n",
       "min_bank                int64\n",
       "potential_issue      category\n",
       "pieces_past_due         int64\n",
       "perf_6_month_avg      float64\n",
       "perf_12_month_avg     float64\n",
       "local_bo_qty            int64\n",
       "deck_risk            category\n",
       "oe_constraint        category\n",
       "ppap_risk            category\n",
       "stop_auto_buy        category\n",
       "rev_stop             category\n",
       "went_on_backorder    category\n",
       "dtype: object"
      ]
     },
     "execution_count": 12,
     "metadata": {},
     "output_type": "execute_result"
    }
   ],
   "source": [
    "data.dtypes"
   ]
  },
  {
   "cell_type": "markdown",
   "metadata": {},
   "source": [
    "##### Delete sku attribute"
   ]
  },
  {
   "cell_type": "code",
   "execution_count": 13,
   "metadata": {
    "ExecuteTime": {
     "end_time": "2019-03-16T11:21:53.356736Z",
     "start_time": "2019-03-16T11:21:53.348330Z"
    }
   },
   "outputs": [
    {
     "data": {
      "text/plain": [
       "61589"
      ]
     },
     "execution_count": 13,
     "metadata": {},
     "output_type": "execute_result"
    }
   ],
   "source": [
    "np.size(np.unique(data.sku))"
   ]
  },
  {
   "cell_type": "code",
   "execution_count": 14,
   "metadata": {
    "ExecuteTime": {
     "end_time": "2019-03-16T11:21:53.367713Z",
     "start_time": "2019-03-16T11:21:53.358197Z"
    }
   },
   "outputs": [],
   "source": [
    "data.drop('sku', axis=1, inplace=True)"
   ]
  },
  {
   "cell_type": "markdown",
   "metadata": {},
   "source": [
    "#### Missing Data\n",
    "\n",
    "Missing value analysis and dropping the records with missing values"
   ]
  },
  {
   "cell_type": "code",
   "execution_count": 15,
   "metadata": {
    "ExecuteTime": {
     "end_time": "2019-03-16T11:21:53.394939Z",
     "start_time": "2019-03-16T11:21:53.369219Z"
    }
   },
   "outputs": [
    {
     "data": {
      "text/plain": [
       "national_inv            0\n",
       "lead_time            3403\n",
       "in_transit_qty          0\n",
       "forecast_3_month        0\n",
       "forecast_6_month        0\n",
       "forecast_9_month        0\n",
       "sales_1_month           0\n",
       "sales_3_month           0\n",
       "sales_6_month           0\n",
       "sales_9_month           0\n",
       "min_bank                0\n",
       "potential_issue         0\n",
       "pieces_past_due         0\n",
       "perf_6_month_avg        0\n",
       "perf_12_month_avg       0\n",
       "local_bo_qty            0\n",
       "deck_risk               0\n",
       "oe_constraint           0\n",
       "ppap_risk               0\n",
       "stop_auto_buy           0\n",
       "rev_stop                0\n",
       "went_on_backorder       0\n",
       "dtype: int64"
      ]
     },
     "execution_count": 15,
     "metadata": {},
     "output_type": "execute_result"
    }
   ],
   "source": [
    "data.isnull().sum()"
   ]
  },
  {
   "cell_type": "markdown",
   "metadata": {},
   "source": [
    "Observing the number of records before and after missing value records removal"
   ]
  },
  {
   "cell_type": "code",
   "execution_count": 16,
   "metadata": {
    "ExecuteTime": {
     "end_time": "2019-03-16T11:21:53.399674Z",
     "start_time": "2019-03-16T11:21:53.396690Z"
    }
   },
   "outputs": [
    {
     "name": "stdout",
     "output_type": "stream",
     "text": [
      "(61589, 22)\n"
     ]
    }
   ],
   "source": [
    "print (data.shape)"
   ]
  },
  {
   "cell_type": "code",
   "execution_count": 17,
   "metadata": {
    "ExecuteTime": {
     "end_time": "2019-03-16T11:21:53.430265Z",
     "start_time": "2019-03-16T11:21:53.402192Z"
    }
   },
   "outputs": [],
   "source": [
    "#Since the number of missing values is about 5%. For initial analysis we ignore all these records\n",
    "data = data.dropna(axis=0)"
   ]
  },
  {
   "cell_type": "code",
   "execution_count": 18,
   "metadata": {
    "ExecuteTime": {
     "end_time": "2019-03-16T11:21:53.455572Z",
     "start_time": "2019-03-16T11:21:53.434692Z"
    }
   },
   "outputs": [
    {
     "name": "stdout",
     "output_type": "stream",
     "text": [
      "national_inv         0\n",
      "lead_time            0\n",
      "in_transit_qty       0\n",
      "forecast_3_month     0\n",
      "forecast_6_month     0\n",
      "forecast_9_month     0\n",
      "sales_1_month        0\n",
      "sales_3_month        0\n",
      "sales_6_month        0\n",
      "sales_9_month        0\n",
      "min_bank             0\n",
      "potential_issue      0\n",
      "pieces_past_due      0\n",
      "perf_6_month_avg     0\n",
      "perf_12_month_avg    0\n",
      "local_bo_qty         0\n",
      "deck_risk            0\n",
      "oe_constraint        0\n",
      "ppap_risk            0\n",
      "stop_auto_buy        0\n",
      "rev_stop             0\n",
      "went_on_backorder    0\n",
      "dtype: int64\n",
      "----------------------------------\n",
      "(58186, 22)\n"
     ]
    }
   ],
   "source": [
    "print(data.isnull().sum())\n",
    "print(\"----------------------------------\")\n",
    "print(data.shape)"
   ]
  },
  {
   "cell_type": "markdown",
   "metadata": {},
   "source": [
    "#### Converting Categorical to Numeric\n",
    "\n",
    "For some of the models all the independent attribute should be of type numeric and ANN model is one among them.\n",
    "But this data set has some categorial attributes.\n",
    "\n",
    "'pandas.get_dummies' To convert convert categorical variable into dummy/indicator variables\n"
   ]
  },
  {
   "cell_type": "code",
   "execution_count": 19,
   "metadata": {
    "ExecuteTime": {
     "end_time": "2019-03-16T11:21:53.461761Z",
     "start_time": "2019-03-16T11:21:53.458118Z"
    }
   },
   "outputs": [
    {
     "name": "stdout",
     "output_type": "stream",
     "text": [
      "Index(['national_inv', 'lead_time', 'in_transit_qty', 'forecast_3_month',\n",
      "       'forecast_6_month', 'forecast_9_month', 'sales_1_month',\n",
      "       'sales_3_month', 'sales_6_month', 'sales_9_month', 'min_bank',\n",
      "       'potential_issue', 'pieces_past_due', 'perf_6_month_avg',\n",
      "       'perf_12_month_avg', 'local_bo_qty', 'deck_risk', 'oe_constraint',\n",
      "       'ppap_risk', 'stop_auto_buy', 'rev_stop', 'went_on_backorder'],\n",
      "      dtype='object')\n"
     ]
    }
   ],
   "source": [
    "print (data.columns)"
   ]
  },
  {
   "cell_type": "markdown",
   "metadata": {},
   "source": [
    "##### Creating dummy variables.\n",
    "\n",
    "If we have k levels in a category, then we create k-1 dummy variables as the last one would be redundant. So we use the parameter drop_first in pd.get_dummies function that drops the first level in each of the category\n"
   ]
  },
  {
   "cell_type": "code",
   "execution_count": 20,
   "metadata": {
    "ExecuteTime": {
     "end_time": "2019-03-16T11:21:53.473568Z",
     "start_time": "2019-03-16T11:21:53.463745Z"
    }
   },
   "outputs": [],
   "source": [
    "categorical_Attributes = data.select_dtypes(include=['category']).columns"
   ]
  },
  {
   "cell_type": "code",
   "execution_count": 21,
   "metadata": {
    "ExecuteTime": {
     "end_time": "2019-03-16T11:21:53.496829Z",
     "start_time": "2019-03-16T11:21:53.475123Z"
    }
   },
   "outputs": [],
   "source": [
    "data = pd.get_dummies(columns=categorical_Attributes, data=data, prefix=categorical_Attributes, prefix_sep=\"_\",drop_first=True)"
   ]
  },
  {
   "cell_type": "code",
   "execution_count": 22,
   "metadata": {
    "ExecuteTime": {
     "end_time": "2019-03-16T11:21:53.502644Z",
     "start_time": "2019-03-16T11:21:53.498947Z"
    }
   },
   "outputs": [
    {
     "name": "stdout",
     "output_type": "stream",
     "text": [
      "Index(['national_inv', 'lead_time', 'in_transit_qty', 'forecast_3_month',\n",
      "       'forecast_6_month', 'forecast_9_month', 'sales_1_month',\n",
      "       'sales_3_month', 'sales_6_month', 'sales_9_month', 'min_bank',\n",
      "       'pieces_past_due', 'perf_6_month_avg', 'perf_12_month_avg',\n",
      "       'local_bo_qty', 'potential_issue_Yes', 'deck_risk_Yes',\n",
      "       'oe_constraint_Yes', 'ppap_risk_Yes', 'stop_auto_buy_Yes',\n",
      "       'rev_stop_Yes', 'went_on_backorder_Yes'],\n",
      "      dtype='object') (58186, 22)\n"
     ]
    }
   ],
   "source": [
    "print (data.columns, data.shape)"
   ]
  },
  {
   "cell_type": "markdown",
   "metadata": {},
   "source": [
    "#### Target attribute distribution"
   ]
  },
  {
   "cell_type": "code",
   "execution_count": 23,
   "metadata": {
    "ExecuteTime": {
     "end_time": "2019-03-16T11:21:53.510533Z",
     "start_time": "2019-03-16T11:21:53.504615Z"
    }
   },
   "outputs": [
    {
     "data": {
      "text/plain": [
       "0    47217\n",
       "1    10969\n",
       "Name: went_on_backorder_Yes, dtype: int64"
      ]
     },
     "execution_count": 23,
     "metadata": {},
     "output_type": "execute_result"
    }
   ],
   "source": [
    "pd.value_counts(data['went_on_backorder_Yes'])"
   ]
  },
  {
   "cell_type": "markdown",
   "metadata": {},
   "source": [
    "#### Train-Test Split\n",
    "\n",
    "Using sklearn.model_selection.train_test_split\n",
    "\n",
    "    Split arrays or matrices into train and test subsets"
   ]
  },
  {
   "cell_type": "code",
   "execution_count": 24,
   "metadata": {
    "ExecuteTime": {
     "end_time": "2019-03-16T11:21:53.574552Z",
     "start_time": "2019-03-16T11:21:53.512217Z"
    }
   },
   "outputs": [],
   "source": [
    "#Performing train test split on the data\n",
    "X, y = data.loc[:,data.columns!='went_on_backorder_Yes'].values, data.loc[:,'went_on_backorder_Yes'].values\n",
    "\n",
    "X_train, X_test, y_train, y_test = train_test_split(X, y, test_size=0.3, random_state=123, stratify = data['went_on_backorder_Yes'])\n"
   ]
  },
  {
   "cell_type": "code",
   "execution_count": 25,
   "metadata": {
    "ExecuteTime": {
     "end_time": "2019-03-16T11:21:53.583636Z",
     "start_time": "2019-03-16T11:21:53.576331Z"
    }
   },
   "outputs": [
    {
     "name": "stdout",
     "output_type": "stream",
     "text": [
      "0    33052\n",
      "1     7678\n",
      "dtype: int64\n",
      "0    14165\n",
      "1     3291\n",
      "dtype: int64\n"
     ]
    }
   ],
   "source": [
    "#To get the distribution in the target in train and test\n",
    "print(pd.value_counts(y_train))\n",
    "print(pd.value_counts(y_test))"
   ]
  },
  {
   "cell_type": "markdown",
   "metadata": {},
   "source": [
    "-------------------------------------------------------------------------------------------------------------------\n",
    "-------------------------------------------------------------------------------------------------------------------"
   ]
  },
  {
   "cell_type": "markdown",
   "metadata": {},
   "source": [
    "### Logistic Regression Modelling"
   ]
  },
  {
   "cell_type": "markdown",
   "metadata": {},
   "source": [
    "##### Building a logistic regression model using sklearn"
   ]
  },
  {
   "cell_type": "code",
   "execution_count": 26,
   "metadata": {
    "ExecuteTime": {
     "end_time": "2019-03-16T11:21:53.589556Z",
     "start_time": "2019-03-16T11:21:53.585572Z"
    }
   },
   "outputs": [],
   "source": [
    "classifier = LogisticRegression(random_state=123)"
   ]
  },
  {
   "cell_type": "code",
   "execution_count": 27,
   "metadata": {
    "ExecuteTime": {
     "end_time": "2019-03-16T11:21:54.808973Z",
     "start_time": "2019-03-16T11:21:53.591781Z"
    }
   },
   "outputs": [
    {
     "name": "stderr",
     "output_type": "stream",
     "text": [
      "/Users/samyam/anaconda3/envs/insofe/lib/python3.6/site-packages/sklearn/linear_model/logistic.py:433: FutureWarning: Default solver will be changed to 'lbfgs' in 0.22. Specify a solver to silence this warning.\n",
      "  FutureWarning)\n",
      "/Users/samyam/anaconda3/envs/insofe/lib/python3.6/site-packages/sklearn/svm/base.py:931: ConvergenceWarning: Liblinear failed to converge, increase the number of iterations.\n",
      "  \"the number of iterations.\", ConvergenceWarning)\n"
     ]
    },
    {
     "data": {
      "text/plain": [
       "LogisticRegression(C=1.0, class_weight=None, dual=False, fit_intercept=True,\n",
       "          intercept_scaling=1, max_iter=100, multi_class='warn',\n",
       "          n_jobs=None, penalty='l2', random_state=123, solver='warn',\n",
       "          tol=0.0001, verbose=0, warm_start=False)"
      ]
     },
     "execution_count": 27,
     "metadata": {},
     "output_type": "execute_result"
    }
   ],
   "source": [
    "classifier.fit(X_train, y_train)"
   ]
  },
  {
   "cell_type": "markdown",
   "metadata": {},
   "source": [
    "##### Predictions"
   ]
  },
  {
   "cell_type": "code",
   "execution_count": 28,
   "metadata": {
    "ExecuteTime": {
     "end_time": "2019-03-16T11:21:54.815525Z",
     "start_time": "2019-03-16T11:21:54.810728Z"
    }
   },
   "outputs": [],
   "source": [
    "# Predictions on train data\n",
    "train_pred = classifier.predict(X_train)\n",
    "# Predictions on test data\n",
    "test_pred = classifier.predict(X_test)"
   ]
  },
  {
   "cell_type": "markdown",
   "metadata": {},
   "source": [
    "##### Confusion Matrix"
   ]
  },
  {
   "cell_type": "code",
   "execution_count": 29,
   "metadata": {
    "ExecuteTime": {
     "end_time": "2019-03-16T11:21:54.867645Z",
     "start_time": "2019-03-16T11:21:54.817513Z"
    }
   },
   "outputs": [
    {
     "name": "stdout",
     "output_type": "stream",
     "text": [
      "Confusion Matrix - Train Data: \n",
      " [[32893   159]\n",
      " [ 7258   420]]\n",
      "Confusion Matrix - Test Data: \n",
      " [[14098    67]\n",
      " [ 3092   199]]\n"
     ]
    }
   ],
   "source": [
    "# Train data\n",
    "confusion_matrix_train = confusion_matrix(y_train, train_pred)\n",
    "print(\"Confusion Matrix - Train Data: \\n\", confusion_matrix_train)\n",
    "# Test data\n",
    "confusion_matrix_test= confusion_matrix(y_test, test_pred)\n",
    "print(\"Confusion Matrix - Test Data: \\n\", confusion_matrix_test)"
   ]
  },
  {
   "cell_type": "markdown",
   "metadata": {},
   "source": [
    "##### Error Metrics"
   ]
  },
  {
   "cell_type": "code",
   "execution_count": 30,
   "metadata": {
    "ExecuteTime": {
     "end_time": "2019-03-16T11:21:54.878915Z",
     "start_time": "2019-03-16T11:21:54.869557Z"
    }
   },
   "outputs": [
    {
     "name": "stdout",
     "output_type": "stream",
     "text": [
      "Train Specificity:  0.9951893985235387\n",
      "Train Recall:  0.054701745246157854\n",
      "Train Precision:  0.7253886010362695\n",
      "Train Accuracy:  0.8178983550208692\n"
     ]
    }
   ],
   "source": [
    "# Metrics on train data for logistic regression model\n",
    "#Accuracy\n",
    "accuracy_Train_logReg = (confusion_matrix_train[0,0]+confusion_matrix_train[1,1])/(confusion_matrix_train[0,0]+confusion_matrix_train[0,1]+confusion_matrix_train[1,0]+confusion_matrix_train[1,1])\n",
    "#specificity or true negative rate (TNR)\n",
    "specificity_Train_logReg = confusion_matrix_train[0,0]/(confusion_matrix_train[0,0]+confusion_matrix_train[0,1])\n",
    "#sensitivity, recall, hit rate, or true positive rate (TPR)\n",
    "recall_Train_logReg = confusion_matrix_train[1,1]/(confusion_matrix_train[1,0]+confusion_matrix_train[1,1])\n",
    "#precision\n",
    "precision_Train_logReg = confusion_matrix_train[1,1]/(confusion_matrix_train[0,1]+confusion_matrix_train[1,1])\n",
    "\n",
    "print(\"Train Specificity: \",specificity_Train_logReg)\n",
    "print(\"Train Recall: \",recall_Train_logReg)\n",
    "print(\"Train Precision: \",precision_Train_logReg)\n",
    "print(\"Train Accuracy: \",accuracy_Train_logReg)"
   ]
  },
  {
   "cell_type": "code",
   "execution_count": 31,
   "metadata": {
    "ExecuteTime": {
     "end_time": "2019-03-16T11:21:54.889285Z",
     "start_time": "2019-03-16T11:21:54.881114Z"
    }
   },
   "outputs": [
    {
     "name": "stdout",
     "output_type": "stream",
     "text": [
      "Test Specificity:  0.9952700317684433\n",
      "Test Recall:  0.06046794287450623\n",
      "Test Precision:  0.7481203007518797\n",
      "Test Accuracy:  0.8190307057745188\n"
     ]
    }
   ],
   "source": [
    "# Metrics on test data\n",
    "#Accuracy\n",
    "accuracy_Test_logReg = (confusion_matrix_test[0,0]+confusion_matrix_test[1,1])/(confusion_matrix_test[0,0]+confusion_matrix_test[0,1]+confusion_matrix_test[1,0]+confusion_matrix_test[1,1])\n",
    "#specificity or true negative rate (TNR)\n",
    "specificity_Test_logReg = confusion_matrix_test[0,0]/(confusion_matrix_test[0,0]+confusion_matrix_test[0,1])\n",
    "#sensitivity, recall, hit rate, or true positive rate (TPR)\n",
    "recall_Test_logReg = confusion_matrix_test[1,1]/(confusion_matrix_test[1,0]+confusion_matrix_test[1,1])\n",
    "#precision\n",
    "precision_Test_logReg = confusion_matrix_test[1,1]/(confusion_matrix_test[0,1]+confusion_matrix_test[1,1])\n",
    "\n",
    "print(\"Test Specificity: \",specificity_Test_logReg)\n",
    "print(\"Test Recall: \",recall_Test_logReg)\n",
    "print(\"Test Precision: \",precision_Test_logReg)\n",
    "print(\"Test Accuracy: \",accuracy_Test_logReg)"
   ]
  },
  {
   "cell_type": "markdown",
   "metadata": {},
   "source": [
    "-------------------------------------------------------------------------------------------------------------------\n",
    "-------------------------------------------------------------------------------------------------------------------"
   ]
  },
  {
   "cell_type": "markdown",
   "metadata": {},
   "source": [
    "## Introduction to Keras"
   ]
  },
  {
   "cell_type": "markdown",
   "metadata": {},
   "source": [
    "![](img/fc_dense_layers_keras.jpg)"
   ]
  },
  {
   "cell_type": "markdown",
   "metadata": {},
   "source": [
    "##### A. The core data structure of Keras is a model, a way to organize layers. The simplest type of model is the Sequential model, a linear stack of layers. \n",
    "\n",
    "* The keras sequential api enables us to build common yet complex neural network architectures flexibly\n",
    "\n",
    "* Objects of the Keras sequential class, can have multiple neural network layers stacked on top of one another\n",
    "\n",
    "![](img/keras_sequential_api.jpg)"
   ]
  },
  {
   "cell_type": "code",
   "execution_count": 32,
   "metadata": {
    "ExecuteTime": {
     "end_time": "2019-03-16T11:21:54.909595Z",
     "start_time": "2019-03-16T11:21:54.893617Z"
    }
   },
   "outputs": [],
   "source": [
    "from keras.models import Sequential\n",
    "\n",
    "model = Sequential()"
   ]
  },
  {
   "cell_type": "code",
   "execution_count": 33,
   "metadata": {
    "ExecuteTime": {
     "end_time": "2019-03-16T11:21:54.942947Z",
     "start_time": "2019-03-16T11:21:54.911704Z"
    }
   },
   "outputs": [],
   "source": [
    "from keras.layers import Dense\n",
    "\n",
    "model.add(Dense(units=64, input_dim=21, activation='sigmoid'))\n",
    "model.add(Dense(units=1, activation='sigmoid'))"
   ]
  },
  {
   "cell_type": "code",
   "execution_count": 34,
   "metadata": {
    "ExecuteTime": {
     "end_time": "2019-03-16T11:21:54.950259Z",
     "start_time": "2019-03-16T11:21:54.945032Z"
    }
   },
   "outputs": [
    {
     "name": "stdout",
     "output_type": "stream",
     "text": [
      "_________________________________________________________________\n",
      "Layer (type)                 Output Shape              Param #   \n",
      "=================================================================\n",
      "dense_1 (Dense)              (None, 64)                1408      \n",
      "_________________________________________________________________\n",
      "dense_2 (Dense)              (None, 1)                 65        \n",
      "=================================================================\n",
      "Total params: 1,473\n",
      "Trainable params: 1,473\n",
      "Non-trainable params: 0\n",
      "_________________________________________________________________\n"
     ]
    }
   ],
   "source": [
    "model.summary()"
   ]
  },
  {
   "cell_type": "markdown",
   "metadata": {},
   "source": [
    "##### B. Compilation\n",
    "Before training a model, you need to configure the learning process, which is done via the compile method. receives three arguments\n",
    "\n",
    "* optimizer - An optimizer. An optimizer is an algorithm that uses this feedback signal, to actually update the weights so that the output from the network gets closer to the ground truth.\n",
    "* loss - A loss function. This is the objective function that the model will try to minimize.\n",
    "* metrics - A list of error metrics. This is for users reference and does not add value to the weights calculations."
   ]
  },
  {
   "cell_type": "code",
   "execution_count": 35,
   "metadata": {
    "ExecuteTime": {
     "end_time": "2019-03-16T11:21:55.047814Z",
     "start_time": "2019-03-16T11:21:54.952525Z"
    }
   },
   "outputs": [],
   "source": [
    "model.compile(loss = 'binary_crossentropy', optimizer = 'sgd', metrics = ['accuracy'])"
   ]
  },
  {
   "cell_type": "markdown",
   "metadata": {},
   "source": [
    "##### C. Training\n",
    "Keras models are trained on Numpy arrays of input data and labels. For training a model, you will typically use the  fit function\n",
    "\n",
    "* epoch = one forward pass and one backward pass of all the training examples\n",
    "* batch size = the number of training examples in one forward/backward pass. The higher the batch size, the more memory space you'll need.\n"
   ]
  },
  {
   "cell_type": "code",
   "execution_count": 36,
   "metadata": {
    "ExecuteTime": {
     "end_time": "2019-03-16T11:22:50.718567Z",
     "start_time": "2019-03-16T11:21:55.049317Z"
    },
    "scrolled": true
   },
   "outputs": [
    {
     "name": "stdout",
     "output_type": "stream",
     "text": [
      "Epoch 1/100\n",
      "40730/40730 [==============================] - 1s 16us/step - loss: 0.3490 - acc: 0.8346\n",
      "Epoch 2/100\n",
      "40730/40730 [==============================] - 1s 13us/step - loss: 0.2788 - acc: 0.8804\n",
      "Epoch 3/100\n",
      "40730/40730 [==============================] - 1s 13us/step - loss: 0.2646 - acc: 0.8885\n",
      "Epoch 4/100\n",
      "40730/40730 [==============================] - 1s 13us/step - loss: 0.2611 - acc: 0.8915\n",
      "Epoch 5/100\n",
      "40730/40730 [==============================] - 1s 13us/step - loss: 0.2572 - acc: 0.8928\n",
      "Epoch 6/100\n",
      "40730/40730 [==============================] - 1s 14us/step - loss: 0.2566 - acc: 0.8934: 0s - loss: 0.2557 - acc: 0.89\n",
      "Epoch 7/100\n",
      "40730/40730 [==============================] - 1s 13us/step - loss: 0.2590 - acc: 0.8930\n",
      "Epoch 8/100\n",
      "40730/40730 [==============================] - 1s 13us/step - loss: 0.2531 - acc: 0.8953\n",
      "Epoch 9/100\n",
      "40730/40730 [==============================] - 1s 13us/step - loss: 0.2516 - acc: 0.8961\n",
      "Epoch 10/100\n",
      "40730/40730 [==============================] - 1s 13us/step - loss: 0.2525 - acc: 0.8954\n",
      "Epoch 11/100\n",
      "40730/40730 [==============================] - 1s 13us/step - loss: 0.2570 - acc: 0.8935\n",
      "Epoch 12/100\n",
      "40730/40730 [==============================] - 1s 13us/step - loss: 0.2538 - acc: 0.8942\n",
      "Epoch 13/100\n",
      "40730/40730 [==============================] - 1s 13us/step - loss: 0.2536 - acc: 0.8949\n",
      "Epoch 14/100\n",
      "40730/40730 [==============================] - 1s 15us/step - loss: 0.2530 - acc: 0.8948\n",
      "Epoch 15/100\n",
      "40730/40730 [==============================] - 1s 16us/step - loss: 0.2492 - acc: 0.8955\n",
      "Epoch 16/100\n",
      "40730/40730 [==============================] - 1s 14us/step - loss: 0.2493 - acc: 0.8959\n",
      "Epoch 17/100\n",
      "40730/40730 [==============================] - 1s 16us/step - loss: 0.2483 - acc: 0.8962\n",
      "Epoch 18/100\n",
      "40730/40730 [==============================] - 1s 15us/step - loss: 0.2475 - acc: 0.8981\n",
      "Epoch 19/100\n",
      "40730/40730 [==============================] - 1s 15us/step - loss: 0.2474 - acc: 0.8974: 0s - loss: 0.2492 - acc\n",
      "Epoch 20/100\n",
      "40730/40730 [==============================] - 1s 15us/step - loss: 0.2485 - acc: 0.8975\n",
      "Epoch 21/100\n",
      "40730/40730 [==============================] - 1s 14us/step - loss: 0.2487 - acc: 0.8971\n",
      "Epoch 22/100\n",
      "40730/40730 [==============================] - 1s 15us/step - loss: 0.2479 - acc: 0.8972\n",
      "Epoch 23/100\n",
      "40730/40730 [==============================] - 1s 14us/step - loss: 0.2470 - acc: 0.8977\n",
      "Epoch 24/100\n",
      "40730/40730 [==============================] - 1s 15us/step - loss: 0.2471 - acc: 0.8975\n",
      "Epoch 25/100\n",
      "40730/40730 [==============================] - 1s 15us/step - loss: 0.2473 - acc: 0.8957\n",
      "Epoch 26/100\n",
      "40730/40730 [==============================] - 1s 14us/step - loss: 0.2435 - acc: 0.8988: 0s - loss: 0.2498 - a\n",
      "Epoch 27/100\n",
      "40730/40730 [==============================] - 1s 15us/step - loss: 0.2449 - acc: 0.8971\n",
      "Epoch 28/100\n",
      "40730/40730 [==============================] - 1s 16us/step - loss: 0.2427 - acc: 0.8991\n",
      "Epoch 29/100\n",
      "40730/40730 [==============================] - 1s 13us/step - loss: 0.2465 - acc: 0.8971\n",
      "Epoch 30/100\n",
      "40730/40730 [==============================] - 1s 13us/step - loss: 0.2416 - acc: 0.8998\n",
      "Epoch 31/100\n",
      "40730/40730 [==============================] - 0s 12us/step - loss: 0.2436 - acc: 0.8976\n",
      "Epoch 32/100\n",
      "40730/40730 [==============================] - 1s 13us/step - loss: 0.2465 - acc: 0.8978\n",
      "Epoch 33/100\n",
      "40730/40730 [==============================] - 1s 13us/step - loss: 0.2449 - acc: 0.8982: 0s - loss: 0.2417 - acc: 0\n",
      "Epoch 34/100\n",
      "40730/40730 [==============================] - 1s 12us/step - loss: 0.2449 - acc: 0.8983\n",
      "Epoch 35/100\n",
      "40730/40730 [==============================] - 0s 12us/step - loss: 0.2468 - acc: 0.8973\n",
      "Epoch 36/100\n",
      "40730/40730 [==============================] - 1s 13us/step - loss: 0.2467 - acc: 0.8976\n",
      "Epoch 37/100\n",
      "40730/40730 [==============================] - 1s 13us/step - loss: 0.2463 - acc: 0.8979\n",
      "Epoch 38/100\n",
      "40730/40730 [==============================] - 1s 13us/step - loss: 0.2478 - acc: 0.8973\n",
      "Epoch 39/100\n",
      "40730/40730 [==============================] - 1s 13us/step - loss: 0.2471 - acc: 0.8968\n",
      "Epoch 40/100\n",
      "40730/40730 [==============================] - 1s 13us/step - loss: 0.2464 - acc: 0.8979\n",
      "Epoch 41/100\n",
      "40730/40730 [==============================] - 1s 13us/step - loss: 0.2443 - acc: 0.8971\n",
      "Epoch 42/100\n",
      "40730/40730 [==============================] - 1s 13us/step - loss: 0.2502 - acc: 0.8968\n",
      "Epoch 43/100\n",
      "40730/40730 [==============================] - 1s 13us/step - loss: 0.2445 - acc: 0.8986\n",
      "Epoch 44/100\n",
      "40730/40730 [==============================] - 1s 13us/step - loss: 0.2497 - acc: 0.8966\n",
      "Epoch 45/100\n",
      "40730/40730 [==============================] - 0s 12us/step - loss: 0.2501 - acc: 0.8969\n",
      "Epoch 46/100\n",
      "40730/40730 [==============================] - 1s 12us/step - loss: 0.2482 - acc: 0.8972\n",
      "Epoch 47/100\n",
      "40730/40730 [==============================] - 0s 12us/step - loss: 0.2483 - acc: 0.8962\n",
      "Epoch 48/100\n",
      "40730/40730 [==============================] - 0s 12us/step - loss: 0.2464 - acc: 0.8977\n",
      "Epoch 49/100\n",
      "40730/40730 [==============================] - 1s 13us/step - loss: 0.2446 - acc: 0.8975\n",
      "Epoch 50/100\n",
      "40730/40730 [==============================] - 1s 13us/step - loss: 0.2558 - acc: 0.8941\n",
      "Epoch 51/100\n",
      "40730/40730 [==============================] - 1s 15us/step - loss: 0.2493 - acc: 0.8970\n",
      "Epoch 52/100\n",
      "40730/40730 [==============================] - 1s 16us/step - loss: 0.2471 - acc: 0.8985\n",
      "Epoch 53/100\n",
      "40730/40730 [==============================] - 1s 16us/step - loss: 0.2466 - acc: 0.8973\n",
      "Epoch 54/100\n",
      "40730/40730 [==============================] - 1s 15us/step - loss: 0.2516 - acc: 0.8963\n",
      "Epoch 55/100\n",
      "40730/40730 [==============================] - 1s 15us/step - loss: 0.2537 - acc: 0.8947\n",
      "Epoch 56/100\n",
      "40730/40730 [==============================] - 1s 14us/step - loss: 0.2606 - acc: 0.8922\n",
      "Epoch 57/100\n",
      "40730/40730 [==============================] - 1s 13us/step - loss: 0.2636 - acc: 0.8910\n",
      "Epoch 58/100\n",
      "40730/40730 [==============================] - 1s 13us/step - loss: 0.2537 - acc: 0.8964\n",
      "Epoch 59/100\n",
      "40730/40730 [==============================] - 1s 14us/step - loss: 0.2505 - acc: 0.8972\n",
      "Epoch 60/100\n",
      "40730/40730 [==============================] - 1s 14us/step - loss: 0.2484 - acc: 0.8986\n",
      "Epoch 61/100\n",
      "40730/40730 [==============================] - 1s 14us/step - loss: 0.2475 - acc: 0.8988\n",
      "Epoch 62/100\n",
      "40730/40730 [==============================] - 1s 13us/step - loss: 0.2511 - acc: 0.8966\n",
      "Epoch 63/100\n",
      "40730/40730 [==============================] - 1s 13us/step - loss: 0.2487 - acc: 0.8978\n",
      "Epoch 64/100\n",
      "40730/40730 [==============================] - 1s 12us/step - loss: 0.2494 - acc: 0.8969\n",
      "Epoch 65/100\n",
      "40730/40730 [==============================] - 1s 13us/step - loss: 0.2488 - acc: 0.8970\n",
      "Epoch 66/100\n",
      "40730/40730 [==============================] - 1s 14us/step - loss: 0.2444 - acc: 0.8993\n",
      "Epoch 67/100\n",
      "40730/40730 [==============================] - 1s 14us/step - loss: 0.2470 - acc: 0.8965\n",
      "Epoch 68/100\n",
      "40730/40730 [==============================] - 1s 14us/step - loss: 0.2531 - acc: 0.8953\n",
      "Epoch 69/100\n",
      "40730/40730 [==============================] - 1s 14us/step - loss: 0.2554 - acc: 0.8949\n",
      "Epoch 70/100\n",
      "40730/40730 [==============================] - 1s 14us/step - loss: 0.2532 - acc: 0.8980\n",
      "Epoch 71/100\n",
      "40730/40730 [==============================] - 1s 16us/step - loss: 0.2504 - acc: 0.8978\n",
      "Epoch 72/100\n",
      "40730/40730 [==============================] - 1s 14us/step - loss: 0.2637 - acc: 0.8909\n",
      "Epoch 73/100\n",
      "40730/40730 [==============================] - 1s 17us/step - loss: 0.2585 - acc: 0.8959\n",
      "Epoch 74/100\n",
      "40730/40730 [==============================] - 1s 14us/step - loss: 0.2601 - acc: 0.8908\n",
      "Epoch 75/100\n",
      "40730/40730 [==============================] - 1s 15us/step - loss: 0.2521 - acc: 0.8954\n",
      "Epoch 76/100\n",
      "40730/40730 [==============================] - 1s 14us/step - loss: 0.2548 - acc: 0.8958\n",
      "Epoch 77/100\n",
      "40730/40730 [==============================] - 1s 15us/step - loss: 0.2505 - acc: 0.8972\n",
      "Epoch 78/100\n",
      "40730/40730 [==============================] - 1s 14us/step - loss: 0.2487 - acc: 0.8983\n",
      "Epoch 79/100\n",
      "40730/40730 [==============================] - 1s 13us/step - loss: 0.2561 - acc: 0.8937\n",
      "Epoch 80/100\n"
     ]
    },
    {
     "name": "stdout",
     "output_type": "stream",
     "text": [
      "40730/40730 [==============================] - 1s 14us/step - loss: 0.2519 - acc: 0.8982\n",
      "Epoch 81/100\n",
      "40730/40730 [==============================] - 1s 13us/step - loss: 0.2471 - acc: 0.8994\n",
      "Epoch 82/100\n",
      "40730/40730 [==============================] - 0s 12us/step - loss: 0.2487 - acc: 0.8975\n",
      "Epoch 83/100\n",
      "40730/40730 [==============================] - 0s 12us/step - loss: 0.2502 - acc: 0.8985\n",
      "Epoch 84/100\n",
      "40730/40730 [==============================] - 0s 12us/step - loss: 0.2476 - acc: 0.8995\n",
      "Epoch 85/100\n",
      "40730/40730 [==============================] - 1s 13us/step - loss: 0.2497 - acc: 0.8992\n",
      "Epoch 86/100\n",
      "40730/40730 [==============================] - 1s 13us/step - loss: 0.2579 - acc: 0.8972\n",
      "Epoch 87/100\n",
      "40730/40730 [==============================] - 1s 13us/step - loss: 0.2574 - acc: 0.8932\n",
      "Epoch 88/100\n",
      "40730/40730 [==============================] - 1s 12us/step - loss: 0.2498 - acc: 0.8973\n",
      "Epoch 89/100\n",
      "40730/40730 [==============================] - 1s 13us/step - loss: 0.2516 - acc: 0.8954\n",
      "Epoch 90/100\n",
      "40730/40730 [==============================] - 1s 14us/step - loss: 0.2516 - acc: 0.8991\n",
      "Epoch 91/100\n",
      "40730/40730 [==============================] - 1s 15us/step - loss: 0.2542 - acc: 0.8942\n",
      "Epoch 92/100\n",
      "40730/40730 [==============================] - 0s 12us/step - loss: 0.2503 - acc: 0.8991\n",
      "Epoch 93/100\n",
      "40730/40730 [==============================] - 1s 13us/step - loss: 0.2495 - acc: 0.8950\n",
      "Epoch 94/100\n",
      "40730/40730 [==============================] - 1s 13us/step - loss: 0.2562 - acc: 0.8944\n",
      "Epoch 95/100\n",
      "40730/40730 [==============================] - 1s 13us/step - loss: 0.2559 - acc: 0.8957\n",
      "Epoch 96/100\n",
      "40730/40730 [==============================] - 1s 14us/step - loss: 0.2575 - acc: 0.8934\n",
      "Epoch 97/100\n",
      "40730/40730 [==============================] - 1s 15us/step - loss: 0.2481 - acc: 0.8977\n",
      "Epoch 98/100\n",
      "40730/40730 [==============================] - 1s 13us/step - loss: 0.2566 - acc: 0.8930\n",
      "Epoch 99/100\n",
      "40730/40730 [==============================] - 1s 13us/step - loss: 0.2555 - acc: 0.8938\n",
      "Epoch 100/100\n",
      "40730/40730 [==============================] - 0s 12us/step - loss: 0.2543 - acc: 0.8968\n"
     ]
    },
    {
     "data": {
      "text/plain": [
       "<keras.callbacks.History at 0x1a2d8d5128>"
      ]
     },
     "execution_count": 36,
     "metadata": {},
     "output_type": "execute_result"
    }
   ],
   "source": [
    "# NOTE : Don't run the following line of code as we do not yet have X_train and y_train\n",
    "\n",
    "model.fit(X_train, y_train, epochs=100, batch_size=64)"
   ]
  },
  {
   "cell_type": "markdown",
   "metadata": {},
   "source": [
    "## ANN Model Building"
   ]
  },
  {
   "cell_type": "markdown",
   "metadata": {},
   "source": [
    "#### A. Base model (Perceptron)\n"
   ]
  },
  {
   "cell_type": "code",
   "execution_count": 37,
   "metadata": {
    "ExecuteTime": {
     "end_time": "2019-03-16T11:22:50.755575Z",
     "start_time": "2019-03-16T11:22:50.720471Z"
    }
   },
   "outputs": [],
   "source": [
    "perceptron_model = Sequential()\n",
    "\n",
    "\n",
    "#kernel_initializer . - weight initializer\n",
    "perceptron_model.add(Dense(1, input_dim=21, activation='sigmoid', kernel_initializer='normal'))"
   ]
  },
  {
   "cell_type": "code",
   "execution_count": 38,
   "metadata": {
    "ExecuteTime": {
     "end_time": "2019-03-16T11:22:50.797178Z",
     "start_time": "2019-03-16T11:22:50.757286Z"
    }
   },
   "outputs": [],
   "source": [
    "perceptron_model.compile(loss='binary_crossentropy', optimizer='adam', metrics=['accuracy'])"
   ]
  },
  {
   "cell_type": "code",
   "execution_count": 39,
   "metadata": {
    "ExecuteTime": {
     "end_time": "2019-03-16T11:23:16.319797Z",
     "start_time": "2019-03-16T11:22:50.798596Z"
    },
    "scrolled": true
   },
   "outputs": [
    {
     "name": "stdout",
     "output_type": "stream",
     "text": [
      "Epoch 1/50\n",
      "40730/40730 [==============================] - 1s 16us/step - loss: 0.6963 - acc: 0.8128\n",
      "Epoch 2/50\n",
      "40730/40730 [==============================] - 1s 13us/step - loss: 0.4393 - acc: 0.8455\n",
      "Epoch 3/50\n",
      "40730/40730 [==============================] - 0s 12us/step - loss: 0.4487 - acc: 0.8493\n",
      "Epoch 4/50\n",
      "40730/40730 [==============================] - 0s 12us/step - loss: 0.4146 - acc: 0.8588\n",
      "Epoch 5/50\n",
      "40730/40730 [==============================] - 0s 12us/step - loss: 0.4264 - acc: 0.8594\n",
      "Epoch 6/50\n",
      "40730/40730 [==============================] - 1s 14us/step - loss: 0.4132 - acc: 0.8617\n",
      "Epoch 7/50\n",
      "40730/40730 [==============================] - 1s 14us/step - loss: 0.4384 - acc: 0.8647\n",
      "Epoch 8/50\n",
      "40730/40730 [==============================] - 1s 13us/step - loss: 0.4041 - acc: 0.8662\n",
      "Epoch 9/50\n",
      "40730/40730 [==============================] - 1s 13us/step - loss: 0.4054 - acc: 0.8666\n",
      "Epoch 10/50\n",
      "40730/40730 [==============================] - 0s 12us/step - loss: 0.4139 - acc: 0.8662\n",
      "Epoch 11/50\n",
      "40730/40730 [==============================] - 1s 12us/step - loss: 0.4406 - acc: 0.8631\n",
      "Epoch 12/50\n",
      "40730/40730 [==============================] - 0s 12us/step - loss: 0.4005 - acc: 0.8704: 0s - loss: 0.3998 - acc: 0.8\n",
      "Epoch 13/50\n",
      "40730/40730 [==============================] - 0s 11us/step - loss: 0.4381 - acc: 0.8658\n",
      "Epoch 14/50\n",
      "40730/40730 [==============================] - 1s 12us/step - loss: 0.4061 - acc: 0.8667\n",
      "Epoch 15/50\n",
      "40730/40730 [==============================] - 1s 13us/step - loss: 0.4012 - acc: 0.8645\n",
      "Epoch 16/50\n",
      "40730/40730 [==============================] - 1s 13us/step - loss: 0.3999 - acc: 0.8667\n",
      "Epoch 17/50\n",
      "40730/40730 [==============================] - 1s 13us/step - loss: 0.4200 - acc: 0.8658\n",
      "Epoch 18/50\n",
      "40730/40730 [==============================] - 1s 13us/step - loss: 0.3991 - acc: 0.8692\n",
      "Epoch 19/50\n",
      "40730/40730 [==============================] - 1s 13us/step - loss: 0.4128 - acc: 0.8680\n",
      "Epoch 20/50\n",
      "40730/40730 [==============================] - 1s 13us/step - loss: 0.3965 - acc: 0.8711\n",
      "Epoch 21/50\n",
      "40730/40730 [==============================] - 1s 13us/step - loss: 0.4288 - acc: 0.8674\n",
      "Epoch 22/50\n",
      "40730/40730 [==============================] - 1s 13us/step - loss: 0.4143 - acc: 0.8697\n",
      "Epoch 23/50\n",
      "40730/40730 [==============================] - 1s 13us/step - loss: 0.3979 - acc: 0.8711\n",
      "Epoch 24/50\n",
      "40730/40730 [==============================] - 1s 13us/step - loss: 0.3972 - acc: 0.8688\n",
      "Epoch 25/50\n",
      "40730/40730 [==============================] - 0s 11us/step - loss: 0.4172 - acc: 0.8666: 0s - loss: 0.3941 - acc: 0.\n",
      "Epoch 26/50\n",
      "40730/40730 [==============================] - 1s 13us/step - loss: 0.3993 - acc: 0.8694\n",
      "Epoch 27/50\n",
      "40730/40730 [==============================] - 1s 13us/step - loss: 0.4165 - acc: 0.8654\n",
      "Epoch 28/50\n",
      "40730/40730 [==============================] - 0s 12us/step - loss: 0.3926 - acc: 0.8670\n",
      "Epoch 29/50\n",
      "40730/40730 [==============================] - 0s 12us/step - loss: 0.4100 - acc: 0.8657\n",
      "Epoch 30/50\n",
      "40730/40730 [==============================] - 1s 13us/step - loss: 0.4033 - acc: 0.8652\n",
      "Epoch 31/50\n",
      "40730/40730 [==============================] - 0s 12us/step - loss: 0.4028 - acc: 0.8666\n",
      "Epoch 32/50\n",
      "40730/40730 [==============================] - 0s 11us/step - loss: 0.4077 - acc: 0.8658\n",
      "Epoch 33/50\n",
      "40730/40730 [==============================] - 0s 12us/step - loss: 0.4223 - acc: 0.8646\n",
      "Epoch 34/50\n",
      "40730/40730 [==============================] - 0s 11us/step - loss: 0.3978 - acc: 0.8675\n",
      "Epoch 35/50\n",
      "40730/40730 [==============================] - 0s 12us/step - loss: 0.3986 - acc: 0.8653\n",
      "Epoch 36/50\n",
      "40730/40730 [==============================] - 1s 13us/step - loss: 0.4012 - acc: 0.8644\n",
      "Epoch 37/50\n",
      "40730/40730 [==============================] - 0s 12us/step - loss: 0.4119 - acc: 0.8642\n",
      "Epoch 38/50\n",
      "40730/40730 [==============================] - 0s 12us/step - loss: 0.4025 - acc: 0.8639\n",
      "Epoch 39/50\n",
      "40730/40730 [==============================] - 1s 13us/step - loss: 0.4199 - acc: 0.8652\n",
      "Epoch 40/50\n",
      "40730/40730 [==============================] - 0s 12us/step - loss: 0.4010 - acc: 0.8687\n",
      "Epoch 41/50\n",
      "40730/40730 [==============================] - 0s 12us/step - loss: 0.3938 - acc: 0.8660\n",
      "Epoch 42/50\n",
      "40730/40730 [==============================] - 0s 12us/step - loss: 0.4040 - acc: 0.8649\n",
      "Epoch 43/50\n",
      "40730/40730 [==============================] - 1s 13us/step - loss: 0.3983 - acc: 0.8638\n",
      "Epoch 44/50\n",
      "40730/40730 [==============================] - 1s 13us/step - loss: 0.4000 - acc: 0.8654\n",
      "Epoch 45/50\n",
      "40730/40730 [==============================] - 1s 13us/step - loss: 0.5106 - acc: 0.8574\n",
      "Epoch 46/50\n",
      "40730/40730 [==============================] - 1s 13us/step - loss: 0.4869 - acc: 0.8571\n",
      "Epoch 47/50\n",
      "40730/40730 [==============================] - 1s 13us/step - loss: 0.4039 - acc: 0.8656\n",
      "Epoch 48/50\n",
      "40730/40730 [==============================] - 0s 12us/step - loss: 0.3997 - acc: 0.8671\n",
      "Epoch 49/50\n",
      "40730/40730 [==============================] - 0s 11us/step - loss: 0.3978 - acc: 0.8674\n",
      "Epoch 50/50\n",
      "40730/40730 [==============================] - 0s 11us/step - loss: 0.3939 - acc: 0.8661\n"
     ]
    },
    {
     "data": {
      "text/plain": [
       "<keras.callbacks.History at 0x109ebc898>"
      ]
     },
     "execution_count": 39,
     "metadata": {},
     "output_type": "execute_result"
    }
   ],
   "source": [
    "perceptron_model.fit(X_train, y_train, epochs=50, batch_size=64)"
   ]
  },
  {
   "cell_type": "markdown",
   "metadata": {},
   "source": [
    "##### Predictions"
   ]
  },
  {
   "cell_type": "code",
   "execution_count": 40,
   "metadata": {
    "ExecuteTime": {
     "end_time": "2019-03-16T11:23:16.845052Z",
     "start_time": "2019-03-16T11:23:16.325030Z"
    }
   },
   "outputs": [
    {
     "name": "stdout",
     "output_type": "stream",
     "text": [
      "[[31674  1378]\n",
      " [ 3733  3945]]\n",
      "[[13523   642]\n",
      " [ 1629  1662]]\n"
     ]
    }
   ],
   "source": [
    "test_pred=perceptron_model.predict_classes(X_test)\n",
    "train_pred=perceptron_model.predict_classes(X_train)\n",
    "\n",
    "confusion_matrix_test = confusion_matrix(y_test, test_pred)\n",
    "confusion_matrix_train = confusion_matrix(y_train, train_pred)\n",
    "\n",
    "print(confusion_matrix_train)\n",
    "print(confusion_matrix_test)\n"
   ]
  },
  {
   "cell_type": "markdown",
   "metadata": {},
   "source": [
    "##### Train Test Accuracy, True Negative Rate and True Positive Rate"
   ]
  },
  {
   "cell_type": "code",
   "execution_count": 41,
   "metadata": {
    "ExecuteTime": {
     "end_time": "2019-03-16T11:23:16.856380Z",
     "start_time": "2019-03-16T11:23:16.848311Z"
    }
   },
   "outputs": [
    {
     "name": "stdout",
     "output_type": "stream",
     "text": [
      "Train TNR:  0.9583081205373352\n",
      "Train TPR:  0.5138056785621256\n",
      "Train Accuracy:  0.8745150994353057\n",
      "-----------------------\n",
      "Test TNR:  0.9546770208259795\n",
      "Test TPR:  0.5050136736554239\n",
      "Test Accuracy:  0.8699014665444547\n"
     ]
    }
   ],
   "source": [
    "Accuracy_Train=(confusion_matrix_train[0,0]+confusion_matrix_train[1,1])/(confusion_matrix_train[0,0]+confusion_matrix_train[0,1]+confusion_matrix_train[1,0]+confusion_matrix_train[1,1])\n",
    "TNR_Train= confusion_matrix_train[0,0]/(confusion_matrix_train[0,0]+confusion_matrix_train[0,1])\n",
    "TPR_Train= confusion_matrix_train[1,1]/(confusion_matrix_train[1,0]+confusion_matrix_train[1,1])\n",
    "\n",
    "print(\"Train TNR: \",TNR_Train)\n",
    "print(\"Train TPR: \",TPR_Train)\n",
    "print(\"Train Accuracy: \",Accuracy_Train)\n",
    "print(\"-----------------------\")\n",
    "\n",
    "Accuracy_Test=(confusion_matrix_test[0,0]+confusion_matrix_test[1,1])/(confusion_matrix_test[0,0]+confusion_matrix_test[0,1]+confusion_matrix_test[1,0]+confusion_matrix_test[1,1])\n",
    "TNR_Test= confusion_matrix_test[0,0]/(confusion_matrix_test[0,0] +confusion_matrix_test[0,1])\n",
    "TPR_Test= confusion_matrix_test[1,1]/(confusion_matrix_test[1,0] +confusion_matrix_test[1,1])\n",
    "\n",
    "print(\"Test TNR: \",TNR_Test)\n",
    "print(\"Test TPR: \",TPR_Test)\n",
    "print(\"Test Accuracy: \",Accuracy_Test)"
   ]
  },
  {
   "cell_type": "markdown",
   "metadata": {},
   "source": [
    "#### Adding a hidden layer"
   ]
  },
  {
   "cell_type": "code",
   "execution_count": 55,
   "metadata": {
    "ExecuteTime": {
     "end_time": "2019-03-16T11:24:54.409436Z",
     "start_time": "2019-03-16T11:24:54.384523Z"
    }
   },
   "outputs": [],
   "source": [
    "mlp_model = Sequential()\n",
    "\n",
    "mlp_model.add(Dense(12, input_dim=21, activation='sigmoid', kernel_initializer='normal'))\n",
    "mlp_model.add(Dense(1, activation='sigmoid', kernel_initializer='normal'))"
   ]
  },
  {
   "cell_type": "code",
   "execution_count": 56,
   "metadata": {
    "ExecuteTime": {
     "end_time": "2019-03-16T11:24:54.415203Z",
     "start_time": "2019-03-16T11:24:54.411616Z"
    }
   },
   "outputs": [
    {
     "name": "stdout",
     "output_type": "stream",
     "text": [
      "_________________________________________________________________\n",
      "Layer (type)                 Output Shape              Param #   \n",
      "=================================================================\n",
      "dense_7 (Dense)              (None, 12)                264       \n",
      "_________________________________________________________________\n",
      "dense_8 (Dense)              (None, 1)                 13        \n",
      "=================================================================\n",
      "Total params: 277\n",
      "Trainable params: 277\n",
      "Non-trainable params: 0\n",
      "_________________________________________________________________\n"
     ]
    }
   ],
   "source": [
    "mlp_model.summary()"
   ]
  },
  {
   "cell_type": "code",
   "execution_count": 57,
   "metadata": {
    "ExecuteTime": {
     "end_time": "2019-03-16T11:24:54.456058Z",
     "start_time": "2019-03-16T11:24:54.416955Z"
    }
   },
   "outputs": [],
   "source": [
    "mlp_model.compile(loss='binary_crossentropy', optimizer='adam', metrics=['accuracy'])"
   ]
  },
  {
   "cell_type": "code",
   "execution_count": 58,
   "metadata": {
    "ExecuteTime": {
     "end_time": "2019-03-16T11:25:10.956431Z",
     "start_time": "2019-03-16T11:24:54.458343Z"
    },
    "scrolled": true
   },
   "outputs": [
    {
     "name": "stdout",
     "output_type": "stream",
     "text": [
      "Train on 32584 samples, validate on 8146 samples\n",
      "Epoch 1/30\n",
      "32584/32584 [==============================] - 1s 25us/step - loss: 0.3977 - acc: 0.8291 - val_loss: 0.3184 - val_acc: 0.8569\n",
      "Epoch 2/30\n",
      "32584/32584 [==============================] - 0s 14us/step - loss: 0.2866 - acc: 0.8756 - val_loss: 0.2725 - val_acc: 0.8837\n",
      "Epoch 3/30\n",
      "32584/32584 [==============================] - 1s 18us/step - loss: 0.2594 - acc: 0.8930 - val_loss: 0.2566 - val_acc: 0.8944\n",
      "Epoch 4/30\n",
      "32584/32584 [==============================] - 1s 17us/step - loss: 0.2499 - acc: 0.8975 - val_loss: 0.2523 - val_acc: 0.8984\n",
      "Epoch 5/30\n",
      "32584/32584 [==============================] - 1s 18us/step - loss: 0.2456 - acc: 0.9001 - val_loss: 0.2485 - val_acc: 0.8953\n",
      "Epoch 6/30\n",
      "32584/32584 [==============================] - 1s 16us/step - loss: 0.2437 - acc: 0.9000 - val_loss: 0.2489 - val_acc: 0.8980\n",
      "Epoch 7/30\n",
      "32584/32584 [==============================] - 1s 19us/step - loss: 0.2426 - acc: 0.9008 - val_loss: 0.2423 - val_acc: 0.9015\n",
      "Epoch 8/30\n",
      "32584/32584 [==============================] - 1s 17us/step - loss: 0.2412 - acc: 0.9006 - val_loss: 0.2438 - val_acc: 0.8987\n",
      "Epoch 9/30\n",
      "32584/32584 [==============================] - 1s 18us/step - loss: 0.2384 - acc: 0.9015 - val_loss: 0.2408 - val_acc: 0.9004\n",
      "Epoch 10/30\n",
      "32584/32584 [==============================] - 1s 17us/step - loss: 0.2371 - acc: 0.9027 - val_loss: 0.2398 - val_acc: 0.9024\n",
      "Epoch 11/30\n",
      "32584/32584 [==============================] - 1s 17us/step - loss: 0.2365 - acc: 0.9030 - val_loss: 0.2405 - val_acc: 0.9018\n",
      "Epoch 12/30\n",
      "32584/32584 [==============================] - 1s 19us/step - loss: 0.2378 - acc: 0.9030 - val_loss: 0.2400 - val_acc: 0.9013\n",
      "Epoch 13/30\n",
      "32584/32584 [==============================] - 1s 20us/step - loss: 0.2357 - acc: 0.9033 - val_loss: 0.2412 - val_acc: 0.9022\n",
      "Epoch 14/30\n",
      "32584/32584 [==============================] - 1s 17us/step - loss: 0.2349 - acc: 0.9045 - val_loss: 0.2372 - val_acc: 0.9025\n",
      "Epoch 15/30\n",
      "32584/32584 [==============================] - 1s 16us/step - loss: 0.2353 - acc: 0.9039 - val_loss: 0.2402 - val_acc: 0.8998\n",
      "Epoch 16/30\n",
      "32584/32584 [==============================] - 0s 14us/step - loss: 0.2362 - acc: 0.9023 - val_loss: 0.2407 - val_acc: 0.9012\n",
      "Epoch 17/30\n",
      "32584/32584 [==============================] - 0s 15us/step - loss: 0.2359 - acc: 0.9027 - val_loss: 0.2408 - val_acc: 0.9022\n",
      "Epoch 18/30\n",
      "32584/32584 [==============================] - 1s 16us/step - loss: 0.2348 - acc: 0.9034 - val_loss: 0.2389 - val_acc: 0.9040\n",
      "Epoch 19/30\n",
      "32584/32584 [==============================] - 0s 13us/step - loss: 0.2331 - acc: 0.9034 - val_loss: 0.2371 - val_acc: 0.9003\n",
      "Epoch 20/30\n",
      "32584/32584 [==============================] - 0s 14us/step - loss: 0.2322 - acc: 0.9048 - val_loss: 0.2361 - val_acc: 0.9029\n",
      "Epoch 21/30\n",
      "32584/32584 [==============================] - 1s 15us/step - loss: 0.2345 - acc: 0.9045 - val_loss: 0.2384 - val_acc: 0.9020\n",
      "Epoch 22/30\n",
      "32584/32584 [==============================] - 1s 16us/step - loss: 0.2319 - acc: 0.9053 - val_loss: 0.2381 - val_acc: 0.9028\n",
      "Epoch 23/30\n",
      "32584/32584 [==============================] - 1s 16us/step - loss: 0.2331 - acc: 0.9045 - val_loss: 0.2363 - val_acc: 0.9015\n",
      "Epoch 24/30\n",
      "32584/32584 [==============================] - 1s 18us/step - loss: 0.2303 - acc: 0.9046 - val_loss: 0.2367 - val_acc: 0.9035\n",
      "Epoch 25/30\n",
      "32584/32584 [==============================] - 1s 16us/step - loss: 0.2306 - acc: 0.9065 - val_loss: 0.2390 - val_acc: 0.9013\n",
      "Epoch 26/30\n",
      "32584/32584 [==============================] - 1s 17us/step - loss: 0.2297 - acc: 0.9048 - val_loss: 0.2342 - val_acc: 0.9025\n",
      "Epoch 27/30\n",
      "32584/32584 [==============================] - 0s 15us/step - loss: 0.2319 - acc: 0.9037 - val_loss: 0.2395 - val_acc: 0.9030\n",
      "Epoch 28/30\n",
      "32584/32584 [==============================] - 0s 14us/step - loss: 0.2314 - acc: 0.9048 - val_loss: 0.2370 - val_acc: 0.9050\n",
      "Epoch 29/30\n",
      "32584/32584 [==============================] - 1s 16us/step - loss: 0.2295 - acc: 0.9056 - val_loss: 0.2336 - val_acc: 0.9027\n",
      "Epoch 30/30\n",
      "32584/32584 [==============================] - 1s 17us/step - loss: 0.2292 - acc: 0.9061 - val_loss: 0.2357 - val_acc: 0.9051\n"
     ]
    }
   ],
   "source": [
    "#model_history = ann_model.fit(X_train, y_train, epochs=100, batch_size=64, validation_split=0.2)\n",
    "model_history = mlp_model.fit(X_train, y_train, epochs=30, batch_size=64, validation_split=0.2)"
   ]
  },
  {
   "cell_type": "markdown",
   "metadata": {},
   "source": [
    "#### Predictions"
   ]
  },
  {
   "cell_type": "code",
   "execution_count": 59,
   "metadata": {
    "ExecuteTime": {
     "end_time": "2019-03-16T11:25:11.373781Z",
     "start_time": "2019-03-16T11:25:10.958658Z"
    }
   },
   "outputs": [],
   "source": [
    "train_pred = mlp_model.predict_classes(X_train)\n",
    "\n",
    "test_pred = mlp_model.predict_classes(X_test)"
   ]
  },
  {
   "cell_type": "markdown",
   "metadata": {},
   "source": [
    "#### Getting evaluation metrics and evaluating model performance"
   ]
  },
  {
   "cell_type": "code",
   "execution_count": 60,
   "metadata": {
    "ExecuteTime": {
     "end_time": "2019-03-16T11:25:11.543133Z",
     "start_time": "2019-03-16T11:25:11.375238Z"
    }
   },
   "outputs": [
    {
     "name": "stdout",
     "output_type": "stream",
     "text": [
      "[[31407  1645]\n",
      " [ 2201  5477]]\n",
      "[[13388   777]\n",
      " [  976  2315]]\n"
     ]
    }
   ],
   "source": [
    "confusion_matrix_train = confusion_matrix(y_train, train_pred)\n",
    "confusion_matrix_test = confusion_matrix(y_test, test_pred)\n",
    "\n",
    "print(confusion_matrix_train)\n",
    "print(confusion_matrix_test)"
   ]
  },
  {
   "cell_type": "markdown",
   "metadata": {},
   "source": [
    "#### Calculate Accuracy, True Positive Rate and True Negative Rates"
   ]
  },
  {
   "cell_type": "code",
   "execution_count": 61,
   "metadata": {
    "ExecuteTime": {
     "end_time": "2019-03-16T11:25:11.552632Z",
     "start_time": "2019-03-16T11:25:11.546335Z"
    }
   },
   "outputs": [
    {
     "name": "stdout",
     "output_type": "stream",
     "text": [
      "Train Specificity:  0.9502299406995038\n",
      "Train Recall:  0.7133368064600156\n",
      "Train Precision:  0.769025554619489\n",
      "Train Accuracy:  0.905573287503069\n"
     ]
    }
   ],
   "source": [
    "# Metrics on train data for ann_model 1\n",
    "#Accuracy\n",
    "accuracy_Train_M1 = (confusion_matrix_train[0,0]+confusion_matrix_train[1,1])/(confusion_matrix_train[0,0]+confusion_matrix_train[0,1]+confusion_matrix_train[1,0]+confusion_matrix_train[1,1])\n",
    "#specificity or true negative rate (TNR)\n",
    "specificity_Train_M1 = confusion_matrix_train[0,0]/(confusion_matrix_train[0,0]+confusion_matrix_train[0,1])\n",
    "#sensitivity, recall, hit rate, or true positive rate (TPR)\n",
    "recall_Train_M1 = confusion_matrix_train[1,1]/(confusion_matrix_train[1,0]+confusion_matrix_train[1,1])\n",
    "#precision\n",
    "precision_Train_M1 = confusion_matrix_train[1,1]/(confusion_matrix_train[0,1]+confusion_matrix_train[1,1])\n",
    "\n",
    "print(\"Train Specificity: \",specificity_Train_M1)\n",
    "print(\"Train Recall: \",recall_Train_M1)\n",
    "print(\"Train Precision: \",precision_Train_M1)\n",
    "print(\"Train Accuracy: \",accuracy_Train_M1)"
   ]
  },
  {
   "cell_type": "code",
   "execution_count": 62,
   "metadata": {
    "ExecuteTime": {
     "end_time": "2019-03-16T11:25:11.563679Z",
     "start_time": "2019-03-16T11:25:11.557665Z"
    }
   },
   "outputs": [
    {
     "name": "stdout",
     "output_type": "stream",
     "text": [
      "Test Specificity:  0.9451464878220968\n",
      "Test Recall:  0.7034336068064418\n",
      "Test Precision:  0.7487063389391979\n",
      "Test Accuracy:  0.8995760769935839\n"
     ]
    }
   ],
   "source": [
    "# Metrics on test data\n",
    "#Accuracy\n",
    "accuracy_Test_M1 = (confusion_matrix_test[0,0]+confusion_matrix_test[1,1])/(confusion_matrix_test[0,0]+confusion_matrix_test[0,1]+confusion_matrix_test[1,0]+confusion_matrix_test[1,1])\n",
    "#specificity or true negative rate (TNR)\n",
    "specificity_Test_M1 = confusion_matrix_test[0,0]/(confusion_matrix_test[0,0]+confusion_matrix_test[0,1])\n",
    "#sensitivity, recall, hit rate, or true positive rate (TPR)\n",
    "recall_Test_M1 = confusion_matrix_test[1,1]/(confusion_matrix_test[1,0]+confusion_matrix_test[1,1])\n",
    "#precision\n",
    "precision_Test_M1 = confusion_matrix_test[1,1]/(confusion_matrix_test[0,1]+confusion_matrix_test[1,1])\n",
    "\n",
    "print(\"Test Specificity: \",specificity_Test_M1)\n",
    "print(\"Test Recall: \",recall_Test_M1)\n",
    "print(\"Test Precision: \",precision_Test_M1)\n",
    "print(\"Test Accuracy: \",accuracy_Test_M1)"
   ]
  },
  {
   "cell_type": "markdown",
   "metadata": {},
   "source": [
    "##### Plot"
   ]
  },
  {
   "cell_type": "code",
   "execution_count": 63,
   "metadata": {
    "ExecuteTime": {
     "end_time": "2019-03-16T11:25:11.568542Z",
     "start_time": "2019-03-16T11:25:11.565604Z"
    }
   },
   "outputs": [
    {
     "name": "stdout",
     "output_type": "stream",
     "text": [
      "dict_keys(['val_loss', 'val_acc', 'loss', 'acc'])\n"
     ]
    }
   ],
   "source": [
    "print(model_history.history.keys())"
   ]
  },
  {
   "cell_type": "code",
   "execution_count": 64,
   "metadata": {
    "ExecuteTime": {
     "end_time": "2019-03-16T11:25:11.746168Z",
     "start_time": "2019-03-16T11:25:11.570733Z"
    }
   },
   "outputs": [
    {
     "data": {
      "image/png": "[encoded data removed]",
      "text/plain": [
       "<Figure size 432x288 with 1 Axes>"
      ]
     },
     "metadata": {
      "needs_background": "light"
     },
     "output_type": "display_data"
    }
   ],
   "source": [
    "plt.plot(model_history.history['acc'])\n",
    "plt.plot(model_history.history['val_acc'])\n",
    "plt.title('Accuracy Plot')\n",
    "plt.ylabel('Accuracy')\n",
    "plt.xlabel('Epoch')\n",
    "plt.legend(['Train', 'Validation'])\n",
    "plt.show()"
   ]
  },
  {
   "cell_type": "code",
   "execution_count": 65,
   "metadata": {
    "ExecuteTime": {
     "end_time": "2019-03-16T11:25:11.904572Z",
     "start_time": "2019-03-16T11:25:11.747620Z"
    }
   },
   "outputs": [
    {
     "data": {
      "image/png": "[encoded data removed]",
      "text/plain": [
       "<Figure size 432x288 with 1 Axes>"
      ]
     },
     "metadata": {
      "needs_background": "light"
     },
     "output_type": "display_data"
    }
   ],
   "source": [
    "plt.plot(model_history.history['loss'])\n",
    "plt.plot(model_history.history['val_loss'])\n",
    "plt.title('Loss Function Plot')\n",
    "plt.ylabel('Loss')\n",
    "plt.xlabel('Epoch')\n",
    "plt.legend(['Train', 'Validation'])\n",
    "plt.show()"
   ]
  },
  {
   "cell_type": "markdown",
   "metadata": {},
   "source": [
    "#### Visualize the above plots and analyze the Train and Validation curves"
   ]
  },
  {
   "cell_type": "markdown",
   "metadata": {},
   "source": [
    "### Experimenting with Hidden Layers - Build your own Neural Network"
   ]
  },
  {
   "cell_type": "code",
   "execution_count": 240,
   "metadata": {
    "ExecuteTime": {
     "end_time": "2019-03-16T11:59:00.326641Z",
     "start_time": "2019-03-16T11:59:00.300554Z"
    }
   },
   "outputs": [],
   "source": [
    "mlp_model = Sequential()\n",
    "\n",
    "activation_func = 'sigmoid'\n",
    "mlp_model.add(Dense(12, input_dim=21, activation=activation_func, kernel_initializer='normal'))\n",
    "mlp_model.add(Dense(1, activation=activation_func, kernel_initializer='normal'))"
   ]
  },
  {
   "cell_type": "code",
   "execution_count": 241,
   "metadata": {
    "ExecuteTime": {
     "end_time": "2019-03-16T11:59:00.332326Z",
     "start_time": "2019-03-16T11:59:00.328802Z"
    }
   },
   "outputs": [
    {
     "name": "stdout",
     "output_type": "stream",
     "text": [
      "_________________________________________________________________\n",
      "Layer (type)                 Output Shape              Param #   \n",
      "=================================================================\n",
      "dense_45 (Dense)             (None, 12)                264       \n",
      "_________________________________________________________________\n",
      "dense_46 (Dense)             (None, 1)                 13        \n",
      "=================================================================\n",
      "Total params: 277\n",
      "Trainable params: 277\n",
      "Non-trainable params: 0\n",
      "_________________________________________________________________\n"
     ]
    }
   ],
   "source": [
    "mlp_model.summary()"
   ]
  },
  {
   "cell_type": "code",
   "execution_count": 242,
   "metadata": {
    "ExecuteTime": {
     "end_time": "2019-03-16T11:59:00.373672Z",
     "start_time": "2019-03-16T11:59:00.334628Z"
    }
   },
   "outputs": [],
   "source": [
    "mlp_model.compile(loss='binary_crossentropy', optimizer='adam', metrics=['accuracy'])"
   ]
  },
  {
   "cell_type": "code",
   "execution_count": 243,
   "metadata": {
    "ExecuteTime": {
     "end_time": "2019-03-16T11:59:24.558040Z",
     "start_time": "2019-03-16T11:59:00.375945Z"
    },
    "scrolled": true
   },
   "outputs": [
    {
     "name": "stdout",
     "output_type": "stream",
     "text": [
      "Train on 32584 samples, validate on 8146 samples\n",
      "Epoch 1/100\n",
      "32584/32584 [==============================] - 2s 46us/step - loss: 0.4342 - acc: 0.8094 - val_loss: 0.3219 - val_acc: 0.8682\n",
      "Epoch 2/100\n",
      "32584/32584 [==============================] - 1s 23us/step - loss: 0.2852 - acc: 0.8829 - val_loss: 0.2729 - val_acc: 0.8858\n",
      "Epoch 3/100\n",
      "32584/32584 [==============================] - 1s 24us/step - loss: 0.2589 - acc: 0.8935 - val_loss: 0.2560 - val_acc: 0.8982\n",
      "Epoch 4/100\n",
      "32584/32584 [==============================] - 1s 21us/step - loss: 0.2496 - acc: 0.8984 - val_loss: 0.2516 - val_acc: 0.8990\n",
      "Epoch 5/100\n",
      "32584/32584 [==============================] - 1s 20us/step - loss: 0.2452 - acc: 0.9005 - val_loss: 0.2469 - val_acc: 0.9003\n",
      "Epoch 6/100\n",
      "32584/32584 [==============================] - 1s 21us/step - loss: 0.2424 - acc: 0.9017 - val_loss: 0.2478 - val_acc: 0.8982\n",
      "Epoch 7/100\n",
      "32584/32584 [==============================] - 1s 21us/step - loss: 0.2391 - acc: 0.9029 - val_loss: 0.2419 - val_acc: 0.9001\n",
      "Epoch 8/100\n",
      "32584/32584 [==============================] - 1s 21us/step - loss: 0.2381 - acc: 0.9034 - val_loss: 0.2431 - val_acc: 0.9004\n",
      "Epoch 9/100\n",
      "32584/32584 [==============================] - 1s 24us/step - loss: 0.2380 - acc: 0.9017 - val_loss: 0.2412 - val_acc: 0.8998\n",
      "Epoch 10/100\n",
      "32584/32584 [==============================] - 1s 21us/step - loss: 0.2364 - acc: 0.9028 - val_loss: 0.2408 - val_acc: 0.9025\n",
      "Epoch 11/100\n",
      "32584/32584 [==============================] - 1s 26us/step - loss: 0.2352 - acc: 0.9031 - val_loss: 0.2399 - val_acc: 0.9002\n",
      "Epoch 12/100\n",
      "32584/32584 [==============================] - 1s 31us/step - loss: 0.2347 - acc: 0.9032 - val_loss: 0.2408 - val_acc: 0.9001\n",
      "Epoch 13/100\n",
      "32584/32584 [==============================] - 1s 31us/step - loss: 0.2347 - acc: 0.9034 - val_loss: 0.2411 - val_acc: 0.9001\n",
      "Epoch 14/100\n",
      "32584/32584 [==============================] - 1s 22us/step - loss: 0.2350 - acc: 0.9021 - val_loss: 0.2383 - val_acc: 0.9000\n",
      "Epoch 15/100\n",
      "32584/32584 [==============================] - 1s 28us/step - loss: 0.2330 - acc: 0.9038 - val_loss: 0.2418 - val_acc: 0.8986\n",
      "Epoch 16/100\n",
      "32584/32584 [==============================] - 1s 21us/step - loss: 0.2325 - acc: 0.9044 - val_loss: 0.2383 - val_acc: 0.9013\n",
      "Epoch 17/100\n",
      "32584/32584 [==============================] - 1s 22us/step - loss: 0.2312 - acc: 0.9052 - val_loss: 0.2397 - val_acc: 0.8992\n",
      "Epoch 18/100\n",
      "32584/32584 [==============================] - 1s 27us/step - loss: 0.2333 - acc: 0.9039 - val_loss: 0.2368 - val_acc: 0.9027\n",
      "Epoch 19/100\n",
      "32584/32584 [==============================] - 1s 23us/step - loss: 0.2329 - acc: 0.9046 - val_loss: 0.2433 - val_acc: 0.9008\n",
      "Epoch 20/100\n",
      "32584/32584 [==============================] - 1s 23us/step - loss: 0.2331 - acc: 0.9018 - val_loss: 0.2359 - val_acc: 0.9025\n",
      "Epoch 21/100\n",
      "32584/32584 [==============================] - 1s 22us/step - loss: 0.2309 - acc: 0.9054 - val_loss: 0.2382 - val_acc: 0.9031\n",
      "Epoch 22/100\n",
      "32584/32584 [==============================] - 1s 22us/step - loss: 0.2295 - acc: 0.9063 - val_loss: 0.2346 - val_acc: 0.9018\n",
      "Epoch 23/100\n",
      "32584/32584 [==============================] - 1s 26us/step - loss: 0.2309 - acc: 0.9053 - val_loss: 0.2404 - val_acc: 0.9027\n",
      "Epoch 24/100\n",
      "32584/32584 [==============================] - 1s 22us/step - loss: 0.2322 - acc: 0.9056 - val_loss: 0.2353 - val_acc: 0.9020\n",
      "Epoch 25/100\n",
      "32584/32584 [==============================] - 1s 25us/step - loss: 0.2311 - acc: 0.9054 - val_loss: 0.2371 - val_acc: 0.9017\n",
      "Epoch 26/100\n",
      "32584/32584 [==============================] - 1s 20us/step - loss: 0.2325 - acc: 0.9042 - val_loss: 0.2340 - val_acc: 0.9027\n",
      "Epoch 27/100\n",
      "32584/32584 [==============================] - 1s 22us/step - loss: 0.2294 - acc: 0.9066 - val_loss: 0.2352 - val_acc: 0.9031\n",
      "Epoch 28/100\n",
      "32584/32584 [==============================] - 1s 20us/step - loss: 0.2310 - acc: 0.9046 - val_loss: 0.2446 - val_acc: 0.8964\n",
      "Epoch 29/100\n",
      "32584/32584 [==============================] - 1s 20us/step - loss: 0.2318 - acc: 0.9036 - val_loss: 0.2342 - val_acc: 0.9042\n",
      "Epoch 30/100\n",
      "32584/32584 [==============================] - 1s 20us/step - loss: 0.2290 - acc: 0.9051 - val_loss: 0.2347 - val_acc: 0.9038\n",
      "Epoch 31/100\n",
      "32584/32584 [==============================] - 1s 18us/step - loss: 0.2302 - acc: 0.9050 - val_loss: 0.2340 - val_acc: 0.9040\n",
      "Epoch 00031: early stopping\n"
     ]
    }
   ],
   "source": [
    "#model_history = ann_model.fit(X_train, y_train, epochs=100, batch_size=64, validation_split=0.2)\n",
    "from keras.callbacks import EarlyStopping\n",
    "\n",
    "es = EarlyStopping(monitor='val_loss', mode='min', verbose=1, patience=5)\n",
    "model_history = mlp_model.fit(X_train, y_train, epochs=100, batch_size=64, validation_split=0.2,callbacks=[es])"
   ]
  },
  {
   "cell_type": "markdown",
   "metadata": {},
   "source": [
    "#### Predictions"
   ]
  },
  {
   "cell_type": "code",
   "execution_count": 244,
   "metadata": {
    "ExecuteTime": {
     "end_time": "2019-03-16T11:59:25.567818Z",
     "start_time": "2019-03-16T11:59:24.560335Z"
    }
   },
   "outputs": [],
   "source": [
    "train_pred = mlp_model.predict_classes(X_train)\n",
    "\n",
    "test_pred = mlp_model.predict_classes(X_test)"
   ]
  },
  {
   "cell_type": "markdown",
   "metadata": {},
   "source": [
    "#### Getting evaluation metrics and evaluating model performance"
   ]
  },
  {
   "cell_type": "code",
   "execution_count": 245,
   "metadata": {
    "ExecuteTime": {
     "end_time": "2019-03-16T11:59:25.748204Z",
     "start_time": "2019-03-16T11:59:25.569716Z"
    }
   },
   "outputs": [
    {
     "name": "stdout",
     "output_type": "stream",
     "text": [
      "[[31224  1828]\n",
      " [ 2021  5657]]\n",
      "[[13336   829]\n",
      " [  894  2397]]\n"
     ]
    }
   ],
   "source": [
    "confusion_matrix_train = confusion_matrix(y_train, train_pred)\n",
    "confusion_matrix_test = confusion_matrix(y_test, test_pred)\n",
    "\n",
    "print(confusion_matrix_train)\n",
    "print(confusion_matrix_test)"
   ]
  },
  {
   "cell_type": "markdown",
   "metadata": {},
   "source": [
    "#### Calculate Accuracy, True Positive Rate and True Negative Rates"
   ]
  },
  {
   "cell_type": "code",
   "execution_count": 246,
   "metadata": {
    "ExecuteTime": {
     "end_time": "2019-03-16T11:59:25.760220Z",
     "start_time": "2019-03-16T11:59:25.751662Z"
    }
   },
   "outputs": [
    {
     "name": "stdout",
     "output_type": "stream",
     "text": [
      "Train Specificity:  0.9446932106982936\n",
      "Train Recall:  0.7367804115655119\n",
      "Train Precision:  0.7557782231128924\n",
      "Train Accuracy:  0.9054996317210902\n"
     ]
    }
   ],
   "source": [
    "# Metrics on train data for ann_model 1\n",
    "#Accuracy\n",
    "accuracy_Train_M1 = (confusion_matrix_train[0,0]+confusion_matrix_train[1,1])/(confusion_matrix_train[0,0]+confusion_matrix_train[0,1]+confusion_matrix_train[1,0]+confusion_matrix_train[1,1])\n",
    "#specificity or true negative rate (TNR)\n",
    "specificity_Train_M1 = confusion_matrix_train[0,0]/(confusion_matrix_train[0,0]+confusion_matrix_train[0,1])\n",
    "#sensitivity, recall, hit rate, or true positive rate (TPR)\n",
    "recall_Train_M1 = confusion_matrix_train[1,1]/(confusion_matrix_train[1,0]+confusion_matrix_train[1,1])\n",
    "#precision\n",
    "precision_Train_M1 = confusion_matrix_train[1,1]/(confusion_matrix_train[0,1]+confusion_matrix_train[1,1])\n",
    "\n",
    "print(\"Train Specificity: \",specificity_Train_M1)\n",
    "print(\"Train Recall: \",recall_Train_M1)\n",
    "print(\"Train Precision: \",precision_Train_M1)\n",
    "print(\"Train Accuracy: \",accuracy_Train_M1)"
   ]
  },
  {
   "cell_type": "code",
   "execution_count": 247,
   "metadata": {
    "ExecuteTime": {
     "end_time": "2019-03-16T11:59:25.773083Z",
     "start_time": "2019-03-16T11:59:25.765709Z"
    }
   },
   "outputs": [
    {
     "name": "stdout",
     "output_type": "stream",
     "text": [
      "Test Specificity:  0.9414754677020826\n",
      "Test Recall:  0.7283500455788514\n",
      "Test Precision:  0.7430254184748915\n",
      "Test Accuracy:  0.901294683776352\n"
     ]
    }
   ],
   "source": [
    "# Metrics on test data\n",
    "#Accuracy\n",
    "accuracy_Test_M1 = (confusion_matrix_test[0,0]+confusion_matrix_test[1,1])/(confusion_matrix_test[0,0]+confusion_matrix_test[0,1]+confusion_matrix_test[1,0]+confusion_matrix_test[1,1])\n",
    "#specificity or true negative rate (TNR)\n",
    "specificity_Test_M1 = confusion_matrix_test[0,0]/(confusion_matrix_test[0,0]+confusion_matrix_test[0,1])\n",
    "#sensitivity, recall, hit rate, or true positive rate (TPR)\n",
    "recall_Test_M1 = confusion_matrix_test[1,1]/(confusion_matrix_test[1,0]+confusion_matrix_test[1,1])\n",
    "#precision\n",
    "precision_Test_M1 = confusion_matrix_test[1,1]/(confusion_matrix_test[0,1]+confusion_matrix_test[1,1])\n",
    "\n",
    "print(\"Test Specificity: \",specificity_Test_M1)\n",
    "print(\"Test Recall: \",recall_Test_M1)\n",
    "print(\"Test Precision: \",precision_Test_M1)\n",
    "print(\"Test Accuracy: \",accuracy_Test_M1)"
   ]
  },
  {
   "cell_type": "markdown",
   "metadata": {},
   "source": [
    "##### Plot"
   ]
  },
  {
   "cell_type": "code",
   "execution_count": 248,
   "metadata": {
    "ExecuteTime": {
     "end_time": "2019-03-16T11:59:25.778459Z",
     "start_time": "2019-03-16T11:59:25.775111Z"
    }
   },
   "outputs": [
    {
     "name": "stdout",
     "output_type": "stream",
     "text": [
      "dict_keys(['val_loss', 'val_acc', 'loss', 'acc'])\n"
     ]
    }
   ],
   "source": [
    "print(model_history.history.keys())"
   ]
  },
  {
   "cell_type": "code",
   "execution_count": 249,
   "metadata": {
    "ExecuteTime": {
     "end_time": "2019-03-16T11:59:25.968470Z",
     "start_time": "2019-03-16T11:59:25.781180Z"
    }
   },
   "outputs": [
    {
     "data": {
      "image/png": "[encoded data removed]",
      "text/plain": [
       "<Figure size 432x288 with 1 Axes>"
      ]
     },
     "metadata": {
      "needs_background": "light"
     },
     "output_type": "display_data"
    }
   ],
   "source": [
    "plt.plot(model_history.history['acc'])\n",
    "plt.plot(model_history.history['val_acc'])\n",
    "plt.title('Accuracy Plot')\n",
    "plt.ylabel('Accuracy')\n",
    "plt.xlabel('Epoch')\n",
    "plt.legend(['Train', 'Validation'])\n",
    "plt.show()"
   ]
  },
  {
   "cell_type": "code",
   "execution_count": 250,
   "metadata": {
    "ExecuteTime": {
     "end_time": "2019-03-16T11:59:26.150487Z",
     "start_time": "2019-03-16T11:59:25.970419Z"
    }
   },
   "outputs": [
    {
     "data": {
      "image/png": "[encoded data removed]",
      "text/plain": [
       "<Figure size 432x288 with 1 Axes>"
      ]
     },
     "metadata": {
      "needs_background": "light"
     },
     "output_type": "display_data"
    }
   ],
   "source": [
    "plt.plot(model_history.history['loss'])\n",
    "plt.plot(model_history.history['val_loss'])\n",
    "plt.title('Loss Function Plot')\n",
    "plt.ylabel('Loss')\n",
    "plt.xlabel('Epoch')\n",
    "plt.legend(['Train', 'Validation'])\n",
    "plt.show()"
   ]
  },
  {
   "cell_type": "code",
   "execution_count": null,
   "metadata": {},
   "outputs": [],
   "source": []
  },
  {
   "cell_type": "markdown",
   "metadata": {},
   "source": [
    "### Exercise: Experiment with learning rates"
   ]
  },
  {
   "cell_type": "markdown",
   "metadata": {
    "collapsed": true
   },
   "source": [
    "### Reference Links:\n",
    "\n",
    "https://machinelearningmastery.com/adam-optimization-algorithm-for-deep-learning/\n",
    "\n",
    "https://keras.io/"
   ]
  },
  {
   "cell_type": "code",
   "execution_count": null,
   "metadata": {},
   "outputs": [],
   "source": []
  },
  {
   "cell_type": "code",
   "execution_count": null,
   "metadata": {},
   "outputs": [],
   "source": []
  }
 ],
 "metadata": {
  "kernelspec": {
   "display_name": "Python 3",
   "language": "python",
   "name": "python3"
  },
  "language_info": {
   "codemirror_mode": {
    "name": "ipython",
    "version": 3
   },
   "file_extension": ".py",
   "mimetype": "text/x-python",
   "name": "python",
   "nbconvert_exporter": "python",
   "pygments_lexer": "ipython3",
   "version": "3.6.7"
  },
  "toc": {
   "base_numbering": 1,
   "nav_menu": {},
   "number_sections": true,
   "sideBar": true,
   "skip_h1_title": false,
   "title_cell": "Table of Contents",
   "title_sidebar": "Contents",
   "toc_cell": false,
   "toc_position": {},
   "toc_section_display": true,
   "toc_window_display": false
  },
  "varInspector": {
   "cols": {
    "lenName": 16,
    "lenType": 16,
    "lenVar": 40
   },
   "kernels_config": {
    "python": {
     "delete_cmd_postfix": "",
     "delete_cmd_prefix": "del ",
     "library": "var_list.py",
     "varRefreshCmd": "print(var_dic_list())"
    },
    "r": {
     "delete_cmd_postfix": ") ",
     "delete_cmd_prefix": "rm(",
     "library": "var_list.r",
     "varRefreshCmd": "cat(var_dic_list()) "
    }
   },
   "types_to_exclude": [
    "module",
    "function",
    "builtin_function_or_method",
    "instance",
    "_Feature"
   ],
   "window_display": true
  }
 },
 "nbformat": 4,
 "nbformat_minor": 2
}
