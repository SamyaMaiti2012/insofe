{
 "cells": [
  {
   "cell_type": "markdown",
   "metadata": {},
   "source": [
    "# Sales Report Suspiciousness Detection : Exploratory Data Analysis using visualizations\n",
    "\n",
    "\n",
    "## Problem Description\n",
    "\n",
    "\n",
    "\n",
    "### Analysis Objectives\n",
    "\n",
    "\n",
    "\n",
    "### Data Set Description\n",
    "\n",
    "\n",
    "\n",
    "### Considerations / Assumptions\n",
    "\n",
    "\n",
    "\n",
    "### Algorithm Class\n",
    "\n",
    "\n",
    "\n",
    "### Given constraints\n",
    "\n",
    "\n",
    "\n",
    "### Main Tasks\n",
    "\n",
    "\n"
   ]
  },
  {
   "cell_type": "markdown",
   "metadata": {},
   "source": [
    "## Import libraries"
   ]
  },
  {
   "cell_type": "code",
   "execution_count": 1,
   "metadata": {
    "ExecuteTime": {
     "end_time": "2019-05-23T05:48:25.517722Z",
     "start_time": "2019-05-23T05:48:20.638190Z"
    }
   },
   "outputs": [],
   "source": [
    "import pandas as pd\n",
    "from IPython.core.interactiveshell import InteractiveShell\n",
    "import warnings\n",
    "import os\n",
    "import random\n",
    "import matplotlib.pyplot as plt     \n",
    "import seaborn as sns\n",
    "from sklearn.linear_model import LogisticRegression\n",
    "from scipy.stats import chi2_contingency\n",
    "from scipy.stats import chi2\n",
    "from sklearn.preprocessing import LabelEncoder\n",
    "from sklearn.model_selection import train_test_split\n",
    "import numpy as np\n",
    "from sklearn.preprocessing import OneHotEncoder, LabelEncoder, StandardScaler\n",
    "from sklearn.pipeline import Pipeline\n",
    "from sklearn.compose import ColumnTransformer\n",
    "from imblearn.pipeline import Pipeline as impipe\n",
    "from sklearn import svm\n",
    "from sklearn.linear_model import LogisticRegression\n",
    "from sklearn.tree import DecisionTreeClassifier\n",
    "from sklearn.model_selection import RepeatedKFold\n",
    "from sklearn.model_selection import GridSearchCV\n",
    "from sklearn.model_selection import ShuffleSplit\n",
    "from sklearn.metrics import roc_curve, auc, accuracy_score,classification_report, recall_score,precision_score,precision_recall_curve,average_precision_score, silhouette_score,roc_curve, auc,confusion_matrix,mean_absolute_error,mean_squared_error,roc_auc_score,f1_score, precision_recall_fscore_support\n",
    "from sklearn.model_selection import learning_curve\n",
    "import graphviz\n",
    "from sklearn import tree\n",
    "import plotly.plotly as py\n",
    "import plotly.graph_objs as go\n",
    "from plotly.offline import init_notebook_mode, iplot, plot\n",
    "\n",
    "\n"
   ]
  },
  {
   "cell_type": "markdown",
   "metadata": {},
   "source": [
    "## Set Environment for Execution"
   ]
  },
  {
   "cell_type": "code",
   "execution_count": 2,
   "metadata": {
    "ExecuteTime": {
     "end_time": "2019-05-23T05:48:25.532392Z",
     "start_time": "2019-05-23T05:48:25.520320Z"
    }
   },
   "outputs": [
    {
     "data": {
      "text/html": [
       "<script type=\"text/javascript\">window.PlotlyConfig = {MathJaxConfig: 'local'};</script><script type=\"text/javascript\">if (window.MathJax) {MathJax.Hub.Config({SVG: {font: \"STIX-Web\"}});}</script><script>requirejs.config({paths: { 'plotly': ['https://cdn.plot.ly/plotly-latest.min']},});if(!window._Plotly) {require(['plotly'],function(plotly) {window._Plotly=plotly;});}</script>"
      ],
      "text/vnd.plotly.v1+html": [
       "<script type=\"text/javascript\">window.PlotlyConfig = {MathJaxConfig: 'local'};</script><script type=\"text/javascript\">if (window.MathJax) {MathJax.Hub.Config({SVG: {font: \"STIX-Web\"}});}</script><script>requirejs.config({paths: { 'plotly': ['https://cdn.plot.ly/plotly-latest.min']},});if(!window._Plotly) {require(['plotly'],function(plotly) {window._Plotly=plotly;});}</script>"
      ]
     },
     "metadata": {},
     "output_type": "display_data"
    }
   ],
   "source": [
    "def set_env_var():\n",
    "    InteractiveShell.ast_node_interactivity = \"all\"\n",
    "    warnings.filterwarnings('ignore')\n",
    "    os.environ['KMP_DUPLICATE_LIB_OK']='True'\n",
    "    pd.set_option('display.max_rows', 60)\n",
    "    pd.set_option('display.max_columns', 60)\n",
    "    init_notebook_mode(connected=True)\n",
    "    %matplotlib inline\n",
    "\n",
    "\n",
    "set_env_var()\n"
   ]
  },
  {
   "cell_type": "markdown",
   "metadata": {},
   "source": [
    "## Set Seed for consistent execution"
   ]
  },
  {
   "cell_type": "code",
   "execution_count": 3,
   "metadata": {
    "ExecuteTime": {
     "end_time": "2019-05-23T05:48:25.537372Z",
     "start_time": "2019-05-23T05:48:25.534127Z"
    }
   },
   "outputs": [],
   "source": [
    "def set_seed(seed=777):\n",
    "    return random.seed(seed)\n",
    "\n",
    "seed_constant = 776\n",
    "set_seed(seed_constant)\n"
   ]
  },
  {
   "cell_type": "markdown",
   "metadata": {},
   "source": [
    "## Import required data "
   ]
  },
  {
   "cell_type": "code",
   "execution_count": 4,
   "metadata": {
    "ExecuteTime": {
     "end_time": "2019-05-23T05:48:27.577327Z",
     "start_time": "2019-05-23T05:48:25.541226Z"
    }
   },
   "outputs": [
    {
     "name": "stdout",
     "output_type": "stream",
     "text": [
      "The number of Rows in the Data set  = 42582\n",
      "The number of Columns in the data set = 6\n"
     ]
    }
   ],
   "source": [
    "def data_importer_xlsx(data_path, na_values=[]):\n",
    "    dataF = pd.read_excel(data_path, na_values=na_values)\n",
    "    print(\"The number of Rows in the Data set  = \"+str(dataF.shape[0]))\n",
    "    print(\"The number of Columns in the data set = \" +str(dataF.shape[1]))\n",
    "    return dataF\n",
    "\n",
    "salesReportData=data_importer_xlsx(\"/Users/samyam/Documents/Samya/GIT/insofe/Final_PHD/PHD_TrainData_and_ProblemStatement_actual/Train.xlsx\")"
   ]
  },
  {
   "cell_type": "markdown",
   "metadata": {},
   "source": [
    "## Split data for analysis"
   ]
  },
  {
   "cell_type": "code",
   "execution_count": 5,
   "metadata": {
    "ExecuteTime": {
     "end_time": "2019-05-23T05:48:27.630544Z",
     "start_time": "2019-05-23T05:48:27.580034Z"
    }
   },
   "outputs": [
    {
     "name": "stdout",
     "output_type": "stream",
     "text": [
      "Train Set shape : (36194, 6)\n",
      "Test Set shape : (6388, 6)\n"
     ]
    }
   ],
   "source": [
    "#salesReportDataTrain, salesReportDataTestVal = train_test_split(salesReportData, test_size=0.2, random_state=seed_constant, stratify=salesReportData['Suspicious'])\n",
    "#salesReportDataValidate, salesReportDataTest = train_test_split(salesReportDataTestVal, test_size=0.5, random_state=seed_constant, stratify=salesReportDataTestVal['Suspicious'])\n",
    "\n",
    "salesReportDataTrain, salesReportDataTest = train_test_split(salesReportData, test_size=0.15, random_state=seed_constant, stratify=salesReportData['Suspicious'])\n",
    "\n",
    "print(\"Train Set shape :\",salesReportDataTrain.shape)\n",
    "print(\"Test Set shape :\",salesReportDataTest.shape)"
   ]
  },
  {
   "cell_type": "markdown",
   "metadata": {},
   "source": [
    "## Feature Analysis of given data"
   ]
  },
  {
   "cell_type": "code",
   "execution_count": 6,
   "metadata": {
    "ExecuteTime": {
     "end_time": "2019-05-23T05:48:27.636618Z",
     "start_time": "2019-05-23T05:48:27.632448Z"
    }
   },
   "outputs": [
    {
     "name": "stdout",
     "output_type": "stream",
     "text": [
      "The columns in the data set are : \n",
      " ['ReportID', 'SalesPersonID', 'ProductID', 'Quantity', 'TotalSalesValue', 'Suspicious']\n",
      "The data types of the columns are :\n",
      "\n",
      " ReportID           object\n",
      "SalesPersonID      object\n",
      "ProductID          object\n",
      "Quantity            int64\n",
      "TotalSalesValue     int64\n",
      "Suspicious         object\n",
      "dtype: object\n"
     ]
    }
   ],
   "source": [
    "def data_description(dataF):\n",
    "    print(\"The columns in the data set are : \\n\",list(dataF.columns))\n",
    "    print(\"The data types of the columns are :\\n\\n\",dataF.dtypes)\n",
    "    \n",
    "data_description(salesReportDataTrain)"
   ]
  },
  {
   "cell_type": "markdown",
   "metadata": {},
   "source": [
    "### Check the first and last 5 rows in dataset to get an understanding of data"
   ]
  },
  {
   "cell_type": "code",
   "execution_count": 7,
   "metadata": {
    "ExecuteTime": {
     "end_time": "2019-05-23T05:48:27.658454Z",
     "start_time": "2019-05-23T05:48:27.638707Z"
    }
   },
   "outputs": [
    {
     "data": {
      "text/html": [
       "<div>\n",
       "<style scoped>\n",
       "    .dataframe tbody tr th:only-of-type {\n",
       "        vertical-align: middle;\n",
       "    }\n",
       "\n",
       "    .dataframe tbody tr th {\n",
       "        vertical-align: top;\n",
       "    }\n",
       "\n",
       "    .dataframe thead th {\n",
       "        text-align: right;\n",
       "    }\n",
       "</style>\n",
       "<table border=\"1\" class=\"dataframe\">\n",
       "  <thead>\n",
       "    <tr style=\"text-align: right;\">\n",
       "      <th></th>\n",
       "      <th>ReportID</th>\n",
       "      <th>SalesPersonID</th>\n",
       "      <th>ProductID</th>\n",
       "      <th>Quantity</th>\n",
       "      <th>TotalSalesValue</th>\n",
       "      <th>Suspicious</th>\n",
       "    </tr>\n",
       "  </thead>\n",
       "  <tbody>\n",
       "    <tr>\n",
       "      <th>26235</th>\n",
       "      <td>Rep36336</td>\n",
       "      <td>C21448</td>\n",
       "      <td>PR6235</td>\n",
       "      <td>163</td>\n",
       "      <td>1890</td>\n",
       "      <td>indeterminate</td>\n",
       "    </tr>\n",
       "    <tr>\n",
       "      <th>9840</th>\n",
       "      <td>Rep19941</td>\n",
       "      <td>C22174</td>\n",
       "      <td>PR6326</td>\n",
       "      <td>82</td>\n",
       "      <td>1165</td>\n",
       "      <td>indeterminate</td>\n",
       "    </tr>\n",
       "    <tr>\n",
       "      <th>26954</th>\n",
       "      <td>Rep37055</td>\n",
       "      <td>C21236</td>\n",
       "      <td>PR6675</td>\n",
       "      <td>305</td>\n",
       "      <td>32915</td>\n",
       "      <td>indeterminate</td>\n",
       "    </tr>\n",
       "    <tr>\n",
       "      <th>21044</th>\n",
       "      <td>Rep31145</td>\n",
       "      <td>C21387</td>\n",
       "      <td>PR6253</td>\n",
       "      <td>101</td>\n",
       "      <td>1010</td>\n",
       "      <td>indeterminate</td>\n",
       "    </tr>\n",
       "    <tr>\n",
       "      <th>5175</th>\n",
       "      <td>Rep15276</td>\n",
       "      <td>C22185</td>\n",
       "      <td>PR6211</td>\n",
       "      <td>481</td>\n",
       "      <td>2110</td>\n",
       "      <td>indeterminate</td>\n",
       "    </tr>\n",
       "  </tbody>\n",
       "</table>\n",
       "</div>"
      ],
      "text/plain": [
       "       ReportID SalesPersonID ProductID  Quantity  TotalSalesValue  \\\n",
       "26235  Rep36336        C21448    PR6235       163             1890   \n",
       "9840   Rep19941        C22174    PR6326        82             1165   \n",
       "26954  Rep37055        C21236    PR6675       305            32915   \n",
       "21044  Rep31145        C21387    PR6253       101             1010   \n",
       "5175   Rep15276        C22185    PR6211       481             2110   \n",
       "\n",
       "          Suspicious  \n",
       "26235  indeterminate  \n",
       "9840   indeterminate  \n",
       "26954  indeterminate  \n",
       "21044  indeterminate  \n",
       "5175   indeterminate  "
      ]
     },
     "execution_count": 7,
     "metadata": {},
     "output_type": "execute_result"
    },
    {
     "data": {
      "text/html": [
       "<div>\n",
       "<style scoped>\n",
       "    .dataframe tbody tr th:only-of-type {\n",
       "        vertical-align: middle;\n",
       "    }\n",
       "\n",
       "    .dataframe tbody tr th {\n",
       "        vertical-align: top;\n",
       "    }\n",
       "\n",
       "    .dataframe thead th {\n",
       "        text-align: right;\n",
       "    }\n",
       "</style>\n",
       "<table border=\"1\" class=\"dataframe\">\n",
       "  <thead>\n",
       "    <tr style=\"text-align: right;\">\n",
       "      <th></th>\n",
       "      <th>ReportID</th>\n",
       "      <th>SalesPersonID</th>\n",
       "      <th>ProductID</th>\n",
       "      <th>Quantity</th>\n",
       "      <th>TotalSalesValue</th>\n",
       "      <th>Suspicious</th>\n",
       "    </tr>\n",
       "  </thead>\n",
       "  <tbody>\n",
       "    <tr>\n",
       "      <th>4393</th>\n",
       "      <td>Rep14494</td>\n",
       "      <td>C22000</td>\n",
       "      <td>PR6329</td>\n",
       "      <td>272</td>\n",
       "      <td>8460</td>\n",
       "      <td>indeterminate</td>\n",
       "    </tr>\n",
       "    <tr>\n",
       "      <th>30329</th>\n",
       "      <td>Rep40430</td>\n",
       "      <td>C21699</td>\n",
       "      <td>PR6675</td>\n",
       "      <td>104</td>\n",
       "      <td>1345</td>\n",
       "      <td>indeterminate</td>\n",
       "    </tr>\n",
       "    <tr>\n",
       "      <th>33999</th>\n",
       "      <td>Rep44100</td>\n",
       "      <td>C21823</td>\n",
       "      <td>PR6697</td>\n",
       "      <td>7064</td>\n",
       "      <td>35160</td>\n",
       "      <td>indeterminate</td>\n",
       "    </tr>\n",
       "    <tr>\n",
       "      <th>19672</th>\n",
       "      <td>Rep29773</td>\n",
       "      <td>C21638</td>\n",
       "      <td>PR6253</td>\n",
       "      <td>103</td>\n",
       "      <td>1005</td>\n",
       "      <td>indeterminate</td>\n",
       "    </tr>\n",
       "    <tr>\n",
       "      <th>23007</th>\n",
       "      <td>Rep33108</td>\n",
       "      <td>C21189</td>\n",
       "      <td>PR6223</td>\n",
       "      <td>612</td>\n",
       "      <td>7340</td>\n",
       "      <td>indeterminate</td>\n",
       "    </tr>\n",
       "  </tbody>\n",
       "</table>\n",
       "</div>"
      ],
      "text/plain": [
       "       ReportID SalesPersonID ProductID  Quantity  TotalSalesValue  \\\n",
       "4393   Rep14494        C22000    PR6329       272             8460   \n",
       "30329  Rep40430        C21699    PR6675       104             1345   \n",
       "33999  Rep44100        C21823    PR6697      7064            35160   \n",
       "19672  Rep29773        C21638    PR6253       103             1005   \n",
       "23007  Rep33108        C21189    PR6223       612             7340   \n",
       "\n",
       "          Suspicious  \n",
       "4393   indeterminate  \n",
       "30329  indeterminate  \n",
       "33999  indeterminate  \n",
       "19672  indeterminate  \n",
       "23007  indeterminate  "
      ]
     },
     "execution_count": 7,
     "metadata": {},
     "output_type": "execute_result"
    }
   ],
   "source": [
    "salesReportDataTrain.head()\n",
    "salesReportDataTrain.tail()"
   ]
  },
  {
   "cell_type": "markdown",
   "metadata": {},
   "source": [
    "### Random Sample rows"
   ]
  },
  {
   "cell_type": "code",
   "execution_count": 8,
   "metadata": {
    "ExecuteTime": {
     "end_time": "2019-05-23T05:48:27.672467Z",
     "start_time": "2019-05-23T05:48:27.660488Z"
    }
   },
   "outputs": [
    {
     "data": {
      "text/html": [
       "<div>\n",
       "<style scoped>\n",
       "    .dataframe tbody tr th:only-of-type {\n",
       "        vertical-align: middle;\n",
       "    }\n",
       "\n",
       "    .dataframe tbody tr th {\n",
       "        vertical-align: top;\n",
       "    }\n",
       "\n",
       "    .dataframe thead th {\n",
       "        text-align: right;\n",
       "    }\n",
       "</style>\n",
       "<table border=\"1\" class=\"dataframe\">\n",
       "  <thead>\n",
       "    <tr style=\"text-align: right;\">\n",
       "      <th></th>\n",
       "      <th>ReportID</th>\n",
       "      <th>SalesPersonID</th>\n",
       "      <th>ProductID</th>\n",
       "      <th>Quantity</th>\n",
       "      <th>TotalSalesValue</th>\n",
       "      <th>Suspicious</th>\n",
       "    </tr>\n",
       "  </thead>\n",
       "  <tbody>\n",
       "    <tr>\n",
       "      <th>27957</th>\n",
       "      <td>Rep38058</td>\n",
       "      <td>C21565</td>\n",
       "      <td>PR6383</td>\n",
       "      <td>104</td>\n",
       "      <td>5715</td>\n",
       "      <td>indeterminate</td>\n",
       "    </tr>\n",
       "    <tr>\n",
       "      <th>39807</th>\n",
       "      <td>Rep49908</td>\n",
       "      <td>C21941</td>\n",
       "      <td>PR6458</td>\n",
       "      <td>102</td>\n",
       "      <td>1730</td>\n",
       "      <td>indeterminate</td>\n",
       "    </tr>\n",
       "    <tr>\n",
       "      <th>3100</th>\n",
       "      <td>Rep13201</td>\n",
       "      <td>C22049</td>\n",
       "      <td>PR6248</td>\n",
       "      <td>344</td>\n",
       "      <td>2595</td>\n",
       "      <td>indeterminate</td>\n",
       "    </tr>\n",
       "    <tr>\n",
       "      <th>18260</th>\n",
       "      <td>Rep28361</td>\n",
       "      <td>C22220</td>\n",
       "      <td>PR6526</td>\n",
       "      <td>11927</td>\n",
       "      <td>12330</td>\n",
       "      <td>indeterminate</td>\n",
       "    </tr>\n",
       "    <tr>\n",
       "      <th>38128</th>\n",
       "      <td>Rep48229</td>\n",
       "      <td>C21579</td>\n",
       "      <td>PR6643</td>\n",
       "      <td>106</td>\n",
       "      <td>2280</td>\n",
       "      <td>indeterminate</td>\n",
       "    </tr>\n",
       "    <tr>\n",
       "      <th>28804</th>\n",
       "      <td>Rep38905</td>\n",
       "      <td>C21720</td>\n",
       "      <td>PR6595</td>\n",
       "      <td>102</td>\n",
       "      <td>1245</td>\n",
       "      <td>indeterminate</td>\n",
       "    </tr>\n",
       "    <tr>\n",
       "      <th>6738</th>\n",
       "      <td>Rep16839</td>\n",
       "      <td>C21487</td>\n",
       "      <td>PR6387</td>\n",
       "      <td>170</td>\n",
       "      <td>1785</td>\n",
       "      <td>indeterminate</td>\n",
       "    </tr>\n",
       "    <tr>\n",
       "      <th>32204</th>\n",
       "      <td>Rep42305</td>\n",
       "      <td>C21389</td>\n",
       "      <td>PR6253</td>\n",
       "      <td>123</td>\n",
       "      <td>2890</td>\n",
       "      <td>No</td>\n",
       "    </tr>\n",
       "    <tr>\n",
       "      <th>7943</th>\n",
       "      <td>Rep18044</td>\n",
       "      <td>C22136</td>\n",
       "      <td>PR6259</td>\n",
       "      <td>4251</td>\n",
       "      <td>15440</td>\n",
       "      <td>indeterminate</td>\n",
       "    </tr>\n",
       "    <tr>\n",
       "      <th>42003</th>\n",
       "      <td>Rep52104</td>\n",
       "      <td>C21777</td>\n",
       "      <td>PR6703</td>\n",
       "      <td>3841</td>\n",
       "      <td>26215</td>\n",
       "      <td>indeterminate</td>\n",
       "    </tr>\n",
       "  </tbody>\n",
       "</table>\n",
       "</div>"
      ],
      "text/plain": [
       "       ReportID SalesPersonID ProductID  Quantity  TotalSalesValue  \\\n",
       "27957  Rep38058        C21565    PR6383       104             5715   \n",
       "39807  Rep49908        C21941    PR6458       102             1730   \n",
       "3100   Rep13201        C22049    PR6248       344             2595   \n",
       "18260  Rep28361        C22220    PR6526     11927            12330   \n",
       "38128  Rep48229        C21579    PR6643       106             2280   \n",
       "28804  Rep38905        C21720    PR6595       102             1245   \n",
       "6738   Rep16839        C21487    PR6387       170             1785   \n",
       "32204  Rep42305        C21389    PR6253       123             2890   \n",
       "7943   Rep18044        C22136    PR6259      4251            15440   \n",
       "42003  Rep52104        C21777    PR6703      3841            26215   \n",
       "\n",
       "          Suspicious  \n",
       "27957  indeterminate  \n",
       "39807  indeterminate  \n",
       "3100   indeterminate  \n",
       "18260  indeterminate  \n",
       "38128  indeterminate  \n",
       "28804  indeterminate  \n",
       "6738   indeterminate  \n",
       "32204             No  \n",
       "7943   indeterminate  \n",
       "42003  indeterminate  "
      ]
     },
     "execution_count": 8,
     "metadata": {},
     "output_type": "execute_result"
    }
   ],
   "source": [
    "def get_data_sample(dataF, num_sample=10):\n",
    "    return pd.DataFrame(dataF.sample(num_sample))\n",
    "\n",
    "get_data_sample(salesReportDataTrain)"
   ]
  },
  {
   "cell_type": "markdown",
   "metadata": {},
   "source": [
    "### Distribution of target attribute"
   ]
  },
  {
   "cell_type": "code",
   "execution_count": 9,
   "metadata": {
    "ExecuteTime": {
     "end_time": "2019-05-23T05:48:27.859345Z",
     "start_time": "2019-05-23T05:48:27.673757Z"
    }
   },
   "outputs": [
    {
     "name": "stdout",
     "output_type": "stream",
     "text": [
      "indeterminate    33868\n",
      "No                2172\n",
      "Yes                154\n",
      "Name: Suspicious, dtype: int64\n",
      "indeterminate    93.573520\n",
      "No                6.000995\n",
      "Yes               0.425485\n",
      "Name: Suspicious, dtype: float64\n"
     ]
    },
    {
     "data": {
      "image/png": "[encoded data removed]",
      "text/plain": [
       "<Figure size 864x288 with 1 Axes>"
      ]
     },
     "metadata": {
      "needs_background": "light"
     },
     "output_type": "display_data"
    }
   ],
   "source": [
    "def plot_data_dist_across_targ(dataF, target):\n",
    "    \"\"\"\n",
    "    Plot target variable distribution\n",
    "    \"\"\"\n",
    "    \n",
    "    print(dataF[target].value_counts())\n",
    "    print((dataF[target].value_counts()/dataF[target].count())*100)\n",
    "    \n",
    "    plt.figure(figsize=(12,4))\n",
    "    plt.style.use('seaborn-ticks')\n",
    "    plot_1 = sns.countplot(y=target, data=dataF, order = dataF[target].value_counts().index);\n",
    "    plot_1.axes.set_title(\"Target Variable Distribution\",fontsize=20);\n",
    "    plot_1.set_xlabel(\"Count\",fontsize=20);\n",
    "    plot_1.set_ylabel(\"Target Variable\",fontsize=20);\n",
    "    plot_1.tick_params(labelsize=15);\n",
    "    plt.show();\n",
    "\n",
    "    \n",
    "plot_data_dist_across_targ(salesReportDataTrain, \"Suspicious\")"
   ]
  },
  {
   "cell_type": "markdown",
   "metadata": {},
   "source": [
    "### Check count of null in each column & its percent"
   ]
  },
  {
   "cell_type": "code",
   "execution_count": 10,
   "metadata": {
    "ExecuteTime": {
     "end_time": "2019-05-23T05:48:27.891504Z",
     "start_time": "2019-05-23T05:48:27.861667Z"
    }
   },
   "outputs": [
    {
     "data": {
      "text/html": [
       "<div>\n",
       "<style scoped>\n",
       "    .dataframe tbody tr th:only-of-type {\n",
       "        vertical-align: middle;\n",
       "    }\n",
       "\n",
       "    .dataframe tbody tr th {\n",
       "        vertical-align: top;\n",
       "    }\n",
       "\n",
       "    .dataframe thead th {\n",
       "        text-align: right;\n",
       "    }\n",
       "</style>\n",
       "<table border=\"1\" class=\"dataframe\">\n",
       "  <thead>\n",
       "    <tr style=\"text-align: right;\">\n",
       "      <th></th>\n",
       "      <th>total_missing</th>\n",
       "      <th>perc_missing</th>\n",
       "    </tr>\n",
       "  </thead>\n",
       "  <tbody>\n",
       "    <tr>\n",
       "      <th>ReportID</th>\n",
       "      <td>0</td>\n",
       "      <td>0.0</td>\n",
       "    </tr>\n",
       "    <tr>\n",
       "      <th>SalesPersonID</th>\n",
       "      <td>0</td>\n",
       "      <td>0.0</td>\n",
       "    </tr>\n",
       "    <tr>\n",
       "      <th>ProductID</th>\n",
       "      <td>0</td>\n",
       "      <td>0.0</td>\n",
       "    </tr>\n",
       "    <tr>\n",
       "      <th>Quantity</th>\n",
       "      <td>0</td>\n",
       "      <td>0.0</td>\n",
       "    </tr>\n",
       "    <tr>\n",
       "      <th>TotalSalesValue</th>\n",
       "      <td>0</td>\n",
       "      <td>0.0</td>\n",
       "    </tr>\n",
       "    <tr>\n",
       "      <th>Suspicious</th>\n",
       "      <td>0</td>\n",
       "      <td>0.0</td>\n",
       "    </tr>\n",
       "  </tbody>\n",
       "</table>\n",
       "</div>"
      ],
      "text/plain": [
       "                 total_missing  perc_missing\n",
       "ReportID                     0           0.0\n",
       "SalesPersonID                0           0.0\n",
       "ProductID                    0           0.0\n",
       "Quantity                     0           0.0\n",
       "TotalSalesValue              0           0.0\n",
       "Suspicious                   0           0.0"
      ]
     },
     "execution_count": 10,
     "metadata": {},
     "output_type": "execute_result"
    }
   ],
   "source": [
    "def get_null_count_per_attribute(dataF): \n",
    "    return pd.DataFrame({'total_missing': dataF.isnull().sum(), \n",
    "                         'perc_missing': (dataF.isnull().sum()/dataF.shape[0])*100}).sort_values(\n",
    "        by=['perc_missing'], ascending=False)\n",
    "\n",
    "get_null_count_per_attribute(salesReportDataTrain)"
   ]
  },
  {
   "cell_type": "markdown",
   "metadata": {},
   "source": [
    "### Check for count of unique values in different attriutes"
   ]
  },
  {
   "cell_type": "code",
   "execution_count": 11,
   "metadata": {
    "ExecuteTime": {
     "end_time": "2019-05-23T05:48:27.938859Z",
     "start_time": "2019-05-23T05:48:27.894142Z"
    }
   },
   "outputs": [
    {
     "data": {
      "text/html": [
       "<div>\n",
       "<style scoped>\n",
       "    .dataframe tbody tr th:only-of-type {\n",
       "        vertical-align: middle;\n",
       "    }\n",
       "\n",
       "    .dataframe tbody tr th {\n",
       "        vertical-align: top;\n",
       "    }\n",
       "\n",
       "    .dataframe thead th {\n",
       "        text-align: right;\n",
       "    }\n",
       "</style>\n",
       "<table border=\"1\" class=\"dataframe\">\n",
       "  <thead>\n",
       "    <tr style=\"text-align: right;\">\n",
       "      <th></th>\n",
       "      <th>perc_unique</th>\n",
       "    </tr>\n",
       "  </thead>\n",
       "  <tbody>\n",
       "    <tr>\n",
       "      <th>Suspicious</th>\n",
       "      <td>0.008289</td>\n",
       "    </tr>\n",
       "    <tr>\n",
       "      <th>ProductID</th>\n",
       "      <td>1.638393</td>\n",
       "    </tr>\n",
       "    <tr>\n",
       "      <th>SalesPersonID</th>\n",
       "      <td>2.735260</td>\n",
       "    </tr>\n",
       "    <tr>\n",
       "      <th>Quantity</th>\n",
       "      <td>16.397745</td>\n",
       "    </tr>\n",
       "    <tr>\n",
       "      <th>TotalSalesValue</th>\n",
       "      <td>19.533624</td>\n",
       "    </tr>\n",
       "    <tr>\n",
       "      <th>ReportID</th>\n",
       "      <td>100.000000</td>\n",
       "    </tr>\n",
       "  </tbody>\n",
       "</table>\n",
       "</div>"
      ],
      "text/plain": [
       "                 perc_unique\n",
       "Suspicious          0.008289\n",
       "ProductID           1.638393\n",
       "SalesPersonID       2.735260\n",
       "Quantity           16.397745\n",
       "TotalSalesValue    19.533624\n",
       "ReportID          100.000000"
      ]
     },
     "execution_count": 11,
     "metadata": {},
     "output_type": "execute_result"
    }
   ],
   "source": [
    "def get_unique_value_count_per_attribute(dataF): \n",
    "    return pd.DataFrame((dataF.nunique()/dataF.shape[0])*100).rename(\n",
    "        {0: 'perc_unique'}, axis=1).sort_values(by=['perc_unique'])\n",
    "\n",
    "get_unique_value_count_per_attribute(salesReportDataTrain)"
   ]
  },
  {
   "cell_type": "code",
   "execution_count": null,
   "metadata": {},
   "outputs": [],
   "source": []
  },
  {
   "cell_type": "code",
   "execution_count": null,
   "metadata": {},
   "outputs": [],
   "source": []
  }
 ],
 "metadata": {
  "kernelspec": {
   "display_name": "Python 3",
   "language": "python",
   "name": "python3"
  },
  "language_info": {
   "codemirror_mode": {
    "name": "ipython",
    "version": 3
   },
   "file_extension": ".py",
   "mimetype": "text/x-python",
   "name": "python",
   "nbconvert_exporter": "python",
   "pygments_lexer": "ipython3",
   "version": "3.6.7"
  },
  "toc": {
   "base_numbering": 1,
   "nav_menu": {},
   "number_sections": true,
   "sideBar": true,
   "skip_h1_title": false,
   "title_cell": "Table of Contents",
   "title_sidebar": "Contents",
   "toc_cell": false,
   "toc_position": {},
   "toc_section_display": true,
   "toc_window_display": false
  },
  "varInspector": {
   "cols": {
    "lenName": 16,
    "lenType": 16,
    "lenVar": 40
   },
   "kernels_config": {
    "python": {
     "delete_cmd_postfix": "",
     "delete_cmd_prefix": "del ",
     "library": "var_list.py",
     "varRefreshCmd": "print(var_dic_list())"
    },
    "r": {
     "delete_cmd_postfix": ") ",
     "delete_cmd_prefix": "rm(",
     "library": "var_list.r",
     "varRefreshCmd": "cat(var_dic_list()) "
    }
   },
   "oldHeight": 122,
   "position": {
    "height": "40px",
    "left": "1410px",
    "right": "20px",
    "top": "120px",
    "width": "250px"
   },
   "types_to_exclude": [
    "module",
    "function",
    "builtin_function_or_method",
    "instance",
    "_Feature"
   ],
   "varInspector_section_display": "none",
   "window_display": true
  }
 },
 "nbformat": 4,
 "nbformat_minor": 2
}
