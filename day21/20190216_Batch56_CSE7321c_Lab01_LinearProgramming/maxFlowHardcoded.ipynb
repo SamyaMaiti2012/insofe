{
 "cells": [
  {
   "cell_type": "markdown",
   "metadata": {},
   "source": [
    "## _Max flow example in Pushmeet Kohli's example_\n",
    "\n",
    "* Hard coded constraints"
   ]
  },
  {
   "cell_type": "code",
   "execution_count": 1,
   "metadata": {
    "ExecuteTime": {
     "end_time": "2019-02-21T16:40:33.017247Z",
     "start_time": "2019-02-21T16:40:32.091817Z"
    }
   },
   "outputs": [],
   "source": [
    "import numpy as np\n",
    "from scipy.optimize import linprog\n",
    "#from numpy.linalg import solve"
   ]
  },
  {
   "cell_type": "code",
   "execution_count": 2,
   "metadata": {
    "ExecuteTime": {
     "end_time": "2019-02-21T16:40:33.073329Z",
     "start_time": "2019-02-21T16:40:33.023250Z"
    }
   },
   "outputs": [
    {
     "name": "stdout",
     "output_type": "stream",
     "text": [
      "[[ 1  0 -1  1 -1  0]\n",
      " [ 0  1  1 -1  0 -1]]\n",
      "\n",
      "\n",
      "[0 0]\n",
      "\n",
      "\n",
      "[[1. 0. 0. 0. 0. 0.]\n",
      " [0. 1. 0. 0. 0. 0.]\n",
      " [0. 0. 1. 0. 0. 0.]\n",
      " [0. 0. 0. 1. 0. 0.]\n",
      " [0. 0. 0. 0. 1. 0.]\n",
      " [0. 0. 0. 0. 0. 1.]]\n",
      "\n",
      "\n",
      "[2 9 2 1 5 4]\n",
      "\n",
      "\n",
      "Value of max flow through the network = 7.0\n",
      "Flow on each edge\n",
      "[2. 5. 0. 1. 3. 4.]\n"
     ]
    }
   ],
   "source": [
    "\n",
    "capacities = np.array([2,9,2,1,5,4]);\n",
    "numVariables = len(capacities); # Number of design variables = Number of edges\n",
    "\n",
    "f = -1*np.array([1,1,0,0,0,0]); # Objective function\n",
    "A_eqFlowCons = np.array([[1,0,-1,1,-1,0],[0,1,1,-1,0,-1]]);\n",
    "print(A_eqFlowCons)\n",
    "print(\"\\n\")\n",
    "\n",
    "b_eqFlowCons = np.array([0,0]);\n",
    "print(b_eqFlowCons)\n",
    "print(\"\\n\")\n",
    "\n",
    "A_ineq = np.identity(numVariables);\n",
    "print(A_ineq)\n",
    "print(\"\\n\")\n",
    "\n",
    "b_ineq = capacities;\n",
    "print(b_ineq)\n",
    "print(\"\\n\")\n",
    "\n",
    "res = linprog(f, A_ub=A_ineq,b_ub=b_ineq,A_eq=A_eqFlowCons,b_eq=b_eqFlowCons);\n",
    "maxFlow = -res.fun;\n",
    "\n",
    "flows = res.x;\n",
    "print(\"Value of max flow through the network = \" + str(maxFlow));\n",
    "print(\"Flow on each edge\");\n",
    "print(flows);"
   ]
  },
  {
   "cell_type": "code",
   "execution_count": null,
   "metadata": {},
   "outputs": [],
   "source": []
  },
  {
   "cell_type": "code",
   "execution_count": null,
   "metadata": {},
   "outputs": [],
   "source": []
  }
 ],
 "metadata": {
  "kernelspec": {
   "display_name": "Python 3",
   "language": "python",
   "name": "python3"
  },
  "language_info": {
   "codemirror_mode": {
    "name": "ipython",
    "version": 3
   },
   "file_extension": ".py",
   "mimetype": "text/x-python",
   "name": "python",
   "nbconvert_exporter": "python",
   "pygments_lexer": "ipython3",
   "version": "3.6.7"
  },
  "toc": {
   "base_numbering": 1,
   "nav_menu": {},
   "number_sections": true,
   "sideBar": true,
   "skip_h1_title": false,
   "title_cell": "Table of Contents",
   "title_sidebar": "Contents",
   "toc_cell": false,
   "toc_position": {},
   "toc_section_display": true,
   "toc_window_display": false
  },
  "varInspector": {
   "cols": {
    "lenName": 16,
    "lenType": 16,
    "lenVar": 40
   },
   "kernels_config": {
    "python": {
     "delete_cmd_postfix": "",
     "delete_cmd_prefix": "del ",
     "library": "var_list.py",
     "varRefreshCmd": "print(var_dic_list())"
    },
    "r": {
     "delete_cmd_postfix": ") ",
     "delete_cmd_prefix": "rm(",
     "library": "var_list.r",
     "varRefreshCmd": "cat(var_dic_list()) "
    }
   },
   "oldHeight": 122,
   "position": {
    "height": "40px",
    "left": "1410px",
    "right": "20px",
    "top": "120px",
    "width": "250px"
   },
   "types_to_exclude": [
    "module",
    "function",
    "builtin_function_or_method",
    "instance",
    "_Feature"
   ],
   "varInspector_section_display": "none",
   "window_display": true
  }
 },
 "nbformat": 4,
 "nbformat_minor": 2
}
