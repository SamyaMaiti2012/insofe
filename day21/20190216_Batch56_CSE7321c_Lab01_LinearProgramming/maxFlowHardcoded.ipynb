{
 "cells": [
  {
   "cell_type": "markdown",
   "metadata": {},
   "source": [
    "## _Max flow example in Pushmeet Kohli's example_\n",
    "\n",
    "* Hard coded constraints"
   ]
  },
  {
   "cell_type": "code",
   "execution_count": 1,
   "metadata": {},
   "outputs": [],
   "source": [
    "import numpy as np\n",
    "from scipy.optimize import linprog\n",
    "#from numpy.linalg import solve"
   ]
  },
  {
   "cell_type": "code",
   "execution_count": 2,
   "metadata": {},
   "outputs": [
    {
     "name": "stdout",
     "output_type": "stream",
     "text": [
      "[[ 1  0 -1  1 -1  0]\n",
      " [ 0  1  1 -1  0 -1]]\n",
      "\n",
      "\n",
      "[0 0]\n",
      "\n",
      "\n",
      "[[1. 0. 0. 0. 0. 0.]\n",
      " [0. 1. 0. 0. 0. 0.]\n",
      " [0. 0. 1. 0. 0. 0.]\n",
      " [0. 0. 0. 1. 0. 0.]\n",
      " [0. 0. 0. 0. 1. 0.]\n",
      " [0. 0. 0. 0. 0. 1.]]\n",
      "\n",
      "\n",
      "[2 9 2 1 5 4]\n",
      "\n",
      "\n",
      "Value of max flow through the network = 7.0\n",
      "Flow on each edge\n",
      "[2. 5. 0. 1. 3. 4.]\n"
     ]
    }
   ],
   "source": [
    "\n",
    "capacities = np.array([2,9,2,1,5,4]);\n",
    "numVariables = len(capacities); # Number of design variables = Number of edges\n",
    "\n",
    "f = -1*np.array([1,1,0,0,0,0]); # Objective function\n",
    "A_eqFlowCons = np.array([[1,0,-1,1,-1,0],[0,1,1,-1,0,-1]]);\n",
    "print(A_eqFlowCons)\n",
    "print(\"\\n\")\n",
    "\n",
    "b_eqFlowCons = np.array([0,0]);\n",
    "print(b_eqFlowCons)\n",
    "print(\"\\n\")\n",
    "\n",
    "A_ineq = np.identity(numVariables);\n",
    "print(A_ineq)\n",
    "print(\"\\n\")\n",
    "\n",
    "b_ineq = capacities;\n",
    "print(b_ineq)\n",
    "print(\"\\n\")\n",
    "\n",
    "res = linprog(f, A_ub=A_ineq,b_ub=b_ineq,A_eq=A_eqFlowCons,b_eq=b_eqFlowCons);\n",
    "maxFlow = -res.fun;\n",
    "\n",
    "flows = res.x;\n",
    "print(\"Value of max flow through the network = \" + str(maxFlow));\n",
    "print(\"Flow on each edge\");\n",
    "print(flows);"
   ]
  },
  {
   "cell_type": "code",
   "execution_count": null,
   "metadata": {},
   "outputs": [],
   "source": []
  }
 ],
 "metadata": {
  "kernelspec": {
   "display_name": "Python 3",
   "language": "python",
   "name": "python3"
  },
  "language_info": {
   "codemirror_mode": {
    "name": "ipython",
    "version": 3
   },
   "file_extension": ".py",
   "mimetype": "text/x-python",
   "name": "python",
   "nbconvert_exporter": "python",
   "pygments_lexer": "ipython3",
   "version": "3.6.5"
  }
 },
 "nbformat": 4,
 "nbformat_minor": 2
}
