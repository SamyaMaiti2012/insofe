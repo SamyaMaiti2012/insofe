{
 "cells": [
  {
   "cell_type": "markdown",
   "metadata": {},
   "source": [
    "## _Problem Satement 1 - A simple example with two variables_\n",
    "\n",
    "\n",
    "### _Problem Formulation_\n",
    "\n",
    "*  Decision variables : x1,x2\n",
    "\n",
    "### _Objective Function_\n",
    "\n",
    "*   Z : 5*x1 + x2 (Maximize)\n",
    "\n",
    "### _Constraints_\n",
    "\n",
    "*  -x1 + 2*x2 <= 3\n",
    "*   x1 - x2 <= 2\n",
    "*   x1 >= 0\n",
    "*   x2 >= 0"
   ]
  },
  {
   "cell_type": "code",
   "execution_count": 1,
   "metadata": {},
   "outputs": [],
   "source": [
    "import numpy as np\n",
    "from scipy.optimize import linprog\n",
    "from numpy.linalg import solve"
   ]
  },
  {
   "cell_type": "code",
   "execution_count": 3,
   "metadata": {},
   "outputs": [
    {
     "name": "stdout",
     "output_type": "stream",
     "text": [
      "Value of objective function at optimal solution =  40.0\n",
      " Solution x =  [7. 5.]\n"
     ]
    }
   ],
   "source": [
    "f = -1*np.array([5,1]); #Objective function\n",
    "                       #maximize 5*x1 + x2 equivalent to minimize -5*x1 - x2 \n",
    "                        \n",
    "#Inequality constraints                       \n",
    "A_ineq = np.array([[-1,2],[1,-1]]);\n",
    "b_ineq = np.array([3,2]);\n",
    "\n",
    "lb_ub = (0,None); #Bounds on design variables\n",
    "\n",
    "res = linprog(f, A_ub=A_ineq, b_ub=b_ineq,bounds=lb_ub);\n",
    "\n",
    "\n",
    "print('Value of objective function at optimal solution = ', -res.fun);\n",
    "print(' Solution x = ', res.x);\n",
    "\n"
   ]
  },
  {
   "cell_type": "code",
   "execution_count": 7,
   "metadata": {},
   "outputs": [
    {
     "data": {
      "text/plain": [
       "     fun: -40.0\n",
       " message: 'Optimization terminated successfully.'\n",
       "     nit: 2\n",
       "   slack: array([0., 0.])\n",
       "  status: 0\n",
       " success: True\n",
       "       x: array([7., 5.])"
      ]
     },
     "execution_count": 7,
     "metadata": {},
     "output_type": "execute_result"
    }
   ],
   "source": [
    "res"
   ]
  },
  {
   "cell_type": "code",
   "execution_count": null,
   "metadata": {},
   "outputs": [],
   "source": []
  }
 ],
 "metadata": {
  "kernelspec": {
   "display_name": "Python 3",
   "language": "python",
   "name": "python3"
  },
  "language_info": {
   "codemirror_mode": {
    "name": "ipython",
    "version": 3
   },
   "file_extension": ".py",
   "mimetype": "text/x-python",
   "name": "python",
   "nbconvert_exporter": "python",
   "pygments_lexer": "ipython3",
   "version": "3.6.7"
  }
 },
 "nbformat": 4,
 "nbformat_minor": 2
}
