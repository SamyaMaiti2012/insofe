{
 "cells": [
  {
   "cell_type": "markdown",
   "metadata": {},
   "source": [
    "# Linear Programming Activity"
   ]
  },
  {
   "cell_type": "code",
   "execution_count": 1,
   "metadata": {},
   "outputs": [],
   "source": [
    "#Import required packages\n",
    "import numpy as np\n",
    "from scipy.optimize import linprog\n",
    "from numpy.linalg import solve"
   ]
  },
  {
   "cell_type": "markdown",
   "metadata": {},
   "source": [
    "# Decision variables : Represent the solution for the problem.\n",
    "  X1: Number of units of Aqua-Spa produced.\n",
    "  \n",
    "  X2: Number of units of Hydro-Lux produced.\n",
    "\n",
    "# Objective Function\n",
    "  Z : 350 X1 + 300 X2 (Maximize)\n",
    "\n",
    "# Constraints \n",
    "  1 X1 + 1 X2 <= 200\n",
    "  \n",
    "  9 X1 + 6 X2 <= 1566\n",
    "  \n",
    "  12 X1 +16 X2 <= 2880\n",
    "\n",
    "# Non negativity restriction \n",
    "  X1 >= 0\n",
    "  \n",
    "  X2 >= 0"
   ]
  },
  {
   "cell_type": "markdown",
   "metadata": {},
   "source": [
    "### Scenario 1 : Original Values"
   ]
  },
  {
   "cell_type": "code",
   "execution_count": 16,
   "metadata": {},
   "outputs": [],
   "source": [
    "LABOR_HOURS_TYPE1 = 9\n",
    "LABOR_HOURS_TYPE2 = 6\n",
    "PROFIT_UNIT_TYPE1 = 350\n",
    "PROFIT_UNIT_TYPE2 = 300\n",
    "TUBING_FEET_TYPE1 = 12\n",
    "TUBING_FEET_TYPE2 = 16\n",
    "\n",
    "MAX_TOTAL_TUBES = 200\n",
    "MAX_LABOR_HOURS = 1566\n",
    "MAX_TUBING = 2880 "
   ]
  },
  {
   "cell_type": "code",
   "execution_count": 17,
   "metadata": {},
   "outputs": [
    {
     "name": "stdout",
     "output_type": "stream",
     "text": [
      "Max value of objective =  66100.0\n",
      " Solution x =  [122.  78.]\n"
     ]
    }
   ],
   "source": [
    "#Solve the resulting Linear Program\n",
    "f = np.array([-PROFIT_UNIT_TYPE1,-PROFIT_UNIT_TYPE2]); \n",
    "\n",
    "#Objective function\n",
    "\n",
    "#maximize PROFIT_UNIT_TYPE1*x1 + PROFIT_UNIT_TYPE2*x2\n",
    "#equivalent to minimize -PROFIT_UNIT_TYPE1*x1 - PROFIT_UNIT_TYPE2*x2\n",
    "\n",
    "A_ineq = np.array([[1,1],[LABOR_HOURS_TYPE1,LABOR_HOURS_TYPE2],[TUBING_FEET_TYPE1,TUBING_FEET_TYPE2]]);\n",
    "b_ineq = np.array([MAX_TOTAL_TUBES,MAX_LABOR_HOURS,MAX_TUBING]);\n",
    "lb_ub = (0,None);\n",
    "res = linprog(f, A_ub=A_ineq, b_ub=b_ineq,bounds=lb_ub);\n",
    "\n",
    "maxProfit = -res.fun; #Since we minimized the negative \n",
    "\n",
    "print(\"Max value of objective = \",maxProfit);\n",
    "print(' Solution x = ', res.x);"
   ]
  },
  {
   "cell_type": "code",
   "execution_count": 18,
   "metadata": {},
   "outputs": [
    {
     "data": {
      "text/plain": [
       "     fun: -66100.0\n",
       " message: 'Optimization terminated successfully.'\n",
       "     nit: 2\n",
       "   slack: array([  0.,   0., 168.])\n",
       "  status: 0\n",
       " success: True\n",
       "       x: array([122.,  78.])"
      ]
     },
     "execution_count": 18,
     "metadata": {},
     "output_type": "execute_result"
    }
   ],
   "source": [
    "res"
   ]
  },
  {
   "cell_type": "markdown",
   "metadata": {},
   "source": [
    "### Scenario 2 : Tubing values interchanged, others same"
   ]
  },
  {
   "cell_type": "code",
   "execution_count": 4,
   "metadata": {},
   "outputs": [],
   "source": [
    "LABOR_HOURS_TYPE1 = 9\n",
    "LABOR_HOURS_TYPE2 = 6\n",
    "PROFIT_UNIT_TYPE1 = 350\n",
    "PROFIT_UNIT_TYPE2 = 300\n",
    "TUBING_FEET_TYPE1 = 16\n",
    "TUBING_FEET_TYPE2 = 12\n",
    "\n",
    "MAX_TOTAL_TUBES = 200\n",
    "MAX_LABOR_HOURS = 1566\n",
    "MAX_TUBING = 2880"
   ]
  },
  {
   "cell_type": "code",
   "execution_count": 5,
   "metadata": {},
   "outputs": [
    {
     "name": "stdout",
     "output_type": "stream",
     "text": [
      "Max value of objective =  66000.0\n",
      " Solution x =  [120.  80.]\n"
     ]
    }
   ],
   "source": [
    "#Solve the resulting Linear Program\n",
    "f = np.array([-PROFIT_UNIT_TYPE1,-PROFIT_UNIT_TYPE2]); \n",
    "\n",
    "#Objective function\n",
    "\n",
    "#maximize PROFIT_UNIT_TYPE1*x1 + PROFIT_UNIT_TYPE2*x2\n",
    "#equivalent to minimize -PROFIT_UNIT_TYPE1*x1 - PROFIT_UNIT_TYPE2*x2\n",
    "\n",
    "A_ineq = np.array([[1,1],[LABOR_HOURS_TYPE1,LABOR_HOURS_TYPE2],[TUBING_FEET_TYPE1,TUBING_FEET_TYPE2]]);\n",
    "b_ineq = np.array([MAX_TOTAL_TUBES,MAX_LABOR_HOURS,MAX_TUBING]);\n",
    "lb_ub = (0,None);\n",
    "res = linprog(f, A_ub=A_ineq, b_ub=b_ineq,bounds=lb_ub);\n",
    "\n",
    "maxProfit = -res.fun; #Since we minimized the negative \n",
    "\n",
    "print(\"Max value of objective = \",maxProfit);\n",
    "print(' Solution x = ', res.x);"
   ]
  },
  {
   "cell_type": "markdown",
   "metadata": {},
   "source": [
    "### Scenario 3 : Both labor hours and tubing interchanged\n",
    "Type 1 is more profitable, involves less material and labor"
   ]
  },
  {
   "cell_type": "code",
   "execution_count": 6,
   "metadata": {},
   "outputs": [],
   "source": [
    "LABOR_HOURS_TYPE1 = 6\n",
    "LABOR_HOURS_TYPE2 = 9\n",
    "PROFIT_UNIT_TYPE1 = 350\n",
    "PROFIT_UNIT_TYPE2 = 300\n",
    "TUBING_FEET_TYPE1 = 12\n",
    "TUBING_FEET_TYPE2 = 16\n",
    "\n",
    "MAX_TOTAL_TUBES = 200\n",
    "MAX_LABOR_HOURS = 1566\n",
    "MAX_TUBING = 2880"
   ]
  },
  {
   "cell_type": "code",
   "execution_count": 7,
   "metadata": {},
   "outputs": [
    {
     "name": "stdout",
     "output_type": "stream",
     "text": [
      "Max value of objective =  70000.0\n",
      " Solution x =  [200.   0.]\n"
     ]
    }
   ],
   "source": [
    "#Solve the resulting Linear Program\n",
    "f = np.array([-PROFIT_UNIT_TYPE1,-PROFIT_UNIT_TYPE2]); \n",
    "\n",
    "#Objective function\n",
    "\n",
    "#maximize PROFIT_UNIT_TYPE1*x1 + PROFIT_UNIT_TYPE2*x2\n",
    "#equivalent to minimize -PROFIT_UNIT_TYPE1*x1 - PROFIT_UNIT_TYPE2*x2\n",
    "\n",
    "A_ineq = np.array([[1,1],[LABOR_HOURS_TYPE1,LABOR_HOURS_TYPE2],[TUBING_FEET_TYPE1,TUBING_FEET_TYPE2]]);\n",
    "b_ineq = np.array([MAX_TOTAL_TUBES,MAX_LABOR_HOURS,MAX_TUBING]);\n",
    "lb_ub = (0,None);\n",
    "res = linprog(f, A_ub=A_ineq, b_ub=b_ineq,bounds=lb_ub);\n",
    "\n",
    "maxProfit = -res.fun; #Since we minimized the negative \n",
    "\n",
    "print(\"Max value of objective = \",maxProfit);\n",
    "print(' Solution x = ', res.x);"
   ]
  },
  {
   "cell_type": "markdown",
   "metadata": {},
   "source": [
    "### Scenario 4 : Type 1 more profitable but consumes more labor and significantly more material, also available labor hours = 1700"
   ]
  },
  {
   "cell_type": "code",
   "execution_count": 8,
   "metadata": {},
   "outputs": [],
   "source": [
    "LABOR_HOURS_TYPE1 = 9\n",
    "LABOR_HOURS_TYPE2 = 6\n",
    "PROFIT_UNIT_TYPE1 = 350\n",
    "PROFIT_UNIT_TYPE2 = 300\n",
    "TUBING_FEET_TYPE1 = 36\n",
    "TUBING_FEET_TYPE2 = 16\n",
    "\n",
    "MAX_TOTAL_TUBES = 200\n",
    "MAX_LABOR_HOURS = 1700\n",
    "MAX_TUBING = 2880"
   ]
  },
  {
   "cell_type": "code",
   "execution_count": 9,
   "metadata": {},
   "outputs": [
    {
     "name": "stdout",
     "output_type": "stream",
     "text": [
      "Max value of objective =  54000.0\n",
      " Solution x =  [  0. 180.]\n"
     ]
    }
   ],
   "source": [
    "#Solve the resulting Linear Program\n",
    "f = np.array([-PROFIT_UNIT_TYPE1,-PROFIT_UNIT_TYPE2]); \n",
    "\n",
    "#Objective function\n",
    "\n",
    "#maximize PROFIT_UNIT_TYPE1*x1 + PROFIT_UNIT_TYPE2*x2\n",
    "#equivalent to minimize -PROFIT_UNIT_TYPE1*x1 - PROFIT_UNIT_TYPE2*x2\n",
    "\n",
    "A_ineq = np.array([[1,1],[LABOR_HOURS_TYPE1,LABOR_HOURS_TYPE2],[TUBING_FEET_TYPE1,TUBING_FEET_TYPE2]]);\n",
    "b_ineq = np.array([MAX_TOTAL_TUBES,MAX_LABOR_HOURS,MAX_TUBING]);\n",
    "lb_ub = (0,None);\n",
    "res = linprog(f, A_ub=A_ineq, b_ub=b_ineq,bounds=lb_ub);\n",
    "\n",
    "maxProfit = -res.fun; #Since we minimized the negative \n",
    "\n",
    "print(\"Max value of objective = \",maxProfit);\n",
    "print(' Solution x = ', res.x);"
   ]
  },
  {
   "cell_type": "markdown",
   "metadata": {},
   "source": [
    "### Scenario 5 : Labor and tubing interchanged, total labor hours = 1700\n",
    "Type 1 more profitable,  consumes less labor but more material than Type 2."
   ]
  },
  {
   "cell_type": "code",
   "execution_count": 10,
   "metadata": {},
   "outputs": [],
   "source": [
    "LABOR_HOURS_TYPE1 = 6\n",
    "LABOR_HOURS_TYPE2 = 9\n",
    "PROFIT_UNIT_TYPE1 = 350\n",
    "PROFIT_UNIT_TYPE2 = 300\n",
    "TUBING_FEET_TYPE1 = 16\n",
    "TUBING_FEET_TYPE2 = 12\n",
    "\n",
    "MAX_TOTAL_TUBES = 200\n",
    "MAX_LABOR_HOURS = 1700\n",
    "MAX_TUBING = 2880"
   ]
  },
  {
   "cell_type": "code",
   "execution_count": 11,
   "metadata": {},
   "outputs": [
    {
     "name": "stdout",
     "output_type": "stream",
     "text": [
      "Max value of objective =  66000.0\n",
      " Solution x =  [120.  80.]\n"
     ]
    }
   ],
   "source": [
    "#Solve the resulting Linear Program\n",
    "f = np.array([-PROFIT_UNIT_TYPE1,-PROFIT_UNIT_TYPE2]); \n",
    "\n",
    "#Objective function\n",
    "\n",
    "#maximize PROFIT_UNIT_TYPE1*x1 + PROFIT_UNIT_TYPE2*x2\n",
    "#equivalent to minimize -PROFIT_UNIT_TYPE1*x1 - PROFIT_UNIT_TYPE2*x2\n",
    "\n",
    "A_ineq = np.array([[1,1],[LABOR_HOURS_TYPE1,LABOR_HOURS_TYPE2],[TUBING_FEET_TYPE1,TUBING_FEET_TYPE2]]);\n",
    "b_ineq = np.array([MAX_TOTAL_TUBES,MAX_LABOR_HOURS,MAX_TUBING]);\n",
    "lb_ub = (0,None);\n",
    "res = linprog(f, A_ub=A_ineq, b_ub=b_ineq,bounds=lb_ub);\n",
    "\n",
    "maxProfit = -res.fun; #Since we minimized the negative \n",
    "\n",
    "print(\"Max value of objective = \",maxProfit);\n",
    "print(' Solution x = ', res.x);"
   ]
  },
  {
   "cell_type": "markdown",
   "metadata": {},
   "source": [
    "### Scenario 6 : Tubing interchanged : \n",
    "Type 1 more profitable,  consumes more labor and more material than Type 2, also available labor hours = 1700"
   ]
  },
  {
   "cell_type": "code",
   "execution_count": 12,
   "metadata": {},
   "outputs": [],
   "source": [
    "LABOR_HOURS_TYPE1 = 9\n",
    "LABOR_HOURS_TYPE2 = 6\n",
    "PROFIT_UNIT_TYPE1 = 350\n",
    "PROFIT_UNIT_TYPE2 = 300\n",
    "TUBING_FEET_TYPE1 = 16\n",
    "TUBING_FEET_TYPE2 = 12\n",
    "\n",
    "MAX_TOTAL_TUBES = 200\n",
    "MAX_LABOR_HOURS = 1700\n",
    "MAX_TUBING = 2880"
   ]
  },
  {
   "cell_type": "code",
   "execution_count": 13,
   "metadata": {},
   "outputs": [
    {
     "name": "stdout",
     "output_type": "stream",
     "text": [
      "Max value of objective =  66000.0\n",
      " Solution x =  [120.  80.]\n"
     ]
    }
   ],
   "source": [
    "#Solve the resulting Linear Program\n",
    "f = np.array([-PROFIT_UNIT_TYPE1,-PROFIT_UNIT_TYPE2]); \n",
    "\n",
    "#Objective function\n",
    "\n",
    "#maximize PROFIT_UNIT_TYPE1*x1 + PROFIT_UNIT_TYPE2*x2\n",
    "#equivalent to minimize -PROFIT_UNIT_TYPE1*x1 - PROFIT_UNIT_TYPE2*x2\n",
    "\n",
    "A_ineq = np.array([[1,1],[LABOR_HOURS_TYPE1,LABOR_HOURS_TYPE2],[TUBING_FEET_TYPE1,TUBING_FEET_TYPE2]]);\n",
    "b_ineq = np.array([MAX_TOTAL_TUBES,MAX_LABOR_HOURS,MAX_TUBING]);\n",
    "lb_ub = (0,None);\n",
    "res = linprog(f, A_ub=A_ineq, b_ub=b_ineq,bounds=lb_ub);\n",
    "\n",
    "maxProfit = -res.fun; #Since we minimized the negative \n",
    "\n",
    "print(\"Max value of objective = \",maxProfit);\n",
    "print(' Solution x = ', res.x);"
   ]
  },
  {
   "cell_type": "markdown",
   "metadata": {},
   "source": [
    "### Scenario 7 : All other values unchanged as compared to the original, only labor hours changed to 1700."
   ]
  },
  {
   "cell_type": "code",
   "execution_count": 14,
   "metadata": {},
   "outputs": [],
   "source": [
    "LABOR_HOURS_TYPE1 = 9\n",
    "LABOR_HOURS_TYPE2 = 6\n",
    "PROFIT_UNIT_TYPE1 = 350\n",
    "PROFIT_UNIT_TYPE2 = 300\n",
    "TUBING_FEET_TYPE1 = 12\n",
    "TUBING_FEET_TYPE2 = 16\n",
    "##\n",
    "MAX_TOTAL_TUBES = 200\n",
    "MAX_LABOR_HOURS = 1700\n",
    "MAX_TUBING = 2880"
   ]
  },
  {
   "cell_type": "code",
   "execution_count": 15,
   "metadata": {},
   "outputs": [
    {
     "name": "stdout",
     "output_type": "stream",
     "text": [
      "Max value of objective =  68333.33333333333\n",
      " Solution x =  [166.66666667  33.33333333]\n"
     ]
    }
   ],
   "source": [
    "#Solve the resulting Linear Program\n",
    "f = np.array([-PROFIT_UNIT_TYPE1,-PROFIT_UNIT_TYPE2]); \n",
    "\n",
    "#Objective function\n",
    "\n",
    "#maximize PROFIT_UNIT_TYPE1*x1 + PROFIT_UNIT_TYPE2*x2\n",
    "#equivalent to minimize -PROFIT_UNIT_TYPE1*x1 - PROFIT_UNIT_TYPE2*x2\n",
    "\n",
    "A_ineq = np.array([[1,1],[LABOR_HOURS_TYPE1,LABOR_HOURS_TYPE2],[TUBING_FEET_TYPE1,TUBING_FEET_TYPE2]]);\n",
    "b_ineq = np.array([MAX_TOTAL_TUBES,MAX_LABOR_HOURS,MAX_TUBING]);\n",
    "lb_ub = (0,None);\n",
    "res = linprog(f, A_ub=A_ineq, b_ub=b_ineq,bounds=lb_ub);\n",
    "\n",
    "maxProfit = -res.fun; #Since we minimized the negative \n",
    "\n",
    "print(\"Max value of objective = \",maxProfit);\n",
    "print(' Solution x = ', res.x);"
   ]
  },
  {
   "cell_type": "code",
   "execution_count": null,
   "metadata": {},
   "outputs": [],
   "source": []
  }
 ],
 "metadata": {
  "kernelspec": {
   "display_name": "Python 3",
   "language": "python",
   "name": "python3"
  },
  "language_info": {
   "codemirror_mode": {
    "name": "ipython",
    "version": 3
   },
   "file_extension": ".py",
   "mimetype": "text/x-python",
   "name": "python",
   "nbconvert_exporter": "python",
   "pygments_lexer": "ipython3",
   "version": "3.6.7"
  },
  "toc": {
   "base_numbering": 1,
   "nav_menu": {},
   "number_sections": true,
   "sideBar": true,
   "skip_h1_title": false,
   "title_cell": "Table of Contents",
   "title_sidebar": "Contents",
   "toc_cell": false,
   "toc_position": {},
   "toc_section_display": true,
   "toc_window_display": false
  },
  "varInspector": {
   "cols": {
    "lenName": 16,
    "lenType": 16,
    "lenVar": 40
   },
   "kernels_config": {
    "python": {
     "delete_cmd_postfix": "",
     "delete_cmd_prefix": "del ",
     "library": "var_list.py",
     "varRefreshCmd": "print(var_dic_list())"
    },
    "r": {
     "delete_cmd_postfix": ") ",
     "delete_cmd_prefix": "rm(",
     "library": "var_list.r",
     "varRefreshCmd": "cat(var_dic_list()) "
    }
   },
   "oldHeight": 122,
   "position": {
    "height": "40px",
    "left": "1410px",
    "right": "20px",
    "top": "120px",
    "width": "250px"
   },
   "types_to_exclude": [
    "module",
    "function",
    "builtin_function_or_method",
    "instance",
    "_Feature"
   ],
   "varInspector_section_display": "none",
   "window_display": true
  }
 },
 "nbformat": 4,
 "nbformat_minor": 2
}
