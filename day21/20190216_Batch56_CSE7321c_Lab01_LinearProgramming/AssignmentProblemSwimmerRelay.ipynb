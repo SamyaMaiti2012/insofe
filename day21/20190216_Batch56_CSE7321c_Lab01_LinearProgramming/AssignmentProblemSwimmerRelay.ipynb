{
 "cells": [
  {
   "cell_type": "markdown",
   "metadata": {},
   "source": [
    "## _An example of assignment problem_ \n",
    "\n",
    "\n",
    "* Swimmers relay problem. The expected times (in seconds) of six swimmers in individual events are specified in a matrix\n",
    "\n",
    "\n",
    "* cost[i,j]= Cost of assigning Row i to Column j\n",
    "\n",
    "\n",
    "* Here swimmers correspond to rows (zero based index) and events to columns (zero based index)"
   ]
  },
  {
   "cell_type": "code",
   "execution_count": 1,
   "metadata": {
    "ExecuteTime": {
     "end_time": "2019-02-21T15:21:12.590827Z",
     "start_time": "2019-02-21T15:21:12.100521Z"
    }
   },
   "outputs": [],
   "source": [
    "import numpy as np\n",
    "from scipy.optimize import linear_sum_assignment"
   ]
  },
  {
   "cell_type": "raw",
   "metadata": {},
   "source": [
    "?linear_sum_assignment"
   ]
  },
  {
   "cell_type": "code",
   "execution_count": 2,
   "metadata": {
    "ExecuteTime": {
     "end_time": "2019-02-21T15:21:22.940380Z",
     "start_time": "2019-02-21T15:21:22.921039Z"
    }
   },
   "outputs": [
    {
     "name": "stdout",
     "output_type": "stream",
     "text": [
      "[0 1 2 4]\n",
      "[2 0 3 1]\n",
      "Assignment of swimmers to events\n",
      "Swimmer 1  assigned to Event 3 (cost i.e. time = 63)\n",
      "Swimmer 2  assigned to Event 1 (cost i.e. time = 67)\n",
      "Swimmer 3  assigned to Event 4 (cost i.e. time = 55)\n",
      "Swimmer 5  assigned to Event 2 (cost i.e. time = 69)\n",
      "Overall cost of the optimal assignment = 254\n"
     ]
    }
   ],
   "source": [
    "cost = np.array([[68, 73, 63, 57], [67, 70, 64,58], [68, 72, 69,55],[67,75,70,59],[71,69,75,57],[69,71,66,59]]);\n",
    "row_ind, col_ind = linear_sum_assignment(cost);\n",
    "\n",
    "#col_ind[j] contains the row index assigned to column j, all indices are zero based\n",
    "#Assignment computed is displayed below\n",
    "print(row_ind);\n",
    "print(col_ind);\n",
    "print(\"Assignment of swimmers to events\");\n",
    "for k in range(len(col_ind)):\n",
    "    print(\"Swimmer \" + str(row_ind[k]+1) + \"  assigned to Event \" + str(col_ind[k]+1) + \" (cost i.e. time = \" + str(cost[row_ind[k],col_ind[k]]) + \")\"); \n",
    "    #+1 since python array indices are zero based\n",
    "\n",
    "\n",
    "costOptimalAssignment = cost[row_ind, col_ind].sum();\n",
    "print(\"Overall cost of the optimal assignment = \" + str(costOptimalAssignment));\n"
   ]
  },
  {
   "cell_type": "code",
   "execution_count": 7,
   "metadata": {},
   "outputs": [
    {
     "data": {
      "text/plain": [
       "array([63, 67, 55, 69])"
      ]
     },
     "execution_count": 7,
     "metadata": {},
     "output_type": "execute_result"
    }
   ],
   "source": [
    "cost[row_ind, col_ind]"
   ]
  },
  {
   "cell_type": "code",
   "execution_count": null,
   "metadata": {},
   "outputs": [],
   "source": []
  }
 ],
 "metadata": {
  "kernelspec": {
   "display_name": "Python 3",
   "language": "python",
   "name": "python3"
  },
  "language_info": {
   "codemirror_mode": {
    "name": "ipython",
    "version": 3
   },
   "file_extension": ".py",
   "mimetype": "text/x-python",
   "name": "python",
   "nbconvert_exporter": "python",
   "pygments_lexer": "ipython3",
   "version": "3.6.7"
  },
  "toc": {
   "base_numbering": 1,
   "nav_menu": {},
   "number_sections": true,
   "sideBar": true,
   "skip_h1_title": false,
   "title_cell": "Table of Contents",
   "title_sidebar": "Contents",
   "toc_cell": false,
   "toc_position": {},
   "toc_section_display": true,
   "toc_window_display": false
  },
  "varInspector": {
   "cols": {
    "lenName": 16,
    "lenType": 16,
    "lenVar": 40
   },
   "kernels_config": {
    "python": {
     "delete_cmd_postfix": "",
     "delete_cmd_prefix": "del ",
     "library": "var_list.py",
     "varRefreshCmd": "print(var_dic_list())"
    },
    "r": {
     "delete_cmd_postfix": ") ",
     "delete_cmd_prefix": "rm(",
     "library": "var_list.r",
     "varRefreshCmd": "cat(var_dic_list()) "
    }
   },
   "oldHeight": 122,
   "position": {
    "height": "40px",
    "left": "1410px",
    "right": "20px",
    "top": "120px",
    "width": "250px"
   },
   "types_to_exclude": [
    "module",
    "function",
    "builtin_function_or_method",
    "instance",
    "_Feature"
   ],
   "varInspector_section_display": "none",
   "window_display": true
  }
 },
 "nbformat": 4,
 "nbformat_minor": 2
}
