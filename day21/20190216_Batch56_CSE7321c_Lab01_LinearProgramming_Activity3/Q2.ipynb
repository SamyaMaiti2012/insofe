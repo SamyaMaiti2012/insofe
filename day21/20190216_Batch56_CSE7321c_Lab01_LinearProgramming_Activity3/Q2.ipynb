{
 "cells": [
  {
   "cell_type": "raw",
   "metadata": {},
   "source": [
    "Decision variables : Represent the solution for the problem.\n",
    "    P1: Number of units of Product1 manufactured.\n",
    "    P2: Number of units of Product2 manufactured.\n",
    "    P3: Number of units of Product3 manufactured.\n",
    "    P4: Number of units of Product4 manufactured.\n",
    "\n",
    "Objective Function : Maximize the profit\n",
    "    Maximize Z : 5.24P1 + 7.30P2 + 8.34P3 + 4.18P4\n",
    "\n",
    "Constraints \n",
    "    1.5X1 + 1X2 + 2.4X3 + 1X4 <= 2000\n",
    "    1X1 + 5X2 + 1X3 + 3.5X4 <= 8000\n",
    "    1.5X1 + 3X2 + 3.5X3 + 1X4 <= 5000\n",
    "\n",
    "Non negativity restriction \n",
    "    P1 >= 0\n",
    "    P2 >= 0"
   ]
  },
  {
   "cell_type": "code",
   "execution_count": 2,
   "metadata": {},
   "outputs": [],
   "source": [
    "import pulp\n",
    "from pulp import *"
   ]
  },
  {
   "cell_type": "code",
   "execution_count": 6,
   "metadata": {},
   "outputs": [],
   "source": [
    "# looking for an optimal maximum so we use LpMaximize (default = LpMinimize)\n",
    "manufacturing_products_lp = pulp.LpProblem(\"Manufacturing 4 types of products using 3 types of machine\", \n",
    "                                           pulp.LpMaximize)\n",
    "\n",
    "P1 = pulp.LpVariable('P1', lowBound=0, cat='Integer')\n",
    "P2 = pulp.LpVariable('P2', lowBound=0, cat='Integer')\n",
    "P3 = pulp.LpVariable('P3', lowBound=0, cat='Integer')\n",
    "P4 = pulp.LpVariable('P4', lowBound=0, cat='Integer')\n",
    "\n",
    "# The objective function and constraints are added using the += operator to our model.\n",
    "\n",
    "# Objective function\n",
    "manufacturing_products_lp += 5.24*P1 + 7.30*P2 + 8.34*P3 + 4.18*P4, \"Z\"\n",
    "\n",
    "# Constraints\n",
    "manufacturing_products_lp += 1.5*P1 + 1*P2 + 2.4*P3 + 1*P4 <= 2000, \"C1\"\n",
    "manufacturing_products_lp += 1*P1 + 5*P2 + 1*P3 + 3.5*P4 <= 8000, \"C2\"\n",
    "manufacturing_products_lp += 1.5*P1 + 3*P2 + 3.5*P3 + 1*P4 <= 5000, \"C3\""
   ]
  },
  {
   "cell_type": "code",
   "execution_count": 7,
   "metadata": {},
   "outputs": [
    {
     "data": {
      "text/plain": [
       "Manufacturing 4 types of products using 3 types of machine:\n",
       "MAXIMIZE\n",
       "5.24*P1 + 7.3*P2 + 8.34*P3 + 4.18*P4 + 0.0\n",
       "SUBJECT TO\n",
       "C1: 1.5 P1 + P2 + 2.4 P3 + P4 <= 2000\n",
       "\n",
       "C2: P1 + 5 P2 + P3 + 3.5 P4 <= 8000\n",
       "\n",
       "C3: 1.5 P1 + 3 P2 + 3.5 P3 + P4 <= 5000\n",
       "\n",
       "VARIABLES\n",
       "0 <= P1 Integer\n",
       "0 <= P2 Integer\n",
       "0 <= P3 Integer\n",
       "0 <= P4 Integer"
      ]
     },
     "execution_count": 7,
     "metadata": {},
     "output_type": "execute_result"
    }
   ],
   "source": [
    "manufacturing_products_lp"
   ]
  },
  {
   "cell_type": "code",
   "execution_count": 8,
   "metadata": {},
   "outputs": [
    {
     "data": {
      "text/plain": [
       "'Optimal'"
      ]
     },
     "execution_count": 8,
     "metadata": {},
     "output_type": "execute_result"
    }
   ],
   "source": [
    "manufacturing_products_lp.solve()\n",
    "\n",
    "# There are 5 status codes: 'Not Solved', 'Optimal', 'Infeasible', 'Unbounded', 'Undefined\n",
    "pulp.LpStatus[manufacturing_products_lp.status]"
   ]
  },
  {
   "cell_type": "code",
   "execution_count": 9,
   "metadata": {},
   "outputs": [
    {
     "name": "stdout",
     "output_type": "stream",
     "text": [
      "The optimized solution : 12735.12\n",
      "P1 296.0\n",
      "P2 1500.0\n",
      "P3 0.0\n",
      "P4 56.0\n"
     ]
    }
   ],
   "source": [
    "print(\"The optimized solution :\", pulp.value(manufacturing_products_lp.objective) )\n",
    "for variable in manufacturing_products_lp.variables():\n",
    "    print(variable.name, variable.varValue)"
   ]
  },
  {
   "cell_type": "code",
   "execution_count": null,
   "metadata": {},
   "outputs": [],
   "source": []
  }
 ],
 "metadata": {
  "kernelspec": {
   "display_name": "Python 3",
   "language": "python",
   "name": "python3"
  },
  "language_info": {
   "codemirror_mode": {
    "name": "ipython",
    "version": 3
   },
   "file_extension": ".py",
   "mimetype": "text/x-python",
   "name": "python",
   "nbconvert_exporter": "python",
   "pygments_lexer": "ipython3",
   "version": "3.6.7"
  }
 },
 "nbformat": 4,
 "nbformat_minor": 2
}
