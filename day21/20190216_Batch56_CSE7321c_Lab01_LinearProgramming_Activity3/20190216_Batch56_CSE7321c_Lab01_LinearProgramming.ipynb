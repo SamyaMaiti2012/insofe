{
 "cells": [
  {
   "cell_type": "markdown",
   "metadata": {},
   "source": [
    "# Problem Statement 1 : Manufacturing two products using two resources"
   ]
  },
  {
   "cell_type": "raw",
   "metadata": {},
   "source": [
    "Decision variables : Represent the solution for the problem.\n",
    "    P1: Number of units of P1 produced.\n",
    "    P2: Number of units of P2 produced.\n",
    "\n",
    "Objective Function : Maximize the profit\n",
    "    Maximize Z : 6 P1 + 5 P2\n",
    "\n",
    "Constraints \n",
    "    1 P1 + 1 P2 <= 5\n",
    "    3 P1 + 2 P2 <= 12\n",
    "\n",
    "Non negativity restriction \n",
    "    P1 >= 0\n",
    "    P2 >= 0"
   ]
  },
  {
   "cell_type": "code",
   "execution_count": 50,
   "metadata": {},
   "outputs": [],
   "source": [
    "#!pip install pulp"
   ]
  },
  {
   "cell_type": "code",
   "execution_count": 51,
   "metadata": {},
   "outputs": [],
   "source": [
    "import pulp\n",
    "from pulp import *"
   ]
  },
  {
   "cell_type": "code",
   "execution_count": 52,
   "metadata": {},
   "outputs": [],
   "source": [
    "# looking for an optimal maximum so we use LpMaximize (default = LpMinimize)\n",
    "manufacturing_products_lp = pulp.LpProblem(\"Manufacturing 2 types of products using 2 types of resources\", \n",
    "                                           pulp.LpMaximize)\n",
    "\n",
    "# Setting the lower and upper bounds for the decision variables\n",
    "# Default lowBound is negative infinity\n",
    "# Default upBound is positive infinity\n",
    "# Default cat is 'Continuous'\n",
    "\n",
    "P1 = pulp.LpVariable('P1', lowBound=0, cat='Integer')\n",
    "P2 = pulp.LpVariable('P2', lowBound=0, cat='Integer')\n",
    "\n",
    "# The objective function and constraints are added using the += operator to our model.\n",
    "\n",
    "# Objective function\n",
    "manufacturing_products_lp += 6 * P1 + 5 * P2, \"Z\"\n",
    "\n",
    "# Constraints\n",
    "manufacturing_products_lp += P1 + P2 <= 5, \"C1\"\n",
    "manufacturing_products_lp += 3 * P1 + 2 * P2 <= 12, \"C2\""
   ]
  },
  {
   "cell_type": "code",
   "execution_count": 53,
   "metadata": {},
   "outputs": [
    {
     "data": {
      "text/plain": [
       "Manufacturing 2 types of products using 2 types of resources:\n",
       "MAXIMIZE\n",
       "6*P1 + 5*P2 + 0\n",
       "SUBJECT TO\n",
       "C1: P1 + P2 <= 5\n",
       "\n",
       "C2: 3 P1 + 2 P2 <= 12\n",
       "\n",
       "VARIABLES\n",
       "0 <= P1 Integer\n",
       "0 <= P2 Integer"
      ]
     },
     "execution_count": 53,
     "metadata": {},
     "output_type": "execute_result"
    }
   ],
   "source": [
    "manufacturing_products_lp"
   ]
  },
  {
   "cell_type": "code",
   "execution_count": 54,
   "metadata": {},
   "outputs": [
    {
     "data": {
      "text/plain": [
       "'Optimal'"
      ]
     },
     "execution_count": 54,
     "metadata": {},
     "output_type": "execute_result"
    }
   ],
   "source": [
    "manufacturing_products_lp.solve()\n",
    "\n",
    "# There are 5 status codes: 'Not Solved', 'Optimal', 'Infeasible', 'Unbounded', 'Undefined\n",
    "pulp.LpStatus[manufacturing_products_lp.status]"
   ]
  },
  {
   "cell_type": "code",
   "execution_count": 55,
   "metadata": {},
   "outputs": [
    {
     "name": "stdout",
     "output_type": "stream",
     "text": [
      "The optimized solution : 27.0\n",
      "P1 2.0\n",
      "P2 3.0\n"
     ]
    }
   ],
   "source": [
    "print(\"The optimized solution :\", pulp.value(manufacturing_products_lp.objective) )\n",
    "for variable in manufacturing_products_lp.variables():\n",
    "    print(variable.name, variable.varValue)"
   ]
  },
  {
   "cell_type": "markdown",
   "metadata": {},
   "source": [
    "# Problem Statement 2 : Transportation Problem"
   ]
  },
  {
   "cell_type": "code",
   "execution_count": 82,
   "metadata": {},
   "outputs": [],
   "source": [
    "# Instantiate the problem class \n",
    "# Looking for an optimal minimum so we use LpMinimize (default = LpMinimize)\n",
    "\n",
    "fruits_transportation_lp = pulp.LpProblem(\"Transportation problem: Fruits to the processing plants\", pulp.LpMinimize)"
   ]
  },
  {
   "cell_type": "code",
   "execution_count": 83,
   "metadata": {},
   "outputs": [],
   "source": [
    "# Setting the decision variables as Binary.\n",
    "\n",
    "x14 = pulp.LpVariable('Dora_Ocala', lowBound=0, cat = 'Integer')\n",
    "x15 = pulp.LpVariable('Dora_Orlando', lowBound=0, cat = 'Integer')\n",
    "x16 = pulp.LpVariable('Dora_Leesburg', lowBound=0, cat = 'Integer')\n",
    "x24 = pulp.LpVariable('Eustis_Ocala', lowBound=0, cat = 'Integer')\n",
    "x25 = pulp.LpVariable('Eustis_Orlando', lowBound=0, cat = 'Integer')\n",
    "x26 = pulp.LpVariable('Eustis_Leesburg', lowBound=0, cat = 'Integer')\n",
    "x34 = pulp.LpVariable('Clermont_Ocala', lowBound=0, cat = 'Integer')\n",
    "x35 = pulp.LpVariable('Clermont_Orlando', lowBound=0, cat = 'Integer')\n",
    "x36 = pulp.LpVariable('Clermont_Leesburg', lowBound=0, cat = 'Integer')"
   ]
  },
  {
   "cell_type": "code",
   "execution_count": 84,
   "metadata": {},
   "outputs": [],
   "source": [
    "# The objective function and constraints are added using the += operator to our model.\n",
    "\n",
    "# Objective function: Total distance fruit is shipped.\n",
    "\n",
    "fruits_transportation_lp += 21 * x14 + 50 * x15 + 40 * x16 +\\\n",
    "                            35 * x24 + 30 * x25 + 22 * x26 +\\\n",
    "                            55 * x34 + 20 * x35 + 25 * x36, \"Z\"\n",
    "\n",
    "# Constraints\n",
    "# Capacity restriction for Ocala\n",
    "fruits_transportation_lp += x14 + x24 + x34 <= 200000\n",
    "\n",
    "# Capacity restriction for Orlando\n",
    "fruits_transportation_lp += x15 + x25 + x35 <= 600000\n",
    "\n",
    "# Capacity restriction for Leesburg\n",
    "fruits_transportation_lp += x16 +x26 + x36 <= 225000\n",
    "\n",
    "# Supply available at Mt. Dora\n",
    "fruits_transportation_lp += x14 + x15 + x16 == 275000\n",
    "\n",
    "# Supply available at Eustis\n",
    "fruits_transportation_lp += x24 + x25 + x26 == 400000\n",
    "\n",
    "# Supply available at Clermont\n",
    "fruits_transportation_lp += x34 + x35 + x36 == 300000\n",
    "\n"
   ]
  },
  {
   "cell_type": "code",
   "execution_count": 85,
   "metadata": {},
   "outputs": [
    {
     "data": {
      "text/plain": [
       "Transportation problem: Fruits to the processing plants:\n",
       "MINIMIZE\n",
       "25*Clermont_Leesburg + 55*Clermont_Ocala + 20*Clermont_Orlando + 40*Dora_Leesburg + 21*Dora_Ocala + 50*Dora_Orlando + 22*Eustis_Leesburg + 35*Eustis_Ocala + 30*Eustis_Orlando + 0\n",
       "SUBJECT TO\n",
       "_C1: Clermont_Ocala + Dora_Ocala + Eustis_Ocala <= 200000\n",
       "\n",
       "_C2: Clermont_Orlando + Dora_Orlando + Eustis_Orlando <= 600000\n",
       "\n",
       "_C3: Clermont_Leesburg + Dora_Leesburg + Eustis_Leesburg <= 225000\n",
       "\n",
       "_C4: Dora_Leesburg + Dora_Ocala + Dora_Orlando = 275000\n",
       "\n",
       "_C5: Eustis_Leesburg + Eustis_Ocala + Eustis_Orlando = 400000\n",
       "\n",
       "_C6: Clermont_Leesburg + Clermont_Ocala + Clermont_Orlando = 300000\n",
       "\n",
       "VARIABLES\n",
       "0 <= Clermont_Leesburg Integer\n",
       "0 <= Clermont_Ocala Integer\n",
       "0 <= Clermont_Orlando Integer\n",
       "0 <= Dora_Leesburg Integer\n",
       "0 <= Dora_Ocala Integer\n",
       "0 <= Dora_Orlando Integer\n",
       "0 <= Eustis_Leesburg Integer\n",
       "0 <= Eustis_Ocala Integer\n",
       "0 <= Eustis_Orlando Integer"
      ]
     },
     "execution_count": 85,
     "metadata": {},
     "output_type": "execute_result"
    }
   ],
   "source": [
    "fruits_transportation_lp"
   ]
  },
  {
   "cell_type": "code",
   "execution_count": 86,
   "metadata": {},
   "outputs": [
    {
     "data": {
      "text/plain": [
       "'Optimal'"
      ]
     },
     "execution_count": 86,
     "metadata": {},
     "output_type": "execute_result"
    }
   ],
   "source": [
    "fruits_transportation_lp.solve()\n",
    "\n",
    "# There are 5 status codes: 'Not Solved', 'Optimal', 'Infeasible', 'Unbounded', 'Undefined\n",
    "pulp.LpStatus[fruits_transportation_lp.status]"
   ]
  },
  {
   "cell_type": "code",
   "execution_count": 87,
   "metadata": {},
   "outputs": [
    {
     "name": "stdout",
     "output_type": "stream",
     "text": [
      "The optimized solution for the total distance in bushel/mile : 24000000.0\n",
      "Clermont_Leesburg 0.0\n",
      "Clermont_Ocala 0.0\n",
      "Clermont_Orlando 300000.0\n",
      "Dora_Leesburg 75000.0\n",
      "Dora_Ocala 200000.0\n",
      "Dora_Orlando 0.0\n",
      "Eustis_Leesburg 150000.0\n",
      "Eustis_Ocala 0.0\n",
      "Eustis_Orlando 250000.0\n"
     ]
    }
   ],
   "source": [
    "print(\"The optimized solution for the total distance in bushel/mile :\", pulp.value(fruits_transportation_lp.objective))\n",
    "for variable in fruits_transportation_lp.variables():\n",
    "    print(variable.name, variable.varValue)\n",
    "# output is number of bags to ship form x to y"
   ]
  },
  {
   "cell_type": "markdown",
   "metadata": {},
   "source": [
    "# Problem Statement 3 : Capital Budget Allocation Problem"
   ]
  },
  {
   "cell_type": "code",
   "execution_count": 62,
   "metadata": {},
   "outputs": [],
   "source": [
    "# Instantiate the problem class \n",
    "# Looking for an optimal maximum so we use LpMaximize (default = LpMinimize)\n",
    "\n",
    "capital_budget_allocation_lp = pulp.LpProblem(\"Capital Budget Allocation Problem\", pulp.LpMaximize)"
   ]
  },
  {
   "cell_type": "code",
   "execution_count": 63,
   "metadata": {},
   "outputs": [
    {
     "data": {
      "text/plain": [
       "pulp.pulp.LpProblem"
      ]
     },
     "execution_count": 63,
     "metadata": {},
     "output_type": "execute_result"
    }
   ],
   "source": [
    "type(capital_budget_allocation_lp)"
   ]
  },
  {
   "cell_type": "code",
   "execution_count": 64,
   "metadata": {},
   "outputs": [],
   "source": [
    "# Setting the decision variables as Binary.\n",
    "\n",
    "x1 = pulp.LpVariable('x1', cat = 'Binary')\n",
    "x2 = pulp.LpVariable('x2', cat = 'Binary')\n",
    "x3 = pulp.LpVariable('x3', cat = 'Binary')\n",
    "x4 = pulp.LpVariable('x4', cat = 'Binary')\n",
    "x5 = pulp.LpVariable('x5', cat = 'Binary')\n",
    "x6 = pulp.LpVariable('x6', cat = 'Binary')"
   ]
  },
  {
   "cell_type": "code",
   "execution_count": 65,
   "metadata": {},
   "outputs": [],
   "source": [
    "# The objective function and constraints are added using the += operator to our model.\n",
    "\n",
    "# Objective function\n",
    "capital_budget_allocation_lp += 141 * x1 + 187 * x2 + 121 * x3 + 83 * x4 + 265 * x5 + 127 * x6, \"Z\"\n",
    "\n",
    "# Constraints\n",
    "capital_budget_allocation_lp += 75 * x1 + 90 * x2 + 60 * x3 + 30 * x4 + 100 * x5 + 50 * x6 <= 250\n",
    "capital_budget_allocation_lp += 25 * x1 + 35 * x2 + 15 * x3 + 20 * x4 + 25 * x5 + 20 * x6 <= 75\n",
    "capital_budget_allocation_lp += 20 * x1 + 0 * x2 + 15 * x3 + 10 * x4 + 20 * x5 + 10 * x6 <= 50\n",
    "capital_budget_allocation_lp += 15 * x1 + 0 * x2 + 15 * x3 + 5 * x4 + 20 * x5 + 30 * x6 <= 50\n",
    "capital_budget_allocation_lp += 10 * x1 + 30 * x2 + 15 * x3 + 5 * x4 + 20 * x5 + 40 * x6 <= 50\n"
   ]
  },
  {
   "cell_type": "code",
   "execution_count": 66,
   "metadata": {},
   "outputs": [
    {
     "data": {
      "text/plain": [
       "Capital Budget Allocation Problem:\n",
       "MAXIMIZE\n",
       "141*x1 + 187*x2 + 121*x3 + 83*x4 + 265*x5 + 127*x6 + 0\n",
       "SUBJECT TO\n",
       "_C1: 75 x1 + 90 x2 + 60 x3 + 30 x4 + 100 x5 + 50 x6 <= 250\n",
       "\n",
       "_C2: 25 x1 + 35 x2 + 15 x3 + 20 x4 + 25 x5 + 20 x6 <= 75\n",
       "\n",
       "_C3: 20 x1 + 15 x3 + 10 x4 + 20 x5 + 10 x6 <= 50\n",
       "\n",
       "_C4: 15 x1 + 15 x3 + 5 x4 + 20 x5 + 30 x6 <= 50\n",
       "\n",
       "_C5: 10 x1 + 30 x2 + 15 x3 + 5 x4 + 20 x5 + 40 x6 <= 50\n",
       "\n",
       "VARIABLES\n",
       "0 <= x1 <= 1 Integer\n",
       "0 <= x2 <= 1 Integer\n",
       "0 <= x3 <= 1 Integer\n",
       "0 <= x4 <= 1 Integer\n",
       "0 <= x5 <= 1 Integer\n",
       "0 <= x6 <= 1 Integer"
      ]
     },
     "execution_count": 66,
     "metadata": {},
     "output_type": "execute_result"
    }
   ],
   "source": [
    "capital_budget_allocation_lp"
   ]
  },
  {
   "cell_type": "code",
   "execution_count": 67,
   "metadata": {},
   "outputs": [
    {
     "data": {
      "text/plain": [
       "0"
      ]
     },
     "execution_count": 67,
     "metadata": {},
     "output_type": "execute_result"
    }
   ],
   "source": [
    "capital_budget_allocation_lp.status"
   ]
  },
  {
   "cell_type": "code",
   "execution_count": 68,
   "metadata": {},
   "outputs": [
    {
     "data": {
      "text/plain": [
       "'Optimal'"
      ]
     },
     "execution_count": 68,
     "metadata": {},
     "output_type": "execute_result"
    }
   ],
   "source": [
    "capital_budget_allocation_lp.solve()\n",
    "# There are 5 status codes: 'Not Solved', 'Optimal', 'Infeasible', 'Unbounded', 'Undefined\n",
    "pulp.LpStatus[capital_budget_allocation_lp.status]"
   ]
  },
  {
   "cell_type": "code",
   "execution_count": 69,
   "metadata": {},
   "outputs": [
    {
     "data": {
      "text/plain": [
       "1"
      ]
     },
     "execution_count": 69,
     "metadata": {},
     "output_type": "execute_result"
    }
   ],
   "source": [
    "capital_budget_allocation_lp.status"
   ]
  },
  {
   "cell_type": "code",
   "execution_count": 70,
   "metadata": {},
   "outputs": [
    {
     "name": "stdout",
     "output_type": "stream",
     "text": [
      "('The optimized solution:', 489.0)\n",
      "('x1', 1.0)\n",
      "('x2', 0.0)\n",
      "('x3', 0.0)\n",
      "('x4', 1.0)\n",
      "('x5', 1.0)\n",
      "('x6', 0.0)\n"
     ]
    }
   ],
   "source": [
    "print((\"The optimized solution:\", pulp.value(capital_budget_allocation_lp.objective)))\n",
    "for variable in capital_budget_allocation_lp.variables():\n",
    "    print((variable.name, variable.varValue))"
   ]
  },
  {
   "cell_type": "markdown",
   "metadata": {},
   "source": [
    "# Week off - minimize wage problem "
   ]
  },
  {
   "cell_type": "code",
   "execution_count": 71,
   "metadata": {},
   "outputs": [],
   "source": [
    "from IPython.display import Image"
   ]
  },
  {
   "cell_type": "raw",
   "metadata": {},
   "source": [
    "Air-Express is an express shipping service that guarantees overnight delivery of packages\n",
    "anywhere in the continental United States. The company has various operations centers, called\n",
    "hubs, at airports in major cities across the country. Packages are received at hubs from other\n",
    "locations and then shipped to intermediate hubs or to their final destinations.\n",
    "\n",
    "The manager of the Air-Express hub in Baltimore, Maryland, is concerned about labor costs at\n",
    "the hub and is interested in determining the most effective way to schedule workers. The hub\n",
    "operates seven days a week, and the number of packages it handles each day varies from one\n",
    "day to the next. Using historical data on the average number of packages received each day, the\n",
    "manager estimates the number of workers needed to handle the packages as:"
   ]
  },
  {
   "cell_type": "code",
   "execution_count": 72,
   "metadata": {},
   "outputs": [
    {
     "data": {
      "image/png": "[encoded data removed]",
      "text/plain": [
       "<IPython.core.display.Image object>"
      ]
     },
     "execution_count": 72,
     "metadata": {},
     "output_type": "execute_result"
    }
   ],
   "source": [
    "Image('img/week_day_workers.png')"
   ]
  },
  {
   "cell_type": "raw",
   "metadata": {},
   "source": [
    "The package handlers working for Air-Express are unionized and are guaranteed a five-day\n",
    "work week with two consecutive days off. The base wage for the handlers is $655 per week.\n",
    "Because most workers prefer to have Saturday or Sunday off, the union has negotiated\n",
    "bonuses of $25 per day for its members who work on these days. The possible shifts and\n",
    "salaries for package handlers are:"
   ]
  },
  {
   "cell_type": "code",
   "execution_count": 73,
   "metadata": {},
   "outputs": [
    {
     "data": {
      "image/png": "[encoded data removed]",
      "text/plain": [
       "<IPython.core.display.Image object>"
      ]
     },
     "execution_count": 73,
     "metadata": {},
     "output_type": "execute_result"
    }
   ],
   "source": [
    "Image('img/week_day_off_wage.png')"
   ]
  },
  {
   "cell_type": "raw",
   "metadata": {},
   "source": [
    "The manager wants to keep the total wage expense for the hub as low as possible. With this in\n",
    "mind, how many package handlers should be assigned to each shift if the manager wants to\n",
    "have a sufficient number of workers available each day?"
   ]
  },
  {
   "cell_type": "code",
   "execution_count": 74,
   "metadata": {},
   "outputs": [],
   "source": [
    "week_off_wage_min = pulp.LpProblem(\"Minimize the wage paid\", pulp.LpMinimize)"
   ]
  },
  {
   "cell_type": "markdown",
   "metadata": {},
   "source": [
    "Take the shift as xi"
   ]
  },
  {
   "cell_type": "code",
   "execution_count": 75,
   "metadata": {},
   "outputs": [],
   "source": [
    "#step 1 : Identify the variable\n",
    "x1 = pulp.LpVariable('x1',lowBound= 1, cat = 'Integer')\n",
    "x2 = pulp.LpVariable('x2',lowBound= 1, cat = 'Integer')\n",
    "x3 = pulp.LpVariable('x3',lowBound= 1, cat = 'Integer')\n",
    "x4 = pulp.LpVariable('x4',lowBound= 1, cat = 'Integer')\n",
    "x5 = pulp.LpVariable('x5',lowBound= 1, cat = 'Integer')\n",
    "x6 = pulp.LpVariable('x6',lowBound= 1, cat = 'Integer')\n",
    "x7 = pulp.LpVariable('x7',lowBound= 1, cat = 'Integer')"
   ]
  },
  {
   "cell_type": "code",
   "execution_count": 76,
   "metadata": {},
   "outputs": [],
   "source": [
    "# objective function\n",
    "week_off_wage_min += 680 * x1 + 705 * x2 + 705 * x3 + 705 * x4 + 705 * x5 + 680 * x6 + 655 * x7 ,\"Z\""
   ]
  },
  {
   "cell_type": "code",
   "execution_count": 77,
   "metadata": {},
   "outputs": [],
   "source": [
    "# constraints\n",
    "#sun \n",
    "week_off_wage_min += 0 * x1 + 1 * x2 + 1 * x3 + 1 * x4 + 1 * x5 + 1 * x6 + 0 * x7 >= 18\n",
    "#mon\n",
    "week_off_wage_min += 0 * x1 + 0 * x2 + 1 * x3 + 1 * x4 + 1 * x5 + 1 * x6 + 1 * x7 >= 27\n",
    "#tue \n",
    "week_off_wage_min += 1 * x1 + 0 * x2 + 0 * x3 + 1 * x4 + 1 * x5 + 1 * x6 + 1 * x7 >= 22\n",
    "#wed \n",
    "week_off_wage_min += 1 * x1 + 1 * x2 + 0 * x3 + 0 * x4 + 1 * x5 + 1 * x6 + 1 * x7 >= 26\n",
    "#thu\n",
    "week_off_wage_min += 1 * x1 + 1 * x2 + 1 * x3 + 0 * x4 + 0 * x5 + 1 * x6 + 1 * x7 >= 25\n",
    "#fri \n",
    "week_off_wage_min += 1 * x1 + 1 * x2 + 1 * x3 + 1 * x4 + 0 * x5 + 0 * x6 + 1 * x7 >= 21\n",
    "#sat \n",
    "week_off_wage_min += 1 * x1 + 1 * x2 + 1 * x3 + 1 * x4 + 1 * x5 + 0 * x6 + 0 * x7 >= 19\n"
   ]
  },
  {
   "cell_type": "code",
   "execution_count": 78,
   "metadata": {},
   "outputs": [
    {
     "data": {
      "text/plain": [
       "Minimize the wage paid:\n",
       "MINIMIZE\n",
       "680*x1 + 705*x2 + 705*x3 + 705*x4 + 705*x5 + 680*x6 + 655*x7 + 0\n",
       "SUBJECT TO\n",
       "_C1: x2 + x3 + x4 + x5 + x6 >= 18\n",
       "\n",
       "_C2: x3 + x4 + x5 + x6 + x7 >= 27\n",
       "\n",
       "_C3: x1 + x4 + x5 + x6 + x7 >= 22\n",
       "\n",
       "_C4: x1 + x2 + x5 + x6 + x7 >= 26\n",
       "\n",
       "_C5: x1 + x2 + x3 + x6 + x7 >= 25\n",
       "\n",
       "_C6: x1 + x2 + x3 + x4 + x7 >= 21\n",
       "\n",
       "_C7: x1 + x2 + x3 + x4 + x5 >= 19\n",
       "\n",
       "VARIABLES\n",
       "1 <= x1 Integer\n",
       "1 <= x2 Integer\n",
       "1 <= x3 Integer\n",
       "1 <= x4 Integer\n",
       "1 <= x5 Integer\n",
       "1 <= x6 Integer\n",
       "1 <= x7 Integer"
      ]
     },
     "execution_count": 78,
     "metadata": {},
     "output_type": "execute_result"
    }
   ],
   "source": [
    "week_off_wage_min"
   ]
  },
  {
   "cell_type": "code",
   "execution_count": 79,
   "metadata": {},
   "outputs": [
    {
     "data": {
      "text/plain": [
       "1"
      ]
     },
     "execution_count": 79,
     "metadata": {},
     "output_type": "execute_result"
    }
   ],
   "source": [
    "week_off_wage_min.solve()\n"
   ]
  },
  {
   "cell_type": "code",
   "execution_count": 80,
   "metadata": {},
   "outputs": [
    {
     "data": {
      "text/plain": [
       "1"
      ]
     },
     "execution_count": 80,
     "metadata": {},
     "output_type": "execute_result"
    }
   ],
   "source": [
    "week_off_wage_min.isMIP()"
   ]
  },
  {
   "cell_type": "code",
   "execution_count": 81,
   "metadata": {},
   "outputs": [
    {
     "name": "stdout",
     "output_type": "stream",
     "text": [
      "('The optimized solution:', 22540.0)\n",
      "('x1', 5.0)\n",
      "('x2', 1.0)\n",
      "('x3', 5.0)\n",
      "('x4', 1.0)\n",
      "('x5', 7.0)\n",
      "('x6', 4.0)\n",
      "('x7', 10.0)\n"
     ]
    }
   ],
   "source": [
    "print((\"The optimized solution:\", pulp.value(week_off_wage_min.objective)))\n",
    "for variable in week_off_wage_min.variables():\n",
    "    print((variable.name, variable.varValue))"
   ]
  },
  {
   "cell_type": "code",
   "execution_count": null,
   "metadata": {},
   "outputs": [],
   "source": []
  }
 ],
 "metadata": {
  "kernelspec": {
   "display_name": "Python 3",
   "language": "python",
   "name": "python3"
  },
  "language_info": {
   "codemirror_mode": {
    "name": "ipython",
    "version": 3
   },
   "file_extension": ".py",
   "mimetype": "text/x-python",
   "name": "python",
   "nbconvert_exporter": "python",
   "pygments_lexer": "ipython3",
   "version": "3.6.7"
  }
 },
 "nbformat": 4,
 "nbformat_minor": 2
}
