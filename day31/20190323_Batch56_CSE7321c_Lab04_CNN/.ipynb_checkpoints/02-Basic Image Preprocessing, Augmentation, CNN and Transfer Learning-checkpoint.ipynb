{
 "cells": [
  {
   "cell_type": "markdown",
   "metadata": {},
   "source": [
    "# Basic Image Preprocessing, Data Augmentation, CNN and Transfer Learning"
   ]
  },
  {
   "cell_type": "markdown",
   "metadata": {},
   "source": [
    "#### Get the current working directory"
   ]
  },
  {
   "cell_type": "code",
   "execution_count": 16,
   "metadata": {
    "ExecuteTime": {
     "end_time": "2019-03-23T10:33:48.032336Z",
     "start_time": "2019-03-23T10:33:48.029364Z"
    }
   },
   "outputs": [],
   "source": [
    "import os\n",
    "PATH = os.getcwd()"
   ]
  },
  {
   "cell_type": "raw",
   "metadata": {},
   "source": [
    "PATH = os.path.join(PATH, \"Day03\")\n",
    "os.chdir(PATH)"
   ]
  },
  {
   "cell_type": "markdown",
   "metadata": {},
   "source": [
    "#### Define the data path"
   ]
  },
  {
   "cell_type": "code",
   "execution_count": 17,
   "metadata": {
    "ExecuteTime": {
     "end_time": "2019-03-23T10:33:48.271508Z",
     "start_time": "2019-03-23T10:33:48.266798Z"
    }
   },
   "outputs": [],
   "source": [
    "DATA_PATH = os.path.join(PATH, 'data')\n",
    "data_dir_list = os.listdir(DATA_PATH)"
   ]
  },
  {
   "cell_type": "markdown",
   "metadata": {},
   "source": [
    "#### Get the list of folders inside data path"
   ]
  },
  {
   "cell_type": "code",
   "execution_count": 18,
   "metadata": {
    "ExecuteTime": {
     "end_time": "2019-03-23T10:33:48.447728Z",
     "start_time": "2019-03-23T10:33:48.445300Z"
    }
   },
   "outputs": [
    {
     "name": "stdout",
     "output_type": "stream",
     "text": [
      "['Dogs', 'Cats', 'Humans', 'Horses']\n"
     ]
    }
   ],
   "source": [
    "print(data_dir_list)"
   ]
  },
  {
   "cell_type": "markdown",
   "metadata": {},
   "source": [
    "#### Required variables declaration and initialization"
   ]
  },
  {
   "cell_type": "code",
   "execution_count": 19,
   "metadata": {
    "ExecuteTime": {
     "end_time": "2019-03-23T10:33:48.777365Z",
     "start_time": "2019-03-23T10:33:48.619900Z"
    }
   },
   "outputs": [],
   "source": [
    "img_rows=224\n",
    "img_cols=224\n",
    "num_channel=3\n",
    "\n",
    "num_epoch=100\n",
    "batch_size=32\n",
    "\n",
    "img_data_list=[]\n",
    "classes_names_list=[]"
   ]
  },
  {
   "cell_type": "markdown",
   "metadata": {},
   "source": [
    "#### Read the images and store them in the list"
   ]
  },
  {
   "cell_type": "code",
   "execution_count": 20,
   "metadata": {
    "ExecuteTime": {
     "end_time": "2019-03-23T10:33:51.737432Z",
     "start_time": "2019-03-23T10:33:48.854547Z"
    }
   },
   "outputs": [
    {
     "name": "stdout",
     "output_type": "stream",
     "text": [
      "Loading images from Dogs folder\n",
      "\n",
      "Loading images from Cats folder\n",
      "\n",
      "Loading images from Humans folder\n",
      "\n",
      "Loading images from Horses folder\n",
      "\n"
     ]
    }
   ],
   "source": [
    "import cv2\n",
    "\n",
    "for dataset in data_dir_list:\n",
    "    classes_names_list.append(dataset) \n",
    "    print ('Loading images from {} folder\\n'.format(dataset)) \n",
    "    img_list=os.listdir(DATA_PATH+'/'+ dataset)\n",
    "    for img in img_list:\n",
    "        input_img=cv2.imread(DATA_PATH + '/'+ dataset + '/'+ img )\n",
    "        input_img_resize=cv2.resize(input_img,(img_rows, img_cols))\n",
    "        img_data_list.append(input_img_resize)"
   ]
  },
  {
   "cell_type": "markdown",
   "metadata": {},
   "source": [
    "#### Get the number of classes"
   ]
  },
  {
   "cell_type": "code",
   "execution_count": 21,
   "metadata": {
    "ExecuteTime": {
     "end_time": "2019-03-23T10:34:04.440100Z",
     "start_time": "2019-03-23T10:34:04.436937Z"
    }
   },
   "outputs": [
    {
     "name": "stdout",
     "output_type": "stream",
     "text": [
      "4\n"
     ]
    }
   ],
   "source": [
    "num_classes = len(classes_names_list)\n",
    "print(num_classes)"
   ]
  },
  {
   "cell_type": "markdown",
   "metadata": {},
   "source": [
    "####  Image preprocessiong"
   ]
  },
  {
   "cell_type": "code",
   "execution_count": 22,
   "metadata": {
    "ExecuteTime": {
     "end_time": "2019-03-23T10:34:07.567526Z",
     "start_time": "2019-03-23T10:34:06.929442Z"
    }
   },
   "outputs": [],
   "source": [
    "import numpy as np\n",
    "\n",
    "img_data = np.array(img_data_list)\n",
    "img_data = img_data.astype('float32')\n",
    "img_data /= 255"
   ]
  },
  {
   "cell_type": "code",
   "execution_count": 23,
   "metadata": {
    "ExecuteTime": {
     "end_time": "2019-03-23T10:34:10.107766Z",
     "start_time": "2019-03-23T10:34:10.103859Z"
    }
   },
   "outputs": [
    {
     "name": "stdout",
     "output_type": "stream",
     "text": [
      "(808, 224, 224, 3)\n"
     ]
    }
   ],
   "source": [
    "print (img_data.shape)\n",
    "\n",
    "#img_data = img_data.reshape(img_data.shape[0], img_data.shape[1], img_data.shape[2], num_channel)\n",
    "\n",
    "#print (img_data.shape)"
   ]
  },
  {
   "cell_type": "code",
   "execution_count": 24,
   "metadata": {
    "ExecuteTime": {
     "end_time": "2019-03-23T10:34:12.786870Z",
     "start_time": "2019-03-23T10:34:12.782370Z"
    }
   },
   "outputs": [],
   "source": [
    "num_of_samples = img_data.shape[0]\n",
    "input_shape = img_data[0].shape"
   ]
  },
  {
   "cell_type": "code",
   "execution_count": 25,
   "metadata": {
    "ExecuteTime": {
     "end_time": "2019-03-23T10:34:15.211501Z",
     "start_time": "2019-03-23T10:34:15.202091Z"
    }
   },
   "outputs": [],
   "source": [
    "classes = np.ones((num_of_samples,), dtype='int64')\n",
    "\n",
    "classes[0:202]=0\n",
    "classes[202:404]=1\n",
    "classes[404:606]=2\n",
    "classes[606:]=3"
   ]
  },
  {
   "cell_type": "markdown",
   "metadata": {},
   "source": [
    "Convert class labels to numberic using on-hot encoding"
   ]
  },
  {
   "cell_type": "code",
   "execution_count": 26,
   "metadata": {
    "ExecuteTime": {
     "end_time": "2019-03-23T10:34:17.620660Z",
     "start_time": "2019-03-23T10:34:17.609648Z"
    }
   },
   "outputs": [],
   "source": [
    "from keras.utils import to_categorical\n",
    "\n",
    "classes = to_categorical(classes, num_classes)"
   ]
  },
  {
   "cell_type": "markdown",
   "metadata": {},
   "source": [
    "#### Shuffle the dataset"
   ]
  },
  {
   "cell_type": "code",
   "execution_count": 27,
   "metadata": {
    "ExecuteTime": {
     "end_time": "2019-03-23T10:34:22.178403Z",
     "start_time": "2019-03-23T10:34:20.073920Z"
    }
   },
   "outputs": [],
   "source": [
    "from sklearn.utils import shuffle\n",
    "\n",
    "X, Y = shuffle(img_data, classes, random_state=2)"
   ]
  },
  {
   "cell_type": "markdown",
   "metadata": {},
   "source": [
    "#### Split the dataset"
   ]
  },
  {
   "cell_type": "code",
   "execution_count": 28,
   "metadata": {
    "ExecuteTime": {
     "end_time": "2019-03-23T10:34:26.804488Z",
     "start_time": "2019-03-23T10:34:24.721475Z"
    }
   },
   "outputs": [],
   "source": [
    "from sklearn.model_selection import train_test_split\n",
    "\n",
    "X_train, X_test, y_train, y_test = train_test_split(X, Y, test_size=0.2, random_state=2)"
   ]
  },
  {
   "cell_type": "code",
   "execution_count": 29,
   "metadata": {
    "ExecuteTime": {
     "end_time": "2019-03-23T10:36:20.126171Z",
     "start_time": "2019-03-23T10:36:20.091365Z"
    }
   },
   "outputs": [
    {
     "data": {
      "text/plain": [
       "(162, 4)"
      ]
     },
     "execution_count": 29,
     "metadata": {},
     "output_type": "execute_result"
    }
   ],
   "source": [
    "y_test.shape"
   ]
  },
  {
   "cell_type": "markdown",
   "metadata": {},
   "source": [
    "####  Defining the model"
   ]
  },
  {
   "cell_type": "code",
   "execution_count": 62,
   "metadata": {
    "ExecuteTime": {
     "end_time": "2019-03-23T13:30:32.957918Z",
     "start_time": "2019-03-23T13:30:32.954453Z"
    }
   },
   "outputs": [],
   "source": [
    "from keras.models import Sequential\n",
    "from keras.layers import Dense, Dropout, Flatten\n",
    "from keras.layers import Conv2D, MaxPooling2D"
   ]
  },
  {
   "cell_type": "code",
   "execution_count": 31,
   "metadata": {
    "ExecuteTime": {
     "end_time": "2019-03-23T10:36:28.298233Z",
     "start_time": "2019-03-23T10:36:28.135154Z"
    }
   },
   "outputs": [],
   "source": [
    "model = Sequential()\n",
    "\n",
    "model.add(Conv2D(32, (3, 3), activation='relu', input_shape=input_shape))\n",
    "model.add(Conv2D(32, (3, 3), activation='relu'))\n",
    "model.add(MaxPooling2D(pool_size=(2, 2)))\n",
    "model.add(Dropout(0.5))\n",
    "\n",
    "model.add(Conv2D(64, (3, 3), activation='relu'))\n",
    "model.add(Conv2D(64, (3, 3), activation='relu'))\n",
    "model.add(MaxPooling2D(pool_size=(2, 2)))\n",
    "model.add(Dropout(0.5))\n",
    "\n",
    "model.add(Flatten())\n",
    "model.add(Dense(64, activation='relu'))\n",
    "model.add(Dropout(0.5))\n",
    "model.add(Dense(num_classes, activation='softmax'))"
   ]
  },
  {
   "cell_type": "markdown",
   "metadata": {},
   "source": [
    "####  Compile the model"
   ]
  },
  {
   "cell_type": "code",
   "execution_count": 32,
   "metadata": {
    "ExecuteTime": {
     "end_time": "2019-03-23T10:36:31.092238Z",
     "start_time": "2019-03-23T10:36:31.052239Z"
    }
   },
   "outputs": [],
   "source": [
    "model.compile(loss='categorical_crossentropy', optimizer='rmsprop', metrics=[\"accuracy\"])"
   ]
  },
  {
   "cell_type": "markdown",
   "metadata": {},
   "source": [
    "#### Model Summary"
   ]
  },
  {
   "cell_type": "code",
   "execution_count": 33,
   "metadata": {
    "ExecuteTime": {
     "end_time": "2019-03-23T10:36:33.798255Z",
     "start_time": "2019-03-23T10:36:33.793018Z"
    }
   },
   "outputs": [
    {
     "name": "stdout",
     "output_type": "stream",
     "text": [
      "_________________________________________________________________\n",
      "Layer (type)                 Output Shape              Param #   \n",
      "=================================================================\n",
      "conv2d_1 (Conv2D)            (None, 222, 222, 32)      896       \n",
      "_________________________________________________________________\n",
      "conv2d_2 (Conv2D)            (None, 220, 220, 32)      9248      \n",
      "_________________________________________________________________\n",
      "max_pooling2d_1 (MaxPooling2 (None, 110, 110, 32)      0         \n",
      "_________________________________________________________________\n",
      "dropout_1 (Dropout)          (None, 110, 110, 32)      0         \n",
      "_________________________________________________________________\n",
      "conv2d_3 (Conv2D)            (None, 108, 108, 64)      18496     \n",
      "_________________________________________________________________\n",
      "conv2d_4 (Conv2D)            (None, 106, 106, 64)      36928     \n",
      "_________________________________________________________________\n",
      "max_pooling2d_2 (MaxPooling2 (None, 53, 53, 64)        0         \n",
      "_________________________________________________________________\n",
      "dropout_2 (Dropout)          (None, 53, 53, 64)        0         \n",
      "_________________________________________________________________\n",
      "flatten_1 (Flatten)          (None, 179776)            0         \n",
      "_________________________________________________________________\n",
      "dense_1 (Dense)              (None, 64)                11505728  \n",
      "_________________________________________________________________\n",
      "dropout_3 (Dropout)          (None, 64)                0         \n",
      "_________________________________________________________________\n",
      "dense_2 (Dense)              (None, 4)                 260       \n",
      "=================================================================\n",
      "Total params: 11,571,556\n",
      "Trainable params: 11,571,556\n",
      "Non-trainable params: 0\n",
      "_________________________________________________________________\n"
     ]
    }
   ],
   "source": [
    "model.summary()"
   ]
  },
  {
   "cell_type": "code",
   "execution_count": 34,
   "metadata": {
    "ExecuteTime": {
     "end_time": "2019-03-23T10:36:36.597840Z",
     "start_time": "2019-03-23T10:36:36.586847Z"
    }
   },
   "outputs": [
    {
     "data": {
      "text/plain": [
       "{'name': 'sequential_1',\n",
       " 'layers': [{'class_name': 'Conv2D',\n",
       "   'config': {'name': 'conv2d_1',\n",
       "    'trainable': True,\n",
       "    'batch_input_shape': (None, 224, 224, 3),\n",
       "    'dtype': 'float32',\n",
       "    'filters': 32,\n",
       "    'kernel_size': (3, 3),\n",
       "    'strides': (1, 1),\n",
       "    'padding': 'valid',\n",
       "    'data_format': 'channels_last',\n",
       "    'dilation_rate': (1, 1),\n",
       "    'activation': 'relu',\n",
       "    'use_bias': True,\n",
       "    'kernel_initializer': {'class_name': 'VarianceScaling',\n",
       "     'config': {'scale': 1.0,\n",
       "      'mode': 'fan_avg',\n",
       "      'distribution': 'uniform',\n",
       "      'seed': None}},\n",
       "    'bias_initializer': {'class_name': 'Zeros', 'config': {}},\n",
       "    'kernel_regularizer': None,\n",
       "    'bias_regularizer': None,\n",
       "    'activity_regularizer': None,\n",
       "    'kernel_constraint': None,\n",
       "    'bias_constraint': None}},\n",
       "  {'class_name': 'Conv2D',\n",
       "   'config': {'name': 'conv2d_2',\n",
       "    'trainable': True,\n",
       "    'filters': 32,\n",
       "    'kernel_size': (3, 3),\n",
       "    'strides': (1, 1),\n",
       "    'padding': 'valid',\n",
       "    'data_format': 'channels_last',\n",
       "    'dilation_rate': (1, 1),\n",
       "    'activation': 'relu',\n",
       "    'use_bias': True,\n",
       "    'kernel_initializer': {'class_name': 'VarianceScaling',\n",
       "     'config': {'scale': 1.0,\n",
       "      'mode': 'fan_avg',\n",
       "      'distribution': 'uniform',\n",
       "      'seed': None}},\n",
       "    'bias_initializer': {'class_name': 'Zeros', 'config': {}},\n",
       "    'kernel_regularizer': None,\n",
       "    'bias_regularizer': None,\n",
       "    'activity_regularizer': None,\n",
       "    'kernel_constraint': None,\n",
       "    'bias_constraint': None}},\n",
       "  {'class_name': 'MaxPooling2D',\n",
       "   'config': {'name': 'max_pooling2d_1',\n",
       "    'trainable': True,\n",
       "    'pool_size': (2, 2),\n",
       "    'padding': 'valid',\n",
       "    'strides': (2, 2),\n",
       "    'data_format': 'channels_last'}},\n",
       "  {'class_name': 'Dropout',\n",
       "   'config': {'name': 'dropout_1',\n",
       "    'trainable': True,\n",
       "    'rate': 0.5,\n",
       "    'noise_shape': None,\n",
       "    'seed': None}},\n",
       "  {'class_name': 'Conv2D',\n",
       "   'config': {'name': 'conv2d_3',\n",
       "    'trainable': True,\n",
       "    'filters': 64,\n",
       "    'kernel_size': (3, 3),\n",
       "    'strides': (1, 1),\n",
       "    'padding': 'valid',\n",
       "    'data_format': 'channels_last',\n",
       "    'dilation_rate': (1, 1),\n",
       "    'activation': 'relu',\n",
       "    'use_bias': True,\n",
       "    'kernel_initializer': {'class_name': 'VarianceScaling',\n",
       "     'config': {'scale': 1.0,\n",
       "      'mode': 'fan_avg',\n",
       "      'distribution': 'uniform',\n",
       "      'seed': None}},\n",
       "    'bias_initializer': {'class_name': 'Zeros', 'config': {}},\n",
       "    'kernel_regularizer': None,\n",
       "    'bias_regularizer': None,\n",
       "    'activity_regularizer': None,\n",
       "    'kernel_constraint': None,\n",
       "    'bias_constraint': None}},\n",
       "  {'class_name': 'Conv2D',\n",
       "   'config': {'name': 'conv2d_4',\n",
       "    'trainable': True,\n",
       "    'filters': 64,\n",
       "    'kernel_size': (3, 3),\n",
       "    'strides': (1, 1),\n",
       "    'padding': 'valid',\n",
       "    'data_format': 'channels_last',\n",
       "    'dilation_rate': (1, 1),\n",
       "    'activation': 'relu',\n",
       "    'use_bias': True,\n",
       "    'kernel_initializer': {'class_name': 'VarianceScaling',\n",
       "     'config': {'scale': 1.0,\n",
       "      'mode': 'fan_avg',\n",
       "      'distribution': 'uniform',\n",
       "      'seed': None}},\n",
       "    'bias_initializer': {'class_name': 'Zeros', 'config': {}},\n",
       "    'kernel_regularizer': None,\n",
       "    'bias_regularizer': None,\n",
       "    'activity_regularizer': None,\n",
       "    'kernel_constraint': None,\n",
       "    'bias_constraint': None}},\n",
       "  {'class_name': 'MaxPooling2D',\n",
       "   'config': {'name': 'max_pooling2d_2',\n",
       "    'trainable': True,\n",
       "    'pool_size': (2, 2),\n",
       "    'padding': 'valid',\n",
       "    'strides': (2, 2),\n",
       "    'data_format': 'channels_last'}},\n",
       "  {'class_name': 'Dropout',\n",
       "   'config': {'name': 'dropout_2',\n",
       "    'trainable': True,\n",
       "    'rate': 0.5,\n",
       "    'noise_shape': None,\n",
       "    'seed': None}},\n",
       "  {'class_name': 'Flatten',\n",
       "   'config': {'name': 'flatten_1',\n",
       "    'trainable': True,\n",
       "    'data_format': 'channels_last'}},\n",
       "  {'class_name': 'Dense',\n",
       "   'config': {'name': 'dense_1',\n",
       "    'trainable': True,\n",
       "    'units': 64,\n",
       "    'activation': 'relu',\n",
       "    'use_bias': True,\n",
       "    'kernel_initializer': {'class_name': 'VarianceScaling',\n",
       "     'config': {'scale': 1.0,\n",
       "      'mode': 'fan_avg',\n",
       "      'distribution': 'uniform',\n",
       "      'seed': None}},\n",
       "    'bias_initializer': {'class_name': 'Zeros', 'config': {}},\n",
       "    'kernel_regularizer': None,\n",
       "    'bias_regularizer': None,\n",
       "    'activity_regularizer': None,\n",
       "    'kernel_constraint': None,\n",
       "    'bias_constraint': None}},\n",
       "  {'class_name': 'Dropout',\n",
       "   'config': {'name': 'dropout_3',\n",
       "    'trainable': True,\n",
       "    'rate': 0.5,\n",
       "    'noise_shape': None,\n",
       "    'seed': None}},\n",
       "  {'class_name': 'Dense',\n",
       "   'config': {'name': 'dense_2',\n",
       "    'trainable': True,\n",
       "    'units': 4,\n",
       "    'activation': 'softmax',\n",
       "    'use_bias': True,\n",
       "    'kernel_initializer': {'class_name': 'VarianceScaling',\n",
       "     'config': {'scale': 1.0,\n",
       "      'mode': 'fan_avg',\n",
       "      'distribution': 'uniform',\n",
       "      'seed': None}},\n",
       "    'bias_initializer': {'class_name': 'Zeros', 'config': {}},\n",
       "    'kernel_regularizer': None,\n",
       "    'bias_regularizer': None,\n",
       "    'activity_regularizer': None,\n",
       "    'kernel_constraint': None,\n",
       "    'bias_constraint': None}}]}"
      ]
     },
     "execution_count": 34,
     "metadata": {},
     "output_type": "execute_result"
    }
   ],
   "source": [
    "model.get_config()"
   ]
  },
  {
   "cell_type": "code",
   "execution_count": 35,
   "metadata": {
    "ExecuteTime": {
     "end_time": "2019-03-23T10:36:39.717320Z",
     "start_time": "2019-03-23T10:36:39.711752Z"
    }
   },
   "outputs": [
    {
     "data": {
      "text/plain": [
       "{'name': 'conv2d_1',\n",
       " 'trainable': True,\n",
       " 'batch_input_shape': (None, 224, 224, 3),\n",
       " 'dtype': 'float32',\n",
       " 'filters': 32,\n",
       " 'kernel_size': (3, 3),\n",
       " 'strides': (1, 1),\n",
       " 'padding': 'valid',\n",
       " 'data_format': 'channels_last',\n",
       " 'dilation_rate': (1, 1),\n",
       " 'activation': 'relu',\n",
       " 'use_bias': True,\n",
       " 'kernel_initializer': {'class_name': 'VarianceScaling',\n",
       "  'config': {'scale': 1.0,\n",
       "   'mode': 'fan_avg',\n",
       "   'distribution': 'uniform',\n",
       "   'seed': None}},\n",
       " 'bias_initializer': {'class_name': 'Zeros', 'config': {}},\n",
       " 'kernel_regularizer': None,\n",
       " 'bias_regularizer': None,\n",
       " 'activity_regularizer': None,\n",
       " 'kernel_constraint': None,\n",
       " 'bias_constraint': None}"
      ]
     },
     "execution_count": 35,
     "metadata": {},
     "output_type": "execute_result"
    }
   ],
   "source": [
    "model.layers[0].get_config()"
   ]
  },
  {
   "cell_type": "code",
   "execution_count": 36,
   "metadata": {
    "ExecuteTime": {
     "end_time": "2019-03-23T10:36:42.723230Z",
     "start_time": "2019-03-23T10:36:42.718370Z"
    }
   },
   "outputs": [
    {
     "data": {
      "text/plain": [
       "[<keras.layers.convolutional.Conv2D at 0xb434727f0>,\n",
       " <keras.layers.convolutional.Conv2D at 0xb43472518>,\n",
       " <keras.layers.pooling.MaxPooling2D at 0xb34644fd0>,\n",
       " <keras.layers.core.Dropout at 0xb346c7438>,\n",
       " <keras.layers.convolutional.Conv2D at 0xb346bd828>,\n",
       " <keras.layers.convolutional.Conv2D at 0xb34644a90>,\n",
       " <keras.layers.pooling.MaxPooling2D at 0xb346a06d8>,\n",
       " <keras.layers.core.Dropout at 0xb34635b00>,\n",
       " <keras.layers.core.Flatten at 0xb34729be0>,\n",
       " <keras.layers.core.Dense at 0xb34729320>,\n",
       " <keras.layers.core.Dropout at 0xb346a26a0>,\n",
       " <keras.layers.core.Dense at 0xb3b933a20>]"
      ]
     },
     "execution_count": 36,
     "metadata": {},
     "output_type": "execute_result"
    }
   ],
   "source": [
    "model.layers"
   ]
  },
  {
   "cell_type": "code",
   "execution_count": 37,
   "metadata": {
    "ExecuteTime": {
     "end_time": "2019-03-23T10:36:45.387069Z",
     "start_time": "2019-03-23T10:36:45.381620Z"
    }
   },
   "outputs": [
    {
     "data": {
      "text/plain": [
       "[<tf.Variable 'conv2d_1/kernel:0' shape=(3, 3, 3, 32) dtype=float32_ref>,\n",
       " <tf.Variable 'conv2d_1/bias:0' shape=(32,) dtype=float32_ref>,\n",
       " <tf.Variable 'conv2d_2/kernel:0' shape=(3, 3, 32, 32) dtype=float32_ref>,\n",
       " <tf.Variable 'conv2d_2/bias:0' shape=(32,) dtype=float32_ref>,\n",
       " <tf.Variable 'conv2d_3/kernel:0' shape=(3, 3, 32, 64) dtype=float32_ref>,\n",
       " <tf.Variable 'conv2d_3/bias:0' shape=(64,) dtype=float32_ref>,\n",
       " <tf.Variable 'conv2d_4/kernel:0' shape=(3, 3, 64, 64) dtype=float32_ref>,\n",
       " <tf.Variable 'conv2d_4/bias:0' shape=(64,) dtype=float32_ref>,\n",
       " <tf.Variable 'dense_1/kernel:0' shape=(179776, 64) dtype=float32_ref>,\n",
       " <tf.Variable 'dense_1/bias:0' shape=(64,) dtype=float32_ref>,\n",
       " <tf.Variable 'dense_2/kernel:0' shape=(64, 4) dtype=float32_ref>,\n",
       " <tf.Variable 'dense_2/bias:0' shape=(4,) dtype=float32_ref>]"
      ]
     },
     "execution_count": 37,
     "metadata": {},
     "output_type": "execute_result"
    }
   ],
   "source": [
    "model.weights"
   ]
  },
  {
   "cell_type": "code",
   "execution_count": 38,
   "metadata": {
    "ExecuteTime": {
     "end_time": "2019-03-23T10:36:48.171795Z",
     "start_time": "2019-03-23T10:36:48.047391Z"
    }
   },
   "outputs": [
    {
     "data": {
      "text/plain": [
       "[array([[[[-4.62269261e-02,  9.94846374e-02,  8.65828991e-03,\n",
       "           -1.21558920e-01,  5.00655174e-03,  8.22902620e-02,\n",
       "            6.18246049e-02,  2.71323323e-03,  1.20496005e-02,\n",
       "            1.17923513e-01,  9.42145288e-03,  2.03339010e-02,\n",
       "           -6.83752447e-02,  8.38090479e-02,  7.82117695e-02,\n",
       "            1.37341321e-02,  1.00341290e-01, -6.64206222e-02,\n",
       "           -1.25622243e-01,  5.78350872e-02, -9.61050466e-02,\n",
       "           -1.09739318e-01,  2.91961432e-03,  1.34142384e-01,\n",
       "           -2.48427987e-02,  9.72299278e-02,  1.13083795e-01,\n",
       "            1.17098466e-01, -2.21051425e-02, -1.31031409e-01,\n",
       "           -4.92297933e-02, -4.27752063e-02],\n",
       "          [-5.14798984e-02, -1.34586990e-01, -5.82667589e-02,\n",
       "            4.34052944e-02, -4.05417830e-02,  1.32607833e-01,\n",
       "           -1.14610359e-01, -8.49904343e-02,  9.03011858e-02,\n",
       "            1.83886737e-02, -1.03597261e-01, -2.38971412e-03,\n",
       "            2.68010795e-03, -5.25425300e-02, -6.70678988e-02,\n",
       "           -1.16938911e-01,  1.19702920e-01, -1.67130530e-02,\n",
       "           -6.30983859e-02, -2.19564438e-02, -1.28278732e-02,\n",
       "           -2.10262835e-03,  4.41215485e-02, -1.57984272e-02,\n",
       "           -6.44426048e-03,  1.08409896e-01, -1.02132857e-02,\n",
       "           -5.69960400e-02, -1.02799684e-01, -8.35969150e-02,\n",
       "            2.61517167e-02, -1.18177153e-01],\n",
       "          [ 8.02653283e-02, -1.24638230e-01,  8.01530480e-03,\n",
       "           -9.15861204e-02,  2.43762136e-03, -1.33773342e-01,\n",
       "           -7.17748106e-02,  9.26192701e-02,  4.26654965e-02,\n",
       "           -1.15602165e-02, -1.30360350e-01,  1.01328760e-01,\n",
       "           -9.79142562e-02,  9.74000841e-02, -4.87725809e-02,\n",
       "           -1.28447920e-01,  1.19297311e-01,  2.80085802e-02,\n",
       "           -4.76798117e-02,  7.50494748e-02,  1.26226142e-01,\n",
       "           -1.34549245e-01,  7.20600784e-03,  2.45682001e-02,\n",
       "           -4.32593003e-02,  9.23040062e-02, -1.86806023e-02,\n",
       "            4.99355346e-02, -1.19671099e-01,  2.13440210e-02,\n",
       "           -1.33451208e-01, -1.45152658e-02]],\n",
       " \n",
       "         [[ 3.21857482e-02, -1.05901226e-01,  4.80700582e-02,\n",
       "           -1.24922290e-01, -9.95171517e-02,  1.09857947e-01,\n",
       "           -1.32969648e-01, -5.76327145e-02, -1.11136228e-01,\n",
       "            1.26018301e-01, -2.32653394e-02,  3.14110368e-02,\n",
       "            1.05430827e-01,  1.23289123e-01, -1.37161762e-01,\n",
       "           -7.42136240e-02,  4.40658927e-02, -1.10878222e-01,\n",
       "           -1.20599583e-01, -5.09846136e-02,  8.40726793e-02,\n",
       "           -1.07846528e-01, -8.53946358e-02,  5.19139767e-02,\n",
       "           -6.13690987e-02, -2.36550942e-02,  1.11239389e-01,\n",
       "           -2.29354948e-02, -6.06626943e-02,  7.21544623e-02,\n",
       "           -1.03128791e-01,  3.32151204e-02],\n",
       "          [-1.31789014e-01, -1.55011341e-02, -1.04081817e-01,\n",
       "            6.81422353e-02,  9.54644233e-02,  3.52088958e-02,\n",
       "           -1.69294327e-02,  1.29669949e-01, -7.24843368e-02,\n",
       "           -4.06240150e-02, -9.65216607e-02,  1.36043116e-01,\n",
       "           -1.30467728e-01,  6.55290335e-02, -9.36755538e-03,\n",
       "            1.30730793e-01, -8.74358416e-03,  3.20127457e-02,\n",
       "            7.03448653e-02,  8.10670555e-02, -4.53758389e-02,\n",
       "            7.71013945e-02, -8.41154903e-02,  7.85855651e-02,\n",
       "            4.63221520e-02, -4.97746319e-02, -5.86193725e-02,\n",
       "            6.98281825e-02,  5.81255704e-02, -2.82816514e-02,\n",
       "            2.53205746e-02,  1.19660363e-01],\n",
       "          [ 1.27967641e-01, -9.73316729e-02,  8.17728639e-02,\n",
       "            6.12863898e-03, -6.71192259e-02,  1.83026940e-02,\n",
       "           -1.86658278e-02,  1.29421994e-01, -8.30966905e-02,\n",
       "            8.07958245e-02,  7.84827322e-02,  7.33337104e-02,\n",
       "            5.21354228e-02, -3.12325656e-02, -5.73620424e-02,\n",
       "            1.36782691e-01, -1.06899925e-01, -1.15011573e-01,\n",
       "           -1.11208066e-01, -3.22003663e-02, -1.72339007e-02,\n",
       "            5.12377769e-02,  9.23620164e-02,  1.83393806e-02,\n",
       "           -2.81253904e-02, -1.11206286e-01, -5.29601201e-02,\n",
       "            2.07083970e-02, -8.60919952e-02, -3.93111110e-02,\n",
       "            1.37774795e-02,  4.38601822e-02]],\n",
       " \n",
       "         [[-5.27031720e-02, -8.05543289e-02,  9.68130231e-02,\n",
       "            8.48458111e-02, -1.29928112e-01,  3.69733125e-02,\n",
       "            8.46613497e-02, -8.53259861e-03, -1.24236032e-01,\n",
       "            4.66196537e-02,  1.07600987e-02, -5.48882484e-02,\n",
       "            8.66707563e-02, -1.12882033e-01,  9.60141271e-02,\n",
       "           -8.37757513e-02, -5.26278466e-02,  1.34316012e-01,\n",
       "            7.45784044e-02,  1.24464855e-01,  1.12323508e-01,\n",
       "            6.34758174e-03, -1.99769437e-03,  1.04185432e-01,\n",
       "            2.93330848e-03, -1.21261030e-02, -1.27740830e-01,\n",
       "           -5.12476191e-02,  1.00868762e-01,  1.35318384e-01,\n",
       "            1.48599446e-02, -3.22902948e-02],\n",
       "          [ 1.16222724e-01, -2.33435482e-02, -1.35434091e-01,\n",
       "            1.49555504e-03, -4.17487696e-02, -1.23689845e-01,\n",
       "            4.89730984e-02,  7.80100226e-02, -6.49148226e-03,\n",
       "           -3.32103148e-02,  9.06562805e-03,  1.31556585e-01,\n",
       "           -1.35526523e-01,  1.23780504e-01, -1.11739509e-01,\n",
       "            9.70922858e-02, -8.29127207e-02, -9.50577557e-02,\n",
       "            1.32499233e-01,  8.91808420e-02, -1.12393789e-01,\n",
       "           -4.92085516e-03, -3.99454832e-02,  1.30578622e-01,\n",
       "            1.30927339e-01,  6.04970604e-02,  3.07071209e-03,\n",
       "            9.71000195e-02, -9.37142447e-02, -5.16188517e-02,\n",
       "           -2.63787284e-02,  1.03208989e-01],\n",
       "          [-6.06996492e-02,  4.22909856e-03,  9.73789543e-02,\n",
       "           -4.50327396e-02, -3.21189538e-02, -3.07726860e-02,\n",
       "           -8.22074041e-02,  1.07352033e-01,  1.35431364e-01,\n",
       "            6.26492053e-02, -1.08254820e-01, -3.12251300e-02,\n",
       "            6.43924624e-02,  1.32825270e-01,  4.95550632e-02,\n",
       "           -1.15721822e-01,  1.15923688e-01,  1.00410715e-01,\n",
       "           -6.32462278e-02,  1.35219589e-01, -1.75501853e-02,\n",
       "           -9.67122093e-02, -3.97539437e-02,  8.59537274e-02,\n",
       "            4.60974723e-02,  6.56208396e-02,  3.24187130e-02,\n",
       "            7.18108416e-02,  8.23566616e-02,  9.63053405e-02,\n",
       "            3.53875756e-03,  7.04991221e-02]]],\n",
       " \n",
       " \n",
       "        [[[-7.10976571e-02,  1.27238378e-01,  4.81196493e-02,\n",
       "            6.29966408e-02, -1.18140168e-01,  1.49190426e-03,\n",
       "           -1.28528863e-01, -9.39108133e-02,  8.78917277e-02,\n",
       "           -1.11656651e-01, -5.42644039e-02, -3.30840871e-02,\n",
       "            1.24540403e-01,  4.19027954e-02, -5.92355803e-02,\n",
       "           -3.04176733e-02,  9.09244418e-02,  3.21201086e-02,\n",
       "           -9.55922902e-03, -2.18081400e-02, -5.66596165e-02,\n",
       "            1.31843790e-01,  1.23108879e-01, -9.07228887e-02,\n",
       "           -1.34859279e-01,  3.30453962e-02,  2.64496058e-02,\n",
       "            7.49274939e-02,  1.32250354e-01, -1.08182952e-01,\n",
       "           -6.01509586e-02,  6.57939911e-03],\n",
       "          [ 3.43819857e-02, -4.79160026e-02,  7.39768147e-04,\n",
       "           -6.20549917e-03,  3.60143036e-02,  4.92802113e-02,\n",
       "           -1.35793343e-01,  8.11120272e-02,  8.76717567e-02,\n",
       "           -8.85349810e-02,  3.34495306e-02, -5.26960641e-02,\n",
       "            4.31410372e-02,  8.37533027e-02, -4.80452850e-02,\n",
       "            5.92163652e-02, -1.06283620e-01, -1.34897515e-01,\n",
       "            7.95774162e-02,  1.26564965e-01,  1.34363756e-01,\n",
       "            1.06146857e-01, -1.00994810e-01, -1.22948363e-01,\n",
       "           -6.43887818e-02,  1.28886566e-01, -2.97575668e-02,\n",
       "           -9.90771800e-02,  6.73949420e-02,  8.80307853e-02,\n",
       "           -9.87978205e-02, -9.14514735e-02],\n",
       "          [-8.53737742e-02,  1.30488887e-01, -4.30609286e-03,\n",
       "            1.00480407e-01, -1.92944705e-03, -5.37754074e-02,\n",
       "            2.96342075e-02,  3.61922532e-02, -6.65231869e-02,\n",
       "           -9.70690995e-02, -6.61828518e-02,  1.32745668e-01,\n",
       "           -3.21380049e-02, -9.44757313e-02,  6.03794903e-02,\n",
       "            1.72432512e-02,  1.20755002e-01,  4.52675521e-02,\n",
       "            5.66971004e-02, -4.46718782e-02, -1.35575086e-02,\n",
       "            6.60009682e-03,  7.79387802e-02, -1.00366622e-01,\n",
       "           -2.37777010e-02, -7.80212134e-02,  1.27092972e-01,\n",
       "            1.33842096e-01,  8.91054869e-02,  8.34444612e-02,\n",
       "           -8.83719325e-02,  8.27426612e-02]],\n",
       " \n",
       "         [[-9.42392647e-03,  9.14357156e-02, -4.26480249e-02,\n",
       "           -7.14815632e-02, -1.30350456e-01, -8.76155198e-02,\n",
       "           -1.09076053e-01,  7.51713216e-02,  1.33328035e-01,\n",
       "            8.78486484e-02,  1.25596449e-01, -5.86010069e-02,\n",
       "           -1.19690612e-01, -1.24423623e-01, -1.09416753e-01,\n",
       "            1.08809829e-01, -1.09449029e-04,  1.27242997e-01,\n",
       "           -1.32401705e-01, -1.09784596e-01,  5.73381782e-02,\n",
       "           -1.05677992e-02,  9.21573192e-02,  9.83254761e-02,\n",
       "           -1.22872442e-02,  5.07571995e-02, -8.30470398e-02,\n",
       "            6.16045296e-03, -5.21226302e-02, -9.52821299e-02,\n",
       "           -1.17870912e-01, -1.25855744e-01],\n",
       "          [ 7.18975067e-03,  6.36599660e-02,  1.09167203e-01,\n",
       "            8.03585052e-02, -1.01010635e-01,  1.29643664e-01,\n",
       "           -9.33386013e-02,  7.58705735e-02, -9.97753292e-02,\n",
       "           -7.20021501e-02, -4.73341420e-02,  1.21126816e-01,\n",
       "            8.67932588e-02, -7.67137036e-02,  7.00380504e-02,\n",
       "           -1.23907641e-01,  6.94995075e-02, -1.31466448e-01,\n",
       "           -1.08027972e-01,  1.50315166e-02, -5.81275076e-02,\n",
       "           -1.31752789e-01,  4.87868637e-02, -4.43516746e-02,\n",
       "            1.28286794e-01,  9.26288813e-02, -1.58092529e-02,\n",
       "           -5.46665415e-02, -1.29420429e-01, -5.55270016e-02,\n",
       "            7.82068670e-02, -1.33398205e-01],\n",
       "          [-8.68424475e-02, -1.23303041e-01,  5.82686663e-02,\n",
       "            7.97930807e-02, -1.36236578e-01,  1.07125908e-01,\n",
       "           -4.76182103e-02,  1.20796725e-01,  7.99183697e-02,\n",
       "           -1.02910899e-01, -7.02200234e-02, -9.72875953e-03,\n",
       "           -5.67391515e-02, -9.82552767e-03,  1.02330297e-01,\n",
       "           -6.11159205e-03,  5.44572622e-02,  1.71773434e-02,\n",
       "            1.23302445e-01,  1.04442358e-01, -2.64906436e-02,\n",
       "            1.19579390e-01,  1.32719085e-01, -3.45811993e-02,\n",
       "            3.83949429e-02,  1.01769462e-01,  8.67419541e-02,\n",
       "           -9.57989022e-02, -9.57770795e-02, -2.77661309e-02,\n",
       "            6.48942590e-02,  1.63588375e-02]],\n",
       " \n",
       "         [[ 6.08621538e-03,  3.89043391e-02,  1.11102432e-01,\n",
       "           -1.20859101e-01, -1.30960941e-01, -1.11401118e-01,\n",
       "            1.05510905e-01,  1.26726076e-01,  2.93701440e-02,\n",
       "            1.37026861e-01,  1.13130346e-01,  1.34652987e-01,\n",
       "           -7.72628859e-02, -3.41738984e-02, -4.62885946e-02,\n",
       "            5.97517639e-02, -4.45645750e-02,  1.88086331e-02,\n",
       "            1.20969266e-02,  6.74740374e-02,  1.24706611e-01,\n",
       "           -7.95772225e-02,  4.65662032e-02,  1.33380517e-01,\n",
       "            5.09693176e-02, -4.87848520e-02, -9.64331105e-02,\n",
       "            9.60459858e-02, -8.18589404e-02,  1.19553313e-01,\n",
       "            6.35027885e-03,  9.91652310e-02],\n",
       "          [-1.00706264e-01,  1.45920962e-02,  1.29095361e-01,\n",
       "            1.09453440e-01,  2.39495337e-02,  4.09544408e-02,\n",
       "           -8.30852389e-02,  1.18232593e-01,  1.48711652e-02,\n",
       "            8.06871653e-02, -9.03878212e-02,  1.11164957e-01,\n",
       "           -3.92005816e-02,  9.52531993e-02, -6.26557469e-02,\n",
       "            1.15238324e-01,  3.03573310e-02,  5.88687956e-02,\n",
       "           -7.38203079e-02, -8.05490017e-02,  3.55925262e-02,\n",
       "           -3.32891941e-03,  9.73313749e-02, -1.31604791e-01,\n",
       "           -4.23724800e-02, -4.99400496e-02, -5.45840114e-02,\n",
       "            1.37826130e-01,  2.19973177e-02, -7.55570307e-02,\n",
       "            1.37003317e-01, -9.39182863e-02],\n",
       "          [ 7.28114396e-02,  9.97819752e-02,  2.13764310e-02,\n",
       "            1.06085062e-01, -1.29972860e-01, -7.93632865e-03,\n",
       "            3.27723175e-02, -2.70218253e-02, -6.58086240e-02,\n",
       "            4.72861379e-02,  6.14950955e-02,  1.69495046e-02,\n",
       "           -2.45746896e-02,  1.08411372e-01, -4.07583341e-02,\n",
       "           -6.61818683e-03, -1.00376166e-01, -5.28459251e-03,\n",
       "            2.67318338e-02, -3.23281661e-02,  1.16735399e-02,\n",
       "            1.31792203e-01, -3.17465067e-02,  6.81258589e-02,\n",
       "           -7.24433362e-02, -2.72697285e-02,  1.01054773e-01,\n",
       "            5.42402267e-02,  1.23745054e-02,  1.10310316e-03,\n",
       "           -8.22696239e-02,  2.66575068e-02]]],\n",
       " \n",
       " \n",
       "        [[[ 1.09369308e-02, -8.81390721e-02, -8.71673226e-02,\n",
       "            9.53675807e-03, -7.63284862e-02,  8.70397836e-02,\n",
       "           -1.22911543e-01, -1.13021947e-01, -1.13857366e-01,\n",
       "            7.39865154e-02, -4.54952195e-02, -1.35207444e-01,\n",
       "           -3.96907628e-02, -2.58556753e-02, -8.94511864e-02,\n",
       "           -3.37202102e-02, -1.13134250e-01, -1.69070885e-02,\n",
       "            6.45965040e-02, -4.92700711e-02, -1.16621539e-01,\n",
       "           -3.35915834e-02,  8.83930922e-02,  8.92801583e-03,\n",
       "            6.01722151e-02,  6.31731153e-02,  2.64874101e-03,\n",
       "            2.23311633e-02,  8.40845704e-03,  1.02503404e-01,\n",
       "            7.16325939e-02,  5.29811829e-02],\n",
       "          [ 4.11048234e-02,  8.89571905e-02, -1.74149871e-03,\n",
       "           -4.41567525e-02, -5.70534617e-02,  7.86637515e-02,\n",
       "            2.46567130e-02,  8.00094604e-02, -8.45941305e-02,\n",
       "            3.23792696e-02,  6.15207255e-02,  7.21898377e-02,\n",
       "            3.30806673e-02, -5.32579124e-02, -1.67317092e-02,\n",
       "            1.30823120e-01, -1.06854618e-01,  1.33475438e-01,\n",
       "           -2.27653831e-02,  2.97617912e-03,  1.19507477e-01,\n",
       "            6.54847771e-02, -7.30758682e-02, -1.30936429e-02,\n",
       "            6.66470379e-02, -3.82704288e-02,  1.42467618e-02,\n",
       "            1.02136508e-01, -1.14198521e-01, -1.11946151e-01,\n",
       "           -2.61513889e-02,  1.23869047e-01],\n",
       "          [ 3.59107554e-02, -8.27634335e-02, -7.91496485e-02,\n",
       "           -9.57646966e-03,  4.33418602e-02, -2.52914578e-02,\n",
       "            3.67778987e-02, -5.21406606e-02, -9.89000872e-02,\n",
       "           -1.75777599e-02,  3.16242278e-02, -5.82459942e-02,\n",
       "            5.86833060e-03,  4.40606326e-02, -1.12334341e-02,\n",
       "           -7.53308088e-02,  5.36129922e-02, -1.37805551e-01,\n",
       "           -8.27236176e-02, -7.39352107e-02,  6.16486967e-02,\n",
       "           -5.18104583e-02, -9.89962965e-02, -1.36051223e-01,\n",
       "            5.22609055e-03, -3.29201594e-02, -8.79112706e-02,\n",
       "            6.11532778e-02,  5.50922751e-03, -3.02154049e-02,\n",
       "            1.05877638e-01,  9.21777785e-02]],\n",
       " \n",
       "         [[ 9.55394059e-02,  6.76356703e-02,  6.60169870e-02,\n",
       "           -1.23524264e-01,  1.21357992e-01, -7.08984882e-02,\n",
       "            4.72322106e-04, -1.05238788e-01,  5.78438640e-02,\n",
       "           -1.16468996e-01, -9.46814492e-02, -4.49031964e-02,\n",
       "           -7.36598670e-03,  4.90717888e-02,  1.20378092e-01,\n",
       "            9.34195817e-02, -2.31782347e-02,  8.41781795e-02,\n",
       "           -8.38705823e-02, -9.19993073e-02,  9.33371186e-02,\n",
       "           -7.77942687e-02,  3.22395265e-02,  9.44003463e-02,\n",
       "           -4.39512879e-02, -2.56277770e-02, -3.10818851e-03,\n",
       "           -2.47103572e-02, -9.08911675e-02, -1.25883579e-01,\n",
       "           -2.65870988e-03, -1.16790384e-02],\n",
       "          [-1.22145265e-02,  9.48621333e-03,  2.50944793e-02,\n",
       "            8.57997239e-02,  6.19111806e-02,  8.93107802e-02,\n",
       "            8.93145055e-02,  1.11670271e-01,  1.09989628e-01,\n",
       "            1.07783288e-01, -1.29075944e-01, -9.00522918e-02,\n",
       "           -3.42295393e-02,  3.57508361e-02,  1.61208957e-02,\n",
       "            4.75009084e-02,  4.75429595e-02, -1.32750794e-01,\n",
       "           -7.05975071e-02,  4.79766130e-02,  5.52445501e-02,\n",
       "            7.92008489e-02,  1.25067994e-01,  9.56789255e-02,\n",
       "           -5.08462787e-02, -8.52328539e-03, -8.76951218e-02,\n",
       "           -2.49241292e-03, -3.64545733e-02,  5.75673282e-02,\n",
       "           -1.23454146e-01, -1.32237151e-01],\n",
       "          [ 1.06285363e-02, -1.07369512e-01,  7.56521523e-02,\n",
       "           -2.30838656e-02, -8.14454928e-02,  1.06390819e-01,\n",
       "            4.98498529e-02, -2.29601115e-02,  1.30800053e-01,\n",
       "           -3.75947878e-02, -8.02175105e-02,  2.67738253e-02,\n",
       "           -7.66001791e-02,  4.29813564e-02, -3.24639603e-02,\n",
       "            7.88719058e-02, -8.57388973e-03,  5.15262634e-02,\n",
       "           -1.35941714e-01,  5.33113182e-02, -4.38941717e-02,\n",
       "            1.26199856e-01,  4.14931327e-02,  6.79832101e-02,\n",
       "            8.87836367e-02,  1.10097587e-01, -1.25485063e-02,\n",
       "           -1.28830567e-01,  1.31448254e-01,  1.01320013e-01,\n",
       "           -4.17057946e-02, -9.69990715e-02]],\n",
       " \n",
       "         [[ 4.05618548e-03,  6.98887408e-02,  9.05873179e-02,\n",
       "           -1.35853559e-01, -1.29643649e-01, -9.72864926e-02,\n",
       "           -4.10249606e-02,  1.11228392e-01,  6.90311193e-03,\n",
       "           -4.81061935e-02, -1.25125542e-01, -1.16179198e-01,\n",
       "           -4.70346138e-02, -1.02005616e-01, -5.92711195e-02,\n",
       "            1.03172660e-01, -5.53544834e-02, -3.54994833e-03,\n",
       "            1.04251906e-01, -7.42823258e-02, -1.36466518e-01,\n",
       "            8.29641223e-02,  1.26722887e-01,  8.73991400e-02,\n",
       "            6.40515685e-02, -1.25246495e-02, -2.57716030e-02,\n",
       "           -1.06553763e-01, -1.12635776e-01,  6.95884824e-02,\n",
       "            4.97116148e-02, -4.07285169e-02],\n",
       "          [ 1.01648331e-01,  6.21485114e-02, -5.41241691e-02,\n",
       "            8.19830894e-02,  6.97619468e-02, -3.47810984e-03,\n",
       "           -2.69893780e-02, -9.19245183e-02,  5.52668869e-02,\n",
       "           -1.37089804e-01,  5.61583787e-02, -1.05044514e-01,\n",
       "           -2.17635259e-02, -4.13648337e-02,  1.12604216e-01,\n",
       "           -8.05117190e-03, -4.81869057e-02, -1.82113424e-02,\n",
       "            1.03797317e-01,  3.80399227e-02,  6.04906678e-02,\n",
       "           -8.91910046e-02, -5.57202175e-02, -1.31684154e-01,\n",
       "           -6.31087497e-02,  5.60293198e-02, -5.34732789e-02,\n",
       "            8.41026902e-02, -1.27192304e-01,  3.22634131e-02,\n",
       "           -1.36276454e-01, -1.07025422e-01],\n",
       "          [-1.12834260e-01, -1.34808406e-01, -2.73061246e-02,\n",
       "            1.09678835e-01, -9.65465307e-02,  1.21124640e-01,\n",
       "           -1.35625139e-01, -2.62619480e-02,  2.16062367e-02,\n",
       "           -6.34882748e-02,  2.10137665e-03,  1.22947022e-01,\n",
       "            1.16334006e-01,  7.58603215e-02,  6.05364740e-02,\n",
       "           -7.84729570e-02,  3.16466391e-03, -1.29558370e-01,\n",
       "            1.06281221e-01,  2.76073366e-02, -7.38605186e-02,\n",
       "            1.14488825e-01, -4.31871414e-02,  9.68642980e-02,\n",
       "           -2.74360999e-02,  3.06806564e-02, -4.58877459e-02,\n",
       "           -1.64916366e-02,  1.05997175e-02, -6.62150979e-03,\n",
       "           -3.96226496e-02,  1.36062846e-01]]]], dtype=float32),\n",
       " array([0., 0., 0., 0., 0., 0., 0., 0., 0., 0., 0., 0., 0., 0., 0., 0., 0.,\n",
       "        0., 0., 0., 0., 0., 0., 0., 0., 0., 0., 0., 0., 0., 0., 0.],\n",
       "       dtype=float32)]"
      ]
     },
     "execution_count": 38,
     "metadata": {},
     "output_type": "execute_result"
    }
   ],
   "source": [
    "model.layers[0].get_weights()"
   ]
  },
  {
   "cell_type": "code",
   "execution_count": 39,
   "metadata": {
    "ExecuteTime": {
     "end_time": "2019-03-23T10:36:50.749041Z",
     "start_time": "2019-03-23T10:36:50.740426Z"
    }
   },
   "outputs": [
    {
     "name": "stdout",
     "output_type": "stream",
     "text": [
      "<class 'list'>\n",
      "2\n",
      "<class 'numpy.ndarray'>\n",
      "(3, 3, 3, 32)\n",
      "<class 'numpy.ndarray'>\n",
      "(32,)\n"
     ]
    }
   ],
   "source": [
    "print(type(model.layers[0].get_weights()))\n",
    "\n",
    "print(len(model.layers[0].get_weights()))\n",
    "\n",
    "print(type(model.layers[0].get_weights()[0]))\n",
    "\n",
    "print(model.layers[0].get_weights()[0].shape)\n",
    "\n",
    "print(type(model.layers[0].get_weights()[1]))\n",
    "\n",
    "print(model.layers[0].get_weights()[1].shape)"
   ]
  },
  {
   "cell_type": "code",
   "execution_count": 40,
   "metadata": {
    "ExecuteTime": {
     "end_time": "2019-03-23T10:36:53.341996Z",
     "start_time": "2019-03-23T10:36:53.337589Z"
    },
    "scrolled": true
   },
   "outputs": [
    {
     "data": {
      "text/plain": [
       "(None, 224, 224, 3)"
      ]
     },
     "execution_count": 40,
     "metadata": {},
     "output_type": "execute_result"
    }
   ],
   "source": [
    "model.layers[0].input_shape"
   ]
  },
  {
   "cell_type": "code",
   "execution_count": 41,
   "metadata": {
    "ExecuteTime": {
     "end_time": "2019-03-23T10:36:55.938618Z",
     "start_time": "2019-03-23T10:36:55.933281Z"
    }
   },
   "outputs": [
    {
     "data": {
      "text/plain": [
       "(None, 222, 222, 32)"
      ]
     },
     "execution_count": 41,
     "metadata": {},
     "output_type": "execute_result"
    }
   ],
   "source": [
    "model.layers[0].output_shape"
   ]
  },
  {
   "cell_type": "code",
   "execution_count": 42,
   "metadata": {
    "ExecuteTime": {
     "end_time": "2019-03-23T10:36:58.480675Z",
     "start_time": "2019-03-23T10:36:58.477171Z"
    }
   },
   "outputs": [
    {
     "data": {
      "text/plain": [
       "True"
      ]
     },
     "execution_count": 42,
     "metadata": {},
     "output_type": "execute_result"
    }
   ],
   "source": [
    "model.layers[0].trainable"
   ]
  },
  {
   "cell_type": "markdown",
   "metadata": {},
   "source": [
    "#### Training/fit the model "
   ]
  },
  {
   "cell_type": "code",
   "execution_count": 43,
   "metadata": {
    "ExecuteTime": {
     "end_time": "2019-03-23T13:25:38.091723Z",
     "start_time": "2019-03-23T10:37:01.060429Z"
    },
    "scrolled": true
   },
   "outputs": [
    {
     "name": "stdout",
     "output_type": "stream",
     "text": [
      "Train on 646 samples, validate on 162 samples\n",
      "Epoch 1/100\n",
      "646/646 [==============================] - 103s 159ms/step - loss: 2.0277 - acc: 0.2477 - val_loss: 1.3273 - val_acc: 0.2963\n",
      "Epoch 2/100\n",
      "646/646 [==============================] - 82s 127ms/step - loss: 1.3531 - acc: 0.3313 - val_loss: 2.6526 - val_acc: 0.2963\n",
      "Epoch 3/100\n",
      "646/646 [==============================] - 79s 123ms/step - loss: 1.4152 - acc: 0.3700 - val_loss: 1.3293 - val_acc: 0.4074\n",
      "Epoch 4/100\n",
      "646/646 [==============================] - 81s 125ms/step - loss: 1.2570 - acc: 0.3978 - val_loss: 1.2529 - val_acc: 0.3889\n",
      "Epoch 5/100\n",
      "646/646 [==============================] - 84s 130ms/step - loss: 1.2700 - acc: 0.4752 - val_loss: 1.3928 - val_acc: 0.3086\n",
      "Epoch 6/100\n",
      "646/646 [==============================] - 80s 124ms/step - loss: 1.1524 - acc: 0.4907 - val_loss: 1.1684 - val_acc: 0.5247\n",
      "Epoch 7/100\n",
      "646/646 [==============================] - 81s 126ms/step - loss: 1.0736 - acc: 0.5666 - val_loss: 1.0727 - val_acc: 0.4938\n",
      "Epoch 8/100\n",
      "646/646 [==============================] - 80s 124ms/step - loss: 0.9062 - acc: 0.6362 - val_loss: 1.0184 - val_acc: 0.5309\n",
      "Epoch 9/100\n",
      "646/646 [==============================] - 77s 120ms/step - loss: 0.8275 - acc: 0.6889 - val_loss: 0.9166 - val_acc: 0.5802\n",
      "Epoch 10/100\n",
      "646/646 [==============================] - 78s 121ms/step - loss: 0.6395 - acc: 0.7678 - val_loss: 1.3141 - val_acc: 0.4691\n",
      "Epoch 11/100\n",
      "646/646 [==============================] - 78s 122ms/step - loss: 0.5071 - acc: 0.8173 - val_loss: 1.4976 - val_acc: 0.5556\n",
      "Epoch 12/100\n",
      "646/646 [==============================] - 80s 123ms/step - loss: 0.4153 - acc: 0.8607 - val_loss: 1.1900 - val_acc: 0.6235\n",
      "Epoch 13/100\n",
      "646/646 [==============================] - 80s 124ms/step - loss: 0.3532 - acc: 0.8762 - val_loss: 1.0957 - val_acc: 0.5926\n",
      "Epoch 14/100\n",
      "646/646 [==============================] - 80s 124ms/step - loss: 0.2178 - acc: 0.9257 - val_loss: 2.0178 - val_acc: 0.5432\n",
      "Epoch 15/100\n",
      "646/646 [==============================] - 85s 131ms/step - loss: 0.2320 - acc: 0.9195 - val_loss: 2.1256 - val_acc: 0.5988\n",
      "Epoch 16/100\n",
      "646/646 [==============================] - 82s 126ms/step - loss: 0.2335 - acc: 0.9241 - val_loss: 2.0287 - val_acc: 0.5741\n",
      "Epoch 17/100\n",
      "646/646 [==============================] - 81s 125ms/step - loss: 0.1158 - acc: 0.9628 - val_loss: 2.1998 - val_acc: 0.5864\n",
      "Epoch 18/100\n",
      "646/646 [==============================] - 81s 125ms/step - loss: 0.2217 - acc: 0.9334 - val_loss: 2.7997 - val_acc: 0.5432\n",
      "Epoch 19/100\n",
      "646/646 [==============================] - 83s 129ms/step - loss: 0.1778 - acc: 0.9489 - val_loss: 2.3209 - val_acc: 0.5926\n",
      "Epoch 20/100\n",
      "646/646 [==============================] - 84s 130ms/step - loss: 0.0690 - acc: 0.9799 - val_loss: 2.3562 - val_acc: 0.6049\n",
      "Epoch 21/100\n",
      "646/646 [==============================] - 83s 129ms/step - loss: 0.1822 - acc: 0.9474 - val_loss: 2.2584 - val_acc: 0.5556\n",
      "Epoch 22/100\n",
      "646/646 [==============================] - 83s 128ms/step - loss: 0.1217 - acc: 0.9598 - val_loss: 2.6070 - val_acc: 0.5679\n",
      "Epoch 23/100\n",
      "646/646 [==============================] - 90s 140ms/step - loss: 0.0759 - acc: 0.9783 - val_loss: 2.4545 - val_acc: 0.6049\n",
      "Epoch 24/100\n",
      "646/646 [==============================] - 83s 129ms/step - loss: 0.1120 - acc: 0.9628 - val_loss: 3.1323 - val_acc: 0.5062\n",
      "Epoch 25/100\n",
      "646/646 [==============================] - 80s 125ms/step - loss: 0.1079 - acc: 0.9737 - val_loss: 3.2245 - val_acc: 0.5370\n",
      "Epoch 26/100\n",
      "646/646 [==============================] - 79s 123ms/step - loss: 0.1047 - acc: 0.9783 - val_loss: 2.6082 - val_acc: 0.5370\n",
      "Epoch 27/100\n",
      "646/646 [==============================] - 79s 123ms/step - loss: 0.0624 - acc: 0.9768 - val_loss: 4.7580 - val_acc: 0.5494\n",
      "Epoch 28/100\n",
      "646/646 [==============================] - 82s 126ms/step - loss: 0.0837 - acc: 0.9799 - val_loss: 3.1236 - val_acc: 0.5556\n",
      "Epoch 29/100\n",
      "646/646 [==============================] - 84s 130ms/step - loss: 0.2049 - acc: 0.9536 - val_loss: 2.6014 - val_acc: 0.5741\n",
      "Epoch 30/100\n",
      "646/646 [==============================] - 83s 129ms/step - loss: 0.0569 - acc: 0.9845 - val_loss: 2.6522 - val_acc: 0.5864\n",
      "Epoch 31/100\n",
      "646/646 [==============================] - 88s 137ms/step - loss: 0.0672 - acc: 0.9783 - val_loss: 2.7735 - val_acc: 0.5679\n",
      "Epoch 32/100\n",
      "646/646 [==============================] - 81s 126ms/step - loss: 0.0877 - acc: 0.9799 - val_loss: 3.0910 - val_acc: 0.5494\n",
      "Epoch 33/100\n",
      "646/646 [==============================] - 91s 140ms/step - loss: 0.0922 - acc: 0.9582 - val_loss: 3.5814 - val_acc: 0.5309\n",
      "Epoch 34/100\n",
      "646/646 [==============================] - 88s 136ms/step - loss: 0.0852 - acc: 0.9721 - val_loss: 3.4383 - val_acc: 0.5370\n",
      "Epoch 35/100\n",
      "646/646 [==============================] - 84s 130ms/step - loss: 0.0620 - acc: 0.9830 - val_loss: 2.5763 - val_acc: 0.5926\n",
      "Epoch 36/100\n",
      "646/646 [==============================] - 83s 128ms/step - loss: 0.0462 - acc: 0.9845 - val_loss: 3.7941 - val_acc: 0.5370\n",
      "Epoch 37/100\n",
      "646/646 [==============================] - 83s 128ms/step - loss: 0.0560 - acc: 0.9799 - val_loss: 5.0146 - val_acc: 0.4938\n",
      "Epoch 38/100\n",
      "646/646 [==============================] - 80s 124ms/step - loss: 0.0897 - acc: 0.9721 - val_loss: 4.2995 - val_acc: 0.5617\n",
      "Epoch 39/100\n",
      "646/646 [==============================] - 82s 126ms/step - loss: 0.0151 - acc: 0.9985 - val_loss: 4.3808 - val_acc: 0.5432\n",
      "Epoch 40/100\n",
      "646/646 [==============================] - 80s 124ms/step - loss: 0.1148 - acc: 0.9799 - val_loss: 4.1928 - val_acc: 0.5432\n",
      "Epoch 41/100\n",
      "646/646 [==============================] - 81s 125ms/step - loss: 0.0419 - acc: 0.9861 - val_loss: 4.1090 - val_acc: 0.5617\n",
      "Epoch 42/100\n",
      "646/646 [==============================] - 85s 131ms/step - loss: 0.0518 - acc: 0.9892 - val_loss: 3.8348 - val_acc: 0.5494\n",
      "Epoch 43/100\n",
      "646/646 [==============================] - 80s 124ms/step - loss: 0.0870 - acc: 0.9752 - val_loss: 3.3568 - val_acc: 0.5432\n",
      "Epoch 44/100\n",
      "646/646 [==============================] - 81s 125ms/step - loss: 0.1182 - acc: 0.9830 - val_loss: 3.5220 - val_acc: 0.5556\n",
      "Epoch 45/100\n",
      "646/646 [==============================] - 80s 124ms/step - loss: 0.1056 - acc: 0.9814 - val_loss: 3.8347 - val_acc: 0.5679\n",
      "Epoch 46/100\n",
      "646/646 [==============================] - 83s 129ms/step - loss: 0.0503 - acc: 0.9845 - val_loss: 2.7263 - val_acc: 0.5679\n",
      "Epoch 47/100\n",
      "646/646 [==============================] - 85s 132ms/step - loss: 0.0465 - acc: 0.9892 - val_loss: 3.1852 - val_acc: 0.5741\n",
      "Epoch 48/100\n",
      "646/646 [==============================] - 81s 126ms/step - loss: 0.0543 - acc: 0.9814 - val_loss: 3.0762 - val_acc: 0.5679\n",
      "Epoch 49/100\n",
      "646/646 [==============================] - 86s 134ms/step - loss: 0.0138 - acc: 0.9954 - val_loss: 4.2710 - val_acc: 0.5247\n",
      "Epoch 50/100\n",
      "646/646 [==============================] - 86s 133ms/step - loss: 0.1144 - acc: 0.9783 - val_loss: 4.0787 - val_acc: 0.5679\n",
      "Epoch 51/100\n",
      "646/646 [==============================] - 86s 133ms/step - loss: 0.0294 - acc: 0.9907 - val_loss: 3.7927 - val_acc: 0.5679\n",
      "Epoch 52/100\n",
      "646/646 [==============================] - 81s 126ms/step - loss: 0.0203 - acc: 0.9938 - val_loss: 4.3666 - val_acc: 0.5494\n",
      "Epoch 53/100\n",
      "646/646 [==============================] - 81s 126ms/step - loss: 0.0770 - acc: 0.9861 - val_loss: 4.6395 - val_acc: 0.5679\n",
      "Epoch 54/100\n",
      "646/646 [==============================] - 82s 126ms/step - loss: 0.0844 - acc: 0.9830 - val_loss: 5.1538 - val_acc: 0.5309\n",
      "Epoch 55/100\n",
      "646/646 [==============================] - 81s 126ms/step - loss: 0.0930 - acc: 0.9768 - val_loss: 4.3227 - val_acc: 0.5617\n",
      "Epoch 56/100\n",
      "646/646 [==============================] - 81s 126ms/step - loss: 0.0791 - acc: 0.9876 - val_loss: 3.4744 - val_acc: 0.5741\n",
      "Epoch 57/100\n",
      "646/646 [==============================] - 81s 126ms/step - loss: 0.0472 - acc: 0.9876 - val_loss: 3.7903 - val_acc: 0.5802\n",
      "Epoch 58/100\n",
      "646/646 [==============================] - 81s 125ms/step - loss: 0.0574 - acc: 0.9907 - val_loss: 4.6381 - val_acc: 0.5679\n",
      "Epoch 59/100\n",
      "646/646 [==============================] - 83s 129ms/step - loss: 0.0164 - acc: 0.9954 - val_loss: 4.5496 - val_acc: 0.5494\n",
      "Epoch 60/100\n"
     ]
    },
    {
     "name": "stdout",
     "output_type": "stream",
     "text": [
      "646/646 [==============================] - 82s 126ms/step - loss: 0.0272 - acc: 0.9923 - val_loss: 4.9556 - val_acc: 0.5370\n",
      "Epoch 61/100\n",
      "646/646 [==============================] - 81s 126ms/step - loss: 0.0401 - acc: 0.9892 - val_loss: 4.7877 - val_acc: 0.5864\n",
      "Epoch 62/100\n",
      "646/646 [==============================] - 81s 126ms/step - loss: 0.0754 - acc: 0.9830 - val_loss: 4.4710 - val_acc: 0.5679\n",
      "Epoch 63/100\n",
      "646/646 [==============================] - 82s 126ms/step - loss: 0.0581 - acc: 0.9845 - val_loss: 5.0273 - val_acc: 0.5309\n",
      "Epoch 64/100\n",
      "646/646 [==============================] - 82s 128ms/step - loss: 0.0887 - acc: 0.9799 - val_loss: 5.0378 - val_acc: 0.5247\n",
      "Epoch 65/100\n",
      "646/646 [==============================] - 86s 132ms/step - loss: 0.0216 - acc: 0.9907 - val_loss: 5.5513 - val_acc: 0.5062\n",
      "Epoch 66/100\n",
      "646/646 [==============================] - 84s 130ms/step - loss: 0.0585 - acc: 0.9861 - val_loss: 4.5580 - val_acc: 0.5309\n",
      "Epoch 67/100\n",
      "646/646 [==============================] - 82s 128ms/step - loss: 0.0677 - acc: 0.9876 - val_loss: 4.0568 - val_acc: 0.5741\n",
      "Epoch 68/100\n",
      "646/646 [==============================] - 99s 153ms/step - loss: 0.0614 - acc: 0.9845 - val_loss: 5.0142 - val_acc: 0.5617\n",
      "Epoch 69/100\n",
      "646/646 [==============================] - 89s 137ms/step - loss: 0.0599 - acc: 0.9845 - val_loss: 5.6466 - val_acc: 0.5185\n",
      "Epoch 70/100\n",
      "646/646 [==============================] - 87s 134ms/step - loss: 0.1154 - acc: 0.9814 - val_loss: 4.8284 - val_acc: 0.5370\n",
      "Epoch 71/100\n",
      "646/646 [==============================] - 90s 139ms/step - loss: 0.0763 - acc: 0.9830 - val_loss: 4.8614 - val_acc: 0.5494\n",
      "Epoch 72/100\n",
      "646/646 [==============================] - 92s 143ms/step - loss: 0.0755 - acc: 0.9892 - val_loss: 5.0524 - val_acc: 0.5185\n",
      "Epoch 73/100\n",
      "646/646 [==============================] - 91s 141ms/step - loss: 0.2729 - acc: 0.9628 - val_loss: 4.3308 - val_acc: 0.5370\n",
      "Epoch 74/100\n",
      "646/646 [==============================] - 92s 143ms/step - loss: 0.1087 - acc: 0.9706 - val_loss: 6.8409 - val_acc: 0.4630\n",
      "Epoch 75/100\n",
      "646/646 [==============================] - 92s 143ms/step - loss: 0.0759 - acc: 0.9876 - val_loss: 5.0985 - val_acc: 0.5494\n",
      "Epoch 76/100\n",
      "646/646 [==============================] - 91s 141ms/step - loss: 0.0094 - acc: 0.9954 - val_loss: 4.7842 - val_acc: 0.5556\n",
      "Epoch 77/100\n",
      "646/646 [==============================] - 90s 140ms/step - loss: 0.1025 - acc: 0.9799 - val_loss: 5.1599 - val_acc: 0.5617\n",
      "Epoch 78/100\n",
      "646/646 [==============================] - 92s 142ms/step - loss: 0.1129 - acc: 0.9752 - val_loss: 4.2393 - val_acc: 0.5185\n",
      "Epoch 79/100\n",
      "646/646 [==============================] - 89s 138ms/step - loss: 0.0884 - acc: 0.9861 - val_loss: 4.7774 - val_acc: 0.5617\n",
      "Epoch 80/100\n",
      "646/646 [==============================] - 90s 139ms/step - loss: 0.0749 - acc: 0.9892 - val_loss: 5.5888 - val_acc: 0.5185\n",
      "Epoch 81/100\n",
      "646/646 [==============================] - 91s 140ms/step - loss: 0.0847 - acc: 0.9845 - val_loss: 4.6802 - val_acc: 0.5309\n",
      "Epoch 82/100\n",
      "646/646 [==============================] - 89s 137ms/step - loss: 0.0881 - acc: 0.9861 - val_loss: 5.0866 - val_acc: 0.5309\n",
      "Epoch 83/100\n",
      "646/646 [==============================] - 86s 133ms/step - loss: 0.0557 - acc: 0.9907 - val_loss: 5.0925 - val_acc: 0.5494\n",
      "Epoch 84/100\n",
      "646/646 [==============================] - 82s 127ms/step - loss: 0.0846 - acc: 0.9861 - val_loss: 4.7589 - val_acc: 0.5185\n",
      "Epoch 85/100\n",
      "646/646 [==============================] - 111s 172ms/step - loss: 0.0648 - acc: 0.9845 - val_loss: 4.6771 - val_acc: 0.5185\n",
      "Epoch 86/100\n",
      "646/646 [==============================] - 260s 402ms/step - loss: 0.0930 - acc: 0.9783 - val_loss: 5.9616 - val_acc: 0.5494\n",
      "Epoch 87/100\n",
      "646/646 [==============================] - 193s 299ms/step - loss: 0.1047 - acc: 0.9814 - val_loss: 6.1144 - val_acc: 0.5123\n",
      "Epoch 88/100\n",
      "646/646 [==============================] - 208s 322ms/step - loss: 0.0579 - acc: 0.9861 - val_loss: 4.6724 - val_acc: 0.5802\n",
      "Epoch 89/100\n",
      "646/646 [==============================] - 217s 337ms/step - loss: 0.0994 - acc: 0.9799 - val_loss: 4.6207 - val_acc: 0.5802\n",
      "Epoch 90/100\n",
      "646/646 [==============================] - 219s 339ms/step - loss: 0.0141 - acc: 0.9938 - val_loss: 5.6673 - val_acc: 0.5062\n",
      "Epoch 91/100\n",
      "646/646 [==============================] - 216s 334ms/step - loss: 0.0735 - acc: 0.9799 - val_loss: 5.0809 - val_acc: 0.5494\n",
      "Epoch 92/100\n",
      "646/646 [==============================] - 195s 302ms/step - loss: 0.1498 - acc: 0.9783 - val_loss: 4.7720 - val_acc: 0.5432\n",
      "Epoch 93/100\n",
      "646/646 [==============================] - 184s 284ms/step - loss: 0.0853 - acc: 0.9830 - val_loss: 5.8737 - val_acc: 0.5556\n",
      "Epoch 94/100\n",
      "646/646 [==============================] - 220s 341ms/step - loss: 0.2152 - acc: 0.9737 - val_loss: 5.2126 - val_acc: 0.5556\n",
      "Epoch 95/100\n",
      "646/646 [==============================] - 180s 278ms/step - loss: 0.0240 - acc: 0.9938 - val_loss: 4.9832 - val_acc: 0.5679\n",
      "Epoch 96/100\n",
      "646/646 [==============================] - 188s 292ms/step - loss: 0.0815 - acc: 0.9861 - val_loss: 4.9065 - val_acc: 0.5494\n",
      "Epoch 97/100\n",
      "646/646 [==============================] - 172s 267ms/step - loss: 0.0160 - acc: 0.9923 - val_loss: 6.1595 - val_acc: 0.5062\n",
      "Epoch 98/100\n",
      "646/646 [==============================] - 160s 248ms/step - loss: 0.1421 - acc: 0.9783 - val_loss: 6.0021 - val_acc: 0.5062\n",
      "Epoch 99/100\n",
      "646/646 [==============================] - 161s 249ms/step - loss: 0.0914 - acc: 0.9814 - val_loss: 5.6943 - val_acc: 0.5062\n",
      "Epoch 100/100\n",
      "646/646 [==============================] - 167s 259ms/step - loss: 0.0723 - acc: 0.9830 - val_loss: 4.3764 - val_acc: 0.4877\n"
     ]
    }
   ],
   "source": [
    "hist = model.fit(X_train, y_train, batch_size=batch_size, epochs=num_epoch, verbose=1, validation_data=(X_test, y_test))"
   ]
  },
  {
   "cell_type": "markdown",
   "metadata": {},
   "source": [
    "#### Evaluating the model"
   ]
  },
  {
   "cell_type": "code",
   "execution_count": 44,
   "metadata": {
    "ExecuteTime": {
     "end_time": "2019-03-23T13:25:57.229384Z",
     "start_time": "2019-03-23T13:25:44.239595Z"
    }
   },
   "outputs": [
    {
     "name": "stdout",
     "output_type": "stream",
     "text": [
      "162/162 [==============================] - 13s 80ms/step\n",
      "Test Loss: 4.376369299712004\n",
      "Test Accuracy: 0.4876543209876543\n"
     ]
    }
   ],
   "source": [
    "score = model.evaluate(X_test, y_test, batch_size=batch_size)\n",
    "\n",
    "print('Test Loss:', score[0])\n",
    "print('Test Accuracy:', score[1])"
   ]
  },
  {
   "cell_type": "code",
   "execution_count": 45,
   "metadata": {
    "ExecuteTime": {
     "end_time": "2019-03-23T13:26:02.904594Z",
     "start_time": "2019-03-23T13:26:02.898773Z"
    }
   },
   "outputs": [
    {
     "name": "stdout",
     "output_type": "stream",
     "text": [
      "(1, 224, 224, 3)\n"
     ]
    }
   ],
   "source": [
    "test_image = X_test[0:1]\n",
    "print (test_image.shape)"
   ]
  },
  {
   "cell_type": "code",
   "execution_count": 46,
   "metadata": {
    "ExecuteTime": {
     "end_time": "2019-03-23T13:26:07.356496Z",
     "start_time": "2019-03-23T13:26:07.040482Z"
    }
   },
   "outputs": [
    {
     "name": "stdout",
     "output_type": "stream",
     "text": [
      "[[0.0000000e+00 8.9173445e-18 8.5642241e-13 1.0000000e+00]]\n",
      "[3]\n",
      "[[0. 0. 1. 0.]]\n"
     ]
    }
   ],
   "source": [
    "print(model.predict(test_image))\n",
    "print(model.predict_classes(test_image))\n",
    "print(y_test[0:1])"
   ]
  },
  {
   "cell_type": "markdown",
   "metadata": {},
   "source": [
    "#### Predict and compute the confusion matrix"
   ]
  },
  {
   "cell_type": "code",
   "execution_count": 47,
   "metadata": {
    "ExecuteTime": {
     "end_time": "2019-03-23T13:26:30.698009Z",
     "start_time": "2019-03-23T13:26:10.952572Z"
    }
   },
   "outputs": [
    {
     "name": "stdout",
     "output_type": "stream",
     "text": [
      "[[0.00000000e+00 8.91758272e-18 8.56448593e-13 1.00000000e+00]\n",
      " [5.30521735e-04 1.47822229e-02 9.84687269e-01 3.81206091e-12]\n",
      " [9.21129942e-01 7.24228770e-02 6.28599478e-03 1.61054253e-04]\n",
      " [1.00000000e+00 1.27282538e-12 2.32416551e-11 4.80446849e-10]\n",
      " [6.22191001e-03 1.28759382e-06 8.45864542e-06 9.93768334e-01]\n",
      " [0.00000000e+00 0.00000000e+00 1.00000000e+00 0.00000000e+00]\n",
      " [2.23762039e-02 1.02568559e-01 6.30906579e-05 8.74992132e-01]\n",
      " [1.09940171e-01 2.26628873e-02 8.59240055e-01 8.15691240e-03]\n",
      " [2.48144582e-01 2.77482748e-01 5.24360761e-02 4.21936572e-01]\n",
      " [5.22779152e-02 9.47721481e-01 4.82575793e-08 5.81932454e-07]\n",
      " [1.88878238e-01 8.10762584e-01 9.47565525e-07 3.58218822e-04]\n",
      " [4.90380824e-02 3.99346173e-01 1.21830329e-01 4.29785430e-01]\n",
      " [5.28814942e-26 9.16673782e-27 1.00000000e+00 3.52590688e-26]\n",
      " [3.08115485e-14 8.80966581e-06 7.16346578e-13 9.99991179e-01]\n",
      " [2.06314235e-05 1.27548715e-02 1.34089321e-04 9.87090409e-01]\n",
      " [1.62029479e-09 3.20209394e-04 9.99679685e-01 9.52972030e-08]\n",
      " [2.67503113e-01 2.18688220e-01 1.61491662e-05 5.13792515e-01]\n",
      " [3.57756168e-02 8.54639351e-01 5.57571184e-04 1.09027475e-01]\n",
      " [1.09884755e-21 8.66100288e-19 1.38986392e-20 1.00000000e+00]\n",
      " [9.99466002e-01 2.54986764e-25 5.33998129e-04 0.00000000e+00]\n",
      " [2.03929463e-04 9.99760211e-01 3.15119486e-08 3.58871330e-05]\n",
      " [9.99877334e-01 1.19181481e-04 3.10681025e-06 3.21507940e-07]\n",
      " [0.00000000e+00 1.00000000e+00 0.00000000e+00 0.00000000e+00]\n",
      " [9.97634888e-01 2.20281945e-05 2.33334070e-03 9.79512697e-06]\n",
      " [2.56798402e-11 5.05502999e-01 4.94496971e-01 2.79361352e-08]\n",
      " [9.99999762e-01 2.70716015e-07 8.57065696e-10 1.87148697e-08]\n",
      " [5.66061795e-01 2.68872641e-02 1.67451903e-01 2.39599019e-01]\n",
      " [2.60994479e-04 3.55785429e-01 1.88039348e-01 4.55914319e-01]\n",
      " [1.87583006e-04 9.55176473e-01 4.45432402e-02 9.27679939e-05]\n",
      " [3.94462063e-09 6.68131406e-06 5.51677759e-10 9.99993324e-01]\n",
      " [9.99939084e-01 7.66181476e-12 6.08754744e-05 2.06504680e-08]\n",
      " [2.87746643e-05 9.99951720e-01 1.95575831e-05 7.76030542e-12]\n",
      " [6.20044826e-18 1.90086489e-08 1.00000000e+00 4.26704853e-33]\n",
      " [4.41217260e-15 3.91635558e-06 9.99996066e-01 1.55834199e-15]\n",
      " [9.99561131e-01 1.65128396e-04 2.70841905e-04 2.89666741e-06]\n",
      " [9.99998569e-01 1.98989256e-18 1.85624537e-22 1.39690394e-06]\n",
      " [9.38379943e-01 5.74203171e-02 4.08872915e-03 1.11039350e-04]\n",
      " [1.45488977e-01 8.70952476e-03 2.27894293e-06 8.45799208e-01]\n",
      " [2.98353354e-03 5.69655597e-01 4.27359879e-01 8.51335415e-07]\n",
      " [3.08204011e-29 3.02020289e-37 1.00000000e+00 2.10415772e-23]\n",
      " [8.49108584e-03 9.91501331e-01 5.09029173e-11 7.61794308e-06]\n",
      " [3.65904320e-08 9.99987483e-01 6.49892293e-11 1.24936505e-05]\n",
      " [1.11196104e-22 1.00000000e+00 1.11077335e-23 2.17539491e-15]\n",
      " [5.09053767e-01 3.14924091e-01 1.46974658e-03 1.74552366e-01]\n",
      " [9.82150137e-01 1.34593965e-02 3.73118183e-07 4.39008884e-03]\n",
      " [2.61801830e-03 9.97381985e-01 2.78752754e-08 3.65773904e-12]\n",
      " [9.31406379e-01 6.63015768e-02 1.54380314e-03 7.48263265e-04]\n",
      " [1.00000000e+00 3.40000181e-11 2.64504283e-14 5.18198607e-28]\n",
      " [2.27331370e-07 4.80896823e-14 9.99999762e-01 8.71705290e-26]\n",
      " [1.00755552e-03 9.93974149e-01 5.01676369e-03 1.58510488e-06]\n",
      " [1.91889351e-13 9.91840482e-01 8.15458037e-03 4.92572190e-06]\n",
      " [1.46864943e-06 1.44684233e-03 2.46447183e-08 9.98551667e-01]\n",
      " [1.57682654e-14 1.00000000e+00 3.30232230e-11 4.83016650e-18]\n",
      " [1.57637373e-06 9.98776734e-01 6.95684634e-04 5.25964831e-04]\n",
      " [1.59909141e-05 3.58455442e-03 9.96395528e-01 3.88952230e-06]\n",
      " [9.29293601e-05 9.99907017e-01 2.08944853e-35 0.00000000e+00]\n",
      " [1.96151770e-13 1.00000000e+00 9.70159597e-09 5.08274889e-12]\n",
      " [5.83134058e-33 2.90272698e-23 1.00000000e+00 5.54094088e-18]\n",
      " [5.16568795e-02 7.83009231e-01 1.23409897e-01 4.19240147e-02]\n",
      " [9.99997616e-01 2.35548782e-06 6.58690080e-09 3.08824277e-09]\n",
      " [2.04008458e-07 7.28394911e-02 2.25124808e-07 9.27160084e-01]\n",
      " [8.62273213e-04 9.99137640e-01 4.08889061e-10 1.85317678e-10]\n",
      " [9.68210101e-02 8.04566026e-01 9.85786095e-02 3.44100517e-05]\n",
      " [1.87494837e-08 8.43389034e-01 1.56197190e-01 4.13689646e-04]\n",
      " [9.96279061e-01 9.00729356e-05 3.63086723e-03 5.05836084e-09]\n",
      " [7.06316411e-01 2.20306799e-01 5.40892184e-02 1.92875843e-02]\n",
      " [8.24735820e-01 1.48502737e-01 1.02762301e-02 1.64852869e-02]\n",
      " [5.42289371e-27 1.85873360e-16 1.00000000e+00 0.00000000e+00]\n",
      " [2.26396608e-07 6.24409086e-06 3.99823195e-11 9.99993563e-01]\n",
      " [2.26556534e-11 8.94403085e-02 9.10559714e-01 1.53839221e-29]\n",
      " [1.00000000e+00 4.67520987e-12 1.83182731e-08 9.06889364e-13]\n",
      " [2.13082063e-09 1.65001571e-03 9.98349667e-01 3.07225292e-07]\n",
      " [4.81177047e-02 5.24118915e-02 5.27920052e-02 8.46678436e-01]\n",
      " [2.89753675e-01 7.10137963e-01 3.78399498e-08 1.08307468e-04]\n",
      " [9.77702152e-19 8.61357513e-11 1.08381563e-27 1.00000000e+00]\n",
      " [1.16901682e-03 7.42414923e-05 9.98594224e-01 1.62532539e-04]\n",
      " [8.01111162e-01 1.68826297e-01 2.57396437e-02 4.32291301e-03]\n",
      " [7.86439332e-34 5.89805464e-25 1.66856480e-28 1.00000000e+00]\n",
      " [1.01486228e-01 4.67054904e-01 3.21734906e-03 4.28241491e-01]\n",
      " [1.63943481e-09 4.51882212e-11 1.22228057e-14 1.00000000e+00]\n",
      " [1.60841107e-01 7.93959558e-01 8.61513945e-06 4.51907925e-02]\n",
      " [9.98903036e-01 9.96879680e-05 9.97153576e-04 1.72689681e-07]\n",
      " [3.01890075e-01 1.74962461e-01 3.83210921e-04 5.22764266e-01]\n",
      " [4.08133965e-05 1.04562446e-01 4.69131827e-08 8.95396709e-01]\n",
      " [7.76503040e-09 3.17915894e-14 1.00000000e+00 1.32318873e-30]\n",
      " [2.51148582e-01 3.79594028e-01 8.01130012e-03 3.61246109e-01]\n",
      " [3.26836988e-31 1.00000000e+00 1.25898163e-33 0.00000000e+00]\n",
      " [6.18130329e-08 6.99406415e-02 4.83265670e-04 9.29575980e-01]\n",
      " [6.14634575e-21 1.00000000e+00 2.26404575e-16 2.88453894e-21]\n",
      " [1.54710597e-05 9.99150276e-01 8.34150764e-04 1.28505434e-07]\n",
      " [1.17167760e-11 9.99706924e-01 2.93027872e-04 6.47385923e-10]\n",
      " [3.06025028e-01 5.18585265e-01 9.18804407e-02 8.35092515e-02]\n",
      " [8.31903313e-14 2.73838374e-08 1.60739477e-12 1.00000000e+00]\n",
      " [9.59947720e-05 1.18008663e-03 9.98723924e-01 4.76978173e-08]\n",
      " [3.35652253e-18 1.38108036e-12 5.86463929e-13 1.00000000e+00]\n",
      " [1.68633256e-02 9.35824573e-01 4.70488630e-02 2.63135647e-04]\n",
      " [3.35203633e-15 5.38511770e-12 1.00000000e+00 1.91253751e-28]\n",
      " [1.50325004e-14 9.95839287e-08 9.99999881e-01 8.91923868e-09]\n",
      " [5.51644346e-37 2.29586883e-31 1.00000000e+00 1.50031108e-33]\n",
      " [1.57050649e-03 5.83381578e-03 1.07215688e-04 9.92488503e-01]\n",
      " [3.56522715e-03 9.88584399e-01 7.85000995e-03 3.78904303e-07]\n",
      " [3.55996565e-30 9.99007165e-01 3.88789241e-14 9.92911635e-04]\n",
      " [1.43301964e-01 3.62532645e-01 4.02371176e-02 4.53928262e-01]\n",
      " [6.30722254e-12 4.00488951e-15 1.00000000e+00 5.71848117e-20]\n",
      " [6.52426541e-01 3.21036726e-01 2.47364044e-02 1.80036551e-03]\n",
      " [2.74858121e-06 2.18208074e-09 9.99992847e-01 4.38513871e-06]\n",
      " [2.86998202e-05 5.45674026e-01 4.53946620e-01 3.50679620e-04]\n",
      " [5.98674281e-14 1.00000000e+00 5.84305437e-10 3.23933014e-09]\n",
      " [2.57445663e-01 2.91986823e-01 3.77301514e-01 7.32660517e-02]\n",
      " [4.91883146e-14 3.67368713e-09 9.99999523e-01 4.58723321e-07]\n",
      " [2.56522673e-23 7.12499721e-12 1.00000000e+00 7.04042500e-21]\n",
      " [1.39776427e-10 1.31825445e-05 1.30153388e-09 9.99986768e-01]\n",
      " [2.73029087e-03 7.30848387e-02 2.74140446e-04 9.23910737e-01]\n",
      " [9.06881038e-03 2.40828454e-01 1.07667781e-02 7.39335954e-01]\n",
      " [6.93600345e-03 7.43431551e-03 9.85629618e-01 3.89961896e-10]\n",
      " [8.25467851e-07 9.99999166e-01 9.81207650e-12 7.74160250e-12]\n",
      " [2.85254949e-08 1.20012892e-05 9.87613435e-10 9.99987960e-01]\n",
      " [9.29293601e-05 9.99907017e-01 2.08944853e-35 0.00000000e+00]\n",
      " [8.20219991e-19 4.74603603e-12 1.54601225e-18 1.00000000e+00]\n",
      " [1.44151726e-03 7.69110471e-02 5.80429158e-04 9.21066940e-01]\n",
      " [1.33544132e-01 1.11565205e-05 8.66441786e-01 2.90150069e-06]\n",
      " [5.19991065e-19 1.05692551e-27 1.00000000e+00 4.59280796e-35]\n",
      " [3.55996565e-30 9.99007165e-01 3.88789241e-14 9.92911635e-04]\n",
      " [4.66482817e-07 3.80228557e-05 9.99851465e-01 1.10025409e-04]\n",
      " [2.79767221e-07 2.57844055e-16 9.99999762e-01 9.82250886e-35]\n",
      " [9.99981403e-01 1.08622666e-09 1.86195266e-05 2.67401407e-10]\n",
      " [2.23518289e-19 1.00000000e+00 2.47273087e-11 2.72790146e-22]\n",
      " [2.71619285e-24 1.16968848e-01 8.83031189e-01 2.92950460e-19]\n",
      " [9.99958396e-01 4.13783382e-05 2.45025745e-07 6.00875794e-13]\n",
      " [6.71567832e-05 4.69501801e-02 1.44404289e-03 9.51538563e-01]\n",
      " [2.03065320e-25 1.00000000e+00 2.25804334e-23 1.96675902e-24]\n",
      " [4.51689128e-15 4.09026762e-13 7.29742548e-16 1.00000000e+00]\n",
      " [2.29244888e-01 5.10667205e-01 2.27339402e-01 3.27484831e-02]\n",
      " [3.28467667e-01 5.04671991e-01 2.74079014e-02 1.39452517e-01]\n",
      " [1.96007282e-01 3.34504724e-01 2.24640705e-02 4.47023839e-01]\n",
      " [4.89447173e-03 2.31660078e-06 9.30939436e-01 6.41637668e-02]\n",
      " [1.71896303e-10 3.30890925e-03 3.14103849e-02 9.65280712e-01]\n",
      " [5.17449399e-36 9.99716938e-01 2.82982684e-04 3.02095184e-28]\n",
      " [5.56863308e-01 3.35764945e-01 7.94571708e-04 1.06577270e-01]\n",
      " [9.98089254e-01 1.10332769e-06 1.90962292e-03 1.51760776e-16]\n",
      " [1.15840808e-02 9.37826559e-03 9.79037642e-01 8.89436136e-10]\n",
      " [1.35495820e-05 2.48458213e-03 1.59749176e-11 9.97501910e-01]\n",
      " [8.01579282e-02 1.05440259e-01 8.01212564e-02 7.34280527e-01]\n",
      " [2.85645396e-01 5.49919419e-02 5.26563032e-03 6.54097021e-01]\n",
      " [9.86580062e-07 3.13281897e-04 2.52990692e-04 9.99432743e-01]\n",
      " [1.72578711e-02 9.58626270e-01 1.98584792e-04 2.39171553e-02]\n",
      " [2.59806979e-02 1.48545206e-01 4.20109332e-02 7.83463120e-01]\n",
      " [4.41467063e-35 1.00000000e+00 2.67299793e-10 1.54315733e-22]\n",
      " [1.09185976e-06 4.03085165e-02 1.47174916e-07 9.59690213e-01]\n",
      " [1.96881130e-01 8.03027749e-01 8.66795672e-05 4.54141991e-06]\n",
      " [6.42591488e-07 9.99945283e-01 1.29808916e-06 5.28522396e-05]\n",
      " [5.87935938e-05 9.92982149e-01 2.11615657e-06 6.95689814e-03]\n",
      " [4.49518894e-12 9.99897122e-01 1.02860053e-04 6.98326420e-14]\n",
      " [3.68325561e-01 3.84334624e-01 9.10109840e-03 2.38238782e-01]\n",
      " [1.00000000e+00 5.05625042e-10 1.05909632e-13 4.84439008e-12]\n",
      " [1.16448069e-08 7.10616112e-01 9.60379748e-06 2.89374322e-01]\n",
      " [1.15434851e-09 2.50139919e-06 9.19946519e-09 9.99997497e-01]\n",
      " [3.75740938e-10 9.99954820e-01 4.51829983e-05 4.14635644e-12]\n",
      " [1.28127098e-01 8.71640503e-01 2.32204358e-04 1.61970377e-07]\n",
      " [0.00000000e+00 4.96328759e-33 1.00000000e+00 1.59183873e-37]\n",
      " [1.75682902e-01 5.03990769e-01 1.76168934e-01 1.44157365e-01]\n",
      " [1.52683283e-10 1.00000000e+00 3.90509092e-09 4.38759733e-13]]\n"
     ]
    }
   ],
   "source": [
    "from sklearn.metrics import confusion_matrix\n",
    "\n",
    "Y_pred = model.predict(X_test)\n",
    "print(Y_pred)"
   ]
  },
  {
   "cell_type": "code",
   "execution_count": 48,
   "metadata": {
    "ExecuteTime": {
     "end_time": "2019-03-23T13:26:35.090182Z",
     "start_time": "2019-03-23T13:26:35.084405Z"
    }
   },
   "outputs": [
    {
     "name": "stdout",
     "output_type": "stream",
     "text": [
      "[3 2 0 0 3 2 3 2 3 1 1 3 2 3 3 2 3 1 3 0 1 0 1 0 1 0 0 3 1 3 0 1 2 2 0 0 0\n",
      " 3 1 2 1 1 1 0 0 1 0 0 2 1 1 3 1 1 2 1 1 2 1 0 3 1 1 1 0 0 0 2 3 2 0 2 3 1\n",
      " 3 2 0 3 1 3 1 0 3 3 2 1 1 3 1 1 1 1 3 2 3 1 2 2 2 3 1 1 3 2 0 2 1 1 2 2 2\n",
      " 3 3 3 2 1 3 1 3 3 2 2 1 2 2 0 1 2 0 3 1 3 1 1 3 2 3 1 0 0 2 3 3 3 3 1 3 1\n",
      " 3 1 1 1 1 1 0 1 3 1 1 2 1 1]\n"
     ]
    }
   ],
   "source": [
    "y_pred = np.argmax(Y_pred, axis=1)\n",
    "print(y_pred)"
   ]
  },
  {
   "cell_type": "code",
   "execution_count": 50,
   "metadata": {
    "ExecuteTime": {
     "end_time": "2019-03-23T13:26:41.400496Z",
     "start_time": "2019-03-23T13:26:41.325198Z"
    }
   },
   "outputs": [
    {
     "name": "stdout",
     "output_type": "stream",
     "text": [
      "[[ 8 21  5  7]\n",
      " [13 19  3  5]\n",
      " [ 2  6 23  2]\n",
      " [ 5 11  3 29]]\n"
     ]
    }
   ],
   "source": [
    "print(confusion_matrix(np.argmax(y_test, axis=1), y_pred))"
   ]
  },
  {
   "cell_type": "markdown",
   "metadata": {},
   "source": [
    "#### Saving and loading model and weights"
   ]
  },
  {
   "cell_type": "code",
   "execution_count": 49,
   "metadata": {
    "ExecuteTime": {
     "end_time": "2019-03-23T13:26:38.258568Z",
     "start_time": "2019-03-23T13:26:38.253496Z"
    }
   },
   "outputs": [],
   "source": [
    "from keras.models import model_from_json, load_model"
   ]
  },
  {
   "cell_type": "code",
   "execution_count": 51,
   "metadata": {
    "ExecuteTime": {
     "end_time": "2019-03-23T13:26:44.646198Z",
     "start_time": "2019-03-23T13:26:44.412858Z"
    }
   },
   "outputs": [],
   "source": [
    "# Serialize model to JSON\n",
    "model_json = model.to_json()\n",
    "with open(\"model.json\", \"w\") as json_file:\n",
    "    json_file.write(model_json)\n",
    "\n",
    "# Serialize weights to HDF5\n",
    "model.save_weights(\"model.h5\")"
   ]
  },
  {
   "cell_type": "code",
   "execution_count": 52,
   "metadata": {
    "ExecuteTime": {
     "end_time": "2019-03-23T13:26:48.909821Z",
     "start_time": "2019-03-23T13:26:47.723265Z"
    }
   },
   "outputs": [],
   "source": [
    "# Load json and create model\n",
    "json_file = open('model.json', 'r')\n",
    "loaded_model_json = json_file.read()\n",
    "json_file.close()\n",
    "loaded_model = model_from_json(loaded_model_json)\n",
    "\n",
    "# Load weights into new model\n",
    "loaded_model.load_weights(\"model.h5\")"
   ]
  },
  {
   "cell_type": "code",
   "execution_count": 53,
   "metadata": {
    "ExecuteTime": {
     "end_time": "2019-03-23T13:26:53.793619Z",
     "start_time": "2019-03-23T13:26:52.041376Z"
    }
   },
   "outputs": [],
   "source": [
    "model.save('model.hdf5')\n",
    "loaded_model = load_model('model.hdf5')"
   ]
  },
  {
   "cell_type": "markdown",
   "metadata": {},
   "source": [
    "## Image Augmentation using ImageDataGenerator class"
   ]
  },
  {
   "cell_type": "markdown",
   "metadata": {},
   "source": [
    "__ImageDataGenerator__\n",
    "\n",
    "    Generates batches of tensor image data with real-time data augmentation."
   ]
  },
  {
   "cell_type": "raw",
   "metadata": {},
   "source": [
    "keras.preprocessing.image.ImageDataGenerator(...)\n",
    "\n",
    "Few frequently used parameters:\n",
    "\n",
    "    rotation_range: Int. Degree range for random rotations.\n",
    "    width_shift_range: Float, 1-D array-like or int\n",
    "    height_shift_range: Float, 1-D array-like or int\n",
    "    shear_range: Float. Shear Intensity (Shear angle in counter-clockwise direction in degrees)\n",
    "    zoom_range: Float or [lower, upper]. Range for random zoom. \n",
    "    horizontal_flip: Boolean. Randomly flip inputs horizontally.\n",
    "    vertical_flip: Boolean. Randomly flip inputs vertically.\n",
    "    rescale: rescaling factor.If None or 0, no rescaling is applied, otherwise we multiply the data by the value provided (before applying any other transformation).\n",
    "    validation_split: Float. Fraction of images reserved for validation (strictly between 0 and 1)."
   ]
  },
  {
   "cell_type": "markdown",
   "metadata": {},
   "source": [
    "#### Create the Image Data Generator"
   ]
  },
  {
   "cell_type": "code",
   "execution_count": 54,
   "metadata": {
    "ExecuteTime": {
     "end_time": "2019-03-23T13:26:56.664104Z",
     "start_time": "2019-03-23T13:26:56.653452Z"
    }
   },
   "outputs": [],
   "source": [
    "from keras.preprocessing.image import ImageDataGenerator\n",
    "\n",
    "data_gen = ImageDataGenerator(\n",
    "    rotation_range=20,\n",
    "    shear_range=0.5, \n",
    "    zoom_range=0.4, \n",
    "    rescale=1./255,\n",
    "    vertical_flip=True, \n",
    "    validation_split=0.2,\n",
    "    width_shift_range=0.2,\n",
    "    height_shift_range=0.2,\n",
    "    horizontal_flip=True) "
   ]
  },
  {
   "cell_type": "markdown",
   "metadata": {},
   "source": [
    "Path to save Augmented Images"
   ]
  },
  {
   "cell_type": "code",
   "execution_count": 55,
   "metadata": {
    "ExecuteTime": {
     "end_time": "2019-03-23T13:26:59.536423Z",
     "start_time": "2019-03-23T13:26:59.531579Z"
    }
   },
   "outputs": [],
   "source": [
    "TRN_AUGMENTED = os.path.join(PATH , 'Trn_Augmented_Images')\n",
    "TST_AUGMENTED = os.path.join(PATH , 'Tst_Augmented_Images')"
   ]
  },
  {
   "cell_type": "markdown",
   "metadata": {},
   "source": [
    "#### 1. Using .flow "
   ]
  },
  {
   "cell_type": "markdown",
   "metadata": {},
   "source": [
    "#### flow:\n",
    "    Takes data & label arrays, generates batches of augmented data."
   ]
  },
  {
   "cell_type": "markdown",
   "metadata": {},
   "source": [
    "_keras.preprocessing.image.flow_(...)\n",
    "    \n",
    "Some frequently used parameters:\n",
    "\n",
    "    x     : Input data. Numpy array of rank 4 or a tuple. \n",
    "    y     : Labels.\n",
    "    subset: Subset of data (\"training\" or \"validation\") if  validation_split is set in ImageDataGenerator.\n",
    "    "
   ]
  },
  {
   "cell_type": "markdown",
   "metadata": {},
   "source": [
    "Use flow() to generate Train images in batches."
   ]
  },
  {
   "cell_type": "code",
   "execution_count": 56,
   "metadata": {
    "ExecuteTime": {
     "end_time": "2019-03-23T13:27:02.224392Z",
     "start_time": "2019-03-23T13:27:02.217621Z"
    }
   },
   "outputs": [],
   "source": [
    "ftrain_generator = data_gen.flow(\n",
    "        X_train,\n",
    "        y_train,\n",
    "        batch_size=batch_size, \n",
    "        shuffle=True,  \n",
    "        subset=\"training\")"
   ]
  },
  {
   "cell_type": "markdown",
   "metadata": {},
   "source": [
    "Use flow() to generate Test images in batches."
   ]
  },
  {
   "cell_type": "code",
   "execution_count": 57,
   "metadata": {
    "ExecuteTime": {
     "end_time": "2019-03-23T13:27:05.152975Z",
     "start_time": "2019-03-23T13:27:05.147962Z"
    }
   },
   "outputs": [],
   "source": [
    "ftest_generator = data_gen.flow(\n",
    "        X_test,\n",
    "        y_test,\n",
    "        batch_size=batch_size, \n",
    "        shuffle=True,  \n",
    "        subset=\"validation\")"
   ]
  },
  {
   "cell_type": "markdown",
   "metadata": {},
   "source": [
    "Fit the model using fit_generator() function and using the augmented images generated by flow() function "
   ]
  },
  {
   "cell_type": "markdown",
   "metadata": {},
   "source": [
    "#### fit_generator:\n",
    "    Trains the model on data generated batch-by-batch by a Python generator (or an instance of Sequence).\n",
    "    The generator is run in parallel to the model, for efficiency. For instance, this allows you to do real-time \n",
    "    data augmentation on images on CPU in parallel to training your model on GPU."
   ]
  },
  {
   "cell_type": "code",
   "execution_count": 66,
   "metadata": {
    "ExecuteTime": {
     "end_time": "2019-03-23T13:33:28.406058Z",
     "start_time": "2019-03-23T13:33:28.403704Z"
    }
   },
   "outputs": [],
   "source": [
    "num_epoch=5"
   ]
  },
  {
   "cell_type": "code",
   "execution_count": null,
   "metadata": {
    "ExecuteTime": {
     "start_time": "2019-03-23T13:33:29.143Z"
    }
   },
   "outputs": [
    {
     "name": "stdout",
     "output_type": "stream",
     "text": [
      "Epoch 1/5\n"
     ]
    }
   ],
   "source": [
    "model.fit_generator(ftrain_generator, epochs = num_epoch, validation_data=ftest_generator, steps_per_epoch=10, validation_steps=5)\n"
   ]
  },
  {
   "cell_type": "markdown",
   "metadata": {},
   "source": [
    "Evaluate the model"
   ]
  },
  {
   "cell_type": "code",
   "execution_count": null,
   "metadata": {
    "ExecuteTime": {
     "end_time": "2019-03-23T13:27:08.238785Z",
     "start_time": "2019-03-23T11:15:07.350Z"
    }
   },
   "outputs": [],
   "source": [
    "model.evaluate_generator(ftest_generator, verbose=1)"
   ]
  },
  {
   "cell_type": "markdown",
   "metadata": {},
   "source": [
    "Predict on the augmented test set"
   ]
  },
  {
   "cell_type": "code",
   "execution_count": null,
   "metadata": {
    "ExecuteTime": {
     "end_time": "2019-03-23T13:27:08.240957Z",
     "start_time": "2019-03-23T11:15:08.190Z"
    }
   },
   "outputs": [],
   "source": [
    "train_fdata_predict = model.predict_generator(ftest_generator, verbose=1)"
   ]
  },
  {
   "cell_type": "markdown",
   "metadata": {},
   "source": [
    "Find the value of Classes of augmented test set"
   ]
  },
  {
   "cell_type": "code",
   "execution_count": null,
   "metadata": {
    "ExecuteTime": {
     "end_time": "2019-03-23T13:27:08.243598Z",
     "start_time": "2019-03-23T11:15:09.166Z"
    },
    "scrolled": true
   },
   "outputs": [],
   "source": [
    "train_fdata_predict.argmax(axis=-1)"
   ]
  },
  {
   "cell_type": "markdown",
   "metadata": {},
   "source": [
    "#### Predict and compute the confusion matrix"
   ]
  },
  {
   "cell_type": "code",
   "execution_count": null,
   "metadata": {
    "ExecuteTime": {
     "end_time": "2019-03-23T13:27:08.298223Z",
     "start_time": "2019-03-23T11:15:12.716Z"
    }
   },
   "outputs": [],
   "source": [
    "Y_pred = model.predict(X_test)\n",
    "print(Y_pred)"
   ]
  },
  {
   "cell_type": "code",
   "execution_count": null,
   "metadata": {
    "ExecuteTime": {
     "end_time": "2019-03-23T13:27:08.314974Z",
     "start_time": "2019-03-23T11:15:15.163Z"
    }
   },
   "outputs": [],
   "source": [
    "y_pred = np.argmax(Y_pred, axis=1)\n",
    "print(y_pred)"
   ]
  },
  {
   "cell_type": "code",
   "execution_count": null,
   "metadata": {
    "ExecuteTime": {
     "end_time": "2019-03-23T13:27:08.330015Z",
     "start_time": "2019-03-23T11:15:16.061Z"
    }
   },
   "outputs": [],
   "source": [
    "print(confusion_matrix(np.argmax(y_test, axis=1), y_pred))"
   ]
  },
  {
   "cell_type": "markdown",
   "metadata": {},
   "source": [
    "#### 2. Using flow_from_directory()"
   ]
  },
  {
   "cell_type": "markdown",
   "metadata": {},
   "source": [
    "#### flow_from_directory:\n",
    "    Takes the path to a directory & generates batches of augmented data."
   ]
  },
  {
   "cell_type": "markdown",
   "metadata": {},
   "source": [
    "keras.preprocessing.image.flow_from_directory(...)\n",
    "    \n",
    "        directory: Path to the target directory. \n",
    "        target_size: The dimensions to which all images found will be resized e.g.(256, 256).\n",
    "        color_mode: One of \"grayscale\", \"rbg\". Default: \"rgb\". \n",
    "        class_mode:Determines the type of label arrays that are returned:m\n",
    "        batch_size: Size of the batches of data (default: 32).\n",
    "        shuffle: Whether to shuffle the data (default: True)\n",
    "        save_to_dir:This allows you to optionally specify a directory to which to save the augmented pictures \n",
    "        being generated.\n",
    "        save_prefix: Str. Prefix to use for filenames of saved pictures.\n",
    "        save_format: One of \"png\", \"jpeg\".\n",
    "        subset: Subset of data (\"training\" or \"validation\") if  validation_split is set in ImageDataGenerator."
   ]
  },
  {
   "cell_type": "markdown",
   "metadata": {},
   "source": [
    "Read training Images in batches for Image Augmentation"
   ]
  },
  {
   "cell_type": "code",
   "execution_count": null,
   "metadata": {
    "ExecuteTime": {
     "end_time": "2019-03-23T13:27:08.353238Z",
     "start_time": "2019-03-23T11:15:52.540Z"
    }
   },
   "outputs": [],
   "source": [
    "train_generator = data_gen.flow_from_directory(\n",
    "        DATA_PATH,\n",
    "        target_size=(img_rows, img_cols), \n",
    "        batch_size=batch_size,\n",
    "        class_mode='categorical',\n",
    "        color_mode='rgb', \n",
    "        shuffle=True,  \n",
    "        save_to_dir=TRN_AUGMENTED, \n",
    "        save_prefix='TrainAugmented', \n",
    "        save_format='png', \n",
    "        subset=\"training\")"
   ]
  },
  {
   "cell_type": "markdown",
   "metadata": {},
   "source": [
    "Classes will be automatically assigned based on the folder structure"
   ]
  },
  {
   "cell_type": "code",
   "execution_count": null,
   "metadata": {
    "ExecuteTime": {
     "end_time": "2019-03-23T13:27:08.377042Z",
     "start_time": "2019-03-23T11:15:53.485Z"
    }
   },
   "outputs": [],
   "source": [
    "train_generator.class_indices"
   ]
  },
  {
   "cell_type": "markdown",
   "metadata": {},
   "source": [
    "Read testing Images in batches for Image Augmentation \n",
    "\n",
    "\n",
    "\n",
    "_Note_: \n",
    "\n",
    "    In real situations test data images if augmentation is not required, since we need the original image for prediction \n",
    "    Use ImageDatagenerator class only for standardization as commented below:\n",
    "    testdatagen = ImageDataGenerator(rescale=1./255) only for test data  "
   ]
  },
  {
   "cell_type": "code",
   "execution_count": null,
   "metadata": {
    "ExecuteTime": {
     "end_time": "2019-03-23T13:27:08.394937Z",
     "start_time": "2019-03-23T11:15:57.866Z"
    }
   },
   "outputs": [],
   "source": [
    "test_generator = data_gen.flow_from_directory(\n",
    "        DATA_PATH,\n",
    "        target_size=(img_rows, img_cols),\n",
    "        batch_size=32,\n",
    "        class_mode='categorical',\n",
    "        color_mode='rgb', \n",
    "        shuffle=True, \n",
    "        seed=None, \n",
    "        save_to_dir=TST_AUGMENTED, \n",
    "        save_prefix='TestAugmented', \n",
    "        save_format='png',\n",
    "        subset=\"validation\")"
   ]
  },
  {
   "cell_type": "code",
   "execution_count": null,
   "metadata": {
    "ExecuteTime": {
     "end_time": "2019-03-23T13:27:08.396653Z",
     "start_time": "2019-03-23T11:15:57.923Z"
    }
   },
   "outputs": [],
   "source": [
    "test_generator.class_indices"
   ]
  },
  {
   "cell_type": "markdown",
   "metadata": {},
   "source": [
    "Fit the model"
   ]
  },
  {
   "cell_type": "code",
   "execution_count": null,
   "metadata": {
    "ExecuteTime": {
     "end_time": "2019-03-23T13:27:08.397996Z",
     "start_time": "2019-03-23T11:15:58.433Z"
    }
   },
   "outputs": [],
   "source": [
    "model.fit_generator(train_generator, epochs=num_epoch, validation_data=test_generator)"
   ]
  },
  {
   "cell_type": "markdown",
   "metadata": {},
   "source": [
    "#### Evaluate the model \n",
    "\n",
    "Use evaluate_generator"
   ]
  },
  {
   "cell_type": "code",
   "execution_count": null,
   "metadata": {
    "ExecuteTime": {
     "end_time": "2019-03-23T13:27:08.399671Z",
     "start_time": "2019-03-23T11:15:58.859Z"
    }
   },
   "outputs": [],
   "source": [
    "fd_model_evaluate = model.evaluate_generator(test_generator, verbose=1)"
   ]
  },
  {
   "cell_type": "code",
   "execution_count": null,
   "metadata": {
    "ExecuteTime": {
     "end_time": "2019-03-23T13:27:08.401735Z",
     "start_time": "2019-03-23T11:15:58.942Z"
    }
   },
   "outputs": [],
   "source": [
    "print(\"Loss: \", fd_model_evaluate[0], \"Accuracy: \", fd_model_evaluate[1])"
   ]
  },
  {
   "cell_type": "markdown",
   "metadata": {},
   "source": [
    "##### Predict \n",
    "\n",
    "Using predict_generator:\n",
    "    \n",
    "    Generates predictions for the input samples from a data generator."
   ]
  },
  {
   "cell_type": "code",
   "execution_count": null,
   "metadata": {
    "ExecuteTime": {
     "end_time": "2019-03-23T13:27:08.404311Z",
     "start_time": "2019-03-23T11:15:59.500Z"
    }
   },
   "outputs": [],
   "source": [
    "fd_model_predict = model.predict_generator(test_generator, verbose=1)"
   ]
  },
  {
   "cell_type": "code",
   "execution_count": null,
   "metadata": {
    "ExecuteTime": {
     "end_time": "2019-03-23T13:27:08.406553Z",
     "start_time": "2019-03-23T11:15:59.784Z"
    }
   },
   "outputs": [],
   "source": [
    "#Predict the classes of Validation data\n",
    "\n",
    "fd_model_predict.argmax(axis=-1)"
   ]
  },
  {
   "cell_type": "code",
   "execution_count": null,
   "metadata": {},
   "outputs": [],
   "source": []
  },
  {
   "cell_type": "code",
   "execution_count": null,
   "metadata": {},
   "outputs": [],
   "source": []
  },
  {
   "cell_type": "markdown",
   "metadata": {},
   "source": [
    "# Transfer Learning "
   ]
  },
  {
   "cell_type": "markdown",
   "metadata": {},
   "source": [
    "##### VGG Architecture"
   ]
  },
  {
   "cell_type": "code",
   "execution_count": null,
   "metadata": {
    "ExecuteTime": {
     "end_time": "2019-03-23T13:27:08.497976Z",
     "start_time": "2019-03-23T11:40:34.900Z"
    }
   },
   "outputs": [],
   "source": [
    "from IPython.display import Image\n",
    "Image(filename='vgg16.png')"
   ]
  },
  {
   "cell_type": "code",
   "execution_count": null,
   "metadata": {
    "ExecuteTime": {
     "end_time": "2019-03-23T13:27:08.499064Z",
     "start_time": "2019-03-23T11:40:34.908Z"
    }
   },
   "outputs": [],
   "source": [
    "from keras.layers import Input, Dense"
   ]
  },
  {
   "cell_type": "code",
   "execution_count": null,
   "metadata": {
    "ExecuteTime": {
     "end_time": "2019-03-23T13:27:08.500481Z",
     "start_time": "2019-03-23T11:40:34.921Z"
    }
   },
   "outputs": [],
   "source": [
    "# Custom_vgg_model_1\n",
    "#Training the classifier alone\n",
    "image_input = Input(shape=(img_rows, img_cols, num_channel))"
   ]
  },
  {
   "cell_type": "code",
   "execution_count": null,
   "metadata": {
    "ExecuteTime": {
     "end_time": "2019-03-23T13:27:08.501682Z",
     "start_time": "2019-03-23T11:40:34.933Z"
    }
   },
   "outputs": [],
   "source": [
    "from keras.applications.vgg16 import VGG16\n",
    "\n",
    "model = VGG16(input_tensor=image_input, include_top=True, weights='imagenet')"
   ]
  },
  {
   "cell_type": "raw",
   "metadata": {},
   "source": [
    "\n",
    "include_top: whether to include the 3 fully-connected layers at the top of the network.\n",
    "\n",
    "weights: one of None (random initialization) or 'imagenet' (pre-training on ImageNet).\n",
    "\n",
    "input_tensor: optional Keras tensor (i.e. output of layers.Input()) to use as image input for the model.\n",
    "\n",
    "classes: optional number of classes to classify images into, only to be specified if include_top is True, and if no weights argument is specified.\n"
   ]
  },
  {
   "cell_type": "code",
   "execution_count": null,
   "metadata": {
    "ExecuteTime": {
     "end_time": "2019-03-23T13:27:08.502719Z",
     "start_time": "2019-03-23T11:40:35.064Z"
    }
   },
   "outputs": [],
   "source": [
    "model.summary()"
   ]
  },
  {
   "cell_type": "code",
   "execution_count": null,
   "metadata": {
    "ExecuteTime": {
     "end_time": "2019-03-23T13:27:08.503598Z",
     "start_time": "2019-03-23T11:40:35.071Z"
    }
   },
   "outputs": [],
   "source": [
    "last_layer = model.get_layer('fc2').output\n",
    "out = Dense(num_classes, activation='softmax', name='output')(last_layer)"
   ]
  },
  {
   "cell_type": "code",
   "execution_count": null,
   "metadata": {
    "ExecuteTime": {
     "end_time": "2019-03-23T13:27:08.504651Z",
     "start_time": "2019-03-23T11:40:35.089Z"
    }
   },
   "outputs": [],
   "source": [
    "from keras.models import Model\n",
    "\n",
    "custom_vgg_model = Model(image_input, out)\n",
    "custom_vgg_model.summary()"
   ]
  },
  {
   "cell_type": "code",
   "execution_count": null,
   "metadata": {
    "ExecuteTime": {
     "end_time": "2019-03-23T13:27:08.505899Z",
     "start_time": "2019-03-23T11:40:35.109Z"
    }
   },
   "outputs": [],
   "source": [
    "for layer in custom_vgg_model.layers[:-1]:\n",
    "    layer.trainable = False"
   ]
  },
  {
   "cell_type": "markdown",
   "metadata": {},
   "source": [
    "###### custom_vgg_model.compile(loss='categorical_crossentropy', optimizer='rmsprop', metrics=['accuracy'])"
   ]
  },
  {
   "cell_type": "code",
   "execution_count": null,
   "metadata": {
    "ExecuteTime": {
     "end_time": "2019-03-23T13:27:08.507398Z",
     "start_time": "2019-03-23T11:40:35.612Z"
    },
    "scrolled": true
   },
   "outputs": [],
   "source": [
    "custom_vgg_model.fit(X_train, y_train, batch_size=batch_size, epochs=num_epoch, verbose=1, validation_data=(X_test, y_test))"
   ]
  },
  {
   "cell_type": "code",
   "execution_count": null,
   "metadata": {
    "ExecuteTime": {
     "end_time": "2019-03-23T13:27:08.508372Z",
     "start_time": "2019-03-23T11:40:35.621Z"
    }
   },
   "outputs": [],
   "source": [
    "(loss, accuracy) = custom_vgg_model.evaluate(X_test, y_test, batch_size=batch_size, verbose=1)\n",
    "\n",
    "print(\"[INFO] loss={:.4f}, accuracy: {:.4f}%\".format(loss, accuracy * 100))"
   ]
  },
  {
   "cell_type": "code",
   "execution_count": null,
   "metadata": {
    "ExecuteTime": {
     "end_time": "2019-03-23T13:27:08.510590Z",
     "start_time": "2019-03-23T11:40:35.639Z"
    }
   },
   "outputs": [],
   "source": [
    "Y_train_pred = custom_vgg_model.predict(X_test)"
   ]
  },
  {
   "cell_type": "code",
   "execution_count": null,
   "metadata": {
    "ExecuteTime": {
     "end_time": "2019-03-23T13:27:08.512916Z",
     "start_time": "2019-03-23T11:40:35.652Z"
    }
   },
   "outputs": [],
   "source": [
    "y_train_pred = np.argmax(Y_train_pred, axis=1)\n",
    "print(y_train_pred)"
   ]
  },
  {
   "cell_type": "code",
   "execution_count": null,
   "metadata": {
    "ExecuteTime": {
     "end_time": "2019-03-23T13:27:08.514326Z",
     "start_time": "2019-03-23T11:40:35.660Z"
    }
   },
   "outputs": [],
   "source": [
    "print(confusion_matrix(np.argmax(y_test, axis=1), y_train_pred))"
   ]
  },
  {
   "cell_type": "code",
   "execution_count": null,
   "metadata": {},
   "outputs": [],
   "source": []
  },
  {
   "cell_type": "code",
   "execution_count": null,
   "metadata": {},
   "outputs": [],
   "source": []
  },
  {
   "cell_type": "markdown",
   "metadata": {},
   "source": [
    "###### Transfer Learning - 2"
   ]
  },
  {
   "cell_type": "code",
   "execution_count": null,
   "metadata": {
    "ExecuteTime": {
     "end_time": "2019-03-23T13:27:08.516078Z",
     "start_time": "2019-03-23T11:40:36.182Z"
    }
   },
   "outputs": [],
   "source": [
    "# Training the feature extraction also\n",
    "model = VGG16(input_tensor=image_input, include_top=True, weights='imagenet')\n",
    "\n",
    "model.summary()"
   ]
  },
  {
   "cell_type": "code",
   "execution_count": null,
   "metadata": {
    "ExecuteTime": {
     "end_time": "2019-03-23T13:27:08.517492Z",
     "start_time": "2019-03-23T11:40:36.194Z"
    }
   },
   "outputs": [],
   "source": [
    "last_layer = model.get_layer('block5_pool').output\n",
    "x = Flatten(name='flatten')(last_layer)\n",
    "x = Dense(128, activation='relu', name='fc1')(x)\n",
    "x = Dense(128, activation='relu', name='fc2')(x)\n",
    "out = Dense(num_classes, activation='softmax', name='output')(x)\n",
    "custom_vgg_model2 = Model(image_input, out)"
   ]
  },
  {
   "cell_type": "code",
   "execution_count": null,
   "metadata": {
    "ExecuteTime": {
     "end_time": "2019-03-23T13:27:08.518585Z",
     "start_time": "2019-03-23T11:40:36.211Z"
    }
   },
   "outputs": [],
   "source": [
    "custom_vgg_model2.summary()"
   ]
  },
  {
   "cell_type": "code",
   "execution_count": null,
   "metadata": {
    "ExecuteTime": {
     "end_time": "2019-03-23T13:27:08.520151Z",
     "start_time": "2019-03-23T11:40:36.226Z"
    }
   },
   "outputs": [],
   "source": [
    "# freeze all the layers except the dense layers\n",
    "for layer in custom_vgg_model2.layers[:-3]:\n",
    "    layer.trainable = False"
   ]
  },
  {
   "cell_type": "code",
   "execution_count": null,
   "metadata": {
    "ExecuteTime": {
     "end_time": "2019-03-23T13:27:08.521703Z",
     "start_time": "2019-03-23T11:40:36.242Z"
    }
   },
   "outputs": [],
   "source": [
    "custom_vgg_model2.summary()"
   ]
  },
  {
   "cell_type": "code",
   "execution_count": null,
   "metadata": {
    "ExecuteTime": {
     "end_time": "2019-03-23T13:27:08.523343Z",
     "start_time": "2019-03-23T11:40:36.269Z"
    }
   },
   "outputs": [],
   "source": [
    "custom_vgg_model2.compile(loss='categorical_crossentropy', optimizer='adadelta', metrics=['accuracy'])"
   ]
  },
  {
   "cell_type": "code",
   "execution_count": null,
   "metadata": {
    "ExecuteTime": {
     "end_time": "2019-03-23T13:27:08.524715Z",
     "start_time": "2019-03-23T11:40:36.274Z"
    }
   },
   "outputs": [],
   "source": [
    "hist = custom_vgg_model2.fit(X_train, y_train, batch_size=batch_size, epochs=num_epoch, verbose=1, validation_data=(X_test, y_test))"
   ]
  },
  {
   "cell_type": "code",
   "execution_count": null,
   "metadata": {
    "ExecuteTime": {
     "end_time": "2019-03-23T13:27:08.527089Z",
     "start_time": "2019-03-23T11:40:36.279Z"
    }
   },
   "outputs": [],
   "source": [
    "(loss, accuracy) = custom_vgg_model2.evaluate(X_test, y_test, batch_size=batch_size, verbose=1)\n",
    "\n",
    "print(\"[INFO] loss={:.4f}, accuracy: {:.4f}%\".format(loss,accuracy * 100))"
   ]
  },
  {
   "cell_type": "code",
   "execution_count": null,
   "metadata": {
    "ExecuteTime": {
     "end_time": "2019-03-23T13:27:08.528818Z",
     "start_time": "2019-03-23T11:40:36.283Z"
    }
   },
   "outputs": [],
   "source": [
    "Y_train_pred = custom_vgg_model2.predict(X_test)"
   ]
  },
  {
   "cell_type": "code",
   "execution_count": null,
   "metadata": {
    "ExecuteTime": {
     "end_time": "2019-03-23T13:27:08.530537Z",
     "start_time": "2019-03-23T11:40:36.287Z"
    }
   },
   "outputs": [],
   "source": [
    "y_train_pred = np.argmax(Y_train_pred, axis=1)\n",
    "print(y_train_pred)"
   ]
  },
  {
   "cell_type": "code",
   "execution_count": null,
   "metadata": {
    "ExecuteTime": {
     "end_time": "2019-03-23T13:27:08.532022Z",
     "start_time": "2019-03-23T11:40:36.292Z"
    }
   },
   "outputs": [],
   "source": [
    "print(confusion_matrix(np.argmax(y_test, axis=1), y_train_pred))"
   ]
  },
  {
   "cell_type": "code",
   "execution_count": null,
   "metadata": {},
   "outputs": [],
   "source": []
  },
  {
   "cell_type": "raw",
   "metadata": {},
   "source": [
    "https://github.com/keras-team/keras-applications/blob/master/keras_applications/vgg16.py"
   ]
  }
 ],
 "metadata": {
  "kernelspec": {
   "display_name": "Python 3",
   "language": "python",
   "name": "python3"
  },
  "language_info": {
   "codemirror_mode": {
    "name": "ipython",
    "version": 3
   },
   "file_extension": ".py",
   "mimetype": "text/x-python",
   "name": "python",
   "nbconvert_exporter": "python",
   "pygments_lexer": "ipython3",
   "version": "3.6.7"
  },
  "toc": {
   "base_numbering": 1,
   "nav_menu": {},
   "number_sections": true,
   "sideBar": true,
   "skip_h1_title": false,
   "title_cell": "Table of Contents",
   "title_sidebar": "Contents",
   "toc_cell": false,
   "toc_position": {},
   "toc_section_display": true,
   "toc_window_display": false
  },
  "varInspector": {
   "cols": {
    "lenName": 16,
    "lenType": 16,
    "lenVar": 40
   },
   "kernels_config": {
    "python": {
     "delete_cmd_postfix": "",
     "delete_cmd_prefix": "del ",
     "library": "var_list.py",
     "varRefreshCmd": "print(var_dic_list())"
    },
    "r": {
     "delete_cmd_postfix": ") ",
     "delete_cmd_prefix": "rm(",
     "library": "var_list.r",
     "varRefreshCmd": "cat(var_dic_list()) "
    }
   },
   "types_to_exclude": [
    "module",
    "function",
    "builtin_function_or_method",
    "instance",
    "_Feature"
   ],
   "window_display": true
  }
 },
 "nbformat": 4,
 "nbformat_minor": 2
}
