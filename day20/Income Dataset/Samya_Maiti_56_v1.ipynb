{
 "cells": [
  {
   "cell_type": "markdown",
   "metadata": {},
   "source": [
    "# Income Group prediction\n",
    "\n",
    "## Problem Description\n",
    "Prediction of whether the individual belongs to low income group or high income group.\n",
    "\n",
    "## Anlaytics Objectives\n",
    "Not Defined\n",
    "\n",
    "## Data Set Description\n",
    "1. age: continuous variable\n",
    "2. working_sector: sector under which the employee is working\n",
    "3. financial_weight: weighted attribute to balance the difference in the monetary and working conditions. It is a continuous variable\n",
    "4. qualification: Educational qualification\n",
    "5. years_of_education: number of years of education; continuous variable\n",
    "6. tax paid: amount of tax paid by the person(continuous variable)\n",
    "7. loan taken: it is a two level categorical variable defining whether the person has taken loan or no\n",
    "8. marital status: categorical variable\n",
    "9. occupation : area of work, a categorical variable with 14 levels\n",
    "10. relationship : provides relationship status of the employee\n",
    "11. ethnicity : social background (categorical variable )\n",
    "12. gender: two level categorical variable\n",
    "13. gain : it illustrates the financial gain of an person, it is a continuous variable\n",
    "14. loss: financial loss of the person , it is a continuous variable\n",
    "15. working_hours : it is a continuous variables describing hours of work of an employee in a week\n",
    "16. country: describes the origin country of an employee\n",
    "17. target: Based on the given data your model will have to classify a person into high income / low income."
   ]
  },
  {
   "cell_type": "markdown",
   "metadata": {},
   "source": [
    "## Import libraries"
   ]
  },
  {
   "cell_type": "code",
   "execution_count": 12,
   "metadata": {
    "ExecuteTime": {
     "end_time": "2019-02-17T13:39:36.928932Z",
     "start_time": "2019-02-17T13:39:36.925035Z"
    }
   },
   "outputs": [],
   "source": [
    "from IPython.core.interactiveshell import InteractiveShell\n",
    "import warnings\n",
    "\n",
    "from tqdm import tqdm\n",
    "import pandas as pd\n",
    "import numpy as np\n",
    "import collections"
   ]
  },
  {
   "cell_type": "code",
   "execution_count": 13,
   "metadata": {
    "ExecuteTime": {
     "end_time": "2019-02-17T13:39:37.154772Z",
     "start_time": "2019-02-17T13:39:37.151314Z"
    }
   },
   "outputs": [],
   "source": [
    "InteractiveShell.ast_node_interactivity = \"all\"\n",
    "pd.set_option('display.max_rows', 500)\n",
    "pd.set_option('display.max_columns', 500)\n",
    "pd.set_option('display.width', 1000)\n",
    "warnings.filterwarnings('ignore')\n"
   ]
  },
  {
   "cell_type": "markdown",
   "metadata": {},
   "source": [
    "## Import required data"
   ]
  },
  {
   "cell_type": "code",
   "execution_count": null,
   "metadata": {},
   "outputs": [],
   "source": []
  }
 ],
 "metadata": {
  "kernelspec": {
   "display_name": "Python 3",
   "language": "python",
   "name": "python3"
  },
  "language_info": {
   "codemirror_mode": {
    "name": "ipython",
    "version": 3
   },
   "file_extension": ".py",
   "mimetype": "text/x-python",
   "name": "python",
   "nbconvert_exporter": "python",
   "pygments_lexer": "ipython3",
   "version": "3.6.7"
  },
  "toc": {
   "base_numbering": 1,
   "nav_menu": {},
   "number_sections": true,
   "sideBar": true,
   "skip_h1_title": false,
   "title_cell": "Table of Contents",
   "title_sidebar": "Contents",
   "toc_cell": false,
   "toc_position": {},
   "toc_section_display": true,
   "toc_window_display": false
  },
  "varInspector": {
   "cols": {
    "lenName": 16,
    "lenType": 16,
    "lenVar": 40
   },
   "kernels_config": {
    "python": {
     "delete_cmd_postfix": "",
     "delete_cmd_prefix": "del ",
     "library": "var_list.py",
     "varRefreshCmd": "print(var_dic_list())"
    },
    "r": {
     "delete_cmd_postfix": ") ",
     "delete_cmd_prefix": "rm(",
     "library": "var_list.r",
     "varRefreshCmd": "cat(var_dic_list()) "
    }
   },
   "oldHeight": 176,
   "position": {
    "height": "40px",
    "left": "1327px",
    "right": "20px",
    "top": "79px",
    "width": "354px"
   },
   "types_to_exclude": [
    "module",
    "function",
    "builtin_function_or_method",
    "instance",
    "_Feature"
   ],
   "varInspector_section_display": "none",
   "window_display": true
  }
 },
 "nbformat": 4,
 "nbformat_minor": 2
}
