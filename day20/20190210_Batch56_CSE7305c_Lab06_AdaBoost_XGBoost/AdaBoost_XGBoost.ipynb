{
 "cells": [
  {
   "cell_type": "markdown",
   "metadata": {},
   "source": [
    "### Installing XGBoost\n",
    "\n",
    "* Execute below command in terminal\n",
    "\n",
    "\n",
    "* !pip install xgboost\n",
    "   *   OR\n",
    "* sudo conda install -c conda-forge xgboost (Run in terminal)"
   ]
  },
  {
   "cell_type": "code",
   "execution_count": 3,
   "metadata": {},
   "outputs": [],
   "source": [
    "import pandas as pd\n",
    "import numpy\n",
    "\n",
    "from sklearn import preprocessing, metrics, cross_validation\n",
    "from sklearn.cross_validation import train_test_split\n",
    "from sklearn.preprocessing import LabelEncoder\n",
    "from sklearn.preprocessing import MinMaxScaler\n",
    "\n",
    "%matplotlib inline\n",
    "import numpy as np\n",
    "import pandas as pd\n",
    "import graphviz\n",
    "import matplotlib.pyplot as plt\n",
    "import seaborn as sns\n",
    "\n",
    "from sklearn.tree import DecisionTreeClassifier, export_graphviz,DecisionTreeRegressor\n",
    "from sklearn.metrics import accuracy_score,classification_report, recall_score, precision_score,confusion_matrix,mean_absolute_error,mean_squared_error\n",
    "from sklearn.ensemble import RandomForestClassifier\n",
    "from xgboost import XGBClassifier\n",
    "from sklearn.ensemble import GradientBoostingClassifier\n",
    "from sklearn.ensemble import AdaBoostClassifier\n",
    "\n",
    "import warnings\n",
    "warnings.filterwarnings('ignore')"
   ]
  },
  {
   "cell_type": "markdown",
   "metadata": {},
   "source": [
    "#### Problem Statement - Tennis Australia is trying to better automate how tennis points get categorized into three outcomes – winners, forced errors and unforced errors.\n",
    "\n",
    "#### Dataset Description:\n",
    "\n",
    "The dataset includes point outcomes of rallies only (where the number of shots hit exceeds two, which represents the serve and return). All points were played at a past Australian Open.\n"
   ]
  },
  {
   "cell_type": "code",
   "execution_count": 4,
   "metadata": {},
   "outputs": [],
   "source": [
    "data = pd.read_csv(\"./DataSet/train.csv\")"
   ]
  },
  {
   "cell_type": "code",
   "execution_count": 5,
   "metadata": {},
   "outputs": [
    {
     "data": {
      "text/plain": [
       "(8001, 27)"
      ]
     },
     "execution_count": 5,
     "metadata": {},
     "output_type": "execute_result"
    }
   ],
   "source": [
    "data.shape"
   ]
  },
  {
   "cell_type": "markdown",
   "metadata": {},
   "source": [
    "#### See the top 5 rows of the data"
   ]
  },
  {
   "cell_type": "code",
   "execution_count": 6,
   "metadata": {},
   "outputs": [
    {
     "data": {
      "text/html": [
       "<div>\n",
       "<style scoped>\n",
       "    .dataframe tbody tr th:only-of-type {\n",
       "        vertical-align: middle;\n",
       "    }\n",
       "\n",
       "    .dataframe tbody tr th {\n",
       "        vertical-align: top;\n",
       "    }\n",
       "\n",
       "    .dataframe thead th {\n",
       "        text-align: right;\n",
       "    }\n",
       "</style>\n",
       "<table border=\"1\" class=\"dataframe\">\n",
       "  <thead>\n",
       "    <tr style=\"text-align: right;\">\n",
       "      <th></th>\n",
       "      <th>rally</th>\n",
       "      <th>serve</th>\n",
       "      <th>hitpoint</th>\n",
       "      <th>speed</th>\n",
       "      <th>net.clearance</th>\n",
       "      <th>distance.from.sideline</th>\n",
       "      <th>depth</th>\n",
       "      <th>outside.sideline</th>\n",
       "      <th>outside.baseline</th>\n",
       "      <th>player.distance.travelled</th>\n",
       "      <th>...</th>\n",
       "      <th>previous.depth</th>\n",
       "      <th>opponent.depth</th>\n",
       "      <th>opponent.distance.from.center</th>\n",
       "      <th>same.side</th>\n",
       "      <th>previous.hitpoint</th>\n",
       "      <th>previous.time.to.net</th>\n",
       "      <th>server.is.impact.player</th>\n",
       "      <th>outcome</th>\n",
       "      <th>gender</th>\n",
       "      <th>ID</th>\n",
       "    </tr>\n",
       "  </thead>\n",
       "  <tbody>\n",
       "    <tr>\n",
       "      <th>0</th>\n",
       "      <td>4</td>\n",
       "      <td>1</td>\n",
       "      <td>B</td>\n",
       "      <td>35.515042</td>\n",
       "      <td>-0.021725</td>\n",
       "      <td>3.474766</td>\n",
       "      <td>6.797621</td>\n",
       "      <td>False</td>\n",
       "      <td>False</td>\n",
       "      <td>1.467570</td>\n",
       "      <td>...</td>\n",
       "      <td>0.705435</td>\n",
       "      <td>12.5628</td>\n",
       "      <td>2.0724</td>\n",
       "      <td>True</td>\n",
       "      <td>F</td>\n",
       "      <td>0.445318</td>\n",
       "      <td>False</td>\n",
       "      <td>UE</td>\n",
       "      <td>mens</td>\n",
       "      <td>8644</td>\n",
       "    </tr>\n",
       "    <tr>\n",
       "      <th>1</th>\n",
       "      <td>4</td>\n",
       "      <td>2</td>\n",
       "      <td>B</td>\n",
       "      <td>33.382640</td>\n",
       "      <td>1.114202</td>\n",
       "      <td>2.540801</td>\n",
       "      <td>2.608708</td>\n",
       "      <td>False</td>\n",
       "      <td>True</td>\n",
       "      <td>2.311931</td>\n",
       "      <td>...</td>\n",
       "      <td>3.856600</td>\n",
       "      <td>12.3544</td>\n",
       "      <td>5.1124</td>\n",
       "      <td>False</td>\n",
       "      <td>B</td>\n",
       "      <td>0.432434</td>\n",
       "      <td>False</td>\n",
       "      <td>FE</td>\n",
       "      <td>mens</td>\n",
       "      <td>1182</td>\n",
       "    </tr>\n",
       "    <tr>\n",
       "      <th>2</th>\n",
       "      <td>23</td>\n",
       "      <td>1</td>\n",
       "      <td>B</td>\n",
       "      <td>22.316690</td>\n",
       "      <td>-0.254046</td>\n",
       "      <td>3.533166</td>\n",
       "      <td>9.435749</td>\n",
       "      <td>False</td>\n",
       "      <td>False</td>\n",
       "      <td>3.903728</td>\n",
       "      <td>...</td>\n",
       "      <td>2.908892</td>\n",
       "      <td>13.8620</td>\n",
       "      <td>1.6564</td>\n",
       "      <td>False</td>\n",
       "      <td>F</td>\n",
       "      <td>0.397538</td>\n",
       "      <td>True</td>\n",
       "      <td>FE</td>\n",
       "      <td>mens</td>\n",
       "      <td>9042</td>\n",
       "    </tr>\n",
       "    <tr>\n",
       "      <th>3</th>\n",
       "      <td>9</td>\n",
       "      <td>1</td>\n",
       "      <td>F</td>\n",
       "      <td>36.837309</td>\n",
       "      <td>0.766694</td>\n",
       "      <td>0.586885</td>\n",
       "      <td>3.342180</td>\n",
       "      <td>True</td>\n",
       "      <td>False</td>\n",
       "      <td>0.583745</td>\n",
       "      <td>...</td>\n",
       "      <td>0.557554</td>\n",
       "      <td>14.2596</td>\n",
       "      <td>0.1606</td>\n",
       "      <td>True</td>\n",
       "      <td>B</td>\n",
       "      <td>0.671984</td>\n",
       "      <td>True</td>\n",
       "      <td>UE</td>\n",
       "      <td>mens</td>\n",
       "      <td>1222</td>\n",
       "    </tr>\n",
       "    <tr>\n",
       "      <th>4</th>\n",
       "      <td>4</td>\n",
       "      <td>1</td>\n",
       "      <td>B</td>\n",
       "      <td>35.544208</td>\n",
       "      <td>0.116162</td>\n",
       "      <td>0.918725</td>\n",
       "      <td>5.499119</td>\n",
       "      <td>False</td>\n",
       "      <td>False</td>\n",
       "      <td>2.333456</td>\n",
       "      <td>...</td>\n",
       "      <td>3.945317</td>\n",
       "      <td>11.3658</td>\n",
       "      <td>1.1082</td>\n",
       "      <td>False</td>\n",
       "      <td>F</td>\n",
       "      <td>0.340411</td>\n",
       "      <td>False</td>\n",
       "      <td>W</td>\n",
       "      <td>mens</td>\n",
       "      <td>4085</td>\n",
       "    </tr>\n",
       "  </tbody>\n",
       "</table>\n",
       "<p>5 rows × 27 columns</p>\n",
       "</div>"
      ],
      "text/plain": [
       "   rally  serve hitpoint      speed  net.clearance  distance.from.sideline  \\\n",
       "0      4      1        B  35.515042      -0.021725                3.474766   \n",
       "1      4      2        B  33.382640       1.114202                2.540801   \n",
       "2     23      1        B  22.316690      -0.254046                3.533166   \n",
       "3      9      1        F  36.837309       0.766694                0.586885   \n",
       "4      4      1        B  35.544208       0.116162                0.918725   \n",
       "\n",
       "      depth  outside.sideline  outside.baseline  player.distance.travelled  \\\n",
       "0  6.797621             False             False                   1.467570   \n",
       "1  2.608708             False              True                   2.311931   \n",
       "2  9.435749             False             False                   3.903728   \n",
       "3  3.342180              True             False                   0.583745   \n",
       "4  5.499119             False             False                   2.333456   \n",
       "\n",
       "   ...   previous.depth  opponent.depth  opponent.distance.from.center  \\\n",
       "0  ...         0.705435         12.5628                         2.0724   \n",
       "1  ...         3.856600         12.3544                         5.1124   \n",
       "2  ...         2.908892         13.8620                         1.6564   \n",
       "3  ...         0.557554         14.2596                         0.1606   \n",
       "4  ...         3.945317         11.3658                         1.1082   \n",
       "\n",
       "   same.side  previous.hitpoint  previous.time.to.net  \\\n",
       "0       True                  F              0.445318   \n",
       "1      False                  B              0.432434   \n",
       "2      False                  F              0.397538   \n",
       "3       True                  B              0.671984   \n",
       "4      False                  F              0.340411   \n",
       "\n",
       "   server.is.impact.player  outcome  gender    ID  \n",
       "0                    False       UE    mens  8644  \n",
       "1                    False       FE    mens  1182  \n",
       "2                     True       FE    mens  9042  \n",
       "3                     True       UE    mens  1222  \n",
       "4                    False        W    mens  4085  \n",
       "\n",
       "[5 rows x 27 columns]"
      ]
     },
     "execution_count": 6,
     "metadata": {},
     "output_type": "execute_result"
    }
   ],
   "source": [
    "data.head()"
   ]
  },
  {
   "cell_type": "markdown",
   "metadata": {},
   "source": [
    "#### Different classes in Outcome variable"
   ]
  },
  {
   "cell_type": "code",
   "execution_count": 7,
   "metadata": {},
   "outputs": [
    {
     "data": {
      "text/plain": [
       "array(['UE', 'FE', 'W'], dtype=object)"
      ]
     },
     "execution_count": 7,
     "metadata": {},
     "output_type": "execute_result"
    }
   ],
   "source": [
    "pd.unique(data.outcome)"
   ]
  },
  {
   "cell_type": "markdown",
   "metadata": {},
   "source": [
    "#### Outcome variable - classes\n",
    "* Winner – the point winning player hits a shot that is not touched by the opponent\n",
    "* Forced error – the point winning player hits a shot that causes the opponent to not be able to return it, i.e. a good shot that is hard to handle\n",
    "* Unforced error – the player attempting to return the ball makes an error on an otherwise normal looking rally shot"
   ]
  },
  {
   "cell_type": "markdown",
   "metadata": {},
   "source": [
    "#### Check the number of columns"
   ]
  },
  {
   "cell_type": "code",
   "execution_count": 8,
   "metadata": {},
   "outputs": [
    {
     "data": {
      "text/plain": [
       "27"
      ]
     },
     "execution_count": 8,
     "metadata": {},
     "output_type": "execute_result"
    }
   ],
   "source": [
    "len(data.columns)"
   ]
  },
  {
   "cell_type": "markdown",
   "metadata": {},
   "source": [
    "#### Display data type of each variable"
   ]
  },
  {
   "cell_type": "code",
   "execution_count": 9,
   "metadata": {
    "scrolled": true
   },
   "outputs": [
    {
     "data": {
      "text/plain": [
       "rally                                   int64\n",
       "serve                                   int64\n",
       "hitpoint                               object\n",
       "speed                                 float64\n",
       "net.clearance                         float64\n",
       "distance.from.sideline                float64\n",
       "depth                                 float64\n",
       "outside.sideline                         bool\n",
       "outside.baseline                         bool\n",
       "player.distance.travelled             float64\n",
       "player.impact.depth                   float64\n",
       "player.impact.distance.from.center    float64\n",
       "player.depth                          float64\n",
       "player.distance.from.center           float64\n",
       "previous.speed                        float64\n",
       "previous.net.clearance                float64\n",
       "previous.distance.from.sideline       float64\n",
       "previous.depth                        float64\n",
       "opponent.depth                        float64\n",
       "opponent.distance.from.center         float64\n",
       "same.side                                bool\n",
       "previous.hitpoint                      object\n",
       "previous.time.to.net                  float64\n",
       "server.is.impact.player                  bool\n",
       "outcome                                object\n",
       "gender                                 object\n",
       "ID                                      int64\n",
       "dtype: object"
      ]
     },
     "execution_count": 9,
     "metadata": {},
     "output_type": "execute_result"
    }
   ],
   "source": [
    "data.dtypes"
   ]
  },
  {
   "cell_type": "markdown",
   "metadata": {},
   "source": [
    "#### Identifying categorical attributes"
   ]
  },
  {
   "cell_type": "code",
   "execution_count": 10,
   "metadata": {},
   "outputs": [],
   "source": [
    "categorical_list = [\"hitpoint\",\"outside.sideline\",\n",
    "                    \"outside.baseline\",\"same.side\",\"previous.hitpoint\",\"server.is.impact.player\",\"gender\",\"outcome\"]"
   ]
  },
  {
   "cell_type": "markdown",
   "metadata": {},
   "source": [
    "#### Converting to appropriate datatype"
   ]
  },
  {
   "cell_type": "code",
   "execution_count": 11,
   "metadata": {},
   "outputs": [],
   "source": [
    "for i in data[categorical_list]:\n",
    "    data[i] = data[i].astype(\"category\")    "
   ]
  },
  {
   "cell_type": "markdown",
   "metadata": {},
   "source": [
    "#### Display data type of each variable after conversion"
   ]
  },
  {
   "cell_type": "code",
   "execution_count": 12,
   "metadata": {},
   "outputs": [
    {
     "data": {
      "text/plain": [
       "rally                                    int64\n",
       "serve                                    int64\n",
       "hitpoint                              category\n",
       "speed                                  float64\n",
       "net.clearance                          float64\n",
       "distance.from.sideline                 float64\n",
       "depth                                  float64\n",
       "outside.sideline                      category\n",
       "outside.baseline                      category\n",
       "player.distance.travelled              float64\n",
       "player.impact.depth                    float64\n",
       "player.impact.distance.from.center     float64\n",
       "player.depth                           float64\n",
       "player.distance.from.center            float64\n",
       "previous.speed                         float64\n",
       "previous.net.clearance                 float64\n",
       "previous.distance.from.sideline        float64\n",
       "previous.depth                         float64\n",
       "opponent.depth                         float64\n",
       "opponent.distance.from.center          float64\n",
       "same.side                             category\n",
       "previous.hitpoint                     category\n",
       "previous.time.to.net                   float64\n",
       "server.is.impact.player               category\n",
       "outcome                               category\n",
       "gender                                category\n",
       "ID                                       int64\n",
       "dtype: object"
      ]
     },
     "execution_count": 12,
     "metadata": {},
     "output_type": "execute_result"
    }
   ],
   "source": [
    "data.dtypes"
   ]
  },
  {
   "cell_type": "markdown",
   "metadata": {},
   "source": [
    "#### Dropping ID column and checking the length of columns"
   ]
  },
  {
   "cell_type": "code",
   "execution_count": 13,
   "metadata": {},
   "outputs": [
    {
     "data": {
      "text/plain": [
       "26"
      ]
     },
     "execution_count": 13,
     "metadata": {},
     "output_type": "execute_result"
    }
   ],
   "source": [
    "data.drop([\"ID\"], axis=1, inplace=True)\n",
    "len(data.columns)"
   ]
  },
  {
   "cell_type": "markdown",
   "metadata": {},
   "source": [
    "#### Display summary statistics "
   ]
  },
  {
   "cell_type": "code",
   "execution_count": 14,
   "metadata": {
    "scrolled": true
   },
   "outputs": [
    {
     "data": {
      "text/html": [
       "<div>\n",
       "<style scoped>\n",
       "    .dataframe tbody tr th:only-of-type {\n",
       "        vertical-align: middle;\n",
       "    }\n",
       "\n",
       "    .dataframe tbody tr th {\n",
       "        vertical-align: top;\n",
       "    }\n",
       "\n",
       "    .dataframe thead th {\n",
       "        text-align: right;\n",
       "    }\n",
       "</style>\n",
       "<table border=\"1\" class=\"dataframe\">\n",
       "  <thead>\n",
       "    <tr style=\"text-align: right;\">\n",
       "      <th></th>\n",
       "      <th>rally</th>\n",
       "      <th>serve</th>\n",
       "      <th>speed</th>\n",
       "      <th>net.clearance</th>\n",
       "      <th>distance.from.sideline</th>\n",
       "      <th>depth</th>\n",
       "      <th>player.distance.travelled</th>\n",
       "      <th>player.impact.depth</th>\n",
       "      <th>player.impact.distance.from.center</th>\n",
       "      <th>player.depth</th>\n",
       "      <th>player.distance.from.center</th>\n",
       "      <th>previous.speed</th>\n",
       "      <th>previous.net.clearance</th>\n",
       "      <th>previous.distance.from.sideline</th>\n",
       "      <th>previous.depth</th>\n",
       "      <th>opponent.depth</th>\n",
       "      <th>opponent.distance.from.center</th>\n",
       "      <th>previous.time.to.net</th>\n",
       "    </tr>\n",
       "  </thead>\n",
       "  <tbody>\n",
       "    <tr>\n",
       "      <th>count</th>\n",
       "      <td>8001.000000</td>\n",
       "      <td>8001.000000</td>\n",
       "      <td>8001.000000</td>\n",
       "      <td>8001.000000</td>\n",
       "      <td>8001.000000</td>\n",
       "      <td>8001.000000</td>\n",
       "      <td>8001.000000</td>\n",
       "      <td>8001.000000</td>\n",
       "      <td>8001.000000</td>\n",
       "      <td>8001.000000</td>\n",
       "      <td>8001.000000</td>\n",
       "      <td>8001.000000</td>\n",
       "      <td>8001.000000</td>\n",
       "      <td>8001.000000</td>\n",
       "      <td>8001.000000</td>\n",
       "      <td>8001.000000</td>\n",
       "      <td>8001.000000</td>\n",
       "      <td>8001.000000</td>\n",
       "    </tr>\n",
       "    <tr>\n",
       "      <th>mean</th>\n",
       "      <td>5.966004</td>\n",
       "      <td>1.398700</td>\n",
       "      <td>30.806938</td>\n",
       "      <td>0.629658</td>\n",
       "      <td>1.467630</td>\n",
       "      <td>4.421146</td>\n",
       "      <td>2.690463</td>\n",
       "      <td>11.899694</td>\n",
       "      <td>1.919544</td>\n",
       "      <td>12.253954</td>\n",
       "      <td>1.213795</td>\n",
       "      <td>28.763676</td>\n",
       "      <td>0.821562</td>\n",
       "      <td>2.193420</td>\n",
       "      <td>4.218717</td>\n",
       "      <td>12.616810</td>\n",
       "      <td>2.367952</td>\n",
       "      <td>0.549988</td>\n",
       "    </tr>\n",
       "    <tr>\n",
       "      <th>std</th>\n",
       "      <td>3.548182</td>\n",
       "      <td>0.489661</td>\n",
       "      <td>7.298917</td>\n",
       "      <td>0.982504</td>\n",
       "      <td>1.108697</td>\n",
       "      <td>3.144965</td>\n",
       "      <td>1.713136</td>\n",
       "      <td>2.788231</td>\n",
       "      <td>1.205449</td>\n",
       "      <td>2.039085</td>\n",
       "      <td>0.964364</td>\n",
       "      <td>6.477470</td>\n",
       "      <td>0.674663</td>\n",
       "      <td>1.038942</td>\n",
       "      <td>2.052946</td>\n",
       "      <td>2.075401</td>\n",
       "      <td>1.313927</td>\n",
       "      <td>0.186788</td>\n",
       "    </tr>\n",
       "    <tr>\n",
       "      <th>min</th>\n",
       "      <td>3.000000</td>\n",
       "      <td>1.000000</td>\n",
       "      <td>5.176078</td>\n",
       "      <td>-0.998184</td>\n",
       "      <td>0.000497</td>\n",
       "      <td>0.003135</td>\n",
       "      <td>0.000000</td>\n",
       "      <td>2.156000</td>\n",
       "      <td>0.000200</td>\n",
       "      <td>1.389800</td>\n",
       "      <td>0.000400</td>\n",
       "      <td>8.449117</td>\n",
       "      <td>0.028865</td>\n",
       "      <td>0.000164</td>\n",
       "      <td>0.000467</td>\n",
       "      <td>2.161200</td>\n",
       "      <td>0.000200</td>\n",
       "      <td>0.003201</td>\n",
       "    </tr>\n",
       "    <tr>\n",
       "      <th>25%</th>\n",
       "      <td>3.000000</td>\n",
       "      <td>1.000000</td>\n",
       "      <td>26.770290</td>\n",
       "      <td>-0.027092</td>\n",
       "      <td>0.539500</td>\n",
       "      <td>1.641161</td>\n",
       "      <td>1.444233</td>\n",
       "      <td>11.221400</td>\n",
       "      <td>0.942400</td>\n",
       "      <td>11.374200</td>\n",
       "      <td>0.551800</td>\n",
       "      <td>24.033218</td>\n",
       "      <td>0.404815</td>\n",
       "      <td>1.354458</td>\n",
       "      <td>2.733674</td>\n",
       "      <td>12.082400</td>\n",
       "      <td>1.352200</td>\n",
       "      <td>0.432164</td>\n",
       "    </tr>\n",
       "    <tr>\n",
       "      <th>50%</th>\n",
       "      <td>5.000000</td>\n",
       "      <td>1.000000</td>\n",
       "      <td>32.417690</td>\n",
       "      <td>0.445870</td>\n",
       "      <td>1.210847</td>\n",
       "      <td>3.860266</td>\n",
       "      <td>2.360894</td>\n",
       "      <td>12.691800</td>\n",
       "      <td>1.829400</td>\n",
       "      <td>12.551600</td>\n",
       "      <td>0.983800</td>\n",
       "      <td>29.793417</td>\n",
       "      <td>0.658382</td>\n",
       "      <td>2.168822</td>\n",
       "      <td>4.126864</td>\n",
       "      <td>12.901600</td>\n",
       "      <td>2.332000</td>\n",
       "      <td>0.507559</td>\n",
       "    </tr>\n",
       "    <tr>\n",
       "      <th>75%</th>\n",
       "      <td>7.000000</td>\n",
       "      <td>2.000000</td>\n",
       "      <td>35.681431</td>\n",
       "      <td>0.970844</td>\n",
       "      <td>2.215955</td>\n",
       "      <td>7.029345</td>\n",
       "      <td>3.565853</td>\n",
       "      <td>13.553000</td>\n",
       "      <td>2.745200</td>\n",
       "      <td>13.498000</td>\n",
       "      <td>1.596600</td>\n",
       "      <td>33.581003</td>\n",
       "      <td>1.021397</td>\n",
       "      <td>3.022677</td>\n",
       "      <td>5.595515</td>\n",
       "      <td>13.712800</td>\n",
       "      <td>3.259000</td>\n",
       "      <td>0.624135</td>\n",
       "    </tr>\n",
       "    <tr>\n",
       "      <th>max</th>\n",
       "      <td>38.000000</td>\n",
       "      <td>2.000000</td>\n",
       "      <td>55.052795</td>\n",
       "      <td>12.815893</td>\n",
       "      <td>7.569757</td>\n",
       "      <td>11.886069</td>\n",
       "      <td>14.480546</td>\n",
       "      <td>18.125600</td>\n",
       "      <td>7.746200</td>\n",
       "      <td>18.745800</td>\n",
       "      <td>9.352600</td>\n",
       "      <td>54.207506</td>\n",
       "      <td>6.730275</td>\n",
       "      <td>4.114361</td>\n",
       "      <td>9.997963</td>\n",
       "      <td>20.211000</td>\n",
       "      <td>6.852600</td>\n",
       "      <td>1.635257</td>\n",
       "    </tr>\n",
       "  </tbody>\n",
       "</table>\n",
       "</div>"
      ],
      "text/plain": [
       "             rally        serve        speed  net.clearance  \\\n",
       "count  8001.000000  8001.000000  8001.000000    8001.000000   \n",
       "mean      5.966004     1.398700    30.806938       0.629658   \n",
       "std       3.548182     0.489661     7.298917       0.982504   \n",
       "min       3.000000     1.000000     5.176078      -0.998184   \n",
       "25%       3.000000     1.000000    26.770290      -0.027092   \n",
       "50%       5.000000     1.000000    32.417690       0.445870   \n",
       "75%       7.000000     2.000000    35.681431       0.970844   \n",
       "max      38.000000     2.000000    55.052795      12.815893   \n",
       "\n",
       "       distance.from.sideline        depth  player.distance.travelled  \\\n",
       "count             8001.000000  8001.000000                8001.000000   \n",
       "mean                 1.467630     4.421146                   2.690463   \n",
       "std                  1.108697     3.144965                   1.713136   \n",
       "min                  0.000497     0.003135                   0.000000   \n",
       "25%                  0.539500     1.641161                   1.444233   \n",
       "50%                  1.210847     3.860266                   2.360894   \n",
       "75%                  2.215955     7.029345                   3.565853   \n",
       "max                  7.569757    11.886069                  14.480546   \n",
       "\n",
       "       player.impact.depth  player.impact.distance.from.center  player.depth  \\\n",
       "count          8001.000000                         8001.000000   8001.000000   \n",
       "mean             11.899694                            1.919544     12.253954   \n",
       "std               2.788231                            1.205449      2.039085   \n",
       "min               2.156000                            0.000200      1.389800   \n",
       "25%              11.221400                            0.942400     11.374200   \n",
       "50%              12.691800                            1.829400     12.551600   \n",
       "75%              13.553000                            2.745200     13.498000   \n",
       "max              18.125600                            7.746200     18.745800   \n",
       "\n",
       "       player.distance.from.center  previous.speed  previous.net.clearance  \\\n",
       "count                  8001.000000     8001.000000             8001.000000   \n",
       "mean                      1.213795       28.763676                0.821562   \n",
       "std                       0.964364        6.477470                0.674663   \n",
       "min                       0.000400        8.449117                0.028865   \n",
       "25%                       0.551800       24.033218                0.404815   \n",
       "50%                       0.983800       29.793417                0.658382   \n",
       "75%                       1.596600       33.581003                1.021397   \n",
       "max                       9.352600       54.207506                6.730275   \n",
       "\n",
       "       previous.distance.from.sideline  previous.depth  opponent.depth  \\\n",
       "count                      8001.000000     8001.000000     8001.000000   \n",
       "mean                          2.193420        4.218717       12.616810   \n",
       "std                           1.038942        2.052946        2.075401   \n",
       "min                           0.000164        0.000467        2.161200   \n",
       "25%                           1.354458        2.733674       12.082400   \n",
       "50%                           2.168822        4.126864       12.901600   \n",
       "75%                           3.022677        5.595515       13.712800   \n",
       "max                           4.114361        9.997963       20.211000   \n",
       "\n",
       "       opponent.distance.from.center  previous.time.to.net  \n",
       "count                    8001.000000           8001.000000  \n",
       "mean                        2.367952              0.549988  \n",
       "std                         1.313927              0.186788  \n",
       "min                         0.000200              0.003201  \n",
       "25%                         1.352200              0.432164  \n",
       "50%                         2.332000              0.507559  \n",
       "75%                         3.259000              0.624135  \n",
       "max                         6.852600              1.635257  "
      ]
     },
     "execution_count": 14,
     "metadata": {},
     "output_type": "execute_result"
    }
   ],
   "source": [
    "data.describe()"
   ]
  },
  {
   "cell_type": "code",
   "execution_count": 15,
   "metadata": {},
   "outputs": [
    {
     "data": {
      "text/html": [
       "<div>\n",
       "<style scoped>\n",
       "    .dataframe tbody tr th:only-of-type {\n",
       "        vertical-align: middle;\n",
       "    }\n",
       "\n",
       "    .dataframe tbody tr th {\n",
       "        vertical-align: top;\n",
       "    }\n",
       "\n",
       "    .dataframe thead th {\n",
       "        text-align: right;\n",
       "    }\n",
       "</style>\n",
       "<table border=\"1\" class=\"dataframe\">\n",
       "  <thead>\n",
       "    <tr style=\"text-align: right;\">\n",
       "      <th></th>\n",
       "      <th>hitpoint</th>\n",
       "      <th>outside.sideline</th>\n",
       "      <th>outside.baseline</th>\n",
       "      <th>same.side</th>\n",
       "      <th>previous.hitpoint</th>\n",
       "      <th>server.is.impact.player</th>\n",
       "      <th>outcome</th>\n",
       "      <th>gender</th>\n",
       "    </tr>\n",
       "  </thead>\n",
       "  <tbody>\n",
       "    <tr>\n",
       "      <th>count</th>\n",
       "      <td>8001</td>\n",
       "      <td>8001</td>\n",
       "      <td>8001</td>\n",
       "      <td>8001</td>\n",
       "      <td>8001</td>\n",
       "      <td>8001</td>\n",
       "      <td>8001</td>\n",
       "      <td>8001</td>\n",
       "    </tr>\n",
       "    <tr>\n",
       "      <th>unique</th>\n",
       "      <td>4</td>\n",
       "      <td>2</td>\n",
       "      <td>2</td>\n",
       "      <td>2</td>\n",
       "      <td>4</td>\n",
       "      <td>2</td>\n",
       "      <td>3</td>\n",
       "      <td>2</td>\n",
       "    </tr>\n",
       "    <tr>\n",
       "      <th>top</th>\n",
       "      <td>F</td>\n",
       "      <td>False</td>\n",
       "      <td>False</td>\n",
       "      <td>False</td>\n",
       "      <td>F</td>\n",
       "      <td>True</td>\n",
       "      <td>UE</td>\n",
       "      <td>mens</td>\n",
       "    </tr>\n",
       "    <tr>\n",
       "      <th>freq</th>\n",
       "      <td>4402</td>\n",
       "      <td>6500</td>\n",
       "      <td>6380</td>\n",
       "      <td>6036</td>\n",
       "      <td>3684</td>\n",
       "      <td>4670</td>\n",
       "      <td>3501</td>\n",
       "      <td>4005</td>\n",
       "    </tr>\n",
       "  </tbody>\n",
       "</table>\n",
       "</div>"
      ],
      "text/plain": [
       "       hitpoint outside.sideline outside.baseline same.side previous.hitpoint  \\\n",
       "count      8001             8001             8001      8001              8001   \n",
       "unique        4                2                2         2                 4   \n",
       "top           F            False            False     False                 F   \n",
       "freq       4402             6500             6380      6036              3684   \n",
       "\n",
       "       server.is.impact.player outcome gender  \n",
       "count                     8001    8001   8001  \n",
       "unique                       2       3      2  \n",
       "top                       True      UE   mens  \n",
       "freq                      4670    3501   4005  "
      ]
     },
     "execution_count": 15,
     "metadata": {},
     "output_type": "execute_result"
    }
   ],
   "source": [
    "data.describe(include=['category'])"
   ]
  },
  {
   "cell_type": "markdown",
   "metadata": {},
   "source": [
    "#### Checking for null values"
   ]
  },
  {
   "cell_type": "code",
   "execution_count": 16,
   "metadata": {
    "scrolled": true
   },
   "outputs": [
    {
     "data": {
      "text/plain": [
       "rally                                 0\n",
       "serve                                 0\n",
       "hitpoint                              0\n",
       "speed                                 0\n",
       "net.clearance                         0\n",
       "distance.from.sideline                0\n",
       "depth                                 0\n",
       "outside.sideline                      0\n",
       "outside.baseline                      0\n",
       "player.distance.travelled             0\n",
       "player.impact.depth                   0\n",
       "player.impact.distance.from.center    0\n",
       "player.depth                          0\n",
       "player.distance.from.center           0\n",
       "previous.speed                        0\n",
       "previous.net.clearance                0\n",
       "previous.distance.from.sideline       0\n",
       "previous.depth                        0\n",
       "opponent.depth                        0\n",
       "opponent.distance.from.center         0\n",
       "same.side                             0\n",
       "previous.hitpoint                     0\n",
       "previous.time.to.net                  0\n",
       "server.is.impact.player               0\n",
       "outcome                               0\n",
       "gender                                0\n",
       "dtype: int64"
      ]
     },
     "execution_count": 16,
     "metadata": {},
     "output_type": "execute_result"
    }
   ],
   "source": [
    "data.isnull().sum()"
   ]
  },
  {
   "cell_type": "markdown",
   "metadata": {},
   "source": [
    "#### Display all the columns"
   ]
  },
  {
   "cell_type": "code",
   "execution_count": 17,
   "metadata": {},
   "outputs": [
    {
     "data": {
      "text/plain": [
       "Index(['rally', 'serve', 'hitpoint', 'speed', 'net.clearance',\n",
       "       'distance.from.sideline', 'depth', 'outside.sideline',\n",
       "       'outside.baseline', 'player.distance.travelled', 'player.impact.depth',\n",
       "       'player.impact.distance.from.center', 'player.depth',\n",
       "       'player.distance.from.center', 'previous.speed',\n",
       "       'previous.net.clearance', 'previous.distance.from.sideline',\n",
       "       'previous.depth', 'opponent.depth', 'opponent.distance.from.center',\n",
       "       'same.side', 'previous.hitpoint', 'previous.time.to.net',\n",
       "       'server.is.impact.player', 'outcome', 'gender'],\n",
       "      dtype='object')"
      ]
     },
     "execution_count": 17,
     "metadata": {},
     "output_type": "execute_result"
    }
   ],
   "source": [
    "data.columns"
   ]
  },
  {
   "cell_type": "markdown",
   "metadata": {},
   "source": [
    "#### Creating a list of numerical attributes"
   ]
  },
  {
   "cell_type": "code",
   "execution_count": 18,
   "metadata": {},
   "outputs": [],
   "source": [
    "numeric_list = ['rally','serve','speed','net.clearance','distance.from.sideline','depth','player.distance.travelled','player.impact.depth','player.impact.distance.from.center','player.depth','player.distance.from.center','previous.speed','previous.net.clearance','previous.distance.from.sideline','previous.depth','opponent.depth','opponent.distance.from.center','previous.time.to.net']\n",
    "numeric_data = data[numeric_list]\n"
   ]
  },
  {
   "cell_type": "markdown",
   "metadata": {},
   "source": [
    "#### Creating a list of categorical attributes"
   ]
  },
  {
   "cell_type": "code",
   "execution_count": 20,
   "metadata": {},
   "outputs": [],
   "source": [
    "categorical_list = [\"hitpoint\",\"outside.sideline\",\n",
    "                    \"outside.baseline\",\"same.side\",\"previous.hitpoint\",\"server.is.impact.player\",\"gender\"]"
   ]
  },
  {
   "cell_type": "code",
   "execution_count": 21,
   "metadata": {},
   "outputs": [],
   "source": [
    "from sklearn import preprocessing\n",
    "from sklearn.preprocessing import LabelEncoder\n",
    "le1 = preprocessing.LabelEncoder()\n",
    "for i in categorical_list:\n",
    "    le1.fit(data[i])\n",
    "    data[i] = le1.fit_transform(data[i])"
   ]
  },
  {
   "cell_type": "code",
   "execution_count": 22,
   "metadata": {},
   "outputs": [
    {
     "data": {
      "text/html": [
       "<div>\n",
       "<style scoped>\n",
       "    .dataframe tbody tr th:only-of-type {\n",
       "        vertical-align: middle;\n",
       "    }\n",
       "\n",
       "    .dataframe tbody tr th {\n",
       "        vertical-align: top;\n",
       "    }\n",
       "\n",
       "    .dataframe thead th {\n",
       "        text-align: right;\n",
       "    }\n",
       "</style>\n",
       "<table border=\"1\" class=\"dataframe\">\n",
       "  <thead>\n",
       "    <tr style=\"text-align: right;\">\n",
       "      <th></th>\n",
       "      <th>rally</th>\n",
       "      <th>serve</th>\n",
       "      <th>hitpoint</th>\n",
       "      <th>speed</th>\n",
       "      <th>net.clearance</th>\n",
       "      <th>distance.from.sideline</th>\n",
       "      <th>depth</th>\n",
       "      <th>outside.sideline</th>\n",
       "      <th>outside.baseline</th>\n",
       "      <th>player.distance.travelled</th>\n",
       "      <th>...</th>\n",
       "      <th>previous.distance.from.sideline</th>\n",
       "      <th>previous.depth</th>\n",
       "      <th>opponent.depth</th>\n",
       "      <th>opponent.distance.from.center</th>\n",
       "      <th>same.side</th>\n",
       "      <th>previous.hitpoint</th>\n",
       "      <th>previous.time.to.net</th>\n",
       "      <th>server.is.impact.player</th>\n",
       "      <th>outcome</th>\n",
       "      <th>gender</th>\n",
       "    </tr>\n",
       "  </thead>\n",
       "  <tbody>\n",
       "    <tr>\n",
       "      <th>0</th>\n",
       "      <td>4</td>\n",
       "      <td>1</td>\n",
       "      <td>0</td>\n",
       "      <td>35.515042</td>\n",
       "      <td>-0.021725</td>\n",
       "      <td>3.474766</td>\n",
       "      <td>6.797621</td>\n",
       "      <td>0</td>\n",
       "      <td>0</td>\n",
       "      <td>1.467570</td>\n",
       "      <td>...</td>\n",
       "      <td>2.449182</td>\n",
       "      <td>0.705435</td>\n",
       "      <td>12.5628</td>\n",
       "      <td>2.0724</td>\n",
       "      <td>1</td>\n",
       "      <td>1</td>\n",
       "      <td>0.445318</td>\n",
       "      <td>0</td>\n",
       "      <td>UE</td>\n",
       "      <td>0</td>\n",
       "    </tr>\n",
       "    <tr>\n",
       "      <th>1</th>\n",
       "      <td>4</td>\n",
       "      <td>2</td>\n",
       "      <td>0</td>\n",
       "      <td>33.382640</td>\n",
       "      <td>1.114202</td>\n",
       "      <td>2.540801</td>\n",
       "      <td>2.608708</td>\n",
       "      <td>0</td>\n",
       "      <td>1</td>\n",
       "      <td>2.311931</td>\n",
       "      <td>...</td>\n",
       "      <td>0.583291</td>\n",
       "      <td>3.856600</td>\n",
       "      <td>12.3544</td>\n",
       "      <td>5.1124</td>\n",
       "      <td>0</td>\n",
       "      <td>0</td>\n",
       "      <td>0.432434</td>\n",
       "      <td>0</td>\n",
       "      <td>FE</td>\n",
       "      <td>0</td>\n",
       "    </tr>\n",
       "    <tr>\n",
       "      <th>2</th>\n",
       "      <td>23</td>\n",
       "      <td>1</td>\n",
       "      <td>0</td>\n",
       "      <td>22.316690</td>\n",
       "      <td>-0.254046</td>\n",
       "      <td>3.533166</td>\n",
       "      <td>9.435749</td>\n",
       "      <td>0</td>\n",
       "      <td>0</td>\n",
       "      <td>3.903728</td>\n",
       "      <td>...</td>\n",
       "      <td>1.115250</td>\n",
       "      <td>2.908892</td>\n",
       "      <td>13.8620</td>\n",
       "      <td>1.6564</td>\n",
       "      <td>0</td>\n",
       "      <td>1</td>\n",
       "      <td>0.397538</td>\n",
       "      <td>1</td>\n",
       "      <td>FE</td>\n",
       "      <td>0</td>\n",
       "    </tr>\n",
       "    <tr>\n",
       "      <th>3</th>\n",
       "      <td>9</td>\n",
       "      <td>1</td>\n",
       "      <td>1</td>\n",
       "      <td>36.837309</td>\n",
       "      <td>0.766694</td>\n",
       "      <td>0.586885</td>\n",
       "      <td>3.342180</td>\n",
       "      <td>1</td>\n",
       "      <td>0</td>\n",
       "      <td>0.583745</td>\n",
       "      <td>...</td>\n",
       "      <td>3.256695</td>\n",
       "      <td>0.557554</td>\n",
       "      <td>14.2596</td>\n",
       "      <td>0.1606</td>\n",
       "      <td>1</td>\n",
       "      <td>0</td>\n",
       "      <td>0.671984</td>\n",
       "      <td>1</td>\n",
       "      <td>UE</td>\n",
       "      <td>0</td>\n",
       "    </tr>\n",
       "    <tr>\n",
       "      <th>4</th>\n",
       "      <td>4</td>\n",
       "      <td>1</td>\n",
       "      <td>0</td>\n",
       "      <td>35.544208</td>\n",
       "      <td>0.116162</td>\n",
       "      <td>0.918725</td>\n",
       "      <td>5.499119</td>\n",
       "      <td>0</td>\n",
       "      <td>0</td>\n",
       "      <td>2.333456</td>\n",
       "      <td>...</td>\n",
       "      <td>1.431146</td>\n",
       "      <td>3.945317</td>\n",
       "      <td>11.3658</td>\n",
       "      <td>1.1082</td>\n",
       "      <td>0</td>\n",
       "      <td>1</td>\n",
       "      <td>0.340411</td>\n",
       "      <td>0</td>\n",
       "      <td>W</td>\n",
       "      <td>0</td>\n",
       "    </tr>\n",
       "  </tbody>\n",
       "</table>\n",
       "<p>5 rows × 26 columns</p>\n",
       "</div>"
      ],
      "text/plain": [
       "   rally  serve  hitpoint      speed  net.clearance  distance.from.sideline  \\\n",
       "0      4      1         0  35.515042      -0.021725                3.474766   \n",
       "1      4      2         0  33.382640       1.114202                2.540801   \n",
       "2     23      1         0  22.316690      -0.254046                3.533166   \n",
       "3      9      1         1  36.837309       0.766694                0.586885   \n",
       "4      4      1         0  35.544208       0.116162                0.918725   \n",
       "\n",
       "      depth  outside.sideline  outside.baseline  player.distance.travelled  \\\n",
       "0  6.797621                 0                 0                   1.467570   \n",
       "1  2.608708                 0                 1                   2.311931   \n",
       "2  9.435749                 0                 0                   3.903728   \n",
       "3  3.342180                 1                 0                   0.583745   \n",
       "4  5.499119                 0                 0                   2.333456   \n",
       "\n",
       "    ...    previous.distance.from.sideline  previous.depth  opponent.depth  \\\n",
       "0   ...                           2.449182        0.705435         12.5628   \n",
       "1   ...                           0.583291        3.856600         12.3544   \n",
       "2   ...                           1.115250        2.908892         13.8620   \n",
       "3   ...                           3.256695        0.557554         14.2596   \n",
       "4   ...                           1.431146        3.945317         11.3658   \n",
       "\n",
       "   opponent.distance.from.center  same.side  previous.hitpoint  \\\n",
       "0                         2.0724          1                  1   \n",
       "1                         5.1124          0                  0   \n",
       "2                         1.6564          0                  1   \n",
       "3                         0.1606          1                  0   \n",
       "4                         1.1082          0                  1   \n",
       "\n",
       "   previous.time.to.net  server.is.impact.player  outcome  gender  \n",
       "0              0.445318                        0       UE       0  \n",
       "1              0.432434                        0       FE       0  \n",
       "2              0.397538                        1       FE       0  \n",
       "3              0.671984                        1       UE       0  \n",
       "4              0.340411                        0        W       0  \n",
       "\n",
       "[5 rows x 26 columns]"
      ]
     },
     "execution_count": 22,
     "metadata": {},
     "output_type": "execute_result"
    }
   ],
   "source": [
    "data.head()"
   ]
  },
  {
   "cell_type": "code",
   "execution_count": 23,
   "metadata": {
    "scrolled": true
   },
   "outputs": [
    {
     "name": "stdout",
     "output_type": "stream",
     "text": [
      "(6400, 25)\n",
      "(1601, 25)\n",
      "(6400,)\n",
      "(1601,)\n"
     ]
    }
   ],
   "source": [
    "# Divide into train and test\n",
    "y=data[\"outcome\"]\n",
    "X=data.drop('outcome', axis=1)\n",
    "X_train, X_test, y_train, y_test = train_test_split(X, y, test_size=0.20)\n",
    "print(X_train.shape)\n",
    "print(X_test.shape)\n",
    "print(y_train.shape)\n",
    "print(y_test.shape)"
   ]
  },
  {
   "cell_type": "code",
   "execution_count": 24,
   "metadata": {},
   "outputs": [
    {
     "data": {
      "text/plain": [
       "UE    2825\n",
       "W     2138\n",
       "FE    1437\n",
       "Name: outcome, dtype: int64"
      ]
     },
     "execution_count": 24,
     "metadata": {},
     "output_type": "execute_result"
    }
   ],
   "source": [
    "y_train.value_counts()"
   ]
  },
  {
   "cell_type": "markdown",
   "metadata": {},
   "source": [
    "#### Building Decision Tree"
   ]
  },
  {
   "cell_type": "code",
   "execution_count": 25,
   "metadata": {
    "scrolled": false
   },
   "outputs": [
    {
     "name": "stdout",
     "output_type": "stream",
     "text": [
      "0.77828125\n",
      "             precision    recall  f1-score   support\n",
      "\n",
      "         FE     0.7315    0.5651    0.6376      1437\n",
      "         UE     0.7339    0.8630    0.7932      2825\n",
      "          W     0.8796    0.8096    0.8432      2138\n",
      "\n",
      "avg / total     0.7820    0.7783    0.7750      6400\n",
      "\n",
      "\n",
      "\n",
      "0.7620237351655216\n",
      "             precision    recall  f1-score   support\n",
      "\n",
      "         FE     0.6719    0.5591    0.6103       381\n",
      "         UE     0.7220    0.8491    0.7804       676\n",
      "          W     0.8855    0.7960    0.8383       544\n",
      "\n",
      "avg / total     0.7656    0.7620    0.7596      1601\n",
      "\n"
     ]
    }
   ],
   "source": [
    "estimator = DecisionTreeClassifier(max_depth=4,random_state=123)\n",
    "estimator.fit(X_train, y_train)\n",
    "\n",
    "y1_pred_ = estimator.predict(X_train)\n",
    "y_pred_ = estimator.predict(X_test)\n",
    "\n",
    "print(accuracy_score(y_train,y1_pred_))\n",
    "print(classification_report(y_train,y1_pred_,digits=4))\n",
    "print(\"\\n\")\n",
    "\n",
    "print(accuracy_score(y_test,y_pred_))\n",
    "print(classification_report(y_test,y_pred_,digits=4))"
   ]
  },
  {
   "cell_type": "code",
   "execution_count": 26,
   "metadata": {},
   "outputs": [
    {
     "name": "stdout",
     "output_type": "stream",
     "text": [
      "[[213 133  35]\n",
      " [ 81 574  21]\n",
      " [ 23  88 433]]\n"
     ]
    }
   ],
   "source": [
    "print(confusion_matrix(y_test, y_pred_))"
   ]
  },
  {
   "cell_type": "code",
   "execution_count": 27,
   "metadata": {},
   "outputs": [],
   "source": [
    "def plot_tree(tree,dataframe,label_col,plot_title):\n",
    "    label_names=pd.unique(dataframe[label_col])\n",
    "   \n",
    "    # Obtaining plot data\n",
    "    graph_data=export_graphviz(tree,feature_names=dataframe.drop(label_col,axis=1).columns,\n",
    "                               class_names=label_names,filled=True,rounded=True,out_file=None)\n",
    "\n",
    "    # Generating plot\n",
    "    graph=graphviz.Source(graph_data)\n",
    "    graph.render(plot_title)\n",
    "    \n",
    "    ## Write image to pdf\n",
    "    return graph"
   ]
  },
  {
   "cell_type": "code",
   "execution_count": 28,
   "metadata": {},
   "outputs": [
    {
     "data": {
      "image/svg+xml": [
       "<?xml version=\"1.0\" encoding=\"UTF-8\" standalone=\"no\"?>\n",
       "<!DOCTYPE svg PUBLIC \"-//W3C//DTD SVG 1.1//EN\"\n",
       " \"http://www.w3.org/Graphics/SVG/1.1/DTD/svg11.dtd\">\n",
       "<!-- Generated by graphviz version 2.40.1 (20161225.0304)\n",
       " -->\n",
       "<!-- Title: Tree Pages: 1 -->\n",
       "<svg width=\"2454pt\" height=\"528pt\"\n",
       " viewBox=\"0.00 0.00 2454.37 528.00\" xmlns=\"http://www.w3.org/2000/svg\" xmlns:xlink=\"http://www.w3.org/1999/xlink\">\n",
       "<g id=\"graph0\" class=\"graph\" transform=\"scale(1 1) rotate(0) translate(4 524)\">\n",
       "<title>Tree</title>\n",
       "<polygon fill=\"#ffffff\" stroke=\"transparent\" points=\"-4,4 -4,-524 2450.3716,-524 2450.3716,4 -4,4\"/>\n",
       "<!-- 0 -->\n",
       "<g id=\"node1\" class=\"node\">\n",
       "<title>0</title>\n",
       "<path fill=\"#39e581\" fill-opacity=\"0.160784\" stroke=\"#000000\" d=\"M1291.9347,-520C1291.9347,-520 1133.5438,-520 1133.5438,-520 1127.5438,-520 1121.5438,-514 1121.5438,-508 1121.5438,-508 1121.5438,-454 1121.5438,-454 1121.5438,-448 1127.5438,-442 1133.5438,-442 1133.5438,-442 1291.9347,-442 1291.9347,-442 1297.9347,-442 1303.9347,-448 1303.9347,-454 1303.9347,-454 1303.9347,-508 1303.9347,-508 1303.9347,-514 1297.9347,-520 1291.9347,-520\"/>\n",
       "<text text-anchor=\"middle\" x=\"1212.7393\" y=\"-504.8\" font-family=\"Helvetica,sans-Serif\" font-size=\"14.00\" fill=\"#000000\">net.clearance &lt;= 0.016</text>\n",
       "<text text-anchor=\"middle\" x=\"1212.7393\" y=\"-490.8\" font-family=\"Helvetica,sans-Serif\" font-size=\"14.00\" fill=\"#000000\">gini = 0.643</text>\n",
       "<text text-anchor=\"middle\" x=\"1212.7393\" y=\"-476.8\" font-family=\"Helvetica,sans-Serif\" font-size=\"14.00\" fill=\"#000000\">samples = 6400</text>\n",
       "<text text-anchor=\"middle\" x=\"1212.7393\" y=\"-462.8\" font-family=\"Helvetica,sans-Serif\" font-size=\"14.00\" fill=\"#000000\">value = [1437, 2825, 2138]</text>\n",
       "<text text-anchor=\"middle\" x=\"1212.7393\" y=\"-448.8\" font-family=\"Helvetica,sans-Serif\" font-size=\"14.00\" fill=\"#000000\">class = FE</text>\n",
       "</g>\n",
       "<!-- 1 -->\n",
       "<g id=\"node2\" class=\"node\">\n",
       "<title>1</title>\n",
       "<path fill=\"#39e581\" fill-opacity=\"0.400000\" stroke=\"#000000\" d=\"M989.5765,-406C989.5765,-406 815.9021,-406 815.9021,-406 809.9021,-406 803.9021,-400 803.9021,-394 803.9021,-394 803.9021,-340 803.9021,-340 803.9021,-334 809.9021,-328 815.9021,-328 815.9021,-328 989.5765,-328 989.5765,-328 995.5765,-328 1001.5765,-334 1001.5765,-340 1001.5765,-340 1001.5765,-394 1001.5765,-394 1001.5765,-400 995.5765,-406 989.5765,-406\"/>\n",
       "<text text-anchor=\"middle\" x=\"902.7393\" y=\"-390.8\" font-family=\"Helvetica,sans-Serif\" font-size=\"14.00\" fill=\"#000000\">previous.time.to.net &lt;= 0.455</text>\n",
       "<text text-anchor=\"middle\" x=\"902.7393\" y=\"-376.8\" font-family=\"Helvetica,sans-Serif\" font-size=\"14.00\" fill=\"#000000\">gini = 0.493</text>\n",
       "<text text-anchor=\"middle\" x=\"902.7393\" y=\"-362.8\" font-family=\"Helvetica,sans-Serif\" font-size=\"14.00\" fill=\"#000000\">samples = 1787</text>\n",
       "<text text-anchor=\"middle\" x=\"902.7393\" y=\"-348.8\" font-family=\"Helvetica,sans-Serif\" font-size=\"14.00\" fill=\"#000000\">value = [640, 1099, 48]</text>\n",
       "<text text-anchor=\"middle\" x=\"902.7393\" y=\"-334.8\" font-family=\"Helvetica,sans-Serif\" font-size=\"14.00\" fill=\"#000000\">class = FE</text>\n",
       "</g>\n",
       "<!-- 0&#45;&gt;1 -->\n",
       "<g id=\"edge1\" class=\"edge\">\n",
       "<title>0&#45;&gt;1</title>\n",
       "<path fill=\"none\" stroke=\"#000000\" d=\"M1121.4057,-447.4128C1086.8128,-434.6915 1047.0989,-420.0871 1011.0895,-406.8449\"/>\n",
       "<polygon fill=\"#000000\" stroke=\"#000000\" points=\"1012.1244,-403.4964 1001.5309,-403.3298 1009.7084,-410.0663 1012.1244,-403.4964\"/>\n",
       "<text text-anchor=\"middle\" x=\"1012.0209\" y=\"-421.8225\" font-family=\"Helvetica,sans-Serif\" font-size=\"14.00\" fill=\"#000000\">True</text>\n",
       "</g>\n",
       "<!-- 16 -->\n",
       "<g id=\"node17\" class=\"node\">\n",
       "<title>16</title>\n",
       "<path fill=\"#8139e5\" fill-opacity=\"0.125490\" stroke=\"#000000\" d=\"M1579.1489,-406C1579.1489,-406 1428.3296,-406 1428.3296,-406 1422.3296,-406 1416.3296,-400 1416.3296,-394 1416.3296,-394 1416.3296,-340 1416.3296,-340 1416.3296,-334 1422.3296,-328 1428.3296,-328 1428.3296,-328 1579.1489,-328 1579.1489,-328 1585.1489,-328 1591.1489,-334 1591.1489,-340 1591.1489,-340 1591.1489,-394 1591.1489,-394 1591.1489,-400 1585.1489,-406 1579.1489,-406\"/>\n",
       "<text text-anchor=\"middle\" x=\"1503.7393\" y=\"-390.8\" font-family=\"Helvetica,sans-Serif\" font-size=\"14.00\" fill=\"#000000\">net.clearance &lt;= 0.643</text>\n",
       "<text text-anchor=\"middle\" x=\"1503.7393\" y=\"-376.8\" font-family=\"Helvetica,sans-Serif\" font-size=\"14.00\" fill=\"#000000\">gini = 0.625</text>\n",
       "<text text-anchor=\"middle\" x=\"1503.7393\" y=\"-362.8\" font-family=\"Helvetica,sans-Serif\" font-size=\"14.00\" fill=\"#000000\">samples = 4613</text>\n",
       "<text text-anchor=\"middle\" x=\"1503.7393\" y=\"-348.8\" font-family=\"Helvetica,sans-Serif\" font-size=\"14.00\" fill=\"#000000\">value = [797, 1726, 2090]</text>\n",
       "<text text-anchor=\"middle\" x=\"1503.7393\" y=\"-334.8\" font-family=\"Helvetica,sans-Serif\" font-size=\"14.00\" fill=\"#000000\">class = W</text>\n",
       "</g>\n",
       "<!-- 0&#45;&gt;16 -->\n",
       "<g id=\"edge16\" class=\"edge\">\n",
       "<title>0&#45;&gt;16</title>\n",
       "<path fill=\"none\" stroke=\"#000000\" d=\"M1304.0151,-445.2425C1336.6318,-432.4648 1373.4909,-418.0251 1406.5852,-405.0604\"/>\n",
       "<polygon fill=\"#000000\" stroke=\"#000000\" points=\"1408.2335,-408.1737 1416.2679,-401.2671 1405.6802,-401.656 1408.2335,-408.1737\"/>\n",
       "<text text-anchor=\"middle\" x=\"1406.2563\" y=\"-419.975\" font-family=\"Helvetica,sans-Serif\" font-size=\"14.00\" fill=\"#000000\">False</text>\n",
       "</g>\n",
       "<!-- 2 -->\n",
       "<g id=\"node3\" class=\"node\">\n",
       "<title>2</title>\n",
       "<path fill=\"#e58139\" fill-opacity=\"0.415686\" stroke=\"#000000\" d=\"M579.6106,-292C579.6106,-292 335.8679,-292 335.8679,-292 329.8679,-292 323.8679,-286 323.8679,-280 323.8679,-280 323.8679,-226 323.8679,-226 323.8679,-220 329.8679,-214 335.8679,-214 335.8679,-214 579.6106,-214 579.6106,-214 585.6106,-214 591.6106,-220 591.6106,-226 591.6106,-226 591.6106,-280 591.6106,-280 591.6106,-286 585.6106,-292 579.6106,-292\"/>\n",
       "<text text-anchor=\"middle\" x=\"457.7393\" y=\"-276.8\" font-family=\"Helvetica,sans-Serif\" font-size=\"14.00\" fill=\"#000000\">previous.distance.from.sideline &lt;= 1.594</text>\n",
       "<text text-anchor=\"middle\" x=\"457.7393\" y=\"-262.8\" font-family=\"Helvetica,sans-Serif\" font-size=\"14.00\" fill=\"#000000\">gini = 0.485</text>\n",
       "<text text-anchor=\"middle\" x=\"457.7393\" y=\"-248.8\" font-family=\"Helvetica,sans-Serif\" font-size=\"14.00\" fill=\"#000000\">samples = 675</text>\n",
       "<text text-anchor=\"middle\" x=\"457.7393\" y=\"-234.8\" font-family=\"Helvetica,sans-Serif\" font-size=\"14.00\" fill=\"#000000\">value = [421, 239, 15]</text>\n",
       "<text text-anchor=\"middle\" x=\"457.7393\" y=\"-220.8\" font-family=\"Helvetica,sans-Serif\" font-size=\"14.00\" fill=\"#000000\">class = UE</text>\n",
       "</g>\n",
       "<!-- 1&#45;&gt;2 -->\n",
       "<g id=\"edge2\" class=\"edge\">\n",
       "<title>1&#45;&gt;2</title>\n",
       "<path fill=\"none\" stroke=\"#000000\" d=\"M803.9793,-341.6997C744.5524,-326.4757 667.8576,-306.8281 601.7604,-289.8953\"/>\n",
       "<polygon fill=\"#000000\" stroke=\"#000000\" points=\"602.2245,-286.4012 591.6687,-287.31 600.4873,-293.1823 602.2245,-286.4012\"/>\n",
       "</g>\n",
       "<!-- 9 -->\n",
       "<g id=\"node10\" class=\"node\">\n",
       "<title>9</title>\n",
       "<path fill=\"#39e581\" fill-opacity=\"0.717647\" stroke=\"#000000\" d=\"M966.29,-292C966.29,-292 839.1885,-292 839.1885,-292 833.1885,-292 827.1885,-286 827.1885,-280 827.1885,-280 827.1885,-226 827.1885,-226 827.1885,-220 833.1885,-214 839.1885,-214 839.1885,-214 966.29,-214 966.29,-214 972.29,-214 978.29,-220 978.29,-226 978.29,-226 978.29,-280 978.29,-280 978.29,-286 972.29,-292 966.29,-292\"/>\n",
       "<text text-anchor=\"middle\" x=\"902.7393\" y=\"-276.8\" font-family=\"Helvetica,sans-Serif\" font-size=\"14.00\" fill=\"#000000\">speed &lt;= 29.417</text>\n",
       "<text text-anchor=\"middle\" x=\"902.7393\" y=\"-262.8\" font-family=\"Helvetica,sans-Serif\" font-size=\"14.00\" fill=\"#000000\">gini = 0.362</text>\n",
       "<text text-anchor=\"middle\" x=\"902.7393\" y=\"-248.8\" font-family=\"Helvetica,sans-Serif\" font-size=\"14.00\" fill=\"#000000\">samples = 1112</text>\n",
       "<text text-anchor=\"middle\" x=\"902.7393\" y=\"-234.8\" font-family=\"Helvetica,sans-Serif\" font-size=\"14.00\" fill=\"#000000\">value = [219, 860, 33]</text>\n",
       "<text text-anchor=\"middle\" x=\"902.7393\" y=\"-220.8\" font-family=\"Helvetica,sans-Serif\" font-size=\"14.00\" fill=\"#000000\">class = FE</text>\n",
       "</g>\n",
       "<!-- 1&#45;&gt;9 -->\n",
       "<g id=\"edge9\" class=\"edge\">\n",
       "<title>1&#45;&gt;9</title>\n",
       "<path fill=\"none\" stroke=\"#000000\" d=\"M902.7393,-327.7677C902.7393,-319.6172 902.7393,-310.9283 902.7393,-302.4649\"/>\n",
       "<polygon fill=\"#000000\" stroke=\"#000000\" points=\"906.2394,-302.3046 902.7393,-292.3046 899.2394,-302.3047 906.2394,-302.3046\"/>\n",
       "</g>\n",
       "<!-- 3 -->\n",
       "<g id=\"node4\" class=\"node\">\n",
       "<title>3</title>\n",
       "<path fill=\"#e58139\" fill-opacity=\"0.792157\" stroke=\"#000000\" d=\"M273.7186,-178C273.7186,-178 161.7599,-178 161.7599,-178 155.7599,-178 149.7599,-172 149.7599,-166 149.7599,-166 149.7599,-112 149.7599,-112 149.7599,-106 155.7599,-100 161.7599,-100 161.7599,-100 273.7186,-100 273.7186,-100 279.7186,-100 285.7186,-106 285.7186,-112 285.7186,-112 285.7186,-166 285.7186,-166 285.7186,-172 279.7186,-178 273.7186,-178\"/>\n",
       "<text text-anchor=\"middle\" x=\"217.7393\" y=\"-162.8\" font-family=\"Helvetica,sans-Serif\" font-size=\"14.00\" fill=\"#000000\">speed &lt;= 30.956</text>\n",
       "<text text-anchor=\"middle\" x=\"217.7393\" y=\"-148.8\" font-family=\"Helvetica,sans-Serif\" font-size=\"14.00\" fill=\"#000000\">gini = 0.289</text>\n",
       "<text text-anchor=\"middle\" x=\"217.7393\" y=\"-134.8\" font-family=\"Helvetica,sans-Serif\" font-size=\"14.00\" fill=\"#000000\">samples = 307</text>\n",
       "<text text-anchor=\"middle\" x=\"217.7393\" y=\"-120.8\" font-family=\"Helvetica,sans-Serif\" font-size=\"14.00\" fill=\"#000000\">value = [254, 50, 3]</text>\n",
       "<text text-anchor=\"middle\" x=\"217.7393\" y=\"-106.8\" font-family=\"Helvetica,sans-Serif\" font-size=\"14.00\" fill=\"#000000\">class = UE</text>\n",
       "</g>\n",
       "<!-- 2&#45;&gt;3 -->\n",
       "<g id=\"edge3\" class=\"edge\">\n",
       "<title>2&#45;&gt;3</title>\n",
       "<path fill=\"none\" stroke=\"#000000\" d=\"M375.4806,-213.9272C349.3766,-201.5277 320.6197,-187.8682 294.8887,-175.646\"/>\n",
       "<polygon fill=\"#000000\" stroke=\"#000000\" points=\"296.0908,-172.3422 285.5563,-171.2131 293.0874,-178.6652 296.0908,-172.3422\"/>\n",
       "</g>\n",
       "<!-- 6 -->\n",
       "<g id=\"node7\" class=\"node\">\n",
       "<title>6</title>\n",
       "<path fill=\"#39e581\" fill-opacity=\"0.109804\" stroke=\"#000000\" d=\"M544.5765,-178C544.5765,-178 370.9021,-178 370.9021,-178 364.9021,-178 358.9021,-172 358.9021,-166 358.9021,-166 358.9021,-112 358.9021,-112 358.9021,-106 364.9021,-100 370.9021,-100 370.9021,-100 544.5765,-100 544.5765,-100 550.5765,-100 556.5765,-106 556.5765,-112 556.5765,-112 556.5765,-166 556.5765,-166 556.5765,-172 550.5765,-178 544.5765,-178\"/>\n",
       "<text text-anchor=\"middle\" x=\"457.7393\" y=\"-162.8\" font-family=\"Helvetica,sans-Serif\" font-size=\"14.00\" fill=\"#000000\">previous.time.to.net &lt;= 0.377</text>\n",
       "<text text-anchor=\"middle\" x=\"457.7393\" y=\"-148.8\" font-family=\"Helvetica,sans-Serif\" font-size=\"14.00\" fill=\"#000000\">gini = 0.529</text>\n",
       "<text text-anchor=\"middle\" x=\"457.7393\" y=\"-134.8\" font-family=\"Helvetica,sans-Serif\" font-size=\"14.00\" fill=\"#000000\">samples = 368</text>\n",
       "<text text-anchor=\"middle\" x=\"457.7393\" y=\"-120.8\" font-family=\"Helvetica,sans-Serif\" font-size=\"14.00\" fill=\"#000000\">value = [167, 189, 12]</text>\n",
       "<text text-anchor=\"middle\" x=\"457.7393\" y=\"-106.8\" font-family=\"Helvetica,sans-Serif\" font-size=\"14.00\" fill=\"#000000\">class = FE</text>\n",
       "</g>\n",
       "<!-- 2&#45;&gt;6 -->\n",
       "<g id=\"edge6\" class=\"edge\">\n",
       "<title>2&#45;&gt;6</title>\n",
       "<path fill=\"none\" stroke=\"#000000\" d=\"M457.7393,-213.7677C457.7393,-205.6172 457.7393,-196.9283 457.7393,-188.4649\"/>\n",
       "<polygon fill=\"#000000\" stroke=\"#000000\" points=\"461.2394,-188.3046 457.7393,-178.3046 454.2394,-188.3047 461.2394,-188.3046\"/>\n",
       "</g>\n",
       "<!-- 4 -->\n",
       "<g id=\"node5\" class=\"node\">\n",
       "<title>4</title>\n",
       "<path fill=\"#e58139\" fill-opacity=\"0.921569\" stroke=\"#000000\" d=\"M123.7186,-64C123.7186,-64 11.7599,-64 11.7599,-64 5.7599,-64 -.2401,-58 -.2401,-52 -.2401,-52 -.2401,-12 -.2401,-12 -.2401,-6 5.7599,0 11.7599,0 11.7599,0 123.7186,0 123.7186,0 129.7186,0 135.7186,-6 135.7186,-12 135.7186,-12 135.7186,-52 135.7186,-52 135.7186,-58 129.7186,-64 123.7186,-64\"/>\n",
       "<text text-anchor=\"middle\" x=\"67.7393\" y=\"-48.8\" font-family=\"Helvetica,sans-Serif\" font-size=\"14.00\" fill=\"#000000\">gini = 0.137</text>\n",
       "<text text-anchor=\"middle\" x=\"67.7393\" y=\"-34.8\" font-family=\"Helvetica,sans-Serif\" font-size=\"14.00\" fill=\"#000000\">samples = 204</text>\n",
       "<text text-anchor=\"middle\" x=\"67.7393\" y=\"-20.8\" font-family=\"Helvetica,sans-Serif\" font-size=\"14.00\" fill=\"#000000\">value = [189, 14, 1]</text>\n",
       "<text text-anchor=\"middle\" x=\"67.7393\" y=\"-6.8\" font-family=\"Helvetica,sans-Serif\" font-size=\"14.00\" fill=\"#000000\">class = UE</text>\n",
       "</g>\n",
       "<!-- 3&#45;&gt;4 -->\n",
       "<g id=\"edge4\" class=\"edge\">\n",
       "<title>3&#45;&gt;4</title>\n",
       "<path fill=\"none\" stroke=\"#000000\" d=\"M162.7365,-99.7647C149.1651,-90.0838 134.6512,-79.7305 121.1563,-70.1042\"/>\n",
       "<polygon fill=\"#000000\" stroke=\"#000000\" points=\"123.0767,-67.1748 112.9031,-64.2169 119.0116,-72.8735 123.0767,-67.1748\"/>\n",
       "</g>\n",
       "<!-- 5 -->\n",
       "<g id=\"node6\" class=\"node\">\n",
       "<title>5</title>\n",
       "<path fill=\"#e58139\" fill-opacity=\"0.431373\" stroke=\"#000000\" d=\"M269.432,-64C269.432,-64 166.0465,-64 166.0465,-64 160.0465,-64 154.0465,-58 154.0465,-52 154.0465,-52 154.0465,-12 154.0465,-12 154.0465,-6 160.0465,0 166.0465,0 166.0465,0 269.432,0 269.432,0 275.432,0 281.432,-6 281.432,-12 281.432,-12 281.432,-52 281.432,-52 281.432,-58 275.432,-64 269.432,-64\"/>\n",
       "<text text-anchor=\"middle\" x=\"217.7393\" y=\"-48.8\" font-family=\"Helvetica,sans-Serif\" font-size=\"14.00\" fill=\"#000000\">gini = 0.479</text>\n",
       "<text text-anchor=\"middle\" x=\"217.7393\" y=\"-34.8\" font-family=\"Helvetica,sans-Serif\" font-size=\"14.00\" fill=\"#000000\">samples = 103</text>\n",
       "<text text-anchor=\"middle\" x=\"217.7393\" y=\"-20.8\" font-family=\"Helvetica,sans-Serif\" font-size=\"14.00\" fill=\"#000000\">value = [65, 36, 2]</text>\n",
       "<text text-anchor=\"middle\" x=\"217.7393\" y=\"-6.8\" font-family=\"Helvetica,sans-Serif\" font-size=\"14.00\" fill=\"#000000\">class = UE</text>\n",
       "</g>\n",
       "<!-- 3&#45;&gt;5 -->\n",
       "<g id=\"edge5\" class=\"edge\">\n",
       "<title>3&#45;&gt;5</title>\n",
       "<path fill=\"none\" stroke=\"#000000\" d=\"M217.7393,-99.7647C217.7393,-91.4537 217.7393,-82.6472 217.7393,-74.2305\"/>\n",
       "<polygon fill=\"#000000\" stroke=\"#000000\" points=\"221.2394,-74.2168 217.7393,-64.2169 214.2394,-74.2169 221.2394,-74.2168\"/>\n",
       "</g>\n",
       "<!-- 7 -->\n",
       "<g id=\"node8\" class=\"node\">\n",
       "<title>7</title>\n",
       "<path fill=\"#e58139\" fill-opacity=\"0.705882\" stroke=\"#000000\" d=\"M415.432,-64C415.432,-64 312.0465,-64 312.0465,-64 306.0465,-64 300.0465,-58 300.0465,-52 300.0465,-52 300.0465,-12 300.0465,-12 300.0465,-6 306.0465,0 312.0465,0 312.0465,0 415.432,0 415.432,0 421.432,0 427.432,-6 427.432,-12 427.432,-12 427.432,-52 427.432,-52 427.432,-58 421.432,-64 415.432,-64\"/>\n",
       "<text text-anchor=\"middle\" x=\"363.7393\" y=\"-48.8\" font-family=\"Helvetica,sans-Serif\" font-size=\"14.00\" fill=\"#000000\">gini = 0.381</text>\n",
       "<text text-anchor=\"middle\" x=\"363.7393\" y=\"-34.8\" font-family=\"Helvetica,sans-Serif\" font-size=\"14.00\" fill=\"#000000\">samples = 109</text>\n",
       "<text text-anchor=\"middle\" x=\"363.7393\" y=\"-20.8\" font-family=\"Helvetica,sans-Serif\" font-size=\"14.00\" fill=\"#000000\">value = [83, 21, 5]</text>\n",
       "<text text-anchor=\"middle\" x=\"363.7393\" y=\"-6.8\" font-family=\"Helvetica,sans-Serif\" font-size=\"14.00\" fill=\"#000000\">class = UE</text>\n",
       "</g>\n",
       "<!-- 6&#45;&gt;7 -->\n",
       "<g id=\"edge7\" class=\"edge\">\n",
       "<title>6&#45;&gt;7</title>\n",
       "<path fill=\"none\" stroke=\"#000000\" d=\"M423.2709,-99.7647C415.2475,-90.6317 406.6985,-80.9004 398.6559,-71.7456\"/>\n",
       "<polygon fill=\"#000000\" stroke=\"#000000\" points=\"401.2714,-69.4196 392.0419,-64.2169 396.0125,-74.0396 401.2714,-69.4196\"/>\n",
       "</g>\n",
       "<!-- 8 -->\n",
       "<g id=\"node9\" class=\"node\">\n",
       "<title>8</title>\n",
       "<path fill=\"#39e581\" fill-opacity=\"0.478431\" stroke=\"#000000\" d=\"M569.7186,-64C569.7186,-64 457.7599,-64 457.7599,-64 451.7599,-64 445.7599,-58 445.7599,-52 445.7599,-52 445.7599,-12 445.7599,-12 445.7599,-6 451.7599,0 457.7599,0 457.7599,0 569.7186,0 569.7186,0 575.7186,0 581.7186,-6 581.7186,-12 581.7186,-12 581.7186,-52 581.7186,-52 581.7186,-58 575.7186,-64 569.7186,-64\"/>\n",
       "<text text-anchor=\"middle\" x=\"513.7393\" y=\"-48.8\" font-family=\"Helvetica,sans-Serif\" font-size=\"14.00\" fill=\"#000000\">gini = 0.473</text>\n",
       "<text text-anchor=\"middle\" x=\"513.7393\" y=\"-34.8\" font-family=\"Helvetica,sans-Serif\" font-size=\"14.00\" fill=\"#000000\">samples = 259</text>\n",
       "<text text-anchor=\"middle\" x=\"513.7393\" y=\"-20.8\" font-family=\"Helvetica,sans-Serif\" font-size=\"14.00\" fill=\"#000000\">value = [84, 168, 7]</text>\n",
       "<text text-anchor=\"middle\" x=\"513.7393\" y=\"-6.8\" font-family=\"Helvetica,sans-Serif\" font-size=\"14.00\" fill=\"#000000\">class = FE</text>\n",
       "</g>\n",
       "<!-- 6&#45;&gt;8 -->\n",
       "<g id=\"edge8\" class=\"edge\">\n",
       "<title>6&#45;&gt;8</title>\n",
       "<path fill=\"none\" stroke=\"#000000\" d=\"M478.2736,-99.7647C482.8145,-91.0884 487.638,-81.8721 492.217,-73.123\"/>\n",
       "<polygon fill=\"#000000\" stroke=\"#000000\" points=\"495.342,-74.6998 496.8781,-64.2169 489.1401,-71.4539 495.342,-74.6998\"/>\n",
       "</g>\n",
       "<!-- 10 -->\n",
       "<g id=\"node11\" class=\"node\">\n",
       "<title>10</title>\n",
       "<path fill=\"#39e581\" fill-opacity=\"0.211765\" stroke=\"#000000\" d=\"M882.6106,-178C882.6106,-178 638.8679,-178 638.8679,-178 632.8679,-178 626.8679,-172 626.8679,-166 626.8679,-166 626.8679,-112 626.8679,-112 626.8679,-106 632.8679,-100 638.8679,-100 638.8679,-100 882.6106,-100 882.6106,-100 888.6106,-100 894.6106,-106 894.6106,-112 894.6106,-112 894.6106,-166 894.6106,-166 894.6106,-172 888.6106,-178 882.6106,-178\"/>\n",
       "<text text-anchor=\"middle\" x=\"760.7393\" y=\"-162.8\" font-family=\"Helvetica,sans-Serif\" font-size=\"14.00\" fill=\"#000000\">previous.distance.from.sideline &lt;= 1.584</text>\n",
       "<text text-anchor=\"middle\" x=\"760.7393\" y=\"-148.8\" font-family=\"Helvetica,sans-Serif\" font-size=\"14.00\" fill=\"#000000\">gini = 0.527</text>\n",
       "<text text-anchor=\"middle\" x=\"760.7393\" y=\"-134.8\" font-family=\"Helvetica,sans-Serif\" font-size=\"14.00\" fill=\"#000000\">samples = 355</text>\n",
       "<text text-anchor=\"middle\" x=\"760.7393\" y=\"-120.8\" font-family=\"Helvetica,sans-Serif\" font-size=\"14.00\" fill=\"#000000\">value = [149, 193, 13]</text>\n",
       "<text text-anchor=\"middle\" x=\"760.7393\" y=\"-106.8\" font-family=\"Helvetica,sans-Serif\" font-size=\"14.00\" fill=\"#000000\">class = FE</text>\n",
       "</g>\n",
       "<!-- 9&#45;&gt;10 -->\n",
       "<g id=\"edge10\" class=\"edge\">\n",
       "<title>9&#45;&gt;10</title>\n",
       "<path fill=\"none\" stroke=\"#000000\" d=\"M853.8709,-213.7677C842.1567,-204.3633 829.5494,-194.242 817.5112,-184.5775\"/>\n",
       "<polygon fill=\"#000000\" stroke=\"#000000\" points=\"819.6868,-181.8357 809.6977,-178.3046 815.3045,-187.2943 819.6868,-181.8357\"/>\n",
       "</g>\n",
       "<!-- 13 -->\n",
       "<g id=\"node14\" class=\"node\">\n",
       "<title>13</title>\n",
       "<path fill=\"#39e581\" fill-opacity=\"0.870588\" stroke=\"#000000\" d=\"M1167.6106,-178C1167.6106,-178 923.8679,-178 923.8679,-178 917.8679,-178 911.8679,-172 911.8679,-166 911.8679,-166 911.8679,-112 911.8679,-112 911.8679,-106 917.8679,-100 923.8679,-100 923.8679,-100 1167.6106,-100 1167.6106,-100 1173.6106,-100 1179.6106,-106 1179.6106,-112 1179.6106,-112 1179.6106,-166 1179.6106,-166 1179.6106,-172 1173.6106,-178 1167.6106,-178\"/>\n",
       "<text text-anchor=\"middle\" x=\"1045.7393\" y=\"-162.8\" font-family=\"Helvetica,sans-Serif\" font-size=\"14.00\" fill=\"#000000\">previous.distance.from.sideline &lt;= 1.155</text>\n",
       "<text text-anchor=\"middle\" x=\"1045.7393\" y=\"-148.8\" font-family=\"Helvetica,sans-Serif\" font-size=\"14.00\" fill=\"#000000\">gini = 0.214</text>\n",
       "<text text-anchor=\"middle\" x=\"1045.7393\" y=\"-134.8\" font-family=\"Helvetica,sans-Serif\" font-size=\"14.00\" fill=\"#000000\">samples = 757</text>\n",
       "<text text-anchor=\"middle\" x=\"1045.7393\" y=\"-120.8\" font-family=\"Helvetica,sans-Serif\" font-size=\"14.00\" fill=\"#000000\">value = [70, 667, 20]</text>\n",
       "<text text-anchor=\"middle\" x=\"1045.7393\" y=\"-106.8\" font-family=\"Helvetica,sans-Serif\" font-size=\"14.00\" fill=\"#000000\">class = FE</text>\n",
       "</g>\n",
       "<!-- 9&#45;&gt;13 -->\n",
       "<g id=\"edge13\" class=\"edge\">\n",
       "<title>9&#45;&gt;13</title>\n",
       "<path fill=\"none\" stroke=\"#000000\" d=\"M951.9517,-213.7677C963.7484,-204.3633 976.4445,-194.242 988.5675,-184.5775\"/>\n",
       "<polygon fill=\"#000000\" stroke=\"#000000\" points=\"990.7985,-187.2751 996.4361,-178.3046 986.4349,-181.8015 990.7985,-187.2751\"/>\n",
       "</g>\n",
       "<!-- 11 -->\n",
       "<g id=\"node12\" class=\"node\">\n",
       "<title>11</title>\n",
       "<path fill=\"#e58139\" fill-opacity=\"0.427451\" stroke=\"#000000\" d=\"M715.432,-64C715.432,-64 612.0465,-64 612.0465,-64 606.0465,-64 600.0465,-58 600.0465,-52 600.0465,-52 600.0465,-12 600.0465,-12 600.0465,-6 606.0465,0 612.0465,0 612.0465,0 715.432,0 715.432,0 721.432,0 727.432,-6 727.432,-12 727.432,-12 727.432,-52 727.432,-52 727.432,-58 721.432,-64 715.432,-64\"/>\n",
       "<text text-anchor=\"middle\" x=\"663.7393\" y=\"-48.8\" font-family=\"Helvetica,sans-Serif\" font-size=\"14.00\" fill=\"#000000\">gini = 0.5</text>\n",
       "<text text-anchor=\"middle\" x=\"663.7393\" y=\"-34.8\" font-family=\"Helvetica,sans-Serif\" font-size=\"14.00\" fill=\"#000000\">samples = 142</text>\n",
       "<text text-anchor=\"middle\" x=\"663.7393\" y=\"-20.8\" font-family=\"Helvetica,sans-Serif\" font-size=\"14.00\" fill=\"#000000\">value = [88, 48, 6]</text>\n",
       "<text text-anchor=\"middle\" x=\"663.7393\" y=\"-6.8\" font-family=\"Helvetica,sans-Serif\" font-size=\"14.00\" fill=\"#000000\">class = UE</text>\n",
       "</g>\n",
       "<!-- 10&#45;&gt;11 -->\n",
       "<g id=\"edge11\" class=\"edge\">\n",
       "<title>10&#45;&gt;11</title>\n",
       "<path fill=\"none\" stroke=\"#000000\" d=\"M725.1708,-99.7647C716.8914,-90.6317 708.0695,-80.9004 699.7703,-71.7456\"/>\n",
       "<polygon fill=\"#000000\" stroke=\"#000000\" points=\"702.2547,-69.2749 692.9452,-64.2169 697.0685,-73.9764 702.2547,-69.2749\"/>\n",
       "</g>\n",
       "<!-- 12 -->\n",
       "<g id=\"node13\" class=\"node\">\n",
       "<title>12</title>\n",
       "<path fill=\"#39e581\" fill-opacity=\"0.552941\" stroke=\"#000000\" d=\"M869.7186,-64C869.7186,-64 757.7599,-64 757.7599,-64 751.7599,-64 745.7599,-58 745.7599,-52 745.7599,-52 745.7599,-12 745.7599,-12 745.7599,-6 751.7599,0 757.7599,0 757.7599,0 869.7186,0 869.7186,0 875.7186,0 881.7186,-6 881.7186,-12 881.7186,-12 881.7186,-52 881.7186,-52 881.7186,-58 875.7186,-64 869.7186,-64\"/>\n",
       "<text text-anchor=\"middle\" x=\"813.7393\" y=\"-48.8\" font-family=\"Helvetica,sans-Serif\" font-size=\"14.00\" fill=\"#000000\">gini = 0.453</text>\n",
       "<text text-anchor=\"middle\" x=\"813.7393\" y=\"-34.8\" font-family=\"Helvetica,sans-Serif\" font-size=\"14.00\" fill=\"#000000\">samples = 213</text>\n",
       "<text text-anchor=\"middle\" x=\"813.7393\" y=\"-20.8\" font-family=\"Helvetica,sans-Serif\" font-size=\"14.00\" fill=\"#000000\">value = [61, 145, 7]</text>\n",
       "<text text-anchor=\"middle\" x=\"813.7393\" y=\"-6.8\" font-family=\"Helvetica,sans-Serif\" font-size=\"14.00\" fill=\"#000000\">class = FE</text>\n",
       "</g>\n",
       "<!-- 10&#45;&gt;12 -->\n",
       "<g id=\"edge12\" class=\"edge\">\n",
       "<title>10&#45;&gt;12</title>\n",
       "<path fill=\"none\" stroke=\"#000000\" d=\"M780.1736,-99.7647C784.4259,-91.1797 788.9402,-82.066 793.233,-73.3994\"/>\n",
       "<polygon fill=\"#000000\" stroke=\"#000000\" points=\"796.479,-74.7314 797.7814,-64.2169 790.2064,-71.6243 796.479,-74.7314\"/>\n",
       "</g>\n",
       "<!-- 14 -->\n",
       "<g id=\"node15\" class=\"node\">\n",
       "<title>14</title>\n",
       "<path fill=\"#39e581\" fill-opacity=\"0.454902\" stroke=\"#000000\" d=\"M1015.432,-64C1015.432,-64 912.0465,-64 912.0465,-64 906.0465,-64 900.0465,-58 900.0465,-52 900.0465,-52 900.0465,-12 900.0465,-12 900.0465,-6 906.0465,0 912.0465,0 912.0465,0 1015.432,0 1015.432,0 1021.432,0 1027.432,-6 1027.432,-12 1027.432,-12 1027.432,-52 1027.432,-52 1027.432,-58 1021.432,-64 1015.432,-64\"/>\n",
       "<text text-anchor=\"middle\" x=\"963.7393\" y=\"-48.8\" font-family=\"Helvetica,sans-Serif\" font-size=\"14.00\" fill=\"#000000\">gini = 0.464</text>\n",
       "<text text-anchor=\"middle\" x=\"963.7393\" y=\"-34.8\" font-family=\"Helvetica,sans-Serif\" font-size=\"14.00\" fill=\"#000000\">samples = 121</text>\n",
       "<text text-anchor=\"middle\" x=\"963.7393\" y=\"-20.8\" font-family=\"Helvetica,sans-Serif\" font-size=\"14.00\" fill=\"#000000\">value = [42, 78, 1]</text>\n",
       "<text text-anchor=\"middle\" x=\"963.7393\" y=\"-6.8\" font-family=\"Helvetica,sans-Serif\" font-size=\"14.00\" fill=\"#000000\">class = FE</text>\n",
       "</g>\n",
       "<!-- 13&#45;&gt;14 -->\n",
       "<g id=\"edge14\" class=\"edge\">\n",
       "<title>13&#45;&gt;14</title>\n",
       "<path fill=\"none\" stroke=\"#000000\" d=\"M1015.6711,-99.7647C1008.812,-90.8144 1001.5125,-81.2894 994.62,-72.2955\"/>\n",
       "<polygon fill=\"#000000\" stroke=\"#000000\" points=\"997.2897,-70.0252 988.4288,-64.2169 991.7336,-74.2831 997.2897,-70.0252\"/>\n",
       "</g>\n",
       "<!-- 15 -->\n",
       "<g id=\"node16\" class=\"node\">\n",
       "<title>15</title>\n",
       "<path fill=\"#39e581\" fill-opacity=\"0.921569\" stroke=\"#000000\" d=\"M1176.5042,-64C1176.5042,-64 1056.9744,-64 1056.9744,-64 1050.9744,-64 1044.9744,-58 1044.9744,-52 1044.9744,-52 1044.9744,-12 1044.9744,-12 1044.9744,-6 1050.9744,0 1056.9744,0 1056.9744,0 1176.5042,0 1176.5042,0 1182.5042,0 1188.5042,-6 1188.5042,-12 1188.5042,-12 1188.5042,-52 1188.5042,-52 1188.5042,-58 1182.5042,-64 1176.5042,-64\"/>\n",
       "<text text-anchor=\"middle\" x=\"1116.7393\" y=\"-48.8\" font-family=\"Helvetica,sans-Serif\" font-size=\"14.00\" fill=\"#000000\">gini = 0.14</text>\n",
       "<text text-anchor=\"middle\" x=\"1116.7393\" y=\"-34.8\" font-family=\"Helvetica,sans-Serif\" font-size=\"14.00\" fill=\"#000000\">samples = 636</text>\n",
       "<text text-anchor=\"middle\" x=\"1116.7393\" y=\"-20.8\" font-family=\"Helvetica,sans-Serif\" font-size=\"14.00\" fill=\"#000000\">value = [28, 589, 19]</text>\n",
       "<text text-anchor=\"middle\" x=\"1116.7393\" y=\"-6.8\" font-family=\"Helvetica,sans-Serif\" font-size=\"14.00\" fill=\"#000000\">class = FE</text>\n",
       "</g>\n",
       "<!-- 13&#45;&gt;15 -->\n",
       "<g id=\"edge15\" class=\"edge\">\n",
       "<title>13&#45;&gt;15</title>\n",
       "<path fill=\"none\" stroke=\"#000000\" d=\"M1071.7739,-99.7647C1077.6523,-90.9057 1083.9042,-81.4838 1089.8183,-72.571\"/>\n",
       "<polygon fill=\"#000000\" stroke=\"#000000\" points=\"1092.749,-74.4845 1095.3617,-64.2169 1086.9163,-70.6142 1092.749,-74.4845\"/>\n",
       "</g>\n",
       "<!-- 17 -->\n",
       "<g id=\"node18\" class=\"node\">\n",
       "<title>17</title>\n",
       "<path fill=\"#8139e5\" fill-opacity=\"0.725490\" stroke=\"#000000\" d=\"M1574.3306,-292C1574.3306,-292 1433.1479,-292 1433.1479,-292 1427.1479,-292 1421.1479,-286 1421.1479,-280 1421.1479,-280 1421.1479,-226 1421.1479,-226 1421.1479,-220 1427.1479,-214 1433.1479,-214 1433.1479,-214 1574.3306,-214 1574.3306,-214 1580.3306,-214 1586.3306,-220 1586.3306,-226 1586.3306,-226 1586.3306,-280 1586.3306,-280 1586.3306,-286 1580.3306,-292 1574.3306,-292\"/>\n",
       "<text text-anchor=\"middle\" x=\"1503.7393\" y=\"-276.8\" font-family=\"Helvetica,sans-Serif\" font-size=\"14.00\" fill=\"#000000\">outside.sideline &lt;= 0.5</text>\n",
       "<text text-anchor=\"middle\" x=\"1503.7393\" y=\"-262.8\" font-family=\"Helvetica,sans-Serif\" font-size=\"14.00\" fill=\"#000000\">gini = 0.369</text>\n",
       "<text text-anchor=\"middle\" x=\"1503.7393\" y=\"-248.8\" font-family=\"Helvetica,sans-Serif\" font-size=\"14.00\" fill=\"#000000\">samples = 2119</text>\n",
       "<text text-anchor=\"middle\" x=\"1503.7393\" y=\"-234.8\" font-family=\"Helvetica,sans-Serif\" font-size=\"14.00\" fill=\"#000000\">value = [116, 363, 1640]</text>\n",
       "<text text-anchor=\"middle\" x=\"1503.7393\" y=\"-220.8\" font-family=\"Helvetica,sans-Serif\" font-size=\"14.00\" fill=\"#000000\">class = W</text>\n",
       "</g>\n",
       "<!-- 16&#45;&gt;17 -->\n",
       "<g id=\"edge17\" class=\"edge\">\n",
       "<title>16&#45;&gt;17</title>\n",
       "<path fill=\"none\" stroke=\"#000000\" d=\"M1503.7393,-327.7677C1503.7393,-319.6172 1503.7393,-310.9283 1503.7393,-302.4649\"/>\n",
       "<polygon fill=\"#000000\" stroke=\"#000000\" points=\"1507.2394,-302.3046 1503.7393,-292.3046 1500.2394,-302.3047 1507.2394,-302.3046\"/>\n",
       "</g>\n",
       "<!-- 24 -->\n",
       "<g id=\"node25\" class=\"node\">\n",
       "<title>24</title>\n",
       "<path fill=\"#39e581\" fill-opacity=\"0.376471\" stroke=\"#000000\" d=\"M2018.8627,-292C2018.8627,-292 1876.6158,-292 1876.6158,-292 1870.6158,-292 1864.6158,-286 1864.6158,-280 1864.6158,-280 1864.6158,-226 1864.6158,-226 1864.6158,-220 1870.6158,-214 1876.6158,-214 1876.6158,-214 2018.8627,-214 2018.8627,-214 2024.8627,-214 2030.8627,-220 2030.8627,-226 2030.8627,-226 2030.8627,-280 2030.8627,-280 2030.8627,-286 2024.8627,-292 2018.8627,-292\"/>\n",
       "<text text-anchor=\"middle\" x=\"1947.7393\" y=\"-276.8\" font-family=\"Helvetica,sans-Serif\" font-size=\"14.00\" fill=\"#000000\">speed &lt;= 27.856</text>\n",
       "<text text-anchor=\"middle\" x=\"1947.7393\" y=\"-262.8\" font-family=\"Helvetica,sans-Serif\" font-size=\"14.00\" fill=\"#000000\">gini = 0.594</text>\n",
       "<text text-anchor=\"middle\" x=\"1947.7393\" y=\"-248.8\" font-family=\"Helvetica,sans-Serif\" font-size=\"14.00\" fill=\"#000000\">samples = 2494</text>\n",
       "<text text-anchor=\"middle\" x=\"1947.7393\" y=\"-234.8\" font-family=\"Helvetica,sans-Serif\" font-size=\"14.00\" fill=\"#000000\">value = [681, 1363, 450]</text>\n",
       "<text text-anchor=\"middle\" x=\"1947.7393\" y=\"-220.8\" font-family=\"Helvetica,sans-Serif\" font-size=\"14.00\" fill=\"#000000\">class = FE</text>\n",
       "</g>\n",
       "<!-- 16&#45;&gt;24 -->\n",
       "<g id=\"edge24\" class=\"edge\">\n",
       "<title>16&#45;&gt;24</title>\n",
       "<path fill=\"none\" stroke=\"#000000\" d=\"M1591.1944,-344.5453C1667.2687,-325.0127 1777.1868,-296.7905 1854.8262,-276.856\"/>\n",
       "<polygon fill=\"#000000\" stroke=\"#000000\" points=\"1855.7904,-280.2221 1864.6058,-274.3451 1854.0495,-273.442 1855.7904,-280.2221\"/>\n",
       "</g>\n",
       "<!-- 18 -->\n",
       "<g id=\"node19\" class=\"node\">\n",
       "<title>18</title>\n",
       "<path fill=\"#8139e5\" fill-opacity=\"0.929412\" stroke=\"#000000\" d=\"M1474.0177,-178C1474.0177,-178 1337.4608,-178 1337.4608,-178 1331.4608,-178 1325.4608,-172 1325.4608,-166 1325.4608,-166 1325.4608,-112 1325.4608,-112 1325.4608,-106 1331.4608,-100 1337.4608,-100 1337.4608,-100 1474.0177,-100 1474.0177,-100 1480.0177,-100 1486.0177,-106 1486.0177,-112 1486.0177,-112 1486.0177,-166 1486.0177,-166 1486.0177,-172 1480.0177,-178 1474.0177,-178\"/>\n",
       "<text text-anchor=\"middle\" x=\"1405.7393\" y=\"-162.8\" font-family=\"Helvetica,sans-Serif\" font-size=\"14.00\" fill=\"#000000\">outside.baseline &lt;= 0.5</text>\n",
       "<text text-anchor=\"middle\" x=\"1405.7393\" y=\"-148.8\" font-family=\"Helvetica,sans-Serif\" font-size=\"14.00\" fill=\"#000000\">gini = 0.126</text>\n",
       "<text text-anchor=\"middle\" x=\"1405.7393\" y=\"-134.8\" font-family=\"Helvetica,sans-Serif\" font-size=\"14.00\" fill=\"#000000\">samples = 1751</text>\n",
       "<text text-anchor=\"middle\" x=\"1405.7393\" y=\"-120.8\" font-family=\"Helvetica,sans-Serif\" font-size=\"14.00\" fill=\"#000000\">value = [32, 85, 1634]</text>\n",
       "<text text-anchor=\"middle\" x=\"1405.7393\" y=\"-106.8\" font-family=\"Helvetica,sans-Serif\" font-size=\"14.00\" fill=\"#000000\">class = W</text>\n",
       "</g>\n",
       "<!-- 17&#45;&gt;18 -->\n",
       "<g id=\"edge18\" class=\"edge\">\n",
       "<title>17&#45;&gt;18</title>\n",
       "<path fill=\"none\" stroke=\"#000000\" d=\"M1470.0132,-213.7677C1462.3137,-204.8111 1454.0552,-195.2043 1446.1093,-185.9611\"/>\n",
       "<polygon fill=\"#000000\" stroke=\"#000000\" points=\"1448.7005,-183.6062 1439.5275,-178.3046 1443.3922,-188.1695 1448.7005,-183.6062\"/>\n",
       "</g>\n",
       "<!-- 21 -->\n",
       "<g id=\"node22\" class=\"node\">\n",
       "<title>21</title>\n",
       "<path fill=\"#39e581\" fill-opacity=\"0.682353\" stroke=\"#000000\" d=\"M1689.5765,-178C1689.5765,-178 1515.9021,-178 1515.9021,-178 1509.9021,-178 1503.9021,-172 1503.9021,-166 1503.9021,-166 1503.9021,-112 1503.9021,-112 1503.9021,-106 1509.9021,-100 1515.9021,-100 1515.9021,-100 1689.5765,-100 1689.5765,-100 1695.5765,-100 1701.5765,-106 1701.5765,-112 1701.5765,-112 1701.5765,-166 1701.5765,-166 1701.5765,-172 1695.5765,-178 1689.5765,-178\"/>\n",
       "<text text-anchor=\"middle\" x=\"1602.7393\" y=\"-162.8\" font-family=\"Helvetica,sans-Serif\" font-size=\"14.00\" fill=\"#000000\">previous.time.to.net &lt;= 0.389</text>\n",
       "<text text-anchor=\"middle\" x=\"1602.7393\" y=\"-148.8\" font-family=\"Helvetica,sans-Serif\" font-size=\"14.00\" fill=\"#000000\">gini = 0.377</text>\n",
       "<text text-anchor=\"middle\" x=\"1602.7393\" y=\"-134.8\" font-family=\"Helvetica,sans-Serif\" font-size=\"14.00\" fill=\"#000000\">samples = 368</text>\n",
       "<text text-anchor=\"middle\" x=\"1602.7393\" y=\"-120.8\" font-family=\"Helvetica,sans-Serif\" font-size=\"14.00\" fill=\"#000000\">value = [84, 278, 6]</text>\n",
       "<text text-anchor=\"middle\" x=\"1602.7393\" y=\"-106.8\" font-family=\"Helvetica,sans-Serif\" font-size=\"14.00\" fill=\"#000000\">class = FE</text>\n",
       "</g>\n",
       "<!-- 17&#45;&gt;21 -->\n",
       "<g id=\"edge21\" class=\"edge\">\n",
       "<title>17&#45;&gt;21</title>\n",
       "<path fill=\"none\" stroke=\"#000000\" d=\"M1537.8094,-213.7677C1545.5875,-204.8111 1553.9303,-195.2043 1561.9572,-185.9611\"/>\n",
       "<polygon fill=\"#000000\" stroke=\"#000000\" points=\"1564.692,-188.1499 1568.6063,-178.3046 1559.4067,-183.5601 1564.692,-188.1499\"/>\n",
       "</g>\n",
       "<!-- 19 -->\n",
       "<g id=\"node20\" class=\"node\">\n",
       "<title>19</title>\n",
       "<path fill=\"#8139e5\" fill-opacity=\"0.949020\" stroke=\"#000000\" d=\"M1345.29,-64C1345.29,-64 1218.1885,-64 1218.1885,-64 1212.1885,-64 1206.1885,-58 1206.1885,-52 1206.1885,-52 1206.1885,-12 1206.1885,-12 1206.1885,-6 1212.1885,0 1218.1885,0 1218.1885,0 1345.29,0 1345.29,0 1351.29,0 1357.29,-6 1357.29,-12 1357.29,-12 1357.29,-52 1357.29,-52 1357.29,-58 1351.29,-64 1345.29,-64\"/>\n",
       "<text text-anchor=\"middle\" x=\"1281.7393\" y=\"-48.8\" font-family=\"Helvetica,sans-Serif\" font-size=\"14.00\" fill=\"#000000\">gini = 0.094</text>\n",
       "<text text-anchor=\"middle\" x=\"1281.7393\" y=\"-34.8\" font-family=\"Helvetica,sans-Serif\" font-size=\"14.00\" fill=\"#000000\">samples = 1710</text>\n",
       "<text text-anchor=\"middle\" x=\"1281.7393\" y=\"-20.8\" font-family=\"Helvetica,sans-Serif\" font-size=\"14.00\" fill=\"#000000\">value = [25, 59, 1626]</text>\n",
       "<text text-anchor=\"middle\" x=\"1281.7393\" y=\"-6.8\" font-family=\"Helvetica,sans-Serif\" font-size=\"14.00\" fill=\"#000000\">class = W</text>\n",
       "</g>\n",
       "<!-- 18&#45;&gt;19 -->\n",
       "<g id=\"edge19\" class=\"edge\">\n",
       "<title>18&#45;&gt;19</title>\n",
       "<path fill=\"none\" stroke=\"#000000\" d=\"M1360.2703,-99.7647C1349.3688,-90.3577 1337.7316,-80.316 1326.8466,-70.9232\"/>\n",
       "<polygon fill=\"#000000\" stroke=\"#000000\" points=\"1328.9323,-68.1001 1319.0747,-64.2169 1324.3591,-73.3998 1328.9323,-68.1001\"/>\n",
       "</g>\n",
       "<!-- 20 -->\n",
       "<g id=\"node21\" class=\"node\">\n",
       "<title>20</title>\n",
       "<path fill=\"#39e581\" fill-opacity=\"0.545098\" stroke=\"#000000\" d=\"M1482.6455,-64C1482.6455,-64 1386.833,-64 1386.833,-64 1380.833,-64 1374.833,-58 1374.833,-52 1374.833,-52 1374.833,-12 1374.833,-12 1374.833,-6 1380.833,0 1386.833,0 1386.833,0 1482.6455,0 1482.6455,0 1488.6455,0 1494.6455,-6 1494.6455,-12 1494.6455,-12 1494.6455,-52 1494.6455,-52 1494.6455,-58 1488.6455,-64 1482.6455,-64\"/>\n",
       "<text text-anchor=\"middle\" x=\"1434.7393\" y=\"-48.8\" font-family=\"Helvetica,sans-Serif\" font-size=\"14.00\" fill=\"#000000\">gini = 0.531</text>\n",
       "<text text-anchor=\"middle\" x=\"1434.7393\" y=\"-34.8\" font-family=\"Helvetica,sans-Serif\" font-size=\"14.00\" fill=\"#000000\">samples = 41</text>\n",
       "<text text-anchor=\"middle\" x=\"1434.7393\" y=\"-20.8\" font-family=\"Helvetica,sans-Serif\" font-size=\"14.00\" fill=\"#000000\">value = [7, 26, 8]</text>\n",
       "<text text-anchor=\"middle\" x=\"1434.7393\" y=\"-6.8\" font-family=\"Helvetica,sans-Serif\" font-size=\"14.00\" fill=\"#000000\">class = FE</text>\n",
       "</g>\n",
       "<!-- 18&#45;&gt;20 -->\n",
       "<g id=\"edge20\" class=\"edge\">\n",
       "<title>18&#45;&gt;20</title>\n",
       "<path fill=\"none\" stroke=\"#000000\" d=\"M1416.3731,-99.7647C1418.6504,-91.3624 1421.0649,-82.4536 1423.3688,-73.9532\"/>\n",
       "<polygon fill=\"#000000\" stroke=\"#000000\" points=\"1426.7697,-74.7843 1426.0076,-64.2169 1420.0135,-72.9531 1426.7697,-74.7843\"/>\n",
       "</g>\n",
       "<!-- 22 -->\n",
       "<g id=\"node23\" class=\"node\">\n",
       "<title>22</title>\n",
       "<path fill=\"#e58139\" fill-opacity=\"0.827451\" stroke=\"#000000\" d=\"M1620.6455,-64C1620.6455,-64 1524.833,-64 1524.833,-64 1518.833,-64 1512.833,-58 1512.833,-52 1512.833,-52 1512.833,-12 1512.833,-12 1512.833,-6 1518.833,0 1524.833,0 1524.833,0 1620.6455,0 1620.6455,0 1626.6455,0 1632.6455,-6 1632.6455,-12 1632.6455,-12 1632.6455,-52 1632.6455,-52 1632.6455,-58 1626.6455,-64 1620.6455,-64\"/>\n",
       "<text text-anchor=\"middle\" x=\"1572.7393\" y=\"-48.8\" font-family=\"Helvetica,sans-Serif\" font-size=\"14.00\" fill=\"#000000\">gini = 0.251</text>\n",
       "<text text-anchor=\"middle\" x=\"1572.7393\" y=\"-34.8\" font-family=\"Helvetica,sans-Serif\" font-size=\"14.00\" fill=\"#000000\">samples = 34</text>\n",
       "<text text-anchor=\"middle\" x=\"1572.7393\" y=\"-20.8\" font-family=\"Helvetica,sans-Serif\" font-size=\"14.00\" fill=\"#000000\">value = [29, 5, 0]</text>\n",
       "<text text-anchor=\"middle\" x=\"1572.7393\" y=\"-6.8\" font-family=\"Helvetica,sans-Serif\" font-size=\"14.00\" fill=\"#000000\">class = UE</text>\n",
       "</g>\n",
       "<!-- 21&#45;&gt;22 -->\n",
       "<g id=\"edge22\" class=\"edge\">\n",
       "<title>21&#45;&gt;22</title>\n",
       "<path fill=\"none\" stroke=\"#000000\" d=\"M1591.7387,-99.7647C1589.3829,-91.3624 1586.8851,-82.4536 1584.5018,-73.9532\"/>\n",
       "<polygon fill=\"#000000\" stroke=\"#000000\" points=\"1587.8418,-72.9007 1581.772,-64.2169 1581.1017,-74.7905 1587.8418,-72.9007\"/>\n",
       "</g>\n",
       "<!-- 23 -->\n",
       "<g id=\"node24\" class=\"node\">\n",
       "<title>23</title>\n",
       "<path fill=\"#39e581\" fill-opacity=\"0.780392\" stroke=\"#000000\" d=\"M1774.7186,-64C1774.7186,-64 1662.7599,-64 1662.7599,-64 1656.7599,-64 1650.7599,-58 1650.7599,-52 1650.7599,-52 1650.7599,-12 1650.7599,-12 1650.7599,-6 1656.7599,0 1662.7599,0 1662.7599,0 1774.7186,0 1774.7186,0 1780.7186,0 1786.7186,-6 1786.7186,-12 1786.7186,-12 1786.7186,-52 1786.7186,-52 1786.7186,-58 1780.7186,-64 1774.7186,-64\"/>\n",
       "<text text-anchor=\"middle\" x=\"1718.7393\" y=\"-48.8\" font-family=\"Helvetica,sans-Serif\" font-size=\"14.00\" fill=\"#000000\">gini = 0.304</text>\n",
       "<text text-anchor=\"middle\" x=\"1718.7393\" y=\"-34.8\" font-family=\"Helvetica,sans-Serif\" font-size=\"14.00\" fill=\"#000000\">samples = 334</text>\n",
       "<text text-anchor=\"middle\" x=\"1718.7393\" y=\"-20.8\" font-family=\"Helvetica,sans-Serif\" font-size=\"14.00\" fill=\"#000000\">value = [55, 273, 6]</text>\n",
       "<text text-anchor=\"middle\" x=\"1718.7393\" y=\"-6.8\" font-family=\"Helvetica,sans-Serif\" font-size=\"14.00\" fill=\"#000000\">class = FE</text>\n",
       "</g>\n",
       "<!-- 21&#45;&gt;23 -->\n",
       "<g id=\"edge23\" class=\"edge\">\n",
       "<title>21&#45;&gt;23</title>\n",
       "<path fill=\"none\" stroke=\"#000000\" d=\"M1645.2747,-99.7647C1655.3739,-90.4491 1666.148,-80.5109 1676.2453,-71.197\"/>\n",
       "<polygon fill=\"#000000\" stroke=\"#000000\" points=\"1678.8351,-73.5697 1683.8126,-64.2169 1674.089,-68.4244 1678.8351,-73.5697\"/>\n",
       "</g>\n",
       "<!-- 25 -->\n",
       "<g id=\"node26\" class=\"node\">\n",
       "<title>25</title>\n",
       "<path fill=\"#e58139\" fill-opacity=\"0.407843\" stroke=\"#000000\" d=\"M2024.6416,-178C2024.6416,-178 1870.8369,-178 1870.8369,-178 1864.8369,-178 1858.8369,-172 1858.8369,-166 1858.8369,-166 1858.8369,-112 1858.8369,-112 1858.8369,-106 1864.8369,-100 1870.8369,-100 1870.8369,-100 2024.6416,-100 2024.6416,-100 2030.6416,-100 2036.6416,-106 2036.6416,-112 2036.6416,-112 2036.6416,-166 2036.6416,-166 2036.6416,-172 2030.6416,-178 2024.6416,-178\"/>\n",
       "<text text-anchor=\"middle\" x=\"1947.7393\" y=\"-162.8\" font-family=\"Helvetica,sans-Serif\" font-size=\"14.00\" fill=\"#000000\">previous.speed &lt;= 29.161</text>\n",
       "<text text-anchor=\"middle\" x=\"1947.7393\" y=\"-148.8\" font-family=\"Helvetica,sans-Serif\" font-size=\"14.00\" fill=\"#000000\">gini = 0.582</text>\n",
       "<text text-anchor=\"middle\" x=\"1947.7393\" y=\"-134.8\" font-family=\"Helvetica,sans-Serif\" font-size=\"14.00\" fill=\"#000000\">samples = 776</text>\n",
       "<text text-anchor=\"middle\" x=\"1947.7393\" y=\"-120.8\" font-family=\"Helvetica,sans-Serif\" font-size=\"14.00\" fill=\"#000000\">value = [438, 204, 134]</text>\n",
       "<text text-anchor=\"middle\" x=\"1947.7393\" y=\"-106.8\" font-family=\"Helvetica,sans-Serif\" font-size=\"14.00\" fill=\"#000000\">class = UE</text>\n",
       "</g>\n",
       "<!-- 24&#45;&gt;25 -->\n",
       "<g id=\"edge25\" class=\"edge\">\n",
       "<title>24&#45;&gt;25</title>\n",
       "<path fill=\"none\" stroke=\"#000000\" d=\"M1947.7393,-213.7677C1947.7393,-205.6172 1947.7393,-196.9283 1947.7393,-188.4649\"/>\n",
       "<polygon fill=\"#000000\" stroke=\"#000000\" points=\"1951.2394,-188.3046 1947.7393,-178.3046 1944.2394,-188.3047 1951.2394,-188.3046\"/>\n",
       "</g>\n",
       "<!-- 28 -->\n",
       "<g id=\"node29\" class=\"node\">\n",
       "<title>28</title>\n",
       "<path fill=\"#39e581\" fill-opacity=\"0.600000\" stroke=\"#000000\" d=\"M2280.3306,-178C2280.3306,-178 2139.1479,-178 2139.1479,-178 2133.1479,-178 2127.1479,-172 2127.1479,-166 2127.1479,-166 2127.1479,-112 2127.1479,-112 2127.1479,-106 2133.1479,-100 2139.1479,-100 2139.1479,-100 2280.3306,-100 2280.3306,-100 2286.3306,-100 2292.3306,-106 2292.3306,-112 2292.3306,-112 2292.3306,-166 2292.3306,-166 2292.3306,-172 2286.3306,-178 2280.3306,-178\"/>\n",
       "<text text-anchor=\"middle\" x=\"2209.7393\" y=\"-162.8\" font-family=\"Helvetica,sans-Serif\" font-size=\"14.00\" fill=\"#000000\">outside.baseline &lt;= 0.5</text>\n",
       "<text text-anchor=\"middle\" x=\"2209.7393\" y=\"-148.8\" font-family=\"Helvetica,sans-Serif\" font-size=\"14.00\" fill=\"#000000\">gini = 0.491</text>\n",
       "<text text-anchor=\"middle\" x=\"2209.7393\" y=\"-134.8\" font-family=\"Helvetica,sans-Serif\" font-size=\"14.00\" fill=\"#000000\">samples = 1718</text>\n",
       "<text text-anchor=\"middle\" x=\"2209.7393\" y=\"-120.8\" font-family=\"Helvetica,sans-Serif\" font-size=\"14.00\" fill=\"#000000\">value = [243, 1159, 316]</text>\n",
       "<text text-anchor=\"middle\" x=\"2209.7393\" y=\"-106.8\" font-family=\"Helvetica,sans-Serif\" font-size=\"14.00\" fill=\"#000000\">class = FE</text>\n",
       "</g>\n",
       "<!-- 24&#45;&gt;28 -->\n",
       "<g id=\"edge28\" class=\"edge\">\n",
       "<title>24&#45;&gt;28</title>\n",
       "<path fill=\"none\" stroke=\"#000000\" d=\"M2030.9977,-216.7731C2058.5949,-204.7651 2089.4669,-191.3322 2117.6865,-179.0535\"/>\n",
       "<polygon fill=\"#000000\" stroke=\"#000000\" points=\"2119.3732,-182.1366 2127.1464,-174.9374 2116.5803,-175.7179 2119.3732,-182.1366\"/>\n",
       "</g>\n",
       "<!-- 26 -->\n",
       "<g id=\"node27\" class=\"node\">\n",
       "<title>26</title>\n",
       "<path fill=\"#8139e5\" fill-opacity=\"0.141176\" stroke=\"#000000\" d=\"M1935.5042,-64C1935.5042,-64 1815.9744,-64 1815.9744,-64 1809.9744,-64 1803.9744,-58 1803.9744,-52 1803.9744,-52 1803.9744,-12 1803.9744,-12 1803.9744,-6 1809.9744,0 1815.9744,0 1815.9744,0 1935.5042,0 1935.5042,0 1941.5042,0 1947.5042,-6 1947.5042,-12 1947.5042,-12 1947.5042,-52 1947.5042,-52 1947.5042,-58 1941.5042,-64 1935.5042,-64\"/>\n",
       "<text text-anchor=\"middle\" x=\"1875.7393\" y=\"-48.8\" font-family=\"Helvetica,sans-Serif\" font-size=\"14.00\" fill=\"#000000\">gini = 0.658</text>\n",
       "<text text-anchor=\"middle\" x=\"1875.7393\" y=\"-34.8\" font-family=\"Helvetica,sans-Serif\" font-size=\"14.00\" fill=\"#000000\">samples = 258</text>\n",
       "<text text-anchor=\"middle\" x=\"1875.7393\" y=\"-20.8\" font-family=\"Helvetica,sans-Serif\" font-size=\"14.00\" fill=\"#000000\">value = [80, 73, 105]</text>\n",
       "<text text-anchor=\"middle\" x=\"1875.7393\" y=\"-6.8\" font-family=\"Helvetica,sans-Serif\" font-size=\"14.00\" fill=\"#000000\">class = W</text>\n",
       "</g>\n",
       "<!-- 25&#45;&gt;26 -->\n",
       "<g id=\"edge26\" class=\"edge\">\n",
       "<title>25&#45;&gt;26</title>\n",
       "<path fill=\"none\" stroke=\"#000000\" d=\"M1921.338,-99.7647C1915.3768,-90.9057 1909.0367,-81.4838 1903.0394,-72.571\"/>\n",
       "<polygon fill=\"#000000\" stroke=\"#000000\" points=\"1905.9045,-70.5595 1897.4179,-64.2169 1900.0969,-74.4674 1905.9045,-70.5595\"/>\n",
       "</g>\n",
       "<!-- 27 -->\n",
       "<g id=\"node28\" class=\"node\">\n",
       "<title>27</title>\n",
       "<path fill=\"#e58139\" fill-opacity=\"0.588235\" stroke=\"#000000\" d=\"M2104.29,-64C2104.29,-64 1977.1885,-64 1977.1885,-64 1971.1885,-64 1965.1885,-58 1965.1885,-52 1965.1885,-52 1965.1885,-12 1965.1885,-12 1965.1885,-6 1971.1885,0 1977.1885,0 1977.1885,0 2104.29,0 2104.29,0 2110.29,0 2116.29,-6 2116.29,-12 2116.29,-12 2116.29,-52 2116.29,-52 2116.29,-58 2110.29,-64 2104.29,-64\"/>\n",
       "<text text-anchor=\"middle\" x=\"2040.7393\" y=\"-48.8\" font-family=\"Helvetica,sans-Serif\" font-size=\"14.00\" fill=\"#000000\">gini = 0.455</text>\n",
       "<text text-anchor=\"middle\" x=\"2040.7393\" y=\"-34.8\" font-family=\"Helvetica,sans-Serif\" font-size=\"14.00\" fill=\"#000000\">samples = 518</text>\n",
       "<text text-anchor=\"middle\" x=\"2040.7393\" y=\"-20.8\" font-family=\"Helvetica,sans-Serif\" font-size=\"14.00\" fill=\"#000000\">value = [358, 131, 29]</text>\n",
       "<text text-anchor=\"middle\" x=\"2040.7393\" y=\"-6.8\" font-family=\"Helvetica,sans-Serif\" font-size=\"14.00\" fill=\"#000000\">class = UE</text>\n",
       "</g>\n",
       "<!-- 25&#45;&gt;27 -->\n",
       "<g id=\"edge27\" class=\"edge\">\n",
       "<title>25&#45;&gt;27</title>\n",
       "<path fill=\"none\" stroke=\"#000000\" d=\"M1981.8409,-99.7647C1989.6996,-90.7231 1998.0679,-81.095 2005.9552,-72.0204\"/>\n",
       "<polygon fill=\"#000000\" stroke=\"#000000\" points=\"2008.8193,-74.0605 2012.7377,-64.2169 2003.5359,-69.4684 2008.8193,-74.0605\"/>\n",
       "</g>\n",
       "<!-- 29 -->\n",
       "<g id=\"node30\" class=\"node\">\n",
       "<title>29</title>\n",
       "<path fill=\"#39e581\" fill-opacity=\"0.141176\" stroke=\"#000000\" d=\"M2272.7578,-64C2272.7578,-64 2146.7207,-64 2146.7207,-64 2140.7207,-64 2134.7207,-58 2134.7207,-52 2134.7207,-52 2134.7207,-12 2134.7207,-12 2134.7207,-6 2140.7207,0 2146.7207,0 2146.7207,0 2272.7578,0 2272.7578,0 2278.7578,0 2284.7578,-6 2284.7578,-12 2284.7578,-12 2284.7578,-52 2284.7578,-52 2284.7578,-58 2278.7578,-64 2272.7578,-64\"/>\n",
       "<text text-anchor=\"middle\" x=\"2209.7393\" y=\"-48.8\" font-family=\"Helvetica,sans-Serif\" font-size=\"14.00\" fill=\"#000000\">gini = 0.588</text>\n",
       "<text text-anchor=\"middle\" x=\"2209.7393\" y=\"-34.8\" font-family=\"Helvetica,sans-Serif\" font-size=\"14.00\" fill=\"#000000\">samples = 772</text>\n",
       "<text text-anchor=\"middle\" x=\"2209.7393\" y=\"-20.8\" font-family=\"Helvetica,sans-Serif\" font-size=\"14.00\" fill=\"#000000\">value = [85, 376, 311]</text>\n",
       "<text text-anchor=\"middle\" x=\"2209.7393\" y=\"-6.8\" font-family=\"Helvetica,sans-Serif\" font-size=\"14.00\" fill=\"#000000\">class = FE</text>\n",
       "</g>\n",
       "<!-- 28&#45;&gt;29 -->\n",
       "<g id=\"edge29\" class=\"edge\">\n",
       "<title>28&#45;&gt;29</title>\n",
       "<path fill=\"none\" stroke=\"#000000\" d=\"M2209.7393,-99.7647C2209.7393,-91.4537 2209.7393,-82.6472 2209.7393,-74.2305\"/>\n",
       "<polygon fill=\"#000000\" stroke=\"#000000\" points=\"2213.2394,-74.2168 2209.7393,-64.2169 2206.2394,-74.2169 2213.2394,-74.2168\"/>\n",
       "</g>\n",
       "<!-- 30 -->\n",
       "<g id=\"node31\" class=\"node\">\n",
       "<title>30</title>\n",
       "<path fill=\"#39e581\" fill-opacity=\"0.792157\" stroke=\"#000000\" d=\"M2434.5042,-64C2434.5042,-64 2314.9744,-64 2314.9744,-64 2308.9744,-64 2302.9744,-58 2302.9744,-52 2302.9744,-52 2302.9744,-12 2302.9744,-12 2302.9744,-6 2308.9744,0 2314.9744,0 2314.9744,0 2434.5042,0 2434.5042,0 2440.5042,0 2446.5042,-6 2446.5042,-12 2446.5042,-12 2446.5042,-52 2446.5042,-52 2446.5042,-58 2440.5042,-64 2434.5042,-64\"/>\n",
       "<text text-anchor=\"middle\" x=\"2374.7393\" y=\"-48.8\" font-family=\"Helvetica,sans-Serif\" font-size=\"14.00\" fill=\"#000000\">gini = 0.287</text>\n",
       "<text text-anchor=\"middle\" x=\"2374.7393\" y=\"-34.8\" font-family=\"Helvetica,sans-Serif\" font-size=\"14.00\" fill=\"#000000\">samples = 946</text>\n",
       "<text text-anchor=\"middle\" x=\"2374.7393\" y=\"-20.8\" font-family=\"Helvetica,sans-Serif\" font-size=\"14.00\" fill=\"#000000\">value = [158, 783, 5]</text>\n",
       "<text text-anchor=\"middle\" x=\"2374.7393\" y=\"-6.8\" font-family=\"Helvetica,sans-Serif\" font-size=\"14.00\" fill=\"#000000\">class = FE</text>\n",
       "</g>\n",
       "<!-- 28&#45;&gt;30 -->\n",
       "<g id=\"edge30\" class=\"edge\">\n",
       "<title>28&#45;&gt;30</title>\n",
       "<path fill=\"none\" stroke=\"#000000\" d=\"M2270.2422,-99.7647C2285.3886,-89.9426 2301.602,-79.4284 2316.6292,-69.6835\"/>\n",
       "<polygon fill=\"#000000\" stroke=\"#000000\" points=\"2318.837,-72.4233 2325.3229,-64.0458 2315.0283,-66.5502 2318.837,-72.4233\"/>\n",
       "</g>\n",
       "</g>\n",
       "</svg>\n"
      ],
      "text/plain": [
       "<graphviz.files.Source at 0x1a1d605f60>"
      ]
     },
     "execution_count": 28,
     "metadata": {},
     "output_type": "execute_result"
    }
   ],
   "source": [
    "tree_graph=plot_tree(estimator,data,'outcome','tennis')\n",
    "tree_graph"
   ]
  },
  {
   "cell_type": "markdown",
   "metadata": {},
   "source": [
    "#### With Standardization"
   ]
  },
  {
   "cell_type": "code",
   "execution_count": 29,
   "metadata": {},
   "outputs": [],
   "source": [
    "from sklearn_pandas import DataFrameMapper\n",
    "from sklearn.preprocessing import StandardScaler\n",
    "from sklearn.preprocessing import OneHotEncoder"
   ]
  },
  {
   "cell_type": "code",
   "execution_count": 30,
   "metadata": {},
   "outputs": [
    {
     "data": {
      "text/plain": [
       "rally                                   int64\n",
       "serve                                   int64\n",
       "hitpoint                                int64\n",
       "speed                                 float64\n",
       "net.clearance                         float64\n",
       "distance.from.sideline                float64\n",
       "depth                                 float64\n",
       "outside.sideline                        int64\n",
       "outside.baseline                        int64\n",
       "player.distance.travelled             float64\n",
       "player.impact.depth                   float64\n",
       "player.impact.distance.from.center    float64\n",
       "player.depth                          float64\n",
       "player.distance.from.center           float64\n",
       "previous.speed                        float64\n",
       "previous.net.clearance                float64\n",
       "previous.distance.from.sideline       float64\n",
       "previous.depth                        float64\n",
       "opponent.depth                        float64\n",
       "opponent.distance.from.center         float64\n",
       "same.side                               int64\n",
       "previous.hitpoint                       int64\n",
       "previous.time.to.net                  float64\n",
       "server.is.impact.player                 int64\n",
       "gender                                  int64\n",
       "dtype: object"
      ]
     },
     "execution_count": 30,
     "metadata": {},
     "output_type": "execute_result"
    }
   ],
   "source": [
    "X_train.dtypes"
   ]
  },
  {
   "cell_type": "code",
   "execution_count": 31,
   "metadata": {},
   "outputs": [],
   "source": [
    "continuous_cols=['rally','serve','speed','net.clearance','distance.from.sideline','depth','player.distance.travelled','player.impact.depth','player.impact.distance.from.center','player.depth','player.distance.from.center','previous.speed','previous.net.clearance','previous.distance.from.sideline','previous.depth','opponent.depth','opponent.distance.from.center','previous.time.to.net']\n",
    "categorical_cols=[\"hitpoint\",\"outside.sideline\",\n",
    "                    \"outside.baseline\",\"same.side\",\"previous.hitpoint\",\"server.is.impact.player\",\"gender\"]"
   ]
  },
  {
   "cell_type": "code",
   "execution_count": 32,
   "metadata": {},
   "outputs": [],
   "source": [
    "mapper=[]\n",
    "\n",
    "mapper = DataFrameMapper(\n",
    "  [([continuous_col], StandardScaler()) for continuous_col in continuous_cols] +\n",
    "  [([categorical_col], OneHotEncoder()) for categorical_col in categorical_cols]\n",
    ")"
   ]
  },
  {
   "cell_type": "code",
   "execution_count": 33,
   "metadata": {},
   "outputs": [
    {
     "name": "stdout",
     "output_type": "stream",
     "text": [
      "<class 'sklearn_pandas.dataframe_mapper.DataFrameMapper'>\n"
     ]
    }
   ],
   "source": [
    "print(type(mapper))"
   ]
  },
  {
   "cell_type": "code",
   "execution_count": 34,
   "metadata": {},
   "outputs": [],
   "source": [
    "mapper.fit(X_train)\n",
    "\n",
    "X_train_std = mapper.transform(X_train)\n",
    "X_test_std = mapper.transform(X_test)"
   ]
  },
  {
   "cell_type": "code",
   "execution_count": 35,
   "metadata": {},
   "outputs": [
    {
     "data": {
      "text/plain": [
       "array([[-0.83091618, -0.81995621,  1.21102258,  0.08020881, -0.87176578,\n",
       "        -0.98008363, -1.14910864, -0.15561033, -0.67143058, -0.65741039,\n",
       "        -0.59054223, -0.37550175,  0.76969783,  1.77383589, -0.14587934,\n",
       "         1.14045914, -0.05153211,  0.70279019,  0.        ,  1.        ,\n",
       "         0.        ,  0.        ,  0.        ,  1.        ,  1.        ,\n",
       "         0.        ,  1.        ,  0.        ,  1.        ,  0.        ,\n",
       "         0.        ,  0.        ,  0.        ,  1.        ,  1.        ,\n",
       "         0.        ]])"
      ]
     },
     "execution_count": 35,
     "metadata": {},
     "output_type": "execute_result"
    }
   ],
   "source": [
    "X_train_std[0:1,]"
   ]
  },
  {
   "cell_type": "code",
   "execution_count": 36,
   "metadata": {},
   "outputs": [
    {
     "data": {
      "text/plain": [
       "array([[ 0.57801333, -0.81995621, -2.85663436, -1.48289434,  1.60918994,\n",
       "         2.30272382,  0.12674997, -2.0329614 , -0.69909932, -1.65119689,\n",
       "        -1.13488584,  0.05328774, -0.75870086, -0.00931136,  0.83165742,\n",
       "         0.80462199,  0.42911601,  0.09046058,  0.        ,  1.        ,\n",
       "         0.        ,  0.        ,  1.        ,  0.        ,  1.        ,\n",
       "         0.        ,  1.        ,  0.        ,  1.        ,  0.        ,\n",
       "         0.        ,  0.        ,  1.        ,  0.        ,  0.        ,\n",
       "         1.        ]])"
      ]
     },
     "execution_count": 36,
     "metadata": {},
     "output_type": "execute_result"
    }
   ],
   "source": [
    "X_test_std[0:1,]"
   ]
  },
  {
   "cell_type": "code",
   "execution_count": 76,
   "metadata": {},
   "outputs": [
    {
     "name": "stdout",
     "output_type": "stream",
     "text": [
      "0.77828125\n",
      "             precision    recall  f1-score   support\n",
      "\n",
      "         FE     0.7315    0.5651    0.6376      1437\n",
      "         UE     0.7339    0.8630    0.7932      2825\n",
      "          W     0.8796    0.8096    0.8432      2138\n",
      "\n",
      "avg / total     0.7820    0.7783    0.7750      6400\n",
      "\n",
      "\n",
      "\n",
      "0.7620237351655216\n",
      "             precision    recall  f1-score   support\n",
      "\n",
      "         FE     0.6719    0.5591    0.6103       381\n",
      "         UE     0.7220    0.8491    0.7804       676\n",
      "          W     0.8855    0.7960    0.8383       544\n",
      "\n",
      "avg / total     0.7656    0.7620    0.7596      1601\n",
      "\n"
     ]
    }
   ],
   "source": [
    "estimator1 = DecisionTreeClassifier(max_depth=4,random_state=123)\n",
    "estimator1.fit(X_train_std, y_train)\n",
    "\n",
    "y1_pred_ = estimator1.predict(X_train_std)\n",
    "y_pred_ = estimator1.predict(X_test_std)\n",
    "\n",
    "print(accuracy_score(y_train,y1_pred_))\n",
    "print(classification_report(y_train,y1_pred_,digits=4))\n",
    "print(\"\\n\")\n",
    "\n",
    "print(accuracy_score(y_test,y_pred_))\n",
    "print(classification_report(y_test,y_pred_,digits=4))\n"
   ]
  },
  {
   "cell_type": "code",
   "execution_count": 38,
   "metadata": {},
   "outputs": [
    {
     "name": "stdout",
     "output_type": "stream",
     "text": [
      "[[213 133  35]\n",
      " [ 81 574  21]\n",
      " [ 23  88 433]]\n"
     ]
    }
   ],
   "source": [
    "print(confusion_matrix(y_test, y_pred_))"
   ]
  },
  {
   "cell_type": "markdown",
   "metadata": {},
   "source": [
    "## Random Forests\n",
    "\n",
    "- Very simple yet very powerful machine learning algorithm\n",
    "- As the name suggests: Builds a lot of trees within\n",
    "- More robust for the obvious reasons\n",
    "- We have a lot trees, thus lot pf predictions for the test class which enters, now the concept of majority voting.\n",
    "- Can handle both classification and regression problems\n",
    "- Extremely good to avoid overfitting"
   ]
  },
  {
   "cell_type": "markdown",
   "metadata": {},
   "source": [
    "# Working"
   ]
  },
  {
   "cell_type": "markdown",
   "metadata": {},
   "source": [
    "- Assume number of observations in training set is N. Then, sample of these N observations is taken at random but with replacement\n",
    "- If the number of variables or features \"m\" we take square root of m features for node selection at each stage.\n",
    "- There is no pruning done, trees are grown to the fullest depth\n",
    "- New data is predicted by the majority voting method or averaging for regression problems"
   ]
  },
  {
   "cell_type": "markdown",
   "metadata": {},
   "source": [
    "### Important Terminology\n",
    "- Bagging or bootstrap aggregation\n",
    " - Randomly pick the dataset or sub sample the dataset but with replacement\n",
    " - Important point to remember, the size of the new dataset is same as the original dataset."
   ]
  },
  {
   "cell_type": "code",
   "execution_count": 39,
   "metadata": {},
   "outputs": [
    {
     "name": "stdout",
     "output_type": "stream",
     "text": [
      "0.8619612742036228\n",
      "             precision    recall  f1-score   support\n",
      "\n",
      "         FE     0.7735    0.6903    0.7295       381\n",
      "         UE     0.8387    0.8920    0.8645       676\n",
      "          W     0.9483    0.9449    0.9466       544\n",
      "\n",
      "avg / total     0.8604    0.8620    0.8603      1601\n",
      "\n"
     ]
    }
   ],
   "source": [
    "clf = RandomForestClassifier(n_estimators=100,random_state=1234)\n",
    "\n",
    "clf.fit(X=X_train, y=y_train)\n",
    "y_pred = clf.predict(X_test)\n",
    "\n",
    "print(accuracy_score(y_test,y_pred))\n",
    "print(classification_report(y_test,y_pred,digits=4))"
   ]
  },
  {
   "cell_type": "code",
   "execution_count": 40,
   "metadata": {},
   "outputs": [
    {
     "name": "stdout",
     "output_type": "stream",
     "text": [
      "[[263 101  17]\n",
      " [ 62 603  11]\n",
      " [ 15  15 514]]\n"
     ]
    }
   ],
   "source": [
    "print(confusion_matrix(y_test, y_pred))"
   ]
  },
  {
   "cell_type": "markdown",
   "metadata": {},
   "source": [
    "#### With Standardization"
   ]
  },
  {
   "cell_type": "code",
   "execution_count": 41,
   "metadata": {},
   "outputs": [
    {
     "name": "stdout",
     "output_type": "stream",
     "text": [
      "\n",
      "\n",
      "0.8657089319175515\n",
      "             precision    recall  f1-score   support\n",
      "\n",
      "         FE     0.7887    0.6955    0.7392       381\n",
      "         UE     0.8477    0.8891    0.8679       676\n",
      "          W     0.9353    0.9559    0.9455       544\n",
      "\n",
      "avg / total     0.8634    0.8657    0.8636      1601\n",
      "\n"
     ]
    }
   ],
   "source": [
    "clf_1 = RandomForestClassifier(n_estimators=100,random_state=1234)\n",
    "\n",
    "clf_1.fit(X=X_train_std, y=y_train)\n",
    "\n",
    "# y1_pred_ = clf_1.predict(X_train_std)\n",
    "# print(accuracy_score(y_train,y1_pred_))\n",
    "# print(classification_report(y_train,y1_pred_,digits=4))\n",
    "\n",
    "print(\"\\n\")\n",
    "\n",
    "y_pred = clf_1.predict(X_test_std)\n",
    "print(accuracy_score(y_test,y_pred))\n",
    "print(classification_report(y_test,y_pred,digits=4))"
   ]
  },
  {
   "cell_type": "code",
   "execution_count": 42,
   "metadata": {},
   "outputs": [
    {
     "name": "stdout",
     "output_type": "stream",
     "text": [
      "[[265  96  20]\n",
      " [ 59 601  16]\n",
      " [ 12  12 520]]\n"
     ]
    }
   ],
   "source": [
    "print(confusion_matrix(y_test, y_pred))"
   ]
  },
  {
   "cell_type": "markdown",
   "metadata": {},
   "source": [
    "#### Random Forest Parameters\n",
    "* n_estimators is the number of trees in the forest\n",
    "* max_depth is how deep each tree can be\n",
    "* min_sample_leaf is the minimum samples required in each leaf node for the root node to split.\n",
    "    \"A node will only be split if in each of it's leaf nodes there should be min_sample_leaf\".\n"
   ]
  },
  {
   "cell_type": "code",
   "execution_count": 43,
   "metadata": {},
   "outputs": [],
   "source": [
    "## Use Grid Search for parameter tuning. (Exhaustive search over specified parameter values for an estimator)\n",
    "\n",
    "from sklearn.model_selection import GridSearchCV\n",
    "\n",
    "## n_jobs = -1 uses all cores of processor\n",
    "## max_features is the maximum number of attributes to select for each tree\n",
    "\n",
    "rfc_grid = RandomForestClassifier(n_jobs=-1, max_features='sqrt')\n",
    " \n",
    "# Use a grid over parameters of interest\n",
    "\n",
    "param_grid = { \n",
    "           \"n_estimators\" : [9, 18, 27, 36, 45, 54, 63],\n",
    "           \"max_depth\" : [5, 10],\n",
    "           \"min_samples_leaf\" : [2, 4]}\n",
    " \n",
    "rfc_cv_grid = GridSearchCV(estimator = rfc_grid, param_grid = param_grid, cv = 10)"
   ]
  },
  {
   "cell_type": "markdown",
   "metadata": {},
   "source": [
    "##### GridSearchCV implements a “fit” and a “score” method. "
   ]
  },
  {
   "cell_type": "code",
   "execution_count": 44,
   "metadata": {},
   "outputs": [
    {
     "data": {
      "text/plain": [
       "GridSearchCV(cv=10, error_score='raise',\n",
       "       estimator=RandomForestClassifier(bootstrap=True, class_weight=None, criterion='gini',\n",
       "            max_depth=None, max_features='sqrt', max_leaf_nodes=None,\n",
       "            min_impurity_decrease=0.0, min_impurity_split=None,\n",
       "            min_samples_leaf=1, min_samples_split=2,\n",
       "            min_weight_fraction_leaf=0.0, n_estimators=10, n_jobs=-1,\n",
       "            oob_score=False, random_state=None, verbose=0,\n",
       "            warm_start=False),\n",
       "       fit_params=None, iid=True, n_jobs=1,\n",
       "       param_grid={'n_estimators': [9, 18, 27, 36, 45, 54, 63], 'max_depth': [5, 10], 'min_samples_leaf': [2, 4]},\n",
       "       pre_dispatch='2*n_jobs', refit=True, return_train_score='warn',\n",
       "       scoring=None, verbose=0)"
      ]
     },
     "execution_count": 44,
     "metadata": {},
     "output_type": "execute_result"
    }
   ],
   "source": [
    "## Fit the grid search model\n",
    "rfc_cv_grid.fit(X = X_train, y = y_train)"
   ]
  },
  {
   "cell_type": "code",
   "execution_count": 45,
   "metadata": {},
   "outputs": [
    {
     "name": "stdout",
     "output_type": "stream",
     "text": [
      "0.86671875 {'max_depth': 10, 'min_samples_leaf': 2, 'n_estimators': 45}\n"
     ]
    }
   ],
   "source": [
    "## Print best score and parameters\n",
    "print(rfc_cv_grid.best_score_,rfc_cv_grid.best_params_)"
   ]
  },
  {
   "cell_type": "code",
   "execution_count": 46,
   "metadata": {},
   "outputs": [
    {
     "data": {
      "text/plain": [
       "array([0.01103066, 0.00335083, 0.00725348, 0.07150816, 0.16517427,\n",
       "       0.04444378, 0.06219542, 0.09812921, 0.06750106, 0.0353156 ,\n",
       "       0.05512107, 0.02184904, 0.02789639, 0.02003796, 0.04948839,\n",
       "       0.02711221, 0.04878835, 0.02967193, 0.04093694, 0.02180922,\n",
       "       0.00224531, 0.00805094, 0.07542756, 0.00254445, 0.00311778])"
      ]
     },
     "execution_count": 46,
     "metadata": {},
     "output_type": "execute_result"
    }
   ],
   "source": [
    "clf.feature_importances_"
   ]
  },
  {
   "cell_type": "code",
   "execution_count": 47,
   "metadata": {},
   "outputs": [
    {
     "data": {
      "text/plain": [
       "Index(['rally', 'serve', 'hitpoint', 'speed', 'net.clearance',\n",
       "       'distance.from.sideline', 'depth', 'outside.sideline',\n",
       "       'outside.baseline', 'player.distance.travelled', 'player.impact.depth',\n",
       "       'player.impact.distance.from.center', 'player.depth',\n",
       "       'player.distance.from.center', 'previous.speed',\n",
       "       'previous.net.clearance', 'previous.distance.from.sideline',\n",
       "       'previous.depth', 'opponent.depth', 'opponent.distance.from.center',\n",
       "       'same.side', 'previous.hitpoint', 'previous.time.to.net',\n",
       "       'server.is.impact.player', 'gender'],\n",
       "      dtype='object')"
      ]
     },
     "execution_count": 47,
     "metadata": {},
     "output_type": "execute_result"
    }
   ],
   "source": [
    "X_train.columns"
   ]
  },
  {
   "cell_type": "code",
   "execution_count": 48,
   "metadata": {},
   "outputs": [
    {
     "data": {
      "text/plain": [
       "<matplotlib.axes._subplots.AxesSubplot at 0x1a1d6356a0>"
      ]
     },
     "execution_count": 48,
     "metadata": {},
     "output_type": "execute_result"
    },
    {
     "data": {
      "image/png": "[encoded data removed]",
      "text/plain": [
       "<Figure size 432x288 with 1 Axes>"
      ]
     },
     "metadata": {},
     "output_type": "display_data"
    }
   ],
   "source": [
    "feat_importances_rf = pd.Series(clf.feature_importances_, index = X_train.columns)\n",
    "feat_importances_ordered = feat_importances_rf.nlargest(n=len(feat_importances_rf))\n",
    "feat_importances_ordered.plot(kind='bar')"
   ]
  },
  {
   "cell_type": "markdown",
   "metadata": {},
   "source": [
    "## Model Building"
   ]
  },
  {
   "cell_type": "markdown",
   "metadata": {},
   "source": [
    "### Build ADABOOST Classifier"
   ]
  },
  {
   "cell_type": "markdown",
   "metadata": {},
   "source": [
    "1. Assign every observation, X(i), with an initial weight value, w(i) = 1/n, \n",
    "Where n is the total number of observations.\n",
    "2. Train a **weak** model.\n",
    "3. For each observation:\n",
    " <br>3.1. If predicted **incorrectly**, w(i) is **increased**.\n",
    " <br>3.2. If predicted **correctly**, w(i) i **decreased**.\n",
    "4. Train a new weak model where observations with greater weights are given more priority.\n",
    "5. Repeat steps 3 and 4 until observatons are perfectly predicted or a preset number of trees are trained. "
   ]
  },
  {
   "cell_type": "markdown",
   "metadata": {},
   "source": [
    "#### Create Adaboost Classifier"
   ]
  },
  {
   "cell_type": "markdown",
   "metadata": {},
   "source": [
    "The most important parameters are base_estimator, n_estimators, and learning_rate.\n",
    "-  **base_estimator** is the learning algorithm to use to train the weak models. This will almost always not needed to be changed because by far the most common learner to use with AdaBoost is a decision tree – this parameter’s default argument.\n",
    "-  **n_estimators** is the number of models to iteratively train.\n",
    "-  **learning_rate** is the contribution of each model to the weights and defaults to 1. Reducing the learning rate will mean the weights will be increased or decreased to a small degree, forcing the model train slower (but sometimes resulting in better performance scores).\n",
    "-  **loss** is exclusive to AdaBoostRegressor and sets the loss function to use when updating weights. This defaults to a linear loss function however can be changed to square or exponential."
   ]
  },
  {
   "cell_type": "code",
   "execution_count": 49,
   "metadata": {},
   "outputs": [],
   "source": [
    "# Create adaboost-decision tree classifer object\n",
    "Adaboost_model = AdaBoostClassifier(\n",
    "    DecisionTreeClassifier(max_depth=2),\n",
    "    n_estimators = 600,\n",
    "    learning_rate = 1)"
   ]
  },
  {
   "cell_type": "code",
   "execution_count": 50,
   "metadata": {},
   "outputs": [
    {
     "name": "stdout",
     "output_type": "stream",
     "text": [
      "CPU times: user 20.5 s, sys: 88 ms, total: 20.6 s\n",
      "Wall time: 21.7 s\n"
     ]
    },
    {
     "data": {
      "text/plain": [
       "AdaBoostClassifier(algorithm='SAMME.R',\n",
       "          base_estimator=DecisionTreeClassifier(class_weight=None, criterion='gini', max_depth=2,\n",
       "            max_features=None, max_leaf_nodes=None,\n",
       "            min_impurity_decrease=0.0, min_impurity_split=None,\n",
       "            min_samples_leaf=1, min_samples_split=2,\n",
       "            min_weight_fraction_leaf=0.0, presort=False, random_state=None,\n",
       "            splitter='best'),\n",
       "          learning_rate=1, n_estimators=600, random_state=None)"
      ]
     },
     "execution_count": 50,
     "metadata": {},
     "output_type": "execute_result"
    }
   ],
   "source": [
    "%time Adaboost_model.fit(X_train, y_train)"
   ]
  },
  {
   "cell_type": "code",
   "execution_count": 51,
   "metadata": {},
   "outputs": [],
   "source": [
    "y_preds = Adaboost_model.predict(X_test)"
   ]
  },
  {
   "cell_type": "code",
   "execution_count": 52,
   "metadata": {},
   "outputs": [
    {
     "name": "stdout",
     "output_type": "stream",
     "text": [
      "0.8288569643972518\n"
     ]
    }
   ],
   "source": [
    "print(accuracy_score(y_test, y_preds))"
   ]
  },
  {
   "cell_type": "code",
   "execution_count": 53,
   "metadata": {},
   "outputs": [],
   "source": [
    "param_grid = {'n_estimators' : [100, 150, 200],\n",
    "              'learning_rate' : [0.1, 0.5, 0.9]}\n",
    "\n",
    "Adaboost_model_clf = GridSearchCV(AdaBoostClassifier(\n",
    "            DecisionTreeClassifier(max_depth=2)), param_grid, n_jobs=-1)"
   ]
  },
  {
   "cell_type": "code",
   "execution_count": 54,
   "metadata": {},
   "outputs": [
    {
     "name": "stdout",
     "output_type": "stream",
     "text": [
      "CPU times: user 6.69 s, sys: 119 ms, total: 6.81 s\n",
      "Wall time: 2min 11s\n"
     ]
    },
    {
     "data": {
      "text/plain": [
       "GridSearchCV(cv=None, error_score='raise',\n",
       "       estimator=AdaBoostClassifier(algorithm='SAMME.R',\n",
       "          base_estimator=DecisionTreeClassifier(class_weight=None, criterion='gini', max_depth=2,\n",
       "            max_features=None, max_leaf_nodes=None,\n",
       "            min_impurity_decrease=0.0, min_impurity_split=None,\n",
       "            min_samples_leaf=1, min_samples_split=2,\n",
       "            min_weight_fraction_leaf=0.0, presort=False, random_state=None,\n",
       "            splitter='best'),\n",
       "          learning_rate=1.0, n_estimators=50, random_state=None),\n",
       "       fit_params=None, iid=True, n_jobs=-1,\n",
       "       param_grid={'n_estimators': [100, 150, 200], 'learning_rate': [0.1, 0.5, 0.9]},\n",
       "       pre_dispatch='2*n_jobs', refit=True, return_train_score='warn',\n",
       "       scoring=None, verbose=0)"
      ]
     },
     "execution_count": 54,
     "metadata": {},
     "output_type": "execute_result"
    }
   ],
   "source": [
    "%time Adaboost_model_clf.fit(X_train, y_train)"
   ]
  },
  {
   "cell_type": "code",
   "execution_count": 55,
   "metadata": {},
   "outputs": [
    {
     "name": "stdout",
     "output_type": "stream",
     "text": [
      "0.85375 {'learning_rate': 0.1, 'n_estimators': 200}\n"
     ]
    }
   ],
   "source": [
    "best_ada_model = Adaboost_model_clf.best_estimator_\n",
    "print (Adaboost_model_clf.best_score_, Adaboost_model_clf.best_params_) "
   ]
  },
  {
   "cell_type": "code",
   "execution_count": 56,
   "metadata": {},
   "outputs": [],
   "source": [
    "y_pred_test = best_ada_model.predict(X_test)"
   ]
  },
  {
   "cell_type": "code",
   "execution_count": 57,
   "metadata": {},
   "outputs": [
    {
     "name": "stdout",
     "output_type": "stream",
     "text": [
      "0.8488444722048719\n"
     ]
    }
   ],
   "source": [
    "print(accuracy_score(y_test,y_pred_test))"
   ]
  },
  {
   "cell_type": "code",
   "execution_count": 58,
   "metadata": {},
   "outputs": [
    {
     "name": "stdout",
     "output_type": "stream",
     "text": [
      "[[235 128  18]\n",
      " [ 53 608  15]\n",
      " [ 17  11 516]]\n"
     ]
    }
   ],
   "source": [
    "print(confusion_matrix(y_test, y_pred_test))"
   ]
  },
  {
   "cell_type": "markdown",
   "metadata": {},
   "source": [
    "## Build Gradient Boosting Classifier"
   ]
  },
  {
   "cell_type": "markdown",
   "metadata": {},
   "source": [
    "Gradient boosting is a type of boosting. \n",
    "\n",
    "The key idea behind gradient boosting is to set the target outcomes for this next model in order to minimize the error. The target outcome for each case in the data set depends on how much a change in that case’s prediction impacts the overall prediction error.\n",
    "\n",
    "If, for case X(i), a small change in the prediction causes a large drop in error, then the next target outcome is a high value. Predictions from the new model that are close to its targets will reduce the error.\n",
    "\n",
    "If, for case X(j), a small change in the prediction causes no change in error, then the next target outcome is zero because changing this prediction does not decrease the error.\n",
    "\n",
    "The name gradient boosting arises because of setting target outcomes based on the gradient of the error with respect to the prediction of each case. Each new model takes a step in the direction that minimizes prediction error, in the space of possible predictions for each training case.\n",
    "\n",
    "1. Initialize the outcome\n",
    "2. Iterate from 1 to total number of trees\n",
    "  <br>2.1 Update the weights for targets based on previous run (higher for the ones mis-classified)\n",
    "  <br>2.2 Fit the model on selected subsample of data\n",
    "  <br>2.3 Make predictions on the full set of observations\n",
    "  <br>2.4 Update the output with current results taking into account the learning rate\n",
    "3. Return the final output."
   ]
  },
  {
   "cell_type": "markdown",
   "metadata": {},
   "source": [
    "The most important parameters are learning_rate, n_estimators and subsample\n",
    "- **learning_rate**\n",
    "    -  This determines the impact of each tree on the final outcome (step 2.4). GBM works by starting with an initial estimate which is updated using the output of each tree. The learning parameter controls the magnitude of this change in the estimates.\n",
    "    -  Lower values are generally preferred as they make the model robust to the specific characteristics of tree and thus allowing it to generalize well.\n",
    "    -  Lower values would require higher number of trees to model all the relations and will be computationally expensive.\n",
    "- **n_estimators**\n",
    "    -  The number of sequential trees to be modeled (step 2)\n",
    "    -  Though GBM is fairly robust at higher number of trees but it can still overfit at a point. Hence, this should be tuned using CV for a particular learning rate.\n",
    "- **subsample**\n",
    "    -  The fraction of observations to be selected for each tree. Selection is done by random sampling.\n",
    "    -  Values slightly less than 1 make the model robust by reducing the variance.\n",
    "    -  Typical values ~0.8 generally work fine but can be fine-tuned further."
   ]
  },
  {
   "cell_type": "code",
   "execution_count": 59,
   "metadata": {},
   "outputs": [],
   "source": [
    "GBM_model = GradientBoostingClassifier(n_estimators=50,\n",
    "                                       learning_rate=0.3,\n",
    "                                       subsample=0.8)"
   ]
  },
  {
   "cell_type": "code",
   "execution_count": 60,
   "metadata": {},
   "outputs": [
    {
     "name": "stdout",
     "output_type": "stream",
     "text": [
      "CPU times: user 2.05 s, sys: 24.3 ms, total: 2.07 s\n",
      "Wall time: 2.12 s\n"
     ]
    },
    {
     "data": {
      "text/plain": [
       "GradientBoostingClassifier(criterion='friedman_mse', init=None,\n",
       "              learning_rate=0.3, loss='deviance', max_depth=3,\n",
       "              max_features=None, max_leaf_nodes=None,\n",
       "              min_impurity_decrease=0.0, min_impurity_split=None,\n",
       "              min_samples_leaf=1, min_samples_split=2,\n",
       "              min_weight_fraction_leaf=0.0, n_estimators=50,\n",
       "              presort='auto', random_state=None, subsample=0.8, verbose=0,\n",
       "              warm_start=False)"
      ]
     },
     "execution_count": 60,
     "metadata": {},
     "output_type": "execute_result"
    }
   ],
   "source": [
    "%time GBM_model.fit(X=X_train, y=y_train)"
   ]
  },
  {
   "cell_type": "code",
   "execution_count": 61,
   "metadata": {},
   "outputs": [],
   "source": [
    "y_pred = GBM_model.predict(X_test)"
   ]
  },
  {
   "cell_type": "code",
   "execution_count": 62,
   "metadata": {},
   "outputs": [
    {
     "name": "stdout",
     "output_type": "stream",
     "text": [
      "0.8607120549656465\n",
      "             precision    recall  f1-score   support\n",
      "\n",
      "         FE     0.7672    0.6745    0.7179       381\n",
      "         UE     0.8425    0.8861    0.8637       676\n",
      "          W     0.9405    0.9596    0.9500       544\n",
      "\n",
      "avg / total     0.8579    0.8607    0.8583      1601\n",
      "\n"
     ]
    }
   ],
   "source": [
    "print(accuracy_score(y_test,y_pred))\n",
    "print(classification_report(y_test,y_pred,digits=4))"
   ]
  },
  {
   "cell_type": "code",
   "execution_count": 63,
   "metadata": {},
   "outputs": [],
   "source": [
    "from sklearn.model_selection import GridSearchCV\n",
    "\n",
    "# Model in use\n",
    "GBM = GradientBoostingClassifier() \n",
    " \n",
    "# Use a grid over parameters of interest\n",
    "param_grid = { \n",
    "           \"n_estimators\" : [100,150],\n",
    "           \"max_depth\" : [5, 10],\n",
    "           \"learning_rate\" : [0.1,0.2]}\n",
    " \n",
    "CV_GBM = GridSearchCV(estimator=GBM, param_grid=param_grid, cv= 5)"
   ]
  },
  {
   "cell_type": "code",
   "execution_count": 64,
   "metadata": {},
   "outputs": [
    {
     "name": "stdout",
     "output_type": "stream",
     "text": [
      "CPU times: user 9min 20s, sys: 2.92 s, total: 9min 23s\n",
      "Wall time: 42min 53s\n"
     ]
    },
    {
     "data": {
      "text/plain": [
       "GridSearchCV(cv=5, error_score='raise',\n",
       "       estimator=GradientBoostingClassifier(criterion='friedman_mse', init=None,\n",
       "              learning_rate=0.1, loss='deviance', max_depth=3,\n",
       "              max_features=None, max_leaf_nodes=None,\n",
       "              min_impurity_decrease=0.0, min_impurity_split=None,\n",
       "              min_samples_leaf=1, min_samples_split=2,\n",
       "              min_weight_fraction_leaf=0.0, n_estimators=100,\n",
       "              presort='auto', random_state=None, subsample=1.0, verbose=0,\n",
       "              warm_start=False),\n",
       "       fit_params=None, iid=True, n_jobs=1,\n",
       "       param_grid={'n_estimators': [100, 150], 'max_depth': [5, 10], 'learning_rate': [0.1, 0.2]},\n",
       "       pre_dispatch='2*n_jobs', refit=True, return_train_score='warn',\n",
       "       scoring=None, verbose=0)"
      ]
     },
     "execution_count": 64,
     "metadata": {},
     "output_type": "execute_result"
    }
   ],
   "source": [
    "%time CV_GBM.fit(X=X_train, y=y_train)"
   ]
  },
  {
   "cell_type": "code",
   "execution_count": 65,
   "metadata": {},
   "outputs": [
    {
     "name": "stdout",
     "output_type": "stream",
     "text": [
      "0.87578125 {'learning_rate': 0.2, 'max_depth': 5, 'n_estimators': 150}\n"
     ]
    }
   ],
   "source": [
    "# Find best model\n",
    "best_gbm_model = CV_GBM.best_estimator_\n",
    "print (CV_GBM.best_score_, CV_GBM.best_params_)"
   ]
  },
  {
   "cell_type": "code",
   "execution_count": 66,
   "metadata": {},
   "outputs": [],
   "source": [
    "y_pred_test=best_gbm_model.predict(X_test)"
   ]
  },
  {
   "cell_type": "code",
   "execution_count": 67,
   "metadata": {},
   "outputs": [
    {
     "name": "stdout",
     "output_type": "stream",
     "text": [
      "0.8557151780137414\n"
     ]
    }
   ],
   "source": [
    "print(accuracy_score(y_test,y_pred_test))"
   ]
  },
  {
   "cell_type": "code",
   "execution_count": 68,
   "metadata": {},
   "outputs": [
    {
     "name": "stdout",
     "output_type": "stream",
     "text": [
      "[[260 102  19]\n",
      " [ 66 593  17]\n",
      " [ 14  13 517]]\n"
     ]
    }
   ],
   "source": [
    "print(confusion_matrix(y_test, y_pred_test))"
   ]
  },
  {
   "cell_type": "markdown",
   "metadata": {},
   "source": [
    "### Build XGBOOST Classifier\n",
    "XGBoost (eXtreme Gradient Boosting) is an advanced implementation of gradient boosting algorithm.\n",
    "#### The XGBoost Advantages\n",
    "-  Regularization:\n",
    "    -  Standard GBM implementation has no regularization like XGBoost, therefore it also helps to reduce overfitting.\n",
    "    -  In fact, XGBoost is also known as ‘regularized boosting‘ technique.\n",
    "-  Parallel Processing:\n",
    "    -  XGBoost implements parallel processing and is blazingly faster as compared to GBM.\n",
    "    -  Boosting is sequential process that each tree can be built only after the previous one, and it  can be parallelized with making a tree using all cores. Refer. http://zhanpengfang.github.io/418home.html\n",
    "    \n",
    "    -  XGBoost also supports implementation on Hadoop.\n",
    "-  High Flexibility\n",
    "    -  XGBoost allow users to define custom optimization objectives and evaluation criteria.\n",
    "    -  This adds a whole new dimension to the model and there is no limit to what we can do.\n",
    "-  Handling Missing Values\n",
    "    -  XGBoost has an in-built routine to handle missing values.\n",
    "    -  User is required to supply a different value than other observations and pass that as a parameter. XGBoost tries different things as it encounters a missing value on each node and learns which path to take for missing values in future.\n",
    "-  Tree Pruning:\n",
    "    -  A GBM would stop splitting a node when it encounters a negative loss in the split. Thus it is more of a greedy algorithm.\n",
    "    -  XGBoost on the other hand make splits upto the max_depth specified and then start pruning the tree backwards and remove splits beyond which there is no positive gain.\n",
    "    -  Another advantage is that sometimes a split of negative loss say -2 may be followed by a split of positive loss +10. GBM would stop as it encounters -2. But XGBoost will go deeper and it will see a combined effect of +8 of the split and keep both.\n",
    "-  Built-in Cross-Validation\n",
    "    -  XGBoost allows user to run a cross-validation at each iteration of the boosting process and thus it is easy to get the exact optimum number of boosting iterations in a single run.\n",
    "    -  This is unlike GBM where we have to run a grid-search and only a limited values can be tested.\n",
    "-  Continue on Existing Model\n",
    "    -  User can start training an XGBoost model from its last iteration of previous run. This can be of significant advantage in certain specific applications.\n",
    "    -  GBM implementation of sklearn also has this feature so they are even on this point."
   ]
  },
  {
   "cell_type": "markdown",
   "metadata": {},
   "source": [
    "#### Create XGBoost Classifier\n",
    "\n",
    "There are different hyperparameters that we can tune and the parametres are different from baselearner to baselearner. \n",
    "<br>In tree based learners, which are the most common ones in xgboost applications, the following are the most commonly tuned hyperparameters:\n",
    "\n",
    "-  **learning rate/eta:** governs how quickly the model fits the residual error using additional base learners. If it is a smaller learning rate, it will need more boosting rounds, hence more time, to achieve the same reduction in residual error as one with larger learning rate. Typically, it lies between 0.01 – 0.3\n",
    "-  **max_depth:** max depth per tree. This controls how deep our tree can grow. The Larger the depth, more complex the model will be and higher chances of overfitting. Larger data sets require deep trees to learn the rules from data. Default = 6.\n",
    "-  **subsample:** % samples used per tree. This is the fraction of the total training set that can be used in any boosting round. Low value may lead to underfitting issues. A very high value can cause over-fitting problems.\n",
    "-  **colsample_bytree:** % features used per tree. This is the fraction of the number of columns that we can use in any boosting round. A smaller value is an additional regularization and a larger value may be cause overfitting issues.\n",
    "-  **n_estimators:** number of estimators (base learners). This is the number of boosting rounds.\n",
    "<br><br>The three hyperparameters below are regularization hyperparameters.\n",
    "-  **gamma:** min loss reduction to create new tree split. default = 0 means no regularization.\n",
    "-  **lambda:** L2 reg on leaf weights. Equivalent to Ridge regression.\n",
    "-  **alpha:** L1 reg on leaf weights. Equivalent to Lasso regression.\n",
    "\n",
    "\n",
    "Refer: https://xgboost.readthedocs.io/en/latest/python/python_api.html"
   ]
  },
  {
   "cell_type": "code",
   "execution_count": 69,
   "metadata": {},
   "outputs": [
    {
     "name": "stdout",
     "output_type": "stream",
     "text": [
      "CPU times: user 23.3 s, sys: 117 ms, total: 23.4 s\n",
      "Wall time: 23.7 s\n",
      "0.8638351030605871\n"
     ]
    }
   ],
   "source": [
    "XGB_model = XGBClassifier(n_estimators=500, gamma=0.5,learning_rate=0.1)\n",
    "%time XGB_model.fit(X_train, y_train)\n",
    "y_pred = XGB_model.predict(X_test)\n",
    "print(accuracy_score(y_test,y_pred))"
   ]
  },
  {
   "cell_type": "code",
   "execution_count": 70,
   "metadata": {},
   "outputs": [],
   "source": [
    "XGB = XGBClassifier(n_jobs=-1)\n",
    " \n",
    "# Use a grid over parameters of interest\n",
    "param_grid = {\n",
    "     'colsample_bytree': np.linspace(0.5, 0.9, 2),\n",
    "     'n_estimators':[100],\n",
    "     'max_depth': [10, 15]\n",
    "}\n",
    "\n",
    " \n",
    "CV_XGB = GridSearchCV(estimator=XGB, param_grid=param_grid, cv= 10)"
   ]
  },
  {
   "cell_type": "code",
   "execution_count": 71,
   "metadata": {},
   "outputs": [
    {
     "name": "stdout",
     "output_type": "stream",
     "text": [
      "CPU times: user 7min 27s, sys: 2.83 s, total: 7min 29s\n",
      "Wall time: 8min 26s\n"
     ]
    },
    {
     "data": {
      "text/plain": [
       "GridSearchCV(cv=10, error_score='raise',\n",
       "       estimator=XGBClassifier(base_score=0.5, booster='gbtree', colsample_bylevel=1,\n",
       "       colsample_bytree=1, gamma=0, learning_rate=0.1, max_delta_step=0,\n",
       "       max_depth=3, min_child_weight=1, missing=None, n_estimators=100,\n",
       "       n_jobs=-1, nthread=None, objective='binary:logistic',\n",
       "       random_state=0, reg_alpha=0, reg_lambda=1, scale_pos_weight=1,\n",
       "       seed=None, silent=True, subsample=1),\n",
       "       fit_params=None, iid=True, n_jobs=1,\n",
       "       param_grid={'colsample_bytree': array([0.5, 0.9]), 'n_estimators': [100], 'max_depth': [10, 15]},\n",
       "       pre_dispatch='2*n_jobs', refit=True, return_train_score='warn',\n",
       "       scoring=None, verbose=0)"
      ]
     },
     "execution_count": 71,
     "metadata": {},
     "output_type": "execute_result"
    }
   ],
   "source": [
    "%time CV_XGB.fit(X = X_train, y=y_train)"
   ]
  },
  {
   "cell_type": "code",
   "execution_count": 72,
   "metadata": {},
   "outputs": [
    {
     "name": "stdout",
     "output_type": "stream",
     "text": [
      "0.8759375 {'colsample_bytree': 0.9, 'max_depth': 15, 'n_estimators': 100}\n"
     ]
    }
   ],
   "source": [
    "# Find best model\n",
    "best_xgb_model = CV_XGB.best_estimator_\n",
    "print (CV_XGB.best_score_, CV_XGB.best_params_)"
   ]
  },
  {
   "cell_type": "code",
   "execution_count": 73,
   "metadata": {
    "scrolled": true
   },
   "outputs": [],
   "source": [
    "y_pred_test=best_xgb_model.predict(X_test)"
   ]
  },
  {
   "cell_type": "code",
   "execution_count": 74,
   "metadata": {},
   "outputs": [
    {
     "name": "stdout",
     "output_type": "stream",
     "text": [
      "0.863210493441599\n"
     ]
    }
   ],
   "source": [
    "print(accuracy_score(y_test,y_pred_test))"
   ]
  },
  {
   "cell_type": "code",
   "execution_count": 75,
   "metadata": {},
   "outputs": [
    {
     "name": "stdout",
     "output_type": "stream",
     "text": [
      "[[262 101  18]\n",
      " [ 61 600  15]\n",
      " [ 13  11 520]]\n"
     ]
    }
   ],
   "source": [
    "print(confusion_matrix(y_test, y_pred_test))"
   ]
  }
 ],
 "metadata": {
  "kernelspec": {
   "display_name": "Python 3",
   "language": "python",
   "name": "python3"
  },
  "language_info": {
   "codemirror_mode": {
    "name": "ipython",
    "version": 3
   },
   "file_extension": ".py",
   "mimetype": "text/x-python",
   "name": "python",
   "nbconvert_exporter": "python",
   "pygments_lexer": "ipython3",
   "version": "3.6.5"
  }
 },
 "nbformat": 4,
 "nbformat_minor": 2
}
