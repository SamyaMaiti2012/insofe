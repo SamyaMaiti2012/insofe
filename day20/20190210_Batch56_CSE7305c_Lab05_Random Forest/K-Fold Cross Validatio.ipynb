{
 "cells": [
  {
   "cell_type": "code",
   "execution_count": 1,
   "metadata": {},
   "outputs": [],
   "source": [
    "import numpy as np\n",
    "from sklearn.model_selection import KFold\n",
    "from sklearn import datasets\n"
   ]
  },
  {
   "cell_type": "code",
   "execution_count": 2,
   "metadata": {},
   "outputs": [],
   "source": [
    "#iris = datasets.load_iris()"
   ]
  },
  {
   "cell_type": "code",
   "execution_count": 3,
   "metadata": {},
   "outputs": [],
   "source": [
    "#ris.data"
   ]
  },
  {
   "cell_type": "code",
   "execution_count": 4,
   "metadata": {},
   "outputs": [],
   "source": [
    "#X = iris.data[:10,:2]\n",
    "#y = iris.target[:10]"
   ]
  },
  {
   "cell_type": "code",
   "execution_count": 5,
   "metadata": {},
   "outputs": [],
   "source": [
    "#X"
   ]
  },
  {
   "cell_type": "code",
   "execution_count": 6,
   "metadata": {},
   "outputs": [],
   "source": [
    "#y"
   ]
  },
  {
   "cell_type": "code",
   "execution_count": 7,
   "metadata": {},
   "outputs": [],
   "source": [
    "X = [\"a\", \"b\", \"c\", \"d\"]\n",
    "y = [\"1\",\"2\",\"3\",\"4\"]"
   ]
  },
  {
   "cell_type": "code",
   "execution_count": 8,
   "metadata": {},
   "outputs": [],
   "source": [
    "kf = KFold(n_splits=2)"
   ]
  },
  {
   "cell_type": "code",
   "execution_count": 9,
   "metadata": {},
   "outputs": [
    {
     "data": {
      "text/plain": [
       "<generator object _BaseKFold.split at 0x7f6ba0c50db0>"
      ]
     },
     "execution_count": 9,
     "metadata": {},
     "output_type": "execute_result"
    }
   ],
   "source": [
    "kf.split(X)"
   ]
  },
  {
   "cell_type": "code",
   "execution_count": 10,
   "metadata": {},
   "outputs": [
    {
     "name": "stdout",
     "output_type": "stream",
     "text": [
      "X_TRAIN: ['c', 'd'] X_TEST: ['a', 'b']\n",
      "y_TRAIN: ['3', '4'] y_TEST: ['1', '2']\n",
      "=====================================================================================\n",
      "X_TRAIN: ['a', 'b'] X_TEST: ['c', 'd']\n",
      "y_TRAIN: ['1', '2'] y_TEST: ['3', '4']\n",
      "=====================================================================================\n"
     ]
    }
   ],
   "source": [
    "for train_index, test_index in kf.split(X):\n",
    "    print(\"X_TRAIN:\",[X[i] for i in list(train_index)],\"X_TEST:\",[X[i] for i in list(test_index)])\n",
    "    print(\"y_TRAIN:\",[y[i] for i in list(train_index)],\"y_TEST:\",[y[i] for i in list(test_index)])\n",
    "    print(\"=====================================================================================\")"
   ]
  },
  {
   "cell_type": "code",
   "execution_count": 11,
   "metadata": {},
   "outputs": [],
   "source": [
    "from sklearn.model_selection import RepeatedKFold"
   ]
  },
  {
   "cell_type": "code",
   "execution_count": 12,
   "metadata": {},
   "outputs": [],
   "source": [
    "rkf = RepeatedKFold(n_splits=2, n_repeats=2, random_state=1245)"
   ]
  },
  {
   "cell_type": "code",
   "execution_count": 13,
   "metadata": {},
   "outputs": [
    {
     "name": "stdout",
     "output_type": "stream",
     "text": [
      "X_TRAIN: ['c', 'd'] X_TEST: ['a', 'b']\n",
      "y_TRAIN: ['3', '4'] y_TEST: ['1', '2']\n",
      "=====================================================================================\n",
      "X_TRAIN: ['a', 'b'] X_TEST: ['c', 'd']\n",
      "y_TRAIN: ['1', '2'] y_TEST: ['3', '4']\n",
      "=====================================================================================\n",
      "X_TRAIN: ['b', 'd'] X_TEST: ['a', 'c']\n",
      "y_TRAIN: ['2', '4'] y_TEST: ['1', '3']\n",
      "=====================================================================================\n",
      "X_TRAIN: ['a', 'c'] X_TEST: ['b', 'd']\n",
      "y_TRAIN: ['1', '3'] y_TEST: ['2', '4']\n",
      "=====================================================================================\n"
     ]
    }
   ],
   "source": [
    "for train_index, test_index in rkf.split(X):\n",
    "    print(\"X_TRAIN:\",[X[i] for i in list(train_index)],\"X_TEST:\",[X[i] for i in list(test_index)])\n",
    "    print(\"y_TRAIN:\",[y[i] for i in list(train_index)],\"y_TEST:\",[y[i] for i in list(test_index)])\n",
    "    print(\"=====================================================================================\")"
   ]
  }
 ],
 "metadata": {
  "kernelspec": {
   "display_name": "Python 3",
   "language": "python",
   "name": "python3"
  },
  "language_info": {
   "codemirror_mode": {
    "name": "ipython",
    "version": 3
   },
   "file_extension": ".py",
   "mimetype": "text/x-python",
   "name": "python",
   "nbconvert_exporter": "python",
   "pygments_lexer": "ipython3",
   "version": "3.6.8"
  }
 },
 "nbformat": 4,
 "nbformat_minor": 2
}
