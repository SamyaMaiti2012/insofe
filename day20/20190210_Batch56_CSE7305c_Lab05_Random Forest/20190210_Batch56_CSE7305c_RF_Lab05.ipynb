{
 "cells": [
  {
   "cell_type": "markdown",
   "metadata": {},
   "source": [
    "#### Problem Description:\n",
    "* A relatively young bank is growing rapidly in terms of overall customer acquisition.Majority of these are Liability customers with varying sizes of relationship with the bank.The customer base of Asset customers is quite small, and the bank WANTS to grow this base rapidly to bring in more loan business. \n",
    "\n",
    "* Specifically, it wants to explore ways of converting its liability customers to Personal Loan customers.\n",
    "\n",
    "* A campaign the bank ran for liability customers last year showed a healthy conversion rate of over 9% successes. This has encouraged the Retail Marketing department to devise smarter campaigns with better target marketing.\n",
    "\n",
    "#### Anlaytics Objectives :\n",
    "\t\n",
    "\t\n",
    "* 1\tWhile designing a new campaign, can we model the previous campaign's customer behavior to \n",
    "\tanalyze what combination of parameters make a customer more likely to \n",
    "\taccept a personal loan?\n",
    "\t\n",
    "* 2\tThere are several special products / facilities the bank offers like CD and security accounts, \n",
    "\tonline services, credit cards, etc. Can we spot any association among these\n",
    "\tfor finding cross-selling opportunities?\n",
    "\n",
    "#### Data Set Description :\n",
    "* ID:\tCustomer ID\t\t\t\n",
    "* Age:\tCustomer's age in completed years\t\t\t\n",
    "* Experience:\t#years of professional experience\t\t\t\n",
    "* Income:\tAnnual income of the customer in thousands of Dollars\t\t\t\n",
    "* ZIPCode:\tHome Address ZIP code.\t\t\tDo not use ZIP code\n",
    "* Family:\tFamily size of the customer\t\t\t\n",
    "* CCAvg:\tAvg. spending on credit cards per month in thousands of Dollars\t\t\n",
    "* Education:\tEducation Level. 1: Undergrad; 2: Graduate; 3: Advanced/Professional\t\t\t\n",
    "* Mortgage:\tValue of house mortgage if any. (thousands of Dollars)\t\t\t\n",
    "* **Personal Loan:\tDid this customer accept the personal loan offered in the last campaign?**\t\t\t\n",
    "* Securities Account:\tDoes the customer have a securities account with the bank?\t\t\t\n",
    "* CD Account:\tDoes the customer have a certificate of deposit (CD) account with the bank?\t\t\t\n",
    "* Online:\tDoes the customer use internet banking facilities?\t\t\t\n",
    "* CreditCard:\tDoes the customer use a credit card issued by UniversalBank?\t\t\t\n",
    "\n",
    "#### Note:\n",
    "* While reading the data set  replace the '?',',' as NAs\n",
    "\n",
    "#### Experiment :\n",
    "* Building a Random Forest to predict whether a person takes personal loan or not\n",
    "\n"
   ]
  },
  {
   "cell_type": "code",
   "execution_count": 62,
   "metadata": {},
   "outputs": [],
   "source": [
    "import os\n",
    "import pandas as pd\n",
    "path = os.getcwd()\n",
    "os.chdir(path)"
   ]
  },
  {
   "cell_type": "code",
   "execution_count": 2,
   "metadata": {},
   "outputs": [],
   "source": [
    "import warnings\n",
    "warnings.filterwarnings('ignore')"
   ]
  },
  {
   "cell_type": "markdown",
   "metadata": {},
   "source": [
    "####  Check the dimensions and type"
   ]
  },
  {
   "cell_type": "code",
   "execution_count": 3,
   "metadata": {},
   "outputs": [
    {
     "name": "stdout",
     "output_type": "stream",
     "text": [
      "The number of Rows in the bank data set  =5000\n",
      "The number of Columns in the bank data set =14\n"
     ]
    }
   ],
   "source": [
    "bank=pd.read_csv(\"UniversalBank.csv\",na_values=[\"?\",\",\"])\n",
    "print(\"The number of Rows in the bank data set  =\"+str(bank.shape[0]))\n",
    "print(\"The number of Columns in the bank data set =\" +str(bank.shape[1]))"
   ]
  },
  {
   "cell_type": "markdown",
   "metadata": {},
   "source": [
    "#### Print Columns names and check the datatypes of columns(dtypes)"
   ]
  },
  {
   "cell_type": "code",
   "execution_count": 4,
   "metadata": {},
   "outputs": [
    {
     "name": "stdout",
     "output_type": "stream",
     "text": [
      "The columns in the data set are : \n",
      " ['ID', 'Age', 'Experience', 'Income', 'ZIP Code', 'Family', 'CCAvg', 'Education', 'Mortgage', 'Personal Loan', 'Securities Account', 'CD Account', 'Online', 'CreditCard']\n"
     ]
    }
   ],
   "source": [
    "print(\"The columns in the data set are : \\n\",list(bank.columns))"
   ]
  },
  {
   "cell_type": "code",
   "execution_count": 5,
   "metadata": {
    "scrolled": true
   },
   "outputs": [
    {
     "name": "stdout",
     "output_type": "stream",
     "text": [
      "The data types of the columns are :\n",
      "  ID                      int64\n",
      "Age                   float64\n",
      "Experience            float64\n",
      "Income                float64\n",
      "ZIP Code                int64\n",
      "Family                  int64\n",
      "CCAvg                 float64\n",
      "Education               int64\n",
      "Mortgage                int64\n",
      "Personal Loan           int64\n",
      "Securities Account      int64\n",
      "CD Account              int64\n",
      "Online                  int64\n",
      "CreditCard              int64\n",
      "dtype: object\n"
     ]
    }
   ],
   "source": [
    "print(\"The data types of the columns are :\\n \",bank.dtypes)"
   ]
  },
  {
   "cell_type": "markdown",
   "metadata": {},
   "source": [
    "#### Check the top 10 rows to glance the data set "
   ]
  },
  {
   "cell_type": "code",
   "execution_count": 6,
   "metadata": {},
   "outputs": [
    {
     "data": {
      "text/html": [
       "<div>\n",
       "<style scoped>\n",
       "    .dataframe tbody tr th:only-of-type {\n",
       "        vertical-align: middle;\n",
       "    }\n",
       "\n",
       "    .dataframe tbody tr th {\n",
       "        vertical-align: top;\n",
       "    }\n",
       "\n",
       "    .dataframe thead th {\n",
       "        text-align: right;\n",
       "    }\n",
       "</style>\n",
       "<table border=\"1\" class=\"dataframe\">\n",
       "  <thead>\n",
       "    <tr style=\"text-align: right;\">\n",
       "      <th></th>\n",
       "      <th>ID</th>\n",
       "      <th>Age</th>\n",
       "      <th>Experience</th>\n",
       "      <th>Income</th>\n",
       "      <th>ZIP Code</th>\n",
       "      <th>Family</th>\n",
       "      <th>CCAvg</th>\n",
       "      <th>Education</th>\n",
       "      <th>Mortgage</th>\n",
       "      <th>Personal Loan</th>\n",
       "      <th>Securities Account</th>\n",
       "      <th>CD Account</th>\n",
       "      <th>Online</th>\n",
       "      <th>CreditCard</th>\n",
       "    </tr>\n",
       "  </thead>\n",
       "  <tbody>\n",
       "    <tr>\n",
       "      <th>0</th>\n",
       "      <td>1</td>\n",
       "      <td>25.0</td>\n",
       "      <td>1.0</td>\n",
       "      <td>49.0</td>\n",
       "      <td>91107</td>\n",
       "      <td>4</td>\n",
       "      <td>1.6</td>\n",
       "      <td>1</td>\n",
       "      <td>0</td>\n",
       "      <td>0</td>\n",
       "      <td>1</td>\n",
       "      <td>0</td>\n",
       "      <td>0</td>\n",
       "      <td>0</td>\n",
       "    </tr>\n",
       "    <tr>\n",
       "      <th>1</th>\n",
       "      <td>2</td>\n",
       "      <td>45.0</td>\n",
       "      <td>19.0</td>\n",
       "      <td>34.0</td>\n",
       "      <td>90089</td>\n",
       "      <td>3</td>\n",
       "      <td>1.5</td>\n",
       "      <td>1</td>\n",
       "      <td>0</td>\n",
       "      <td>0</td>\n",
       "      <td>1</td>\n",
       "      <td>0</td>\n",
       "      <td>0</td>\n",
       "      <td>0</td>\n",
       "    </tr>\n",
       "    <tr>\n",
       "      <th>2</th>\n",
       "      <td>3</td>\n",
       "      <td>39.0</td>\n",
       "      <td>15.0</td>\n",
       "      <td>11.0</td>\n",
       "      <td>94720</td>\n",
       "      <td>1</td>\n",
       "      <td>1.0</td>\n",
       "      <td>1</td>\n",
       "      <td>0</td>\n",
       "      <td>0</td>\n",
       "      <td>0</td>\n",
       "      <td>0</td>\n",
       "      <td>0</td>\n",
       "      <td>0</td>\n",
       "    </tr>\n",
       "    <tr>\n",
       "      <th>3</th>\n",
       "      <td>4</td>\n",
       "      <td>35.0</td>\n",
       "      <td>9.0</td>\n",
       "      <td>100.0</td>\n",
       "      <td>94112</td>\n",
       "      <td>1</td>\n",
       "      <td>2.7</td>\n",
       "      <td>2</td>\n",
       "      <td>0</td>\n",
       "      <td>0</td>\n",
       "      <td>0</td>\n",
       "      <td>0</td>\n",
       "      <td>0</td>\n",
       "      <td>0</td>\n",
       "    </tr>\n",
       "    <tr>\n",
       "      <th>4</th>\n",
       "      <td>5</td>\n",
       "      <td>35.0</td>\n",
       "      <td>8.0</td>\n",
       "      <td>45.0</td>\n",
       "      <td>91330</td>\n",
       "      <td>4</td>\n",
       "      <td>1.0</td>\n",
       "      <td>2</td>\n",
       "      <td>0</td>\n",
       "      <td>0</td>\n",
       "      <td>0</td>\n",
       "      <td>0</td>\n",
       "      <td>0</td>\n",
       "      <td>1</td>\n",
       "    </tr>\n",
       "    <tr>\n",
       "      <th>5</th>\n",
       "      <td>6</td>\n",
       "      <td>37.0</td>\n",
       "      <td>13.0</td>\n",
       "      <td>29.0</td>\n",
       "      <td>92121</td>\n",
       "      <td>4</td>\n",
       "      <td>0.4</td>\n",
       "      <td>2</td>\n",
       "      <td>155</td>\n",
       "      <td>0</td>\n",
       "      <td>0</td>\n",
       "      <td>0</td>\n",
       "      <td>1</td>\n",
       "      <td>0</td>\n",
       "    </tr>\n",
       "    <tr>\n",
       "      <th>6</th>\n",
       "      <td>7</td>\n",
       "      <td>53.0</td>\n",
       "      <td>27.0</td>\n",
       "      <td>72.0</td>\n",
       "      <td>91711</td>\n",
       "      <td>2</td>\n",
       "      <td>1.5</td>\n",
       "      <td>2</td>\n",
       "      <td>0</td>\n",
       "      <td>0</td>\n",
       "      <td>0</td>\n",
       "      <td>0</td>\n",
       "      <td>1</td>\n",
       "      <td>0</td>\n",
       "    </tr>\n",
       "    <tr>\n",
       "      <th>7</th>\n",
       "      <td>8</td>\n",
       "      <td>50.0</td>\n",
       "      <td>24.0</td>\n",
       "      <td>22.0</td>\n",
       "      <td>93943</td>\n",
       "      <td>1</td>\n",
       "      <td>0.3</td>\n",
       "      <td>3</td>\n",
       "      <td>0</td>\n",
       "      <td>0</td>\n",
       "      <td>0</td>\n",
       "      <td>0</td>\n",
       "      <td>0</td>\n",
       "      <td>1</td>\n",
       "    </tr>\n",
       "    <tr>\n",
       "      <th>8</th>\n",
       "      <td>9</td>\n",
       "      <td>35.0</td>\n",
       "      <td>10.0</td>\n",
       "      <td>81.0</td>\n",
       "      <td>90089</td>\n",
       "      <td>3</td>\n",
       "      <td>0.6</td>\n",
       "      <td>2</td>\n",
       "      <td>104</td>\n",
       "      <td>0</td>\n",
       "      <td>0</td>\n",
       "      <td>0</td>\n",
       "      <td>1</td>\n",
       "      <td>0</td>\n",
       "    </tr>\n",
       "    <tr>\n",
       "      <th>9</th>\n",
       "      <td>10</td>\n",
       "      <td>NaN</td>\n",
       "      <td>9.0</td>\n",
       "      <td>180.0</td>\n",
       "      <td>93023</td>\n",
       "      <td>1</td>\n",
       "      <td>8.9</td>\n",
       "      <td>3</td>\n",
       "      <td>0</td>\n",
       "      <td>1</td>\n",
       "      <td>0</td>\n",
       "      <td>0</td>\n",
       "      <td>0</td>\n",
       "      <td>0</td>\n",
       "    </tr>\n",
       "  </tbody>\n",
       "</table>\n",
       "</div>"
      ],
      "text/plain": [
       "   ID   Age  Experience  Income  ZIP Code  Family  CCAvg  Education  Mortgage  \\\n",
       "0   1  25.0         1.0    49.0     91107       4    1.6          1         0   \n",
       "1   2  45.0        19.0    34.0     90089       3    1.5          1         0   \n",
       "2   3  39.0        15.0    11.0     94720       1    1.0          1         0   \n",
       "3   4  35.0         9.0   100.0     94112       1    2.7          2         0   \n",
       "4   5  35.0         8.0    45.0     91330       4    1.0          2         0   \n",
       "5   6  37.0        13.0    29.0     92121       4    0.4          2       155   \n",
       "6   7  53.0        27.0    72.0     91711       2    1.5          2         0   \n",
       "7   8  50.0        24.0    22.0     93943       1    0.3          3         0   \n",
       "8   9  35.0        10.0    81.0     90089       3    0.6          2       104   \n",
       "9  10   NaN         9.0   180.0     93023       1    8.9          3         0   \n",
       "\n",
       "   Personal Loan  Securities Account  CD Account  Online  CreditCard  \n",
       "0              0                   1           0       0           0  \n",
       "1              0                   1           0       0           0  \n",
       "2              0                   0           0       0           0  \n",
       "3              0                   0           0       0           0  \n",
       "4              0                   0           0       0           1  \n",
       "5              0                   0           0       1           0  \n",
       "6              0                   0           0       1           0  \n",
       "7              0                   0           0       0           1  \n",
       "8              0                   0           0       1           0  \n",
       "9              1                   0           0       0           0  "
      ]
     },
     "execution_count": 6,
     "metadata": {},
     "output_type": "execute_result"
    }
   ],
   "source": [
    "bank.head(10)"
   ]
  },
  {
   "cell_type": "code",
   "execution_count": 7,
   "metadata": {},
   "outputs": [
    {
     "data": {
      "text/html": [
       "<div>\n",
       "<style scoped>\n",
       "    .dataframe tbody tr th:only-of-type {\n",
       "        vertical-align: middle;\n",
       "    }\n",
       "\n",
       "    .dataframe tbody tr th {\n",
       "        vertical-align: top;\n",
       "    }\n",
       "\n",
       "    .dataframe thead th {\n",
       "        text-align: right;\n",
       "    }\n",
       "</style>\n",
       "<table border=\"1\" class=\"dataframe\">\n",
       "  <thead>\n",
       "    <tr style=\"text-align: right;\">\n",
       "      <th></th>\n",
       "      <th>ID</th>\n",
       "      <th>Age</th>\n",
       "      <th>Experience</th>\n",
       "      <th>Income</th>\n",
       "      <th>ZIP Code</th>\n",
       "      <th>Family</th>\n",
       "      <th>CCAvg</th>\n",
       "      <th>Education</th>\n",
       "      <th>Mortgage</th>\n",
       "      <th>Personal Loan</th>\n",
       "      <th>Securities Account</th>\n",
       "      <th>CD Account</th>\n",
       "      <th>Online</th>\n",
       "      <th>CreditCard</th>\n",
       "    </tr>\n",
       "  </thead>\n",
       "  <tbody>\n",
       "    <tr>\n",
       "      <th>4990</th>\n",
       "      <td>4991</td>\n",
       "      <td>55.0</td>\n",
       "      <td>25.0</td>\n",
       "      <td>58.0</td>\n",
       "      <td>95023</td>\n",
       "      <td>4</td>\n",
       "      <td>2.00</td>\n",
       "      <td>3</td>\n",
       "      <td>219</td>\n",
       "      <td>0</td>\n",
       "      <td>0</td>\n",
       "      <td>0</td>\n",
       "      <td>0</td>\n",
       "      <td>1</td>\n",
       "    </tr>\n",
       "    <tr>\n",
       "      <th>4991</th>\n",
       "      <td>4992</td>\n",
       "      <td>51.0</td>\n",
       "      <td>25.0</td>\n",
       "      <td>92.0</td>\n",
       "      <td>91330</td>\n",
       "      <td>1</td>\n",
       "      <td>1.90</td>\n",
       "      <td>2</td>\n",
       "      <td>100</td>\n",
       "      <td>0</td>\n",
       "      <td>0</td>\n",
       "      <td>0</td>\n",
       "      <td>0</td>\n",
       "      <td>1</td>\n",
       "    </tr>\n",
       "    <tr>\n",
       "      <th>4992</th>\n",
       "      <td>4993</td>\n",
       "      <td>30.0</td>\n",
       "      <td>5.0</td>\n",
       "      <td>13.0</td>\n",
       "      <td>90037</td>\n",
       "      <td>4</td>\n",
       "      <td>0.50</td>\n",
       "      <td>3</td>\n",
       "      <td>0</td>\n",
       "      <td>0</td>\n",
       "      <td>0</td>\n",
       "      <td>0</td>\n",
       "      <td>0</td>\n",
       "      <td>0</td>\n",
       "    </tr>\n",
       "    <tr>\n",
       "      <th>4993</th>\n",
       "      <td>4994</td>\n",
       "      <td>45.0</td>\n",
       "      <td>21.0</td>\n",
       "      <td>218.0</td>\n",
       "      <td>91801</td>\n",
       "      <td>2</td>\n",
       "      <td>6.67</td>\n",
       "      <td>1</td>\n",
       "      <td>0</td>\n",
       "      <td>0</td>\n",
       "      <td>0</td>\n",
       "      <td>0</td>\n",
       "      <td>1</td>\n",
       "      <td>0</td>\n",
       "    </tr>\n",
       "    <tr>\n",
       "      <th>4994</th>\n",
       "      <td>4995</td>\n",
       "      <td>64.0</td>\n",
       "      <td>40.0</td>\n",
       "      <td>75.0</td>\n",
       "      <td>94588</td>\n",
       "      <td>3</td>\n",
       "      <td>2.00</td>\n",
       "      <td>3</td>\n",
       "      <td>0</td>\n",
       "      <td>0</td>\n",
       "      <td>0</td>\n",
       "      <td>0</td>\n",
       "      <td>1</td>\n",
       "      <td>0</td>\n",
       "    </tr>\n",
       "    <tr>\n",
       "      <th>4995</th>\n",
       "      <td>4996</td>\n",
       "      <td>29.0</td>\n",
       "      <td>3.0</td>\n",
       "      <td>40.0</td>\n",
       "      <td>92697</td>\n",
       "      <td>1</td>\n",
       "      <td>1.90</td>\n",
       "      <td>3</td>\n",
       "      <td>0</td>\n",
       "      <td>0</td>\n",
       "      <td>0</td>\n",
       "      <td>0</td>\n",
       "      <td>1</td>\n",
       "      <td>0</td>\n",
       "    </tr>\n",
       "    <tr>\n",
       "      <th>4996</th>\n",
       "      <td>4997</td>\n",
       "      <td>30.0</td>\n",
       "      <td>4.0</td>\n",
       "      <td>15.0</td>\n",
       "      <td>92037</td>\n",
       "      <td>4</td>\n",
       "      <td>0.40</td>\n",
       "      <td>1</td>\n",
       "      <td>85</td>\n",
       "      <td>0</td>\n",
       "      <td>0</td>\n",
       "      <td>0</td>\n",
       "      <td>1</td>\n",
       "      <td>0</td>\n",
       "    </tr>\n",
       "    <tr>\n",
       "      <th>4997</th>\n",
       "      <td>4998</td>\n",
       "      <td>63.0</td>\n",
       "      <td>39.0</td>\n",
       "      <td>24.0</td>\n",
       "      <td>93023</td>\n",
       "      <td>2</td>\n",
       "      <td>0.30</td>\n",
       "      <td>3</td>\n",
       "      <td>0</td>\n",
       "      <td>0</td>\n",
       "      <td>0</td>\n",
       "      <td>0</td>\n",
       "      <td>0</td>\n",
       "      <td>0</td>\n",
       "    </tr>\n",
       "    <tr>\n",
       "      <th>4998</th>\n",
       "      <td>4999</td>\n",
       "      <td>65.0</td>\n",
       "      <td>40.0</td>\n",
       "      <td>49.0</td>\n",
       "      <td>90034</td>\n",
       "      <td>3</td>\n",
       "      <td>0.50</td>\n",
       "      <td>2</td>\n",
       "      <td>0</td>\n",
       "      <td>0</td>\n",
       "      <td>0</td>\n",
       "      <td>0</td>\n",
       "      <td>1</td>\n",
       "      <td>0</td>\n",
       "    </tr>\n",
       "    <tr>\n",
       "      <th>4999</th>\n",
       "      <td>5000</td>\n",
       "      <td>28.0</td>\n",
       "      <td>4.0</td>\n",
       "      <td>83.0</td>\n",
       "      <td>92612</td>\n",
       "      <td>3</td>\n",
       "      <td>0.80</td>\n",
       "      <td>1</td>\n",
       "      <td>0</td>\n",
       "      <td>0</td>\n",
       "      <td>0</td>\n",
       "      <td>0</td>\n",
       "      <td>1</td>\n",
       "      <td>1</td>\n",
       "    </tr>\n",
       "  </tbody>\n",
       "</table>\n",
       "</div>"
      ],
      "text/plain": [
       "        ID   Age  Experience  Income  ZIP Code  Family  CCAvg  Education  \\\n",
       "4990  4991  55.0        25.0    58.0     95023       4   2.00          3   \n",
       "4991  4992  51.0        25.0    92.0     91330       1   1.90          2   \n",
       "4992  4993  30.0         5.0    13.0     90037       4   0.50          3   \n",
       "4993  4994  45.0        21.0   218.0     91801       2   6.67          1   \n",
       "4994  4995  64.0        40.0    75.0     94588       3   2.00          3   \n",
       "4995  4996  29.0         3.0    40.0     92697       1   1.90          3   \n",
       "4996  4997  30.0         4.0    15.0     92037       4   0.40          1   \n",
       "4997  4998  63.0        39.0    24.0     93023       2   0.30          3   \n",
       "4998  4999  65.0        40.0    49.0     90034       3   0.50          2   \n",
       "4999  5000  28.0         4.0    83.0     92612       3   0.80          1   \n",
       "\n",
       "      Mortgage  Personal Loan  Securities Account  CD Account  Online  \\\n",
       "4990       219              0                   0           0       0   \n",
       "4991       100              0                   0           0       0   \n",
       "4992         0              0                   0           0       0   \n",
       "4993         0              0                   0           0       1   \n",
       "4994         0              0                   0           0       1   \n",
       "4995         0              0                   0           0       1   \n",
       "4996        85              0                   0           0       1   \n",
       "4997         0              0                   0           0       0   \n",
       "4998         0              0                   0           0       1   \n",
       "4999         0              0                   0           0       1   \n",
       "\n",
       "      CreditCard  \n",
       "4990           1  \n",
       "4991           1  \n",
       "4992           0  \n",
       "4993           0  \n",
       "4994           0  \n",
       "4995           0  \n",
       "4996           0  \n",
       "4997           0  \n",
       "4998           0  \n",
       "4999           1  "
      ]
     },
     "execution_count": 7,
     "metadata": {},
     "output_type": "execute_result"
    }
   ],
   "source": [
    "bank.tail(10)"
   ]
  },
  {
   "cell_type": "markdown",
   "metadata": {},
   "source": [
    "#### Check the summary of dataframe(describe())"
   ]
  },
  {
   "cell_type": "code",
   "execution_count": 8,
   "metadata": {},
   "outputs": [
    {
     "data": {
      "text/html": [
       "<div>\n",
       "<style scoped>\n",
       "    .dataframe tbody tr th:only-of-type {\n",
       "        vertical-align: middle;\n",
       "    }\n",
       "\n",
       "    .dataframe tbody tr th {\n",
       "        vertical-align: top;\n",
       "    }\n",
       "\n",
       "    .dataframe thead th {\n",
       "        text-align: right;\n",
       "    }\n",
       "</style>\n",
       "<table border=\"1\" class=\"dataframe\">\n",
       "  <thead>\n",
       "    <tr style=\"text-align: right;\">\n",
       "      <th></th>\n",
       "      <th>ID</th>\n",
       "      <th>Age</th>\n",
       "      <th>Experience</th>\n",
       "      <th>Income</th>\n",
       "      <th>ZIP Code</th>\n",
       "      <th>Family</th>\n",
       "      <th>CCAvg</th>\n",
       "      <th>Education</th>\n",
       "      <th>Mortgage</th>\n",
       "      <th>Personal Loan</th>\n",
       "      <th>Securities Account</th>\n",
       "      <th>CD Account</th>\n",
       "      <th>Online</th>\n",
       "      <th>CreditCard</th>\n",
       "    </tr>\n",
       "  </thead>\n",
       "  <tbody>\n",
       "    <tr>\n",
       "      <th>count</th>\n",
       "      <td>5000.000000</td>\n",
       "      <td>4998.000000</td>\n",
       "      <td>4998.000000</td>\n",
       "      <td>4987.000000</td>\n",
       "      <td>5000.000000</td>\n",
       "      <td>5000.000000</td>\n",
       "      <td>5000.000000</td>\n",
       "      <td>5000.000000</td>\n",
       "      <td>5000.000000</td>\n",
       "      <td>5000.000000</td>\n",
       "      <td>5000.000000</td>\n",
       "      <td>5000.00000</td>\n",
       "      <td>5000.000000</td>\n",
       "      <td>5000.000000</td>\n",
       "    </tr>\n",
       "    <tr>\n",
       "      <th>mean</th>\n",
       "      <td>2500.500000</td>\n",
       "      <td>45.336335</td>\n",
       "      <td>20.108043</td>\n",
       "      <td>73.807098</td>\n",
       "      <td>93152.503000</td>\n",
       "      <td>2.396400</td>\n",
       "      <td>1.937938</td>\n",
       "      <td>1.881000</td>\n",
       "      <td>56.498800</td>\n",
       "      <td>0.096000</td>\n",
       "      <td>0.104400</td>\n",
       "      <td>0.06040</td>\n",
       "      <td>0.596800</td>\n",
       "      <td>0.294000</td>\n",
       "    </tr>\n",
       "    <tr>\n",
       "      <th>std</th>\n",
       "      <td>1443.520003</td>\n",
       "      <td>11.460241</td>\n",
       "      <td>11.468603</td>\n",
       "      <td>46.037325</td>\n",
       "      <td>2121.852197</td>\n",
       "      <td>1.147663</td>\n",
       "      <td>1.747659</td>\n",
       "      <td>0.839869</td>\n",
       "      <td>101.713802</td>\n",
       "      <td>0.294621</td>\n",
       "      <td>0.305809</td>\n",
       "      <td>0.23825</td>\n",
       "      <td>0.490589</td>\n",
       "      <td>0.455637</td>\n",
       "    </tr>\n",
       "    <tr>\n",
       "      <th>min</th>\n",
       "      <td>1.000000</td>\n",
       "      <td>23.000000</td>\n",
       "      <td>-3.000000</td>\n",
       "      <td>8.000000</td>\n",
       "      <td>9307.000000</td>\n",
       "      <td>1.000000</td>\n",
       "      <td>0.000000</td>\n",
       "      <td>1.000000</td>\n",
       "      <td>0.000000</td>\n",
       "      <td>0.000000</td>\n",
       "      <td>0.000000</td>\n",
       "      <td>0.00000</td>\n",
       "      <td>0.000000</td>\n",
       "      <td>0.000000</td>\n",
       "    </tr>\n",
       "    <tr>\n",
       "      <th>25%</th>\n",
       "      <td>1250.750000</td>\n",
       "      <td>35.000000</td>\n",
       "      <td>10.000000</td>\n",
       "      <td>39.000000</td>\n",
       "      <td>91911.000000</td>\n",
       "      <td>1.000000</td>\n",
       "      <td>0.700000</td>\n",
       "      <td>1.000000</td>\n",
       "      <td>0.000000</td>\n",
       "      <td>0.000000</td>\n",
       "      <td>0.000000</td>\n",
       "      <td>0.00000</td>\n",
       "      <td>0.000000</td>\n",
       "      <td>0.000000</td>\n",
       "    </tr>\n",
       "    <tr>\n",
       "      <th>50%</th>\n",
       "      <td>2500.500000</td>\n",
       "      <td>45.000000</td>\n",
       "      <td>20.000000</td>\n",
       "      <td>64.000000</td>\n",
       "      <td>93437.000000</td>\n",
       "      <td>2.000000</td>\n",
       "      <td>1.500000</td>\n",
       "      <td>2.000000</td>\n",
       "      <td>0.000000</td>\n",
       "      <td>0.000000</td>\n",
       "      <td>0.000000</td>\n",
       "      <td>0.00000</td>\n",
       "      <td>1.000000</td>\n",
       "      <td>0.000000</td>\n",
       "    </tr>\n",
       "    <tr>\n",
       "      <th>75%</th>\n",
       "      <td>3750.250000</td>\n",
       "      <td>55.000000</td>\n",
       "      <td>30.000000</td>\n",
       "      <td>98.000000</td>\n",
       "      <td>94608.000000</td>\n",
       "      <td>3.000000</td>\n",
       "      <td>2.500000</td>\n",
       "      <td>3.000000</td>\n",
       "      <td>101.000000</td>\n",
       "      <td>0.000000</td>\n",
       "      <td>0.000000</td>\n",
       "      <td>0.00000</td>\n",
       "      <td>1.000000</td>\n",
       "      <td>1.000000</td>\n",
       "    </tr>\n",
       "    <tr>\n",
       "      <th>max</th>\n",
       "      <td>5000.000000</td>\n",
       "      <td>67.000000</td>\n",
       "      <td>43.000000</td>\n",
       "      <td>224.000000</td>\n",
       "      <td>96651.000000</td>\n",
       "      <td>4.000000</td>\n",
       "      <td>10.000000</td>\n",
       "      <td>3.000000</td>\n",
       "      <td>635.000000</td>\n",
       "      <td>1.000000</td>\n",
       "      <td>1.000000</td>\n",
       "      <td>1.00000</td>\n",
       "      <td>1.000000</td>\n",
       "      <td>1.000000</td>\n",
       "    </tr>\n",
       "  </tbody>\n",
       "</table>\n",
       "</div>"
      ],
      "text/plain": [
       "                ID          Age   Experience       Income      ZIP Code  \\\n",
       "count  5000.000000  4998.000000  4998.000000  4987.000000   5000.000000   \n",
       "mean   2500.500000    45.336335    20.108043    73.807098  93152.503000   \n",
       "std    1443.520003    11.460241    11.468603    46.037325   2121.852197   \n",
       "min       1.000000    23.000000    -3.000000     8.000000   9307.000000   \n",
       "25%    1250.750000    35.000000    10.000000    39.000000  91911.000000   \n",
       "50%    2500.500000    45.000000    20.000000    64.000000  93437.000000   \n",
       "75%    3750.250000    55.000000    30.000000    98.000000  94608.000000   \n",
       "max    5000.000000    67.000000    43.000000   224.000000  96651.000000   \n",
       "\n",
       "            Family        CCAvg    Education     Mortgage  Personal Loan  \\\n",
       "count  5000.000000  5000.000000  5000.000000  5000.000000    5000.000000   \n",
       "mean      2.396400     1.937938     1.881000    56.498800       0.096000   \n",
       "std       1.147663     1.747659     0.839869   101.713802       0.294621   \n",
       "min       1.000000     0.000000     1.000000     0.000000       0.000000   \n",
       "25%       1.000000     0.700000     1.000000     0.000000       0.000000   \n",
       "50%       2.000000     1.500000     2.000000     0.000000       0.000000   \n",
       "75%       3.000000     2.500000     3.000000   101.000000       0.000000   \n",
       "max       4.000000    10.000000     3.000000   635.000000       1.000000   \n",
       "\n",
       "       Securities Account  CD Account       Online   CreditCard  \n",
       "count         5000.000000  5000.00000  5000.000000  5000.000000  \n",
       "mean             0.104400     0.06040     0.596800     0.294000  \n",
       "std              0.305809     0.23825     0.490589     0.455637  \n",
       "min              0.000000     0.00000     0.000000     0.000000  \n",
       "25%              0.000000     0.00000     0.000000     0.000000  \n",
       "50%              0.000000     0.00000     1.000000     0.000000  \n",
       "75%              0.000000     0.00000     1.000000     1.000000  \n",
       "max              1.000000     1.00000     1.000000     1.000000  "
      ]
     },
     "execution_count": 8,
     "metadata": {},
     "output_type": "execute_result"
    }
   ],
   "source": [
    "bank.describe(include='all')"
   ]
  },
  {
   "cell_type": "markdown",
   "metadata": {},
   "source": [
    "#### Check the unique levels in the target attribute Personal and also check for the percentage distribution"
   ]
  },
  {
   "cell_type": "code",
   "execution_count": 11,
   "metadata": {},
   "outputs": [
    {
     "data": {
      "text/plain": [
       "0    0.904\n",
       "1    0.096\n",
       "Name: Personal Loan, dtype: float64"
      ]
     },
     "execution_count": 11,
     "metadata": {},
     "output_type": "execute_result"
    }
   ],
   "source": [
    "bank[\"Personal Loan\"].value_counts()/bank.shape[0]"
   ]
  },
  {
   "cell_type": "markdown",
   "metadata": {},
   "source": [
    "#### Check the number of unique ZIP Codes present in the dataset "
   ]
  },
  {
   "cell_type": "code",
   "execution_count": 12,
   "metadata": {},
   "outputs": [
    {
     "name": "stdout",
     "output_type": "stream",
     "text": [
      "The number of Unique ZIP Codes in the bank data set 467\n"
     ]
    }
   ],
   "source": [
    "print(\"The number of Unique ZIP Codes in the bank data set\",bank['ZIP Code'].value_counts().count())\n"
   ]
  },
  {
   "cell_type": "markdown",
   "metadata": {},
   "source": [
    "#### Check the Unique counts of  Family members  present in the dataset"
   ]
  },
  {
   "cell_type": "code",
   "execution_count": 13,
   "metadata": {},
   "outputs": [
    {
     "name": "stdout",
     "output_type": "stream",
     "text": [
      "The number of Unique Family members in the bank data set: \n",
      " 1    1472\n",
      "2    1296\n",
      "4    1222\n",
      "3    1010\n",
      "Name: Family, dtype: int64\n"
     ]
    }
   ],
   "source": [
    "print(\"The number of Unique Family members in the bank data set: \\n\",bank['Family'].value_counts())"
   ]
  },
  {
   "cell_type": "markdown",
   "metadata": {},
   "source": [
    "#### Check the Unique counts of Education levels present in the dataset"
   ]
  },
  {
   "cell_type": "code",
   "execution_count": 14,
   "metadata": {},
   "outputs": [
    {
     "name": "stdout",
     "output_type": "stream",
     "text": [
      "The number of Unique Education levels in the bank data set: \n",
      " 1    2096\n",
      "3    1501\n",
      "2    1403\n",
      "Name: Education, dtype: int64\n"
     ]
    }
   ],
   "source": [
    "print(\"The number of Unique Education levels in the bank data set: \\n\",bank['Education'].value_counts())"
   ]
  },
  {
   "cell_type": "markdown",
   "metadata": {},
   "source": [
    "#### Do Necessary changes for the data types from the previous observations"
   ]
  },
  {
   "cell_type": "code",
   "execution_count": 15,
   "metadata": {},
   "outputs": [],
   "source": [
    "bank['Education']=bank['Education'].astype('category')\n",
    "bank['CD Account']=bank['CD Account'].astype('category')\n",
    "bank['Online']=bank['Online'].astype('category')\n",
    "bank['CreditCard']=bank['CreditCard'].astype('category')\n",
    "bank['Securities Account']=bank['Securities Account'].astype('category')\n",
    "bank['Family']=bank['Family'].astype('category')\n",
    "bank['ZIP Code']=bank['ZIP Code'].astype('category')\n",
    "bank['Personal Loan']=bank['Personal Loan'].astype('category')\n",
    "#Use the following code when you have more aolumns\n",
    "# for column in ['Education', 'CD Account', 'Online']:\n",
    "#     bank[column]=bank[column].astype('category')\n",
    "#bank[bank.select_dtypes(['object']).columns] = bank.select_dtypes(['object']).apply(lambda x: x.astype('category'))\n",
    "#bank[bank.select_dtypes(['object']).columns] = bank.select_dtypes(['object']).apply(lambda x: x.astype('category'))"
   ]
  },
  {
   "cell_type": "code",
   "execution_count": 16,
   "metadata": {},
   "outputs": [
    {
     "data": {
      "text/plain": [
       "ID                       int64\n",
       "Age                    float64\n",
       "Experience             float64\n",
       "Income                 float64\n",
       "ZIP Code              category\n",
       "Family                category\n",
       "CCAvg                  float64\n",
       "Education             category\n",
       "Mortgage                 int64\n",
       "Personal Loan         category\n",
       "Securities Account    category\n",
       "CD Account            category\n",
       "Online                category\n",
       "CreditCard            category\n",
       "dtype: object"
      ]
     },
     "execution_count": 16,
     "metadata": {},
     "output_type": "execute_result"
    }
   ],
   "source": [
    "bank.dtypes"
   ]
  },
  {
   "cell_type": "markdown",
   "metadata": {},
   "source": [
    "#### Remove the unncessary Columns"
   ]
  },
  {
   "cell_type": "code",
   "execution_count": 17,
   "metadata": {},
   "outputs": [],
   "source": [
    "bank=bank.drop([\"ID\",\"ZIP Code\"],axis=1)"
   ]
  },
  {
   "cell_type": "code",
   "execution_count": 18,
   "metadata": {},
   "outputs": [
    {
     "data": {
      "text/html": [
       "<div>\n",
       "<style scoped>\n",
       "    .dataframe tbody tr th:only-of-type {\n",
       "        vertical-align: middle;\n",
       "    }\n",
       "\n",
       "    .dataframe tbody tr th {\n",
       "        vertical-align: top;\n",
       "    }\n",
       "\n",
       "    .dataframe thead th {\n",
       "        text-align: right;\n",
       "    }\n",
       "</style>\n",
       "<table border=\"1\" class=\"dataframe\">\n",
       "  <thead>\n",
       "    <tr style=\"text-align: right;\">\n",
       "      <th></th>\n",
       "      <th>Age</th>\n",
       "      <th>Experience</th>\n",
       "      <th>Income</th>\n",
       "      <th>Family</th>\n",
       "      <th>CCAvg</th>\n",
       "      <th>Education</th>\n",
       "      <th>Mortgage</th>\n",
       "      <th>Personal Loan</th>\n",
       "      <th>Securities Account</th>\n",
       "      <th>CD Account</th>\n",
       "      <th>Online</th>\n",
       "      <th>CreditCard</th>\n",
       "    </tr>\n",
       "  </thead>\n",
       "  <tbody>\n",
       "    <tr>\n",
       "      <th>0</th>\n",
       "      <td>25.0</td>\n",
       "      <td>1.0</td>\n",
       "      <td>49.0</td>\n",
       "      <td>4</td>\n",
       "      <td>1.6</td>\n",
       "      <td>1</td>\n",
       "      <td>0</td>\n",
       "      <td>0</td>\n",
       "      <td>1</td>\n",
       "      <td>0</td>\n",
       "      <td>0</td>\n",
       "      <td>0</td>\n",
       "    </tr>\n",
       "    <tr>\n",
       "      <th>1</th>\n",
       "      <td>45.0</td>\n",
       "      <td>19.0</td>\n",
       "      <td>34.0</td>\n",
       "      <td>3</td>\n",
       "      <td>1.5</td>\n",
       "      <td>1</td>\n",
       "      <td>0</td>\n",
       "      <td>0</td>\n",
       "      <td>1</td>\n",
       "      <td>0</td>\n",
       "      <td>0</td>\n",
       "      <td>0</td>\n",
       "    </tr>\n",
       "    <tr>\n",
       "      <th>2</th>\n",
       "      <td>39.0</td>\n",
       "      <td>15.0</td>\n",
       "      <td>11.0</td>\n",
       "      <td>1</td>\n",
       "      <td>1.0</td>\n",
       "      <td>1</td>\n",
       "      <td>0</td>\n",
       "      <td>0</td>\n",
       "      <td>0</td>\n",
       "      <td>0</td>\n",
       "      <td>0</td>\n",
       "      <td>0</td>\n",
       "    </tr>\n",
       "  </tbody>\n",
       "</table>\n",
       "</div>"
      ],
      "text/plain": [
       "    Age  Experience  Income Family  CCAvg Education  Mortgage Personal Loan  \\\n",
       "0  25.0         1.0    49.0      4    1.6         1         0             0   \n",
       "1  45.0        19.0    34.0      3    1.5         1         0             0   \n",
       "2  39.0        15.0    11.0      1    1.0         1         0             0   \n",
       "\n",
       "  Securities Account CD Account Online CreditCard  \n",
       "0                  1          0      0          0  \n",
       "1                  1          0      0          0  \n",
       "2                  0          0      0          0  "
      ]
     },
     "execution_count": 18,
     "metadata": {},
     "output_type": "execute_result"
    }
   ],
   "source": [
    "bank.head(3)"
   ]
  },
  {
   "cell_type": "markdown",
   "metadata": {},
   "source": [
    "####  Check the missing values "
   ]
  },
  {
   "cell_type": "code",
   "execution_count": 21,
   "metadata": {},
   "outputs": [
    {
     "data": {
      "text/plain": [
       "Age                    2\n",
       "Experience             2\n",
       "Income                13\n",
       "Family                 0\n",
       "CCAvg                  0\n",
       "Education              0\n",
       "Mortgage               0\n",
       "Personal Loan          0\n",
       "Securities Account     0\n",
       "CD Account             0\n",
       "Online                 0\n",
       "CreditCard             0\n",
       "dtype: int64"
      ]
     },
     "execution_count": 21,
     "metadata": {},
     "output_type": "execute_result"
    }
   ],
   "source": [
    "bank.isnull().sum()"
   ]
  },
  {
   "cell_type": "markdown",
   "metadata": {},
   "source": [
    "#### Impute them with mean or median or mode(It is subjective;fillna())"
   ]
  },
  {
   "cell_type": "code",
   "execution_count": 22,
   "metadata": {},
   "outputs": [
    {
     "name": "stdout",
     "output_type": "stream",
     "text": [
      "45.33633453381353\n",
      "20.108043217286916\n",
      "73.80709845598557\n"
     ]
    }
   ],
   "source": [
    "#sample Code for median you can use mean also for numeric and mode for categorical\n",
    "print(bank['Age'].mean())\n",
    "print(bank['Experience'].mean())\n",
    "print(bank['Income'].mean())"
   ]
  },
  {
   "cell_type": "code",
   "execution_count": 23,
   "metadata": {},
   "outputs": [
    {
     "data": {
      "text/plain": [
       "Age                   0\n",
       "Experience            0\n",
       "Income                0\n",
       "Family                0\n",
       "CCAvg                 0\n",
       "Education             0\n",
       "Mortgage              0\n",
       "Personal Loan         0\n",
       "Securities Account    0\n",
       "CD Account            0\n",
       "Online                0\n",
       "CreditCard            0\n",
       "dtype: int64"
      ]
     },
     "execution_count": 23,
     "metadata": {},
     "output_type": "execute_result"
    }
   ],
   "source": [
    "bank['Age'].fillna(bank['Age'].median(),inplace=True)\n",
    "bank['Experience'].fillna(bank['Experience'].median(),inplace=True)\n",
    "bank['Income'].fillna(bank['Income'].median(),inplace=True)\n",
    "bank.isnull().sum()\n",
    "\n",
    "#When you have more columns use the following code\n",
    "#for column in ['Age', 'Experience', 'Income']:\n",
    "#    bank[column].fillna(bank[column].mean(), inplace=True)\n",
    "#If you want to replace with median use median() instead of mean()\n",
    "#If you want to replace with mode use mode()[0]"
   ]
  },
  {
   "cell_type": "code",
   "execution_count": 24,
   "metadata": {},
   "outputs": [
    {
     "data": {
      "text/html": [
       "<div>\n",
       "<style scoped>\n",
       "    .dataframe tbody tr th:only-of-type {\n",
       "        vertical-align: middle;\n",
       "    }\n",
       "\n",
       "    .dataframe tbody tr th {\n",
       "        vertical-align: top;\n",
       "    }\n",
       "\n",
       "    .dataframe thead th {\n",
       "        text-align: right;\n",
       "    }\n",
       "</style>\n",
       "<table border=\"1\" class=\"dataframe\">\n",
       "  <thead>\n",
       "    <tr style=\"text-align: right;\">\n",
       "      <th></th>\n",
       "      <th>Age</th>\n",
       "      <th>Experience</th>\n",
       "      <th>Income</th>\n",
       "      <th>Family</th>\n",
       "      <th>CCAvg</th>\n",
       "      <th>Education</th>\n",
       "      <th>Mortgage</th>\n",
       "      <th>Personal Loan</th>\n",
       "      <th>Securities Account</th>\n",
       "      <th>CD Account</th>\n",
       "      <th>Online</th>\n",
       "      <th>CreditCard</th>\n",
       "    </tr>\n",
       "  </thead>\n",
       "  <tbody>\n",
       "    <tr>\n",
       "      <th>count</th>\n",
       "      <td>5000.00000</td>\n",
       "      <td>5000.000000</td>\n",
       "      <td>5000.000000</td>\n",
       "      <td>5000.0</td>\n",
       "      <td>5000.000000</td>\n",
       "      <td>5000.0</td>\n",
       "      <td>5000.000000</td>\n",
       "      <td>5000.0</td>\n",
       "      <td>5000.0</td>\n",
       "      <td>5000.0</td>\n",
       "      <td>5000.0</td>\n",
       "      <td>5000.0</td>\n",
       "    </tr>\n",
       "    <tr>\n",
       "      <th>unique</th>\n",
       "      <td>NaN</td>\n",
       "      <td>NaN</td>\n",
       "      <td>NaN</td>\n",
       "      <td>4.0</td>\n",
       "      <td>NaN</td>\n",
       "      <td>3.0</td>\n",
       "      <td>NaN</td>\n",
       "      <td>2.0</td>\n",
       "      <td>2.0</td>\n",
       "      <td>2.0</td>\n",
       "      <td>2.0</td>\n",
       "      <td>2.0</td>\n",
       "    </tr>\n",
       "    <tr>\n",
       "      <th>top</th>\n",
       "      <td>NaN</td>\n",
       "      <td>NaN</td>\n",
       "      <td>NaN</td>\n",
       "      <td>1.0</td>\n",
       "      <td>NaN</td>\n",
       "      <td>1.0</td>\n",
       "      <td>NaN</td>\n",
       "      <td>0.0</td>\n",
       "      <td>0.0</td>\n",
       "      <td>0.0</td>\n",
       "      <td>1.0</td>\n",
       "      <td>0.0</td>\n",
       "    </tr>\n",
       "    <tr>\n",
       "      <th>freq</th>\n",
       "      <td>NaN</td>\n",
       "      <td>NaN</td>\n",
       "      <td>NaN</td>\n",
       "      <td>1472.0</td>\n",
       "      <td>NaN</td>\n",
       "      <td>2096.0</td>\n",
       "      <td>NaN</td>\n",
       "      <td>4520.0</td>\n",
       "      <td>4478.0</td>\n",
       "      <td>4698.0</td>\n",
       "      <td>2984.0</td>\n",
       "      <td>3530.0</td>\n",
       "    </tr>\n",
       "    <tr>\n",
       "      <th>mean</th>\n",
       "      <td>45.33620</td>\n",
       "      <td>20.108000</td>\n",
       "      <td>73.781600</td>\n",
       "      <td>NaN</td>\n",
       "      <td>1.937938</td>\n",
       "      <td>NaN</td>\n",
       "      <td>56.498800</td>\n",
       "      <td>NaN</td>\n",
       "      <td>NaN</td>\n",
       "      <td>NaN</td>\n",
       "      <td>NaN</td>\n",
       "      <td>NaN</td>\n",
       "    </tr>\n",
       "    <tr>\n",
       "      <th>std</th>\n",
       "      <td>11.45795</td>\n",
       "      <td>11.466309</td>\n",
       "      <td>45.980138</td>\n",
       "      <td>NaN</td>\n",
       "      <td>1.747659</td>\n",
       "      <td>NaN</td>\n",
       "      <td>101.713802</td>\n",
       "      <td>NaN</td>\n",
       "      <td>NaN</td>\n",
       "      <td>NaN</td>\n",
       "      <td>NaN</td>\n",
       "      <td>NaN</td>\n",
       "    </tr>\n",
       "    <tr>\n",
       "      <th>min</th>\n",
       "      <td>23.00000</td>\n",
       "      <td>-3.000000</td>\n",
       "      <td>8.000000</td>\n",
       "      <td>NaN</td>\n",
       "      <td>0.000000</td>\n",
       "      <td>NaN</td>\n",
       "      <td>0.000000</td>\n",
       "      <td>NaN</td>\n",
       "      <td>NaN</td>\n",
       "      <td>NaN</td>\n",
       "      <td>NaN</td>\n",
       "      <td>NaN</td>\n",
       "    </tr>\n",
       "    <tr>\n",
       "      <th>25%</th>\n",
       "      <td>35.00000</td>\n",
       "      <td>10.000000</td>\n",
       "      <td>39.000000</td>\n",
       "      <td>NaN</td>\n",
       "      <td>0.700000</td>\n",
       "      <td>NaN</td>\n",
       "      <td>0.000000</td>\n",
       "      <td>NaN</td>\n",
       "      <td>NaN</td>\n",
       "      <td>NaN</td>\n",
       "      <td>NaN</td>\n",
       "      <td>NaN</td>\n",
       "    </tr>\n",
       "    <tr>\n",
       "      <th>50%</th>\n",
       "      <td>45.00000</td>\n",
       "      <td>20.000000</td>\n",
       "      <td>64.000000</td>\n",
       "      <td>NaN</td>\n",
       "      <td>1.500000</td>\n",
       "      <td>NaN</td>\n",
       "      <td>0.000000</td>\n",
       "      <td>NaN</td>\n",
       "      <td>NaN</td>\n",
       "      <td>NaN</td>\n",
       "      <td>NaN</td>\n",
       "      <td>NaN</td>\n",
       "    </tr>\n",
       "    <tr>\n",
       "      <th>75%</th>\n",
       "      <td>55.00000</td>\n",
       "      <td>30.000000</td>\n",
       "      <td>98.000000</td>\n",
       "      <td>NaN</td>\n",
       "      <td>2.500000</td>\n",
       "      <td>NaN</td>\n",
       "      <td>101.000000</td>\n",
       "      <td>NaN</td>\n",
       "      <td>NaN</td>\n",
       "      <td>NaN</td>\n",
       "      <td>NaN</td>\n",
       "      <td>NaN</td>\n",
       "    </tr>\n",
       "    <tr>\n",
       "      <th>max</th>\n",
       "      <td>67.00000</td>\n",
       "      <td>43.000000</td>\n",
       "      <td>224.000000</td>\n",
       "      <td>NaN</td>\n",
       "      <td>10.000000</td>\n",
       "      <td>NaN</td>\n",
       "      <td>635.000000</td>\n",
       "      <td>NaN</td>\n",
       "      <td>NaN</td>\n",
       "      <td>NaN</td>\n",
       "      <td>NaN</td>\n",
       "      <td>NaN</td>\n",
       "    </tr>\n",
       "  </tbody>\n",
       "</table>\n",
       "</div>"
      ],
      "text/plain": [
       "               Age   Experience       Income  Family        CCAvg  Education  \\\n",
       "count   5000.00000  5000.000000  5000.000000  5000.0  5000.000000     5000.0   \n",
       "unique         NaN          NaN          NaN     4.0          NaN        3.0   \n",
       "top            NaN          NaN          NaN     1.0          NaN        1.0   \n",
       "freq           NaN          NaN          NaN  1472.0          NaN     2096.0   \n",
       "mean      45.33620    20.108000    73.781600     NaN     1.937938        NaN   \n",
       "std       11.45795    11.466309    45.980138     NaN     1.747659        NaN   \n",
       "min       23.00000    -3.000000     8.000000     NaN     0.000000        NaN   \n",
       "25%       35.00000    10.000000    39.000000     NaN     0.700000        NaN   \n",
       "50%       45.00000    20.000000    64.000000     NaN     1.500000        NaN   \n",
       "75%       55.00000    30.000000    98.000000     NaN     2.500000        NaN   \n",
       "max       67.00000    43.000000   224.000000     NaN    10.000000        NaN   \n",
       "\n",
       "           Mortgage  Personal Loan  Securities Account  CD Account  Online  \\\n",
       "count   5000.000000         5000.0              5000.0      5000.0  5000.0   \n",
       "unique          NaN            2.0                 2.0         2.0     2.0   \n",
       "top             NaN            0.0                 0.0         0.0     1.0   \n",
       "freq            NaN         4520.0              4478.0      4698.0  2984.0   \n",
       "mean      56.498800            NaN                 NaN         NaN     NaN   \n",
       "std      101.713802            NaN                 NaN         NaN     NaN   \n",
       "min        0.000000            NaN                 NaN         NaN     NaN   \n",
       "25%        0.000000            NaN                 NaN         NaN     NaN   \n",
       "50%        0.000000            NaN                 NaN         NaN     NaN   \n",
       "75%      101.000000            NaN                 NaN         NaN     NaN   \n",
       "max      635.000000            NaN                 NaN         NaN     NaN   \n",
       "\n",
       "        CreditCard  \n",
       "count       5000.0  \n",
       "unique         2.0  \n",
       "top            0.0  \n",
       "freq        3530.0  \n",
       "mean           NaN  \n",
       "std            NaN  \n",
       "min            NaN  \n",
       "25%            NaN  \n",
       "50%            NaN  \n",
       "75%            NaN  \n",
       "max            NaN  "
      ]
     },
     "execution_count": 24,
     "metadata": {},
     "output_type": "execute_result"
    }
   ],
   "source": [
    "bank.describe(include='all')"
   ]
  },
  {
   "cell_type": "markdown",
   "metadata": {},
   "source": [
    "#### SPLIT THE data in to train and test(use sklearn package)"
   ]
  },
  {
   "cell_type": "code",
   "execution_count": 25,
   "metadata": {},
   "outputs": [],
   "source": [
    "from sklearn.model_selection import train_test_split"
   ]
  },
  {
   "cell_type": "code",
   "execution_count": 26,
   "metadata": {},
   "outputs": [],
   "source": [
    "y=bank[\"Personal Loan\"]\n",
    "X=bank.drop('Personal Loan', axis=1)\n",
    "X_train, X_test, y_train, y_test = train_test_split(X, y, test_size=0.20)  "
   ]
  },
  {
   "cell_type": "code",
   "execution_count": 27,
   "metadata": {},
   "outputs": [
    {
     "name": "stdout",
     "output_type": "stream",
     "text": [
      "(4000, 11)\n",
      "(1000, 11)\n",
      "(4000,)\n",
      "(1000,)\n"
     ]
    }
   ],
   "source": [
    "print(X_train.shape)\n",
    "print(X_test.shape)\n",
    "print(y_train.shape)\n",
    "print(y_test.shape)"
   ]
  },
  {
   "cell_type": "markdown",
   "metadata": {},
   "source": [
    "#### Split the numerical and Categorical Attributes"
   ]
  },
  {
   "cell_type": "code",
   "execution_count": 28,
   "metadata": {},
   "outputs": [
    {
     "data": {
      "text/plain": [
       "Index(['Age', 'Experience', 'Income', 'CCAvg', 'Mortgage'], dtype='object')"
      ]
     },
     "execution_count": 28,
     "metadata": {},
     "output_type": "execute_result"
    }
   ],
   "source": [
    "num_attr = X.select_dtypes(include=['float64','int64']).columns\n",
    "num_attr"
   ]
  },
  {
   "cell_type": "code",
   "execution_count": 29,
   "metadata": {},
   "outputs": [
    {
     "data": {
      "text/plain": [
       "Index(['Family', 'Education', 'Securities Account', 'CD Account', 'Online',\n",
       "       'CreditCard'],\n",
       "      dtype='object')"
      ]
     },
     "execution_count": 29,
     "metadata": {},
     "output_type": "execute_result"
    }
   ],
   "source": [
    "cat_attr = X.select_dtypes(exclude=['float64','int64']).columns\n",
    "cat_attr"
   ]
  },
  {
   "cell_type": "markdown",
   "metadata": {
    "collapsed": true
   },
   "source": [
    "#### Standardize the data (numerical attributes only)( import StandardScaler) \n"
   ]
  },
  {
   "cell_type": "code",
   "execution_count": 30,
   "metadata": {},
   "outputs": [],
   "source": [
    "from sklearn.preprocessing import StandardScaler"
   ]
  },
  {
   "cell_type": "code",
   "execution_count": 31,
   "metadata": {},
   "outputs": [
    {
     "data": {
      "text/plain": [
       "Index(['Age', 'Experience', 'Income', 'CCAvg', 'Mortgage'], dtype='object')"
      ]
     },
     "execution_count": 31,
     "metadata": {},
     "output_type": "execute_result"
    }
   ],
   "source": [
    "num_atr=X_train.select_dtypes(['int64','float64']).columns\n",
    "num_atr"
   ]
  },
  {
   "cell_type": "code",
   "execution_count": 32,
   "metadata": {},
   "outputs": [
    {
     "data": {
      "text/plain": [
       "Index(['Family', 'Education', 'Securities Account', 'CD Account', 'Online',\n",
       "       'CreditCard'],\n",
       "      dtype='object')"
      ]
     },
     "execution_count": 32,
     "metadata": {},
     "output_type": "execute_result"
    }
   ],
   "source": [
    "cat_atr = X_train.select_dtypes('category').columns\n",
    "cat_atr"
   ]
  },
  {
   "cell_type": "code",
   "execution_count": 33,
   "metadata": {},
   "outputs": [
    {
     "data": {
      "text/plain": [
       "StandardScaler(copy=True, with_mean=True, with_std=True)"
      ]
     },
     "execution_count": 33,
     "metadata": {},
     "output_type": "execute_result"
    }
   ],
   "source": [
    "scaler = StandardScaler()\n",
    "scaler.fit(X_train[num_atr])\n"
   ]
  },
  {
   "cell_type": "code",
   "execution_count": 34,
   "metadata": {},
   "outputs": [
    {
     "data": {
      "text/plain": [
       "array([45.44     , 20.211    , 74.4615   ,  1.9536125, 56.96525  ])"
      ]
     },
     "execution_count": 34,
     "metadata": {},
     "output_type": "execute_result"
    }
   ],
   "source": [
    "scaler.mean_"
   ]
  },
  {
   "cell_type": "code",
   "execution_count": 35,
   "metadata": {},
   "outputs": [
    {
     "data": {
      "text/plain": [
       "array([1.32192900e+02, 1.32205479e+02, 2.14199552e+03, 3.13090077e+00,\n",
       "       1.05569950e+04])"
      ]
     },
     "execution_count": 35,
     "metadata": {},
     "output_type": "execute_result"
    }
   ],
   "source": [
    "scaler.var_"
   ]
  },
  {
   "cell_type": "code",
   "execution_count": 36,
   "metadata": {},
   "outputs": [],
   "source": [
    "X_train[num_atr]=scaler.transform(X_train[num_atr])\n",
    "X_test[num_atr]=scaler.transform(X_test[num_atr])"
   ]
  },
  {
   "cell_type": "code",
   "execution_count": 37,
   "metadata": {},
   "outputs": [
    {
     "name": "stdout",
     "output_type": "stream",
     "text": [
      "(4000, 11)\n",
      "(1000, 11)\n"
     ]
    }
   ],
   "source": [
    "print(X_train.shape)\n",
    "print(X_test.shape)"
   ]
  },
  {
   "cell_type": "code",
   "execution_count": 38,
   "metadata": {},
   "outputs": [],
   "source": [
    "X_train = pd.get_dummies(columns=cat_atr,data=X_train,drop_first=True)"
   ]
  },
  {
   "cell_type": "code",
   "execution_count": 39,
   "metadata": {},
   "outputs": [],
   "source": [
    "X_test = pd.get_dummies(columns=cat_atr,data=X_test,drop_first=True)"
   ]
  },
  {
   "cell_type": "code",
   "execution_count": 40,
   "metadata": {},
   "outputs": [
    {
     "data": {
      "text/html": [
       "<div>\n",
       "<style scoped>\n",
       "    .dataframe tbody tr th:only-of-type {\n",
       "        vertical-align: middle;\n",
       "    }\n",
       "\n",
       "    .dataframe tbody tr th {\n",
       "        vertical-align: top;\n",
       "    }\n",
       "\n",
       "    .dataframe thead th {\n",
       "        text-align: right;\n",
       "    }\n",
       "</style>\n",
       "<table border=\"1\" class=\"dataframe\">\n",
       "  <thead>\n",
       "    <tr style=\"text-align: right;\">\n",
       "      <th></th>\n",
       "      <th>Age</th>\n",
       "      <th>Experience</th>\n",
       "      <th>Income</th>\n",
       "      <th>CCAvg</th>\n",
       "      <th>Mortgage</th>\n",
       "      <th>Family_2</th>\n",
       "      <th>Family_3</th>\n",
       "      <th>Family_4</th>\n",
       "      <th>Education_2</th>\n",
       "      <th>Education_3</th>\n",
       "      <th>Securities Account_1</th>\n",
       "      <th>CD Account_1</th>\n",
       "      <th>Online_1</th>\n",
       "      <th>CreditCard_1</th>\n",
       "    </tr>\n",
       "  </thead>\n",
       "  <tbody>\n",
       "    <tr>\n",
       "      <th>2465</th>\n",
       "      <td>1.092410</td>\n",
       "      <td>1.199245</td>\n",
       "      <td>-1.068705</td>\n",
       "      <td>-0.934543</td>\n",
       "      <td>0.642691</td>\n",
       "      <td>1</td>\n",
       "      <td>0</td>\n",
       "      <td>0</td>\n",
       "      <td>0</td>\n",
       "      <td>0</td>\n",
       "      <td>0</td>\n",
       "      <td>0</td>\n",
       "      <td>1</td>\n",
       "      <td>0</td>\n",
       "    </tr>\n",
       "    <tr>\n",
       "      <th>4944</th>\n",
       "      <td>0.309632</td>\n",
       "      <td>0.329534</td>\n",
       "      <td>-0.895851</td>\n",
       "      <td>-0.143330</td>\n",
       "      <td>-0.554421</td>\n",
       "      <td>0</td>\n",
       "      <td>1</td>\n",
       "      <td>0</td>\n",
       "      <td>1</td>\n",
       "      <td>0</td>\n",
       "      <td>0</td>\n",
       "      <td>0</td>\n",
       "      <td>1</td>\n",
       "      <td>0</td>\n",
       "    </tr>\n",
       "    <tr>\n",
       "      <th>3465</th>\n",
       "      <td>1.701237</td>\n",
       "      <td>1.808043</td>\n",
       "      <td>-0.701390</td>\n",
       "      <td>-0.030299</td>\n",
       "      <td>-0.554421</td>\n",
       "      <td>0</td>\n",
       "      <td>0</td>\n",
       "      <td>0</td>\n",
       "      <td>1</td>\n",
       "      <td>0</td>\n",
       "      <td>0</td>\n",
       "      <td>0</td>\n",
       "      <td>0</td>\n",
       "      <td>0</td>\n",
       "    </tr>\n",
       "    <tr>\n",
       "      <th>404</th>\n",
       "      <td>1.353336</td>\n",
       "      <td>1.373188</td>\n",
       "      <td>-0.312467</td>\n",
       "      <td>-0.821512</td>\n",
       "      <td>1.216916</td>\n",
       "      <td>0</td>\n",
       "      <td>1</td>\n",
       "      <td>0</td>\n",
       "      <td>1</td>\n",
       "      <td>0</td>\n",
       "      <td>0</td>\n",
       "      <td>0</td>\n",
       "      <td>0</td>\n",
       "      <td>0</td>\n",
       "    </tr>\n",
       "    <tr>\n",
       "      <th>4412</th>\n",
       "      <td>-0.994997</td>\n",
       "      <td>-0.888063</td>\n",
       "      <td>-1.198346</td>\n",
       "      <td>-0.878027</td>\n",
       "      <td>-0.554421</td>\n",
       "      <td>0</td>\n",
       "      <td>0</td>\n",
       "      <td>1</td>\n",
       "      <td>1</td>\n",
       "      <td>0</td>\n",
       "      <td>0</td>\n",
       "      <td>0</td>\n",
       "      <td>0</td>\n",
       "      <td>0</td>\n",
       "    </tr>\n",
       "  </tbody>\n",
       "</table>\n",
       "</div>"
      ],
      "text/plain": [
       "           Age  Experience    Income     CCAvg  Mortgage  Family_2  Family_3  \\\n",
       "2465  1.092410    1.199245 -1.068705 -0.934543  0.642691         1         0   \n",
       "4944  0.309632    0.329534 -0.895851 -0.143330 -0.554421         0         1   \n",
       "3465  1.701237    1.808043 -0.701390 -0.030299 -0.554421         0         0   \n",
       "404   1.353336    1.373188 -0.312467 -0.821512  1.216916         0         1   \n",
       "4412 -0.994997   -0.888063 -1.198346 -0.878027 -0.554421         0         0   \n",
       "\n",
       "      Family_4  Education_2  Education_3  Securities Account_1  CD Account_1  \\\n",
       "2465         0            0            0                     0             0   \n",
       "4944         0            1            0                     0             0   \n",
       "3465         0            1            0                     0             0   \n",
       "404          0            1            0                     0             0   \n",
       "4412         1            1            0                     0             0   \n",
       "\n",
       "      Online_1  CreditCard_1  \n",
       "2465         1             0  \n",
       "4944         1             0  \n",
       "3465         0             0  \n",
       "404          0             0  \n",
       "4412         0             0  "
      ]
     },
     "execution_count": 40,
     "metadata": {},
     "output_type": "execute_result"
    }
   ],
   "source": [
    "X_train.head()"
   ]
  },
  {
   "cell_type": "code",
   "execution_count": 41,
   "metadata": {},
   "outputs": [
    {
     "data": {
      "text/html": [
       "<div>\n",
       "<style scoped>\n",
       "    .dataframe tbody tr th:only-of-type {\n",
       "        vertical-align: middle;\n",
       "    }\n",
       "\n",
       "    .dataframe tbody tr th {\n",
       "        vertical-align: top;\n",
       "    }\n",
       "\n",
       "    .dataframe thead th {\n",
       "        text-align: right;\n",
       "    }\n",
       "</style>\n",
       "<table border=\"1\" class=\"dataframe\">\n",
       "  <thead>\n",
       "    <tr style=\"text-align: right;\">\n",
       "      <th></th>\n",
       "      <th>Age</th>\n",
       "      <th>Experience</th>\n",
       "      <th>Income</th>\n",
       "      <th>CCAvg</th>\n",
       "      <th>Mortgage</th>\n",
       "      <th>Family_2</th>\n",
       "      <th>Family_3</th>\n",
       "      <th>Family_4</th>\n",
       "      <th>Education_2</th>\n",
       "      <th>Education_3</th>\n",
       "      <th>Securities Account_1</th>\n",
       "      <th>CD Account_1</th>\n",
       "      <th>Online_1</th>\n",
       "      <th>CreditCard_1</th>\n",
       "    </tr>\n",
       "  </thead>\n",
       "  <tbody>\n",
       "    <tr>\n",
       "      <th>4655</th>\n",
       "      <td>-1.081973</td>\n",
       "      <td>-1.148976</td>\n",
       "      <td>2.453205</td>\n",
       "      <td>2.851977</td>\n",
       "      <td>5.100232</td>\n",
       "      <td>1</td>\n",
       "      <td>0</td>\n",
       "      <td>0</td>\n",
       "      <td>1</td>\n",
       "      <td>0</td>\n",
       "      <td>0</td>\n",
       "      <td>0</td>\n",
       "      <td>0</td>\n",
       "      <td>0</td>\n",
       "    </tr>\n",
       "    <tr>\n",
       "      <th>3998</th>\n",
       "      <td>-0.994997</td>\n",
       "      <td>-0.888063</td>\n",
       "      <td>-0.722996</td>\n",
       "      <td>-0.352436</td>\n",
       "      <td>-0.554421</td>\n",
       "      <td>0</td>\n",
       "      <td>0</td>\n",
       "      <td>0</td>\n",
       "      <td>0</td>\n",
       "      <td>0</td>\n",
       "      <td>0</td>\n",
       "      <td>0</td>\n",
       "      <td>0</td>\n",
       "      <td>1</td>\n",
       "    </tr>\n",
       "    <tr>\n",
       "      <th>3926</th>\n",
       "      <td>0.222657</td>\n",
       "      <td>0.242563</td>\n",
       "      <td>-0.679783</td>\n",
       "      <td>-0.369390</td>\n",
       "      <td>-0.554421</td>\n",
       "      <td>1</td>\n",
       "      <td>0</td>\n",
       "      <td>0</td>\n",
       "      <td>0</td>\n",
       "      <td>0</td>\n",
       "      <td>0</td>\n",
       "      <td>0</td>\n",
       "      <td>1</td>\n",
       "      <td>0</td>\n",
       "    </tr>\n",
       "    <tr>\n",
       "      <th>494</th>\n",
       "      <td>-0.386170</td>\n",
       "      <td>-0.279264</td>\n",
       "      <td>1.848214</td>\n",
       "      <td>3.417129</td>\n",
       "      <td>-0.554421</td>\n",
       "      <td>1</td>\n",
       "      <td>0</td>\n",
       "      <td>0</td>\n",
       "      <td>0</td>\n",
       "      <td>0</td>\n",
       "      <td>0</td>\n",
       "      <td>0</td>\n",
       "      <td>1</td>\n",
       "      <td>0</td>\n",
       "    </tr>\n",
       "    <tr>\n",
       "      <th>2983</th>\n",
       "      <td>0.918459</td>\n",
       "      <td>1.025303</td>\n",
       "      <td>0.335737</td>\n",
       "      <td>-0.934543</td>\n",
       "      <td>-0.554421</td>\n",
       "      <td>1</td>\n",
       "      <td>0</td>\n",
       "      <td>0</td>\n",
       "      <td>0</td>\n",
       "      <td>0</td>\n",
       "      <td>0</td>\n",
       "      <td>0</td>\n",
       "      <td>1</td>\n",
       "      <td>1</td>\n",
       "    </tr>\n",
       "  </tbody>\n",
       "</table>\n",
       "</div>"
      ],
      "text/plain": [
       "           Age  Experience    Income     CCAvg  Mortgage  Family_2  Family_3  \\\n",
       "4655 -1.081973   -1.148976  2.453205  2.851977  5.100232         1         0   \n",
       "3998 -0.994997   -0.888063 -0.722996 -0.352436 -0.554421         0         0   \n",
       "3926  0.222657    0.242563 -0.679783 -0.369390 -0.554421         1         0   \n",
       "494  -0.386170   -0.279264  1.848214  3.417129 -0.554421         1         0   \n",
       "2983  0.918459    1.025303  0.335737 -0.934543 -0.554421         1         0   \n",
       "\n",
       "      Family_4  Education_2  Education_3  Securities Account_1  CD Account_1  \\\n",
       "4655         0            1            0                     0             0   \n",
       "3998         0            0            0                     0             0   \n",
       "3926         0            0            0                     0             0   \n",
       "494          0            0            0                     0             0   \n",
       "2983         0            0            0                     0             0   \n",
       "\n",
       "      Online_1  CreditCard_1  \n",
       "4655         0             0  \n",
       "3998         0             1  \n",
       "3926         1             0  \n",
       "494          1             0  \n",
       "2983         1             1  "
      ]
     },
     "execution_count": 41,
     "metadata": {},
     "output_type": "execute_result"
    }
   ],
   "source": [
    "X_test.head()"
   ]
  },
  {
   "cell_type": "markdown",
   "metadata": {},
   "source": [
    "# Now It is time for Model BUilding "
   ]
  },
  {
   "cell_type": "markdown",
   "metadata": {},
   "source": [
    "#### Let us see the details of the Random Forest in Sklearn \n",
    "* class sklearn.ensemble.RandomForestClassifier(n_estimators=’warn’, criterion=’gini’, max_depth=None, min_samples_split=2, min_samples_leaf=1, min_weight_fraction_leaf=0.0, max_features=’auto’, max_leaf_nodes=None, min_impurity_decrease=0.0, min_impurity_split=None, bootstrap=True, oob_score=False, n_jobs=None, random_state=None, verbose=0, warm_start=False, class_weight=None)\n",
    "\n",
    "\n",
    "\n",
    "* A random forest is a meta estimator that fits a number of decision tree classifiers on various sub-samples of the dataset and uses averaging to improve the predictive accuracy and control over-fitting. The sub-sample size is always the same as the original input sample size but the samples are drawn with replacement if bootstrap=True "
   ]
  },
  {
   "cell_type": "markdown",
   "metadata": {},
   "source": [
    "Parameters\n",
    "* **n_estimators** : integer, optional (default=10)\n",
    "    The number of trees in the forest.The default value of n_estimators will change from 10 in version 0.20 to 100 in version 0.22.\n",
    "\n",
    "* **criterion** : string, optional (default=”gini”)\n",
    "    The function to measure the quality of a split. Supported criteria are “gini” for the Gini impurity and “entropy” for the information gain. Note: this parameter is tree-specific.\n",
    "\n",
    "* **max_depth** : integer or None, optional (default=None)\n",
    "    The maximum depth of the tree. If None, then nodes are expanded until all leaves are pure or until all leaves contain less than min_samples_split samples.\n",
    "\n",
    "* **min_samples_split** : int, float, optional (default=2)\n",
    "    The minimum number of samples required to split an internal node:\n",
    "\n",
    "    If int, then consider min_samples_split as the minimum number.\n",
    "    If float, then min_samples_split is a fraction and ceil(min_samples_split * n_samples) are the minimum number of samples for each split.\n",
    "\n",
    "\n",
    "* **min_samples_leaf** : int, float, optional (default=1)\n",
    "    The minimum number of samples required to be at a leaf node. A split point at any depth will only be considered if it leaves at least min_samples_leaf training samples in each of the left and right branches. This may have the effect of smoothing the model, especially in regression.\n",
    "\n",
    "    If int, then consider min_samples_leaf as the minimum number.\n",
    "    If float, then min_samples_leaf is a fraction and ceil(min_samples_leaf * n_samples) are the minimum number of samples for each node.\n",
    "\n",
    "\n",
    "* **min_weight_fraction_leaf** : float, optional (default=0.)\n",
    "    The minimum weighted fraction of the sum total of weights (of all the input samples) required to be at a leaf node. Samples have equal weight when sample_weight is not provided.\n",
    "\n",
    "* **max_features** : int, float, string or None, optional (default=”auto”)\n",
    "    The number of features to consider when looking for the best split:\n",
    "\n",
    "    If int, then consider max_features features at each split.\n",
    "    If float, then max_features is a fraction and int(max_features * n_features) features are considered at each split.\n",
    "    If “auto”, then max_features=sqrt(n_features).\n",
    "    If “sqrt”, then max_features=sqrt(n_features) (same as “auto”).\n",
    "    If “log2”, then max_features=log2(n_features).\n",
    "    If None, then max_features=n_features.\n",
    "    Note: the search for a split does not stop until at least one valid partition of the node samples is found, even if it requires to effectively inspect more than max_features features.\n",
    "\n",
    "* **max_leaf_nodes** : int or None, optional (default=None)\n",
    "    Grow trees with max_leaf_nodes in best-first fashion. Best nodes are defined as relative reduction in impurity. If None then unlimited number of leaf nodes.\n",
    "\n",
    "* **min_impurity_decrease** : float, optional (default=0.)\n",
    "    A node will be split if this split induces a decrease of the impurity greater than or equal to this value.\n",
    "\n",
    "  The weighted impurity decrease equation is the following:\n",
    "\n",
    "    N_t / N * (impurity - N_t_R / N_t * right_impurity\n",
    "                    - N_t_L / N_t * left_impurity)\n",
    "    where N is the total number of samples, N_t is the number of samples at the current node, N_t_L is the number of samples in the left child, and N_t_R is the number of samples in the right child.\n",
    "\n",
    "    N, N_t, N_t_R and N_t_L all refer to the weighted sum, if sample_weight is passed.\n",
    "\n",
    "* **bootstrap** : boolean, optional (default=True)\n",
    "    Whether bootstrap samples are used when building trees.\n",
    "\n",
    "* **oob_score** : bool (default=False)\n",
    "    Whether to use out-of-bag samples to estimate the generalization accuracy.\n",
    "\n",
    "* **n_jobs** : int or None, optional (default=None)\n",
    "    The number of jobs to run in parallel for both fit and predict. None means 1 unless in a joblib.parallel_backend context. -1 means using all processors. See Glossary for more details.\n",
    "\n",
    "* **random_state** : int, RandomState instance or None, optional (default=None)\n",
    "    If int, random_state is the seed used by the random number generator; If RandomState instance, random_state is the random number generator; If None, the random number generator is the RandomState instance used by np.random.\n",
    "\n",
    "* **verbose** : int, optional (default=0)\n",
    "    Controls the verbosity when fitting and predicting.\n",
    "\n",
    "* **warm_start** : bool, optional (default=False)\n",
    "    When set to True, reuse the solution of the previous call to fit and add more estimators to the ensemble, otherwise, just fit a whole new forest. See the Glossary.\n",
    "\n",
    "* **class_weight** : dict, list of dicts, “balanced”, “balanced_subsample” or None, optional (default=None)\n",
    "    Weights associated with classes in the form {class_label: weight}. If not given, all classes are supposed to have weight one. For multi-output problems, a list of dicts can be provided in the same order as the columns of y.\n",
    "\n",
    "    Note that for multioutput (including multilabel) weights should be defined for each class of every column in its own dict. For example, for four-class multilabel classification weights should be [{0: 1, 1: 1}, {0: 1, 1: 5}, {0: 1, 1: 1}, {0: 1, 1: 1}] instead of [{1:1}, {2:5}, {3:1}, {4:1}].\n",
    "\n",
    "    The “balanced” mode uses the values of y to automatically adjust weights inversely proportional to class frequencies in the input data as n_samples / (n_classes * np.bincount(y))\n",
    "\n",
    "    The “balanced_subsample” mode is the same as “balanced” except that weights are computed based on the bootstrap sample for every tree grown.\n",
    "\n",
    "    For multi-output, the weights of each column of y will be multiplied.\n",
    "\n",
    "    Note that these weights will be multiplied with sample_weight (passed through the fit method) if sample_weight is specified."
   ]
  },
  {
   "cell_type": "markdown",
   "metadata": {},
   "source": [
    "####  Build Random Forest Classifier"
   ]
  },
  {
   "cell_type": "code",
   "execution_count": 48,
   "metadata": {},
   "outputs": [],
   "source": [
    "from sklearn.ensemble import RandomForestClassifier"
   ]
  },
  {
   "cell_type": "code",
   "execution_count": 49,
   "metadata": {
    "scrolled": false
   },
   "outputs": [
    {
     "data": {
      "text/plain": [
       "RandomForestClassifier(bootstrap=True, class_weight=None, criterion='gini',\n",
       "            max_depth=8, max_features='auto', max_leaf_nodes=None,\n",
       "            min_impurity_decrease=0.0, min_impurity_split=None,\n",
       "            min_samples_leaf=1, min_samples_split=2,\n",
       "            min_weight_fraction_leaf=0.0, n_estimators=10, n_jobs=None,\n",
       "            oob_score=False, random_state=None, verbose=0,\n",
       "            warm_start=False)"
      ]
     },
     "execution_count": 49,
     "metadata": {},
     "output_type": "execute_result"
    }
   ],
   "source": [
    "clf = RandomForestClassifier(n_estimators=10,max_depth=8)\n",
    "clf.fit(X=X_train, y=y_train)"
   ]
  },
  {
   "cell_type": "code",
   "execution_count": 50,
   "metadata": {},
   "outputs": [
    {
     "name": "stdout",
     "output_type": "stream",
     "text": [
      "0.977\n",
      "0.98875\n",
      "0.8852040816326531\n"
     ]
    }
   ],
   "source": [
    "from sklearn.metrics import accuracy_score\n",
    "from sklearn.metrics import recall_score\n",
    "\n",
    "y_pred = clf.predict(X_test)\n",
    "print(accuracy_score(y_test,y_pred))\n",
    "y_pred = clf.predict(X_train)\n",
    "print(accuracy_score(y_train,y_pred))\n",
    "print(recall_score(y_train,y_pred,pos_label=1))"
   ]
  },
  {
   "cell_type": "code",
   "execution_count": 51,
   "metadata": {},
   "outputs": [
    {
     "data": {
      "text/plain": [
       "array([0.02628966, 0.02306095, 0.36874998, 0.15210649, 0.0285553 ,\n",
       "       0.01477917, 0.06583768, 0.02718458, 0.12333816, 0.09839272,\n",
       "       0.00483502, 0.05380907, 0.00511646, 0.00794478])"
      ]
     },
     "execution_count": 51,
     "metadata": {},
     "output_type": "execute_result"
    }
   ],
   "source": [
    "clf.feature_importances_"
   ]
  },
  {
   "cell_type": "code",
   "execution_count": 53,
   "metadata": {},
   "outputs": [
    {
     "data": {
      "image/png": "[encoded data removed]",
      "text/plain": [
       "<Figure size 432x288 with 1 Axes>"
      ]
     },
     "metadata": {
      "needs_background": "light"
     },
     "output_type": "display_data"
    }
   ],
   "source": [
    "import numpy as np\n",
    "import matplotlib.pyplot as plt\n",
    "%matplotlib inline\n",
    "features = X_train.columns\n",
    "importances = clf.feature_importances_\n",
    "indices = np.argsort(importances)\n",
    "\n",
    "plt.title('Feature Importances')\n",
    "plt.barh(range(len(indices)), importances[indices], color='b', align='center')\n",
    "plt.yticks(range(len(indices)), [features[i] for i in indices])\n",
    "plt.xlabel('Relative Importance')\n",
    "plt.show()"
   ]
  },
  {
   "cell_type": "markdown",
   "metadata": {},
   "source": [
    "#### GridSearch Cross validation"
   ]
  },
  {
   "cell_type": "code",
   "execution_count": 54,
   "metadata": {},
   "outputs": [],
   "source": [
    "from sklearn.model_selection import GridSearchCV\n",
    "from sklearn.metrics import classification_report\n",
    "rfc = RandomForestClassifier(n_jobs=-1, max_features='sqrt') \n",
    " \n",
    "# Use a grid over parameters of interest\n",
    "param_grid = { \n",
    "           \"n_estimators\" : [9, 18, 27, 36, 45, 54, 63],\n",
    "           \"max_depth\" : [2,3,5,7],\n",
    "           \"min_samples_leaf\" : [2, 4]}\n",
    "scores = ['precision', 'recall']"
   ]
  },
  {
   "cell_type": "code",
   "execution_count": 180,
   "metadata": {
    "scrolled": false
   },
   "outputs": [
    {
     "name": "stdout",
     "output_type": "stream",
     "text": [
      "# Tuning hyper-parameters for precision\n",
      "\n",
      "Best parameters set found on development set:\n",
      "\n",
      "{'max_depth': 7, 'min_samples_leaf': 2, 'n_estimators': 45}\n",
      "\n",
      "Grid scores on development set:\n",
      "\n",
      "0.854 (+/-0.402) for {'max_depth': 2, 'min_samples_leaf': 2, 'n_estimators': 9}\n",
      "0.854 (+/-0.402) for {'max_depth': 2, 'min_samples_leaf': 2, 'n_estimators': 18}\n",
      "0.753 (+/-0.491) for {'max_depth': 2, 'min_samples_leaf': 2, 'n_estimators': 27}\n",
      "0.953 (+/-0.003) for {'max_depth': 2, 'min_samples_leaf': 2, 'n_estimators': 36}\n",
      "0.853 (+/-0.401) for {'max_depth': 2, 'min_samples_leaf': 2, 'n_estimators': 45}\n",
      "0.954 (+/-0.003) for {'max_depth': 2, 'min_samples_leaf': 2, 'n_estimators': 54}\n",
      "0.854 (+/-0.402) for {'max_depth': 2, 'min_samples_leaf': 2, 'n_estimators': 63}\n",
      "0.945 (+/-0.038) for {'max_depth': 2, 'min_samples_leaf': 4, 'n_estimators': 9}\n",
      "0.955 (+/-0.005) for {'max_depth': 2, 'min_samples_leaf': 4, 'n_estimators': 18}\n",
      "0.955 (+/-0.004) for {'max_depth': 2, 'min_samples_leaf': 4, 'n_estimators': 27}\n",
      "0.853 (+/-0.402) for {'max_depth': 2, 'min_samples_leaf': 4, 'n_estimators': 36}\n",
      "0.953 (+/-0.001) for {'max_depth': 2, 'min_samples_leaf': 4, 'n_estimators': 45}\n",
      "0.954 (+/-0.001) for {'max_depth': 2, 'min_samples_leaf': 4, 'n_estimators': 54}\n",
      "0.954 (+/-0.002) for {'max_depth': 2, 'min_samples_leaf': 4, 'n_estimators': 63}\n",
      "0.929 (+/-0.129) for {'max_depth': 3, 'min_samples_leaf': 2, 'n_estimators': 9}\n",
      "0.952 (+/-0.036) for {'max_depth': 3, 'min_samples_leaf': 2, 'n_estimators': 18}\n",
      "0.956 (+/-0.026) for {'max_depth': 3, 'min_samples_leaf': 2, 'n_estimators': 27}\n",
      "0.964 (+/-0.004) for {'max_depth': 3, 'min_samples_leaf': 2, 'n_estimators': 36}\n",
      "0.961 (+/-0.003) for {'max_depth': 3, 'min_samples_leaf': 2, 'n_estimators': 45}\n",
      "0.961 (+/-0.004) for {'max_depth': 3, 'min_samples_leaf': 2, 'n_estimators': 54}\n",
      "0.962 (+/-0.003) for {'max_depth': 3, 'min_samples_leaf': 2, 'n_estimators': 63}\n",
      "0.959 (+/-0.022) for {'max_depth': 3, 'min_samples_leaf': 4, 'n_estimators': 9}\n",
      "0.948 (+/-0.031) for {'max_depth': 3, 'min_samples_leaf': 4, 'n_estimators': 18}\n",
      "0.961 (+/-0.005) for {'max_depth': 3, 'min_samples_leaf': 4, 'n_estimators': 27}\n",
      "0.961 (+/-0.004) for {'max_depth': 3, 'min_samples_leaf': 4, 'n_estimators': 36}\n",
      "0.962 (+/-0.003) for {'max_depth': 3, 'min_samples_leaf': 4, 'n_estimators': 45}\n",
      "0.963 (+/-0.002) for {'max_depth': 3, 'min_samples_leaf': 4, 'n_estimators': 54}\n",
      "0.961 (+/-0.005) for {'max_depth': 3, 'min_samples_leaf': 4, 'n_estimators': 63}\n",
      "0.961 (+/-0.035) for {'max_depth': 5, 'min_samples_leaf': 2, 'n_estimators': 9}\n",
      "0.972 (+/-0.027) for {'max_depth': 5, 'min_samples_leaf': 2, 'n_estimators': 18}\n",
      "0.972 (+/-0.016) for {'max_depth': 5, 'min_samples_leaf': 2, 'n_estimators': 27}\n",
      "0.978 (+/-0.017) for {'max_depth': 5, 'min_samples_leaf': 2, 'n_estimators': 36}\n",
      "0.974 (+/-0.023) for {'max_depth': 5, 'min_samples_leaf': 2, 'n_estimators': 45}\n",
      "0.973 (+/-0.021) for {'max_depth': 5, 'min_samples_leaf': 2, 'n_estimators': 54}\n",
      "0.978 (+/-0.009) for {'max_depth': 5, 'min_samples_leaf': 2, 'n_estimators': 63}\n",
      "0.957 (+/-0.067) for {'max_depth': 5, 'min_samples_leaf': 4, 'n_estimators': 9}\n",
      "0.975 (+/-0.009) for {'max_depth': 5, 'min_samples_leaf': 4, 'n_estimators': 18}\n",
      "0.972 (+/-0.019) for {'max_depth': 5, 'min_samples_leaf': 4, 'n_estimators': 27}\n",
      "0.978 (+/-0.006) for {'max_depth': 5, 'min_samples_leaf': 4, 'n_estimators': 36}\n",
      "0.974 (+/-0.016) for {'max_depth': 5, 'min_samples_leaf': 4, 'n_estimators': 45}\n",
      "0.975 (+/-0.011) for {'max_depth': 5, 'min_samples_leaf': 4, 'n_estimators': 54}\n",
      "0.976 (+/-0.012) for {'max_depth': 5, 'min_samples_leaf': 4, 'n_estimators': 63}\n",
      "0.979 (+/-0.030) for {'max_depth': 7, 'min_samples_leaf': 2, 'n_estimators': 9}\n",
      "0.985 (+/-0.011) for {'max_depth': 7, 'min_samples_leaf': 2, 'n_estimators': 18}\n",
      "0.983 (+/-0.015) for {'max_depth': 7, 'min_samples_leaf': 2, 'n_estimators': 27}\n",
      "0.985 (+/-0.013) for {'max_depth': 7, 'min_samples_leaf': 2, 'n_estimators': 36}\n",
      "0.987 (+/-0.009) for {'max_depth': 7, 'min_samples_leaf': 2, 'n_estimators': 45}\n",
      "0.982 (+/-0.021) for {'max_depth': 7, 'min_samples_leaf': 2, 'n_estimators': 54}\n",
      "0.983 (+/-0.016) for {'max_depth': 7, 'min_samples_leaf': 2, 'n_estimators': 63}\n",
      "0.973 (+/-0.014) for {'max_depth': 7, 'min_samples_leaf': 4, 'n_estimators': 9}\n",
      "0.981 (+/-0.018) for {'max_depth': 7, 'min_samples_leaf': 4, 'n_estimators': 18}\n",
      "0.972 (+/-0.030) for {'max_depth': 7, 'min_samples_leaf': 4, 'n_estimators': 27}\n",
      "0.979 (+/-0.015) for {'max_depth': 7, 'min_samples_leaf': 4, 'n_estimators': 36}\n",
      "0.983 (+/-0.014) for {'max_depth': 7, 'min_samples_leaf': 4, 'n_estimators': 45}\n",
      "0.985 (+/-0.014) for {'max_depth': 7, 'min_samples_leaf': 4, 'n_estimators': 54}\n",
      "0.987 (+/-0.009) for {'max_depth': 7, 'min_samples_leaf': 4, 'n_estimators': 63}\n",
      "\n",
      "Detailed classification report:\n",
      "\n",
      "The model is trained on the full development set.\n",
      "The scores are computed on the full evaluation set.\n",
      "\n",
      "              precision    recall  f1-score   support\n",
      "\n",
      "           0       0.98      1.00      0.99       904\n",
      "           1       0.96      0.80      0.88        96\n",
      "\n",
      "   micro avg       0.98      0.98      0.98      1000\n",
      "   macro avg       0.97      0.90      0.93      1000\n",
      "weighted avg       0.98      0.98      0.98      1000\n",
      "\n",
      "\n",
      "# Tuning hyper-parameters for recall\n",
      "\n",
      "Best parameters set found on development set:\n",
      "\n",
      "{'max_depth': 7, 'min_samples_leaf': 2, 'n_estimators': 18}\n",
      "\n",
      "Grid scores on development set:\n",
      "\n",
      "0.528 (+/-0.064) for {'max_depth': 2, 'min_samples_leaf': 2, 'n_estimators': 9}\n",
      "0.529 (+/-0.040) for {'max_depth': 2, 'min_samples_leaf': 2, 'n_estimators': 18}\n",
      "0.520 (+/-0.035) for {'max_depth': 2, 'min_samples_leaf': 2, 'n_estimators': 27}\n",
      "0.513 (+/-0.008) for {'max_depth': 2, 'min_samples_leaf': 2, 'n_estimators': 36}\n",
      "0.516 (+/-0.013) for {'max_depth': 2, 'min_samples_leaf': 2, 'n_estimators': 45}\n",
      "0.525 (+/-0.041) for {'max_depth': 2, 'min_samples_leaf': 2, 'n_estimators': 54}\n",
      "0.522 (+/-0.030) for {'max_depth': 2, 'min_samples_leaf': 2, 'n_estimators': 63}\n",
      "0.533 (+/-0.047) for {'max_depth': 2, 'min_samples_leaf': 4, 'n_estimators': 9}\n",
      "0.521 (+/-0.041) for {'max_depth': 2, 'min_samples_leaf': 4, 'n_estimators': 18}\n",
      "0.538 (+/-0.035) for {'max_depth': 2, 'min_samples_leaf': 4, 'n_estimators': 27}\n",
      "0.521 (+/-0.032) for {'max_depth': 2, 'min_samples_leaf': 4, 'n_estimators': 36}\n",
      "0.516 (+/-0.038) for {'max_depth': 2, 'min_samples_leaf': 4, 'n_estimators': 45}\n",
      "0.517 (+/-0.020) for {'max_depth': 2, 'min_samples_leaf': 4, 'n_estimators': 54}\n",
      "0.520 (+/-0.020) for {'max_depth': 2, 'min_samples_leaf': 4, 'n_estimators': 63}\n",
      "0.635 (+/-0.045) for {'max_depth': 3, 'min_samples_leaf': 2, 'n_estimators': 9}\n",
      "0.615 (+/-0.053) for {'max_depth': 3, 'min_samples_leaf': 2, 'n_estimators': 18}\n",
      "0.602 (+/-0.020) for {'max_depth': 3, 'min_samples_leaf': 2, 'n_estimators': 27}\n",
      "0.609 (+/-0.028) for {'max_depth': 3, 'min_samples_leaf': 2, 'n_estimators': 36}\n",
      "0.595 (+/-0.035) for {'max_depth': 3, 'min_samples_leaf': 2, 'n_estimators': 45}\n",
      "0.595 (+/-0.036) for {'max_depth': 3, 'min_samples_leaf': 2, 'n_estimators': 54}\n",
      "0.602 (+/-0.038) for {'max_depth': 3, 'min_samples_leaf': 2, 'n_estimators': 63}\n",
      "0.600 (+/-0.092) for {'max_depth': 3, 'min_samples_leaf': 4, 'n_estimators': 9}\n",
      "0.633 (+/-0.077) for {'max_depth': 3, 'min_samples_leaf': 4, 'n_estimators': 18}\n",
      "0.618 (+/-0.055) for {'max_depth': 3, 'min_samples_leaf': 4, 'n_estimators': 27}\n",
      "0.599 (+/-0.040) for {'max_depth': 3, 'min_samples_leaf': 4, 'n_estimators': 36}\n",
      "0.587 (+/-0.028) for {'max_depth': 3, 'min_samples_leaf': 4, 'n_estimators': 45}\n",
      "0.604 (+/-0.014) for {'max_depth': 3, 'min_samples_leaf': 4, 'n_estimators': 54}\n",
      "0.600 (+/-0.034) for {'max_depth': 3, 'min_samples_leaf': 4, 'n_estimators': 63}\n",
      "0.783 (+/-0.104) for {'max_depth': 5, 'min_samples_leaf': 2, 'n_estimators': 9}\n",
      "0.795 (+/-0.053) for {'max_depth': 5, 'min_samples_leaf': 2, 'n_estimators': 18}\n",
      "0.807 (+/-0.064) for {'max_depth': 5, 'min_samples_leaf': 2, 'n_estimators': 27}\n",
      "0.786 (+/-0.043) for {'max_depth': 5, 'min_samples_leaf': 2, 'n_estimators': 36}\n",
      "0.799 (+/-0.074) for {'max_depth': 5, 'min_samples_leaf': 2, 'n_estimators': 45}\n",
      "0.798 (+/-0.066) for {'max_depth': 5, 'min_samples_leaf': 2, 'n_estimators': 54}\n",
      "0.805 (+/-0.061) for {'max_depth': 5, 'min_samples_leaf': 2, 'n_estimators': 63}\n",
      "0.819 (+/-0.062) for {'max_depth': 5, 'min_samples_leaf': 4, 'n_estimators': 9}\n",
      "0.785 (+/-0.092) for {'max_depth': 5, 'min_samples_leaf': 4, 'n_estimators': 18}\n",
      "0.798 (+/-0.077) for {'max_depth': 5, 'min_samples_leaf': 4, 'n_estimators': 27}\n",
      "0.830 (+/-0.049) for {'max_depth': 5, 'min_samples_leaf': 4, 'n_estimators': 36}\n",
      "0.799 (+/-0.032) for {'max_depth': 5, 'min_samples_leaf': 4, 'n_estimators': 45}\n",
      "0.773 (+/-0.036) for {'max_depth': 5, 'min_samples_leaf': 4, 'n_estimators': 54}\n",
      "0.801 (+/-0.063) for {'max_depth': 5, 'min_samples_leaf': 4, 'n_estimators': 63}\n",
      "0.869 (+/-0.093) for {'max_depth': 7, 'min_samples_leaf': 2, 'n_estimators': 9}\n",
      "0.909 (+/-0.019) for {'max_depth': 7, 'min_samples_leaf': 2, 'n_estimators': 18}\n",
      "0.902 (+/-0.036) for {'max_depth': 7, 'min_samples_leaf': 2, 'n_estimators': 27}\n",
      "0.891 (+/-0.016) for {'max_depth': 7, 'min_samples_leaf': 2, 'n_estimators': 36}\n",
      "0.903 (+/-0.026) for {'max_depth': 7, 'min_samples_leaf': 2, 'n_estimators': 45}\n",
      "0.891 (+/-0.028) for {'max_depth': 7, 'min_samples_leaf': 2, 'n_estimators': 54}\n",
      "0.890 (+/-0.010) for {'max_depth': 7, 'min_samples_leaf': 2, 'n_estimators': 63}\n",
      "0.861 (+/-0.056) for {'max_depth': 7, 'min_samples_leaf': 4, 'n_estimators': 9}\n",
      "0.886 (+/-0.034) for {'max_depth': 7, 'min_samples_leaf': 4, 'n_estimators': 18}\n",
      "0.877 (+/-0.057) for {'max_depth': 7, 'min_samples_leaf': 4, 'n_estimators': 27}\n",
      "0.880 (+/-0.032) for {'max_depth': 7, 'min_samples_leaf': 4, 'n_estimators': 36}\n",
      "0.898 (+/-0.051) for {'max_depth': 7, 'min_samples_leaf': 4, 'n_estimators': 45}\n",
      "0.890 (+/-0.027) for {'max_depth': 7, 'min_samples_leaf': 4, 'n_estimators': 54}\n",
      "0.881 (+/-0.018) for {'max_depth': 7, 'min_samples_leaf': 4, 'n_estimators': 63}\n",
      "\n",
      "Detailed classification report:\n",
      "\n",
      "The model is trained on the full development set.\n",
      "The scores are computed on the full evaluation set.\n",
      "\n",
      "              precision    recall  f1-score   support\n",
      "\n",
      "           0       0.98      1.00      0.99       904\n",
      "           1       0.97      0.77      0.86        96\n",
      "\n",
      "   micro avg       0.98      0.98      0.98      1000\n",
      "   macro avg       0.97      0.88      0.92      1000\n",
      "weighted avg       0.98      0.98      0.97      1000\n",
      "\n",
      "\n"
     ]
    }
   ],
   "source": [
    "for score in scores:\n",
    "    print(\"# Tuning hyper-parameters for %s\" % score)\n",
    "    print()\n",
    "\n",
    "    clf = GridSearchCV(estimator=rfc, param_grid=param_grid,cv=5,\n",
    "                       scoring='%s_macro' % score)\n",
    "    clf.fit(X_train, y_train)\n",
    "\n",
    "    print(\"Best parameters set found on development set:\")\n",
    "    print()\n",
    "    print(clf.best_params_)\n",
    "    print()\n",
    "    print(\"Grid scores on development set:\")\n",
    "    print()\n",
    "    means = clf.cv_results_['mean_test_score']\n",
    "    stds = clf.cv_results_['std_test_score']\n",
    "    for mean, std, params in zip(means, stds, clf.cv_results_['params']):\n",
    "        print(\"%0.3f (+/-%0.03f) for %r\"\n",
    "              % (mean, std * 2, params))\n",
    "    print()\n",
    "\n",
    "    print(\"Detailed classification report:\")\n",
    "    print()\n",
    "    print(\"The model is trained on the full development set.\")\n",
    "    print(\"The scores are computed on the full evaluation set.\")\n",
    "    print()\n",
    "    y_true, y_pred = y_test, clf.predict(X_test)\n",
    "    print(classification_report(y_true, y_pred))\n",
    "    print()"
   ]
  },
  {
   "cell_type": "code",
   "execution_count": 56,
   "metadata": {},
   "outputs": [
    {
     "data": {
      "text/plain": [
       "{'n_estimators': [9, 18, 27, 36, 45, 54, 63],\n",
       " 'max_depth': [2, 3, 5, 7],\n",
       " 'min_samples_leaf': [2, 4]}"
      ]
     },
     "execution_count": 56,
     "metadata": {},
     "output_type": "execute_result"
    }
   ],
   "source": [
    "param_grid"
   ]
  },
  {
   "cell_type": "code",
   "execution_count": 57,
   "metadata": {
    "scrolled": true
   },
   "outputs": [
    {
     "name": "stdout",
     "output_type": "stream",
     "text": [
      "Fitting 5 folds for each of 56 candidates, totalling 280 fits\n"
     ]
    },
    {
     "name": "stderr",
     "output_type": "stream",
     "text": [
      "[Parallel(n_jobs=1)]: Using backend SequentialBackend with 1 concurrent workers.\n"
     ]
    },
    {
     "name": "stdout",
     "output_type": "stream",
     "text": [
      "0.98075 {'max_depth': 7, 'min_samples_leaf': 2, 'n_estimators': 63}\n"
     ]
    },
    {
     "name": "stderr",
     "output_type": "stream",
     "text": [
      "[Parallel(n_jobs=1)]: Done 280 out of 280 | elapsed:  1.4min finished\n"
     ]
    }
   ],
   "source": [
    "CV_rfc = GridSearchCV(estimator=rfc, param_grid=param_grid,cv=5,verbose=1)\n",
    "CV_rfc.fit(X=X_train, y=y_train)\n",
    "print (CV_rfc.best_score_, CV_rfc.best_params_) "
   ]
  },
  {
   "cell_type": "code",
   "execution_count": 58,
   "metadata": {},
   "outputs": [
    {
     "data": {
      "text/plain": [
       "{'mean_fit_time': array([0.4620492 , 0.04209533, 0.05066853, 0.06332636, 0.07161574,\n",
       "        0.08327355, 0.09463081, 0.02488298, 0.03863225, 0.05100069,\n",
       "        0.06201067, 0.07404056, 0.08807359, 0.09562259, 0.02520552,\n",
       "        0.04102225, 0.05397582, 0.06386294, 0.07636337, 0.08675418,\n",
       "        0.1145606 , 0.02755461, 0.05111985, 0.05416336, 0.06450839,\n",
       "        0.07559776, 0.08852053, 0.10013752, 0.02622342, 0.04134879,\n",
       "        0.05519233, 0.07318306, 0.09139175, 0.11827998, 0.12455978,\n",
       "        0.02778926, 0.04341021, 0.05734186, 0.07725954, 0.08341622,\n",
       "        0.09581952, 0.11239762, 0.02337246, 0.04081111, 0.05612259,\n",
       "        0.07326884, 0.08574543, 0.09756556, 0.1188282 , 0.02536545,\n",
       "        0.03887253, 0.05307579, 0.07061896, 0.09024782, 0.10119925,\n",
       "        0.11594315]),\n",
       " 'std_fit_time': array([8.73831328e-01, 1.41195252e-03, 2.16555979e-03, 1.85885849e-03,\n",
       "        6.91707999e-04, 1.66118680e-03, 2.89669562e-03, 1.07376880e-03,\n",
       "        1.08331693e-03, 1.46939374e-03, 1.26962718e-03, 1.89861550e-03,\n",
       "        3.11763946e-03, 2.57916861e-03, 4.11386618e-03, 5.91689752e-03,\n",
       "        3.37903388e-03, 1.72064802e-03, 1.73176974e-03, 1.91353621e-03,\n",
       "        1.64600535e-02, 3.26782958e-03, 7.96715613e-03, 2.82397100e-03,\n",
       "        1.83658785e-03, 2.24894023e-03, 1.60139934e-03, 1.53120948e-03,\n",
       "        2.17947025e-03, 2.56324708e-03, 3.14131003e-03, 4.99105223e-03,\n",
       "        8.54926402e-03, 9.70457323e-03, 1.03889378e-02, 2.15301478e-03,\n",
       "        4.60323770e-03, 1.53184649e-03, 9.50299545e-03, 2.22071936e-03,\n",
       "        2.79226265e-03, 3.39488778e-03, 1.66494892e-03, 1.60592424e-03,\n",
       "        3.36295028e-03, 5.84065580e-03, 8.33534016e-04, 1.23607358e-03,\n",
       "        5.07585368e-03, 2.75076626e-03, 2.38722511e-03, 1.98562982e-03,\n",
       "        5.85548605e-03, 4.33107136e-03, 4.98773573e-03, 2.99803427e-03]),\n",
       " 'mean_score_time': array([0.10833602, 0.10669718, 0.10575705, 0.10639329, 0.105936  ,\n",
       "        0.10637212, 0.10638804, 0.10577302, 0.10633039, 0.10611815,\n",
       "        0.10664015, 0.10596681, 0.1063581 , 0.10512724, 0.10573545,\n",
       "        0.10544057, 0.10814052, 0.10507569, 0.10576425, 0.10657721,\n",
       "        0.10735478, 0.1056242 , 0.10526099, 0.10550318, 0.10581703,\n",
       "        0.10703239, 0.10694656, 0.1065558 , 0.10597997, 0.10437179,\n",
       "        0.1059598 , 0.10596309, 0.10586686, 0.10582557, 0.10566621,\n",
       "        0.10591798, 0.10468636, 0.10620818, 0.10578485, 0.10677719,\n",
       "        0.10794492, 0.10531392, 0.10662837, 0.10664611, 0.10632162,\n",
       "        0.10572186, 0.10569425, 0.10789123, 0.10633397, 0.10688033,\n",
       "        0.10506868, 0.10631161, 0.10701342, 0.10515471, 0.107967  ,\n",
       "        0.10686898]),\n",
       " 'std_score_time': array([0.00495046, 0.00170427, 0.00166079, 0.00193457, 0.00179388,\n",
       "        0.0017165 , 0.00130564, 0.00179473, 0.00193755, 0.00173596,\n",
       "        0.00183858, 0.00160463, 0.00229561, 0.00066871, 0.00232578,\n",
       "        0.00247229, 0.00030574, 0.0012087 , 0.00143156, 0.00108905,\n",
       "        0.00116421, 0.00151228, 0.00132749, 0.00256751, 0.00162009,\n",
       "        0.001653  , 0.00233235, 0.00136157, 0.00155761, 0.00174666,\n",
       "        0.00210799, 0.00196524, 0.00117948, 0.00160985, 0.0016589 ,\n",
       "        0.00168863, 0.00129347, 0.00116562, 0.00162487, 0.00140906,\n",
       "        0.00101375, 0.0006089 , 0.00231578, 0.00167037, 0.00071711,\n",
       "        0.00222412, 0.00190223, 0.00114175, 0.00147532, 0.00104516,\n",
       "        0.0019292 , 0.00168555, 0.00174961, 0.00188914, 0.0015568 ,\n",
       "        0.00212169]),\n",
       " 'param_max_depth': masked_array(data=[2, 2, 2, 2, 2, 2, 2, 2, 2, 2, 2, 2, 2, 2, 3, 3, 3, 3,\n",
       "                    3, 3, 3, 3, 3, 3, 3, 3, 3, 3, 5, 5, 5, 5, 5, 5, 5, 5,\n",
       "                    5, 5, 5, 5, 5, 5, 7, 7, 7, 7, 7, 7, 7, 7, 7, 7, 7, 7,\n",
       "                    7, 7],\n",
       "              mask=[False, False, False, False, False, False, False, False,\n",
       "                    False, False, False, False, False, False, False, False,\n",
       "                    False, False, False, False, False, False, False, False,\n",
       "                    False, False, False, False, False, False, False, False,\n",
       "                    False, False, False, False, False, False, False, False,\n",
       "                    False, False, False, False, False, False, False, False,\n",
       "                    False, False, False, False, False, False, False, False],\n",
       "        fill_value='?',\n",
       "             dtype=object),\n",
       " 'param_min_samples_leaf': masked_array(data=[2, 2, 2, 2, 2, 2, 2, 4, 4, 4, 4, 4, 4, 4, 2, 2, 2, 2,\n",
       "                    2, 2, 2, 4, 4, 4, 4, 4, 4, 4, 2, 2, 2, 2, 2, 2, 2, 4,\n",
       "                    4, 4, 4, 4, 4, 4, 2, 2, 2, 2, 2, 2, 2, 4, 4, 4, 4, 4,\n",
       "                    4, 4],\n",
       "              mask=[False, False, False, False, False, False, False, False,\n",
       "                    False, False, False, False, False, False, False, False,\n",
       "                    False, False, False, False, False, False, False, False,\n",
       "                    False, False, False, False, False, False, False, False,\n",
       "                    False, False, False, False, False, False, False, False,\n",
       "                    False, False, False, False, False, False, False, False,\n",
       "                    False, False, False, False, False, False, False, False],\n",
       "        fill_value='?',\n",
       "             dtype=object),\n",
       " 'param_n_estimators': masked_array(data=[9, 18, 27, 36, 45, 54, 63, 9, 18, 27, 36, 45, 54, 63,\n",
       "                    9, 18, 27, 36, 45, 54, 63, 9, 18, 27, 36, 45, 54, 63,\n",
       "                    9, 18, 27, 36, 45, 54, 63, 9, 18, 27, 36, 45, 54, 63,\n",
       "                    9, 18, 27, 36, 45, 54, 63, 9, 18, 27, 36, 45, 54, 63],\n",
       "              mask=[False, False, False, False, False, False, False, False,\n",
       "                    False, False, False, False, False, False, False, False,\n",
       "                    False, False, False, False, False, False, False, False,\n",
       "                    False, False, False, False, False, False, False, False,\n",
       "                    False, False, False, False, False, False, False, False,\n",
       "                    False, False, False, False, False, False, False, False,\n",
       "                    False, False, False, False, False, False, False, False],\n",
       "        fill_value='?',\n",
       "             dtype=object),\n",
       " 'params': [{'max_depth': 2, 'min_samples_leaf': 2, 'n_estimators': 9},\n",
       "  {'max_depth': 2, 'min_samples_leaf': 2, 'n_estimators': 18},\n",
       "  {'max_depth': 2, 'min_samples_leaf': 2, 'n_estimators': 27},\n",
       "  {'max_depth': 2, 'min_samples_leaf': 2, 'n_estimators': 36},\n",
       "  {'max_depth': 2, 'min_samples_leaf': 2, 'n_estimators': 45},\n",
       "  {'max_depth': 2, 'min_samples_leaf': 2, 'n_estimators': 54},\n",
       "  {'max_depth': 2, 'min_samples_leaf': 2, 'n_estimators': 63},\n",
       "  {'max_depth': 2, 'min_samples_leaf': 4, 'n_estimators': 9},\n",
       "  {'max_depth': 2, 'min_samples_leaf': 4, 'n_estimators': 18},\n",
       "  {'max_depth': 2, 'min_samples_leaf': 4, 'n_estimators': 27},\n",
       "  {'max_depth': 2, 'min_samples_leaf': 4, 'n_estimators': 36},\n",
       "  {'max_depth': 2, 'min_samples_leaf': 4, 'n_estimators': 45},\n",
       "  {'max_depth': 2, 'min_samples_leaf': 4, 'n_estimators': 54},\n",
       "  {'max_depth': 2, 'min_samples_leaf': 4, 'n_estimators': 63},\n",
       "  {'max_depth': 3, 'min_samples_leaf': 2, 'n_estimators': 9},\n",
       "  {'max_depth': 3, 'min_samples_leaf': 2, 'n_estimators': 18},\n",
       "  {'max_depth': 3, 'min_samples_leaf': 2, 'n_estimators': 27},\n",
       "  {'max_depth': 3, 'min_samples_leaf': 2, 'n_estimators': 36},\n",
       "  {'max_depth': 3, 'min_samples_leaf': 2, 'n_estimators': 45},\n",
       "  {'max_depth': 3, 'min_samples_leaf': 2, 'n_estimators': 54},\n",
       "  {'max_depth': 3, 'min_samples_leaf': 2, 'n_estimators': 63},\n",
       "  {'max_depth': 3, 'min_samples_leaf': 4, 'n_estimators': 9},\n",
       "  {'max_depth': 3, 'min_samples_leaf': 4, 'n_estimators': 18},\n",
       "  {'max_depth': 3, 'min_samples_leaf': 4, 'n_estimators': 27},\n",
       "  {'max_depth': 3, 'min_samples_leaf': 4, 'n_estimators': 36},\n",
       "  {'max_depth': 3, 'min_samples_leaf': 4, 'n_estimators': 45},\n",
       "  {'max_depth': 3, 'min_samples_leaf': 4, 'n_estimators': 54},\n",
       "  {'max_depth': 3, 'min_samples_leaf': 4, 'n_estimators': 63},\n",
       "  {'max_depth': 5, 'min_samples_leaf': 2, 'n_estimators': 9},\n",
       "  {'max_depth': 5, 'min_samples_leaf': 2, 'n_estimators': 18},\n",
       "  {'max_depth': 5, 'min_samples_leaf': 2, 'n_estimators': 27},\n",
       "  {'max_depth': 5, 'min_samples_leaf': 2, 'n_estimators': 36},\n",
       "  {'max_depth': 5, 'min_samples_leaf': 2, 'n_estimators': 45},\n",
       "  {'max_depth': 5, 'min_samples_leaf': 2, 'n_estimators': 54},\n",
       "  {'max_depth': 5, 'min_samples_leaf': 2, 'n_estimators': 63},\n",
       "  {'max_depth': 5, 'min_samples_leaf': 4, 'n_estimators': 9},\n",
       "  {'max_depth': 5, 'min_samples_leaf': 4, 'n_estimators': 18},\n",
       "  {'max_depth': 5, 'min_samples_leaf': 4, 'n_estimators': 27},\n",
       "  {'max_depth': 5, 'min_samples_leaf': 4, 'n_estimators': 36},\n",
       "  {'max_depth': 5, 'min_samples_leaf': 4, 'n_estimators': 45},\n",
       "  {'max_depth': 5, 'min_samples_leaf': 4, 'n_estimators': 54},\n",
       "  {'max_depth': 5, 'min_samples_leaf': 4, 'n_estimators': 63},\n",
       "  {'max_depth': 7, 'min_samples_leaf': 2, 'n_estimators': 9},\n",
       "  {'max_depth': 7, 'min_samples_leaf': 2, 'n_estimators': 18},\n",
       "  {'max_depth': 7, 'min_samples_leaf': 2, 'n_estimators': 27},\n",
       "  {'max_depth': 7, 'min_samples_leaf': 2, 'n_estimators': 36},\n",
       "  {'max_depth': 7, 'min_samples_leaf': 2, 'n_estimators': 45},\n",
       "  {'max_depth': 7, 'min_samples_leaf': 2, 'n_estimators': 54},\n",
       "  {'max_depth': 7, 'min_samples_leaf': 2, 'n_estimators': 63},\n",
       "  {'max_depth': 7, 'min_samples_leaf': 4, 'n_estimators': 9},\n",
       "  {'max_depth': 7, 'min_samples_leaf': 4, 'n_estimators': 18},\n",
       "  {'max_depth': 7, 'min_samples_leaf': 4, 'n_estimators': 27},\n",
       "  {'max_depth': 7, 'min_samples_leaf': 4, 'n_estimators': 36},\n",
       "  {'max_depth': 7, 'min_samples_leaf': 4, 'n_estimators': 45},\n",
       "  {'max_depth': 7, 'min_samples_leaf': 4, 'n_estimators': 54},\n",
       "  {'max_depth': 7, 'min_samples_leaf': 4, 'n_estimators': 63}],\n",
       " 'split0_test_score': array([0.91260924, 0.90137328, 0.90262172, 0.90262172, 0.90137328,\n",
       "        0.90137328, 0.90636704, 0.90761548, 0.90262172, 0.90636704,\n",
       "        0.90387016, 0.90387016, 0.90262172, 0.90262172, 0.92384519,\n",
       "        0.92009988, 0.92384519, 0.92634207, 0.92384519, 0.92009988,\n",
       "        0.92259675, 0.91510612, 0.92384519, 0.92009988, 0.92134831,\n",
       "        0.91885144, 0.91510612, 0.92759051, 0.96754057, 0.96254682,\n",
       "        0.96379526, 0.96379526, 0.9525593 , 0.96004994, 0.9588015 ,\n",
       "        0.94382022, 0.95505618, 0.96629213, 0.95630462, 0.95505618,\n",
       "        0.95006242, 0.95630462, 0.96878901, 0.98127341, 0.96878901,\n",
       "        0.98252185, 0.97877653, 0.97378277, 0.98876404, 0.97378277,\n",
       "        0.97128589, 0.97627965, 0.98626717, 0.98002497, 0.98252185,\n",
       "        0.97378277]),\n",
       " 'split1_test_score': array([0.91635456, 0.90137328, 0.9051186 , 0.90387016, 0.90137328,\n",
       "        0.90387016, 0.90761548, 0.90262172, 0.91385768, 0.91260924,\n",
       "        0.90262172, 0.90137328, 0.90137328, 0.90262172, 0.92759051,\n",
       "        0.917603  , 0.92259675, 0.93258427, 0.91635456, 0.92134831,\n",
       "        0.92634207, 0.93882647, 0.93508115, 0.92009988, 0.92509363,\n",
       "        0.92009988, 0.92759051, 0.93008739, 0.96629213, 0.9525593 ,\n",
       "        0.96629213, 0.96254682, 0.96379526, 0.97003745, 0.97503121,\n",
       "        0.96878901, 0.94881398, 0.96129838, 0.96129838, 0.96629213,\n",
       "        0.95006242, 0.96754057, 0.98127341, 0.98127341, 0.97378277,\n",
       "        0.98626717, 0.98252185, 0.97627965, 0.98501873, 0.97378277,\n",
       "        0.97378277, 0.98127341, 0.97877653, 0.98377029, 0.97752809,\n",
       "        0.97752809]),\n",
       " 'split2_test_score': array([0.9075 , 0.9025 , 0.9025 , 0.9025 , 0.9025 , 0.905  , 0.90375,\n",
       "        0.91   , 0.91   , 0.9025 , 0.90375, 0.905  , 0.90375, 0.90375,\n",
       "        0.93375, 0.93625, 0.9175 , 0.91   , 0.91625, 0.92125, 0.92   ,\n",
       "        0.91625, 0.92125, 0.91875, 0.9275 , 0.9275 , 0.925  , 0.92   ,\n",
       "        0.965  , 0.95875, 0.95875, 0.96   , 0.9675 , 0.9675 , 0.9575 ,\n",
       "        0.9525 , 0.975  , 0.97   , 0.9575 , 0.96375, 0.975  , 0.96125,\n",
       "        0.9775 , 0.97125, 0.98   , 0.97375, 0.975  , 0.98   , 0.98125,\n",
       "        0.9625 , 0.975  , 0.9725 , 0.97125, 0.975  , 0.97625, 0.97625]),\n",
       " 'split3_test_score': array([0.91239049, 0.90613267, 0.9048811 , 0.90237797, 0.90738423,\n",
       "        0.90738423, 0.90613267, 0.92365457, 0.90863579, 0.90237797,\n",
       "        0.90738423, 0.90613267, 0.90863579, 0.90362954, 0.92866083,\n",
       "        0.92866083, 0.922403  , 0.92490613, 0.92365457, 0.92490613,\n",
       "        0.92866083, 0.92866083, 0.92115144, 0.92490613, 0.91864831,\n",
       "        0.9261577 , 0.93366708, 0.9261577 , 0.95744681, 0.96245307,\n",
       "        0.97121402, 0.95869837, 0.96620776, 0.96620776, 0.96370463,\n",
       "        0.95369212, 0.95869837, 0.97121402, 0.9649562 , 0.96245307,\n",
       "        0.96745932, 0.95994994, 0.97496871, 0.97747184, 0.97997497,\n",
       "        0.97747184, 0.9824781 , 0.97997497, 0.98498123, 0.97622028,\n",
       "        0.97747184, 0.98122653, 0.97997497, 0.98498123, 0.98122653,\n",
       "        0.97997497]),\n",
       " 'split4_test_score': array([0.9048811 , 0.90362954, 0.90237797, 0.90362954, 0.90362954,\n",
       "        0.90362954, 0.90613267, 0.90237797, 0.90613267, 0.90237797,\n",
       "        0.90237797, 0.90362954, 0.90362954, 0.90237797, 0.93742178,\n",
       "        0.91989987, 0.91239049, 0.92365457, 0.91489362, 0.91489362,\n",
       "        0.91989987, 0.93617021, 0.91614518, 0.91864831, 0.9261577 ,\n",
       "        0.922403  , 0.91864831, 0.92490613, 0.93742178, 0.95994994,\n",
       "        0.95994994, 0.95869837, 0.95619524, 0.95994994, 0.95744681,\n",
       "        0.9436796 , 0.94493116, 0.95369212, 0.95369212, 0.95619524,\n",
       "        0.94993742, 0.94868586, 0.9612015 , 0.95619524, 0.96996245,\n",
       "        0.97121402, 0.96245307, 0.97121402, 0.96370463, 0.95869837,\n",
       "        0.96370463, 0.96370463, 0.97371715, 0.96996245, 0.96996245,\n",
       "        0.96871089]),\n",
       " 'mean_test_score': array([0.91075, 0.903  , 0.9035 , 0.903  , 0.90325, 0.90425, 0.906  ,\n",
       "        0.90925, 0.90825, 0.90525, 0.904  , 0.904  , 0.904  , 0.903  ,\n",
       "        0.93025, 0.9245 , 0.91975, 0.9235 , 0.919  , 0.9205 , 0.9235 ,\n",
       "        0.927  , 0.9235 , 0.9205 , 0.92375, 0.923  , 0.924  , 0.92575,\n",
       "        0.95875, 0.95925, 0.964  , 0.96075, 0.96125, 0.96475, 0.9625 ,\n",
       "        0.9525 , 0.9565 , 0.9645 , 0.95875, 0.96075, 0.9585 , 0.95875,\n",
       "        0.97275, 0.9735 , 0.9745 , 0.97825, 0.97625, 0.97625, 0.98075,\n",
       "        0.969  , 0.97225, 0.975  , 0.978  , 0.97875, 0.9775 , 0.97525]),\n",
       " 'std_test_score': array([0.00406356, 0.00177461, 0.00122946, 0.00062188, 0.00222844,\n",
       "        0.001959  , 0.00125264, 0.00776691, 0.0037654 , 0.00398784,\n",
       "        0.00179152, 0.00158775, 0.00246875, 0.00057119, 0.00478115,\n",
       "        0.00697856, 0.00426831, 0.0074157 , 0.0039129 , 0.00323188,\n",
       "        0.00348425, 0.00983856, 0.00630884, 0.00228899, 0.00326894,\n",
       "        0.00335314, 0.00655818, 0.00335165, 0.0112197 , 0.00365213,\n",
       "        0.00449943, 0.00207307, 0.00585216, 0.00406957, 0.00667646,\n",
       "        0.00916753, 0.01041137, 0.0064096 , 0.00395148, 0.00437791,\n",
       "        0.01066029, 0.00620011, 0.00705873, 0.00939044, 0.00477331,\n",
       "        0.00553037, 0.00743232, 0.00344516, 0.00884152, 0.00701591,\n",
       "        0.00471192, 0.00653363, 0.00523093, 0.00560052, 0.00441423,\n",
       "        0.00383029]),\n",
       " 'rank_test_score': array([43, 54, 52, 54, 53, 48, 46, 44, 45, 47, 49, 49, 49, 54, 29, 32, 41,\n",
       "        35, 42, 39, 35, 30, 35, 39, 34, 38, 33, 31, 23, 22, 17, 20, 19, 15,\n",
       "        18, 28, 27, 16, 23, 20, 26, 23, 12, 11, 10,  3,  6,  6,  1, 14, 13,\n",
       "         9,  4,  2,  5,  8], dtype=int32),\n",
       " 'split0_train_score': array([0.90934667, 0.90246952, 0.90340731, 0.90371991, 0.90215692,\n",
       "        0.90215692, 0.90371991, 0.90684589, 0.90684589, 0.90465771,\n",
       "        0.9055955 , 0.90246952, 0.90403251, 0.90215692, 0.92497656,\n",
       "        0.92216318, 0.92372616, 0.92904033, 0.9190372 , 0.92278837,\n",
       "        0.92622695, 0.9187246 , 0.92716474, 0.92060019, 0.92528915,\n",
       "        0.92403876, 0.92435136, 0.92622695, 0.97686777, 0.97061582,\n",
       "        0.97155361, 0.9734292 , 0.96155048, 0.97092842, 0.96592685,\n",
       "        0.95404814, 0.96123789, 0.97624258, 0.97186621, 0.96530166,\n",
       "        0.9596749 , 0.97030322, 0.97655517, 0.98499531, 0.98249453,\n",
       "        0.98905908, 0.98749609, 0.98311972, 0.99093467, 0.98249453,\n",
       "        0.98186933, 0.98311972, 0.98874648, 0.98530791, 0.9859331 ,\n",
       "        0.98468271]),\n",
       " 'split1_train_score': array([0.91559862, 0.90278212, 0.90434511, 0.9055955 , 0.90309472,\n",
       "        0.90434511, 0.90653329, 0.90340731, 0.90903407, 0.91528603,\n",
       "        0.9055955 , 0.90403251, 0.90309472, 0.90403251, 0.93372929,\n",
       "        0.91778681, 0.92372616, 0.9327915 , 0.9193498 , 0.92153798,\n",
       "        0.93122851, 0.93810566, 0.93466708, 0.92153798, 0.92497656,\n",
       "        0.9190372 , 0.92810253, 0.93060331, 0.96905283, 0.95811191,\n",
       "        0.96842763, 0.96999062, 0.96874023, 0.9731166 , 0.97655517,\n",
       "        0.97374179, 0.95779931, 0.96686465, 0.96905283, 0.96623945,\n",
       "        0.95842451, 0.972804  , 0.9862457 , 0.9862457 , 0.98405752,\n",
       "        0.99030947, 0.9862457 , 0.9859331 , 0.98718349, 0.98124414,\n",
       "        0.97843076, 0.98405752, 0.98155674, 0.9859331 , 0.98530791,\n",
       "        0.98280713]),\n",
       " 'split2_train_score': array([0.906875 , 0.903125 , 0.9025   , 0.901875 , 0.9053125, 0.9065625,\n",
       "        0.9059375, 0.9071875, 0.909375 , 0.901875 , 0.9065625, 0.9075   ,\n",
       "        0.905    , 0.904375 , 0.9296875, 0.936875 , 0.921875 , 0.9175   ,\n",
       "        0.9234375, 0.920625 , 0.9278125, 0.92875  , 0.9265625, 0.9240625,\n",
       "        0.9275   , 0.9253125, 0.9278125, 0.93125  , 0.9646875, 0.960625 ,\n",
       "        0.95875  , 0.9659375, 0.969375 , 0.9678125, 0.964375 , 0.954375 ,\n",
       "        0.9715625, 0.968125 , 0.9615625, 0.96375  , 0.9753125, 0.9615625,\n",
       "        0.98375  , 0.9859375, 0.9896875, 0.98625  , 0.9871875, 0.9884375,\n",
       "        0.9884375, 0.9690625, 0.9803125, 0.9821875, 0.9790625, 0.98875  ,\n",
       "        0.9865625, 0.9878125]),\n",
       " 'split3_train_score': array([0.90940331, 0.90378007, 0.90284286, 0.90253046, 0.90471728,\n",
       "        0.90440487, 0.90378007, 0.9212746 , 0.9081537 , 0.90346767,\n",
       "        0.90409247, 0.90471728, 0.9075289 , 0.90221806, 0.92783505,\n",
       "        0.92814745, 0.9206498 , 0.9206498 , 0.92471103, 0.9206498 ,\n",
       "        0.92346142, 0.92408622, 0.91815058, 0.92283661, 0.91627616,\n",
       "        0.9212746 , 0.92721025, 0.92596064, 0.95345205, 0.96938457,\n",
       "        0.96407373, 0.95751328, 0.96844736, 0.97125898, 0.96782256,\n",
       "        0.95157763, 0.96188691, 0.97625742, 0.96719775, 0.96219931,\n",
       "        0.96813496, 0.9600125 , 0.9868791 , 0.98781631, 0.98406748,\n",
       "        0.98469228, 0.98750391, 0.98844111, 0.9868791 , 0.98750391,\n",
       "        0.98313027, 0.98562949, 0.98437988, 0.9868791 , 0.98562949,\n",
       "        0.98750391]),\n",
       " 'split4_train_score': array([0.90596689, 0.90534208, 0.90253046, 0.90502968, 0.90596689,\n",
       "        0.90346767, 0.9075289 , 0.90221806, 0.90659169, 0.90378007,\n",
       "        0.90284286, 0.90596689, 0.9081537 , 0.90659169, 0.94595439,\n",
       "        0.92408622, 0.92377382, 0.9347079 , 0.91783818, 0.92439863,\n",
       "        0.92471103, 0.94814121, 0.91877538, 0.92814745, 0.93345829,\n",
       "        0.92752265, 0.92533583, 0.93064667, 0.96188691, 0.97250859,\n",
       "        0.97250859, 0.97563261, 0.97063418, 0.97532021, 0.97282099,\n",
       "        0.95907529, 0.96532334, 0.96782256, 0.97032177, 0.97063418,\n",
       "        0.96626054, 0.96563574, 0.98031865, 0.97875664, 0.98531709,\n",
       "        0.9868791 , 0.9865667 , 0.98812871, 0.9868791 , 0.97688222,\n",
       "        0.98344267, 0.98156826, 0.98594189, 0.9862543 , 0.9865667 ,\n",
       "        0.9868791 ]),\n",
       " 'mean_train_score': array([0.9094381 , 0.90349976, 0.90312515, 0.90375011, 0.90424966,\n",
       "        0.90418741, 0.90549993, 0.90818667, 0.90800007, 0.90581329,\n",
       "        0.90493777, 0.90493724, 0.90556197, 0.90387484, 0.93243656,\n",
       "        0.92581173, 0.92275019, 0.9269379 , 0.92087474, 0.92199995,\n",
       "        0.92668808, 0.93156154, 0.92506406, 0.92343695, 0.92550003,\n",
       "        0.92343714, 0.92656249, 0.92893751, 0.96518941, 0.96624918,\n",
       "        0.96706271, 0.96850064, 0.96774945, 0.97168734, 0.96950011,\n",
       "        0.95856357, 0.96356199, 0.97106244, 0.96800021, 0.96562492,\n",
       "        0.96556148, 0.96606359, 0.98274973, 0.98475029, 0.98512482,\n",
       "        0.98743799, 0.98699998, 0.98681203, 0.98806277, 0.97943746,\n",
       "        0.98143711, 0.9833125 , 0.9839375 , 0.98662488, 0.98599994,\n",
       "        0.98593707]),\n",
       " 'std_train_score': array([0.00336394, 0.00101878, 0.00069167, 0.00141755, 0.00141496,\n",
       "        0.00143904, 0.00151673, 0.00681992, 0.0011224 , 0.00482108,\n",
       "        0.00131211, 0.00170789, 0.00196613, 0.00163416, 0.00733193,\n",
       "        0.00645818, 0.00127518, 0.00674792, 0.00269101, 0.00143541,\n",
       "        0.00269861, 0.01045259, 0.00610279, 0.00263036, 0.00552688,\n",
       "        0.00298685, 0.00146613, 0.00233464, 0.00774899, 0.00576064,\n",
       "        0.0050936 , 0.00639793, 0.00318936, 0.00249056, 0.00453103,\n",
       "        0.00796714, 0.00465889, 0.00425602, 0.00356459, 0.00285744,\n",
       "        0.00612833, 0.00490849, 0.00386152, 0.00313146, 0.00245074,\n",
       "        0.00200678, 0.00050831, 0.00207052, 0.00154683, 0.00619429,\n",
       "        0.00186434, 0.00143308, 0.00336967, 0.00117738, 0.00050166,\n",
       "        0.00190943])}"
      ]
     },
     "execution_count": 58,
     "metadata": {},
     "output_type": "execute_result"
    }
   ],
   "source": [
    "CV_rfc.cv_results_"
   ]
  },
  {
   "cell_type": "code",
   "execution_count": 59,
   "metadata": {},
   "outputs": [
    {
     "name": "stdout",
     "output_type": "stream",
     "text": [
      "0.977\n"
     ]
    }
   ],
   "source": [
    "y_pred_test=CV_rfc.predict(X_test)\n",
    "print(accuracy_score(y_test,y_pred_test))"
   ]
  },
  {
   "cell_type": "code",
   "execution_count": 60,
   "metadata": {},
   "outputs": [
    {
     "name": "stdout",
     "output_type": "stream",
     "text": [
      "0.7613636363636364\n"
     ]
    }
   ],
   "source": [
    "from sklearn.metrics import recall_score\n",
    "print(recall_score(y_test,y_pred_test, pos_label=1, average='binary'))"
   ]
  },
  {
   "cell_type": "markdown",
   "metadata": {},
   "source": [
    "#### Bagging"
   ]
  },
  {
   "cell_type": "code",
   "execution_count": 63,
   "metadata": {},
   "outputs": [],
   "source": [
    "from sklearn.ensemble import BaggingClassifier"
   ]
  },
  {
   "cell_type": "code",
   "execution_count": 64,
   "metadata": {},
   "outputs": [
    {
     "data": {
      "text/plain": [
       "BaggingClassifier(base_estimator=None, bootstrap=True,\n",
       "         bootstrap_features=False, max_features=1.0, max_samples=1.0,\n",
       "         n_estimators=10, n_jobs=None, oob_score=False, random_state=None,\n",
       "         verbose=0, warm_start=False)"
      ]
     },
     "execution_count": 64,
     "metadata": {},
     "output_type": "execute_result"
    }
   ],
   "source": [
    "clf = BaggingClassifier(n_estimators=10)\n",
    "clf.fit(X=X_train, y=y_train)"
   ]
  },
  {
   "cell_type": "markdown",
   "metadata": {},
   "source": [
    "#### Accuracy on testdata"
   ]
  },
  {
   "cell_type": "code",
   "execution_count": 65,
   "metadata": {},
   "outputs": [
    {
     "name": "stdout",
     "output_type": "stream",
     "text": [
      "0.983\n"
     ]
    }
   ],
   "source": [
    "y_pred = clf.predict(X_test)\n",
    "print(accuracy_score(y_test,y_pred))"
   ]
  },
  {
   "cell_type": "markdown",
   "metadata": {},
   "source": [
    "#### Accuracy on train data"
   ]
  },
  {
   "cell_type": "code",
   "execution_count": 66,
   "metadata": {},
   "outputs": [
    {
     "name": "stdout",
     "output_type": "stream",
     "text": [
      "0.9985\n"
     ]
    }
   ],
   "source": [
    "y_pred = clf.predict(X_train)\n",
    "print(accuracy_score(y_train,y_pred))"
   ]
  },
  {
   "cell_type": "code",
   "execution_count": 67,
   "metadata": {},
   "outputs": [
    {
     "name": "stdout",
     "output_type": "stream",
     "text": [
      "0.20.2\n"
     ]
    }
   ],
   "source": [
    "import sklearn\n",
    "print(sklearn.__version__)"
   ]
  },
  {
   "cell_type": "code",
   "execution_count": 68,
   "metadata": {},
   "outputs": [
    {
     "data": {
      "text/plain": [
       "GridSearchCV(cv='warn', error_score='raise-deprecating',\n",
       "       estimator=BaggingClassifier(base_estimator=DecisionTreeClassifier(class_weight=None, criterion='gini', max_depth=None,\n",
       "            max_features=None, max_leaf_nodes=None,\n",
       "            min_impurity_decrease=0.0, min_impurity_split=None,\n",
       "            min_samples_leaf=1, min_samples_split=2,\n",
       "            ...timators=100, n_jobs=None, oob_score=False,\n",
       "         random_state=None, verbose=0, warm_start=False),\n",
       "       fit_params=None, iid='warn', n_jobs=None,\n",
       "       param_grid={'base_estimator__max_depth': [1, 2, 3, 4, 5], 'max_samples': [0.05, 0.1, 0.2, 0.5]},\n",
       "       pre_dispatch='2*n_jobs', refit=True, return_train_score='warn',\n",
       "       scoring='recall', verbose=0)"
      ]
     },
     "execution_count": 68,
     "metadata": {},
     "output_type": "execute_result"
    }
   ],
   "source": [
    "from sklearn.tree import DecisionTreeClassifier \n",
    "param_grid = {\n",
    "    'base_estimator__max_depth' : [1, 2, 3, 4, 5],\n",
    "    'max_samples' : [0.05, 0.1, 0.2, 0.5]\n",
    "}\n",
    "\n",
    "clf = GridSearchCV(BaggingClassifier(DecisionTreeClassifier(),\n",
    "                                     n_estimators = 100, max_features = 0.5),\n",
    "                   param_grid,scoring='recall')\n",
    "clf.fit(X_train, y_train)"
   ]
  },
  {
   "cell_type": "code",
   "execution_count": 69,
   "metadata": {},
   "outputs": [
    {
     "name": "stdout",
     "output_type": "stream",
     "text": [
      "0.46932448620082207 {'base_estimator__max_depth': 5, 'max_samples': 0.5}\n"
     ]
    }
   ],
   "source": [
    "print(clf.best_score_,clf.best_params_)"
   ]
  },
  {
   "cell_type": "code",
   "execution_count": 70,
   "metadata": {},
   "outputs": [
    {
     "name": "stdout",
     "output_type": "stream",
     "text": [
      "0.5586734693877551\n",
      "0.95675\n"
     ]
    }
   ],
   "source": [
    "\n",
    "from sklearn.metrics import recall_score\n",
    "trainpreds=clf.predict(X_train)\n",
    "print(recall_score(y_train,trainpreds,pos_label=1))# recall\n",
    "print(accuracy_score(y_train,trainpreds))# accuracy"
   ]
  },
  {
   "cell_type": "code",
   "execution_count": null,
   "metadata": {},
   "outputs": [],
   "source": []
  },
  {
   "cell_type": "code",
   "execution_count": null,
   "metadata": {},
   "outputs": [],
   "source": []
  },
  {
   "cell_type": "code",
   "execution_count": null,
   "metadata": {},
   "outputs": [],
   "source": []
  }
 ],
 "metadata": {
  "anaconda-cloud": {},
  "kernelspec": {
   "display_name": "Python 3",
   "language": "python",
   "name": "python3"
  },
  "language_info": {
   "codemirror_mode": {
    "name": "ipython",
    "version": 3
   },
   "file_extension": ".py",
   "mimetype": "text/x-python",
   "name": "python",
   "nbconvert_exporter": "python",
   "pygments_lexer": "ipython3",
   "version": "3.6.7"
  }
 },
 "nbformat": 4,
 "nbformat_minor": 2
}
