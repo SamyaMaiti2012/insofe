{
 "cells": [
  {
   "cell_type": "markdown",
   "metadata": {},
   "source": [
    "# Image Classification"
   ]
  },
  {
   "cell_type": "markdown",
   "metadata": {},
   "source": [
    "## Problem Description\n",
    "The data consists of images pertaining to 10 categories. \n",
    "\n",
    "__The task is to train a convolutional neural net in keras for classifying these images.__\n",
    "\n",
    "With the advent of networks like Alexnet, VGG, Inception etc., building an architecture is no more an issue for generic classification tasks. The purpose here is to get familiar with Convolutional Architectures, Keras API & hyper parameter tuning and validating the results.\n",
    "\n",
    "## Takeaways\n",
    "You should have thorough understanding of the following concepts. \n",
    "\n",
    "1. Loss/Cost functions\n",
    "\n",
    "2. Deep Convolutional Nets\n",
    "\n",
    "3. Transfer Learning\n",
    "\n",
    "4. Image Augmentation\n",
    "\n",
    "5. How to train CNNs with less data\n",
    "\n",
    "6. Validating results\n"
   ]
  },
  {
   "cell_type": "markdown",
   "metadata": {},
   "source": [
    "## Load required library"
   ]
  },
  {
   "cell_type": "code",
   "execution_count": 128,
   "metadata": {
    "ExecuteTime": {
     "end_time": "2019-04-26T04:22:31.250755Z",
     "start_time": "2019-04-26T04:22:26.604562Z"
    }
   },
   "outputs": [],
   "source": [
    "import os\n",
    "import cv2\n",
    "import matplotlib.pyplot as plt\n",
    "import random \n",
    "import numpy as np\n",
    "from keras.preprocessing.image import ImageDataGenerator\n",
    "import shutil\n",
    "import math\n",
    "from keras.models import Sequential, Model\n",
    "from keras.layers import Dense, Dropout, Flatten, Input\n",
    "from keras.layers import MaxPooling2D, Convolution2D\n",
    "from keras.optimizers import Adam\n",
    "from keras.applications.vgg16 import VGG16\n",
    "from keras.models import model_from_json, load_model\n",
    "from keras.callbacks import EarlyStopping\n",
    "\n",
    "\n",
    "%matplotlib inline"
   ]
  },
  {
   "cell_type": "markdown",
   "metadata": {},
   "source": [
    "## Define constants"
   ]
  },
  {
   "cell_type": "code",
   "execution_count": 129,
   "metadata": {
    "ExecuteTime": {
     "end_time": "2019-04-26T04:22:31.256005Z",
     "start_time": "2019-04-26T04:22:31.253380Z"
    }
   },
   "outputs": [],
   "source": [
    "img_rows=224\n",
    "img_cols=224\n",
    "num_channel=3\n",
    "\n",
    "num_epoch=100\n",
    "batch_size=32\n"
   ]
  },
  {
   "cell_type": "markdown",
   "metadata": {},
   "source": [
    "## Load the dataset"
   ]
  },
  {
   "cell_type": "code",
   "execution_count": 130,
   "metadata": {},
   "outputs": [
    {
     "name": "stdout",
     "output_type": "stream",
     "text": [
      "test\n",
      "train\n",
      "\n"
     ]
    }
   ],
   "source": [
    "\n",
    "from subprocess import check_output\n",
    "print(check_output([\"ls\", \"../input/10_categories/10_categories\"]).decode(\"utf8\"))\n",
    "\n",
    "\n"
   ]
  },
  {
   "cell_type": "code",
   "execution_count": 131,
   "metadata": {
    "ExecuteTime": {
     "end_time": "2019-04-26T04:22:31.266888Z",
     "start_time": "2019-04-26T04:22:31.258662Z"
    }
   },
   "outputs": [
    {
     "name": "stdout",
     "output_type": "stream",
     "text": [
      "['Faces', 'watch', 'BACKGROUND_Google', 'airplanes', 'car_side', 'grand_piano', 'Motorbikes', 'bonsai', 'Leopards', 'Faces_easy']\n"
     ]
    }
   ],
   "source": [
    "PATH = os.getcwd()\n",
    "DATA_PATH = os.path.join(PATH, '../input/10_categories/10_categories/train')\n",
    "data_dir_list = os.listdir(DATA_PATH)\n",
    "print(data_dir_list)\n",
    "\n",
    "TRN_AUGMENTED = os.path.join(PATH , 'Trn_Augmented_Images')\n",
    "TST_AUGMENTED = os.path.join(PATH , 'Tst_Augmented_Images')"
   ]
  },
  {
   "cell_type": "markdown",
   "metadata": {},
   "source": [
    "### Generate Test data"
   ]
  },
  {
   "cell_type": "raw",
   "metadata": {
    "ExecuteTime": {
     "end_time": "2019-04-25T14:29:15.601390Z",
     "start_time": "2019-04-25T14:29:14.975958Z"
    }
   },
   "source": [
    "*** Need to run once only, while generating test data from train data ***\n",
    "#Move some of provided data to test folder as unseen data\n",
    "\n",
    "for dataset in data_dir_list:\n",
    "    files = os.listdir(DATA_PATH + '/' + dataset)\n",
    "    for fileName in random.sample(files, math.floor(len(files)*.2)):    # 20% images kept seperately for testing\n",
    "        fromPath = os.path.join(DATA_PATH, dataset, fileName)\n",
    "        toPath = os.path.join(PATH,'10_categories/test/' , dataset)\n",
    "        if not os.path.exists(toPath):\n",
    "            os.mkdir(toPath)\n",
    "        shutil.move(fromPath, toPath)"
   ]
  },
  {
   "cell_type": "markdown",
   "metadata": {},
   "source": [
    "### Using Image Data Generator & flow_from_directory : with data augmentation"
   ]
  },
  {
   "cell_type": "raw",
   "metadata": {
    "ExecuteTime": {
     "end_time": "2019-04-26T04:22:31.272801Z",
     "start_time": "2019-04-26T04:22:31.269668Z"
    }
   },
   "source": [
    "#Generate batches of tensor image data with real-time data augmentation. \n",
    "#The data will be looped over (in batches).\n",
    "data_gen = ImageDataGenerator(\n",
    "    rotation_range=20,\n",
    "    shear_range=0.5, \n",
    "    zoom_range=0.4, \n",
    "    rescale=1./255,\n",
    "    vertical_flip=True, \n",
    "    validation_split=0.2,    #Fraction of images reserved for validation\n",
    "    width_shift_range=0.2,\n",
    "    height_shift_range=0.2,\n",
    "    horizontal_flip=True) "
   ]
  },
  {
   "cell_type": "raw",
   "metadata": {
    "ExecuteTime": {
     "end_time": "2019-04-26T04:22:31.494242Z",
     "start_time": "2019-04-26T04:22:31.275798Z"
    }
   },
   "source": [
    "#Takes the path to a directory & generates batches of augmented data.\n",
    "\n",
    "#Train data generator\n",
    "train_generator = data_gen.flow_from_directory(\n",
    "        DATA_PATH,\n",
    "        target_size=(img_rows, img_cols), \n",
    "        batch_size=batch_size,\n",
    "        class_mode='categorical', #One of \"categorical\", \"binary\", \"sparse\", \"input\", or None. \n",
    "                                  #Default: \"categorical\". \n",
    "                                  #Determines the type of label arrays that are returned\n",
    "        color_mode='rgb', \n",
    "        shuffle=True,  \n",
    "        save_to_dir=TRN_AUGMENTED, \n",
    "        save_prefix='TrainAugmented', \n",
    "        save_format='png', \n",
    "        subset=\"training\")"
   ]
  },
  {
   "cell_type": "raw",
   "metadata": {
    "ExecuteTime": {
     "end_time": "2019-04-26T04:22:31.604427Z",
     "start_time": "2019-04-26T04:22:31.495977Z"
    }
   },
   "source": [
    "#Validation data generator\n",
    "\n",
    "val_generator = data_gen.flow_from_directory(\n",
    "        DATA_PATH,\n",
    "        target_size=(img_rows, img_cols),\n",
    "        batch_size=batch_size,\n",
    "        class_mode='categorical',\n",
    "        color_mode='rgb', \n",
    "        shuffle=True, \n",
    "        seed=None, \n",
    "        save_to_dir=TST_AUGMENTED, \n",
    "        save_prefix='TestAugmented', \n",
    "        save_format='png',\n",
    "        subset=\"validation\")"
   ]
  },
  {
   "cell_type": "markdown",
   "metadata": {},
   "source": [
    "### Using Image Data Generator & flow_from_directory : with-out data augmentation"
   ]
  },
  {
   "cell_type": "code",
   "execution_count": 132,
   "metadata": {
    "ExecuteTime": {
     "end_time": "2019-04-25T19:24:54.886130Z",
     "start_time": "2019-04-25T19:24:54.883025Z"
    }
   },
   "outputs": [],
   "source": [
    "data_gen = ImageDataGenerator(rescale=1./255, validation_split=0.2)"
   ]
  },
  {
   "cell_type": "code",
   "execution_count": 133,
   "metadata": {
    "ExecuteTime": {
     "end_time": "2019-04-25T19:24:55.109301Z",
     "start_time": "2019-04-25T19:24:54.887752Z"
    }
   },
   "outputs": [
    {
     "name": "stdout",
     "output_type": "stream",
     "text": [
      "Found 2391 images belonging to 10 classes.\n"
     ]
    }
   ],
   "source": [
    "#Takes the path to a directory & generates batches of augmented data.\n",
    "\n",
    "#Train data generator\n",
    "train_generator = data_gen.flow_from_directory(\n",
    "        DATA_PATH,\n",
    "        target_size=(img_rows, img_cols), \n",
    "        batch_size=batch_size,\n",
    "        class_mode='categorical', #One of \"categorical\", \"binary\", \"sparse\", \"input\", or None. \n",
    "                                  #Default: \"categorical\". \n",
    "                                  #Determines the type of label arrays that are returned\n",
    "        color_mode='rgb', \n",
    "        shuffle=True,  \n",
    "        subset=\"training\")"
   ]
  },
  {
   "cell_type": "code",
   "execution_count": 134,
   "metadata": {
    "ExecuteTime": {
     "end_time": "2019-04-25T19:24:55.221859Z",
     "start_time": "2019-04-25T19:24:55.111074Z"
    }
   },
   "outputs": [
    {
     "name": "stdout",
     "output_type": "stream",
     "text": [
      "Found 592 images belonging to 10 classes.\n"
     ]
    }
   ],
   "source": [
    "#Validation data generator\n",
    "\n",
    "val_generator = data_gen.flow_from_directory(\n",
    "        DATA_PATH,\n",
    "        target_size=(img_rows, img_cols),\n",
    "        batch_size=batch_size,\n",
    "        class_mode='categorical',\n",
    "        color_mode='rgb', \n",
    "        shuffle=True, \n",
    "        subset=\"validation\")"
   ]
  },
  {
   "cell_type": "markdown",
   "metadata": {},
   "source": [
    "## Data Analysis"
   ]
  },
  {
   "cell_type": "code",
   "execution_count": 135,
   "metadata": {
    "ExecuteTime": {
     "end_time": "2019-04-26T04:22:31.610493Z",
     "start_time": "2019-04-26T04:22:31.606861Z"
    }
   },
   "outputs": [
    {
     "name": "stdout",
     "output_type": "stream",
     "text": [
      "{'BACKGROUND_Google': 0, 'Faces': 1, 'Faces_easy': 2, 'Leopards': 3, 'Motorbikes': 4, 'airplanes': 5, 'bonsai': 6, 'car_side': 7, 'grand_piano': 8, 'watch': 9}\n",
      "{'BACKGROUND_Google': 0, 'Faces': 1, 'Faces_easy': 2, 'Leopards': 3, 'Motorbikes': 4, 'airplanes': 5, 'bonsai': 6, 'car_side': 7, 'grand_piano': 8, 'watch': 9}\n"
     ]
    }
   ],
   "source": [
    "#Lables assigned to each class of images\n",
    "print(train_generator.class_indices)\n",
    "print(val_generator.class_indices)"
   ]
  },
  {
   "cell_type": "code",
   "execution_count": 136,
   "metadata": {
    "ExecuteTime": {
     "end_time": "2019-04-26T04:22:31.616817Z",
     "start_time": "2019-04-26T04:22:31.612664Z"
    }
   },
   "outputs": [
    {
     "name": "stdout",
     "output_type": "stream",
     "text": [
      "(array([0, 1, 2, 3, 4, 5, 6, 7, 8, 9], dtype=int32), array([300, 279, 279, 128, 512, 512,  83,  80,  64, 154]))\n",
      "(array([0, 1, 2, 3, 4, 5, 6, 7, 8, 9], dtype=int32), array([ 74,  69,  69,  32, 127, 128,  20,  19,  16,  38]))\n"
     ]
    }
   ],
   "source": [
    "# Dist of training data across classes\n",
    "print(np.unique(train_generator.classes, return_counts=True))\n",
    "\n",
    "# Dist of training data across classes\n",
    "print(np.unique(val_generator.classes, return_counts=True))"
   ]
  },
  {
   "cell_type": "markdown",
   "metadata": {},
   "source": [
    "__Observation :__\n",
    "\n",
    "1. Dataset is not balanced.\n",
    "\n",
    "2. It is a multi-class classification problem, we will go ahead with __Accuracy__."
   ]
  },
  {
   "cell_type": "markdown",
   "metadata": {},
   "source": [
    "## Building a custom CNN from scratch : Baseline"
   ]
  },
  {
   "cell_type": "markdown",
   "metadata": {},
   "source": [
    "### Model Building"
   ]
  },
  {
   "cell_type": "markdown",
   "metadata": {},
   "source": [
    "#### Using custom CNN"
   ]
  },
  {
   "cell_type": "code",
   "execution_count": 137,
   "metadata": {
    "ExecuteTime": {
     "end_time": "2019-04-26T04:22:31.778427Z",
     "start_time": "2019-04-26T04:22:31.619313Z"
    },
    "scrolled": true
   },
   "outputs": [
    {
     "name": "stdout",
     "output_type": "stream",
     "text": [
      "_________________________________________________________________\n",
      "Layer (type)                 Output Shape              Param #   \n",
      "=================================================================\n",
      "conv2d_17 (Conv2D)           (None, 224, 224, 32)      896       \n",
      "_________________________________________________________________\n",
      "conv2d_18 (Conv2D)           (None, 222, 222, 32)      9248      \n",
      "_________________________________________________________________\n",
      "max_pooling2d_9 (MaxPooling2 (None, 111, 111, 32)      0         \n",
      "_________________________________________________________________\n",
      "conv2d_19 (Conv2D)           (None, 111, 111, 64)      18496     \n",
      "_________________________________________________________________\n",
      "conv2d_20 (Conv2D)           (None, 109, 109, 64)      36928     \n",
      "_________________________________________________________________\n",
      "max_pooling2d_10 (MaxPooling (None, 54, 54, 64)        0         \n",
      "_________________________________________________________________\n",
      "flatten_5 (Flatten)          (None, 186624)            0         \n",
      "_________________________________________________________________\n",
      "dense_9 (Dense)              (None, 512)               95552000  \n",
      "_________________________________________________________________\n",
      "dropout_5 (Dropout)          (None, 512)               0         \n",
      "_________________________________________________________________\n",
      "dense_10 (Dense)             (None, 10)                5130      \n",
      "=================================================================\n",
      "Total params: 95,622,698\n",
      "Trainable params: 95,622,698\n",
      "Non-trainable params: 0\n",
      "_________________________________________________________________\n"
     ]
    }
   ],
   "source": [
    "def hand_crafter_CNN(nb_classes, learn_rate, input_shape ):\n",
    "    model = Sequential()\n",
    "    \n",
    "    model.add(Convolution2D(filters=32,kernel_size=(3, 3),padding='same',input_shape=input_shape,activation='relu'))\n",
    "    model.add(Convolution2D(filters=32,kernel_size=(3, 3), activation='relu'))\n",
    "    model.add(MaxPooling2D(pool_size=(2, 2)))\n",
    "\n",
    "    model.add(Convolution2D(filters=64, kernel_size=(3, 3), padding='same', activation='relu'))\n",
    "    model.add(Convolution2D(filters=64, kernel_size=(3, 3), activation='relu'))\n",
    "    model.add(MaxPooling2D(pool_size=(2, 2)))\n",
    "\n",
    "    model.add(Flatten())\n",
    "    model.add(Dense(512, activation='relu'))\n",
    "    model.add(Dropout(0.5))\n",
    "    model.add(Dense(nb_classes, activation='softmax'))\n",
    "    \n",
    "    adam = Adam(lr=learn_rate, beta_1=.9, beta_2=.99)\n",
    "    model.compile(loss='categorical_crossentropy',metrics=['accuracy'],optimizer=adam)\n",
    "    \n",
    "    return(model)\n",
    "\n",
    "\n",
    "model = hand_crafter_CNN(nb_classes=train_generator.num_classes, learn_rate=0.001, input_shape=(img_rows,img_cols,num_channel))\n",
    "model.summary()"
   ]
  },
  {
   "cell_type": "markdown",
   "metadata": {},
   "source": [
    "#### Understand model parameters"
   ]
  },
  {
   "cell_type": "code",
   "execution_count": 138,
   "metadata": {
    "ExecuteTime": {
     "end_time": "2019-04-26T04:22:31.788729Z",
     "start_time": "2019-04-26T04:22:31.780191Z"
    },
    "scrolled": true
   },
   "outputs": [
    {
     "data": {
      "text/plain": [
       "{'name': 'sequential_5',\n",
       " 'layers': [{'class_name': 'Conv2D',\n",
       "   'config': {'name': 'conv2d_17',\n",
       "    'trainable': True,\n",
       "    'batch_input_shape': (None, 224, 224, 3),\n",
       "    'dtype': 'float32',\n",
       "    'filters': 32,\n",
       "    'kernel_size': (3, 3),\n",
       "    'strides': (1, 1),\n",
       "    'padding': 'same',\n",
       "    'data_format': 'channels_last',\n",
       "    'dilation_rate': (1, 1),\n",
       "    'activation': 'relu',\n",
       "    'use_bias': True,\n",
       "    'kernel_initializer': {'class_name': 'VarianceScaling',\n",
       "     'config': {'scale': 1.0,\n",
       "      'mode': 'fan_avg',\n",
       "      'distribution': 'uniform',\n",
       "      'seed': None}},\n",
       "    'bias_initializer': {'class_name': 'Zeros', 'config': {}},\n",
       "    'kernel_regularizer': None,\n",
       "    'bias_regularizer': None,\n",
       "    'activity_regularizer': None,\n",
       "    'kernel_constraint': None,\n",
       "    'bias_constraint': None}},\n",
       "  {'class_name': 'Conv2D',\n",
       "   'config': {'name': 'conv2d_18',\n",
       "    'trainable': True,\n",
       "    'filters': 32,\n",
       "    'kernel_size': (3, 3),\n",
       "    'strides': (1, 1),\n",
       "    'padding': 'valid',\n",
       "    'data_format': 'channels_last',\n",
       "    'dilation_rate': (1, 1),\n",
       "    'activation': 'relu',\n",
       "    'use_bias': True,\n",
       "    'kernel_initializer': {'class_name': 'VarianceScaling',\n",
       "     'config': {'scale': 1.0,\n",
       "      'mode': 'fan_avg',\n",
       "      'distribution': 'uniform',\n",
       "      'seed': None}},\n",
       "    'bias_initializer': {'class_name': 'Zeros', 'config': {}},\n",
       "    'kernel_regularizer': None,\n",
       "    'bias_regularizer': None,\n",
       "    'activity_regularizer': None,\n",
       "    'kernel_constraint': None,\n",
       "    'bias_constraint': None}},\n",
       "  {'class_name': 'MaxPooling2D',\n",
       "   'config': {'name': 'max_pooling2d_9',\n",
       "    'trainable': True,\n",
       "    'pool_size': (2, 2),\n",
       "    'padding': 'valid',\n",
       "    'strides': (2, 2),\n",
       "    'data_format': 'channels_last'}},\n",
       "  {'class_name': 'Conv2D',\n",
       "   'config': {'name': 'conv2d_19',\n",
       "    'trainable': True,\n",
       "    'filters': 64,\n",
       "    'kernel_size': (3, 3),\n",
       "    'strides': (1, 1),\n",
       "    'padding': 'same',\n",
       "    'data_format': 'channels_last',\n",
       "    'dilation_rate': (1, 1),\n",
       "    'activation': 'relu',\n",
       "    'use_bias': True,\n",
       "    'kernel_initializer': {'class_name': 'VarianceScaling',\n",
       "     'config': {'scale': 1.0,\n",
       "      'mode': 'fan_avg',\n",
       "      'distribution': 'uniform',\n",
       "      'seed': None}},\n",
       "    'bias_initializer': {'class_name': 'Zeros', 'config': {}},\n",
       "    'kernel_regularizer': None,\n",
       "    'bias_regularizer': None,\n",
       "    'activity_regularizer': None,\n",
       "    'kernel_constraint': None,\n",
       "    'bias_constraint': None}},\n",
       "  {'class_name': 'Conv2D',\n",
       "   'config': {'name': 'conv2d_20',\n",
       "    'trainable': True,\n",
       "    'filters': 64,\n",
       "    'kernel_size': (3, 3),\n",
       "    'strides': (1, 1),\n",
       "    'padding': 'valid',\n",
       "    'data_format': 'channels_last',\n",
       "    'dilation_rate': (1, 1),\n",
       "    'activation': 'relu',\n",
       "    'use_bias': True,\n",
       "    'kernel_initializer': {'class_name': 'VarianceScaling',\n",
       "     'config': {'scale': 1.0,\n",
       "      'mode': 'fan_avg',\n",
       "      'distribution': 'uniform',\n",
       "      'seed': None}},\n",
       "    'bias_initializer': {'class_name': 'Zeros', 'config': {}},\n",
       "    'kernel_regularizer': None,\n",
       "    'bias_regularizer': None,\n",
       "    'activity_regularizer': None,\n",
       "    'kernel_constraint': None,\n",
       "    'bias_constraint': None}},\n",
       "  {'class_name': 'MaxPooling2D',\n",
       "   'config': {'name': 'max_pooling2d_10',\n",
       "    'trainable': True,\n",
       "    'pool_size': (2, 2),\n",
       "    'padding': 'valid',\n",
       "    'strides': (2, 2),\n",
       "    'data_format': 'channels_last'}},\n",
       "  {'class_name': 'Flatten',\n",
       "   'config': {'name': 'flatten_5',\n",
       "    'trainable': True,\n",
       "    'data_format': 'channels_last'}},\n",
       "  {'class_name': 'Dense',\n",
       "   'config': {'name': 'dense_9',\n",
       "    'trainable': True,\n",
       "    'units': 512,\n",
       "    'activation': 'relu',\n",
       "    'use_bias': True,\n",
       "    'kernel_initializer': {'class_name': 'VarianceScaling',\n",
       "     'config': {'scale': 1.0,\n",
       "      'mode': 'fan_avg',\n",
       "      'distribution': 'uniform',\n",
       "      'seed': None}},\n",
       "    'bias_initializer': {'class_name': 'Zeros', 'config': {}},\n",
       "    'kernel_regularizer': None,\n",
       "    'bias_regularizer': None,\n",
       "    'activity_regularizer': None,\n",
       "    'kernel_constraint': None,\n",
       "    'bias_constraint': None}},\n",
       "  {'class_name': 'Dropout',\n",
       "   'config': {'name': 'dropout_5',\n",
       "    'trainable': True,\n",
       "    'rate': 0.5,\n",
       "    'noise_shape': None,\n",
       "    'seed': None}},\n",
       "  {'class_name': 'Dense',\n",
       "   'config': {'name': 'dense_10',\n",
       "    'trainable': True,\n",
       "    'units': 10,\n",
       "    'activation': 'softmax',\n",
       "    'use_bias': True,\n",
       "    'kernel_initializer': {'class_name': 'VarianceScaling',\n",
       "     'config': {'scale': 1.0,\n",
       "      'mode': 'fan_avg',\n",
       "      'distribution': 'uniform',\n",
       "      'seed': None}},\n",
       "    'bias_initializer': {'class_name': 'Zeros', 'config': {}},\n",
       "    'kernel_regularizer': None,\n",
       "    'bias_regularizer': None,\n",
       "    'activity_regularizer': None,\n",
       "    'kernel_constraint': None,\n",
       "    'bias_constraint': None}}]}"
      ]
     },
     "execution_count": 138,
     "metadata": {},
     "output_type": "execute_result"
    }
   ],
   "source": [
    "#Get all configurations of the model\n",
    "model.get_config()"
   ]
  },
  {
   "cell_type": "code",
   "execution_count": 139,
   "metadata": {
    "ExecuteTime": {
     "end_time": "2019-04-26T04:22:31.795055Z",
     "start_time": "2019-04-26T04:22:31.790526Z"
    }
   },
   "outputs": [
    {
     "data": {
      "text/plain": [
       "[<keras.layers.convolutional.Conv2D at 0x7fc62ec736d8>,\n",
       " <keras.layers.convolutional.Conv2D at 0x7fc62ec73be0>,\n",
       " <keras.layers.pooling.MaxPooling2D at 0x7fc62ec139e8>,\n",
       " <keras.layers.convolutional.Conv2D at 0x7fc62ec13f28>,\n",
       " <keras.layers.convolutional.Conv2D at 0x7fc62ebc6a20>,\n",
       " <keras.layers.pooling.MaxPooling2D at 0x7fc62ebf41d0>,\n",
       " <keras.layers.core.Flatten at 0x7fc62ebdddd8>,\n",
       " <keras.layers.core.Dense at 0x7fc62eb8da58>,\n",
       " <keras.layers.core.Dropout at 0x7fc62eba84e0>,\n",
       " <keras.layers.core.Dense at 0x7fc62eba8438>]"
      ]
     },
     "execution_count": 139,
     "metadata": {},
     "output_type": "execute_result"
    }
   ],
   "source": [
    "#List of layes in the model\n",
    "model.layers"
   ]
  },
  {
   "cell_type": "code",
   "execution_count": 140,
   "metadata": {
    "ExecuteTime": {
     "end_time": "2019-04-26T04:22:31.802189Z",
     "start_time": "2019-04-26T04:22:31.797380Z"
    }
   },
   "outputs": [
    {
     "data": {
      "text/plain": [
       "[<tf.Variable 'conv2d_17/kernel:0' shape=(3, 3, 3, 32) dtype=float32_ref>,\n",
       " <tf.Variable 'conv2d_17/bias:0' shape=(32,) dtype=float32_ref>,\n",
       " <tf.Variable 'conv2d_18/kernel:0' shape=(3, 3, 32, 32) dtype=float32_ref>,\n",
       " <tf.Variable 'conv2d_18/bias:0' shape=(32,) dtype=float32_ref>,\n",
       " <tf.Variable 'conv2d_19/kernel:0' shape=(3, 3, 32, 64) dtype=float32_ref>,\n",
       " <tf.Variable 'conv2d_19/bias:0' shape=(64,) dtype=float32_ref>,\n",
       " <tf.Variable 'conv2d_20/kernel:0' shape=(3, 3, 64, 64) dtype=float32_ref>,\n",
       " <tf.Variable 'conv2d_20/bias:0' shape=(64,) dtype=float32_ref>,\n",
       " <tf.Variable 'dense_9/kernel:0' shape=(186624, 512) dtype=float32_ref>,\n",
       " <tf.Variable 'dense_9/bias:0' shape=(512,) dtype=float32_ref>,\n",
       " <tf.Variable 'dense_10/kernel:0' shape=(512, 10) dtype=float32_ref>,\n",
       " <tf.Variable 'dense_10/bias:0' shape=(10,) dtype=float32_ref>]"
      ]
     },
     "execution_count": 140,
     "metadata": {},
     "output_type": "execute_result"
    }
   ],
   "source": [
    "#List of all weights & there shape in the model for all layers\n",
    "model.weights"
   ]
  },
  {
   "cell_type": "code",
   "execution_count": 141,
   "metadata": {
    "ExecuteTime": {
     "end_time": "2019-04-26T04:22:31.807852Z",
     "start_time": "2019-04-26T04:22:31.804159Z"
    }
   },
   "outputs": [
    {
     "data": {
      "text/plain": [
       "[<tf.Variable 'conv2d_17/kernel:0' shape=(3, 3, 3, 32) dtype=float32_ref>,\n",
       " <tf.Variable 'conv2d_17/bias:0' shape=(32,) dtype=float32_ref>]"
      ]
     },
     "execution_count": 141,
     "metadata": {},
     "output_type": "execute_result"
    }
   ],
   "source": [
    "# List of all weights & there shape in the model for layer 0\n",
    "model.layers[0].weights\n",
    "\n",
    "# There are two types of weights\n",
    "# 1. kernel weights\n",
    "# 2. bias weight"
   ]
  },
  {
   "cell_type": "code",
   "execution_count": 142,
   "metadata": {
    "ExecuteTime": {
     "end_time": "2019-04-26T04:22:33.677624Z",
     "start_time": "2019-04-26T04:22:31.810512Z"
    }
   },
   "outputs": [
    {
     "data": {
      "text/plain": [
       "[array([[[[-3.35625932e-02, -6.94226995e-02, -1.57837570e-03,\n",
       "           -9.95608121e-02,  7.43492842e-02,  7.17514455e-02,\n",
       "           -1.55843794e-02, -4.09637243e-02,  1.08887911e-01,\n",
       "           -6.66553676e-02, -1.13935351e-01, -2.62470096e-02,\n",
       "            3.69209051e-03,  4.10173237e-02,  8.06227773e-02,\n",
       "           -4.12195921e-03, -5.52114099e-02, -2.65748128e-02,\n",
       "            1.13043740e-01,  4.30296957e-02, -8.52352455e-02,\n",
       "            4.26192284e-02, -7.29476064e-02, -9.97439027e-04,\n",
       "            1.17130950e-01, -1.25390664e-01, -6.89833537e-02,\n",
       "           -8.04458559e-03,  9.55077261e-02, -5.86813614e-02,\n",
       "           -1.33220121e-01, -9.43872184e-02],\n",
       "          [ 5.17432392e-02,  6.34924173e-02, -1.01171210e-01,\n",
       "            7.56030679e-02, -4.58096936e-02,  1.72732919e-02,\n",
       "            7.47928768e-02, -7.64481574e-02,  1.67523772e-02,\n",
       "           -2.74459049e-02,  8.01254511e-02,  9.84902233e-02,\n",
       "           -1.12054147e-01,  3.49012613e-02,  8.43389183e-02,\n",
       "           -1.34539604e-01, -9.04875919e-02, -5.35834432e-02,\n",
       "           -9.42886025e-02, -5.76307774e-02,  6.02977872e-02,\n",
       "            7.03247190e-02, -1.07806683e-01, -1.19924143e-01,\n",
       "            4.04368341e-03, -1.27052531e-01, -9.14099142e-02,\n",
       "           -8.55270475e-02,  8.53439271e-02,  9.09452140e-03,\n",
       "           -1.19921774e-01,  1.30881861e-01],\n",
       "          [ 3.02357376e-02,  2.03607529e-02,  3.82538438e-02,\n",
       "            1.13083109e-01, -8.15495029e-02, -1.71038657e-02,\n",
       "           -9.53695625e-02, -2.23501846e-02, -1.87266693e-02,\n",
       "           -1.33338243e-01, -6.89929947e-02,  1.34519771e-01,\n",
       "            1.22348770e-01, -1.10241286e-01, -1.82484612e-02,\n",
       "           -7.78643861e-02,  2.44711041e-02, -3.76429930e-02,\n",
       "            1.20606348e-01, -1.33496493e-01, -1.73142925e-02,\n",
       "            1.35084406e-01, -9.78176445e-02, -1.05196014e-01,\n",
       "            5.70955426e-02, -2.28870586e-02,  8.83594602e-02,\n",
       "           -5.33489957e-02, -3.45347002e-02, -1.81648806e-02,\n",
       "            6.11699969e-02,  8.17488432e-02]],\n",
       " \n",
       "         [[ 1.33889630e-01,  4.53238785e-02, -5.46095818e-02,\n",
       "           -1.33281514e-01, -1.65678412e-02, -1.40570030e-02,\n",
       "           -4.87843975e-02,  1.11595422e-01, -1.26408964e-01,\n",
       "           -1.25154078e-01, -7.42353052e-02,  3.03126425e-02,\n",
       "            8.31625611e-02,  6.34863973e-04, -2.60905474e-02,\n",
       "            3.06157619e-02,  2.24106908e-02, -4.88253310e-02,\n",
       "            9.24950838e-02, -3.65184397e-02, -8.79959986e-02,\n",
       "            6.63304925e-02, -1.27512008e-01,  3.88875902e-02,\n",
       "           -4.20008525e-02,  1.23628691e-01,  3.10738385e-02,\n",
       "           -8.97365063e-02,  5.44674695e-02,  4.70255911e-02,\n",
       "           -2.21759081e-03,  4.62704301e-02],\n",
       "          [ 1.07652292e-01, -6.68653697e-02,  2.53279805e-02,\n",
       "           -1.25412539e-01, -4.42682207e-03, -8.82984996e-02,\n",
       "            1.19160429e-01,  6.78355098e-02, -1.34467766e-01,\n",
       "            4.11746055e-02,  2.99465358e-02,  9.93083119e-02,\n",
       "           -1.37611508e-01, -2.35625654e-02, -1.68164372e-02,\n",
       "           -5.61411083e-02,  4.07972187e-02, -9.06138122e-02,\n",
       "           -8.27911049e-02,  1.55706555e-02,  4.69767898e-02,\n",
       "           -1.60323456e-02, -7.96590894e-02, -2.81998515e-02,\n",
       "            9.77707654e-02,  2.27589905e-03,  1.36976019e-01,\n",
       "           -5.48609048e-02,  8.67334455e-02, -1.37716636e-01,\n",
       "            7.31618851e-02, -6.68673739e-02],\n",
       "          [-5.94834164e-02, -7.72751868e-02, -7.93218613e-03,\n",
       "           -2.02711895e-02, -7.42061436e-03, -8.66288021e-02,\n",
       "           -4.95106056e-02,  1.27284601e-01, -8.94893557e-02,\n",
       "           -3.04281712e-03,  6.48201704e-02, -5.98910153e-02,\n",
       "            9.09477323e-02, -2.93426365e-02, -1.72406137e-02,\n",
       "            2.02147961e-02, -6.78174719e-02, -8.30530971e-02,\n",
       "            1.32554606e-01, -1.07716657e-01, -1.91909224e-02,\n",
       "           -1.09642774e-01,  1.31230876e-01,  1.09161779e-01,\n",
       "            3.18413675e-02, -4.05692607e-02,  4.34974283e-02,\n",
       "           -1.36489540e-01, -5.55881411e-02,  4.35476005e-03,\n",
       "           -9.64072794e-02, -9.03481394e-02]],\n",
       " \n",
       "         [[-1.12514719e-01,  3.74381244e-02, -8.93862322e-02,\n",
       "           -1.07652694e-01, -9.28674042e-02,  1.21633694e-01,\n",
       "            6.35956377e-02, -8.29951167e-02, -1.09802559e-01,\n",
       "           -7.76275024e-02,  1.28737286e-01, -1.00630060e-01,\n",
       "            1.29345015e-01, -4.10851091e-02,  7.69636482e-02,\n",
       "           -8.75609666e-02, -1.35494009e-01,  3.93679291e-02,\n",
       "           -9.22846943e-02,  5.01608700e-02,  4.91343737e-02,\n",
       "            3.92067283e-02, -1.21175744e-01,  1.72141343e-02,\n",
       "            1.00054488e-01, -9.91910696e-02,  1.00804850e-01,\n",
       "           -3.49740162e-02, -6.72404841e-02, -9.28082764e-02,\n",
       "            1.14855811e-01,  1.02946267e-01],\n",
       "          [ 1.34570137e-01,  5.52767664e-02, -7.18125850e-02,\n",
       "           -4.77095917e-02, -6.19073883e-02,  6.52679056e-02,\n",
       "            3.47302854e-02, -2.51686573e-02,  4.46157157e-03,\n",
       "           -8.93344432e-02,  6.86338693e-02, -6.08030036e-02,\n",
       "           -7.47140720e-02,  1.34793445e-01,  7.16041028e-02,\n",
       "           -1.05492122e-01,  1.19489506e-01,  1.21867165e-01,\n",
       "            4.94544208e-03,  3.94755751e-02,  8.17468613e-02,\n",
       "            9.18100327e-02, -1.26896948e-01, -1.24465674e-01,\n",
       "            2.44933069e-02, -6.82221055e-02,  2.20079720e-02,\n",
       "            1.24304041e-01,  5.69972843e-02,  3.19273174e-02,\n",
       "            2.86948681e-02,  1.18038550e-01],\n",
       "          [ 7.23804832e-02, -1.35004118e-01, -4.94521633e-02,\n",
       "            1.22454718e-01, -7.96674415e-02,  1.35791466e-01,\n",
       "           -1.05531871e-01,  1.93028003e-02,  1.11137390e-01,\n",
       "           -8.11222643e-02, -7.52829313e-02,  1.10939950e-01,\n",
       "           -1.07380465e-01, -1.14079148e-01, -8.39137584e-02,\n",
       "            6.29363209e-02, -8.05693641e-02,  8.08379650e-02,\n",
       "           -2.37241983e-02,  1.19137511e-01,  3.90498191e-02,\n",
       "           -3.42872888e-02, -3.81488129e-02, -4.30507138e-02,\n",
       "           -6.99902102e-02, -7.93572515e-02, -5.60128763e-02,\n",
       "            7.51933306e-02, -8.68921429e-02,  1.03716075e-01,\n",
       "           -1.29226908e-01, -5.40091097e-03]]],\n",
       " \n",
       " \n",
       "        [[[-1.37027636e-01,  8.78049582e-02,  1.26531467e-01,\n",
       "           -1.29074797e-01, -6.14153668e-02,  6.29383922e-02,\n",
       "            5.18869907e-02,  2.76244730e-02, -8.71242583e-03,\n",
       "           -1.23146549e-01,  1.86499655e-02, -5.47825918e-02,\n",
       "            1.11469492e-01, -1.05001241e-01,  1.22929320e-01,\n",
       "            3.30065936e-02,  5.36230206e-02, -3.84766385e-02,\n",
       "           -4.38301712e-02,  1.19032338e-01, -1.03824407e-01,\n",
       "           -7.61189163e-02,  1.19431004e-01,  1.11309469e-01,\n",
       "            7.20758587e-02,  1.36182159e-02, -8.83175433e-02,\n",
       "            1.07932389e-02,  1.34133384e-01, -1.99102238e-02,\n",
       "           -4.41643521e-02, -1.28964499e-01],\n",
       "          [-8.73891711e-02, -1.19879551e-01,  5.48017472e-02,\n",
       "            9.91066247e-02,  1.11651167e-01, -5.59396595e-02,\n",
       "           -5.28905988e-02,  2.89905518e-02,  1.16869882e-01,\n",
       "            9.07679051e-02,  1.21614784e-02,  2.19690502e-02,\n",
       "           -8.01125765e-02, -1.34455919e-01, -7.81627670e-02,\n",
       "           -7.91689306e-02,  1.01234093e-01, -2.76677310e-03,\n",
       "            1.06494367e-01,  1.07617974e-01, -1.11153722e-02,\n",
       "           -1.25174209e-01, -5.27989864e-02, -1.26117602e-01,\n",
       "           -4.08680364e-02,  7.92720616e-02, -1.13647401e-01,\n",
       "           -3.76104861e-02,  6.02556020e-02,  1.27629086e-01,\n",
       "           -6.79988116e-02,  7.00476915e-02],\n",
       "          [ 8.05844665e-02, -1.09885782e-01, -1.50805116e-02,\n",
       "            6.09467924e-02, -7.23999739e-03,  1.35670885e-01,\n",
       "            5.52381575e-03,  7.92011768e-02,  1.62670314e-02,\n",
       "            5.08600622e-02, -3.05912793e-02, -3.94754037e-02,\n",
       "            6.75599277e-03, -4.48477268e-03, -6.86717778e-02,\n",
       "           -1.27559394e-01, -4.33605835e-02,  4.24378365e-02,\n",
       "           -1.93741322e-02,  1.00660205e-01,  1.06291652e-01,\n",
       "           -1.03142083e-01, -1.08051494e-01,  1.26832575e-02,\n",
       "           -7.35905990e-02, -7.69036263e-02, -6.86912909e-02,\n",
       "           -9.02254879e-03, -1.19353771e-01,  1.35390297e-01,\n",
       "           -1.06723681e-01,  1.22964248e-01]],\n",
       " \n",
       "         [[-3.16370949e-02,  1.09880060e-01,  6.49821162e-02,\n",
       "            1.10548750e-01,  9.36994702e-02,  9.03831124e-02,\n",
       "           -6.32291809e-02,  7.25784153e-02, -1.29882812e-01,\n",
       "            6.47945702e-02,  2.12768614e-02, -4.36640307e-02,\n",
       "            8.35036337e-02, -3.44876498e-02,  8.25654417e-02,\n",
       "           -6.72812760e-03,  6.51274323e-02,  1.09112456e-01,\n",
       "            2.12664604e-02, -1.28427580e-01,  1.23458460e-01,\n",
       "            8.55436027e-02, -4.68636379e-02,  3.74040455e-02,\n",
       "           -1.00203604e-02, -1.77436024e-02,  1.65180564e-02,\n",
       "            6.37321174e-03, -1.06430769e-01, -9.21977907e-02,\n",
       "           -1.01165950e-01,  8.04433376e-02],\n",
       "          [ 9.12541747e-02, -1.02952197e-01, -7.44019002e-02,\n",
       "           -1.74073130e-02, -5.62978983e-02,  6.33107126e-03,\n",
       "            8.50798190e-03,  1.08587623e-01, -7.83774257e-03,\n",
       "           -8.06417614e-02,  5.02643585e-02,  5.89220673e-02,\n",
       "           -3.46333161e-02, -9.58242044e-02, -9.80962515e-02,\n",
       "            1.24136671e-01,  6.44017756e-02, -1.29507363e-01,\n",
       "            3.30112725e-02,  1.34294912e-01, -5.01330644e-02,\n",
       "            8.78781080e-03,  9.33953673e-02,  6.87816888e-02,\n",
       "            1.21677175e-01,  8.79738927e-02,  1.64966434e-02,\n",
       "           -8.65307152e-02,  6.48072362e-03, -1.80702433e-02,\n",
       "            9.66535658e-02,  1.54860318e-03],\n",
       "          [-8.34293216e-02, -1.85613483e-02,  1.08042836e-01,\n",
       "            1.19585708e-01,  1.27581581e-01, -7.80241415e-02,\n",
       "            7.39453137e-02,  1.21210411e-01, -1.12254307e-01,\n",
       "           -5.50745428e-03,  4.59439754e-02, -9.68003571e-02,\n",
       "           -4.11073565e-02,  4.42422032e-02,  4.54951525e-02,\n",
       "            7.93693513e-02,  1.41578168e-02, -1.32673010e-01,\n",
       "            8.34829956e-02, -8.54092836e-03, -1.28930107e-01,\n",
       "            3.49796712e-02,  4.89776433e-02,  4.83192801e-02,\n",
       "            3.28297317e-02, -1.21054552e-01,  4.56635654e-02,\n",
       "            6.35095239e-02, -2.95777768e-02,  1.58806890e-02,\n",
       "           -9.00821090e-02,  3.31438184e-02]],\n",
       " \n",
       "         [[-8.03230405e-02, -1.22609511e-01,  3.37559730e-02,\n",
       "           -9.71900523e-02, -1.30870745e-01, -8.07000995e-02,\n",
       "           -1.33736491e-01,  1.03442580e-01,  7.26441592e-02,\n",
       "           -2.89577171e-02, -6.32815957e-02,  9.85958427e-02,\n",
       "           -1.23878025e-01, -8.14139843e-04, -3.74279320e-02,\n",
       "           -7.90291876e-02, -9.17769670e-02, -1.03466690e-01,\n",
       "           -9.15688127e-02, -1.13597848e-01,  8.96602869e-05,\n",
       "            1.05464160e-02,  3.58261466e-02,  1.85654014e-02,\n",
       "           -6.44119158e-02, -6.57343268e-02,  6.14723563e-02,\n",
       "            1.32855818e-01, -4.03924286e-02, -2.11655796e-02,\n",
       "            7.61764646e-02,  6.29835427e-02],\n",
       "          [ 1.33191273e-01,  8.65225792e-02, -4.43582237e-02,\n",
       "            1.09670579e-01,  3.38289887e-02, -1.19038731e-01,\n",
       "           -1.19557187e-01, -3.81299853e-02, -1.12863183e-01,\n",
       "           -4.53538969e-02, -1.27386153e-01, -8.16507488e-02,\n",
       "           -4.59169969e-02, -1.28487647e-02, -1.08345568e-01,\n",
       "            8.00144672e-03, -3.62191051e-02, -9.40591544e-02,\n",
       "            7.39869773e-02, -1.37125999e-01,  4.54848260e-02,\n",
       "            1.31180450e-01, -2.12225690e-02,  4.62882221e-03,\n",
       "            7.11919665e-02,  5.29190600e-02, -1.24775864e-01,\n",
       "           -9.67541933e-02, -8.11372697e-03, -2.47247517e-03,\n",
       "           -1.35730267e-01, -2.92967334e-02],\n",
       "          [ 6.52197599e-02, -9.21346098e-02,  1.19230881e-01,\n",
       "           -3.04291919e-02,  7.44172633e-02, -8.68522897e-02,\n",
       "           -9.88914073e-03, -1.27490953e-01,  7.47652352e-02,\n",
       "           -1.21106580e-01, -1.31546602e-01, -3.32462415e-02,\n",
       "            3.98474336e-02,  3.19232345e-02,  3.63577306e-02,\n",
       "            8.45766813e-02,  1.41281486e-02,  9.66552794e-02,\n",
       "           -7.04892501e-02, -8.63011628e-02,  1.07743010e-01,\n",
       "            9.32346284e-02,  9.04655755e-02, -8.11740607e-02,\n",
       "            9.53580439e-03,  2.85476446e-04, -8.52568448e-03,\n",
       "           -3.15204784e-02, -1.06252879e-02,  9.08748507e-02,\n",
       "           -6.53761625e-03, -5.18268123e-02]]],\n",
       " \n",
       " \n",
       "        [[[ 5.97029328e-02,  4.62179780e-02,  6.64961338e-03,\n",
       "            1.20314807e-02,  6.59035593e-02, -3.05286646e-02,\n",
       "            1.47105604e-02,  1.29829124e-01,  1.84324235e-02,\n",
       "           -9.91415754e-02,  5.36171347e-02, -1.12667680e-04,\n",
       "           -3.50122824e-02,  2.90680081e-02, -9.58493799e-02,\n",
       "            1.98160410e-02, -2.01026201e-02, -7.50336125e-02,\n",
       "           -1.20243117e-01, -3.71456146e-04,  9.19004977e-02,\n",
       "           -1.13321051e-01, -1.75829604e-02,  4.07614559e-02,\n",
       "            4.22626734e-02,  7.80399740e-02,  5.61206639e-02,\n",
       "            7.98553228e-05,  5.33085167e-02,  1.15865156e-01,\n",
       "            8.00599307e-02, -1.07996315e-01],\n",
       "          [ 4.39386517e-02, -2.31033787e-02,  1.40427202e-02,\n",
       "            2.91511714e-02, -1.81411207e-03, -3.87188569e-02,\n",
       "           -1.39699653e-02,  1.21136352e-01, -5.31548262e-03,\n",
       "            8.41894895e-02,  1.21562168e-01,  1.01512700e-01,\n",
       "           -4.79531512e-02,  1.25006095e-01,  1.30310461e-01,\n",
       "           -3.48307118e-02,  6.64483905e-02, -6.62538335e-02,\n",
       "           -1.21342607e-01,  9.06678736e-02, -5.80238551e-02,\n",
       "           -1.16942361e-01, -4.07043323e-02,  9.70046222e-03,\n",
       "           -1.25162303e-02, -3.26035172e-02, -7.81181455e-03,\n",
       "           -5.32671884e-02, -5.90025112e-02,  1.36073634e-01,\n",
       "           -1.09577924e-01,  1.21222720e-01],\n",
       "          [-7.76194111e-02,  1.16593540e-02,  1.00336194e-01,\n",
       "            8.62231851e-02, -1.09012648e-01, -9.67305377e-02,\n",
       "            7.24589974e-02, -4.83893380e-02, -9.84755456e-02,\n",
       "           -7.56920725e-02,  3.18963230e-02, -6.14455715e-02,\n",
       "            1.68137699e-02,  8.29893947e-02, -5.28521612e-02,\n",
       "            5.79538345e-02,  1.95034891e-02,  1.13818839e-01,\n",
       "            1.03932530e-01, -3.66413072e-02,  1.37912631e-02,\n",
       "           -8.01894516e-02, -1.27029419e-01,  2.25109905e-02,\n",
       "           -8.46169963e-02, -6.71447292e-02,  1.37092024e-02,\n",
       "            8.17039311e-02,  6.31229579e-02, -1.13704622e-01,\n",
       "            6.01513833e-02, -1.00779682e-01]],\n",
       " \n",
       "         [[ 1.23729452e-01, -3.81973758e-02,  1.13094449e-02,\n",
       "            3.24290842e-02,  1.51215345e-02,  1.86785907e-02,\n",
       "           -3.58300656e-02, -2.22048089e-02, -1.32230148e-01,\n",
       "           -1.07742518e-01, -9.65076387e-02,  9.08758640e-02,\n",
       "            4.85705733e-02,  2.19323933e-02, -1.06945500e-01,\n",
       "            8.18195492e-02, -8.48918855e-02,  1.07884556e-02,\n",
       "           -1.74139887e-02, -5.70603684e-02, -8.48576277e-02,\n",
       "            6.34016693e-02,  7.44253993e-02,  9.96426791e-02,\n",
       "           -1.06089249e-01, -9.41583663e-02, -1.32731408e-01,\n",
       "            6.26082718e-02,  2.76793242e-02,  3.92037779e-02,\n",
       "           -1.22193985e-01, -7.14071989e-02],\n",
       "          [-6.33496419e-02,  4.48015183e-02,  8.07779431e-02,\n",
       "           -4.37995642e-02,  1.11729875e-01,  7.14832991e-02,\n",
       "            8.27646255e-03, -6.80110827e-02,  5.14312685e-02,\n",
       "            2.86029428e-02, -8.39930922e-02, -7.30601102e-02,\n",
       "           -7.31458589e-02,  4.48129773e-02, -1.81217790e-02,\n",
       "            1.01786211e-01, -4.97064888e-02,  4.32632864e-03,\n",
       "            9.95487720e-02,  1.37924895e-01, -1.64381638e-02,\n",
       "            2.55072713e-02, -1.31819382e-01,  9.50428396e-02,\n",
       "           -8.52368623e-02, -8.85853618e-02, -1.06441528e-01,\n",
       "            6.44941777e-02,  3.50556523e-02, -5.21800444e-02,\n",
       "            1.05629668e-01,  3.32470387e-02],\n",
       "          [-1.00559548e-01,  6.47426993e-02, -1.12325646e-01,\n",
       "            7.77427852e-03, -1.29650995e-01, -1.06396154e-01,\n",
       "            1.29710138e-02, -4.89544794e-02, -1.26417324e-01,\n",
       "           -3.39990407e-02,  2.47990936e-02, -1.23694286e-01,\n",
       "            4.87341881e-02,  1.11444682e-01, -3.14840600e-02,\n",
       "           -4.55203950e-02, -1.16289236e-01,  1.16715893e-01,\n",
       "           -8.92067403e-02, -7.73366243e-02, -8.15200210e-02,\n",
       "            2.48691589e-02, -1.25081122e-01, -8.09635371e-02,\n",
       "            3.92536521e-02, -2.50682905e-02, -1.21077552e-01,\n",
       "           -5.59405461e-02, -4.02847975e-02,  5.80354333e-02,\n",
       "           -7.75749832e-02,  6.95586950e-02]],\n",
       " \n",
       "         [[ 1.05816200e-01, -1.64199024e-02, -8.76609981e-03,\n",
       "            5.34020066e-02,  7.65984654e-02,  8.99825692e-02,\n",
       "           -8.67012590e-02,  1.14973292e-01,  9.57077742e-03,\n",
       "            4.15322483e-02,  1.52351260e-02, -4.36535031e-02,\n",
       "           -5.67481965e-02,  9.81727242e-02,  6.86643720e-02,\n",
       "           -3.45498323e-03, -7.09963813e-02, -2.66598016e-02,\n",
       "           -5.10732904e-02, -1.29096776e-01, -7.65824169e-02,\n",
       "            1.73556209e-02,  2.04487443e-02,  7.63901174e-02,\n",
       "           -8.07789713e-02, -1.25101060e-02,  9.82041210e-02,\n",
       "           -5.83956465e-02, -8.20085406e-04, -1.09920658e-01,\n",
       "           -1.10937685e-01,  7.05009997e-02],\n",
       "          [-7.61808082e-02,  4.44435477e-02, -5.14861792e-02,\n",
       "            2.29801536e-02,  4.34910208e-02, -1.08377814e-01,\n",
       "           -7.88674578e-02,  9.57375020e-02, -6.58745393e-02,\n",
       "            1.31653801e-01, -1.10677503e-01,  4.28107083e-02,\n",
       "            1.10300541e-01,  7.89375752e-02, -5.35284579e-02,\n",
       "            1.06897950e-01, -3.43333259e-02,  2.67200470e-02,\n",
       "           -4.45651636e-02,  3.12095284e-02, -3.52645963e-02,\n",
       "            5.98583370e-02, -7.99638033e-03, -7.09518939e-02,\n",
       "           -1.21544935e-01, -1.75454170e-02, -7.88019747e-02,\n",
       "           -4.54991385e-02, -1.02510646e-01, -8.40428025e-02,\n",
       "           -1.44810155e-02, -8.27567279e-03],\n",
       "          [-1.24101385e-01, -1.37391806e-01, -7.60493875e-02,\n",
       "           -6.97038397e-02, -1.37853518e-01, -9.18635428e-02,\n",
       "           -2.37227455e-02, -7.26073980e-04,  1.95794553e-02,\n",
       "           -1.42804608e-02,  2.15544850e-02,  4.55828756e-02,\n",
       "           -1.85791850e-02,  4.06518579e-02,  8.78499001e-02,\n",
       "           -6.73929974e-02, -1.30000472e-01, -1.26087978e-01,\n",
       "            1.29489407e-01, -4.21077609e-02, -9.96099412e-03,\n",
       "            1.06256440e-01,  2.52504945e-02,  1.36449680e-01,\n",
       "            9.46625620e-02,  2.96381563e-02,  9.58081186e-02,\n",
       "           -6.73918128e-02, -6.41294271e-02, -1.14419416e-01,\n",
       "           -1.01376340e-01, -5.62123954e-03]]]], dtype=float32),\n",
       " array([0., 0., 0., 0., 0., 0., 0., 0., 0., 0., 0., 0., 0., 0., 0., 0., 0.,\n",
       "        0., 0., 0., 0., 0., 0., 0., 0., 0., 0., 0., 0., 0., 0., 0.],\n",
       "       dtype=float32)]"
      ]
     },
     "execution_count": 142,
     "metadata": {},
     "output_type": "execute_result"
    }
   ],
   "source": [
    "#Get all weight values for layet 0\n",
    "model.layers[0].get_weights()"
   ]
  },
  {
   "cell_type": "code",
   "execution_count": 143,
   "metadata": {
    "ExecuteTime": {
     "end_time": "2019-04-26T04:22:33.698566Z",
     "start_time": "2019-04-26T04:22:33.679728Z"
    }
   },
   "outputs": [
    {
     "data": {
      "text/plain": [
       "array([[[[-3.35625932e-02, -6.94226995e-02, -1.57837570e-03,\n",
       "          -9.95608121e-02,  7.43492842e-02,  7.17514455e-02,\n",
       "          -1.55843794e-02, -4.09637243e-02,  1.08887911e-01,\n",
       "          -6.66553676e-02, -1.13935351e-01, -2.62470096e-02,\n",
       "           3.69209051e-03,  4.10173237e-02,  8.06227773e-02,\n",
       "          -4.12195921e-03, -5.52114099e-02, -2.65748128e-02,\n",
       "           1.13043740e-01,  4.30296957e-02, -8.52352455e-02,\n",
       "           4.26192284e-02, -7.29476064e-02, -9.97439027e-04,\n",
       "           1.17130950e-01, -1.25390664e-01, -6.89833537e-02,\n",
       "          -8.04458559e-03,  9.55077261e-02, -5.86813614e-02,\n",
       "          -1.33220121e-01, -9.43872184e-02],\n",
       "         [ 5.17432392e-02,  6.34924173e-02, -1.01171210e-01,\n",
       "           7.56030679e-02, -4.58096936e-02,  1.72732919e-02,\n",
       "           7.47928768e-02, -7.64481574e-02,  1.67523772e-02,\n",
       "          -2.74459049e-02,  8.01254511e-02,  9.84902233e-02,\n",
       "          -1.12054147e-01,  3.49012613e-02,  8.43389183e-02,\n",
       "          -1.34539604e-01, -9.04875919e-02, -5.35834432e-02,\n",
       "          -9.42886025e-02, -5.76307774e-02,  6.02977872e-02,\n",
       "           7.03247190e-02, -1.07806683e-01, -1.19924143e-01,\n",
       "           4.04368341e-03, -1.27052531e-01, -9.14099142e-02,\n",
       "          -8.55270475e-02,  8.53439271e-02,  9.09452140e-03,\n",
       "          -1.19921774e-01,  1.30881861e-01],\n",
       "         [ 3.02357376e-02,  2.03607529e-02,  3.82538438e-02,\n",
       "           1.13083109e-01, -8.15495029e-02, -1.71038657e-02,\n",
       "          -9.53695625e-02, -2.23501846e-02, -1.87266693e-02,\n",
       "          -1.33338243e-01, -6.89929947e-02,  1.34519771e-01,\n",
       "           1.22348770e-01, -1.10241286e-01, -1.82484612e-02,\n",
       "          -7.78643861e-02,  2.44711041e-02, -3.76429930e-02,\n",
       "           1.20606348e-01, -1.33496493e-01, -1.73142925e-02,\n",
       "           1.35084406e-01, -9.78176445e-02, -1.05196014e-01,\n",
       "           5.70955426e-02, -2.28870586e-02,  8.83594602e-02,\n",
       "          -5.33489957e-02, -3.45347002e-02, -1.81648806e-02,\n",
       "           6.11699969e-02,  8.17488432e-02]],\n",
       "\n",
       "        [[ 1.33889630e-01,  4.53238785e-02, -5.46095818e-02,\n",
       "          -1.33281514e-01, -1.65678412e-02, -1.40570030e-02,\n",
       "          -4.87843975e-02,  1.11595422e-01, -1.26408964e-01,\n",
       "          -1.25154078e-01, -7.42353052e-02,  3.03126425e-02,\n",
       "           8.31625611e-02,  6.34863973e-04, -2.60905474e-02,\n",
       "           3.06157619e-02,  2.24106908e-02, -4.88253310e-02,\n",
       "           9.24950838e-02, -3.65184397e-02, -8.79959986e-02,\n",
       "           6.63304925e-02, -1.27512008e-01,  3.88875902e-02,\n",
       "          -4.20008525e-02,  1.23628691e-01,  3.10738385e-02,\n",
       "          -8.97365063e-02,  5.44674695e-02,  4.70255911e-02,\n",
       "          -2.21759081e-03,  4.62704301e-02],\n",
       "         [ 1.07652292e-01, -6.68653697e-02,  2.53279805e-02,\n",
       "          -1.25412539e-01, -4.42682207e-03, -8.82984996e-02,\n",
       "           1.19160429e-01,  6.78355098e-02, -1.34467766e-01,\n",
       "           4.11746055e-02,  2.99465358e-02,  9.93083119e-02,\n",
       "          -1.37611508e-01, -2.35625654e-02, -1.68164372e-02,\n",
       "          -5.61411083e-02,  4.07972187e-02, -9.06138122e-02,\n",
       "          -8.27911049e-02,  1.55706555e-02,  4.69767898e-02,\n",
       "          -1.60323456e-02, -7.96590894e-02, -2.81998515e-02,\n",
       "           9.77707654e-02,  2.27589905e-03,  1.36976019e-01,\n",
       "          -5.48609048e-02,  8.67334455e-02, -1.37716636e-01,\n",
       "           7.31618851e-02, -6.68673739e-02],\n",
       "         [-5.94834164e-02, -7.72751868e-02, -7.93218613e-03,\n",
       "          -2.02711895e-02, -7.42061436e-03, -8.66288021e-02,\n",
       "          -4.95106056e-02,  1.27284601e-01, -8.94893557e-02,\n",
       "          -3.04281712e-03,  6.48201704e-02, -5.98910153e-02,\n",
       "           9.09477323e-02, -2.93426365e-02, -1.72406137e-02,\n",
       "           2.02147961e-02, -6.78174719e-02, -8.30530971e-02,\n",
       "           1.32554606e-01, -1.07716657e-01, -1.91909224e-02,\n",
       "          -1.09642774e-01,  1.31230876e-01,  1.09161779e-01,\n",
       "           3.18413675e-02, -4.05692607e-02,  4.34974283e-02,\n",
       "          -1.36489540e-01, -5.55881411e-02,  4.35476005e-03,\n",
       "          -9.64072794e-02, -9.03481394e-02]],\n",
       "\n",
       "        [[-1.12514719e-01,  3.74381244e-02, -8.93862322e-02,\n",
       "          -1.07652694e-01, -9.28674042e-02,  1.21633694e-01,\n",
       "           6.35956377e-02, -8.29951167e-02, -1.09802559e-01,\n",
       "          -7.76275024e-02,  1.28737286e-01, -1.00630060e-01,\n",
       "           1.29345015e-01, -4.10851091e-02,  7.69636482e-02,\n",
       "          -8.75609666e-02, -1.35494009e-01,  3.93679291e-02,\n",
       "          -9.22846943e-02,  5.01608700e-02,  4.91343737e-02,\n",
       "           3.92067283e-02, -1.21175744e-01,  1.72141343e-02,\n",
       "           1.00054488e-01, -9.91910696e-02,  1.00804850e-01,\n",
       "          -3.49740162e-02, -6.72404841e-02, -9.28082764e-02,\n",
       "           1.14855811e-01,  1.02946267e-01],\n",
       "         [ 1.34570137e-01,  5.52767664e-02, -7.18125850e-02,\n",
       "          -4.77095917e-02, -6.19073883e-02,  6.52679056e-02,\n",
       "           3.47302854e-02, -2.51686573e-02,  4.46157157e-03,\n",
       "          -8.93344432e-02,  6.86338693e-02, -6.08030036e-02,\n",
       "          -7.47140720e-02,  1.34793445e-01,  7.16041028e-02,\n",
       "          -1.05492122e-01,  1.19489506e-01,  1.21867165e-01,\n",
       "           4.94544208e-03,  3.94755751e-02,  8.17468613e-02,\n",
       "           9.18100327e-02, -1.26896948e-01, -1.24465674e-01,\n",
       "           2.44933069e-02, -6.82221055e-02,  2.20079720e-02,\n",
       "           1.24304041e-01,  5.69972843e-02,  3.19273174e-02,\n",
       "           2.86948681e-02,  1.18038550e-01],\n",
       "         [ 7.23804832e-02, -1.35004118e-01, -4.94521633e-02,\n",
       "           1.22454718e-01, -7.96674415e-02,  1.35791466e-01,\n",
       "          -1.05531871e-01,  1.93028003e-02,  1.11137390e-01,\n",
       "          -8.11222643e-02, -7.52829313e-02,  1.10939950e-01,\n",
       "          -1.07380465e-01, -1.14079148e-01, -8.39137584e-02,\n",
       "           6.29363209e-02, -8.05693641e-02,  8.08379650e-02,\n",
       "          -2.37241983e-02,  1.19137511e-01,  3.90498191e-02,\n",
       "          -3.42872888e-02, -3.81488129e-02, -4.30507138e-02,\n",
       "          -6.99902102e-02, -7.93572515e-02, -5.60128763e-02,\n",
       "           7.51933306e-02, -8.68921429e-02,  1.03716075e-01,\n",
       "          -1.29226908e-01, -5.40091097e-03]]],\n",
       "\n",
       "\n",
       "       [[[-1.37027636e-01,  8.78049582e-02,  1.26531467e-01,\n",
       "          -1.29074797e-01, -6.14153668e-02,  6.29383922e-02,\n",
       "           5.18869907e-02,  2.76244730e-02, -8.71242583e-03,\n",
       "          -1.23146549e-01,  1.86499655e-02, -5.47825918e-02,\n",
       "           1.11469492e-01, -1.05001241e-01,  1.22929320e-01,\n",
       "           3.30065936e-02,  5.36230206e-02, -3.84766385e-02,\n",
       "          -4.38301712e-02,  1.19032338e-01, -1.03824407e-01,\n",
       "          -7.61189163e-02,  1.19431004e-01,  1.11309469e-01,\n",
       "           7.20758587e-02,  1.36182159e-02, -8.83175433e-02,\n",
       "           1.07932389e-02,  1.34133384e-01, -1.99102238e-02,\n",
       "          -4.41643521e-02, -1.28964499e-01],\n",
       "         [-8.73891711e-02, -1.19879551e-01,  5.48017472e-02,\n",
       "           9.91066247e-02,  1.11651167e-01, -5.59396595e-02,\n",
       "          -5.28905988e-02,  2.89905518e-02,  1.16869882e-01,\n",
       "           9.07679051e-02,  1.21614784e-02,  2.19690502e-02,\n",
       "          -8.01125765e-02, -1.34455919e-01, -7.81627670e-02,\n",
       "          -7.91689306e-02,  1.01234093e-01, -2.76677310e-03,\n",
       "           1.06494367e-01,  1.07617974e-01, -1.11153722e-02,\n",
       "          -1.25174209e-01, -5.27989864e-02, -1.26117602e-01,\n",
       "          -4.08680364e-02,  7.92720616e-02, -1.13647401e-01,\n",
       "          -3.76104861e-02,  6.02556020e-02,  1.27629086e-01,\n",
       "          -6.79988116e-02,  7.00476915e-02],\n",
       "         [ 8.05844665e-02, -1.09885782e-01, -1.50805116e-02,\n",
       "           6.09467924e-02, -7.23999739e-03,  1.35670885e-01,\n",
       "           5.52381575e-03,  7.92011768e-02,  1.62670314e-02,\n",
       "           5.08600622e-02, -3.05912793e-02, -3.94754037e-02,\n",
       "           6.75599277e-03, -4.48477268e-03, -6.86717778e-02,\n",
       "          -1.27559394e-01, -4.33605835e-02,  4.24378365e-02,\n",
       "          -1.93741322e-02,  1.00660205e-01,  1.06291652e-01,\n",
       "          -1.03142083e-01, -1.08051494e-01,  1.26832575e-02,\n",
       "          -7.35905990e-02, -7.69036263e-02, -6.86912909e-02,\n",
       "          -9.02254879e-03, -1.19353771e-01,  1.35390297e-01,\n",
       "          -1.06723681e-01,  1.22964248e-01]],\n",
       "\n",
       "        [[-3.16370949e-02,  1.09880060e-01,  6.49821162e-02,\n",
       "           1.10548750e-01,  9.36994702e-02,  9.03831124e-02,\n",
       "          -6.32291809e-02,  7.25784153e-02, -1.29882812e-01,\n",
       "           6.47945702e-02,  2.12768614e-02, -4.36640307e-02,\n",
       "           8.35036337e-02, -3.44876498e-02,  8.25654417e-02,\n",
       "          -6.72812760e-03,  6.51274323e-02,  1.09112456e-01,\n",
       "           2.12664604e-02, -1.28427580e-01,  1.23458460e-01,\n",
       "           8.55436027e-02, -4.68636379e-02,  3.74040455e-02,\n",
       "          -1.00203604e-02, -1.77436024e-02,  1.65180564e-02,\n",
       "           6.37321174e-03, -1.06430769e-01, -9.21977907e-02,\n",
       "          -1.01165950e-01,  8.04433376e-02],\n",
       "         [ 9.12541747e-02, -1.02952197e-01, -7.44019002e-02,\n",
       "          -1.74073130e-02, -5.62978983e-02,  6.33107126e-03,\n",
       "           8.50798190e-03,  1.08587623e-01, -7.83774257e-03,\n",
       "          -8.06417614e-02,  5.02643585e-02,  5.89220673e-02,\n",
       "          -3.46333161e-02, -9.58242044e-02, -9.80962515e-02,\n",
       "           1.24136671e-01,  6.44017756e-02, -1.29507363e-01,\n",
       "           3.30112725e-02,  1.34294912e-01, -5.01330644e-02,\n",
       "           8.78781080e-03,  9.33953673e-02,  6.87816888e-02,\n",
       "           1.21677175e-01,  8.79738927e-02,  1.64966434e-02,\n",
       "          -8.65307152e-02,  6.48072362e-03, -1.80702433e-02,\n",
       "           9.66535658e-02,  1.54860318e-03],\n",
       "         [-8.34293216e-02, -1.85613483e-02,  1.08042836e-01,\n",
       "           1.19585708e-01,  1.27581581e-01, -7.80241415e-02,\n",
       "           7.39453137e-02,  1.21210411e-01, -1.12254307e-01,\n",
       "          -5.50745428e-03,  4.59439754e-02, -9.68003571e-02,\n",
       "          -4.11073565e-02,  4.42422032e-02,  4.54951525e-02,\n",
       "           7.93693513e-02,  1.41578168e-02, -1.32673010e-01,\n",
       "           8.34829956e-02, -8.54092836e-03, -1.28930107e-01,\n",
       "           3.49796712e-02,  4.89776433e-02,  4.83192801e-02,\n",
       "           3.28297317e-02, -1.21054552e-01,  4.56635654e-02,\n",
       "           6.35095239e-02, -2.95777768e-02,  1.58806890e-02,\n",
       "          -9.00821090e-02,  3.31438184e-02]],\n",
       "\n",
       "        [[-8.03230405e-02, -1.22609511e-01,  3.37559730e-02,\n",
       "          -9.71900523e-02, -1.30870745e-01, -8.07000995e-02,\n",
       "          -1.33736491e-01,  1.03442580e-01,  7.26441592e-02,\n",
       "          -2.89577171e-02, -6.32815957e-02,  9.85958427e-02,\n",
       "          -1.23878025e-01, -8.14139843e-04, -3.74279320e-02,\n",
       "          -7.90291876e-02, -9.17769670e-02, -1.03466690e-01,\n",
       "          -9.15688127e-02, -1.13597848e-01,  8.96602869e-05,\n",
       "           1.05464160e-02,  3.58261466e-02,  1.85654014e-02,\n",
       "          -6.44119158e-02, -6.57343268e-02,  6.14723563e-02,\n",
       "           1.32855818e-01, -4.03924286e-02, -2.11655796e-02,\n",
       "           7.61764646e-02,  6.29835427e-02],\n",
       "         [ 1.33191273e-01,  8.65225792e-02, -4.43582237e-02,\n",
       "           1.09670579e-01,  3.38289887e-02, -1.19038731e-01,\n",
       "          -1.19557187e-01, -3.81299853e-02, -1.12863183e-01,\n",
       "          -4.53538969e-02, -1.27386153e-01, -8.16507488e-02,\n",
       "          -4.59169969e-02, -1.28487647e-02, -1.08345568e-01,\n",
       "           8.00144672e-03, -3.62191051e-02, -9.40591544e-02,\n",
       "           7.39869773e-02, -1.37125999e-01,  4.54848260e-02,\n",
       "           1.31180450e-01, -2.12225690e-02,  4.62882221e-03,\n",
       "           7.11919665e-02,  5.29190600e-02, -1.24775864e-01,\n",
       "          -9.67541933e-02, -8.11372697e-03, -2.47247517e-03,\n",
       "          -1.35730267e-01, -2.92967334e-02],\n",
       "         [ 6.52197599e-02, -9.21346098e-02,  1.19230881e-01,\n",
       "          -3.04291919e-02,  7.44172633e-02, -8.68522897e-02,\n",
       "          -9.88914073e-03, -1.27490953e-01,  7.47652352e-02,\n",
       "          -1.21106580e-01, -1.31546602e-01, -3.32462415e-02,\n",
       "           3.98474336e-02,  3.19232345e-02,  3.63577306e-02,\n",
       "           8.45766813e-02,  1.41281486e-02,  9.66552794e-02,\n",
       "          -7.04892501e-02, -8.63011628e-02,  1.07743010e-01,\n",
       "           9.32346284e-02,  9.04655755e-02, -8.11740607e-02,\n",
       "           9.53580439e-03,  2.85476446e-04, -8.52568448e-03,\n",
       "          -3.15204784e-02, -1.06252879e-02,  9.08748507e-02,\n",
       "          -6.53761625e-03, -5.18268123e-02]]],\n",
       "\n",
       "\n",
       "       [[[ 5.97029328e-02,  4.62179780e-02,  6.64961338e-03,\n",
       "           1.20314807e-02,  6.59035593e-02, -3.05286646e-02,\n",
       "           1.47105604e-02,  1.29829124e-01,  1.84324235e-02,\n",
       "          -9.91415754e-02,  5.36171347e-02, -1.12667680e-04,\n",
       "          -3.50122824e-02,  2.90680081e-02, -9.58493799e-02,\n",
       "           1.98160410e-02, -2.01026201e-02, -7.50336125e-02,\n",
       "          -1.20243117e-01, -3.71456146e-04,  9.19004977e-02,\n",
       "          -1.13321051e-01, -1.75829604e-02,  4.07614559e-02,\n",
       "           4.22626734e-02,  7.80399740e-02,  5.61206639e-02,\n",
       "           7.98553228e-05,  5.33085167e-02,  1.15865156e-01,\n",
       "           8.00599307e-02, -1.07996315e-01],\n",
       "         [ 4.39386517e-02, -2.31033787e-02,  1.40427202e-02,\n",
       "           2.91511714e-02, -1.81411207e-03, -3.87188569e-02,\n",
       "          -1.39699653e-02,  1.21136352e-01, -5.31548262e-03,\n",
       "           8.41894895e-02,  1.21562168e-01,  1.01512700e-01,\n",
       "          -4.79531512e-02,  1.25006095e-01,  1.30310461e-01,\n",
       "          -3.48307118e-02,  6.64483905e-02, -6.62538335e-02,\n",
       "          -1.21342607e-01,  9.06678736e-02, -5.80238551e-02,\n",
       "          -1.16942361e-01, -4.07043323e-02,  9.70046222e-03,\n",
       "          -1.25162303e-02, -3.26035172e-02, -7.81181455e-03,\n",
       "          -5.32671884e-02, -5.90025112e-02,  1.36073634e-01,\n",
       "          -1.09577924e-01,  1.21222720e-01],\n",
       "         [-7.76194111e-02,  1.16593540e-02,  1.00336194e-01,\n",
       "           8.62231851e-02, -1.09012648e-01, -9.67305377e-02,\n",
       "           7.24589974e-02, -4.83893380e-02, -9.84755456e-02,\n",
       "          -7.56920725e-02,  3.18963230e-02, -6.14455715e-02,\n",
       "           1.68137699e-02,  8.29893947e-02, -5.28521612e-02,\n",
       "           5.79538345e-02,  1.95034891e-02,  1.13818839e-01,\n",
       "           1.03932530e-01, -3.66413072e-02,  1.37912631e-02,\n",
       "          -8.01894516e-02, -1.27029419e-01,  2.25109905e-02,\n",
       "          -8.46169963e-02, -6.71447292e-02,  1.37092024e-02,\n",
       "           8.17039311e-02,  6.31229579e-02, -1.13704622e-01,\n",
       "           6.01513833e-02, -1.00779682e-01]],\n",
       "\n",
       "        [[ 1.23729452e-01, -3.81973758e-02,  1.13094449e-02,\n",
       "           3.24290842e-02,  1.51215345e-02,  1.86785907e-02,\n",
       "          -3.58300656e-02, -2.22048089e-02, -1.32230148e-01,\n",
       "          -1.07742518e-01, -9.65076387e-02,  9.08758640e-02,\n",
       "           4.85705733e-02,  2.19323933e-02, -1.06945500e-01,\n",
       "           8.18195492e-02, -8.48918855e-02,  1.07884556e-02,\n",
       "          -1.74139887e-02, -5.70603684e-02, -8.48576277e-02,\n",
       "           6.34016693e-02,  7.44253993e-02,  9.96426791e-02,\n",
       "          -1.06089249e-01, -9.41583663e-02, -1.32731408e-01,\n",
       "           6.26082718e-02,  2.76793242e-02,  3.92037779e-02,\n",
       "          -1.22193985e-01, -7.14071989e-02],\n",
       "         [-6.33496419e-02,  4.48015183e-02,  8.07779431e-02,\n",
       "          -4.37995642e-02,  1.11729875e-01,  7.14832991e-02,\n",
       "           8.27646255e-03, -6.80110827e-02,  5.14312685e-02,\n",
       "           2.86029428e-02, -8.39930922e-02, -7.30601102e-02,\n",
       "          -7.31458589e-02,  4.48129773e-02, -1.81217790e-02,\n",
       "           1.01786211e-01, -4.97064888e-02,  4.32632864e-03,\n",
       "           9.95487720e-02,  1.37924895e-01, -1.64381638e-02,\n",
       "           2.55072713e-02, -1.31819382e-01,  9.50428396e-02,\n",
       "          -8.52368623e-02, -8.85853618e-02, -1.06441528e-01,\n",
       "           6.44941777e-02,  3.50556523e-02, -5.21800444e-02,\n",
       "           1.05629668e-01,  3.32470387e-02],\n",
       "         [-1.00559548e-01,  6.47426993e-02, -1.12325646e-01,\n",
       "           7.77427852e-03, -1.29650995e-01, -1.06396154e-01,\n",
       "           1.29710138e-02, -4.89544794e-02, -1.26417324e-01,\n",
       "          -3.39990407e-02,  2.47990936e-02, -1.23694286e-01,\n",
       "           4.87341881e-02,  1.11444682e-01, -3.14840600e-02,\n",
       "          -4.55203950e-02, -1.16289236e-01,  1.16715893e-01,\n",
       "          -8.92067403e-02, -7.73366243e-02, -8.15200210e-02,\n",
       "           2.48691589e-02, -1.25081122e-01, -8.09635371e-02,\n",
       "           3.92536521e-02, -2.50682905e-02, -1.21077552e-01,\n",
       "          -5.59405461e-02, -4.02847975e-02,  5.80354333e-02,\n",
       "          -7.75749832e-02,  6.95586950e-02]],\n",
       "\n",
       "        [[ 1.05816200e-01, -1.64199024e-02, -8.76609981e-03,\n",
       "           5.34020066e-02,  7.65984654e-02,  8.99825692e-02,\n",
       "          -8.67012590e-02,  1.14973292e-01,  9.57077742e-03,\n",
       "           4.15322483e-02,  1.52351260e-02, -4.36535031e-02,\n",
       "          -5.67481965e-02,  9.81727242e-02,  6.86643720e-02,\n",
       "          -3.45498323e-03, -7.09963813e-02, -2.66598016e-02,\n",
       "          -5.10732904e-02, -1.29096776e-01, -7.65824169e-02,\n",
       "           1.73556209e-02,  2.04487443e-02,  7.63901174e-02,\n",
       "          -8.07789713e-02, -1.25101060e-02,  9.82041210e-02,\n",
       "          -5.83956465e-02, -8.20085406e-04, -1.09920658e-01,\n",
       "          -1.10937685e-01,  7.05009997e-02],\n",
       "         [-7.61808082e-02,  4.44435477e-02, -5.14861792e-02,\n",
       "           2.29801536e-02,  4.34910208e-02, -1.08377814e-01,\n",
       "          -7.88674578e-02,  9.57375020e-02, -6.58745393e-02,\n",
       "           1.31653801e-01, -1.10677503e-01,  4.28107083e-02,\n",
       "           1.10300541e-01,  7.89375752e-02, -5.35284579e-02,\n",
       "           1.06897950e-01, -3.43333259e-02,  2.67200470e-02,\n",
       "          -4.45651636e-02,  3.12095284e-02, -3.52645963e-02,\n",
       "           5.98583370e-02, -7.99638033e-03, -7.09518939e-02,\n",
       "          -1.21544935e-01, -1.75454170e-02, -7.88019747e-02,\n",
       "          -4.54991385e-02, -1.02510646e-01, -8.40428025e-02,\n",
       "          -1.44810155e-02, -8.27567279e-03],\n",
       "         [-1.24101385e-01, -1.37391806e-01, -7.60493875e-02,\n",
       "          -6.97038397e-02, -1.37853518e-01, -9.18635428e-02,\n",
       "          -2.37227455e-02, -7.26073980e-04,  1.95794553e-02,\n",
       "          -1.42804608e-02,  2.15544850e-02,  4.55828756e-02,\n",
       "          -1.85791850e-02,  4.06518579e-02,  8.78499001e-02,\n",
       "          -6.73929974e-02, -1.30000472e-01, -1.26087978e-01,\n",
       "           1.29489407e-01, -4.21077609e-02, -9.96099412e-03,\n",
       "           1.06256440e-01,  2.52504945e-02,  1.36449680e-01,\n",
       "           9.46625620e-02,  2.96381563e-02,  9.58081186e-02,\n",
       "          -6.73918128e-02, -6.41294271e-02, -1.14419416e-01,\n",
       "          -1.01376340e-01, -5.62123954e-03]]]], dtype=float32)"
      ]
     },
     "execution_count": 143,
     "metadata": {},
     "output_type": "execute_result"
    }
   ],
   "source": [
    "#Get all kernal weight values for layet 0\n",
    "model.layers[0].get_weights()[0]"
   ]
  },
  {
   "cell_type": "code",
   "execution_count": 144,
   "metadata": {
    "ExecuteTime": {
     "end_time": "2019-04-26T04:22:33.705365Z",
     "start_time": "2019-04-26T04:22:33.700128Z"
    }
   },
   "outputs": [
    {
     "data": {
      "text/plain": [
       "array([0., 0., 0., 0., 0., 0., 0., 0., 0., 0., 0., 0., 0., 0., 0., 0., 0.,\n",
       "       0., 0., 0., 0., 0., 0., 0., 0., 0., 0., 0., 0., 0., 0., 0.],\n",
       "      dtype=float32)"
      ]
     },
     "execution_count": 144,
     "metadata": {},
     "output_type": "execute_result"
    }
   ],
   "source": [
    "#Get all bias weight values for layet 0\n",
    "model.layers[0].get_weights()[1]"
   ]
  },
  {
   "cell_type": "markdown",
   "metadata": {},
   "source": [
    "### Training the model"
   ]
  },
  {
   "cell_type": "raw",
   "metadata": {
    "ExecuteTime": {
     "start_time": "2019-04-25T17:10:08.906Z"
    }
   },
   "source": [
    "train_generator_num_samples = len(train_generator.filenames)\n",
    "val_generator_num_samples = len(val_generator.filenames)\n",
    "model.fit_generator(train_generator, epochs=num_epoch, validation_data=val_generator,verbose=3,\n",
    "                   steps_per_epoch=math.ceil(train_generator_num_samples / batch_size), \n",
    "                    validation_steps=math.ceil(val_generator_num_samples / batch_size))"
   ]
  },
  {
   "cell_type": "code",
   "execution_count": null,
   "metadata": {
    "ExecuteTime": {
     "end_time": "2019-04-25T16:54:00.746819Z",
     "start_time": "2019-04-25T16:54:00.319272Z"
    }
   },
   "outputs": [],
   "source": []
  },
  {
   "cell_type": "code",
   "execution_count": null,
   "metadata": {},
   "outputs": [],
   "source": []
  },
  {
   "cell_type": "markdown",
   "metadata": {},
   "source": [
    "## Building a CNN using transfer Learning"
   ]
  },
  {
   "cell_type": "markdown",
   "metadata": {},
   "source": [
    "### Define model"
   ]
  },
  {
   "cell_type": "code",
   "execution_count": 145,
   "metadata": {
    "ExecuteTime": {
     "end_time": "2019-04-26T04:22:39.866015Z",
     "start_time": "2019-04-26T04:22:33.707096Z"
    },
    "scrolled": true
   },
   "outputs": [
    {
     "name": "stdout",
     "output_type": "stream",
     "text": [
      "_________________________________________________________________\n",
      "Layer (type)                 Output Shape              Param #   \n",
      "=================================================================\n",
      "input_5 (InputLayer)         (None, 224, 224, 3)       0         \n",
      "_________________________________________________________________\n",
      "block1_conv1 (Conv2D)        (None, 224, 224, 64)      1792      \n",
      "_________________________________________________________________\n",
      "block1_conv2 (Conv2D)        (None, 224, 224, 64)      36928     \n",
      "_________________________________________________________________\n",
      "block1_pool (MaxPooling2D)   (None, 112, 112, 64)      0         \n",
      "_________________________________________________________________\n",
      "block2_conv1 (Conv2D)        (None, 112, 112, 128)     73856     \n",
      "_________________________________________________________________\n",
      "block2_conv2 (Conv2D)        (None, 112, 112, 128)     147584    \n",
      "_________________________________________________________________\n",
      "block2_pool (MaxPooling2D)   (None, 56, 56, 128)       0         \n",
      "_________________________________________________________________\n",
      "block3_conv1 (Conv2D)        (None, 56, 56, 256)       295168    \n",
      "_________________________________________________________________\n",
      "block3_conv2 (Conv2D)        (None, 56, 56, 256)       590080    \n",
      "_________________________________________________________________\n",
      "block3_conv3 (Conv2D)        (None, 56, 56, 256)       590080    \n",
      "_________________________________________________________________\n",
      "block3_pool (MaxPooling2D)   (None, 28, 28, 256)       0         \n",
      "_________________________________________________________________\n",
      "block4_conv1 (Conv2D)        (None, 28, 28, 512)       1180160   \n",
      "_________________________________________________________________\n",
      "block4_conv2 (Conv2D)        (None, 28, 28, 512)       2359808   \n",
      "_________________________________________________________________\n",
      "block4_conv3 (Conv2D)        (None, 28, 28, 512)       2359808   \n",
      "_________________________________________________________________\n",
      "block4_pool (MaxPooling2D)   (None, 14, 14, 512)       0         \n",
      "_________________________________________________________________\n",
      "block5_conv1 (Conv2D)        (None, 14, 14, 512)       2359808   \n",
      "_________________________________________________________________\n",
      "block5_conv2 (Conv2D)        (None, 14, 14, 512)       2359808   \n",
      "_________________________________________________________________\n",
      "block5_conv3 (Conv2D)        (None, 14, 14, 512)       2359808   \n",
      "_________________________________________________________________\n",
      "block5_pool (MaxPooling2D)   (None, 7, 7, 512)         0         \n",
      "_________________________________________________________________\n",
      "flatten (Flatten)            (None, 25088)             0         \n",
      "_________________________________________________________________\n",
      "fc1 (Dense)                  (None, 4096)              102764544 \n",
      "_________________________________________________________________\n",
      "fc2 (Dense)                  (None, 4096)              16781312  \n",
      "_________________________________________________________________\n",
      "predictions (Dense)          (None, 1000)              4097000   \n",
      "=================================================================\n",
      "Total params: 138,357,544\n",
      "Trainable params: 138,357,544\n",
      "Non-trainable params: 0\n",
      "_________________________________________________________________\n"
     ]
    }
   ],
   "source": [
    "#Define input layer\n",
    "image_input = Input(shape=(img_rows, img_cols, num_channel))\n",
    "\n",
    "#Import VGG16 trained weights\n",
    "model = VGG16(input_tensor=image_input, include_top=True, weights='imagenet')\n",
    "model.summary()\n"
   ]
  },
  {
   "cell_type": "markdown",
   "metadata": {},
   "source": [
    "#### Take the trained weights only from last layer\n"
   ]
  },
  {
   "cell_type": "raw",
   "metadata": {
    "ExecuteTime": {
     "end_time": "2019-04-25T18:42:30.598014Z",
     "start_time": "2019-04-25T18:42:30.494Z"
    },
    "scrolled": true
   },
   "source": [
    "num_classes = train_generator.num_classes\n",
    "last_layer = model.get_layer('fc2').output\n",
    "out = Dense(num_classes, activation='softmax', name='output')(last_layer)\n",
    "\n",
    "#Define the new altered model\n",
    "# we have replaced the last layer with our output layer\n",
    "cust_vgg_model = Model(image_input, out)\n",
    "cust_vgg_model.summary()"
   ]
  },
  {
   "cell_type": "markdown",
   "metadata": {},
   "source": [
    "#### Train the model"
   ]
  },
  {
   "cell_type": "raw",
   "metadata": {
    "ExecuteTime": {
     "end_time": "2019-04-25T18:42:30.598893Z",
     "start_time": "2019-04-25T18:42:30.554Z"
    }
   },
   "source": [
    "for layer in cust_vgg_model.layers[:-1]:\n",
    "    layer.trainable = False"
   ]
  },
  {
   "cell_type": "raw",
   "metadata": {
    "ExecuteTime": {
     "end_time": "2019-04-25T18:42:30.599815Z",
     "start_time": "2019-04-25T18:42:30.556Z"
    }
   },
   "source": [
    "adam = Adam(lr=.001, beta_1=.9, beta_2=.99)\n",
    "cust_vgg_model.compile(loss='categorical_crossentropy', optimizer=adam, metrics=['accuracy'])\n",
    "cust_vgg_model.fit_generator(train_generator, epochs=num_epoch, verbose=1, validation_data=val_generator)"
   ]
  },
  {
   "cell_type": "code",
   "execution_count": null,
   "metadata": {},
   "outputs": [],
   "source": []
  },
  {
   "cell_type": "markdown",
   "metadata": {},
   "source": [
    "#### Take the trained weights only from last 3 layer"
   ]
  },
  {
   "cell_type": "code",
   "execution_count": 146,
   "metadata": {
    "ExecuteTime": {
     "end_time": "2019-04-26T04:22:39.991862Z",
     "start_time": "2019-04-26T04:22:39.885403Z"
    },
    "scrolled": true
   },
   "outputs": [
    {
     "name": "stdout",
     "output_type": "stream",
     "text": [
      "_________________________________________________________________\n",
      "Layer (type)                 Output Shape              Param #   \n",
      "=================================================================\n",
      "input_5 (InputLayer)         (None, 224, 224, 3)       0         \n",
      "_________________________________________________________________\n",
      "block1_conv1 (Conv2D)        (None, 224, 224, 64)      1792      \n",
      "_________________________________________________________________\n",
      "block1_conv2 (Conv2D)        (None, 224, 224, 64)      36928     \n",
      "_________________________________________________________________\n",
      "block1_pool (MaxPooling2D)   (None, 112, 112, 64)      0         \n",
      "_________________________________________________________________\n",
      "block2_conv1 (Conv2D)        (None, 112, 112, 128)     73856     \n",
      "_________________________________________________________________\n",
      "block2_conv2 (Conv2D)        (None, 112, 112, 128)     147584    \n",
      "_________________________________________________________________\n",
      "block2_pool (MaxPooling2D)   (None, 56, 56, 128)       0         \n",
      "_________________________________________________________________\n",
      "block3_conv1 (Conv2D)        (None, 56, 56, 256)       295168    \n",
      "_________________________________________________________________\n",
      "block3_conv2 (Conv2D)        (None, 56, 56, 256)       590080    \n",
      "_________________________________________________________________\n",
      "block3_conv3 (Conv2D)        (None, 56, 56, 256)       590080    \n",
      "_________________________________________________________________\n",
      "block3_pool (MaxPooling2D)   (None, 28, 28, 256)       0         \n",
      "_________________________________________________________________\n",
      "block4_conv1 (Conv2D)        (None, 28, 28, 512)       1180160   \n",
      "_________________________________________________________________\n",
      "block4_conv2 (Conv2D)        (None, 28, 28, 512)       2359808   \n",
      "_________________________________________________________________\n",
      "block4_conv3 (Conv2D)        (None, 28, 28, 512)       2359808   \n",
      "_________________________________________________________________\n",
      "block4_pool (MaxPooling2D)   (None, 14, 14, 512)       0         \n",
      "_________________________________________________________________\n",
      "block5_conv1 (Conv2D)        (None, 14, 14, 512)       2359808   \n",
      "_________________________________________________________________\n",
      "block5_conv2 (Conv2D)        (None, 14, 14, 512)       2359808   \n",
      "_________________________________________________________________\n",
      "block5_conv3 (Conv2D)        (None, 14, 14, 512)       2359808   \n",
      "_________________________________________________________________\n",
      "block5_pool (MaxPooling2D)   (None, 7, 7, 512)         0         \n",
      "_________________________________________________________________\n",
      "flatten (Flatten)            (None, 25088)             0         \n",
      "_________________________________________________________________\n",
      "fc1 (Dense)                  (None, 128)               3211392   \n",
      "_________________________________________________________________\n",
      "fc2 (Dense)                  (None, 128)               16512     \n",
      "_________________________________________________________________\n",
      "output (Dense)               (None, 10)                1290      \n",
      "=================================================================\n",
      "Total params: 17,943,882\n",
      "Trainable params: 17,943,882\n",
      "Non-trainable params: 0\n",
      "_________________________________________________________________\n"
     ]
    }
   ],
   "source": [
    "num_classes = train_generator.num_classes\n",
    "last_layer = model.get_layer('block5_pool').output\n",
    "x = Flatten(name='flatten')(last_layer)\n",
    "x = Dense(128, activation='relu', name='fc1')(x)\n",
    "x = Dense(128, activation='relu', name='fc2')(x)\n",
    "out = Dense(num_classes, activation='softmax', name='output')(x)\n",
    "\n",
    "\n",
    "#Define the new altered model\n",
    "# we have replaced the last layer with our output layer\n",
    "cust_vgg_model2 = Model(image_input, out)\n",
    "cust_vgg_model2.summary()"
   ]
  },
  {
   "cell_type": "markdown",
   "metadata": {},
   "source": [
    "#### Train the model"
   ]
  },
  {
   "cell_type": "code",
   "execution_count": 147,
   "metadata": {
    "ExecuteTime": {
     "end_time": "2019-04-25T19:42:01.108263Z",
     "start_time": "2019-04-25T19:42:01.105237Z"
    }
   },
   "outputs": [],
   "source": [
    "for layer in cust_vgg_model2.layers[:-3]:\n",
    "    layer.trainable = False"
   ]
  },
  {
   "cell_type": "code",
   "execution_count": 148,
   "metadata": {
    "ExecuteTime": {
     "end_time": "2019-04-25T23:55:25.716202Z",
     "start_time": "2019-04-25T19:42:01.110345Z"
    }
   },
   "outputs": [
    {
     "name": "stdout",
     "output_type": "stream",
     "text": [
      "Epoch 1/100\n",
      "75/75 [==============================] - 12s 158ms/step - loss: 0.4488 - acc: 0.8818 - val_loss: 0.0441 - val_acc: 0.9865\n",
      "Epoch 2/100\n",
      "75/75 [==============================] - 9s 121ms/step - loss: 0.0365 - acc: 0.9917 - val_loss: 0.0585 - val_acc: 0.9865\n"
     ]
    },
    {
     "data": {
      "text/plain": [
       "<keras.callbacks.History at 0x7fc62ce17b00>"
      ]
     },
     "execution_count": 148,
     "metadata": {},
     "output_type": "execute_result"
    }
   ],
   "source": [
    "train_generator_num_samples = len(train_generator.filenames)\n",
    "val_generator_num_samples = len(val_generator.filenames)\n",
    "\n",
    "adam = Adam(lr=.001, beta_1=.9, beta_2=.99)\n",
    "cust_vgg_model2.compile(loss='categorical_crossentropy', optimizer=adam, metrics=['accuracy'])\n",
    "cust_vgg_model2.fit_generator(train_generator, epochs=num_epoch, verbose=1, validation_data=val_generator, \n",
    "                              steps_per_epoch=math.ceil(train_generator_num_samples / batch_size), validation_steps=math.ceil(val_generator_num_samples / batch_size),\n",
    "                             callbacks=[EarlyStopping(monitor='val_loss',min_delta=0.0001)])\n"
   ]
  },
  {
   "cell_type": "markdown",
   "metadata": {},
   "source": [
    "### Save the weights"
   ]
  },
  {
   "cell_type": "code",
   "execution_count": 149,
   "metadata": {
    "ExecuteTime": {
     "start_time": "2019-04-26T04:22:28.286Z"
    }
   },
   "outputs": [],
   "source": [
    "# Serialize model to JSON\n",
    "model_json = cust_vgg_model2.to_json()\n",
    "with open(\"./model_image_1.json\", \"w\") as json_file:\n",
    "    json_file.write(model_json)\n",
    "\n",
    "# Serialize weights to HDF5\n",
    "cust_vgg_model2.save_weights(\"./model_image_1.h5\")\n"
   ]
  },
  {
   "cell_type": "code",
   "execution_count": 150,
   "metadata": {},
   "outputs": [
    {
     "name": "stdout",
     "output_type": "stream",
     "text": [
      "__notebook_source__.ipynb\n",
      "model_image_1.h5\n",
      "model_image_1.json\n",
      "\n"
     ]
    }
   ],
   "source": [
    "from subprocess import check_output\n",
    "print(check_output([\"ls\", \".\"]).decode(\"utf8\"))"
   ]
  },
  {
   "cell_type": "markdown",
   "metadata": {},
   "source": [
    "### Load the weights"
   ]
  },
  {
   "cell_type": "code",
   "execution_count": 151,
   "metadata": {
    "ExecuteTime": {
     "start_time": "2019-04-26T04:22:28.353Z"
    }
   },
   "outputs": [],
   "source": [
    "# Load json and create model\n",
    "json_file = open('./model_image_1.json', 'r')\n",
    "loaded_model_json_1 = json_file.read()\n",
    "json_file.close()\n",
    "loaded_model_json_1 = model_from_json(loaded_model_json_1)\n",
    "\n",
    "# Load weights into new model\n",
    "loaded_model_json_1.load_weights(\"./model_image_1.h5\")"
   ]
  },
  {
   "cell_type": "markdown",
   "metadata": {},
   "source": [
    "### Model evaluation on test data"
   ]
  },
  {
   "cell_type": "code",
   "execution_count": 152,
   "metadata": {
    "ExecuteTime": {
     "start_time": "2019-04-26T04:22:28.415Z"
    }
   },
   "outputs": [
    {
     "name": "stdout",
     "output_type": "stream",
     "text": [
      "Found 741 images belonging to 10 classes.\n"
     ]
    }
   ],
   "source": [
    "#Test data, only original data NO augmentation\n",
    "test_data_gen = ImageDataGenerator(rescale=1./255) \n",
    "\n",
    "\n",
    "#Validation data generator\n",
    "TEST_DATA_PATH = \"../input/10_categories/10_categories/test/\"\n",
    "\n",
    "test_generator = test_data_gen.flow_from_directory(\n",
    "        TEST_DATA_PATH,\n",
    "        target_size=(img_rows, img_cols),\n",
    "        batch_size=batch_size,\n",
    "        class_mode='categorical',\n",
    "        color_mode='rgb', \n",
    "        shuffle=False)\n",
    "\n",
    "test_generator_num_samples = len(test_generator.filenames)"
   ]
  },
  {
   "cell_type": "code",
   "execution_count": 153,
   "metadata": {},
   "outputs": [
    {
     "name": "stdout",
     "output_type": "stream",
     "text": [
      "24/24 [==============================] - 3s 112ms/step\n",
      "Loss:  0.07477175302985131 Accuracy:  0.9730094468545335\n"
     ]
    }
   ],
   "source": [
    "fd_model_evaluate = cust_vgg_model2.evaluate_generator(test_generator, verbose=1, steps=math.ceil(test_generator_num_samples / batch_size))\n",
    "print(\"Loss: \", fd_model_evaluate[0], \"Accuracy: \", fd_model_evaluate[1])"
   ]
  },
  {
   "cell_type": "code",
   "execution_count": 154,
   "metadata": {
    "ExecuteTime": {
     "start_time": "2019-04-26T04:22:28.424Z"
    }
   },
   "outputs": [
    {
     "name": "stdout",
     "output_type": "stream",
     "text": [
      "24/24 [==============================] - 3s 117ms/step\n",
      "[0 0 0 0 0 0 0 6 0 0 0 0 0 0 0 0 0 0 0 0 0 0 0 0 0 0 0 0 0 0 0 0 0 0 0 0 0\n",
      " 0 0 0 0 0 0 0 0 1 0 0 0 0 0 0 0 0 6 0 0 0 0 0 0 1 1 1 1 1 1 1 1 1 1 1 1 1\n",
      " 1 1 1 1 1 1 1 1 1 1 1 1 1 1 1 1 1 1 1 1 1 1 1 1 1 1 1 1 1 1 1 1 1 1 1 1 1\n",
      " 1 1 1 1 1 1 1 1 1 1 1 1 1 1 1 1 1 1 1 1 1 1 1 1 1 1 1 1 1 1 1 1 1 1 1 1 1\n",
      " 2 2 2 2 1 2 2 2 2 2 2 2 2 2 2 2 2 2 2 2 2 2 2 2 2 2 2 2 2 2 2 2 2 2 2 2 2\n",
      " 2 2 2 2 2 2 2 2 2 2 2 2 2 2 2 2 1 1 2 2 2 2 2 2 2 2 2 2 2 2 2 2 2 2 2 2 2\n",
      " 2 2 2 2 2 2 2 2 2 2 2 2 2 3 3 3 3 3 3 3 3 3 3 3 3 3 3 0 3 3 3 3 3 3 3 3 3\n",
      " 3 3 3 3 3 3 3 3 3 3 3 0 3 3 3 3 4 4 4 4 4 4 4 4 4 4 4 4 4 4 4 4 4 4 4 4 4\n",
      " 4 4 4 4 4 4 4 4 4 4 4 4 4 4 4 4 4 4 4 4 4 4 4 4 4 4 4 4 4 4 4 4 4 4 4 4 4\n",
      " 4 4 4 4 4 4 4 4 4 4 4 4 4 4 4 4 4 4 4 4 4 4 4 4 4 4 4 4 4 4 4 4 4 4 4 4 4\n",
      " 4 4 4 4 4 4 4 4 4 4 4 4 4 4 4 4 0 4 4 4 4 4 4 4 4 4 4 4 4 4 4 4 4 4 4 4 4\n",
      " 4 4 4 4 4 4 4 4 4 4 4 4 4 4 4 4 4 4 4 4 4 4 4 4 4 4 4 5 5 5 5 5 5 5 0 5 5\n",
      " 0 5 5 5 5 5 5 5 5 5 5 5 5 5 5 5 5 5 5 5 5 5 5 5 5 5 5 5 5 5 5 5 5 5 5 5 5\n",
      " 5 5 5 5 5 5 5 5 5 5 5 5 5 5 5 5 5 5 5 5 5 5 5 5 5 5 5 5 5 5 5 5 5 5 5 5 5\n",
      " 5 5 5 5 5 5 5 5 5 5 5 5 5 5 5 5 5 5 5 5 5 5 5 5 5 5 5 5 5 5 5 5 5 5 5 5 5\n",
      " 5 5 5 5 5 5 5 5 5 5 5 5 5 5 5 5 5 5 5 5 5 5 5 5 5 5 5 5 5 5 5 5 5 5 5 5 5\n",
      " 5 5 6 6 6 6 6 6 6 6 6 6 6 6 6 6 6 6 6 6 6 6 6 6 6 6 6 7 7 7 7 7 7 7 7 7 7\n",
      " 7 7 7 7 7 7 7 7 7 7 7 7 7 7 8 8 8 0 8 8 8 8 8 0 8 8 8 8 0 8 8 8 8 9 9 9 9\n",
      " 9 9 9 9 9 9 9 9 9 9 9 9 0 9 9 9 9 9 9 9 9 9 9 9 9 9 9 9 9 9 9 9 9 9 9 9 9\n",
      " 9 9 0 9 0 9 0 0 0 0 0 0 0 0 0 0 0 0 6 0 6 0 0 0 0 0 0 0 0 9 0 0 0 0 0 0 0\n",
      " 0]\n"
     ]
    }
   ],
   "source": [
    "Y_pred = loaded_model_json_1.predict_generator(test_generator, verbose=1, steps=math.ceil(test_generator_num_samples / batch_size))\n",
    "y_pred = np.argmax(Y_pred, axis=1)\n",
    "print(y_pred)"
   ]
  },
  {
   "cell_type": "code",
   "execution_count": null,
   "metadata": {},
   "outputs": [],
   "source": []
  },
  {
   "cell_type": "code",
   "execution_count": null,
   "metadata": {},
   "outputs": [],
   "source": []
  },
  {
   "cell_type": "code",
   "execution_count": null,
   "metadata": {},
   "outputs": [],
   "source": []
  },
  {
   "cell_type": "markdown",
   "metadata": {},
   "source": [
    "## ToDo\n",
    "\n",
    "1. Is balanced dataset?\n",
    "2. What is the correct evaluation matrix?\n",
    "3. Is data augmentation required?\n"
   ]
  }
 ],
 "metadata": {
  "kernelspec": {
   "display_name": "Python 3",
   "language": "python",
   "name": "python3"
  },
  "language_info": {
   "codemirror_mode": {
    "name": "ipython",
    "version": 3
   },
   "file_extension": ".py",
   "mimetype": "text/x-python",
   "name": "python",
   "nbconvert_exporter": "python",
   "pygments_lexer": "ipython3",
   "version": "3.6.7"
  },
  "toc": {
   "base_numbering": 1,
   "nav_menu": {},
   "number_sections": true,
   "sideBar": true,
   "skip_h1_title": false,
   "title_cell": "Table of Contents",
   "title_sidebar": "Contents",
   "toc_cell": false,
   "toc_position": {},
   "toc_section_display": true,
   "toc_window_display": false
  },
  "varInspector": {
   "cols": {
    "lenName": 16,
    "lenType": 16,
    "lenVar": 40
   },
   "kernels_config": {
    "python": {
     "delete_cmd_postfix": "",
     "delete_cmd_prefix": "del ",
     "library": "var_list.py",
     "varRefreshCmd": "print(var_dic_list())"
    },
    "r": {
     "delete_cmd_postfix": ") ",
     "delete_cmd_prefix": "rm(",
     "library": "var_list.r",
     "varRefreshCmd": "cat(var_dic_list()) "
    }
   },
   "oldHeight": 122,
   "position": {
    "height": "40px",
    "left": "1650px",
    "right": "20px",
    "top": "120px",
    "width": "250px"
   },
   "types_to_exclude": [
    "module",
    "function",
    "builtin_function_or_method",
    "instance",
    "_Feature"
   ],
   "varInspector_section_display": "none",
   "window_display": true
  }
 },
 "nbformat": 4,
 "nbformat_minor": 1
}
