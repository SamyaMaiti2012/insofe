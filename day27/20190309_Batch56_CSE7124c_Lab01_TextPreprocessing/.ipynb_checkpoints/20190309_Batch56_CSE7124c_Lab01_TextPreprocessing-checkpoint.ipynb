{
 "cells": [
  {
   "cell_type": "markdown",
   "metadata": {},
   "source": [
    "# CSE 7124c Lab - Text Preprocessing"
   ]
  },
  {
   "cell_type": "markdown",
   "metadata": {},
   "source": [
    "Natural Language Toolkit\n",
    "\n",
    "NLTK is a leading platform for building Python programs to work with human language data. It provides easy-to-use interfaces to over 50 corpora and lexical resources such as WordNet, along with a suite of text processing libraries for classification, tokenization, stemming, tagging, parsing, and semantic reasoning, wrappers for industrial-strength NLP libraries, and an active discussion forum. Thanks to a hands-on guide introducing programming fundamentals alongside topics in computational linguistics, plus comprehensive API documentation, NLTK is suitable for linguists, engineers, students, educators, researchers, and industry users alike. NLTK is available for Windows, Mac OS X, and Linux. Best of all, NLTK is a free, open source, community-driven project. For more details - www.nltk.org"
   ]
  },
  {
   "cell_type": "code",
   "execution_count": 1,
   "metadata": {
    "ExecuteTime": {
     "end_time": "2019-03-15T07:22:46.175179Z",
     "start_time": "2019-03-15T07:22:46.165150Z"
    }
   },
   "outputs": [],
   "source": [
    "# !pip install nltk"
   ]
  },
  {
   "cell_type": "code",
   "execution_count": 2,
   "metadata": {
    "ExecuteTime": {
     "end_time": "2019-03-15T07:22:48.159997Z",
     "start_time": "2019-03-15T07:22:46.466168Z"
    }
   },
   "outputs": [],
   "source": [
    "import nltk\n",
    "# nltk.download()"
   ]
  },
  {
   "cell_type": "code",
   "execution_count": 3,
   "metadata": {
    "ExecuteTime": {
     "end_time": "2019-03-15T07:22:48.177549Z",
     "start_time": "2019-03-15T07:22:48.174173Z"
    }
   },
   "outputs": [],
   "source": [
    "string = '''At Waterloo we were fortunate in catching a train for Leatherhead, where we hired a trap at the station inn and drove for four or five miles through the lovely Surrey lanes. \n",
    "It was a perfect day, with a bright sun and a few fleecy clouds in the heavens. The trees and wayside hedges were just throwing out their first green shoots, and the air was full of the pleasant smell of the moist earth. To me at least there was a strange contrast between the sweet promise of the spring and this sinister quest upon which we were engaged. \n",
    "My companion Mr. Alfred sat in the front of the trap, his arms folded, his hat pulled down over his eyes, and his chin sunk upon his breast, buried in the deepest thought. \n",
    "Suddenly, however, he started, tapped me on the shoulder, and pointed over the meadows.\n",
    "At Waterloo we were fortunate in catching a train for Leatherhead, where we hired a trap at the station inn and drove for four or five miles through the lovely Surrey lanes. \n",
    "It was a perfect day, with a bright sun and a few fleecy clouds in the heavens.'''"
   ]
  },
  {
   "cell_type": "code",
   "execution_count": 4,
   "metadata": {
    "ExecuteTime": {
     "end_time": "2019-03-15T07:22:48.236899Z",
     "start_time": "2019-03-15T07:22:48.225943Z"
    }
   },
   "outputs": [
    {
     "data": {
      "text/plain": [
       "'At Waterloo we were fortunate in catching a train for Leatherhead, where we hired a trap at the station inn and drove for four or five miles through the lovely Surrey lanes. \\nIt was a perfect day, with a bright sun and a few fleecy clouds in the heavens. The trees and wayside hedges were just throwing out their first green shoots, and the air was full of the pleasant smell of the moist earth. To me at least there was a strange contrast between the sweet promise of the spring and this sinister quest upon which we were engaged. \\nMy companion Mr. Alfred sat in the front of the trap, his arms folded, his hat pulled down over his eyes, and his chin sunk upon his breast, buried in the deepest thought. \\nSuddenly, however, he started, tapped me on the shoulder, and pointed over the meadows.\\nAt Waterloo we were fortunate in catching a train for Leatherhead, where we hired a trap at the station inn and drove for four or five miles through the lovely Surrey lanes. \\nIt was a perfect day, with a bright sun and a few fleecy clouds in the heavens.'"
      ]
     },
     "execution_count": 4,
     "metadata": {},
     "output_type": "execute_result"
    }
   ],
   "source": [
    "string"
   ]
  },
  {
   "cell_type": "code",
   "execution_count": 6,
   "metadata": {
    "ExecuteTime": {
     "end_time": "2019-03-15T07:23:07.218701Z",
     "start_time": "2019-03-15T07:23:07.214828Z"
    }
   },
   "outputs": [
    {
     "data": {
      "text/plain": [
       "str"
      ]
     },
     "execution_count": 6,
     "metadata": {},
     "output_type": "execute_result"
    }
   ],
   "source": [
    "type(string)"
   ]
  },
  {
   "cell_type": "code",
   "execution_count": 5,
   "metadata": {
    "ExecuteTime": {
     "end_time": "2019-03-15T07:22:50.725212Z",
     "start_time": "2019-03-15T07:22:50.720956Z"
    }
   },
   "outputs": [
    {
     "data": {
      "text/plain": [
       "1048"
      ]
     },
     "execution_count": 5,
     "metadata": {},
     "output_type": "execute_result"
    }
   ],
   "source": [
    "len(string)"
   ]
  },
  {
   "cell_type": "markdown",
   "metadata": {},
   "source": [
    "# Tokenizing"
   ]
  },
  {
   "cell_type": "code",
   "execution_count": 6,
   "metadata": {
    "collapsed": true
   },
   "outputs": [],
   "source": [
    "from nltk.tokenize import word_tokenize, sent_tokenize\n",
    "sent_tokens = sent_tokenize(string)"
   ]
  },
  {
   "cell_type": "code",
   "execution_count": 7,
   "metadata": {},
   "outputs": [
    {
     "name": "stdout",
     "output_type": "stream",
     "text": [
      "At Waterloo we were fortunate in catching a train for Leatherhead, where we hired a trap at the station inn and drove for four or five miles through the lovely Surrey lanes.\n",
      "It was a perfect day, with a bright sun and a few fleecy clouds in the heavens.\n",
      "The trees and wayside hedges were just throwing out their first green shoots, and the air was full of the pleasant smell of the moist earth.\n",
      "To me at least there was a strange contrast between the sweet promise of the spring and this sinister quest upon which we were engaged.\n",
      "My companion Mr. Alfred sat in the front of the trap, his arms folded, his hat pulled down over his eyes, and his chin sunk upon his breast, buried in the deepest thought.\n",
      "Suddenly, however, he started, tapped me on the shoulder, and pointed over the meadows.\n",
      "At Waterloo we were fortunate in catching a train for Leatherhead, where we hired a trap at the station inn and drove for four or five miles through the lovely Surrey lanes.\n",
      "It was a perfect day, with a bright sun and a few fleecy clouds in the heavens.\n"
     ]
    }
   ],
   "source": [
    "for sent in sent_tokens:\n",
    "    print(sent)"
   ]
  },
  {
   "cell_type": "code",
   "execution_count": 8,
   "metadata": {},
   "outputs": [
    {
     "data": {
      "text/plain": [
       "8"
      ]
     },
     "execution_count": 8,
     "metadata": {},
     "output_type": "execute_result"
    }
   ],
   "source": [
    "len(sent_tokens)"
   ]
  },
  {
   "cell_type": "code",
   "execution_count": 9,
   "metadata": {},
   "outputs": [
    {
     "name": "stdout",
     "output_type": "stream",
     "text": [
      "['At', 'Waterloo', 'we', 'were', 'fortunate', 'in', 'catching', 'a', 'train', 'for', 'Leatherhead', ',', 'where', 'we', 'hired', 'a', 'trap', 'at', 'the', 'station', 'inn', 'and', 'drove', 'for', 'four', 'or', 'five', 'miles', 'through', 'the', 'lovely', 'Surrey', 'lanes', '.', 'It', 'was', 'a', 'perfect', 'day', ',', 'with', 'a', 'bright', 'sun', 'and', 'a', 'few', 'fleecy', 'clouds', 'in', 'the', 'heavens', '.', 'The', 'trees', 'and', 'wayside', 'hedges', 'were', 'just', 'throwing', 'out', 'their', 'first', 'green', 'shoots', ',', 'and', 'the', 'air', 'was', 'full', 'of', 'the', 'pleasant', 'smell', 'of', 'the', 'moist', 'earth', '.', 'To', 'me', 'at', 'least', 'there', 'was', 'a', 'strange', 'contrast', 'between', 'the', 'sweet', 'promise', 'of', 'the', 'spring', 'and', 'this', 'sinister', 'quest', 'upon', 'which', 'we', 'were', 'engaged', '.', 'My', 'companion', 'Mr.', 'Alfred', 'sat', 'in', 'the', 'front', 'of', 'the', 'trap', ',', 'his', 'arms', 'folded', ',', 'his', 'hat', 'pulled', 'down', 'over', 'his', 'eyes', ',', 'and', 'his', 'chin', 'sunk', 'upon', 'his', 'breast', ',', 'buried', 'in', 'the', 'deepest', 'thought', '.', 'Suddenly', ',', 'however', ',', 'he', 'started', ',', 'tapped', 'me', 'on', 'the', 'shoulder', ',', 'and', 'pointed', 'over', 'the', 'meadows', '.', 'At', 'Waterloo', 'we', 'were', 'fortunate', 'in', 'catching', 'a', 'train', 'for', 'Leatherhead', ',', 'where', 'we', 'hired', 'a', 'trap', 'at', 'the', 'station', 'inn', 'and', 'drove', 'for', 'four', 'or', 'five', 'miles', 'through', 'the', 'lovely', 'Surrey', 'lanes', '.', 'It', 'was', 'a', 'perfect', 'day', ',', 'with', 'a', 'bright', 'sun', 'and', 'a', 'few', 'fleecy', 'clouds', 'in', 'the', 'heavens', '.']\n"
     ]
    }
   ],
   "source": [
    "tokens = word_tokenize(string)\n",
    "print(tokens)"
   ]
  },
  {
   "cell_type": "code",
   "execution_count": 10,
   "metadata": {},
   "outputs": [
    {
     "name": "stdout",
     "output_type": "stream",
     "text": [
      "At\n"
     ]
    }
   ],
   "source": [
    "tokens = word_tokenize(string)\n",
    "print(tokens[0])"
   ]
  },
  {
   "cell_type": "markdown",
   "metadata": {},
   "source": [
    "## Example"
   ]
  },
  {
   "cell_type": "code",
   "execution_count": 11,
   "metadata": {
    "collapsed": true
   },
   "outputs": [],
   "source": [
    "mysentence1 = \"Let's meet Dr. Jekyll and Mr. Hyde\"\n",
    "mysentence2 = \"Let's meet Jekyll Dr.\""
   ]
  },
  {
   "cell_type": "code",
   "execution_count": 12,
   "metadata": {},
   "outputs": [
    {
     "name": "stdout",
     "output_type": "stream",
     "text": [
      "['Let', \"'s\", 'meet', 'Dr.', 'Jekyll', 'and', 'Mr.', 'Hyde']\n",
      "['Let', \"'s\", 'meet', 'Jekyll', 'Dr', '.']\n"
     ]
    }
   ],
   "source": [
    "tokens1 = word_tokenize(mysentence1)\n",
    "print(tokens1)\n",
    "tokens2 = word_tokenize(mysentence2)\n",
    "print(tokens2)"
   ]
  },
  {
   "cell_type": "markdown",
   "metadata": {},
   "source": [
    "word_tokenize - splits strings to words and seperates punctuations also."
   ]
  },
  {
   "cell_type": "markdown",
   "metadata": {},
   "source": [
    "## Regular-Expression Tokenizers\n",
    "\n",
    "A RegexpTokenizer splits a string into substrings using a regular expression. For example, the following tokenizer forms tokens out of alphabetic sequences, money expressions, and any other non-whitespace sequences:('\\w+|$[\\d.]+|\\S+') For more information or different variations - http://www.nltk.org/api/nltk.tokenize.html#module-nltk.tokenize http://www.nltk.org/howto/tokenize.html"
   ]
  },
  {
   "cell_type": "markdown",
   "metadata": {},
   "source": [
    "Regular Expressions \n",
    "1. \\d - Matches any decimal digit; this is equivalent to the class [0-9].\n",
    "2. \\D - Matches any non-digit character; this is equivalent to the class [^0-9].\n",
    "3. \\s - Matches any whitespace character; this is equivalent to the class \n",
    "4. \\S - Matches any non-whitespace character; this is equivalent to the class\n",
    "5. \\w - Matches any alphanumeric character; this is equivalent to the class [a-zA-Z0-9_].\n",
    "6. \\W - Matches any non-alphanumeric character; this is equivalent to the class [^a-zA-Z0-9_].\n",
    "\n",
    "The special characters are:\n",
    "\n",
    "7. '.' - (Dot.) In the default mode, this matches any character except a newline. If the DOTALL flag has been specified, this             matches any character including a newline.\n",
    "8. '^' - (Caret.) Matches the start of the string, and in MULTILINE mode also matches immediately after each newline.\n",
    "9. '$' - Matches the end of the string or just before the newline at the end of the string, and in MULTILINE mode also matches            before a newline. \n",
    "10. '\\*' - Causes the resulting RE to match 0 or more repetitions of the preceding RE, as many repetitions as are possible. ab*             will match ‘a’, ‘ab’, or ‘a’ followed by any number of ‘b’s.\n",
    "11. '+' - Causes the resulting RE to match 1 or more repetitions of the preceding RE. ab+ will match ‘a’ followed by any non-             zero number of ‘b’s; it will not match just ‘a’.\n",
    "12. '?' - Causes the resulting RE to match 0 or 1 repetitions of the preceding RE. ab? will match either ‘a’ or ‘ab’.\n",
    "13. '\\' - Either escapes special characters (permitting you to match characters like '*', '?', and so forth), or signals a                 special sequence; special sequences are discussed below.\n",
    "14. [] - Used to indicate a set of characters. In a set: Example: Characters can be listed individually, e.g. [amk] will match            'a', 'm', or 'k'.\n",
    "15. '|' - A|B, where A and B can be arbitrary REs, creates a regular expression that will match either A or B. An arbitrary               number of REs can be separated by the '|' in this way.\n"
   ]
  },
  {
   "cell_type": "code",
   "execution_count": 13,
   "metadata": {},
   "outputs": [
    {
     "name": "stdout",
     "output_type": "stream",
     "text": [
      "['At', 'Waterloo', 'we', 'were', 'fortunate', 'in', 'catching', 'a', 'train', 'for', 'Leatherhead', 'where', 'we', 'hired', 'a', 'trap', 'at', 'the', 'station', 'inn', 'and', 'drove', 'for', 'four', 'or', 'five', 'miles', 'through', 'the', 'lovely', 'Surrey', 'lanes', 'It', 'was', 'a', 'perfect', 'day', 'with', 'a', 'bright', 'sun', 'and', 'a', 'few', 'fleecy', 'clouds', 'in', 'the', 'heavens', 'The', 'trees', 'and', 'wayside', 'hedges', 'were', 'just', 'throwing', 'out', 'their', 'first', 'green', 'shoots', 'and', 'the', 'air', 'was', 'full', 'of', 'the', 'pleasant', 'smell', 'of', 'the', 'moist', 'earth', 'To', 'me', 'at', 'least', 'there', 'was', 'a', 'strange', 'contrast', 'between', 'the', 'sweet', 'promise', 'of', 'the', 'spring', 'and', 'this', 'sinister', 'quest', 'upon', 'which', 'we', 'were', 'engaged', 'My', 'companion', 'Mr', 'Alfred', 'sat', 'in', 'the', 'front', 'of', 'the', 'trap', 'his', 'arms', 'folded', 'his', 'hat', 'pulled', 'down', 'over', 'his', 'eyes', 'and', 'his', 'chin', 'sunk', 'upon', 'his', 'breast', 'buried', 'in', 'the', 'deepest', 'thought', 'Suddenly', 'however', 'he', 'started', 'tapped', 'me', 'on', 'the', 'shoulder', 'and', 'pointed', 'over', 'the', 'meadows', 'At', 'Waterloo', 'we', 'were', 'fortunate', 'in', 'catching', 'a', 'train', 'for', 'Leatherhead', 'where', 'we', 'hired', 'a', 'trap', 'at', 'the', 'station', 'inn', 'and', 'drove', 'for', 'four', 'or', 'five', 'miles', 'through', 'the', 'lovely', 'Surrey', 'lanes', 'It', 'was', 'a', 'perfect', 'day', 'with', 'a', 'bright', 'sun', 'and', 'a', 'few', 'fleecy', 'clouds', 'in', 'the', 'heavens']\n"
     ]
    }
   ],
   "source": [
    "from nltk.corpus import RegexpTokenizer as regextoken\n",
    "\n",
    "tokenizer = regextoken('\\w+')\n",
    "\n",
    "tokens = tokenizer.tokenize(string)\n",
    "print(tokens)"
   ]
  },
  {
   "cell_type": "code",
   "execution_count": 14,
   "metadata": {},
   "outputs": [
    {
     "name": "stdout",
     "output_type": "stream",
     "text": [
      "['At', 'Waterloo', 'Leatherhead', 'Surrey', 'It', 'The', 'To', 'My', 'Mr', 'Alfred', 'Suddenly', 'At', 'Waterloo', 'Leatherhead', 'Surrey', 'It']\n"
     ]
    }
   ],
   "source": [
    "capword_tokenizer = regextoken('[A-Z]\\w*')\n",
    "tokens_cap=capword_tokenizer.tokenize(string)\n",
    "print(tokens_cap)"
   ]
  },
  {
   "cell_type": "code",
   "execution_count": 15,
   "metadata": {},
   "outputs": [
    {
     "name": "stdout",
     "output_type": "stream",
     "text": [
      "['fleecy', 'trees', 'green', 'between', 'sweet', 'deepest', 'fleecy']\n"
     ]
    }
   ],
   "source": [
    "text_tokenizer = regextoken('\\w*ee\\w*')\n",
    "tokens_text=text_tokenizer.tokenize(string)\n",
    "print(tokens_text)"
   ]
  },
  {
   "cell_type": "code",
   "execution_count": 16,
   "metadata": {
    "collapsed": true
   },
   "outputs": [],
   "source": [
    "string1 = '''\n",
    "At Waterloo we were fortunate in catching a train for Leatherhead at 9 AM, where we hired a trap at the station inn and drove for four or five miles through the lovely Surrey lanes. \n",
    "It was a perfect day, with a bright sun and a few fleecy clouds in the heavens. \n",
    "The trees and wayside hedges were just throwing out their first green shoots, and the air was full of the pleasant smell of the moist earth. To me at least there was a strange contrast between the sweet promise of the spring and this sinister quest upon which we were engaged. \n",
    "My companion Mr. Alfred sat in the front of the trap, his arms folded, his hat pulled down over his eyes, and his chin sunk upon his breast, buried in the deepest thought. \n",
    "Suddenly, however, he started, tapped me on the shoulder, and pointed over the meadows.\n",
    "At Waterloo we were fortunate in catching a train for Leatherhead, where we hired a trap at the station inn and drove for four or five miles through the lovely Surrey lanes. \n",
    "It was a perfect day at 11 AM, with a bright sun and a few fleecy clouds in the heavens. \n",
    "'''"
   ]
  },
  {
   "cell_type": "code",
   "execution_count": 17,
   "metadata": {},
   "outputs": [
    {
     "name": "stdout",
     "output_type": "stream",
     "text": [
      "['9', '11']\n"
     ]
    }
   ],
   "source": [
    "digit_tokenizer = regextoken('\\d+')\n",
    "tokens_dig=digit_tokenizer.tokenize(string1)\n",
    "print(tokens_dig)"
   ]
  },
  {
   "cell_type": "markdown",
   "metadata": {},
   "source": [
    "# Lower case"
   ]
  },
  {
   "cell_type": "code",
   "execution_count": 18,
   "metadata": {},
   "outputs": [
    {
     "name": "stdout",
     "output_type": "stream",
     "text": [
      "['at', 'waterloo', 'we', 'were', 'fortunate', 'in', 'catching', 'a', 'train', 'for', 'leatherhead', 'where', 'we', 'hired', 'a', 'trap', 'at', 'the', 'station', 'inn', 'and', 'drove', 'for', 'four', 'or', 'five', 'miles', 'through', 'the', 'lovely', 'surrey', 'lanes', 'it', 'was', 'a', 'perfect', 'day', 'with', 'a', 'bright', 'sun', 'and', 'a', 'few', 'fleecy', 'clouds', 'in', 'the', 'heavens', 'the', 'trees', 'and', 'wayside', 'hedges', 'were', 'just', 'throwing', 'out', 'their', 'first', 'green', 'shoots', 'and', 'the', 'air', 'was', 'full', 'of', 'the', 'pleasant', 'smell', 'of', 'the', 'moist', 'earth', 'to', 'me', 'at', 'least', 'there', 'was', 'a', 'strange', 'contrast', 'between', 'the', 'sweet', 'promise', 'of', 'the', 'spring', 'and', 'this', 'sinister', 'quest', 'upon', 'which', 'we', 'were', 'engaged', 'my', 'companion', 'mr', 'alfred', 'sat', 'in', 'the', 'front', 'of', 'the', 'trap', 'his', 'arms', 'folded', 'his', 'hat', 'pulled', 'down', 'over', 'his', 'eyes', 'and', 'his', 'chin', 'sunk', 'upon', 'his', 'breast', 'buried', 'in', 'the', 'deepest', 'thought', 'suddenly', 'however', 'he', 'started', 'tapped', 'me', 'on', 'the', 'shoulder', 'and', 'pointed', 'over', 'the', 'meadows', 'at', 'waterloo', 'we', 'were', 'fortunate', 'in', 'catching', 'a', 'train', 'for', 'leatherhead', 'where', 'we', 'hired', 'a', 'trap', 'at', 'the', 'station', 'inn', 'and', 'drove', 'for', 'four', 'or', 'five', 'miles', 'through', 'the', 'lovely', 'surrey', 'lanes', 'it', 'was', 'a', 'perfect', 'day', 'with', 'a', 'bright', 'sun', 'and', 'a', 'few', 'fleecy', 'clouds', 'in', 'the', 'heavens']\n"
     ]
    }
   ],
   "source": [
    "tokens = [token.lower() for token in tokens] # Converting list of tokens to lower case\n",
    "print(tokens)"
   ]
  },
  {
   "cell_type": "markdown",
   "metadata": {},
   "source": [
    "# Stopwords"
   ]
  },
  {
   "cell_type": "markdown",
   "metadata": {},
   "source": [
    "A stop word is a commonly used word (such as “the”, “a”, “an”, “in”) that a search engine has been programmed to ignore, both when indexing entries for searching and when retrieving them as the result of a search query.\n",
    "\n",
    "We would not want these words taking up space in our database, or taking up valuable processing time. For this, we can remove them easily, by storing a list of words that you consider to be stop words. NLTK(Natural Language Toolkit) in python has a list of stopwords stored in 16 different languages. You can find them in the nltk_data directory.To check the list of stopwords you can type the following commands in the python shell.\n",
    "\n",
    "Note: You can even modify the list by adding words of your choice in the english .txt. file in the stopwords directory."
   ]
  },
  {
   "cell_type": "code",
   "execution_count": 19,
   "metadata": {},
   "outputs": [
    {
     "name": "stdout",
     "output_type": "stream",
     "text": [
      "[u'i', u'me', u'my', u'myself', u'we', u'our', u'ours', u'ourselves', u'you', u\"you're\", u\"you've\", u\"you'll\", u\"you'd\", u'your', u'yours', u'yourself', u'yourselves', u'he', u'him', u'his', u'himself', u'she', u\"she's\", u'her', u'hers', u'herself', u'it', u\"it's\", u'its', u'itself', u'they', u'them', u'their', u'theirs', u'themselves', u'what', u'which', u'who', u'whom', u'this', u'that', u\"that'll\", u'these', u'those', u'am', u'is', u'are', u'was', u'were', u'be', u'been', u'being', u'have', u'has', u'had', u'having', u'do', u'does', u'did', u'doing', u'a', u'an', u'the', u'and', u'but', u'if', u'or', u'because', u'as', u'until', u'while', u'of', u'at', u'by', u'for', u'with', u'about', u'against', u'between', u'into', u'through', u'during', u'before', u'after', u'above', u'below', u'to', u'from', u'up', u'down', u'in', u'out', u'on', u'off', u'over', u'under', u'again', u'further', u'then', u'once', u'here', u'there', u'when', u'where', u'why', u'how', u'all', u'any', u'both', u'each', u'few', u'more', u'most', u'other', u'some', u'such', u'no', u'nor', u'not', u'only', u'own', u'same', u'so', u'than', u'too', u'very', u's', u't', u'can', u'will', u'just', u'don', u\"don't\", u'should', u\"should've\", u'now', u'd', u'll', u'm', u'o', u're', u've', u'y', u'ain', u'aren', u\"aren't\", u'couldn', u\"couldn't\", u'didn', u\"didn't\", u'doesn', u\"doesn't\", u'hadn', u\"hadn't\", u'hasn', u\"hasn't\", u'haven', u\"haven't\", u'isn', u\"isn't\", u'ma', u'mightn', u\"mightn't\", u'mustn', u\"mustn't\", u'needn', u\"needn't\", u'shan', u\"shan't\", u'shouldn', u\"shouldn't\", u'wasn', u\"wasn't\", u'weren', u\"weren't\", u'won', u\"won't\", u'wouldn', u\"wouldn't\"]\n"
     ]
    }
   ],
   "source": [
    "from nltk.corpus import stopwords\n",
    "print(stopwords.words('english'))"
   ]
  },
  {
   "cell_type": "code",
   "execution_count": 20,
   "metadata": {},
   "outputs": [
    {
     "name": "stdout",
     "output_type": "stream",
     "text": [
      "['waterloo', 'fortunate', 'catching', 'train', 'leatherhead', 'hired', 'trap', 'station', 'inn', 'drove', 'four', 'five', 'miles', 'lovely', 'surrey', 'lanes', 'perfect', 'day', 'bright', 'sun', 'fleecy', 'clouds', 'heavens', 'trees', 'wayside', 'hedges', 'throwing', 'first', 'green', 'shoots', 'air', 'full', 'pleasant', 'smell', 'moist', 'earth', 'least', 'strange', 'contrast', 'sweet', 'promise', 'spring', 'sinister', 'quest', 'upon', 'engaged', 'companion', 'mr', 'alfred', 'sat', 'front', 'trap', 'arms', 'folded', 'hat', 'pulled', 'eyes', 'chin', 'sunk', 'upon', 'breast', 'buried', 'deepest', 'thought', 'suddenly', 'however', 'started', 'tapped', 'shoulder', 'pointed', 'meadows', 'waterloo', 'fortunate', 'catching', 'train', 'leatherhead', 'hired', 'trap', 'station', 'inn', 'drove', 'four', 'five', 'miles', 'lovely', 'surrey', 'lanes', 'perfect', 'day', 'bright', 'sun', 'fleecy', 'clouds', 'heavens']\n"
     ]
    }
   ],
   "source": [
    "stop = stopwords.words('english')\n",
    "tokens = [token for token in tokens if token not in stop]\n",
    "print(tokens)"
   ]
  },
  {
   "cell_type": "markdown",
   "metadata": {},
   "source": [
    "# Stemmers and Lemmatizers"
   ]
  },
  {
   "cell_type": "code",
   "execution_count": 21,
   "metadata": {
    "collapsed": true
   },
   "outputs": [],
   "source": [
    "import nltk\n",
    "#nltk.download('wordnet')"
   ]
  },
  {
   "cell_type": "code",
   "execution_count": 22,
   "metadata": {
    "collapsed": true
   },
   "outputs": [],
   "source": [
    "from nltk.stem import WordNetLemmatizer"
   ]
  },
  {
   "cell_type": "markdown",
   "metadata": {},
   "source": [
    "Stemmers vs. Lemmatizers\n",
    "* Both stemmers and lemmatizers try to bring inflected words to the same form\n",
    "* Stemmers use an algorithmic approach of removing prefixes and suffixes. The result might not be an actual dictionary word.\n",
    "* Lemmatizers use a corpus. The result is always a dictionary word.\n",
    "* Lemmatizers need extra info about the part of speech they are processing. “Calling” can be either a verb or a noun (the calling)\n",
    "* Stemmers are faster than lemmatizers\n",
    "\n",
    "When to use stemmers and when to use lemmatizers? few guidelines:\n",
    "* If speed is important, use stemmers (lemmatizers have to search through a corpus while stemmers do simple operations on a string)\n",
    "* If you just want to make sure that the system you are building is tolerant to inflections, use stemmers (If you query for “best bar in New York”, you’d accept an article on “Best bars in New York 2016″)\n",
    "* If you need the actual dictionary word, use a lemmatizer. (for example, if you are building a natural language generation system)\n",
    "\n",
    "How do stemmers work?\n",
    "\n",
    "* Stemmers are extremely simple to use and very fast. They usually are the preferred choice. They work by applying different transformation rules on the word until no other transformation can be applied.\n",
    "\n",
    "from nltk.stem import SnowballStemmer\n",
    "snow = SnowballStemmer('english')\n",
    "print snow.stem('getting')      # get\n",
    "print snow.stem('rabbits')      # rabbit\n",
    "print snow.stem('xyzing')       # xyze - it even works on non words!\n",
    "print snow.stem('quickly')      # quick\n",
    "print snow.stem('slowly')       # slowli"
   ]
  },
  {
   "cell_type": "markdown",
   "metadata": {},
   "source": [
    "WordNet® is a large lexical database of English. Nouns, verbs, adjectives and adverbs are grouped into sets of cognitive synonyms (synsets), each expressing a distinct concept. WordNet’s structure makes it a useful tool for computational linguistics and natural language processing.\n",
    "\n",
    "WordNet superficially resembles a thesaurus, in that it groups words together based on their meanings. However, there are some important distinctions. First, WordNet interlinks not just word forms—strings of letters—but specific senses of words. As a result, words that are found in close proximity to one another in the network are semantically disambiguated. Second, WordNet labels the semantic relations among words, whereas the groupings of words in a thesaurus does not follow any explicit pattern other than meaning similarity"
   ]
  },
  {
   "cell_type": "code",
   "execution_count": 23,
   "metadata": {},
   "outputs": [
    {
     "name": "stdout",
     "output_type": "stream",
     "text": [
      "[u'go', u'go', 'go', u'go']\n"
     ]
    }
   ],
   "source": [
    "# Lemmatizers\n",
    "\n",
    "# tokens_new = [\"am\", \"be\", \"are\", \"is\", \"was\", \"were\"]\n",
    "\n",
    "tokens_new = [\"going\",\"gone\",\"go\",\"goes\"]\n",
    "lmtzr = WordNetLemmatizer()\n",
    "tokens_new = [lmtzr.lemmatize(token,pos='v') for token in tokens_new]\n",
    "print(tokens_new)"
   ]
  },
  {
   "cell_type": "code",
   "execution_count": 24,
   "metadata": {},
   "outputs": [
    {
     "name": "stdout",
     "output_type": "stream",
     "text": [
      "(u'danish', u'dutch', u'english', u'finnish', u'french', u'german', u'hungarian', u'italian', u'norwegian', u'porter', u'portuguese', u'romanian', u'russian', u'spanish', u'swedish')\n"
     ]
    }
   ],
   "source": [
    "#Stemmers\n",
    "from nltk.stem.porter import PorterStemmer\n",
    "from nltk.stem.snowball import SnowballStemmer\n",
    "\n",
    "porter=PorterStemmer()\n",
    "\n",
    "snowball=SnowballStemmer('english')\n",
    "print(snowball.languages)"
   ]
  },
  {
   "cell_type": "code",
   "execution_count": 25,
   "metadata": {},
   "outputs": [
    {
     "name": "stdout",
     "output_type": "stream",
     "text": [
      "caress\n",
      "poni\n",
      "cat\n",
      "agre\n"
     ]
    }
   ],
   "source": [
    "print(porter.stem('caresses'))\n",
    "print(porter.stem('ponies'))\n",
    "print(porter.stem('cats'))\n",
    "print(porter.stem('agreed'))"
   ]
  },
  {
   "cell_type": "code",
   "execution_count": 26,
   "metadata": {},
   "outputs": [
    {
     "name": "stdout",
     "output_type": "stream",
     "text": [
      "computer\n",
      "comput\n",
      "comput\n"
     ]
    }
   ],
   "source": [
    "print(WordNetLemmatizer().lemmatize('computer'))\n",
    "print(porter.stem('computer'))\n",
    "print(snowball.stem('computer'))"
   ]
  },
  {
   "cell_type": "code",
   "execution_count": 27,
   "metadata": {},
   "outputs": [
    {
     "name": "stdout",
     "output_type": "stream",
     "text": [
      "['indian', u'caress', u'fli', u'die', u'anim', u'deni', u'comput', u'comput', u'comput', 'better', 'slept']\n",
      "['Indian', u'caress', u'fly', u'die', 'animals', u'deny', 'computer', u'compute', 'compute', 'better', u'sleep']\n"
     ]
    }
   ],
   "source": [
    "# Stemming and lemmatizer\n",
    "from nltk.stem.porter import *\n",
    "stemmer = PorterStemmer()\n",
    "plurals = ['Indian','caresses', 'flies', 'dies', 'animals', 'denied','computer','computing','compute','better','slept']\n",
    "singles = [stemmer.stem(plural) for plural in plurals]\n",
    "print(singles)\n",
    "lemtzr = WordNetLemmatizer()\n",
    "tokensLmtz = [lemtzr.lemmatize(token,pos='v') for token in plurals]\n",
    "print(tokensLmtz)"
   ]
  },
  {
   "cell_type": "code",
   "execution_count": 28,
   "metadata": {},
   "outputs": [
    {
     "name": "stdout",
     "output_type": "stream",
     "text": [
      "['waterloo', 'fortunate', 'catching', 'train', 'leatherhead', 'hired', 'trap', 'station', 'inn', 'drove', 'four', 'five', u'mile', 'lovely', 'surrey', u'lane', 'perfect', 'day', 'bright', 'sun', 'fleecy', u'cloud', u'heaven', u'tree', 'wayside', u'hedge', 'throwing', 'first', 'green', u'shoot', 'air', 'full', 'pleasant', 'smell', 'moist', 'earth', 'least', 'strange', 'contrast', 'sweet', 'promise', 'spring', 'sinister', 'quest', 'upon', 'engaged', 'companion', 'mr', 'alfred', 'sat', 'front', 'trap', u'arm', 'folded', 'hat', 'pulled', u'eye', 'chin', 'sunk', 'upon', 'breast', 'buried', 'deepest', 'thought', 'suddenly', 'however', 'started', 'tapped', 'shoulder', 'pointed', u'meadow', 'waterloo', 'fortunate', 'catching', 'train', 'leatherhead', 'hired', 'trap', 'station', 'inn', 'drove', 'four', 'five', u'mile', 'lovely', 'surrey', u'lane', 'perfect', 'day', 'bright', 'sun', 'fleecy', u'cloud', u'heaven']\n"
     ]
    }
   ],
   "source": [
    "lmtzr_tokens = [lmtzr.lemmatize(token) for token in tokens]\n",
    "print(lmtzr_tokens)"
   ]
  },
  {
   "cell_type": "code",
   "execution_count": 29,
   "metadata": {},
   "outputs": [
    {
     "name": "stdout",
     "output_type": "stream",
     "text": [
      "['waterloo', u'fortun', u'catch', 'train', 'leatherhead', u'hire', 'trap', 'station', 'inn', 'drove', 'four', 'five', u'mile', u'love', 'surrey', u'lane', 'perfect', 'day', 'bright', 'sun', u'fleeci', u'cloud', u'heaven', u'tree', u'waysid', u'hedg', u'throw', 'first', 'green', u'shoot', 'air', 'full', 'pleasant', 'smell', 'moist', 'earth', 'least', u'strang', 'contrast', 'sweet', u'promis', 'spring', u'sinist', 'quest', 'upon', u'engag', 'companion', 'mr', u'alfr', 'sat', 'front', 'trap', u'arm', u'fold', 'hat', u'pull', u'eye', 'chin', 'sunk', 'upon', 'breast', u'buri', 'deepest', 'thought', u'suddenli', u'howev', u'start', u'tap', 'shoulder', u'point', u'meadow', 'waterloo', u'fortun', u'catch', 'train', 'leatherhead', u'hire', 'trap', 'station', 'inn', 'drove', 'four', 'five', u'mile', u'love', 'surrey', u'lane', 'perfect', 'day', 'bright', 'sun', u'fleeci', u'cloud', u'heaven']\n"
     ]
    }
   ],
   "source": [
    "porter_tokens = [porter.stem(token) for token in tokens]\n",
    "print(porter_tokens)"
   ]
  },
  {
   "cell_type": "markdown",
   "metadata": {},
   "source": [
    "## N-grams"
   ]
  },
  {
   "cell_type": "markdown",
   "metadata": {},
   "source": [
    "How would you classify or group your documents/ tweets based on these? Do single words make sense? Need to capture the context between words. Hence, we have to use ngrams to capture two or three or four words together."
   ]
  },
  {
   "cell_type": "code",
   "execution_count": 30,
   "metadata": {},
   "outputs": [
    {
     "name": "stdout",
     "output_type": "stream",
     "text": [
      "('waterloo', u'fortun')\n",
      "(u'fortun', u'catch')\n",
      "(u'catch', 'train')\n",
      "('train', 'leatherhead')\n",
      "('leatherhead', u'hire')\n",
      "(u'hire', 'trap')\n",
      "('trap', 'station')\n",
      "('station', 'inn')\n",
      "('inn', 'drove')\n",
      "('drove', 'four')\n",
      "('four', 'five')\n",
      "('five', u'mile')\n",
      "(u'mile', u'love')\n",
      "(u'love', 'surrey')\n",
      "('surrey', u'lane')\n",
      "(u'lane', 'perfect')\n",
      "('perfect', 'day')\n",
      "('day', 'bright')\n",
      "('bright', 'sun')\n",
      "('sun', u'fleeci')\n",
      "(u'fleeci', u'cloud')\n",
      "(u'cloud', u'heaven')\n",
      "(u'heaven', u'tree')\n",
      "(u'tree', u'waysid')\n",
      "(u'waysid', u'hedg')\n",
      "(u'hedg', u'throw')\n",
      "(u'throw', 'first')\n",
      "('first', 'green')\n",
      "('green', u'shoot')\n",
      "(u'shoot', 'air')\n",
      "('air', 'full')\n",
      "('full', 'pleasant')\n",
      "('pleasant', 'smell')\n",
      "('smell', 'moist')\n",
      "('moist', 'earth')\n",
      "('earth', 'least')\n",
      "('least', u'strang')\n",
      "(u'strang', 'contrast')\n",
      "('contrast', 'sweet')\n",
      "('sweet', u'promis')\n",
      "(u'promis', 'spring')\n",
      "('spring', u'sinist')\n",
      "(u'sinist', 'quest')\n",
      "('quest', 'upon')\n",
      "('upon', u'engag')\n",
      "(u'engag', 'companion')\n",
      "('companion', 'mr')\n",
      "('mr', u'alfr')\n",
      "(u'alfr', 'sat')\n",
      "('sat', 'front')\n",
      "('front', 'trap')\n",
      "('trap', u'arm')\n",
      "(u'arm', u'fold')\n",
      "(u'fold', 'hat')\n",
      "('hat', u'pull')\n",
      "(u'pull', u'eye')\n",
      "(u'eye', 'chin')\n",
      "('chin', 'sunk')\n",
      "('sunk', 'upon')\n",
      "('upon', 'breast')\n",
      "('breast', u'buri')\n",
      "(u'buri', 'deepest')\n",
      "('deepest', 'thought')\n",
      "('thought', u'suddenli')\n",
      "(u'suddenli', u'howev')\n",
      "(u'howev', u'start')\n",
      "(u'start', u'tap')\n",
      "(u'tap', 'shoulder')\n",
      "('shoulder', u'point')\n",
      "(u'point', u'meadow')\n",
      "(u'meadow', 'waterloo')\n",
      "('waterloo', u'fortun')\n",
      "(u'fortun', u'catch')\n",
      "(u'catch', 'train')\n",
      "('train', 'leatherhead')\n",
      "('leatherhead', u'hire')\n",
      "(u'hire', 'trap')\n",
      "('trap', 'station')\n",
      "('station', 'inn')\n",
      "('inn', 'drove')\n",
      "('drove', 'four')\n",
      "('four', 'five')\n",
      "('five', u'mile')\n",
      "(u'mile', u'love')\n",
      "(u'love', 'surrey')\n",
      "('surrey', u'lane')\n",
      "(u'lane', 'perfect')\n",
      "('perfect', 'day')\n",
      "('day', 'bright')\n",
      "('bright', 'sun')\n",
      "('sun', u'fleeci')\n",
      "(u'fleeci', u'cloud')\n",
      "(u'cloud', u'heaven')\n",
      "93\n"
     ]
    }
   ],
   "source": [
    "tmp = 0\n",
    "for ngram in nltk.ngrams(porter_tokens, 2): # nltk has the ngrams function that returns a generator of n-grams given a tokenized sentence\n",
    "    print (ngram)\n",
    "    tmp += 1\n",
    "print(tmp)"
   ]
  },
  {
   "cell_type": "code",
   "execution_count": 31,
   "metadata": {
    "collapsed": true
   },
   "outputs": [],
   "source": [
    "\n",
    "# from nltk import bigrams\n",
    "# string_bigrams = bigrams(porter_tokens)\n",
    "# print(list(string_bigrams))\n"
   ]
  },
  {
   "cell_type": "code",
   "execution_count": 32,
   "metadata": {},
   "outputs": [
    {
     "data": {
      "text/plain": [
       "[(('sun', u'fleeci'), 2),\n",
       " (('five', u'mile'), 2),\n",
       " ((u'mile', u'love'), 2),\n",
       " (('station', 'inn'), 2),\n",
       " (('bright', 'sun'), 2),\n",
       " (('perfect', 'day'), 2),\n",
       " (('surrey', u'lane'), 2),\n",
       " ((u'love', 'surrey'), 2),\n",
       " (('waterloo', u'fortun'), 2),\n",
       " (('leatherhead', u'hire'), 2),\n",
       " ((u'cloud', u'heaven'), 2),\n",
       " ((u'hire', 'trap'), 2),\n",
       " (('inn', 'drove'), 2),\n",
       " (('drove', 'four'), 2),\n",
       " (('four', 'five'), 2),\n",
       " ((u'catch', 'train'), 2),\n",
       " (('train', 'leatherhead'), 2),\n",
       " (('day', 'bright'), 2),\n",
       " ((u'fleeci', u'cloud'), 2),\n",
       " ((u'lane', 'perfect'), 2),\n",
       " ((u'fortun', u'catch'), 2),\n",
       " (('trap', 'station'), 2),\n",
       " (('sweet', u'promis'), 1),\n",
       " ((u'hedg', u'throw'), 1),\n",
       " ((u'throw', 'first'), 1),\n",
       " ((u'tree', u'waysid'), 1),\n",
       " ((u'engag', 'companion'), 1),\n",
       " ((u'waysid', u'hedg'), 1),\n",
       " (('pleasant', 'smell'), 1),\n",
       " (('spring', u'sinist'), 1)]"
      ]
     },
     "execution_count": 32,
     "metadata": {},
     "output_type": "execute_result"
    }
   ],
   "source": [
    "ngram_freq = nltk.FreqDist() # We initialized a frequency counter\n",
    "# FreqDist gives the frequency of words within a text\n",
    "for ngram in nltk.ngrams(porter_tokens, 2):\n",
    "    ngram_freq[ngram] += 1\n",
    "ngram_freq.most_common(30)"
   ]
  },
  {
   "cell_type": "markdown",
   "metadata": {},
   "source": [
    "Let's combine all the above commands into a single function"
   ]
  },
  {
   "cell_type": "code",
   "execution_count": 33,
   "metadata": {
    "collapsed": true
   },
   "outputs": [],
   "source": [
    "def process_text(text):\n",
    "    sentences = nltk.tokenize.sent_tokenize(text)\n",
    "    sentence_tokens = [tokenizer.tokenize(sentence) for sentence in sentences] # list of lists\n",
    "    tokens = [] # initialising variable\n",
    "    for sentence in sentence_tokens:\n",
    "        sent = []\n",
    "        for word in sentence:\n",
    "            if word.lower() not in stop:\n",
    "                sent.append(word.lower())\n",
    "        tokens.append(sent)\n",
    "    \n",
    "    ## THE SAME FOR LOOP CAN BE WRITTEN AS FOLLOWS\n",
    "    ## tokens = [[word.lower() for word in sent if word not in stop] for sent in sentence_tokens]\n",
    "    \n",
    "    tokens = [[lmtzr.lemmatize(word) for word in sent] for sent in tokens]\n",
    "    return tokens\n",
    "\n",
    "def process_ngrams(input_sentence_tokens):\n",
    "    ngram_list = []\n",
    "    for sentence in input_sentence_tokens:\n",
    "        ngram_sent = nltk.ngrams(sentence, 2)\n",
    "        ngram_list = ngram_list + list(ngram_sent)\n",
    "    return ngram_list"
   ]
  },
  {
   "cell_type": "code",
   "execution_count": 34,
   "metadata": {},
   "outputs": [
    {
     "name": "stdout",
     "output_type": "stream",
     "text": [
      "[['waterloo', 'fortunate', 'catching', 'train', 'leatherhead', 'hired', 'trap', 'station', 'inn', 'drove', 'four', 'five', u'mile', 'lovely', 'surrey', u'lane'], ['perfect', 'day', 'bright', 'sun', 'fleecy', u'cloud', u'heaven'], [u'tree', 'wayside', u'hedge', 'throwing', 'first', 'green', u'shoot', 'air', 'full', 'pleasant', 'smell', 'moist', 'earth'], ['least', 'strange', 'contrast', 'sweet', 'promise', 'spring', 'sinister', 'quest', 'upon', 'engaged'], ['companion', 'mr', 'alfred', 'sat', 'front', 'trap', u'arm', 'folded', 'hat', 'pulled', u'eye', 'chin', 'sunk', 'upon', 'breast', 'buried', 'deepest', 'thought'], ['suddenly', 'however', 'started', 'tapped', 'shoulder', 'pointed', u'meadow'], ['waterloo', 'fortunate', 'catching', 'train', 'leatherhead', 'hired', 'trap', 'station', 'inn', 'drove', 'four', 'five', u'mile', 'lovely', 'surrey', u'lane'], ['perfect', 'day', 'bright', 'sun', 'fleecy', u'cloud', u'heaven']]\n"
     ]
    }
   ],
   "source": [
    "sentence_tokens = process_text(string)\n",
    "print(sentence_tokens)"
   ]
  },
  {
   "cell_type": "code",
   "execution_count": 35,
   "metadata": {},
   "outputs": [
    {
     "name": "stdout",
     "output_type": "stream",
     "text": [
      "[('waterloo', 'fortunate'), ('fortunate', 'catching'), ('catching', 'train'), ('train', 'leatherhead'), ('leatherhead', 'hired'), ('hired', 'trap'), ('trap', 'station'), ('station', 'inn'), ('inn', 'drove'), ('drove', 'four'), ('four', 'five'), ('five', u'mile'), (u'mile', 'lovely'), ('lovely', 'surrey'), ('surrey', u'lane'), ('perfect', 'day'), ('day', 'bright'), ('bright', 'sun'), ('sun', 'fleecy'), ('fleecy', u'cloud'), (u'cloud', u'heaven'), (u'tree', 'wayside'), ('wayside', u'hedge'), (u'hedge', 'throwing'), ('throwing', 'first'), ('first', 'green'), ('green', u'shoot'), (u'shoot', 'air'), ('air', 'full'), ('full', 'pleasant'), ('pleasant', 'smell'), ('smell', 'moist'), ('moist', 'earth'), ('least', 'strange'), ('strange', 'contrast'), ('contrast', 'sweet'), ('sweet', 'promise'), ('promise', 'spring'), ('spring', 'sinister'), ('sinister', 'quest'), ('quest', 'upon'), ('upon', 'engaged'), ('companion', 'mr'), ('mr', 'alfred'), ('alfred', 'sat'), ('sat', 'front'), ('front', 'trap'), ('trap', u'arm'), (u'arm', 'folded'), ('folded', 'hat'), ('hat', 'pulled'), ('pulled', u'eye'), (u'eye', 'chin'), ('chin', 'sunk'), ('sunk', 'upon'), ('upon', 'breast'), ('breast', 'buried'), ('buried', 'deepest'), ('deepest', 'thought'), ('suddenly', 'however'), ('however', 'started'), ('started', 'tapped'), ('tapped', 'shoulder'), ('shoulder', 'pointed'), ('pointed', u'meadow'), ('waterloo', 'fortunate'), ('fortunate', 'catching'), ('catching', 'train'), ('train', 'leatherhead'), ('leatherhead', 'hired'), ('hired', 'trap'), ('trap', 'station'), ('station', 'inn'), ('inn', 'drove'), ('drove', 'four'), ('four', 'five'), ('five', u'mile'), (u'mile', 'lovely'), ('lovely', 'surrey'), ('surrey', u'lane'), ('perfect', 'day'), ('day', 'bright'), ('bright', 'sun'), ('sun', 'fleecy'), ('fleecy', u'cloud'), (u'cloud', u'heaven')]\n"
     ]
    }
   ],
   "source": [
    "string_ngrams = process_ngrams(sentence_tokens)\n",
    "print(string_ngrams)"
   ]
  },
  {
   "cell_type": "code",
   "execution_count": 36,
   "metadata": {},
   "outputs": [
    {
     "name": "stdout",
     "output_type": "stream",
     "text": [
      "[(('lovely', 'surrey'), 2), (('bright', 'sun'), 2), ((u'mile', 'lovely'), 2), (('leatherhead', 'hired'), 2), (('five', u'mile'), 2), (('perfect', 'day'), 2), (('surrey', u'lane'), 2), (('train', 'leatherhead'), 2), ((u'cloud', u'heaven'), 2), (('inn', 'drove'), 2), (('drove', 'four'), 2), (('sun', 'fleecy'), 2), (('four', 'five'), 2), (('fortunate', 'catching'), 2), (('station', 'inn'), 2), (('catching', 'train'), 2), (('waterloo', 'fortunate'), 2), (('fleecy', u'cloud'), 2), (('hired', 'trap'), 2), (('day', 'bright'), 2), (('trap', 'station'), 2), (('pulled', u'eye'), 1), (('least', 'strange'), 1), (('wayside', u'hedge'), 1), (('spring', 'sinister'), 1), (('pleasant', 'smell'), 1), (('companion', 'mr'), 1), (('smell', 'moist'), 1), (('buried', 'deepest'), 1), (('chin', 'sunk'), 1), (('green', u'shoot'), 1), (('moist', 'earth'), 1), ((u'tree', 'wayside'), 1), (('first', 'green'), 1), (('promise', 'spring'), 1), (('alfred', 'sat'), 1), (('sinister', 'quest'), 1), (('upon', 'breast'), 1), (('suddenly', 'however'), 1), (('sweet', 'promise'), 1), (('tapped', 'shoulder'), 1), (('contrast', 'sweet'), 1), (('upon', 'engaged'), 1), (('trap', u'arm'), 1), (('throwing', 'first'), 1), (('full', 'pleasant'), 1), (('deepest', 'thought'), 1), (('breast', 'buried'), 1), (('front', 'trap'), 1), (('mr', 'alfred'), 1), (('pointed', u'meadow'), 1), (('folded', 'hat'), 1), ((u'shoot', 'air'), 1), (('air', 'full'), 1), (('hat', 'pulled'), 1), ((u'arm', 'folded'), 1), (('however', 'started'), 1), ((u'hedge', 'throwing'), 1), (('sunk', 'upon'), 1), (('quest', 'upon'), 1), (('shoulder', 'pointed'), 1), (('started', 'tapped'), 1), (('sat', 'front'), 1), ((u'eye', 'chin'), 1), (('strange', 'contrast'), 1)]\n"
     ]
    }
   ],
   "source": [
    "ngram_freq = nltk.FreqDist() #WE INITIALIZED A FREQUENCY COUNTER\n",
    "for ngram in string_ngrams:\n",
    "    ngram_freq[ngram] += 1\n",
    "print(ngram_freq.most_common())"
   ]
  },
  {
   "cell_type": "code",
   "execution_count": 37,
   "metadata": {
    "collapsed": true
   },
   "outputs": [],
   "source": [
    "#!pip install wordcloud"
   ]
  },
  {
   "cell_type": "code",
   "execution_count": 38,
   "metadata": {},
   "outputs": [
    {
     "data": {
      "image/png": "[encoded data removed]",
      "text/plain": [
       "<matplotlib.figure.Figure at 0x7f164f752f90>"
      ]
     },
     "metadata": {},
     "output_type": "display_data"
    }
   ],
   "source": [
    "from wordcloud import WordCloud\n",
    "wordcloud = WordCloud().generate(string)\n",
    "import matplotlib.pyplot as plt\n",
    "%matplotlib inline\n",
    "plt.imshow(wordcloud,interpolation='bilinear')\n",
    "# interpolation=\"bilinear\" in the plt.imshow() is to make the displayed image appear more smoothly\n",
    "plt.axis(\"off\")\n",
    "plt.show()"
   ]
  },
  {
   "cell_type": "code",
   "execution_count": 39,
   "metadata": {},
   "outputs": [
    {
     "data": {
      "image/png": "[encoded data removed]",
      "text/plain": [
       "<matplotlib.figure.Figure at 0x7f16215e85d0>"
      ]
     },
     "metadata": {},
     "output_type": "display_data"
    }
   ],
   "source": [
    "wordcloud = WordCloud(max_font_size=50, max_words=25, background_color=\"white\").generate(string)\n",
    "plt.figure()\n",
    "plt.imshow(wordcloud, interpolation=\"bilinear\")\n",
    "plt.axis(\"off\")\n",
    "plt.show()"
   ]
  },
  {
   "cell_type": "code",
   "execution_count": null,
   "metadata": {
    "collapsed": true
   },
   "outputs": [],
   "source": []
  }
 ],
 "metadata": {
  "kernelspec": {
   "display_name": "Python 3",
   "language": "python",
   "name": "python3"
  },
  "language_info": {
   "codemirror_mode": {
    "name": "ipython",
    "version": 3
   },
   "file_extension": ".py",
   "mimetype": "text/x-python",
   "name": "python",
   "nbconvert_exporter": "python",
   "pygments_lexer": "ipython3",
   "version": "3.6.7"
  },
  "toc": {
   "base_numbering": 1,
   "nav_menu": {},
   "number_sections": true,
   "sideBar": true,
   "skip_h1_title": false,
   "title_cell": "Table of Contents",
   "title_sidebar": "Contents",
   "toc_cell": false,
   "toc_position": {},
   "toc_section_display": true,
   "toc_window_display": false
  },
  "varInspector": {
   "cols": {
    "lenName": 16,
    "lenType": 16,
    "lenVar": 40
   },
   "kernels_config": {
    "python": {
     "delete_cmd_postfix": "",
     "delete_cmd_prefix": "del ",
     "library": "var_list.py",
     "varRefreshCmd": "print(var_dic_list())"
    },
    "r": {
     "delete_cmd_postfix": ") ",
     "delete_cmd_prefix": "rm(",
     "library": "var_list.r",
     "varRefreshCmd": "cat(var_dic_list()) "
    }
   },
   "types_to_exclude": [
    "module",
    "function",
    "builtin_function_or_method",
    "instance",
    "_Feature"
   ],
   "window_display": true
  }
 },
 "nbformat": 4,
 "nbformat_minor": 2
}
