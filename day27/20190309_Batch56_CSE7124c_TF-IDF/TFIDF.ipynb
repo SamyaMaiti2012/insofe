{
 "cells": [
  {
   "cell_type": "markdown",
   "metadata": {},
   "source": [
    "# TF-IDF Explanation:\n",
    "\n",
    "\n",
    "\n",
    "    TF: Term Frequency, which measures how frequently a term occurs in a document. Since every document is different in length, it is possible that a term would appear much more times in long documents than shorter ones. Thus, the term frequency is often divided by the document length (aka. the total number of terms in the document) as a way of normalization:\n",
    "\n",
    "    TF(t) = (Number of times term t appears in a document) / (Total number of terms in the document).\n",
    "\n",
    "    IDF: Inverse Document Frequency, which measures how important a term is. While computing TF, all terms are considered equally important. However it is known that certain terms, such as \"is\", \"of\", and \"that\", may appear a lot of times but have little importance. Thus we need to weigh down the frequent terms while scale up the rare ones, by computing the following:\n",
    "\n",
    "    IDF(t) = log_e(Total number of documents / Number of documents with term t in it)."
   ]
  },
  {
   "cell_type": "code",
   "execution_count": 2,
   "metadata": {
    "ExecuteTime": {
     "end_time": "2019-03-15T09:47:35.149577Z",
     "start_time": "2019-03-15T09:47:35.109690Z"
    }
   },
   "outputs": [],
   "source": [
    "from sklearn.feature_extraction.text import TfidfVectorizer,CountVectorizer\n",
    "import pandas as pd"
   ]
  },
  {
   "cell_type": "code",
   "execution_count": 3,
   "metadata": {
    "ExecuteTime": {
     "end_time": "2019-03-15T09:47:35.526932Z",
     "start_time": "2019-03-15T09:47:35.521842Z"
    }
   },
   "outputs": [
    {
     "name": "stdout",
     "output_type": "stream",
     "text": [
      "Time flies like an arrow. \n",
      "Fruit flies like a banana, \n",
      "Sam sat on the cat \n",
      "The cat is white.\n"
     ]
    }
   ],
   "source": [
    "data = '''Time flies like an arrow. \n",
    "Fruit flies like a banana, \n",
    "Sam sat on the cat \n",
    "The cat is white.'''\n",
    "\n",
    "print(data)"
   ]
  },
  {
   "cell_type": "markdown",
   "metadata": {},
   "source": [
    "### Consider each sentence as a document. Split the data into vectors based on new line."
   ]
  },
  {
   "cell_type": "code",
   "execution_count": 4,
   "metadata": {
    "ExecuteTime": {
     "end_time": "2019-03-15T09:47:37.417435Z",
     "start_time": "2019-03-15T09:47:37.397735Z"
    }
   },
   "outputs": [
    {
     "data": {
      "text/plain": [
       "['Time flies like an arrow. ',\n",
       " 'Fruit flies like a banana, ',\n",
       " 'Sam sat on the cat ',\n",
       " 'The cat is white.']"
      ]
     },
     "execution_count": 4,
     "metadata": {},
     "output_type": "execute_result"
    }
   ],
   "source": [
    "dataset = data.split('\\n')\n",
    "dataset"
   ]
  },
  {
   "cell_type": "code",
   "execution_count": 35,
   "metadata": {
    "ExecuteTime": {
     "end_time": "2019-03-09T11:46:03.214889Z",
     "start_time": "2019-03-09T11:46:03.211266Z"
    }
   },
   "outputs": [
    {
     "data": {
      "text/plain": [
       "4"
      ]
     },
     "execution_count": 35,
     "metadata": {},
     "output_type": "execute_result"
    }
   ],
   "source": [
    "len(dataset)"
   ]
  },
  {
   "cell_type": "markdown",
   "metadata": {},
   "source": [
    "### Get the TF matrix"
   ]
  },
  {
   "cell_type": "code",
   "execution_count": 5,
   "metadata": {
    "ExecuteTime": {
     "end_time": "2019-03-15T09:50:50.194368Z",
     "start_time": "2019-03-15T09:50:50.166292Z"
    },
    "scrolled": true
   },
   "outputs": [
    {
     "name": "stdout",
     "output_type": "stream",
     "text": [
      "  (0, 1)\t1\n",
      "  (0, 0)\t1\n",
      "  (0, 7)\t1\n",
      "  (0, 4)\t1\n",
      "  (0, 12)\t1\n",
      "  (1, 2)\t1\n",
      "  (1, 5)\t1\n",
      "  (1, 7)\t1\n",
      "  (1, 4)\t1\n",
      "  (2, 3)\t1\n",
      "  (2, 11)\t1\n",
      "  (2, 8)\t1\n",
      "  (2, 10)\t1\n",
      "  (2, 9)\t1\n",
      "  (3, 13)\t1\n",
      "  (3, 6)\t1\n",
      "  (3, 3)\t1\n",
      "  (3, 11)\t1\n"
     ]
    }
   ],
   "source": [
    "# sklearn.feature_extraction.text.CountVectorizer - Convert a collection of text documents to a matrix of \n",
    "#token counts\n",
    "tf_vectorizer = CountVectorizer(ngram_range=(1,1))\n",
    "tf = tf_vectorizer.fit_transform(dataset)         # tfs are calculated by CountVectorizer's fit_transform()\n",
    "print(tf)\n"
   ]
  },
  {
   "cell_type": "code",
   "execution_count": 6,
   "metadata": {
    "ExecuteTime": {
     "end_time": "2019-03-15T09:50:50.351005Z",
     "start_time": "2019-03-15T09:50:50.333747Z"
    }
   },
   "outputs": [
    {
     "data": {
      "text/plain": [
       "(4, 14)"
      ]
     },
     "execution_count": 6,
     "metadata": {},
     "output_type": "execute_result"
    }
   ],
   "source": [
    "tf.shape"
   ]
  },
  {
   "cell_type": "code",
   "execution_count": 7,
   "metadata": {
    "ExecuteTime": {
     "end_time": "2019-03-15T09:50:50.478018Z",
     "start_time": "2019-03-15T09:50:50.469931Z"
    }
   },
   "outputs": [
    {
     "data": {
      "text/plain": [
       "['an',\n",
       " 'arrow',\n",
       " 'banana',\n",
       " 'cat',\n",
       " 'flies',\n",
       " 'fruit',\n",
       " 'is',\n",
       " 'like',\n",
       " 'on',\n",
       " 'sam',\n",
       " 'sat',\n",
       " 'the',\n",
       " 'time',\n",
       " 'white']"
      ]
     },
     "execution_count": 7,
     "metadata": {},
     "output_type": "execute_result"
    }
   ],
   "source": [
    "tf_vectorizer.get_feature_names()"
   ]
  },
  {
   "cell_type": "code",
   "execution_count": 8,
   "metadata": {
    "ExecuteTime": {
     "end_time": "2019-03-15T09:51:01.421730Z",
     "start_time": "2019-03-15T09:51:01.366357Z"
    }
   },
   "outputs": [
    {
     "data": {
      "text/html": [
       "<div>\n",
       "<style scoped>\n",
       "    .dataframe tbody tr th:only-of-type {\n",
       "        vertical-align: middle;\n",
       "    }\n",
       "\n",
       "    .dataframe tbody tr th {\n",
       "        vertical-align: top;\n",
       "    }\n",
       "\n",
       "    .dataframe thead th {\n",
       "        text-align: right;\n",
       "    }\n",
       "</style>\n",
       "<table border=\"1\" class=\"dataframe\">\n",
       "  <thead>\n",
       "    <tr style=\"text-align: right;\">\n",
       "      <th></th>\n",
       "      <th>an</th>\n",
       "      <th>arrow</th>\n",
       "      <th>banana</th>\n",
       "      <th>cat</th>\n",
       "      <th>flies</th>\n",
       "      <th>fruit</th>\n",
       "      <th>is</th>\n",
       "      <th>like</th>\n",
       "      <th>on</th>\n",
       "      <th>sam</th>\n",
       "      <th>sat</th>\n",
       "      <th>the</th>\n",
       "      <th>time</th>\n",
       "      <th>white</th>\n",
       "    </tr>\n",
       "  </thead>\n",
       "  <tbody>\n",
       "    <tr>\n",
       "      <th>0</th>\n",
       "      <td>1</td>\n",
       "      <td>1</td>\n",
       "      <td>0</td>\n",
       "      <td>0</td>\n",
       "      <td>1</td>\n",
       "      <td>0</td>\n",
       "      <td>0</td>\n",
       "      <td>1</td>\n",
       "      <td>0</td>\n",
       "      <td>0</td>\n",
       "      <td>0</td>\n",
       "      <td>0</td>\n",
       "      <td>1</td>\n",
       "      <td>0</td>\n",
       "    </tr>\n",
       "    <tr>\n",
       "      <th>1</th>\n",
       "      <td>0</td>\n",
       "      <td>0</td>\n",
       "      <td>1</td>\n",
       "      <td>0</td>\n",
       "      <td>1</td>\n",
       "      <td>1</td>\n",
       "      <td>0</td>\n",
       "      <td>1</td>\n",
       "      <td>0</td>\n",
       "      <td>0</td>\n",
       "      <td>0</td>\n",
       "      <td>0</td>\n",
       "      <td>0</td>\n",
       "      <td>0</td>\n",
       "    </tr>\n",
       "    <tr>\n",
       "      <th>2</th>\n",
       "      <td>0</td>\n",
       "      <td>0</td>\n",
       "      <td>0</td>\n",
       "      <td>1</td>\n",
       "      <td>0</td>\n",
       "      <td>0</td>\n",
       "      <td>0</td>\n",
       "      <td>0</td>\n",
       "      <td>1</td>\n",
       "      <td>1</td>\n",
       "      <td>1</td>\n",
       "      <td>1</td>\n",
       "      <td>0</td>\n",
       "      <td>0</td>\n",
       "    </tr>\n",
       "    <tr>\n",
       "      <th>3</th>\n",
       "      <td>0</td>\n",
       "      <td>0</td>\n",
       "      <td>0</td>\n",
       "      <td>1</td>\n",
       "      <td>0</td>\n",
       "      <td>0</td>\n",
       "      <td>1</td>\n",
       "      <td>0</td>\n",
       "      <td>0</td>\n",
       "      <td>0</td>\n",
       "      <td>0</td>\n",
       "      <td>1</td>\n",
       "      <td>0</td>\n",
       "      <td>1</td>\n",
       "    </tr>\n",
       "  </tbody>\n",
       "</table>\n",
       "</div>"
      ],
      "text/plain": [
       "   an  arrow  banana  cat  flies  fruit  is  like  on  sam  sat  the  time  \\\n",
       "0   1      1       0    0      1      0   0     1   0    0    0    0     1   \n",
       "1   0      0       1    0      1      1   0     1   0    0    0    0     0   \n",
       "2   0      0       0    1      0      0   0     0   1    1    1    1     0   \n",
       "3   0      0       0    1      0      0   1     0   0    0    0    1     0   \n",
       "\n",
       "   white  \n",
       "0      0  \n",
       "1      0  \n",
       "2      0  \n",
       "3      1  "
      ]
     },
     "execution_count": 8,
     "metadata": {},
     "output_type": "execute_result"
    }
   ],
   "source": [
    "pd.DataFrame(tf.toarray(), columns= tf_vectorizer.get_feature_names()) \n",
    "# Array mapping from feature integer indices to feature name\n"
   ]
  },
  {
   "cell_type": "markdown",
   "metadata": {},
   "source": [
    "### Get TF-IDFs."
   ]
  },
  {
   "cell_type": "code",
   "execution_count": 9,
   "metadata": {
    "ExecuteTime": {
     "end_time": "2019-03-15T09:59:13.130608Z",
     "start_time": "2019-03-15T09:59:13.088032Z"
    }
   },
   "outputs": [
    {
     "name": "stdout",
     "output_type": "stream",
     "text": [
      "  (0, 12)\t0.4854606118156975\n",
      "  (0, 4)\t0.3827427224171519\n",
      "  (0, 7)\t0.3827427224171519\n",
      "  (0, 0)\t0.4854606118156975\n",
      "  (0, 1)\t0.4854606118156975\n",
      "  (1, 4)\t0.43779123108611473\n",
      "  (1, 7)\t0.43779123108611473\n",
      "  (1, 5)\t0.5552826649411127\n",
      "  (1, 2)\t0.5552826649411127\n",
      "  (2, 9)\t0.4854606118156975\n",
      "  (2, 10)\t0.4854606118156975\n",
      "  (2, 8)\t0.4854606118156975\n",
      "  (2, 11)\t0.3827427224171519\n",
      "  (2, 3)\t0.3827427224171519\n",
      "  (3, 11)\t0.43779123108611473\n",
      "  (3, 3)\t0.43779123108611473\n",
      "  (3, 6)\t0.5552826649411127\n",
      "  (3, 13)\t0.5552826649411127\n"
     ]
    }
   ],
   "source": [
    "# sklearn.feature_extraction.text.TfidfVectorizer - Convert a collection of raw documents \n",
    "#to a matrix of TF-IDF features\n",
    "# idfs are calculated by TfidfTransformer's fit()\n",
    "# tfidfs are calculated by TfidfTransformer's transform()\n",
    "\n",
    "tfidf_vectorizer = TfidfVectorizer(sublinear_tf=False,ngram_range=(1,1)) # stop_words='english'\n",
    "tfidf = tfidf_vectorizer.fit_transform(dataset)  \n",
    "type(tfidf)\n",
    "print(tfidf)"
   ]
  },
  {
   "cell_type": "code",
   "execution_count": 49,
   "metadata": {
    "ExecuteTime": {
     "end_time": "2019-03-09T11:56:07.120378Z",
     "start_time": "2019-03-09T11:56:07.113581Z"
    }
   },
   "outputs": [
    {
     "name": "stdout",
     "output_type": "stream",
     "text": [
      "  (0, 12)\t0.4854606118156975\n",
      "  (0, 4)\t0.3827427224171519\n",
      "  (0, 7)\t0.3827427224171519\n",
      "  (0, 0)\t0.4854606118156975\n",
      "  (0, 1)\t0.4854606118156975\n",
      "  (1, 4)\t0.43779123108611473\n",
      "  (1, 7)\t0.43779123108611473\n",
      "  (1, 5)\t0.5552826649411127\n",
      "  (1, 2)\t0.5552826649411127\n",
      "  (2, 9)\t0.4854606118156975\n",
      "  (2, 10)\t0.4854606118156975\n",
      "  (2, 8)\t0.4854606118156975\n",
      "  (2, 11)\t0.3827427224171519\n",
      "  (2, 3)\t0.3827427224171519\n",
      "  (3, 11)\t0.43779123108611473\n",
      "  (3, 3)\t0.43779123108611473\n",
      "  (3, 6)\t0.5552826649411127\n",
      "  (3, 13)\t0.5552826649411127\n"
     ]
    }
   ],
   "source": [
    "# sklearn.feature_extraction.text.TfidfVectorizer - Convert a collection of raw documents to a matrix of TF-IDF features\n",
    "# idfs are calculated by TfidfTransformer's fit()\n",
    "# tfidfs are calculated by TfidfTransformer's transform()\n",
    "\n",
    "tfidf_vectorizer = TfidfVectorizer(sublinear_tf=True,ngram_range=(1,1)) # stop_words='english'\n",
    "tfidf = tfidf_vectorizer.fit_transform(dataset)  \n",
    "type(tfidf)\n",
    "print(tfidf)"
   ]
  },
  {
   "cell_type": "code",
   "execution_count": 53,
   "metadata": {
    "ExecuteTime": {
     "end_time": "2019-03-09T12:01:19.428633Z",
     "start_time": "2019-03-09T12:01:19.422166Z"
    }
   },
   "outputs": [
    {
     "data": {
      "text/plain": [
       "TfidfVectorizer(analyzer='word', binary=False, decode_error='strict',\n",
       "        dtype=<class 'numpy.float64'>, encoding='utf-8', input='content',\n",
       "        lowercase=True, max_df=1.0, max_features=None, min_df=1,\n",
       "        ngram_range=(1, 1), norm='l2', preprocessor=None, smooth_idf=True,\n",
       "        stop_words=None, strip_accents=None, sublinear_tf=False,\n",
       "        token_pattern='(?u)\\\\b\\\\w\\\\w+\\\\b', tokenizer=None, use_idf=True,\n",
       "        vocabulary=None)"
      ]
     },
     "execution_count": 53,
     "metadata": {},
     "output_type": "execute_result"
    }
   ],
   "source": [
    "idf=tfidf_vectorizer.fit(dataset)\n",
    "idf"
   ]
  },
  {
   "cell_type": "code",
   "execution_count": 54,
   "metadata": {
    "ExecuteTime": {
     "end_time": "2019-03-09T12:01:33.275458Z",
     "start_time": "2019-03-09T12:01:33.271722Z"
    }
   },
   "outputs": [
    {
     "data": {
      "text/plain": [
       "['an',\n",
       " 'arrow',\n",
       " 'banana',\n",
       " 'cat',\n",
       " 'flies',\n",
       " 'fruit',\n",
       " 'is',\n",
       " 'like',\n",
       " 'on',\n",
       " 'sam',\n",
       " 'sat',\n",
       " 'the',\n",
       " 'time',\n",
       " 'white']"
      ]
     },
     "execution_count": 54,
     "metadata": {},
     "output_type": "execute_result"
    }
   ],
   "source": [
    "tfidf_vectorizer.get_feature_names()"
   ]
  },
  {
   "cell_type": "code",
   "execution_count": 12,
   "metadata": {
    "ExecuteTime": {
     "end_time": "2019-03-09T11:35:55.942088Z",
     "start_time": "2019-03-09T11:35:55.937373Z"
    }
   },
   "outputs": [
    {
     "data": {
      "text/plain": [
       "{'time': 12,\n",
       " 'flies': 4,\n",
       " 'like': 7,\n",
       " 'an': 0,\n",
       " 'arrow': 1,\n",
       " 'fruit': 5,\n",
       " 'banana': 2,\n",
       " 'sam': 9,\n",
       " 'sat': 10,\n",
       " 'on': 8,\n",
       " 'the': 11,\n",
       " 'cat': 3,\n",
       " 'is': 6,\n",
       " 'white': 13}"
      ]
     },
     "execution_count": 12,
     "metadata": {},
     "output_type": "execute_result"
    }
   ],
   "source": [
    "tfidf_vectorizer.vocabulary_"
   ]
  },
  {
   "cell_type": "code",
   "execution_count": 13,
   "metadata": {
    "ExecuteTime": {
     "end_time": "2019-03-09T11:35:55.950529Z",
     "start_time": "2019-03-09T11:35:55.944443Z"
    },
    "scrolled": true
   },
   "outputs": [
    {
     "name": "stdout",
     "output_type": "stream",
     "text": [
      "[[0.48546061 0.48546061 0.         0.         0.38274272 0.\n",
      "  0.         0.38274272 0.         0.         0.         0.\n",
      "  0.48546061 0.        ]\n",
      " [0.         0.         0.55528266 0.         0.43779123 0.55528266\n",
      "  0.         0.43779123 0.         0.         0.         0.\n",
      "  0.         0.        ]\n",
      " [0.         0.         0.         0.38274272 0.         0.\n",
      "  0.         0.         0.48546061 0.48546061 0.48546061 0.38274272\n",
      "  0.         0.        ]\n",
      " [0.         0.         0.         0.43779123 0.         0.\n",
      "  0.55528266 0.         0.         0.         0.         0.43779123\n",
      "  0.         0.55528266]]\n"
     ]
    }
   ],
   "source": [
    "print(tfidf.toarray())"
   ]
  },
  {
   "cell_type": "code",
   "execution_count": 14,
   "metadata": {
    "ExecuteTime": {
     "end_time": "2019-03-09T11:35:55.973651Z",
     "start_time": "2019-03-09T11:35:55.953003Z"
    }
   },
   "outputs": [
    {
     "data": {
      "text/html": [
       "<div>\n",
       "<style scoped>\n",
       "    .dataframe tbody tr th:only-of-type {\n",
       "        vertical-align: middle;\n",
       "    }\n",
       "\n",
       "    .dataframe tbody tr th {\n",
       "        vertical-align: top;\n",
       "    }\n",
       "\n",
       "    .dataframe thead th {\n",
       "        text-align: right;\n",
       "    }\n",
       "</style>\n",
       "<table border=\"1\" class=\"dataframe\">\n",
       "  <thead>\n",
       "    <tr style=\"text-align: right;\">\n",
       "      <th></th>\n",
       "      <th>an</th>\n",
       "      <th>arrow</th>\n",
       "      <th>banana</th>\n",
       "      <th>cat</th>\n",
       "      <th>flies</th>\n",
       "      <th>fruit</th>\n",
       "      <th>is</th>\n",
       "      <th>like</th>\n",
       "      <th>on</th>\n",
       "      <th>sam</th>\n",
       "      <th>sat</th>\n",
       "      <th>the</th>\n",
       "      <th>time</th>\n",
       "      <th>white</th>\n",
       "    </tr>\n",
       "  </thead>\n",
       "  <tbody>\n",
       "    <tr>\n",
       "      <th>0</th>\n",
       "      <td>0.485461</td>\n",
       "      <td>0.485461</td>\n",
       "      <td>0.000000</td>\n",
       "      <td>0.000000</td>\n",
       "      <td>0.382743</td>\n",
       "      <td>0.000000</td>\n",
       "      <td>0.000000</td>\n",
       "      <td>0.382743</td>\n",
       "      <td>0.000000</td>\n",
       "      <td>0.000000</td>\n",
       "      <td>0.000000</td>\n",
       "      <td>0.000000</td>\n",
       "      <td>0.485461</td>\n",
       "      <td>0.000000</td>\n",
       "    </tr>\n",
       "    <tr>\n",
       "      <th>1</th>\n",
       "      <td>0.000000</td>\n",
       "      <td>0.000000</td>\n",
       "      <td>0.555283</td>\n",
       "      <td>0.000000</td>\n",
       "      <td>0.437791</td>\n",
       "      <td>0.555283</td>\n",
       "      <td>0.000000</td>\n",
       "      <td>0.437791</td>\n",
       "      <td>0.000000</td>\n",
       "      <td>0.000000</td>\n",
       "      <td>0.000000</td>\n",
       "      <td>0.000000</td>\n",
       "      <td>0.000000</td>\n",
       "      <td>0.000000</td>\n",
       "    </tr>\n",
       "    <tr>\n",
       "      <th>2</th>\n",
       "      <td>0.000000</td>\n",
       "      <td>0.000000</td>\n",
       "      <td>0.000000</td>\n",
       "      <td>0.382743</td>\n",
       "      <td>0.000000</td>\n",
       "      <td>0.000000</td>\n",
       "      <td>0.000000</td>\n",
       "      <td>0.000000</td>\n",
       "      <td>0.485461</td>\n",
       "      <td>0.485461</td>\n",
       "      <td>0.485461</td>\n",
       "      <td>0.382743</td>\n",
       "      <td>0.000000</td>\n",
       "      <td>0.000000</td>\n",
       "    </tr>\n",
       "    <tr>\n",
       "      <th>3</th>\n",
       "      <td>0.000000</td>\n",
       "      <td>0.000000</td>\n",
       "      <td>0.000000</td>\n",
       "      <td>0.437791</td>\n",
       "      <td>0.000000</td>\n",
       "      <td>0.000000</td>\n",
       "      <td>0.555283</td>\n",
       "      <td>0.000000</td>\n",
       "      <td>0.000000</td>\n",
       "      <td>0.000000</td>\n",
       "      <td>0.000000</td>\n",
       "      <td>0.437791</td>\n",
       "      <td>0.000000</td>\n",
       "      <td>0.555283</td>\n",
       "    </tr>\n",
       "  </tbody>\n",
       "</table>\n",
       "</div>"
      ],
      "text/plain": [
       "         an     arrow    banana       cat     flies     fruit        is  \\\n",
       "0  0.485461  0.485461  0.000000  0.000000  0.382743  0.000000  0.000000   \n",
       "1  0.000000  0.000000  0.555283  0.000000  0.437791  0.555283  0.000000   \n",
       "2  0.000000  0.000000  0.000000  0.382743  0.000000  0.000000  0.000000   \n",
       "3  0.000000  0.000000  0.000000  0.437791  0.000000  0.000000  0.555283   \n",
       "\n",
       "       like        on       sam       sat       the      time     white  \n",
       "0  0.382743  0.000000  0.000000  0.000000  0.000000  0.485461  0.000000  \n",
       "1  0.437791  0.000000  0.000000  0.000000  0.000000  0.000000  0.000000  \n",
       "2  0.000000  0.485461  0.485461  0.485461  0.382743  0.000000  0.000000  \n",
       "3  0.000000  0.000000  0.000000  0.000000  0.437791  0.000000  0.555283  "
      ]
     },
     "execution_count": 14,
     "metadata": {},
     "output_type": "execute_result"
    }
   ],
   "source": [
    "pd.DataFrame(tfidf.toarray(), columns= tfidf_vectorizer.get_feature_names()) \n",
    "# Array mapping from feature integer indices to feature name\n",
    "\n"
   ]
  },
  {
   "cell_type": "markdown",
   "metadata": {
    "collapsed": true
   },
   "source": [
    "# Manual TF and TF-IDF functions "
   ]
  },
  {
   "cell_type": "code",
   "execution_count": 55,
   "metadata": {
    "ExecuteTime": {
     "end_time": "2019-03-09T12:03:09.682237Z",
     "start_time": "2019-03-09T12:03:09.678712Z"
    }
   },
   "outputs": [],
   "source": [
    "docA = \"the cat sat on my sofa\"\n",
    "docB = \"the dog sat on my bed\" "
   ]
  },
  {
   "cell_type": "markdown",
   "metadata": {},
   "source": [
    "### Split document into vector of words"
   ]
  },
  {
   "cell_type": "code",
   "execution_count": 56,
   "metadata": {
    "ExecuteTime": {
     "end_time": "2019-03-09T12:03:11.574943Z",
     "start_time": "2019-03-09T12:03:11.569643Z"
    }
   },
   "outputs": [
    {
     "name": "stdout",
     "output_type": "stream",
     "text": [
      "['the', 'cat', 'sat', 'on', 'my', 'sofa']\n",
      "['the', 'dog', 'sat', 'on', 'my', 'bed']\n"
     ]
    },
    {
     "data": {
      "text/plain": [
       "list"
      ]
     },
     "execution_count": 56,
     "metadata": {},
     "output_type": "execute_result"
    }
   ],
   "source": [
    "bowA = docA.split(\" \")\n",
    "print(bowA)\n",
    "bowB = docB.split(\" \")\n",
    "print(bowB)\n",
    "type(bowA)"
   ]
  },
  {
   "cell_type": "markdown",
   "metadata": {},
   "source": [
    "### Vocabulary in the corpus"
   ]
  },
  {
   "cell_type": "code",
   "execution_count": 57,
   "metadata": {
    "ExecuteTime": {
     "end_time": "2019-03-09T12:08:29.566492Z",
     "start_time": "2019-03-09T12:08:29.562570Z"
    }
   },
   "outputs": [
    {
     "data": {
      "text/plain": [
       "{'bed', 'cat', 'dog', 'my', 'on', 'sat', 'sofa', 'the'}"
      ]
     },
     "execution_count": 57,
     "metadata": {},
     "output_type": "execute_result"
    }
   ],
   "source": [
    "wordSet = set(bowA).union(set(bowB))\n",
    "wordSet"
   ]
  },
  {
   "cell_type": "markdown",
   "metadata": {},
   "source": [
    "### Dictionaries to keep the word count in each bag of words"
   ]
  },
  {
   "cell_type": "code",
   "execution_count": 58,
   "metadata": {
    "ExecuteTime": {
     "end_time": "2019-03-09T12:08:50.203296Z",
     "start_time": "2019-03-09T12:08:50.199713Z"
    }
   },
   "outputs": [
    {
     "name": "stdout",
     "output_type": "stream",
     "text": [
      "{'the': 0, 'sofa': 0, 'my': 0, 'dog': 0, 'cat': 0, 'bed': 0, 'on': 0, 'sat': 0}\n",
      "{'the': 0, 'sofa': 0, 'my': 0, 'dog': 0, 'cat': 0, 'bed': 0, 'on': 0, 'sat': 0}\n"
     ]
    }
   ],
   "source": [
    "wordDictA = dict.fromkeys(wordSet,0) # The method fromkeys() creates a new dictionary with keys from seq and values set to value.\n",
    "print(wordDictA)\n",
    "wordDictB = dict.fromkeys(wordSet,0)\n",
    "print(wordDictB)\n"
   ]
  },
  {
   "cell_type": "code",
   "execution_count": 59,
   "metadata": {
    "ExecuteTime": {
     "end_time": "2019-03-09T12:10:06.187074Z",
     "start_time": "2019-03-09T12:10:06.183879Z"
    }
   },
   "outputs": [],
   "source": [
    "# count the frequency of each word in the dictionary\n",
    "for word in bowA: \n",
    "    wordDictA[word]+=1\n",
    "    \n",
    "for word in bowB:\n",
    "    wordDictB[word]+=1"
   ]
  },
  {
   "cell_type": "code",
   "execution_count": 60,
   "metadata": {
    "ExecuteTime": {
     "end_time": "2019-03-09T12:10:07.340436Z",
     "start_time": "2019-03-09T12:10:07.336446Z"
    }
   },
   "outputs": [
    {
     "name": "stdout",
     "output_type": "stream",
     "text": [
      "['the', 'cat', 'sat', 'on', 'my', 'sofa']\n",
      "{'the': 1, 'sofa': 1, 'my': 1, 'dog': 0, 'cat': 1, 'bed': 0, 'on': 1, 'sat': 1}\n",
      "['the', 'dog', 'sat', 'on', 'my', 'bed']\n",
      "{'the': 1, 'sofa': 0, 'my': 1, 'dog': 1, 'cat': 0, 'bed': 1, 'on': 1, 'sat': 1}\n"
     ]
    }
   ],
   "source": [
    "print(bowA)\n",
    "print(wordDictA)\n",
    "print(bowB)\n",
    "print(wordDictB)"
   ]
  },
  {
   "cell_type": "code",
   "execution_count": 61,
   "metadata": {
    "ExecuteTime": {
     "end_time": "2019-03-09T12:10:11.789356Z",
     "start_time": "2019-03-09T12:10:11.778937Z"
    }
   },
   "outputs": [
    {
     "data": {
      "text/html": [
       "<div>\n",
       "<style scoped>\n",
       "    .dataframe tbody tr th:only-of-type {\n",
       "        vertical-align: middle;\n",
       "    }\n",
       "\n",
       "    .dataframe tbody tr th {\n",
       "        vertical-align: top;\n",
       "    }\n",
       "\n",
       "    .dataframe thead th {\n",
       "        text-align: right;\n",
       "    }\n",
       "</style>\n",
       "<table border=\"1\" class=\"dataframe\">\n",
       "  <thead>\n",
       "    <tr style=\"text-align: right;\">\n",
       "      <th></th>\n",
       "      <th>bed</th>\n",
       "      <th>cat</th>\n",
       "      <th>dog</th>\n",
       "      <th>my</th>\n",
       "      <th>on</th>\n",
       "      <th>sat</th>\n",
       "      <th>sofa</th>\n",
       "      <th>the</th>\n",
       "    </tr>\n",
       "  </thead>\n",
       "  <tbody>\n",
       "    <tr>\n",
       "      <th>0</th>\n",
       "      <td>0</td>\n",
       "      <td>1</td>\n",
       "      <td>0</td>\n",
       "      <td>1</td>\n",
       "      <td>1</td>\n",
       "      <td>1</td>\n",
       "      <td>1</td>\n",
       "      <td>1</td>\n",
       "    </tr>\n",
       "    <tr>\n",
       "      <th>1</th>\n",
       "      <td>1</td>\n",
       "      <td>0</td>\n",
       "      <td>1</td>\n",
       "      <td>1</td>\n",
       "      <td>1</td>\n",
       "      <td>1</td>\n",
       "      <td>0</td>\n",
       "      <td>1</td>\n",
       "    </tr>\n",
       "  </tbody>\n",
       "</table>\n",
       "</div>"
      ],
      "text/plain": [
       "   bed  cat  dog  my  on  sat  sofa  the\n",
       "0    0    1    0   1   1    1     1    1\n",
       "1    1    0    1   1   1    1     0    1"
      ]
     },
     "execution_count": 61,
     "metadata": {},
     "output_type": "execute_result"
    }
   ],
   "source": [
    "# Put them into a matrix\n",
    "pd.DataFrame([wordDictA,wordDictB])"
   ]
  },
  {
   "cell_type": "markdown",
   "metadata": {},
   "source": [
    "### Python function to compute term frequency"
   ]
  },
  {
   "cell_type": "code",
   "execution_count": 62,
   "metadata": {
    "ExecuteTime": {
     "end_time": "2019-03-09T12:11:15.083742Z",
     "start_time": "2019-03-09T12:11:15.080084Z"
    }
   },
   "outputs": [],
   "source": [
    "def computeTF(wordDict, bow):\n",
    "    tfDict = {}                # creating an empty dictionary\n",
    "    bowCount = len(bow)\n",
    "    print(bowCount)\n",
    "    for word, count in wordDict.items():\n",
    "        # print(wordDict.items())\n",
    "        tfDict[word] = count/ bowCount\n",
    "    return tfDict"
   ]
  },
  {
   "cell_type": "code",
   "execution_count": 23,
   "metadata": {
    "ExecuteTime": {
     "end_time": "2019-03-09T11:35:56.043787Z",
     "start_time": "2019-03-09T11:35:56.039634Z"
    },
    "scrolled": true
   },
   "outputs": [
    {
     "name": "stdout",
     "output_type": "stream",
     "text": [
      "6\n"
     ]
    },
    {
     "data": {
      "text/plain": [
       "{'the': 0.16666666666666666,\n",
       " 'sofa': 0.16666666666666666,\n",
       " 'my': 0.16666666666666666,\n",
       " 'dog': 0.0,\n",
       " 'cat': 0.16666666666666666,\n",
       " 'bed': 0.0,\n",
       " 'on': 0.16666666666666666,\n",
       " 'sat': 0.16666666666666666}"
      ]
     },
     "execution_count": 23,
     "metadata": {},
     "output_type": "execute_result"
    }
   ],
   "source": [
    "# Call the function on 1st document\n",
    "tfbowA = computeTF(wordDictA,bowA)\n",
    "tfbowA"
   ]
  },
  {
   "cell_type": "code",
   "execution_count": 24,
   "metadata": {
    "ExecuteTime": {
     "end_time": "2019-03-09T11:35:56.049631Z",
     "start_time": "2019-03-09T11:35:56.045645Z"
    }
   },
   "outputs": [
    {
     "name": "stdout",
     "output_type": "stream",
     "text": [
      "6\n"
     ]
    },
    {
     "data": {
      "text/plain": [
       "{'the': 0.16666666666666666,\n",
       " 'sofa': 0.0,\n",
       " 'my': 0.16666666666666666,\n",
       " 'dog': 0.16666666666666666,\n",
       " 'cat': 0.0,\n",
       " 'bed': 0.16666666666666666,\n",
       " 'on': 0.16666666666666666,\n",
       " 'sat': 0.16666666666666666}"
      ]
     },
     "execution_count": 24,
     "metadata": {},
     "output_type": "execute_result"
    }
   ],
   "source": [
    "#call the function on 2nd document\n",
    "tfbowB = computeTF(wordDictB,bowB)\n",
    "tfbowB"
   ]
  },
  {
   "cell_type": "markdown",
   "metadata": {},
   "source": [
    "##### Compute IDF = log(no of documents / count(documents in which term T occurs))"
   ]
  },
  {
   "cell_type": "code",
   "execution_count": 25,
   "metadata": {
    "ExecuteTime": {
     "end_time": "2019-03-09T11:35:56.058906Z",
     "start_time": "2019-03-09T11:35:56.051728Z"
    }
   },
   "outputs": [],
   "source": [
    "import math\n",
    "def computeIDF(docList):\n",
    "    idfDict = {}\n",
    "    N = len(docList)\n",
    "    print(N)\n",
    "    \n",
    "    # count the number of documents that contains the word w\n",
    "    idfDict = dict.fromkeys(docList[0].keys(),0)\n",
    "    print(idfDict)\n",
    "    \n",
    "    for doc in docList:\n",
    "        for word, val in doc.items():\n",
    "            # print(doc.items())\n",
    "            if val > 0:\n",
    "                idfDict[word] += 1\n",
    "                \n",
    "    # divide N by denominator above and take log of that\n",
    "    for word, val in idfDict.items():\n",
    "        idfDict[word]= math.log(N/val)\n",
    "        \n",
    "    return idfDict"
   ]
  },
  {
   "cell_type": "code",
   "execution_count": 26,
   "metadata": {
    "ExecuteTime": {
     "end_time": "2019-03-09T11:35:56.066181Z",
     "start_time": "2019-03-09T11:35:56.061875Z"
    }
   },
   "outputs": [
    {
     "name": "stdout",
     "output_type": "stream",
     "text": [
      "{'the': 1, 'sofa': 1, 'my': 1, 'dog': 0, 'cat': 1, 'bed': 0, 'on': 1, 'sat': 1}\n",
      "{'the': 1, 'sofa': 0, 'my': 1, 'dog': 1, 'cat': 0, 'bed': 1, 'on': 1, 'sat': 1}\n"
     ]
    }
   ],
   "source": [
    "print(wordDictA)\n",
    "print(wordDictB)"
   ]
  },
  {
   "cell_type": "code",
   "execution_count": 27,
   "metadata": {
    "ExecuteTime": {
     "end_time": "2019-03-09T11:35:56.074266Z",
     "start_time": "2019-03-09T11:35:56.068906Z"
    }
   },
   "outputs": [
    {
     "name": "stdout",
     "output_type": "stream",
     "text": [
      "2\n",
      "{'the': 0, 'sofa': 0, 'my': 0, 'dog': 0, 'cat': 0, 'bed': 0, 'on': 0, 'sat': 0}\n"
     ]
    },
    {
     "data": {
      "text/plain": [
       "{'the': 0.0,\n",
       " 'sofa': 0.6931471805599453,\n",
       " 'my': 0.0,\n",
       " 'dog': 0.6931471805599453,\n",
       " 'cat': 0.6931471805599453,\n",
       " 'bed': 0.6931471805599453,\n",
       " 'on': 0.0,\n",
       " 'sat': 0.0}"
      ]
     },
     "execution_count": 27,
     "metadata": {},
     "output_type": "execute_result"
    }
   ],
   "source": [
    "### Call computeIDF() function, send the documents as a list as input parameters\n",
    "idfs = computeIDF([wordDictA,wordDictB])\n",
    "idfs"
   ]
  },
  {
   "cell_type": "markdown",
   "metadata": {},
   "source": [
    "### Compute TF * IDF"
   ]
  },
  {
   "cell_type": "code",
   "execution_count": 28,
   "metadata": {
    "ExecuteTime": {
     "end_time": "2019-03-09T11:35:56.079559Z",
     "start_time": "2019-03-09T11:35:56.076515Z"
    }
   },
   "outputs": [],
   "source": [
    "def computeTFIDF(tfBow,idfs):\n",
    "    tfidf = {}\n",
    "    for word, val in tfBow.items():\n",
    "        tfidf[word] = val*idfs[word]\n",
    "    return tfidf"
   ]
  },
  {
   "cell_type": "markdown",
   "metadata": {},
   "source": [
    "### TFIDF for terms in document A"
   ]
  },
  {
   "cell_type": "code",
   "execution_count": 29,
   "metadata": {
    "ExecuteTime": {
     "end_time": "2019-03-09T11:35:56.087061Z",
     "start_time": "2019-03-09T11:35:56.082103Z"
    }
   },
   "outputs": [
    {
     "data": {
      "text/plain": [
       "{'the': 0.0,\n",
       " 'sofa': 0.11552453009332421,\n",
       " 'my': 0.0,\n",
       " 'dog': 0.0,\n",
       " 'cat': 0.11552453009332421,\n",
       " 'bed': 0.0,\n",
       " 'on': 0.0,\n",
       " 'sat': 0.0}"
      ]
     },
     "execution_count": 29,
     "metadata": {},
     "output_type": "execute_result"
    }
   ],
   "source": [
    "tfIDFA = computeTFIDF(tfbowA,idfs)\n",
    "tfIDFA"
   ]
  },
  {
   "cell_type": "markdown",
   "metadata": {},
   "source": [
    "### TFIDF for terms in document B"
   ]
  },
  {
   "cell_type": "code",
   "execution_count": 30,
   "metadata": {
    "ExecuteTime": {
     "end_time": "2019-03-09T11:35:56.092647Z",
     "start_time": "2019-03-09T11:35:56.088865Z"
    }
   },
   "outputs": [
    {
     "data": {
      "text/plain": [
       "{'the': 0.0,\n",
       " 'sofa': 0.0,\n",
       " 'my': 0.0,\n",
       " 'dog': 0.11552453009332421,\n",
       " 'cat': 0.0,\n",
       " 'bed': 0.11552453009332421,\n",
       " 'on': 0.0,\n",
       " 'sat': 0.0}"
      ]
     },
     "execution_count": 30,
     "metadata": {},
     "output_type": "execute_result"
    }
   ],
   "source": [
    "tfIDFB = computeTFIDF(tfbowB, idfs)\n",
    "tfIDFB"
   ]
  },
  {
   "cell_type": "code",
   "execution_count": 31,
   "metadata": {
    "ExecuteTime": {
     "end_time": "2019-03-09T11:35:56.106235Z",
     "start_time": "2019-03-09T11:35:56.094461Z"
    }
   },
   "outputs": [
    {
     "data": {
      "text/html": [
       "<div>\n",
       "<style scoped>\n",
       "    .dataframe tbody tr th:only-of-type {\n",
       "        vertical-align: middle;\n",
       "    }\n",
       "\n",
       "    .dataframe tbody tr th {\n",
       "        vertical-align: top;\n",
       "    }\n",
       "\n",
       "    .dataframe thead th {\n",
       "        text-align: right;\n",
       "    }\n",
       "</style>\n",
       "<table border=\"1\" class=\"dataframe\">\n",
       "  <thead>\n",
       "    <tr style=\"text-align: right;\">\n",
       "      <th></th>\n",
       "      <th>bed</th>\n",
       "      <th>cat</th>\n",
       "      <th>dog</th>\n",
       "      <th>my</th>\n",
       "      <th>on</th>\n",
       "      <th>sat</th>\n",
       "      <th>sofa</th>\n",
       "      <th>the</th>\n",
       "    </tr>\n",
       "  </thead>\n",
       "  <tbody>\n",
       "    <tr>\n",
       "      <th>0</th>\n",
       "      <td>0.000000</td>\n",
       "      <td>0.115525</td>\n",
       "      <td>0.000000</td>\n",
       "      <td>0.0</td>\n",
       "      <td>0.0</td>\n",
       "      <td>0.0</td>\n",
       "      <td>0.115525</td>\n",
       "      <td>0.0</td>\n",
       "    </tr>\n",
       "    <tr>\n",
       "      <th>1</th>\n",
       "      <td>0.115525</td>\n",
       "      <td>0.000000</td>\n",
       "      <td>0.115525</td>\n",
       "      <td>0.0</td>\n",
       "      <td>0.0</td>\n",
       "      <td>0.0</td>\n",
       "      <td>0.000000</td>\n",
       "      <td>0.0</td>\n",
       "    </tr>\n",
       "  </tbody>\n",
       "</table>\n",
       "</div>"
      ],
      "text/plain": [
       "        bed       cat       dog   my   on  sat      sofa  the\n",
       "0  0.000000  0.115525  0.000000  0.0  0.0  0.0  0.115525  0.0\n",
       "1  0.115525  0.000000  0.115525  0.0  0.0  0.0  0.000000  0.0"
      ]
     },
     "execution_count": 31,
     "metadata": {},
     "output_type": "execute_result"
    }
   ],
   "source": [
    "pd.DataFrame([tfIDFA,tfIDFB])"
   ]
  }
 ],
 "metadata": {
  "anaconda-cloud": {},
  "kernelspec": {
   "display_name": "Python 3",
   "language": "python",
   "name": "python3"
  },
  "language_info": {
   "codemirror_mode": {
    "name": "ipython",
    "version": 3
   },
   "file_extension": ".py",
   "mimetype": "text/x-python",
   "name": "python",
   "nbconvert_exporter": "python",
   "pygments_lexer": "ipython3",
   "version": "3.6.7"
  },
  "toc": {
   "base_numbering": 1,
   "nav_menu": {},
   "number_sections": true,
   "sideBar": true,
   "skip_h1_title": false,
   "title_cell": "Table of Contents",
   "title_sidebar": "Contents",
   "toc_cell": false,
   "toc_position": {},
   "toc_section_display": true,
   "toc_window_display": false
  },
  "varInspector": {
   "cols": {
    "lenName": 16,
    "lenType": 16,
    "lenVar": 40
   },
   "kernels_config": {
    "python": {
     "delete_cmd_postfix": "",
     "delete_cmd_prefix": "del ",
     "library": "var_list.py",
     "varRefreshCmd": "print(var_dic_list())"
    },
    "r": {
     "delete_cmd_postfix": ") ",
     "delete_cmd_prefix": "rm(",
     "library": "var_list.r",
     "varRefreshCmd": "cat(var_dic_list()) "
    }
   },
   "types_to_exclude": [
    "module",
    "function",
    "builtin_function_or_method",
    "instance",
    "_Feature"
   ],
   "window_display": false
  }
 },
 "nbformat": 4,
 "nbformat_minor": 1
}
