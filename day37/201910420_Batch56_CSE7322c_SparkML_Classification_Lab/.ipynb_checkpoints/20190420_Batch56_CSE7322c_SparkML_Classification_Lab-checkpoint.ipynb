{
 "cells": [
  {
   "cell_type": "markdown",
   "metadata": {},
   "source": [
    "### Create SPARK_HOME and PYLIB env var and update PATH env var"
   ]
  },
  {
   "cell_type": "code",
   "execution_count": 2,
   "metadata": {},
   "outputs": [
    {
     "name": "stdout",
     "output_type": "stream",
     "text": [
      "ls: `/user/thomasj/bank.csv': No such file or directory\r\n"
     ]
    }
   ],
   "source": [
    "!hdfs dfs -ls /user/thomasj/bank.csv\n"
   ]
  },
  {
   "cell_type": "code",
   "execution_count": 3,
   "metadata": {},
   "outputs": [],
   "source": [
    "import os\n",
    "import sys\n",
    "os.environ[\"SPARK_HOME\"] = \"/usr/hdp/current/spark2-client\"\n",
    "os.environ[\"PYLIB\"] = os.environ[\"SPARK_HOME\"] + \"/python/lib\"\n",
    "sys.path.insert(0, os.environ[\"PYLIB\"] + \"/py4j-0.10.4-src.zip\")\n",
    "sys.path.insert(0, os.environ[\"PYLIB\"] + \"/pyspark.zip\")"
   ]
  },
  {
   "cell_type": "markdown",
   "metadata": {},
   "source": [
    "### Initializing Spark"
   ]
  },
  {
   "cell_type": "markdown",
   "metadata": {},
   "source": [
    "Build __SparkConf__ object \n",
    "\n",
    "    Contains information about your application.  \n",
    "\n",
    "\n",
    "Create __SparkContext__ object \n",
    "    \n",
    "    Tells Spark how to access a cluster. \n",
    "    \n",
    "\n",
    "Create __SparkSession__ object\n",
    "\n",
    "    The entry point to programming Spark with the Dataset and DataFrame API.\n",
    "\n",
    "    Used to create DataFrame, register DataFrame as tables and execute SQL over tables etc."
   ]
  },
  {
   "cell_type": "code",
   "execution_count": 4,
   "metadata": {},
   "outputs": [],
   "source": [
    "# from pyspark.conf import SparkConf\n",
    "# from pyspark import SparkContext\n",
    "# from pyspark.sql import SparkSession\n",
    "\n",
    "# conf = SparkConf().setAppName(\"Universal Bank Data Set\").setMaster('local')\n",
    "# sc = SparkContext(conf=conf)\n",
    "# spark = SparkSession(sc)"
   ]
  },
  {
   "cell_type": "code",
   "execution_count": 5,
   "metadata": {},
   "outputs": [],
   "source": [
    "# from pyspark.conf import SparkConf\n",
    "# from pyspark import SparkContext\n",
    "from pyspark.sql import SparkSession\n",
    "\n",
    "spark = SparkSession.builder\\\n",
    "    .appName(\"SparkML\")\\\n",
    "    .master('local[*]')\\\n",
    "    .getOrCreate()\n",
    "sc = spark.sparkContext"
   ]
  },
  {
   "cell_type": "markdown",
   "metadata": {
    "collapsed": true
   },
   "source": [
    "### Loading the dependent libraries"
   ]
  },
  {
   "cell_type": "code",
   "execution_count": 6,
   "metadata": {},
   "outputs": [],
   "source": [
    "from pyspark.sql.types import *\n",
    "from pyspark.sql.functions import *\n",
    "\n",
    "from pyspark.sql.functions import isnan, when, count, col, countDistinct"
   ]
  },
  {
   "cell_type": "markdown",
   "metadata": {},
   "source": [
    "\n",
    "#### Problem Statement\n",
    "The dataset is from a bank, data related to direct marketing campaigns of a Portuguese banking institution. The marketing campaigns were based on phone calls. Often, more than one contact to the same client was required, to access if the product (bank term deposit) would be (or not) subscribed. The data and attribute description are in the folder. \n",
    "\n",
    "\n",
    "#### Data Dictionary\n",
    " The dataset has the following attributes:\n",
    "\n",
    "1 - age (numeric)\n",
    "\n",
    "2 - job : type of job (categorical: \"admin.\",\"unknown\",\"unemployed\",\"management\",\"housemaid\",\"entrepreneur\",\"student\",\n",
    "                                    \"blue-collar\",\"self-employed\",\"retired\",\"technician\",\"services\") \n",
    "\n",
    "3 - marital : marital status (categorical: \"married\",\"divorced\",\"single\"; note: \"divorced\" means divorced or widowed)\n",
    "\n",
    "4 - education (categorical: \"unknown\",\"secondary\",\"primary\",\"tertiary\")\n",
    "\n",
    "5 - default: has credit in default? (binary: \"yes\",\"no\")\n",
    "\n",
    "#### 6 - balance: average yearly balance, in euros (numeric) \n",
    "\n",
    "7 - housing: has housing loan? (binary: \"yes\",\"no\")\n",
    "\n",
    "8 - loan: has personal loan? (binary: \"yes\",\"no\")\n",
    "\n",
    "9 - contact: contact communication type (categorical: \"unknown\",\"telephone\",\"cellular\") \n",
    "\n",
    "10 - day: last contact day of the month (numeric)\n",
    "\n",
    "11 - month: last contact month of year (categorical: \"jan\", \"feb\", \"mar\", ..., \"nov\", \"dec\")\n",
    "\n",
    "12 - duration: last contact duration, in seconds (numeric)\n",
    "\n",
    "13 - campaign: number of contacts performed during this campaign and for this client (numeric, includes last contact)\n",
    "\n",
    "14 - pdays: number of days that passed by after the client was last contacted from a previous campaign (numeric, -1 means client was not previously contacted)\n",
    "  \n",
    "15 - previous: number of contacts performed before this campaign and for this client (numeric)\n",
    "\n",
    "16 - poutcome: outcome of the previous marketing campaign (categorical: \"unknown\",\"other\",\"failure\",\"success\")\n",
    "\n",
    "17 - Approved_no_yes - has the client subscribed to a __term deposit?__ (binary: \"yes\",\"no\")"
   ]
  },
  {
   "cell_type": "markdown",
   "metadata": {},
   "source": [
    "### Defining the schema to the data"
   ]
  },
  {
   "cell_type": "code",
   "execution_count": 7,
   "metadata": {},
   "outputs": [],
   "source": [
    "## Define Schema\n",
    "bankDataSchema = StructType([\n",
    "    StructField(\"age\", IntegerType(), True),\n",
    "    StructField(\"job\", StringType(), True),\n",
    "    StructField(\"marital_status\", StringType(), True),\n",
    "    StructField(\"education\", StringType(), True),\n",
    "    StructField(\"default\", StringType(), True),\n",
    "    StructField(\"balance\", DoubleType(), True),\n",
    "    StructField(\"housing\", StringType(), True),\n",
    "    StructField(\"loan\", StringType(), True),        \n",
    "    StructField(\"contact\", StringType(), True),\n",
    "    StructField(\"day\", IntegerType(), True),\n",
    "    StructField(\"month\", StringType(), True),\n",
    "    StructField(\"duration\", DoubleType(), True),\n",
    "    StructField(\"campaign\", DoubleType(), True),\n",
    "    StructField(\"pdays\", DoubleType(), True),\n",
    "    StructField(\"previous\", DoubleType(), True),\n",
    "    StructField(\"poutcome\", StringType(), True),\n",
    "    StructField(\"Approved_no_yes\", StringType(), True)])"
   ]
  },
  {
   "cell_type": "markdown",
   "metadata": {},
   "source": [
    "### Reading the data and creating a dataframe"
   ]
  },
  {
   "cell_type": "code",
   "execution_count": 8,
   "metadata": {},
   "outputs": [],
   "source": [
    "## Read data and create a dataframe\n",
    "#data = spark.read.format(\"csv\")\\\n",
    "#       .option(\"header\", \"false\")\\\n",
    "#       .option(\"inferSchema\", \"false\")\\\n",
    "#       .load(\"/user/chaithanyas/bank.csv\", schema = bankDataSchema)"
   ]
  },
  {
   "cell_type": "code",
   "execution_count": 9,
   "metadata": {},
   "outputs": [
    {
     "name": "stdout",
     "output_type": "stream",
     "text": [
      "cat: `/user/thomasj/bank.csv': No such file or directory\r\n"
     ]
    }
   ],
   "source": [
    "!hdfs dfs -cat /user/thomasj/bank.csv | head -10"
   ]
  },
  {
   "cell_type": "code",
   "execution_count": 13,
   "metadata": {},
   "outputs": [],
   "source": [
    "data = spark.read.csv(path='file:///home/thomasj/Batch52/bank.csv',\n",
    "                      header=False,\n",
    "                      schema=bankDataSchema)"
   ]
  },
  {
   "cell_type": "code",
   "execution_count": 14,
   "metadata": {},
   "outputs": [
    {
     "data": {
      "text/plain": [
       "pyspark.sql.dataframe.DataFrame"
      ]
     },
     "execution_count": 14,
     "metadata": {},
     "output_type": "execute_result"
    }
   ],
   "source": [
    "type(data)"
   ]
  },
  {
   "cell_type": "markdown",
   "metadata": {},
   "source": [
    "### Understanding Data"
   ]
  },
  {
   "cell_type": "markdown",
   "metadata": {},
   "source": [
    "#### Print Schema\n",
    "\n",
    "Hint: Use printSchema()"
   ]
  },
  {
   "cell_type": "code",
   "execution_count": 15,
   "metadata": {},
   "outputs": [
    {
     "name": "stdout",
     "output_type": "stream",
     "text": [
      "root\n",
      " |-- age: integer (nullable = true)\n",
      " |-- job: string (nullable = true)\n",
      " |-- marital_status: string (nullable = true)\n",
      " |-- education: string (nullable = true)\n",
      " |-- default: string (nullable = true)\n",
      " |-- balance: double (nullable = true)\n",
      " |-- housing: string (nullable = true)\n",
      " |-- loan: string (nullable = true)\n",
      " |-- contact: string (nullable = true)\n",
      " |-- day: integer (nullable = true)\n",
      " |-- month: string (nullable = true)\n",
      " |-- duration: double (nullable = true)\n",
      " |-- campaign: double (nullable = true)\n",
      " |-- pdays: double (nullable = true)\n",
      " |-- previous: double (nullable = true)\n",
      " |-- poutcome: string (nullable = true)\n",
      " |-- Approved_no_yes: string (nullable = true)\n",
      "\n"
     ]
    }
   ],
   "source": [
    "data.printSchema()"
   ]
  },
  {
   "cell_type": "markdown",
   "metadata": {},
   "source": [
    "#### Another way to check the data type of each attribute\n",
    "\n",
    "Hint: Use dtypes"
   ]
  },
  {
   "cell_type": "code",
   "execution_count": 16,
   "metadata": {},
   "outputs": [
    {
     "data": {
      "text/plain": [
       "[('age', 'int'),\n",
       " ('job', 'string'),\n",
       " ('marital_status', 'string'),\n",
       " ('education', 'string'),\n",
       " ('default', 'string'),\n",
       " ('balance', 'double'),\n",
       " ('housing', 'string'),\n",
       " ('loan', 'string'),\n",
       " ('contact', 'string'),\n",
       " ('day', 'int'),\n",
       " ('month', 'string'),\n",
       " ('duration', 'double'),\n",
       " ('campaign', 'double'),\n",
       " ('pdays', 'double'),\n",
       " ('previous', 'double'),\n",
       " ('poutcome', 'string'),\n",
       " ('Approved_no_yes', 'string')]"
      ]
     },
     "execution_count": 16,
     "metadata": {},
     "output_type": "execute_result"
    }
   ],
   "source": [
    "data.dtypes"
   ]
  },
  {
   "cell_type": "markdown",
   "metadata": {},
   "source": [
    "#### Total number of Columns and Records\n",
    "\n",
    "Hint: Use columns and count() function"
   ]
  },
  {
   "cell_type": "code",
   "execution_count": 17,
   "metadata": {},
   "outputs": [
    {
     "name": "stdout",
     "output_type": "stream",
     "text": [
      "No. of Columns = 17\n",
      "No. of Records = 4521\n"
     ]
    }
   ],
   "source": [
    "print(\"No. of Columns = {}\".format(len(data.columns)))\n",
    "\n",
    "print('No. of Records = {}'.format(data.count()))"
   ]
  },
  {
   "cell_type": "markdown",
   "metadata": {},
   "source": [
    "#### Look at first 3 row of the dataframe"
   ]
  },
  {
   "cell_type": "code",
   "execution_count": 18,
   "metadata": {},
   "outputs": [
    {
     "data": {
      "text/plain": [
       "[Row(age=30, job=u'unemployed', marital_status=u'married', education=u'primary', default=u'no', balance=1787.0, housing=u'no', loan=u'no', contact=u'cellular', day=19, month=u'oct', duration=79.0, campaign=1.0, pdays=-1.0, previous=0.0, poutcome=u'unknown', Approved_no_yes=u'no'),\n",
       " Row(age=33, job=u'services', marital_status=u'married', education=u'secondary', default=u'no', balance=4789.0, housing=u'yes', loan=u'yes', contact=u'cellular', day=11, month=u'may', duration=220.0, campaign=1.0, pdays=339.0, previous=4.0, poutcome=u'failure', Approved_no_yes=u'no'),\n",
       " Row(age=35, job=u'management', marital_status=u'single', education=u'tertiary', default=u'no', balance=1350.0, housing=u'yes', loan=u'no', contact=u'cellular', day=16, month=u'apr', duration=185.0, campaign=1.0, pdays=330.0, previous=1.0, poutcome=u'failure', Approved_no_yes=u'no')]"
      ]
     },
     "execution_count": 18,
     "metadata": {},
     "output_type": "execute_result"
    }
   ],
   "source": [
    "data.head(3)"
   ]
  },
  {
   "cell_type": "markdown",
   "metadata": {},
   "source": [
    "Hint: Use Show() function"
   ]
  },
  {
   "cell_type": "code",
   "execution_count": 19,
   "metadata": {},
   "outputs": [
    {
     "name": "stdout",
     "output_type": "stream",
     "text": [
      "+---+----------+--------------+---------+-------+-------+-------+----+--------+---+-----+--------+--------+-----+--------+--------+---------------+\n",
      "|age|       job|marital_status|education|default|balance|housing|loan| contact|day|month|duration|campaign|pdays|previous|poutcome|Approved_no_yes|\n",
      "+---+----------+--------------+---------+-------+-------+-------+----+--------+---+-----+--------+--------+-----+--------+--------+---------------+\n",
      "| 30|unemployed|       married|  primary|     no| 1787.0|     no|  no|cellular| 19|  oct|    79.0|     1.0| -1.0|     0.0| unknown|             no|\n",
      "| 33|  services|       married|secondary|     no| 4789.0|    yes| yes|cellular| 11|  may|   220.0|     1.0|339.0|     4.0| failure|             no|\n",
      "| 35|management|        single| tertiary|     no| 1350.0|    yes|  no|cellular| 16|  apr|   185.0|     1.0|330.0|     1.0| failure|             no|\n",
      "+---+----------+--------------+---------+-------+-------+-------+----+--------+---+-----+--------+--------+-----+--------+--------+---------------+\n",
      "only showing top 3 rows\n",
      "\n"
     ]
    }
   ],
   "source": [
    "data.show(3)"
   ]
  },
  {
   "cell_type": "markdown",
   "metadata": {},
   "source": [
    "#### Summary statistics\n",
    "\n",
    "Hint: Use describe() function"
   ]
  },
  {
   "cell_type": "code",
   "execution_count": 20,
   "metadata": {},
   "outputs": [
    {
     "name": "stdout",
     "output_type": "stream",
     "text": [
      "+-------+------------------+-------+--------------+---------+-------+------------------+-------+----+--------+------------------+-----+------------------+------------------+------------------+------------------+--------+---------------+\n",
      "|summary|               age|    job|marital_status|education|default|           balance|housing|loan| contact|               day|month|          duration|          campaign|             pdays|          previous|poutcome|Approved_no_yes|\n",
      "+-------+------------------+-------+--------------+---------+-------+------------------+-------+----+--------+------------------+-----+------------------+------------------+------------------+------------------+--------+---------------+\n",
      "|  count|              4521|   4521|          4521|     4521|   4521|              4521|   4521|4521|    4521|              4521| 4521|              4521|              4521|              4521|              4521|    4521|           4521|\n",
      "|   mean| 41.17009511170095|   null|          null|     null|   null|1422.6578190665782|   null|null|    null|15.915284229152842| null|263.96129174961294| 2.793629727936297|39.766644547666445|0.5425790754257908|    null|           null|\n",
      "| stddev|10.576210958711263|   null|          null|     null|   null|3009.6381424673395|   null|null|    null| 8.247667327229934| null|259.85663262468216|3.1098066601885823|100.12112444301656|1.6935623506071211|    null|           null|\n",
      "|    min|                19| admin.|      divorced|  primary|     no|           -3313.0|     no|  no|cellular|                 1|  apr|               4.0|               1.0|              -1.0|               0.0| failure|             no|\n",
      "|    max|                87|unknown|        single|  unknown|    yes|           71188.0|    yes| yes| unknown|                31|  sep|            3025.0|              50.0|             871.0|              25.0| unknown|            yes|\n",
      "+-------+------------------+-------+--------------+---------+-------+------------------+-------+----+--------+------------------+-----+------------------+------------------+------------------+------------------+--------+---------------+\n",
      "\n"
     ]
    }
   ],
   "source": [
    "data.describe().show()"
   ]
  },
  {
   "cell_type": "markdown",
   "metadata": {},
   "source": [
    "Show only fixed set of colums "
   ]
  },
  {
   "cell_type": "code",
   "execution_count": 21,
   "metadata": {},
   "outputs": [
    {
     "name": "stdout",
     "output_type": "stream",
     "text": [
      "+-------+------------------+----+------------------+------------------+\n",
      "|summary|               age|loan|           balance|             pdays|\n",
      "+-------+------------------+----+------------------+------------------+\n",
      "|  count|              4521|4521|              4521|              4521|\n",
      "|   mean| 41.17009511170095|null|1422.6578190665782|39.766644547666445|\n",
      "| stddev|10.576210958711263|null|3009.6381424673395|100.12112444301656|\n",
      "|    min|                19|  no|           -3313.0|              -1.0|\n",
      "|    max|                87| yes|           71188.0|             871.0|\n",
      "+-------+------------------+----+------------------+------------------+\n",
      "\n"
     ]
    }
   ],
   "source": [
    "data.describe().select('summary', 'age', 'loan', 'balance', 'pdays').show()"
   ]
  },
  {
   "cell_type": "markdown",
   "metadata": {},
   "source": [
    "Observation\n",
    "\n",
    "    Balance has -ve values"
   ]
  },
  {
   "cell_type": "markdown",
   "metadata": {},
   "source": [
    "Count the number of records that have balance < 0\n",
    "\n",
    "Hint: Use Where() and count()"
   ]
  },
  {
   "cell_type": "code",
   "execution_count": 22,
   "metadata": {},
   "outputs": [
    {
     "data": {
      "text/plain": [
       "366"
      ]
     },
     "execution_count": 22,
     "metadata": {},
     "output_type": "execute_result"
    }
   ],
   "source": [
    "data.where(data.balance < 0).count()"
   ]
  },
  {
   "cell_type": "markdown",
   "metadata": {},
   "source": [
    "### Data Preprocessing"
   ]
  },
  {
   "cell_type": "markdown",
   "metadata": {},
   "source": [
    "#### Replace negative balances with zeroes\n",
    "\n",
    "Hint: Use withColumn() and when() functions"
   ]
  },
  {
   "cell_type": "code",
   "execution_count": 23,
   "metadata": {},
   "outputs": [],
   "source": [
    "data = data.withColumn('balance', when(data.balance > 0, data.balance).otherwise(0))"
   ]
  },
  {
   "cell_type": "code",
   "execution_count": 24,
   "metadata": {},
   "outputs": [
    {
     "data": {
      "text/plain": [
       "0"
      ]
     },
     "execution_count": 24,
     "metadata": {},
     "output_type": "execute_result"
    }
   ],
   "source": [
    "data.where(data.balance < 0).count()"
   ]
  },
  {
   "cell_type": "markdown",
   "metadata": {},
   "source": [
    "#### Handling missing values"
   ]
  },
  {
   "cell_type": "markdown",
   "metadata": {},
   "source": [
    "Checking for null values at each column"
   ]
  },
  {
   "cell_type": "code",
   "execution_count": 25,
   "metadata": {},
   "outputs": [
    {
     "name": "stdout",
     "output_type": "stream",
     "text": [
      "+---+---+--------------+---------+-------+-------+-------+----+-------+---+-----+--------+--------+-----+--------+--------+---------------+\n",
      "|age|job|marital_status|education|default|balance|housing|loan|contact|day|month|duration|campaign|pdays|previous|poutcome|Approved_no_yes|\n",
      "+---+---+--------------+---------+-------+-------+-------+----+-------+---+-----+--------+--------+-----+--------+--------+---------------+\n",
      "|  0|  0|             0|        0|      0|      0|      0|   0|      0|  0|    0|       0|       0|    0|       0|       0|              0|\n",
      "+---+---+--------------+---------+-------+-------+-------+----+-------+---+-----+--------+--------+-----+--------+--------+---------------+\n",
      "\n"
     ]
    }
   ],
   "source": [
    "data.select([count(when(isnan(c) | col(c).isNull(), c)).alias(c) \n",
    "             for c in data.columns]).show()"
   ]
  },
  {
   "cell_type": "markdown",
   "metadata": {},
   "source": [
    "#### Split the data into training and test sets (30% held out for testing)\n",
    "\n",
    "Hint: randomSplit()"
   ]
  },
  {
   "cell_type": "code",
   "execution_count": 26,
   "metadata": {},
   "outputs": [],
   "source": [
    "(trainingData, testData) = data.randomSplit([0.7, 0.3])"
   ]
  },
  {
   "cell_type": "code",
   "execution_count": 27,
   "metadata": {},
   "outputs": [
    {
     "data": {
      "text/plain": [
       "DataFrame[summary: string, age: string, job: string, marital_status: string, education: string, default: string, balance: string, housing: string, loan: string, contact: string, day: string, month: string, duration: string, campaign: string, pdays: string, previous: string, poutcome: string, Approved_no_yes: string]"
      ]
     },
     "execution_count": 27,
     "metadata": {},
     "output_type": "execute_result"
    }
   ],
   "source": [
    "testData.describe()"
   ]
  },
  {
   "cell_type": "code",
   "execution_count": 28,
   "metadata": {},
   "outputs": [],
   "source": [
    "# testData = testData.drop(\"loan\")"
   ]
  },
  {
   "cell_type": "code",
   "execution_count": 32,
   "metadata": {},
   "outputs": [
    {
     "data": {
      "text/plain": [
       "[('age', 'int'),\n",
       " ('job', 'string'),\n",
       " ('marital_status', 'string'),\n",
       " ('education', 'string'),\n",
       " ('default', 'string'),\n",
       " ('balance', 'double'),\n",
       " ('housing', 'string'),\n",
       " ('loan', 'string'),\n",
       " ('contact', 'string'),\n",
       " ('day', 'int'),\n",
       " ('month', 'string'),\n",
       " ('duration', 'double'),\n",
       " ('campaign', 'double'),\n",
       " ('pdays', 'double'),\n",
       " ('previous', 'double'),\n",
       " ('poutcome', 'string'),\n",
       " ('Approved_no_yes', 'string')]"
      ]
     },
     "execution_count": 32,
     "metadata": {},
     "output_type": "execute_result"
    }
   ],
   "source": [
    "trainingData.dtypes"
   ]
  },
  {
   "cell_type": "code",
   "execution_count": 33,
   "metadata": {},
   "outputs": [],
   "source": [
    "num_col = [c for c in trainingData.dtypes if c[1] in ['int', 'double']]"
   ]
  },
  {
   "cell_type": "code",
   "execution_count": 34,
   "metadata": {},
   "outputs": [
    {
     "name": "stdout",
     "output_type": "stream",
     "text": [
      "+---+------------+--------------+---------+-------+-------+-------+----+---------+---+-----+--------+--------+-----+--------+--------+---------------+\n",
      "|age|         job|marital_status|education|default|balance|housing|loan|  contact|day|month|duration|campaign|pdays|previous|poutcome|Approved_no_yes|\n",
      "+---+------------+--------------+---------+-------+-------+-------+----+---------+---+-----+--------+--------+-----+--------+--------+---------------+\n",
      "| 19|     student|        single|  primary|     no|  103.0|     no|  no| cellular| 10|  jul|   104.0|     2.0| -1.0|     0.0| unknown|            yes|\n",
      "| 19|     student|        single|secondary|     no|  302.0|     no|  no| cellular| 16|  jul|   205.0|     1.0| -1.0|     0.0| unknown|            yes|\n",
      "| 19|     student|        single|  unknown|     no| 1169.0|     no|  no| cellular|  6|  feb|   463.0|    18.0| -1.0|     0.0| unknown|             no|\n",
      "| 20|     student|        single|secondary|     no|  291.0|     no|  no|telephone| 11|  may|   172.0|     5.0|371.0|     5.0| failure|             no|\n",
      "| 20|     student|        single|secondary|     no|  502.0|     no|  no| cellular| 30|  apr|   261.0|     1.0| -1.0|     0.0| unknown|            yes|\n",
      "| 21|     student|        single|secondary|     no|  681.0|     no|  no|  unknown| 20|  aug|     6.0|     1.0| -1.0|     0.0| unknown|             no|\n",
      "| 21|     student|        single|secondary|     no| 2488.0|     no|  no| cellular| 30|  jun|   258.0|     6.0|169.0|     3.0| success|            yes|\n",
      "| 21|     student|        single|secondary|     no| 6844.0|     no|  no| cellular| 14|  aug|   126.0|     3.0|127.0|     7.0|   other|             no|\n",
      "| 22|      admin.|        single|secondary|     no| 4111.0|     no| yes| cellular| 19|  aug|    65.0|     1.0| -1.0|     0.0| unknown|             no|\n",
      "| 22|     student|        single|  primary|     no| 3472.0|     no|  no| cellular| 20|  oct|   332.0|     1.0|183.0|     3.0| failure|            yes|\n",
      "| 22|     student|        single| tertiary|     no| 1161.0|     no| yes| cellular| 16|  jun|   119.0|     1.0| -1.0|     0.0| unknown|             no|\n",
      "| 22|     student|        single|  unknown|     no|  549.0|     no|  no| cellular|  2|  sep|   154.0|     1.0| -1.0|     0.0| unknown|             no|\n",
      "| 22|  technician|        single|secondary|     no|  333.0|     no| yes|telephone| 12|  nov|   129.0|     1.0| -1.0|     0.0| unknown|             no|\n",
      "| 23|      admin.|        single|secondary|     no|    5.0|     no|  no|  unknown| 12|  may|   413.0|     1.0| -1.0|     0.0| unknown|             no|\n",
      "| 23|      admin.|        single|secondary|     no|  589.0|    yes|  no| cellular|  6|  may|    62.0|     1.0| -1.0|     0.0| unknown|             no|\n",
      "| 23| blue-collar|       married|  primary|     no| 1158.0|    yes|  no| cellular| 16|  apr|   743.0|     1.0| -1.0|     0.0| unknown|             no|\n",
      "| 23| blue-collar|        single|  primary|     no| 8627.0|    yes|  no| cellular| 15|  may|   169.0|     1.0|346.0|     1.0| failure|             no|\n",
      "| 23| blue-collar|        single|  primary|     no| 8627.0|    yes|  no|  unknown|  3|  jun|   281.0|     1.0| -1.0|     0.0| unknown|             no|\n",
      "| 23| blue-collar|        single|  unknown|     no|  817.0|    yes|  no| cellular| 18|  may|   123.0|     1.0| -1.0|     0.0| unknown|             no|\n",
      "| 23|entrepreneur|        single|  primary|     no|    4.0|    yes|  no|  unknown| 13|  may|   395.0|     2.0| -1.0|     0.0| unknown|            yes|\n",
      "+---+------------+--------------+---------+-------+-------+-------+----+---------+---+-----+--------+--------+-----+--------+--------+---------------+\n",
      "only showing top 20 rows\n",
      "\n"
     ]
    }
   ],
   "source": [
    "trainingData.show()"
   ]
  },
  {
   "cell_type": "markdown",
   "metadata": {},
   "source": [
    "#### Creating a list of categorical and numerical features"
   ]
  },
  {
   "cell_type": "code",
   "execution_count": 30,
   "metadata": {},
   "outputs": [],
   "source": [
    "cat_Var_Names = ['job', 'marital_status', 'education', 'default', 'housing', \n",
    "                 'day', 'contact', 'month', 'poutcome', 'Approved_no_yes']\n",
    "\n",
    "num_Var_Names = ['age', 'balance', 'duration', 'previous', 'pdays', 'campaign']"
   ]
  },
  {
   "cell_type": "code",
   "execution_count": 31,
   "metadata": {},
   "outputs": [],
   "source": [
    "def generate_layout_bar(col_name):\n",
    "    layout_bar = go.Layout(\n",
    "        autosize=False, # auto size the graph? use False if you are specifying the height and width\n",
    "        width=800, # height of the figure in pixels\n",
    "        height=600, # height of the figure in pixels\n",
    "        title = \"Distribution of {} column\".format(col_name), # title of the figure\n",
    "        # more granular control on the title font \n",
    "        titlefont=dict( \n",
    "            family='Courier New, monospace', # font family\n",
    "            size=14, # size of the font\n",
    "            color='black' # color of the font\n",
    "        ),\n",
    "        # granular control on the axes objects \n",
    "        xaxis=dict( \n",
    "        tickfont=dict(\n",
    "            family='Courier New, monospace', # font family\n",
    "            size=14, # size of ticks displayed on the x axis\n",
    "            color='black'  # color of the font\n",
    "            )\n",
    "        ),\n",
    "        yaxis=dict(\n",
    "#         range=[0,100],\n",
    "            title='Percentage',\n",
    "            titlefont=dict(\n",
    "                size=14,\n",
    "                color='black'\n",
    "            ),\n",
    "        tickfont=dict(\n",
    "            family='Courier New, monospace', # font family\n",
    "            size=14, # size of ticks displayed on the y axis\n",
    "            color='black' # color of the font\n",
    "            )\n",
    "        ),\n",
    "        font = dict(\n",
    "            family='Courier New, monospace', # font family\n",
    "            color = \"white\",# color of the font\n",
    "            size = 12 # size of the font displayed on the bar\n",
    "                )  \n",
    "        )\n",
    "    return layout_bar"
   ]
  },
  {
   "cell_type": "code",
   "execution_count": 27,
   "metadata": {},
   "outputs": [
    {
     "data": {
      "text/html": [
       "<script>requirejs.config({paths: { 'plotly': ['https://cdn.plot.ly/plotly-latest.min']},});if(!window.Plotly) {{require(['plotly'],function(plotly) {window.Plotly=plotly;});}}</script>"
      ],
      "text/vnd.plotly.v1+html": [
       "<script>requirejs.config({paths: { 'plotly': ['https://cdn.plot.ly/plotly-latest.min']},});if(!window.Plotly) {{require(['plotly'],function(plotly) {window.Plotly=plotly;});}}</script>"
      ]
     },
     "metadata": {},
     "output_type": "display_data"
    }
   ],
   "source": [
    "import plotly.offline as pyoff\n",
    "import plotly.graph_objs as go\n",
    "\n",
    "from plotly.offline import init_notebook_mode, plot, iplot\n",
    "init_notebook_mode(connected=True)"
   ]
  },
  {
   "cell_type": "code",
   "execution_count": 28,
   "metadata": {},
   "outputs": [],
   "source": [
    "import numpy as np\n",
    "from pyspark.sql import functions as F\n"
   ]
  },
  {
   "cell_type": "code",
   "execution_count": 29,
   "metadata": {},
   "outputs": [],
   "source": [
    "def plot_bar(dataframe, col_name):\n",
    "    # create a table with value counts\n",
    "    temp =  trainingData.groupBy(col_name).count()\n",
    "    temp = temp.toPandas()\n",
    "    temp = temp.sort_values('count',ascending = False)\n",
    "    temp[col_name] = temp[col_name].astype(str)\n",
    "#     temp = dataframe[col_name].value_counts()\n",
    "    # creating a Bar chart object of plotly\n",
    "    data = [go.Bar(\n",
    "            x=temp.loc[:,col_name].astype(str), # x axis values\n",
    "            y=np.round(temp.loc[:,'count'].astype(float)/temp.loc[:,'count'].sum(),6)*100, # y axis values\n",
    "            text = ['{}%'.format(i) for i in np.round(temp.loc[:,'count'].astype(float)/temp.loc[:,'count'].sum(),6)*100],\n",
    "        # text to be displayed on the bar, we are doing this to display the '%' symbol along with the number on the bar\n",
    "            textposition = 'auto', # specify at which position on the bar the text should appear\n",
    "        marker = dict(color = '#0047AB'),)] # change color of the bar\n",
    "    # color used here Cobalt Blue\n",
    "     \n",
    "    layout_bar = generate_layout_bar(col_name=col_name)\n",
    "\n",
    "    fig = go.Figure(data=data, layout=layout_bar)\n",
    "    return iplot(fig)\n",
    "    "
   ]
  },
  {
   "cell_type": "code",
   "execution_count": 30,
   "metadata": {
    "scrolled": false
   },
   "outputs": [
    {
     "data": {
      "application/vnd.plotly.v1+json": {
       "data": [
        {
         "marker": {
          "color": "#0047AB"
         },
         "text": [
          "21.3919%",
          "21.1353%",
          "16.8698%",
          "10.1988%",
          "8.9801%",
          "4.8108%",
          "4.3297%",
          "3.7845%",
          "3.0148%",
          "2.3733%",
          "2.0847%",
          "1.0263%"
         ],
         "textposition": "auto",
         "type": "bar",
         "x": [
          "management",
          "blue-collar",
          "technician",
          "admin.",
          "services",
          "retired",
          "self-employed",
          "entrepreneur",
          "unemployed",
          "housemaid",
          "student",
          "unknown"
         ],
         "y": [
          21.3919,
          21.1353,
          16.869799999999998,
          10.1988,
          8.9801,
          4.8107999999999995,
          4.3297,
          3.7844999999999995,
          3.0148,
          2.3733,
          2.0847,
          1.0263
         ]
        }
       ],
       "layout": {
        "autosize": false,
        "font": {
         "color": "white",
         "family": "Courier New, monospace",
         "size": 12
        },
        "height": 600,
        "title": "Distribution of job column",
        "titlefont": {
         "color": "black",
         "family": "Courier New, monospace",
         "size": 14
        },
        "width": 800,
        "xaxis": {
         "tickfont": {
          "color": "black",
          "family": "Courier New, monospace",
          "size": 14
         }
        },
        "yaxis": {
         "tickfont": {
          "color": "black",
          "family": "Courier New, monospace",
          "size": 14
         },
         "title": "Percentage",
         "titlefont": {
          "color": "black",
          "size": 14
         }
        }
       }
      },
      "text/html": [
       "<div id=\"392be9e5-19af-4729-ba6f-7afba151dd24\" style=\"height: 600px; width: 800px;\" class=\"plotly-graph-div\"></div><script type=\"text/javascript\">require([\"plotly\"], function(Plotly) { window.PLOTLYENV=window.PLOTLYENV || {};window.PLOTLYENV.BASE_URL=\"https://plot.ly\";Plotly.newPlot(\"392be9e5-19af-4729-ba6f-7afba151dd24\", [{\"textposition\": \"auto\", \"text\": [\"21.3919%\", \"21.1353%\", \"16.8698%\", \"10.1988%\", \"8.9801%\", \"4.8108%\", \"4.3297%\", \"3.7845%\", \"3.0148%\", \"2.3733%\", \"2.0847%\", \"1.0263%\"], \"marker\": {\"color\": \"#0047AB\"}, \"y\": [21.3919, 21.1353, 16.869799999999998, 10.1988, 8.9801, 4.8107999999999995, 4.3297, 3.7844999999999995, 3.0148, 2.3733, 2.0847, 1.0263], \"x\": [\"management\", \"blue-collar\", \"technician\", \"admin.\", \"services\", \"retired\", \"self-employed\", \"entrepreneur\", \"unemployed\", \"housemaid\", \"student\", \"unknown\"], \"type\": \"bar\"}], {\"autosize\": false, \"title\": \"Distribution of job column\", \"yaxis\": {\"tickfont\": {\"color\": \"black\", \"family\": \"Courier New, monospace\", \"size\": 14}, \"titlefont\": {\"color\": \"black\", \"size\": 14}, \"title\": \"Percentage\"}, \"height\": 600, \"width\": 800, \"titlefont\": {\"color\": \"black\", \"family\": \"Courier New, monospace\", \"size\": 14}, \"xaxis\": {\"tickfont\": {\"color\": \"black\", \"family\": \"Courier New, monospace\", \"size\": 14}}, \"font\": {\"color\": \"white\", \"family\": \"Courier New, monospace\", \"size\": 12}}, {\"linkText\": \"Export to plot.ly\", \"showLink\": true})});</script>"
      ],
      "text/vnd.plotly.v1+html": [
       "<div id=\"392be9e5-19af-4729-ba6f-7afba151dd24\" style=\"height: 600px; width: 800px;\" class=\"plotly-graph-div\"></div><script type=\"text/javascript\">require([\"plotly\"], function(Plotly) { window.PLOTLYENV=window.PLOTLYENV || {};window.PLOTLYENV.BASE_URL=\"https://plot.ly\";Plotly.newPlot(\"392be9e5-19af-4729-ba6f-7afba151dd24\", [{\"textposition\": \"auto\", \"text\": [\"21.3919%\", \"21.1353%\", \"16.8698%\", \"10.1988%\", \"8.9801%\", \"4.8108%\", \"4.3297%\", \"3.7845%\", \"3.0148%\", \"2.3733%\", \"2.0847%\", \"1.0263%\"], \"marker\": {\"color\": \"#0047AB\"}, \"y\": [21.3919, 21.1353, 16.869799999999998, 10.1988, 8.9801, 4.8107999999999995, 4.3297, 3.7844999999999995, 3.0148, 2.3733, 2.0847, 1.0263], \"x\": [\"management\", \"blue-collar\", \"technician\", \"admin.\", \"services\", \"retired\", \"self-employed\", \"entrepreneur\", \"unemployed\", \"housemaid\", \"student\", \"unknown\"], \"type\": \"bar\"}], {\"autosize\": false, \"title\": \"Distribution of job column\", \"yaxis\": {\"tickfont\": {\"color\": \"black\", \"family\": \"Courier New, monospace\", \"size\": 14}, \"titlefont\": {\"color\": \"black\", \"size\": 14}, \"title\": \"Percentage\"}, \"height\": 600, \"width\": 800, \"titlefont\": {\"color\": \"black\", \"family\": \"Courier New, monospace\", \"size\": 14}, \"xaxis\": {\"tickfont\": {\"color\": \"black\", \"family\": \"Courier New, monospace\", \"size\": 14}}, \"font\": {\"color\": \"white\", \"family\": \"Courier New, monospace\", \"size\": 12}}, {\"linkText\": \"Export to plot.ly\", \"showLink\": true})});</script>"
      ]
     },
     "metadata": {},
     "output_type": "display_data"
    },
    {
     "data": {
      "application/vnd.plotly.v1+json": {
       "data": [
        {
         "marker": {
          "color": "#0047AB"
         },
         "text": [
          "62.1873%",
          "26.5876%",
          "11.2251%"
         ],
         "textposition": "auto",
         "type": "bar",
         "x": [
          "married",
          "single",
          "divorced"
         ],
         "y": [
          62.1873,
          26.587600000000002,
          11.225100000000001
         ]
        }
       ],
       "layout": {
        "autosize": false,
        "font": {
         "color": "white",
         "family": "Courier New, monospace",
         "size": 12
        },
        "height": 600,
        "title": "Distribution of marital_status column",
        "titlefont": {
         "color": "black",
         "family": "Courier New, monospace",
         "size": 14
        },
        "width": 800,
        "xaxis": {
         "tickfont": {
          "color": "black",
          "family": "Courier New, monospace",
          "size": 14
         }
        },
        "yaxis": {
         "tickfont": {
          "color": "black",
          "family": "Courier New, monospace",
          "size": 14
         },
         "title": "Percentage",
         "titlefont": {
          "color": "black",
          "size": 14
         }
        }
       }
      },
      "text/html": [
       "<div id=\"812ea9b8-6f7a-4e05-8599-f84820f8c981\" style=\"height: 600px; width: 800px;\" class=\"plotly-graph-div\"></div><script type=\"text/javascript\">require([\"plotly\"], function(Plotly) { window.PLOTLYENV=window.PLOTLYENV || {};window.PLOTLYENV.BASE_URL=\"https://plot.ly\";Plotly.newPlot(\"812ea9b8-6f7a-4e05-8599-f84820f8c981\", [{\"textposition\": \"auto\", \"text\": [\"62.1873%\", \"26.5876%\", \"11.2251%\"], \"marker\": {\"color\": \"#0047AB\"}, \"y\": [62.1873, 26.587600000000002, 11.225100000000001], \"x\": [\"married\", \"single\", \"divorced\"], \"type\": \"bar\"}], {\"autosize\": false, \"title\": \"Distribution of marital_status column\", \"yaxis\": {\"tickfont\": {\"color\": \"black\", \"family\": \"Courier New, monospace\", \"size\": 14}, \"titlefont\": {\"color\": \"black\", \"size\": 14}, \"title\": \"Percentage\"}, \"height\": 600, \"width\": 800, \"titlefont\": {\"color\": \"black\", \"family\": \"Courier New, monospace\", \"size\": 14}, \"xaxis\": {\"tickfont\": {\"color\": \"black\", \"family\": \"Courier New, monospace\", \"size\": 14}}, \"font\": {\"color\": \"white\", \"family\": \"Courier New, monospace\", \"size\": 12}}, {\"linkText\": \"Export to plot.ly\", \"showLink\": true})});</script>"
      ],
      "text/vnd.plotly.v1+html": [
       "<div id=\"812ea9b8-6f7a-4e05-8599-f84820f8c981\" style=\"height: 600px; width: 800px;\" class=\"plotly-graph-div\"></div><script type=\"text/javascript\">require([\"plotly\"], function(Plotly) { window.PLOTLYENV=window.PLOTLYENV || {};window.PLOTLYENV.BASE_URL=\"https://plot.ly\";Plotly.newPlot(\"812ea9b8-6f7a-4e05-8599-f84820f8c981\", [{\"textposition\": \"auto\", \"text\": [\"62.1873%\", \"26.5876%\", \"11.2251%\"], \"marker\": {\"color\": \"#0047AB\"}, \"y\": [62.1873, 26.587600000000002, 11.225100000000001], \"x\": [\"married\", \"single\", \"divorced\"], \"type\": \"bar\"}], {\"autosize\": false, \"title\": \"Distribution of marital_status column\", \"yaxis\": {\"tickfont\": {\"color\": \"black\", \"family\": \"Courier New, monospace\", \"size\": 14}, \"titlefont\": {\"color\": \"black\", \"size\": 14}, \"title\": \"Percentage\"}, \"height\": 600, \"width\": 800, \"titlefont\": {\"color\": \"black\", \"family\": \"Courier New, monospace\", \"size\": 14}, \"xaxis\": {\"tickfont\": {\"color\": \"black\", \"family\": \"Courier New, monospace\", \"size\": 14}}, \"font\": {\"color\": \"white\", \"family\": \"Courier New, monospace\", \"size\": 12}}, {\"linkText\": \"Export to plot.ly\", \"showLink\": true})});</script>"
      ]
     },
     "metadata": {},
     "output_type": "display_data"
    },
    {
     "data": {
      "application/vnd.plotly.v1+json": {
       "data": [
        {
         "marker": {
          "color": "#0047AB"
         },
         "text": [
          "50.7056%",
          "29.9872%",
          "15.2021%",
          "4.1052%"
         ],
         "textposition": "auto",
         "type": "bar",
         "x": [
          "secondary",
          "tertiary",
          "primary",
          "unknown"
         ],
         "y": [
          50.7056,
          29.9872,
          15.2021,
          4.1052
         ]
        }
       ],
       "layout": {
        "autosize": false,
        "font": {
         "color": "white",
         "family": "Courier New, monospace",
         "size": 12
        },
        "height": 600,
        "title": "Distribution of education column",
        "titlefont": {
         "color": "black",
         "family": "Courier New, monospace",
         "size": 14
        },
        "width": 800,
        "xaxis": {
         "tickfont": {
          "color": "black",
          "family": "Courier New, monospace",
          "size": 14
         }
        },
        "yaxis": {
         "tickfont": {
          "color": "black",
          "family": "Courier New, monospace",
          "size": 14
         },
         "title": "Percentage",
         "titlefont": {
          "color": "black",
          "size": 14
         }
        }
       }
      },
      "text/html": [
       "<div id=\"3fac5363-a3a2-4a4e-89c1-842d6a22a125\" style=\"height: 600px; width: 800px;\" class=\"plotly-graph-div\"></div><script type=\"text/javascript\">require([\"plotly\"], function(Plotly) { window.PLOTLYENV=window.PLOTLYENV || {};window.PLOTLYENV.BASE_URL=\"https://plot.ly\";Plotly.newPlot(\"3fac5363-a3a2-4a4e-89c1-842d6a22a125\", [{\"textposition\": \"auto\", \"text\": [\"50.7056%\", \"29.9872%\", \"15.2021%\", \"4.1052%\"], \"marker\": {\"color\": \"#0047AB\"}, \"y\": [50.7056, 29.9872, 15.2021, 4.1052], \"x\": [\"secondary\", \"tertiary\", \"primary\", \"unknown\"], \"type\": \"bar\"}], {\"autosize\": false, \"title\": \"Distribution of education column\", \"yaxis\": {\"tickfont\": {\"color\": \"black\", \"family\": \"Courier New, monospace\", \"size\": 14}, \"titlefont\": {\"color\": \"black\", \"size\": 14}, \"title\": \"Percentage\"}, \"height\": 600, \"width\": 800, \"titlefont\": {\"color\": \"black\", \"family\": \"Courier New, monospace\", \"size\": 14}, \"xaxis\": {\"tickfont\": {\"color\": \"black\", \"family\": \"Courier New, monospace\", \"size\": 14}}, \"font\": {\"color\": \"white\", \"family\": \"Courier New, monospace\", \"size\": 12}}, {\"linkText\": \"Export to plot.ly\", \"showLink\": true})});</script>"
      ],
      "text/vnd.plotly.v1+html": [
       "<div id=\"3fac5363-a3a2-4a4e-89c1-842d6a22a125\" style=\"height: 600px; width: 800px;\" class=\"plotly-graph-div\"></div><script type=\"text/javascript\">require([\"plotly\"], function(Plotly) { window.PLOTLYENV=window.PLOTLYENV || {};window.PLOTLYENV.BASE_URL=\"https://plot.ly\";Plotly.newPlot(\"3fac5363-a3a2-4a4e-89c1-842d6a22a125\", [{\"textposition\": \"auto\", \"text\": [\"50.7056%\", \"29.9872%\", \"15.2021%\", \"4.1052%\"], \"marker\": {\"color\": \"#0047AB\"}, \"y\": [50.7056, 29.9872, 15.2021, 4.1052], \"x\": [\"secondary\", \"tertiary\", \"primary\", \"unknown\"], \"type\": \"bar\"}], {\"autosize\": false, \"title\": \"Distribution of education column\", \"yaxis\": {\"tickfont\": {\"color\": \"black\", \"family\": \"Courier New, monospace\", \"size\": 14}, \"titlefont\": {\"color\": \"black\", \"size\": 14}, \"title\": \"Percentage\"}, \"height\": 600, \"width\": 800, \"titlefont\": {\"color\": \"black\", \"family\": \"Courier New, monospace\", \"size\": 14}, \"xaxis\": {\"tickfont\": {\"color\": \"black\", \"family\": \"Courier New, monospace\", \"size\": 14}}, \"font\": {\"color\": \"white\", \"family\": \"Courier New, monospace\", \"size\": 12}}, {\"linkText\": \"Export to plot.ly\", \"showLink\": true})});</script>"
      ]
     },
     "metadata": {},
     "output_type": "display_data"
    },
    {
     "data": {
      "application/vnd.plotly.v1+json": {
       "data": [
        {
         "marker": {
          "color": "#0047AB"
         },
         "text": [
          "98.2681%",
          "1.7319%"
         ],
         "textposition": "auto",
         "type": "bar",
         "x": [
          "no",
          "yes"
         ],
         "y": [
          98.2681,
          1.7319
         ]
        }
       ],
       "layout": {
        "autosize": false,
        "font": {
         "color": "white",
         "family": "Courier New, monospace",
         "size": 12
        },
        "height": 600,
        "title": "Distribution of default column",
        "titlefont": {
         "color": "black",
         "family": "Courier New, monospace",
         "size": 14
        },
        "width": 800,
        "xaxis": {
         "tickfont": {
          "color": "black",
          "family": "Courier New, monospace",
          "size": 14
         }
        },
        "yaxis": {
         "tickfont": {
          "color": "black",
          "family": "Courier New, monospace",
          "size": 14
         },
         "title": "Percentage",
         "titlefont": {
          "color": "black",
          "size": 14
         }
        }
       }
      },
      "text/html": [
       "<div id=\"8c0ab6c0-2bd7-40ac-8b0d-bc56c8635d87\" style=\"height: 600px; width: 800px;\" class=\"plotly-graph-div\"></div><script type=\"text/javascript\">require([\"plotly\"], function(Plotly) { window.PLOTLYENV=window.PLOTLYENV || {};window.PLOTLYENV.BASE_URL=\"https://plot.ly\";Plotly.newPlot(\"8c0ab6c0-2bd7-40ac-8b0d-bc56c8635d87\", [{\"textposition\": \"auto\", \"text\": [\"98.2681%\", \"1.7319%\"], \"marker\": {\"color\": \"#0047AB\"}, \"y\": [98.2681, 1.7319], \"x\": [\"no\", \"yes\"], \"type\": \"bar\"}], {\"autosize\": false, \"title\": \"Distribution of default column\", \"yaxis\": {\"tickfont\": {\"color\": \"black\", \"family\": \"Courier New, monospace\", \"size\": 14}, \"titlefont\": {\"color\": \"black\", \"size\": 14}, \"title\": \"Percentage\"}, \"height\": 600, \"width\": 800, \"titlefont\": {\"color\": \"black\", \"family\": \"Courier New, monospace\", \"size\": 14}, \"xaxis\": {\"tickfont\": {\"color\": \"black\", \"family\": \"Courier New, monospace\", \"size\": 14}}, \"font\": {\"color\": \"white\", \"family\": \"Courier New, monospace\", \"size\": 12}}, {\"linkText\": \"Export to plot.ly\", \"showLink\": true})});</script>"
      ],
      "text/vnd.plotly.v1+html": [
       "<div id=\"8c0ab6c0-2bd7-40ac-8b0d-bc56c8635d87\" style=\"height: 600px; width: 800px;\" class=\"plotly-graph-div\"></div><script type=\"text/javascript\">require([\"plotly\"], function(Plotly) { window.PLOTLYENV=window.PLOTLYENV || {};window.PLOTLYENV.BASE_URL=\"https://plot.ly\";Plotly.newPlot(\"8c0ab6c0-2bd7-40ac-8b0d-bc56c8635d87\", [{\"textposition\": \"auto\", \"text\": [\"98.2681%\", \"1.7319%\"], \"marker\": {\"color\": \"#0047AB\"}, \"y\": [98.2681, 1.7319], \"x\": [\"no\", \"yes\"], \"type\": \"bar\"}], {\"autosize\": false, \"title\": \"Distribution of default column\", \"yaxis\": {\"tickfont\": {\"color\": \"black\", \"family\": \"Courier New, monospace\", \"size\": 14}, \"titlefont\": {\"color\": \"black\", \"size\": 14}, \"title\": \"Percentage\"}, \"height\": 600, \"width\": 800, \"titlefont\": {\"color\": \"black\", \"family\": \"Courier New, monospace\", \"size\": 14}, \"xaxis\": {\"tickfont\": {\"color\": \"black\", \"family\": \"Courier New, monospace\", \"size\": 14}}, \"font\": {\"color\": \"white\", \"family\": \"Courier New, monospace\", \"size\": 12}}, {\"linkText\": \"Export to plot.ly\", \"showLink\": true})});</script>"
      ]
     },
     "metadata": {},
     "output_type": "display_data"
    },
    {
     "data": {
      "application/vnd.plotly.v1+json": {
       "data": [
        {
         "marker": {
          "color": "#0047AB"
         },
         "text": [
          "55.8371%",
          "44.1629%"
         ],
         "textposition": "auto",
         "type": "bar",
         "x": [
          "yes",
          "no"
         ],
         "y": [
          55.83709999999999,
          44.1629
         ]
        }
       ],
       "layout": {
        "autosize": false,
        "font": {
         "color": "white",
         "family": "Courier New, monospace",
         "size": 12
        },
        "height": 600,
        "title": "Distribution of housing column",
        "titlefont": {
         "color": "black",
         "family": "Courier New, monospace",
         "size": 14
        },
        "width": 800,
        "xaxis": {
         "tickfont": {
          "color": "black",
          "family": "Courier New, monospace",
          "size": 14
         }
        },
        "yaxis": {
         "tickfont": {
          "color": "black",
          "family": "Courier New, monospace",
          "size": 14
         },
         "title": "Percentage",
         "titlefont": {
          "color": "black",
          "size": 14
         }
        }
       }
      },
      "text/html": [
       "<div id=\"4feae860-d84f-4e82-9852-e154ef366fe3\" style=\"height: 600px; width: 800px;\" class=\"plotly-graph-div\"></div><script type=\"text/javascript\">require([\"plotly\"], function(Plotly) { window.PLOTLYENV=window.PLOTLYENV || {};window.PLOTLYENV.BASE_URL=\"https://plot.ly\";Plotly.newPlot(\"4feae860-d84f-4e82-9852-e154ef366fe3\", [{\"textposition\": \"auto\", \"text\": [\"55.8371%\", \"44.1629%\"], \"marker\": {\"color\": \"#0047AB\"}, \"y\": [55.83709999999999, 44.1629], \"x\": [\"yes\", \"no\"], \"type\": \"bar\"}], {\"autosize\": false, \"title\": \"Distribution of housing column\", \"yaxis\": {\"tickfont\": {\"color\": \"black\", \"family\": \"Courier New, monospace\", \"size\": 14}, \"titlefont\": {\"color\": \"black\", \"size\": 14}, \"title\": \"Percentage\"}, \"height\": 600, \"width\": 800, \"titlefont\": {\"color\": \"black\", \"family\": \"Courier New, monospace\", \"size\": 14}, \"xaxis\": {\"tickfont\": {\"color\": \"black\", \"family\": \"Courier New, monospace\", \"size\": 14}}, \"font\": {\"color\": \"white\", \"family\": \"Courier New, monospace\", \"size\": 12}}, {\"linkText\": \"Export to plot.ly\", \"showLink\": true})});</script>"
      ],
      "text/vnd.plotly.v1+html": [
       "<div id=\"4feae860-d84f-4e82-9852-e154ef366fe3\" style=\"height: 600px; width: 800px;\" class=\"plotly-graph-div\"></div><script type=\"text/javascript\">require([\"plotly\"], function(Plotly) { window.PLOTLYENV=window.PLOTLYENV || {};window.PLOTLYENV.BASE_URL=\"https://plot.ly\";Plotly.newPlot(\"4feae860-d84f-4e82-9852-e154ef366fe3\", [{\"textposition\": \"auto\", \"text\": [\"55.8371%\", \"44.1629%\"], \"marker\": {\"color\": \"#0047AB\"}, \"y\": [55.83709999999999, 44.1629], \"x\": [\"yes\", \"no\"], \"type\": \"bar\"}], {\"autosize\": false, \"title\": \"Distribution of housing column\", \"yaxis\": {\"tickfont\": {\"color\": \"black\", \"family\": \"Courier New, monospace\", \"size\": 14}, \"titlefont\": {\"color\": \"black\", \"size\": 14}, \"title\": \"Percentage\"}, \"height\": 600, \"width\": 800, \"titlefont\": {\"color\": \"black\", \"family\": \"Courier New, monospace\", \"size\": 14}, \"xaxis\": {\"tickfont\": {\"color\": \"black\", \"family\": \"Courier New, monospace\", \"size\": 14}}, \"font\": {\"color\": \"white\", \"family\": \"Courier New, monospace\", \"size\": 12}}, {\"linkText\": \"Export to plot.ly\", \"showLink\": true})});</script>"
      ]
     },
     "metadata": {},
     "output_type": "display_data"
    },
    {
     "data": {
      "application/vnd.plotly.v1+json": {
       "data": [
        {
         "marker": {
          "color": "#0047AB"
         },
         "text": [
          "5.8691%",
          "5.1636%",
          "4.6183%",
          "4.458%",
          "4.4259%",
          "4.2335%",
          "4.1373%",
          "4.1052%",
          "4.1052%",
          "4.0731%",
          "4.009%",
          "3.8807%",
          "3.8486%",
          "3.7203%",
          "3.6241%",
          "3.3996%",
          "3.3355%",
          "3.143%",
          "3.0468%",
          "3.0468%",
          "2.5978%",
          "2.5337%",
          "2.4375%",
          "2.3092%",
          "2.213%",
          "1.9885%",
          "1.8281%",
          "1.1867%",
          "1.1867%",
          "0.8339%",
          "0.6414%"
         ],
         "textposition": "auto",
         "type": "bar",
         "x": [
          "20",
          "18",
          "14",
          "19",
          "28",
          "7",
          "6",
          "21",
          "15",
          "17",
          "29",
          "5",
          "8",
          "30",
          "16",
          "11",
          "9",
          "13",
          "12",
          "4",
          "27",
          "2",
          "3",
          "26",
          "23",
          "25",
          "22",
          "10",
          "31",
          "24",
          "1"
         ],
         "y": [
          5.8691,
          5.1636,
          4.6183000000000005,
          4.458,
          4.4259,
          4.233499999999999,
          4.1373,
          4.1052,
          4.1052,
          4.0731,
          4.009,
          3.8807,
          3.8486,
          3.7203,
          3.6241000000000003,
          3.3996,
          3.3355,
          3.143,
          3.0467999999999997,
          3.0467999999999997,
          2.5978000000000003,
          2.5336999999999996,
          2.4375,
          2.3092,
          2.213,
          1.9885,
          1.8280999999999998,
          1.1867,
          1.1867,
          0.8338999999999999,
          0.6414000000000001
         ]
        }
       ],
       "layout": {
        "autosize": false,
        "font": {
         "color": "white",
         "family": "Courier New, monospace",
         "size": 12
        },
        "height": 600,
        "title": "Distribution of day column",
        "titlefont": {
         "color": "black",
         "family": "Courier New, monospace",
         "size": 14
        },
        "width": 800,
        "xaxis": {
         "tickfont": {
          "color": "black",
          "family": "Courier New, monospace",
          "size": 14
         }
        },
        "yaxis": {
         "tickfont": {
          "color": "black",
          "family": "Courier New, monospace",
          "size": 14
         },
         "title": "Percentage",
         "titlefont": {
          "color": "black",
          "size": 14
         }
        }
       }
      },
      "text/html": [
       "<div id=\"404313df-cc45-4d8e-9926-d6ed672efe03\" style=\"height: 600px; width: 800px;\" class=\"plotly-graph-div\"></div><script type=\"text/javascript\">require([\"plotly\"], function(Plotly) { window.PLOTLYENV=window.PLOTLYENV || {};window.PLOTLYENV.BASE_URL=\"https://plot.ly\";Plotly.newPlot(\"404313df-cc45-4d8e-9926-d6ed672efe03\", [{\"textposition\": \"auto\", \"text\": [\"5.8691%\", \"5.1636%\", \"4.6183%\", \"4.458%\", \"4.4259%\", \"4.2335%\", \"4.1373%\", \"4.1052%\", \"4.1052%\", \"4.0731%\", \"4.009%\", \"3.8807%\", \"3.8486%\", \"3.7203%\", \"3.6241%\", \"3.3996%\", \"3.3355%\", \"3.143%\", \"3.0468%\", \"3.0468%\", \"2.5978%\", \"2.5337%\", \"2.4375%\", \"2.3092%\", \"2.213%\", \"1.9885%\", \"1.8281%\", \"1.1867%\", \"1.1867%\", \"0.8339%\", \"0.6414%\"], \"marker\": {\"color\": \"#0047AB\"}, \"y\": [5.8691, 5.1636, 4.6183000000000005, 4.458, 4.4259, 4.233499999999999, 4.1373, 4.1052, 4.1052, 4.0731, 4.009, 3.8807, 3.8486, 3.7203, 3.6241000000000003, 3.3996, 3.3355, 3.143, 3.0467999999999997, 3.0467999999999997, 2.5978000000000003, 2.5336999999999996, 2.4375, 2.3092, 2.213, 1.9885, 1.8280999999999998, 1.1867, 1.1867, 0.8338999999999999, 0.6414000000000001], \"x\": [\"20\", \"18\", \"14\", \"19\", \"28\", \"7\", \"6\", \"21\", \"15\", \"17\", \"29\", \"5\", \"8\", \"30\", \"16\", \"11\", \"9\", \"13\", \"12\", \"4\", \"27\", \"2\", \"3\", \"26\", \"23\", \"25\", \"22\", \"10\", \"31\", \"24\", \"1\"], \"type\": \"bar\"}], {\"autosize\": false, \"title\": \"Distribution of day column\", \"yaxis\": {\"tickfont\": {\"color\": \"black\", \"family\": \"Courier New, monospace\", \"size\": 14}, \"titlefont\": {\"color\": \"black\", \"size\": 14}, \"title\": \"Percentage\"}, \"height\": 600, \"width\": 800, \"titlefont\": {\"color\": \"black\", \"family\": \"Courier New, monospace\", \"size\": 14}, \"xaxis\": {\"tickfont\": {\"color\": \"black\", \"family\": \"Courier New, monospace\", \"size\": 14}}, \"font\": {\"color\": \"white\", \"family\": \"Courier New, monospace\", \"size\": 12}}, {\"linkText\": \"Export to plot.ly\", \"showLink\": true})});</script>"
      ],
      "text/vnd.plotly.v1+html": [
       "<div id=\"404313df-cc45-4d8e-9926-d6ed672efe03\" style=\"height: 600px; width: 800px;\" class=\"plotly-graph-div\"></div><script type=\"text/javascript\">require([\"plotly\"], function(Plotly) { window.PLOTLYENV=window.PLOTLYENV || {};window.PLOTLYENV.BASE_URL=\"https://plot.ly\";Plotly.newPlot(\"404313df-cc45-4d8e-9926-d6ed672efe03\", [{\"textposition\": \"auto\", \"text\": [\"5.8691%\", \"5.1636%\", \"4.6183%\", \"4.458%\", \"4.4259%\", \"4.2335%\", \"4.1373%\", \"4.1052%\", \"4.1052%\", \"4.0731%\", \"4.009%\", \"3.8807%\", \"3.8486%\", \"3.7203%\", \"3.6241%\", \"3.3996%\", \"3.3355%\", \"3.143%\", \"3.0468%\", \"3.0468%\", \"2.5978%\", \"2.5337%\", \"2.4375%\", \"2.3092%\", \"2.213%\", \"1.9885%\", \"1.8281%\", \"1.1867%\", \"1.1867%\", \"0.8339%\", \"0.6414%\"], \"marker\": {\"color\": \"#0047AB\"}, \"y\": [5.8691, 5.1636, 4.6183000000000005, 4.458, 4.4259, 4.233499999999999, 4.1373, 4.1052, 4.1052, 4.0731, 4.009, 3.8807, 3.8486, 3.7203, 3.6241000000000003, 3.3996, 3.3355, 3.143, 3.0467999999999997, 3.0467999999999997, 2.5978000000000003, 2.5336999999999996, 2.4375, 2.3092, 2.213, 1.9885, 1.8280999999999998, 1.1867, 1.1867, 0.8338999999999999, 0.6414000000000001], \"x\": [\"20\", \"18\", \"14\", \"19\", \"28\", \"7\", \"6\", \"21\", \"15\", \"17\", \"29\", \"5\", \"8\", \"30\", \"16\", \"11\", \"9\", \"13\", \"12\", \"4\", \"27\", \"2\", \"3\", \"26\", \"23\", \"25\", \"22\", \"10\", \"31\", \"24\", \"1\"], \"type\": \"bar\"}], {\"autosize\": false, \"title\": \"Distribution of day column\", \"yaxis\": {\"tickfont\": {\"color\": \"black\", \"family\": \"Courier New, monospace\", \"size\": 14}, \"titlefont\": {\"color\": \"black\", \"size\": 14}, \"title\": \"Percentage\"}, \"height\": 600, \"width\": 800, \"titlefont\": {\"color\": \"black\", \"family\": \"Courier New, monospace\", \"size\": 14}, \"xaxis\": {\"tickfont\": {\"color\": \"black\", \"family\": \"Courier New, monospace\", \"size\": 14}}, \"font\": {\"color\": \"white\", \"family\": \"Courier New, monospace\", \"size\": 12}}, {\"linkText\": \"Export to plot.ly\", \"showLink\": true})});</script>"
      ]
     },
     "metadata": {},
     "output_type": "display_data"
    },
    {
     "data": {
      "application/vnd.plotly.v1+json": {
       "data": [
        {
         "marker": {
          "color": "#0047AB"
         },
         "text": [
          "64.1437%",
          "29.0571%",
          "6.7992%"
         ],
         "textposition": "auto",
         "type": "bar",
         "x": [
          "cellular",
          "unknown",
          "telephone"
         ],
         "y": [
          64.14370000000001,
          29.057100000000002,
          6.7992
         ]
        }
       ],
       "layout": {
        "autosize": false,
        "font": {
         "color": "white",
         "family": "Courier New, monospace",
         "size": 12
        },
        "height": 600,
        "title": "Distribution of contact column",
        "titlefont": {
         "color": "black",
         "family": "Courier New, monospace",
         "size": 14
        },
        "width": 800,
        "xaxis": {
         "tickfont": {
          "color": "black",
          "family": "Courier New, monospace",
          "size": 14
         }
        },
        "yaxis": {
         "tickfont": {
          "color": "black",
          "family": "Courier New, monospace",
          "size": 14
         },
         "title": "Percentage",
         "titlefont": {
          "color": "black",
          "size": 14
         }
        }
       }
      },
      "text/html": [
       "<div id=\"c6a9ec5a-4dd5-4c16-a90b-918ed994ada0\" style=\"height: 600px; width: 800px;\" class=\"plotly-graph-div\"></div><script type=\"text/javascript\">require([\"plotly\"], function(Plotly) { window.PLOTLYENV=window.PLOTLYENV || {};window.PLOTLYENV.BASE_URL=\"https://plot.ly\";Plotly.newPlot(\"c6a9ec5a-4dd5-4c16-a90b-918ed994ada0\", [{\"textposition\": \"auto\", \"text\": [\"64.1437%\", \"29.0571%\", \"6.7992%\"], \"marker\": {\"color\": \"#0047AB\"}, \"y\": [64.14370000000001, 29.057100000000002, 6.7992], \"x\": [\"cellular\", \"unknown\", \"telephone\"], \"type\": \"bar\"}], {\"autosize\": false, \"title\": \"Distribution of contact column\", \"yaxis\": {\"tickfont\": {\"color\": \"black\", \"family\": \"Courier New, monospace\", \"size\": 14}, \"titlefont\": {\"color\": \"black\", \"size\": 14}, \"title\": \"Percentage\"}, \"height\": 600, \"width\": 800, \"titlefont\": {\"color\": \"black\", \"family\": \"Courier New, monospace\", \"size\": 14}, \"xaxis\": {\"tickfont\": {\"color\": \"black\", \"family\": \"Courier New, monospace\", \"size\": 14}}, \"font\": {\"color\": \"white\", \"family\": \"Courier New, monospace\", \"size\": 12}}, {\"linkText\": \"Export to plot.ly\", \"showLink\": true})});</script>"
      ],
      "text/vnd.plotly.v1+html": [
       "<div id=\"c6a9ec5a-4dd5-4c16-a90b-918ed994ada0\" style=\"height: 600px; width: 800px;\" class=\"plotly-graph-div\"></div><script type=\"text/javascript\">require([\"plotly\"], function(Plotly) { window.PLOTLYENV=window.PLOTLYENV || {};window.PLOTLYENV.BASE_URL=\"https://plot.ly\";Plotly.newPlot(\"c6a9ec5a-4dd5-4c16-a90b-918ed994ada0\", [{\"textposition\": \"auto\", \"text\": [\"64.1437%\", \"29.0571%\", \"6.7992%\"], \"marker\": {\"color\": \"#0047AB\"}, \"y\": [64.14370000000001, 29.057100000000002, 6.7992], \"x\": [\"cellular\", \"unknown\", \"telephone\"], \"type\": \"bar\"}], {\"autosize\": false, \"title\": \"Distribution of contact column\", \"yaxis\": {\"tickfont\": {\"color\": \"black\", \"family\": \"Courier New, monospace\", \"size\": 14}, \"titlefont\": {\"color\": \"black\", \"size\": 14}, \"title\": \"Percentage\"}, \"height\": 600, \"width\": 800, \"titlefont\": {\"color\": \"black\", \"family\": \"Courier New, monospace\", \"size\": 14}, \"xaxis\": {\"tickfont\": {\"color\": \"black\", \"family\": \"Courier New, monospace\", \"size\": 14}}, \"font\": {\"color\": \"white\", \"family\": \"Courier New, monospace\", \"size\": 12}}, {\"linkText\": \"Export to plot.ly\", \"showLink\": true})});</script>"
      ]
     },
     "metadata": {},
     "output_type": "display_data"
    },
    {
     "data": {
      "application/vnd.plotly.v1+json": {
       "data": [
        {
         "marker": {
          "color": "#0047AB"
         },
         "text": [
          "30.0834%",
          "15.7152%",
          "14.1758%",
          "11.8666%",
          "8.8518%",
          "6.3502%",
          "5.1315%",
          "3.592%",
          "1.6036%",
          "1.2187%",
          "1.0263%",
          "0.3849%"
         ],
         "textposition": "auto",
         "type": "bar",
         "x": [
          "may",
          "jul",
          "aug",
          "jun",
          "nov",
          "apr",
          "feb",
          "jan",
          "oct",
          "sep",
          "mar",
          "dec"
         ],
         "y": [
          30.083399999999997,
          15.7152,
          14.175799999999999,
          11.8666,
          8.8518,
          6.3502,
          5.1315,
          3.592,
          1.6036000000000001,
          1.2187,
          1.0263,
          0.3849
         ]
        }
       ],
       "layout": {
        "autosize": false,
        "font": {
         "color": "white",
         "family": "Courier New, monospace",
         "size": 12
        },
        "height": 600,
        "title": "Distribution of month column",
        "titlefont": {
         "color": "black",
         "family": "Courier New, monospace",
         "size": 14
        },
        "width": 800,
        "xaxis": {
         "tickfont": {
          "color": "black",
          "family": "Courier New, monospace",
          "size": 14
         }
        },
        "yaxis": {
         "tickfont": {
          "color": "black",
          "family": "Courier New, monospace",
          "size": 14
         },
         "title": "Percentage",
         "titlefont": {
          "color": "black",
          "size": 14
         }
        }
       }
      },
      "text/html": [
       "<div id=\"93478927-538b-43a1-b5e0-d17cb0c016af\" style=\"height: 600px; width: 800px;\" class=\"plotly-graph-div\"></div><script type=\"text/javascript\">require([\"plotly\"], function(Plotly) { window.PLOTLYENV=window.PLOTLYENV || {};window.PLOTLYENV.BASE_URL=\"https://plot.ly\";Plotly.newPlot(\"93478927-538b-43a1-b5e0-d17cb0c016af\", [{\"textposition\": \"auto\", \"text\": [\"30.0834%\", \"15.7152%\", \"14.1758%\", \"11.8666%\", \"8.8518%\", \"6.3502%\", \"5.1315%\", \"3.592%\", \"1.6036%\", \"1.2187%\", \"1.0263%\", \"0.3849%\"], \"marker\": {\"color\": \"#0047AB\"}, \"y\": [30.083399999999997, 15.7152, 14.175799999999999, 11.8666, 8.8518, 6.3502, 5.1315, 3.592, 1.6036000000000001, 1.2187, 1.0263, 0.3849], \"x\": [\"may\", \"jul\", \"aug\", \"jun\", \"nov\", \"apr\", \"feb\", \"jan\", \"oct\", \"sep\", \"mar\", \"dec\"], \"type\": \"bar\"}], {\"autosize\": false, \"title\": \"Distribution of month column\", \"yaxis\": {\"tickfont\": {\"color\": \"black\", \"family\": \"Courier New, monospace\", \"size\": 14}, \"titlefont\": {\"color\": \"black\", \"size\": 14}, \"title\": \"Percentage\"}, \"height\": 600, \"width\": 800, \"titlefont\": {\"color\": \"black\", \"family\": \"Courier New, monospace\", \"size\": 14}, \"xaxis\": {\"tickfont\": {\"color\": \"black\", \"family\": \"Courier New, monospace\", \"size\": 14}}, \"font\": {\"color\": \"white\", \"family\": \"Courier New, monospace\", \"size\": 12}}, {\"linkText\": \"Export to plot.ly\", \"showLink\": true})});</script>"
      ],
      "text/vnd.plotly.v1+html": [
       "<div id=\"93478927-538b-43a1-b5e0-d17cb0c016af\" style=\"height: 600px; width: 800px;\" class=\"plotly-graph-div\"></div><script type=\"text/javascript\">require([\"plotly\"], function(Plotly) { window.PLOTLYENV=window.PLOTLYENV || {};window.PLOTLYENV.BASE_URL=\"https://plot.ly\";Plotly.newPlot(\"93478927-538b-43a1-b5e0-d17cb0c016af\", [{\"textposition\": \"auto\", \"text\": [\"30.0834%\", \"15.7152%\", \"14.1758%\", \"11.8666%\", \"8.8518%\", \"6.3502%\", \"5.1315%\", \"3.592%\", \"1.6036%\", \"1.2187%\", \"1.0263%\", \"0.3849%\"], \"marker\": {\"color\": \"#0047AB\"}, \"y\": [30.083399999999997, 15.7152, 14.175799999999999, 11.8666, 8.8518, 6.3502, 5.1315, 3.592, 1.6036000000000001, 1.2187, 1.0263, 0.3849], \"x\": [\"may\", \"jul\", \"aug\", \"jun\", \"nov\", \"apr\", \"feb\", \"jan\", \"oct\", \"sep\", \"mar\", \"dec\"], \"type\": \"bar\"}], {\"autosize\": false, \"title\": \"Distribution of month column\", \"yaxis\": {\"tickfont\": {\"color\": \"black\", \"family\": \"Courier New, monospace\", \"size\": 14}, \"titlefont\": {\"color\": \"black\", \"size\": 14}, \"title\": \"Percentage\"}, \"height\": 600, \"width\": 800, \"titlefont\": {\"color\": \"black\", \"family\": \"Courier New, monospace\", \"size\": 14}, \"xaxis\": {\"tickfont\": {\"color\": \"black\", \"family\": \"Courier New, monospace\", \"size\": 14}}, \"font\": {\"color\": \"white\", \"family\": \"Courier New, monospace\", \"size\": 12}}, {\"linkText\": \"Export to plot.ly\", \"showLink\": true})});</script>"
      ]
     },
     "metadata": {},
     "output_type": "display_data"
    },
    {
     "data": {
      "application/vnd.plotly.v1+json": {
       "data": [
        {
         "marker": {
          "color": "#0047AB"
         },
         "text": [
          "81.3663%",
          "11.2572%",
          "4.458%",
          "2.9185%"
         ],
         "textposition": "auto",
         "type": "bar",
         "x": [
          "unknown",
          "failure",
          "other",
          "success"
         ],
         "y": [
          81.3663,
          11.257200000000001,
          4.458,
          2.9185
         ]
        }
       ],
       "layout": {
        "autosize": false,
        "font": {
         "color": "white",
         "family": "Courier New, monospace",
         "size": 12
        },
        "height": 600,
        "title": "Distribution of poutcome column",
        "titlefont": {
         "color": "black",
         "family": "Courier New, monospace",
         "size": 14
        },
        "width": 800,
        "xaxis": {
         "tickfont": {
          "color": "black",
          "family": "Courier New, monospace",
          "size": 14
         }
        },
        "yaxis": {
         "tickfont": {
          "color": "black",
          "family": "Courier New, monospace",
          "size": 14
         },
         "title": "Percentage",
         "titlefont": {
          "color": "black",
          "size": 14
         }
        }
       }
      },
      "text/html": [
       "<div id=\"988c25d7-ee46-49ff-b686-56c49fa56332\" style=\"height: 600px; width: 800px;\" class=\"plotly-graph-div\"></div><script type=\"text/javascript\">require([\"plotly\"], function(Plotly) { window.PLOTLYENV=window.PLOTLYENV || {};window.PLOTLYENV.BASE_URL=\"https://plot.ly\";Plotly.newPlot(\"988c25d7-ee46-49ff-b686-56c49fa56332\", [{\"textposition\": \"auto\", \"text\": [\"81.3663%\", \"11.2572%\", \"4.458%\", \"2.9185%\"], \"marker\": {\"color\": \"#0047AB\"}, \"y\": [81.3663, 11.257200000000001, 4.458, 2.9185], \"x\": [\"unknown\", \"failure\", \"other\", \"success\"], \"type\": \"bar\"}], {\"autosize\": false, \"title\": \"Distribution of poutcome column\", \"yaxis\": {\"tickfont\": {\"color\": \"black\", \"family\": \"Courier New, monospace\", \"size\": 14}, \"titlefont\": {\"color\": \"black\", \"size\": 14}, \"title\": \"Percentage\"}, \"height\": 600, \"width\": 800, \"titlefont\": {\"color\": \"black\", \"family\": \"Courier New, monospace\", \"size\": 14}, \"xaxis\": {\"tickfont\": {\"color\": \"black\", \"family\": \"Courier New, monospace\", \"size\": 14}}, \"font\": {\"color\": \"white\", \"family\": \"Courier New, monospace\", \"size\": 12}}, {\"linkText\": \"Export to plot.ly\", \"showLink\": true})});</script>"
      ],
      "text/vnd.plotly.v1+html": [
       "<div id=\"988c25d7-ee46-49ff-b686-56c49fa56332\" style=\"height: 600px; width: 800px;\" class=\"plotly-graph-div\"></div><script type=\"text/javascript\">require([\"plotly\"], function(Plotly) { window.PLOTLYENV=window.PLOTLYENV || {};window.PLOTLYENV.BASE_URL=\"https://plot.ly\";Plotly.newPlot(\"988c25d7-ee46-49ff-b686-56c49fa56332\", [{\"textposition\": \"auto\", \"text\": [\"81.3663%\", \"11.2572%\", \"4.458%\", \"2.9185%\"], \"marker\": {\"color\": \"#0047AB\"}, \"y\": [81.3663, 11.257200000000001, 4.458, 2.9185], \"x\": [\"unknown\", \"failure\", \"other\", \"success\"], \"type\": \"bar\"}], {\"autosize\": false, \"title\": \"Distribution of poutcome column\", \"yaxis\": {\"tickfont\": {\"color\": \"black\", \"family\": \"Courier New, monospace\", \"size\": 14}, \"titlefont\": {\"color\": \"black\", \"size\": 14}, \"title\": \"Percentage\"}, \"height\": 600, \"width\": 800, \"titlefont\": {\"color\": \"black\", \"family\": \"Courier New, monospace\", \"size\": 14}, \"xaxis\": {\"tickfont\": {\"color\": \"black\", \"family\": \"Courier New, monospace\", \"size\": 14}}, \"font\": {\"color\": \"white\", \"family\": \"Courier New, monospace\", \"size\": 12}}, {\"linkText\": \"Export to plot.ly\", \"showLink\": true})});</script>"
      ]
     },
     "metadata": {},
     "output_type": "display_data"
    },
    {
     "data": {
      "application/vnd.plotly.v1+json": {
       "data": [
        {
         "marker": {
          "color": "#0047AB"
         },
         "text": [
          "88.1013%",
          "11.8987%"
         ],
         "textposition": "auto",
         "type": "bar",
         "x": [
          "no",
          "yes"
         ],
         "y": [
          88.10130000000001,
          11.8987
         ]
        }
       ],
       "layout": {
        "autosize": false,
        "font": {
         "color": "white",
         "family": "Courier New, monospace",
         "size": 12
        },
        "height": 600,
        "title": "Distribution of Approved_no_yes column",
        "titlefont": {
         "color": "black",
         "family": "Courier New, monospace",
         "size": 14
        },
        "width": 800,
        "xaxis": {
         "tickfont": {
          "color": "black",
          "family": "Courier New, monospace",
          "size": 14
         }
        },
        "yaxis": {
         "tickfont": {
          "color": "black",
          "family": "Courier New, monospace",
          "size": 14
         },
         "title": "Percentage",
         "titlefont": {
          "color": "black",
          "size": 14
         }
        }
       }
      },
      "text/html": [
       "<div id=\"1a7d6ed7-8a91-4948-9971-f457f5c4ed87\" style=\"height: 600px; width: 800px;\" class=\"plotly-graph-div\"></div><script type=\"text/javascript\">require([\"plotly\"], function(Plotly) { window.PLOTLYENV=window.PLOTLYENV || {};window.PLOTLYENV.BASE_URL=\"https://plot.ly\";Plotly.newPlot(\"1a7d6ed7-8a91-4948-9971-f457f5c4ed87\", [{\"textposition\": \"auto\", \"text\": [\"88.1013%\", \"11.8987%\"], \"marker\": {\"color\": \"#0047AB\"}, \"y\": [88.10130000000001, 11.8987], \"x\": [\"no\", \"yes\"], \"type\": \"bar\"}], {\"autosize\": false, \"title\": \"Distribution of Approved_no_yes column\", \"yaxis\": {\"tickfont\": {\"color\": \"black\", \"family\": \"Courier New, monospace\", \"size\": 14}, \"titlefont\": {\"color\": \"black\", \"size\": 14}, \"title\": \"Percentage\"}, \"height\": 600, \"width\": 800, \"titlefont\": {\"color\": \"black\", \"family\": \"Courier New, monospace\", \"size\": 14}, \"xaxis\": {\"tickfont\": {\"color\": \"black\", \"family\": \"Courier New, monospace\", \"size\": 14}}, \"font\": {\"color\": \"white\", \"family\": \"Courier New, monospace\", \"size\": 12}}, {\"linkText\": \"Export to plot.ly\", \"showLink\": true})});</script>"
      ],
      "text/vnd.plotly.v1+html": [
       "<div id=\"1a7d6ed7-8a91-4948-9971-f457f5c4ed87\" style=\"height: 600px; width: 800px;\" class=\"plotly-graph-div\"></div><script type=\"text/javascript\">require([\"plotly\"], function(Plotly) { window.PLOTLYENV=window.PLOTLYENV || {};window.PLOTLYENV.BASE_URL=\"https://plot.ly\";Plotly.newPlot(\"1a7d6ed7-8a91-4948-9971-f457f5c4ed87\", [{\"textposition\": \"auto\", \"text\": [\"88.1013%\", \"11.8987%\"], \"marker\": {\"color\": \"#0047AB\"}, \"y\": [88.10130000000001, 11.8987], \"x\": [\"no\", \"yes\"], \"type\": \"bar\"}], {\"autosize\": false, \"title\": \"Distribution of Approved_no_yes column\", \"yaxis\": {\"tickfont\": {\"color\": \"black\", \"family\": \"Courier New, monospace\", \"size\": 14}, \"titlefont\": {\"color\": \"black\", \"size\": 14}, \"title\": \"Percentage\"}, \"height\": 600, \"width\": 800, \"titlefont\": {\"color\": \"black\", \"family\": \"Courier New, monospace\", \"size\": 14}, \"xaxis\": {\"tickfont\": {\"color\": \"black\", \"family\": \"Courier New, monospace\", \"size\": 14}}, \"font\": {\"color\": \"white\", \"family\": \"Courier New, monospace\", \"size\": 12}}, {\"linkText\": \"Export to plot.ly\", \"showLink\": true})});</script>"
      ]
     },
     "metadata": {},
     "output_type": "display_data"
    }
   ],
   "source": [
    "for i in cat_Var_Names:\n",
    "        plot_bar(trainingData ,i)"
   ]
  },
  {
   "cell_type": "markdown",
   "metadata": {},
   "source": [
    "#### Use VectorAssembler to combine a given list of numcolumns into a single vector column."
   ]
  },
  {
   "cell_type": "code",
   "execution_count": 31,
   "metadata": {},
   "outputs": [],
   "source": [
    "from pyspark.ml.feature import VectorAssembler\n",
    "\n",
    "assembler_Num = VectorAssembler(inputCols=num_Var_Names, outputCol=\"num_features\")"
   ]
  },
  {
   "cell_type": "markdown",
   "metadata": {},
   "source": [
    "#### Scale all the numeric attributes using MinMaxScaler\n",
    "\n",
    "    MinMaxScaler transforms a dataset of Vector rows, rescaling each feature to a specific range (often [0, 1]). \n",
    "\n",
    "    MinMaxScaler computes summary statistics on a data set and produces a MinMaxScalerModel. The model can then transform each feature individually such that it is in the given range."
   ]
  },
  {
   "cell_type": "code",
   "execution_count": 32,
   "metadata": {},
   "outputs": [],
   "source": [
    "from pyspark.ml.feature import MinMaxScaler\n",
    "\n",
    "min_Max_Scalar = MinMaxScaler(inputCol=\"num_features\", outputCol=\"scaled_num_features\")"
   ]
  },
  {
   "cell_type": "markdown",
   "metadata": {},
   "source": [
    "#### Covert categorical to numeric : \n",
    "\n",
    "    OneHotEncoder, StringIndexer, VectorAssembler"
   ]
  },
  {
   "cell_type": "code",
   "execution_count": 33,
   "metadata": {},
   "outputs": [],
   "source": [
    "from pyspark.ml.feature import OneHotEncoder, StringIndexer, VectorAssembler\n",
    "\n",
    "indexers_Cat = [StringIndexer(inputCol=cat_Var_Name, outputCol=\"{0}_index\".format(cat_Var_Name)) for cat_Var_Name in cat_Var_Names ]\n",
    "encoders_Cat = [OneHotEncoder(inputCol=indexer.getOutputCol(), outputCol=\"{0}_vec\".format(indexer.getInputCol())) for indexer in indexers_Cat]\n",
    "assembler_Cat = VectorAssembler(inputCols=[encoder.getOutputCol() for encoder in encoders_Cat], outputCol=\"cat_features\")\n",
    "\n",
    "assembler = VectorAssembler(inputCols=[\"scaled_num_features\", \"cat_features\"], outputCol=\"features\")"
   ]
  },
  {
   "cell_type": "code",
   "execution_count": 34,
   "metadata": {},
   "outputs": [],
   "source": [
    "indexer_Label = StringIndexer(inputCol=\"loan\", outputCol=\"label\")"
   ]
  },
  {
   "cell_type": "code",
   "execution_count": 35,
   "metadata": {},
   "outputs": [],
   "source": [
    "preprocessiong_Stages = [assembler_Num]+[min_Max_Scalar]+indexers_Cat+encoders_Cat+[assembler_Cat]+[assembler]+[indexer_Label]"
   ]
  },
  {
   "cell_type": "markdown",
   "metadata": {},
   "source": [
    "### Model Building and Evaluation"
   ]
  },
  {
   "cell_type": "markdown",
   "metadata": {},
   "source": [
    "#### Logistic Regression"
   ]
  },
  {
   "cell_type": "code",
   "execution_count": 36,
   "metadata": {},
   "outputs": [],
   "source": [
    "from pyspark.ml.classification import LogisticRegression\n",
    "\n",
    "lr = LogisticRegression(maxIter=10, labelCol=\"label\", featuresCol=\"features\")"
   ]
  },
  {
   "cell_type": "code",
   "execution_count": 37,
   "metadata": {},
   "outputs": [],
   "source": [
    "from pyspark.ml import Pipeline\n",
    "\n",
    "lr_Pipeline = Pipeline(stages=preprocessiong_Stages+[lr]) \n",
    "\n",
    "lr_Pipeline_model = lr_Pipeline.fit(trainingData)"
   ]
  },
  {
   "cell_type": "code",
   "execution_count": 38,
   "metadata": {},
   "outputs": [
    {
     "name": "stdout",
     "output_type": "stream",
     "text": [
      "Coefficients: [0.03327095103017062,-5.0799526719189645,0.5742351030678011,0.7524819861240976,-0.30849325418407897,0.19967107636224737,0.030964878987691506,0.18912866354078453,0.08452588336995794,0.21709437323453723,-0.023068707142850607,0.06137490624275288,0.2740859690531981,0.7386322479440705,-0.750762564743165,0.01830434313386811,-1.9694584244475852,-0.15714990935732034,-0.23963287056416394,0.6164190212070381,0.1080662608379649,0.23075994878946404,-1.3002494407805416,-0.03468388316525945,-0.7809695356817624,-0.04501529810387833,0.06372135262431104,-0.1913064987333461,0.08496384808258028,0.20238449815684767,0.4173072932434156,0.23456541549128834,0.01462433279830929,0.09901155401931762,0.28948838498484436,0.21186794928022823,0.8270908398716561,-0.5539639146771789,0.3017269200731973,-0.48769544130087966,0.04127247481264134,-0.2420651266320611,-0.5694343124288457,0.452093286580783,-0.039240294492228565,-0.07138981816966658,0.1607499467388126,0.2614013621200678,0.05836112428645387,0.09816788897166057,-1.8588239218574203,0.32827790389839284,-0.8214986038889551,-0.01216497935475919,0.026818873334940607,0.326101902252332,-0.23088171829548898,0.9705486039973044,-0.2865204152025825,-0.2667026842723238,0.772242763484934,-0.2686502095273801,-0.057198175177510135,0.10262500260878946,-0.3516862628614299,-2.4604648973776526,-2.2452469871404914,0.15487194091522136,0.42296768655444733,0.16509559135662305,0.5856477545984012]\n",
      "Intercept: -1.67711886797\n"
     ]
    }
   ],
   "source": [
    "print(\"Coefficients: \" + str(lr_Pipeline_model.stages[-1].coefficients))\n",
    "print(\"Intercept: \" + str(lr_Pipeline_model.stages[-1].intercept))"
   ]
  },
  {
   "cell_type": "code",
   "execution_count": 39,
   "metadata": {},
   "outputs": [
    {
     "name": "stdout",
     "output_type": "stream",
     "text": [
      "objectiveHistory:\n",
      "0.434916958777\n",
      "0.426780506508\n",
      "0.420165453969\n",
      "0.402160794543\n",
      "0.399061116392\n",
      "0.396860556452\n",
      "0.395585554228\n",
      "0.394016440922\n",
      "0.393249950504\n",
      "0.393030300232\n",
      "0.392559010787\n"
     ]
    }
   ],
   "source": [
    "lr_Summary = lr_Pipeline_model.stages[-1].summary\n",
    "objectiveHistory = lr_Summary.objectiveHistory\n",
    "print(\"objectiveHistory:\")\n",
    "for objective in objectiveHistory:\n",
    "    print(objective)"
   ]
  },
  {
   "cell_type": "code",
   "execution_count": 40,
   "metadata": {},
   "outputs": [],
   "source": [
    "train_predictions_lr = lr_Pipeline_model.transform(trainingData)\n",
    "test_predictions_lr = lr_Pipeline_model.transform(testData)"
   ]
  },
  {
   "cell_type": "code",
   "execution_count": 41,
   "metadata": {},
   "outputs": [
    {
     "name": "stdout",
     "output_type": "stream",
     "text": [
      "+---+-------+--------------+---------+-------+-------+-------+----+--------+---+-----+--------+--------+-----+--------+--------+---------------+---------------------------------+--------------------------------------------------------------------------------------------------------+---------+--------------------+---------------+-------------+-------------+---------+-------------+-----------+--------------+---------------------+---------------+------------------+-------------+-------------+-----------+---------------+-------------+--------------+-------------+-------------------+-----------------------------------------------------------------------+----------------------------------------------------------------------------------------------------------------------------------------------------------------------------+-----+----------------------------------------+-----------------------------------------+----------+\n",
      "|age|job    |marital_status|education|default|balance|housing|loan|contact |day|month|duration|campaign|pdays|previous|poutcome|Approved_no_yes|num_features                     |scaled_num_features                                                                                     |job_index|marital_status_index|education_index|default_index|housing_index|day_index|contact_index|month_index|poutcome_index|Approved_no_yes_index|job_vec        |marital_status_vec|education_vec|default_vec  |housing_vec|day_vec        |contact_vec  |month_vec     |poutcome_vec |Approved_no_yes_vec|cat_features                                                           |features                                                                                                                                                                    |label|rawPrediction                           |probability                              |prediction|\n",
      "+---+-------+--------------+---------+-------+-------+-------+----+--------+---+-----+--------+--------+-----+--------+--------+---------------+---------------------------------+--------------------------------------------------------------------------------------------------------+---------+--------------------+---------------+-------------+-------------+---------+-------------+-----------+--------------+---------------------+---------------+------------------+-------------+-------------+-----------+---------------+-------------+--------------+-------------+-------------------+-----------------------------------------------------------------------+----------------------------------------------------------------------------------------------------------------------------------------------------------------------------+-----+----------------------------------------+-----------------------------------------+----------+\n",
      "|21 |student|single        |secondary|no     |6.0    |no     |no  |unknown |9  |may  |622.0   |1.0     |-1.0 |0.0     |unknown |no             |[21.0,6.0,622.0,0.0,-1.0,1.0]    |[0.03076923076923077,8.428386806765185E-5,0.20430463576158941,0.0,0.0,0.0]                              |10.0     |1.0                 |0.0            |0.0          |1.0          |16.0     |1.0          |0.0        |0.0           |0.0                  |(11,[10],[1.0])|(2,[1],[1.0])     |(3,[0],[1.0])|(1,[0],[1.0])|(1,[],[])  |(30,[16],[1.0])|(2,[1],[1.0])|(11,[0],[1.0])|(3,[0],[1.0])|(1,[0],[1.0])      |(65,[10,12,13,16,34,49,50,61,64],[1.0,1.0,1.0,1.0,1.0,1.0,1.0,1.0,1.0])|(71,[0,1,2,16,18,19,22,40,55,56,67,70],[0.03076923076923077,8.428386806765185E-5,0.20430463576158941,1.0,1.0,1.0,1.0,1.0,1.0,1.0,1.0,1.0])                                  |0.0  |[3.5751137711850935,-3.5751137711850935]|[0.9727510650599973,0.027248934940002714]|0.0       |\n",
      "|21 |student|single        |secondary|no     |2488.0 |no     |no  |cellular|30 |jun  |258.0   |6.0     |169.0|3.0     |success |yes            |[21.0,2488.0,258.0,3.0,169.0,6.0]|[0.03076923076923077,0.0349497106253863,0.0837748344370861,0.12,0.19495412844036697,0.16129032258064516]|10.0     |1.0                 |0.0            |0.0          |1.0          |13.0     |0.0          |3.0        |3.0           |1.0                  |(11,[10],[1.0])|(2,[1],[1.0])     |(3,[0],[1.0])|(1,[0],[1.0])|(1,[],[])  |(30,[13],[1.0])|(2,[0],[1.0])|(11,[3],[1.0])|(3,[],[])    |(1,[],[])          |(65,[10,12,13,16,31,48,53],[1.0,1.0,1.0,1.0,1.0,1.0,1.0])              |(71,[0,1,2,3,4,5,16,18,19,22,37,54,59],[0.03076923076923077,0.0349497106253863,0.0837748344370861,0.12,0.19495412844036697,0.16129032258064516,1.0,1.0,1.0,1.0,1.0,1.0,1.0])|0.0  |[5.429940194630323,-5.429940194630323]  |[0.9956357720301652,0.004364227969834821]|0.0       |\n",
      "+---+-------+--------------+---------+-------+-------+-------+----+--------+---+-----+--------+--------+-----+--------+--------+---------------+---------------------------------+--------------------------------------------------------------------------------------------------------+---------+--------------------+---------------+-------------+-------------+---------+-------------+-----------+--------------+---------------------+---------------+------------------+-------------+-------------+-----------+---------------+-------------+--------------+-------------+-------------------+-----------------------------------------------------------------------+----------------------------------------------------------------------------------------------------------------------------------------------------------------------------+-----+----------------------------------------+-----------------------------------------+----------+\n",
      "only showing top 2 rows\n",
      "\n"
     ]
    }
   ],
   "source": [
    "test_predictions_lr.show(2,truncate=False)"
   ]
  },
  {
   "cell_type": "markdown",
   "metadata": {},
   "source": [
    "#### Evaluation : LR Model"
   ]
  },
  {
   "cell_type": "code",
   "execution_count": 42,
   "metadata": {},
   "outputs": [
    {
     "name": "stdout",
     "output_type": "stream",
     "text": [
      "Train accuracy  = 0.84445157152\n",
      "Test accuracy = 0.857448325018\n"
     ]
    }
   ],
   "source": [
    "from pyspark.ml.evaluation import MulticlassClassificationEvaluator\n",
    "\n",
    "evaluator = MulticlassClassificationEvaluator(labelCol=\"label\", \n",
    "                                              predictionCol=\"prediction\",\n",
    "                                              metricName=\"accuracy\")\n",
    "\n",
    "predictionAndLabels_train_lr = train_predictions_lr.select(\"prediction\", \"label\")\n",
    "train_accuracy_lr = evaluator.evaluate(predictionAndLabels_train_lr)\n",
    "\n",
    "print(\"Train accuracy  = \" + str(train_accuracy_lr))\n",
    "\n",
    "predictionAndLabels_test_lr = test_predictions_lr.select(\"prediction\", \"label\")\n",
    "test_accuracy_lr = evaluator.evaluate(predictionAndLabels_test_lr)\n",
    "\n",
    "print(\"Test accuracy = \" + str(test_accuracy_lr))"
   ]
  },
  {
   "cell_type": "markdown",
   "metadata": {},
   "source": [
    "#### Tuning LR Model"
   ]
  },
  {
   "cell_type": "code",
   "execution_count": 43,
   "metadata": {},
   "outputs": [],
   "source": [
    "from pyspark.ml.tuning import ParamGridBuilder, CrossValidator"
   ]
  },
  {
   "cell_type": "code",
   "execution_count": 44,
   "metadata": {},
   "outputs": [],
   "source": [
    "paramGrid = ParamGridBuilder()\\\n",
    "    .addGrid(lr.regParam, [0.1, 0.2]) \\\n",
    "    .addGrid(lr.elasticNetParam, [0.5])\\\n",
    "    .build()\n",
    "    \n",
    "lr_crossval = CrossValidator(estimator=lr_Pipeline,\n",
    "                             estimatorParamMaps=paramGrid,\n",
    "                             evaluator=evaluator,\n",
    "                             numFolds=2)     "
   ]
  },
  {
   "cell_type": "code",
   "execution_count": 45,
   "metadata": {},
   "outputs": [],
   "source": [
    "# Run cross-validation, and choose the best set of parameters.\n",
    "lr_crossval_Model = lr_crossval.fit(trainingData)"
   ]
  },
  {
   "cell_type": "code",
   "execution_count": 46,
   "metadata": {},
   "outputs": [],
   "source": [
    "train_predictions_lrcv = lr_crossval_Model.transform(trainingData)\n",
    "test_predictions_lrcv = lr_crossval_Model.transform(testData)"
   ]
  },
  {
   "cell_type": "code",
   "execution_count": 47,
   "metadata": {},
   "outputs": [
    {
     "name": "stdout",
     "output_type": "stream",
     "text": [
      "Train set accuracy  = 0.842847979474\n",
      "Test set accuracy = 0.856735566643\n"
     ]
    }
   ],
   "source": [
    "predictionAndLabels_train_lrcv = train_predictions_lrcv.select(\"prediction\", \"label\")\n",
    "train_accuracycv = evaluator.evaluate(predictionAndLabels_train_lrcv)\n",
    "print(\"Train set accuracy  = \" + str(train_accuracycv))\n",
    "\n",
    "predictionAndLabels_test_lrcv = test_predictions_lrcv.select(\"prediction\", \"label\")\n",
    "test_accuracycv = evaluator.evaluate(predictionAndLabels_test_lrcv)\n",
    "print(\"Test set accuracy = \" + str(test_accuracycv))"
   ]
  },
  {
   "cell_type": "markdown",
   "metadata": {},
   "source": [
    "#### Decision Tree Classifier"
   ]
  },
  {
   "cell_type": "code",
   "execution_count": 48,
   "metadata": {},
   "outputs": [],
   "source": [
    "from pyspark.ml.classification import DecisionTreeClassifier\n",
    "\n",
    "dt = DecisionTreeClassifier(labelCol=\"label\", featuresCol=\"features\")"
   ]
  },
  {
   "cell_type": "code",
   "execution_count": 49,
   "metadata": {},
   "outputs": [],
   "source": [
    "dt_Pipeline = Pipeline(stages=preprocessiong_Stages+[dt]) \n",
    "\n",
    "dt_Pipeline_model = dt_Pipeline.fit(trainingData)"
   ]
  },
  {
   "cell_type": "code",
   "execution_count": 50,
   "metadata": {},
   "outputs": [],
   "source": [
    "train_predictions_dt = dt_Pipeline_model.transform(trainingData)\n",
    "test_predictions_dt = dt_Pipeline_model.transform(testData)"
   ]
  },
  {
   "cell_type": "code",
   "execution_count": 51,
   "metadata": {},
   "outputs": [
    {
     "name": "stdout",
     "output_type": "stream",
     "text": [
      "+---+-------+--------------+---------+-------+-------+-------+----+--------+---+-----+--------+--------+-----+--------+--------+---------------+--------------------+--------------------+---------+--------------------+---------------+-------------+-------------+---------+-------------+-----------+--------------+---------------------+---------------+------------------+-------------+-------------+-----------+---------------+-------------+--------------+-------------+-------------------+--------------------+--------------------+-----+-------------+--------------------+----------+\n",
      "|age|    job|marital_status|education|default|balance|housing|loan| contact|day|month|duration|campaign|pdays|previous|poutcome|Approved_no_yes|        num_features| scaled_num_features|job_index|marital_status_index|education_index|default_index|housing_index|day_index|contact_index|month_index|poutcome_index|Approved_no_yes_index|        job_vec|marital_status_vec|education_vec|  default_vec|housing_vec|        day_vec|  contact_vec|     month_vec| poutcome_vec|Approved_no_yes_vec|        cat_features|            features|label|rawPrediction|         probability|prediction|\n",
      "+---+-------+--------------+---------+-------+-------+-------+----+--------+---+-----+--------+--------+-----+--------+--------+---------------+--------------------+--------------------+---------+--------------------+---------------+-------------+-------------+---------+-------------+-----------+--------------+---------------------+---------------+------------------+-------------+-------------+-----------+---------------+-------------+--------------+-------------+-------------------+--------------------+--------------------+-----+-------------+--------------------+----------+\n",
      "| 21|student|        single|secondary|     no|    6.0|     no|  no| unknown|  9|  may|   622.0|     1.0| -1.0|     0.0| unknown|             no|[21.0,6.0,622.0,0...|[0.03076923076923...|     10.0|                 1.0|            0.0|          0.0|          1.0|     16.0|          1.0|        0.0|           0.0|                  0.0|(11,[10],[1.0])|     (2,[1],[1.0])|(3,[0],[1.0])|(1,[0],[1.0])|  (1,[],[])|(30,[16],[1.0])|(2,[1],[1.0])|(11,[0],[1.0])|(3,[0],[1.0])|      (1,[0],[1.0])|(65,[10,12,13,16,...|(71,[0,1,2,16,18,...|  0.0|[851.0,163.0]|[0.83925049309664...|       0.0|\n",
      "| 21|student|        single|secondary|     no| 2488.0|     no|  no|cellular| 30|  jun|   258.0|     6.0|169.0|     3.0| success|            yes|[21.0,2488.0,258....|[0.03076923076923...|     10.0|                 1.0|            0.0|          0.0|          1.0|     13.0|          0.0|        3.0|           3.0|                  1.0|(11,[10],[1.0])|     (2,[1],[1.0])|(3,[0],[1.0])|(1,[0],[1.0])|  (1,[],[])|(30,[13],[1.0])|(2,[0],[1.0])|(11,[3],[1.0])|    (3,[],[])|          (1,[],[])|(65,[10,12,13,16,...|(71,[0,1,2,3,4,5,...|  0.0|  [126.0,9.0]|[0.93333333333333...|       0.0|\n",
      "+---+-------+--------------+---------+-------+-------+-------+----+--------+---+-----+--------+--------+-----+--------+--------+---------------+--------------------+--------------------+---------+--------------------+---------------+-------------+-------------+---------+-------------+-----------+--------------+---------------------+---------------+------------------+-------------+-------------+-----------+---------------+-------------+--------------+-------------+-------------------+--------------------+--------------------+-----+-------------+--------------------+----------+\n",
      "only showing top 2 rows\n",
      "\n"
     ]
    }
   ],
   "source": [
    "test_predictions_dt.show(2)"
   ]
  },
  {
   "cell_type": "markdown",
   "metadata": {},
   "source": [
    "#### Evaluation : DT Model"
   ]
  },
  {
   "cell_type": "code",
   "execution_count": 52,
   "metadata": {},
   "outputs": [
    {
     "name": "stdout",
     "output_type": "stream",
     "text": [
      "Train accuracy  = 0.851828094933\n",
      "Test accuracy = 0.847469707769\n"
     ]
    }
   ],
   "source": [
    "predictionAndLabels_train_dt = train_predictions_dt.select(\"prediction\", \"label\")\n",
    "train_accuracy_dt = evaluator.evaluate(predictionAndLabels_train_dt)\n",
    "\n",
    "print(\"Train accuracy  = \" + str(train_accuracy_dt))\n",
    "\n",
    "predictionAndLabels_test_dt = test_predictions_dt.select(\"prediction\", \"label\")\n",
    "test_accuracy_dt = evaluator.evaluate(predictionAndLabels_test_dt)\n",
    "\n",
    "print(\"Test accuracy = \" + str(test_accuracy_dt))"
   ]
  },
  {
   "cell_type": "markdown",
   "metadata": {},
   "source": [
    "#### Tuning DT Model"
   ]
  },
  {
   "cell_type": "code",
   "execution_count": 53,
   "metadata": {},
   "outputs": [],
   "source": [
    "paramGridDT = ParamGridBuilder()\\\n",
    "    .addGrid(dt.maxDepth, [1,6,10]) \\\n",
    "    .build()\n",
    "    \n",
    "dt_crossval = CrossValidator(estimator=dt_Pipeline,\n",
    "                             estimatorParamMaps=paramGridDT,\n",
    "                             evaluator=evaluator,\n",
    "                             numFolds=2)     "
   ]
  },
  {
   "cell_type": "code",
   "execution_count": 54,
   "metadata": {},
   "outputs": [],
   "source": [
    "# Run cross-validation, and choose the best set of parameters.\n",
    "dt_crossval_Model = dt_crossval.fit(trainingData)"
   ]
  },
  {
   "cell_type": "code",
   "execution_count": 55,
   "metadata": {},
   "outputs": [],
   "source": [
    "train_predictions_dtcv = dt_crossval_Model.transform(trainingData)\n",
    "test_predictions_dtcv = dt_crossval_Model.transform(testData)"
   ]
  },
  {
   "cell_type": "code",
   "execution_count": 56,
   "metadata": {},
   "outputs": [
    {
     "name": "stdout",
     "output_type": "stream",
     "text": [
      "Train set accuracy  = 0.842847979474\n",
      "Test set accuracy = 0.856735566643\n"
     ]
    }
   ],
   "source": [
    "predictionAndLabels_train_dtcv = train_predictions_dtcv.select(\"prediction\", \"label\")\n",
    "train_accuracydtcv = evaluator.evaluate(predictionAndLabels_train_dtcv)\n",
    "print(\"Train set accuracy  = \" + str(train_accuracydtcv))\n",
    "\n",
    "predictionAndLabels_test_dtcv = test_predictions_dtcv.select(\"prediction\", \"label\")\n",
    "test_accuracydtcv = evaluator.evaluate(predictionAndLabels_test_dtcv)\n",
    "print(\"Test set accuracy = \" + str(test_accuracydtcv))"
   ]
  },
  {
   "cell_type": "markdown",
   "metadata": {},
   "source": [
    "#### Random Forest Classifier"
   ]
  },
  {
   "cell_type": "code",
   "execution_count": 57,
   "metadata": {},
   "outputs": [],
   "source": [
    "from pyspark.ml.classification import RandomForestClassifier\n",
    "\n",
    "rf = RandomForestClassifier(labelCol=\"label\", featuresCol=\"features\")"
   ]
  },
  {
   "cell_type": "code",
   "execution_count": 58,
   "metadata": {},
   "outputs": [],
   "source": [
    "rf_Pipeline = Pipeline(stages=preprocessiong_Stages+[rf]) \n",
    "\n",
    "rf_Pipeline_model = rf_Pipeline.fit(trainingData)"
   ]
  },
  {
   "cell_type": "code",
   "execution_count": 59,
   "metadata": {},
   "outputs": [],
   "source": [
    "train_predictions_rf = rf_Pipeline_model.transform(trainingData)\n",
    "test_predictions_rf = rf_Pipeline_model.transform(testData)"
   ]
  },
  {
   "cell_type": "code",
   "execution_count": 60,
   "metadata": {},
   "outputs": [
    {
     "name": "stdout",
     "output_type": "stream",
     "text": [
      "+---+-------------+--------------+---------+-------+-------+-------+----+---------+---+-----+--------+--------+-----+--------+--------+---------------+--------------------+--------------------+---------+--------------------+---------------+-------------+-------------+---------+-------------+-----------+--------------+---------------------+---------------+------------------+-------------+-------------+-------------+---------------+-------------+--------------+-------------+-------------------+--------------------+--------------------+-----+--------------------+--------------------+----------+\n",
      "|age|          job|marital_status|education|default|balance|housing|loan|  contact|day|month|duration|campaign|pdays|previous|poutcome|Approved_no_yes|        num_features| scaled_num_features|job_index|marital_status_index|education_index|default_index|housing_index|day_index|contact_index|month_index|poutcome_index|Approved_no_yes_index|        job_vec|marital_status_vec|education_vec|  default_vec|  housing_vec|        day_vec|  contact_vec|     month_vec| poutcome_vec|Approved_no_yes_vec|        cat_features|            features|label|       rawPrediction|         probability|prediction|\n",
      "+---+-------------+--------------+---------+-------+-------+-------+----+---------+---+-----+--------+--------+-----+--------+--------+---------------+--------------------+--------------------+---------+--------------------+---------------+-------------+-------------+---------+-------------+-----------+--------------+---------------------+---------------+------------------+-------------+-------------+-------------+---------------+-------------+--------------+-------------+-------------------+--------------------+--------------------+-----+--------------------+--------------------+----------+\n",
      "| 21|      student|        single|secondary|     no|    6.0|     no|  no|  unknown|  9|  may|   622.0|     1.0| -1.0|     0.0| unknown|             no|[21.0,6.0,622.0,0...|[0.03076923076923...|     10.0|                 1.0|            0.0|          0.0|          1.0|     16.0|          1.0|        0.0|           0.0|                  0.0|(11,[10],[1.0])|     (2,[1],[1.0])|(3,[0],[1.0])|(1,[0],[1.0])|    (1,[],[])|(30,[16],[1.0])|(2,[1],[1.0])|(11,[0],[1.0])|(3,[0],[1.0])|      (1,[0],[1.0])|(65,[10,12,13,16,...|(71,[0,1,2,16,18,...|  0.0|[17.6188200783892...|[0.88094100391946...|       0.0|\n",
      "| 21|      student|        single|secondary|     no| 2488.0|     no|  no| cellular| 30|  jun|   258.0|     6.0|169.0|     3.0| success|            yes|[21.0,2488.0,258....|[0.03076923076923...|     10.0|                 1.0|            0.0|          0.0|          1.0|     13.0|          0.0|        3.0|           3.0|                  1.0|(11,[10],[1.0])|     (2,[1],[1.0])|(3,[0],[1.0])|(1,[0],[1.0])|    (1,[],[])|(30,[13],[1.0])|(2,[0],[1.0])|(11,[3],[1.0])|    (3,[],[])|          (1,[],[])|(65,[10,12,13,16,...|(71,[0,1,2,3,4,5,...|  0.0|[18.1990719160250...|[0.90995359580125...|       0.0|\n",
      "| 21|      student|        single|secondary|     no| 6844.0|     no|  no| cellular| 14|  aug|   126.0|     3.0|127.0|     7.0|   other|             no|[21.0,6844.0,126....|[0.03076923076923...|     10.0|                 1.0|            0.0|          0.0|          1.0|      2.0|          0.0|        2.0|           2.0|                  0.0|(11,[10],[1.0])|     (2,[1],[1.0])|(3,[0],[1.0])|(1,[0],[1.0])|    (1,[],[])| (30,[2],[1.0])|(2,[0],[1.0])|(11,[2],[1.0])|(3,[2],[1.0])|      (1,[0],[1.0])|(65,[10,12,13,16,...|(71,[0,1,2,3,4,5,...|  0.0|[17.8527482807754...|[0.89263741403877...|       0.0|\n",
      "| 23|       admin.|        single|secondary|     no|  589.0|    yes|  no| cellular|  6|  may|    62.0|     1.0| -1.0|     0.0| unknown|             no|[23.0,589.0,62.0,...|[0.06153846153846...|      3.0|                 1.0|            0.0|          0.0|          0.0|      6.0|          0.0|        0.0|           0.0|                  0.0| (11,[3],[1.0])|     (2,[1],[1.0])|(3,[0],[1.0])|(1,[0],[1.0])|(1,[0],[1.0])| (30,[6],[1.0])|(2,[0],[1.0])|(11,[0],[1.0])|(3,[0],[1.0])|      (1,[0],[1.0])|(65,[3,12,13,16,1...|(71,[0,1,2,9,18,1...|  0.0|[16.4389457968333...|[0.82194728984166...|       0.0|\n",
      "| 23|  blue-collar|       married|  primary|     no| 1158.0|    yes|  no| cellular| 16|  apr|   743.0|     1.0| -1.0|     0.0| unknown|             no|[23.0,1158.0,743....|[0.06153846153846...|      1.0|                 0.0|            2.0|          0.0|          0.0|     14.0|          0.0|        5.0|           0.0|                  0.0| (11,[1],[1.0])|     (2,[0],[1.0])|(3,[2],[1.0])|(1,[0],[1.0])|(1,[0],[1.0])|(30,[14],[1.0])|(2,[0],[1.0])|(11,[5],[1.0])|(3,[0],[1.0])|      (1,[0],[1.0])|(65,[1,11,15,16,1...|(71,[0,1,2,7,17,2...|  0.0|[17.1662607186034...|[0.85831303593017...|       0.0|\n",
      "| 23| entrepreneur|        single|  primary|     no|    4.0|    yes|  no|  unknown| 13|  may|   395.0|     2.0| -1.0|     0.0| unknown|            yes|[23.0,4.0,395.0,0...|[0.06153846153846...|      7.0|                 1.0|            2.0|          0.0|          0.0|     17.0|          1.0|        0.0|           0.0|                  1.0| (11,[7],[1.0])|     (2,[1],[1.0])|(3,[2],[1.0])|(1,[0],[1.0])|(1,[0],[1.0])|(30,[17],[1.0])|(2,[1],[1.0])|(11,[0],[1.0])|(3,[0],[1.0])|          (1,[],[])|(65,[7,12,15,16,1...|(71,[0,1,2,5,13,1...|  0.0|[15.7567388865136...|[0.78783694432568...|       0.0|\n",
      "| 23|     services|       married|secondary|     no|    0.0|    yes|  no|  unknown| 20|  jun|    13.0|    10.0| -1.0|     0.0| unknown|             no|[23.0,0.0,13.0,0....|[0.06153846153846...|      4.0|                 0.0|            0.0|          0.0|          0.0|      0.0|          1.0|        3.0|           0.0|                  0.0| (11,[4],[1.0])|     (2,[0],[1.0])|(3,[0],[1.0])|(1,[0],[1.0])|(1,[0],[1.0])| (30,[0],[1.0])|(2,[1],[1.0])|(11,[3],[1.0])|(3,[0],[1.0])|      (1,[0],[1.0])|(65,[4,11,13,16,1...|(71,[0,2,5,10,17,...|  0.0|[16.5378544327076...|[0.82689272163538...|       0.0|\n",
      "| 23|     services|        single|secondary|     no|  250.0|    yes|  no| cellular| 18|  may|   222.0|     1.0| -1.0|     0.0| unknown|             no|[23.0,250.0,222.0...|[0.06153846153846...|      4.0|                 1.0|            0.0|          0.0|          0.0|      1.0|          0.0|        0.0|           0.0|                  0.0| (11,[4],[1.0])|     (2,[1],[1.0])|(3,[0],[1.0])|(1,[0],[1.0])|(1,[0],[1.0])| (30,[1],[1.0])|(2,[0],[1.0])|(11,[0],[1.0])|(3,[0],[1.0])|      (1,[0],[1.0])|(65,[4,12,13,16,1...|(71,[0,1,2,10,18,...|  0.0|[16.4802566939057...|[0.82401283469528...|       0.0|\n",
      "| 23|      student|        single|secondary|     no| 1021.0|     no|  no|telephone| 19|  jun|    79.0|     9.0| -1.0|     0.0| unknown|             no|[23.0,1021.0,79.0...|[0.06153846153846...|     10.0|                 1.0|            0.0|          0.0|          1.0|      3.0|          2.0|        3.0|           0.0|                  0.0|(11,[10],[1.0])|     (2,[1],[1.0])|(3,[0],[1.0])|(1,[0],[1.0])|    (1,[],[])| (30,[3],[1.0])|    (2,[],[])|(11,[3],[1.0])|(3,[0],[1.0])|      (1,[0],[1.0])|(65,[10,12,13,16,...|(71,[0,1,2,5,16,1...|  0.0|[16.4404946647303...|[0.82202473323651...|       0.0|\n",
      "| 23|      student|        single|secondary|     no| 8494.0|     no|  no| cellular| 25|  aug|   158.0|     2.0| -1.0|     0.0| unknown|             no|[23.0,8494.0,158....|[0.06153846153846...|     10.0|                 1.0|            0.0|          0.0|          1.0|     25.0|          0.0|        2.0|           0.0|                  0.0|(11,[10],[1.0])|     (2,[1],[1.0])|(3,[0],[1.0])|(1,[0],[1.0])|    (1,[],[])|(30,[25],[1.0])|(2,[0],[1.0])|(11,[2],[1.0])|(3,[0],[1.0])|      (1,[0],[1.0])|(65,[10,12,13,16,...|(71,[0,1,2,5,16,1...|  0.0|[17.4661786613483...|[0.87330893306741...|       0.0|\n",
      "| 23|   technician|        single| tertiary|     no| 1129.0|    yes|  no|  unknown| 28|  may|   806.0|     1.0| -1.0|     0.0| unknown|            yes|[23.0,1129.0,806....|[0.06153846153846...|      2.0|                 1.0|            1.0|          0.0|          0.0|      4.0|          1.0|        0.0|           0.0|                  1.0| (11,[2],[1.0])|     (2,[1],[1.0])|(3,[1],[1.0])|(1,[0],[1.0])|(1,[0],[1.0])| (30,[4],[1.0])|(2,[1],[1.0])|(11,[0],[1.0])|(3,[0],[1.0])|          (1,[],[])|(65,[2,12,14,16,1...|(71,[0,1,2,8,18,2...|  0.0|[16.1265503188994...|[0.80632751594497...|       0.0|\n",
      "| 24|  blue-collar|       married|secondary|     no| 1222.0|    yes|  no| cellular| 20|  apr|   369.0|     1.0| -1.0|     0.0| unknown|             no|[24.0,1222.0,369....|[0.07692307692307...|      1.0|                 0.0|            0.0|          0.0|          0.0|      0.0|          0.0|        5.0|           0.0|                  0.0| (11,[1],[1.0])|     (2,[0],[1.0])|(3,[0],[1.0])|(1,[0],[1.0])|(1,[0],[1.0])| (30,[0],[1.0])|(2,[0],[1.0])|(11,[5],[1.0])|(3,[0],[1.0])|      (1,[0],[1.0])|(65,[1,11,13,16,1...|(71,[0,1,2,7,17,1...|  0.0|[16.9145977178000...|[0.84572988589000...|       0.0|\n",
      "| 24|      retired|        single|secondary|     no|  366.0|     no| yes|  unknown| 16|  may|   234.0|     2.0| -1.0|     0.0| unknown|             no|[24.0,366.0,234.0...|[0.07692307692307...|      5.0|                 1.0|            0.0|          0.0|          1.0|     14.0|          1.0|        0.0|           0.0|                  0.0| (11,[5],[1.0])|     (2,[1],[1.0])|(3,[0],[1.0])|(1,[0],[1.0])|    (1,[],[])|(30,[14],[1.0])|(2,[1],[1.0])|(11,[0],[1.0])|(3,[0],[1.0])|      (1,[0],[1.0])|(65,[5,12,13,16,3...|(71,[0,1,2,5,11,1...|  1.0|[16.5712679447735...|[0.82856339723867...|       0.0|\n",
      "| 24|     services|       married|secondary|     no| 4500.0|    yes|  no| cellular| 11|  may|   733.0|     2.0| -1.0|     0.0| unknown|            yes|[24.0,4500.0,733....|[0.07692307692307...|      4.0|                 0.0|            0.0|          0.0|          0.0|     15.0|          0.0|        0.0|           0.0|                  1.0| (11,[4],[1.0])|     (2,[0],[1.0])|(3,[0],[1.0])|(1,[0],[1.0])|(1,[0],[1.0])|(30,[15],[1.0])|(2,[0],[1.0])|(11,[0],[1.0])|(3,[0],[1.0])|          (1,[],[])|(65,[4,11,13,16,1...|(71,[0,1,2,5,10,1...|  0.0|[15.5442164791760...|[0.77721082395880...|       0.0|\n",
      "| 24|     services|       married| tertiary|     no|    0.0|    yes|  no|  unknown| 27|  may|   299.0|     1.0| -1.0|     0.0| unknown|             no|[24.0,0.0,299.0,0...|[0.07692307692307...|      4.0|                 0.0|            1.0|          0.0|          0.0|     20.0|          1.0|        0.0|           0.0|                  0.0| (11,[4],[1.0])|     (2,[0],[1.0])|(3,[1],[1.0])|(1,[0],[1.0])|(1,[0],[1.0])|(30,[20],[1.0])|(2,[1],[1.0])|(11,[0],[1.0])|(3,[0],[1.0])|      (1,[0],[1.0])|(65,[4,11,14,16,1...|(71,[0,2,10,17,20...|  0.0|[16.8980195406172...|[0.84490097703086...|       0.0|\n",
      "| 24|      student|        single|secondary|     no|  508.0|    yes|  no|telephone| 18|  may|    12.0|     3.0|374.0|     1.0|   other|             no|[24.0,508.0,12.0,...|[0.07692307692307...|     10.0|                 1.0|            0.0|          0.0|          0.0|      1.0|          2.0|        0.0|           2.0|                  0.0|(11,[10],[1.0])|     (2,[1],[1.0])|(3,[0],[1.0])|(1,[0],[1.0])|(1,[0],[1.0])| (30,[1],[1.0])|    (2,[],[])|(11,[0],[1.0])|(3,[2],[1.0])|      (1,[0],[1.0])|(65,[10,12,13,16,...|(71,[0,1,2,3,4,5,...|  0.0|[17.8984270513128...|[0.89492135256564...|       0.0|\n",
      "| 24|      student|        single|secondary|     no| 1847.0|     no|  no| cellular|  9|  dec|   390.0|     1.0| -1.0|     0.0| unknown|             no|[24.0,1847.0,390....|[0.07692307692307...|     10.0|                 1.0|            0.0|          0.0|          1.0|     16.0|          0.0|       11.0|           0.0|                  0.0|(11,[10],[1.0])|     (2,[1],[1.0])|(3,[0],[1.0])|(1,[0],[1.0])|    (1,[],[])|(30,[16],[1.0])|(2,[0],[1.0])|    (11,[],[])|(3,[0],[1.0])|      (1,[0],[1.0])|(65,[10,12,13,16,...|(71,[0,1,2,16,18,...|  0.0|[17.4741211950888...|[0.87370605975444...|       0.0|\n",
      "| 24|   technician|       married|secondary|     no|  556.0|    yes|  no| cellular| 18|  aug|   460.0|     2.0| -1.0|     0.0| unknown|            yes|[24.0,556.0,460.0...|[0.07692307692307...|      2.0|                 0.0|            0.0|          0.0|          0.0|      1.0|          0.0|        2.0|           0.0|                  1.0| (11,[2],[1.0])|     (2,[0],[1.0])|(3,[0],[1.0])|(1,[0],[1.0])|(1,[0],[1.0])| (30,[1],[1.0])|(2,[0],[1.0])|(11,[2],[1.0])|(3,[0],[1.0])|          (1,[],[])|(65,[2,11,13,16,1...|(71,[0,1,2,5,8,17...|  0.0|[15.5553114929611...|[0.77776557464805...|       0.0|\n",
      "| 25|       admin.|        single|secondary|     no| 4590.0|    yes|  no|  unknown| 28|  may|   199.0|     2.0| -1.0|     0.0| unknown|             no|[25.0,4590.0,199....|[0.09230769230769...|      3.0|                 1.0|            0.0|          0.0|          0.0|      4.0|          1.0|        0.0|           0.0|                  0.0| (11,[3],[1.0])|     (2,[1],[1.0])|(3,[0],[1.0])|(1,[0],[1.0])|(1,[0],[1.0])| (30,[4],[1.0])|(2,[1],[1.0])|(11,[0],[1.0])|(3,[0],[1.0])|      (1,[0],[1.0])|(65,[3,12,13,16,1...|(71,[0,1,2,5,9,18...|  0.0|[17.1967869145332...|[0.85983934572666...|       0.0|\n",
      "| 25|       admin.|        single| tertiary|     no|  760.0|    yes|  no| cellular| 27|  may|   223.0|     3.0| 89.0|     2.0| failure|            yes|[25.0,760.0,223.0...|[0.09230769230769...|      3.0|                 1.0|            1.0|          0.0|          0.0|     20.0|          0.0|        0.0|           1.0|                  1.0| (11,[3],[1.0])|     (2,[1],[1.0])|(3,[1],[1.0])|(1,[0],[1.0])|(1,[0],[1.0])|(30,[20],[1.0])|(2,[0],[1.0])|(11,[0],[1.0])|(3,[1],[1.0])|          (1,[],[])|(65,[3,12,14,16,1...|(71,[0,1,2,3,4,5,...|  0.0|[17.1799362663663...|[0.85899681331831...|       0.0|\n",
      "| 25|       admin.|        single| tertiary|     no| 1420.0|     no|  no| cellular|  8|  apr|   124.0|     2.0| -1.0|     0.0| unknown|             no|[25.0,1420.0,124....|[0.09230769230769...|      3.0|                 1.0|            1.0|          0.0|          1.0|     12.0|          0.0|        5.0|           0.0|                  0.0| (11,[3],[1.0])|     (2,[1],[1.0])|(3,[1],[1.0])|(1,[0],[1.0])|    (1,[],[])|(30,[12],[1.0])|(2,[0],[1.0])|(11,[5],[1.0])|(3,[0],[1.0])|      (1,[0],[1.0])|(65,[3,12,14,16,3...|(71,[0,1,2,5,9,18...|  0.0|[17.5649901633962...|[0.87824950816981...|       0.0|\n",
      "| 25|  blue-collar|       married|secondary|     no|    0.0|    yes|  no|  unknown| 12|  may|   241.0|     3.0| -1.0|     0.0| unknown|             no|[25.0,0.0,241.0,0...|[0.09230769230769...|      1.0|                 0.0|            0.0|          0.0|          0.0|     18.0|          1.0|        0.0|           0.0|                  0.0| (11,[1],[1.0])|     (2,[0],[1.0])|(3,[0],[1.0])|(1,[0],[1.0])|(1,[0],[1.0])|(30,[18],[1.0])|(2,[1],[1.0])|(11,[0],[1.0])|(3,[0],[1.0])|      (1,[0],[1.0])|(65,[1,11,13,16,1...|(71,[0,2,5,7,17,1...|  0.0|[16.5225015884151...|[0.82612507942075...|       0.0|\n",
      "| 25|   management|        single| tertiary|     no|  808.0|     no|  no| cellular| 18|  sep|   267.0|     2.0|114.0|     2.0| failure|            yes|[25.0,808.0,267.0...|[0.09230769230769...|      0.0|                 1.0|            1.0|          0.0|          1.0|      1.0|          0.0|        9.0|           1.0|                  1.0| (11,[0],[1.0])|     (2,[1],[1.0])|(3,[1],[1.0])|(1,[0],[1.0])|    (1,[],[])| (30,[1],[1.0])|(2,[0],[1.0])|(11,[9],[1.0])|(3,[1],[1.0])|          (1,[],[])|(65,[0,12,14,16,1...|(71,[0,1,2,3,4,5,...|  0.0|[17.6553071967307...|[0.88276535983653...|       0.0|\n",
      "| 25|   management|        single| tertiary|     no| 2506.0|     no|  no| cellular| 17|  feb|   485.0|     1.0| -1.0|     0.0| unknown|            yes|[25.0,2506.0,485....|[0.09230769230769...|      0.0|                 1.0|            1.0|          0.0|          1.0|      9.0|          0.0|        6.0|           0.0|                  1.0| (11,[0],[1.0])|     (2,[1],[1.0])|(3,[1],[1.0])|(1,[0],[1.0])|    (1,[],[])| (30,[9],[1.0])|(2,[0],[1.0])|(11,[6],[1.0])|(3,[0],[1.0])|          (1,[],[])|(65,[0,12,14,16,2...|(71,[0,1,2,6,18,2...|  0.0|[16.6359217621543...|[0.83179608810771...|       0.0|\n",
      "| 25|     services|       married|secondary|     no|   72.0|    yes|  no| cellular| 23|  jul|   305.0|     2.0| -1.0|     0.0| unknown|             no|[25.0,72.0,305.0,...|[0.09230769230769...|      4.0|                 0.0|            0.0|          0.0|          0.0|     24.0|          0.0|        1.0|           0.0|                  0.0| (11,[4],[1.0])|     (2,[0],[1.0])|(3,[0],[1.0])|(1,[0],[1.0])|(1,[0],[1.0])|(30,[24],[1.0])|(2,[0],[1.0])|(11,[1],[1.0])|(3,[0],[1.0])|      (1,[0],[1.0])|(65,[4,11,13,16,1...|(71,[0,1,2,5,10,1...|  0.0|[16.1107026270925...|[0.80553513135462...|       0.0|\n",
      "| 25|      student|       married| tertiary|     no|   10.0|    yes|  no| cellular| 21|  jul|   857.0|     4.0| -1.0|     0.0| unknown|            yes|[25.0,10.0,857.0,...|[0.09230769230769...|     10.0|                 0.0|            1.0|          0.0|          0.0|      8.0|          0.0|        1.0|           0.0|                  1.0|(11,[10],[1.0])|     (2,[0],[1.0])|(3,[1],[1.0])|(1,[0],[1.0])|(1,[0],[1.0])| (30,[8],[1.0])|(2,[0],[1.0])|(11,[1],[1.0])|(3,[0],[1.0])|          (1,[],[])|(65,[10,11,14,16,...|(71,[0,1,2,5,16,1...|  0.0|[16.2523405588929...|[0.81261702794464...|       0.0|\n",
      "| 25|      student|        single|  unknown|     no|10788.0|     no|  no| cellular| 23|  dec|   102.0|     2.0|210.0|     2.0|   other|             no|[25.0,10788.0,102...|[0.09230769230769...|     10.0|                 1.0|            3.0|          0.0|          1.0|     24.0|          0.0|       11.0|           2.0|                  0.0|(11,[10],[1.0])|     (2,[1],[1.0])|    (3,[],[])|(1,[0],[1.0])|    (1,[],[])|(30,[24],[1.0])|(2,[0],[1.0])|    (11,[],[])|(3,[2],[1.0])|      (1,[0],[1.0])|(65,[10,12,16,42,...|(71,[0,1,2,3,4,5,...|  0.0|[18.1152464838160...|[0.90576232419080...|       0.0|\n",
      "| 25|   technician|       married| tertiary|     no|  914.0|    yes|  no| cellular| 12|  may|   185.0|     2.0| -1.0|     0.0| unknown|             no|[25.0,914.0,185.0...|[0.09230769230769...|      2.0|                 0.0|            1.0|          0.0|          0.0|     18.0|          0.0|        0.0|           0.0|                  0.0| (11,[2],[1.0])|     (2,[0],[1.0])|(3,[1],[1.0])|(1,[0],[1.0])|(1,[0],[1.0])|(30,[18],[1.0])|(2,[0],[1.0])|(11,[0],[1.0])|(3,[0],[1.0])|      (1,[0],[1.0])|(65,[2,11,14,16,1...|(71,[0,1,2,5,8,17...|  0.0|[17.7574133645188...|[0.88787066822594...|       0.0|\n",
      "| 25|   technician|        single|secondary|     no| 2157.0|    yes|  no| cellular| 21|  jul|   339.0|     1.0| -1.0|     0.0| unknown|             no|[25.0,2157.0,339....|[0.09230769230769...|      2.0|                 1.0|            0.0|          0.0|          0.0|      8.0|          0.0|        1.0|           0.0|                  0.0| (11,[2],[1.0])|     (2,[1],[1.0])|(3,[0],[1.0])|(1,[0],[1.0])|(1,[0],[1.0])| (30,[8],[1.0])|(2,[0],[1.0])|(11,[1],[1.0])|(3,[0],[1.0])|      (1,[0],[1.0])|(65,[2,12,13,16,1...|(71,[0,1,2,8,18,1...|  0.0|[16.2236055755974...|[0.81118027877987...|       0.0|\n",
      "| 25|   unemployed|        single| tertiary|     no|  343.0|     no|  no| cellular|  1|  jun|   377.0|     1.0| -1.0|     0.0| unknown|            yes|[25.0,343.0,377.0...|[0.09230769230769...|      8.0|                 1.0|            1.0|          0.0|          1.0|     30.0|          0.0|        3.0|           0.0|                  1.0| (11,[8],[1.0])|     (2,[1],[1.0])|(3,[1],[1.0])|(1,[0],[1.0])|    (1,[],[])|     (30,[],[])|(2,[0],[1.0])|(11,[3],[1.0])|(3,[0],[1.0])|          (1,[],[])|(65,[8,12,14,16,4...|(71,[0,1,2,14,18,...|  0.0|[17.4858706751637...|[0.87429353375818...|       0.0|\n",
      "| 26|       admin.|      divorced|secondary|    yes|    0.0|    yes|  no|  unknown| 13|  may|   181.0|     5.0| -1.0|     0.0| unknown|             no|[26.0,0.0,181.0,0...|[0.10769230769230...|      3.0|                 2.0|            0.0|          1.0|          0.0|     17.0|          1.0|        0.0|           0.0|                  0.0| (11,[3],[1.0])|         (2,[],[])|(3,[0],[1.0])|    (1,[],[])|(1,[0],[1.0])|(30,[17],[1.0])|(2,[1],[1.0])|(11,[0],[1.0])|(3,[0],[1.0])|      (1,[0],[1.0])|(65,[3,13,17,35,4...|(71,[0,2,5,9,19,2...|  0.0|[14.2058393572204...|[0.71029196786102...|       0.0|\n",
      "| 26|       admin.|        single|secondary|     no|   96.0|    yes|  no| cellular| 13|  may|   612.0|     2.0|348.0|     3.0|   other|             no|[26.0,96.0,612.0,...|[0.10769230769230...|      3.0|                 1.0|            0.0|          0.0|          0.0|     17.0|          0.0|        0.0|           2.0|                  0.0| (11,[3],[1.0])|     (2,[1],[1.0])|(3,[0],[1.0])|(1,[0],[1.0])|(1,[0],[1.0])|(30,[17],[1.0])|(2,[0],[1.0])|(11,[0],[1.0])|(3,[2],[1.0])|      (1,[0],[1.0])|(65,[3,12,13,16,1...|(71,[0,1,2,3,4,5,...|  0.0|[16.1256713665026...|[0.80628356832513...|       0.0|\n",
      "| 26|       admin.|        single|secondary|     no|  321.0|    yes|  no| cellular| 22|  jul|   242.0|     7.0| -1.0|     0.0| unknown|             no|[26.0,321.0,242.0...|[0.10769230769230...|      3.0|                 1.0|            0.0|          0.0|          0.0|     26.0|          0.0|        1.0|           0.0|                  0.0| (11,[3],[1.0])|     (2,[1],[1.0])|(3,[0],[1.0])|(1,[0],[1.0])|(1,[0],[1.0])|(30,[26],[1.0])|(2,[0],[1.0])|(11,[1],[1.0])|(3,[0],[1.0])|      (1,[0],[1.0])|(65,[3,12,13,16,1...|(71,[0,1,2,5,9,18...|  0.0|[15.6826294513170...|[0.78413147256585...|       0.0|\n",
      "| 26|       admin.|        single|secondary|     no|  443.0|     no|  no| cellular| 30|  jul|    84.0|     3.0| -1.0|     0.0| unknown|             no|[26.0,443.0,84.0,...|[0.10769230769230...|      3.0|                 1.0|            0.0|          0.0|          1.0|     13.0|          0.0|        1.0|           0.0|                  0.0| (11,[3],[1.0])|     (2,[1],[1.0])|(3,[0],[1.0])|(1,[0],[1.0])|    (1,[],[])|(30,[13],[1.0])|(2,[0],[1.0])|(11,[1],[1.0])|(3,[0],[1.0])|      (1,[0],[1.0])|(65,[3,12,13,16,3...|(71,[0,1,2,5,9,18...|  0.0|[15.2998677807482...|[0.76499338903741...|       0.0|\n",
      "| 26|       admin.|        single|secondary|     no|  609.0|     no|  no|telephone| 28|  jan|   112.0|     1.0| -1.0|     0.0| unknown|             no|[26.0,609.0,112.0...|[0.10769230769230...|      3.0|                 1.0|            0.0|          0.0|          1.0|      4.0|          2.0|        7.0|           0.0|                  0.0| (11,[3],[1.0])|     (2,[1],[1.0])|(3,[0],[1.0])|(1,[0],[1.0])|    (1,[],[])| (30,[4],[1.0])|    (2,[],[])|(11,[7],[1.0])|(3,[0],[1.0])|      (1,[0],[1.0])|(65,[3,12,13,16,2...|(71,[0,1,2,9,18,1...|  0.0|[16.8471472537080...|[0.84235736268540...|       0.0|\n",
      "| 26|       admin.|        single|secondary|     no| 3529.0|     no| yes| cellular|  7|  sep|    57.0|     2.0| -1.0|     0.0| unknown|             no|[26.0,3529.0,57.0...|[0.10769230769230...|      3.0|                 1.0|            0.0|          0.0|          1.0|      5.0|          0.0|        9.0|           0.0|                  0.0| (11,[3],[1.0])|     (2,[1],[1.0])|(3,[0],[1.0])|(1,[0],[1.0])|    (1,[],[])| (30,[5],[1.0])|(2,[0],[1.0])|(11,[9],[1.0])|(3,[0],[1.0])|      (1,[0],[1.0])|(65,[3,12,13,16,2...|(71,[0,1,2,5,9,18...|  1.0|[16.8058278695914...|[0.84029139347957...|       0.0|\n",
      "| 26|  blue-collar|       married|  primary|     no|    0.0|    yes|  no|  unknown| 21|  may|   425.0|     1.0| -1.0|     0.0| unknown|             no|[26.0,0.0,425.0,0...|[0.10769230769230...|      1.0|                 0.0|            2.0|          0.0|          0.0|      8.0|          1.0|        0.0|           0.0|                  0.0| (11,[1],[1.0])|     (2,[0],[1.0])|(3,[2],[1.0])|(1,[0],[1.0])|(1,[0],[1.0])| (30,[8],[1.0])|(2,[1],[1.0])|(11,[0],[1.0])|(3,[0],[1.0])|      (1,[0],[1.0])|(65,[1,11,15,16,1...|(71,[0,2,7,17,21,...|  0.0|[16.6753843656100...|[0.83376921828050...|       0.0|\n",
      "| 26|  blue-collar|        single|  primary|     no|  155.0|    yes|  no| cellular| 29|  jan|   291.0|     1.0|244.0|     4.0| failure|             no|[26.0,155.0,291.0...|[0.10769230769230...|      1.0|                 1.0|            2.0|          0.0|          0.0|     10.0|          0.0|        7.0|           1.0|                  0.0| (11,[1],[1.0])|     (2,[1],[1.0])|(3,[2],[1.0])|(1,[0],[1.0])|(1,[0],[1.0])|(30,[10],[1.0])|(2,[0],[1.0])|(11,[7],[1.0])|(3,[1],[1.0])|      (1,[0],[1.0])|(65,[1,12,15,16,1...|(71,[0,1,2,3,4,7,...|  0.0|[15.9913069051516...|[0.79956534525758...|       0.0|\n",
      "| 26|  blue-collar|        single|secondary|     no|  592.0|    yes| yes|  unknown| 27|  may|   174.0|     1.0| -1.0|     0.0| unknown|             no|[26.0,592.0,174.0...|[0.10769230769230...|      1.0|                 1.0|            0.0|          0.0|          0.0|     20.0|          1.0|        0.0|           0.0|                  0.0| (11,[1],[1.0])|     (2,[1],[1.0])|(3,[0],[1.0])|(1,[0],[1.0])|(1,[0],[1.0])|(30,[20],[1.0])|(2,[1],[1.0])|(11,[0],[1.0])|(3,[0],[1.0])|      (1,[0],[1.0])|(65,[1,12,13,16,1...|(71,[0,1,2,7,18,1...|  1.0|[16.4713666750841...|[0.82356833375420...|       0.0|\n",
      "| 26| entrepreneur|        single| tertiary|     no|   81.0|     no|  no| cellular| 21|  jul|   262.0|     3.0| -1.0|     0.0| unknown|             no|[26.0,81.0,262.0,...|[0.10769230769230...|      7.0|                 1.0|            1.0|          0.0|          1.0|      8.0|          0.0|        1.0|           0.0|                  0.0| (11,[7],[1.0])|     (2,[1],[1.0])|(3,[1],[1.0])|(1,[0],[1.0])|    (1,[],[])| (30,[8],[1.0])|(2,[0],[1.0])|(11,[1],[1.0])|(3,[0],[1.0])|      (1,[0],[1.0])|(65,[7,12,14,16,2...|(71,[0,1,2,5,13,1...|  0.0|[15.9024470912518...|[0.79512235456259...|       0.0|\n",
      "| 26|    housemaid|       married|secondary|     no|    0.0|    yes|  no| cellular| 11|  jul|   191.0|     1.0| -1.0|     0.0| unknown|             no|[26.0,0.0,191.0,0...|[0.10769230769230...|      9.0|                 0.0|            0.0|          0.0|          0.0|     15.0|          0.0|        1.0|           0.0|                  0.0| (11,[9],[1.0])|     (2,[0],[1.0])|(3,[0],[1.0])|(1,[0],[1.0])|(1,[0],[1.0])|(30,[15],[1.0])|(2,[0],[1.0])|(11,[1],[1.0])|(3,[0],[1.0])|      (1,[0],[1.0])|(65,[9,11,13,16,1...|(71,[0,2,15,17,19...|  0.0|[15.8236065367860...|[0.79118032683930...|       0.0|\n",
      "| 26|    housemaid|       married| tertiary|     no|  543.0|     no|  no| cellular| 30|  jan|   169.0|     3.0| -1.0|     0.0| unknown|             no|[26.0,543.0,169.0...|[0.10769230769230...|      9.0|                 0.0|            1.0|          0.0|          1.0|     13.0|          0.0|        7.0|           0.0|                  0.0| (11,[9],[1.0])|     (2,[0],[1.0])|(3,[1],[1.0])|(1,[0],[1.0])|    (1,[],[])|(30,[13],[1.0])|(2,[0],[1.0])|(11,[7],[1.0])|(3,[0],[1.0])|      (1,[0],[1.0])|(65,[9,11,14,16,3...|(71,[0,1,2,5,15,1...|  0.0|[17.1669718396504...|[0.85834859198252...|       0.0|\n",
      "| 26|   management|        single|secondary|     no|   63.0|     no|  no| cellular| 28|  jul|    76.0|     4.0| -1.0|     0.0| unknown|             no|[26.0,63.0,76.0,0...|[0.10769230769230...|      0.0|                 1.0|            0.0|          0.0|          1.0|      4.0|          0.0|        1.0|           0.0|                  0.0| (11,[0],[1.0])|     (2,[1],[1.0])|(3,[0],[1.0])|(1,[0],[1.0])|    (1,[],[])| (30,[4],[1.0])|(2,[0],[1.0])|(11,[1],[1.0])|(3,[0],[1.0])|      (1,[0],[1.0])|(65,[0,12,13,16,2...|(71,[0,1,2,5,6,18...|  0.0|[15.9204782564947...|[0.79602391282473...|       0.0|\n",
      "| 26|   management|        single| tertiary|     no|  205.0|     no|  no|  unknown| 26|  may|   111.0|     1.0| -1.0|     0.0| unknown|             no|[26.0,205.0,111.0...|[0.10769230769230...|      0.0|                 1.0|            1.0|          0.0|          1.0|     23.0|          1.0|        0.0|           0.0|                  0.0| (11,[0],[1.0])|     (2,[1],[1.0])|(3,[1],[1.0])|(1,[0],[1.0])|    (1,[],[])|(30,[23],[1.0])|(2,[1],[1.0])|(11,[0],[1.0])|(3,[0],[1.0])|      (1,[0],[1.0])|(65,[0,12,14,16,4...|(71,[0,1,2,6,18,2...|  0.0|[17.3688178698765...|[0.86844089349382...|       0.0|\n",
      "| 26|   management|        single| tertiary|     no|  350.0|     no|  no| cellular|  8|  jul|   367.0|     1.0| -1.0|     0.0| unknown|             no|[26.0,350.0,367.0...|[0.10769230769230...|      0.0|                 1.0|            1.0|          0.0|          1.0|     12.0|          0.0|        1.0|           0.0|                  0.0| (11,[0],[1.0])|     (2,[1],[1.0])|(3,[1],[1.0])|(1,[0],[1.0])|    (1,[],[])|(30,[12],[1.0])|(2,[0],[1.0])|(11,[1],[1.0])|(3,[0],[1.0])|      (1,[0],[1.0])|(65,[0,12,14,16,3...|(71,[0,1,2,6,18,2...|  0.0|[15.1084498755838...|[0.75542249377919...|       0.0|\n",
      "| 26|   management|        single| tertiary|     no| 1177.0|     no|  no| cellular| 19|  oct|   116.0|     1.0| -1.0|     0.0| unknown|             no|[26.0,1177.0,116....|[0.10769230769230...|      0.0|                 1.0|            1.0|          0.0|          1.0|      3.0|          0.0|        8.0|           0.0|                  0.0| (11,[0],[1.0])|     (2,[1],[1.0])|(3,[1],[1.0])|(1,[0],[1.0])|    (1,[],[])| (30,[3],[1.0])|(2,[0],[1.0])|(11,[8],[1.0])|(3,[0],[1.0])|      (1,[0],[1.0])|(65,[0,12,14,16,2...|(71,[0,1,2,6,18,2...|  0.0|[17.7726427247629...|[0.88863213623814...|       0.0|\n",
      "| 26|self-employed|        single| tertiary|     no|  211.0|     no|  no| cellular| 29|  jan|   168.0|     3.0| -1.0|     0.0| unknown|             no|[26.0,211.0,168.0...|[0.10769230769230...|      6.0|                 1.0|            1.0|          0.0|          1.0|     10.0|          0.0|        7.0|           0.0|                  0.0| (11,[6],[1.0])|     (2,[1],[1.0])|(3,[1],[1.0])|(1,[0],[1.0])|    (1,[],[])|(30,[10],[1.0])|(2,[0],[1.0])|(11,[7],[1.0])|(3,[0],[1.0])|      (1,[0],[1.0])|(65,[6,12,14,16,2...|(71,[0,1,2,5,12,1...|  0.0|[17.5205291861853...|[0.87602645930926...|       0.0|\n",
      "| 26|self-employed|        single| tertiary|     no| 1153.0|     no|  no| cellular|  4|  may|   238.0|     3.0| -1.0|     0.0| unknown|             no|[26.0,1153.0,238....|[0.10769230769230...|      6.0|                 1.0|            1.0|          0.0|          1.0|     19.0|          0.0|        0.0|           0.0|                  0.0| (11,[6],[1.0])|     (2,[1],[1.0])|(3,[1],[1.0])|(1,[0],[1.0])|    (1,[],[])|(30,[19],[1.0])|(2,[0],[1.0])|(11,[0],[1.0])|(3,[0],[1.0])|      (1,[0],[1.0])|(65,[6,12,14,16,3...|(71,[0,1,2,5,12,1...|  0.0|[17.6818481951552...|[0.88409240975776...|       0.0|\n",
      "| 26|     services|      divorced|secondary|     no|   74.0|    yes|  no|  unknown| 23|  may|   106.0|     6.0| -1.0|     0.0| unknown|             no|[26.0,74.0,106.0,...|[0.10769230769230...|      4.0|                 2.0|            0.0|          0.0|          0.0|     24.0|          1.0|        0.0|           0.0|                  0.0| (11,[4],[1.0])|         (2,[],[])|(3,[0],[1.0])|(1,[0],[1.0])|(1,[0],[1.0])|(30,[24],[1.0])|(2,[1],[1.0])|(11,[0],[1.0])|(3,[0],[1.0])|      (1,[0],[1.0])|(65,[4,13,16,17,4...|(71,[0,1,2,5,10,1...|  0.0|[16.2677880883113...|[0.81338940441556...|       0.0|\n",
      "| 26|     services|        single|secondary|     no|   50.0|    yes|  no| cellular| 12|  aug|   153.0|     1.0| -1.0|     0.0| unknown|             no|[26.0,50.0,153.0,...|[0.10769230769230...|      4.0|                 1.0|            0.0|          0.0|          0.0|     18.0|          0.0|        2.0|           0.0|                  0.0| (11,[4],[1.0])|     (2,[1],[1.0])|(3,[0],[1.0])|(1,[0],[1.0])|(1,[0],[1.0])|(30,[18],[1.0])|(2,[0],[1.0])|(11,[2],[1.0])|(3,[0],[1.0])|      (1,[0],[1.0])|(65,[4,12,13,16,1...|(71,[0,1,2,10,18,...|  0.0|[16.2836547500993...|[0.81418273750496...|       0.0|\n",
      "| 26|     services|        single|secondary|     no|  127.0|    yes| yes| cellular| 23|  jul|    85.0|     3.0| -1.0|     0.0| unknown|             no|[26.0,127.0,85.0,...|[0.10769230769230...|      4.0|                 1.0|            0.0|          0.0|          0.0|     24.0|          0.0|        1.0|           0.0|                  0.0| (11,[4],[1.0])|     (2,[1],[1.0])|(3,[0],[1.0])|(1,[0],[1.0])|(1,[0],[1.0])|(30,[24],[1.0])|(2,[0],[1.0])|(11,[1],[1.0])|(3,[0],[1.0])|      (1,[0],[1.0])|(65,[4,12,13,16,1...|(71,[0,1,2,5,10,1...|  1.0|[16.3620087586862...|[0.81810043793431...|       0.0|\n",
      "| 26|     services|        single|secondary|     no|  256.0|    yes|  no| cellular|  4|  may|   101.0|     2.0| -1.0|     0.0| unknown|             no|[26.0,256.0,101.0...|[0.10769230769230...|      4.0|                 1.0|            0.0|          0.0|          0.0|     19.0|          0.0|        0.0|           0.0|                  0.0| (11,[4],[1.0])|     (2,[1],[1.0])|(3,[0],[1.0])|(1,[0],[1.0])|(1,[0],[1.0])|(30,[19],[1.0])|(2,[0],[1.0])|(11,[0],[1.0])|(3,[0],[1.0])|      (1,[0],[1.0])|(65,[4,12,13,16,1...|(71,[0,1,2,5,10,1...|  0.0|[16.6684145886425...|[0.83342072943212...|       0.0|\n",
      "| 26|     services|        single|secondary|     no| 5533.0|    yes|  no| cellular|  7|  may|   582.0|     2.0|283.0|     4.0| failure|             no|[26.0,5533.0,582....|[0.10769230769230...|      4.0|                 1.0|            0.0|          0.0|          0.0|      5.0|          0.0|        0.0|           1.0|                  0.0| (11,[4],[1.0])|     (2,[1],[1.0])|(3,[0],[1.0])|(1,[0],[1.0])|(1,[0],[1.0])| (30,[5],[1.0])|(2,[0],[1.0])|(11,[0],[1.0])|(3,[1],[1.0])|      (1,[0],[1.0])|(65,[4,12,13,16,1...|(71,[0,1,2,3,4,5,...|  0.0|[16.9609519484786...|[0.84804759742393...|       0.0|\n",
      "| 26|   technician|        single| tertiary|     no|   75.0|    yes| yes|  unknown| 19|  may|   351.0|     1.0| -1.0|     0.0| unknown|             no|[26.0,75.0,351.0,...|[0.10769230769230...|      2.0|                 1.0|            1.0|          0.0|          0.0|      3.0|          1.0|        0.0|           0.0|                  0.0| (11,[2],[1.0])|     (2,[1],[1.0])|(3,[1],[1.0])|(1,[0],[1.0])|(1,[0],[1.0])| (30,[3],[1.0])|(2,[1],[1.0])|(11,[0],[1.0])|(3,[0],[1.0])|      (1,[0],[1.0])|(65,[2,12,14,16,1...|(71,[0,1,2,8,18,2...|  1.0|[17.0548333825520...|[0.85274166912760...|       0.0|\n",
      "| 27|       admin.|      divorced|secondary|     no|  451.0|    yes|  no| cellular| 16|  jul|   652.0|     1.0| -1.0|     0.0| unknown|            yes|[27.0,451.0,652.0...|[0.12307692307692...|      3.0|                 2.0|            0.0|          0.0|          0.0|     14.0|          0.0|        1.0|           0.0|                  1.0| (11,[3],[1.0])|         (2,[],[])|(3,[0],[1.0])|(1,[0],[1.0])|(1,[0],[1.0])|(30,[14],[1.0])|(2,[0],[1.0])|(11,[1],[1.0])|(3,[0],[1.0])|          (1,[],[])|(65,[3,13,16,17,3...|(71,[0,1,2,9,19,2...|  0.0|[14.8831588086338...|[0.74415794043169...|       0.0|\n",
      "| 27|       admin.|       married|secondary|     no|  897.0|     no|  no| cellular|  5|  jun|   397.0|     1.0| -1.0|     0.0| unknown|            yes|[27.0,897.0,397.0...|[0.12307692307692...|      3.0|                 0.0|            0.0|          0.0|          1.0|     11.0|          0.0|        3.0|           0.0|                  1.0| (11,[3],[1.0])|     (2,[0],[1.0])|(3,[0],[1.0])|(1,[0],[1.0])|    (1,[],[])|(30,[11],[1.0])|(2,[0],[1.0])|(11,[3],[1.0])|(3,[0],[1.0])|          (1,[],[])|(65,[3,11,13,16,2...|(71,[0,1,2,9,17,1...|  0.0|[17.810936158381,...|[0.89054680791905...|       0.0|\n",
      "| 27|       admin.|       married|secondary|     no| 1033.0|    yes|  no|  unknown|  9|  may|  1713.0|     1.0| -1.0|     0.0| unknown|             no|[27.0,1033.0,1713...|[0.12307692307692...|      3.0|                 0.0|            0.0|          0.0|          0.0|     16.0|          1.0|        0.0|           0.0|                  0.0| (11,[3],[1.0])|     (2,[0],[1.0])|(3,[0],[1.0])|(1,[0],[1.0])|(1,[0],[1.0])|(30,[16],[1.0])|(2,[1],[1.0])|(11,[0],[1.0])|(3,[0],[1.0])|      (1,[0],[1.0])|(65,[3,11,13,16,1...|(71,[0,1,2,9,17,1...|  0.0|[16.6857623912518...|[0.83428811956259...|       0.0|\n",
      "| 27|       admin.|       married|secondary|    yes|    0.0|    yes|  no| cellular| 14|  jul|   172.0|     3.0| -1.0|     0.0| unknown|             no|[27.0,0.0,172.0,0...|[0.12307692307692...|      3.0|                 0.0|            0.0|          1.0|          0.0|      2.0|          0.0|        1.0|           0.0|                  0.0| (11,[3],[1.0])|     (2,[0],[1.0])|(3,[0],[1.0])|    (1,[],[])|(1,[0],[1.0])| (30,[2],[1.0])|(2,[0],[1.0])|(11,[1],[1.0])|(3,[0],[1.0])|      (1,[0],[1.0])|(65,[3,11,13,17,2...|(71,[0,2,5,9,17,1...|  0.0|[13.6678541465882...|[0.68339270732941...|       0.0|\n",
      "| 27|       admin.|        single|secondary|     no| 3638.0|     no|  no| cellular| 11|  jul|   271.0|     5.0| -1.0|     0.0| unknown|             no|[27.0,3638.0,271....|[0.12307692307692...|      3.0|                 1.0|            0.0|          0.0|          1.0|     15.0|          0.0|        1.0|           0.0|                  0.0| (11,[3],[1.0])|     (2,[1],[1.0])|(3,[0],[1.0])|(1,[0],[1.0])|    (1,[],[])|(30,[15],[1.0])|(2,[0],[1.0])|(11,[1],[1.0])|(3,[0],[1.0])|      (1,[0],[1.0])|(65,[3,12,13,16,3...|(71,[0,1,2,5,9,18...|  0.0|[15.4768866548707...|[0.77384433274353...|       0.0|\n",
      "| 27|  blue-collar|       married|secondary|    yes|    0.0|    yes|  no| cellular|  7|  may|   411.0|     2.0| -1.0|     0.0| unknown|             no|[27.0,0.0,411.0,0...|[0.12307692307692...|      1.0|                 0.0|            0.0|          1.0|          0.0|      5.0|          0.0|        0.0|           0.0|                  0.0| (11,[1],[1.0])|     (2,[0],[1.0])|(3,[0],[1.0])|    (1,[],[])|(1,[0],[1.0])| (30,[5],[1.0])|(2,[0],[1.0])|(11,[0],[1.0])|(3,[0],[1.0])|      (1,[0],[1.0])|(65,[1,11,13,17,2...|(71,[0,2,5,7,17,1...|  0.0|[15.7061627993921...|[0.78530813996960...|       0.0|\n",
      "| 27|  blue-collar|        single|secondary|     no|    5.0|    yes|  no|  unknown| 19|  may|   205.0|     3.0| -1.0|     0.0| unknown|             no|[27.0,5.0,205.0,0...|[0.12307692307692...|      1.0|                 1.0|            0.0|          0.0|          0.0|      3.0|          1.0|        0.0|           0.0|                  0.0| (11,[1],[1.0])|     (2,[1],[1.0])|(3,[0],[1.0])|(1,[0],[1.0])|(1,[0],[1.0])| (30,[3],[1.0])|(2,[1],[1.0])|(11,[0],[1.0])|(3,[0],[1.0])|      (1,[0],[1.0])|(65,[1,12,13,16,1...|(71,[0,1,2,5,7,18...|  0.0|[16.5521994488181...|[0.82760997244090...|       0.0|\n",
      "| 27|  blue-collar|        single|secondary|     no|  148.0|     no|  no| cellular| 22|  jul|   203.0|     1.0| -1.0|     0.0| unknown|             no|[27.0,148.0,203.0...|[0.12307692307692...|      1.0|                 1.0|            0.0|          0.0|          1.0|     26.0|          0.0|        1.0|           0.0|                  0.0| (11,[1],[1.0])|     (2,[1],[1.0])|(3,[0],[1.0])|(1,[0],[1.0])|    (1,[],[])|(30,[26],[1.0])|(2,[0],[1.0])|(11,[1],[1.0])|(3,[0],[1.0])|      (1,[0],[1.0])|(65,[1,12,13,16,4...|(71,[0,1,2,7,18,1...|  0.0|[15.1477799586904...|[0.75738899793452...|       0.0|\n",
      "| 27| entrepreneur|        single| tertiary|     no|   81.0|     no|  no| cellular|  5|  feb|   197.0|     1.0|199.0|     3.0| failure|             no|[27.0,81.0,197.0,...|[0.12307692307692...|      7.0|                 1.0|            1.0|          0.0|          1.0|     11.0|          0.0|        6.0|           1.0|                  0.0| (11,[7],[1.0])|     (2,[1],[1.0])|(3,[1],[1.0])|(1,[0],[1.0])|    (1,[],[])|(30,[11],[1.0])|(2,[0],[1.0])|(11,[6],[1.0])|(3,[1],[1.0])|      (1,[0],[1.0])|(65,[7,12,14,16,2...|(71,[0,1,2,3,4,13...|  0.0|[15.8025771360346...|[0.79012885680173...|       0.0|\n",
      "| 27|   management|        single| tertiary|     no|    0.0|    yes|  no| cellular| 30|  jan|   323.0|     4.0| -1.0|     0.0| unknown|             no|[27.0,0.0,323.0,0...|[0.12307692307692...|      0.0|                 1.0|            1.0|          0.0|          0.0|     13.0|          0.0|        7.0|           0.0|                  0.0| (11,[0],[1.0])|     (2,[1],[1.0])|(3,[1],[1.0])|(1,[0],[1.0])|(1,[0],[1.0])|(30,[13],[1.0])|(2,[0],[1.0])|(11,[7],[1.0])|(3,[0],[1.0])|      (1,[0],[1.0])|(65,[0,12,14,16,1...|(71,[0,2,5,6,18,2...|  0.0|[17.2602143686900...|[0.86301071843450...|       0.0|\n",
      "| 27|   management|        single| tertiary|     no|   88.0|     no|  no| cellular|  4|  may|   143.0|     1.0| -1.0|     0.0| unknown|             no|[27.0,88.0,143.0,...|[0.12307692307692...|      0.0|                 1.0|            1.0|          0.0|          1.0|     19.0|          0.0|        0.0|           0.0|                  0.0| (11,[0],[1.0])|     (2,[1],[1.0])|(3,[1],[1.0])|(1,[0],[1.0])|    (1,[],[])|(30,[19],[1.0])|(2,[0],[1.0])|(11,[0],[1.0])|(3,[0],[1.0])|      (1,[0],[1.0])|(65,[0,12,14,16,3...|(71,[0,1,2,6,18,2...|  0.0|[17.3688178698765...|[0.86844089349382...|       0.0|\n",
      "| 27|   management|        single| tertiary|     no|  390.0|     no|  no| cellular| 28|  oct|   190.0|     1.0| 82.0|     1.0| success|             no|[27.0,390.0,190.0...|[0.12307692307692...|      0.0|                 1.0|            1.0|          0.0|          1.0|      4.0|          0.0|        8.0|           3.0|                  0.0| (11,[0],[1.0])|     (2,[1],[1.0])|(3,[1],[1.0])|(1,[0],[1.0])|    (1,[],[])| (30,[4],[1.0])|(2,[0],[1.0])|(11,[8],[1.0])|    (3,[],[])|      (1,[0],[1.0])|(65,[0,12,14,16,2...|(71,[0,1,2,3,4,6,...|  0.0|[17.4114125916484...|[0.87057062958242...|       0.0|\n",
      "| 27|   management|        single| tertiary|    yes|    0.0|     no| yes| cellular|  8|  jul|    46.0|     1.0| -1.0|     0.0| unknown|             no|[27.0,0.0,46.0,0....|[0.12307692307692...|      0.0|                 1.0|            1.0|          1.0|          1.0|     12.0|          0.0|        1.0|           0.0|                  0.0| (11,[0],[1.0])|     (2,[1],[1.0])|(3,[1],[1.0])|    (1,[],[])|    (1,[],[])|(30,[12],[1.0])|(2,[0],[1.0])|(11,[1],[1.0])|(3,[0],[1.0])|      (1,[0],[1.0])|(65,[0,12,14,30,4...|(71,[0,2,6,18,20,...|  1.0|[14.1958572078288...|[0.70979286039144...|       0.0|\n",
      "| 27|     services|      divorced|secondary|     no|   10.0|    yes|  no| cellular| 22|  jul|   527.0|     1.0| -1.0|     0.0| unknown|             no|[27.0,10.0,527.0,...|[0.12307692307692...|      4.0|                 2.0|            0.0|          0.0|          0.0|     26.0|          0.0|        1.0|           0.0|                  0.0| (11,[4],[1.0])|         (2,[],[])|(3,[0],[1.0])|(1,[0],[1.0])|(1,[0],[1.0])|(30,[26],[1.0])|(2,[0],[1.0])|(11,[1],[1.0])|(3,[0],[1.0])|      (1,[0],[1.0])|(65,[4,13,16,17,4...|(71,[0,1,2,10,19,...|  0.0|[15.8532684642611...|[0.79266342321305...|       0.0|\n",
      "| 27|     services|       married|secondary|     no|    0.0|    yes|  no| cellular| 22|  jul|  1608.0|    13.0| -1.0|     0.0| unknown|            yes|[27.0,0.0,1608.0,...|[0.12307692307692...|      4.0|                 0.0|            0.0|          0.0|          0.0|     26.0|          0.0|        1.0|           0.0|                  1.0| (11,[4],[1.0])|     (2,[0],[1.0])|(3,[0],[1.0])|(1,[0],[1.0])|(1,[0],[1.0])|(30,[26],[1.0])|(2,[0],[1.0])|(11,[1],[1.0])|(3,[0],[1.0])|          (1,[],[])|(65,[4,11,13,16,1...|(71,[0,2,5,10,17,...|  0.0|[15.6238746423786...|[0.78119373211893...|       0.0|\n",
      "| 27|     services|       married|secondary|     no|    0.0|    yes|  no|  unknown|  4|  jun|   749.0|     2.0| -1.0|     0.0| unknown|             no|[27.0,0.0,749.0,0...|[0.12307692307692...|      4.0|                 0.0|            0.0|          0.0|          0.0|     19.0|          1.0|        3.0|           0.0|                  0.0| (11,[4],[1.0])|     (2,[0],[1.0])|(3,[0],[1.0])|(1,[0],[1.0])|(1,[0],[1.0])|(30,[19],[1.0])|(2,[1],[1.0])|(11,[3],[1.0])|(3,[0],[1.0])|      (1,[0],[1.0])|(65,[4,11,13,16,1...|(71,[0,2,5,10,17,...|  0.0|[16.4815876430184...|[0.82407938215092...|       0.0|\n",
      "| 27|     services|       married|secondary|     no|   54.0|    yes|  no| cellular| 18|  may|    97.0|     1.0|370.0|     1.0| failure|             no|[27.0,54.0,97.0,1...|[0.12307692307692...|      4.0|                 0.0|            0.0|          0.0|          0.0|      1.0|          0.0|        0.0|           1.0|                  0.0| (11,[4],[1.0])|     (2,[0],[1.0])|(3,[0],[1.0])|(1,[0],[1.0])|(1,[0],[1.0])| (30,[1],[1.0])|(2,[0],[1.0])|(11,[0],[1.0])|(3,[1],[1.0])|      (1,[0],[1.0])|(65,[4,11,13,16,1...|(71,[0,1,2,3,4,10...|  0.0|[16.3206373497790...|[0.81603186748895...|       0.0|\n",
      "| 27|     services|       married|secondary|     no|   58.0|    yes|  no| cellular|  7|  may|   113.0|     1.0|337.0|     2.0|   other|             no|[27.0,58.0,113.0,...|[0.12307692307692...|      4.0|                 0.0|            0.0|          0.0|          0.0|      5.0|          0.0|        0.0|           2.0|                  0.0| (11,[4],[1.0])|     (2,[0],[1.0])|(3,[0],[1.0])|(1,[0],[1.0])|(1,[0],[1.0])| (30,[5],[1.0])|(2,[0],[1.0])|(11,[0],[1.0])|(3,[2],[1.0])|      (1,[0],[1.0])|(65,[4,11,13,16,1...|(71,[0,1,2,3,4,10...|  0.0|[16.2125923717792...|[0.81062961858895...|       0.0|\n",
      "| 27|     services|        single|secondary|     no|  261.0|    yes| yes| cellular| 18|  may|   113.0|     1.0| -1.0|     0.0| unknown|             no|[27.0,261.0,113.0...|[0.12307692307692...|      4.0|                 1.0|            0.0|          0.0|          0.0|      1.0|          0.0|        0.0|           0.0|                  0.0| (11,[4],[1.0])|     (2,[1],[1.0])|(3,[0],[1.0])|(1,[0],[1.0])|(1,[0],[1.0])| (30,[1],[1.0])|(2,[0],[1.0])|(11,[0],[1.0])|(3,[0],[1.0])|      (1,[0],[1.0])|(65,[4,12,13,16,1...|(71,[0,1,2,10,18,...|  1.0|[16.4802566939057...|[0.82401283469528...|       0.0|\n",
      "| 27|     services|        single|secondary|     no|  795.0|     no|  no| cellular|  6|  feb|   101.0|     3.0| -1.0|     0.0| unknown|             no|[27.0,795.0,101.0...|[0.12307692307692...|      4.0|                 1.0|            0.0|          0.0|          1.0|      6.0|          0.0|        6.0|           0.0|                  0.0| (11,[4],[1.0])|     (2,[1],[1.0])|(3,[0],[1.0])|(1,[0],[1.0])|    (1,[],[])| (30,[6],[1.0])|(2,[0],[1.0])|(11,[6],[1.0])|(3,[0],[1.0])|      (1,[0],[1.0])|(65,[4,12,13,16,2...|(71,[0,1,2,5,10,1...|  0.0|[16.9758594396497...|[0.84879297198248...|       0.0|\n",
      "| 27|     services|        single|secondary|     no| 3354.0|    yes|  no| cellular| 14|  may|   493.0|     5.0| -1.0|     0.0| unknown|             no|[27.0,3354.0,493....|[0.12307692307692...|      4.0|                 1.0|            0.0|          0.0|          0.0|      2.0|          0.0|        0.0|           0.0|                  0.0| (11,[4],[1.0])|     (2,[1],[1.0])|(3,[0],[1.0])|(1,[0],[1.0])|(1,[0],[1.0])| (30,[2],[1.0])|(2,[0],[1.0])|(11,[0],[1.0])|(3,[0],[1.0])|      (1,[0],[1.0])|(65,[4,12,13,16,1...|(71,[0,1,2,5,10,1...|  0.0|[16.9689608275767...|[0.84844804137883...|       0.0|\n",
      "| 27|     services|        single|secondary|    yes|    0.0|     no|  no| cellular| 22|  jul|    60.0|     2.0| -1.0|     0.0| unknown|             no|[27.0,0.0,60.0,0....|[0.12307692307692...|      4.0|                 1.0|            0.0|          1.0|          1.0|     26.0|          0.0|        1.0|           0.0|                  0.0| (11,[4],[1.0])|     (2,[1],[1.0])|(3,[0],[1.0])|    (1,[],[])|    (1,[],[])|(30,[26],[1.0])|(2,[0],[1.0])|(11,[1],[1.0])|(3,[0],[1.0])|      (1,[0],[1.0])|(65,[4,12,13,44,4...|(71,[0,2,5,10,18,...|  0.0|[15.4431949673160...|[0.77215974836580...|       0.0|\n",
      "| 27|      student|        single|secondary|     no|  671.0|    yes|  no|  unknown|  7|  may|   332.0|     2.0| -1.0|     0.0| unknown|             no|[27.0,671.0,332.0...|[0.12307692307692...|     10.0|                 1.0|            0.0|          0.0|          0.0|      5.0|          1.0|        0.0|           0.0|                  0.0|(11,[10],[1.0])|     (2,[1],[1.0])|(3,[0],[1.0])|(1,[0],[1.0])|(1,[0],[1.0])| (30,[5],[1.0])|(2,[1],[1.0])|(11,[0],[1.0])|(3,[0],[1.0])|      (1,[0],[1.0])|(65,[10,12,13,16,...|(71,[0,1,2,5,16,1...|  0.0|[17.7142507537947...|[0.88571253768973...|       0.0|\n",
      "| 27|      student|        single| tertiary|     no| 3733.0|    yes|  no| cellular| 22|  may|   198.0|     1.0| 98.0|     6.0| success|            yes|[27.0,3733.0,198....|[0.12307692307692...|     10.0|                 1.0|            1.0|          0.0|          0.0|     26.0|          0.0|        0.0|           3.0|                  1.0|(11,[10],[1.0])|     (2,[1],[1.0])|(3,[1],[1.0])|(1,[0],[1.0])|(1,[0],[1.0])|(30,[26],[1.0])|(2,[0],[1.0])|(11,[0],[1.0])|    (3,[],[])|          (1,[],[])|(65,[10,12,14,16,...|(71,[0,1,2,3,4,16...|  0.0|[18.6445870554581...|[0.93222935277290...|       0.0|\n",
      "| 27|      student|        single| tertiary|     no| 5291.0|     no|  no| cellular| 12|  nov|   192.0|     2.0| 92.0|     2.0| failure|            yes|[27.0,5291.0,192....|[0.12307692307692...|     10.0|                 1.0|            1.0|          0.0|          1.0|     18.0|          0.0|        4.0|           1.0|                  1.0|(11,[10],[1.0])|     (2,[1],[1.0])|(3,[1],[1.0])|(1,[0],[1.0])|    (1,[],[])|(30,[18],[1.0])|(2,[0],[1.0])|(11,[4],[1.0])|(3,[1],[1.0])|          (1,[],[])|(65,[10,12,14,16,...|(71,[0,1,2,3,4,5,...|  0.0|[18.5944861959230...|[0.92972430979615...|       0.0|\n",
      "| 27|   technician|       married|secondary|     no|  130.0|    yes|  no| cellular|  7|  may|   265.0|     3.0| -1.0|     0.0| unknown|             no|[27.0,130.0,265.0...|[0.12307692307692...|      2.0|                 0.0|            0.0|          0.0|          0.0|      5.0|          0.0|        0.0|           0.0|                  0.0| (11,[2],[1.0])|     (2,[0],[1.0])|(3,[0],[1.0])|(1,[0],[1.0])|(1,[0],[1.0])| (30,[5],[1.0])|(2,[0],[1.0])|(11,[0],[1.0])|(3,[0],[1.0])|      (1,[0],[1.0])|(65,[2,11,13,16,1...|(71,[0,1,2,5,8,17...|  0.0|[16.4178262631008...|[0.82089131315504...|       0.0|\n",
      "| 27|   technician|        single|secondary|     no|  282.0|     no| yes| cellular|  9|  jul|   676.0|     5.0| -1.0|     0.0| unknown|             no|[27.0,282.0,676.0...|[0.12307692307692...|      2.0|                 1.0|            0.0|          0.0|          1.0|     16.0|          0.0|        1.0|           0.0|                  0.0| (11,[2],[1.0])|     (2,[1],[1.0])|(3,[0],[1.0])|(1,[0],[1.0])|    (1,[],[])|(30,[16],[1.0])|(2,[0],[1.0])|(11,[1],[1.0])|(3,[0],[1.0])|      (1,[0],[1.0])|(65,[2,12,13,16,3...|(71,[0,1,2,5,8,18...|  1.0|[15.7434622029250...|[0.78717311014625...|       0.0|\n",
      "| 27|   technician|        single|secondary|     no|  769.0|    yes|  no|  unknown|  9|  may|   317.0|     2.0| -1.0|     0.0| unknown|             no|[27.0,769.0,317.0...|[0.12307692307692...|      2.0|                 1.0|            0.0|          0.0|          0.0|     16.0|          1.0|        0.0|           0.0|                  0.0| (11,[2],[1.0])|     (2,[1],[1.0])|(3,[0],[1.0])|(1,[0],[1.0])|(1,[0],[1.0])|(30,[16],[1.0])|(2,[1],[1.0])|(11,[0],[1.0])|(3,[0],[1.0])|      (1,[0],[1.0])|(65,[2,12,13,16,1...|(71,[0,1,2,5,8,18...|  0.0|[17.1540012620688...|[0.85770006310344...|       0.0|\n",
      "| 27|   technician|        single|secondary|     no|  842.0|     no|  no| cellular| 30|  jul|   273.0|     1.0| 91.0|     1.0|   other|             no|[27.0,842.0,273.0...|[0.12307692307692...|      2.0|                 1.0|            0.0|          0.0|          1.0|     13.0|          0.0|        1.0|           2.0|                  0.0| (11,[2],[1.0])|     (2,[1],[1.0])|(3,[0],[1.0])|(1,[0],[1.0])|    (1,[],[])|(30,[13],[1.0])|(2,[0],[1.0])|(11,[1],[1.0])|(3,[2],[1.0])|      (1,[0],[1.0])|(65,[2,12,13,16,3...|(71,[0,1,2,3,4,8,...|  0.0|[15.9767271546200...|[0.79883635773100...|       0.0|\n",
      "| 27|   technician|        single| tertiary|     no|  808.0|    yes|  no| cellular| 15|  may|   578.0|     1.0|364.0|     1.0|   other|             no|[27.0,808.0,578.0...|[0.12307692307692...|      2.0|                 1.0|            1.0|          0.0|          0.0|      7.0|          0.0|        0.0|           2.0|                  0.0| (11,[2],[1.0])|     (2,[1],[1.0])|(3,[1],[1.0])|(1,[0],[1.0])|(1,[0],[1.0])| (30,[7],[1.0])|(2,[0],[1.0])|(11,[0],[1.0])|(3,[2],[1.0])|      (1,[0],[1.0])|(65,[2,12,14,16,1...|(71,[0,1,2,3,4,8,...|  0.0|[17.6475865372864...|[0.88237932686432...|       0.0|\n",
      "| 27|   technician|        single| tertiary|     no| 3083.0|    yes|  no|  unknown| 29|  may|   244.0|     2.0| -1.0|     0.0| unknown|             no|[27.0,3083.0,244....|[0.12307692307692...|      2.0|                 1.0|            1.0|          0.0|          0.0|     10.0|          1.0|        0.0|           0.0|                  0.0| (11,[2],[1.0])|     (2,[1],[1.0])|(3,[1],[1.0])|(1,[0],[1.0])|(1,[0],[1.0])|(30,[10],[1.0])|(2,[1],[1.0])|(11,[0],[1.0])|(3,[0],[1.0])|      (1,[0],[1.0])|(65,[2,12,14,16,1...|(71,[0,1,2,5,8,18...|  0.0|[17.7049315252196...|[0.88524657626098...|       0.0|\n",
      "| 27|   technician|        single|  unknown|     no|   59.0|     no|  no| cellular| 15|  jul|   792.0|     4.0| -1.0|     0.0| unknown|             no|[27.0,59.0,792.0,...|[0.12307692307692...|      2.0|                 1.0|            3.0|          0.0|          1.0|      7.0|          0.0|        1.0|           0.0|                  0.0| (11,[2],[1.0])|     (2,[1],[1.0])|    (3,[],[])|(1,[0],[1.0])|    (1,[],[])| (30,[7],[1.0])|(2,[0],[1.0])|(11,[1],[1.0])|(3,[0],[1.0])|      (1,[0],[1.0])|(65,[2,12,16,25,4...|(71,[0,1,2,5,8,18...|  0.0|[16.1652091933995...|[0.80826045966997...|       0.0|\n",
      "| 27|   unemployed|        single| tertiary|     no|    1.0|     no|  no| cellular|  3|  feb|    65.0|     2.0| -1.0|     0.0| unknown|             no|[27.0,1.0,65.0,0....|[0.12307692307692...|      8.0|                 1.0|            1.0|          0.0|          1.0|     22.0|          0.0|        6.0|           0.0|                  0.0| (11,[8],[1.0])|     (2,[1],[1.0])|(3,[1],[1.0])|(1,[0],[1.0])|    (1,[],[])|(30,[22],[1.0])|(2,[0],[1.0])|(11,[6],[1.0])|(3,[0],[1.0])|      (1,[0],[1.0])|(65,[8,12,14,16,4...|(71,[0,1,2,5,14,1...|  0.0|[17.4854584719086...|[0.87427292359543...|       0.0|\n",
      "| 27|      unknown|        single| tertiary|     no| 6421.0|     no|  no|telephone| 28|  jan|   147.0|     4.0| -1.0|     0.0| unknown|             no|[27.0,6421.0,147....|[0.12307692307692...|     11.0|                 1.0|            1.0|          0.0|          1.0|      4.0|          2.0|        7.0|           0.0|                  0.0|     (11,[],[])|     (2,[1],[1.0])|(3,[1],[1.0])|(1,[0],[1.0])|    (1,[],[])| (30,[4],[1.0])|    (2,[],[])|(11,[7],[1.0])|(3,[0],[1.0])|      (1,[0],[1.0])|(65,[12,14,16,22,...|(71,[0,1,2,5,18,2...|  0.0|[17.9129785065732...|[0.89564892532866...|       0.0|\n",
      "| 28|       admin.|       married|secondary|     no|    0.0|    yes|  no| cellular| 29|  jan|    79.0|     1.0|225.0|     2.0| success|             no|[28.0,0.0,79.0,2....|[0.13846153846153...|      3.0|                 0.0|            0.0|          0.0|          0.0|     10.0|          0.0|        7.0|           3.0|                  0.0| (11,[3],[1.0])|     (2,[0],[1.0])|(3,[0],[1.0])|(1,[0],[1.0])|(1,[0],[1.0])|(30,[10],[1.0])|(2,[0],[1.0])|(11,[7],[1.0])|    (3,[],[])|      (1,[0],[1.0])|(65,[3,11,13,16,1...|(71,[0,2,3,4,9,17...|  0.0|[16.4941275074922...|[0.82470637537461...|       0.0|\n",
      "| 28|       admin.|        single|secondary|     no|   26.0|    yes|  no| cellular|  7|  may|   227.0|     2.0| -1.0|     0.0| unknown|             no|[28.0,26.0,227.0,...|[0.13846153846153...|      3.0|                 1.0|            0.0|          0.0|          0.0|      5.0|          0.0|        0.0|           0.0|                  0.0| (11,[3],[1.0])|     (2,[1],[1.0])|(3,[0],[1.0])|(1,[0],[1.0])|(1,[0],[1.0])| (30,[5],[1.0])|(2,[0],[1.0])|(11,[0],[1.0])|(3,[0],[1.0])|      (1,[0],[1.0])|(65,[3,12,13,16,1...|(71,[0,1,2,5,9,18...|  0.0|[16.5109769431215...|[0.82554884715607...|       0.0|\n",
      "| 28|       admin.|        single|secondary|     no|  189.0|    yes|  no| cellular| 31|  jul|    68.0|     2.0| -1.0|     0.0| unknown|             no|[28.0,189.0,68.0,...|[0.13846153846153...|      3.0|                 1.0|            0.0|          0.0|          0.0|     28.0|          0.0|        1.0|           0.0|                  0.0| (11,[3],[1.0])|     (2,[1],[1.0])|(3,[0],[1.0])|(1,[0],[1.0])|(1,[0],[1.0])|(30,[28],[1.0])|(2,[0],[1.0])|(11,[1],[1.0])|(3,[0],[1.0])|      (1,[0],[1.0])|(65,[3,12,13,16,1...|(71,[0,1,2,5,9,18...|  0.0|[15.4074134523139...|[0.77037067261569...|       0.0|\n",
      "| 28|       admin.|        single|secondary|     no| 1323.0|    yes|  no|  unknown|  3|  jun|   361.0|     1.0| -1.0|     0.0| unknown|             no|[28.0,1323.0,361....|[0.13846153846153...|      3.0|                 1.0|            0.0|          0.0|          0.0|     22.0|          1.0|        3.0|           0.0|                  0.0| (11,[3],[1.0])|     (2,[1],[1.0])|(3,[0],[1.0])|(1,[0],[1.0])|(1,[0],[1.0])|(30,[22],[1.0])|(2,[1],[1.0])|(11,[3],[1.0])|(3,[0],[1.0])|      (1,[0],[1.0])|(65,[3,12,13,16,1...|(71,[0,1,2,9,18,1...|  0.0|[16.9110289277565...|[0.84555144638782...|       0.0|\n",
      "| 28|       admin.|        single|secondary|     no| 4745.0|     no|  no|telephone| 12|  may|   360.0|     1.0|181.0|     5.0| success|            yes|[28.0,4745.0,360....|[0.13846153846153...|      3.0|                 1.0|            0.0|          0.0|          1.0|     18.0|          2.0|        0.0|           3.0|                  1.0| (11,[3],[1.0])|     (2,[1],[1.0])|(3,[0],[1.0])|(1,[0],[1.0])|    (1,[],[])|(30,[18],[1.0])|    (2,[],[])|(11,[0],[1.0])|    (3,[],[])|          (1,[],[])|(65,[3,12,13,16,3...|(71,[0,1,2,3,4,9,...|  0.0|[18.2590328628504...|[0.91295164314252...|       0.0|\n",
      "| 28|  blue-collar|       married|secondary|     no|  373.0|    yes|  no| cellular| 14|  may|    10.0|     9.0|344.0|     1.0| failure|             no|[28.0,373.0,10.0,...|[0.13846153846153...|      1.0|                 0.0|            0.0|          0.0|          0.0|      2.0|          0.0|        0.0|           1.0|                  0.0| (11,[1],[1.0])|     (2,[0],[1.0])|(3,[0],[1.0])|(1,[0],[1.0])|(1,[0],[1.0])| (30,[2],[1.0])|(2,[0],[1.0])|(11,[0],[1.0])|(3,[1],[1.0])|      (1,[0],[1.0])|(65,[1,11,13,16,1...|(71,[0,1,2,3,4,5,...|  0.0|[16.5503470088760...|[0.82751735044380...|       0.0|\n",
      "| 28|  blue-collar|       married|secondary|     no| 1137.0|     no|  no| cellular|  6|  feb|   129.0|     4.0|211.0|     3.0|   other|             no|[28.0,1137.0,129....|[0.13846153846153...|      1.0|                 0.0|            0.0|          0.0|          1.0|      6.0|          0.0|        6.0|           2.0|                  0.0| (11,[1],[1.0])|     (2,[0],[1.0])|(3,[0],[1.0])|(1,[0],[1.0])|    (1,[],[])| (30,[6],[1.0])|(2,[0],[1.0])|(11,[6],[1.0])|(3,[2],[1.0])|      (1,[0],[1.0])|(65,[1,11,13,16,2...|(71,[0,1,2,3,4,5,...|  0.0|[16.3770560605733...|[0.81885280302866...|       0.0|\n",
      "| 28|  blue-collar|       married|secondary|     no| 1325.0|    yes|  no| cellular| 15|  may|   242.0|     1.0| -1.0|     0.0| unknown|             no|[28.0,1325.0,242....|[0.13846153846153...|      1.0|                 0.0|            0.0|          0.0|          0.0|      7.0|          0.0|        0.0|           0.0|                  0.0| (11,[1],[1.0])|     (2,[0],[1.0])|(3,[0],[1.0])|(1,[0],[1.0])|(1,[0],[1.0])| (30,[7],[1.0])|(2,[0],[1.0])|(11,[0],[1.0])|(3,[0],[1.0])|      (1,[0],[1.0])|(65,[1,11,13,16,1...|(71,[0,1,2,7,17,1...|  0.0|[16.9145977178000...|[0.84572988589000...|       0.0|\n",
      "| 28|  blue-collar|        single|  primary|     no| 1199.0|    yes|  no| cellular| 30|  jul|  1011.0|    20.0| -1.0|     0.0| unknown|             no|[28.0,1199.0,1011...|[0.13846153846153...|      1.0|                 1.0|            2.0|          0.0|          0.0|     13.0|          0.0|        1.0|           0.0|                  0.0| (11,[1],[1.0])|     (2,[1],[1.0])|(3,[2],[1.0])|(1,[0],[1.0])|(1,[0],[1.0])|(30,[13],[1.0])|(2,[0],[1.0])|(11,[1],[1.0])|(3,[0],[1.0])|      (1,[0],[1.0])|(65,[1,12,15,16,1...|(71,[0,1,2,5,7,18...|  0.0|[16.8350009422848...|[0.84175004711424...|       0.0|\n",
      "| 28|  blue-collar|        single|secondary|     no|   56.0|    yes|  no|  unknown| 23|  may|    66.0|     1.0| -1.0|     0.0| unknown|             no|[28.0,56.0,66.0,0...|[0.13846153846153...|      1.0|                 1.0|            0.0|          0.0|          0.0|     24.0|          1.0|        0.0|           0.0|                  0.0| (11,[1],[1.0])|     (2,[1],[1.0])|(3,[0],[1.0])|(1,[0],[1.0])|(1,[0],[1.0])|(30,[24],[1.0])|(2,[1],[1.0])|(11,[0],[1.0])|(3,[0],[1.0])|      (1,[0],[1.0])|(65,[1,12,13,16,1...|(71,[0,1,2,7,18,1...|  0.0|[16.5350782218491...|[0.82675391109245...|       0.0|\n",
      "| 28|   management|       married| tertiary|     no|  318.0|    yes|  no|  unknown| 27|  may|     4.0|     4.0| -1.0|     0.0| unknown|             no|[28.0,318.0,4.0,0...|[0.13846153846153...|      0.0|                 0.0|            1.0|          0.0|          0.0|     20.0|          1.0|        0.0|           0.0|                  0.0| (11,[0],[1.0])|     (2,[0],[1.0])|(3,[1],[1.0])|(1,[0],[1.0])|(1,[0],[1.0])|(30,[20],[1.0])|(2,[1],[1.0])|(11,[0],[1.0])|(3,[0],[1.0])|      (1,[0],[1.0])|(65,[0,11,14,16,1...|(71,[0,1,2,5,6,17...|  0.0|[17.2969776669635...|[0.86484888334817...|       0.0|\n",
      "| 28|   management|        single| tertiary|     no|    0.0|    yes|  no| cellular| 16|  jul|   767.0|     5.0| -1.0|     0.0| unknown|            yes|[28.0,0.0,767.0,0...|[0.13846153846153...|      0.0|                 1.0|            1.0|          0.0|          0.0|     14.0|          0.0|        1.0|           0.0|                  1.0| (11,[0],[1.0])|     (2,[1],[1.0])|(3,[1],[1.0])|(1,[0],[1.0])|(1,[0],[1.0])|(30,[14],[1.0])|(2,[0],[1.0])|(11,[1],[1.0])|(3,[0],[1.0])|          (1,[],[])|(65,[0,12,14,16,1...|(71,[0,2,5,6,18,2...|  0.0|[15.4530037051192...|[0.77265018525596...|       0.0|\n",
      "+---+-------------+--------------+---------+-------+-------+-------+----+---------+---+-----+--------+--------+-----+--------+--------+---------------+--------------------+--------------------+---------+--------------------+---------------+-------------+-------------+---------+-------------+-----------+--------------+---------------------+---------------+------------------+-------------+-------------+-------------+---------------+-------------+--------------+-------------+-------------------+--------------------+--------------------+-----+--------------------+--------------------+----------+\n",
      "only showing top 100 rows\n",
      "\n"
     ]
    }
   ],
   "source": [
    "test_predictions_rf.show(100)"
   ]
  },
  {
   "cell_type": "markdown",
   "metadata": {},
   "source": [
    "#### Evaluation : RF Model"
   ]
  },
  {
   "cell_type": "code",
   "execution_count": 61,
   "metadata": {},
   "outputs": [
    {
     "name": "stdout",
     "output_type": "stream",
     "text": [
      "Train accuracy  = 0.842847979474\n",
      "Test accuracy = 0.856735566643\n"
     ]
    }
   ],
   "source": [
    "predictionAndLabels_train_rf = train_predictions_rf.select(\"prediction\", \"label\")\n",
    "train_accuracy_rf = evaluator.evaluate(predictionAndLabels_train_rf)\n",
    "\n",
    "print(\"Train accuracy  = \" + str(train_accuracy_rf))\n",
    "\n",
    "predictionAndLabels_test_rf = test_predictions_rf.select(\"prediction\", \"label\")\n",
    "test_accuracy_rf = evaluator.evaluate(predictionAndLabels_test_rf)\n",
    "\n",
    "print(\"Test accuracy = \" + str(test_accuracy_rf))"
   ]
  },
  {
   "cell_type": "markdown",
   "metadata": {},
   "source": [
    "#### Tuning RF Model"
   ]
  },
  {
   "cell_type": "code",
   "execution_count": 62,
   "metadata": {},
   "outputs": [],
   "source": [
    "paramGridRF = ParamGridBuilder()\\\n",
    "            .addGrid(rf.maxDepth, [5])\\\n",
    "            .addGrid(rf.numTrees, [20])\\\n",
    "            .build()\n",
    "    \n",
    "rf_crossval = CrossValidator(estimator=rf_Pipeline,\n",
    "                             estimatorParamMaps=paramGridRF,\n",
    "                             evaluator=evaluator,\n",
    "                             numFolds=2)     "
   ]
  },
  {
   "cell_type": "code",
   "execution_count": 63,
   "metadata": {},
   "outputs": [],
   "source": [
    "# Run cross-validation, and choose the best set of parameters.\n",
    "rf_crossval_Model = rf_crossval.fit(trainingData)"
   ]
  },
  {
   "cell_type": "code",
   "execution_count": 64,
   "metadata": {},
   "outputs": [],
   "source": [
    "train_predictions_rfcv = rf_crossval_Model.transform(trainingData)\n",
    "test_predictions_rfcv = rf_crossval_Model.transform(testData)"
   ]
  },
  {
   "cell_type": "code",
   "execution_count": 65,
   "metadata": {},
   "outputs": [
    {
     "name": "stdout",
     "output_type": "stream",
     "text": [
      "Train set accuracy  = 0.842847979474\n",
      "Test set accuracy = 0.856735566643\n"
     ]
    }
   ],
   "source": [
    "predictionAndLabels_train_rfcv = train_predictions_rfcv.select(\"prediction\", \"label\")\n",
    "train_accuracyrfcv = evaluator.evaluate(predictionAndLabels_train_rfcv)\n",
    "print(\"Train set accuracy  = \" + str(train_accuracyrfcv))\n",
    "\n",
    "predictionAndLabels_test_rfcv = test_predictions_rfcv.select(\"prediction\", \"label\")\n",
    "test_accuracyrfcv = evaluator.evaluate(predictionAndLabels_test_rfcv)\n",
    "print(\"Test set accuracy = \" + str(test_accuracyrfcv))"
   ]
  },
  {
   "cell_type": "markdown",
   "metadata": {},
   "source": [
    "#### Gradient Boosted Tree Classifier"
   ]
  },
  {
   "cell_type": "code",
   "execution_count": 66,
   "metadata": {},
   "outputs": [],
   "source": [
    "from pyspark.ml.classification import GBTClassifier\n",
    "\n",
    "gbt = GBTClassifier(labelCol=\"label\", featuresCol=\"features\")"
   ]
  },
  {
   "cell_type": "code",
   "execution_count": 67,
   "metadata": {},
   "outputs": [],
   "source": [
    "gbt_Pipeline = Pipeline(stages=preprocessiong_Stages+[gbt]) \n",
    "\n",
    "gbt_Pipeline_model = gbt_Pipeline.fit(trainingData)"
   ]
  },
  {
   "cell_type": "code",
   "execution_count": 68,
   "metadata": {},
   "outputs": [],
   "source": [
    "train_predictions_gbt = gbt_Pipeline_model.transform(trainingData)\n",
    "test_predictions_gbt = gbt_Pipeline_model.transform(testData)"
   ]
  },
  {
   "cell_type": "code",
   "execution_count": 69,
   "metadata": {},
   "outputs": [
    {
     "name": "stdout",
     "output_type": "stream",
     "text": [
      "+---+-------------+--------------+---------+-------+-------+-------+----+---------+---+-----+--------+--------+-----+--------+--------+---------------+----------------------------------+------------------------------------------------------------------------------------------------------------+---------+--------------------+---------------+-------------+-------------+---------+-------------+-----------+--------------+---------------------+---------------+------------------+-------------+-------------+-------------+---------------+-------------+--------------+-------------+-------------------+------------------------------------------------------------------------------+----------------------------------------------------------------------------------------------------------------------------------------------------------------------------------------------------+-----+------------------------------------------+----------------------------------------+----------+\n",
      "|age|job          |marital_status|education|default|balance|housing|loan|contact  |day|month|duration|campaign|pdays|previous|poutcome|Approved_no_yes|num_features                      |scaled_num_features                                                                                         |job_index|marital_status_index|education_index|default_index|housing_index|day_index|contact_index|month_index|poutcome_index|Approved_no_yes_index|job_vec        |marital_status_vec|education_vec|default_vec  |housing_vec  |day_vec        |contact_vec  |month_vec     |poutcome_vec |Approved_no_yes_vec|cat_features                                                                  |features                                                                                                                                                                                            |label|rawPrediction                             |probability                             |prediction|\n",
      "+---+-------------+--------------+---------+-------+-------+-------+----+---------+---+-----+--------+--------+-----+--------+--------+---------------+----------------------------------+------------------------------------------------------------------------------------------------------------+---------+--------------------+---------------+-------------+-------------+---------+-------------+-----------+--------------+---------------------+---------------+------------------+-------------+-------------+-------------+---------------+-------------+--------------+-------------+-------------------+------------------------------------------------------------------------------+----------------------------------------------------------------------------------------------------------------------------------------------------------------------------------------------------+-----+------------------------------------------+----------------------------------------+----------+\n",
      "|21 |student      |single        |secondary|no     |6.0    |no     |no  |unknown  |9  |may  |622.0   |1.0     |-1.0 |0.0     |unknown |no             |[21.0,6.0,622.0,0.0,-1.0,1.0]     |[0.03076923076923077,8.428386806765185E-5,0.20430463576158941,0.0,0.0,0.0]                                  |10.0     |1.0                 |0.0            |0.0          |1.0          |16.0     |1.0          |0.0        |0.0           |0.0                  |(11,[10],[1.0])|(2,[1],[1.0])     |(3,[0],[1.0])|(1,[0],[1.0])|(1,[],[])    |(30,[16],[1.0])|(2,[1],[1.0])|(11,[0],[1.0])|(3,[0],[1.0])|(1,[0],[1.0])      |(65,[10,12,13,16,34,49,50,61,64],[1.0,1.0,1.0,1.0,1.0,1.0,1.0,1.0,1.0])       |(71,[0,1,2,16,18,19,22,40,55,56,67,70],[0.03076923076923077,8.428386806765185E-5,0.20430463576158941,1.0,1.0,1.0,1.0,1.0,1.0,1.0,1.0,1.0])                                                          |0.0  |[1.1738860655414496,-1.1738860655414496]  |[0.9127569816912828,0.08724301830871717]|0.0       |\n",
      "|21 |student      |single        |secondary|no     |2488.0 |no     |no  |cellular |30 |jun  |258.0   |6.0     |169.0|3.0     |success |yes            |[21.0,2488.0,258.0,3.0,169.0,6.0] |[0.03076923076923077,0.0349497106253863,0.0837748344370861,0.12,0.19495412844036697,0.16129032258064516]    |10.0     |1.0                 |0.0            |0.0          |1.0          |13.0     |0.0          |3.0        |3.0           |1.0                  |(11,[10],[1.0])|(2,[1],[1.0])     |(3,[0],[1.0])|(1,[0],[1.0])|(1,[],[])    |(30,[13],[1.0])|(2,[0],[1.0])|(11,[3],[1.0])|(3,[],[])    |(1,[],[])          |(65,[10,12,13,16,31,48,53],[1.0,1.0,1.0,1.0,1.0,1.0,1.0])                     |(71,[0,1,2,3,4,5,16,18,19,22,37,54,59],[0.03076923076923077,0.0349497106253863,0.0837748344370861,0.12,0.19495412844036697,0.16129032258064516,1.0,1.0,1.0,1.0,1.0,1.0,1.0])                        |0.0  |[1.4321099734388545,-1.4321099734388545]  |[0.9460490923491951,0.0539509076508049] |0.0       |\n",
      "|21 |student      |single        |secondary|no     |6844.0 |no     |no  |cellular |14 |aug  |126.0   |3.0     |127.0|7.0     |other   |no             |[21.0,6844.0,126.0,7.0,127.0,3.0] |[0.03076923076923077,0.09613979884250154,0.040066225165562915,0.28,0.14678899082568808,0.06451612903225806] |10.0     |1.0                 |0.0            |0.0          |1.0          |2.0      |0.0          |2.0        |2.0           |0.0                  |(11,[10],[1.0])|(2,[1],[1.0])     |(3,[0],[1.0])|(1,[0],[1.0])|(1,[],[])    |(30,[2],[1.0]) |(2,[0],[1.0])|(11,[2],[1.0])|(3,[2],[1.0])|(1,[0],[1.0])      |(65,[10,12,13,16,20,48,52,63,64],[1.0,1.0,1.0,1.0,1.0,1.0,1.0,1.0,1.0])       |(71,[0,1,2,3,4,5,16,18,19,22,26,54,58,69,70],[0.03076923076923077,0.09613979884250154,0.040066225165562915,0.28,0.14678899082568808,0.06451612903225806,1.0,1.0,1.0,1.0,1.0,1.0,1.0,1.0,1.0])       |0.0  |[1.3549385690859719,-1.3549385690859719]  |[0.9376069615714031,0.06239303842859689]|0.0       |\n",
      "|23 |admin.       |single        |secondary|no     |589.0  |yes    |no  |cellular |6  |may  |62.0    |1.0     |-1.0 |0.0     |unknown |no             |[23.0,589.0,62.0,0.0,-1.0,1.0]    |[0.06153846153846154,0.00827386638197449,0.018874172185430464,0.0,0.0,0.0]                                  |3.0      |1.0                 |0.0            |0.0          |0.0          |6.0      |0.0          |0.0        |0.0           |0.0                  |(11,[3],[1.0]) |(2,[1],[1.0])     |(3,[0],[1.0])|(1,[0],[1.0])|(1,[0],[1.0])|(30,[6],[1.0]) |(2,[0],[1.0])|(11,[0],[1.0])|(3,[0],[1.0])|(1,[0],[1.0])      |(65,[3,12,13,16,17,24,48,50,61,64],[1.0,1.0,1.0,1.0,1.0,1.0,1.0,1.0,1.0,1.0]) |(71,[0,1,2,9,18,19,22,23,30,54,56,67,70],[0.06153846153846154,0.00827386638197449,0.018874172185430464,1.0,1.0,1.0,1.0,1.0,1.0,1.0,1.0,1.0,1.0])                                                    |0.0  |[0.5463875138464291,-0.5463875138464291]  |[0.7489039171490178,0.25109608285098217]|0.0       |\n",
      "|23 |blue-collar  |married       |primary  |no     |1158.0 |yes    |no  |cellular |16 |apr  |743.0   |1.0     |-1.0 |0.0     |unknown |no             |[23.0,1158.0,743.0,0.0,-1.0,1.0]  |[0.06153846153846154,0.016266786537056807,0.24437086092715232,0.0,0.0,0.0]                                  |1.0      |0.0                 |2.0            |0.0          |0.0          |14.0     |0.0          |5.0        |0.0           |0.0                  |(11,[1],[1.0]) |(2,[0],[1.0])     |(3,[2],[1.0])|(1,[0],[1.0])|(1,[0],[1.0])|(30,[14],[1.0])|(2,[0],[1.0])|(11,[5],[1.0])|(3,[0],[1.0])|(1,[0],[1.0])      |(65,[1,11,15,16,17,32,48,55,61,64],[1.0,1.0,1.0,1.0,1.0,1.0,1.0,1.0,1.0,1.0]) |(71,[0,1,2,7,17,21,22,23,38,54,61,67,70],[0.06153846153846154,0.016266786537056807,0.24437086092715232,1.0,1.0,1.0,1.0,1.0,1.0,1.0,1.0,1.0,1.0])                                                    |0.0  |[0.8630399282865562,-0.8630399282865562]  |[0.8489103038134769,0.15108969618652313]|0.0       |\n",
      "|23 |entrepreneur |single        |primary  |no     |4.0    |yes    |no  |unknown  |13 |may  |395.0   |2.0     |-1.0 |0.0     |unknown |yes            |[23.0,4.0,395.0,0.0,-1.0,2.0]     |[0.06153846153846154,5.6189245378434565E-5,0.1291390728476821,0.0,0.0,0.03225806451612903]                  |7.0      |1.0                 |2.0            |0.0          |0.0          |17.0     |1.0          |0.0        |0.0           |1.0                  |(11,[7],[1.0]) |(2,[1],[1.0])     |(3,[2],[1.0])|(1,[0],[1.0])|(1,[0],[1.0])|(30,[17],[1.0])|(2,[1],[1.0])|(11,[0],[1.0])|(3,[0],[1.0])|(1,[],[])          |(65,[7,12,15,16,17,35,49,50,61],[1.0,1.0,1.0,1.0,1.0,1.0,1.0,1.0,1.0])        |(71,[0,1,2,5,13,18,21,22,23,41,55,56,67],[0.06153846153846154,5.6189245378434565E-5,0.1291390728476821,0.03225806451612903,1.0,1.0,1.0,1.0,1.0,1.0,1.0,1.0,1.0])                                    |0.0  |[-0.9989841264871018,0.9989841264871018]  |[0.11941640752372382,0.8805835924762762]|1.0       |\n",
      "|23 |services     |married       |secondary|no     |0.0    |yes    |no  |unknown  |20 |jun  |13.0    |10.0    |-1.0 |0.0     |unknown |no             |[23.0,0.0,13.0,0.0,-1.0,10.0]     |[0.06153846153846154,0.0,0.0026490066225165563,0.0,0.0,0.2903225806451613]                                  |4.0      |0.0                 |0.0            |0.0          |0.0          |0.0      |1.0          |3.0        |0.0           |0.0                  |(11,[4],[1.0]) |(2,[0],[1.0])     |(3,[0],[1.0])|(1,[0],[1.0])|(1,[0],[1.0])|(30,[0],[1.0]) |(2,[1],[1.0])|(11,[3],[1.0])|(3,[0],[1.0])|(1,[0],[1.0])      |(65,[4,11,13,16,17,18,49,53,61,64],[1.0,1.0,1.0,1.0,1.0,1.0,1.0,1.0,1.0,1.0]) |(71,[0,2,5,10,17,19,22,23,24,55,59,67,70],[0.06153846153846154,0.0026490066225165563,0.2903225806451613,1.0,1.0,1.0,1.0,1.0,1.0,1.0,1.0,1.0,1.0])                                                   |0.0  |[0.9184909074874921,-0.9184909074874921]  |[0.8625913608236155,0.13740863917638446]|0.0       |\n",
      "|23 |services     |single        |secondary|no     |250.0  |yes    |no  |cellular |18 |may  |222.0   |1.0     |-1.0 |0.0     |unknown |no             |[23.0,250.0,222.0,0.0,-1.0,1.0]   |[0.06153846153846154,0.0035118278361521604,0.07185430463576159,0.0,0.0,0.0]                                 |4.0      |1.0                 |0.0            |0.0          |0.0          |1.0      |0.0          |0.0        |0.0           |0.0                  |(11,[4],[1.0]) |(2,[1],[1.0])     |(3,[0],[1.0])|(1,[0],[1.0])|(1,[0],[1.0])|(30,[1],[1.0]) |(2,[0],[1.0])|(11,[0],[1.0])|(3,[0],[1.0])|(1,[0],[1.0])      |(65,[4,12,13,16,17,19,48,50,61,64],[1.0,1.0,1.0,1.0,1.0,1.0,1.0,1.0,1.0,1.0]) |(71,[0,1,2,10,18,19,22,23,25,54,56,67,70],[0.06153846153846154,0.0035118278361521604,0.07185430463576159,1.0,1.0,1.0,1.0,1.0,1.0,1.0,1.0,1.0,1.0])                                                  |0.0  |[0.7500243854995868,-0.7500243854995868]  |[0.8175817501024715,0.18241824989752853]|0.0       |\n",
      "|23 |student      |single        |secondary|no     |1021.0 |no     |no  |telephone|19 |jun  |79.0    |9.0     |-1.0 |0.0     |unknown |no             |[23.0,1021.0,79.0,0.0,-1.0,9.0]   |[0.06153846153846154,0.014342304882845424,0.024503311258278145,0.0,0.0,0.25806451612903225]                 |10.0     |1.0                 |0.0            |0.0          |1.0          |3.0      |2.0          |3.0        |0.0           |0.0                  |(11,[10],[1.0])|(2,[1],[1.0])     |(3,[0],[1.0])|(1,[0],[1.0])|(1,[],[])    |(30,[3],[1.0]) |(2,[],[])    |(11,[3],[1.0])|(3,[0],[1.0])|(1,[0],[1.0])      |(65,[10,12,13,16,21,53,61,64],[1.0,1.0,1.0,1.0,1.0,1.0,1.0,1.0])              |(71,[0,1,2,5,16,18,19,22,27,59,67,70],[0.06153846153846154,0.014342304882845424,0.024503311258278145,0.25806451612903225,1.0,1.0,1.0,1.0,1.0,1.0,1.0,1.0])                                          |0.0  |[1.1478176982990507,-1.1478176982990507]  |[0.9085149187614475,0.09148508123855248]|0.0       |\n",
      "|23 |student      |single        |secondary|no     |8494.0 |no     |no  |cellular |25 |aug  |158.0   |2.0     |-1.0 |0.0     |unknown |no             |[23.0,8494.0,158.0,0.0,-1.0,2.0]  |[0.06153846153846154,0.1193178625611058,0.05066225165562914,0.0,0.0,0.03225806451612903]                    |10.0     |1.0                 |0.0            |0.0          |1.0          |25.0     |0.0          |2.0        |0.0           |0.0                  |(11,[10],[1.0])|(2,[1],[1.0])     |(3,[0],[1.0])|(1,[0],[1.0])|(1,[],[])    |(30,[25],[1.0])|(2,[0],[1.0])|(11,[2],[1.0])|(3,[0],[1.0])|(1,[0],[1.0])      |(65,[10,12,13,16,43,48,52,61,64],[1.0,1.0,1.0,1.0,1.0,1.0,1.0,1.0,1.0])       |(71,[0,1,2,5,16,18,19,22,49,54,58,67,70],[0.06153846153846154,0.1193178625611058,0.05066225165562914,0.03225806451612903,1.0,1.0,1.0,1.0,1.0,1.0,1.0,1.0,1.0])                                      |0.0  |[1.1793396943989685,-1.1793396943989685]  |[0.9136216435621448,0.08637835643785519]|0.0       |\n",
      "|23 |technician   |single        |tertiary |no     |1129.0 |yes    |no  |unknown  |28 |may  |806.0   |1.0     |-1.0 |0.0     |unknown |yes            |[23.0,1129.0,806.0,0.0,-1.0,1.0]  |[0.06153846153846154,0.015859414508063156,0.2652317880794702,0.0,0.0,0.0]                                   |2.0      |1.0                 |1.0            |0.0          |0.0          |4.0      |1.0          |0.0        |0.0           |1.0                  |(11,[2],[1.0]) |(2,[1],[1.0])     |(3,[1],[1.0])|(1,[0],[1.0])|(1,[0],[1.0])|(30,[4],[1.0]) |(2,[1],[1.0])|(11,[0],[1.0])|(3,[0],[1.0])|(1,[],[])          |(65,[2,12,14,16,17,22,49,50,61],[1.0,1.0,1.0,1.0,1.0,1.0,1.0,1.0,1.0])        |(71,[0,1,2,8,18,20,22,23,28,55,56,67],[0.06153846153846154,0.015859414508063156,0.2652317880794702,1.0,1.0,1.0,1.0,1.0,1.0,1.0,1.0,1.0])                                                            |0.0  |[0.3038250860791759,-0.3038250860791759]  |[0.6474045884223362,0.35259541157766383]|0.0       |\n",
      "|24 |blue-collar  |married       |secondary|no     |1222.0 |yes    |no  |cellular |20 |apr  |369.0   |1.0     |-1.0 |0.0     |unknown |no             |[24.0,1222.0,369.0,0.0,-1.0,1.0]  |[0.07692307692307693,0.01716581446311176,0.1205298013245033,0.0,0.0,0.0]                                    |1.0      |0.0                 |0.0            |0.0          |0.0          |0.0      |0.0          |5.0        |0.0           |0.0                  |(11,[1],[1.0]) |(2,[0],[1.0])     |(3,[0],[1.0])|(1,[0],[1.0])|(1,[0],[1.0])|(30,[0],[1.0]) |(2,[0],[1.0])|(11,[5],[1.0])|(3,[0],[1.0])|(1,[0],[1.0])      |(65,[1,11,13,16,17,18,48,55,61,64],[1.0,1.0,1.0,1.0,1.0,1.0,1.0,1.0,1.0,1.0]) |(71,[0,1,2,7,17,19,22,23,24,54,61,67,70],[0.07692307692307693,0.01716581446311176,0.1205298013245033,1.0,1.0,1.0,1.0,1.0,1.0,1.0,1.0,1.0,1.0])                                                      |0.0  |[1.0567996219350186,-1.0567996219350186]  |[0.8922179437609697,0.10778205623903026]|0.0       |\n",
      "|24 |retired      |single        |secondary|no     |366.0  |no     |yes |unknown  |16 |may  |234.0   |2.0     |-1.0 |0.0     |unknown |no             |[24.0,366.0,234.0,0.0,-1.0,2.0]   |[0.07692307692307693,0.005141315952126763,0.07582781456953643,0.0,0.0,0.03225806451612903]                  |5.0      |1.0                 |0.0            |0.0          |1.0          |14.0     |1.0          |0.0        |0.0           |0.0                  |(11,[5],[1.0]) |(2,[1],[1.0])     |(3,[0],[1.0])|(1,[0],[1.0])|(1,[],[])    |(30,[14],[1.0])|(2,[1],[1.0])|(11,[0],[1.0])|(3,[0],[1.0])|(1,[0],[1.0])      |(65,[5,12,13,16,32,49,50,61,64],[1.0,1.0,1.0,1.0,1.0,1.0,1.0,1.0,1.0])        |(71,[0,1,2,5,11,18,19,22,38,55,56,67,70],[0.07692307692307693,0.005141315952126763,0.07582781456953643,0.03225806451612903,1.0,1.0,1.0,1.0,1.0,1.0,1.0,1.0,1.0])                                    |1.0  |[0.6863683829627324,-0.6863683829627324]  |[0.7978219594329359,0.20217804056706412]|0.0       |\n",
      "|24 |services     |married       |secondary|no     |4500.0 |yes    |no  |cellular |11 |may  |733.0   |2.0     |-1.0 |0.0     |unknown |yes            |[24.0,4500.0,733.0,0.0,-1.0,2.0]  |[0.07692307692307693,0.06321290105073889,0.2410596026490066,0.0,0.0,0.03225806451612903]                    |4.0      |0.0                 |0.0            |0.0          |0.0          |15.0     |0.0          |0.0        |0.0           |1.0                  |(11,[4],[1.0]) |(2,[0],[1.0])     |(3,[0],[1.0])|(1,[0],[1.0])|(1,[0],[1.0])|(30,[15],[1.0])|(2,[0],[1.0])|(11,[0],[1.0])|(3,[0],[1.0])|(1,[],[])          |(65,[4,11,13,16,17,33,48,50,61],[1.0,1.0,1.0,1.0,1.0,1.0,1.0,1.0,1.0])        |(71,[0,1,2,5,10,17,19,22,23,39,54,56,67],[0.07692307692307693,0.06321290105073889,0.2410596026490066,0.03225806451612903,1.0,1.0,1.0,1.0,1.0,1.0,1.0,1.0,1.0])                                      |0.0  |[0.8078323661314377,-0.8078323661314377]  |[0.8341963752964809,0.16580362470351906]|0.0       |\n",
      "|24 |services     |married       |tertiary |no     |0.0    |yes    |no  |unknown  |27 |may  |299.0   |1.0     |-1.0 |0.0     |unknown |no             |[24.0,0.0,299.0,0.0,-1.0,1.0]     |[0.07692307692307693,0.0,0.09735099337748344,0.0,0.0,0.0]                                                   |4.0      |0.0                 |1.0            |0.0          |0.0          |20.0     |1.0          |0.0        |0.0           |0.0                  |(11,[4],[1.0]) |(2,[0],[1.0])     |(3,[1],[1.0])|(1,[0],[1.0])|(1,[0],[1.0])|(30,[20],[1.0])|(2,[1],[1.0])|(11,[0],[1.0])|(3,[0],[1.0])|(1,[0],[1.0])      |(65,[4,11,14,16,17,38,49,50,61,64],[1.0,1.0,1.0,1.0,1.0,1.0,1.0,1.0,1.0,1.0]) |(71,[0,2,10,17,20,22,23,44,55,56,67,70],[0.07692307692307693,0.09735099337748344,1.0,1.0,1.0,1.0,1.0,1.0,1.0,1.0,1.0,1.0])                                                                          |0.0  |[0.7053629452979242,-0.7053629452979242]  |[0.8038804103918518,0.19611958960814824]|0.0       |\n",
      "|24 |student      |single        |secondary|no     |508.0  |yes    |no  |telephone|18 |may  |12.0    |3.0     |374.0|1.0     |other   |no             |[24.0,508.0,12.0,1.0,374.0,3.0]   |[0.07692307692307693,0.00713603416306119,0.002317880794701987,0.04,0.43004587155963303,0.06451612903225806] |10.0     |1.0                 |0.0            |0.0          |0.0          |1.0      |2.0          |0.0        |2.0           |0.0                  |(11,[10],[1.0])|(2,[1],[1.0])     |(3,[0],[1.0])|(1,[0],[1.0])|(1,[0],[1.0])|(30,[1],[1.0]) |(2,[],[])    |(11,[0],[1.0])|(3,[2],[1.0])|(1,[0],[1.0])      |(65,[10,12,13,16,17,19,50,63,64],[1.0,1.0,1.0,1.0,1.0,1.0,1.0,1.0,1.0])       |(71,[0,1,2,3,4,5,16,18,19,22,23,25,56,69,70],[0.07692307692307693,0.00713603416306119,0.002317880794701987,0.04,0.43004587155963303,0.06451612903225806,1.0,1.0,1.0,1.0,1.0,1.0,1.0,1.0,1.0])       |0.0  |[1.1864596774868488,-1.1864596774868488]  |[0.9147388218973578,0.08526117810264222]|0.0       |\n",
      "|24 |student      |single        |secondary|no     |1847.0 |no     |no  |cellular |9  |dec  |390.0   |1.0     |-1.0 |0.0     |unknown |no             |[24.0,1847.0,390.0,0.0,-1.0,1.0]  |[0.07692307692307693,0.02594538405349216,0.12748344370860928,0.0,0.0,0.0]                                   |10.0     |1.0                 |0.0            |0.0          |1.0          |16.0     |0.0          |11.0       |0.0           |0.0                  |(11,[10],[1.0])|(2,[1],[1.0])     |(3,[0],[1.0])|(1,[0],[1.0])|(1,[],[])    |(30,[16],[1.0])|(2,[0],[1.0])|(11,[],[])    |(3,[0],[1.0])|(1,[0],[1.0])      |(65,[10,12,13,16,34,48,61,64],[1.0,1.0,1.0,1.0,1.0,1.0,1.0,1.0])              |(71,[0,1,2,16,18,19,22,40,54,67,70],[0.07692307692307693,0.02594538405349216,0.12748344370860928,1.0,1.0,1.0,1.0,1.0,1.0,1.0,1.0])                                                                  |0.0  |[1.1552514776512777,-1.1552514776512777]  |[0.9097431617409406,0.09025683825905939]|0.0       |\n",
      "|24 |technician   |married       |secondary|no     |556.0  |yes    |no  |cellular |18 |aug  |460.0   |2.0     |-1.0 |0.0     |unknown |yes            |[24.0,556.0,460.0,0.0,-1.0,2.0]   |[0.07692307692307693,0.007810305107602405,0.15066225165562913,0.0,0.0,0.03225806451612903]                  |2.0      |0.0                 |0.0            |0.0          |0.0          |1.0      |0.0          |2.0        |0.0           |1.0                  |(11,[2],[1.0]) |(2,[0],[1.0])     |(3,[0],[1.0])|(1,[0],[1.0])|(1,[0],[1.0])|(30,[1],[1.0]) |(2,[0],[1.0])|(11,[2],[1.0])|(3,[0],[1.0])|(1,[],[])          |(65,[2,11,13,16,17,19,48,52,61],[1.0,1.0,1.0,1.0,1.0,1.0,1.0,1.0,1.0])        |(71,[0,1,2,5,8,17,19,22,23,25,54,58,67],[0.07692307692307693,0.007810305107602405,0.15066225165562913,0.03225806451612903,1.0,1.0,1.0,1.0,1.0,1.0,1.0,1.0,1.0])                                     |0.0  |[0.6785015330197197,-0.6785015330197197]  |[0.795272185671754,0.20472781432824605] |0.0       |\n",
      "|25 |admin.       |single        |secondary|no     |4590.0 |yes    |no  |unknown  |28 |may  |199.0   |2.0     |-1.0 |0.0     |unknown |no             |[25.0,4590.0,199.0,0.0,-1.0,2.0]  |[0.09230769230769231,0.06447715907175366,0.06423841059602649,0.0,0.0,0.03225806451612903]                   |3.0      |1.0                 |0.0            |0.0          |0.0          |4.0      |1.0          |0.0        |0.0           |0.0                  |(11,[3],[1.0]) |(2,[1],[1.0])     |(3,[0],[1.0])|(1,[0],[1.0])|(1,[0],[1.0])|(30,[4],[1.0]) |(2,[1],[1.0])|(11,[0],[1.0])|(3,[0],[1.0])|(1,[0],[1.0])      |(65,[3,12,13,16,17,22,49,50,61,64],[1.0,1.0,1.0,1.0,1.0,1.0,1.0,1.0,1.0,1.0]) |(71,[0,1,2,5,9,18,19,22,23,28,55,56,67,70],[0.09230769230769231,0.06447715907175366,0.06423841059602649,0.03225806451612903,1.0,1.0,1.0,1.0,1.0,1.0,1.0,1.0,1.0,1.0])                               |0.0  |[0.651915209194702,-0.651915209194702]    |[0.7864789303606894,0.2135210696393106] |0.0       |\n",
      "|25 |admin.       |single        |tertiary |no     |760.0  |yes    |no  |cellular |27 |may  |223.0   |3.0     |89.0 |2.0     |failure |yes            |[25.0,760.0,223.0,2.0,89.0,3.0]   |[0.09230769230769231,0.010675956621902568,0.07218543046357616,0.08,0.10321100917431193,0.06451612903225806] |3.0      |1.0                 |1.0            |0.0          |0.0          |20.0     |0.0          |0.0        |1.0           |1.0                  |(11,[3],[1.0]) |(2,[1],[1.0])     |(3,[1],[1.0])|(1,[0],[1.0])|(1,[0],[1.0])|(30,[20],[1.0])|(2,[0],[1.0])|(11,[0],[1.0])|(3,[1],[1.0])|(1,[],[])          |(65,[3,12,14,16,17,38,48,50,62],[1.0,1.0,1.0,1.0,1.0,1.0,1.0,1.0,1.0])        |(71,[0,1,2,3,4,5,9,18,20,22,23,44,54,56,68],[0.09230769230769231,0.010675956621902568,0.07218543046357616,0.08,0.10321100917431193,0.06451612903225806,1.0,1.0,1.0,1.0,1.0,1.0,1.0,1.0,1.0])        |0.0  |[1.147000225688858,-1.147000225688858]    |[0.9083789385812007,0.09162106141879933]|0.0       |\n",
      "|25 |admin.       |single        |tertiary |no     |1420.0 |no     |no  |cellular |8  |apr  |124.0   |2.0     |-1.0 |0.0     |unknown |no             |[25.0,1420.0,124.0,0.0,-1.0,2.0]  |[0.09230769230769231,0.01994718210934427,0.03940397350993378,0.0,0.0,0.03225806451612903]                   |3.0      |1.0                 |1.0            |0.0          |1.0          |12.0     |0.0          |5.0        |0.0           |0.0                  |(11,[3],[1.0]) |(2,[1],[1.0])     |(3,[1],[1.0])|(1,[0],[1.0])|(1,[],[])    |(30,[12],[1.0])|(2,[0],[1.0])|(11,[5],[1.0])|(3,[0],[1.0])|(1,[0],[1.0])      |(65,[3,12,14,16,30,48,55,61,64],[1.0,1.0,1.0,1.0,1.0,1.0,1.0,1.0,1.0])        |(71,[0,1,2,5,9,18,20,22,36,54,61,67,70],[0.09230769230769231,0.01994718210934427,0.03940397350993378,0.03225806451612903,1.0,1.0,1.0,1.0,1.0,1.0,1.0,1.0,1.0])                                      |0.0  |[1.3026617786065617,-1.3026617786065617]  |[0.9312034098756237,0.06879659012437633]|0.0       |\n",
      "|25 |blue-collar  |married       |secondary|no     |0.0    |yes    |no  |unknown  |12 |may  |241.0   |3.0     |-1.0 |0.0     |unknown |no             |[25.0,0.0,241.0,0.0,-1.0,3.0]     |[0.09230769230769231,0.0,0.0781456953642384,0.0,0.0,0.06451612903225806]                                    |1.0      |0.0                 |0.0            |0.0          |0.0          |18.0     |1.0          |0.0        |0.0           |0.0                  |(11,[1],[1.0]) |(2,[0],[1.0])     |(3,[0],[1.0])|(1,[0],[1.0])|(1,[0],[1.0])|(30,[18],[1.0])|(2,[1],[1.0])|(11,[0],[1.0])|(3,[0],[1.0])|(1,[0],[1.0])      |(65,[1,11,13,16,17,36,49,50,61,64],[1.0,1.0,1.0,1.0,1.0,1.0,1.0,1.0,1.0,1.0]) |(71,[0,2,5,7,17,19,22,23,42,55,56,67,70],[0.09230769230769231,0.0781456953642384,0.06451612903225806,1.0,1.0,1.0,1.0,1.0,1.0,1.0,1.0,1.0,1.0])                                                      |0.0  |[0.7776257606486393,-0.7776257606486393]  |[0.8256709209341783,0.17432907906582173]|0.0       |\n",
      "|25 |management   |single        |tertiary |no     |808.0  |no     |no  |cellular |18 |sep  |267.0   |2.0     |114.0|2.0     |failure |yes            |[25.0,808.0,267.0,2.0,114.0,2.0]  |[0.09230769230769231,0.011350227566443783,0.08675496688741721,0.08,0.13188073394495411,0.03225806451612903] |0.0      |1.0                 |1.0            |0.0          |1.0          |1.0      |0.0          |9.0        |1.0           |1.0                  |(11,[0],[1.0]) |(2,[1],[1.0])     |(3,[1],[1.0])|(1,[0],[1.0])|(1,[],[])    |(30,[1],[1.0]) |(2,[0],[1.0])|(11,[9],[1.0])|(3,[1],[1.0])|(1,[],[])          |(65,[0,12,14,16,19,48,59,62],[1.0,1.0,1.0,1.0,1.0,1.0,1.0,1.0])               |(71,[0,1,2,3,4,5,6,18,20,22,25,54,65,68],[0.09230769230769231,0.011350227566443783,0.08675496688741721,0.08,0.13188073394495411,0.03225806451612903,1.0,1.0,1.0,1.0,1.0,1.0,1.0,1.0])               |0.0  |[1.2948928543718354,-1.2948928543718354]  |[0.9302013051525153,0.06979869484748469]|0.0       |\n",
      "|25 |management   |single        |tertiary |no     |2506.0 |no     |no  |cellular |17 |feb  |485.0   |1.0     |-1.0 |0.0     |unknown |yes            |[25.0,2506.0,485.0,0.0,-1.0,1.0]  |[0.09230769230769231,0.03520256222958926,0.15894039735099338,0.0,0.0,0.0]                                   |0.0      |1.0                 |1.0            |0.0          |1.0          |9.0      |0.0          |6.0        |0.0           |1.0                  |(11,[0],[1.0]) |(2,[1],[1.0])     |(3,[1],[1.0])|(1,[0],[1.0])|(1,[],[])    |(30,[9],[1.0]) |(2,[0],[1.0])|(11,[6],[1.0])|(3,[0],[1.0])|(1,[],[])          |(65,[0,12,14,16,27,48,56,61],[1.0,1.0,1.0,1.0,1.0,1.0,1.0,1.0])               |(71,[0,1,2,6,18,20,22,33,54,62,67],[0.09230769230769231,0.03520256222958926,0.15894039735099338,1.0,1.0,1.0,1.0,1.0,1.0,1.0,1.0])                                                                   |0.0  |[1.36095278187914,-1.36095278187914]      |[0.938306933341768,0.06169306665823204] |0.0       |\n",
      "|25 |services     |married       |secondary|no     |72.0   |yes    |no  |cellular |23 |jul  |305.0   |2.0     |-1.0 |0.0     |unknown |no             |[25.0,72.0,305.0,0.0,-1.0,2.0]    |[0.09230769230769231,0.0010114064168118223,0.09933774834437085,0.0,0.0,0.03225806451612903]                 |4.0      |0.0                 |0.0            |0.0          |0.0          |24.0     |0.0          |1.0        |0.0           |0.0                  |(11,[4],[1.0]) |(2,[0],[1.0])     |(3,[0],[1.0])|(1,[0],[1.0])|(1,[0],[1.0])|(30,[24],[1.0])|(2,[0],[1.0])|(11,[1],[1.0])|(3,[0],[1.0])|(1,[0],[1.0])      |(65,[4,11,13,16,17,42,48,51,61,64],[1.0,1.0,1.0,1.0,1.0,1.0,1.0,1.0,1.0,1.0]) |(71,[0,1,2,5,10,17,19,22,23,48,54,57,67,70],[0.09230769230769231,0.0010114064168118223,0.09933774834437085,0.03225806451612903,1.0,1.0,1.0,1.0,1.0,1.0,1.0,1.0,1.0,1.0])                            |0.0  |[0.5564496469646638,-0.5564496469646638]  |[0.7526692342423716,0.24733076575762836]|0.0       |\n",
      "|25 |student      |married       |tertiary |no     |10.0   |yes    |no  |cellular |21 |jul  |857.0   |4.0     |-1.0 |0.0     |unknown |yes            |[25.0,10.0,857.0,0.0,-1.0,4.0]    |[0.09230769230769231,1.404731134460864E-4,0.28211920529801326,0.0,0.0,0.0967741935483871]                   |10.0     |0.0                 |1.0            |0.0          |0.0          |8.0      |0.0          |1.0        |0.0           |1.0                  |(11,[10],[1.0])|(2,[0],[1.0])     |(3,[1],[1.0])|(1,[0],[1.0])|(1,[0],[1.0])|(30,[8],[1.0]) |(2,[0],[1.0])|(11,[1],[1.0])|(3,[0],[1.0])|(1,[],[])          |(65,[10,11,14,16,17,26,48,51,61],[1.0,1.0,1.0,1.0,1.0,1.0,1.0,1.0,1.0])       |(71,[0,1,2,5,16,17,20,22,23,32,54,57,67],[0.09230769230769231,1.404731134460864E-4,0.28211920529801326,0.0967741935483871,1.0,1.0,1.0,1.0,1.0,1.0,1.0,1.0,1.0])                                     |0.0  |[0.5948583797050156,-0.5948583797050156]  |[0.7666904030470915,0.23330959695290854]|0.0       |\n",
      "|25 |student      |single        |unknown  |no     |10788.0|no     |no  |cellular |23 |dec  |102.0   |2.0     |210.0|2.0     |other   |no             |[25.0,10788.0,102.0,2.0,210.0,2.0]|[0.09230769230769231,0.15154239478563802,0.032119205298013244,0.08,0.24197247706422018,0.03225806451612903] |10.0     |1.0                 |3.0            |0.0          |1.0          |24.0     |0.0          |11.0       |2.0           |0.0                  |(11,[10],[1.0])|(2,[1],[1.0])     |(3,[],[])    |(1,[0],[1.0])|(1,[],[])    |(30,[24],[1.0])|(2,[0],[1.0])|(11,[],[])    |(3,[2],[1.0])|(1,[0],[1.0])      |(65,[10,12,16,42,48,63,64],[1.0,1.0,1.0,1.0,1.0,1.0,1.0])                     |(71,[0,1,2,3,4,5,16,18,22,48,54,69,70],[0.09230769230769231,0.15154239478563802,0.032119205298013244,0.08,0.24197247706422018,0.03225806451612903,1.0,1.0,1.0,1.0,1.0,1.0,1.0])                     |0.0  |[1.2063591386427792,-1.2063591386427792]  |[0.9177920085097051,0.0822079914902949] |0.0       |\n",
      "|25 |technician   |married       |tertiary |no     |914.0  |yes    |no  |cellular |12 |may  |185.0   |2.0     |-1.0 |0.0     |unknown |no             |[25.0,914.0,185.0,0.0,-1.0,2.0]   |[0.09230769230769231,0.012839242568972299,0.059602649006622516,0.0,0.0,0.03225806451612903]                 |2.0      |0.0                 |1.0            |0.0          |0.0          |18.0     |0.0          |0.0        |0.0           |0.0                  |(11,[2],[1.0]) |(2,[0],[1.0])     |(3,[1],[1.0])|(1,[0],[1.0])|(1,[0],[1.0])|(30,[18],[1.0])|(2,[0],[1.0])|(11,[0],[1.0])|(3,[0],[1.0])|(1,[0],[1.0])      |(65,[2,11,14,16,17,36,48,50,61,64],[1.0,1.0,1.0,1.0,1.0,1.0,1.0,1.0,1.0,1.0]) |(71,[0,1,2,5,8,17,20,22,23,42,54,56,67,70],[0.09230769230769231,0.012839242568972299,0.059602649006622516,0.03225806451612903,1.0,1.0,1.0,1.0,1.0,1.0,1.0,1.0,1.0,1.0])                             |0.0  |[1.052294157537425,-1.052294157537425]    |[0.8913483395181897,0.1086516604818103] |0.0       |\n",
      "|25 |technician   |single        |secondary|no     |2157.0 |yes    |no  |cellular |21 |jul  |339.0   |1.0     |-1.0 |0.0     |unknown |no             |[25.0,2157.0,339.0,0.0,-1.0,1.0]  |[0.09230769230769231,0.03030005057032084,0.11059602649006622,0.0,0.0,0.0]                                   |2.0      |1.0                 |0.0            |0.0          |0.0          |8.0      |0.0          |1.0        |0.0           |0.0                  |(11,[2],[1.0]) |(2,[1],[1.0])     |(3,[0],[1.0])|(1,[0],[1.0])|(1,[0],[1.0])|(30,[8],[1.0]) |(2,[0],[1.0])|(11,[1],[1.0])|(3,[0],[1.0])|(1,[0],[1.0])      |(65,[2,12,13,16,17,26,48,51,61,64],[1.0,1.0,1.0,1.0,1.0,1.0,1.0,1.0,1.0,1.0]) |(71,[0,1,2,8,18,19,22,23,32,54,57,67,70],[0.09230769230769231,0.03030005057032084,0.11059602649006622,1.0,1.0,1.0,1.0,1.0,1.0,1.0,1.0,1.0,1.0])                                                     |0.0  |[0.8500267958841586,-0.8500267958841586]  |[0.8455417341797848,0.15445826582021516]|0.0       |\n",
      "|25 |unemployed   |single        |tertiary |no     |343.0  |no     |no  |cellular |1  |jun  |377.0   |1.0     |-1.0 |0.0     |unknown |yes            |[25.0,343.0,377.0,0.0,-1.0,1.0]   |[0.09230769230769231,0.004818227791200764,0.12317880794701987,0.0,0.0,0.0]                                  |8.0      |1.0                 |1.0            |0.0          |1.0          |30.0     |0.0          |3.0        |0.0           |1.0                  |(11,[8],[1.0]) |(2,[1],[1.0])     |(3,[1],[1.0])|(1,[0],[1.0])|(1,[],[])    |(30,[],[])     |(2,[0],[1.0])|(11,[3],[1.0])|(3,[0],[1.0])|(1,[],[])          |(65,[8,12,14,16,48,53,61],[1.0,1.0,1.0,1.0,1.0,1.0,1.0])                      |(71,[0,1,2,14,18,20,22,54,59,67],[0.09230769230769231,0.004818227791200764,0.12317880794701987,1.0,1.0,1.0,1.0,1.0,1.0,1.0])                                                                        |0.0  |[1.267373013862637,-1.267373013862637]    |[0.9265420316796147,0.07345796832038531]|0.0       |\n",
      "|26 |admin.       |divorced      |secondary|yes    |0.0    |yes    |no  |unknown  |13 |may  |181.0   |5.0     |-1.0 |0.0     |unknown |no             |[26.0,0.0,181.0,0.0,-1.0,5.0]     |[0.1076923076923077,0.0,0.05827814569536424,0.0,0.0,0.12903225806451613]                                    |3.0      |2.0                 |0.0            |1.0          |0.0          |17.0     |1.0          |0.0        |0.0           |0.0                  |(11,[3],[1.0]) |(2,[],[])         |(3,[0],[1.0])|(1,[],[])    |(1,[0],[1.0])|(30,[17],[1.0])|(2,[1],[1.0])|(11,[0],[1.0])|(3,[0],[1.0])|(1,[0],[1.0])      |(65,[3,13,17,35,49,50,61,64],[1.0,1.0,1.0,1.0,1.0,1.0,1.0,1.0])               |(71,[0,2,5,9,19,23,41,55,56,67,70],[0.1076923076923077,0.05827814569536424,0.12903225806451613,1.0,1.0,1.0,1.0,1.0,1.0,1.0,1.0])                                                                    |0.0  |[0.43773230073524194,-0.43773230073524194]|[0.7058814942795285,0.2941185057204715] |0.0       |\n",
      "|26 |admin.       |single        |secondary|no     |96.0   |yes    |no  |cellular |13 |may  |612.0   |2.0     |348.0|3.0     |other   |no             |[26.0,96.0,612.0,3.0,348.0,2.0]   |[0.1076923076923077,0.0013485418890824296,0.2009933774834437,0.12,0.40022935779816515,0.03225806451612903]  |3.0      |1.0                 |0.0            |0.0          |0.0          |17.0     |0.0          |0.0        |2.0           |0.0                  |(11,[3],[1.0]) |(2,[1],[1.0])     |(3,[0],[1.0])|(1,[0],[1.0])|(1,[0],[1.0])|(30,[17],[1.0])|(2,[0],[1.0])|(11,[0],[1.0])|(3,[2],[1.0])|(1,[0],[1.0])      |(65,[3,12,13,16,17,35,48,50,63,64],[1.0,1.0,1.0,1.0,1.0,1.0,1.0,1.0,1.0,1.0]) |(71,[0,1,2,3,4,5,9,18,19,22,23,41,54,56,69,70],[0.1076923076923077,0.0013485418890824296,0.2009933774834437,0.12,0.40022935779816515,0.03225806451612903,1.0,1.0,1.0,1.0,1.0,1.0,1.0,1.0,1.0,1.0])  |0.0  |[0.4393053809670831,-0.4393053809670831]  |[0.7065342541404509,0.2934657458595491] |0.0       |\n",
      "|26 |admin.       |single        |secondary|no     |321.0  |yes    |no  |cellular |22 |jul  |242.0   |7.0     |-1.0 |0.0     |unknown |no             |[26.0,321.0,242.0,0.0,-1.0,7.0]   |[0.1076923076923077,0.004509186941619374,0.07847682119205299,0.0,0.0,0.1935483870967742]                    |3.0      |1.0                 |0.0            |0.0          |0.0          |26.0     |0.0          |1.0        |0.0           |0.0                  |(11,[3],[1.0]) |(2,[1],[1.0])     |(3,[0],[1.0])|(1,[0],[1.0])|(1,[0],[1.0])|(30,[26],[1.0])|(2,[0],[1.0])|(11,[1],[1.0])|(3,[0],[1.0])|(1,[0],[1.0])      |(65,[3,12,13,16,17,44,48,51,61,64],[1.0,1.0,1.0,1.0,1.0,1.0,1.0,1.0,1.0,1.0]) |(71,[0,1,2,5,9,18,19,22,23,50,54,57,67,70],[0.1076923076923077,0.004509186941619374,0.07847682119205299,0.1935483870967742,1.0,1.0,1.0,1.0,1.0,1.0,1.0,1.0,1.0,1.0])                                |0.0  |[0.8595091674353426,-0.8595091674353426]  |[0.8480023484605697,0.15199765153943035]|0.0       |\n",
      "|26 |admin.       |single        |secondary|no     |443.0  |no     |no  |cellular |30 |jul  |84.0    |3.0     |-1.0 |0.0     |unknown |no             |[26.0,443.0,84.0,0.0,-1.0,3.0]    |[0.1076923076923077,0.006222958925661629,0.026158940397350994,0.0,0.0,0.06451612903225806]                  |3.0      |1.0                 |0.0            |0.0          |1.0          |13.0     |0.0          |1.0        |0.0           |0.0                  |(11,[3],[1.0]) |(2,[1],[1.0])     |(3,[0],[1.0])|(1,[0],[1.0])|(1,[],[])    |(30,[13],[1.0])|(2,[0],[1.0])|(11,[1],[1.0])|(3,[0],[1.0])|(1,[0],[1.0])      |(65,[3,12,13,16,31,48,51,61,64],[1.0,1.0,1.0,1.0,1.0,1.0,1.0,1.0,1.0])        |(71,[0,1,2,5,9,18,19,22,37,54,57,67,70],[0.1076923076923077,0.006222958925661629,0.026158940397350994,0.06451612903225806,1.0,1.0,1.0,1.0,1.0,1.0,1.0,1.0,1.0])                                     |0.0  |[0.7556761187017692,-0.7556761187017692]  |[0.819261521902674,0.18073847809732602] |0.0       |\n",
      "|26 |admin.       |single        |secondary|no     |609.0  |no     |no  |telephone|28 |jan  |112.0   |1.0     |-1.0 |0.0     |unknown |no             |[26.0,609.0,112.0,0.0,-1.0,1.0]   |[0.1076923076923077,0.008554812608866662,0.03543046357615894,0.0,0.0,0.0]                                   |3.0      |1.0                 |0.0            |0.0          |1.0          |4.0      |2.0          |7.0        |0.0           |0.0                  |(11,[3],[1.0]) |(2,[1],[1.0])     |(3,[0],[1.0])|(1,[0],[1.0])|(1,[],[])    |(30,[4],[1.0]) |(2,[],[])    |(11,[7],[1.0])|(3,[0],[1.0])|(1,[0],[1.0])      |(65,[3,12,13,16,22,57,61,64],[1.0,1.0,1.0,1.0,1.0,1.0,1.0,1.0])               |(71,[0,1,2,9,18,19,22,28,63,67,70],[0.1076923076923077,0.008554812608866662,0.03543046357615894,1.0,1.0,1.0,1.0,1.0,1.0,1.0,1.0])                                                                   |0.0  |[0.9421455396996448,-0.9421455396996448]  |[0.8681032316503696,0.13189676834963038]|0.0       |\n",
      "|26 |admin.       |single        |secondary|no     |3529.0 |no     |yes |cellular |7  |sep  |57.0    |2.0     |-1.0 |0.0     |unknown |no             |[26.0,3529.0,57.0,0.0,-1.0,2.0]   |[0.1076923076923077,0.0495729617351239,0.017218543046357615,0.0,0.0,0.03225806451612903]                    |3.0      |1.0                 |0.0            |0.0          |1.0          |5.0      |0.0          |9.0        |0.0           |0.0                  |(11,[3],[1.0]) |(2,[1],[1.0])     |(3,[0],[1.0])|(1,[0],[1.0])|(1,[],[])    |(30,[5],[1.0]) |(2,[0],[1.0])|(11,[9],[1.0])|(3,[0],[1.0])|(1,[0],[1.0])      |(65,[3,12,13,16,23,48,59,61,64],[1.0,1.0,1.0,1.0,1.0,1.0,1.0,1.0,1.0])        |(71,[0,1,2,5,9,18,19,22,29,54,65,67,70],[0.1076923076923077,0.0495729617351239,0.017218543046357615,0.03225806451612903,1.0,1.0,1.0,1.0,1.0,1.0,1.0,1.0,1.0])                                       |1.0  |[1.0422604635347639,-1.0422604635347639]  |[0.8893895665084517,0.11061043349154831]|0.0       |\n",
      "|26 |blue-collar  |married       |primary  |no     |0.0    |yes    |no  |unknown  |21 |may  |425.0   |1.0     |-1.0 |0.0     |unknown |no             |[26.0,0.0,425.0,0.0,-1.0,1.0]     |[0.1076923076923077,0.0,0.1390728476821192,0.0,0.0,0.0]                                                     |1.0      |0.0                 |2.0            |0.0          |0.0          |8.0      |1.0          |0.0        |0.0           |0.0                  |(11,[1],[1.0]) |(2,[0],[1.0])     |(3,[2],[1.0])|(1,[0],[1.0])|(1,[0],[1.0])|(30,[8],[1.0]) |(2,[1],[1.0])|(11,[0],[1.0])|(3,[0],[1.0])|(1,[0],[1.0])      |(65,[1,11,15,16,17,26,49,50,61,64],[1.0,1.0,1.0,1.0,1.0,1.0,1.0,1.0,1.0,1.0]) |(71,[0,2,7,17,21,22,23,32,55,56,67,70],[0.1076923076923077,0.1390728476821192,1.0,1.0,1.0,1.0,1.0,1.0,1.0,1.0,1.0,1.0])                                                                             |0.0  |[0.7053629452979242,-0.7053629452979242]  |[0.8038804103918518,0.19611958960814824]|0.0       |\n",
      "|26 |blue-collar  |single        |primary  |no     |155.0  |yes    |no  |cellular |29 |jan  |291.0   |1.0     |244.0|4.0     |failure |no             |[26.0,155.0,291.0,4.0,244.0,1.0]  |[0.1076923076923077,0.0021773332584143395,0.09470198675496688,0.16,0.2809633027522936,0.0]                  |1.0      |1.0                 |2.0            |0.0          |0.0          |10.0     |0.0          |7.0        |1.0           |0.0                  |(11,[1],[1.0]) |(2,[1],[1.0])     |(3,[2],[1.0])|(1,[0],[1.0])|(1,[0],[1.0])|(30,[10],[1.0])|(2,[0],[1.0])|(11,[7],[1.0])|(3,[1],[1.0])|(1,[0],[1.0])      |(65,[1,12,15,16,17,28,48,57,62,64],[1.0,1.0,1.0,1.0,1.0,1.0,1.0,1.0,1.0,1.0]) |(71,[0,1,2,3,4,7,18,21,22,23,34,54,63,68,70],[0.1076923076923077,0.0021773332584143395,0.09470198675496688,0.16,0.2809633027522936,1.0,1.0,1.0,1.0,1.0,1.0,1.0,1.0,1.0,1.0])                        |0.0  |[1.1013734416974397,-1.1013734416974397]  |[0.9004959108564001,0.09950408914359987]|0.0       |\n",
      "|26 |blue-collar  |single        |secondary|no     |592.0  |yes    |yes |unknown  |27 |may  |174.0   |1.0     |-1.0 |0.0     |unknown |no             |[26.0,592.0,174.0,0.0,-1.0,1.0]   |[0.1076923076923077,0.008316008316008316,0.05596026490066225,0.0,0.0,0.0]                                   |1.0      |1.0                 |0.0            |0.0          |0.0          |20.0     |1.0          |0.0        |0.0           |0.0                  |(11,[1],[1.0]) |(2,[1],[1.0])     |(3,[0],[1.0])|(1,[0],[1.0])|(1,[0],[1.0])|(30,[20],[1.0])|(2,[1],[1.0])|(11,[0],[1.0])|(3,[0],[1.0])|(1,[0],[1.0])      |(65,[1,12,13,16,17,38,49,50,61,64],[1.0,1.0,1.0,1.0,1.0,1.0,1.0,1.0,1.0,1.0]) |(71,[0,1,2,7,18,19,22,23,44,55,56,67,70],[0.1076923076923077,0.008316008316008316,0.05596026490066225,1.0,1.0,1.0,1.0,1.0,1.0,1.0,1.0,1.0,1.0])                                                     |1.0  |[0.7473222585746704,-0.7473222585746704]  |[0.8167743660406133,0.18322563395938674]|0.0       |\n",
      "|26 |entrepreneur |single        |tertiary |no     |81.0   |no     |no  |cellular |21 |jul  |262.0   |3.0     |-1.0 |0.0     |unknown |no             |[26.0,81.0,262.0,0.0,-1.0,3.0]    |[0.1076923076923077,0.0011378322189133,0.08509933774834437,0.0,0.0,0.06451612903225806]                     |7.0      |1.0                 |1.0            |0.0          |1.0          |8.0      |0.0          |1.0        |0.0           |0.0                  |(11,[7],[1.0]) |(2,[1],[1.0])     |(3,[1],[1.0])|(1,[0],[1.0])|(1,[],[])    |(30,[8],[1.0]) |(2,[0],[1.0])|(11,[1],[1.0])|(3,[0],[1.0])|(1,[0],[1.0])      |(65,[7,12,14,16,26,48,51,61,64],[1.0,1.0,1.0,1.0,1.0,1.0,1.0,1.0,1.0])        |(71,[0,1,2,5,13,18,20,22,32,54,57,67,70],[0.1076923076923077,0.0011378322189133,0.08509933774834437,0.06451612903225806,1.0,1.0,1.0,1.0,1.0,1.0,1.0,1.0,1.0])                                       |0.0  |[0.8695177294859963,-0.8695177294859963]  |[0.8505645093900442,0.14943549060995576]|0.0       |\n",
      "|26 |housemaid    |married       |secondary|no     |0.0    |yes    |no  |cellular |11 |jul  |191.0   |1.0     |-1.0 |0.0     |unknown |no             |[26.0,0.0,191.0,0.0,-1.0,1.0]     |[0.1076923076923077,0.0,0.06158940397350993,0.0,0.0,0.0]                                                    |9.0      |0.0                 |0.0            |0.0          |0.0          |15.0     |0.0          |1.0        |0.0           |0.0                  |(11,[9],[1.0]) |(2,[0],[1.0])     |(3,[0],[1.0])|(1,[0],[1.0])|(1,[0],[1.0])|(30,[15],[1.0])|(2,[0],[1.0])|(11,[1],[1.0])|(3,[0],[1.0])|(1,[0],[1.0])      |(65,[9,11,13,16,17,33,48,51,61,64],[1.0,1.0,1.0,1.0,1.0,1.0,1.0,1.0,1.0,1.0]) |(71,[0,2,15,17,19,22,23,39,54,57,67,70],[0.1076923076923077,0.06158940397350993,1.0,1.0,1.0,1.0,1.0,1.0,1.0,1.0,1.0,1.0])                                                                           |0.0  |[0.6722763830694943,-0.6722763830694943]  |[0.7932376452038372,0.20676235479616278]|0.0       |\n",
      "|26 |housemaid    |married       |tertiary |no     |543.0  |no     |no  |cellular |30 |jan  |169.0   |3.0     |-1.0 |0.0     |unknown |no             |[26.0,543.0,169.0,0.0,-1.0,3.0]   |[0.1076923076923077,0.007627690060122492,0.054304635761589407,0.0,0.0,0.06451612903225806]                  |9.0      |0.0                 |1.0            |0.0          |1.0          |13.0     |0.0          |7.0        |0.0           |0.0                  |(11,[9],[1.0]) |(2,[0],[1.0])     |(3,[1],[1.0])|(1,[0],[1.0])|(1,[],[])    |(30,[13],[1.0])|(2,[0],[1.0])|(11,[7],[1.0])|(3,[0],[1.0])|(1,[0],[1.0])      |(65,[9,11,14,16,31,48,57,61,64],[1.0,1.0,1.0,1.0,1.0,1.0,1.0,1.0,1.0])        |(71,[0,1,2,5,15,17,20,22,37,54,63,67,70],[0.1076923076923077,0.007627690060122492,0.054304635761589407,0.06451612903225806,1.0,1.0,1.0,1.0,1.0,1.0,1.0,1.0,1.0])                                    |0.0  |[0.9000805570340632,-0.9000805570340632]  |[0.8581685462770733,0.14183145372292671]|0.0       |\n",
      "|26 |management   |single        |secondary|no     |63.0   |no     |no  |cellular |28 |jul  |76.0    |4.0     |-1.0 |0.0     |unknown |no             |[26.0,63.0,76.0,0.0,-1.0,4.0]     |[0.1076923076923077,8.849806147103444E-4,0.023509933774834436,0.0,0.0,0.0967741935483871]                   |0.0      |1.0                 |0.0            |0.0          |1.0          |4.0      |0.0          |1.0        |0.0           |0.0                  |(11,[0],[1.0]) |(2,[1],[1.0])     |(3,[0],[1.0])|(1,[0],[1.0])|(1,[],[])    |(30,[4],[1.0]) |(2,[0],[1.0])|(11,[1],[1.0])|(3,[0],[1.0])|(1,[0],[1.0])      |(65,[0,12,13,16,22,48,51,61,64],[1.0,1.0,1.0,1.0,1.0,1.0,1.0,1.0,1.0])        |(71,[0,1,2,5,6,18,19,22,28,54,57,67,70],[0.1076923076923077,8.849806147103444E-4,0.023509933774834436,0.0967741935483871,1.0,1.0,1.0,1.0,1.0,1.0,1.0,1.0,1.0])                                      |0.0  |[0.8218539147370473,-0.8218539147370473]  |[0.8380388311800069,0.16196116881999312]|0.0       |\n",
      "|26 |management   |single        |tertiary |no     |205.0  |no     |no  |unknown  |26 |may  |111.0   |1.0     |-1.0 |0.0     |unknown |no             |[26.0,205.0,111.0,0.0,-1.0,1.0]   |[0.1076923076923077,0.0028796988256447717,0.035099337748344374,0.0,0.0,0.0]                                 |0.0      |1.0                 |1.0            |0.0          |1.0          |23.0     |1.0          |0.0        |0.0           |0.0                  |(11,[0],[1.0]) |(2,[1],[1.0])     |(3,[1],[1.0])|(1,[0],[1.0])|(1,[],[])    |(30,[23],[1.0])|(2,[1],[1.0])|(11,[0],[1.0])|(3,[0],[1.0])|(1,[0],[1.0])      |(65,[0,12,14,16,41,49,50,61,64],[1.0,1.0,1.0,1.0,1.0,1.0,1.0,1.0,1.0])        |(71,[0,1,2,6,18,20,22,47,55,56,67,70],[0.1076923076923077,0.0028796988256447717,0.035099337748344374,1.0,1.0,1.0,1.0,1.0,1.0,1.0,1.0,1.0])                                                          |0.0  |[0.7919229454271417,-0.7919229454271417]  |[0.8297485005075339,0.1702514994924661] |0.0       |\n",
      "|26 |management   |single        |tertiary |no     |350.0  |no     |no  |cellular |8  |jul  |367.0   |1.0     |-1.0 |0.0     |unknown |no             |[26.0,350.0,367.0,0.0,-1.0,1.0]   |[0.1076923076923077,0.0049165589706130245,0.11986754966887417,0.0,0.0,0.0]                                  |0.0      |1.0                 |1.0            |0.0          |1.0          |12.0     |0.0          |1.0        |0.0           |0.0                  |(11,[0],[1.0]) |(2,[1],[1.0])     |(3,[1],[1.0])|(1,[0],[1.0])|(1,[],[])    |(30,[12],[1.0])|(2,[0],[1.0])|(11,[1],[1.0])|(3,[0],[1.0])|(1,[0],[1.0])      |(65,[0,12,14,16,30,48,51,61,64],[1.0,1.0,1.0,1.0,1.0,1.0,1.0,1.0,1.0])        |(71,[0,1,2,6,18,20,22,36,54,57,67,70],[0.1076923076923077,0.0049165589706130245,0.11986754966887417,1.0,1.0,1.0,1.0,1.0,1.0,1.0,1.0,1.0])                                                           |0.0  |[-1.0084376528102694,1.0084376528102694]  |[0.1174424776910662,0.8825575223089338] |1.0       |\n",
      "|26 |management   |single        |tertiary |no     |1177.0 |no     |no  |cellular |19 |oct  |116.0   |1.0     |-1.0 |0.0     |unknown |no             |[26.0,1177.0,116.0,0.0,-1.0,1.0]  |[0.1076923076923077,0.01653368545260437,0.036754966887417216,0.0,0.0,0.0]                                   |0.0      |1.0                 |1.0            |0.0          |1.0          |3.0      |0.0          |8.0        |0.0           |0.0                  |(11,[0],[1.0]) |(2,[1],[1.0])     |(3,[1],[1.0])|(1,[0],[1.0])|(1,[],[])    |(30,[3],[1.0]) |(2,[0],[1.0])|(11,[8],[1.0])|(3,[0],[1.0])|(1,[0],[1.0])      |(65,[0,12,14,16,21,48,58,61,64],[1.0,1.0,1.0,1.0,1.0,1.0,1.0,1.0,1.0])        |(71,[0,1,2,6,18,20,22,27,54,64,67,70],[0.1076923076923077,0.01653368545260437,0.036754966887417216,1.0,1.0,1.0,1.0,1.0,1.0,1.0,1.0,1.0])                                                            |0.0  |[1.2089926098209591,-1.2089926098209591]  |[0.9181885250094636,0.08181147499053643]|0.0       |\n",
      "|26 |self-employed|single        |tertiary |no     |211.0  |no     |no  |cellular |29 |jan  |168.0   |3.0     |-1.0 |0.0     |unknown |no             |[26.0,211.0,168.0,0.0,-1.0,3.0]   |[0.1076923076923077,0.0029639826937124234,0.05397350993377483,0.0,0.0,0.06451612903225806]                  |6.0      |1.0                 |1.0            |0.0          |1.0          |10.0     |0.0          |7.0        |0.0           |0.0                  |(11,[6],[1.0]) |(2,[1],[1.0])     |(3,[1],[1.0])|(1,[0],[1.0])|(1,[],[])    |(30,[10],[1.0])|(2,[0],[1.0])|(11,[7],[1.0])|(3,[0],[1.0])|(1,[0],[1.0])      |(65,[6,12,14,16,28,48,57,61,64],[1.0,1.0,1.0,1.0,1.0,1.0,1.0,1.0,1.0])        |(71,[0,1,2,5,12,18,20,22,34,54,63,67,70],[0.1076923076923077,0.0029639826937124234,0.05397350993377483,0.06451612903225806,1.0,1.0,1.0,1.0,1.0,1.0,1.0,1.0,1.0])                                    |0.0  |[1.0880168464245394,-1.0880168464245394]  |[0.8980765888585129,0.10192341114148706]|0.0       |\n",
      "|26 |self-employed|single        |tertiary |no     |1153.0 |no     |no  |cellular |4  |may  |238.0   |3.0     |-1.0 |0.0     |unknown |no             |[26.0,1153.0,238.0,0.0,-1.0,3.0]  |[0.1076923076923077,0.016196549980333763,0.0771523178807947,0.0,0.0,0.06451612903225806]                    |6.0      |1.0                 |1.0            |0.0          |1.0          |19.0     |0.0          |0.0        |0.0           |0.0                  |(11,[6],[1.0]) |(2,[1],[1.0])     |(3,[1],[1.0])|(1,[0],[1.0])|(1,[],[])    |(30,[19],[1.0])|(2,[0],[1.0])|(11,[0],[1.0])|(3,[0],[1.0])|(1,[0],[1.0])      |(65,[6,12,14,16,37,48,50,61,64],[1.0,1.0,1.0,1.0,1.0,1.0,1.0,1.0,1.0])        |(71,[0,1,2,5,12,18,20,22,43,54,56,67,70],[0.1076923076923077,0.016196549980333763,0.0771523178807947,0.06451612903225806,1.0,1.0,1.0,1.0,1.0,1.0,1.0,1.0,1.0])                                      |0.0  |[1.2927894122122756,-1.2927894122122756]  |[0.9299276706377283,0.0700723293622717] |0.0       |\n",
      "|26 |services     |divorced      |secondary|no     |74.0   |yes    |no  |unknown  |23 |may  |106.0   |6.0     |-1.0 |0.0     |unknown |no             |[26.0,74.0,106.0,0.0,-1.0,6.0]    |[0.1076923076923077,0.0010395010395010396,0.033443708609271525,0.0,0.0,0.16129032258064516]                 |4.0      |2.0                 |0.0            |0.0          |0.0          |24.0     |1.0          |0.0        |0.0           |0.0                  |(11,[4],[1.0]) |(2,[],[])         |(3,[0],[1.0])|(1,[0],[1.0])|(1,[0],[1.0])|(30,[24],[1.0])|(2,[1],[1.0])|(11,[0],[1.0])|(3,[0],[1.0])|(1,[0],[1.0])      |(65,[4,13,16,17,42,49,50,61,64],[1.0,1.0,1.0,1.0,1.0,1.0,1.0,1.0,1.0])        |(71,[0,1,2,5,10,19,22,23,48,55,56,67,70],[0.1076923076923077,0.0010395010395010396,0.033443708609271525,0.16129032258064516,1.0,1.0,1.0,1.0,1.0,1.0,1.0,1.0,1.0])                                   |0.0  |[0.7473222585746704,-0.7473222585746704]  |[0.8167743660406133,0.18322563395938674]|0.0       |\n",
      "|26 |services     |single        |secondary|no     |50.0   |yes    |no  |cellular |12 |aug  |153.0   |1.0     |-1.0 |0.0     |unknown |no             |[26.0,50.0,153.0,0.0,-1.0,1.0]    |[0.1076923076923077,7.02365567230432E-4,0.04900662251655629,0.0,0.0,0.0]                                    |4.0      |1.0                 |0.0            |0.0          |0.0          |18.0     |0.0          |2.0        |0.0           |0.0                  |(11,[4],[1.0]) |(2,[1],[1.0])     |(3,[0],[1.0])|(1,[0],[1.0])|(1,[0],[1.0])|(30,[18],[1.0])|(2,[0],[1.0])|(11,[2],[1.0])|(3,[0],[1.0])|(1,[0],[1.0])      |(65,[4,12,13,16,17,36,48,52,61,64],[1.0,1.0,1.0,1.0,1.0,1.0,1.0,1.0,1.0,1.0]) |(71,[0,1,2,10,18,19,22,23,42,54,58,67,70],[0.1076923076923077,7.02365567230432E-4,0.04900662251655629,1.0,1.0,1.0,1.0,1.0,1.0,1.0,1.0,1.0,1.0])                                                     |0.0  |[0.8488211682055009,-0.8488211682055009]  |[0.8452265595886126,0.1547734404113874] |0.0       |\n",
      "|26 |services     |single        |secondary|no     |127.0  |yes    |yes |cellular |23 |jul  |85.0    |3.0     |-1.0 |0.0     |unknown |no             |[26.0,127.0,85.0,0.0,-1.0,3.0]    |[0.1076923076923077,0.0017840085407652975,0.026490066225165563,0.0,0.0,0.06451612903225806]                 |4.0      |1.0                 |0.0            |0.0          |0.0          |24.0     |0.0          |1.0        |0.0           |0.0                  |(11,[4],[1.0]) |(2,[1],[1.0])     |(3,[0],[1.0])|(1,[0],[1.0])|(1,[0],[1.0])|(30,[24],[1.0])|(2,[0],[1.0])|(11,[1],[1.0])|(3,[0],[1.0])|(1,[0],[1.0])      |(65,[4,12,13,16,17,42,48,51,61,64],[1.0,1.0,1.0,1.0,1.0,1.0,1.0,1.0,1.0,1.0]) |(71,[0,1,2,5,10,18,19,22,23,48,54,57,67,70],[0.1076923076923077,0.0017840085407652975,0.026490066225165563,0.06451612903225806,1.0,1.0,1.0,1.0,1.0,1.0,1.0,1.0,1.0,1.0])                            |1.0  |[0.6247054034907672,-0.6247054034907672]  |[0.7771978523791657,0.22280214762083428]|0.0       |\n",
      "|26 |services     |single        |secondary|no     |256.0  |yes    |no  |cellular |4  |may  |101.0   |2.0     |-1.0 |0.0     |unknown |no             |[26.0,256.0,101.0,0.0,-1.0,2.0]   |[0.1076923076923077,0.003596111704219812,0.031788079470198675,0.0,0.0,0.03225806451612903]                  |4.0      |1.0                 |0.0            |0.0          |0.0          |19.0     |0.0          |0.0        |0.0           |0.0                  |(11,[4],[1.0]) |(2,[1],[1.0])     |(3,[0],[1.0])|(1,[0],[1.0])|(1,[0],[1.0])|(30,[19],[1.0])|(2,[0],[1.0])|(11,[0],[1.0])|(3,[0],[1.0])|(1,[0],[1.0])      |(65,[4,12,13,16,17,37,48,50,61,64],[1.0,1.0,1.0,1.0,1.0,1.0,1.0,1.0,1.0,1.0]) |(71,[0,1,2,5,10,18,19,22,23,43,54,56,67,70],[0.1076923076923077,0.003596111704219812,0.031788079470198675,0.03225806451612903,1.0,1.0,1.0,1.0,1.0,1.0,1.0,1.0,1.0,1.0])                             |0.0  |[0.7471376074022442,-0.7471376074022442]  |[0.8167190920014864,0.1832809079985136] |0.0       |\n",
      "|26 |services     |single        |secondary|no     |5533.0 |yes    |no  |cellular |7  |may  |582.0   |2.0     |283.0|4.0     |failure |no             |[26.0,5533.0,582.0,4.0,283.0,2.0] |[0.1076923076923077,0.07772377366971961,0.19105960264900662,0.16,0.3256880733944954,0.03225806451612903]    |4.0      |1.0                 |0.0            |0.0          |0.0          |5.0      |0.0          |0.0        |1.0           |0.0                  |(11,[4],[1.0]) |(2,[1],[1.0])     |(3,[0],[1.0])|(1,[0],[1.0])|(1,[0],[1.0])|(30,[5],[1.0]) |(2,[0],[1.0])|(11,[0],[1.0])|(3,[1],[1.0])|(1,[0],[1.0])      |(65,[4,12,13,16,17,23,48,50,62,64],[1.0,1.0,1.0,1.0,1.0,1.0,1.0,1.0,1.0,1.0]) |(71,[0,1,2,3,4,5,10,18,19,22,23,29,54,56,68,70],[0.1076923076923077,0.07772377366971961,0.19105960264900662,0.16,0.3256880733944954,0.03225806451612903,1.0,1.0,1.0,1.0,1.0,1.0,1.0,1.0,1.0,1.0])   |0.0  |[1.0057378144476303,-1.0057378144476303]  |[0.881996690067618,0.11800330993238195] |0.0       |\n",
      "|26 |technician   |single        |tertiary |no     |75.0   |yes    |yes |unknown  |19 |may  |351.0   |1.0     |-1.0 |0.0     |unknown |no             |[26.0,75.0,351.0,0.0,-1.0,1.0]    |[0.1076923076923077,0.0010535483508456482,0.11456953642384106,0.0,0.0,0.0]                                  |2.0      |1.0                 |1.0            |0.0          |0.0          |3.0      |1.0          |0.0        |0.0           |0.0                  |(11,[2],[1.0]) |(2,[1],[1.0])     |(3,[1],[1.0])|(1,[0],[1.0])|(1,[0],[1.0])|(30,[3],[1.0]) |(2,[1],[1.0])|(11,[0],[1.0])|(3,[0],[1.0])|(1,[0],[1.0])      |(65,[2,12,14,16,17,21,49,50,61,64],[1.0,1.0,1.0,1.0,1.0,1.0,1.0,1.0,1.0,1.0]) |(71,[0,1,2,8,18,20,22,23,27,55,56,67,70],[0.1076923076923077,0.0010535483508456482,0.11456953642384106,1.0,1.0,1.0,1.0,1.0,1.0,1.0,1.0,1.0,1.0])                                                    |1.0  |[0.7053629452979242,-0.7053629452979242]  |[0.8038804103918518,0.19611958960814824]|0.0       |\n",
      "|27 |admin.       |divorced      |secondary|no     |451.0  |yes    |no  |cellular |16 |jul  |652.0   |1.0     |-1.0 |0.0     |unknown |yes            |[27.0,451.0,652.0,0.0,-1.0,1.0]   |[0.12307692307692308,0.006335337416418498,0.2142384105960265,0.0,0.0,0.0]                                   |3.0      |2.0                 |0.0            |0.0          |0.0          |14.0     |0.0          |1.0        |0.0           |1.0                  |(11,[3],[1.0]) |(2,[],[])         |(3,[0],[1.0])|(1,[0],[1.0])|(1,[0],[1.0])|(30,[14],[1.0])|(2,[0],[1.0])|(11,[1],[1.0])|(3,[0],[1.0])|(1,[],[])          |(65,[3,13,16,17,32,48,51,61],[1.0,1.0,1.0,1.0,1.0,1.0,1.0,1.0])               |(71,[0,1,2,9,19,22,23,38,54,57,67],[0.12307692307692308,0.006335337416418498,0.2142384105960265,1.0,1.0,1.0,1.0,1.0,1.0,1.0,1.0])                                                                   |0.0  |[-0.9843976796296672,0.9843976796296672]  |[0.12251833596985649,0.8774816640301435]|1.0       |\n",
      "|27 |admin.       |married       |secondary|no     |897.0  |no     |no  |cellular |5  |jun  |397.0   |1.0     |-1.0 |0.0     |unknown |yes            |[27.0,897.0,397.0,0.0,-1.0,1.0]   |[0.12307692307692308,0.012600438276113951,0.12980132450331125,0.0,0.0,0.0]                                  |3.0      |0.0                 |0.0            |0.0          |1.0          |11.0     |0.0          |3.0        |0.0           |1.0                  |(11,[3],[1.0]) |(2,[0],[1.0])     |(3,[0],[1.0])|(1,[0],[1.0])|(1,[],[])    |(30,[11],[1.0])|(2,[0],[1.0])|(11,[3],[1.0])|(3,[0],[1.0])|(1,[],[])          |(65,[3,11,13,16,29,48,53,61],[1.0,1.0,1.0,1.0,1.0,1.0,1.0,1.0])               |(71,[0,1,2,9,17,19,22,35,54,59,67],[0.12307692307692308,0.012600438276113951,0.12980132450331125,1.0,1.0,1.0,1.0,1.0,1.0,1.0,1.0])                                                                  |0.0  |[1.19910944479433,-1.19910944479433]      |[0.9166913840605854,0.08330861593941463]|0.0       |\n",
      "|27 |admin.       |married       |secondary|no     |1033.0 |yes    |no  |unknown  |9  |may  |1713.0  |1.0     |-1.0 |0.0     |unknown |no             |[27.0,1033.0,1713.0,0.0,-1.0,1.0] |[0.12307692307692308,0.014510872618980727,0.5655629139072847,0.0,0.0,0.0]                                   |3.0      |0.0                 |0.0            |0.0          |0.0          |16.0     |1.0          |0.0        |0.0           |0.0                  |(11,[3],[1.0]) |(2,[0],[1.0])     |(3,[0],[1.0])|(1,[0],[1.0])|(1,[0],[1.0])|(30,[16],[1.0])|(2,[1],[1.0])|(11,[0],[1.0])|(3,[0],[1.0])|(1,[0],[1.0])      |(65,[3,11,13,16,17,34,49,50,61,64],[1.0,1.0,1.0,1.0,1.0,1.0,1.0,1.0,1.0,1.0]) |(71,[0,1,2,9,17,19,22,23,40,55,56,67,70],[0.12307692307692308,0.014510872618980727,0.5655629139072847,1.0,1.0,1.0,1.0,1.0,1.0,1.0,1.0,1.0,1.0])                                                     |0.0  |[0.9018648378163568,-0.9018648378163568]  |[0.8586023398794325,0.14139766012056754]|0.0       |\n",
      "|27 |admin.       |married       |secondary|yes    |0.0    |yes    |no  |cellular |14 |jul  |172.0   |3.0     |-1.0 |0.0     |unknown |no             |[27.0,0.0,172.0,0.0,-1.0,3.0]     |[0.12307692307692308,0.0,0.05529801324503311,0.0,0.0,0.06451612903225806]                                   |3.0      |0.0                 |0.0            |1.0          |0.0          |2.0      |0.0          |1.0        |0.0           |0.0                  |(11,[3],[1.0]) |(2,[0],[1.0])     |(3,[0],[1.0])|(1,[],[])    |(1,[0],[1.0])|(30,[2],[1.0]) |(2,[0],[1.0])|(11,[1],[1.0])|(3,[0],[1.0])|(1,[0],[1.0])      |(65,[3,11,13,17,20,48,51,61,64],[1.0,1.0,1.0,1.0,1.0,1.0,1.0,1.0,1.0])        |(71,[0,2,5,9,17,19,23,26,54,57,67,70],[0.12307692307692308,0.05529801324503311,0.06451612903225806,1.0,1.0,1.0,1.0,1.0,1.0,1.0,1.0,1.0])                                                            |0.0  |[0.1202624389591135,-0.1202624389591135]  |[0.5598429931221938,0.44015700687780623]|0.0       |\n",
      "|27 |admin.       |single        |secondary|no     |3638.0 |no     |no  |cellular |11 |jul  |271.0   |5.0     |-1.0 |0.0     |unknown |no             |[27.0,3638.0,271.0,0.0,-1.0,5.0]  |[0.12307692307692308,0.05110411867168624,0.0880794701986755,0.0,0.0,0.12903225806451613]                    |3.0      |1.0                 |0.0            |0.0          |1.0          |15.0     |0.0          |1.0        |0.0           |0.0                  |(11,[3],[1.0]) |(2,[1],[1.0])     |(3,[0],[1.0])|(1,[0],[1.0])|(1,[],[])    |(30,[15],[1.0])|(2,[0],[1.0])|(11,[1],[1.0])|(3,[0],[1.0])|(1,[0],[1.0])      |(65,[3,12,13,16,33,48,51,61,64],[1.0,1.0,1.0,1.0,1.0,1.0,1.0,1.0,1.0])        |(71,[0,1,2,5,9,18,19,22,39,54,57,67,70],[0.12307692307692308,0.05110411867168624,0.0880794701986755,0.12903225806451613,1.0,1.0,1.0,1.0,1.0,1.0,1.0,1.0,1.0])                                       |0.0  |[0.8559359092497631,-0.8559359092497631]  |[0.8470789101024873,0.15292108989751274]|0.0       |\n",
      "|27 |blue-collar  |married       |secondary|yes    |0.0    |yes    |no  |cellular |7  |may  |411.0   |2.0     |-1.0 |0.0     |unknown |no             |[27.0,0.0,411.0,0.0,-1.0,2.0]     |[0.12307692307692308,0.0,0.13443708609271524,0.0,0.0,0.03225806451612903]                                   |1.0      |0.0                 |0.0            |1.0          |0.0          |5.0      |0.0          |0.0        |0.0           |0.0                  |(11,[1],[1.0]) |(2,[0],[1.0])     |(3,[0],[1.0])|(1,[],[])    |(1,[0],[1.0])|(30,[5],[1.0]) |(2,[0],[1.0])|(11,[0],[1.0])|(3,[0],[1.0])|(1,[0],[1.0])      |(65,[1,11,13,17,23,48,50,61,64],[1.0,1.0,1.0,1.0,1.0,1.0,1.0,1.0,1.0])        |(71,[0,2,5,7,17,19,23,29,54,56,67,70],[0.12307692307692308,0.13443708609271524,0.03225806451612903,1.0,1.0,1.0,1.0,1.0,1.0,1.0,1.0,1.0])                                                            |0.0  |[0.7813191423814378,-0.7813191423814378]  |[0.826731603768313,0.173268396231687]   |0.0       |\n",
      "|27 |blue-collar  |single        |secondary|no     |5.0    |yes    |no  |unknown  |19 |may  |205.0   |3.0     |-1.0 |0.0     |unknown |no             |[27.0,5.0,205.0,0.0,-1.0,3.0]     |[0.12307692307692308,7.02365567230432E-5,0.06622516556291391,0.0,0.0,0.06451612903225806]                   |1.0      |1.0                 |0.0            |0.0          |0.0          |3.0      |1.0          |0.0        |0.0           |0.0                  |(11,[1],[1.0]) |(2,[1],[1.0])     |(3,[0],[1.0])|(1,[0],[1.0])|(1,[0],[1.0])|(30,[3],[1.0]) |(2,[1],[1.0])|(11,[0],[1.0])|(3,[0],[1.0])|(1,[0],[1.0])      |(65,[1,12,13,16,17,21,49,50,61,64],[1.0,1.0,1.0,1.0,1.0,1.0,1.0,1.0,1.0,1.0]) |(71,[0,1,2,5,7,18,19,22,23,27,55,56,67,70],[0.12307692307692308,7.02365567230432E-5,0.06622516556291391,0.06451612903225806,1.0,1.0,1.0,1.0,1.0,1.0,1.0,1.0,1.0,1.0])                               |0.0  |[0.7473222585746704,-0.7473222585746704]  |[0.8167743660406133,0.18322563395938674]|0.0       |\n",
      "|27 |blue-collar  |single        |secondary|no     |148.0  |no     |no  |cellular |22 |jul  |203.0   |1.0     |-1.0 |0.0     |unknown |no             |[27.0,148.0,203.0,0.0,-1.0,1.0]   |[0.12307692307692308,0.002079002079002079,0.06556291390728476,0.0,0.0,0.0]                                  |1.0      |1.0                 |0.0            |0.0          |1.0          |26.0     |0.0          |1.0        |0.0           |0.0                  |(11,[1],[1.0]) |(2,[1],[1.0])     |(3,[0],[1.0])|(1,[0],[1.0])|(1,[],[])    |(30,[26],[1.0])|(2,[0],[1.0])|(11,[1],[1.0])|(3,[0],[1.0])|(1,[0],[1.0])      |(65,[1,12,13,16,44,48,51,61,64],[1.0,1.0,1.0,1.0,1.0,1.0,1.0,1.0,1.0])        |(71,[0,1,2,7,18,19,22,50,54,57,67,70],[0.12307692307692308,0.002079002079002079,0.06556291390728476,1.0,1.0,1.0,1.0,1.0,1.0,1.0,1.0,1.0])                                                           |0.0  |[1.2561342951760992,-1.2561342951760992]  |[0.924997430751903,0.075002569248097]   |0.0       |\n",
      "|27 |entrepreneur |single        |tertiary |no     |81.0   |no     |no  |cellular |5  |feb  |197.0   |1.0     |199.0|3.0     |failure |no             |[27.0,81.0,197.0,3.0,199.0,1.0]   |[0.12307692307692308,0.0011378322189133,0.06357615894039735,0.12,0.22935779816513763,0.0]                   |7.0      |1.0                 |1.0            |0.0          |1.0          |11.0     |0.0          |6.0        |1.0           |0.0                  |(11,[7],[1.0]) |(2,[1],[1.0])     |(3,[1],[1.0])|(1,[0],[1.0])|(1,[],[])    |(30,[11],[1.0])|(2,[0],[1.0])|(11,[6],[1.0])|(3,[1],[1.0])|(1,[0],[1.0])      |(65,[7,12,14,16,29,48,56,62,64],[1.0,1.0,1.0,1.0,1.0,1.0,1.0,1.0,1.0])        |(71,[0,1,2,3,4,13,18,20,22,35,54,62,68,70],[0.12307692307692308,0.0011378322189133,0.06357615894039735,0.12,0.22935779816513763,1.0,1.0,1.0,1.0,1.0,1.0,1.0,1.0,1.0])                               |0.0  |[1.2008376910838754,-1.2008376910838754]  |[0.9169549705861575,0.08304502941384251]|0.0       |\n",
      "|27 |management   |single        |tertiary |no     |0.0    |yes    |no  |cellular |30 |jan  |323.0   |4.0     |-1.0 |0.0     |unknown |no             |[27.0,0.0,323.0,0.0,-1.0,4.0]     |[0.12307692307692308,0.0,0.10529801324503311,0.0,0.0,0.0967741935483871]                                    |0.0      |1.0                 |1.0            |0.0          |0.0          |13.0     |0.0          |7.0        |0.0           |0.0                  |(11,[0],[1.0]) |(2,[1],[1.0])     |(3,[1],[1.0])|(1,[0],[1.0])|(1,[0],[1.0])|(30,[13],[1.0])|(2,[0],[1.0])|(11,[7],[1.0])|(3,[0],[1.0])|(1,[0],[1.0])      |(65,[0,12,14,16,17,31,48,57,61,64],[1.0,1.0,1.0,1.0,1.0,1.0,1.0,1.0,1.0,1.0]) |(71,[0,2,5,6,18,20,22,23,37,54,63,67,70],[0.12307692307692308,0.10529801324503311,0.0967741935483871,1.0,1.0,1.0,1.0,1.0,1.0,1.0,1.0,1.0,1.0])                                                      |0.0  |[1.1650422524919566,-1.1650422524919566]  |[0.9113381650625504,0.08866183493744961]|0.0       |\n",
      "|27 |management   |single        |tertiary |no     |88.0   |no     |no  |cellular |4  |may  |143.0   |1.0     |-1.0 |0.0     |unknown |no             |[27.0,88.0,143.0,0.0,-1.0,1.0]    |[0.12307692307692308,0.0012361633983255604,0.0456953642384106,0.0,0.0,0.0]                                  |0.0      |1.0                 |1.0            |0.0          |1.0          |19.0     |0.0          |0.0        |0.0           |0.0                  |(11,[0],[1.0]) |(2,[1],[1.0])     |(3,[1],[1.0])|(1,[0],[1.0])|(1,[],[])    |(30,[19],[1.0])|(2,[0],[1.0])|(11,[0],[1.0])|(3,[0],[1.0])|(1,[0],[1.0])      |(65,[0,12,14,16,37,48,50,61,64],[1.0,1.0,1.0,1.0,1.0,1.0,1.0,1.0,1.0])        |(71,[0,1,2,6,18,20,22,43,54,56,67,70],[0.12307692307692308,0.0012361633983255604,0.0456953642384106,1.0,1.0,1.0,1.0,1.0,1.0,1.0,1.0,1.0])                                                           |0.0  |[1.1317372703308475,-1.1317372703308475]  |[0.9058065009100954,0.0941934990899046] |0.0       |\n",
      "|27 |management   |single        |tertiary |no     |390.0  |no     |no  |cellular |28 |oct  |190.0   |1.0     |82.0 |1.0     |success |no             |[27.0,390.0,190.0,1.0,82.0,1.0]   |[0.12307692307692308,0.00547845142439737,0.061258278145695365,0.04,0.09518348623853211,0.0]                 |0.0      |1.0                 |1.0            |0.0          |1.0          |4.0      |0.0          |8.0        |3.0           |0.0                  |(11,[0],[1.0]) |(2,[1],[1.0])     |(3,[1],[1.0])|(1,[0],[1.0])|(1,[],[])    |(30,[4],[1.0]) |(2,[0],[1.0])|(11,[8],[1.0])|(3,[],[])    |(1,[0],[1.0])      |(65,[0,12,14,16,22,48,58,64],[1.0,1.0,1.0,1.0,1.0,1.0,1.0,1.0])               |(71,[0,1,2,3,4,6,18,20,22,28,54,64,70],[0.12307692307692308,0.00547845142439737,0.061258278145695365,0.04,0.09518348623853211,1.0,1.0,1.0,1.0,1.0,1.0,1.0,1.0])                                     |0.0  |[1.1317372703308475,-1.1317372703308475]  |[0.9058065009100954,0.0941934990899046] |0.0       |\n",
      "|27 |management   |single        |tertiary |yes    |0.0    |no     |yes |cellular |8  |jul  |46.0    |1.0     |-1.0 |0.0     |unknown |no             |[27.0,0.0,46.0,0.0,-1.0,1.0]      |[0.12307692307692308,0.0,0.013576158940397352,0.0,0.0,0.0]                                                  |0.0      |1.0                 |1.0            |1.0          |1.0          |12.0     |0.0          |1.0        |0.0           |0.0                  |(11,[0],[1.0]) |(2,[1],[1.0])     |(3,[1],[1.0])|(1,[],[])    |(1,[],[])    |(30,[12],[1.0])|(2,[0],[1.0])|(11,[1],[1.0])|(3,[0],[1.0])|(1,[0],[1.0])      |(65,[0,12,14,30,48,51,61,64],[1.0,1.0,1.0,1.0,1.0,1.0,1.0,1.0])               |(71,[0,2,6,18,20,36,54,57,67,70],[0.12307692307692308,0.013576158940397352,1.0,1.0,1.0,1.0,1.0,1.0,1.0,1.0])                                                                                        |1.0  |[-1.1975853052043832,1.1975853052043832]  |[0.08354170369483412,0.9164582963051658]|1.0       |\n",
      "|27 |services     |divorced      |secondary|no     |10.0   |yes    |no  |cellular |22 |jul  |527.0   |1.0     |-1.0 |0.0     |unknown |no             |[27.0,10.0,527.0,0.0,-1.0,1.0]    |[0.12307692307692308,1.404731134460864E-4,0.1728476821192053,0.0,0.0,0.0]                                   |4.0      |2.0                 |0.0            |0.0          |0.0          |26.0     |0.0          |1.0        |0.0           |0.0                  |(11,[4],[1.0]) |(2,[],[])         |(3,[0],[1.0])|(1,[0],[1.0])|(1,[0],[1.0])|(30,[26],[1.0])|(2,[0],[1.0])|(11,[1],[1.0])|(3,[0],[1.0])|(1,[0],[1.0])      |(65,[4,13,16,17,44,48,51,61,64],[1.0,1.0,1.0,1.0,1.0,1.0,1.0,1.0,1.0])        |(71,[0,1,2,10,19,22,23,50,54,57,67,70],[0.12307692307692308,1.404731134460864E-4,0.1728476821192053,1.0,1.0,1.0,1.0,1.0,1.0,1.0,1.0,1.0])                                                           |0.0  |[0.9328201002811447,-0.9328201002811447]  |[0.8659530058866208,0.13404699411337917]|0.0       |\n",
      "|27 |services     |married       |secondary|no     |0.0    |yes    |no  |cellular |22 |jul  |1608.0  |13.0    |-1.0 |0.0     |unknown |yes            |[27.0,0.0,1608.0,0.0,-1.0,13.0]   |[0.12307692307692308,0.0,0.5307947019867549,0.0,0.0,0.3870967741935484]                                     |4.0      |0.0                 |0.0            |0.0          |0.0          |26.0     |0.0          |1.0        |0.0           |1.0                  |(11,[4],[1.0]) |(2,[0],[1.0])     |(3,[0],[1.0])|(1,[0],[1.0])|(1,[0],[1.0])|(30,[26],[1.0])|(2,[0],[1.0])|(11,[1],[1.0])|(3,[0],[1.0])|(1,[],[])          |(65,[4,11,13,16,17,44,48,51,61],[1.0,1.0,1.0,1.0,1.0,1.0,1.0,1.0,1.0])        |(71,[0,2,5,10,17,19,22,23,50,54,57,67],[0.12307692307692308,0.5307947019867549,0.3870967741935484,1.0,1.0,1.0,1.0,1.0,1.0,1.0,1.0,1.0])                                                             |0.0  |[0.9333923085288741,-0.9333923085288741]  |[0.8660857922936739,0.13391420770632612]|0.0       |\n",
      "|27 |services     |married       |secondary|no     |0.0    |yes    |no  |unknown  |4  |jun  |749.0   |2.0     |-1.0 |0.0     |unknown |no             |[27.0,0.0,749.0,0.0,-1.0,2.0]     |[0.12307692307692308,0.0,0.24635761589403973,0.0,0.0,0.03225806451612903]                                   |4.0      |0.0                 |0.0            |0.0          |0.0          |19.0     |1.0          |3.0        |0.0           |0.0                  |(11,[4],[1.0]) |(2,[0],[1.0])     |(3,[0],[1.0])|(1,[0],[1.0])|(1,[0],[1.0])|(30,[19],[1.0])|(2,[1],[1.0])|(11,[3],[1.0])|(3,[0],[1.0])|(1,[0],[1.0])      |(65,[4,11,13,16,17,37,49,53,61,64],[1.0,1.0,1.0,1.0,1.0,1.0,1.0,1.0,1.0,1.0]) |(71,[0,2,5,10,17,19,22,23,43,55,59,67,70],[0.12307692307692308,0.24635761589403973,0.03225806451612903,1.0,1.0,1.0,1.0,1.0,1.0,1.0,1.0,1.0,1.0])                                                    |0.0  |[0.5881602158281407,-0.5881602158281407]  |[0.7642855627158581,0.23571443728414188]|0.0       |\n",
      "|27 |services     |married       |secondary|no     |54.0   |yes    |no  |cellular |18 |may  |97.0    |1.0     |370.0|1.0     |failure |no             |[27.0,54.0,97.0,1.0,370.0,1.0]    |[0.12307692307692308,7.585548126088666E-4,0.030463576158940398,0.04,0.42545871559633025,0.0]                |4.0      |0.0                 |0.0            |0.0          |0.0          |1.0      |0.0          |0.0        |1.0           |0.0                  |(11,[4],[1.0]) |(2,[0],[1.0])     |(3,[0],[1.0])|(1,[0],[1.0])|(1,[0],[1.0])|(30,[1],[1.0]) |(2,[0],[1.0])|(11,[0],[1.0])|(3,[1],[1.0])|(1,[0],[1.0])      |(65,[4,11,13,16,17,19,48,50,62,64],[1.0,1.0,1.0,1.0,1.0,1.0,1.0,1.0,1.0,1.0]) |(71,[0,1,2,3,4,10,17,19,22,23,25,54,56,68,70],[0.12307692307692308,7.585548126088666E-4,0.030463576158940398,0.04,0.42545871559633025,1.0,1.0,1.0,1.0,1.0,1.0,1.0,1.0,1.0,1.0])                     |0.0  |[0.8802545728774406,-0.8802545728774406]  |[0.8532734156409316,0.14672658435906838]|0.0       |\n",
      "|27 |services     |married       |secondary|no     |58.0   |yes    |no  |cellular |7  |may  |113.0   |1.0     |337.0|2.0     |other   |no             |[27.0,58.0,113.0,2.0,337.0,1.0]   |[0.12307692307692308,8.147440579873012E-4,0.03576158940397351,0.08,0.3876146788990826,0.0]                  |4.0      |0.0                 |0.0            |0.0          |0.0          |5.0      |0.0          |0.0        |2.0           |0.0                  |(11,[4],[1.0]) |(2,[0],[1.0])     |(3,[0],[1.0])|(1,[0],[1.0])|(1,[0],[1.0])|(30,[5],[1.0]) |(2,[0],[1.0])|(11,[0],[1.0])|(3,[2],[1.0])|(1,[0],[1.0])      |(65,[4,11,13,16,17,23,48,50,63,64],[1.0,1.0,1.0,1.0,1.0,1.0,1.0,1.0,1.0,1.0]) |(71,[0,1,2,3,4,10,17,19,22,23,29,54,56,69,70],[0.12307692307692308,8.147440579873012E-4,0.03576158940397351,0.08,0.3876146788990826,1.0,1.0,1.0,1.0,1.0,1.0,1.0,1.0,1.0,1.0])                       |0.0  |[0.7742113019857035,-0.7742113019857035]  |[0.8246857900677713,0.17531420993222868]|0.0       |\n",
      "|27 |services     |single        |secondary|no     |261.0  |yes    |yes |cellular |18 |may  |113.0   |1.0     |-1.0 |0.0     |unknown |no             |[27.0,261.0,113.0,0.0,-1.0,1.0]   |[0.12307692307692308,0.0036663482609428557,0.03576158940397351,0.0,0.0,0.0]                                 |4.0      |1.0                 |0.0            |0.0          |0.0          |1.0      |0.0          |0.0        |0.0           |0.0                  |(11,[4],[1.0]) |(2,[1],[1.0])     |(3,[0],[1.0])|(1,[0],[1.0])|(1,[0],[1.0])|(30,[1],[1.0]) |(2,[0],[1.0])|(11,[0],[1.0])|(3,[0],[1.0])|(1,[0],[1.0])      |(65,[4,12,13,16,17,19,48,50,61,64],[1.0,1.0,1.0,1.0,1.0,1.0,1.0,1.0,1.0,1.0]) |(71,[0,1,2,10,18,19,22,23,25,54,56,67,70],[0.12307692307692308,0.0036663482609428557,0.03576158940397351,1.0,1.0,1.0,1.0,1.0,1.0,1.0,1.0,1.0,1.0])                                                  |1.0  |[0.7631263254242009,-0.7631263254242009]  |[0.8214573705619838,0.17854262943801624]|0.0       |\n",
      "|27 |services     |single        |secondary|no     |795.0  |no     |no  |cellular |6  |feb  |101.0   |3.0     |-1.0 |0.0     |unknown |no             |[27.0,795.0,101.0,0.0,-1.0,3.0]   |[0.12307692307692308,0.01116761251896387,0.031788079470198675,0.0,0.0,0.06451612903225806]                  |4.0      |1.0                 |0.0            |0.0          |1.0          |6.0      |0.0          |6.0        |0.0           |0.0                  |(11,[4],[1.0]) |(2,[1],[1.0])     |(3,[0],[1.0])|(1,[0],[1.0])|(1,[],[])    |(30,[6],[1.0]) |(2,[0],[1.0])|(11,[6],[1.0])|(3,[0],[1.0])|(1,[0],[1.0])      |(65,[4,12,13,16,24,48,56,61,64],[1.0,1.0,1.0,1.0,1.0,1.0,1.0,1.0,1.0])        |(71,[0,1,2,5,10,18,19,22,30,54,62,67,70],[0.12307692307692308,0.01116761251896387,0.031788079470198675,0.06451612903225806,1.0,1.0,1.0,1.0,1.0,1.0,1.0,1.0,1.0])                                    |0.0  |[0.9020881065149868,-0.9020881065149868]  |[0.8586565427868043,0.14134345721319574]|0.0       |\n",
      "|27 |services     |single        |secondary|no     |3354.0 |yes    |no  |cellular |14 |may  |493.0   |5.0     |-1.0 |0.0     |unknown |no             |[27.0,3354.0,493.0,0.0,-1.0,5.0]  |[0.12307692307692308,0.04711468224981739,0.16158940397350993,0.0,0.0,0.12903225806451613]                   |4.0      |1.0                 |0.0            |0.0          |0.0          |2.0      |0.0          |0.0        |0.0           |0.0                  |(11,[4],[1.0]) |(2,[1],[1.0])     |(3,[0],[1.0])|(1,[0],[1.0])|(1,[0],[1.0])|(30,[2],[1.0]) |(2,[0],[1.0])|(11,[0],[1.0])|(3,[0],[1.0])|(1,[0],[1.0])      |(65,[4,12,13,16,17,20,48,50,61,64],[1.0,1.0,1.0,1.0,1.0,1.0,1.0,1.0,1.0,1.0]) |(71,[0,1,2,5,10,18,19,22,23,26,54,56,67,70],[0.12307692307692308,0.04711468224981739,0.16158940397350993,0.12903225806451613,1.0,1.0,1.0,1.0,1.0,1.0,1.0,1.0,1.0,1.0])                              |0.0  |[1.0033326668092932,-1.0033326668092932]  |[0.881495120937645,0.11850487906235496] |0.0       |\n",
      "|27 |services     |single        |secondary|yes    |0.0    |no     |no  |cellular |22 |jul  |60.0    |2.0     |-1.0 |0.0     |unknown |no             |[27.0,0.0,60.0,0.0,-1.0,2.0]      |[0.12307692307692308,0.0,0.018211920529801324,0.0,0.0,0.03225806451612903]                                  |4.0      |1.0                 |0.0            |1.0          |1.0          |26.0     |0.0          |1.0        |0.0           |0.0                  |(11,[4],[1.0]) |(2,[1],[1.0])     |(3,[0],[1.0])|(1,[],[])    |(1,[],[])    |(30,[26],[1.0])|(2,[0],[1.0])|(11,[1],[1.0])|(3,[0],[1.0])|(1,[0],[1.0])      |(65,[4,12,13,44,48,51,61,64],[1.0,1.0,1.0,1.0,1.0,1.0,1.0,1.0])               |(71,[0,2,5,10,18,19,50,54,57,67,70],[0.12307692307692308,0.018211920529801324,0.03225806451612903,1.0,1.0,1.0,1.0,1.0,1.0,1.0,1.0])                                                                 |0.0  |[0.9959689411494982,-0.9959689411494982]  |[0.8799480052540211,0.12005199474597894]|0.0       |\n",
      "|27 |student      |single        |secondary|no     |671.0  |yes    |no  |unknown  |7  |may  |332.0   |2.0     |-1.0 |0.0     |unknown |no             |[27.0,671.0,332.0,0.0,-1.0,2.0]   |[0.12307692307692308,0.009425745912232398,0.10827814569536424,0.0,0.0,0.03225806451612903]                  |10.0     |1.0                 |0.0            |0.0          |0.0          |5.0      |1.0          |0.0        |0.0           |0.0                  |(11,[10],[1.0])|(2,[1],[1.0])     |(3,[0],[1.0])|(1,[0],[1.0])|(1,[0],[1.0])|(30,[5],[1.0]) |(2,[1],[1.0])|(11,[0],[1.0])|(3,[0],[1.0])|(1,[0],[1.0])      |(65,[10,12,13,16,17,23,49,50,61,64],[1.0,1.0,1.0,1.0,1.0,1.0,1.0,1.0,1.0,1.0])|(71,[0,1,2,5,16,18,19,22,23,29,55,56,67,70],[0.12307692307692308,0.009425745912232398,0.10827814569536424,0.03225806451612903,1.0,1.0,1.0,1.0,1.0,1.0,1.0,1.0,1.0,1.0])                             |0.0  |[1.096594740229306,-1.096594740229306]    |[0.899636254675508,0.10036374532449199] |0.0       |\n",
      "|27 |student      |single        |tertiary |no     |3733.0 |yes    |no  |cellular |22 |may  |198.0   |1.0     |98.0 |6.0     |success |yes            |[27.0,3733.0,198.0,6.0,98.0,1.0]  |[0.12307692307692308,0.05243861324942406,0.06390728476821192,0.24,0.11353211009174312,0.0]                  |10.0     |1.0                 |1.0            |0.0          |0.0          |26.0     |0.0          |0.0        |3.0           |1.0                  |(11,[10],[1.0])|(2,[1],[1.0])     |(3,[1],[1.0])|(1,[0],[1.0])|(1,[0],[1.0])|(30,[26],[1.0])|(2,[0],[1.0])|(11,[0],[1.0])|(3,[],[])    |(1,[],[])          |(65,[10,12,14,16,17,44,48,50],[1.0,1.0,1.0,1.0,1.0,1.0,1.0,1.0])              |(71,[0,1,2,3,4,16,18,20,22,23,50,54,56],[0.12307692307692308,0.05243861324942406,0.06390728476821192,0.24,0.11353211009174312,1.0,1.0,1.0,1.0,1.0,1.0,1.0,1.0])                                     |0.0  |[1.248355673873402,-1.248355673873402]    |[0.9239109514132958,0.07608904858670418]|0.0       |\n",
      "|27 |student      |single        |tertiary |no     |5291.0 |no     |no  |cellular |12 |nov  |192.0   |2.0     |92.0 |2.0     |failure |yes            |[27.0,5291.0,192.0,2.0,92.0,2.0]  |[0.12307692307692308,0.07432432432432433,0.0619205298013245,0.08,0.10665137614678899,0.03225806451612903]   |10.0     |1.0                 |1.0            |0.0          |1.0          |18.0     |0.0          |4.0        |1.0           |1.0                  |(11,[10],[1.0])|(2,[1],[1.0])     |(3,[1],[1.0])|(1,[0],[1.0])|(1,[],[])    |(30,[18],[1.0])|(2,[0],[1.0])|(11,[4],[1.0])|(3,[1],[1.0])|(1,[],[])          |(65,[10,12,14,16,36,48,54,62],[1.0,1.0,1.0,1.0,1.0,1.0,1.0,1.0])              |(71,[0,1,2,3,4,5,16,18,20,22,42,54,60,68],[0.12307692307692308,0.07432432432432433,0.0619205298013245,0.08,0.10665137614678899,0.03225806451612903,1.0,1.0,1.0,1.0,1.0,1.0,1.0,1.0])                |0.0  |[1.1365435198980869,-1.1365435198980869]  |[0.906623456670909,0.09337654332909096] |0.0       |\n",
      "|27 |technician   |married       |secondary|no     |130.0  |yes    |no  |cellular |7  |may  |265.0   |3.0     |-1.0 |0.0     |unknown |no             |[27.0,130.0,265.0,0.0,-1.0,3.0]   |[0.12307692307692308,0.0018261504747991235,0.08609271523178808,0.0,0.0,0.06451612903225806]                 |2.0      |0.0                 |0.0            |0.0          |0.0          |5.0      |0.0          |0.0        |0.0           |0.0                  |(11,[2],[1.0]) |(2,[0],[1.0])     |(3,[0],[1.0])|(1,[0],[1.0])|(1,[0],[1.0])|(30,[5],[1.0]) |(2,[0],[1.0])|(11,[0],[1.0])|(3,[0],[1.0])|(1,[0],[1.0])      |(65,[2,11,13,16,17,23,48,50,61,64],[1.0,1.0,1.0,1.0,1.0,1.0,1.0,1.0,1.0,1.0]) |(71,[0,1,2,5,8,17,19,22,23,29,54,56,67,70],[0.12307692307692308,0.0018261504747991235,0.08609271523178808,0.06451612903225806,1.0,1.0,1.0,1.0,1.0,1.0,1.0,1.0,1.0,1.0])                             |0.0  |[0.7631263254242009,-0.7631263254242009]  |[0.8214573705619838,0.17854262943801624]|0.0       |\n",
      "|27 |technician   |single        |secondary|no     |282.0  |no     |yes |cellular |9  |jul  |676.0   |5.0     |-1.0 |0.0     |unknown |no             |[27.0,282.0,676.0,0.0,-1.0,5.0]   |[0.12307692307692308,0.003961341799179637,0.22218543046357617,0.0,0.0,0.12903225806451613]                  |2.0      |1.0                 |0.0            |0.0          |1.0          |16.0     |0.0          |1.0        |0.0           |0.0                  |(11,[2],[1.0]) |(2,[1],[1.0])     |(3,[0],[1.0])|(1,[0],[1.0])|(1,[],[])    |(30,[16],[1.0])|(2,[0],[1.0])|(11,[1],[1.0])|(3,[0],[1.0])|(1,[0],[1.0])      |(65,[2,12,13,16,34,48,51,61,64],[1.0,1.0,1.0,1.0,1.0,1.0,1.0,1.0,1.0])        |(71,[0,1,2,5,8,18,19,22,40,54,57,67,70],[0.12307692307692308,0.003961341799179637,0.22218543046357617,0.12903225806451613,1.0,1.0,1.0,1.0,1.0,1.0,1.0,1.0,1.0])                                     |1.0  |[0.5916873891769228,-0.5916873891769228]  |[0.7655540552438622,0.23444594475613778]|0.0       |\n",
      "|27 |technician   |single        |secondary|no     |769.0  |yes    |no  |unknown  |9  |may  |317.0   |2.0     |-1.0 |0.0     |unknown |no             |[27.0,769.0,317.0,0.0,-1.0,2.0]   |[0.12307692307692308,0.010802382424004046,0.10331125827814569,0.0,0.0,0.03225806451612903]                  |2.0      |1.0                 |0.0            |0.0          |0.0          |16.0     |1.0          |0.0        |0.0           |0.0                  |(11,[2],[1.0]) |(2,[1],[1.0])     |(3,[0],[1.0])|(1,[0],[1.0])|(1,[0],[1.0])|(30,[16],[1.0])|(2,[1],[1.0])|(11,[0],[1.0])|(3,[0],[1.0])|(1,[0],[1.0])      |(65,[2,12,13,16,17,34,49,50,61,64],[1.0,1.0,1.0,1.0,1.0,1.0,1.0,1.0,1.0,1.0]) |(71,[0,1,2,5,8,18,19,22,23,40,55,56,67,70],[0.12307692307692308,0.010802382424004046,0.10331125827814569,0.03225806451612903,1.0,1.0,1.0,1.0,1.0,1.0,1.0,1.0,1.0,1.0])                              |0.0  |[0.8299517984036215,-0.8299517984036215]  |[0.8402250616503097,0.15977493834969025]|0.0       |\n",
      "|27 |technician   |single        |secondary|no     |842.0  |no     |no  |cellular |30 |jul  |273.0   |1.0     |91.0 |1.0     |other   |no             |[27.0,842.0,273.0,1.0,91.0,1.0]   |[0.12307692307692308,0.011827836152160476,0.08874172185430464,0.04,0.10550458715596331,0.0]                 |2.0      |1.0                 |0.0            |0.0          |1.0          |13.0     |0.0          |1.0        |2.0           |0.0                  |(11,[2],[1.0]) |(2,[1],[1.0])     |(3,[0],[1.0])|(1,[0],[1.0])|(1,[],[])    |(30,[13],[1.0])|(2,[0],[1.0])|(11,[1],[1.0])|(3,[2],[1.0])|(1,[0],[1.0])      |(65,[2,12,13,16,31,48,51,63,64],[1.0,1.0,1.0,1.0,1.0,1.0,1.0,1.0,1.0])        |(71,[0,1,2,3,4,8,18,19,22,37,54,57,69,70],[0.12307692307692308,0.011827836152160476,0.08874172185430464,0.04,0.10550458715596331,1.0,1.0,1.0,1.0,1.0,1.0,1.0,1.0,1.0])                              |0.0  |[0.7600638930567504,-0.7600638930567504]  |[0.8205572969766024,0.1794427030233976] |0.0       |\n",
      "|27 |technician   |single        |tertiary |no     |808.0  |yes    |no  |cellular |15 |may  |578.0   |1.0     |364.0|1.0     |other   |no             |[27.0,808.0,578.0,1.0,364.0,1.0]  |[0.12307692307692308,0.011350227566443783,0.18973509933774835,0.04,0.41857798165137616,0.0]                 |2.0      |1.0                 |1.0            |0.0          |0.0          |7.0      |0.0          |0.0        |2.0           |0.0                  |(11,[2],[1.0]) |(2,[1],[1.0])     |(3,[1],[1.0])|(1,[0],[1.0])|(1,[0],[1.0])|(30,[7],[1.0]) |(2,[0],[1.0])|(11,[0],[1.0])|(3,[2],[1.0])|(1,[0],[1.0])      |(65,[2,12,14,16,17,25,48,50,63,64],[1.0,1.0,1.0,1.0,1.0,1.0,1.0,1.0,1.0,1.0]) |(71,[0,1,2,3,4,8,18,20,22,23,31,54,56,69,70],[0.12307692307692308,0.011350227566443783,0.18973509933774835,0.04,0.41857798165137616,1.0,1.0,1.0,1.0,1.0,1.0,1.0,1.0,1.0,1.0])                       |0.0  |[0.47043525902469896,-0.47043525902469896]|[0.719275464463036,0.28072453553696397] |0.0       |\n",
      "|27 |technician   |single        |tertiary |no     |3083.0 |yes    |no  |unknown  |29 |may  |244.0   |2.0     |-1.0 |0.0     |unknown |no             |[27.0,3083.0,244.0,0.0,-1.0,2.0]  |[0.12307692307692308,0.04330786087542844,0.07913907284768212,0.0,0.0,0.03225806451612903]                   |2.0      |1.0                 |1.0            |0.0          |0.0          |10.0     |1.0          |0.0        |0.0           |0.0                  |(11,[2],[1.0]) |(2,[1],[1.0])     |(3,[1],[1.0])|(1,[0],[1.0])|(1,[0],[1.0])|(30,[10],[1.0])|(2,[1],[1.0])|(11,[0],[1.0])|(3,[0],[1.0])|(1,[0],[1.0])      |(65,[2,12,14,16,17,28,49,50,61,64],[1.0,1.0,1.0,1.0,1.0,1.0,1.0,1.0,1.0,1.0]) |(71,[0,1,2,5,8,18,20,22,23,34,55,56,67,70],[0.12307692307692308,0.04330786087542844,0.07913907284768212,0.03225806451612903,1.0,1.0,1.0,1.0,1.0,1.0,1.0,1.0,1.0,1.0])                               |0.0  |[0.9613733535325468,-0.9613733535325468]  |[0.8724444142358969,0.12755558576410309]|0.0       |\n",
      "|27 |technician   |single        |unknown  |no     |59.0   |no     |no  |cellular |15 |jul  |792.0   |4.0     |-1.0 |0.0     |unknown |no             |[27.0,59.0,792.0,0.0,-1.0,4.0]    |[0.12307692307692308,8.287913693319098E-4,0.26059602649006625,0.0,0.0,0.0967741935483871]                   |2.0      |1.0                 |3.0            |0.0          |1.0          |7.0      |0.0          |1.0        |0.0           |0.0                  |(11,[2],[1.0]) |(2,[1],[1.0])     |(3,[],[])    |(1,[0],[1.0])|(1,[],[])    |(30,[7],[1.0]) |(2,[0],[1.0])|(11,[1],[1.0])|(3,[0],[1.0])|(1,[0],[1.0])      |(65,[2,12,16,25,48,51,61,64],[1.0,1.0,1.0,1.0,1.0,1.0,1.0,1.0])               |(71,[0,1,2,5,8,18,22,31,54,57,67,70],[0.12307692307692308,8.287913693319098E-4,0.26059602649006625,0.0967741935483871,1.0,1.0,1.0,1.0,1.0,1.0,1.0,1.0])                                             |0.0  |[0.7329650994749684,-0.7329650994749684]  |[0.8124380080410551,0.18756199195894485]|0.0       |\n",
      "|27 |unemployed   |single        |tertiary |no     |1.0    |no     |no  |cellular |3  |feb  |65.0    |2.0     |-1.0 |0.0     |unknown |no             |[27.0,1.0,65.0,0.0,-1.0,2.0]      |[0.12307692307692308,1.4047311344608641E-5,0.019867549668874173,0.0,0.0,0.03225806451612903]                |8.0      |1.0                 |1.0            |0.0          |1.0          |22.0     |0.0          |6.0        |0.0           |0.0                  |(11,[8],[1.0]) |(2,[1],[1.0])     |(3,[1],[1.0])|(1,[0],[1.0])|(1,[],[])    |(30,[22],[1.0])|(2,[0],[1.0])|(11,[6],[1.0])|(3,[0],[1.0])|(1,[0],[1.0])      |(65,[8,12,14,16,40,48,56,61,64],[1.0,1.0,1.0,1.0,1.0,1.0,1.0,1.0,1.0])        |(71,[0,1,2,5,14,18,20,22,46,54,62,67,70],[0.12307692307692308,1.4047311344608641E-5,0.019867549668874173,0.03225806451612903,1.0,1.0,1.0,1.0,1.0,1.0,1.0,1.0,1.0])                                  |0.0  |[1.1479711351250073,-1.1479711351250073]  |[0.9085404215399369,0.09145957846006314]|0.0       |\n",
      "|27 |unknown      |single        |tertiary |no     |6421.0 |no     |no  |telephone|28 |jan  |147.0   |4.0     |-1.0 |0.0     |unknown |no             |[27.0,6421.0,147.0,0.0,-1.0,4.0]  |[0.12307692307692308,0.09019778614373208,0.04701986754966887,0.0,0.0,0.0967741935483871]                    |11.0     |1.0                 |1.0            |0.0          |1.0          |4.0      |2.0          |7.0        |0.0           |0.0                  |(11,[],[])     |(2,[1],[1.0])     |(3,[1],[1.0])|(1,[0],[1.0])|(1,[],[])    |(30,[4],[1.0]) |(2,[],[])    |(11,[7],[1.0])|(3,[0],[1.0])|(1,[0],[1.0])      |(65,[12,14,16,22,57,61,64],[1.0,1.0,1.0,1.0,1.0,1.0,1.0])                     |(71,[0,1,2,5,18,20,22,28,63,67,70],[0.12307692307692308,0.09019778614373208,0.04701986754966887,0.0967741935483871,1.0,1.0,1.0,1.0,1.0,1.0,1.0])                                                    |0.0  |[1.2646028226685673,-1.2646028226685673]  |[0.9261640504735175,0.07383594952648254]|0.0       |\n",
      "|28 |admin.       |married       |secondary|no     |0.0    |yes    |no  |cellular |29 |jan  |79.0    |1.0     |225.0|2.0     |success |no             |[28.0,0.0,79.0,2.0,225.0,1.0]     |[0.13846153846153847,0.0,0.024503311258278145,0.08,0.2591743119266055,0.0]                                  |3.0      |0.0                 |0.0            |0.0          |0.0          |10.0     |0.0          |7.0        |3.0           |0.0                  |(11,[3],[1.0]) |(2,[0],[1.0])     |(3,[0],[1.0])|(1,[0],[1.0])|(1,[0],[1.0])|(30,[10],[1.0])|(2,[0],[1.0])|(11,[7],[1.0])|(3,[],[])    |(1,[0],[1.0])      |(65,[3,11,13,16,17,28,48,57,64],[1.0,1.0,1.0,1.0,1.0,1.0,1.0,1.0,1.0])        |(71,[0,2,3,4,9,17,19,22,23,34,54,63,70],[0.13846153846153847,0.024503311258278145,0.08,0.2591743119266055,1.0,1.0,1.0,1.0,1.0,1.0,1.0,1.0,1.0])                                                     |0.0  |[0.170601041968928,-0.170601041968928]    |[0.5844824939120342,0.4155175060879658] |0.0       |\n",
      "|28 |admin.       |single        |secondary|no     |26.0   |yes    |no  |cellular |7  |may  |227.0   |2.0     |-1.0 |0.0     |unknown |no             |[28.0,26.0,227.0,0.0,-1.0,2.0]    |[0.13846153846153847,3.652300949598247E-4,0.07350993377483443,0.0,0.0,0.03225806451612903]                  |3.0      |1.0                 |0.0            |0.0          |0.0          |5.0      |0.0          |0.0        |0.0           |0.0                  |(11,[3],[1.0]) |(2,[1],[1.0])     |(3,[0],[1.0])|(1,[0],[1.0])|(1,[0],[1.0])|(30,[5],[1.0]) |(2,[0],[1.0])|(11,[0],[1.0])|(3,[0],[1.0])|(1,[0],[1.0])      |(65,[3,12,13,16,17,23,48,50,61,64],[1.0,1.0,1.0,1.0,1.0,1.0,1.0,1.0,1.0,1.0]) |(71,[0,1,2,5,9,18,19,22,23,29,54,56,67,70],[0.13846153846153847,3.652300949598247E-4,0.07350993377483443,0.03225806451612903,1.0,1.0,1.0,1.0,1.0,1.0,1.0,1.0,1.0,1.0])                              |0.0  |[0.7463021425504547,-0.7463021425504547]  |[0.8164688397980006,0.18353116020199944]|0.0       |\n",
      "|28 |admin.       |single        |secondary|no     |189.0  |yes    |no  |cellular |31 |jul  |68.0    |2.0     |-1.0 |0.0     |unknown |no             |[28.0,189.0,68.0,0.0,-1.0,2.0]    |[0.13846153846153847,0.0026549418441310334,0.020860927152317882,0.0,0.0,0.03225806451612903]                |3.0      |1.0                 |0.0            |0.0          |0.0          |28.0     |0.0          |1.0        |0.0           |0.0                  |(11,[3],[1.0]) |(2,[1],[1.0])     |(3,[0],[1.0])|(1,[0],[1.0])|(1,[0],[1.0])|(30,[28],[1.0])|(2,[0],[1.0])|(11,[1],[1.0])|(3,[0],[1.0])|(1,[0],[1.0])      |(65,[3,12,13,16,17,46,48,51,61,64],[1.0,1.0,1.0,1.0,1.0,1.0,1.0,1.0,1.0,1.0]) |(71,[0,1,2,5,9,18,19,22,23,52,54,57,67,70],[0.13846153846153847,0.0026549418441310334,0.020860927152317882,0.03225806451612903,1.0,1.0,1.0,1.0,1.0,1.0,1.0,1.0,1.0,1.0])                            |0.0  |[1.0512995514305985,-1.0512995514305985]  |[0.8911555412979811,0.10884445870201886]|0.0       |\n",
      "|28 |admin.       |single        |secondary|no     |1323.0 |yes    |no  |unknown  |3  |jun  |361.0   |1.0     |-1.0 |0.0     |unknown |no             |[28.0,1323.0,361.0,0.0,-1.0,1.0]  |[0.13846153846153847,0.018584592908917234,0.11788079470198676,0.0,0.0,0.0]                                  |3.0      |1.0                 |0.0            |0.0          |0.0          |22.0     |1.0          |3.0        |0.0           |0.0                  |(11,[3],[1.0]) |(2,[1],[1.0])     |(3,[0],[1.0])|(1,[0],[1.0])|(1,[0],[1.0])|(30,[22],[1.0])|(2,[1],[1.0])|(11,[3],[1.0])|(3,[0],[1.0])|(1,[0],[1.0])      |(65,[3,12,13,16,17,40,49,53,61,64],[1.0,1.0,1.0,1.0,1.0,1.0,1.0,1.0,1.0,1.0]) |(71,[0,1,2,9,18,19,22,23,46,55,59,67,70],[0.13846153846153847,0.018584592908917234,0.11788079470198676,1.0,1.0,1.0,1.0,1.0,1.0,1.0,1.0,1.0,1.0])                                                    |0.0  |[0.9792444500616024,-0.9792444500616024]  |[0.8763693236997656,0.12363067630023439]|0.0       |\n",
      "|28 |admin.       |single        |secondary|no     |4745.0 |no     |no  |telephone|12 |may  |360.0   |1.0     |181.0|5.0     |success |yes            |[28.0,4745.0,360.0,5.0,181.0,1.0] |[0.13846153846153847,0.066654492330168,0.11754966887417219,0.2,0.20871559633027523,0.0]                     |3.0      |1.0                 |0.0            |0.0          |1.0          |18.0     |2.0          |0.0        |3.0           |1.0                  |(11,[3],[1.0]) |(2,[1],[1.0])     |(3,[0],[1.0])|(1,[0],[1.0])|(1,[],[])    |(30,[18],[1.0])|(2,[],[])    |(11,[0],[1.0])|(3,[],[])    |(1,[],[])          |(65,[3,12,13,16,36,50],[1.0,1.0,1.0,1.0,1.0,1.0])                             |(71,[0,1,2,3,4,9,18,19,22,42,56],[0.13846153846153847,0.066654492330168,0.11754966887417219,0.2,0.20871559633027523,1.0,1.0,1.0,1.0,1.0,1.0])                                                       |0.0  |[1.3270302525495532,-1.3270302525495532]  |[0.9342608169350438,0.06573918306495619]|0.0       |\n",
      "|28 |blue-collar  |married       |secondary|no     |373.0  |yes    |no  |cellular |14 |may  |10.0    |9.0     |344.0|1.0     |failure |no             |[28.0,373.0,10.0,1.0,344.0,9.0]   |[0.13846153846153847,0.005239647131539024,0.0016556291390728477,0.04,0.3956422018348624,0.25806451612903225]|1.0      |0.0                 |0.0            |0.0          |0.0          |2.0      |0.0          |0.0        |1.0           |0.0                  |(11,[1],[1.0]) |(2,[0],[1.0])     |(3,[0],[1.0])|(1,[0],[1.0])|(1,[0],[1.0])|(30,[2],[1.0]) |(2,[0],[1.0])|(11,[0],[1.0])|(3,[1],[1.0])|(1,[0],[1.0])      |(65,[1,11,13,16,17,20,48,50,62,64],[1.0,1.0,1.0,1.0,1.0,1.0,1.0,1.0,1.0,1.0]) |(71,[0,1,2,3,4,5,7,17,19,22,23,26,54,56,68,70],[0.13846153846153847,0.005239647131539024,0.0016556291390728477,0.04,0.3956422018348624,0.25806451612903225,1.0,1.0,1.0,1.0,1.0,1.0,1.0,1.0,1.0,1.0])|0.0  |[0.7904451667798633,-0.7904451667798633]  |[0.8293305739652044,0.17066942603479562]|0.0       |\n",
      "|28 |blue-collar  |married       |secondary|no     |1137.0 |no     |no  |cellular |6  |feb  |129.0   |4.0     |211.0|3.0     |other   |no             |[28.0,1137.0,129.0,3.0,211.0,4.0] |[0.13846153846153847,0.015971792998820025,0.04105960264900662,0.12,0.24311926605504589,0.0967741935483871]  |1.0      |0.0                 |0.0            |0.0          |1.0          |6.0      |0.0          |6.0        |2.0           |0.0                  |(11,[1],[1.0]) |(2,[0],[1.0])     |(3,[0],[1.0])|(1,[0],[1.0])|(1,[],[])    |(30,[6],[1.0]) |(2,[0],[1.0])|(11,[6],[1.0])|(3,[2],[1.0])|(1,[0],[1.0])      |(65,[1,11,13,16,24,48,56,63,64],[1.0,1.0,1.0,1.0,1.0,1.0,1.0,1.0,1.0])        |(71,[0,1,2,3,4,5,7,17,19,22,30,54,62,69,70],[0.13846153846153847,0.015971792998820025,0.04105960264900662,0.12,0.24311926605504589,0.0967741935483871,1.0,1.0,1.0,1.0,1.0,1.0,1.0,1.0,1.0])         |0.0  |[0.8297337664377126,-0.8297337664377126]  |[0.8401665127306409,0.1598334872693591] |0.0       |\n",
      "|28 |blue-collar  |married       |secondary|no     |1325.0 |yes    |no  |cellular |15 |may  |242.0   |1.0     |-1.0 |0.0     |unknown |no             |[28.0,1325.0,242.0,0.0,-1.0,1.0]  |[0.13846153846153847,0.01861268753160645,0.07847682119205299,0.0,0.0,0.0]                                   |1.0      |0.0                 |0.0            |0.0          |0.0          |7.0      |0.0          |0.0        |0.0           |0.0                  |(11,[1],[1.0]) |(2,[0],[1.0])     |(3,[0],[1.0])|(1,[0],[1.0])|(1,[0],[1.0])|(30,[7],[1.0]) |(2,[0],[1.0])|(11,[0],[1.0])|(3,[0],[1.0])|(1,[0],[1.0])      |(65,[1,11,13,16,17,25,48,50,61,64],[1.0,1.0,1.0,1.0,1.0,1.0,1.0,1.0,1.0,1.0]) |(71,[0,1,2,7,17,19,22,23,31,54,56,67,70],[0.13846153846153847,0.01861268753160645,0.07847682119205299,1.0,1.0,1.0,1.0,1.0,1.0,1.0,1.0,1.0,1.0])                                                     |0.0  |[0.9333868339162746,-0.9333868339162746]  |[0.8660845223843862,0.13391547761561384]|0.0       |\n",
      "|28 |blue-collar  |single        |primary  |no     |1199.0 |yes    |no  |cellular |30 |jul  |1011.0  |20.0    |-1.0 |0.0     |unknown |no             |[28.0,1199.0,1011.0,0.0,-1.0,20.0]|[0.13846153846153847,0.01684272630218576,0.33311258278145695,0.0,0.0,0.6129032258064516]                    |1.0      |1.0                 |2.0            |0.0          |0.0          |13.0     |0.0          |1.0        |0.0           |0.0                  |(11,[1],[1.0]) |(2,[1],[1.0])     |(3,[2],[1.0])|(1,[0],[1.0])|(1,[0],[1.0])|(30,[13],[1.0])|(2,[0],[1.0])|(11,[1],[1.0])|(3,[0],[1.0])|(1,[0],[1.0])      |(65,[1,12,15,16,17,31,48,51,61,64],[1.0,1.0,1.0,1.0,1.0,1.0,1.0,1.0,1.0,1.0]) |(71,[0,1,2,5,7,18,21,22,23,37,54,57,67,70],[0.13846153846153847,0.01684272630218576,0.33311258278145695,0.6129032258064516,1.0,1.0,1.0,1.0,1.0,1.0,1.0,1.0,1.0,1.0])                                |0.0  |[0.5301078631373055,-0.5301078631373055]  |[0.7427317687156395,0.2572682312843605] |0.0       |\n",
      "|28 |blue-collar  |single        |secondary|no     |56.0   |yes    |no  |unknown  |23 |may  |66.0    |1.0     |-1.0 |0.0     |unknown |no             |[28.0,56.0,66.0,0.0,-1.0,1.0]     |[0.13846153846153847,7.86649435298084E-4,0.02019867549668874,0.0,0.0,0.0]                                   |1.0      |1.0                 |0.0            |0.0          |0.0          |24.0     |1.0          |0.0        |0.0           |0.0                  |(11,[1],[1.0]) |(2,[1],[1.0])     |(3,[0],[1.0])|(1,[0],[1.0])|(1,[0],[1.0])|(30,[24],[1.0])|(2,[1],[1.0])|(11,[0],[1.0])|(3,[0],[1.0])|(1,[0],[1.0])      |(65,[1,12,13,16,17,42,49,50,61,64],[1.0,1.0,1.0,1.0,1.0,1.0,1.0,1.0,1.0,1.0]) |(71,[0,1,2,7,18,19,22,23,48,55,56,67,70],[0.13846153846153847,7.86649435298084E-4,0.02019867549668874,1.0,1.0,1.0,1.0,1.0,1.0,1.0,1.0,1.0,1.0])                                                     |0.0  |[0.7635561233688302,-0.7635561233688302]  |[0.8215834084946863,0.17841659150531375]|0.0       |\n",
      "|28 |management   |married       |tertiary |no     |318.0  |yes    |no  |unknown  |27 |may  |4.0     |4.0     |-1.0 |0.0     |unknown |no             |[28.0,318.0,4.0,0.0,-1.0,4.0]     |[0.13846153846153847,0.004467045007585548,-3.3112582781456954E-4,0.0,0.0,0.0967741935483871]                |0.0      |0.0                 |1.0            |0.0          |0.0          |20.0     |1.0          |0.0        |0.0           |0.0                  |(11,[0],[1.0]) |(2,[0],[1.0])     |(3,[1],[1.0])|(1,[0],[1.0])|(1,[0],[1.0])|(30,[20],[1.0])|(2,[1],[1.0])|(11,[0],[1.0])|(3,[0],[1.0])|(1,[0],[1.0])      |(65,[0,11,14,16,17,38,49,50,61,64],[1.0,1.0,1.0,1.0,1.0,1.0,1.0,1.0,1.0,1.0]) |(71,[0,1,2,5,6,17,20,22,23,44,55,56,67,70],[0.13846153846153847,0.004467045007585548,-3.3112582781456954E-4,0.0967741935483871,1.0,1.0,1.0,1.0,1.0,1.0,1.0,1.0,1.0,1.0])                            |0.0  |[0.6728512462945011,-0.6728512462945011]  |[0.7934261502004745,0.20657384979952553]|0.0       |\n",
      "|28 |management   |single        |tertiary |no     |0.0    |yes    |no  |cellular |16 |jul  |767.0   |5.0     |-1.0 |0.0     |unknown |yes            |[28.0,0.0,767.0,0.0,-1.0,5.0]     |[0.13846153846153847,0.0,0.25231788079470197,0.0,0.0,0.12903225806451613]                                   |0.0      |1.0                 |1.0            |0.0          |0.0          |14.0     |0.0          |1.0        |0.0           |1.0                  |(11,[0],[1.0]) |(2,[1],[1.0])     |(3,[1],[1.0])|(1,[0],[1.0])|(1,[0],[1.0])|(30,[14],[1.0])|(2,[0],[1.0])|(11,[1],[1.0])|(3,[0],[1.0])|(1,[],[])          |(65,[0,12,14,16,17,32,48,51,61],[1.0,1.0,1.0,1.0,1.0,1.0,1.0,1.0,1.0])        |(71,[0,2,5,6,18,20,22,23,38,54,57,67],[0.13846153846153847,0.25231788079470197,0.12903225806451613,1.0,1.0,1.0,1.0,1.0,1.0,1.0,1.0,1.0])                                                            |0.0  |[-0.7927082946476394,0.7927082946476394]  |[0.170029728230877,0.829970271769123]   |1.0       |\n",
      "+---+-------------+--------------+---------+-------+-------+-------+----+---------+---+-----+--------+--------+-----+--------+--------+---------------+----------------------------------+------------------------------------------------------------------------------------------------------------+---------+--------------------+---------------+-------------+-------------+---------+-------------+-----------+--------------+---------------------+---------------+------------------+-------------+-------------+-------------+---------------+-------------+--------------+-------------+-------------------+------------------------------------------------------------------------------+----------------------------------------------------------------------------------------------------------------------------------------------------------------------------------------------------+-----+------------------------------------------+----------------------------------------+----------+\n",
      "only showing top 100 rows\n",
      "\n"
     ]
    }
   ],
   "source": [
    "test_predictions_gbt.show(100, truncate= False)"
   ]
  },
  {
   "cell_type": "code",
   "execution_count": 70,
   "metadata": {},
   "outputs": [
    {
     "name": "stdout",
     "output_type": "stream",
     "text": [
      "+----+----------+--------------------+\n",
      "|loan|prediction|         probability|\n",
      "+----+----------+--------------------+\n",
      "|  no|       0.0|[0.91275698169128...|\n",
      "|  no|       0.0|[0.94604909234919...|\n",
      "|  no|       0.0|[0.93760696157140...|\n",
      "|  no|       0.0|[0.74890391714901...|\n",
      "|  no|       0.0|[0.84891030381347...|\n",
      "|  no|       1.0|[0.11941640752372...|\n",
      "|  no|       0.0|[0.86259136082361...|\n",
      "|  no|       0.0|[0.81758175010247...|\n",
      "|  no|       0.0|[0.90851491876144...|\n",
      "|  no|       0.0|[0.91362164356214...|\n",
      "|  no|       0.0|[0.64740458842233...|\n",
      "|  no|       0.0|[0.89221794376096...|\n",
      "| yes|       0.0|[0.79782195943293...|\n",
      "|  no|       0.0|[0.83419637529648...|\n",
      "|  no|       0.0|[0.80388041039185...|\n",
      "|  no|       0.0|[0.91473882189735...|\n",
      "|  no|       0.0|[0.90974316174094...|\n",
      "|  no|       0.0|[0.79527218567175...|\n",
      "|  no|       0.0|[0.78647893036068...|\n",
      "|  no|       0.0|[0.90837893858120...|\n",
      "|  no|       0.0|[0.93120340987562...|\n",
      "|  no|       0.0|[0.82567092093417...|\n",
      "|  no|       0.0|[0.93020130515251...|\n",
      "|  no|       0.0|[0.93830693334176...|\n",
      "|  no|       0.0|[0.75266923424237...|\n",
      "|  no|       0.0|[0.76669040304709...|\n",
      "|  no|       0.0|[0.91779200850970...|\n",
      "|  no|       0.0|[0.89134833951818...|\n",
      "|  no|       0.0|[0.84554173417978...|\n",
      "|  no|       0.0|[0.92654203167961...|\n",
      "|  no|       0.0|[0.70588149427952...|\n",
      "|  no|       0.0|[0.70653425414045...|\n",
      "|  no|       0.0|[0.84800234846056...|\n",
      "|  no|       0.0|[0.81926152190267...|\n",
      "|  no|       0.0|[0.86810323165036...|\n",
      "| yes|       0.0|[0.88938956650845...|\n",
      "|  no|       0.0|[0.80388041039185...|\n",
      "|  no|       0.0|[0.90049591085640...|\n",
      "| yes|       0.0|[0.81677436604061...|\n",
      "|  no|       0.0|[0.85056450939004...|\n",
      "|  no|       0.0|[0.79323764520383...|\n",
      "|  no|       0.0|[0.85816854627707...|\n",
      "|  no|       0.0|[0.83803883118000...|\n",
      "|  no|       0.0|[0.82974850050753...|\n",
      "|  no|       1.0|[0.11744247769106...|\n",
      "|  no|       0.0|[0.91818852500946...|\n",
      "|  no|       0.0|[0.89807658885851...|\n",
      "|  no|       0.0|[0.92992767063772...|\n",
      "|  no|       0.0|[0.81677436604061...|\n",
      "|  no|       0.0|[0.84522655958861...|\n",
      "| yes|       0.0|[0.77719785237916...|\n",
      "|  no|       0.0|[0.81671909200148...|\n",
      "|  no|       0.0|[0.88199669006761...|\n",
      "| yes|       0.0|[0.80388041039185...|\n",
      "|  no|       1.0|[0.12251833596985...|\n",
      "|  no|       0.0|[0.91669138406058...|\n",
      "|  no|       0.0|[0.85860233987943...|\n",
      "|  no|       0.0|[0.55984299312219...|\n",
      "|  no|       0.0|[0.84707891010248...|\n",
      "|  no|       0.0|[0.82673160376831...|\n",
      "|  no|       0.0|[0.81677436604061...|\n",
      "|  no|       0.0|[0.92499743075190...|\n",
      "|  no|       0.0|[0.91695497058615...|\n",
      "|  no|       0.0|[0.91133816506255...|\n",
      "|  no|       0.0|[0.90580650091009...|\n",
      "|  no|       0.0|[0.90580650091009...|\n",
      "| yes|       1.0|[0.08354170369483...|\n",
      "|  no|       0.0|[0.86595300588662...|\n",
      "|  no|       0.0|[0.86608579229367...|\n",
      "|  no|       0.0|[0.76428556271585...|\n",
      "|  no|       0.0|[0.85327341564093...|\n",
      "|  no|       0.0|[0.82468579006777...|\n",
      "| yes|       0.0|[0.82145737056198...|\n",
      "|  no|       0.0|[0.85865654278680...|\n",
      "|  no|       0.0|[0.88149512093764...|\n",
      "|  no|       0.0|[0.87994800525402...|\n",
      "|  no|       0.0|[0.89963625467550...|\n",
      "|  no|       0.0|[0.92391095141329...|\n",
      "|  no|       0.0|[0.90662345667090...|\n",
      "|  no|       0.0|[0.82145737056198...|\n",
      "| yes|       0.0|[0.76555405524386...|\n",
      "|  no|       0.0|[0.84022506165030...|\n",
      "|  no|       0.0|[0.82055729697660...|\n",
      "|  no|       0.0|[0.71927546446303...|\n",
      "|  no|       0.0|[0.87244441423589...|\n",
      "|  no|       0.0|[0.81243800804105...|\n",
      "|  no|       0.0|[0.90854042153993...|\n",
      "|  no|       0.0|[0.92616405047351...|\n",
      "|  no|       0.0|[0.58448249391203...|\n",
      "|  no|       0.0|[0.81646883979800...|\n",
      "|  no|       0.0|[0.89115554129798...|\n",
      "|  no|       0.0|[0.87636932369976...|\n",
      "|  no|       0.0|[0.93426081693504...|\n",
      "|  no|       0.0|[0.82933057396520...|\n",
      "|  no|       0.0|[0.84016651273064...|\n",
      "|  no|       0.0|[0.86608452238438...|\n",
      "|  no|       0.0|[0.74273176871563...|\n",
      "|  no|       0.0|[0.82158340849468...|\n",
      "|  no|       0.0|[0.79342615020047...|\n",
      "|  no|       1.0|[0.17002972823087...|\n",
      "+----+----------+--------------------+\n",
      "only showing top 100 rows\n",
      "\n"
     ]
    }
   ],
   "source": [
    "test_predictions_gbt.select(\"loan\",\"prediction\", \"probability\").show(100)"
   ]
  },
  {
   "cell_type": "markdown",
   "metadata": {},
   "source": [
    "#### Evaluation : gbt Model"
   ]
  },
  {
   "cell_type": "code",
   "execution_count": 71,
   "metadata": {},
   "outputs": [
    {
     "name": "stdout",
     "output_type": "stream",
     "text": [
      "Train accuracy  = 0.866581141758\n",
      "Test accuracy = 0.846756949394\n"
     ]
    }
   ],
   "source": [
    "predictionAndLabels_train_gbt = train_predictions_gbt.select(\"prediction\", \"label\")\n",
    "train_accuracy_gbt = evaluator.evaluate(predictionAndLabels_train_gbt)\n",
    "\n",
    "print(\"Train accuracy  = \" + str(train_accuracy_gbt))\n",
    "\n",
    "predictionAndLabels_test_gbt = test_predictions_gbt.select(\"prediction\", \"label\")\n",
    "test_accuracy_gbt = evaluator.evaluate(predictionAndLabels_test_gbt)\n",
    "\n",
    "print(\"Test accuracy = \" + str(test_accuracy_gbt))"
   ]
  },
  {
   "cell_type": "markdown",
   "metadata": {},
   "source": [
    "#### Tuning GBT Model"
   ]
  },
  {
   "cell_type": "code",
   "execution_count": 72,
   "metadata": {},
   "outputs": [],
   "source": [
    "paramGridGBT = ParamGridBuilder()\\\n",
    "            .addGrid(gbt.maxDepth, [5])\\\n",
    "            .addGrid(gbt.maxIter, [20])\\\n",
    "            .addGrid(gbt.stepSize, [0.1])\\\n",
    "            .build()\n",
    "    \n",
    "gbt_crossval = CrossValidator(estimator=gbt_Pipeline,\n",
    "                             estimatorParamMaps=paramGridGBT,\n",
    "                             evaluator=evaluator,\n",
    "                             numFolds=2)     "
   ]
  },
  {
   "cell_type": "code",
   "execution_count": 73,
   "metadata": {},
   "outputs": [],
   "source": [
    "# Run cross-validation, and choose the best set of parameters.\n",
    "gbt_crossval_Model = gbt_crossval.fit(trainingData)"
   ]
  }
 ],
 "metadata": {
  "kernelspec": {
   "display_name": "Python 3",
   "language": "python",
   "name": "python3"
  },
  "language_info": {
   "codemirror_mode": {
    "name": "ipython",
    "version": 3
   },
   "file_extension": ".py",
   "mimetype": "text/x-python",
   "name": "python",
   "nbconvert_exporter": "python",
   "pygments_lexer": "ipython3",
   "version": "3.6.7"
  },
  "toc": {
   "base_numbering": 1,
   "nav_menu": {},
   "number_sections": true,
   "sideBar": true,
   "skip_h1_title": false,
   "title_cell": "Table of Contents",
   "title_sidebar": "Contents",
   "toc_cell": false,
   "toc_position": {},
   "toc_section_display": true,
   "toc_window_display": false
  },
  "varInspector": {
   "cols": {
    "lenName": 16,
    "lenType": 16,
    "lenVar": 40
   },
   "kernels_config": {
    "python": {
     "delete_cmd_postfix": "",
     "delete_cmd_prefix": "del ",
     "library": "var_list.py",
     "varRefreshCmd": "print(var_dic_list())"
    },
    "r": {
     "delete_cmd_postfix": ") ",
     "delete_cmd_prefix": "rm(",
     "library": "var_list.r",
     "varRefreshCmd": "cat(var_dic_list()) "
    }
   },
   "types_to_exclude": [
    "module",
    "function",
    "builtin_function_or_method",
    "instance",
    "_Feature"
   ],
   "window_display": true
  }
 },
 "nbformat": 4,
 "nbformat_minor": 2
}
