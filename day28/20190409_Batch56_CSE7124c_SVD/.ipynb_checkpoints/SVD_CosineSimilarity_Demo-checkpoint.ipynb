{
 "cells": [
  {
   "cell_type": "code",
   "execution_count": 1,
   "metadata": {},
   "outputs": [],
   "source": [
    "# Loading Packages\n",
    "from sklearn.feature_extraction.text import TfidfVectorizer\n",
    "import numpy as np\n",
    "import pandas as pd"
   ]
  },
  {
   "cell_type": "code",
   "execution_count": 2,
   "metadata": {},
   "outputs": [],
   "source": [
    "X_train = pd.DataFrame(['Time flies like an arrow',\n",
    " 'Fruit flies like a banana,',\n",
    " 'Sam sat on the cat',\n",
    " 'The cat is white.'])"
   ]
  },
  {
   "cell_type": "code",
   "execution_count": 3,
   "metadata": {},
   "outputs": [
    {
     "data": {
      "text/plain": [
       "0      Time flies like an arrow\n",
       "1    Fruit flies like a banana,\n",
       "2            Sam sat on the cat\n",
       "3             The cat is white.\n",
       "Name: 0, dtype: object"
      ]
     },
     "execution_count": 3,
     "metadata": {},
     "output_type": "execute_result"
    }
   ],
   "source": [
    "X_train[0]"
   ]
  },
  {
   "cell_type": "code",
   "execution_count": 4,
   "metadata": {},
   "outputs": [],
   "source": [
    "# Tf-idf\n",
    "vectorizer = TfidfVectorizer(max_df = 0.7) # Remove terms that have a document frequency more than 0.5"
   ]
  },
  {
   "cell_type": "code",
   "execution_count": 5,
   "metadata": {},
   "outputs": [
    {
     "name": "stdout",
     "output_type": "stream",
     "text": [
      "{'time': 12, 'flies': 4, 'like': 7, 'an': 0, 'arrow': 1, 'fruit': 5, 'banana': 2, 'sam': 9, 'sat': 10, 'on': 8, 'the': 11, 'cat': 3, 'is': 6, 'white': 13}\n"
     ]
    }
   ],
   "source": [
    "# Fit TfidfVectorizer\n",
    "vectorizer = vectorizer.fit(X_train[0])\n",
    "tfidffit = vectorizer.transform(X_train[0])\n",
    "print(vectorizer.vocabulary_)"
   ]
  },
  {
   "cell_type": "code",
   "execution_count": 6,
   "metadata": {},
   "outputs": [
    {
     "name": "stdout",
     "output_type": "stream",
     "text": [
      "  (0, 12)\t0.4854606118156975\n",
      "  (0, 7)\t0.3827427224171519\n",
      "  (0, 4)\t0.3827427224171519\n",
      "  (0, 1)\t0.4854606118156975\n",
      "  (0, 0)\t0.4854606118156975\n",
      "  (1, 7)\t0.43779123108611473\n",
      "  (1, 5)\t0.5552826649411127\n",
      "  (1, 4)\t0.43779123108611473\n",
      "  (1, 2)\t0.5552826649411127\n",
      "  (2, 11)\t0.3827427224171519\n",
      "  (2, 10)\t0.4854606118156975\n",
      "  (2, 9)\t0.4854606118156975\n",
      "  (2, 8)\t0.4854606118156975\n",
      "  (2, 3)\t0.3827427224171519\n",
      "  (3, 13)\t0.5552826649411127\n",
      "  (3, 11)\t0.43779123108611473\n",
      "  (3, 6)\t0.5552826649411127\n",
      "  (3, 3)\t0.43779123108611473\n"
     ]
    }
   ],
   "source": [
    "print(tfidffit)"
   ]
  },
  {
   "cell_type": "code",
   "execution_count": 7,
   "metadata": {},
   "outputs": [
    {
     "data": {
      "text/html": [
       "<div>\n",
       "<style scoped>\n",
       "    .dataframe tbody tr th:only-of-type {\n",
       "        vertical-align: middle;\n",
       "    }\n",
       "\n",
       "    .dataframe tbody tr th {\n",
       "        vertical-align: top;\n",
       "    }\n",
       "\n",
       "    .dataframe thead th {\n",
       "        text-align: right;\n",
       "    }\n",
       "</style>\n",
       "<table border=\"1\" class=\"dataframe\">\n",
       "  <thead>\n",
       "    <tr style=\"text-align: right;\">\n",
       "      <th></th>\n",
       "      <th>an</th>\n",
       "      <th>arrow</th>\n",
       "      <th>banana</th>\n",
       "      <th>cat</th>\n",
       "      <th>flies</th>\n",
       "      <th>fruit</th>\n",
       "      <th>is</th>\n",
       "      <th>like</th>\n",
       "      <th>on</th>\n",
       "      <th>sam</th>\n",
       "      <th>sat</th>\n",
       "      <th>the</th>\n",
       "      <th>time</th>\n",
       "      <th>white</th>\n",
       "    </tr>\n",
       "  </thead>\n",
       "  <tbody>\n",
       "    <tr>\n",
       "      <th>0</th>\n",
       "      <td>0.485461</td>\n",
       "      <td>0.485461</td>\n",
       "      <td>0.000000</td>\n",
       "      <td>0.000000</td>\n",
       "      <td>0.382743</td>\n",
       "      <td>0.000000</td>\n",
       "      <td>0.000000</td>\n",
       "      <td>0.382743</td>\n",
       "      <td>0.000000</td>\n",
       "      <td>0.000000</td>\n",
       "      <td>0.000000</td>\n",
       "      <td>0.000000</td>\n",
       "      <td>0.485461</td>\n",
       "      <td>0.000000</td>\n",
       "    </tr>\n",
       "    <tr>\n",
       "      <th>1</th>\n",
       "      <td>0.000000</td>\n",
       "      <td>0.000000</td>\n",
       "      <td>0.555283</td>\n",
       "      <td>0.000000</td>\n",
       "      <td>0.437791</td>\n",
       "      <td>0.555283</td>\n",
       "      <td>0.000000</td>\n",
       "      <td>0.437791</td>\n",
       "      <td>0.000000</td>\n",
       "      <td>0.000000</td>\n",
       "      <td>0.000000</td>\n",
       "      <td>0.000000</td>\n",
       "      <td>0.000000</td>\n",
       "      <td>0.000000</td>\n",
       "    </tr>\n",
       "    <tr>\n",
       "      <th>2</th>\n",
       "      <td>0.000000</td>\n",
       "      <td>0.000000</td>\n",
       "      <td>0.000000</td>\n",
       "      <td>0.382743</td>\n",
       "      <td>0.000000</td>\n",
       "      <td>0.000000</td>\n",
       "      <td>0.000000</td>\n",
       "      <td>0.000000</td>\n",
       "      <td>0.485461</td>\n",
       "      <td>0.485461</td>\n",
       "      <td>0.485461</td>\n",
       "      <td>0.382743</td>\n",
       "      <td>0.000000</td>\n",
       "      <td>0.000000</td>\n",
       "    </tr>\n",
       "    <tr>\n",
       "      <th>3</th>\n",
       "      <td>0.000000</td>\n",
       "      <td>0.000000</td>\n",
       "      <td>0.000000</td>\n",
       "      <td>0.437791</td>\n",
       "      <td>0.000000</td>\n",
       "      <td>0.000000</td>\n",
       "      <td>0.555283</td>\n",
       "      <td>0.000000</td>\n",
       "      <td>0.000000</td>\n",
       "      <td>0.000000</td>\n",
       "      <td>0.000000</td>\n",
       "      <td>0.437791</td>\n",
       "      <td>0.000000</td>\n",
       "      <td>0.555283</td>\n",
       "    </tr>\n",
       "  </tbody>\n",
       "</table>\n",
       "</div>"
      ],
      "text/plain": [
       "         an     arrow    banana       cat     flies     fruit        is  \\\n",
       "0  0.485461  0.485461  0.000000  0.000000  0.382743  0.000000  0.000000   \n",
       "1  0.000000  0.000000  0.555283  0.000000  0.437791  0.555283  0.000000   \n",
       "2  0.000000  0.000000  0.000000  0.382743  0.000000  0.000000  0.000000   \n",
       "3  0.000000  0.000000  0.000000  0.437791  0.000000  0.000000  0.555283   \n",
       "\n",
       "       like        on       sam       sat       the      time     white  \n",
       "0  0.382743  0.000000  0.000000  0.000000  0.000000  0.485461  0.000000  \n",
       "1  0.437791  0.000000  0.000000  0.000000  0.000000  0.000000  0.000000  \n",
       "2  0.000000  0.485461  0.485461  0.485461  0.382743  0.000000  0.000000  \n",
       "3  0.000000  0.000000  0.000000  0.000000  0.437791  0.000000  0.555283  "
      ]
     },
     "execution_count": 7,
     "metadata": {},
     "output_type": "execute_result"
    }
   ],
   "source": [
    "pd.DataFrame(tfidffit.toarray(), columns= vectorizer.get_feature_names())"
   ]
  },
  {
   "cell_type": "code",
   "execution_count": 8,
   "metadata": {},
   "outputs": [],
   "source": [
    "X=pd.DataFrame(tfidffit.toarray(), columns= vectorizer.get_feature_names())"
   ]
  },
  {
   "cell_type": "code",
   "execution_count": 9,
   "metadata": {},
   "outputs": [
    {
     "name": "stdout",
     "output_type": "stream",
     "text": [
      "<class 'pandas.core.frame.DataFrame'>\n"
     ]
    }
   ],
   "source": [
    "print(type(X))"
   ]
  },
  {
   "cell_type": "code",
   "execution_count": 10,
   "metadata": {},
   "outputs": [
    {
     "name": "stdout",
     "output_type": "stream",
     "text": [
      "X.shape (4, 14)\n",
      "tfidffit.shape (4, 14)\n"
     ]
    }
   ],
   "source": [
    "print(\"X.shape\",X.shape)\n",
    "print(\"tfidffit.shape\",tfidffit.shape)"
   ]
  },
  {
   "cell_type": "code",
   "execution_count": 1,
   "metadata": {},
   "outputs": [
    {
     "data": {
      "image/jpeg": "[encoded data removed]",
      "text/plain": [
       "<IPython.core.display.Image object>"
      ]
     },
     "execution_count": 1,
     "metadata": {},
     "output_type": "execute_result"
    }
   ],
   "source": [
    "from IPython.display import Image\n",
    "Image(\"img/SingularValueDecomposition.jpg\")"
   ]
  },
  {
   "cell_type": "code",
   "execution_count": 12,
   "metadata": {},
   "outputs": [],
   "source": [
    "# SVD\n",
    "# References: \n",
    "# 1) https://scikit-learn.org/stable/modules/generated/sklearn.decomposition.TruncatedSVD.html\n",
    "# 2) https://stackoverflow.com/questions/18706863/difference-between-truncatedsvd-and-svds\n",
    "    \n",
    "#from sklearn.decomposition import TruncatedSVD\n",
    "#svd_model = TruncatedSVD(n_components=14)\n",
    "#svd_matrix_train = svd_model.fit(tfidffit)\n",
    "\n",
    "from sklearn.utils.extmath import randomized_svd\n",
    "U, Sigma, VT = randomized_svd(tfidffit, n_components=14)"
   ]
  },
  {
   "cell_type": "code",
   "execution_count": 13,
   "metadata": {},
   "outputs": [
    {
     "name": "stdout",
     "output_type": "stream",
     "text": [
      "(4, 4)\n",
      "(4,)\n",
      "(4, 14)\n"
     ]
    }
   ],
   "source": [
    "print(U.shape)\n",
    "print(Sigma.shape)\n",
    "print(VT.shape)"
   ]
  },
  {
   "cell_type": "code",
   "execution_count": 14,
   "metadata": {},
   "outputs": [
    {
     "name": "stdout",
     "output_type": "stream",
     "text": [
      "[[ 0.00000000e+00  7.07106781e-01 -0.00000000e+00 -7.07106781e-01]\n",
      " [-8.78461038e-17  7.07106781e-01  6.14922726e-16  7.07106781e-01]\n",
      " [ 7.07106781e-01  3.51384415e-16 -7.07106781e-01  3.51384415e-16]\n",
      " [ 7.07106781e-01 -2.63538311e-16  7.07106781e-01 -2.63538311e-16]]\n"
     ]
    }
   ],
   "source": [
    "print(U)"
   ]
  },
  {
   "cell_type": "code",
   "execution_count": 15,
   "metadata": {},
   "outputs": [
    {
     "name": "stdout",
     "output_type": "stream",
     "text": [
      "[1.15547515 1.15547515 0.81540002 0.81540002]\n"
     ]
    }
   ],
   "source": [
    "print(Sigma)"
   ]
  },
  {
   "cell_type": "code",
   "execution_count": 16,
   "metadata": {},
   "outputs": [
    {
     "name": "stdout",
     "output_type": "stream",
     "text": [
      "[[ 1.38243694e-16 -1.77882713e-17 -1.73388466e-16  5.02135528e-01\n",
      "  -7.72476339e-17 -1.82714062e-16  3.39811842e-01 -7.72476339e-17\n",
      "   2.97083405e-01  2.97083405e-01  2.97083405e-01  5.02135528e-01\n",
      "   8.97645842e-17  3.39811842e-01]\n",
      " [ 2.97083405e-01  2.97083405e-01  3.39811842e-01  6.51244885e-17\n",
      "   5.02135528e-01  3.39811842e-01 -1.48781758e-16  5.02135528e-01\n",
      "   2.27244609e-16  2.27244609e-16  2.27244609e-16  6.55300934e-17\n",
      "   2.97083405e-01 -1.48781758e-16]\n",
      " [ 3.37356716e-16 -3.75073128e-16  3.21146047e-16  4.77375191e-02\n",
      "   1.90407361e-16  5.70113499e-16  4.81535603e-01  1.90407361e-16\n",
      "  -4.20986613e-01 -4.20986613e-01 -4.20986613e-01  4.77375191e-02\n",
      "  -3.19561977e-16  4.81535603e-01]\n",
      " [-4.20986613e-01 -4.20986613e-01  4.81535603e-01  9.33755884e-17\n",
      "   4.77375191e-02  4.81535603e-01 -1.69022131e-17  4.77375191e-02\n",
      "   1.14317244e-16  1.14317244e-16  1.14317244e-16  8.34478846e-17\n",
      "  -4.20986613e-01 -1.69022131e-17]]\n"
     ]
    }
   ],
   "source": [
    "print(VT)"
   ]
  },
  {
   "cell_type": "code",
   "execution_count": 17,
   "metadata": {},
   "outputs": [],
   "source": [
    "X_train_noisefree = np.dot(U,np.diag(Sigma))\n",
    "X_train_noisefree = np.dot(X_train_noisefree, VT)"
   ]
  },
  {
   "cell_type": "code",
   "execution_count": 18,
   "metadata": {},
   "outputs": [
    {
     "data": {
      "text/plain": [
       "(4, 14)"
      ]
     },
     "execution_count": 18,
     "metadata": {},
     "output_type": "execute_result"
    }
   ],
   "source": [
    "X_train_noisefree.shape"
   ]
  },
  {
   "cell_type": "code",
   "execution_count": 19,
   "metadata": {},
   "outputs": [
    {
     "name": "stdout",
     "output_type": "stream",
     "text": [
      "         an     arrow    banana       cat     flies     fruit        is  \\\n",
      "0  0.485461  0.485461  0.000000  0.000000  0.382743  0.000000  0.000000   \n",
      "1  0.000000  0.000000  0.555283  0.000000  0.437791  0.555283  0.000000   \n",
      "2  0.000000  0.000000  0.000000  0.382743  0.000000  0.000000  0.000000   \n",
      "3  0.000000  0.000000  0.000000  0.437791  0.000000  0.000000  0.555283   \n",
      "\n",
      "       like        on       sam       sat       the      time     white  \n",
      "0  0.382743  0.000000  0.000000  0.000000  0.000000  0.485461  0.000000  \n",
      "1  0.437791  0.000000  0.000000  0.000000  0.000000  0.000000  0.000000  \n",
      "2  0.000000  0.485461  0.485461  0.485461  0.382743  0.000000  0.000000  \n",
      "3  0.000000  0.000000  0.000000  0.000000  0.437791  0.000000  0.555283  \n"
     ]
    }
   ],
   "source": [
    "print(X)"
   ]
  },
  {
   "cell_type": "code",
   "execution_count": 20,
   "metadata": {},
   "outputs": [
    {
     "name": "stdout",
     "output_type": "stream",
     "text": [
      "[[ 4.85460612e-01  4.85460612e-01 -1.19663605e-16 -6.28425733e-19\n",
      "   3.82742722e-01 -2.71193762e-16 -1.11815898e-16  3.82742722e-01\n",
      "   1.19756464e-16  1.19756464e-16  1.19756464e-16  5.42703601e-18\n",
      "   4.85460612e-01 -1.11815898e-16]\n",
      " [ 2.68561607e-16 -3.07552430e-16  5.55282665e-01  8.00148262e-17\n",
      "   4.37791231e-01  5.55282665e-01  7.56468655e-17  4.37791231e-01\n",
      "   1.03401599e-17  1.03401599e-17  1.03401599e-17  7.46221587e-17\n",
      "  -3.39558765e-16  7.56468655e-17]\n",
      " [-8.15601848e-17  2.01723938e-16 -5.08927420e-17  3.82742722e-01\n",
      "   4.46538960e-17 -2.02060546e-16 -4.47475575e-17  4.46538960e-17\n",
      "   4.85460612e-01  4.85460612e-01  4.85460612e-01  3.82742722e-01\n",
      "   2.57593051e-16 -4.47475575e-17]\n",
      " [ 3.07462632e-16 -2.30791550e-16 -1.63454862e-16  4.37791231e-01\n",
      "  -1.16495192e-16 -2.75259089e-17  5.55282665e-01 -1.16495192e-16\n",
      "   4.53294450e-17  4.53294450e-17  4.53294450e-17  4.37791231e-01\n",
      "  -1.10909765e-16  5.55282665e-01]]\n"
     ]
    }
   ],
   "source": [
    "print(X_train_noisefree)"
   ]
  },
  {
   "cell_type": "code",
   "execution_count": 21,
   "metadata": {},
   "outputs": [
    {
     "name": "stdout",
     "output_type": "stream",
     "text": [
      "0.4854606118156975\n",
      "0.48546061181569755\n"
     ]
    }
   ],
   "source": [
    "print(tfidffit[2, 8])\n",
    "print(X_train_noisefree[2,8])"
   ]
  },
  {
   "cell_type": "code",
   "execution_count": 22,
   "metadata": {},
   "outputs": [],
   "source": [
    "query_df = pd.DataFrame([\"cat sat on\"])"
   ]
  },
  {
   "cell_type": "code",
   "execution_count": 23,
   "metadata": {},
   "outputs": [],
   "source": [
    "query = vectorizer.transform(query_df[0])"
   ]
  },
  {
   "cell_type": "code",
   "execution_count": 24,
   "metadata": {},
   "outputs": [
    {
     "name": "stdout",
     "output_type": "stream",
     "text": [
      "  (0, 10)\t0.6176143709756019\n",
      "  (0, 8)\t0.6176143709756019\n",
      "  (0, 3)\t0.48693426407352264\n"
     ]
    }
   ],
   "source": [
    "print(query)"
   ]
  },
  {
   "cell_type": "code",
   "execution_count": 25,
   "metadata": {},
   "outputs": [],
   "source": [
    "Uquery, Sigmaquery, VTquery = randomized_svd(query, n_components=14)"
   ]
  },
  {
   "cell_type": "code",
   "execution_count": 26,
   "metadata": {},
   "outputs": [
    {
     "data": {
      "text/html": [
       "<div>\n",
       "<style scoped>\n",
       "    .dataframe tbody tr th:only-of-type {\n",
       "        vertical-align: middle;\n",
       "    }\n",
       "\n",
       "    .dataframe tbody tr th {\n",
       "        vertical-align: top;\n",
       "    }\n",
       "\n",
       "    .dataframe thead th {\n",
       "        text-align: right;\n",
       "    }\n",
       "</style>\n",
       "<table border=\"1\" class=\"dataframe\">\n",
       "  <thead>\n",
       "    <tr style=\"text-align: right;\">\n",
       "      <th></th>\n",
       "      <th>0</th>\n",
       "      <th>1</th>\n",
       "      <th>2</th>\n",
       "      <th>3</th>\n",
       "      <th>4</th>\n",
       "      <th>5</th>\n",
       "      <th>6</th>\n",
       "      <th>7</th>\n",
       "      <th>8</th>\n",
       "      <th>9</th>\n",
       "      <th>10</th>\n",
       "      <th>11</th>\n",
       "      <th>12</th>\n",
       "      <th>13</th>\n",
       "    </tr>\n",
       "  </thead>\n",
       "  <tbody>\n",
       "    <tr>\n",
       "      <th>0</th>\n",
       "      <td>0.0</td>\n",
       "      <td>0.0</td>\n",
       "      <td>0.0</td>\n",
       "      <td>0.486934</td>\n",
       "      <td>0.0</td>\n",
       "      <td>0.0</td>\n",
       "      <td>0.0</td>\n",
       "      <td>0.0</td>\n",
       "      <td>0.617614</td>\n",
       "      <td>0.0</td>\n",
       "      <td>0.617614</td>\n",
       "      <td>0.0</td>\n",
       "      <td>0.0</td>\n",
       "      <td>0.0</td>\n",
       "    </tr>\n",
       "  </tbody>\n",
       "</table>\n",
       "</div>"
      ],
      "text/plain": [
       "    0    1    2         3    4    5    6    7         8    9         10   11  \\\n",
       "0  0.0  0.0  0.0  0.486934  0.0  0.0  0.0  0.0  0.617614  0.0  0.617614  0.0   \n",
       "\n",
       "    12   13  \n",
       "0  0.0  0.0  "
      ]
     },
     "execution_count": 26,
     "metadata": {},
     "output_type": "execute_result"
    }
   ],
   "source": [
    "query_noisefree = pd.DataFrame(np.dot(np.dot(Uquery,Sigmaquery),VTquery)).T\n",
    "query_noisefree"
   ]
  },
  {
   "cell_type": "code",
   "execution_count": 27,
   "metadata": {},
   "outputs": [],
   "source": [
    "# Calculating cosine similarity\n",
    "from sklearn.metrics.pairwise import cosine_similarity"
   ]
  },
  {
   "cell_type": "code",
   "execution_count": 28,
   "metadata": {},
   "outputs": [],
   "source": [
    "distance_matrix = cosine_similarity(X_train_noisefree,query_noisefree)"
   ]
  },
  {
   "cell_type": "code",
   "execution_count": 29,
   "metadata": {},
   "outputs": [
    {
     "name": "stdout",
     "output_type": "stream",
     "text": [
      "[[1.47620624e-16]\n",
      " [5.17344232e-17]\n",
      " [7.86025447e-01]\n",
      " [2.13175551e-01]]\n"
     ]
    }
   ],
   "source": [
    "print(distance_matrix)"
   ]
  },
  {
   "cell_type": "code",
   "execution_count": 30,
   "metadata": {
    "scrolled": true
   },
   "outputs": [
    {
     "name": "stdout",
     "output_type": "stream",
     "text": [
      "[1.47620624e-16 5.17344232e-17 7.86025447e-01 2.13175551e-01]\n",
      "[1 0 3 2]\n",
      "[2 3 0 1]\n"
     ]
    }
   ],
   "source": [
    "y = distance_matrix.flatten()\n",
    "print(y)\n",
    "y1 = y.argsort() # Returns the indices that would sort an array\n",
    "print(y1)\n",
    "print(np.flipud(y1)) # Flip array in the up/down direction"
   ]
  },
  {
   "cell_type": "raw",
   "metadata": {},
   "source": [
    "# Higher the Cosine value, higher the similarity between the document and query"
   ]
  },
  {
   "cell_type": "code",
   "execution_count": 31,
   "metadata": {},
   "outputs": [
    {
     "data": {
      "text/plain": [
       "'cat sat on'"
      ]
     },
     "execution_count": 31,
     "metadata": {},
     "output_type": "execute_result"
    }
   ],
   "source": [
    "query_df[0][0]"
   ]
  },
  {
   "cell_type": "code",
   "execution_count": 32,
   "metadata": {},
   "outputs": [
    {
     "data": {
      "text/html": [
       "<div>\n",
       "<style scoped>\n",
       "    .dataframe tbody tr th:only-of-type {\n",
       "        vertical-align: middle;\n",
       "    }\n",
       "\n",
       "    .dataframe tbody tr th {\n",
       "        vertical-align: top;\n",
       "    }\n",
       "\n",
       "    .dataframe thead th {\n",
       "        text-align: right;\n",
       "    }\n",
       "</style>\n",
       "<table border=\"1\" class=\"dataframe\">\n",
       "  <thead>\n",
       "    <tr style=\"text-align: right;\">\n",
       "      <th></th>\n",
       "      <th>0</th>\n",
       "    </tr>\n",
       "  </thead>\n",
       "  <tbody>\n",
       "    <tr>\n",
       "      <th>0</th>\n",
       "      <td>Time flies like an arrow</td>\n",
       "    </tr>\n",
       "    <tr>\n",
       "      <th>1</th>\n",
       "      <td>Fruit flies like a banana,</td>\n",
       "    </tr>\n",
       "    <tr>\n",
       "      <th>2</th>\n",
       "      <td>Sam sat on the cat</td>\n",
       "    </tr>\n",
       "    <tr>\n",
       "      <th>3</th>\n",
       "      <td>The cat is white.</td>\n",
       "    </tr>\n",
       "  </tbody>\n",
       "</table>\n",
       "</div>"
      ],
      "text/plain": [
       "                            0\n",
       "0    Time flies like an arrow\n",
       "1  Fruit flies like a banana,\n",
       "2          Sam sat on the cat\n",
       "3           The cat is white."
      ]
     },
     "execution_count": 32,
     "metadata": {},
     "output_type": "execute_result"
    }
   ],
   "source": [
    "X_train"
   ]
  },
  {
   "cell_type": "code",
   "execution_count": null,
   "metadata": {},
   "outputs": [],
   "source": []
  }
 ],
 "metadata": {
  "anaconda-cloud": {},
  "kernelspec": {
   "display_name": "Python 3",
   "language": "python",
   "name": "python3"
  },
  "language_info": {
   "codemirror_mode": {
    "name": "ipython",
    "version": 3
   },
   "file_extension": ".py",
   "mimetype": "text/x-python",
   "name": "python",
   "nbconvert_exporter": "python",
   "pygments_lexer": "ipython3",
   "version": "3.6.5"
  }
 },
 "nbformat": 4,
 "nbformat_minor": 1
}
