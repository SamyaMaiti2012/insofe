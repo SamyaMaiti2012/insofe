{
 "cells": [
  {
   "cell_type": "markdown",
   "metadata": {},
   "source": [
    "# PageRank"
   ]
  },
  {
   "cell_type": "code",
   "execution_count": 2,
   "metadata": {},
   "outputs": [],
   "source": [
    "import networkx as nx"
   ]
  },
  {
   "cell_type": "markdown",
   "metadata": {},
   "source": [
    "##### Example 1"
   ]
  },
  {
   "cell_type": "code",
   "execution_count": 3,
   "metadata": {},
   "outputs": [],
   "source": [
    "# Initialize directed graph\n",
    "G = nx.DiGraph()\n",
    "# ?nx.DiGraph"
   ]
  },
  {
   "cell_type": "code",
   "execution_count": 4,
   "metadata": {},
   "outputs": [],
   "source": [
    "G.add_edge(1,1)\n",
    "G.add_edge(1,2)\n",
    "G.add_edge(2,1)\n",
    "G.add_edge(2,3)\n",
    "G.add_edge(3,2)\n",
    "# G.add_edge(4,3)"
   ]
  },
  {
   "cell_type": "code",
   "execution_count": 5,
   "metadata": {},
   "outputs": [
    {
     "name": "stdout",
     "output_type": "stream",
     "text": [
      "{1: 0.2862880413430023, 2: 0.299096601896277, 3: 0.16461535676072073, 4: 0.25}\n"
     ]
    }
   ],
   "source": [
    "# Compute pagerank (keys are node IDs, values are pageranks)\n",
    "pr = nx.pagerank(G)\n",
    "print(pr)"
   ]
  },
  {
   "cell_type": "code",
   "execution_count": 6,
   "metadata": {},
   "outputs": [],
   "source": [
    "#?nx.pagerank"
   ]
  },
  {
   "cell_type": "markdown",
   "metadata": {},
   "source": [
    "##### Example 2"
   ]
  },
  {
   "cell_type": "code",
   "execution_count": 7,
   "metadata": {},
   "outputs": [],
   "source": [
    "# Initialize directed graph\n",
    "G = nx.DiGraph()"
   ]
  },
  {
   "cell_type": "code",
   "execution_count": 14,
   "metadata": {},
   "outputs": [],
   "source": [
    "# Add edges (implicitely adds nodes)\n",
    "G.add_edge(1,6)\n",
    "G.add_edge(2,6)\n",
    "G.add_edge(3,6)\n",
    "G.add_edge(4,6)\n",
    "G.add_edge(5,6)\n",
    "G.add_edge(4,5)\n",
    "G.add_edge(6,7)"
   ]
  },
  {
   "cell_type": "code",
   "execution_count": 15,
   "metadata": {},
   "outputs": [
    {
     "name": "stdout",
     "output_type": "stream",
     "text": [
      "{1: 0.06040984961163463, 6: 0.3066018239766803, 2: 0.06040984961163463, 3: 0.10506053482709238, 4: 0.06040984961163463, 5: 0.08608384239727708, 7: 0.32102424996404644}\n"
     ]
    }
   ],
   "source": [
    "# Compute pagerank (keys are node IDs, values are pageranks)\n",
    "pr = nx.pagerank(G)\n",
    "print(pr)"
   ]
  },
  {
   "cell_type": "markdown",
   "metadata": {},
   "source": [
    "##### Viewing the graph"
   ]
  },
  {
   "cell_type": "code",
   "execution_count": 19,
   "metadata": {},
   "outputs": [
    {
     "data": {
      "image/png": "[encoded data removed]",
      "text/plain": [
       "<Figure size 432x288 with 1 Axes>"
      ]
     },
     "metadata": {},
     "output_type": "display_data"
    }
   ],
   "source": [
    "import matplotlib.pyplot as plt\n",
    "nx.draw(G, with_labels=True)\n",
    "plt.show()\n",
    "#G\n",
    "   "
   ]
  }
 ],
 "metadata": {
  "kernelspec": {
   "display_name": "Python 3",
   "language": "python",
   "name": "python3"
  },
  "language_info": {
   "codemirror_mode": {
    "name": "ipython",
    "version": 3
   },
   "file_extension": ".py",
   "mimetype": "text/x-python",
   "name": "python",
   "nbconvert_exporter": "python",
   "pygments_lexer": "ipython3",
   "version": "3.6.5"
  }
 },
 "nbformat": 4,
 "nbformat_minor": 2
}
