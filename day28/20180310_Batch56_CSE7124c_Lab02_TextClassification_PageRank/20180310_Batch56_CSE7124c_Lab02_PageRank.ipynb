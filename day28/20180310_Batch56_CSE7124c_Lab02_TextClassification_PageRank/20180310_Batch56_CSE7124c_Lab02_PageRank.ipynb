{
 "cells": [
  {
   "cell_type": "markdown",
   "metadata": {},
   "source": [
    "# PageRank"
   ]
  },
  {
   "cell_type": "code",
   "execution_count": 1,
   "metadata": {
    "ExecuteTime": {
     "end_time": "2019-03-18T04:50:21.596934Z",
     "start_time": "2019-03-18T04:50:20.412523Z"
    }
   },
   "outputs": [],
   "source": [
    "import networkx as nx"
   ]
  },
  {
   "cell_type": "markdown",
   "metadata": {},
   "source": [
    "##### Example 1"
   ]
  },
  {
   "cell_type": "code",
   "execution_count": 2,
   "metadata": {
    "ExecuteTime": {
     "end_time": "2019-03-18T04:50:21.602506Z",
     "start_time": "2019-03-18T04:50:21.599926Z"
    }
   },
   "outputs": [],
   "source": [
    "# Initialize directed graph\n",
    "G = nx.DiGraph()\n",
    "# ?nx.DiGraph"
   ]
  },
  {
   "cell_type": "code",
   "execution_count": 3,
   "metadata": {
    "ExecuteTime": {
     "end_time": "2019-03-18T04:50:21.608833Z",
     "start_time": "2019-03-18T04:50:21.604675Z"
    }
   },
   "outputs": [],
   "source": [
    "G.add_edge(1,1)\n",
    "G.add_edge(1,2)\n",
    "G.add_edge(2,1)\n",
    "G.add_edge(2,3)\n",
    "G.add_edge(3,2)\n",
    "# G.add_edge(4,3)"
   ]
  },
  {
   "cell_type": "code",
   "execution_count": 4,
   "metadata": {
    "ExecuteTime": {
     "end_time": "2019-03-18T04:50:21.616708Z",
     "start_time": "2019-03-18T04:50:21.612183Z"
    }
   },
   "outputs": [
    {
     "name": "stdout",
     "output_type": "stream",
     "text": [
      "{1: 0.38171756837664655, 2: 0.3987949981601664, 3: 0.21948743346318683}\n"
     ]
    }
   ],
   "source": [
    "# Compute pagerank (keys are node IDs, values are pageranks)\n",
    "pr = nx.pagerank(G)\n",
    "print(pr)"
   ]
  },
  {
   "cell_type": "code",
   "execution_count": 5,
   "metadata": {
    "ExecuteTime": {
     "end_time": "2019-03-18T04:50:21.623105Z",
     "start_time": "2019-03-18T04:50:21.620648Z"
    }
   },
   "outputs": [],
   "source": [
    "#?nx.pagerank"
   ]
  },
  {
   "cell_type": "markdown",
   "metadata": {},
   "source": [
    "##### Example 2"
   ]
  },
  {
   "cell_type": "code",
   "execution_count": 6,
   "metadata": {
    "ExecuteTime": {
     "end_time": "2019-03-18T04:50:21.627972Z",
     "start_time": "2019-03-18T04:50:21.625392Z"
    }
   },
   "outputs": [],
   "source": [
    "# Initialize directed graph\n",
    "G = nx.DiGraph()"
   ]
  },
  {
   "cell_type": "code",
   "execution_count": 7,
   "metadata": {
    "ExecuteTime": {
     "end_time": "2019-03-18T04:50:21.632961Z",
     "start_time": "2019-03-18T04:50:21.629804Z"
    }
   },
   "outputs": [],
   "source": [
    "# Add edges (implicitely adds nodes)\n",
    "G.add_edge(1,6)\n",
    "G.add_edge(2,6)\n",
    "G.add_edge(3,6)\n",
    "G.add_edge(4,6)\n",
    "G.add_edge(5,6)\n",
    "G.add_edge(4,5)\n",
    "G.add_edge(6,7)"
   ]
  },
  {
   "cell_type": "code",
   "execution_count": 8,
   "metadata": {
    "ExecuteTime": {
     "end_time": "2019-03-18T04:50:21.640229Z",
     "start_time": "2019-03-18T04:50:21.635224Z"
    }
   },
   "outputs": [
    {
     "name": "stdout",
     "output_type": "stream",
     "text": [
      "{1: 0.06242340798778012, 6: 0.3237455268954062, 2: 0.06242340798778012, 3: 0.06242340798778012, 4: 0.06242340798778012, 5: 0.08895357136701444, 7: 0.3376072697864589}\n"
     ]
    }
   ],
   "source": [
    "# Compute pagerank (keys are node IDs, values are pageranks)\n",
    "pr = nx.pagerank(G)\n",
    "print(pr)"
   ]
  },
  {
   "cell_type": "markdown",
   "metadata": {},
   "source": [
    "##### Viewing the graph"
   ]
  },
  {
   "cell_type": "code",
   "execution_count": 10,
   "metadata": {
    "ExecuteTime": {
     "end_time": "2019-03-18T04:50:25.063158Z",
     "start_time": "2019-03-18T04:50:24.946524Z"
    }
   },
   "outputs": [
    {
     "data": {
      "image/png": "[encoded data removed]",
      "text/plain": [
       "<Figure size 432x288 with 1 Axes>"
      ]
     },
     "metadata": {},
     "output_type": "display_data"
    }
   ],
   "source": [
    "import matplotlib.pyplot as plt\n",
    "nx.draw(G, with_labels=True)\n",
    "plt.show()\n",
    "#G\n",
    "   "
   ]
  },
  {
   "cell_type": "code",
   "execution_count": null,
   "metadata": {},
   "outputs": [],
   "source": []
  }
 ],
 "metadata": {
  "kernelspec": {
   "display_name": "Python 3",
   "language": "python",
   "name": "python3"
  },
  "language_info": {
   "codemirror_mode": {
    "name": "ipython",
    "version": 3
   },
   "file_extension": ".py",
   "mimetype": "text/x-python",
   "name": "python",
   "nbconvert_exporter": "python",
   "pygments_lexer": "ipython3",
   "version": "3.6.7"
  },
  "toc": {
   "base_numbering": 1,
   "nav_menu": {},
   "number_sections": true,
   "sideBar": true,
   "skip_h1_title": false,
   "title_cell": "Table of Contents",
   "title_sidebar": "Contents",
   "toc_cell": false,
   "toc_position": {},
   "toc_section_display": true,
   "toc_window_display": false
  },
  "varInspector": {
   "cols": {
    "lenName": 16,
    "lenType": 16,
    "lenVar": 40
   },
   "kernels_config": {
    "python": {
     "delete_cmd_postfix": "",
     "delete_cmd_prefix": "del ",
     "library": "var_list.py",
     "varRefreshCmd": "print(var_dic_list())"
    },
    "r": {
     "delete_cmd_postfix": ") ",
     "delete_cmd_prefix": "rm(",
     "library": "var_list.r",
     "varRefreshCmd": "cat(var_dic_list()) "
    }
   },
   "oldHeight": 122,
   "position": {
    "height": "40px",
    "left": "1410px",
    "right": "20px",
    "top": "120px",
    "width": "250px"
   },
   "types_to_exclude": [
    "module",
    "function",
    "builtin_function_or_method",
    "instance",
    "_Feature"
   ],
   "varInspector_section_display": "none",
   "window_display": true
  }
 },
 "nbformat": 4,
 "nbformat_minor": 2
}
