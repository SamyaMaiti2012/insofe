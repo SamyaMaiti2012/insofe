{
 "cells": [
  {
   "cell_type": "markdown",
   "metadata": {},
   "source": [
    "#### 1. Create the Spark Environment  (2M)"
   ]
  },
  {
   "cell_type": "code",
   "execution_count": 1,
   "metadata": {},
   "outputs": [],
   "source": [
    "import os\n",
    "import sys\n",
    "os.environ[\"SPARK_HOME\"] = \"/usr/hdp/current/spark2-client\"\n",
    "os.environ[\"PYLIB\"] = os.environ[\"SPARK_HOME\"] + \"/python/lib\"\n",
    "sys.path.insert(0, os.environ[\"PYLIB\"] + \"/py4j-0.10.6-src.zip\")\n",
    "sys.path.insert(0, os.environ[\"PYLIB\"] + \"/pyspark.zip\")"
   ]
  },
  {
   "cell_type": "markdown",
   "metadata": {},
   "source": [
    "#### 2. Load the required Libraries for Spark Context and Spark Session (2M)"
   ]
  },
  {
   "cell_type": "code",
   "execution_count": 2,
   "metadata": {},
   "outputs": [],
   "source": [
    "from pyspark.conf import SparkConf\n",
    "from pyspark import SparkContext\n",
    "from pyspark.sql import SparkSession\n"
   ]
  },
  {
   "cell_type": "code",
   "execution_count": 3,
   "metadata": {},
   "outputs": [],
   "source": [
    "from pyspark.ml.feature import VectorAssembler\n",
    "from pyspark.ml.feature import MinMaxScaler\n",
    "from pyspark.ml.feature import OneHotEncoder, StringIndexer, VectorAssembler\n",
    "from pyspark.ml.classification import LogisticRegression\n",
    "from pyspark.ml import Pipeline\n",
    "from pyspark.ml.tuning import ParamGridBuilder, CrossValidator\n",
    "from pyspark.ml.evaluation import BinaryClassificationEvaluator, MulticlassClassificationEvaluator\n",
    "from pyspark.ml import PipelineModel\n",
    "\n",
    "import numpy as np"
   ]
  },
  {
   "cell_type": "markdown",
   "metadata": {},
   "source": [
    "#### 3. Create the Spark Context and Spark Session (2M)"
   ]
  },
  {
   "cell_type": "code",
   "execution_count": 4,
   "metadata": {},
   "outputs": [],
   "source": [
    "conf = SparkConf().setAppName(\"Batch56_CSE7322c_CUTe_PartB_2618\").setMaster('local[*]').set(\"spark.driver.extraClassPath\",\"/home/datasets/mysql-connector-java-8.0.13.jar\").set(\"spark.executor.extraClassPath\",\"/home/datasets/mysql-connector-java-8.0.13.jar\")\n",
    "sc = SparkContext(conf=conf)  \n",
    "spark = SparkSession(sc)  "
   ]
  },
  {
   "cell_type": "markdown",
   "metadata": {},
   "source": [
    "#### 4. Load the libraries for schema definition in Pyspark (2M)"
   ]
  },
  {
   "cell_type": "code",
   "execution_count": 5,
   "metadata": {},
   "outputs": [],
   "source": [
    "from pyspark.sql.types import *\n",
    "from pyspark.sql.functions import *\n"
   ]
  },
  {
   "cell_type": "code",
   "execution_count": 6,
   "metadata": {},
   "outputs": [
    {
     "data": {
      "text/html": [
       "<style>.container { width:100% !important; }</style>"
      ],
      "text/plain": [
       "<IPython.core.display.HTML object>"
      ]
     },
     "metadata": {},
     "output_type": "display_data"
    }
   ],
   "source": [
    "from IPython.core.display import display, HTML\n",
    "display(HTML(\"<style>.container { width:100% !important; }</style>\"))\n",
    "%matplotlib inline\n",
    "np.random.seed(333)"
   ]
  },
  {
   "cell_type": "markdown",
   "metadata": {},
   "source": [
    "#### Problem Statement:\n",
    "* This data was extracted from the census bureau database.The task is to classify the records based on the income field.Incomes have been binned at the 50K level to present a binary classification problem.The instance_weight attribute should not be used in the classifier. All the other attributes and their description are givn below.\n",
    "\n",
    "#### Description of the Attributes\n",
    "* **age**: continuous.\n",
    "* **class of worker**: Not in universe, Federal government, Local government, Never worked, Private, Self-employed- incorporated, Self-employed-not incorporated, State government, Without pay.\n",
    "* **detailed industry recode**: 0, 40, 44, 2, 43, 47, 48, 1, 11, 19, 24, 25, 32, 33, 34, 35, 36, 37, 38, 39, 4, 42, 45, 5, 15, 16, 22, 29, 31, 50, 14, 17, 18, 28, 3, 30, 41, 46, 51, 12, 13, 21, 23, 26, 6, 7, 9, 49, 27, 8, 10, 20.\n",
    "* **detailed occupation recode** : 0, 12, 31, 44, 19, 32, 10, 23, 26, 28, 29, 42, 40, 34, 14, 36, 38, 2, 20, 25, 37, 41, 27, 24, 30, 43, 33, 16, 45, 17, 35, 22, 18, 39, 3, 15, 13, 46, 8, 21, 9, 4, 6, 5, 1, 11, 7.\n",
    "* **education**: Children, 7th and 8th grade, 9th grade, 10th grade, High school graduate, 11th grade, 12th grade no diploma, 5th or 6th grade, Less than 1st grade, Bachelors degree(BA AB BS), 1st 2nd 3rd or 4th grade, Some college but no degree, Masters degree(MA MS MEng MEd MSW MBA), Associates degree-occup /vocational, Associates degree-academic program, Doctorate degree(PhD EdD), Prof school degree (MD DDS DVM LLB JD).\n",
    "* **wage per hour**: continuous.\n",
    "* **enroll in edu inst last wk**: Not in universe, High school, College or university.\n",
    "* **marital stat**: Never married, Married-civilian spouse present, Married-spouse absent, Separated, Divorced, Widowed, Married-A F spouse present.\n",
    "* **major industry code**: Not in universe or children, Entertainment, Social services, Agriculture, Education, Public administration, Manufacturing-durable goods, Manufacturing-nondurable goods, Wholesale trade, Retail trade, Finance insurance and real estate, Private household services, Business and repair services, Personal services except private HH, Construction, Medical except hospital, Other professional services, Transportation, Utilities and sanitary services, Mining, Communications, Hospital services, Forestry and fisheries, Armed Forces.\n",
    "* **major occupation code**: Not in universe, Professional specialty, Other service, Farming forestry and fishing, Sales, Adm support including clerical, Protective services, Handlers equip cleaners etc , Precision production craft & repair, Technicians and related support, Machine operators assmblrs & inspctrs, Transportation and material moving, Executive admin and managerial, Private household services, Armed Forces.\n",
    "* **race**: White, Black, Other, Amer Indian Aleut or Eskimo, Asian or Pacific Islander.\n",
    "* **hispanic origin**: Mexican (Mexicano), Mexican-American, Puerto Rican, Central or South American, All other, Other Spanish, Chicano, Cuban, Do not know, NA.\n",
    "* **sex**: Female, Male.\n",
    "* **member of a labor union**: Not in universe, No, Yes.\n",
    "* **reason for unemployment**: Not in universe, Re-entrant, Job loser - on layoff, New entrant, Job leaver, Other job loser.\n",
    "* **Full or part time employment stat**: Children or Armed Forces, Full-time schedules, Unemployed part- time, Not in labor force, Unemployed full-time, PT for non-econ reasons usually FT, PT for econ reasons usually PT, PT for econ reasons usually FT.\n",
    "* **capital gains**: continuous.\n",
    "* **capital losses**: continuous.\n",
    "* **dividends from stocks**: continuous.\n",
    "* **tax filer stat**: Nonfiler, Joint one under 65 & one 65+, Joint both under 65, Single, Head of household, Joint both 65+.\n",
    "* **region of previous residence**: Not in universe, South, Northeast, West, Midwest, Abroad.\n",
    "* **state of previous residence**: Not in universe, Utah, Michigan, North Carolina, North Dakota, Virginia, Vermont, Wyoming, West Virginia, Pennsylvania, Abroad, Oregon, California, Iowa, Florida, Arkansas, Texas, South Carolina, Arizona, Indiana, Tennessee, Maine, Alaska, Ohio, Montana, Nebraska, Mississippi, District of Columbia, Minnesota, Illinois, Kentucky, Delaware, Colorado, Maryland, Wisconsin, New Hampshire, Nevada, New York, Georgia, Oklahoma, New Mexico, South Dakota, Missouri, Kansas, Connecticut, Louisiana, Alabama, Massachusetts, Idaho, New Jersey.\n",
    "* **detailed household and family stat**: Child <18 never marr not in subfamily, Other Rel <18 never marr child of subfamily RP, Other Rel <18 never marr not in subfamily, Grandchild <18 never marr child of subfamily RP, Grandchild <18 never marr not in subfamily, Secondary individual, In group quarters, Child under 18 of RP of unrel subfamily, RP of unrelated subfamily, Spouse of householder, Householder, Other Rel <18 never married RP of subfamily, Grandchild <18 never marr RP of subfamily, Child <18 never marr RP of subfamily, Child <18 ever marr not in subfamily, Other Rel <18 ever marr RP of subfamily, Child <18 ever marr RP of subfamily, Nonfamily householder, Child <18 spouse of subfamily RP, Other Rel <18 spouse of subfamily RP, Other Rel <18 ever marr not in subfamily, Grandchild <18 ever marr not in subfamily, Child 18+ never marr Not in a subfamily, Grandchild 18+ never marr not in subfamily, Child 18+ ever marr RP of subfamily, Other Rel 18+ never marr not in subfamily, Child 18+ never marr RP of subfamily, Other Rel 18+ ever marr RP of subfamily, Other Rel 18+ never marr RP of subfamily, Other Rel 18+ spouse of subfamily RP, Other Rel 18+ ever marr not in subfamily, Child 18+ ever marr Not in a subfamily, Grandchild 18+ ever marr not in subfamily, Child 18+ spouse of subfamily RP, Spouse of RP of unrelated subfamily, Grandchild 18+ ever marr RP of subfamily, Grandchild 18+ never marr RP of subfamily, Grandchild 18+ spouse of subfamily RP.\n",
    "* **detailed household summary in household**: Child under 18 never married, Other relative of householder, Nonrelative of householder, Spouse of householder, Householder, Child under 18 ever married, Group Quarters- Secondary individual, Child 18 or older.\n",
    "| instance weight: ignore.\n",
    "* **instance weight**: continuous.\n",
    "* **migration code-change in msa**: Not in universe, Nonmover, MSA to MSA, NonMSA to nonMSA, MSA to nonMSA, NonMSA to MSA, Abroad to MSA, Not identifiable, Abroad to nonMSA.\n",
    "* **migration code-change in reg**: Not in universe, Nonmover, Same county, Different county same state, Different state same division, Abroad, Different region, Different division same region.\n",
    "* **migration code-move within reg**: Not in universe, Nonmover, Same county, Different county same state, Different state in West, Abroad, Different state in Midwest, Different state in South, Different state in Northeast.\n",
    "* **live in this house 1 year ago**: Not in universe under 1 year old, Yes, No.\n",
    "* **migration prev res in sunbelt**: Not in universe, Yes, No.\n",
    "* **num persons worked for employer**: continuous.\n",
    "* **family members under 18**: Both parents present, Neither parent present, Mother only present, Father only present, Not in universe.\n",
    "* **country of birth father**: Mexico, United-States, Puerto-Rico, Dominican-Republic, Jamaica, Cuba, Portugal, Nicaragua, Peru, Ecuador, Guatemala, Philippines, Canada, Columbia, El-Salvador, Japan, England, Trinadad&Tobago, Honduras, Germany, Taiwan, Outlying-U S (Guam USVI etc), India, Vietnam, China, Hong Kong, Cambodia, France, Laos, Haiti, South Korea, Iran, Greece, Italy, Poland, Thailand, Yugoslavia, Holand-Netherlands, Ireland, Scotland, Hungary, Panama.\n",
    "* **country of birth mother**: India, Mexico, United-States, Puerto-Rico, Dominican-Republic, England, Honduras, Peru, Guatemala, Columbia, El-Salvador, Philippines, France, Ecuador, Nicaragua, Cuba, Outlying-U S (Guam USVI etc), Jamaica, South Korea, China, Germany, Yugoslavia, Canada, Vietnam, Japan, Cambodia, Ireland, Laos, Haiti, Portugal, Taiwan, Holand-Netherlands, Greece, Italy, Poland, Thailand, Trinadad&Tobago, Hungary, Panama, Hong Kong, Scotland, Iran.\n",
    "* **country of birth self**: United-States, Mexico, Puerto-Rico, Peru, Canada, South Korea, India, Japan, Haiti, El-Salvador, Dominican-Republic, Portugal, Columbia, England, Thailand, Cuba, Laos, Panama, China, Germany, Vietnam, Italy, Honduras, Outlying-U S (Guam USVI etc), Hungary, Philippines, Poland, Ecuador, Iran, Guatemala, Holand-Netherlands, Taiwan, Nicaragua, France, Jamaica, Scotland, Yugoslavia, Hong Kong, Trinadad&Tobago, Greece, Cambodia, Ireland.\n",
    "* **citizenship**: Native- Born in the United States, Foreign born- Not a citizen of U S , Native- Born in Puerto Rico or U S Outlying, Native- Born abroad of American Parent(s), Foreign born- U S citizen by naturalization.\n",
    "* **own business or self employed**: 0, 2, 1.\n",
    "* **fill inc questionnaire for veteran's admin**: Not in universe, Yes, No.\n",
    "* **veterans benefits**: 0, 2, 1.\n",
    "* **weeks worked in year**: continuous.\n",
    "* **year**: 94, 95.\n",
    "\n",
    "* **Income** : -50000 and 50000"
   ]
  },
  {
   "cell_type": "markdown",
   "metadata": {},
   "source": [
    "#### 5. Define the schema from the description above (4M)"
   ]
  },
  {
   "cell_type": "code",
   "execution_count": 7,
   "metadata": {},
   "outputs": [],
   "source": [
    "customSchema = StructType([\n",
    "        StructField(\"age\", IntegerType(), True),\n",
    "\t\tStructField(\"class_of_worker\", StringType(), True),\n",
    "\t\tStructField(\"detailed_industry_recode\", IntegerType(), True),\n",
    "\t\tStructField(\"detailed_occupation_recode\", IntegerType(), True),\n",
    "\t\tStructField(\"education\", StringType(), True),\n",
    "\t\tStructField(\"wage_per_hour\", IntegerType(), True),\n",
    "\t\tStructField(\"enroll_in_edu_inst_last_wk\", StringType(), True),\n",
    "\t\tStructField(\"marital_stat\", StringType(), True),\n",
    "\t\tStructField(\"major_industry_code\", StringType(), True),\n",
    "\t\tStructField(\"major_occupation_code\", StringType(), True),\n",
    "\t\tStructField(\"race\", StringType(), True),\n",
    "\t\tStructField(\"hispanic_origin\", StringType(), True),\n",
    "\t\tStructField(\"sex\", StringType(), True),\n",
    "\t\tStructField(\"member_of_a_labor_union\", StringType(), True),\n",
    "\t\tStructField(\"reason_for_unemployment\", StringType(), True),\n",
    "\t\tStructField(\"Full_or_part_time_employment_stat\", StringType(), True),\n",
    "\t\tStructField(\"capital_gains\", IntegerType(), True),\n",
    "\t\tStructField(\"capital_losses\", IntegerType(), True),\n",
    "\t\tStructField(\"dividends_from_stocks\", IntegerType(), True),\n",
    "\t\tStructField(\"tax_filer_stat\", StringType(), True),\n",
    "\t\tStructField(\"region_of_previous_residence\", StringType(), True),\n",
    "\t\tStructField(\"state_of_previous_residence\", StringType(), True),\n",
    "\t\tStructField(\"detailed_household_and_family_stat\", StringType(), True),\n",
    "\t\tStructField(\"detailed_household_summary_in_household\", StringType(), True),\n",
    "\t\tStructField(\"instance_weight\", FloatType(), True),\n",
    "\t\tStructField(\"migration_code-change_in_msa\", StringType(), True),\n",
    "\t\tStructField(\"migration_code-change_in_reg\", StringType(), True),\n",
    "\t\tStructField(\"migration_code-move_within_reg\", StringType(), True),\n",
    "\t\tStructField(\"live_in_this_house_1_year_ago\", StringType(), True),\n",
    "\t\tStructField(\"migration_prev_res_in_sunbelt\", StringType(), True),\n",
    "\t\tStructField(\"num_persons_worked_for_employer\", IntegerType(), True),\n",
    "\t\tStructField(\"family_members_under_18\", StringType(), True),\n",
    "\t\tStructField(\"country_of_birth_father\", StringType(), True),\n",
    "\t\tStructField(\"country_of_birth_mother\", StringType(), True),\n",
    "\t\tStructField(\"country_of_birth_self\", StringType(), True),\n",
    "\t\tStructField(\"citizenship\", StringType(), True),\n",
    "\t\tStructField(\"own_business_or_self_employed\", IntegerType(), True),\n",
    "\t\tStructField(\"fill_inc_questionnaire_for_veteran's_admin\", StringType(), True),\n",
    "\t\tStructField(\"veterans_benefits\", IntegerType(), True),\n",
    "\t\tStructField(\"weeks_worked_in_year\", IntegerType(), True),\n",
    "\t\tStructField(\"year\", IntegerType(), True),\n",
    "\t\tStructField(\"Income\",StringType(), True)])"
   ]
  },
  {
   "cell_type": "markdown",
   "metadata": {},
   "source": [
    "#### 6. Read the Data from the CSV File (3M)"
   ]
  },
  {
   "cell_type": "code",
   "execution_count": 8,
   "metadata": {},
   "outputs": [],
   "source": [
    "data = spark.read.csv(path='file:///home/2618B56/Cute_BD_part_B/trainData.csv',\n",
    "                      header=False,\n",
    "                      schema=customSchema)"
   ]
  },
  {
   "cell_type": "markdown",
   "metadata": {},
   "source": [
    "#### 7.  Read/View Four rows (2M)"
   ]
  },
  {
   "cell_type": "code",
   "execution_count": 9,
   "metadata": {
    "scrolled": true
   },
   "outputs": [
    {
     "name": "stdout",
     "output_type": "stream",
     "text": [
      "+---+--------------------+------------------------+--------------------------+--------------------+-------------+--------------------------+--------------------+--------------------+---------------------+-----+---------------+------+-----------------------+-----------------------+---------------------------------+-------------+--------------+---------------------+-------------------+----------------------------+---------------------------+----------------------------------+---------------------------------------+---------------+----------------------------+----------------------------+------------------------------+-----------------------------+-----------------------------+-------------------------------+-----------------------+-----------------------+-----------------------+---------------------+--------------------+-----------------------------+------------------------------------------+-----------------+--------------------+----+--------+\n",
      "|age|     class_of_worker|detailed_industry_recode|detailed_occupation_recode|           education|wage_per_hour|enroll_in_edu_inst_last_wk|        marital_stat| major_industry_code|major_occupation_code| race|hispanic_origin|   sex|member_of_a_labor_union|reason_for_unemployment|Full_or_part_time_employment_stat|capital_gains|capital_losses|dividends_from_stocks|     tax_filer_stat|region_of_previous_residence|state_of_previous_residence|detailed_household_and_family_stat|detailed_household_summary_in_household|instance_weight|migration_code-change_in_msa|migration_code-change_in_reg|migration_code-move_within_reg|live_in_this_house_1_year_ago|migration_prev_res_in_sunbelt|num_persons_worked_for_employer|family_members_under_18|country_of_birth_father|country_of_birth_mother|country_of_birth_self|         citizenship|own_business_or_self_employed|fill_inc_questionnaire_for_veteran's_admin|veterans_benefits|weeks_worked_in_year|year|  Income|\n",
      "+---+--------------------+------------------------+--------------------------+--------------------+-------------+--------------------------+--------------------+--------------------+---------------------+-----+---------------+------+-----------------------+-----------------------+---------------------------------+-------------+--------------+---------------------+-------------------+----------------------------+---------------------------+----------------------------------+---------------------------------------+---------------+----------------------------+----------------------------+------------------------------+-----------------------------+-----------------------------+-------------------------------+-----------------------+-----------------------+-----------------------+---------------------+--------------------+-----------------------------+------------------------------------------+-----------------+--------------------+----+--------+\n",
      "| 58|Self-employed-not...|                       4|                        34|Some college but ...|            0|           Not in universe|            Divorced|        Construction| Precision product...|White|      All other|  Male|        Not in universe|        Not in universe|             Children or Armed...|            0|             0|                    0|  Head of household|                       South|                   Arkansas|                       Householder|                            Householder|        1053.55|                  MSA to MSA|                 Same county|                   Same county|                           No|                          Yes|                              1|        Not in universe|          United-States|          United-States|        United-States|Native- Born in t...|                            0|                           Not in universe|                2|                  52|  94|- 50000.|\n",
      "| 42|             Private|                      34|                         3|Bachelors degree(...|            0|           Not in universe|Married-civilian ...|Finance insurance...| Executive admin a...|White|      All other|  Male|        Not in universe|        Not in universe|             Children or Armed...|         5178|             0|                    0|Joint both under 65|             Not in universe|            Not in universe|                       Householder|                            Householder|        1535.86|                    Nonmover|                    Nonmover|                      Nonmover|                          Yes|              Not in universe|                              6|        Not in universe|          United-States|          United-States|        United-States|Native- Born in t...|                            0|                           Not in universe|                2|                  52|  94|- 50000.|\n",
      "| 34|             Private|                       4|                        37|Some college but ...|            0|           Not in universe|Married-civilian ...|        Construction| Machine operators...|White|      All other|  Male|        Not in universe|        Not in universe|             Children or Armed...|            0|             0|                    0|Joint both under 65|             Not in universe|            Not in universe|                       Householder|                            Householder|        1146.79|                    Nonmover|                    Nonmover|                      Nonmover|                          Yes|              Not in universe|                              6|        Not in universe|          United-States|          United-States|        United-States|Native- Born in t...|                            0|                           Not in universe|                2|                  52|  94|- 50000.|\n",
      "| 26|             Private|                      24|                        12|Bachelors degree(...|            0|           Not in universe|       Never married|Manufacturing-non...| Professional spec...|White|      All other|Female|        Not in universe|        Not in universe|              Full-time schedules|            0|             0|                    0|             Single|             Not in universe|            Not in universe|              Nonfamily househo...|                            Householder|        2604.91|                        null|                        null|                          null|         Not in universe u...|                         null|                              6|        Not in universe|          United-States|          United-States|        United-States|Native- Born in t...|                            0|                           Not in universe|                2|                  52|  95|- 50000.|\n",
      "+---+--------------------+------------------------+--------------------------+--------------------+-------------+--------------------------+--------------------+--------------------+---------------------+-----+---------------+------+-----------------------+-----------------------+---------------------------------+-------------+--------------+---------------------+-------------------+----------------------------+---------------------------+----------------------------------+---------------------------------------+---------------+----------------------------+----------------------------+------------------------------+-----------------------------+-----------------------------+-------------------------------+-----------------------+-----------------------+-----------------------+---------------------+--------------------+-----------------------------+------------------------------------------+-----------------+--------------------+----+--------+\n",
      "only showing top 4 rows\n",
      "\n"
     ]
    }
   ],
   "source": [
    "data.show(4)"
   ]
  },
  {
   "cell_type": "markdown",
   "metadata": {},
   "source": [
    "#### 8. Inspect the data types of the Columns (2M)"
   ]
  },
  {
   "cell_type": "code",
   "execution_count": 10,
   "metadata": {
    "scrolled": true
   },
   "outputs": [
    {
     "name": "stdout",
     "output_type": "stream",
     "text": [
      "root\n",
      " |-- age: integer (nullable = true)\n",
      " |-- class_of_worker: string (nullable = true)\n",
      " |-- detailed_industry_recode: integer (nullable = true)\n",
      " |-- detailed_occupation_recode: integer (nullable = true)\n",
      " |-- education: string (nullable = true)\n",
      " |-- wage_per_hour: integer (nullable = true)\n",
      " |-- enroll_in_edu_inst_last_wk: string (nullable = true)\n",
      " |-- marital_stat: string (nullable = true)\n",
      " |-- major_industry_code: string (nullable = true)\n",
      " |-- major_occupation_code: string (nullable = true)\n",
      " |-- race: string (nullable = true)\n",
      " |-- hispanic_origin: string (nullable = true)\n",
      " |-- sex: string (nullable = true)\n",
      " |-- member_of_a_labor_union: string (nullable = true)\n",
      " |-- reason_for_unemployment: string (nullable = true)\n",
      " |-- Full_or_part_time_employment_stat: string (nullable = true)\n",
      " |-- capital_gains: integer (nullable = true)\n",
      " |-- capital_losses: integer (nullable = true)\n",
      " |-- dividends_from_stocks: integer (nullable = true)\n",
      " |-- tax_filer_stat: string (nullable = true)\n",
      " |-- region_of_previous_residence: string (nullable = true)\n",
      " |-- state_of_previous_residence: string (nullable = true)\n",
      " |-- detailed_household_and_family_stat: string (nullable = true)\n",
      " |-- detailed_household_summary_in_household: string (nullable = true)\n",
      " |-- instance_weight: float (nullable = true)\n",
      " |-- migration_code-change_in_msa: string (nullable = true)\n",
      " |-- migration_code-change_in_reg: string (nullable = true)\n",
      " |-- migration_code-move_within_reg: string (nullable = true)\n",
      " |-- live_in_this_house_1_year_ago: string (nullable = true)\n",
      " |-- migration_prev_res_in_sunbelt: string (nullable = true)\n",
      " |-- num_persons_worked_for_employer: integer (nullable = true)\n",
      " |-- family_members_under_18: string (nullable = true)\n",
      " |-- country_of_birth_father: string (nullable = true)\n",
      " |-- country_of_birth_mother: string (nullable = true)\n",
      " |-- country_of_birth_self: string (nullable = true)\n",
      " |-- citizenship: string (nullable = true)\n",
      " |-- own_business_or_self_employed: integer (nullable = true)\n",
      " |-- fill_inc_questionnaire_for_veteran's_admin: string (nullable = true)\n",
      " |-- veterans_benefits: integer (nullable = true)\n",
      " |-- weeks_worked_in_year: integer (nullable = true)\n",
      " |-- year: integer (nullable = true)\n",
      " |-- Income: string (nullable = true)\n",
      "\n"
     ]
    }
   ],
   "source": [
    "data.printSchema()"
   ]
  },
  {
   "cell_type": "markdown",
   "metadata": {},
   "source": [
    "#### 9. Find the Total rows and Columns in the Dataset(2M)"
   ]
  },
  {
   "cell_type": "code",
   "execution_count": 11,
   "metadata": {},
   "outputs": [
    {
     "name": "stdout",
     "output_type": "stream",
     "text": [
      "No. of Columns = 42\n",
      "No. of Records = 99579\n"
     ]
    }
   ],
   "source": [
    "print(\"No. of Columns = {}\".format(len(data.columns)))\n",
    "print('No. of Records = {}'.format(data.count()))"
   ]
  },
  {
   "cell_type": "markdown",
   "metadata": {},
   "source": [
    "#### 10. Find the summary Statistics for the numerical attributes (2M)"
   ]
  },
  {
   "cell_type": "code",
   "execution_count": 12,
   "metadata": {},
   "outputs": [],
   "source": [
    "numeric_col = [item[0] for item in data.dtypes if (item[1].startswith('int') | item[1].startswith('float'))]\n",
    "string_col = [item[0] for item in data.dtypes if (item[1].startswith('string'))]"
   ]
  },
  {
   "cell_type": "code",
   "execution_count": 13,
   "metadata": {
    "scrolled": true
   },
   "outputs": [
    {
     "name": "stdout",
     "output_type": "stream",
     "text": [
      "+-------+------------------+------------------------+--------------------------+-----------------+------------------+------------------+---------------------+------------------+-------------------------------+-----------------------------+------------------+--------------------+------------------+\n",
      "|summary|               age|detailed_industry_recode|detailed_occupation_recode|    wage_per_hour|     capital_gains|    capital_losses|dividends_from_stocks|   instance_weight|num_persons_worked_for_employer|own_business_or_self_employed| veterans_benefits|weeks_worked_in_year|              year|\n",
      "+-------+------------------+------------------------+--------------------------+-----------------+------------------+------------------+---------------------+------------------+-------------------------------+-----------------------------+------------------+--------------------+------------------+\n",
      "|  count|             99579|                   99579|                     99579|            99579|             99579|             99579|                99579|             99579|                          99579|                        99579|             99579|               99579|             99579|\n",
      "|   mean| 34.56644473232308|      15.372909950893261|        11.260958635856959|55.66638548288294|443.29279265708635|37.530402996615756|    197.0633065204511|1743.0972727718101|             1.9630444169955512|          0.17788891232087087|1.5171873587804658|   23.20532441579048| 94.49941252673757|\n",
      "| stddev|22.332816121498283|       18.07790264936059|        14.419862069735315|274.8698275934865| 4758.023857997538| 272.5512452587624|   2017.0590464087118| 995.1220592666026|             2.3666126944155605|           0.5572965127764442|0.8500958628964568|  24.404795969846994|0.5000021654617202|\n",
      "|    min|                 0|                       0|                         0|                0|                 0|                 0|                    0|             37.87|                              0|                            0|                 0|                   0|                94|\n",
      "|    25%|                15|                       0|                         0|                0|                 0|                 0|                    0|           1063.37|                              0|                            0|                 2|                   0|                94|\n",
      "|    50%|                33|                       0|                         0|                0|                 0|                 0|                    0|            1619.8|                              1|                            0|                 2|                   8|                94|\n",
      "|    75%|                50|                      33|                        26|                0|                 0|                 0|                    0|           2192.81|                              4|                            0|                 2|                  52|                95|\n",
      "|    max|                90|                      51|                        46|             9800|             99999|              4608|                99999|           13911.5|                              6|                            2|                 2|                  52|                95|\n",
      "+-------+------------------+------------------------+--------------------------+-----------------+------------------+------------------+---------------------+------------------+-------------------------------+-----------------------------+------------------+--------------------+------------------+\n",
      "\n"
     ]
    }
   ],
   "source": [
    "data.select(numeric_col).summary().show()"
   ]
  },
  {
   "cell_type": "markdown",
   "metadata": {},
   "source": [
    "#### 11. Find the missing Values in each Column (2M)"
   ]
  },
  {
   "cell_type": "code",
   "execution_count": 14,
   "metadata": {
    "scrolled": true
   },
   "outputs": [
    {
     "name": "stdout",
     "output_type": "stream",
     "text": [
      "+--------------------+-----------------------+\n",
      "|          attributes|count_of_missing_values|\n",
      "+--------------------+-----------------------+\n",
      "|migration_code-ch...|                  49731|\n",
      "|migration_code-ch...|                  49731|\n",
      "|migration_code-mo...|                  49731|\n",
      "|migration_prev_re...|                  49731|\n",
      "|country_of_birth_...|                   3272|\n",
      "|country_of_birth_...|                   2961|\n",
      "|country_of_birth_...|                   1603|\n",
      "|state_of_previous...|                    356|\n",
      "|         citizenship|                      0|\n",
      "|own_business_or_s...|                      0|\n",
      "|     class_of_worker|                      0|\n",
      "|family_members_un...|                      0|\n",
      "|num_persons_worke...|                      0|\n",
      "|fill_inc_question...|                      0|\n",
      "|live_in_this_hous...|                      0|\n",
      "|   veterans_benefits|                      0|\n",
      "|weeks_worked_in_year|                      0|\n",
      "|                year|                      0|\n",
      "|     instance_weight|                      0|\n",
      "|detailed_househol...|                      0|\n",
      "+--------------------+-----------------------+\n",
      "only showing top 20 rows\n",
      "\n"
     ]
    }
   ],
   "source": [
    "null_analysis_df = data.select([count(when(isnan(c) | col(c).isNull(), c)).alias(c) for c in data.columns])\n",
    "null_analysis_df_pd = null_analysis_df.toPandas().transpose().reset_index().rename(columns={\"index\": \"attributes\", 0: \"count_of_missing_values\"}).sort_values(by=['count_of_missing_values'], ascending=False)\n",
    "null_analysis_df_1 = spark.createDataFrame(null_analysis_df_pd)\n",
    "null_analysis_df_1.show()\n"
   ]
  },
  {
   "cell_type": "markdown",
   "metadata": {},
   "source": [
    "#### 12. Drop the Columns that have missing values more than 20% (3M)"
   ]
  },
  {
   "cell_type": "code",
   "execution_count": 15,
   "metadata": {},
   "outputs": [
    {
     "name": "stdout",
     "output_type": "stream",
     "text": [
      "+--------------------+-----------------------+----------------------------+\n",
      "|          attributes|count_of_missing_values|perc_count_of_missing_values|\n",
      "+--------------------+-----------------------+----------------------------+\n",
      "|migration_code-ch...|                  49731|          49.941252673756516|\n",
      "|migration_code-ch...|                  49731|          49.941252673756516|\n",
      "|migration_code-mo...|                  49731|          49.941252673756516|\n",
      "|migration_prev_re...|                  49731|          49.941252673756516|\n",
      "|country_of_birth_...|                   3272|          3.2858333584390285|\n",
      "|country_of_birth_...|                   2961|          2.9735185129394752|\n",
      "|country_of_birth_...|                   1603|          1.6097771618513945|\n",
      "|state_of_previous...|                    356|          0.3575050964560801|\n",
      "|         citizenship|                      0|                         0.0|\n",
      "|own_business_or_s...|                      0|                         0.0|\n",
      "|     class_of_worker|                      0|                         0.0|\n",
      "|family_members_un...|                      0|                         0.0|\n",
      "|num_persons_worke...|                      0|                         0.0|\n",
      "|fill_inc_question...|                      0|                         0.0|\n",
      "|live_in_this_hous...|                      0|                         0.0|\n",
      "|   veterans_benefits|                      0|                         0.0|\n",
      "|weeks_worked_in_year|                      0|                         0.0|\n",
      "|                year|                      0|                         0.0|\n",
      "|     instance_weight|                      0|                         0.0|\n",
      "|detailed_househol...|                      0|                         0.0|\n",
      "+--------------------+-----------------------+----------------------------+\n",
      "only showing top 20 rows\n",
      "\n"
     ]
    }
   ],
   "source": [
    "total_rows = data.count()\n",
    "null_analysis_df_2 = null_analysis_df_1.withColumn(\"perc_count_of_missing_values\", (col('count_of_missing_values')/total_rows)*100)\n",
    "null_analysis_df_2.show()\n"
   ]
  },
  {
   "cell_type": "code",
   "execution_count": 16,
   "metadata": {
    "scrolled": true
   },
   "outputs": [
    {
     "name": "stdout",
     "output_type": "stream",
     "text": [
      "+--------------------+-----------------------+----------------------------+\n",
      "|          attributes|count_of_missing_values|perc_count_of_missing_values|\n",
      "+--------------------+-----------------------+----------------------------+\n",
      "|country_of_birth_...|                   3272|          3.2858333584390285|\n",
      "|country_of_birth_...|                   2961|          2.9735185129394752|\n",
      "|country_of_birth_...|                   1603|          1.6097771618513945|\n",
      "|state_of_previous...|                    356|          0.3575050964560801|\n",
      "|         citizenship|                      0|                         0.0|\n",
      "|own_business_or_s...|                      0|                         0.0|\n",
      "|     class_of_worker|                      0|                         0.0|\n",
      "|family_members_un...|                      0|                         0.0|\n",
      "|num_persons_worke...|                      0|                         0.0|\n",
      "|fill_inc_question...|                      0|                         0.0|\n",
      "|live_in_this_hous...|                      0|                         0.0|\n",
      "|   veterans_benefits|                      0|                         0.0|\n",
      "|weeks_worked_in_year|                      0|                         0.0|\n",
      "|                year|                      0|                         0.0|\n",
      "|     instance_weight|                      0|                         0.0|\n",
      "|detailed_househol...|                      0|                         0.0|\n",
      "|detailed_househol...|                      0|                         0.0|\n",
      "|                 age|                      0|                         0.0|\n",
      "|region_of_previou...|                      0|                         0.0|\n",
      "|      tax_filer_stat|                      0|                         0.0|\n",
      "+--------------------+-----------------------+----------------------------+\n",
      "only showing top 20 rows\n",
      "\n"
     ]
    }
   ],
   "source": [
    "col_with_missing_values_less_than_20_perc= null_analysis_df_2.filter(col('perc_count_of_missing_values')<=20)\n",
    "col_with_missing_values_less_than_20_perc.show()"
   ]
  },
  {
   "cell_type": "code",
   "execution_count": 17,
   "metadata": {
    "scrolled": true
   },
   "outputs": [],
   "source": [
    "#Get column names\n",
    "col_with_missing_values_less_than_20_perc = col_with_missing_values_less_than_20_perc.select('attributes')\n",
    "col_with_missing_values_less_than_20_perc_list = col_with_missing_values_less_than_20_perc.rdd.flatMap(lambda x: x).collect()\n"
   ]
  },
  {
   "cell_type": "code",
   "execution_count": 18,
   "metadata": {},
   "outputs": [
    {
     "name": "stdout",
     "output_type": "stream",
     "text": [
      "+-----------------------+-----------------------+---------------------+---------------------------+--------------------+-----------------------------+--------------------+-----------------------+-------------------------------+------------------------------------------+-----------------------------+-----------------+--------------------+----+---------------------------------------+----------------------------------+---+----------------------------+-------------------+------------------------+--------------------------+--------------------+-------------+--------------------------+--------------------+--------------------+---------------------+-----+------------------+------+-----------------------+-----------------------+---------------------------------+-------------+--------------+---------------------+--------+\n",
      "|country_of_birth_father|country_of_birth_mother|country_of_birth_self|state_of_previous_residence|         citizenship|own_business_or_self_employed|     class_of_worker|family_members_under_18|num_persons_worked_for_employer|fill_inc_questionnaire_for_veteran's_admin|live_in_this_house_1_year_ago|veterans_benefits|weeks_worked_in_year|year|detailed_household_summary_in_household|detailed_household_and_family_stat|age|region_of_previous_residence|     tax_filer_stat|detailed_industry_recode|detailed_occupation_recode|           education|wage_per_hour|enroll_in_edu_inst_last_wk|        marital_stat| major_industry_code|major_occupation_code| race|   hispanic_origin|   sex|member_of_a_labor_union|reason_for_unemployment|Full_or_part_time_employment_stat|capital_gains|capital_losses|dividends_from_stocks|  Income|\n",
      "+-----------------------+-----------------------+---------------------+---------------------------+--------------------+-----------------------------+--------------------+-----------------------+-------------------------------+------------------------------------------+-----------------------------+-----------------+--------------------+----+---------------------------------------+----------------------------------+---+----------------------------+-------------------+------------------------+--------------------------+--------------------+-------------+--------------------------+--------------------+--------------------+---------------------+-----+------------------+------+-----------------------+-----------------------+---------------------------------+-------------+--------------+---------------------+--------+\n",
      "|          United-States|          United-States|        United-States|                   Arkansas|Native- Born in t...|                            0|Self-employed-not...|        Not in universe|                              1|                           Not in universe|                           No|                2|                  52|  94|                            Householder|                       Householder| 58|                       South|  Head of household|                       4|                        34|Some college but ...|            0|           Not in universe|            Divorced|        Construction| Precision product...|White|         All other|  Male|        Not in universe|        Not in universe|             Children or Armed...|            0|             0|                    0|- 50000.|\n",
      "|          United-States|          United-States|        United-States|            Not in universe|Native- Born in t...|                            0|             Private|        Not in universe|                              6|                           Not in universe|                          Yes|                2|                  52|  94|                            Householder|                       Householder| 42|             Not in universe|Joint both under 65|                      34|                         3|Bachelors degree(...|            0|           Not in universe|Married-civilian ...|Finance insurance...| Executive admin a...|White|         All other|  Male|        Not in universe|        Not in universe|             Children or Armed...|         5178|             0|                    0|- 50000.|\n",
      "|          United-States|          United-States|        United-States|            Not in universe|Native- Born in t...|                            0|             Private|        Not in universe|                              6|                           Not in universe|                          Yes|                2|                  52|  94|                            Householder|                       Householder| 34|             Not in universe|Joint both under 65|                       4|                        37|Some college but ...|            0|           Not in universe|Married-civilian ...|        Construction| Machine operators...|White|         All other|  Male|        Not in universe|        Not in universe|             Children or Armed...|            0|             0|                    0|- 50000.|\n",
      "|          United-States|          United-States|        United-States|            Not in universe|Native- Born in t...|                            0|             Private|        Not in universe|                              6|                           Not in universe|         Not in universe u...|                2|                  52|  95|                            Householder|              Nonfamily househo...| 26|             Not in universe|             Single|                      24|                        12|Bachelors degree(...|            0|           Not in universe|       Never married|Manufacturing-non...| Professional spec...|White|         All other|Female|        Not in universe|        Not in universe|              Full-time schedules|            0|             0|                    0|- 50000.|\n",
      "|                Germany|          United-States|        United-States|            Not in universe|Native- Born in t...|                            0|             Private|        Not in universe|                              6|                           Not in universe|         Not in universe u...|                2|                  52|  95|                            Householder|              Nonfamily househo...| 47|             Not in universe|             Single|                      39|                        36|Bachelors degree(...|            0|           Not in universe|       Never married|Personal services...| Machine operators...|White|         All other|Female|        Not in universe|        Not in universe|              Full-time schedules|            0|             0|                    0|- 50000.|\n",
      "|                 Mexico|                 Mexico|               Mexico|            Not in universe|Foreign born- Not...|                            0|     Not in universe|        Not in universe|                              0|                           Not in universe|                          Yes|                2|                   0|  94|                   Spouse of househo...|              Spouse of househo...| 39|             Not in universe|Joint both under 65|                       0|                         0|          10th grade|            0|           Not in universe|Married-civilian ...|Not in universe o...|      Not in universe|White|Mexican (Mexicano)|Female|        Not in universe|        Not in universe|             Children or Armed...|            0|             0|                    0|- 50000.|\n",
      "|          United-States|            El-Salvador|        United-States|            Not in universe|Native- Born in t...|                            0|     Not in universe|   Both parents present|                              0|                           Not in universe|         Not in universe u...|                2|                   0|  95|                   Child under 18 ne...|              Child <18 never m...| 16|             Not in universe|           Nonfiler|                       0|                         0|          10th grade|            0|               High school|       Never married|Not in universe o...|      Not in universe|White|  Mexican-American|Female|        Not in universe|        Not in universe|               Not in labor force|            0|             0|                    0|- 50000.|\n",
      "|          United-States|          United-States|        United-States|                       Utah|Native- Born in t...|                            0|     Not in universe|   Both parents present|                              0|                           Not in universe|                           No|                0|                   0|  94|                   Child under 18 ne...|              Child <18 never m...| 12|                       South|           Nonfiler|                       0|                         0|            Children|            0|           Not in universe|       Never married|Not in universe o...|      Not in universe|Other|  Mexican-American|  Male|        Not in universe|        Not in universe|             Children or Armed...|            0|             0|                    0|- 50000.|\n",
      "|          United-States|          United-States|        United-States|            Not in universe|Native- Born in t...|                            2|             Private|        Not in universe|                              2|                           Not in universe|         Not in universe u...|                2|                  32|  95|                   Spouse of househo...|              Spouse of househo...| 56|             Not in universe|Joint both under 65|                      35|                        22|Some college but ...|          500|           Not in universe|Married-civilian ...|Finance insurance...| Adm support inclu...|White|         All other|Female|                     No|        Not in universe|              Full-time schedules|            0|             0|                    0|- 50000.|\n",
      "|          United-States|          United-States|        United-States|            Not in universe|Native- Born in t...|                            0|             Private|        Not in universe|                              1|                           Not in universe|                          Yes|                2|                  52|  94|                            Householder|                       Householder| 46|             Not in universe|Joint both under 65|                      45|                        12|Masters degree(MA...|            0|           Not in universe|Married-civilian ...|Other professiona...| Professional spec...|White|         All other|  Male|        Not in universe|        Not in universe|             Children or Armed...|            0|          1977|                  100|- 50000.|\n",
      "|          United-States|          United-States|        United-States|            Not in universe|Native- Born in t...|                            0|             Private|        Not in universe|                              3|                           Not in universe|         Not in universe u...|                2|                  52|  95|                   Spouse of househo...|              Spouse of househo...| 37|             Not in universe|Joint both under 65|                       3|                        34|Some college but ...|            0|           Not in universe|Married-civilian ...|              Mining| Precision product...|White|         All other|  Male|        Not in universe|        Not in universe|              Full-time schedules|            0|             0|                    0|- 50000.|\n",
      "|          United-States|          United-States|        United-States|            Not in universe|Native- Born in t...|                            0|     Not in universe|   Both parents present|                              0|                           Not in universe|         Not in universe u...|                0|                   0|  95|                   Child under 18 ne...|              Child <18 never m...|  4|             Not in universe|           Nonfiler|                       0|                         0|            Children|            0|           Not in universe|       Never married|Not in universe o...|      Not in universe|White|         All other|Female|        Not in universe|        Not in universe|             Children or Armed...|            0|             0|                    0|- 50000.|\n",
      "|          United-States|          United-States|        United-States|            Not in universe|Native- Born in t...|                            0|Self-employed-not...|        Not in universe|                              1|                           Not in universe|                          Yes|                2|                  52|  94|                            Householder|                       Householder| 46|             Not in universe|Joint both under 65|                       4|                        34|Some college but ...|            0|           Not in universe|Married-civilian ...|        Construction| Precision product...|White|         All other|  Male|        Not in universe|        Not in universe|             Children or Armed...|            0|             0|                    0|- 50000.|\n",
      "|                   null|          United-States|        United-States|            Not in universe|Native- Born in t...|                            0|     Not in universe|        Not in universe|                              0|                           Not in universe|                          Yes|                2|                   0|  94|                            Householder|              Nonfamily househo...| 81|             Not in universe|             Single|                       0|                         0|Bachelors degree(...|            0|           Not in universe|             Widowed|Not in universe o...|      Not in universe|White|         All other|Female|        Not in universe|        Not in universe|             Children or Armed...|          991|             0|                    0|- 50000.|\n",
      "|          United-States|          United-States|        United-States|            Not in universe|Native- Born in t...|                            0|             Private|        Not in universe|                              6|                           Not in universe|                          Yes|                2|                  52|  94|                            Householder|                       Householder| 39|             Not in universe|Joint both under 65|                      34|                         2|Bachelors degree(...|            0|           Not in universe|Married-civilian ...|Finance insurance...| Executive admin a...|White|         All other|  Male|        Not in universe|        Not in universe|             Children or Armed...|            0|             0|                 1000|- 50000.|\n",
      "|                 Mexico|                 Mexico|        United-States|            Not in universe|Native- Born in t...|                            0|     Not in universe|    Mother only present|                              0|                           Not in universe|                          Yes|                0|                   0|  94|                   Child under 18 ne...|              Child <18 never m...| 11|             Not in universe|           Nonfiler|                       0|                         0|            Children|            0|           Not in universe|       Never married|Not in universe o...|      Not in universe|White|  Mexican-American|Female|        Not in universe|        Not in universe|             Children or Armed...|            0|             0|                    0|- 50000.|\n",
      "|     Dominican-Republic|            Puerto-Rico|        United-States|            Not in universe|Native- Born in t...|                            0|     Not in universe|   Both parents present|                              0|                           Not in universe|                          Yes|                0|                   0|  94|                   Child under 18 ne...|              Child <18 never m...|  7|             Not in universe|           Nonfiler|                       0|                         0|            Children|            0|           Not in universe|       Never married|Not in universe o...|      Not in universe|White|     Other Spanish|  Male|        Not in universe|        Not in universe|             Children or Armed...|            0|             0|                    0|- 50000.|\n",
      "|                 Mexico|                 Mexico|               Mexico|            Not in universe|Foreign born- Not...|                            0|     Not in universe|        Not in universe|                              0|                           Not in universe|                          Yes|                2|                   0|  94|                   Spouse of househo...|              Spouse of househo...| 26|             Not in universe|Joint both under 65|                       0|                         0|High school graduate|            0|           Not in universe|Married-civilian ...|Not in universe o...|      Not in universe|White|  Mexican-American|Female|        Not in universe|        Not in universe|             Children or Armed...|            0|             0|                    0|- 50000.|\n",
      "|          United-States|          United-States|        United-States|            Not in universe|Native- Born in t...|                            0|     Not in universe|        Not in universe|                              0|                           Not in universe|                          Yes|                2|                   0|  94|                   Spouse of househo...|              Spouse of househo...| 52|             Not in universe|Joint both under 65|                       0|                         0|High school graduate|            0|           Not in universe|Married-civilian ...|Not in universe o...|      Not in universe|White|         All other|Female|        Not in universe|        Not in universe|             Children or Armed...|            0|             0|                    0|- 50000.|\n",
      "|          United-States|          United-States|        United-States|                     Alaska|Native- Born in t...|                            0|     Not in universe|    Mother only present|                              0|                           Not in universe|                           No|                0|                   0|  94|                   Child under 18 ne...|              Child <18 never m...|  5|                        West|           Nonfiler|                       0|                         0|            Children|            0|           Not in universe|       Never married|Not in universe o...|      Not in universe|White|         All other|Female|        Not in universe|        Not in universe|             Children or Armed...|            0|             0|                    0|- 50000.|\n",
      "+-----------------------+-----------------------+---------------------+---------------------------+--------------------+-----------------------------+--------------------+-----------------------+-------------------------------+------------------------------------------+-----------------------------+-----------------+--------------------+----+---------------------------------------+----------------------------------+---+----------------------------+-------------------+------------------------+--------------------------+--------------------+-------------+--------------------------+--------------------+--------------------+---------------------+-----+------------------+------+-----------------------+-----------------------+---------------------------------+-------------+--------------+---------------------+--------+\n",
      "only showing top 20 rows\n",
      "\n"
     ]
    }
   ],
   "source": [
    "#Latest df\n",
    "data_1 = data[col_with_missing_values_less_than_20_perc_list].drop('instance_weight')\n",
    "data_1.show()"
   ]
  },
  {
   "cell_type": "markdown",
   "metadata": {},
   "source": [
    "#### 13. Drop the rows with NA values and work on the remaining dataset(2M)"
   ]
  },
  {
   "cell_type": "code",
   "execution_count": 19,
   "metadata": {},
   "outputs": [
    {
     "name": "stdout",
     "output_type": "stream",
     "text": [
      "count of rows, before removing rows with null : 99579\n",
      "count of rows, after removing rows with null : 95193\n"
     ]
    }
   ],
   "source": [
    "print(\"count of rows, before removing rows with null : {}\".format(data_1.count()))\n",
    "data_no_missing_val = data_1.na.drop()\n",
    "print(\"count of rows, after removing rows with null : {}\".format(data_no_missing_val.count()))\n"
   ]
  },
  {
   "cell_type": "markdown",
   "metadata": {},
   "source": [
    "#### 14. The distribution of income class on education(2M)"
   ]
  },
  {
   "cell_type": "code",
   "execution_count": 20,
   "metadata": {
    "scrolled": true
   },
   "outputs": [
    {
     "name": "stdout",
     "output_type": "stream",
     "text": [
      "+--------------------+--------+--------------------------------------+\n",
      "|           education|  Income|num_units_with_specific_edu_and_income|\n",
      "+--------------------+--------+--------------------------------------+\n",
      "|          10th grade|- 50000.|                                  3554|\n",
      "|          10th grade| 50000+.|                                    33|\n",
      "|          11th grade|- 50000.|                                  3299|\n",
      "|          11th grade| 50000+.|                                    28|\n",
      "|12th grade no dip...|- 50000.|                                   961|\n",
      "|12th grade no dip...| 50000+.|                                    16|\n",
      "|1st 2nd 3rd or 4t...|- 50000.|                                   864|\n",
      "|1st 2nd 3rd or 4t...| 50000+.|                                     5|\n",
      "|    5th or 6th grade|- 50000.|                                  1528|\n",
      "|    5th or 6th grade| 50000+.|                                     9|\n",
      "|   7th and 8th grade|- 50000.|                                  3710|\n",
      "|   7th and 8th grade| 50000+.|                                    36|\n",
      "|           9th grade|- 50000.|                                  2997|\n",
      "|           9th grade| 50000+.|                                    17|\n",
      "|Associates degree...|- 50000.|                                  1887|\n",
      "|Associates degree...| 50000+.|                                   211|\n",
      "|Associates degree...|- 50000.|                                  2379|\n",
      "|Associates degree...| 50000+.|                                   205|\n",
      "|Bachelors degree(...|- 50000.|                                  7440|\n",
      "|Bachelors degree(...| 50000+.|                                  1849|\n",
      "|            Children|- 50000.|                                 22831|\n",
      "|Doctorate degree(...|- 50000.|                                   252|\n",
      "|Doctorate degree(...| 50000+.|                                   285|\n",
      "|High school graduate|- 50000.|                                 22264|\n",
      "|High school graduate| 50000+.|                                   874|\n",
      "| Less than 1st grade|- 50000.|                                   374|\n",
      "|Masters degree(MA...|- 50000.|                                  2110|\n",
      "|Masters degree(MA...| 50000+.|                                   993|\n",
      "|Prof school degre...|- 50000.|                                   384|\n",
      "|Prof school degre...| 50000+.|                                   411|\n",
      "|Some college but ...|- 50000.|                                 12573|\n",
      "|Some college but ...| 50000+.|                                   814|\n",
      "+--------------------+--------+--------------------------------------+\n",
      "\n"
     ]
    }
   ],
   "source": [
    "data_no_missing_val_dist = data_no_missing_val.groupby('education','Income').count().sort(col(\"education\"),col(\"Income\")).withColumnRenamed(\n",
    "    'count','num_units_with_specific_edu_and_income')\n",
    "data_no_missing_val_dist.show(100)\n"
   ]
  },
  {
   "cell_type": "code",
   "execution_count": null,
   "metadata": {},
   "outputs": [],
   "source": []
  },
  {
   "cell_type": "markdown",
   "metadata": {},
   "source": [
    "#### 15. Find the Correlation between  Columns : \"weeks worked in year\" and \"no. of persons worked for employer\" (2M)"
   ]
  },
  {
   "cell_type": "code",
   "execution_count": 21,
   "metadata": {},
   "outputs": [
    {
     "data": {
      "text/plain": [
       "0.7495145872631152"
      ]
     },
     "execution_count": 21,
     "metadata": {},
     "output_type": "execute_result"
    }
   ],
   "source": [
    "data_no_missing_val.stat.corr(\"weeks_worked_in_year\", \"num_persons_worked_for_employer\")"
   ]
  },
  {
   "cell_type": "markdown",
   "metadata": {},
   "source": [
    "#### 16. Define the schema dict from data type of the Data Frame (2M)"
   ]
  },
  {
   "cell_type": "code",
   "execution_count": 22,
   "metadata": {
    "scrolled": true
   },
   "outputs": [
    {
     "data": {
      "text/plain": [
       "{'Full_or_part_time_employment_stat': 'string',\n",
       " 'Income': 'string',\n",
       " 'age': 'int',\n",
       " 'capital_gains': 'int',\n",
       " 'capital_losses': 'int',\n",
       " 'citizenship': 'string',\n",
       " 'class_of_worker': 'string',\n",
       " 'country_of_birth_father': 'string',\n",
       " 'country_of_birth_mother': 'string',\n",
       " 'country_of_birth_self': 'string',\n",
       " 'detailed_household_and_family_stat': 'string',\n",
       " 'detailed_household_summary_in_household': 'string',\n",
       " 'detailed_industry_recode': 'int',\n",
       " 'detailed_occupation_recode': 'int',\n",
       " 'dividends_from_stocks': 'int',\n",
       " 'education': 'string',\n",
       " 'enroll_in_edu_inst_last_wk': 'string',\n",
       " 'family_members_under_18': 'string',\n",
       " \"fill_inc_questionnaire_for_veteran's_admin\": 'string',\n",
       " 'hispanic_origin': 'string',\n",
       " 'live_in_this_house_1_year_ago': 'string',\n",
       " 'major_industry_code': 'string',\n",
       " 'major_occupation_code': 'string',\n",
       " 'marital_stat': 'string',\n",
       " 'member_of_a_labor_union': 'string',\n",
       " 'num_persons_worked_for_employer': 'int',\n",
       " 'own_business_or_self_employed': 'int',\n",
       " 'race': 'string',\n",
       " 'reason_for_unemployment': 'string',\n",
       " 'region_of_previous_residence': 'string',\n",
       " 'sex': 'string',\n",
       " 'state_of_previous_residence': 'string',\n",
       " 'tax_filer_stat': 'string',\n",
       " 'veterans_benefits': 'int',\n",
       " 'wage_per_hour': 'int',\n",
       " 'weeks_worked_in_year': 'int',\n",
       " 'year': 'int'}"
      ]
     },
     "execution_count": 22,
     "metadata": {},
     "output_type": "execute_result"
    }
   ],
   "source": [
    "dict(data_no_missing_val.dtypes)"
   ]
  },
  {
   "cell_type": "markdown",
   "metadata": {},
   "source": [
    "#### 17. Write code to Seperate the columns in Categorical and Numerical attributes (Not Manual)(2M)"
   ]
  },
  {
   "cell_type": "code",
   "execution_count": 23,
   "metadata": {},
   "outputs": [
    {
     "name": "stdout",
     "output_type": "stream",
     "text": [
      "numeric_col are : ['own_business_or_self_employed', 'num_persons_worked_for_employer', 'veterans_benefits', 'weeks_worked_in_year', 'year', 'age', 'detailed_industry_recode', 'detailed_occupation_recode', 'wage_per_hour', 'capital_gains', 'capital_losses', 'dividends_from_stocks']\n",
      "\n",
      "\n",
      "string_col are : ['country_of_birth_father', 'country_of_birth_mother', 'country_of_birth_self', 'state_of_previous_residence', 'citizenship', 'class_of_worker', 'family_members_under_18', \"fill_inc_questionnaire_for_veteran's_admin\", 'live_in_this_house_1_year_ago', 'detailed_household_summary_in_household', 'detailed_household_and_family_stat', 'region_of_previous_residence', 'tax_filer_stat', 'education', 'enroll_in_edu_inst_last_wk', 'marital_stat', 'major_industry_code', 'major_occupation_code', 'race', 'hispanic_origin', 'sex', 'member_of_a_labor_union', 'reason_for_unemployment', 'Full_or_part_time_employment_stat']\n"
     ]
    }
   ],
   "source": [
    "numeric_col = [item[0] for item in data_no_missing_val.dtypes if (item[1].startswith('int') | item[1].startswith('float'))]\n",
    "string_col = [item[0] for item in data_no_missing_val.dtypes if (item[1].startswith('string'))]\n",
    "string_col.remove('Income')\n",
    "\n",
    "print(\"numeric_col are : {}\".format(numeric_col))\n",
    "print(\"\\n\")\n",
    "print(\"string_col are : {}\".format(string_col))"
   ]
  },
  {
   "cell_type": "markdown",
   "metadata": {},
   "source": [
    "#### 18. Split the data into train and test (2M)"
   ]
  },
  {
   "cell_type": "code",
   "execution_count": 24,
   "metadata": {},
   "outputs": [
    {
     "name": "stdout",
     "output_type": "stream",
     "text": [
      "Training data count : 66622\n",
      "Test data count : 28571\n"
     ]
    }
   ],
   "source": [
    "(trainingData, testData) = data_no_missing_val.randomSplit([0.7, 0.3])\n",
    "print(\"Training data count : {}\".format(trainingData.count()))\n",
    "print(\"Test data count : {}\".format(testData.count()))\n"
   ]
  },
  {
   "cell_type": "markdown",
   "metadata": {},
   "source": [
    "#### 19. Cache the train and validation data sets and unpersist data (2M)¶"
   ]
  },
  {
   "cell_type": "code",
   "execution_count": 25,
   "metadata": {},
   "outputs": [
    {
     "name": "stdout",
     "output_type": "stream",
     "text": [
      "Training data count : 66622\n",
      "Test data count : 28571\n"
     ]
    },
    {
     "data": {
      "text/plain": [
       "DataFrame[country_of_birth_father: string, country_of_birth_mother: string, country_of_birth_self: string, state_of_previous_residence: string, citizenship: string, own_business_or_self_employed: int, class_of_worker: string, family_members_under_18: string, num_persons_worked_for_employer: int, fill_inc_questionnaire_for_veteran's_admin: string, live_in_this_house_1_year_ago: string, veterans_benefits: int, weeks_worked_in_year: int, year: int, detailed_household_summary_in_household: string, detailed_household_and_family_stat: string, age: int, region_of_previous_residence: string, tax_filer_stat: string, detailed_industry_recode: int, detailed_occupation_recode: int, education: string, wage_per_hour: int, enroll_in_edu_inst_last_wk: string, marital_stat: string, major_industry_code: string, major_occupation_code: string, race: string, hispanic_origin: string, sex: string, member_of_a_labor_union: string, reason_for_unemployment: string, Full_or_part_time_employment_stat: string, capital_gains: int, capital_losses: int, dividends_from_stocks: int, Income: string]"
      ]
     },
     "execution_count": 25,
     "metadata": {},
     "output_type": "execute_result"
    }
   ],
   "source": [
    "trainingData.persist()\n",
    "testData.persist()\n",
    "\n",
    "\n",
    "print(\"Training data count : {}\".format(trainingData.count()))\n",
    "print(\"Test data count : {}\".format(testData.count()))\n",
    "\n",
    "\n",
    "trainingData.unpersist()\n",
    "testData.unpersist()"
   ]
  },
  {
   "cell_type": "markdown",
   "metadata": {},
   "source": [
    "#### 20. Check for the Class balance in the train and test data set (2M)"
   ]
  },
  {
   "cell_type": "code",
   "execution_count": 26,
   "metadata": {},
   "outputs": [
    {
     "name": "stdout",
     "output_type": "stream",
     "text": [
      "+--------+-----+------------------+\n",
      "|  Income|count|        perc_count|\n",
      "+--------+-----+------------------+\n",
      "| 50000+.| 4071|6.1105940980456905|\n",
      "|- 50000.|62551| 93.88940590195432|\n",
      "+--------+-----+------------------+\n",
      "\n"
     ]
    }
   ],
   "source": [
    "trainingData.groupBy('Income').count().withColumn(\"perc_count\", (col('count')/trainingData.count())*100).show()"
   ]
  },
  {
   "cell_type": "code",
   "execution_count": 27,
   "metadata": {},
   "outputs": [
    {
     "name": "stdout",
     "output_type": "stream",
     "text": [
      "+--------+-----+-----------------+\n",
      "|  Income|count|       perc_count|\n",
      "+--------+-----+-----------------+\n",
      "| 50000+.| 1715|6.002590038850583|\n",
      "|- 50000.|26856|93.99740996114942|\n",
      "+--------+-----+-----------------+\n",
      "\n"
     ]
    }
   ],
   "source": [
    "testData.groupBy('Income').count().withColumn(\"perc_count\", (col('count')/testData.count())*100).show()"
   ]
  },
  {
   "cell_type": "markdown",
   "metadata": {},
   "source": [
    "#### 21.  Perform the required feature Preprocessing  and create the pipeline for the flow: (10M)"
   ]
  },
  {
   "cell_type": "code",
   "execution_count": 28,
   "metadata": {},
   "outputs": [],
   "source": [
    "#Use VectorAssembler to combine a given list of numcolumns into a single vector column.\n",
    "assembler_Num = VectorAssembler(inputCols=numeric_col, outputCol=\"num_features\")"
   ]
  },
  {
   "cell_type": "code",
   "execution_count": 29,
   "metadata": {},
   "outputs": [],
   "source": [
    "#Scale all the numeric attributes using MinMaxScaler\n",
    "min_Max_Scalar = MinMaxScaler(inputCol=\"num_features\", outputCol=\"scaled_num_features\")"
   ]
  },
  {
   "cell_type": "code",
   "execution_count": 30,
   "metadata": {},
   "outputs": [],
   "source": [
    "#Covert categorical to numeric\n",
    "indexers_Cat = [StringIndexer(inputCol=cat_Var_Name, outputCol=\"{0}_index\".format(cat_Var_Name), handleInvalid='skip') for cat_Var_Name in string_col ]\n",
    "encoders_Cat = [OneHotEncoder(inputCol=indexer.getOutputCol(), outputCol=\"{0}_vec\".format(indexer.getInputCol())) for indexer in indexers_Cat]\n",
    "assembler_Cat = VectorAssembler(inputCols=[encoder.getOutputCol() for encoder in encoders_Cat], outputCol=\"cat_features\")\n",
    "\n",
    "assembler = VectorAssembler(inputCols=[\"scaled_num_features\", \"cat_features\"], outputCol=\"features\")"
   ]
  },
  {
   "cell_type": "code",
   "execution_count": 31,
   "metadata": {},
   "outputs": [],
   "source": [
    "#String index output\n",
    "indexer_Label = StringIndexer(inputCol=\"Income\", outputCol=\"label\")"
   ]
  },
  {
   "cell_type": "code",
   "execution_count": 32,
   "metadata": {},
   "outputs": [],
   "source": [
    "# Create the preprocessing stage\n",
    "preprocessiong_Stages = [assembler_Num]+[min_Max_Scalar]+indexers_Cat+encoders_Cat+[assembler_Cat]+[assembler]+[indexer_Label]"
   ]
  },
  {
   "cell_type": "markdown",
   "metadata": {},
   "source": [
    "Adding code for garbage collection."
   ]
  },
  {
   "cell_type": "code",
   "execution_count": 33,
   "metadata": {},
   "outputs": [
    {
     "data": {
      "text/plain": [
       "8"
      ]
     },
     "execution_count": 33,
     "metadata": {},
     "output_type": "execute_result"
    }
   ],
   "source": [
    "import gc\n",
    "gc.collect()"
   ]
  },
  {
   "cell_type": "markdown",
   "metadata": {},
   "source": [
    "#### 22. Create the Logistic regression Model(5M)"
   ]
  },
  {
   "cell_type": "code",
   "execution_count": 34,
   "metadata": {},
   "outputs": [],
   "source": [
    "lr = LogisticRegression(maxIter=10, labelCol=\"label\", featuresCol=\"features\")\n",
    "lr_Pipeline = Pipeline(stages=preprocessiong_Stages+[lr])"
   ]
  },
  {
   "cell_type": "raw",
   "metadata": {},
   "source": [
    "# define evaluator\n",
    "evaluator = BinaryClassificationEvaluator(rawPredictionCol='rawPrediction', labelCol=\"label\",metricName=\"areaUnderROC\")"
   ]
  },
  {
   "cell_type": "code",
   "execution_count": 35,
   "metadata": {},
   "outputs": [],
   "source": [
    "evaluator = MulticlassClassificationEvaluator(labelCol=\"label\", \n",
    "                                              predictionCol=\"prediction\",\n",
    "                                              metricName=\"accuracy\")"
   ]
  },
  {
   "cell_type": "code",
   "execution_count": 36,
   "metadata": {},
   "outputs": [],
   "source": [
    "#Define param\n",
    "paramGrid = ParamGridBuilder()\\\n",
    "    .addGrid(lr.regParam, [0.1, 0.2, 0.3]) \\\n",
    "    .addGrid(lr.elasticNetParam, [0.4, 0.5, 0.6])\\\n",
    "    .build()\n",
    "\n",
    "lr_crossval = CrossValidator(estimator=lr_Pipeline,\n",
    "                             estimatorParamMaps=paramGrid,\n",
    "                             evaluator=evaluator,\n",
    "                             numFolds=2)"
   ]
  },
  {
   "cell_type": "code",
   "execution_count": 37,
   "metadata": {},
   "outputs": [],
   "source": [
    "# Run cross-validation, and choose the best set of parameters.\n",
    "lr_crossval_Model = lr_crossval.fit(trainingData)"
   ]
  },
  {
   "cell_type": "code",
   "execution_count": 38,
   "metadata": {
    "scrolled": true
   },
   "outputs": [
    {
     "data": {
      "text/plain": [
       "[VectorAssembler_4b1e9db90c301270c578,\n",
       " MinMaxScaler_48d6b1576bc3e844223e,\n",
       " StringIndexer_44be9c29cbb8729f9ef3,\n",
       " StringIndexer_4cc5832fe4a9a1edd8a3,\n",
       " StringIndexer_472b9135301835949aff,\n",
       " StringIndexer_48a083931b83c32921a7,\n",
       " StringIndexer_4397b2972dd0e7eac075,\n",
       " StringIndexer_4962a8a36bed0dbc1407,\n",
       " StringIndexer_4a91a1988818e375ed98,\n",
       " StringIndexer_4328b1a91e1b26c78e21,\n",
       " StringIndexer_4ef3b9c4f98a6ccdcfe6,\n",
       " StringIndexer_429c87d94f70580bb40b,\n",
       " StringIndexer_46199560f84b3c39a559,\n",
       " StringIndexer_4fa8a20a41d669f7e9a8,\n",
       " StringIndexer_423e8837e327f395ee98,\n",
       " StringIndexer_4a678198ec47a1590a41,\n",
       " StringIndexer_4533948074bb8f7c371a,\n",
       " StringIndexer_457880e8dcd93fa7484f,\n",
       " StringIndexer_4d378cdd0878eadbefa3,\n",
       " StringIndexer_4d4e8d637fc96b628fb2,\n",
       " StringIndexer_442bad54db0d4edbe46b,\n",
       " StringIndexer_45ddb37019e4bf05e007,\n",
       " StringIndexer_4b5394499e15083936ec,\n",
       " StringIndexer_4415a54102c31b6e712e,\n",
       " StringIndexer_4538b385c937dff57a93,\n",
       " StringIndexer_4839a348ff2780e3a870,\n",
       " OneHotEncoder_4afc818c08fcb5fec3f2,\n",
       " OneHotEncoder_4fd98d370e9bfccd99bc,\n",
       " OneHotEncoder_451cb8d1dc437ed70f76,\n",
       " OneHotEncoder_4dc3b1862f51060a0e25,\n",
       " OneHotEncoder_40de813df9c0476d94ac,\n",
       " OneHotEncoder_487fa95c276697a01002,\n",
       " OneHotEncoder_48c89fd3f3d45192a758,\n",
       " OneHotEncoder_4854808b54fade78c4c9,\n",
       " OneHotEncoder_42b48653f4aaa11e53fd,\n",
       " OneHotEncoder_4b5199a3fe6984b6f9e7,\n",
       " OneHotEncoder_4995911f18873faa411e,\n",
       " OneHotEncoder_4ff395df914850a3aa36,\n",
       " OneHotEncoder_4cbd92c10dd25d195302,\n",
       " OneHotEncoder_457bb56484e025d20e72,\n",
       " OneHotEncoder_4222972a6cf67dbd2469,\n",
       " OneHotEncoder_416396eec5990a756ed1,\n",
       " OneHotEncoder_488c81b09b76ea4f661b,\n",
       " OneHotEncoder_4edb8c1a1cca9f646479,\n",
       " OneHotEncoder_4a1fa9a6999f75d3bd44,\n",
       " OneHotEncoder_43fdb2c3669f18a80399,\n",
       " OneHotEncoder_420e8cf758647343d450,\n",
       " OneHotEncoder_49c1b77e6e5a3b912c28,\n",
       " OneHotEncoder_4a26beb7c8acdf303ea1,\n",
       " OneHotEncoder_4bfd8e53a3e3a9c0c70d,\n",
       " VectorAssembler_4c848f72435e82d012f6,\n",
       " VectorAssembler_4f35bc6e7cb46b14853a,\n",
       " StringIndexer_4241b758dd110b80b48f,\n",
       " LogisticRegression_43a38d1ba1b898e47a46]"
      ]
     },
     "execution_count": 38,
     "metadata": {},
     "output_type": "execute_result"
    }
   ],
   "source": [
    "lr_crossval_Model.bestModel.stages"
   ]
  },
  {
   "cell_type": "code",
   "execution_count": 39,
   "metadata": {},
   "outputs": [],
   "source": [
    "train_predictions_lrcv = lr_crossval_Model.transform(trainingData)\n",
    "test_predictions_lrcv = lr_crossval_Model.transform(testData)"
   ]
  },
  {
   "cell_type": "markdown",
   "metadata": {},
   "source": [
    "* Print the objective history."
   ]
  },
  {
   "cell_type": "code",
   "execution_count": 40,
   "metadata": {},
   "outputs": [
    {
     "name": "stdout",
     "output_type": "stream",
     "text": [
      "objectiveHistory:\n",
      "0.229999776827\n",
      "0.229130563558\n",
      "0.226974602963\n",
      "0.226858340323\n",
      "0.2267451163\n",
      "0.226654203677\n",
      "0.22621028838\n",
      "0.226147527413\n",
      "0.226065298486\n",
      "0.225985700564\n",
      "0.225876296073\n"
     ]
    }
   ],
   "source": [
    "lr_Summary = lr_crossval_Model.bestModel.stages[-1].summary\n",
    "objectiveHistory = lr_Summary.objectiveHistory\n",
    "print(\"objectiveHistory:\")\n",
    "for objective in objectiveHistory:\n",
    "    print(objective)"
   ]
  },
  {
   "cell_type": "markdown",
   "metadata": {},
   "source": [
    "#### 23. Answer the following questions (2M)"
   ]
  },
  {
   "cell_type": "markdown",
   "metadata": {},
   "source": [
    "* What is the train accuracy ?"
   ]
  },
  {
   "cell_type": "code",
   "execution_count": 41,
   "metadata": {},
   "outputs": [
    {
     "name": "stdout",
     "output_type": "stream",
     "text": [
      "Train set accuracy  = 0.93889405902\n"
     ]
    }
   ],
   "source": [
    "predictionAndLabels_train_lrcv = train_predictions_lrcv.select(\"prediction\", \"label\")\n",
    "train_accuracycv = evaluator.evaluate(predictionAndLabels_train_lrcv)\n",
    "print(\"Train set accuracy  = \" + str(train_accuracycv))"
   ]
  },
  {
   "cell_type": "markdown",
   "metadata": {},
   "source": [
    "* What is test accuracy?"
   ]
  },
  {
   "cell_type": "code",
   "execution_count": 42,
   "metadata": {},
   "outputs": [
    {
     "name": "stdout",
     "output_type": "stream",
     "text": [
      "Test set accuracy = 0.9399719986\n"
     ]
    }
   ],
   "source": [
    "predictionAndLabels_test_lrcv = test_predictions_lrcv.select(\"prediction\", \"label\")\n",
    "test_accuracycv = evaluator.evaluate(predictionAndLabels_test_lrcv)\n",
    "print(\"Test set accuracy = \" + str(test_accuracycv))"
   ]
  },
  {
   "cell_type": "markdown",
   "metadata": {},
   "source": [
    "* What is your observations ? Write your oservations in the markdown format."
   ]
  },
  {
   "cell_type": "markdown",
   "metadata": {},
   "source": [
    "1. Data is highly imbalanced.\n",
    "2. Based on F1 Score & accuracy, the classifier looks to perform well\n",
    "3. F1 score:-\n",
    "    a. 0.910177679985 for train\n",
    "    \n",
    "    b. 0.90884159297 for test\n",
    "4. Accuracy:-\n",
    "    a. 0.939489153149 for train\n",
    "    \n",
    "    b. 0.938579052004 for test\n",
    "5. Have also tried out Binary Evaluation matrics, with a Roc-Auc score (areaUnderROC) of nearing 1."
   ]
  },
  {
   "cell_type": "code",
   "execution_count": 43,
   "metadata": {},
   "outputs": [
    {
     "data": {
      "text/plain": [
       "6117"
      ]
     },
     "execution_count": 43,
     "metadata": {},
     "output_type": "execute_result"
    }
   ],
   "source": [
    "gc.collect()"
   ]
  },
  {
   "cell_type": "markdown",
   "metadata": {},
   "source": [
    "#### 24. Perform the necessary tuning methods(2M)"
   ]
  },
  {
   "cell_type": "markdown",
   "metadata": {
    "collapsed": true
   },
   "source": [
    "Done Above, Below is my best model"
   ]
  },
  {
   "cell_type": "code",
   "execution_count": 44,
   "metadata": {},
   "outputs": [
    {
     "name": "stdout",
     "output_type": "stream",
     "text": [
      "Coefficients: (345,[3,9,188,204,211,263,280,303,305,306],[0.2836244572426422,1.4471021375511484,-0.03085967190955468,0.03629710801613633,0.10436158979180238,0.19365687509099686,-0.03673853533028195,-0.03673853533028195,0.22684609038357767,0.41638541859235534])\n",
      "Intercept: -2.96786128745\n"
     ]
    }
   ],
   "source": [
    "print(\"Coefficients: \" + str(lr_crossval_Model.bestModel.stages[-1].coefficients))\n",
    "print(\"Intercept: \" + str(lr_crossval_Model.bestModel.stages[-1].intercept))"
   ]
  },
  {
   "cell_type": "markdown",
   "metadata": {},
   "source": [
    "#### 25. Save the Crossvalidated model and load the model and pass the test data (7M)"
   ]
  },
  {
   "cell_type": "code",
   "execution_count": 45,
   "metadata": {},
   "outputs": [],
   "source": [
    "## Go through the documentation.\n",
    "lr_crossval_Model.bestModel.save(\"/user/2618B56/cute_part_B\")"
   ]
  },
  {
   "cell_type": "code",
   "execution_count": 46,
   "metadata": {},
   "outputs": [],
   "source": [
    "#model_loaded = lr_Pipeline_model.load(\"/user/2618B56/cute_part_B\")\n",
    "model_loaded = PipelineModel.load(\"/user/2618B56/cute_part_B\")"
   ]
  },
  {
   "cell_type": "code",
   "execution_count": 47,
   "metadata": {},
   "outputs": [
    {
     "name": "stdout",
     "output_type": "stream",
     "text": [
      "Test set accuracy = 0.9399719986\n"
     ]
    }
   ],
   "source": [
    "test_loaded_model_predictions_lrcv = model_loaded.transform(testData)\n",
    "\n",
    "predictionAndLabels_lodel_loaded_test_lrcv = test_loaded_model_predictions_lrcv.select(\"prediction\", \"label\")\n",
    "test_loaded_model_accuracycv = evaluator.evaluate(predictionAndLabels_lodel_loaded_test_lrcv)\n",
    "print(\"Test set accuracy = \" + str(test_loaded_model_accuracycv))"
   ]
  },
  {
   "cell_type": "code",
   "execution_count": null,
   "metadata": {},
   "outputs": [],
   "source": []
  }
 ],
 "metadata": {
  "kernelspec": {
   "display_name": "Python 2",
   "language": "python",
   "name": "python2"
  },
  "language_info": {
   "codemirror_mode": {
    "name": "ipython",
    "version": 2
   },
   "file_extension": ".py",
   "mimetype": "text/x-python",
   "name": "python",
   "nbconvert_exporter": "python",
   "pygments_lexer": "ipython2",
   "version": "2.7.5"
  }
 },
 "nbformat": 4,
 "nbformat_minor": 2
}
