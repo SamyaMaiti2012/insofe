{
 "cells": [
  {
   "cell_type": "markdown",
   "metadata": {},
   "source": [
    "# REGRESSION with KNN"
   ]
  },
  {
   "cell_type": "markdown",
   "metadata": {},
   "source": [
    "### Agenda\n",
    "\n",
    "* Business Understanding\n",
    "* Data Understanding\n",
    "* Data Preparation\n",
    "* Exploratory Data Analysis\n",
    "* Building a Decision Tree Model\n",
    "* Evaluation"
   ]
  },
  {
   "cell_type": "markdown",
   "metadata": {},
   "source": [
    "### Business Understanding"
   ]
  },
  {
   "cell_type": "markdown",
   "metadata": {},
   "source": [
    "#### Problem Statement\n",
    "\n",
    "A large child education toy company which sells edutainment tablets and gaming systems\n",
    "both online and in retail stores wanted to analyze the customer data. They are operating\n",
    "from last few years and maintaining all transactional information data. The given data\n",
    "‘CustomerData.csv’ is a sample of customer level data extracted and processed for the\n",
    "analysis from various set of transactional files.\n",
    "\n",
    "The objectives of today’s activity are :\n",
    "* Building a regression model to predict the customer revenue based on other factors and understand the influence of other attributes on revenue"
   ]
  },
  {
   "cell_type": "markdown",
   "metadata": {},
   "source": [
    "### Identify right Error Metrics"
   ]
  },
  {
   "cell_type": "markdown",
   "metadata": {},
   "source": [
    "##### Error Metrics for Regression\n",
    "\n",
    "* Mean Absolute Error (MAE):\n",
    "\n",
    "$$MAE = \\dfrac{1}{n}\\times\\sum_{i = 1}^{n}|y_{i} - \\hat{y_{i}}|$$\n",
    "\n",
    "\n",
    "* Mean Squared Error (MSE):\n",
    "\n",
    "$$MSE = \\dfrac{1}{n}\\times\\sum_{i = 1}^{n}(y_{i} - \\hat{y_{i}})^2$$\n",
    "\n",
    "\n",
    "* Root Mean Squared Error (RMSE):\n",
    "\n",
    "$$RMSE = \\sqrt{\\dfrac{1}{n}\\times\\sum_{i = 1}^{n}(y_{i} - \\hat{y_{i}})^2}$$\n",
    "\n",
    "\n",
    "* Mean Absolute Percentage Error (MAPE):\n",
    "\n",
    "$$MAPE = \\dfrac{100}{n}\\times\\mid\\dfrac{\\sum_{i = 1}^{n}y_{i} - \\hat{y_{i}}}{y_{i}}\\mid$$\n"
   ]
  },
  {
   "cell_type": "markdown",
   "metadata": {},
   "source": [
    "\n",
    "### Loading the required libraries"
   ]
  },
  {
   "cell_type": "code",
   "execution_count": 1,
   "metadata": {},
   "outputs": [],
   "source": [
    "import math\n",
    "\n",
    "import pandas as pd\n",
    "import numpy as np\n",
    "\n",
    "from sklearn.model_selection import train_test_split\n",
    "from sklearn.preprocessing import StandardScaler\n",
    "\n",
    "from sklearn.metrics import mean_squared_error, mean_absolute_error, r2_score\n",
    "from sklearn.metrics import confusion_matrix\n",
    "\n",
    "from sklearn.neighbors import KNeighborsRegressor\n",
    "from sklearn.neighbors import KNeighborsClassifier\n",
    "\n",
    "import matplotlib.pyplot as plt\n",
    "%matplotlib inline\n",
    "\n",
    "import seaborn as sns"
   ]
  },
  {
   "cell_type": "markdown",
   "metadata": {},
   "source": [
    "### Loading the data"
   ]
  },
  {
   "cell_type": "code",
   "execution_count": 2,
   "metadata": {},
   "outputs": [],
   "source": [
    "data = "
   ]
  },
  {
   "cell_type": "code",
   "execution_count": 3,
   "metadata": {},
   "outputs": [
    {
     "data": {
      "text/plain": [
       "pandas.core.frame.DataFrame"
      ]
     },
     "execution_count": 3,
     "metadata": {},
     "output_type": "execute_result"
    }
   ],
   "source": []
  },
  {
   "cell_type": "markdown",
   "metadata": {},
   "source": [
    "### Data Understanding"
   ]
  },
  {
   "cell_type": "code",
   "execution_count": 4,
   "metadata": {},
   "outputs": [
    {
     "data": {
      "text/plain": [
       "(3209, 14)"
      ]
     },
     "execution_count": 4,
     "metadata": {},
     "output_type": "execute_result"
    }
   ],
   "source": []
  },
  {
   "cell_type": "markdown",
   "metadata": {},
   "source": [
    "#### Display the columns"
   ]
  },
  {
   "cell_type": "code",
   "execution_count": 5,
   "metadata": {
    "scrolled": true
   },
   "outputs": [
    {
     "data": {
      "text/plain": [
       "Index(['CustomerID', 'City', 'NoOfChildren', 'MinAgeOfChild', 'MaxAgeOfChild',\n",
       "       'Tenure', 'FrequencyOfPurchase', 'NoOfUnitsPurchased',\n",
       "       'FrequencyOFPlay', 'NoOfGamesPlayed', 'NoOfGamesBought',\n",
       "       'FavoriteChannelOfTransaction', 'FavoriteGame',\n",
       "       'TotalRevenueGenerated'],\n",
       "      dtype='object')"
      ]
     },
     "execution_count": 5,
     "metadata": {},
     "output_type": "execute_result"
    }
   ],
   "source": []
  },
  {
   "cell_type": "code",
   "execution_count": 6,
   "metadata": {},
   "outputs": [
    {
     "data": {
      "text/plain": [
       "RangeIndex(start=0, stop=3209, step=1)"
      ]
     },
     "execution_count": 6,
     "metadata": {},
     "output_type": "execute_result"
    }
   ],
   "source": []
  },
  {
   "cell_type": "markdown",
   "metadata": {},
   "source": [
    "#### See the top rows of the data"
   ]
  },
  {
   "cell_type": "code",
   "execution_count": 7,
   "metadata": {},
   "outputs": [
    {
     "data": {
      "text/html": [
       "<div>\n",
       "<style scoped>\n",
       "    .dataframe tbody tr th:only-of-type {\n",
       "        vertical-align: middle;\n",
       "    }\n",
       "\n",
       "    .dataframe tbody tr th {\n",
       "        vertical-align: top;\n",
       "    }\n",
       "\n",
       "    .dataframe thead th {\n",
       "        text-align: right;\n",
       "    }\n",
       "</style>\n",
       "<table border=\"1\" class=\"dataframe\">\n",
       "  <thead>\n",
       "    <tr style=\"text-align: right;\">\n",
       "      <th></th>\n",
       "      <th>CustomerID</th>\n",
       "      <th>City</th>\n",
       "      <th>NoOfChildren</th>\n",
       "      <th>MinAgeOfChild</th>\n",
       "      <th>MaxAgeOfChild</th>\n",
       "      <th>Tenure</th>\n",
       "      <th>FrequencyOfPurchase</th>\n",
       "      <th>NoOfUnitsPurchased</th>\n",
       "      <th>FrequencyOFPlay</th>\n",
       "      <th>NoOfGamesPlayed</th>\n",
       "      <th>NoOfGamesBought</th>\n",
       "      <th>FavoriteChannelOfTransaction</th>\n",
       "      <th>FavoriteGame</th>\n",
       "      <th>TotalRevenueGenerated</th>\n",
       "    </tr>\n",
       "  </thead>\n",
       "  <tbody>\n",
       "    <tr>\n",
       "      <th>0</th>\n",
       "      <td>1001</td>\n",
       "      <td>1</td>\n",
       "      <td>2</td>\n",
       "      <td>3</td>\n",
       "      <td>8</td>\n",
       "      <td>210</td>\n",
       "      <td>11</td>\n",
       "      <td>11</td>\n",
       "      <td>2344</td>\n",
       "      <td>108</td>\n",
       "      <td>10</td>\n",
       "      <td>Uniform</td>\n",
       "      <td>Uniform</td>\n",
       "      <td>107.51</td>\n",
       "    </tr>\n",
       "    <tr>\n",
       "      <th>1</th>\n",
       "      <td>1002</td>\n",
       "      <td>1</td>\n",
       "      <td>2</td>\n",
       "      <td>3</td>\n",
       "      <td>6</td>\n",
       "      <td>442</td>\n",
       "      <td>20</td>\n",
       "      <td>20</td>\n",
       "      <td>245</td>\n",
       "      <td>22</td>\n",
       "      <td>7</td>\n",
       "      <td>Favorite</td>\n",
       "      <td>Uniform</td>\n",
       "      <td>382.40</td>\n",
       "    </tr>\n",
       "    <tr>\n",
       "      <th>2</th>\n",
       "      <td>1003</td>\n",
       "      <td>1</td>\n",
       "      <td>4</td>\n",
       "      <td>3</td>\n",
       "      <td>5</td>\n",
       "      <td>424</td>\n",
       "      <td>18</td>\n",
       "      <td>18</td>\n",
       "      <td>1059</td>\n",
       "      <td>130</td>\n",
       "      <td>18</td>\n",
       "      <td>Favorite</td>\n",
       "      <td>Uniform</td>\n",
       "      <td>135.01</td>\n",
       "    </tr>\n",
       "    <tr>\n",
       "      <th>3</th>\n",
       "      <td>1004</td>\n",
       "      <td>1</td>\n",
       "      <td>1</td>\n",
       "      <td>6</td>\n",
       "      <td>6</td>\n",
       "      <td>261</td>\n",
       "      <td>11</td>\n",
       "      <td>9</td>\n",
       "      <td>365</td>\n",
       "      <td>34</td>\n",
       "      <td>11</td>\n",
       "      <td>Favorite</td>\n",
       "      <td>Uniform</td>\n",
       "      <td>125.00</td>\n",
       "    </tr>\n",
       "    <tr>\n",
       "      <th>4</th>\n",
       "      <td>1005</td>\n",
       "      <td>1</td>\n",
       "      <td>3</td>\n",
       "      <td>6</td>\n",
       "      <td>9</td>\n",
       "      <td>422</td>\n",
       "      <td>44</td>\n",
       "      <td>31</td>\n",
       "      <td>1066</td>\n",
       "      <td>102</td>\n",
       "      <td>44</td>\n",
       "      <td>Uniform</td>\n",
       "      <td>Uniform</td>\n",
       "      <td>335.05</td>\n",
       "    </tr>\n",
       "  </tbody>\n",
       "</table>\n",
       "</div>"
      ],
      "text/plain": [
       "   CustomerID  City  NoOfChildren  MinAgeOfChild  MaxAgeOfChild  Tenure  \\\n",
       "0        1001     1             2              3              8     210   \n",
       "1        1002     1             2              3              6     442   \n",
       "2        1003     1             4              3              5     424   \n",
       "3        1004     1             1              6              6     261   \n",
       "4        1005     1             3              6              9     422   \n",
       "\n",
       "   FrequencyOfPurchase  NoOfUnitsPurchased  FrequencyOFPlay  NoOfGamesPlayed  \\\n",
       "0                   11                  11             2344              108   \n",
       "1                   20                  20              245               22   \n",
       "2                   18                  18             1059              130   \n",
       "3                   11                   9              365               34   \n",
       "4                   44                  31             1066              102   \n",
       "\n",
       "   NoOfGamesBought FavoriteChannelOfTransaction FavoriteGame  \\\n",
       "0               10                      Uniform      Uniform   \n",
       "1                7                     Favorite      Uniform   \n",
       "2               18                     Favorite      Uniform   \n",
       "3               11                     Favorite      Uniform   \n",
       "4               44                      Uniform      Uniform   \n",
       "\n",
       "   TotalRevenueGenerated  \n",
       "0                 107.51  \n",
       "1                 382.40  \n",
       "2                 135.01  \n",
       "3                 125.00  \n",
       "4                 335.05  "
      ]
     },
     "execution_count": 7,
     "metadata": {},
     "output_type": "execute_result"
    }
   ],
   "source": []
  },
  {
   "cell_type": "markdown",
   "metadata": {},
   "source": [
    "#### Summary Statistics using describe()"
   ]
  },
  {
   "cell_type": "markdown",
   "metadata": {},
   "source": [
    "Descriptive or Summary Statistic of the numeric columns\n",
    "\n",
    "    It excludes categorical columns and calculate summary statistics only for numeric columns"
   ]
  },
  {
   "cell_type": "code",
   "execution_count": 8,
   "metadata": {},
   "outputs": [
    {
     "data": {
      "text/html": [
       "<div>\n",
       "<style scoped>\n",
       "    .dataframe tbody tr th:only-of-type {\n",
       "        vertical-align: middle;\n",
       "    }\n",
       "\n",
       "    .dataframe tbody tr th {\n",
       "        vertical-align: top;\n",
       "    }\n",
       "\n",
       "    .dataframe thead th {\n",
       "        text-align: right;\n",
       "    }\n",
       "</style>\n",
       "<table border=\"1\" class=\"dataframe\">\n",
       "  <thead>\n",
       "    <tr style=\"text-align: right;\">\n",
       "      <th></th>\n",
       "      <th>CustomerID</th>\n",
       "      <th>City</th>\n",
       "      <th>NoOfChildren</th>\n",
       "      <th>MinAgeOfChild</th>\n",
       "      <th>MaxAgeOfChild</th>\n",
       "      <th>Tenure</th>\n",
       "      <th>FrequencyOfPurchase</th>\n",
       "      <th>NoOfUnitsPurchased</th>\n",
       "      <th>FrequencyOFPlay</th>\n",
       "      <th>NoOfGamesPlayed</th>\n",
       "      <th>NoOfGamesBought</th>\n",
       "      <th>TotalRevenueGenerated</th>\n",
       "    </tr>\n",
       "  </thead>\n",
       "  <tbody>\n",
       "    <tr>\n",
       "      <th>count</th>\n",
       "      <td>3209.000000</td>\n",
       "      <td>3209.000000</td>\n",
       "      <td>3209.000000</td>\n",
       "      <td>3209.000000</td>\n",
       "      <td>3209.000000</td>\n",
       "      <td>3209.000000</td>\n",
       "      <td>3209.000000</td>\n",
       "      <td>3209.000000</td>\n",
       "      <td>3209.000000</td>\n",
       "      <td>3209.000000</td>\n",
       "      <td>3209.000000</td>\n",
       "      <td>3209.000000</td>\n",
       "    </tr>\n",
       "    <tr>\n",
       "      <th>mean</th>\n",
       "      <td>2605.000000</td>\n",
       "      <td>1.114054</td>\n",
       "      <td>2.128389</td>\n",
       "      <td>4.960735</td>\n",
       "      <td>7.990651</td>\n",
       "      <td>347.520411</td>\n",
       "      <td>16.269554</td>\n",
       "      <td>14.684014</td>\n",
       "      <td>1568.207853</td>\n",
       "      <td>93.627921</td>\n",
       "      <td>14.761608</td>\n",
       "      <td>168.477183</td>\n",
       "    </tr>\n",
       "    <tr>\n",
       "      <th>std</th>\n",
       "      <td>926.502833</td>\n",
       "      <td>0.317927</td>\n",
       "      <td>1.035092</td>\n",
       "      <td>3.714191</td>\n",
       "      <td>8.784084</td>\n",
       "      <td>90.520118</td>\n",
       "      <td>8.441670</td>\n",
       "      <td>7.182029</td>\n",
       "      <td>1810.630464</td>\n",
       "      <td>88.936372</td>\n",
       "      <td>8.773910</td>\n",
       "      <td>81.798528</td>\n",
       "    </tr>\n",
       "    <tr>\n",
       "      <th>min</th>\n",
       "      <td>1001.000000</td>\n",
       "      <td>1.000000</td>\n",
       "      <td>1.000000</td>\n",
       "      <td>0.000000</td>\n",
       "      <td>3.000000</td>\n",
       "      <td>100.000000</td>\n",
       "      <td>1.000000</td>\n",
       "      <td>1.000000</td>\n",
       "      <td>0.000000</td>\n",
       "      <td>0.000000</td>\n",
       "      <td>0.000000</td>\n",
       "      <td>100.000000</td>\n",
       "    </tr>\n",
       "    <tr>\n",
       "      <th>25%</th>\n",
       "      <td>1803.000000</td>\n",
       "      <td>1.000000</td>\n",
       "      <td>1.000000</td>\n",
       "      <td>4.000000</td>\n",
       "      <td>6.000000</td>\n",
       "      <td>301.000000</td>\n",
       "      <td>11.000000</td>\n",
       "      <td>10.000000</td>\n",
       "      <td>446.000000</td>\n",
       "      <td>37.000000</td>\n",
       "      <td>10.000000</td>\n",
       "      <td>116.640000</td>\n",
       "    </tr>\n",
       "    <tr>\n",
       "      <th>50%</th>\n",
       "      <td>2605.000000</td>\n",
       "      <td>1.000000</td>\n",
       "      <td>2.000000</td>\n",
       "      <td>5.000000</td>\n",
       "      <td>7.000000</td>\n",
       "      <td>368.000000</td>\n",
       "      <td>14.000000</td>\n",
       "      <td>13.000000</td>\n",
       "      <td>1029.000000</td>\n",
       "      <td>70.000000</td>\n",
       "      <td>14.000000</td>\n",
       "      <td>142.390000</td>\n",
       "    </tr>\n",
       "    <tr>\n",
       "      <th>75%</th>\n",
       "      <td>3407.000000</td>\n",
       "      <td>1.000000</td>\n",
       "      <td>3.000000</td>\n",
       "      <td>6.000000</td>\n",
       "      <td>8.000000</td>\n",
       "      <td>417.000000</td>\n",
       "      <td>19.000000</td>\n",
       "      <td>17.000000</td>\n",
       "      <td>2029.000000</td>\n",
       "      <td>119.000000</td>\n",
       "      <td>19.000000</td>\n",
       "      <td>191.250000</td>\n",
       "    </tr>\n",
       "    <tr>\n",
       "      <th>max</th>\n",
       "      <td>4209.000000</td>\n",
       "      <td>2.000000</td>\n",
       "      <td>11.000000</td>\n",
       "      <td>113.000000</td>\n",
       "      <td>113.000000</td>\n",
       "      <td>472.000000</td>\n",
       "      <td>119.000000</td>\n",
       "      <td>112.000000</td>\n",
       "      <td>27829.000000</td>\n",
       "      <td>1166.000000</td>\n",
       "      <td>115.000000</td>\n",
       "      <td>990.560000</td>\n",
       "    </tr>\n",
       "  </tbody>\n",
       "</table>\n",
       "</div>"
      ],
      "text/plain": [
       "        CustomerID         City  NoOfChildren  MinAgeOfChild  MaxAgeOfChild  \\\n",
       "count  3209.000000  3209.000000   3209.000000    3209.000000    3209.000000   \n",
       "mean   2605.000000     1.114054      2.128389       4.960735       7.990651   \n",
       "std     926.502833     0.317927      1.035092       3.714191       8.784084   \n",
       "min    1001.000000     1.000000      1.000000       0.000000       3.000000   \n",
       "25%    1803.000000     1.000000      1.000000       4.000000       6.000000   \n",
       "50%    2605.000000     1.000000      2.000000       5.000000       7.000000   \n",
       "75%    3407.000000     1.000000      3.000000       6.000000       8.000000   \n",
       "max    4209.000000     2.000000     11.000000     113.000000     113.000000   \n",
       "\n",
       "            Tenure  FrequencyOfPurchase  NoOfUnitsPurchased  FrequencyOFPlay  \\\n",
       "count  3209.000000          3209.000000         3209.000000      3209.000000   \n",
       "mean    347.520411            16.269554           14.684014      1568.207853   \n",
       "std      90.520118             8.441670            7.182029      1810.630464   \n",
       "min     100.000000             1.000000            1.000000         0.000000   \n",
       "25%     301.000000            11.000000           10.000000       446.000000   \n",
       "50%     368.000000            14.000000           13.000000      1029.000000   \n",
       "75%     417.000000            19.000000           17.000000      2029.000000   \n",
       "max     472.000000           119.000000          112.000000     27829.000000   \n",
       "\n",
       "       NoOfGamesPlayed  NoOfGamesBought  TotalRevenueGenerated  \n",
       "count      3209.000000      3209.000000            3209.000000  \n",
       "mean         93.627921        14.761608             168.477183  \n",
       "std          88.936372         8.773910              81.798528  \n",
       "min           0.000000         0.000000             100.000000  \n",
       "25%          37.000000        10.000000             116.640000  \n",
       "50%          70.000000        14.000000             142.390000  \n",
       "75%         119.000000        19.000000             191.250000  \n",
       "max        1166.000000       115.000000             990.560000  "
      ]
     },
     "execution_count": 8,
     "metadata": {},
     "output_type": "execute_result"
    }
   ],
   "source": []
  },
  {
   "cell_type": "markdown",
   "metadata": {},
   "source": [
    "Summary statistics of the character columns"
   ]
  },
  {
   "cell_type": "code",
   "execution_count": 9,
   "metadata": {},
   "outputs": [
    {
     "data": {
      "text/html": [
       "<div>\n",
       "<style scoped>\n",
       "    .dataframe tbody tr th:only-of-type {\n",
       "        vertical-align: middle;\n",
       "    }\n",
       "\n",
       "    .dataframe tbody tr th {\n",
       "        vertical-align: top;\n",
       "    }\n",
       "\n",
       "    .dataframe thead th {\n",
       "        text-align: right;\n",
       "    }\n",
       "</style>\n",
       "<table border=\"1\" class=\"dataframe\">\n",
       "  <thead>\n",
       "    <tr style=\"text-align: right;\">\n",
       "      <th></th>\n",
       "      <th>FavoriteChannelOfTransaction</th>\n",
       "      <th>FavoriteGame</th>\n",
       "    </tr>\n",
       "  </thead>\n",
       "  <tbody>\n",
       "    <tr>\n",
       "      <th>count</th>\n",
       "      <td>3209</td>\n",
       "      <td>3209</td>\n",
       "    </tr>\n",
       "    <tr>\n",
       "      <th>unique</th>\n",
       "      <td>2</td>\n",
       "      <td>2</td>\n",
       "    </tr>\n",
       "    <tr>\n",
       "      <th>top</th>\n",
       "      <td>Favorite</td>\n",
       "      <td>Uniform</td>\n",
       "    </tr>\n",
       "    <tr>\n",
       "      <th>freq</th>\n",
       "      <td>2637</td>\n",
       "      <td>3083</td>\n",
       "    </tr>\n",
       "  </tbody>\n",
       "</table>\n",
       "</div>"
      ],
      "text/plain": [
       "       FavoriteChannelOfTransaction FavoriteGame\n",
       "count                          3209         3209\n",
       "unique                            2            2\n",
       "top                        Favorite      Uniform\n",
       "freq                           2637         3083"
      ]
     },
     "execution_count": 9,
     "metadata": {},
     "output_type": "execute_result"
    }
   ],
   "source": []
  },
  {
   "cell_type": "code",
   "execution_count": 10,
   "metadata": {},
   "outputs": [
    {
     "data": {
      "text/plain": [
       "Uniform     3083\n",
       "Favorite     126\n",
       "Name: FavoriteGame, dtype: int64"
      ]
     },
     "execution_count": 10,
     "metadata": {},
     "output_type": "execute_result"
    }
   ],
   "source": []
  },
  {
   "cell_type": "markdown",
   "metadata": {},
   "source": [
    "Summary statistics of all the columns"
   ]
  },
  {
   "cell_type": "code",
   "execution_count": 11,
   "metadata": {
    "scrolled": true
   },
   "outputs": [
    {
     "data": {
      "text/html": [
       "<div>\n",
       "<style scoped>\n",
       "    .dataframe tbody tr th:only-of-type {\n",
       "        vertical-align: middle;\n",
       "    }\n",
       "\n",
       "    .dataframe tbody tr th {\n",
       "        vertical-align: top;\n",
       "    }\n",
       "\n",
       "    .dataframe thead th {\n",
       "        text-align: right;\n",
       "    }\n",
       "</style>\n",
       "<table border=\"1\" class=\"dataframe\">\n",
       "  <thead>\n",
       "    <tr style=\"text-align: right;\">\n",
       "      <th></th>\n",
       "      <th>CustomerID</th>\n",
       "      <th>City</th>\n",
       "      <th>NoOfChildren</th>\n",
       "      <th>MinAgeOfChild</th>\n",
       "      <th>MaxAgeOfChild</th>\n",
       "      <th>Tenure</th>\n",
       "      <th>FrequencyOfPurchase</th>\n",
       "      <th>NoOfUnitsPurchased</th>\n",
       "      <th>FrequencyOFPlay</th>\n",
       "      <th>NoOfGamesPlayed</th>\n",
       "      <th>NoOfGamesBought</th>\n",
       "      <th>FavoriteChannelOfTransaction</th>\n",
       "      <th>FavoriteGame</th>\n",
       "      <th>TotalRevenueGenerated</th>\n",
       "    </tr>\n",
       "  </thead>\n",
       "  <tbody>\n",
       "    <tr>\n",
       "      <th>count</th>\n",
       "      <td>3209.000000</td>\n",
       "      <td>3209.000000</td>\n",
       "      <td>3209.000000</td>\n",
       "      <td>3209.000000</td>\n",
       "      <td>3209.000000</td>\n",
       "      <td>3209.000000</td>\n",
       "      <td>3209.000000</td>\n",
       "      <td>3209.000000</td>\n",
       "      <td>3209.000000</td>\n",
       "      <td>3209.000000</td>\n",
       "      <td>3209.000000</td>\n",
       "      <td>3209</td>\n",
       "      <td>3209</td>\n",
       "      <td>3209.000000</td>\n",
       "    </tr>\n",
       "    <tr>\n",
       "      <th>unique</th>\n",
       "      <td>NaN</td>\n",
       "      <td>NaN</td>\n",
       "      <td>NaN</td>\n",
       "      <td>NaN</td>\n",
       "      <td>NaN</td>\n",
       "      <td>NaN</td>\n",
       "      <td>NaN</td>\n",
       "      <td>NaN</td>\n",
       "      <td>NaN</td>\n",
       "      <td>NaN</td>\n",
       "      <td>NaN</td>\n",
       "      <td>2</td>\n",
       "      <td>2</td>\n",
       "      <td>NaN</td>\n",
       "    </tr>\n",
       "    <tr>\n",
       "      <th>top</th>\n",
       "      <td>NaN</td>\n",
       "      <td>NaN</td>\n",
       "      <td>NaN</td>\n",
       "      <td>NaN</td>\n",
       "      <td>NaN</td>\n",
       "      <td>NaN</td>\n",
       "      <td>NaN</td>\n",
       "      <td>NaN</td>\n",
       "      <td>NaN</td>\n",
       "      <td>NaN</td>\n",
       "      <td>NaN</td>\n",
       "      <td>Favorite</td>\n",
       "      <td>Uniform</td>\n",
       "      <td>NaN</td>\n",
       "    </tr>\n",
       "    <tr>\n",
       "      <th>freq</th>\n",
       "      <td>NaN</td>\n",
       "      <td>NaN</td>\n",
       "      <td>NaN</td>\n",
       "      <td>NaN</td>\n",
       "      <td>NaN</td>\n",
       "      <td>NaN</td>\n",
       "      <td>NaN</td>\n",
       "      <td>NaN</td>\n",
       "      <td>NaN</td>\n",
       "      <td>NaN</td>\n",
       "      <td>NaN</td>\n",
       "      <td>2637</td>\n",
       "      <td>3083</td>\n",
       "      <td>NaN</td>\n",
       "    </tr>\n",
       "    <tr>\n",
       "      <th>mean</th>\n",
       "      <td>2605.000000</td>\n",
       "      <td>1.114054</td>\n",
       "      <td>2.128389</td>\n",
       "      <td>4.960735</td>\n",
       "      <td>7.990651</td>\n",
       "      <td>347.520411</td>\n",
       "      <td>16.269554</td>\n",
       "      <td>14.684014</td>\n",
       "      <td>1568.207853</td>\n",
       "      <td>93.627921</td>\n",
       "      <td>14.761608</td>\n",
       "      <td>NaN</td>\n",
       "      <td>NaN</td>\n",
       "      <td>168.477183</td>\n",
       "    </tr>\n",
       "    <tr>\n",
       "      <th>std</th>\n",
       "      <td>926.502833</td>\n",
       "      <td>0.317927</td>\n",
       "      <td>1.035092</td>\n",
       "      <td>3.714191</td>\n",
       "      <td>8.784084</td>\n",
       "      <td>90.520118</td>\n",
       "      <td>8.441670</td>\n",
       "      <td>7.182029</td>\n",
       "      <td>1810.630464</td>\n",
       "      <td>88.936372</td>\n",
       "      <td>8.773910</td>\n",
       "      <td>NaN</td>\n",
       "      <td>NaN</td>\n",
       "      <td>81.798528</td>\n",
       "    </tr>\n",
       "    <tr>\n",
       "      <th>min</th>\n",
       "      <td>1001.000000</td>\n",
       "      <td>1.000000</td>\n",
       "      <td>1.000000</td>\n",
       "      <td>0.000000</td>\n",
       "      <td>3.000000</td>\n",
       "      <td>100.000000</td>\n",
       "      <td>1.000000</td>\n",
       "      <td>1.000000</td>\n",
       "      <td>0.000000</td>\n",
       "      <td>0.000000</td>\n",
       "      <td>0.000000</td>\n",
       "      <td>NaN</td>\n",
       "      <td>NaN</td>\n",
       "      <td>100.000000</td>\n",
       "    </tr>\n",
       "    <tr>\n",
       "      <th>25%</th>\n",
       "      <td>1803.000000</td>\n",
       "      <td>1.000000</td>\n",
       "      <td>1.000000</td>\n",
       "      <td>4.000000</td>\n",
       "      <td>6.000000</td>\n",
       "      <td>301.000000</td>\n",
       "      <td>11.000000</td>\n",
       "      <td>10.000000</td>\n",
       "      <td>446.000000</td>\n",
       "      <td>37.000000</td>\n",
       "      <td>10.000000</td>\n",
       "      <td>NaN</td>\n",
       "      <td>NaN</td>\n",
       "      <td>116.640000</td>\n",
       "    </tr>\n",
       "    <tr>\n",
       "      <th>50%</th>\n",
       "      <td>2605.000000</td>\n",
       "      <td>1.000000</td>\n",
       "      <td>2.000000</td>\n",
       "      <td>5.000000</td>\n",
       "      <td>7.000000</td>\n",
       "      <td>368.000000</td>\n",
       "      <td>14.000000</td>\n",
       "      <td>13.000000</td>\n",
       "      <td>1029.000000</td>\n",
       "      <td>70.000000</td>\n",
       "      <td>14.000000</td>\n",
       "      <td>NaN</td>\n",
       "      <td>NaN</td>\n",
       "      <td>142.390000</td>\n",
       "    </tr>\n",
       "    <tr>\n",
       "      <th>75%</th>\n",
       "      <td>3407.000000</td>\n",
       "      <td>1.000000</td>\n",
       "      <td>3.000000</td>\n",
       "      <td>6.000000</td>\n",
       "      <td>8.000000</td>\n",
       "      <td>417.000000</td>\n",
       "      <td>19.000000</td>\n",
       "      <td>17.000000</td>\n",
       "      <td>2029.000000</td>\n",
       "      <td>119.000000</td>\n",
       "      <td>19.000000</td>\n",
       "      <td>NaN</td>\n",
       "      <td>NaN</td>\n",
       "      <td>191.250000</td>\n",
       "    </tr>\n",
       "    <tr>\n",
       "      <th>max</th>\n",
       "      <td>4209.000000</td>\n",
       "      <td>2.000000</td>\n",
       "      <td>11.000000</td>\n",
       "      <td>113.000000</td>\n",
       "      <td>113.000000</td>\n",
       "      <td>472.000000</td>\n",
       "      <td>119.000000</td>\n",
       "      <td>112.000000</td>\n",
       "      <td>27829.000000</td>\n",
       "      <td>1166.000000</td>\n",
       "      <td>115.000000</td>\n",
       "      <td>NaN</td>\n",
       "      <td>NaN</td>\n",
       "      <td>990.560000</td>\n",
       "    </tr>\n",
       "  </tbody>\n",
       "</table>\n",
       "</div>"
      ],
      "text/plain": [
       "         CustomerID         City  NoOfChildren  MinAgeOfChild  MaxAgeOfChild  \\\n",
       "count   3209.000000  3209.000000   3209.000000    3209.000000    3209.000000   \n",
       "unique          NaN          NaN           NaN            NaN            NaN   \n",
       "top             NaN          NaN           NaN            NaN            NaN   \n",
       "freq            NaN          NaN           NaN            NaN            NaN   \n",
       "mean    2605.000000     1.114054      2.128389       4.960735       7.990651   \n",
       "std      926.502833     0.317927      1.035092       3.714191       8.784084   \n",
       "min     1001.000000     1.000000      1.000000       0.000000       3.000000   \n",
       "25%     1803.000000     1.000000      1.000000       4.000000       6.000000   \n",
       "50%     2605.000000     1.000000      2.000000       5.000000       7.000000   \n",
       "75%     3407.000000     1.000000      3.000000       6.000000       8.000000   \n",
       "max     4209.000000     2.000000     11.000000     113.000000     113.000000   \n",
       "\n",
       "             Tenure  FrequencyOfPurchase  NoOfUnitsPurchased  FrequencyOFPlay  \\\n",
       "count   3209.000000          3209.000000         3209.000000      3209.000000   \n",
       "unique          NaN                  NaN                 NaN              NaN   \n",
       "top             NaN                  NaN                 NaN              NaN   \n",
       "freq            NaN                  NaN                 NaN              NaN   \n",
       "mean     347.520411            16.269554           14.684014      1568.207853   \n",
       "std       90.520118             8.441670            7.182029      1810.630464   \n",
       "min      100.000000             1.000000            1.000000         0.000000   \n",
       "25%      301.000000            11.000000           10.000000       446.000000   \n",
       "50%      368.000000            14.000000           13.000000      1029.000000   \n",
       "75%      417.000000            19.000000           17.000000      2029.000000   \n",
       "max      472.000000           119.000000          112.000000     27829.000000   \n",
       "\n",
       "        NoOfGamesPlayed  NoOfGamesBought FavoriteChannelOfTransaction  \\\n",
       "count       3209.000000      3209.000000                         3209   \n",
       "unique              NaN              NaN                            2   \n",
       "top                 NaN              NaN                     Favorite   \n",
       "freq                NaN              NaN                         2637   \n",
       "mean          93.627921        14.761608                          NaN   \n",
       "std           88.936372         8.773910                          NaN   \n",
       "min            0.000000         0.000000                          NaN   \n",
       "25%           37.000000        10.000000                          NaN   \n",
       "50%           70.000000        14.000000                          NaN   \n",
       "75%          119.000000        19.000000                          NaN   \n",
       "max         1166.000000       115.000000                          NaN   \n",
       "\n",
       "       FavoriteGame  TotalRevenueGenerated  \n",
       "count          3209            3209.000000  \n",
       "unique            2                    NaN  \n",
       "top         Uniform                    NaN  \n",
       "freq           3083                    NaN  \n",
       "mean            NaN             168.477183  \n",
       "std             NaN              81.798528  \n",
       "min             NaN             100.000000  \n",
       "25%             NaN             116.640000  \n",
       "50%             NaN             142.390000  \n",
       "75%             NaN             191.250000  \n",
       "max             NaN             990.560000  "
      ]
     },
     "execution_count": 11,
     "metadata": {},
     "output_type": "execute_result"
    }
   ],
   "source": []
  },
  {
   "cell_type": "markdown",
   "metadata": {},
   "source": [
    "#### Data type of each of the variable"
   ]
  },
  {
   "cell_type": "code",
   "execution_count": 12,
   "metadata": {},
   "outputs": [
    {
     "data": {
      "text/plain": [
       "CustomerID                        int64\n",
       "City                              int64\n",
       "NoOfChildren                      int64\n",
       "MinAgeOfChild                     int64\n",
       "MaxAgeOfChild                     int64\n",
       "Tenure                            int64\n",
       "FrequencyOfPurchase               int64\n",
       "NoOfUnitsPurchased                int64\n",
       "FrequencyOFPlay                   int64\n",
       "NoOfGamesPlayed                   int64\n",
       "NoOfGamesBought                   int64\n",
       "FavoriteChannelOfTransaction     object\n",
       "FavoriteGame                     object\n",
       "TotalRevenueGenerated           float64\n",
       "dtype: object"
      ]
     },
     "execution_count": 12,
     "metadata": {},
     "output_type": "execute_result"
    }
   ],
   "source": []
  },
  {
   "cell_type": "markdown",
   "metadata": {},
   "source": [
    "### Data Preparation"
   ]
  },
  {
   "cell_type": "markdown",
   "metadata": {
    "collapsed": true
   },
   "source": [
    "#### Observations:\n",
    "    1. City is interpreted as numeric (which is actually categorical) and FavouriteGame, FavouriteChannelOfTransaction are interpreted as objects.\n",
    "    2. max age of children is 113 which must be a wrong entry\n",
    "    3. Summary statistics for CustomerID is not meaningful\n",
    "\n",
    "So we now change these appropriately i.e, convert city, favourite game and favourite channel to category, exclude customer id from the data for analysis and treat wrong entry records"
   ]
  },
  {
   "cell_type": "markdown",
   "metadata": {},
   "source": [
    "#### Check and delete CustomerID attribute"
   ]
  },
  {
   "cell_type": "code",
   "execution_count": 15,
   "metadata": {},
   "outputs": [],
   "source": [
    "data.drop('CustomerID', axis=1, inplace=True)"
   ]
  },
  {
   "cell_type": "markdown",
   "metadata": {},
   "source": [
    "#### Data type conversion \n",
    "    Using astype('category') convert 'City', 'FavoriteChannelOfTransaction', 'FavoriteGame' attributes to a categorical data type."
   ]
  },
  {
   "cell_type": "code",
   "execution_count": 16,
   "metadata": {},
   "outputs": [],
   "source": [
    "for col in ['City', 'FavoriteChannelOfTransaction', 'FavoriteGame']:\n",
    "    data[col] = data[col].astype('category')"
   ]
  },
  {
   "cell_type": "code",
   "execution_count": 17,
   "metadata": {},
   "outputs": [
    {
     "data": {
      "text/plain": [
       "City                            category\n",
       "NoOfChildren                       int64\n",
       "MinAgeOfChild                      int64\n",
       "MaxAgeOfChild                      int64\n",
       "Tenure                             int64\n",
       "FrequencyOfPurchase                int64\n",
       "NoOfUnitsPurchased                 int64\n",
       "FrequencyOFPlay                    int64\n",
       "NoOfGamesPlayed                    int64\n",
       "NoOfGamesBought                    int64\n",
       "FavoriteChannelOfTransaction    category\n",
       "FavoriteGame                    category\n",
       "TotalRevenueGenerated            float64\n",
       "dtype: object"
      ]
     },
     "execution_count": 17,
     "metadata": {},
     "output_type": "execute_result"
    }
   ],
   "source": []
  },
  {
   "cell_type": "code",
   "execution_count": 18,
   "metadata": {},
   "outputs": [
    {
     "data": {
      "text/html": [
       "<div>\n",
       "<style scoped>\n",
       "    .dataframe tbody tr th:only-of-type {\n",
       "        vertical-align: middle;\n",
       "    }\n",
       "\n",
       "    .dataframe tbody tr th {\n",
       "        vertical-align: top;\n",
       "    }\n",
       "\n",
       "    .dataframe thead th {\n",
       "        text-align: right;\n",
       "    }\n",
       "</style>\n",
       "<table border=\"1\" class=\"dataframe\">\n",
       "  <thead>\n",
       "    <tr style=\"text-align: right;\">\n",
       "      <th></th>\n",
       "      <th>City</th>\n",
       "      <th>NoOfChildren</th>\n",
       "      <th>MinAgeOfChild</th>\n",
       "      <th>MaxAgeOfChild</th>\n",
       "      <th>Tenure</th>\n",
       "      <th>FrequencyOfPurchase</th>\n",
       "      <th>NoOfUnitsPurchased</th>\n",
       "      <th>FrequencyOFPlay</th>\n",
       "      <th>NoOfGamesPlayed</th>\n",
       "      <th>NoOfGamesBought</th>\n",
       "      <th>FavoriteChannelOfTransaction</th>\n",
       "      <th>FavoriteGame</th>\n",
       "      <th>TotalRevenueGenerated</th>\n",
       "    </tr>\n",
       "  </thead>\n",
       "  <tbody>\n",
       "    <tr>\n",
       "      <th>count</th>\n",
       "      <td>3209.0</td>\n",
       "      <td>3209.000000</td>\n",
       "      <td>3209.000000</td>\n",
       "      <td>3209.000000</td>\n",
       "      <td>3209.000000</td>\n",
       "      <td>3209.000000</td>\n",
       "      <td>3209.000000</td>\n",
       "      <td>3209.000000</td>\n",
       "      <td>3209.000000</td>\n",
       "      <td>3209.000000</td>\n",
       "      <td>3209</td>\n",
       "      <td>3209</td>\n",
       "      <td>3209.000000</td>\n",
       "    </tr>\n",
       "    <tr>\n",
       "      <th>unique</th>\n",
       "      <td>2.0</td>\n",
       "      <td>NaN</td>\n",
       "      <td>NaN</td>\n",
       "      <td>NaN</td>\n",
       "      <td>NaN</td>\n",
       "      <td>NaN</td>\n",
       "      <td>NaN</td>\n",
       "      <td>NaN</td>\n",
       "      <td>NaN</td>\n",
       "      <td>NaN</td>\n",
       "      <td>2</td>\n",
       "      <td>2</td>\n",
       "      <td>NaN</td>\n",
       "    </tr>\n",
       "    <tr>\n",
       "      <th>top</th>\n",
       "      <td>1.0</td>\n",
       "      <td>NaN</td>\n",
       "      <td>NaN</td>\n",
       "      <td>NaN</td>\n",
       "      <td>NaN</td>\n",
       "      <td>NaN</td>\n",
       "      <td>NaN</td>\n",
       "      <td>NaN</td>\n",
       "      <td>NaN</td>\n",
       "      <td>NaN</td>\n",
       "      <td>Favorite</td>\n",
       "      <td>Uniform</td>\n",
       "      <td>NaN</td>\n",
       "    </tr>\n",
       "    <tr>\n",
       "      <th>freq</th>\n",
       "      <td>2843.0</td>\n",
       "      <td>NaN</td>\n",
       "      <td>NaN</td>\n",
       "      <td>NaN</td>\n",
       "      <td>NaN</td>\n",
       "      <td>NaN</td>\n",
       "      <td>NaN</td>\n",
       "      <td>NaN</td>\n",
       "      <td>NaN</td>\n",
       "      <td>NaN</td>\n",
       "      <td>2637</td>\n",
       "      <td>3083</td>\n",
       "      <td>NaN</td>\n",
       "    </tr>\n",
       "    <tr>\n",
       "      <th>mean</th>\n",
       "      <td>NaN</td>\n",
       "      <td>2.128389</td>\n",
       "      <td>4.960735</td>\n",
       "      <td>7.990651</td>\n",
       "      <td>347.520411</td>\n",
       "      <td>16.269554</td>\n",
       "      <td>14.684014</td>\n",
       "      <td>1568.207853</td>\n",
       "      <td>93.627921</td>\n",
       "      <td>14.761608</td>\n",
       "      <td>NaN</td>\n",
       "      <td>NaN</td>\n",
       "      <td>168.477183</td>\n",
       "    </tr>\n",
       "    <tr>\n",
       "      <th>std</th>\n",
       "      <td>NaN</td>\n",
       "      <td>1.035092</td>\n",
       "      <td>3.714191</td>\n",
       "      <td>8.784084</td>\n",
       "      <td>90.520118</td>\n",
       "      <td>8.441670</td>\n",
       "      <td>7.182029</td>\n",
       "      <td>1810.630464</td>\n",
       "      <td>88.936372</td>\n",
       "      <td>8.773910</td>\n",
       "      <td>NaN</td>\n",
       "      <td>NaN</td>\n",
       "      <td>81.798528</td>\n",
       "    </tr>\n",
       "    <tr>\n",
       "      <th>min</th>\n",
       "      <td>NaN</td>\n",
       "      <td>1.000000</td>\n",
       "      <td>0.000000</td>\n",
       "      <td>3.000000</td>\n",
       "      <td>100.000000</td>\n",
       "      <td>1.000000</td>\n",
       "      <td>1.000000</td>\n",
       "      <td>0.000000</td>\n",
       "      <td>0.000000</td>\n",
       "      <td>0.000000</td>\n",
       "      <td>NaN</td>\n",
       "      <td>NaN</td>\n",
       "      <td>100.000000</td>\n",
       "    </tr>\n",
       "    <tr>\n",
       "      <th>25%</th>\n",
       "      <td>NaN</td>\n",
       "      <td>1.000000</td>\n",
       "      <td>4.000000</td>\n",
       "      <td>6.000000</td>\n",
       "      <td>301.000000</td>\n",
       "      <td>11.000000</td>\n",
       "      <td>10.000000</td>\n",
       "      <td>446.000000</td>\n",
       "      <td>37.000000</td>\n",
       "      <td>10.000000</td>\n",
       "      <td>NaN</td>\n",
       "      <td>NaN</td>\n",
       "      <td>116.640000</td>\n",
       "    </tr>\n",
       "    <tr>\n",
       "      <th>50%</th>\n",
       "      <td>NaN</td>\n",
       "      <td>2.000000</td>\n",
       "      <td>5.000000</td>\n",
       "      <td>7.000000</td>\n",
       "      <td>368.000000</td>\n",
       "      <td>14.000000</td>\n",
       "      <td>13.000000</td>\n",
       "      <td>1029.000000</td>\n",
       "      <td>70.000000</td>\n",
       "      <td>14.000000</td>\n",
       "      <td>NaN</td>\n",
       "      <td>NaN</td>\n",
       "      <td>142.390000</td>\n",
       "    </tr>\n",
       "    <tr>\n",
       "      <th>75%</th>\n",
       "      <td>NaN</td>\n",
       "      <td>3.000000</td>\n",
       "      <td>6.000000</td>\n",
       "      <td>8.000000</td>\n",
       "      <td>417.000000</td>\n",
       "      <td>19.000000</td>\n",
       "      <td>17.000000</td>\n",
       "      <td>2029.000000</td>\n",
       "      <td>119.000000</td>\n",
       "      <td>19.000000</td>\n",
       "      <td>NaN</td>\n",
       "      <td>NaN</td>\n",
       "      <td>191.250000</td>\n",
       "    </tr>\n",
       "    <tr>\n",
       "      <th>max</th>\n",
       "      <td>NaN</td>\n",
       "      <td>11.000000</td>\n",
       "      <td>113.000000</td>\n",
       "      <td>113.000000</td>\n",
       "      <td>472.000000</td>\n",
       "      <td>119.000000</td>\n",
       "      <td>112.000000</td>\n",
       "      <td>27829.000000</td>\n",
       "      <td>1166.000000</td>\n",
       "      <td>115.000000</td>\n",
       "      <td>NaN</td>\n",
       "      <td>NaN</td>\n",
       "      <td>990.560000</td>\n",
       "    </tr>\n",
       "  </tbody>\n",
       "</table>\n",
       "</div>"
      ],
      "text/plain": [
       "          City  NoOfChildren  MinAgeOfChild  MaxAgeOfChild       Tenure  \\\n",
       "count   3209.0   3209.000000    3209.000000    3209.000000  3209.000000   \n",
       "unique     2.0           NaN            NaN            NaN          NaN   \n",
       "top        1.0           NaN            NaN            NaN          NaN   \n",
       "freq    2843.0           NaN            NaN            NaN          NaN   \n",
       "mean       NaN      2.128389       4.960735       7.990651   347.520411   \n",
       "std        NaN      1.035092       3.714191       8.784084    90.520118   \n",
       "min        NaN      1.000000       0.000000       3.000000   100.000000   \n",
       "25%        NaN      1.000000       4.000000       6.000000   301.000000   \n",
       "50%        NaN      2.000000       5.000000       7.000000   368.000000   \n",
       "75%        NaN      3.000000       6.000000       8.000000   417.000000   \n",
       "max        NaN     11.000000     113.000000     113.000000   472.000000   \n",
       "\n",
       "        FrequencyOfPurchase  NoOfUnitsPurchased  FrequencyOFPlay  \\\n",
       "count           3209.000000         3209.000000      3209.000000   \n",
       "unique                  NaN                 NaN              NaN   \n",
       "top                     NaN                 NaN              NaN   \n",
       "freq                    NaN                 NaN              NaN   \n",
       "mean              16.269554           14.684014      1568.207853   \n",
       "std                8.441670            7.182029      1810.630464   \n",
       "min                1.000000            1.000000         0.000000   \n",
       "25%               11.000000           10.000000       446.000000   \n",
       "50%               14.000000           13.000000      1029.000000   \n",
       "75%               19.000000           17.000000      2029.000000   \n",
       "max              119.000000          112.000000     27829.000000   \n",
       "\n",
       "        NoOfGamesPlayed  NoOfGamesBought FavoriteChannelOfTransaction  \\\n",
       "count       3209.000000      3209.000000                         3209   \n",
       "unique              NaN              NaN                            2   \n",
       "top                 NaN              NaN                     Favorite   \n",
       "freq                NaN              NaN                         2637   \n",
       "mean          93.627921        14.761608                          NaN   \n",
       "std           88.936372         8.773910                          NaN   \n",
       "min            0.000000         0.000000                          NaN   \n",
       "25%           37.000000        10.000000                          NaN   \n",
       "50%           70.000000        14.000000                          NaN   \n",
       "75%          119.000000        19.000000                          NaN   \n",
       "max         1166.000000       115.000000                          NaN   \n",
       "\n",
       "       FavoriteGame  TotalRevenueGenerated  \n",
       "count          3209            3209.000000  \n",
       "unique            2                    NaN  \n",
       "top         Uniform                    NaN  \n",
       "freq           3083                    NaN  \n",
       "mean            NaN             168.477183  \n",
       "std             NaN              81.798528  \n",
       "min             NaN             100.000000  \n",
       "25%             NaN             116.640000  \n",
       "50%             NaN             142.390000  \n",
       "75%             NaN             191.250000  \n",
       "max             NaN             990.560000  "
      ]
     },
     "execution_count": 18,
     "metadata": {},
     "output_type": "execute_result"
    }
   ],
   "source": []
  },
  {
   "cell_type": "markdown",
   "metadata": {},
   "source": [
    "Observe how many records have values 113 as age of the children"
   ]
  },
  {
   "cell_type": "code",
   "execution_count": 19,
   "metadata": {},
   "outputs": [
    {
     "data": {
      "text/html": [
       "<div>\n",
       "<style scoped>\n",
       "    .dataframe tbody tr th:only-of-type {\n",
       "        vertical-align: middle;\n",
       "    }\n",
       "\n",
       "    .dataframe tbody tr th {\n",
       "        vertical-align: top;\n",
       "    }\n",
       "\n",
       "    .dataframe thead th {\n",
       "        text-align: right;\n",
       "    }\n",
       "</style>\n",
       "<table border=\"1\" class=\"dataframe\">\n",
       "  <thead>\n",
       "    <tr style=\"text-align: right;\">\n",
       "      <th></th>\n",
       "      <th>City</th>\n",
       "      <th>NoOfChildren</th>\n",
       "      <th>MinAgeOfChild</th>\n",
       "      <th>MaxAgeOfChild</th>\n",
       "      <th>Tenure</th>\n",
       "      <th>FrequencyOfPurchase</th>\n",
       "      <th>NoOfUnitsPurchased</th>\n",
       "      <th>FrequencyOFPlay</th>\n",
       "      <th>NoOfGamesPlayed</th>\n",
       "      <th>NoOfGamesBought</th>\n",
       "      <th>FavoriteChannelOfTransaction</th>\n",
       "      <th>FavoriteGame</th>\n",
       "      <th>TotalRevenueGenerated</th>\n",
       "    </tr>\n",
       "  </thead>\n",
       "  <tbody>\n",
       "    <tr>\n",
       "      <th>570</th>\n",
       "      <td>1</td>\n",
       "      <td>2</td>\n",
       "      <td>4</td>\n",
       "      <td>113</td>\n",
       "      <td>205</td>\n",
       "      <td>17</td>\n",
       "      <td>17</td>\n",
       "      <td>158</td>\n",
       "      <td>51</td>\n",
       "      <td>8</td>\n",
       "      <td>Favorite</td>\n",
       "      <td>Uniform</td>\n",
       "      <td>218.85</td>\n",
       "    </tr>\n",
       "    <tr>\n",
       "      <th>584</th>\n",
       "      <td>1</td>\n",
       "      <td>2</td>\n",
       "      <td>3</td>\n",
       "      <td>113</td>\n",
       "      <td>379</td>\n",
       "      <td>6</td>\n",
       "      <td>6</td>\n",
       "      <td>242</td>\n",
       "      <td>32</td>\n",
       "      <td>0</td>\n",
       "      <td>Favorite</td>\n",
       "      <td>Uniform</td>\n",
       "      <td>100.44</td>\n",
       "    </tr>\n",
       "    <tr>\n",
       "      <th>599</th>\n",
       "      <td>1</td>\n",
       "      <td>2</td>\n",
       "      <td>113</td>\n",
       "      <td>113</td>\n",
       "      <td>436</td>\n",
       "      <td>26</td>\n",
       "      <td>26</td>\n",
       "      <td>10502</td>\n",
       "      <td>562</td>\n",
       "      <td>26</td>\n",
       "      <td>Favorite</td>\n",
       "      <td>Uniform</td>\n",
       "      <td>300.00</td>\n",
       "    </tr>\n",
       "    <tr>\n",
       "      <th>804</th>\n",
       "      <td>1</td>\n",
       "      <td>3</td>\n",
       "      <td>6</td>\n",
       "      <td>113</td>\n",
       "      <td>286</td>\n",
       "      <td>6</td>\n",
       "      <td>6</td>\n",
       "      <td>2137</td>\n",
       "      <td>72</td>\n",
       "      <td>6</td>\n",
       "      <td>Favorite</td>\n",
       "      <td>Uniform</td>\n",
       "      <td>102.50</td>\n",
       "    </tr>\n",
       "    <tr>\n",
       "      <th>878</th>\n",
       "      <td>1</td>\n",
       "      <td>2</td>\n",
       "      <td>5</td>\n",
       "      <td>113</td>\n",
       "      <td>202</td>\n",
       "      <td>9</td>\n",
       "      <td>8</td>\n",
       "      <td>483</td>\n",
       "      <td>68</td>\n",
       "      <td>9</td>\n",
       "      <td>Favorite</td>\n",
       "      <td>Uniform</td>\n",
       "      <td>105.00</td>\n",
       "    </tr>\n",
       "    <tr>\n",
       "      <th>897</th>\n",
       "      <td>1</td>\n",
       "      <td>2</td>\n",
       "      <td>5</td>\n",
       "      <td>113</td>\n",
       "      <td>355</td>\n",
       "      <td>16</td>\n",
       "      <td>16</td>\n",
       "      <td>1700</td>\n",
       "      <td>142</td>\n",
       "      <td>10</td>\n",
       "      <td>Favorite</td>\n",
       "      <td>Uniform</td>\n",
       "      <td>270.00</td>\n",
       "    </tr>\n",
       "    <tr>\n",
       "      <th>1097</th>\n",
       "      <td>1</td>\n",
       "      <td>3</td>\n",
       "      <td>6</td>\n",
       "      <td>113</td>\n",
       "      <td>432</td>\n",
       "      <td>12</td>\n",
       "      <td>12</td>\n",
       "      <td>2261</td>\n",
       "      <td>194</td>\n",
       "      <td>12</td>\n",
       "      <td>Favorite</td>\n",
       "      <td>Uniform</td>\n",
       "      <td>160.00</td>\n",
       "    </tr>\n",
       "    <tr>\n",
       "      <th>1144</th>\n",
       "      <td>1</td>\n",
       "      <td>3</td>\n",
       "      <td>5</td>\n",
       "      <td>113</td>\n",
       "      <td>405</td>\n",
       "      <td>16</td>\n",
       "      <td>14</td>\n",
       "      <td>4438</td>\n",
       "      <td>130</td>\n",
       "      <td>16</td>\n",
       "      <td>Uniform</td>\n",
       "      <td>Uniform</td>\n",
       "      <td>117.50</td>\n",
       "    </tr>\n",
       "    <tr>\n",
       "      <th>1413</th>\n",
       "      <td>1</td>\n",
       "      <td>3</td>\n",
       "      <td>4</td>\n",
       "      <td>113</td>\n",
       "      <td>171</td>\n",
       "      <td>15</td>\n",
       "      <td>11</td>\n",
       "      <td>1728</td>\n",
       "      <td>41</td>\n",
       "      <td>15</td>\n",
       "      <td>Favorite</td>\n",
       "      <td>Uniform</td>\n",
       "      <td>107.50</td>\n",
       "    </tr>\n",
       "    <tr>\n",
       "      <th>1621</th>\n",
       "      <td>1</td>\n",
       "      <td>2</td>\n",
       "      <td>6</td>\n",
       "      <td>113</td>\n",
       "      <td>187</td>\n",
       "      <td>10</td>\n",
       "      <td>9</td>\n",
       "      <td>731</td>\n",
       "      <td>39</td>\n",
       "      <td>10</td>\n",
       "      <td>Uniform</td>\n",
       "      <td>Uniform</td>\n",
       "      <td>115.00</td>\n",
       "    </tr>\n",
       "    <tr>\n",
       "      <th>1658</th>\n",
       "      <td>1</td>\n",
       "      <td>2</td>\n",
       "      <td>4</td>\n",
       "      <td>113</td>\n",
       "      <td>262</td>\n",
       "      <td>10</td>\n",
       "      <td>9</td>\n",
       "      <td>465</td>\n",
       "      <td>36</td>\n",
       "      <td>8</td>\n",
       "      <td>Favorite</td>\n",
       "      <td>Favorite</td>\n",
       "      <td>120.48</td>\n",
       "    </tr>\n",
       "    <tr>\n",
       "      <th>1719</th>\n",
       "      <td>1</td>\n",
       "      <td>2</td>\n",
       "      <td>5</td>\n",
       "      <td>113</td>\n",
       "      <td>207</td>\n",
       "      <td>11</td>\n",
       "      <td>11</td>\n",
       "      <td>376</td>\n",
       "      <td>40</td>\n",
       "      <td>11</td>\n",
       "      <td>Favorite</td>\n",
       "      <td>Uniform</td>\n",
       "      <td>120.00</td>\n",
       "    </tr>\n",
       "    <tr>\n",
       "      <th>1833</th>\n",
       "      <td>1</td>\n",
       "      <td>2</td>\n",
       "      <td>5</td>\n",
       "      <td>113</td>\n",
       "      <td>332</td>\n",
       "      <td>13</td>\n",
       "      <td>13</td>\n",
       "      <td>266</td>\n",
       "      <td>37</td>\n",
       "      <td>13</td>\n",
       "      <td>Favorite</td>\n",
       "      <td>Uniform</td>\n",
       "      <td>127.51</td>\n",
       "    </tr>\n",
       "    <tr>\n",
       "      <th>1834</th>\n",
       "      <td>1</td>\n",
       "      <td>3</td>\n",
       "      <td>3</td>\n",
       "      <td>113</td>\n",
       "      <td>407</td>\n",
       "      <td>26</td>\n",
       "      <td>25</td>\n",
       "      <td>4457</td>\n",
       "      <td>313</td>\n",
       "      <td>24</td>\n",
       "      <td>Favorite</td>\n",
       "      <td>Uniform</td>\n",
       "      <td>212.51</td>\n",
       "    </tr>\n",
       "    <tr>\n",
       "      <th>1874</th>\n",
       "      <td>1</td>\n",
       "      <td>5</td>\n",
       "      <td>5</td>\n",
       "      <td>113</td>\n",
       "      <td>326</td>\n",
       "      <td>10</td>\n",
       "      <td>10</td>\n",
       "      <td>1433</td>\n",
       "      <td>37</td>\n",
       "      <td>10</td>\n",
       "      <td>Favorite</td>\n",
       "      <td>Uniform</td>\n",
       "      <td>120.00</td>\n",
       "    </tr>\n",
       "    <tr>\n",
       "      <th>2264</th>\n",
       "      <td>1</td>\n",
       "      <td>1</td>\n",
       "      <td>113</td>\n",
       "      <td>113</td>\n",
       "      <td>366</td>\n",
       "      <td>32</td>\n",
       "      <td>29</td>\n",
       "      <td>3067</td>\n",
       "      <td>188</td>\n",
       "      <td>32</td>\n",
       "      <td>Favorite</td>\n",
       "      <td>Uniform</td>\n",
       "      <td>378.76</td>\n",
       "    </tr>\n",
       "    <tr>\n",
       "      <th>2324</th>\n",
       "      <td>1</td>\n",
       "      <td>4</td>\n",
       "      <td>5</td>\n",
       "      <td>113</td>\n",
       "      <td>184</td>\n",
       "      <td>27</td>\n",
       "      <td>25</td>\n",
       "      <td>355</td>\n",
       "      <td>74</td>\n",
       "      <td>27</td>\n",
       "      <td>Uniform</td>\n",
       "      <td>Uniform</td>\n",
       "      <td>235.04</td>\n",
       "    </tr>\n",
       "    <tr>\n",
       "      <th>2627</th>\n",
       "      <td>1</td>\n",
       "      <td>6</td>\n",
       "      <td>9</td>\n",
       "      <td>113</td>\n",
       "      <td>436</td>\n",
       "      <td>25</td>\n",
       "      <td>21</td>\n",
       "      <td>1898</td>\n",
       "      <td>260</td>\n",
       "      <td>23</td>\n",
       "      <td>Favorite</td>\n",
       "      <td>Uniform</td>\n",
       "      <td>240.98</td>\n",
       "    </tr>\n",
       "    <tr>\n",
       "      <th>2728</th>\n",
       "      <td>1</td>\n",
       "      <td>1</td>\n",
       "      <td>113</td>\n",
       "      <td>113</td>\n",
       "      <td>419</td>\n",
       "      <td>17</td>\n",
       "      <td>17</td>\n",
       "      <td>610</td>\n",
       "      <td>48</td>\n",
       "      <td>16</td>\n",
       "      <td>Favorite</td>\n",
       "      <td>Uniform</td>\n",
       "      <td>159.99</td>\n",
       "    </tr>\n",
       "    <tr>\n",
       "      <th>2742</th>\n",
       "      <td>1</td>\n",
       "      <td>4</td>\n",
       "      <td>5</td>\n",
       "      <td>113</td>\n",
       "      <td>321</td>\n",
       "      <td>11</td>\n",
       "      <td>9</td>\n",
       "      <td>267</td>\n",
       "      <td>38</td>\n",
       "      <td>11</td>\n",
       "      <td>Favorite</td>\n",
       "      <td>Uniform</td>\n",
       "      <td>172.50</td>\n",
       "    </tr>\n",
       "  </tbody>\n",
       "</table>\n",
       "</div>"
      ],
      "text/plain": [
       "     City  NoOfChildren  MinAgeOfChild  MaxAgeOfChild  Tenure  \\\n",
       "570     1             2              4            113     205   \n",
       "584     1             2              3            113     379   \n",
       "599     1             2            113            113     436   \n",
       "804     1             3              6            113     286   \n",
       "878     1             2              5            113     202   \n",
       "897     1             2              5            113     355   \n",
       "1097    1             3              6            113     432   \n",
       "1144    1             3              5            113     405   \n",
       "1413    1             3              4            113     171   \n",
       "1621    1             2              6            113     187   \n",
       "1658    1             2              4            113     262   \n",
       "1719    1             2              5            113     207   \n",
       "1833    1             2              5            113     332   \n",
       "1834    1             3              3            113     407   \n",
       "1874    1             5              5            113     326   \n",
       "2264    1             1            113            113     366   \n",
       "2324    1             4              5            113     184   \n",
       "2627    1             6              9            113     436   \n",
       "2728    1             1            113            113     419   \n",
       "2742    1             4              5            113     321   \n",
       "\n",
       "      FrequencyOfPurchase  NoOfUnitsPurchased  FrequencyOFPlay  \\\n",
       "570                    17                  17              158   \n",
       "584                     6                   6              242   \n",
       "599                    26                  26            10502   \n",
       "804                     6                   6             2137   \n",
       "878                     9                   8              483   \n",
       "897                    16                  16             1700   \n",
       "1097                   12                  12             2261   \n",
       "1144                   16                  14             4438   \n",
       "1413                   15                  11             1728   \n",
       "1621                   10                   9              731   \n",
       "1658                   10                   9              465   \n",
       "1719                   11                  11              376   \n",
       "1833                   13                  13              266   \n",
       "1834                   26                  25             4457   \n",
       "1874                   10                  10             1433   \n",
       "2264                   32                  29             3067   \n",
       "2324                   27                  25              355   \n",
       "2627                   25                  21             1898   \n",
       "2728                   17                  17              610   \n",
       "2742                   11                   9              267   \n",
       "\n",
       "      NoOfGamesPlayed  NoOfGamesBought FavoriteChannelOfTransaction  \\\n",
       "570                51                8                     Favorite   \n",
       "584                32                0                     Favorite   \n",
       "599               562               26                     Favorite   \n",
       "804                72                6                     Favorite   \n",
       "878                68                9                     Favorite   \n",
       "897               142               10                     Favorite   \n",
       "1097              194               12                     Favorite   \n",
       "1144              130               16                      Uniform   \n",
       "1413               41               15                     Favorite   \n",
       "1621               39               10                      Uniform   \n",
       "1658               36                8                     Favorite   \n",
       "1719               40               11                     Favorite   \n",
       "1833               37               13                     Favorite   \n",
       "1834              313               24                     Favorite   \n",
       "1874               37               10                     Favorite   \n",
       "2264              188               32                     Favorite   \n",
       "2324               74               27                      Uniform   \n",
       "2627              260               23                     Favorite   \n",
       "2728               48               16                     Favorite   \n",
       "2742               38               11                     Favorite   \n",
       "\n",
       "     FavoriteGame  TotalRevenueGenerated  \n",
       "570       Uniform                 218.85  \n",
       "584       Uniform                 100.44  \n",
       "599       Uniform                 300.00  \n",
       "804       Uniform                 102.50  \n",
       "878       Uniform                 105.00  \n",
       "897       Uniform                 270.00  \n",
       "1097      Uniform                 160.00  \n",
       "1144      Uniform                 117.50  \n",
       "1413      Uniform                 107.50  \n",
       "1621      Uniform                 115.00  \n",
       "1658     Favorite                 120.48  \n",
       "1719      Uniform                 120.00  \n",
       "1833      Uniform                 127.51  \n",
       "1834      Uniform                 212.51  \n",
       "1874      Uniform                 120.00  \n",
       "2264      Uniform                 378.76  \n",
       "2324      Uniform                 235.04  \n",
       "2627      Uniform                 240.98  \n",
       "2728      Uniform                 159.99  \n",
       "2742      Uniform                 172.50  "
      ]
     },
     "execution_count": 19,
     "metadata": {},
     "output_type": "execute_result"
    }
   ],
   "source": [
    "data.loc[(data['MinAgeOfChild']==113) | (data['MaxAgeOfChild']==113),] #Only colon after comma implies consider all the rows"
   ]
  },
  {
   "cell_type": "code",
   "execution_count": 20,
   "metadata": {},
   "outputs": [
    {
     "name": "stdout",
     "output_type": "stream",
     "text": [
      "(3209, 13)\n"
     ]
    }
   ],
   "source": []
  },
  {
   "cell_type": "markdown",
   "metadata": {},
   "source": [
    "#### Removing outliers\n",
    "\n",
    "    Ignore records with age as 113"
   ]
  },
  {
   "cell_type": "code",
   "execution_count": 21,
   "metadata": {},
   "outputs": [],
   "source": [
    "data=data.loc[(data['MinAgeOfChild'] !=113) & (data['MaxAgeOfChild']!=113),:] "
   ]
  },
  {
   "cell_type": "code",
   "execution_count": 22,
   "metadata": {},
   "outputs": [
    {
     "name": "stdout",
     "output_type": "stream",
     "text": [
      "(3189, 13)\n"
     ]
    }
   ],
   "source": []
  },
  {
   "cell_type": "markdown",
   "metadata": {},
   "source": [
    "#### Missing Data\n",
    "\n",
    "    pandas primarily uses the value np.nan to represent missing data. "
   ]
  },
  {
   "cell_type": "markdown",
   "metadata": {},
   "source": [
    "Check for missing value\n",
    "\n",
    "    is.null() output boolean i.e. if missing value then true else false. \n",
    "\n",
    "    sum function counts 'true' thus gives total number of missing values"
   ]
  },
  {
   "cell_type": "code",
   "execution_count": 23,
   "metadata": {},
   "outputs": [
    {
     "data": {
      "text/plain": [
       "City                            0\n",
       "NoOfChildren                    0\n",
       "MinAgeOfChild                   0\n",
       "MaxAgeOfChild                   0\n",
       "Tenure                          0\n",
       "FrequencyOfPurchase             0\n",
       "NoOfUnitsPurchased              0\n",
       "FrequencyOFPlay                 0\n",
       "NoOfGamesPlayed                 0\n",
       "NoOfGamesBought                 0\n",
       "FavoriteChannelOfTransaction    0\n",
       "FavoriteGame                    0\n",
       "TotalRevenueGenerated           0\n",
       "dtype: int64"
      ]
     },
     "execution_count": 23,
     "metadata": {},
     "output_type": "execute_result"
    }
   ],
   "source": []
  },
  {
   "cell_type": "markdown",
   "metadata": {},
   "source": [
    "In this case there are no missing values. However if we find any missing values in the data, as a rule of thumb\n",
    "\n",
    "\n",
    "    If the particular row/column has more number of missing values then drop that particular rows/column \n",
    "    \n",
    "        e.g. To drop any rows that have missing data use data.dropna(axis=0, inplace=True) \n",
    "        \n",
    "    Otherwise, impute/fill missing data based on domain knowledge or using imputation techniques\n",
    "        \n",
    "        e.g. To fill missing values with mean use data.fillna(data.mean(), inplace=True)      "
   ]
  },
  {
   "cell_type": "code",
   "execution_count": 24,
   "metadata": {},
   "outputs": [
    {
     "data": {
      "text/plain": [
       "City                            category\n",
       "NoOfChildren                       int64\n",
       "MinAgeOfChild                      int64\n",
       "MaxAgeOfChild                      int64\n",
       "Tenure                             int64\n",
       "FrequencyOfPurchase                int64\n",
       "NoOfUnitsPurchased                 int64\n",
       "FrequencyOFPlay                    int64\n",
       "NoOfGamesPlayed                    int64\n",
       "NoOfGamesBought                    int64\n",
       "FavoriteChannelOfTransaction    category\n",
       "FavoriteGame                    category\n",
       "TotalRevenueGenerated            float64\n",
       "dtype: object"
      ]
     },
     "execution_count": 24,
     "metadata": {},
     "output_type": "execute_result"
    }
   ],
   "source": []
  },
  {
   "cell_type": "markdown",
   "metadata": {},
   "source": [
    "#### Correlation between numeric attributes "
   ]
  },
  {
   "cell_type": "code",
   "execution_count": 25,
   "metadata": {},
   "outputs": [
    {
     "data": {
      "text/plain": [
       "Index(['NoOfChildren', 'MinAgeOfChild', 'MaxAgeOfChild', 'Tenure',\n",
       "       'FrequencyOfPurchase', 'NoOfUnitsPurchased', 'FrequencyOFPlay',\n",
       "       'NoOfGamesPlayed', 'NoOfGamesBought', 'TotalRevenueGenerated'],\n",
       "      dtype='object')"
      ]
     },
     "execution_count": 25,
     "metadata": {},
     "output_type": "execute_result"
    }
   ],
   "source": [
    "num_attr = data.select_dtypes(include=['int64', 'float64']).columns\n",
    "num_attr"
   ]
  },
  {
   "cell_type": "code",
   "execution_count": 26,
   "metadata": {},
   "outputs": [],
   "source": [
    "corr=data[num_attr].corr()"
   ]
  },
  {
   "cell_type": "code",
   "execution_count": 27,
   "metadata": {},
   "outputs": [
    {
     "data": {
      "text/plain": [
       "<matplotlib.axes._subplots.AxesSubplot at 0x1a1199cd68>"
      ]
     },
     "execution_count": 27,
     "metadata": {},
     "output_type": "execute_result"
    },
    {
     "data": {
      "image/png": "[encoded data removed]",
      "text/plain": [
       "<Figure size 1080x720 with 2 Axes>"
      ]
     },
     "metadata": {},
     "output_type": "display_data"
    }
   ],
   "source": [
    "fig, ax = plt.subplots()\n",
    "fig.set_size_inches(15, 10)\n",
    "sns.heatmap(corr,cmap='coolwarm',ax=ax,annot=True,linewidths=2)"
   ]
  },
  {
   "cell_type": "markdown",
   "metadata": {},
   "source": [
    "#### Converting Categorical to Numeric \n",
    "    \n",
    "Use __pandas.get_dummies__ to convert convert categorical variable into dummy/indicator variables"
   ]
  },
  {
   "cell_type": "markdown",
   "metadata": {},
   "source": [
    "#### Creating dummy variables.\n",
    "    \n",
    "    If we have k levels in a category, then we create k-1 dummy variables as the last one would be redundant. So we use the parameter drop_first in pd.get_dummies function that drops the first level in each of the category"
   ]
  },
  {
   "cell_type": "code",
   "execution_count": 28,
   "metadata": {},
   "outputs": [],
   "source": [
    "cols_to_transform = data.select_dtypes(include=['category']).columns"
   ]
  },
  {
   "cell_type": "code",
   "execution_count": 29,
   "metadata": {},
   "outputs": [],
   "source": [
    "data = pd.get_dummies(columns=cols_to_transform, data=data, prefix=cols_to_transform, prefix_sep=\"_\", drop_first=True)"
   ]
  },
  {
   "cell_type": "code",
   "execution_count": 30,
   "metadata": {},
   "outputs": [
    {
     "name": "stdout",
     "output_type": "stream",
     "text": [
      "Index(['NoOfChildren', 'MinAgeOfChild', 'MaxAgeOfChild', 'Tenure',\n",
      "       'FrequencyOfPurchase', 'NoOfUnitsPurchased', 'FrequencyOFPlay',\n",
      "       'NoOfGamesPlayed', 'NoOfGamesBought', 'TotalRevenueGenerated', 'City_2',\n",
      "       'FavoriteChannelOfTransaction_Uniform', 'FavoriteGame_Uniform'],\n",
      "      dtype='object')\n"
     ]
    }
   ],
   "source": [
    "print (data.columns)    "
   ]
  },
  {
   "cell_type": "code",
   "execution_count": 31,
   "metadata": {},
   "outputs": [
    {
     "data": {
      "text/html": [
       "<div>\n",
       "<style scoped>\n",
       "    .dataframe tbody tr th:only-of-type {\n",
       "        vertical-align: middle;\n",
       "    }\n",
       "\n",
       "    .dataframe tbody tr th {\n",
       "        vertical-align: top;\n",
       "    }\n",
       "\n",
       "    .dataframe thead th {\n",
       "        text-align: right;\n",
       "    }\n",
       "</style>\n",
       "<table border=\"1\" class=\"dataframe\">\n",
       "  <thead>\n",
       "    <tr style=\"text-align: right;\">\n",
       "      <th></th>\n",
       "      <th>NoOfChildren</th>\n",
       "      <th>MinAgeOfChild</th>\n",
       "      <th>MaxAgeOfChild</th>\n",
       "      <th>Tenure</th>\n",
       "      <th>FrequencyOfPurchase</th>\n",
       "      <th>NoOfUnitsPurchased</th>\n",
       "      <th>FrequencyOFPlay</th>\n",
       "      <th>NoOfGamesPlayed</th>\n",
       "      <th>NoOfGamesBought</th>\n",
       "      <th>TotalRevenueGenerated</th>\n",
       "      <th>City_2</th>\n",
       "      <th>FavoriteChannelOfTransaction_Uniform</th>\n",
       "      <th>FavoriteGame_Uniform</th>\n",
       "    </tr>\n",
       "  </thead>\n",
       "  <tbody>\n",
       "    <tr>\n",
       "      <th>0</th>\n",
       "      <td>2</td>\n",
       "      <td>3</td>\n",
       "      <td>8</td>\n",
       "      <td>210</td>\n",
       "      <td>11</td>\n",
       "      <td>11</td>\n",
       "      <td>2344</td>\n",
       "      <td>108</td>\n",
       "      <td>10</td>\n",
       "      <td>107.51</td>\n",
       "      <td>0</td>\n",
       "      <td>1</td>\n",
       "      <td>1</td>\n",
       "    </tr>\n",
       "    <tr>\n",
       "      <th>1</th>\n",
       "      <td>2</td>\n",
       "      <td>3</td>\n",
       "      <td>6</td>\n",
       "      <td>442</td>\n",
       "      <td>20</td>\n",
       "      <td>20</td>\n",
       "      <td>245</td>\n",
       "      <td>22</td>\n",
       "      <td>7</td>\n",
       "      <td>382.40</td>\n",
       "      <td>0</td>\n",
       "      <td>0</td>\n",
       "      <td>1</td>\n",
       "    </tr>\n",
       "    <tr>\n",
       "      <th>2</th>\n",
       "      <td>4</td>\n",
       "      <td>3</td>\n",
       "      <td>5</td>\n",
       "      <td>424</td>\n",
       "      <td>18</td>\n",
       "      <td>18</td>\n",
       "      <td>1059</td>\n",
       "      <td>130</td>\n",
       "      <td>18</td>\n",
       "      <td>135.01</td>\n",
       "      <td>0</td>\n",
       "      <td>0</td>\n",
       "      <td>1</td>\n",
       "    </tr>\n",
       "  </tbody>\n",
       "</table>\n",
       "</div>"
      ],
      "text/plain": [
       "   NoOfChildren  MinAgeOfChild  MaxAgeOfChild  Tenure  FrequencyOfPurchase  \\\n",
       "0             2              3              8     210                   11   \n",
       "1             2              3              6     442                   20   \n",
       "2             4              3              5     424                   18   \n",
       "\n",
       "   NoOfUnitsPurchased  FrequencyOFPlay  NoOfGamesPlayed  NoOfGamesBought  \\\n",
       "0                  11             2344              108               10   \n",
       "1                  20              245               22                7   \n",
       "2                  18             1059              130               18   \n",
       "\n",
       "   TotalRevenueGenerated  City_2  FavoriteChannelOfTransaction_Uniform  \\\n",
       "0                 107.51       0                                     1   \n",
       "1                 382.40       0                                     0   \n",
       "2                 135.01       0                                     0   \n",
       "\n",
       "   FavoriteGame_Uniform  \n",
       "0                     1  \n",
       "1                     1  \n",
       "2                     1  "
      ]
     },
     "execution_count": 31,
     "metadata": {},
     "output_type": "execute_result"
    }
   ],
   "source": [
    "data.head(3)"
   ]
  },
  {
   "cell_type": "markdown",
   "metadata": {},
   "source": [
    "####  Split the data into train and test: \n",
    "\n",
    "sklearn.model_selection.train_test_split\n",
    "    \n",
    "    Split arrays or matrices into random train and test subsets"
   ]
  },
  {
   "cell_type": "code",
   "execution_count": 32,
   "metadata": {},
   "outputs": [],
   "source": [
    "X, y = data.loc[:,data.columns!='TotalRevenueGenerated'], data.loc[:,'TotalRevenueGenerated']\n",
    "\n",
    "X_train, X_test, y_train, y_test = train_test_split(X, y, test_size=0.3, random_state=123) "
   ]
  },
  {
   "cell_type": "code",
   "execution_count": 33,
   "metadata": {},
   "outputs": [
    {
     "name": "stdout",
     "output_type": "stream",
     "text": [
      "<class 'pandas.core.frame.DataFrame'>\n",
      "<class 'pandas.core.series.Series'>\n"
     ]
    }
   ],
   "source": [
    "print (type(X_train))\n",
    "print (type(y_train))"
   ]
  },
  {
   "cell_type": "markdown",
   "metadata": {},
   "source": [
    "#### Standardization of data"
   ]
  },
  {
   "cell_type": "markdown",
   "metadata": {},
   "source": [
    "- In data it is not very uncommon to have variables with different scales. For eg: Age ranges from 0 to 100 and salary may be in thousands. \n",
    "    - Scaling by Normalization or min-max scaling\n",
    "    - Scaling by Standardization i.e. using mean and standard deviation"
   ]
  },
  {
   "cell_type": "markdown",
   "metadata": {},
   "source": [
    "1. StandardScaler is a function used to standardize the data .\n",
    "2. Standardized value for x is computed as (x-mean(column))/standard deviation(column)). "
   ]
  },
  {
   "cell_type": "code",
   "execution_count": 34,
   "metadata": {},
   "outputs": [
    {
     "data": {
      "text/plain": [
       "StandardScaler(copy=True, with_mean=True, with_std=True)"
      ]
     },
     "execution_count": 34,
     "metadata": {},
     "output_type": "execute_result"
    }
   ],
   "source": [
    "scale = StandardScaler()\n",
    "scale.fit(X_train)"
   ]
  },
  {
   "cell_type": "code",
   "execution_count": 35,
   "metadata": {},
   "outputs": [],
   "source": [
    "X_train_std = scale.transform(X_train)\n",
    "X_test_std = scale.transform(X_test)"
   ]
  },
  {
   "cell_type": "code",
   "execution_count": 36,
   "metadata": {},
   "outputs": [
    {
     "name": "stdout",
     "output_type": "stream",
     "text": [
      "(2232, 12)\n",
      "      NoOfChildren  MinAgeOfChild  MaxAgeOfChild  Tenure  FrequencyOfPurchase  \\\n",
      "1866             3              6              6     346                   18   \n",
      "1002             2              5              8     292                   19   \n",
      "\n",
      "      NoOfUnitsPurchased  FrequencyOFPlay  NoOfGamesPlayed  NoOfGamesBought  \\\n",
      "1866                  16             2930              150                9   \n",
      "1002                  13              658               52               19   \n",
      "\n",
      "      City_2  FavoriteChannelOfTransaction_Uniform  FavoriteGame_Uniform  \n",
      "1866       0                                     0                     1  \n",
      "1002       0                                     0                     1  \n"
     ]
    }
   ],
   "source": [
    "print(X_train.shape)\n",
    "print(X_train.iloc[:2,])"
   ]
  },
  {
   "cell_type": "markdown",
   "metadata": {},
   "source": [
    "## Building a K Nearest Neighbors Regression Model"
   ]
  },
  {
   "cell_type": "code",
   "execution_count": 37,
   "metadata": {},
   "outputs": [],
   "source": [
    "knn = KNeighborsRegressor(n_neighbors=5)"
   ]
  },
  {
   "cell_type": "code",
   "execution_count": 38,
   "metadata": {},
   "outputs": [
    {
     "data": {
      "text/plain": [
       "KNeighborsRegressor(algorithm='auto', leaf_size=30, metric='minkowski',\n",
       "          metric_params=None, n_jobs=1, n_neighbors=5, p=2,\n",
       "          weights='uniform')"
      ]
     },
     "execution_count": 38,
     "metadata": {},
     "output_type": "execute_result"
    }
   ],
   "source": [
    "knn.fit(X_train_std, y_train) "
   ]
  },
  {
   "cell_type": "markdown",
   "metadata": {},
   "source": [
    "###### Prediction"
   ]
  },
  {
   "cell_type": "code",
   "execution_count": 39,
   "metadata": {},
   "outputs": [],
   "source": [
    "train_pred = knn.predict(X_train_std)\n",
    "test_pred = knn.predict(X_test_std)"
   ]
  },
  {
   "cell_type": "code",
   "execution_count": 40,
   "metadata": {},
   "outputs": [
    {
     "name": "stdout",
     "output_type": "stream",
     "text": [
      "The Mean Absolute Error on train dataset: 29.712411290322585 \n",
      "\n",
      "The Mean Absolute Error on test dataset: 38.40385579937305 \n",
      "\n",
      "The Mean Squared Error on train dataset: 1890.3905185967742 \n",
      "\n",
      "The Mean Squared Error on test dataset: 3711.9916857972835 \n",
      "\n",
      "The Root Mean Squared Error on train dataset: 43.47862139715074 \n",
      "\n",
      "The Root Mean Squared Error on test dataset: 60.92611661510426 \n",
      "\n",
      "The Mean Absolute Percentage Error on train dataset: 16.91876166656746 \n",
      "\n",
      "The Mean Absolute Percentage Error on test dataset: 21.01882484004985 \n",
      "\n"
     ]
    }
   ],
   "source": [
    "print(\"The Mean Absolute Error on train dataset: {} \\n\".format(mean_absolute_error(y_pred=train_pred,y_true=y_train)))\n",
    "print(\"The Mean Absolute Error on test dataset: {} \\n\".format(mean_absolute_error(y_pred=test_pred,y_true=y_test)))\n",
    "\n",
    "print(\"The Mean Squared Error on train dataset: {} \\n\".format(mean_squared_error(y_pred=train_pred,y_true=y_train)))\n",
    "print(\"The Mean Squared Error on test dataset: {} \\n\".format(mean_squared_error(y_pred=test_pred,y_true=y_test)))\n",
    "\n",
    "print(\"The Root Mean Squared Error on train dataset: {} \\n\".format(math.sqrt(mean_squared_error(y_pred=train_pred,y_true=y_train))))\n",
    "print(\"The Root Mean Squared Error on test dataset: {} \\n\".format(math.sqrt(mean_squared_error(y_pred=test_pred,y_true=y_test))))\n",
    "\n",
    "def mean_absolute_percentage_error(y_true, y_pred): \n",
    "    y_true, y_pred = np.array(y_true), np.array(y_pred)\n",
    "    return np.mean(np.abs((y_true - y_pred) / y_true)) * 100\n",
    "\n",
    "print(\"The Mean Absolute Percentage Error on train dataset: {} \\n\".format(mean_absolute_percentage_error(y_pred=train_pred,y_true=y_train)))\n",
    "print(\"The Mean Absolute Percentage Error on test dataset: {} \\n\".format(mean_absolute_percentage_error(y_pred=test_pred,y_true=y_test)))\n"
   ]
  },
  {
   "cell_type": "markdown",
   "metadata": {},
   "source": [
    "### -------------------------------------------------------------------------------------------------------------"
   ]
  },
  {
   "cell_type": "markdown",
   "metadata": {},
   "source": [
    "# CLASSIFICATION with KNN"
   ]
  },
  {
   "cell_type": "markdown",
   "metadata": {},
   "source": [
    "#### Problem\n",
    "\n",
    "    Is to identify products at risk of backorder before the event occurs so the business has time to react. "
   ]
  },
  {
   "cell_type": "markdown",
   "metadata": {},
   "source": [
    "### What is a Backorder?\n",
    "Backorders are products that are temporarily out of stock, but a customer is permitted to place an order against future inventory. \n",
    "A backorder generally indicates that customer demand for a product or service exceeds a company’s capacity to supply it. Back orders are both good and bad. Strong demand can drive back orders, but so can suboptimal planning. "
   ]
  },
  {
   "cell_type": "markdown",
   "metadata": {},
   "source": [
    "#### Data\n",
    "\n",
    "Data file contains the historical data for the 8 weeks prior to the week we are trying to predict. The data was taken as weekly snapshots at the start of each week. Columns are defined as follows:\n",
    "\n",
    "    sku - Random ID for the product\n",
    "\n",
    "    national_inv - Current inventory level for the part\n",
    "\n",
    "    lead_time - Transit time for product (if available)\n",
    "\n",
    "    in_transit_qty - Amount of product in transit from source\n",
    "\n",
    "    forecast_3_month - Forecast sales for the next 3 months\n",
    "\n",
    "    forecast_6_month - Forecast sales for the next 6 months\n",
    "\n",
    "    forecast_9_month - Forecast sales for the next 9 months\n",
    "\n",
    "    sales_1_month - Sales quantity for the prior 1 month time period\n",
    "\n",
    "    sales_3_month - Sales quantity for the prior 3 month time period\n",
    "\n",
    "    sales_6_month - Sales quantity for the prior 6 month time period\n",
    "\n",
    "    sales_9_month - Sales quantity for the prior 9 month time period\n",
    "\n",
    "    min_bank - Minimum recommend amount to stock\n",
    "\n",
    "    potential_issue - Source issue for part identified\n",
    "\n",
    "    pieces_past_due - Parts overdue from source\n",
    "\n",
    "    perf_6_month_avg - Source performance for prior 6 month period\n",
    "\n",
    "    perf_12_month_avg - Source performance for prior 12 month period\n",
    "\n",
    "    local_bo_qty - Amount of stock orders overdue\n",
    "\n",
    "    deck_risk - Part risk flag\n",
    "\n",
    "    oe_constraint - Part risk flag\n",
    "\n",
    "    ppap_risk - Part risk flag\n",
    "\n",
    "    stop_auto_buy - Part risk flag\n",
    "\n",
    "    rev_stop - Part risk flag\n",
    "\n",
    "    went_on_backorder - Product actually went on backorder. This is the target value.\n",
    "    \n",
    "         Yes or 1 : Product backordered\n",
    "\n",
    "         No or 0  : Product not backordered"
   ]
  },
  {
   "cell_type": "markdown",
   "metadata": {},
   "source": [
    "#### Identify Right Error Metrics\n",
    "\n",
    "    Based on the business have to identify right error metrics."
   ]
  },
  {
   "cell_type": "markdown",
   "metadata": {},
   "source": [
    "#### Loading the data"
   ]
  },
  {
   "cell_type": "code",
   "execution_count": 41,
   "metadata": {},
   "outputs": [],
   "source": [
    "data = pd.read_csv(\"BackOrders.csv\",header=0)"
   ]
  },
  {
   "cell_type": "markdown",
   "metadata": {},
   "source": [
    "#### Understand the Data"
   ]
  },
  {
   "cell_type": "markdown",
   "metadata": {},
   "source": [
    "See the No. row and columns"
   ]
  },
  {
   "cell_type": "code",
   "execution_count": 42,
   "metadata": {},
   "outputs": [
    {
     "data": {
      "text/plain": [
       "(61589, 23)"
      ]
     },
     "execution_count": 42,
     "metadata": {},
     "output_type": "execute_result"
    }
   ],
   "source": [
    "data.shape"
   ]
  },
  {
   "cell_type": "markdown",
   "metadata": {},
   "source": [
    "Display the columns"
   ]
  },
  {
   "cell_type": "code",
   "execution_count": 43,
   "metadata": {},
   "outputs": [
    {
     "data": {
      "text/plain": [
       "Index(['sku', 'national_inv', 'lead_time', 'in_transit_qty',\n",
       "       'forecast_3_month', 'forecast_6_month', 'forecast_9_month',\n",
       "       'sales_1_month', 'sales_3_month', 'sales_6_month', 'sales_9_month',\n",
       "       'min_bank', 'potential_issue', 'pieces_past_due', 'perf_6_month_avg',\n",
       "       'perf_12_month_avg', 'local_bo_qty', 'deck_risk', 'oe_constraint',\n",
       "       'ppap_risk', 'stop_auto_buy', 'rev_stop', 'went_on_backorder'],\n",
       "      dtype='object')"
      ]
     },
     "execution_count": 43,
     "metadata": {},
     "output_type": "execute_result"
    }
   ],
   "source": [
    "data.columns"
   ]
  },
  {
   "cell_type": "markdown",
   "metadata": {},
   "source": [
    "Display the index"
   ]
  },
  {
   "cell_type": "code",
   "execution_count": 44,
   "metadata": {},
   "outputs": [
    {
     "data": {
      "text/plain": [
       "RangeIndex(start=0, stop=61589, step=1)"
      ]
     },
     "execution_count": 44,
     "metadata": {},
     "output_type": "execute_result"
    }
   ],
   "source": [
    "data.index"
   ]
  },
  {
   "cell_type": "markdown",
   "metadata": {},
   "source": [
    "See the top rows of the data"
   ]
  },
  {
   "cell_type": "code",
   "execution_count": 45,
   "metadata": {},
   "outputs": [
    {
     "data": {
      "text/html": [
       "<div>\n",
       "<style scoped>\n",
       "    .dataframe tbody tr th:only-of-type {\n",
       "        vertical-align: middle;\n",
       "    }\n",
       "\n",
       "    .dataframe tbody tr th {\n",
       "        vertical-align: top;\n",
       "    }\n",
       "\n",
       "    .dataframe thead th {\n",
       "        text-align: right;\n",
       "    }\n",
       "</style>\n",
       "<table border=\"1\" class=\"dataframe\">\n",
       "  <thead>\n",
       "    <tr style=\"text-align: right;\">\n",
       "      <th></th>\n",
       "      <th>sku</th>\n",
       "      <th>national_inv</th>\n",
       "      <th>lead_time</th>\n",
       "      <th>in_transit_qty</th>\n",
       "      <th>forecast_3_month</th>\n",
       "      <th>forecast_6_month</th>\n",
       "      <th>forecast_9_month</th>\n",
       "      <th>sales_1_month</th>\n",
       "      <th>sales_3_month</th>\n",
       "      <th>sales_6_month</th>\n",
       "      <th>...</th>\n",
       "      <th>pieces_past_due</th>\n",
       "      <th>perf_6_month_avg</th>\n",
       "      <th>perf_12_month_avg</th>\n",
       "      <th>local_bo_qty</th>\n",
       "      <th>deck_risk</th>\n",
       "      <th>oe_constraint</th>\n",
       "      <th>ppap_risk</th>\n",
       "      <th>stop_auto_buy</th>\n",
       "      <th>rev_stop</th>\n",
       "      <th>went_on_backorder</th>\n",
       "    </tr>\n",
       "  </thead>\n",
       "  <tbody>\n",
       "    <tr>\n",
       "      <th>0</th>\n",
       "      <td>1888279</td>\n",
       "      <td>117</td>\n",
       "      <td>NaN</td>\n",
       "      <td>0</td>\n",
       "      <td>0</td>\n",
       "      <td>0</td>\n",
       "      <td>0</td>\n",
       "      <td>0</td>\n",
       "      <td>0</td>\n",
       "      <td>15</td>\n",
       "      <td>...</td>\n",
       "      <td>0</td>\n",
       "      <td>-99.00</td>\n",
       "      <td>-99.00</td>\n",
       "      <td>0</td>\n",
       "      <td>No</td>\n",
       "      <td>No</td>\n",
       "      <td>Yes</td>\n",
       "      <td>Yes</td>\n",
       "      <td>No</td>\n",
       "      <td>No</td>\n",
       "    </tr>\n",
       "    <tr>\n",
       "      <th>1</th>\n",
       "      <td>1870557</td>\n",
       "      <td>7</td>\n",
       "      <td>2.0</td>\n",
       "      <td>0</td>\n",
       "      <td>0</td>\n",
       "      <td>0</td>\n",
       "      <td>0</td>\n",
       "      <td>0</td>\n",
       "      <td>0</td>\n",
       "      <td>0</td>\n",
       "      <td>...</td>\n",
       "      <td>0</td>\n",
       "      <td>0.50</td>\n",
       "      <td>0.28</td>\n",
       "      <td>0</td>\n",
       "      <td>Yes</td>\n",
       "      <td>No</td>\n",
       "      <td>No</td>\n",
       "      <td>Yes</td>\n",
       "      <td>No</td>\n",
       "      <td>No</td>\n",
       "    </tr>\n",
       "    <tr>\n",
       "      <th>2</th>\n",
       "      <td>1475481</td>\n",
       "      <td>258</td>\n",
       "      <td>15.0</td>\n",
       "      <td>10</td>\n",
       "      <td>10</td>\n",
       "      <td>77</td>\n",
       "      <td>184</td>\n",
       "      <td>46</td>\n",
       "      <td>132</td>\n",
       "      <td>256</td>\n",
       "      <td>...</td>\n",
       "      <td>0</td>\n",
       "      <td>0.54</td>\n",
       "      <td>0.70</td>\n",
       "      <td>0</td>\n",
       "      <td>No</td>\n",
       "      <td>No</td>\n",
       "      <td>No</td>\n",
       "      <td>Yes</td>\n",
       "      <td>No</td>\n",
       "      <td>No</td>\n",
       "    </tr>\n",
       "  </tbody>\n",
       "</table>\n",
       "<p>3 rows × 23 columns</p>\n",
       "</div>"
      ],
      "text/plain": [
       "       sku  national_inv  lead_time  in_transit_qty  forecast_3_month  \\\n",
       "0  1888279           117        NaN               0                 0   \n",
       "1  1870557             7        2.0               0                 0   \n",
       "2  1475481           258       15.0              10                10   \n",
       "\n",
       "   forecast_6_month  forecast_9_month  sales_1_month  sales_3_month  \\\n",
       "0                 0                 0              0              0   \n",
       "1                 0                 0              0              0   \n",
       "2                77               184             46            132   \n",
       "\n",
       "   sales_6_month        ...         pieces_past_due  perf_6_month_avg  \\\n",
       "0             15        ...                       0            -99.00   \n",
       "1              0        ...                       0              0.50   \n",
       "2            256        ...                       0              0.54   \n",
       "\n",
       "  perf_12_month_avg  local_bo_qty  deck_risk  oe_constraint  ppap_risk  \\\n",
       "0            -99.00             0         No             No        Yes   \n",
       "1              0.28             0        Yes             No         No   \n",
       "2              0.70             0         No             No         No   \n",
       "\n",
       "  stop_auto_buy rev_stop went_on_backorder  \n",
       "0           Yes       No                No  \n",
       "1           Yes       No                No  \n",
       "2           Yes       No                No  \n",
       "\n",
       "[3 rows x 23 columns]"
      ]
     },
     "execution_count": 45,
     "metadata": {},
     "output_type": "execute_result"
    }
   ],
   "source": [
    "data[:3]"
   ]
  },
  {
   "cell_type": "markdown",
   "metadata": {},
   "source": [
    "Shows a quick statistic summary of your data using describe"
   ]
  },
  {
   "cell_type": "code",
   "execution_count": 46,
   "metadata": {
    "scrolled": true
   },
   "outputs": [
    {
     "data": {
      "text/html": [
       "<div>\n",
       "<style scoped>\n",
       "    .dataframe tbody tr th:only-of-type {\n",
       "        vertical-align: middle;\n",
       "    }\n",
       "\n",
       "    .dataframe tbody tr th {\n",
       "        vertical-align: top;\n",
       "    }\n",
       "\n",
       "    .dataframe thead th {\n",
       "        text-align: right;\n",
       "    }\n",
       "</style>\n",
       "<table border=\"1\" class=\"dataframe\">\n",
       "  <thead>\n",
       "    <tr style=\"text-align: right;\">\n",
       "      <th></th>\n",
       "      <th>sku</th>\n",
       "      <th>national_inv</th>\n",
       "      <th>lead_time</th>\n",
       "      <th>in_transit_qty</th>\n",
       "      <th>forecast_3_month</th>\n",
       "      <th>forecast_6_month</th>\n",
       "      <th>forecast_9_month</th>\n",
       "      <th>sales_1_month</th>\n",
       "      <th>sales_3_month</th>\n",
       "      <th>sales_6_month</th>\n",
       "      <th>...</th>\n",
       "      <th>pieces_past_due</th>\n",
       "      <th>perf_6_month_avg</th>\n",
       "      <th>perf_12_month_avg</th>\n",
       "      <th>local_bo_qty</th>\n",
       "      <th>deck_risk</th>\n",
       "      <th>oe_constraint</th>\n",
       "      <th>ppap_risk</th>\n",
       "      <th>stop_auto_buy</th>\n",
       "      <th>rev_stop</th>\n",
       "      <th>went_on_backorder</th>\n",
       "    </tr>\n",
       "  </thead>\n",
       "  <tbody>\n",
       "    <tr>\n",
       "      <th>count</th>\n",
       "      <td>6.158900e+04</td>\n",
       "      <td>61589.000000</td>\n",
       "      <td>58186.000000</td>\n",
       "      <td>61589.000000</td>\n",
       "      <td>6.158900e+04</td>\n",
       "      <td>6.158900e+04</td>\n",
       "      <td>6.158900e+04</td>\n",
       "      <td>61589.000000</td>\n",
       "      <td>61589.000000</td>\n",
       "      <td>6.158900e+04</td>\n",
       "      <td>...</td>\n",
       "      <td>61589.000000</td>\n",
       "      <td>61589.000000</td>\n",
       "      <td>61589.000000</td>\n",
       "      <td>61589.000000</td>\n",
       "      <td>61589</td>\n",
       "      <td>61589</td>\n",
       "      <td>61589</td>\n",
       "      <td>61589</td>\n",
       "      <td>61589</td>\n",
       "      <td>61589</td>\n",
       "    </tr>\n",
       "    <tr>\n",
       "      <th>unique</th>\n",
       "      <td>NaN</td>\n",
       "      <td>NaN</td>\n",
       "      <td>NaN</td>\n",
       "      <td>NaN</td>\n",
       "      <td>NaN</td>\n",
       "      <td>NaN</td>\n",
       "      <td>NaN</td>\n",
       "      <td>NaN</td>\n",
       "      <td>NaN</td>\n",
       "      <td>NaN</td>\n",
       "      <td>...</td>\n",
       "      <td>NaN</td>\n",
       "      <td>NaN</td>\n",
       "      <td>NaN</td>\n",
       "      <td>NaN</td>\n",
       "      <td>2</td>\n",
       "      <td>2</td>\n",
       "      <td>2</td>\n",
       "      <td>2</td>\n",
       "      <td>2</td>\n",
       "      <td>2</td>\n",
       "    </tr>\n",
       "    <tr>\n",
       "      <th>top</th>\n",
       "      <td>NaN</td>\n",
       "      <td>NaN</td>\n",
       "      <td>NaN</td>\n",
       "      <td>NaN</td>\n",
       "      <td>NaN</td>\n",
       "      <td>NaN</td>\n",
       "      <td>NaN</td>\n",
       "      <td>NaN</td>\n",
       "      <td>NaN</td>\n",
       "      <td>NaN</td>\n",
       "      <td>...</td>\n",
       "      <td>NaN</td>\n",
       "      <td>NaN</td>\n",
       "      <td>NaN</td>\n",
       "      <td>NaN</td>\n",
       "      <td>No</td>\n",
       "      <td>No</td>\n",
       "      <td>No</td>\n",
       "      <td>Yes</td>\n",
       "      <td>No</td>\n",
       "      <td>No</td>\n",
       "    </tr>\n",
       "    <tr>\n",
       "      <th>freq</th>\n",
       "      <td>NaN</td>\n",
       "      <td>NaN</td>\n",
       "      <td>NaN</td>\n",
       "      <td>NaN</td>\n",
       "      <td>NaN</td>\n",
       "      <td>NaN</td>\n",
       "      <td>NaN</td>\n",
       "      <td>NaN</td>\n",
       "      <td>NaN</td>\n",
       "      <td>NaN</td>\n",
       "      <td>...</td>\n",
       "      <td>NaN</td>\n",
       "      <td>NaN</td>\n",
       "      <td>NaN</td>\n",
       "      <td>NaN</td>\n",
       "      <td>48145</td>\n",
       "      <td>61577</td>\n",
       "      <td>53792</td>\n",
       "      <td>59303</td>\n",
       "      <td>61569</td>\n",
       "      <td>50296</td>\n",
       "    </tr>\n",
       "    <tr>\n",
       "      <th>mean</th>\n",
       "      <td>2.037188e+06</td>\n",
       "      <td>287.721882</td>\n",
       "      <td>7.559619</td>\n",
       "      <td>30.192843</td>\n",
       "      <td>1.692728e+02</td>\n",
       "      <td>3.150413e+02</td>\n",
       "      <td>4.535760e+02</td>\n",
       "      <td>44.742957</td>\n",
       "      <td>150.732631</td>\n",
       "      <td>2.835465e+02</td>\n",
       "      <td>...</td>\n",
       "      <td>1.605400</td>\n",
       "      <td>-6.264182</td>\n",
       "      <td>-5.863664</td>\n",
       "      <td>1.205361</td>\n",
       "      <td>NaN</td>\n",
       "      <td>NaN</td>\n",
       "      <td>NaN</td>\n",
       "      <td>NaN</td>\n",
       "      <td>NaN</td>\n",
       "      <td>NaN</td>\n",
       "    </tr>\n",
       "    <tr>\n",
       "      <th>std</th>\n",
       "      <td>6.564178e+05</td>\n",
       "      <td>4233.906931</td>\n",
       "      <td>6.498952</td>\n",
       "      <td>792.869253</td>\n",
       "      <td>5.286742e+03</td>\n",
       "      <td>9.774362e+03</td>\n",
       "      <td>1.420201e+04</td>\n",
       "      <td>1373.805831</td>\n",
       "      <td>5224.959649</td>\n",
       "      <td>8.872270e+03</td>\n",
       "      <td>...</td>\n",
       "      <td>42.309229</td>\n",
       "      <td>25.537906</td>\n",
       "      <td>24.844514</td>\n",
       "      <td>29.981155</td>\n",
       "      <td>NaN</td>\n",
       "      <td>NaN</td>\n",
       "      <td>NaN</td>\n",
       "      <td>NaN</td>\n",
       "      <td>NaN</td>\n",
       "      <td>NaN</td>\n",
       "    </tr>\n",
       "    <tr>\n",
       "      <th>min</th>\n",
       "      <td>1.068628e+06</td>\n",
       "      <td>-2999.000000</td>\n",
       "      <td>0.000000</td>\n",
       "      <td>0.000000</td>\n",
       "      <td>0.000000e+00</td>\n",
       "      <td>0.000000e+00</td>\n",
       "      <td>0.000000e+00</td>\n",
       "      <td>0.000000</td>\n",
       "      <td>0.000000</td>\n",
       "      <td>0.000000e+00</td>\n",
       "      <td>...</td>\n",
       "      <td>0.000000</td>\n",
       "      <td>-99.000000</td>\n",
       "      <td>-99.000000</td>\n",
       "      <td>0.000000</td>\n",
       "      <td>NaN</td>\n",
       "      <td>NaN</td>\n",
       "      <td>NaN</td>\n",
       "      <td>NaN</td>\n",
       "      <td>NaN</td>\n",
       "      <td>NaN</td>\n",
       "    </tr>\n",
       "    <tr>\n",
       "      <th>25%</th>\n",
       "      <td>1.498574e+06</td>\n",
       "      <td>3.000000</td>\n",
       "      <td>4.000000</td>\n",
       "      <td>0.000000</td>\n",
       "      <td>0.000000e+00</td>\n",
       "      <td>0.000000e+00</td>\n",
       "      <td>0.000000e+00</td>\n",
       "      <td>0.000000</td>\n",
       "      <td>0.000000</td>\n",
       "      <td>0.000000e+00</td>\n",
       "      <td>...</td>\n",
       "      <td>0.000000</td>\n",
       "      <td>0.620000</td>\n",
       "      <td>0.640000</td>\n",
       "      <td>0.000000</td>\n",
       "      <td>NaN</td>\n",
       "      <td>NaN</td>\n",
       "      <td>NaN</td>\n",
       "      <td>NaN</td>\n",
       "      <td>NaN</td>\n",
       "      <td>NaN</td>\n",
       "    </tr>\n",
       "    <tr>\n",
       "      <th>50%</th>\n",
       "      <td>1.898033e+06</td>\n",
       "      <td>10.000000</td>\n",
       "      <td>8.000000</td>\n",
       "      <td>0.000000</td>\n",
       "      <td>0.000000e+00</td>\n",
       "      <td>0.000000e+00</td>\n",
       "      <td>0.000000e+00</td>\n",
       "      <td>0.000000</td>\n",
       "      <td>2.000000</td>\n",
       "      <td>4.000000e+00</td>\n",
       "      <td>...</td>\n",
       "      <td>0.000000</td>\n",
       "      <td>0.820000</td>\n",
       "      <td>0.800000</td>\n",
       "      <td>0.000000</td>\n",
       "      <td>NaN</td>\n",
       "      <td>NaN</td>\n",
       "      <td>NaN</td>\n",
       "      <td>NaN</td>\n",
       "      <td>NaN</td>\n",
       "      <td>NaN</td>\n",
       "    </tr>\n",
       "    <tr>\n",
       "      <th>75%</th>\n",
       "      <td>2.314826e+06</td>\n",
       "      <td>57.000000</td>\n",
       "      <td>8.000000</td>\n",
       "      <td>0.000000</td>\n",
       "      <td>1.200000e+01</td>\n",
       "      <td>2.500000e+01</td>\n",
       "      <td>3.600000e+01</td>\n",
       "      <td>6.000000</td>\n",
       "      <td>17.000000</td>\n",
       "      <td>3.400000e+01</td>\n",
       "      <td>...</td>\n",
       "      <td>0.000000</td>\n",
       "      <td>0.960000</td>\n",
       "      <td>0.950000</td>\n",
       "      <td>0.000000</td>\n",
       "      <td>NaN</td>\n",
       "      <td>NaN</td>\n",
       "      <td>NaN</td>\n",
       "      <td>NaN</td>\n",
       "      <td>NaN</td>\n",
       "      <td>NaN</td>\n",
       "    </tr>\n",
       "    <tr>\n",
       "      <th>max</th>\n",
       "      <td>3.284895e+06</td>\n",
       "      <td>673445.000000</td>\n",
       "      <td>52.000000</td>\n",
       "      <td>170976.000000</td>\n",
       "      <td>1.126656e+06</td>\n",
       "      <td>2.094336e+06</td>\n",
       "      <td>3.062016e+06</td>\n",
       "      <td>295197.000000</td>\n",
       "      <td>934593.000000</td>\n",
       "      <td>1.799099e+06</td>\n",
       "      <td>...</td>\n",
       "      <td>7392.000000</td>\n",
       "      <td>1.000000</td>\n",
       "      <td>1.000000</td>\n",
       "      <td>2999.000000</td>\n",
       "      <td>NaN</td>\n",
       "      <td>NaN</td>\n",
       "      <td>NaN</td>\n",
       "      <td>NaN</td>\n",
       "      <td>NaN</td>\n",
       "      <td>NaN</td>\n",
       "    </tr>\n",
       "  </tbody>\n",
       "</table>\n",
       "<p>11 rows × 23 columns</p>\n",
       "</div>"
      ],
      "text/plain": [
       "                 sku   national_inv     lead_time  in_transit_qty  \\\n",
       "count   6.158900e+04   61589.000000  58186.000000    61589.000000   \n",
       "unique           NaN            NaN           NaN             NaN   \n",
       "top              NaN            NaN           NaN             NaN   \n",
       "freq             NaN            NaN           NaN             NaN   \n",
       "mean    2.037188e+06     287.721882      7.559619       30.192843   \n",
       "std     6.564178e+05    4233.906931      6.498952      792.869253   \n",
       "min     1.068628e+06   -2999.000000      0.000000        0.000000   \n",
       "25%     1.498574e+06       3.000000      4.000000        0.000000   \n",
       "50%     1.898033e+06      10.000000      8.000000        0.000000   \n",
       "75%     2.314826e+06      57.000000      8.000000        0.000000   \n",
       "max     3.284895e+06  673445.000000     52.000000   170976.000000   \n",
       "\n",
       "        forecast_3_month  forecast_6_month  forecast_9_month  sales_1_month  \\\n",
       "count       6.158900e+04      6.158900e+04      6.158900e+04   61589.000000   \n",
       "unique               NaN               NaN               NaN            NaN   \n",
       "top                  NaN               NaN               NaN            NaN   \n",
       "freq                 NaN               NaN               NaN            NaN   \n",
       "mean        1.692728e+02      3.150413e+02      4.535760e+02      44.742957   \n",
       "std         5.286742e+03      9.774362e+03      1.420201e+04    1373.805831   \n",
       "min         0.000000e+00      0.000000e+00      0.000000e+00       0.000000   \n",
       "25%         0.000000e+00      0.000000e+00      0.000000e+00       0.000000   \n",
       "50%         0.000000e+00      0.000000e+00      0.000000e+00       0.000000   \n",
       "75%         1.200000e+01      2.500000e+01      3.600000e+01       6.000000   \n",
       "max         1.126656e+06      2.094336e+06      3.062016e+06  295197.000000   \n",
       "\n",
       "        sales_3_month  sales_6_month        ...         pieces_past_due  \\\n",
       "count    61589.000000   6.158900e+04        ...            61589.000000   \n",
       "unique            NaN            NaN        ...                     NaN   \n",
       "top               NaN            NaN        ...                     NaN   \n",
       "freq              NaN            NaN        ...                     NaN   \n",
       "mean       150.732631   2.835465e+02        ...                1.605400   \n",
       "std       5224.959649   8.872270e+03        ...               42.309229   \n",
       "min          0.000000   0.000000e+00        ...                0.000000   \n",
       "25%          0.000000   0.000000e+00        ...                0.000000   \n",
       "50%          2.000000   4.000000e+00        ...                0.000000   \n",
       "75%         17.000000   3.400000e+01        ...                0.000000   \n",
       "max     934593.000000   1.799099e+06        ...             7392.000000   \n",
       "\n",
       "        perf_6_month_avg perf_12_month_avg  local_bo_qty  deck_risk  \\\n",
       "count       61589.000000      61589.000000  61589.000000      61589   \n",
       "unique               NaN               NaN           NaN          2   \n",
       "top                  NaN               NaN           NaN         No   \n",
       "freq                 NaN               NaN           NaN      48145   \n",
       "mean           -6.264182         -5.863664      1.205361        NaN   \n",
       "std            25.537906         24.844514     29.981155        NaN   \n",
       "min           -99.000000        -99.000000      0.000000        NaN   \n",
       "25%             0.620000          0.640000      0.000000        NaN   \n",
       "50%             0.820000          0.800000      0.000000        NaN   \n",
       "75%             0.960000          0.950000      0.000000        NaN   \n",
       "max             1.000000          1.000000   2999.000000        NaN   \n",
       "\n",
       "        oe_constraint  ppap_risk stop_auto_buy rev_stop went_on_backorder  \n",
       "count           61589      61589         61589    61589             61589  \n",
       "unique              2          2             2        2                 2  \n",
       "top                No         No           Yes       No                No  \n",
       "freq            61577      53792         59303    61569             50296  \n",
       "mean              NaN        NaN           NaN      NaN               NaN  \n",
       "std               NaN        NaN           NaN      NaN               NaN  \n",
       "min               NaN        NaN           NaN      NaN               NaN  \n",
       "25%               NaN        NaN           NaN      NaN               NaN  \n",
       "50%               NaN        NaN           NaN      NaN               NaN  \n",
       "75%               NaN        NaN           NaN      NaN               NaN  \n",
       "max               NaN        NaN           NaN      NaN               NaN  \n",
       "\n",
       "[11 rows x 23 columns]"
      ]
     },
     "execution_count": 46,
     "metadata": {},
     "output_type": "execute_result"
    }
   ],
   "source": [
    "data.describe(include='all')"
   ]
  },
  {
   "cell_type": "markdown",
   "metadata": {},
   "source": [
    "Display data type of each variable"
   ]
  },
  {
   "cell_type": "code",
   "execution_count": 47,
   "metadata": {},
   "outputs": [
    {
     "data": {
      "text/plain": [
       "sku                    int64\n",
       "national_inv           int64\n",
       "lead_time            float64\n",
       "in_transit_qty         int64\n",
       "forecast_3_month       int64\n",
       "forecast_6_month       int64\n",
       "forecast_9_month       int64\n",
       "sales_1_month          int64\n",
       "sales_3_month          int64\n",
       "sales_6_month          int64\n",
       "sales_9_month          int64\n",
       "min_bank               int64\n",
       "potential_issue       object\n",
       "pieces_past_due        int64\n",
       "perf_6_month_avg     float64\n",
       "perf_12_month_avg    float64\n",
       "local_bo_qty           int64\n",
       "deck_risk             object\n",
       "oe_constraint         object\n",
       "ppap_risk             object\n",
       "stop_auto_buy         object\n",
       "rev_stop              object\n",
       "went_on_backorder     object\n",
       "dtype: object"
      ]
     },
     "execution_count": 47,
     "metadata": {},
     "output_type": "execute_result"
    }
   ],
   "source": [
    "data.dtypes"
   ]
  },
  {
   "cell_type": "markdown",
   "metadata": {},
   "source": [
    "#### Observations\n",
    "\n",
    "    sku is Categorical but is interpreted as int64 \n",
    "    potential_issue, deck_risk, oe_constraint, ppap_risk, stop_auto_buy, rev_stop, and went_on_backorder are also categorical but is interpreted as object. "
   ]
  },
  {
   "cell_type": "markdown",
   "metadata": {},
   "source": [
    "#### Convert all the attributes to appropriate type"
   ]
  },
  {
   "cell_type": "markdown",
   "metadata": {},
   "source": [
    "Data type conversion\n",
    "\n",
    "    Using astype('category') to convert potential_issue, deck_risk, oe_constraint, ppap_risk, stop_auto_buy, rev_stop, and went_on_backorder attributes to categorical attributes.\n"
   ]
  },
  {
   "cell_type": "code",
   "execution_count": 48,
   "metadata": {},
   "outputs": [],
   "source": [
    "for col in ['sku', 'potential_issue', 'deck_risk', 'oe_constraint', 'ppap_risk', 'stop_auto_buy', 'rev_stop', 'went_on_backorder']:\n",
    "    data[col] = data[col].astype('category')"
   ]
  },
  {
   "cell_type": "markdown",
   "metadata": {},
   "source": [
    "Display data type of each variable"
   ]
  },
  {
   "cell_type": "code",
   "execution_count": 49,
   "metadata": {},
   "outputs": [
    {
     "data": {
      "text/plain": [
       "sku                  category\n",
       "national_inv            int64\n",
       "lead_time             float64\n",
       "in_transit_qty          int64\n",
       "forecast_3_month        int64\n",
       "forecast_6_month        int64\n",
       "forecast_9_month        int64\n",
       "sales_1_month           int64\n",
       "sales_3_month           int64\n",
       "sales_6_month           int64\n",
       "sales_9_month           int64\n",
       "min_bank                int64\n",
       "potential_issue      category\n",
       "pieces_past_due         int64\n",
       "perf_6_month_avg      float64\n",
       "perf_12_month_avg     float64\n",
       "local_bo_qty            int64\n",
       "deck_risk            category\n",
       "oe_constraint        category\n",
       "ppap_risk            category\n",
       "stop_auto_buy        category\n",
       "rev_stop             category\n",
       "went_on_backorder    category\n",
       "dtype: object"
      ]
     },
     "execution_count": 49,
     "metadata": {},
     "output_type": "execute_result"
    }
   ],
   "source": [
    "data.dtypes"
   ]
  },
  {
   "cell_type": "markdown",
   "metadata": {},
   "source": [
    "#### Delete sku attribute"
   ]
  },
  {
   "cell_type": "code",
   "execution_count": 50,
   "metadata": {},
   "outputs": [
    {
     "data": {
      "text/plain": [
       "61589"
      ]
     },
     "execution_count": 50,
     "metadata": {},
     "output_type": "execute_result"
    }
   ],
   "source": [
    "np.size(np.unique(data.sku, return_counts=True)[0])"
   ]
  },
  {
   "cell_type": "code",
   "execution_count": 51,
   "metadata": {},
   "outputs": [],
   "source": [
    "data.drop('sku', axis=1, inplace=True)"
   ]
  },
  {
   "cell_type": "markdown",
   "metadata": {},
   "source": [
    "#### Missing Data\n",
    "\n",
    "    Missing value analysis and dropping the records with missing values"
   ]
  },
  {
   "cell_type": "code",
   "execution_count": 52,
   "metadata": {},
   "outputs": [
    {
     "data": {
      "text/plain": [
       "national_inv            0\n",
       "lead_time            3403\n",
       "in_transit_qty          0\n",
       "forecast_3_month        0\n",
       "forecast_6_month        0\n",
       "forecast_9_month        0\n",
       "sales_1_month           0\n",
       "sales_3_month           0\n",
       "sales_6_month           0\n",
       "sales_9_month           0\n",
       "min_bank                0\n",
       "potential_issue         0\n",
       "pieces_past_due         0\n",
       "perf_6_month_avg        0\n",
       "perf_12_month_avg       0\n",
       "local_bo_qty            0\n",
       "deck_risk               0\n",
       "oe_constraint           0\n",
       "ppap_risk               0\n",
       "stop_auto_buy           0\n",
       "rev_stop                0\n",
       "went_on_backorder       0\n",
       "dtype: int64"
      ]
     },
     "execution_count": 52,
     "metadata": {},
     "output_type": "execute_result"
    }
   ],
   "source": [
    "data.isnull().sum()"
   ]
  },
  {
   "cell_type": "markdown",
   "metadata": {},
   "source": [
    "Observing the number of records before and after missing value records removal"
   ]
  },
  {
   "cell_type": "code",
   "execution_count": 53,
   "metadata": {},
   "outputs": [
    {
     "name": "stdout",
     "output_type": "stream",
     "text": [
      "(61589, 22)\n"
     ]
    }
   ],
   "source": [
    "print (data.shape)"
   ]
  },
  {
   "cell_type": "code",
   "execution_count": 54,
   "metadata": {},
   "outputs": [],
   "source": [
    "#Since the number of missing values is about 5%. For initial analysis we ignore all these records\n",
    "data = data.dropna(axis=0)"
   ]
  },
  {
   "cell_type": "code",
   "execution_count": 55,
   "metadata": {},
   "outputs": [
    {
     "name": "stdout",
     "output_type": "stream",
     "text": [
      "national_inv         0\n",
      "lead_time            0\n",
      "in_transit_qty       0\n",
      "forecast_3_month     0\n",
      "forecast_6_month     0\n",
      "forecast_9_month     0\n",
      "sales_1_month        0\n",
      "sales_3_month        0\n",
      "sales_6_month        0\n",
      "sales_9_month        0\n",
      "min_bank             0\n",
      "potential_issue      0\n",
      "pieces_past_due      0\n",
      "perf_6_month_avg     0\n",
      "perf_12_month_avg    0\n",
      "local_bo_qty         0\n",
      "deck_risk            0\n",
      "oe_constraint        0\n",
      "ppap_risk            0\n",
      "stop_auto_buy        0\n",
      "rev_stop             0\n",
      "went_on_backorder    0\n",
      "dtype: int64\n",
      "(58186, 22)\n"
     ]
    }
   ],
   "source": [
    "print(data.isnull().sum())\n",
    "print(data.shape)"
   ]
  },
  {
   "cell_type": "markdown",
   "metadata": {},
   "source": [
    "#### Converting Categorical to Numeric\n",
    "\n",
    "For some of the models all the independent attribute should be of type numeric and Linear Regression model is one among them.\n",
    "But this data set has some categorial attributes.\n",
    "\n",
    "'pandas.get_dummies' To convert convert categorical variable into dummy/indicator variables\n"
   ]
  },
  {
   "cell_type": "code",
   "execution_count": 56,
   "metadata": {},
   "outputs": [
    {
     "name": "stdout",
     "output_type": "stream",
     "text": [
      "Index(['national_inv', 'lead_time', 'in_transit_qty', 'forecast_3_month',\n",
      "       'forecast_6_month', 'forecast_9_month', 'sales_1_month',\n",
      "       'sales_3_month', 'sales_6_month', 'sales_9_month', 'min_bank',\n",
      "       'potential_issue', 'pieces_past_due', 'perf_6_month_avg',\n",
      "       'perf_12_month_avg', 'local_bo_qty', 'deck_risk', 'oe_constraint',\n",
      "       'ppap_risk', 'stop_auto_buy', 'rev_stop', 'went_on_backorder'],\n",
      "      dtype='object')\n"
     ]
    }
   ],
   "source": [
    "print (data.columns)"
   ]
  },
  {
   "cell_type": "markdown",
   "metadata": {},
   "source": [
    "Creating dummy variables.\n",
    "\n",
    "    If we have k levels in a category, then we create k-1 dummy variables as the last one would be redundant. So we use the parameter drop_first in pd.get_dummies function that drops the first level in each of the category\n"
   ]
  },
  {
   "cell_type": "code",
   "execution_count": 57,
   "metadata": {},
   "outputs": [],
   "source": [
    "categorical_Attributes = data.select_dtypes(include=['category']).columns"
   ]
  },
  {
   "cell_type": "code",
   "execution_count": 58,
   "metadata": {},
   "outputs": [],
   "source": [
    "data = pd.get_dummies(columns=categorical_Attributes, data=data, prefix=categorical_Attributes, prefix_sep=\"_\", drop_first=True)"
   ]
  },
  {
   "cell_type": "code",
   "execution_count": 59,
   "metadata": {},
   "outputs": [
    {
     "name": "stdout",
     "output_type": "stream",
     "text": [
      "Index(['national_inv', 'lead_time', 'in_transit_qty', 'forecast_3_month',\n",
      "       'forecast_6_month', 'forecast_9_month', 'sales_1_month',\n",
      "       'sales_3_month', 'sales_6_month', 'sales_9_month', 'min_bank',\n",
      "       'pieces_past_due', 'perf_6_month_avg', 'perf_12_month_avg',\n",
      "       'local_bo_qty', 'potential_issue_Yes', 'deck_risk_Yes',\n",
      "       'oe_constraint_Yes', 'ppap_risk_Yes', 'stop_auto_buy_Yes',\n",
      "       'rev_stop_Yes', 'went_on_backorder_Yes'],\n",
      "      dtype='object') (58186, 22)\n"
     ]
    }
   ],
   "source": [
    "print (data.columns, data.shape)"
   ]
  },
  {
   "cell_type": "markdown",
   "metadata": {},
   "source": [
    "#### Target attribute distribution"
   ]
  },
  {
   "cell_type": "code",
   "execution_count": 60,
   "metadata": {},
   "outputs": [
    {
     "data": {
      "text/plain": [
       "0    47217\n",
       "1    10969\n",
       "dtype: int64"
      ]
     },
     "execution_count": 60,
     "metadata": {},
     "output_type": "execute_result"
    }
   ],
   "source": [
    "pd.value_counts(data['went_on_backorder_Yes'].values)"
   ]
  },
  {
   "cell_type": "markdown",
   "metadata": {},
   "source": [
    "#### Split the data in to train and test\n",
    "\n",
    "sklearn.model_selection.train_test_split\n",
    "\n",
    "    Split arrays or matrices into random train and test subsets"
   ]
  },
  {
   "cell_type": "code",
   "execution_count": 61,
   "metadata": {},
   "outputs": [],
   "source": [
    "#Performing train test split on the data\n",
    "X, y = data.loc[:,data.columns!='went_on_backorder_Yes'].values, data.loc[:,'went_on_backorder_Yes'].values\n",
    "\n",
    "X_train, X_test, y_train, y_test = train_test_split(X, y, test_size=0.3, random_state=123)\n"
   ]
  },
  {
   "cell_type": "code",
   "execution_count": 62,
   "metadata": {},
   "outputs": [
    {
     "name": "stdout",
     "output_type": "stream",
     "text": [
      "0    33067\n",
      "1     7663\n",
      "dtype: int64\n",
      "0    14150\n",
      "1     3306\n",
      "dtype: int64\n"
     ]
    }
   ],
   "source": [
    "#To get the distribution in the target in train and test\n",
    "print(pd.value_counts(y_train))\n",
    "print(pd.value_counts(y_test))"
   ]
  },
  {
   "cell_type": "code",
   "execution_count": 63,
   "metadata": {},
   "outputs": [
    {
     "data": {
      "text/plain": [
       "StandardScaler(copy=True, with_mean=True, with_std=True)"
      ]
     },
     "execution_count": 63,
     "metadata": {},
     "output_type": "execute_result"
    }
   ],
   "source": [
    "scale = StandardScaler()\n",
    "scale.fit(X_train)"
   ]
  },
  {
   "cell_type": "code",
   "execution_count": 64,
   "metadata": {},
   "outputs": [],
   "source": [
    "X_train_std = scale.transform(X_train)\n",
    "X_test_std = scale.transform(X_test)"
   ]
  },
  {
   "cell_type": "markdown",
   "metadata": {},
   "source": [
    "#### KNN Classification"
   ]
  },
  {
   "cell_type": "code",
   "execution_count": 65,
   "metadata": {},
   "outputs": [],
   "source": [
    "neighbors = 3\n",
    "\n",
    "knn = KNeighborsClassifier(n_neighbors=neighbors)\n",
    "model = knn.fit(X_train_std, y_train)"
   ]
  },
  {
   "cell_type": "markdown",
   "metadata": {},
   "source": [
    "#### Predictions"
   ]
  },
  {
   "cell_type": "code",
   "execution_count": null,
   "metadata": {},
   "outputs": [],
   "source": [
    "test_pred=model.predict(X_test_std)\n",
    "train_pred=model.predict(X_train_std)"
   ]
  },
  {
   "cell_type": "markdown",
   "metadata": {},
   "source": [
    "#### Getting evaluation metrics and evaluating model performance"
   ]
  },
  {
   "cell_type": "code",
   "execution_count": null,
   "metadata": {},
   "outputs": [],
   "source": [
    "confusion_matrix_test = confusion_matrix(y_test, test_pred)\n",
    "confusion_matrix_train = confusion_matrix(y_train, train_pred)\n",
    "\n",
    "print(confusion_matrix_train)\n",
    "print(confusion_matrix_test)"
   ]
  },
  {
   "cell_type": "markdown",
   "metadata": {},
   "source": [
    "#### Calculate Accuracy, True Positive Rate and True Negative Rates"
   ]
  },
  {
   "cell_type": "code",
   "execution_count": null,
   "metadata": {},
   "outputs": [],
   "source": [
    "Accuracy_Train=(confusion_matrix_train[0,0]+confusion_matrix_train[1,1])/(confusion_matrix_train[0,0]+confusion_matrix_train[0,1]+confusion_matrix_train[1,0]+confusion_matrix_train[1,1])\n",
    "TNR_Train= confusion_matrix_train[0,0]/(confusion_matrix_train[0,0]+confusion_matrix_train[0,1])\n",
    "TPR_Train= confusion_matrix_train[1,1]/(confusion_matrix_train[1,0]+confusion_matrix_train[1,1])\n",
    "\n",
    "print(\"Train TNR: \",TNR_Train)\n",
    "print(\"Train TPR: \",TPR_Train)\n",
    "print(\"Train Accuracy: \",Accuracy_Train)"
   ]
  },
  {
   "cell_type": "code",
   "execution_count": null,
   "metadata": {},
   "outputs": [],
   "source": [
    "Accuracy_Test=(confusion_matrix_test[0,0]+confusion_matrix_test[1,1])/(confusion_matrix_test[0,0]+confusion_matrix_test[0,1]+confusion_matrix_test[1,0]+confusion_matrix_test[1,1])\n",
    "TNR_Test= confusion_matrix_test[0,0]/(confusion_matrix_test[0,0] +confusion_matrix_test[0,1])\n",
    "TPR_Test= confusion_matrix_test[1,1]/(confusion_matrix_test[1,0] +confusion_matrix_test[1,1])\n",
    "\n",
    "print(\"Test TNR: \",TNR_Test)\n",
    "print(\"Test TPR: \",TPR_Test)\n",
    "print(\"Test Accuracy: \",Accuracy_Test)"
   ]
  },
  {
   "cell_type": "code",
   "execution_count": null,
   "metadata": {},
   "outputs": [],
   "source": []
  }
 ],
 "metadata": {
  "kernelspec": {
   "display_name": "Python 3",
   "language": "python",
   "name": "python3"
  },
  "language_info": {
   "codemirror_mode": {
    "name": "ipython",
    "version": 3
   },
   "file_extension": ".py",
   "mimetype": "text/x-python",
   "name": "python",
   "nbconvert_exporter": "python",
   "pygments_lexer": "ipython3",
   "version": "3.6.5"
  }
 },
 "nbformat": 4,
 "nbformat_minor": 2
}
