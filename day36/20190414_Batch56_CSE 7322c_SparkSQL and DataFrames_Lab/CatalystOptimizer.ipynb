{
 "cells": [
  {
   "cell_type": "code",
   "execution_count": 1,
   "metadata": {},
   "outputs": [],
   "source": [
    "import os\n",
    "import sys\n",
    "os.environ[\"SPARK_HOME\"] = \"/usr/hdp/current/spark2-client\"\n",
    "os.environ[\"PYLIB\"] = os.environ[\"SPARK_HOME\"] + \"/python/lib\"\n",
    "sys.path.insert(0, os.environ[\"PYLIB\"] + \"/py4j-0.10.4-src.zip\")\n",
    "sys.path.insert(0, os.environ[\"PYLIB\"] + \"/pyspark.zip\")"
   ]
  },
  {
   "cell_type": "code",
   "execution_count": 2,
   "metadata": {},
   "outputs": [],
   "source": [
    "from pyspark.sql import SparkSession\n",
    "from pyspark import SparkConf\n",
    "spark = SparkSession.builder\\\n",
    "        .appName(\"Catalyst Optimizer\")\\\n",
    "        .master('local[*]')\\\n",
    "        .enableHiveSupport()\\\n",
    "        .config('spark.sql.warehouse.dir','hdfs://bigdata:8020/user/mahidharv/spark-warehouse')\\\n",
    "        .getOrCreate()"
   ]
  },
  {
   "cell_type": "code",
   "execution_count": 3,
   "metadata": {},
   "outputs": [],
   "source": [
    "sc = spark.sparkContext"
   ]
  },
  {
   "cell_type": "code",
   "execution_count": 4,
   "metadata": {},
   "outputs": [
    {
     "data": {
      "text/html": [
       "\n",
       "            <div>\n",
       "                <p><b>SparkSession - hive</b></p>\n",
       "                \n",
       "        <div>\n",
       "            <p><b>SparkContext</b></p>\n",
       "\n",
       "            <p><a href=\"http://p.insofe.edu.in:4040\">Spark UI</a></p>\n",
       "\n",
       "            <dl>\n",
       "              <dt>Version</dt>\n",
       "                <dd><code>v2.3.0.2.6.5.0-292</code></dd>\n",
       "              <dt>Master</dt>\n",
       "                <dd><code>local[*]</code></dd>\n",
       "              <dt>AppName</dt>\n",
       "                <dd><code>Catalyst Optimizer</code></dd>\n",
       "            </dl>\n",
       "        </div>\n",
       "        \n",
       "            </div>\n",
       "        "
      ],
      "text/plain": [
       "<pyspark.sql.session.SparkSession at 0x37fa090>"
      ]
     },
     "execution_count": 4,
     "metadata": {},
     "output_type": "execute_result"
    }
   ],
   "source": [
    "spark"
   ]
  },
  {
   "cell_type": "code",
   "execution_count": 5,
   "metadata": {},
   "outputs": [],
   "source": [
    "from pyspark.sql import Column as col\n",
    "from timeit import timeit"
   ]
  },
  {
   "cell_type": "code",
   "execution_count": 6,
   "metadata": {},
   "outputs": [
    {
     "data": {
      "text/plain": [
       "[(u'spark.history.kerberos.keytab', u'none'),\n",
       " (u'spark.eventLog.enabled', u'true'),\n",
       " (u'spark.history.ui.port', u'18081'),\n",
       " (u'spark.driver.extraLibraryPath',\n",
       "  u'/usr/hdp/current/hadoop-client/lib/native:/usr/hdp/current/hadoop-client/lib/native/Linux-amd64-64'),\n",
       " (u'spark.executor.id', u'driver'),\n",
       " (u'spark.yarn.queue', u'default'),\n",
       " (u'spark.executor.extraLibraryPath',\n",
       "  u'/usr/hdp/current/hadoop-client/lib/native:/usr/hdp/current/hadoop-client/lib/native/Linux-amd64-64'),\n",
       " (u'spark.yarn.historyServer.address', u'b.insofe.edu.in:18081'),\n",
       " (u'spark.history.fs.logDirectory', u'hdfs:///spark2-history/'),\n",
       " (u'spark.driver.host', u'p.insofe.edu.in'),\n",
       " (u'spark.sql.catalogImplementation', u'hive'),\n",
       " (u'spark.history.kerberos.principal', u'none'),\n",
       " (u'spark.rdd.compress', u'True'),\n",
       " (u'spark.history.provider',\n",
       "  u'org.apache.spark.deploy.history.FsHistoryProvider'),\n",
       " (u'spark.app.name', u'Catalyst Optimizer'),\n",
       " (u'spark.serializer.objectStreamReset', u'100'),\n",
       " (u'spark.master', u'local[*]'),\n",
       " (u'spark.app.id', u'local-1546057907827'),\n",
       " (u'spark.submit.deployMode', u'client'),\n",
       " (u'spark.ui.showConsoleProgress', u'true'),\n",
       " (u'spark.driver.port', u'36889'),\n",
       " (u'spark.sql.warehouse.dir',\n",
       "  u'hdfs://bigdata:8020/user/mahidharv/spark-warehouse'),\n",
       " (u'spark.eventLog.dir', u'hdfs:///spark2-history/')]"
      ]
     },
     "execution_count": 6,
     "metadata": {},
     "output_type": "execute_result"
    }
   ],
   "source": [
    "sc._conf.getAll()"
   ]
  },
  {
   "cell_type": "code",
   "execution_count": 12,
   "metadata": {},
   "outputs": [
    {
     "name": "stdout",
     "output_type": "stream",
     "text": [
      "+--------+\n",
      "|   count|\n",
      "+--------+\n",
      "|10000000|\n",
      "+--------+\n",
      "\n"
     ]
    }
   ],
   "source": [
    "#%%timeit -n 10\n",
    "df1 = spark.range(20000000).toDF(\"a\")\n",
    "df2 = spark.range(10000000).toDF(\"b\")\n",
    "result = df1.join(df2,df1.a == df2.b).groupby().count()\n",
    "result.show()"
   ]
  },
  {
   "cell_type": "code",
   "execution_count": 11,
   "metadata": {},
   "outputs": [
    {
     "name": "stdout",
     "output_type": "stream",
     "text": [
      "== Parsed Logical Plan ==\n",
      "Aggregate [count(1) AS count#55L]\n",
      "+- Join Inner, (a#40L = b#44L)\n",
      "   :- Project [id#38L AS a#40L]\n",
      "   :  +- Range (0, 20000000, step=1, splits=Some(8))\n",
      "   +- Project [id#42L AS b#44L]\n",
      "      +- Range (0, 10000000, step=1, splits=Some(8))\n",
      "\n",
      "== Analyzed Logical Plan ==\n",
      "count: bigint\n",
      "Aggregate [count(1) AS count#55L]\n",
      "+- Join Inner, (a#40L = b#44L)\n",
      "   :- Project [id#38L AS a#40L]\n",
      "   :  +- Range (0, 20000000, step=1, splits=Some(8))\n",
      "   +- Project [id#42L AS b#44L]\n",
      "      +- Range (0, 10000000, step=1, splits=Some(8))\n",
      "\n",
      "== Optimized Logical Plan ==\n",
      "Aggregate [count(1) AS count#55L]\n",
      "+- Project\n",
      "   +- Join Inner, (a#40L = b#44L)\n",
      "      :- Project [id#38L AS a#40L]\n",
      "      :  +- Range (0, 20000000, step=1, splits=Some(8))\n",
      "      +- Project [id#42L AS b#44L]\n",
      "         +- Range (0, 10000000, step=1, splits=Some(8))\n",
      "\n",
      "== Physical Plan ==\n",
      "*(6) HashAggregate(keys=[], functions=[count(1)], output=[count#55L])\n",
      "+- Exchange SinglePartition\n",
      "   +- *(5) HashAggregate(keys=[], functions=[partial_count(1)], output=[count#58L])\n",
      "      +- *(5) Project\n",
      "         +- *(5) SortMergeJoin [a#40L], [b#44L], Inner\n",
      "            :- *(2) Sort [a#40L ASC NULLS FIRST], false, 0\n",
      "            :  +- Exchange hashpartitioning(a#40L, 200)\n",
      "            :     +- *(1) Project [id#38L AS a#40L]\n",
      "            :        +- *(1) Range (0, 20000000, step=1, splits=8)\n",
      "            +- *(4) Sort [b#44L ASC NULLS FIRST], false, 0\n",
      "               +- Exchange hashpartitioning(b#44L, 200)\n",
      "                  +- *(3) Project [id#42L AS b#44L]\n",
      "                     +- *(3) Range (0, 10000000, step=1, splits=8)\n"
     ]
    }
   ],
   "source": [
    "result.explain(True)"
   ]
  },
  {
   "cell_type": "code",
   "execution_count": 11,
   "metadata": {},
   "outputs": [],
   "source": [
    "spark.stop()"
   ]
  },
  {
   "cell_type": "code",
   "execution_count": 17,
   "metadata": {},
   "outputs": [],
   "source": [
    "spark = SparkSession.builder\\\n",
    "        .appName(\"Catalyst Optimizer\")\\\n",
    "        .master('local[*]')\\\n",
    "        .enableHiveSupport()\\\n",
    "        .config(\"spark.sql.cbo.enabled\",False)\\\n",
    "        .getOrCreate()"
   ]
  },
  {
   "cell_type": "code",
   "execution_count": 18,
   "metadata": {},
   "outputs": [
    {
     "data": {
      "text/plain": [
       "[(u'spark.history.kerberos.keytab', u'none'),\n",
       " (u'spark.eventLog.enabled', u'true'),\n",
       " (u'spark.history.ui.port', u'18081'),\n",
       " (u'spark.driver.extraLibraryPath',\n",
       "  u'/usr/hdp/current/hadoop-client/lib/native:/usr/hdp/current/hadoop-client/lib/native/Linux-amd64-64'),\n",
       " (u'spark.executor.id', u'driver'),\n",
       " (u'spark.yarn.queue', u'default'),\n",
       " (u'spark.executor.extraLibraryPath',\n",
       "  u'/usr/hdp/current/hadoop-client/lib/native:/usr/hdp/current/hadoop-client/lib/native/Linux-amd64-64'),\n",
       " (u'spark.yarn.historyServer.address', u'b.insofe.edu.in:18081'),\n",
       " (u'spark.history.fs.logDirectory', u'hdfs:///spark2-history/'),\n",
       " (u'spark.app.id', u'local-1546007039197'),\n",
       " (u'spark.sql.catalogImplementation', u'hive'),\n",
       " (u'spark.history.kerberos.principal', u'none'),\n",
       " (u'spark.rdd.compress', u'True'),\n",
       " (u'spark.history.provider',\n",
       "  u'org.apache.spark.deploy.history.FsHistoryProvider'),\n",
       " (u'spark.app.name', u'Catalyst Optimizer'),\n",
       " (u'spark.serializer.objectStreamReset', u'100'),\n",
       " (u'spark.master', u'local[*]'),\n",
       " (u'spark.driver.port', u'47603'),\n",
       " (u'spark.submit.deployMode', u'client'),\n",
       " (u'spark.driver.host', u'l.insofe.edu.in'),\n",
       " (u'spark.ui.showConsoleProgress', u'true'),\n",
       " (u'spark.sql.warehouse.dir',\n",
       "  u'hdfs://bigdata:8020/user/mahidharv/spark-warehouse'),\n",
       " (u'spark.eventLog.dir', u'hdfs:///spark2-history/')]"
      ]
     },
     "execution_count": 18,
     "metadata": {},
     "output_type": "execute_result"
    }
   ],
   "source": [
    "sc._conf.getAll()"
   ]
  },
  {
   "cell_type": "code",
   "execution_count": 19,
   "metadata": {},
   "outputs": [],
   "source": [
    "df1 = spark.range(20000000).toDF(\"a\")\n",
    "df2 = spark.range(10000000).toDF(\"b\")\n",
    "result = df1.join(df2,df1.a == df2.b).groupby().count()"
   ]
  },
  {
   "cell_type": "code",
   "execution_count": 20,
   "metadata": {},
   "outputs": [
    {
     "name": "stdout",
     "output_type": "stream",
     "text": [
      "== Parsed Logical Plan ==\n",
      "Aggregate [count(1) AS count#59L]\n",
      "+- Join Inner, (a#44L = b#48L)\n",
      "   :- Project [id#42L AS a#44L]\n",
      "   :  +- Range (0, 20000000, step=1, splits=Some(8))\n",
      "   +- Project [id#46L AS b#48L]\n",
      "      +- Range (0, 10000000, step=1, splits=Some(8))\n",
      "\n",
      "== Analyzed Logical Plan ==\n",
      "count: bigint\n",
      "Aggregate [count(1) AS count#59L]\n",
      "+- Join Inner, (a#44L = b#48L)\n",
      "   :- Project [id#42L AS a#44L]\n",
      "   :  +- Range (0, 20000000, step=1, splits=Some(8))\n",
      "   +- Project [id#46L AS b#48L]\n",
      "      +- Range (0, 10000000, step=1, splits=Some(8))\n",
      "\n",
      "== Optimized Logical Plan ==\n",
      "Aggregate [count(1) AS count#59L]\n",
      "+- Project\n",
      "   +- Join Inner, (a#44L = b#48L)\n",
      "      :- Project [id#42L AS a#44L]\n",
      "      :  +- Range (0, 20000000, step=1, splits=Some(8))\n",
      "      +- Project [id#46L AS b#48L]\n",
      "         +- Range (0, 10000000, step=1, splits=Some(8))\n",
      "\n",
      "== Physical Plan ==\n",
      "*(6) HashAggregate(keys=[], functions=[count(1)], output=[count#59L])\n",
      "+- Exchange SinglePartition\n",
      "   +- *(5) HashAggregate(keys=[], functions=[partial_count(1)], output=[count#62L])\n",
      "      +- *(5) Project\n",
      "         +- *(5) SortMergeJoin [a#44L], [b#48L], Inner\n",
      "            :- *(2) Sort [a#44L ASC NULLS FIRST], false, 0\n",
      "            :  +- Exchange hashpartitioning(a#44L, 200)\n",
      "            :     +- *(1) Project [id#42L AS a#44L]\n",
      "            :        +- *(1) Range (0, 20000000, step=1, splits=8)\n",
      "            +- *(4) Sort [b#48L ASC NULLS FIRST], false, 0\n",
      "               +- Exchange hashpartitioning(b#48L, 200)\n",
      "                  +- *(3) Project [id#46L AS b#48L]\n",
      "                     +- *(3) Range (0, 10000000, step=1, splits=8)\n"
     ]
    }
   ],
   "source": [
    "result.explain(True)"
   ]
  },
  {
   "cell_type": "code",
   "execution_count": null,
   "metadata": {},
   "outputs": [],
   "source": []
  }
 ],
 "metadata": {
  "kernelspec": {
   "display_name": "Python 2",
   "language": "python",
   "name": "python2"
  },
  "language_info": {
   "codemirror_mode": {
    "name": "ipython",
    "version": 2
   },
   "file_extension": ".py",
   "mimetype": "text/x-python",
   "name": "python",
   "nbconvert_exporter": "python",
   "pygments_lexer": "ipython2",
   "version": "2.7.5"
  }
 },
 "nbformat": 4,
 "nbformat_minor": 2
}
