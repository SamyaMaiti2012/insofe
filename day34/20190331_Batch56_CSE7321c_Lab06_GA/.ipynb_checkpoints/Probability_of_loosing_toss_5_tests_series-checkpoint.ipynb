{
 "cells": [
  {
   "cell_type": "markdown",
   "metadata": {},
   "source": [
    "## What is the probability of a captain loosing all the toss in a 5 match test series  "
   ]
  },
  {
   "cell_type": "code",
   "execution_count": 1,
   "metadata": {},
   "outputs": [],
   "source": [
    "import numpy as np"
   ]
  },
  {
   "cell_type": "code",
   "execution_count": 2,
   "metadata": {},
   "outputs": [],
   "source": [
    "def prob_of_loosing(sims):\n",
    "    \n",
    "    count = 0\n",
    "    \n",
    "    for i in range(sims):\n",
    "        \n",
    "        call = np.random.randint(0, 2, size = 5)\n",
    "\n",
    "        actual = np.random.randint(0, 2, size = 5)\n",
    "\n",
    "        toss_won = np.sum(call == actual)\n",
    "\n",
    "        if toss_won == 0:\n",
    "            \n",
    "            count = count + 1\n",
    "            \n",
    "            pass\n",
    "        \n",
    "        pass\n",
    "    \n",
    "    print(\"Probability of such event for {0} simulations is {1}\".format(sims, count/sims))\n",
    "\n",
    "        "
   ]
  },
  {
   "cell_type": "code",
   "execution_count": 3,
   "metadata": {},
   "outputs": [
    {
     "name": "stdout",
     "output_type": "stream",
     "text": [
      "Probability of such event for 10 simulations is 0.0\n",
      "Probability of such event for 100 simulations is 0.02\n",
      "Probability of such event for 1000 simulations is 0.035\n",
      "Probability of such event for 10000 simulations is 0.0333\n",
      "Probability of such event for 100000 simulations is 0.03131\n"
     ]
    }
   ],
   "source": [
    "for i in [10,100,1000,10000,100000]:\n",
    "    \n",
    "    prob_of_loosing(i)"
   ]
  },
  {
   "cell_type": "code",
   "execution_count": null,
   "metadata": {},
   "outputs": [],
   "source": []
  }
 ],
 "metadata": {
  "kernelspec": {
   "display_name": "Python 3",
   "language": "python",
   "name": "python3"
  },
  "language_info": {
   "codemirror_mode": {
    "name": "ipython",
    "version": 3
   },
   "file_extension": ".py",
   "mimetype": "text/x-python",
   "name": "python",
   "nbconvert_exporter": "python",
   "pygments_lexer": "ipython3",
   "version": "3.6.6"
  }
 },
 "nbformat": 4,
 "nbformat_minor": 2
}
