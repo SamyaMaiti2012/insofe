{
 "cells": [
  {
   "cell_type": "markdown",
   "metadata": {},
   "source": [
    "## Import libraties"
   ]
  },
  {
   "cell_type": "code",
   "execution_count": 1,
   "metadata": {},
   "outputs": [],
   "source": [
    "import os \n",
    "import csv\n",
    "import numpy as np\n",
    "import pandas as pd\n",
    "import random # library to generate random numbers\n",
    "np.random.seed(seed=42)\n",
    "import math"
   ]
  },
  {
   "cell_type": "markdown",
   "metadata": {},
   "source": [
    "#### Import data"
   ]
  },
  {
   "cell_type": "code",
   "execution_count": 2,
   "metadata": {},
   "outputs": [
    {
     "data": {
      "text/html": [
       "<div>\n",
       "<style scoped>\n",
       "    .dataframe tbody tr th:only-of-type {\n",
       "        vertical-align: middle;\n",
       "    }\n",
       "\n",
       "    .dataframe tbody tr th {\n",
       "        vertical-align: top;\n",
       "    }\n",
       "\n",
       "    .dataframe thead th {\n",
       "        text-align: right;\n",
       "    }\n",
       "</style>\n",
       "<table border=\"1\" class=\"dataframe\">\n",
       "  <thead>\n",
       "    <tr style=\"text-align: right;\">\n",
       "      <th></th>\n",
       "      <th>Bangalore</th>\n",
       "      <th>Jaipur</th>\n",
       "      <th>Varanasi</th>\n",
       "      <th>Udaipur</th>\n",
       "      <th>Delhi</th>\n",
       "      <th>Chennai</th>\n",
       "      <th>Mysore</th>\n",
       "      <th>Agra</th>\n",
       "      <th>Kolkata</th>\n",
       "      <th>Mumbai</th>\n",
       "      <th>Hyderabad</th>\n",
       "    </tr>\n",
       "  </thead>\n",
       "  <tbody>\n",
       "    <tr>\n",
       "      <th>Bangalore</th>\n",
       "      <td>0</td>\n",
       "      <td>2026</td>\n",
       "      <td>1825</td>\n",
       "      <td>1724</td>\n",
       "      <td>2166</td>\n",
       "      <td>346</td>\n",
       "      <td>149</td>\n",
       "      <td>1923</td>\n",
       "      <td>1862</td>\n",
       "      <td>980</td>\n",
       "      <td>569</td>\n",
       "    </tr>\n",
       "    <tr>\n",
       "      <th>Jaipur</th>\n",
       "      <td>2026</td>\n",
       "      <td>0</td>\n",
       "      <td>849</td>\n",
       "      <td>393</td>\n",
       "      <td>287</td>\n",
       "      <td>2108</td>\n",
       "      <td>2121</td>\n",
       "      <td>240</td>\n",
       "      <td>1520</td>\n",
       "      <td>1146</td>\n",
       "      <td>1483</td>\n",
       "    </tr>\n",
       "    <tr>\n",
       "      <th>Varanasi</th>\n",
       "      <td>1825</td>\n",
       "      <td>849</td>\n",
       "      <td>0</td>\n",
       "      <td>1154</td>\n",
       "      <td>834</td>\n",
       "      <td>1862</td>\n",
       "      <td>1976</td>\n",
       "      <td>614</td>\n",
       "      <td>683</td>\n",
       "      <td>1524</td>\n",
       "      <td>1237</td>\n",
       "    </tr>\n",
       "    <tr>\n",
       "      <th>Udaipur</th>\n",
       "      <td>1724</td>\n",
       "      <td>393</td>\n",
       "      <td>1154</td>\n",
       "      <td>0</td>\n",
       "      <td>661</td>\n",
       "      <td>2077</td>\n",
       "      <td>1809</td>\n",
       "      <td>634</td>\n",
       "      <td>1825</td>\n",
       "      <td>753</td>\n",
       "      <td>1349</td>\n",
       "    </tr>\n",
       "    <tr>\n",
       "      <th>Delhi</th>\n",
       "      <td>2166</td>\n",
       "      <td>287</td>\n",
       "      <td>834</td>\n",
       "      <td>661</td>\n",
       "      <td>0</td>\n",
       "      <td>2203</td>\n",
       "      <td>2317</td>\n",
       "      <td>233</td>\n",
       "      <td>1498</td>\n",
       "      <td>1415</td>\n",
       "      <td>1578</td>\n",
       "    </tr>\n",
       "    <tr>\n",
       "      <th>Chennai</th>\n",
       "      <td>346</td>\n",
       "      <td>2108</td>\n",
       "      <td>1862</td>\n",
       "      <td>2077</td>\n",
       "      <td>2203</td>\n",
       "      <td>0</td>\n",
       "      <td>482</td>\n",
       "      <td>1957</td>\n",
       "      <td>1669</td>\n",
       "      <td>1345</td>\n",
       "      <td>627</td>\n",
       "    </tr>\n",
       "    <tr>\n",
       "      <th>Mysore</th>\n",
       "      <td>149</td>\n",
       "      <td>2121</td>\n",
       "      <td>1976</td>\n",
       "      <td>1809</td>\n",
       "      <td>2317</td>\n",
       "      <td>482</td>\n",
       "      <td>0</td>\n",
       "      <td>2072</td>\n",
       "      <td>2012</td>\n",
       "      <td>1064</td>\n",
       "      <td>718</td>\n",
       "    </tr>\n",
       "    <tr>\n",
       "      <th>Agra</th>\n",
       "      <td>1923</td>\n",
       "      <td>240</td>\n",
       "      <td>614</td>\n",
       "      <td>634</td>\n",
       "      <td>233</td>\n",
       "      <td>1957</td>\n",
       "      <td>2072</td>\n",
       "      <td>0</td>\n",
       "      <td>1280</td>\n",
       "      <td>1323</td>\n",
       "      <td>1334</td>\n",
       "    </tr>\n",
       "    <tr>\n",
       "      <th>Kolkata</th>\n",
       "      <td>1862</td>\n",
       "      <td>1520</td>\n",
       "      <td>683</td>\n",
       "      <td>1825</td>\n",
       "      <td>1498</td>\n",
       "      <td>1669</td>\n",
       "      <td>2012</td>\n",
       "      <td>1280</td>\n",
       "      <td>0</td>\n",
       "      <td>2053</td>\n",
       "      <td>1493</td>\n",
       "    </tr>\n",
       "    <tr>\n",
       "      <th>Mumbai</th>\n",
       "      <td>980</td>\n",
       "      <td>1146</td>\n",
       "      <td>1524</td>\n",
       "      <td>753</td>\n",
       "      <td>1415</td>\n",
       "      <td>1345</td>\n",
       "      <td>1064</td>\n",
       "      <td>1323</td>\n",
       "      <td>2053</td>\n",
       "      <td>0</td>\n",
       "      <td>711</td>\n",
       "    </tr>\n",
       "    <tr>\n",
       "      <th>Hyderabad</th>\n",
       "      <td>569</td>\n",
       "      <td>1483</td>\n",
       "      <td>1237</td>\n",
       "      <td>1349</td>\n",
       "      <td>1578</td>\n",
       "      <td>627</td>\n",
       "      <td>718</td>\n",
       "      <td>1334</td>\n",
       "      <td>1493</td>\n",
       "      <td>711</td>\n",
       "      <td>0</td>\n",
       "    </tr>\n",
       "  </tbody>\n",
       "</table>\n",
       "</div>"
      ],
      "text/plain": [
       "           Bangalore  Jaipur  Varanasi  Udaipur  Delhi  Chennai  Mysore  Agra  \\\n",
       "Bangalore          0    2026      1825     1724   2166      346     149  1923   \n",
       "Jaipur          2026       0       849      393    287     2108    2121   240   \n",
       "Varanasi        1825     849         0     1154    834     1862    1976   614   \n",
       "Udaipur         1724     393      1154        0    661     2077    1809   634   \n",
       "Delhi           2166     287       834      661      0     2203    2317   233   \n",
       "Chennai          346    2108      1862     2077   2203        0     482  1957   \n",
       "Mysore           149    2121      1976     1809   2317      482       0  2072   \n",
       "Agra            1923     240       614      634    233     1957    2072     0   \n",
       "Kolkata         1862    1520       683     1825   1498     1669    2012  1280   \n",
       "Mumbai           980    1146      1524      753   1415     1345    1064  1323   \n",
       "Hyderabad        569    1483      1237     1349   1578      627     718  1334   \n",
       "\n",
       "           Kolkata  Mumbai  Hyderabad  \n",
       "Bangalore     1862     980        569  \n",
       "Jaipur        1520    1146       1483  \n",
       "Varanasi       683    1524       1237  \n",
       "Udaipur       1825     753       1349  \n",
       "Delhi         1498    1415       1578  \n",
       "Chennai       1669    1345        627  \n",
       "Mysore        2012    1064        718  \n",
       "Agra          1280    1323       1334  \n",
       "Kolkata          0    2053       1493  \n",
       "Mumbai        2053       0        711  \n",
       "Hyderabad     1493     711          0  "
      ]
     },
     "execution_count": 2,
     "metadata": {},
     "output_type": "execute_result"
    }
   ],
   "source": [
    "data1 = pd.read_csv(\"cities_and_distances.csv\",header=0,index_col=0)\n",
    "data1"
   ]
  },
  {
   "cell_type": "markdown",
   "metadata": {},
   "source": [
    "#### Starting Point is Bangalore"
   ]
  },
  {
   "cell_type": "code",
   "execution_count": 3,
   "metadata": {},
   "outputs": [],
   "source": [
    "starting_point = \"Bangalore\""
   ]
  },
  {
   "cell_type": "markdown",
   "metadata": {},
   "source": [
    "##### Format the data into required format"
   ]
  },
  {
   "cell_type": "code",
   "execution_count": 4,
   "metadata": {},
   "outputs": [],
   "source": [
    "# data1.reset_index(inplace=True)\n",
    "# data1  = data1.iloc[:,2:]\n",
    "# data1.index = data1.columns.values\n"
   ]
  },
  {
   "cell_type": "markdown",
   "metadata": {},
   "source": [
    "###### The number of possible solutions are: 10! = 3628800\n",
    "We can generate all possible solutions and try to find the best of those , but this is a time taking process and may not be feasible for big problems.\n",
    "Genetic algorithm approach takes a randominzed search approach to find the best solution, with enough number of iterations, mutation and cross over, GA can reach the global minima for most of the problems."
   ]
  },
  {
   "cell_type": "markdown",
   "metadata": {},
   "source": [
    "##### Map places to integers"
   ]
  },
  {
   "cell_type": "code",
   "execution_count": 5,
   "metadata": {},
   "outputs": [
    {
     "data": {
      "text/plain": [
       "{0: 'Bangalore',\n",
       " 1: 'Jaipur',\n",
       " 2: 'Varanasi',\n",
       " 3: 'Udaipur',\n",
       " 4: 'Delhi',\n",
       " 5: 'Chennai',\n",
       " 6: 'Mysore',\n",
       " 7: 'Agra',\n",
       " 8: 'Kolkata',\n",
       " 9: 'Mumbai',\n",
       " 10: 'Hyderabad'}"
      ]
     },
     "execution_count": 5,
     "metadata": {},
     "output_type": "execute_result"
    }
   ],
   "source": [
    "cities_mapping = {}\n",
    "\n",
    "for i in enumerate(data1.columns):\n",
    "    cities_mapping[i[0]] = i[1]\n",
    "cities_mapping\n"
   ]
  },
  {
   "cell_type": "code",
   "execution_count": 6,
   "metadata": {},
   "outputs": [],
   "source": [
    "one_route = [5,6,10,9,1,3,4,7,2,8]# one of the routes"
   ]
  },
  {
   "cell_type": "code",
   "execution_count": 7,
   "metadata": {},
   "outputs": [
    {
     "data": {
      "text/plain": [
       "[5, 6, 10, 9, 1, 3, 4, 7, 2, 8]"
      ]
     },
     "execution_count": 7,
     "metadata": {},
     "output_type": "execute_result"
    }
   ],
   "source": [
    "one_route"
   ]
  },
  {
   "cell_type": "markdown",
   "metadata": {},
   "source": [
    "## createRandomRoute:: this function to generate random route"
   ]
  },
  {
   "cell_type": "code",
   "execution_count": 8,
   "metadata": {},
   "outputs": [],
   "source": [
    "def createRandomRoute():\n",
    "    \"\"\" This function generates a route by sampling numbers \"\"\"\n",
    "    my_randoms = random.sample(range(1,11), 10)    # excluding 0 from the range as 0 is the starting point for us i.e Bangalore\n",
    "    return my_randoms"
   ]
  },
  {
   "cell_type": "code",
   "execution_count": 9,
   "metadata": {
    "scrolled": true
   },
   "outputs": [],
   "source": [
    "temp_route = createRandomRoute()"
   ]
  },
  {
   "cell_type": "code",
   "execution_count": 10,
   "metadata": {
    "scrolled": false
   },
   "outputs": [
    {
     "data": {
      "text/plain": [
       "[2, 6, 5, 8, 4, 1, 10, 3, 9, 7]"
      ]
     },
     "execution_count": 10,
     "metadata": {},
     "output_type": "execute_result"
    }
   ],
   "source": [
    "temp_route"
   ]
  },
  {
   "cell_type": "markdown",
   "metadata": {},
   "source": [
    "## fitnessFunction :: Function to compute the route cost using the already defined path "
   ]
  },
  {
   "cell_type": "code",
   "execution_count": 11,
   "metadata": {},
   "outputs": [],
   "source": [
    "def fitnessFunction(pvRouteMap):\n",
    "    \"\"\"This functions takes the route generated and returns the cost incurred.\"\"\"\n",
    "    traverseData    = data1.copy() # creating a copy of the original df\n",
    "    sourcePoint     = 0 # defining a starting point\n",
    "    stopsCovered    = 0 # setting the number of stops covered to 0\n",
    "    routeCost       = 0 # setting the initial cost to 0\n",
    "    pvRouteMap1 = pvRouteMap #+ [pvRouteMap[0]]\n",
    "#     print(traverseData)\n",
    "    # initiate a while loop and calculate the cost for the whole path traversed and return the cost\n",
    "    while(stopsCovered < len(pvRouteMap1)) :  \n",
    "        routeCost = routeCost + traverseData.iloc[sourcePoint, pvRouteMap1[stopsCovered]]   \n",
    "        \"\"\"route cost is the sum of the cost incurred from travelling from one point to the next according\n",
    "        to the route that was generated previously.\"\"\"\n",
    "        sourcePoint = pvRouteMap1[stopsCovered] # update the source point to the next point in the route\n",
    "        stopsCovered = stopsCovered+1 #Adding 1 to the stops covered\n",
    "#         print(sourcePoint)\n",
    "    routeCost = routeCost + traverseData.iloc[pvRouteMap1[-1],0]\n",
    "\n",
    "    return(routeCost)"
   ]
  },
  {
   "cell_type": "code",
   "execution_count": 12,
   "metadata": {
    "scrolled": true
   },
   "outputs": [
    {
     "data": {
      "text/plain": [
       "14568"
      ]
     },
     "execution_count": 12,
     "metadata": {},
     "output_type": "execute_result"
    }
   ],
   "source": [
    "fitnessFunction(temp_route)"
   ]
  },
  {
   "cell_type": "markdown",
   "metadata": {},
   "source": [
    "#### We can look at the positions and think of one good route , we will see if our algorithm performs better than this route"
   ]
  },
  {
   "cell_type": "code",
   "execution_count": 13,
   "metadata": {
    "scrolled": false
   },
   "outputs": [
    {
     "data": {
      "text/plain": [
       "['Chennai',\n",
       " 'Mysore',\n",
       " 'Hyderabad',\n",
       " 'Mumbai',\n",
       " 'Jaipur',\n",
       " 'Udaipur',\n",
       " 'Delhi',\n",
       " 'Agra',\n",
       " 'Varanasi',\n",
       " 'Kolkata']"
      ]
     },
     "execution_count": 13,
     "metadata": {},
     "output_type": "execute_result"
    }
   ],
   "source": [
    "one_route_cities = []\n",
    "for i in one_route:\n",
    "    one_route_cities.append(cities_mapping[i])\n",
    "one_route_cities"
   ]
  },
  {
   "cell_type": "markdown",
   "metadata": {},
   "source": [
    "##  mutateRoute:: this function will generate mutated path where we define mutation policy."
   ]
  },
  {
   "cell_type": "code",
   "execution_count": 14,
   "metadata": {},
   "outputs": [],
   "source": [
    "def mutateRoute(initPath, mutateFactor):\n",
    "    \"\"\" This functions generates a mutated path , takes an input path and returns a mutated path.\n",
    "    Mutate factor is the point at which the string(route here) is split and the two parts are swapped.\"\"\"\n",
    "#    try:\n",
    "    temp1 = initPath[0:mutateFactor]\n",
    "    temp2 = initPath[mutateFactor:len(initPath)]\n",
    "    newPath = temp2 + temp1\n",
    "#     except:\n",
    "#         temp1 = initPath[0:max(mutateFactor)]\n",
    "#         temp2 = initPath[max(mutateFactor):]\n",
    "#         newPath = temp2 + temp1\n",
    "    return(newPath)"
   ]
  },
  {
   "cell_type": "markdown",
   "metadata": {},
   "source": [
    "#### Generate a sample path and mutate that path "
   ]
  },
  {
   "cell_type": "code",
   "execution_count": 15,
   "metadata": {
    "scrolled": true
   },
   "outputs": [],
   "source": [
    "temp_route = createRandomRoute()"
   ]
  },
  {
   "cell_type": "code",
   "execution_count": 16,
   "metadata": {
    "scrolled": false
   },
   "outputs": [
    {
     "data": {
      "text/plain": [
       "[2, 6, 10, 9, 5, 1, 4, 7, 8, 3]"
      ]
     },
     "execution_count": 16,
     "metadata": {},
     "output_type": "execute_result"
    }
   ],
   "source": [
    "temp_route"
   ]
  },
  {
   "cell_type": "code",
   "execution_count": 17,
   "metadata": {},
   "outputs": [
    {
     "data": {
      "text/plain": [
       "[10, 9, 5, 1, 4, 7, 8, 3, 2, 6]"
      ]
     },
     "execution_count": 17,
     "metadata": {},
     "output_type": "execute_result"
    }
   ],
   "source": [
    "mutateRoute(temp_route,2)"
   ]
  },
  {
   "cell_type": "code",
   "execution_count": 18,
   "metadata": {
    "scrolled": true
   },
   "outputs": [
    {
     "data": {
      "text/plain": [
       "14032"
      ]
     },
     "execution_count": 18,
     "metadata": {},
     "output_type": "execute_result"
    }
   ],
   "source": [
    "fitnessFunction(temp_route)"
   ]
  },
  {
   "cell_type": "code",
   "execution_count": 19,
   "metadata": {},
   "outputs": [
    {
     "name": "stdout",
     "output_type": "stream",
     "text": [
      "Total distance travelled to cover the route of Chennai => Mysore => Hyderabad => Mumbai => Jaipur => Udaipur => Delhi => Agra => Varanasi => Kolkata is 7849\n"
     ]
    }
   ],
   "source": [
    "print(\"Total distance travelled to cover the route of {} is {}\".format(\" => \".join( one_route_cities ),fitnessFunction(one_route)))"
   ]
  },
  {
   "cell_type": "markdown",
   "metadata": {},
   "source": [
    "# Function to create Initial (random) Population "
   ]
  },
  {
   "cell_type": "code",
   "execution_count": 20,
   "metadata": {},
   "outputs": [],
   "source": [
    "def initialPopCost(ninitpop = 10):\n",
    "    \"\"\"This function generates new routes and calculates the cost of the route.\n",
    "    returns a dictionary of routes and the cost.\"\"\"\n",
    "    np.random.seed(seed=42)\n",
    "    intial_cost = 0\n",
    "    routeCost = []\n",
    "    routes = [createRandomRoute() for i in range(0, ninitpop)]\n",
    "    routes_Cost = [fitnessFunction(i) for i in routes]\n",
    "    routes_DF = pd.DataFrame([routes,routes_Cost]).transpose()\n",
    "    routes_DF.columns = ['Route','Cost']\n",
    "    return(routes_DF)\n",
    "# initialPopCost()"
   ]
  },
  {
   "cell_type": "code",
   "execution_count": 21,
   "metadata": {},
   "outputs": [],
   "source": [
    "initial_pop_cost = initialPopCost(10)\n",
    "sorted_init_pop = initial_pop_cost.sort_values(['Cost'])"
   ]
  },
  {
   "cell_type": "code",
   "execution_count": 22,
   "metadata": {
    "scrolled": true
   },
   "outputs": [
    {
     "data": {
      "text/html": [
       "<div>\n",
       "<style scoped>\n",
       "    .dataframe tbody tr th:only-of-type {\n",
       "        vertical-align: middle;\n",
       "    }\n",
       "\n",
       "    .dataframe tbody tr th {\n",
       "        vertical-align: top;\n",
       "    }\n",
       "\n",
       "    .dataframe thead th {\n",
       "        text-align: right;\n",
       "    }\n",
       "</style>\n",
       "<table border=\"1\" class=\"dataframe\">\n",
       "  <thead>\n",
       "    <tr style=\"text-align: right;\">\n",
       "      <th></th>\n",
       "      <th>Route</th>\n",
       "      <th>Cost</th>\n",
       "    </tr>\n",
       "  </thead>\n",
       "  <tbody>\n",
       "    <tr>\n",
       "      <th>0</th>\n",
       "      <td>[10, 3, 2, 8, 1, 7, 4, 9, 6, 5]</td>\n",
       "      <td>9055</td>\n",
       "    </tr>\n",
       "    <tr>\n",
       "      <th>1</th>\n",
       "      <td>[7, 1, 4, 3, 9, 5, 2, 10, 8, 6]</td>\n",
       "      <td>11962</td>\n",
       "    </tr>\n",
       "    <tr>\n",
       "      <th>2</th>\n",
       "      <td>[5, 2, 7, 8, 4, 10, 6, 9, 3, 1]</td>\n",
       "      <td>12132</td>\n",
       "    </tr>\n",
       "    <tr>\n",
       "      <th>3</th>\n",
       "      <td>[5, 1, 9, 8, 4, 10, 6, 7, 2, 3]</td>\n",
       "      <td>15011</td>\n",
       "    </tr>\n",
       "    <tr>\n",
       "      <th>4</th>\n",
       "      <td>[4, 3, 2, 7, 1, 9, 10, 8, 5, 6]</td>\n",
       "      <td>10485</td>\n",
       "    </tr>\n",
       "    <tr>\n",
       "      <th>5</th>\n",
       "      <td>[9, 6, 2, 5, 3, 7, 8, 10, 4, 1]</td>\n",
       "      <td>15257</td>\n",
       "    </tr>\n",
       "    <tr>\n",
       "      <th>6</th>\n",
       "      <td>[3, 9, 8, 1, 5, 7, 4, 2, 10, 6]</td>\n",
       "      <td>13286</td>\n",
       "    </tr>\n",
       "    <tr>\n",
       "      <th>7</th>\n",
       "      <td>[8, 9, 4, 1, 10, 5, 7, 3, 6, 2]</td>\n",
       "      <td>15928</td>\n",
       "    </tr>\n",
       "    <tr>\n",
       "      <th>8</th>\n",
       "      <td>[10, 3, 9, 2, 5, 6, 7, 4, 8, 1]</td>\n",
       "      <td>13888</td>\n",
       "    </tr>\n",
       "    <tr>\n",
       "      <th>9</th>\n",
       "      <td>[1, 3, 2, 9, 5, 10, 6, 4, 7, 8]</td>\n",
       "      <td>13479</td>\n",
       "    </tr>\n",
       "  </tbody>\n",
       "</table>\n",
       "</div>"
      ],
      "text/plain": [
       "                             Route   Cost\n",
       "0  [10, 3, 2, 8, 1, 7, 4, 9, 6, 5]   9055\n",
       "1  [7, 1, 4, 3, 9, 5, 2, 10, 8, 6]  11962\n",
       "2  [5, 2, 7, 8, 4, 10, 6, 9, 3, 1]  12132\n",
       "3  [5, 1, 9, 8, 4, 10, 6, 7, 2, 3]  15011\n",
       "4  [4, 3, 2, 7, 1, 9, 10, 8, 5, 6]  10485\n",
       "5  [9, 6, 2, 5, 3, 7, 8, 10, 4, 1]  15257\n",
       "6  [3, 9, 8, 1, 5, 7, 4, 2, 10, 6]  13286\n",
       "7  [8, 9, 4, 1, 10, 5, 7, 3, 6, 2]  15928\n",
       "8  [10, 3, 9, 2, 5, 6, 7, 4, 8, 1]  13888\n",
       "9  [1, 3, 2, 9, 5, 10, 6, 4, 7, 8]  13479"
      ]
     },
     "execution_count": 22,
     "metadata": {},
     "output_type": "execute_result"
    }
   ],
   "source": [
    "initial_pop_cost"
   ]
  },
  {
   "cell_type": "code",
   "execution_count": 23,
   "metadata": {},
   "outputs": [
    {
     "data": {
      "text/html": [
       "<div>\n",
       "<style scoped>\n",
       "    .dataframe tbody tr th:only-of-type {\n",
       "        vertical-align: middle;\n",
       "    }\n",
       "\n",
       "    .dataframe tbody tr th {\n",
       "        vertical-align: top;\n",
       "    }\n",
       "\n",
       "    .dataframe thead th {\n",
       "        text-align: right;\n",
       "    }\n",
       "</style>\n",
       "<table border=\"1\" class=\"dataframe\">\n",
       "  <thead>\n",
       "    <tr style=\"text-align: right;\">\n",
       "      <th></th>\n",
       "      <th>Route</th>\n",
       "      <th>Cost</th>\n",
       "    </tr>\n",
       "  </thead>\n",
       "  <tbody>\n",
       "    <tr>\n",
       "      <th>0</th>\n",
       "      <td>[10, 3, 2, 8, 1, 7, 4, 9, 6, 5]</td>\n",
       "      <td>9055</td>\n",
       "    </tr>\n",
       "    <tr>\n",
       "      <th>4</th>\n",
       "      <td>[4, 3, 2, 7, 1, 9, 10, 8, 5, 6]</td>\n",
       "      <td>10485</td>\n",
       "    </tr>\n",
       "    <tr>\n",
       "      <th>1</th>\n",
       "      <td>[7, 1, 4, 3, 9, 5, 2, 10, 8, 6]</td>\n",
       "      <td>11962</td>\n",
       "    </tr>\n",
       "    <tr>\n",
       "      <th>2</th>\n",
       "      <td>[5, 2, 7, 8, 4, 10, 6, 9, 3, 1]</td>\n",
       "      <td>12132</td>\n",
       "    </tr>\n",
       "    <tr>\n",
       "      <th>6</th>\n",
       "      <td>[3, 9, 8, 1, 5, 7, 4, 2, 10, 6]</td>\n",
       "      <td>13286</td>\n",
       "    </tr>\n",
       "  </tbody>\n",
       "</table>\n",
       "</div>"
      ],
      "text/plain": [
       "                             Route   Cost\n",
       "0  [10, 3, 2, 8, 1, 7, 4, 9, 6, 5]   9055\n",
       "4  [4, 3, 2, 7, 1, 9, 10, 8, 5, 6]  10485\n",
       "1  [7, 1, 4, 3, 9, 5, 2, 10, 8, 6]  11962\n",
       "2  [5, 2, 7, 8, 4, 10, 6, 9, 3, 1]  12132\n",
       "6  [3, 9, 8, 1, 5, 7, 4, 2, 10, 6]  13286"
      ]
     },
     "execution_count": 23,
     "metadata": {},
     "output_type": "execute_result"
    }
   ],
   "source": [
    "sorted_init_pop.head()"
   ]
  },
  {
   "cell_type": "markdown",
   "metadata": {},
   "source": [
    "## Partially Mapped Crossover"
   ]
  },
  {
   "cell_type": "markdown",
   "metadata": {},
   "source": [
    "###### - implemented PMX conceptualized by goldberg"
   ]
  },
  {
   "cell_type": "code",
   "execution_count": 24,
   "metadata": {},
   "outputs": [],
   "source": [
    "def crossOverFunction(parent1, parent2,crossover_factor_start_pos=2,\n",
    "                             crossover_factor_end_pos=6):\n",
    "    indexes_for_crossover = random.sample(set(range(len(p1))), 2)\n",
    "    crossover_factor_start_pos,crossover_factor_end_pos = min(indexes_for_crossover),max(indexes_for_crossover)\n",
    "#     print (indexes_for_crossover)\n",
    "    ## generate child 1\n",
    "    child1 = parent1[0:crossover_factor_start_pos]+\\\n",
    "    parent2[crossover_factor_start_pos:crossover_factor_end_pos] +\\\n",
    "    parent1[crossover_factor_end_pos:]\n",
    "    \n",
    "    ## generate child 2\n",
    "    child2 = parent2[0:crossover_factor_start_pos] +\\\n",
    "    parent1[crossover_factor_start_pos:crossover_factor_end_pos] +\\\n",
    "    parent2[crossover_factor_end_pos:]\n",
    "    \n",
    "    ## Create mappings\n",
    "    mpping = list(zip(parent1[crossover_factor_start_pos:crossover_factor_end_pos], # create tuple of mappings\n",
    "                      parent2[crossover_factor_start_pos:crossover_factor_end_pos]))\n",
    "#     print(mpping)\n",
    "    # run until all the nodes in the route are unique\n",
    "    while len(np.unique(child1)) != len(child1):\n",
    "        child1_part = child1[:crossover_factor_start_pos]+child1[crossover_factor_end_pos:]\n",
    "        for i in child1_part:\n",
    "            for j in mpping:\n",
    "                if i == j[1]: #j[1] - Parent 2 window elements                 \n",
    "                    child1_part[child1_part.index(i)] = j[0] #j[0] - Parent 1 window elements\n",
    "                    \n",
    "        child1 = child1_part[:crossover_factor_start_pos]+ child1[crossover_factor_start_pos:crossover_factor_end_pos]+ child1_part[crossover_factor_start_pos:]\n",
    "        \n",
    "#         print(\"Child1 Intermediate {}\".format(child1))\n",
    "#     print(\"Child1 final {}\".format(child1))\n",
    "\n",
    "#     print(\"Child2 original {}\".format(child2))\n",
    "\n",
    "# run until all the nodes in the route are unique\n",
    "    while len(np.unique(child2)) != len(child2):\n",
    "        child2_part = child2[:crossover_factor_start_pos]+child2[crossover_factor_end_pos:]\n",
    "        for i in child2_part:\n",
    "            for j in mpping:\n",
    "                if i == j[0]:\n",
    "                    child2_part[child2_part.index(i)] = j[1]\n",
    "        child2 = child2_part[:crossover_factor_start_pos]+         child2[crossover_factor_start_pos:crossover_factor_end_pos]+         child2_part[crossover_factor_start_pos:]\n",
    "#         print(\"Child2 Intermediate {}\".format(child2))\n",
    "#     print(\"Child2 final {}\".format(child2))\n",
    "    return( child1,child2)"
   ]
  },
  {
   "cell_type": "code",
   "execution_count": 25,
   "metadata": {},
   "outputs": [],
   "source": [
    "p1 = [5,7,2,4,8,9,3,6]"
   ]
  },
  {
   "cell_type": "code",
   "execution_count": 26,
   "metadata": {},
   "outputs": [],
   "source": [
    "p2 = [8,6,9,3,2,5,7,4]"
   ]
  },
  {
   "cell_type": "code",
   "execution_count": 27,
   "metadata": {},
   "outputs": [
    {
     "name": "stdout",
     "output_type": "stream",
     "text": [
      "Parent: [5, 7, 2, 4, 8, 9, 3, 6]  : Child: [8, 4, 9, 3, 2, 5, 7, 6]\n",
      "Parent: [8, 6, 9, 3, 2, 5, 7, 4]  : Child: [5, 6, 2, 4, 8, 9, 3, 7]\n"
     ]
    }
   ],
   "source": [
    "for i in zip([p1,p2],crossOverFunction(p1,p2)):\n",
    "    print (\"Parent: {}  : Child: {}\".format(i[0],i[1]))"
   ]
  },
  {
   "cell_type": "markdown",
   "metadata": {},
   "source": [
    " ### Best Solution So Far\n"
   ]
  },
  {
   "cell_type": "markdown",
   "metadata": {},
   "source": [
    "Total distance travelled to cover the final route of \n",
    " Bangalore => Chennai => Hyderabad => Kolkata => Varanasi => Delhi => Agra => Jaipur => Udaipur => Mumbai => Mysore => Bangalore is 6815\n"
   ]
  },
  {
   "cell_type": "code",
   "execution_count": 28,
   "metadata": {},
   "outputs": [],
   "source": [
    "def genetic_algorithm(sorted_current_generation, no_of_chromosomes = 100 ,mutation_factor=0.2, xover_factor = 0.3):\n",
    "\n",
    "    \n",
    "    nextgen_childs = [] \n",
    "    \n",
    "    xover_pool = int(round(no_of_chromosomes * xover_factor ))\n",
    "    no_of_loops = int((no_of_chromosomes // 2) )\n",
    "    \n",
    "    print ('starting crossover')\n",
    "    for i in range(0,no_of_loops):\n",
    "        parent_index1 = random.choice(range(0,xover_pool))\n",
    "        p1= sorted_current_generation.iloc[parent_index1,0]\n",
    "        parent_index2 = random.choice(range(0,xover_pool))\n",
    "        p2= sorted_current_generation.iloc[parent_index2,0]\n",
    "\n",
    "        c1, c2 = crossOverFunction(p1,p2)\n",
    "        nextgen_childs.extend([c1,c2])\n",
    "        \n",
    "    nextgen_costs = [fitnessFunction(i) for i in nextgen_childs]\n",
    "    next_generation = pd.DataFrame([nextgen_childs,nextgen_costs],).transpose() \n",
    "    next_generation.columns = ['Route','Cost']\n",
    "    \n",
    "    print('starting Mutation')\n",
    "    \n",
    "    for i in range(0, no_of_chromosomes) :\n",
    "        mutation_prob = random.random()\n",
    "        if mutation_prob < mutation_factor: \n",
    "            mutated_child = mutateRoute (next_generation.iloc[i,0] , 2)\n",
    "            next_generation.iloc[i,0] = mutated_child\n",
    "            next_generation.iloc[i,1] = fitnessFunction(next_generation.iloc[i,0])\n",
    "\n",
    "    return (next_generation)"
   ]
  },
  {
   "cell_type": "code",
   "execution_count": 29,
   "metadata": {},
   "outputs": [],
   "source": [
    "def perform_genetic_algorithm(no_of_iterations = 20, no_of_chromosomes = 100 ,mutation_factor=0.2, xover_factor = 0.3):\n",
    "    best_solution = []\n",
    "    best_cost = 99999\n",
    "    current_generation = initialPopCost(no_of_chromosomes)\n",
    "    sorted_current_generation = current_generation.sort_values('Cost')\n",
    "    for i in range(0, no_of_iterations) :\n",
    "        next_generation = genetic_algorithm(sorted_current_generation,no_of_chromosomes  ,mutation_factor, xover_factor)\n",
    "        sorted_next_generation = next_generation.sort_values('Cost')\n",
    "        print (\"Completed {} runs of GA.\".format(i + 1))\n",
    "        print (\"below are the best chromosomes:\")\n",
    "        print(sorted_next_generation.head(3))\n",
    "#         if sorted_next_generation.iloc[0,1] > sorted_current_generation.iloc[0,1] :\n",
    "#             sorted_current_generation = sorted_next_generation\n",
    "#         else :\n",
    "#             i = no_of_iterations +1\n",
    "#             print (\"Completed {} runs of GA.\".format(i + 1))\")\n",
    "        sorted_current_generation = sorted_next_generation\n",
    "        if best_cost > sorted_next_generation.iloc[0,1] :\n",
    "            best_cost = sorted_next_generation.iloc[0,1]\n",
    "            best_solution = sorted_next_generation.iloc[0,0]\n",
    "\n",
    "        \n",
    "        final_route = []\n",
    "        for i in best_solution:\n",
    "            final_route.append(cities_mapping[i])\n",
    "        final_route = [starting_point] + final_route + [starting_point]\n",
    "        print(\"Total distance travelled to cover the final route of \\n {} is {}\".format(\" => \".join(final_route),best_cost))\n",
    "            \n",
    "\n",
    "    \n",
    "    return (best_solution, best_cost)"
   ]
  },
  {
   "cell_type": "code",
   "execution_count": 30,
   "metadata": {},
   "outputs": [
    {
     "name": "stdout",
     "output_type": "stream",
     "text": [
      "starting crossover\n",
      "starting Mutation\n",
      "Completed 1 runs of GA.\n",
      "below are the best chromosomes:\n",
      "                              Route   Cost\n",
      "9   [10, 8, 7, 2, 4, 1, 9, 3, 6, 5]   9613\n",
      "59  [10, 3, 9, 8, 2, 4, 7, 1, 6, 5]   9663\n",
      "45  [9, 7, 1, 4, 2, 8, 5, 6, 10, 3]  10289\n",
      "Total distance travelled to cover the final route of \n",
      " Bangalore => Hyderabad => Kolkata => Agra => Varanasi => Delhi => Jaipur => Mumbai => Udaipur => Mysore => Chennai => Bangalore is 9613\n",
      "starting crossover\n",
      "starting Mutation\n",
      "Completed 2 runs of GA.\n",
      "below are the best chromosomes:\n",
      "                              Route   Cost\n",
      "91  [7, 1, 3, 4, 8, 2, 10, 5, 9, 6]   9820\n",
      "31  [3, 1, 2, 7, 4, 8, 5, 9, 10, 6]   9903\n",
      "87  [10, 8, 2, 7, 3, 1, 9, 4, 6, 5]  10092\n",
      "Total distance travelled to cover the final route of \n",
      " Bangalore => Hyderabad => Kolkata => Agra => Varanasi => Delhi => Jaipur => Mumbai => Udaipur => Mysore => Chennai => Bangalore is 9613\n",
      "starting crossover\n",
      "starting Mutation\n",
      "Completed 3 runs of GA.\n",
      "below are the best chromosomes:\n",
      "                              Route  Cost\n",
      "58  [5, 8, 2, 7, 3, 1, 4, 10, 9, 6]  8128\n",
      "68  [10, 3, 1, 4, 2, 8, 7, 9, 5, 6]  8694\n",
      "44  [3, 7, 1, 4, 2, 9, 10, 8, 5, 6]  9747\n",
      "Total distance travelled to cover the final route of \n",
      " Bangalore => Chennai => Kolkata => Varanasi => Agra => Udaipur => Jaipur => Delhi => Hyderabad => Mumbai => Mysore => Bangalore is 8128\n",
      "starting crossover\n",
      "starting Mutation\n",
      "Completed 4 runs of GA.\n",
      "below are the best chromosomes:\n",
      "                              Route  Cost\n",
      "20  [5, 8, 2, 3, 7, 1, 4, 10, 9, 6]  8515\n",
      "6   [10, 3, 1, 4, 2, 8, 7, 9, 5, 6]  8694\n",
      "42  [8, 1, 4, 7, 2, 3, 9, 5, 10, 6]  9262\n",
      "Total distance travelled to cover the final route of \n",
      " Bangalore => Chennai => Kolkata => Varanasi => Agra => Udaipur => Jaipur => Delhi => Hyderabad => Mumbai => Mysore => Bangalore is 8128\n",
      "starting crossover\n",
      "starting Mutation\n",
      "Completed 5 runs of GA.\n",
      "below are the best chromosomes:\n",
      "                              Route  Cost\n",
      "68  [10, 8, 2, 7, 3, 1, 4, 9, 5, 6]  8064\n",
      "54  [10, 3, 1, 4, 7, 8, 2, 9, 5, 6]  8294\n",
      "3   [5, 8, 2, 3, 4, 1, 7, 10, 9, 6]  8298\n",
      "Total distance travelled to cover the final route of \n",
      " Bangalore => Hyderabad => Kolkata => Varanasi => Agra => Udaipur => Jaipur => Delhi => Mumbai => Chennai => Mysore => Bangalore is 8064\n",
      "starting crossover\n",
      "starting Mutation\n",
      "Completed 6 runs of GA.\n",
      "below are the best chromosomes:\n",
      "                              Route  Cost\n",
      "36  [5, 9, 1, 4, 3, 7, 2, 8, 10, 6]  8076\n",
      "83  [10, 8, 2, 4, 3, 1, 7, 9, 5, 6]  8172\n",
      "44  [10, 3, 1, 7, 4, 8, 2, 9, 5, 6]  8465\n",
      "Total distance travelled to cover the final route of \n",
      " Bangalore => Hyderabad => Kolkata => Varanasi => Agra => Udaipur => Jaipur => Delhi => Mumbai => Chennai => Mysore => Bangalore is 8064\n",
      "starting crossover\n",
      "starting Mutation\n",
      "Completed 7 runs of GA.\n",
      "below are the best chromosomes:\n",
      "                              Route  Cost\n",
      "56  [10, 9, 1, 4, 3, 7, 2, 8, 5, 6]  7605\n",
      "22  [10, 8, 2, 4, 3, 1, 7, 9, 5, 6]  8172\n",
      "14  [5, 9, 1, 4, 7, 3, 2, 8, 10, 6]  8188\n",
      "Total distance travelled to cover the final route of \n",
      " Bangalore => Hyderabad => Mumbai => Jaipur => Delhi => Udaipur => Agra => Varanasi => Kolkata => Chennai => Mysore => Bangalore is 7605\n",
      "starting crossover\n",
      "starting Mutation\n",
      "Completed 8 runs of GA.\n",
      "below are the best chromosomes:\n",
      "                              Route  Cost\n",
      "40  [10, 9, 1, 4, 3, 7, 2, 8, 5, 6]  7605\n",
      "58  [9, 3, 4, 7, 2, 8, 1, 10, 5, 6]  8185\n",
      "70  [5, 9, 1, 4, 7, 3, 2, 8, 10, 6]  8188\n",
      "Total distance travelled to cover the final route of \n",
      " Bangalore => Hyderabad => Mumbai => Jaipur => Delhi => Udaipur => Agra => Varanasi => Kolkata => Chennai => Mysore => Bangalore is 7605\n",
      "starting crossover\n",
      "starting Mutation\n",
      "Completed 9 runs of GA.\n",
      "below are the best chromosomes:\n",
      "                              Route  Cost\n",
      "12  [10, 9, 1, 4, 3, 7, 2, 8, 5, 6]  7605\n",
      "50  [10, 9, 1, 4, 7, 3, 2, 8, 5, 6]  7717\n",
      "8   [3, 1, 4, 7, 2, 8, 9, 10, 5, 6]  7956\n",
      "Total distance travelled to cover the final route of \n",
      " Bangalore => Hyderabad => Mumbai => Jaipur => Delhi => Udaipur => Agra => Varanasi => Kolkata => Chennai => Mysore => Bangalore is 7605\n",
      "starting crossover\n",
      "starting Mutation\n",
      "Completed 10 runs of GA.\n",
      "below are the best chromosomes:\n",
      "                              Route  Cost\n",
      "65  [10, 9, 1, 4, 3, 7, 2, 8, 5, 6]  7605\n",
      "89  [10, 9, 1, 4, 3, 7, 2, 8, 5, 6]  7605\n",
      "67  [10, 9, 1, 4, 7, 3, 2, 8, 5, 6]  7717\n",
      "Total distance travelled to cover the final route of \n",
      " Bangalore => Hyderabad => Mumbai => Jaipur => Delhi => Udaipur => Agra => Varanasi => Kolkata => Chennai => Mysore => Bangalore is 7605\n",
      "starting crossover\n",
      "starting Mutation\n",
      "Completed 11 runs of GA.\n",
      "below are the best chromosomes:\n",
      "                              Route  Cost\n",
      "74  [10, 9, 1, 4, 3, 7, 2, 8, 5, 6]  7605\n",
      "25  [10, 9, 1, 4, 3, 7, 2, 8, 5, 6]  7605\n",
      "42  [10, 9, 1, 4, 7, 3, 2, 8, 5, 6]  7717\n",
      "Total distance travelled to cover the final route of \n",
      " Bangalore => Hyderabad => Mumbai => Jaipur => Delhi => Udaipur => Agra => Varanasi => Kolkata => Chennai => Mysore => Bangalore is 7605\n",
      "starting crossover\n",
      "starting Mutation\n",
      "Completed 12 runs of GA.\n",
      "below are the best chromosomes:\n",
      "                              Route  Cost\n",
      "59  [9, 3, 1, 4, 7, 8, 2, 10, 5, 6]  7104\n",
      "30  [10, 9, 1, 4, 3, 7, 2, 8, 5, 6]  7605\n",
      "6   [10, 9, 1, 4, 3, 7, 2, 8, 5, 6]  7605\n",
      "Total distance travelled to cover the final route of \n",
      " Bangalore => Mumbai => Udaipur => Jaipur => Delhi => Agra => Kolkata => Varanasi => Hyderabad => Chennai => Mysore => Bangalore is 7104\n",
      "starting crossover\n",
      "starting Mutation\n",
      "Completed 13 runs of GA.\n",
      "below are the best chromosomes:\n",
      "                              Route  Cost\n",
      "74  [9, 3, 1, 4, 7, 8, 2, 10, 5, 6]  7104\n",
      "55  [9, 3, 1, 7, 4, 8, 2, 10, 5, 6]  7275\n",
      "49  [10, 9, 1, 4, 3, 7, 2, 8, 5, 6]  7605\n",
      "Total distance travelled to cover the final route of \n",
      " Bangalore => Mumbai => Udaipur => Jaipur => Delhi => Agra => Kolkata => Varanasi => Hyderabad => Chennai => Mysore => Bangalore is 7104\n",
      "starting crossover\n",
      "starting Mutation\n",
      "Completed 14 runs of GA.\n",
      "below are the best chromosomes:\n",
      "                              Route  Cost\n",
      "8   [9, 3, 1, 4, 7, 8, 2, 10, 5, 6]  7104\n",
      "59  [9, 3, 1, 7, 4, 8, 2, 10, 5, 6]  7275\n",
      "62  [9, 3, 1, 7, 4, 8, 2, 10, 5, 6]  7275\n",
      "Total distance travelled to cover the final route of \n",
      " Bangalore => Mumbai => Udaipur => Jaipur => Delhi => Agra => Kolkata => Varanasi => Hyderabad => Chennai => Mysore => Bangalore is 7104\n",
      "starting crossover\n",
      "starting Mutation\n",
      "Completed 15 runs of GA.\n",
      "below are the best chromosomes:\n",
      "                              Route  Cost\n",
      "21  [9, 3, 1, 4, 7, 8, 2, 10, 5, 6]  7104\n",
      "67  [9, 3, 1, 7, 4, 8, 2, 10, 5, 6]  7275\n",
      "0   [10, 9, 1, 4, 3, 7, 2, 8, 5, 6]  7605\n",
      "Total distance travelled to cover the final route of \n",
      " Bangalore => Mumbai => Udaipur => Jaipur => Delhi => Agra => Kolkata => Varanasi => Hyderabad => Chennai => Mysore => Bangalore is 7104\n",
      "starting crossover\n",
      "starting Mutation\n",
      "Completed 16 runs of GA.\n",
      "below are the best chromosomes:\n",
      "                              Route  Cost\n",
      "3   [9, 3, 1, 4, 7, 8, 2, 10, 5, 6]  7104\n",
      "0   [10, 9, 1, 4, 3, 7, 2, 8, 5, 6]  7605\n",
      "68  [10, 9, 1, 4, 3, 7, 2, 8, 5, 6]  7605\n",
      "Total distance travelled to cover the final route of \n",
      " Bangalore => Mumbai => Udaipur => Jaipur => Delhi => Agra => Kolkata => Varanasi => Hyderabad => Chennai => Mysore => Bangalore is 7104\n",
      "starting crossover\n",
      "starting Mutation\n",
      "Completed 17 runs of GA.\n",
      "below are the best chromosomes:\n",
      "                              Route  Cost\n",
      "34  [9, 3, 1, 4, 7, 8, 2, 10, 5, 6]  7104\n",
      "41  [9, 3, 1, 4, 7, 8, 2, 10, 5, 6]  7104\n",
      "71  [10, 9, 1, 4, 3, 7, 2, 8, 5, 6]  7605\n",
      "Total distance travelled to cover the final route of \n",
      " Bangalore => Mumbai => Udaipur => Jaipur => Delhi => Agra => Kolkata => Varanasi => Hyderabad => Chennai => Mysore => Bangalore is 7104\n",
      "starting crossover\n",
      "starting Mutation\n",
      "Completed 18 runs of GA.\n",
      "below are the best chromosomes:\n",
      "                              Route  Cost\n",
      "65  [9, 3, 1, 4, 7, 8, 2, 10, 5, 6]  7104\n",
      "67  [9, 3, 1, 4, 7, 8, 2, 10, 5, 6]  7104\n",
      "18  [9, 3, 1, 4, 7, 8, 2, 10, 5, 6]  7104\n",
      "Total distance travelled to cover the final route of \n",
      " Bangalore => Mumbai => Udaipur => Jaipur => Delhi => Agra => Kolkata => Varanasi => Hyderabad => Chennai => Mysore => Bangalore is 7104\n",
      "starting crossover\n",
      "starting Mutation\n",
      "Completed 19 runs of GA.\n",
      "below are the best chromosomes:\n",
      "                              Route  Cost\n",
      "75  [9, 3, 1, 4, 7, 8, 2, 10, 5, 6]  7104\n",
      "49  [10, 9, 1, 4, 3, 7, 2, 8, 5, 6]  7605\n",
      "52  [10, 9, 1, 4, 3, 7, 2, 8, 5, 6]  7605\n",
      "Total distance travelled to cover the final route of \n",
      " Bangalore => Mumbai => Udaipur => Jaipur => Delhi => Agra => Kolkata => Varanasi => Hyderabad => Chennai => Mysore => Bangalore is 7104\n",
      "starting crossover\n"
     ]
    },
    {
     "name": "stdout",
     "output_type": "stream",
     "text": [
      "starting Mutation\n",
      "Completed 20 runs of GA.\n",
      "below are the best chromosomes:\n",
      "                              Route  Cost\n",
      "49  [9, 3, 1, 4, 7, 8, 2, 10, 5, 6]  7104\n",
      "69  [10, 9, 1, 4, 3, 7, 2, 8, 5, 6]  7605\n",
      "68  [10, 9, 1, 4, 3, 7, 2, 8, 5, 6]  7605\n",
      "Total distance travelled to cover the final route of \n",
      " Bangalore => Mumbai => Udaipur => Jaipur => Delhi => Agra => Kolkata => Varanasi => Hyderabad => Chennai => Mysore => Bangalore is 7104\n"
     ]
    }
   ],
   "source": [
    "best_solution, best_cost = perform_genetic_algorithm()"
   ]
  },
  {
   "cell_type": "code",
   "execution_count": 32,
   "metadata": {},
   "outputs": [
    {
     "name": "stdout",
     "output_type": "stream",
     "text": [
      "Total distance travelled to cover the final route of \n",
      " Bangalore => Mumbai => Udaipur => Jaipur => Delhi => Agra => Kolkata => Varanasi => Hyderabad => Chennai => Mysore => Bangalore is 7104\n"
     ]
    }
   ],
   "source": [
    "\n",
    "final_route = []\n",
    "for i in best_solution:\n",
    "    final_route.append(cities_mapping[i])\n",
    "final_route = [starting_point] + final_route + [starting_point]\n",
    "print(\"Total distance travelled to cover the final route of \\n {} is {}\".format(\" => \".join(final_route),best_cost))\n"
   ]
  },
  {
   "cell_type": "code",
   "execution_count": null,
   "metadata": {},
   "outputs": [],
   "source": []
  }
 ],
 "metadata": {
  "kernelspec": {
   "display_name": "Python 3",
   "language": "python",
   "name": "python3"
  },
  "language_info": {
   "codemirror_mode": {
    "name": "ipython",
    "version": 3
   },
   "file_extension": ".py",
   "mimetype": "text/x-python",
   "name": "python",
   "nbconvert_exporter": "python",
   "pygments_lexer": "ipython3",
   "version": "3.6.5"
  }
 },
 "nbformat": 4,
 "nbformat_minor": 2
}
