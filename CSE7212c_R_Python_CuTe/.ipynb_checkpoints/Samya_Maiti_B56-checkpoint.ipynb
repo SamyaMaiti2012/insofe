{
 "cells": [
  {
   "cell_type": "markdown",
   "metadata": {},
   "source": [
    "# CSE7212c_R_Python_CUTe"
   ]
  },
  {
   "cell_type": "markdown",
   "metadata": {},
   "source": [
    "## Question 1\n",
    "Print all the integers till 1000 which are not a multiple of 8 but are divisible by 4, also\n",
    "print the count of such occurrences."
   ]
  },
  {
   "cell_type": "code",
   "execution_count": 1,
   "metadata": {},
   "outputs": [
    {
     "name": "stdout",
     "output_type": "stream",
     "text": [
      "Integers till 1000, that are not a multiple of 8 but are divisible by 4 : \n",
      "\n",
      " [4, 12, 20, 28, 36, 44, 52, 60, 68, 76, 84, 92, 100, 108, 116, 124, 132, 140, 148, 156, 164, 172, 180, 188, 196, 204, 212, 220, 228, 236, 244, 252, 260, 268, 276, 284, 292, 300, 308, 316, 324, 332, 340, 348, 356, 364, 372, 380, 388, 396, 404, 412, 420, 428, 436, 444, 452, 460, 468, 476, 484, 492, 500, 508, 516, 524, 532, 540, 548, 556, 564, 572, 580, 588, 596, 604, 612, 620, 628, 636, 644, 652, 660, 668, 676, 684, 692, 700, 708, 716, 724, 732, 740, 748, 756, 764, 772, 780, 788, 796, 804, 812, 820, 828, 836, 844, 852, 860, 868, 876, 884, 892, 900, 908, 916, 924, 932, 940, 948, 956, 964, 972, 980, 988, 996]\n",
      "\n",
      "\n",
      "Count of integers till 1000 that are divisible by 4 but not 8 : \n",
      "\n",
      " 125\n"
     ]
    }
   ],
   "source": [
    "#Integers till 1000, that are not a multiple of 8 but are divisible by 4, put into a list using list comprehension\n",
    "list_of_numbers = [num for num in range(1000) if (num % 8 != 0 and num % 4 == 0) ]\n",
    "print(\"Integers till 1000, that are not a multiple of 8 but are divisible by 4 : \\n\\n\",list_of_numbers)\n",
    "print(\"\\n\")\n",
    "print(\"Count of integers till 1000 that are divisible by 4 but not 8 : \\n\\n\",len(list_of_numbers))"
   ]
  },
  {
   "cell_type": "markdown",
   "metadata": {},
   "source": [
    "## Question 2\n",
    "Create a list of 20 integers and write code using only list comprehensions:"
   ]
  },
  {
   "cell_type": "code",
   "execution_count": 2,
   "metadata": {},
   "outputs": [
    {
     "name": "stdout",
     "output_type": "stream",
     "text": [
      "Generated list of random 20 numbers : \n",
      "\n",
      " [1000, 131, 900, 600, 573, 185, 346, 277, 146, 808, 279, 687, 130, 270, 315, 177, 981, 46, 215, 613]\n"
     ]
    }
   ],
   "source": [
    "#List of 20 integers generated randomly\n",
    "import random\n",
    "list_of_random_num = [random.randint(1, 1000) for x in range(20)]\n",
    "print(\"Generated list of random 20 numbers : \\n\\n\",list_of_random_num)"
   ]
  },
  {
   "cell_type": "markdown",
   "metadata": {},
   "source": [
    "### Question 2(i)\n",
    "i.Print the sum of the list of squared values"
   ]
  },
  {
   "cell_type": "code",
   "execution_count": 3,
   "metadata": {},
   "outputs": [
    {
     "name": "stdout",
     "output_type": "stream",
     "text": [
      "Squared values for every element of the List : \n",
      "\n",
      " [1000000, 17161, 810000, 360000, 328329, 34225, 119716, 76729, 21316, 652864, 77841, 471969, 16900, 72900, 99225, 31329, 962361, 2116, 46225, 375769]\n",
      "\n",
      "\n",
      "Sum of the list of squared values :\n",
      "\n",
      " 5576975\n"
     ]
    }
   ],
   "source": [
    "#Q : Sum of the list of squared values\n",
    "#List of square values\n",
    "list_of_squares = [elem**2 for elem in list_of_random_num]\n",
    "print(\"Squared values for every element of the List : \\n\\n\",list_of_squares)\n",
    "\n",
    "print(\"\\n\")\n",
    "\n",
    "#Sum of all squared elements\n",
    "sum_of_all_elements = sum(list_of_squares)\n",
    "print(\"Sum of the list of squared values :\\n\\n\",sum_of_all_elements)"
   ]
  },
  {
   "cell_type": "markdown",
   "metadata": {},
   "source": [
    "### Question 2(ii)\n",
    "ii.Print the odd values"
   ]
  },
  {
   "cell_type": "code",
   "execution_count": 4,
   "metadata": {},
   "outputs": [
    {
     "name": "stdout",
     "output_type": "stream",
     "text": [
      "List of odd values :\n",
      "\n",
      " [131, 573, 185, 277, 279, 687, 315, 177, 981, 215, 613]\n"
     ]
    }
   ],
   "source": [
    "#List of odd values in the generated list\n",
    "list_of_odd_values = [elem for elem in list_of_random_num if elem % 2 != 0]\n",
    "print(\"List of odd values :\\n\\n\",list_of_odd_values)"
   ]
  },
  {
   "cell_type": "markdown",
   "metadata": {},
   "source": [
    "### Question 2(iii)\n",
    "iii.Print the even values"
   ]
  },
  {
   "cell_type": "code",
   "execution_count": 5,
   "metadata": {},
   "outputs": [
    {
     "name": "stdout",
     "output_type": "stream",
     "text": [
      "List of even values :\n",
      "\n",
      " [1000, 900, 600, 346, 146, 808, 130, 270, 46]\n"
     ]
    }
   ],
   "source": [
    "#List of even values in the generated list\n",
    "list_of_even_values = [elem for elem in list_of_random_num if elem % 2 == 0]\n",
    "print(\"List of even values :\\n\\n\",list_of_even_values)"
   ]
  },
  {
   "cell_type": "markdown",
   "metadata": {},
   "source": [
    "### Question 2(iv)\n",
    "iv.Print the numbers that are divisible by 5 but are not divisible by 10\n"
   ]
  },
  {
   "cell_type": "code",
   "execution_count": 6,
   "metadata": {},
   "outputs": [
    {
     "name": "stdout",
     "output_type": "stream",
     "text": [
      "List of numbers that are divisible by 5 but are not divisible by 10 :\n",
      "\n",
      " [185, 315, 215]\n"
     ]
    }
   ],
   "source": [
    "#List of numbers that are divisible by 5 but are not divisible by 10\n",
    "list_of_numbers_divisible_by_5_not_10 = [elem for elem in list_of_random_num if (elem % 10 != 0 and elem % 5 == 0) ]\n",
    "print(\"List of numbers that are divisible by 5 but are not divisible by 10 :\\n\\n\",\n",
    "      list_of_numbers_divisible_by_5_not_10)\n"
   ]
  },
  {
   "cell_type": "markdown",
   "metadata": {},
   "source": [
    "## Question 3\n",
    "Write a function to print “Palindrome” if the input string is a palindrome, else “Not a Palindrome”.\n",
    "\n",
    "Eg: If input is “Rotator” the function should return “Palindrome”\n",
    "\n",
    "If input is “Insofe” the function should return “Not a Palindrome”"
   ]
  },
  {
   "cell_type": "code",
   "execution_count": 7,
   "metadata": {},
   "outputs": [
    {
     "name": "stdout",
     "output_type": "stream",
     "text": [
      "Provide valid input, None/null provided\n",
      "\n",
      "\n",
      "Input String :  Rotator\n",
      "Reverse of input string :  rotatoR\n",
      "Palindrome\n",
      "\n",
      "\n",
      "Input String :  Insofe\n",
      "Reverse of input string :  efosnI\n",
      "Not a Palindrome\n"
     ]
    }
   ],
   "source": [
    "#Function to check for Palindrome\n",
    "def reverse(string_to_reverse):\n",
    "    return string_to_reverse[::-1]\n",
    "\n",
    "def checkPalindrome(input_str):\n",
    "    return_str = None\n",
    "    #Check for null input\n",
    "    if input_str is None :\n",
    "        return_str = \"Provide valid input, None/null provided\"\n",
    "        return return_str\n",
    "    else :\n",
    "        print(\"Input String : \", input_str)\n",
    "        \n",
    "        #Reverse of a string\n",
    "        rev_input_str = reverse(input_str)\n",
    "        print(\"Reverse of input string : \",rev_input_str)\n",
    "        \n",
    "        #Check if the input string & reverse is same (case insensitive)\n",
    "        if(input_str.lower() == rev_input_str.lower()) :\n",
    "            return_str = \"Palindrome\"\n",
    "            return return_str\n",
    "        else :\n",
    "            return_str = \"Not a Palindrome\"\n",
    "            return return_str\n",
    "\n",
    "\n",
    "        \n",
    "        \n",
    "#Input to Test\n",
    "print(checkPalindrome(None))\n",
    "print(\"\\n\")\n",
    "print(checkPalindrome(\"Rotator\"))\n",
    "print(\"\\n\")\n",
    "print(checkPalindrome(\"Insofe\"))"
   ]
  },
  {
   "cell_type": "markdown",
   "metadata": {},
   "source": [
    "## Question 4\n",
    "Write a function that takes a string as an input and returns the sum of the numbers corresponding to each alphabets position from a to z."
   ]
  },
  {
   "cell_type": "code",
   "execution_count": 8,
   "metadata": {},
   "outputs": [
    {
     "name": "stdout",
     "output_type": "stream",
     "text": [
      "List of Alphabets : \n",
      "\n",
      " ['A', 'B', 'C', 'D', 'E', 'F', 'G', 'H', 'I', 'J', 'K', 'L', 'M', 'N', 'O', 'P', 'Q', 'R', 'S', 'T', 'U', 'V', 'W', 'X', 'Y', 'Z']\n",
      "\n",
      "\n",
      "List of Alphabets : \n",
      "\n",
      " [1, 2, 3, 4, 5, 6, 7, 8, 9, 10, 11, 12, 13, 14, 15, 16, 17, 18, 19, 20, 21, 22, 23, 24, 25, 26]\n",
      "\n",
      "\n",
      "Generated dictionary : \n",
      "\n",
      " {'A': 1, 'B': 2, 'C': 3, 'D': 4, 'E': 5, 'F': 6, 'G': 7, 'H': 8, 'I': 9, 'J': 10, 'K': 11, 'L': 12, 'M': 13, 'N': 14, 'O': 15, 'P': 16, 'Q': 17, 'R': 18, 'S': 19, 'T': 20, 'U': 21, 'V': 22, 'W': 23, 'X': 24, 'Y': 25, 'Z': 26}\n",
      "\n",
      "\n",
      "Provide valid input, None/null provided\n",
      "\n",
      "\n",
      "107\n",
      "\n",
      "\n",
      "68\n",
      "\n",
      "\n",
      "33\n"
     ]
    }
   ],
   "source": [
    "#Generate list of alphabets from a to z\n",
    "import string\n",
    "list_alphabets = list(string.ascii_uppercase)\n",
    "print(\"List of Alphabets : \\n\\n\",list_alphabets)\n",
    "\n",
    "print(\"\\n\")\n",
    "\n",
    "#Generate list of numbers from 1 to 26\n",
    "list_numbers = [num for num in range(1,27)]\n",
    "print(\"List of Alphabets : \\n\\n\",list_numbers)\n",
    "\n",
    "print(\"\\n\")\n",
    "\n",
    "#Zip the two lists vertically to generate a dictionary\n",
    "dict_alphabets_to_numbers = dict(zip(list_alphabets, list_numbers))\n",
    "print(\"Generated dictionary : \\n\\n\",dict_alphabets_to_numbers)\n",
    "\n",
    "print(\"\\n\")\n",
    "\n",
    "#Sum of the numbers corresponding to each alphabets position from a to z\n",
    "def sumOfStringAsNumRepresentation(input_str):\n",
    "    return_str = None\n",
    "    #Check for null input\n",
    "    if input_str is None :\n",
    "        return_str = \"Provide valid input, None/null provided\"\n",
    "        return return_str\n",
    "    else :\n",
    "        sum_of_nums = 0\n",
    "        for char_val in input_str :\n",
    "            num_representation = dict_alphabets_to_numbers.get(char_val.upper())\n",
    "            sum_of_nums+=num_representation\n",
    "        return sum_of_nums\n",
    "\n",
    "\n",
    "\n",
    "#Input to Test\n",
    "print(sumOfStringAsNumRepresentation(None))\n",
    "print(\"\\n\")\n",
    "print(sumOfStringAsNumRepresentation(\"Rotator\"))\n",
    "print(\"\\n\")\n",
    "print(sumOfStringAsNumRepresentation(\"Insofe\"))\n",
    "print(\"\\n\")\n",
    "print(sumOfStringAsNumRepresentation(\"Sam\"))"
   ]
  },
  {
   "cell_type": "markdown",
   "metadata": {},
   "source": [
    "## Question 5\n",
    "Return the sum of numbers from 1 to 20 raised to the power of themselves, use lambda function, list comprehension."
   ]
  },
  {
   "cell_type": "code",
   "execution_count": 9,
   "metadata": {},
   "outputs": [
    {
     "name": "stdout",
     "output_type": "stream",
     "text": [
      "List of generated numbers from 1 to 20 : \n",
      "\n",
      " [1, 2, 3, 4, 5, 6, 7, 8, 9, 10, 11, 12, 13, 14, 15, 16, 17, 18, 19, 20]\n",
      "\n",
      "\n",
      "List of elements raised to its own power : \n",
      "\n",
      " [1, 4, 27, 256, 3125, 46656, 823543, 16777216, 387420489, 10000000000, 285311670611, 8916100448256, 302875106592253, 11112006825558016, 437893890380859375, 18446744073709551616, 827240261886336764177, 39346408075296537575424, 1978419655660313589123979, 104857600000000000000000000]\n",
      "\n",
      "\n",
      "Sum of numbers from 1 to 20 raised to the power of themselves:\n",
      "\n",
      " 106876212200059554303215024\n"
     ]
    }
   ],
   "source": [
    "#Generate list of numbers from 1 to 20\n",
    "list_of_numbers_from_1_to_20 = [num for num in range(1,21)]\n",
    "print(\"List of generated numbers from 1 to 20 : \\n\\n\",list_of_numbers_from_1_to_20)\n",
    "\n",
    "print(\"\\n\")\n",
    "      \n",
    "#Each element in the list, raised to its own piwer\n",
    "list_of_numbers_self_raised_power = [(lambda elem: elem**elem)(elem) for elem in list_of_numbers_from_1_to_20]\n",
    "print(\"List of elements raised to its own power : \\n\\n\",list_of_numbers_self_raised_power)\n",
    "\n",
    "print(\"\\n\")\n",
    "\n",
    "#Sum of all elements raised to there own power\n",
    "sum_list_of_numbers_self_raised_power = sum(list_of_numbers_self_raised_power)\n",
    "print(\"Sum of numbers from 1 to 20 raised to the power of themselves:\\n\\n\",sum_list_of_numbers_self_raised_power)"
   ]
  },
  {
   "cell_type": "code",
   "execution_count": null,
   "metadata": {},
   "outputs": [],
   "source": []
  }
 ],
 "metadata": {
  "kernelspec": {
   "display_name": "Python 3",
   "language": "python",
   "name": "python3"
  },
  "language_info": {
   "codemirror_mode": {
    "name": "ipython",
    "version": 3
   },
   "file_extension": ".py",
   "mimetype": "text/x-python",
   "name": "python",
   "nbconvert_exporter": "python",
   "pygments_lexer": "ipython3",
   "version": "3.6.7"
  }
 },
 "nbformat": 4,
 "nbformat_minor": 2
}
