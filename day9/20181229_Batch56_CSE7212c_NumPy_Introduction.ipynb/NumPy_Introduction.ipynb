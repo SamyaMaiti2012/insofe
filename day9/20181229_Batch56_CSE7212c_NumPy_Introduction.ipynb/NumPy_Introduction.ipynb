{
 "cells": [
  {
   "cell_type": "markdown",
   "metadata": {},
   "source": [
    "## Modules\n",
    "---\n",
    "* A module is a file containing Python definitions and statements. \n",
    "* A module can contain functions, classes and variables.\n",
    "* The file name is the module name with the suffix .py appended.\n",
    "---"
   ]
  },
  {
   "cell_type": "markdown",
   "metadata": {},
   "source": [
    "#### Create a file called calc.py with the following contents:"
   ]
  },
  {
   "cell_type": "raw",
   "metadata": {},
   "source": [
    "# # A simple module, calc.py\n",
    " \n",
    "# def add(x, y):\n",
    "    # return (x+y)\n",
    "\n",
    "# def subtract(x, y):\n",
    "    #return (x-y)"
   ]
  },
  {
   "cell_type": "code",
   "execution_count": 3,
   "metadata": {},
   "outputs": [],
   "source": [
    "import calc"
   ]
  },
  {
   "cell_type": "code",
   "execution_count": 4,
   "metadata": {},
   "outputs": [
    {
     "data": {
      "text/plain": [
       "4"
      ]
     },
     "execution_count": 4,
     "metadata": {},
     "output_type": "execute_result"
    }
   ],
   "source": [
    "calc.add(1,3)"
   ]
  },
  {
   "cell_type": "code",
   "execution_count": 5,
   "metadata": {},
   "outputs": [
    {
     "data": {
      "text/plain": [
       "2"
      ]
     },
     "execution_count": 5,
     "metadata": {},
     "output_type": "execute_result"
    }
   ],
   "source": [
    "calc.subtract(3,1)"
   ]
  },
  {
   "cell_type": "code",
   "execution_count": 6,
   "metadata": {},
   "outputs": [],
   "source": [
    "import os"
   ]
  },
  {
   "cell_type": "code",
   "execution_count": 7,
   "metadata": {},
   "outputs": [
    {
     "data": {
      "text/plain": [
       "'/Users/samyam/Documents/Samya/Insofe/insofe/day9/20181229_Batch56_CSE7212c_NumPy_Introduction.ipynb'"
      ]
     },
     "execution_count": 7,
     "metadata": {},
     "output_type": "execute_result"
    }
   ],
   "source": [
    "os.getcwd()"
   ]
  },
  {
   "cell_type": "code",
   "execution_count": 8,
   "metadata": {},
   "outputs": [],
   "source": [
    "import sys"
   ]
  },
  {
   "cell_type": "code",
   "execution_count": 9,
   "metadata": {},
   "outputs": [],
   "source": [
    "sys.path.append(\"/Users/seemabasantani/Documents/Academics/Batch 56/CSE7212c/Python/20181223_Batch56_CSE7212c_Python_Numpy_Pandas\")"
   ]
  },
  {
   "cell_type": "code",
   "execution_count": 10,
   "metadata": {},
   "outputs": [
    {
     "data": {
      "text/plain": [
       "['',\n",
       " '/Users/samyam/anaconda3/envs/insofe/lib/python36.zip',\n",
       " '/Users/samyam/anaconda3/envs/insofe/lib/python3.6',\n",
       " '/Users/samyam/anaconda3/envs/insofe/lib/python3.6/lib-dynload',\n",
       " '/Users/samyam/anaconda3/envs/insofe/lib/python3.6/site-packages',\n",
       " '/Users/samyam/anaconda3/envs/insofe/lib/python3.6/site-packages/IPython/extensions',\n",
       " '/Users/samyam/.ipython',\n",
       " '/Users/seemabasantani/Documents/Academics/Batch 56/CSE7212c/Python/20181223_Batch56_CSE7212c_Python_Numpy_Pandas']"
      ]
     },
     "execution_count": 10,
     "metadata": {},
     "output_type": "execute_result"
    }
   ],
   "source": [
    "sys.path"
   ]
  },
  {
   "cell_type": "markdown",
   "metadata": {},
   "source": [
    "#### The import statement\n"
   ]
  },
  {
   "cell_type": "markdown",
   "metadata": {},
   "source": [
    "When interpreter encounters an import statement, it imports the module if the module is present in the search path. A search path is a list of directories that the interpreter searches for importing a module. \n",
    "\n",
    "To import the module calc.py, we need to put the following command at the top of the script :"
   ]
  },
  {
   "cell_type": "code",
   "execution_count": 11,
   "metadata": {},
   "outputs": [],
   "source": [
    "import calc"
   ]
  },
  {
   "cell_type": "code",
   "execution_count": 12,
   "metadata": {},
   "outputs": [
    {
     "data": {
      "text/plain": [
       "31"
      ]
     },
     "execution_count": 12,
     "metadata": {},
     "output_type": "execute_result"
    }
   ],
   "source": [
    "calc.add(11,20)"
   ]
  },
  {
   "cell_type": "code",
   "execution_count": 13,
   "metadata": {},
   "outputs": [
    {
     "data": {
      "text/plain": [
       "-12"
      ]
     },
     "execution_count": 13,
     "metadata": {},
     "output_type": "execute_result"
    }
   ],
   "source": [
    "calc.subtract(2,14)"
   ]
  },
  {
   "cell_type": "markdown",
   "metadata": {},
   "source": [
    "#### The from import Statement\n",
    "\n"
   ]
  },
  {
   "cell_type": "markdown",
   "metadata": {},
   "source": [
    "`from` statement lets you import specific functions from a module."
   ]
  },
  {
   "cell_type": "markdown",
   "metadata": {},
   "source": [
    "### Let us import add from calc module"
   ]
  },
  {
   "cell_type": "code",
   "execution_count": 14,
   "metadata": {},
   "outputs": [],
   "source": [
    "from calc import add"
   ]
  },
  {
   "cell_type": "code",
   "execution_count": 15,
   "metadata": {},
   "outputs": [
    {
     "data": {
      "text/plain": [
       "4"
      ]
     },
     "execution_count": 15,
     "metadata": {},
     "output_type": "execute_result"
    }
   ],
   "source": [
    "add(1,3)"
   ]
  },
  {
   "cell_type": "markdown",
   "metadata": {},
   "source": [
    "## An Introduction to NumPy\n",
    "\n",
    "* NumPy is an extension module for Python, mostly written in C. Numpy is short for Numerical Python. It is the fundamental package required for high performance scientific computing and data analysis. \n",
    "\n",
    "* It contains a powerful n-dimensional array object and a collection of routines for processing those arrays.\n",
    "\n",
    "### Why do we need NumPy?\n",
    "\n",
    "* __`ndarray`__, a fast and space-efficient multidimensional array for large data\n",
    "* __Vectors, Matrices and linear algebra operations__ are fundamental to Machine Learning and Data Science\n",
    "* Standard mathematical functions for fast operations on entire arrays of data without having to write loops"
   ]
  },
  {
   "cell_type": "markdown",
   "metadata": {},
   "source": [
    "* __NumPy enriches the programming language Python with powerful data structures, implementing multi-dimensional arrays and matrices. These data structures guarantee efficient calculations with matrices and arrays. The module supplies a large library of high-level mathematical functions to operate on these matrices and arrays.__"
   ]
  },
  {
   "cell_type": "code",
   "execution_count": 16,
   "metadata": {},
   "outputs": [
    {
     "data": {
      "image/jpeg": "[encoded data removed]",
      "text/plain": [
       "<IPython.core.display.Image object>"
      ]
     },
     "execution_count": 16,
     "metadata": {},
     "output_type": "execute_result"
    }
   ],
   "source": [
    "from IPython.display import Image\n",
    "Image(filename='numpy_image.jpg')"
   ]
  },
  {
   "cell_type": "code",
   "execution_count": 17,
   "metadata": {},
   "outputs": [],
   "source": [
    "# To use Numpy, we first need to import the numpy package. It is an accepted convention to use the np alias for numpy.\n",
    "import numpy as np"
   ]
  },
  {
   "cell_type": "markdown",
   "metadata": {},
   "source": [
    "### Arrays\n",
    "\n",
    "A numpy array is a grid of values, all of the __*same*__ type, and is indexed by a tuple of nonnegative integers. The number of dimensions is the rank of the array; the shape of an array is a tuple of integers giving the size of the array along each dimension.\n",
    "\n",
    "We can initialize numpy arrays from nested Python lists, and access elements using square brackets"
   ]
  },
  {
   "cell_type": "markdown",
   "metadata": {},
   "source": [
    "##### Creating A NumPy Array\n"
   ]
  },
  {
   "cell_type": "code",
   "execution_count": 18,
   "metadata": {},
   "outputs": [
    {
     "name": "stdout",
     "output_type": "stream",
     "text": [
      "shape :  (3,)\n",
      "Since there is no value after the comma, this is a one-dimensional array\n",
      "\n",
      "dtype :  int64\n",
      "type :  <class 'numpy.ndarray'>\n",
      "1 2 3\n"
     ]
    }
   ],
   "source": [
    "a = np.array([1, 2, 3])  # Create a rank 1 array\n",
    "print('shape : ', a.shape)\n",
    "print(\"Since there is no value after the comma, this is a one-dimensional array\\n\")\n",
    "\n",
    "print('dtype : ', a.dtype)\n",
    "print ('type : ', type(a))\n",
    "print (a[0], a[1], a[2])         "
   ]
  },
  {
   "cell_type": "markdown",
   "metadata": {},
   "source": [
    "#### Create an array from a Python list "
   ]
  },
  {
   "cell_type": "code",
   "execution_count": 19,
   "metadata": {},
   "outputs": [
    {
     "name": "stdout",
     "output_type": "stream",
     "text": [
      "[1 2 3 4 5]\n"
     ]
    }
   ],
   "source": [
    "list1 = [1,2,3,4,5]\n",
    "a = np.array(list1)\n",
    "print(a)"
   ]
  },
  {
   "cell_type": "code",
   "execution_count": 20,
   "metadata": {},
   "outputs": [
    {
     "name": "stdout",
     "output_type": "stream",
     "text": [
      "[ 6  7  8  9 10]\n"
     ]
    }
   ],
   "source": [
    "list2 = [6,7,8,9,10]\n",
    "b=np.array(list2)\n",
    "print(b)"
   ]
  },
  {
   "cell_type": "code",
   "execution_count": 21,
   "metadata": {},
   "outputs": [
    {
     "data": {
      "text/plain": [
       "[1, 2, 3, 4, 5, 6, 7, 8, 9, 10]"
      ]
     },
     "execution_count": 21,
     "metadata": {},
     "output_type": "execute_result"
    }
   ],
   "source": [
    "list1+list2"
   ]
  },
  {
   "cell_type": "code",
   "execution_count": 22,
   "metadata": {},
   "outputs": [
    {
     "name": "stdout",
     "output_type": "stream",
     "text": [
      "[7, 9, 11, 13, 15]\n"
     ]
    }
   ],
   "source": [
    "print(list(map(lambda x,y:x+y, list1,list2)))"
   ]
  },
  {
   "cell_type": "code",
   "execution_count": 23,
   "metadata": {},
   "outputs": [
    {
     "name": "stdout",
     "output_type": "stream",
     "text": [
      "[ 7  9 11 13 15]\n"
     ]
    }
   ],
   "source": [
    "c=a+b\n",
    "print(c)"
   ]
  },
  {
   "cell_type": "code",
   "execution_count": 24,
   "metadata": {},
   "outputs": [
    {
     "data": {
      "text/plain": [
       "numpy.ndarray"
      ]
     },
     "execution_count": 24,
     "metadata": {},
     "output_type": "execute_result"
    }
   ],
   "source": [
    "type(c)"
   ]
  },
  {
   "cell_type": "markdown",
   "metadata": {},
   "source": [
    "#### list1+1"
   ]
  },
  {
   "cell_type": "code",
   "execution_count": 25,
   "metadata": {},
   "outputs": [
    {
     "data": {
      "text/plain": [
       "array([2, 3, 4, 5, 6])"
      ]
     },
     "execution_count": 25,
     "metadata": {},
     "output_type": "execute_result"
    }
   ],
   "source": [
    "a+1"
   ]
  },
  {
   "cell_type": "code",
   "execution_count": 26,
   "metadata": {},
   "outputs": [
    {
     "data": {
      "text/plain": [
       "array([ 2,  4,  6,  8, 10])"
      ]
     },
     "execution_count": 26,
     "metadata": {},
     "output_type": "execute_result"
    }
   ],
   "source": [
    "a*2"
   ]
  },
  {
   "cell_type": "code",
   "execution_count": 27,
   "metadata": {},
   "outputs": [],
   "source": [
    "b=a-1"
   ]
  },
  {
   "cell_type": "code",
   "execution_count": 28,
   "metadata": {},
   "outputs": [
    {
     "name": "stdout",
     "output_type": "stream",
     "text": [
      "[1 2 3 4 5] [0 1 2 3 4]\n"
     ]
    }
   ],
   "source": [
    "print(a,b)"
   ]
  },
  {
   "cell_type": "markdown",
   "metadata": {},
   "source": [
    "###### One good reason is the vector implementation of the arrays, i.e all the functions are applied to each element of the array wthout explicit instructions"
   ]
  },
  {
   "cell_type": "code",
   "execution_count": 29,
   "metadata": {},
   "outputs": [
    {
     "data": {
      "text/plain": [
       "array([1, 2, 3, 4, 5])"
      ]
     },
     "execution_count": 29,
     "metadata": {},
     "output_type": "execute_result"
    }
   ],
   "source": [
    "a"
   ]
  },
  {
   "cell_type": "code",
   "execution_count": 30,
   "metadata": {},
   "outputs": [
    {
     "data": {
      "text/plain": [
       "array([False, False, False,  True,  True])"
      ]
     },
     "execution_count": 30,
     "metadata": {},
     "output_type": "execute_result"
    }
   ],
   "source": [
    "a>3"
   ]
  },
  {
   "cell_type": "code",
   "execution_count": 31,
   "metadata": {},
   "outputs": [
    {
     "data": {
      "text/plain": [
       "array([4, 5])"
      ]
     },
     "execution_count": 31,
     "metadata": {},
     "output_type": "execute_result"
    }
   ],
   "source": [
    "a[a>3]"
   ]
  },
  {
   "cell_type": "code",
   "execution_count": 32,
   "metadata": {},
   "outputs": [
    {
     "data": {
      "text/plain": [
       "array([4, 5])"
      ]
     },
     "execution_count": 32,
     "metadata": {},
     "output_type": "execute_result"
    }
   ],
   "source": [
    "a[a>3]"
   ]
  },
  {
   "cell_type": "code",
   "execution_count": 69,
   "metadata": {},
   "outputs": [
    {
     "data": {
      "text/plain": [
       "array([0.2120954 , 0.29376446, 0.45175561, 0.35441497])"
      ]
     },
     "execution_count": 69,
     "metadata": {},
     "output_type": "execute_result"
    }
   ],
   "source": [
    "a[a<=3]"
   ]
  },
  {
   "cell_type": "code",
   "execution_count": 34,
   "metadata": {},
   "outputs": [
    {
     "data": {
      "text/plain": [
       "array([3])"
      ]
     },
     "execution_count": 34,
     "metadata": {},
     "output_type": "execute_result"
    }
   ],
   "source": [
    "a[a==3]"
   ]
  },
  {
   "cell_type": "markdown",
   "metadata": {},
   "source": [
    "###### Activity"
   ]
  },
  {
   "cell_type": "markdown",
   "metadata": {},
   "source": [
    "Raise the power of all the numbers in the array to 3"
   ]
  },
  {
   "cell_type": "code",
   "execution_count": 71,
   "metadata": {},
   "outputs": [
    {
     "data": {
      "text/plain": [
       "array([0.009541  , 0.02535116, 0.0921957 , 0.04451805])"
      ]
     },
     "execution_count": 71,
     "metadata": {},
     "output_type": "execute_result"
    }
   ],
   "source": [
    "a**3"
   ]
  },
  {
   "cell_type": "code",
   "execution_count": 76,
   "metadata": {},
   "outputs": [
    {
     "ename": "ValueError",
     "evalue": "operands could not be broadcast together with shapes (3,) (4,) ",
     "output_type": "error",
     "traceback": [
      "\u001b[0;31m---------------------------------------------------------------------------\u001b[0m",
      "\u001b[0;31mValueError\u001b[0m                                Traceback (most recent call last)",
      "\u001b[0;32m<ipython-input-76-8b2076dd846c>\u001b[0m in \u001b[0;36m<module>\u001b[0;34m\u001b[0m\n\u001b[1;32m      1\u001b[0m \u001b[0ma\u001b[0m\u001b[0;34m=\u001b[0m\u001b[0mnp\u001b[0m\u001b[0;34m.\u001b[0m\u001b[0marray\u001b[0m\u001b[0;34m(\u001b[0m\u001b[0;34m[\u001b[0m\u001b[0;36m1\u001b[0m\u001b[0;34m,\u001b[0m\u001b[0;36m2\u001b[0m\u001b[0;34m,\u001b[0m\u001b[0;36m3\u001b[0m\u001b[0;34m]\u001b[0m\u001b[0;34m)\u001b[0m\u001b[0;34m\u001b[0m\u001b[0;34m\u001b[0m\u001b[0m\n\u001b[1;32m      2\u001b[0m \u001b[0mb\u001b[0m\u001b[0;34m=\u001b[0m\u001b[0mnp\u001b[0m\u001b[0;34m.\u001b[0m\u001b[0marray\u001b[0m\u001b[0;34m(\u001b[0m\u001b[0;34m[\u001b[0m\u001b[0;36m1\u001b[0m\u001b[0;34m,\u001b[0m\u001b[0;36m2\u001b[0m\u001b[0;34m,\u001b[0m\u001b[0;36m3\u001b[0m\u001b[0;34m,\u001b[0m\u001b[0;36m3\u001b[0m\u001b[0;34m]\u001b[0m\u001b[0;34m)\u001b[0m\u001b[0;34m\u001b[0m\u001b[0;34m\u001b[0m\u001b[0m\n\u001b[0;32m----> 3\u001b[0;31m \u001b[0ma\u001b[0m\u001b[0;34m+\u001b[0m\u001b[0mb\u001b[0m\u001b[0;34m\u001b[0m\u001b[0;34m\u001b[0m\u001b[0m\n\u001b[0m",
      "\u001b[0;31mValueError\u001b[0m: operands could not be broadcast together with shapes (3,) (4,) "
     ]
    }
   ],
   "source": [
    "a=np.array([1,2,3])\n",
    "b=np.array([1,2,3,3])\n",
    "a+b"
   ]
  },
  {
   "cell_type": "markdown",
   "metadata": {},
   "source": [
    "#### Two Dimensional Array\n",
    "\n",
    "    Shape : (nrows, ncols)"
   ]
  },
  {
   "cell_type": "code",
   "execution_count": 126,
   "metadata": {},
   "outputs": [
    {
     "name": "stdout",
     "output_type": "stream",
     "text": [
      "[[ 1  2  3  4  5  6]\n",
      " [11 22 33 44 55 66]]\n",
      "\n",
      "\n",
      "(2, 6)\n",
      "\n",
      "\n",
      "2\n"
     ]
    }
   ],
   "source": [
    "numpy_two_dim = np.array([\n",
    "                            [1, 2, 3, 4, 5, 6],\n",
    "                            [11, 22, 33, 44, 55, 66]\n",
    "                         ])\n",
    "\n",
    "print(numpy_two_dim)\n",
    "print(\"\\n\")\n",
    "print(numpy_two_dim.shape)\n",
    "print(\"\\n\")\n",
    "print(numpy_two_dim.ndim)"
   ]
  },
  {
   "cell_type": "markdown",
   "metadata": {},
   "source": [
    "The number of dimensions is the rank of the array; the shape of an array is a tuple of integers giving the size of the array along each dimension."
   ]
  },
  {
   "cell_type": "code",
   "execution_count": 95,
   "metadata": {},
   "outputs": [
    {
     "data": {
      "text/plain": [
       "numpy.ndarray"
      ]
     },
     "execution_count": 95,
     "metadata": {},
     "output_type": "execute_result"
    }
   ],
   "source": [
    "type(numpy_two_dim_1)"
   ]
  },
  {
   "cell_type": "code",
   "execution_count": 97,
   "metadata": {},
   "outputs": [
    {
     "data": {
      "text/plain": [
       "12"
      ]
     },
     "execution_count": 97,
     "metadata": {},
     "output_type": "execute_result"
    }
   ],
   "source": [
    "numpy_two_dim.size"
   ]
  },
  {
   "cell_type": "code",
   "execution_count": 38,
   "metadata": {},
   "outputs": [
    {
     "data": {
      "text/plain": [
       "22"
      ]
     },
     "execution_count": 38,
     "metadata": {},
     "output_type": "execute_result"
    }
   ],
   "source": [
    "numpy_two_dim[1,1]"
   ]
  },
  {
   "cell_type": "code",
   "execution_count": 39,
   "metadata": {},
   "outputs": [
    {
     "name": "stdout",
     "output_type": "stream",
     "text": [
      "1 4 11\n"
     ]
    }
   ],
   "source": [
    "print (numpy_two_dim[0, 0], numpy_two_dim[0, 3], numpy_two_dim[1, 0])"
   ]
  },
  {
   "cell_type": "markdown",
   "metadata": {},
   "source": [
    "### Indexing NumPy Arrays\n",
    "\n",
    "We now know how to create arrays, but unless we can retrieve results from them, there isn't a lot we can do with NumPy. We can use array indexing to select individual elements, groups of elements, or entire rows and columns. One important thing to keep in mind is that just like Python lists, NumPy is zero-indexed, meaning that the index of the first row is 0, and the index of the first column is 0\n"
   ]
  },
  {
   "cell_type": "markdown",
   "metadata": {},
   "source": [
    "Numpy offers several ways to index into arrays."
   ]
  },
  {
   "cell_type": "code",
   "execution_count": 151,
   "metadata": {},
   "outputs": [
    {
     "data": {
      "text/plain": [
       "array([[ 1,  2,  3,  4,  5,  6],\n",
       "       [11, 22, 33, 44, 55, 66]])"
      ]
     },
     "execution_count": 151,
     "metadata": {},
     "output_type": "execute_result"
    }
   ],
   "source": [
    "numpy_two_dim"
   ]
  },
  {
   "cell_type": "code",
   "execution_count": 100,
   "metadata": {},
   "outputs": [
    {
     "data": {
      "text/plain": [
       "array([[ 1,  2,  3,  4,  5,  6],\n",
       "       [11, 22, 33, 44, 55, 66]])"
      ]
     },
     "execution_count": 100,
     "metadata": {},
     "output_type": "execute_result"
    }
   ],
   "source": [
    "numpy_two_dim[:,:]"
   ]
  },
  {
   "cell_type": "code",
   "execution_count": 144,
   "metadata": {},
   "outputs": [
    {
     "data": {
      "text/plain": [
       "array([[11, 22, 33, 44, 55, 66]])"
      ]
     },
     "execution_count": 144,
     "metadata": {},
     "output_type": "execute_result"
    }
   ],
   "source": [
    "numpy_two_dim[1:]"
   ]
  },
  {
   "cell_type": "markdown",
   "metadata": {},
   "source": [
    "* How to get the first row of the array?"
   ]
  },
  {
   "cell_type": "code",
   "execution_count": 156,
   "metadata": {},
   "outputs": [
    {
     "name": "stdout",
     "output_type": "stream",
     "text": [
      "[[ 1  2  3  4  5  6]\n",
      " [11 22 33 44 55 66]]\n"
     ]
    }
   ],
   "source": [
    "print(numpy_two_dim[0:2,:])"
   ]
  },
  {
   "cell_type": "markdown",
   "metadata": {},
   "source": [
    "How to get the first column of the array?"
   ]
  },
  {
   "cell_type": "code",
   "execution_count": 104,
   "metadata": {},
   "outputs": [
    {
     "name": "stdout",
     "output_type": "stream",
     "text": [
      "[[ 2  3  4  5  6]\n",
      " [22 33 44 55 66]]\n"
     ]
    }
   ],
   "source": [
    "print(numpy_two_dim[:,1:])"
   ]
  },
  {
   "cell_type": "code",
   "execution_count": 44,
   "metadata": {},
   "outputs": [
    {
     "name": "stdout",
     "output_type": "stream",
     "text": [
      "[[11 22 33 44 55 66]]\n"
     ]
    }
   ],
   "source": [
    "print(numpy_two_dim[1:])"
   ]
  },
  {
   "cell_type": "markdown",
   "metadata": {},
   "source": [
    "How to get the last row of the array?"
   ]
  },
  {
   "cell_type": "code",
   "execution_count": 45,
   "metadata": {},
   "outputs": [
    {
     "name": "stdout",
     "output_type": "stream",
     "text": [
      "[11 22 33 44 55 66]\n"
     ]
    }
   ],
   "source": [
    "print(numpy_two_dim[-1,:])"
   ]
  },
  {
   "cell_type": "markdown",
   "metadata": {},
   "source": [
    "How to get the last column of the array?"
   ]
  },
  {
   "cell_type": "code",
   "execution_count": 46,
   "metadata": {},
   "outputs": [
    {
     "data": {
      "text/plain": [
       "array([ 6, 66])"
      ]
     },
     "execution_count": 46,
     "metadata": {},
     "output_type": "execute_result"
    }
   ],
   "source": [
    "numpy_two_dim[:,-1]"
   ]
  },
  {
   "cell_type": "markdown",
   "metadata": {},
   "source": [
    "#### Let's go deeper and generalize it"
   ]
  },
  {
   "cell_type": "markdown",
   "metadata": {},
   "source": [
    "Even though it might not be an accurate informalisation of the idea, you can in general think about the shape of arrays as \n",
    "\n",
    "    Shape : (num_arrays_outermost, num_arrays_next, ......, num_elements_in_the_last_array)"
   ]
  },
  {
   "cell_type": "code",
   "execution_count": 127,
   "metadata": {},
   "outputs": [
    {
     "name": "stdout",
     "output_type": "stream",
     "text": [
      "[[[   1    2    3    4    5    6]\n",
      "  [  11   22   33   44   55   66]\n",
      "  [ 111  222  333  444  555  666]]\n",
      "\n",
      " [[  21   22   23   24   25   26]\n",
      "  [ 221  222  233  244  255  266]\n",
      "  [2211 2222 2333 2444 2555 2666]]]\n",
      "\n",
      "\n",
      "3\n",
      "\n",
      "\n",
      "(2, 3, 6)\n"
     ]
    }
   ],
   "source": [
    "# Creating a 3 dimensional array\n",
    "numpy_three_dim = np.array([\n",
    "                            [\n",
    "                                [1, 2, 3, 4, 5, 6],\n",
    "                                [11, 22, 33, 44, 55, 66],\n",
    "                                [111, 222, 333, 444, 555, 666]\n",
    "                            ],\n",
    "                            [\n",
    "                                [21, 22, 23, 24, 25, 26],\n",
    "                                [221, 222, 233, 244, 255, 266],\n",
    "                                [2211, 2222, 2333, 2444, 2555, 2666]\n",
    "                            ]\n",
    "                         ])\n",
    "\n",
    "\n",
    "print(numpy_three_dim)\n",
    "print(\"\\n\")\n",
    "print(numpy_three_dim.ndim)\n",
    "print(\"\\n\")\n",
    "print(numpy_three_dim.shape)"
   ]
  },
  {
   "cell_type": "markdown",
   "metadata": {},
   "source": [
    "#### Observation:\n",
    "\n",
    "Why is the shape of the array (2, 3, 6)?"
   ]
  },
  {
   "cell_type": "raw",
   "metadata": {},
   "source": [
    "# The first element in the shape tuple (2, 3, 6) comes from the following\n",
    "\n",
    "        [\n",
    "        \n",
    "            [outermost array one],\n",
    "            \n",
    "            [outermost array two]\n",
    "        \n",
    "        ]\n",
    "        \n",
    "--> The above two arrays help talk about the first dimension in the shape tuple\n",
    "\n",
    "# The second element in the shape tuple (2, 3, 6) comes from the following\n",
    "\n",
    "        [\n",
    "        \n",
    "            [   outer most array one\n",
    "            \n",
    "                [next outermost array one],\n",
    "                \n",
    "                [next outermost array two],\n",
    "                \n",
    "                [next outermost array three]\n",
    "            \n",
    "            ],\n",
    "            \n",
    "            [   outer most array two\n",
    "            \n",
    "                [next outermost array one],\n",
    "                \n",
    "                [next outermost array two],\n",
    "                \n",
    "                [next outermost array three]\n",
    "            \n",
    "            ]\n",
    "        \n",
    "        ]\n",
    "        \n",
    "--> The above three arrays help talk about the second dimension in the shape tuple\n",
    "\n",
    "# The third element in the shape tuple (2, 3, 6) comes from the following\n",
    "\n",
    "        [\n",
    "        \n",
    "            [   outer most array one\n",
    "            \n",
    "                [  next outermost array one\n",
    "                \n",
    "                    element one,\n",
    "                    \n",
    "                    element two,\n",
    "                    \n",
    "                    element three,\n",
    "                    \n",
    "                    element four,\n",
    "                    \n",
    "                    element five,\n",
    "                    \n",
    "                    element six\n",
    "                \n",
    "                ],\n",
    "                \n",
    "                [  next outermost array two\n",
    "                \n",
    "                    element one,\n",
    "                    \n",
    "                    element two,\n",
    "                    \n",
    "                    element three,\n",
    "                    \n",
    "                    element four,\n",
    "                    \n",
    "                    element five,\n",
    "                    \n",
    "                    element six\n",
    "                \n",
    "                ],\n",
    "                \n",
    "                [  next outermost array three\n",
    "                \n",
    "                    element one,\n",
    "                    \n",
    "                    element two,\n",
    "                    \n",
    "                    element three,\n",
    "                    \n",
    "                    element four,\n",
    "                    \n",
    "                    element five,\n",
    "                    \n",
    "                    element six\n",
    "                \n",
    "                ]\n",
    "            \n",
    "            ],\n",
    "            \n",
    "            [   outer most array two\n",
    "            \n",
    "                [  next outermost array one\n",
    "                \n",
    "                    element one,\n",
    "                    \n",
    "                    element two,\n",
    "                    \n",
    "                    element three,\n",
    "                    \n",
    "                    element four,\n",
    "                    \n",
    "                    element five,\n",
    "                    \n",
    "                    element six\n",
    "                \n",
    "                ],\n",
    "                \n",
    "                [  next outermost array two\n",
    "                \n",
    "                    element one,\n",
    "                    \n",
    "                    element two,\n",
    "                    \n",
    "                    element three,\n",
    "                    \n",
    "                    element four,\n",
    "                    \n",
    "                    element five,\n",
    "                    \n",
    "                    element six\n",
    "                \n",
    "                ],\n",
    "                \n",
    "                [  next outermost array three\n",
    "                \n",
    "                    element one,\n",
    "                    \n",
    "                    element two,\n",
    "                    \n",
    "                    element three,\n",
    "                    \n",
    "                    element four,\n",
    "                    \n",
    "                    element five,\n",
    "                    \n",
    "                    element six\n",
    "                \n",
    "                ]\n",
    "            \n",
    "            ]\n",
    "        \n",
    "        ]\n",
    "\n",
    "--> So, the final dimension in the shape tuple (2, 3, 6) talks about the number of elements"
   ]
  },
  {
   "cell_type": "code",
   "execution_count": 48,
   "metadata": {},
   "outputs": [
    {
     "data": {
      "text/plain": [
       "36"
      ]
     },
     "execution_count": 48,
     "metadata": {},
     "output_type": "execute_result"
    }
   ],
   "source": [
    "numpy_three_dim.size"
   ]
  },
  {
   "cell_type": "code",
   "execution_count": 49,
   "metadata": {},
   "outputs": [
    {
     "data": {
      "text/plain": [
       "dtype('int64')"
      ]
     },
     "execution_count": 49,
     "metadata": {},
     "output_type": "execute_result"
    }
   ],
   "source": [
    "numpy_three_dim.dtype"
   ]
  },
  {
   "cell_type": "code",
   "execution_count": null,
   "metadata": {},
   "outputs": [],
   "source": [
    "[[[   1    2    3    4    5    6]\n",
    "  [  11   22   33   44   55   66]\n",
    "  [ 111  222  333  444  555  666]]\n",
    "\n",
    " [[  21   22   23   24   25   26]\n",
    "  [ 221  222  233  244  255  266]\n",
    "  [2211 2222 2333 2444 2555 2666]]]"
   ]
  },
  {
   "cell_type": "code",
   "execution_count": 180,
   "metadata": {},
   "outputs": [
    {
     "data": {
      "text/plain": [
       "array([[[   1,    3,    5],\n",
       "        [  11,   33,   55],\n",
       "        [ 111,  333,  555]],\n",
       "\n",
       "       [[  21,   23,   25],\n",
       "        [ 221,  233,  255],\n",
       "        [2211, 2333, 2555]]])"
      ]
     },
     "execution_count": 180,
     "metadata": {},
     "output_type": "execute_result"
    }
   ],
   "source": [
    "numpy_three_dim[0:2:1,0::,0::2]"
   ]
  },
  {
   "cell_type": "code",
   "execution_count": 173,
   "metadata": {},
   "outputs": [
    {
     "data": {
      "text/plain": [
       "array([[[  1,   2,   3,   4,   5,   6],\n",
       "        [ 11,  22,  33,  44,  55,  66],\n",
       "        [111, 222, 333, 444, 555, 666]]])"
      ]
     },
     "execution_count": 173,
     "metadata": {},
     "output_type": "execute_result"
    }
   ],
   "source": [
    "numpy_three_dim[0::2]"
   ]
  },
  {
   "cell_type": "code",
   "execution_count": 134,
   "metadata": {},
   "outputs": [
    {
     "data": {
      "text/plain": [
       "array([[[   1,    2,    3,    4,    5,    6],\n",
       "        [  11,   22,   33,   44,   55,   66],\n",
       "        [ 111,  222,  333,  444,  555,  666]],\n",
       "\n",
       "       [[  21,   22,   23,   24,   25,   26],\n",
       "        [ 221,  222,  233,  244,  255,  266],\n",
       "        [2211, 2222, 2333, 2444, 2555, 2666]]])"
      ]
     },
     "execution_count": 134,
     "metadata": {},
     "output_type": "execute_result"
    }
   ],
   "source": [
    "numpy_three_dim[0::1]"
   ]
  },
  {
   "cell_type": "code",
   "execution_count": 181,
   "metadata": {},
   "outputs": [
    {
     "data": {
      "text/plain": [
       "array([[[ 1,  2,  3],\n",
       "        [11, 22, 33]]])"
      ]
     },
     "execution_count": 181,
     "metadata": {},
     "output_type": "execute_result"
    }
   ],
   "source": [
    "numpy_three_dim[0:1,0:2,0:3]"
   ]
  },
  {
   "cell_type": "markdown",
   "metadata": {},
   "source": [
    "##### Activity\n",
    "\n",
    "    What is the shape of the following array?"
   ]
  },
  {
   "cell_type": "raw",
   "metadata": {},
   "source": [
    "[\n",
    "       [\n",
    "           [\n",
    "               [\n",
    "                   25, 23, 23, 222, 441\n",
    "               ],\n",
    "               \n",
    "               [\n",
    "                   25, 23, 23, 222, 441\n",
    "               ],\n",
    "               \n",
    "               [\n",
    "                   25, 23, 23, 222, 441\n",
    "               ]\n",
    "           ],\n",
    "           \n",
    "           [\n",
    "               [\n",
    "                   25, 23, 23, 222, 441\n",
    "               ],\n",
    "               \n",
    "               [\n",
    "                   25, 23, 23, 222, 441\n",
    "               ],\n",
    "               \n",
    "               [\n",
    "                   25, 23, 23, 222, 441\n",
    "               ]\n",
    "           ]\n",
    "       ]\n",
    "   ]"
   ]
  },
  {
   "cell_type": "code",
   "execution_count": null,
   "metadata": {},
   "outputs": [],
   "source": [
    "# 4"
   ]
  },
  {
   "cell_type": "markdown",
   "metadata": {},
   "source": [
    "### Printing Arrays"
   ]
  },
  {
   "cell_type": "markdown",
   "metadata": {},
   "source": [
    "When you print an array, NumPy displays it in a similar way to nested lists, but with the following layout:\n",
    "\n",
    "    the last axis is printed from left to right,\n",
    "    the second-to-last is printed from top to bottom,\n",
    "    the rest are also printed from top to bottom, with each slice separated from the next by an empty line.\n",
    "\n",
    "One-dimensional arrays are then printed as rows, bidimensionals as matrices and tridimensionals as lists of matrices."
   ]
  },
  {
   "cell_type": "markdown",
   "metadata": {},
   "source": [
    "###### Why should I use numpy arrays instead of lists you ask?\n",
    "- Convenient\n",
    "- Faster and have more functionality than lists\n",
    "- Optimized storage and retrieval\n",
    "\n",
    "Let me try to prove some of these claims"
   ]
  },
  {
   "cell_type": "code",
   "execution_count": 182,
   "metadata": {},
   "outputs": [
    {
     "name": "stdout",
     "output_type": "stream",
     "text": [
      "<class 'list'>\n",
      "<class 'numpy.ndarray'>\n",
      "4000\n",
      "(4000,)\n"
     ]
    }
   ],
   "source": [
    "#  Let us create two lists and two arrays for our experiment\n",
    "\n",
    "import numpy as np\n",
    "\n",
    "# The * operator on the list replicates the items in a list, n number of times given list * n \n",
    "\n",
    "example_list_one = [1, 2, 3, 4] * 1000\n",
    "\n",
    "example_list_two = [4, 3, 2, 1] * 1000\n",
    "\n",
    "# Numpy arrays can be created from python lists\n",
    "\n",
    "example_array_one = np.array(example_list_one)\n",
    "\n",
    "example_array_two = np.array(example_list_two)\n",
    "\n",
    "print(type(example_list_one))\n",
    "print(type(example_array_one))\n",
    "\n",
    "print(len(example_list_one))\n",
    "print(example_array_one.shape)"
   ]
  },
  {
   "cell_type": "code",
   "execution_count": 54,
   "metadata": {},
   "outputs": [],
   "source": [
    "def vector_addition(vector_one, vector_two):\n",
    "    \n",
    "    new_vec = []\n",
    "    \n",
    "    for i in range(len(vector_one)):\n",
    "        \n",
    "        new_vec.append(vector_one[i] + vector_two[i])\n",
    "        \n",
    "    return new_vec"
   ]
  },
  {
   "cell_type": "code",
   "execution_count": 55,
   "metadata": {},
   "outputs": [
    {
     "name": "stdout",
     "output_type": "stream",
     "text": [
      "490 µs ± 19.6 µs per loop (mean ± std. dev. of 7 runs, 1000 loops each)\n"
     ]
    }
   ],
   "source": [
    "%%timeit -n 1000\n",
    "list_output=vector_addition(example_list_one,example_list_two)\n",
    "# print(list_output[0:100])\n",
    "# print(len(list_output))"
   ]
  },
  {
   "cell_type": "code",
   "execution_count": 184,
   "metadata": {},
   "outputs": [
    {
     "name": "stdout",
     "output_type": "stream",
     "text": [
      "2.11 µs ± 323 ns per loop (mean ± std. dev. of 7 runs, 1000 loops each)\n"
     ]
    }
   ],
   "source": [
    "%%timeit -n 1000\n",
    "array_output=example_array_one + example_array_two\n",
    "#print(array_output)\n",
    "#print(array_output.shape)"
   ]
  },
  {
   "cell_type": "markdown",
   "metadata": {},
   "source": [
    "* __From the above experiment we can see that using numpy arrays for even a simple vector addition is many times faster compared to a list__"
   ]
  },
  {
   "cell_type": "markdown",
   "metadata": {},
   "source": [
    "### Numpy also provides many routines to create arrays\n",
    "\n",
    "You can refer to the full list of routines here : https://docs.scipy.org/doc/numpy/reference/routines.array-creation.html"
   ]
  },
  {
   "cell_type": "code",
   "execution_count": 57,
   "metadata": {},
   "outputs": [
    {
     "name": "stdout",
     "output_type": "stream",
     "text": [
      "[[0. 0.]\n",
      " [0. 0.]]\n"
     ]
    }
   ],
   "source": [
    "a = np.zeros((2,2))  # Create an array of all zeros\n",
    "print (a)"
   ]
  },
  {
   "cell_type": "code",
   "execution_count": 186,
   "metadata": {},
   "outputs": [
    {
     "name": "stdout",
     "output_type": "stream",
     "text": [
      "[[1. 0. 0.]\n",
      " [0. 1. 0.]\n",
      " [0. 0. 1.]]\n"
     ]
    }
   ],
   "source": [
    "d = np.eye(3)        # Create a 3x3 identity matrix\n",
    "print (d)"
   ]
  },
  {
   "cell_type": "markdown",
   "metadata": {},
   "source": [
    "#### np.random: random numbers -\n",
    "#### The random module in Numpy package contains many functions for generation of random numbers"
   ]
  },
  {
   "cell_type": "code",
   "execution_count": 59,
   "metadata": {},
   "outputs": [
    {
     "name": "stdout",
     "output_type": "stream",
     "text": [
      "[0.2120954  0.29376446 0.45175561 0.35441497]\n",
      "\n",
      "\n",
      "[[0.34195508 0.15027106 0.87106809]\n",
      " [0.82848819 0.73067768 0.73051865]\n",
      " [0.11307856 0.68718301 0.90418659]\n",
      " [0.00290574 0.4305705  0.39596802]]\n"
     ]
    }
   ],
   "source": [
    "# Create an array of the given shape and populate it with random samples from a uniform distribution over [0, 1).\n",
    "a = np.random.rand(4)\n",
    "print(a)\n",
    "print(\"\\n\")\n",
    "b = np.random.rand(4,3)  \n",
    "print(b)"
   ]
  },
  {
   "cell_type": "code",
   "execution_count": 60,
   "metadata": {},
   "outputs": [
    {
     "name": "stdout",
     "output_type": "stream",
     "text": [
      "[[ 0.24964611 -0.60645866 -0.36351364]\n",
      " [ 1.8579998   0.73313002 -0.55351824]\n",
      " [-0.73368074  1.7909072  -0.18074083]\n",
      " [ 0.69418629  0.63098437  1.97564297]]\n"
     ]
    }
   ],
   "source": [
    "c = np.random.randn(4,3)  # Gaussian\n",
    "# Return samples from the “Standard Normal” distribution\n",
    "print(c)"
   ]
  },
  {
   "cell_type": "code",
   "execution_count": 193,
   "metadata": {},
   "outputs": [
    {
     "data": {
      "text/plain": [
       "array([[1.25468598, 5.28570292, 3.74330502, 1.99937204],\n",
       "       [1.25054117, 4.05663457, 4.26462667, 9.64410784],\n",
       "       [8.87357085, 1.44043574, 4.72204266, 2.29515624]])"
      ]
     },
     "execution_count": 193,
     "metadata": {},
     "output_type": "execute_result"
    }
   ],
   "source": [
    "sampl = np.random.uniform(1, 10, size=(3,4))\n",
    "sampl"
   ]
  },
  {
   "cell_type": "code",
   "execution_count": 188,
   "metadata": {},
   "outputs": [
    {
     "name": "stdout",
     "output_type": "stream",
     "text": [
      "Help on built-in function uniform:\n",
      "\n",
      "uniform(...) method of mtrand.RandomState instance\n",
      "    uniform(low=0.0, high=1.0, size=None)\n",
      "    \n",
      "    Draw samples from a uniform distribution.\n",
      "    \n",
      "    Samples are uniformly distributed over the half-open interval\n",
      "    ``[low, high)`` (includes low, but excludes high).  In other words,\n",
      "    any value within the given interval is equally likely to be drawn\n",
      "    by `uniform`.\n",
      "    \n",
      "    Parameters\n",
      "    ----------\n",
      "    low : float or array_like of floats, optional\n",
      "        Lower boundary of the output interval.  All values generated will be\n",
      "        greater than or equal to low.  The default value is 0.\n",
      "    high : float or array_like of floats\n",
      "        Upper boundary of the output interval.  All values generated will be\n",
      "        less than high.  The default value is 1.0.\n",
      "    size : int or tuple of ints, optional\n",
      "        Output shape.  If the given shape is, e.g., ``(m, n, k)``, then\n",
      "        ``m * n * k`` samples are drawn.  If size is ``None`` (default),\n",
      "        a single value is returned if ``low`` and ``high`` are both scalars.\n",
      "        Otherwise, ``np.broadcast(low, high).size`` samples are drawn.\n",
      "    \n",
      "    Returns\n",
      "    -------\n",
      "    out : ndarray or scalar\n",
      "        Drawn samples from the parameterized uniform distribution.\n",
      "    \n",
      "    See Also\n",
      "    --------\n",
      "    randint : Discrete uniform distribution, yielding integers.\n",
      "    random_integers : Discrete uniform distribution over the closed\n",
      "                      interval ``[low, high]``.\n",
      "    random_sample : Floats uniformly distributed over ``[0, 1)``.\n",
      "    random : Alias for `random_sample`.\n",
      "    rand : Convenience function that accepts dimensions as input, e.g.,\n",
      "           ``rand(2,2)`` would generate a 2-by-2 array of floats,\n",
      "           uniformly distributed over ``[0, 1)``.\n",
      "    \n",
      "    Notes\n",
      "    -----\n",
      "    The probability density function of the uniform distribution is\n",
      "    \n",
      "    .. math:: p(x) = \\frac{1}{b - a}\n",
      "    \n",
      "    anywhere within the interval ``[a, b)``, and zero elsewhere.\n",
      "    \n",
      "    When ``high`` == ``low``, values of ``low`` will be returned.\n",
      "    If ``high`` < ``low``, the results are officially undefined\n",
      "    and may eventually raise an error, i.e. do not rely on this\n",
      "    function to behave when passed arguments satisfying that\n",
      "    inequality condition.\n",
      "    \n",
      "    Examples\n",
      "    --------\n",
      "    Draw samples from the distribution:\n",
      "    \n",
      "    >>> s = np.random.uniform(-1,0,1000)\n",
      "    \n",
      "    All values are within the given interval:\n",
      "    \n",
      "    >>> np.all(s >= -1)\n",
      "    True\n",
      "    >>> np.all(s < 0)\n",
      "    True\n",
      "    \n",
      "    Display the histogram of the samples, along with the\n",
      "    probability density function:\n",
      "    \n",
      "    >>> import matplotlib.pyplot as plt\n",
      "    >>> count, bins, ignored = plt.hist(s, 15, density=True)\n",
      "    >>> plt.plot(bins, np.ones_like(bins), linewidth=2, color='r')\n",
      "    >>> plt.show()\n",
      "\n"
     ]
    }
   ],
   "source": [
    "help(np.random.uniform)"
   ]
  },
  {
   "cell_type": "code",
   "execution_count": 190,
   "metadata": {},
   "outputs": [],
   "source": [
    "#help(np.random)"
   ]
  },
  {
   "cell_type": "markdown",
   "metadata": {},
   "source": [
    "#### Using NumPy To Read In Files"
   ]
  },
  {
   "cell_type": "markdown",
   "metadata": {},
   "source": [
    "* Using numpy we can directly read data from a file\n",
    "  - np.genfromtxt() is the function that will help us read data from the file"
   ]
  },
  {
   "cell_type": "code",
   "execution_count": 63,
   "metadata": {},
   "outputs": [
    {
     "data": {
      "text/plain": [
       "(25, 6)"
      ]
     },
     "execution_count": 63,
     "metadata": {},
     "output_type": "execute_result"
    }
   ],
   "source": [
    "temp = np.genfromtxt(\"numpyreadindata.csv\",\n",
    "                     delimiter=\",\",skip_header=True)\n",
    "\n",
    "temp.shape"
   ]
  },
  {
   "cell_type": "code",
   "execution_count": 64,
   "metadata": {},
   "outputs": [
    {
     "data": {
      "text/plain": [
       "numpy.ndarray"
      ]
     },
     "execution_count": 64,
     "metadata": {},
     "output_type": "execute_result"
    }
   ],
   "source": [
    "type(temp)"
   ]
  },
  {
   "cell_type": "code",
   "execution_count": 65,
   "metadata": {},
   "outputs": [
    {
     "data": {
      "text/plain": [
       "array([[ 2., 48.,  0.,  0.,  0.,  1.],\n",
       "       [ 3., 12.,  0.,  0.,  0.,  0.],\n",
       "       [ 4., 42.,  0.,  0.,  1.,  0.],\n",
       "       [ 5., 24.,  1.,  0.,  0.,  0.],\n",
       "       [ 6., 36.,  0.,  0.,  0.,  0.],\n",
       "       [ 7., 24.,  0.,  0.,  1.,  0.],\n",
       "       [ 8., 36.,  0.,  1.,  0.,  0.],\n",
       "       [ 9., 12.,  0.,  0.,  0.,  1.],\n",
       "       [10., 30.,  1.,  0.,  0.,  0.],\n",
       "       [11., 12.,  1.,  0.,  0.,  0.],\n",
       "       [12., 48.,  0.,  0.,  0.,  0.],\n",
       "       [13., 12.,  0.,  0.,  0.,  1.],\n",
       "       [14., 24.,  1.,  0.,  0.,  0.],\n",
       "       [15., 15.,  1.,  0.,  0.,  0.],\n",
       "       [16., 24.,  0.,  0.,  0.,  1.],\n",
       "       [17., 24.,  0.,  0.,  0.,  1.],\n",
       "       [18., 30.,  0.,  0.,  0.,  0.],\n",
       "       [19., 24.,  0.,  1.,  0.,  0.],\n",
       "       [20., 24.,  0.,  0.,  0.,  1.],\n",
       "       [21.,  9.,  1.,  0.,  0.,  0.],\n",
       "       [22.,  6.,  0.,  0.,  0.,  1.],\n",
       "       [23., 10.,  1.,  0.,  0.,  0.],\n",
       "       [24., 12.,  0.,  1.,  0.,  0.],\n",
       "       [25., 10.,  0.,  0.,  1.,  0.],\n",
       "       [26.,  6.,  0.,  0.,  1.,  0.]])"
      ]
     },
     "execution_count": 65,
     "metadata": {},
     "output_type": "execute_result"
    }
   ],
   "source": [
    "temp"
   ]
  },
  {
   "cell_type": "markdown",
   "metadata": {},
   "source": [
    "How do I extract the row `14., 24.,  1.,  0.,  0.,  0.` ?"
   ]
  },
  {
   "cell_type": "code",
   "execution_count": 66,
   "metadata": {},
   "outputs": [
    {
     "data": {
      "text/plain": [
       "array([14., 24.,  1.,  0.,  0.,  0.])"
      ]
     },
     "execution_count": 66,
     "metadata": {},
     "output_type": "execute_result"
    }
   ],
   "source": [
    "temp[12,:]"
   ]
  },
  {
   "cell_type": "markdown",
   "metadata": {},
   "source": [
    "How do we extract the $2^{nd}$ column"
   ]
  },
  {
   "cell_type": "code",
   "execution_count": 67,
   "metadata": {},
   "outputs": [
    {
     "data": {
      "text/plain": [
       "array([48., 12., 42., 24., 36., 24., 36., 12., 30., 12., 48., 12., 24.,\n",
       "       15., 24., 24., 30., 24., 24.,  9.,  6., 10., 12., 10.,  6.])"
      ]
     },
     "execution_count": 67,
     "metadata": {},
     "output_type": "execute_result"
    }
   ],
   "source": [
    "temp[:,1]"
   ]
  },
  {
   "cell_type": "markdown",
   "metadata": {},
   "source": [
    "###### Activity"
   ]
  },
  {
   "cell_type": "markdown",
   "metadata": {},
   "source": [
    "Extract the array \n",
    "\n",
    "$\\begin{bmatrix}2 & 48\\\\3 & 12\\end{bmatrix}$"
   ]
  },
  {
   "cell_type": "code",
   "execution_count": 195,
   "metadata": {},
   "outputs": [
    {
     "data": {
      "text/plain": [
       "array([[ 2., 48.],\n",
       "       [ 3., 12.]])"
      ]
     },
     "execution_count": 195,
     "metadata": {},
     "output_type": "execute_result"
    }
   ],
   "source": [
    "temp[0:2,0:2]"
   ]
  },
  {
   "cell_type": "markdown",
   "metadata": {},
   "source": [
    "###### Combining NumPy Arrays\n"
   ]
  },
  {
   "cell_type": "code",
   "execution_count": 197,
   "metadata": {},
   "outputs": [],
   "source": [
    "x = np.array(range(9))\n",
    "y = np.array(range(10,19))"
   ]
  },
  {
   "cell_type": "code",
   "execution_count": 198,
   "metadata": {},
   "outputs": [
    {
     "name": "stdout",
     "output_type": "stream",
     "text": [
      "[0 1 2 3 4 5 6 7 8]\n",
      "(9,)\n"
     ]
    }
   ],
   "source": [
    "print(x)\n",
    "print(x.shape)"
   ]
  },
  {
   "cell_type": "code",
   "execution_count": 199,
   "metadata": {},
   "outputs": [
    {
     "name": "stdout",
     "output_type": "stream",
     "text": [
      "[10 11 12 13 14 15 16 17 18]\n",
      "(9,)\n"
     ]
    }
   ],
   "source": [
    "print(y)\n",
    "print(y.shape)"
   ]
  },
  {
   "cell_type": "code",
   "execution_count": 201,
   "metadata": {},
   "outputs": [],
   "source": [
    "r=x.reshape(3,3)"
   ]
  },
  {
   "cell_type": "code",
   "execution_count": 69,
   "metadata": {},
   "outputs": [
    {
     "data": {
      "text/plain": [
       "array([[0, 1, 2],\n",
       "       [3, 4, 5],\n",
       "       [6, 7, 8]])"
      ]
     },
     "execution_count": 69,
     "metadata": {},
     "output_type": "execute_result"
    }
   ],
   "source": [
    "r"
   ]
  },
  {
   "cell_type": "code",
   "execution_count": 202,
   "metadata": {},
   "outputs": [],
   "source": [
    "s=y.reshape(3,3)"
   ]
  },
  {
   "cell_type": "code",
   "execution_count": 203,
   "metadata": {},
   "outputs": [
    {
     "data": {
      "text/plain": [
       "array([[10, 11, 12],\n",
       "       [13, 14, 15],\n",
       "       [16, 17, 18]])"
      ]
     },
     "execution_count": 203,
     "metadata": {},
     "output_type": "execute_result"
    }
   ],
   "source": [
    "s"
   ]
  },
  {
   "cell_type": "markdown",
   "metadata": {},
   "source": [
    "With NumPy, it's very common to combine multiple arrays into a single unified array. We can use numpy.vstack to vertically stack multiple arrays. Think of it like the second arrays's items being added as new rows to the first array"
   ]
  },
  {
   "cell_type": "code",
   "execution_count": 204,
   "metadata": {},
   "outputs": [],
   "source": [
    "t=np.vstack([r,s]) # rbind of R"
   ]
  },
  {
   "cell_type": "code",
   "execution_count": 205,
   "metadata": {},
   "outputs": [
    {
     "name": "stdout",
     "output_type": "stream",
     "text": [
      "[[ 0  1  2]\n",
      " [ 3  4  5]\n",
      " [ 6  7  8]\n",
      " [10 11 12]\n",
      " [13 14 15]\n",
      " [16 17 18]]\n",
      "(6, 3)\n"
     ]
    }
   ],
   "source": [
    "print(t)\n",
    "print(t.shape)"
   ]
  },
  {
   "cell_type": "code",
   "execution_count": 206,
   "metadata": {},
   "outputs": [],
   "source": [
    "u=np.hstack([r,s]) # cbind of R"
   ]
  },
  {
   "cell_type": "code",
   "execution_count": 207,
   "metadata": {},
   "outputs": [
    {
     "name": "stdout",
     "output_type": "stream",
     "text": [
      "[[ 0  1  2 10 11 12]\n",
      " [ 3  4  5 13 14 15]\n",
      " [ 6  7  8 16 17 18]]\n",
      "(3, 6)\n"
     ]
    }
   ],
   "source": [
    "print(u)\n",
    "print(u.shape)"
   ]
  },
  {
   "cell_type": "markdown",
   "metadata": {},
   "source": [
    "###### NumPy Array Comparisons"
   ]
  },
  {
   "cell_type": "code",
   "execution_count": 208,
   "metadata": {},
   "outputs": [
    {
     "data": {
      "text/plain": [
       "array([[ 2., 48.,  0.,  0.,  0.,  1.],\n",
       "       [ 3., 12.,  0.,  0.,  0.,  0.],\n",
       "       [ 4., 42.,  0.,  0.,  1.,  0.],\n",
       "       [ 5., 24.,  1.,  0.,  0.,  0.],\n",
       "       [ 6., 36.,  0.,  0.,  0.,  0.],\n",
       "       [ 7., 24.,  0.,  0.,  1.,  0.],\n",
       "       [ 8., 36.,  0.,  1.,  0.,  0.],\n",
       "       [ 9., 12.,  0.,  0.,  0.,  1.],\n",
       "       [10., 30.,  1.,  0.,  0.,  0.],\n",
       "       [11., 12.,  1.,  0.,  0.,  0.],\n",
       "       [12., 48.,  0.,  0.,  0.,  0.],\n",
       "       [13., 12.,  0.,  0.,  0.,  1.],\n",
       "       [14., 24.,  1.,  0.,  0.,  0.],\n",
       "       [15., 15.,  1.,  0.,  0.,  0.],\n",
       "       [16., 24.,  0.,  0.,  0.,  1.],\n",
       "       [17., 24.,  0.,  0.,  0.,  1.],\n",
       "       [18., 30.,  0.,  0.,  0.,  0.],\n",
       "       [19., 24.,  0.,  1.,  0.,  0.],\n",
       "       [20., 24.,  0.,  0.,  0.,  1.],\n",
       "       [21.,  9.,  1.,  0.,  0.,  0.],\n",
       "       [22.,  6.,  0.,  0.,  0.,  1.],\n",
       "       [23., 10.,  1.,  0.,  0.,  0.],\n",
       "       [24., 12.,  0.,  1.,  0.,  0.],\n",
       "       [25., 10.,  0.,  0.,  1.,  0.],\n",
       "       [26.,  6.,  0.,  0.,  1.,  0.]])"
      ]
     },
     "execution_count": 208,
     "metadata": {},
     "output_type": "execute_result"
    }
   ],
   "source": [
    "temp"
   ]
  },
  {
   "cell_type": "code",
   "execution_count": 214,
   "metadata": {},
   "outputs": [
    {
     "data": {
      "text/plain": [
       "array([False, False, False, False, False, False, False, False, False,\n",
       "        True,  True,  True,  True,  True,  True,  True,  True,  True,\n",
       "        True,  True,  True,  True,  True,  True,  True])"
      ]
     },
     "execution_count": 214,
     "metadata": {},
     "output_type": "execute_result"
    }
   ],
   "source": [
    "temp[:,0]>10"
   ]
  },
  {
   "cell_type": "code",
   "execution_count": 217,
   "metadata": {},
   "outputs": [
    {
     "data": {
      "text/plain": [
       "array([12., 48., 12., 24., 15., 24., 24., 30., 24., 24.,  9.,  6., 10.,\n",
       "       12., 10.,  6.])"
      ]
     },
     "execution_count": 217,
     "metadata": {},
     "output_type": "execute_result"
    }
   ],
   "source": [
    "temp[temp[:,0]>10,1]"
   ]
  },
  {
   "cell_type": "code",
   "execution_count": 218,
   "metadata": {},
   "outputs": [
    {
     "data": {
      "text/plain": [
       "array([False, False, False, False, False, False,  True, False, False,\n",
       "       False, False, False, False, False, False, False, False,  True,\n",
       "       False, False, False, False,  True, False, False])"
      ]
     },
     "execution_count": 218,
     "metadata": {},
     "output_type": "execute_result"
    }
   ],
   "source": [
    "temp[:,3] == 1"
   ]
  },
  {
   "cell_type": "markdown",
   "metadata": {},
   "source": [
    "Boolean array indexing: Boolean array indexing lets you pick out arbitrary elements of an array. Frequently this type of indexing is used to select the elements of an array that satisfy some condition. Here is an example:"
   ]
  },
  {
   "cell_type": "markdown",
   "metadata": {},
   "source": [
    "A quick detour from our `temp` data"
   ]
  },
  {
   "cell_type": "code",
   "execution_count": 219,
   "metadata": {},
   "outputs": [
    {
     "name": "stdout",
     "output_type": "stream",
     "text": [
      "[[False False]\n",
      " [ True  True]\n",
      " [ True  True]]\n"
     ]
    }
   ],
   "source": [
    "a = np.array([[1,2], [3, 4], [5, 6]])\n",
    "bool_idx = (a > 2)  # Find the elements of 'a' that are bigger than 2;\n",
    "                    # this returns a numpy array of Booleans of the same\n",
    "                    # shape as a, where each slot of bool_idx tells\n",
    "                    # whether that element of a is > 2.\n",
    "print (bool_idx)"
   ]
  },
  {
   "cell_type": "markdown",
   "metadata": {},
   "source": [
    "Note: When we use boolean indexing, the result of subsetting an array with the boolean index may not have the same shape as before"
   ]
  },
  {
   "cell_type": "code",
   "execution_count": 220,
   "metadata": {},
   "outputs": [
    {
     "data": {
      "text/plain": [
       "array([[1, 2],\n",
       "       [3, 4],\n",
       "       [5, 6]])"
      ]
     },
     "execution_count": 220,
     "metadata": {},
     "output_type": "execute_result"
    }
   ],
   "source": [
    "a"
   ]
  },
  {
   "cell_type": "code",
   "execution_count": 221,
   "metadata": {},
   "outputs": [
    {
     "name": "stdout",
     "output_type": "stream",
     "text": [
      "[3 4 5 6]\n"
     ]
    }
   ],
   "source": [
    "# We use boolean array indexing to construct an array\n",
    "# consisting of the elements of a corresponding to the True values\n",
    "# of bool_idx\n",
    "print(a[bool_idx])"
   ]
  },
  {
   "cell_type": "markdown",
   "metadata": {},
   "source": [
    "###### We can do all of the above in a single concise statement:"
   ]
  },
  {
   "cell_type": "code",
   "execution_count": 222,
   "metadata": {},
   "outputs": [
    {
     "name": "stdout",
     "output_type": "stream",
     "text": [
      "[3 4 5 6]\n"
     ]
    }
   ],
   "source": [
    "print (a[a > 2])"
   ]
  },
  {
   "cell_type": "markdown",
   "metadata": {},
   "source": [
    "Now let us come back to our `temp` data"
   ]
  },
  {
   "cell_type": "markdown",
   "metadata": {},
   "source": [
    "Extract all the rows that have the values in the first column are >15 and < 20"
   ]
  },
  {
   "cell_type": "code",
   "execution_count": 223,
   "metadata": {},
   "outputs": [],
   "source": [
    "# temp[:,0] >15 & temp[:,0] <20"
   ]
  },
  {
   "cell_type": "code",
   "execution_count": 224,
   "metadata": {},
   "outputs": [
    {
     "data": {
      "text/plain": [
       "(25,)"
      ]
     },
     "execution_count": 224,
     "metadata": {},
     "output_type": "execute_result"
    }
   ],
   "source": [
    "temp[:,0].shape"
   ]
  },
  {
   "cell_type": "code",
   "execution_count": 225,
   "metadata": {},
   "outputs": [
    {
     "data": {
      "text/plain": [
       "[array([False, False, False, False, False, False, False, False, False,\n",
       "        False, False, False, False, False,  True,  True,  True,  True,\n",
       "        False, False, False, False, False, False, False])]"
      ]
     },
     "execution_count": 225,
     "metadata": {},
     "output_type": "execute_result"
    }
   ],
   "source": [
    "[(temp[:,0]>15) & (temp[:,0]<20)]"
   ]
  },
  {
   "cell_type": "code",
   "execution_count": 226,
   "metadata": {},
   "outputs": [
    {
     "data": {
      "text/plain": [
       "(4, 6)"
      ]
     },
     "execution_count": 226,
     "metadata": {},
     "output_type": "execute_result"
    }
   ],
   "source": [
    "temp[(15<temp[:,0]) & (temp[:,0]<20)].shape"
   ]
  },
  {
   "cell_type": "code",
   "execution_count": 227,
   "metadata": {},
   "outputs": [
    {
     "data": {
      "text/plain": [
       "array([[16., 24.,  0.,  0.,  0.,  1.],\n",
       "       [17., 24.,  0.,  0.,  0.,  1.],\n",
       "       [18., 30.,  0.,  0.,  0.,  0.],\n",
       "       [19., 24.,  0.,  1.,  0.,  0.]])"
      ]
     },
     "execution_count": 227,
     "metadata": {},
     "output_type": "execute_result"
    }
   ],
   "source": [
    "temp[(temp[:,0]>15) & (temp[:,0]<20)]"
   ]
  },
  {
   "cell_type": "code",
   "execution_count": 228,
   "metadata": {},
   "outputs": [
    {
     "data": {
      "text/plain": [
       "array([[False, False,  True,  True,  True, False],\n",
       "       [False, False,  True,  True,  True,  True],\n",
       "       [False, False,  True,  True, False,  True],\n",
       "       [False, False, False,  True,  True,  True],\n",
       "       [False, False,  True,  True,  True,  True],\n",
       "       [False, False,  True,  True, False,  True],\n",
       "       [False, False,  True, False,  True,  True],\n",
       "       [False, False,  True,  True,  True, False],\n",
       "       [False, False, False,  True,  True,  True],\n",
       "       [False, False, False,  True,  True,  True],\n",
       "       [False, False,  True,  True,  True,  True],\n",
       "       [False, False,  True,  True,  True, False],\n",
       "       [False, False, False,  True,  True,  True],\n",
       "       [False, False, False,  True,  True,  True],\n",
       "       [False, False,  True,  True,  True, False],\n",
       "       [False, False,  True,  True,  True, False],\n",
       "       [False, False,  True,  True,  True,  True],\n",
       "       [False, False,  True, False,  True,  True],\n",
       "       [False, False,  True,  True,  True, False],\n",
       "       [False, False, False,  True,  True,  True],\n",
       "       [False, False,  True,  True,  True, False],\n",
       "       [False, False, False,  True,  True,  True],\n",
       "       [False, False,  True, False,  True,  True],\n",
       "       [False, False,  True,  True, False,  True],\n",
       "       [False, False,  True,  True, False,  True]])"
      ]
     },
     "execution_count": 228,
     "metadata": {},
     "output_type": "execute_result"
    }
   ],
   "source": [
    "(temp == 0)"
   ]
  },
  {
   "cell_type": "code",
   "execution_count": 88,
   "metadata": {},
   "outputs": [
    {
     "data": {
      "text/plain": [
       "(79,)"
      ]
     },
     "execution_count": 88,
     "metadata": {},
     "output_type": "execute_result"
    }
   ],
   "source": [
    "temp[temp==0].shape"
   ]
  },
  {
   "cell_type": "code",
   "execution_count": 229,
   "metadata": {},
   "outputs": [
    {
     "data": {
      "text/plain": [
       "array([0., 0., 0., 0., 0., 0., 0., 0., 0., 0., 0., 0., 0., 0., 0., 0., 0.,\n",
       "       0., 0., 0., 0., 0., 0., 0., 0., 0., 0., 0., 0., 0., 0., 0., 0., 0.,\n",
       "       0., 0., 0., 0., 0., 0., 0., 0., 0., 0., 0., 0., 0., 0., 0., 0., 0.,\n",
       "       0., 0., 0., 0., 0., 0., 0., 0., 0., 0., 0., 0., 0., 0., 0., 0., 0.,\n",
       "       0., 0., 0., 0., 0., 0., 0., 0., 0., 0., 0.])"
      ]
     },
     "execution_count": 229,
     "metadata": {},
     "output_type": "execute_result"
    }
   ],
   "source": [
    "temp[temp==0]"
   ]
  },
  {
   "cell_type": "markdown",
   "metadata": {},
   "source": [
    "### Datatypes\n",
    "\n",
    "Every numpy array is a grid of elements of the same type. Numpy provides a large set of numeric datatypes that you can use to construct arrays. Numpy tries to guess a datatype when you create an array, but functions that construct arrays usually also include an optional argument to explicitly specify the datatype. Here is an example:\n"
   ]
  },
  {
   "cell_type": "code",
   "execution_count": 89,
   "metadata": {},
   "outputs": [
    {
     "data": {
      "image/png": "[encoded data removed]",
      "text/plain": [
       "<IPython.core.display.Image object>"
      ]
     },
     "execution_count": 89,
     "metadata": {},
     "output_type": "execute_result"
    }
   ],
   "source": [
    "Image(\"numpy_datatypes.png\")"
   ]
  },
  {
   "cell_type": "markdown",
   "metadata": {},
   "source": [
    "Reference: https://docs.scipy.org/doc/numpy-1.13.0/user/basics.types.html"
   ]
  },
  {
   "cell_type": "code",
   "execution_count": 231,
   "metadata": {},
   "outputs": [
    {
     "name": "stdout",
     "output_type": "stream",
     "text": [
      "int64 float64 int64\n"
     ]
    }
   ],
   "source": [
    "x = np.array([1, 2])  # Let numpy choose the datatype\n",
    "y = np.array([1.0, 2.0])  # Let numpy choose the datatype\n",
    "z = np.array([1, 2], dtype=np.int64)  # Force a particular datatype\n",
    "print (x.dtype, y.dtype, z.dtype)"
   ]
  },
  {
   "cell_type": "code",
   "execution_count": 232,
   "metadata": {},
   "outputs": [
    {
     "data": {
      "text/plain": [
       "numpy.ndarray"
      ]
     },
     "execution_count": 232,
     "metadata": {},
     "output_type": "execute_result"
    }
   ],
   "source": [
    "type(x)"
   ]
  },
  {
   "cell_type": "code",
   "execution_count": 233,
   "metadata": {},
   "outputs": [
    {
     "data": {
      "text/plain": [
       "dtype('int64')"
      ]
     },
     "execution_count": 233,
     "metadata": {},
     "output_type": "execute_result"
    }
   ],
   "source": [
    "z.dtype"
   ]
  },
  {
   "cell_type": "markdown",
   "metadata": {},
   "source": [
    "###### We can give float values and force the datatype to be int64 , this results in loss of information\n"
   ]
  },
  {
   "cell_type": "code",
   "execution_count": 234,
   "metadata": {},
   "outputs": [
    {
     "data": {
      "text/plain": [
       "array([1, 2])"
      ]
     },
     "execution_count": 234,
     "metadata": {},
     "output_type": "execute_result"
    }
   ],
   "source": [
    "z1 = np.array([1.0,2.2],dtype=np.int64)\n",
    "z1"
   ]
  },
  {
   "cell_type": "code",
   "execution_count": 235,
   "metadata": {},
   "outputs": [
    {
     "data": {
      "text/plain": [
       "dtype('int64')"
      ]
     },
     "execution_count": 235,
     "metadata": {},
     "output_type": "execute_result"
    }
   ],
   "source": [
    "z1.dtype"
   ]
  },
  {
   "cell_type": "markdown",
   "metadata": {},
   "source": [
    "#### Converting Data Types\n"
   ]
  },
  {
   "cell_type": "code",
   "execution_count": 239,
   "metadata": {},
   "outputs": [
    {
     "name": "stdout",
     "output_type": "stream",
     "text": [
      "[[ 2  4  6]\n",
      " [ 6  8 10]]\n",
      "Data type of the array x is: int32\n",
      "New Type:  float64\n",
      "[[ 2.  4.  6.]\n",
      " [ 6.  8. 10.]]\n"
     ]
    }
   ],
   "source": [
    "x = np.array([[2, 4, 6], [6, 8, 10]], np.int32)\n",
    "print(x)\n",
    "print(\"Data type of the array x is:\",x.dtype)\n",
    "\n",
    "# Change the data type of x\n",
    "y = x.astype(float)\n",
    "print(\"New Type: \",y.dtype)\n",
    "print(y)"
   ]
  },
  {
   "cell_type": "markdown",
   "metadata": {},
   "source": [
    "### Array math\n",
    "\n",
    "Basic mathematical functions operate elementwise on arrays."
   ]
  },
  {
   "cell_type": "code",
   "execution_count": 240,
   "metadata": {},
   "outputs": [
    {
     "name": "stdout",
     "output_type": "stream",
     "text": [
      "[[1. 2.]\n",
      " [3. 4.]]\n",
      "[[5. 6.]\n",
      " [7. 8.]]\n"
     ]
    }
   ],
   "source": [
    "x = np.array([[1,2],[3,4]], dtype=np.float64)\n",
    "y = np.array([[5,6],[7,8]], dtype=np.float64)\n",
    "print (x)\n",
    "print (y)"
   ]
  },
  {
   "cell_type": "code",
   "execution_count": 241,
   "metadata": {},
   "outputs": [
    {
     "data": {
      "text/plain": [
       "array([[-4., -4.],\n",
       "       [-4., -4.]])"
      ]
     },
     "execution_count": 241,
     "metadata": {},
     "output_type": "execute_result"
    }
   ],
   "source": [
    "x-y"
   ]
  },
  {
   "cell_type": "markdown",
   "metadata": {},
   "source": [
    "######  Elementwise sum; both produce the array"
   ]
  },
  {
   "cell_type": "code",
   "execution_count": 242,
   "metadata": {},
   "outputs": [
    {
     "name": "stdout",
     "output_type": "stream",
     "text": [
      "[[ 6.  8.]\n",
      " [10. 12.]]\n"
     ]
    }
   ],
   "source": [
    "print (x+y)"
   ]
  },
  {
   "cell_type": "code",
   "execution_count": 243,
   "metadata": {},
   "outputs": [
    {
     "name": "stdout",
     "output_type": "stream",
     "text": [
      "[[ 6.  8.]\n",
      " [10. 12.]]\n"
     ]
    }
   ],
   "source": [
    "print (np.add(x, y))"
   ]
  },
  {
   "cell_type": "markdown",
   "metadata": {},
   "source": [
    "###### Elementwise difference; both produce the array"
   ]
  },
  {
   "cell_type": "code",
   "execution_count": 244,
   "metadata": {},
   "outputs": [
    {
     "name": "stdout",
     "output_type": "stream",
     "text": [
      "[[-4. -4.]\n",
      " [-4. -4.]]\n",
      "[[-4. -4.]\n",
      " [-4. -4.]]\n"
     ]
    }
   ],
   "source": [
    "print (x - y)\n",
    "print (np.subtract(x, y))"
   ]
  },
  {
   "cell_type": "markdown",
   "metadata": {},
   "source": [
    "###### Even comparision of two matrices/arrays works element wise"
   ]
  },
  {
   "cell_type": "code",
   "execution_count": 245,
   "metadata": {},
   "outputs": [
    {
     "name": "stdout",
     "output_type": "stream",
     "text": [
      "[[ True  True]\n",
      " [ True  True]]\n"
     ]
    }
   ],
   "source": [
    "print(x - y ==  np.subtract(x, y))"
   ]
  },
  {
   "cell_type": "markdown",
   "metadata": {},
   "source": [
    "###### Elementwise product; both produce the array , no need to specifically mention that we need matrix multiplication unlike R"
   ]
  },
  {
   "cell_type": "code",
   "execution_count": 246,
   "metadata": {},
   "outputs": [
    {
     "name": "stdout",
     "output_type": "stream",
     "text": [
      "[[ 5. 12.]\n",
      " [21. 32.]]\n",
      "[[ 5. 12.]\n",
      " [21. 32.]]\n"
     ]
    }
   ],
   "source": [
    "# Elementwise product; both produce the array\n",
    "# [[ 5.0 12.0]\n",
    "#  [21.0 32.0]]\n",
    "print(x * y)\n",
    "print(np.multiply(x, y))"
   ]
  },
  {
   "cell_type": "markdown",
   "metadata": {},
   "source": [
    "###### Matrix multiplication"
   ]
  },
  {
   "cell_type": "code",
   "execution_count": 102,
   "metadata": {},
   "outputs": [
    {
     "data": {
      "text/plain": [
       "array([[19., 22.],\n",
       "       [43., 50.]])"
      ]
     },
     "execution_count": 102,
     "metadata": {},
     "output_type": "execute_result"
    }
   ],
   "source": [
    "np.dot(x,y)"
   ]
  },
  {
   "cell_type": "markdown",
   "metadata": {},
   "source": [
    "###### Elementwise division; both produce the array"
   ]
  },
  {
   "cell_type": "code",
   "execution_count": 247,
   "metadata": {},
   "outputs": [
    {
     "name": "stdout",
     "output_type": "stream",
     "text": [
      "[[0.2        0.33333333]\n",
      " [0.42857143 0.5       ]]\n"
     ]
    }
   ],
   "source": [
    "# [[ 0.2         0.33333333]\n",
    "#  [ 0.42857143  0.5       ]]\n",
    "print (x / y)"
   ]
  },
  {
   "cell_type": "code",
   "execution_count": 248,
   "metadata": {},
   "outputs": [
    {
     "name": "stdout",
     "output_type": "stream",
     "text": [
      "[[0.2        0.33333333]\n",
      " [0.42857143 0.5       ]]\n"
     ]
    }
   ],
   "source": [
    "print (np.divide(x, y))"
   ]
  },
  {
   "cell_type": "markdown",
   "metadata": {},
   "source": [
    "###### Elementwise square root; produces the array"
   ]
  },
  {
   "cell_type": "code",
   "execution_count": 249,
   "metadata": {},
   "outputs": [
    {
     "name": "stdout",
     "output_type": "stream",
     "text": [
      "[[1.         1.41421356]\n",
      " [1.73205081 2.        ]]\n"
     ]
    }
   ],
   "source": [
    "# [[ 1.          1.41421356]\n",
    "#  [ 1.73205081  2.        ]]\n",
    "print (np.sqrt(x))"
   ]
  },
  {
   "cell_type": "markdown",
   "metadata": {},
   "source": [
    "##### Sum of all elements in the array"
   ]
  },
  {
   "cell_type": "code",
   "execution_count": 250,
   "metadata": {},
   "outputs": [
    {
     "name": "stdout",
     "output_type": "stream",
     "text": [
      "10.0\n"
     ]
    }
   ],
   "source": [
    "print (np.sum(x))  # Compute sum of all elements; prints \"10\""
   ]
  },
  {
   "cell_type": "code",
   "execution_count": 251,
   "metadata": {},
   "outputs": [
    {
     "data": {
      "text/plain": [
       "array([[1., 2.],\n",
       "       [3., 4.]])"
      ]
     },
     "execution_count": 251,
     "metadata": {},
     "output_type": "execute_result"
    }
   ],
   "source": [
    "x"
   ]
  },
  {
   "cell_type": "markdown",
   "metadata": {},
   "source": [
    "Numpy also allows us to specify the axis on which we want to compute sum"
   ]
  },
  {
   "cell_type": "code",
   "execution_count": 252,
   "metadata": {},
   "outputs": [
    {
     "data": {
      "text/plain": [
       "(25, 6)"
      ]
     },
     "execution_count": 252,
     "metadata": {},
     "output_type": "execute_result"
    }
   ],
   "source": [
    "temp.shape"
   ]
  },
  {
   "cell_type": "code",
   "execution_count": 254,
   "metadata": {},
   "outputs": [
    {
     "name": "stdout",
     "output_type": "stream",
     "text": [
      "[350. 554.   7.   3.   4.   7.]\n"
     ]
    }
   ],
   "source": [
    "print (np.sum(temp, axis=0))  # Compute sum of each column; prints \"[350. 554.   7.   3.   4.   7.]\""
   ]
  },
  {
   "cell_type": "code",
   "execution_count": 255,
   "metadata": {},
   "outputs": [
    {
     "name": "stdout",
     "output_type": "stream",
     "text": [
      "[51. 15. 47. 30. 42. 32. 45. 22. 41. 24. 60. 26. 39. 31. 41. 42. 48. 44.\n",
      " 45. 31. 29. 34. 37. 36. 33.]\n"
     ]
    }
   ],
   "source": [
    "print (np.sum(temp, axis=1))  # Compute sum of each row; prints \"[51. 15. 47. 30. 42. 32. 45. 22. 41. 24. 60. 26. 39. 31. 41. 42. 48. 44.,45. 31. 29. 34. 37. 36. 33.]\""
   ]
  },
  {
   "cell_type": "markdown",
   "metadata": {},
   "source": [
    "##### Assignment\n",
    "\n",
    "- Extract the second Column of the temp variable and print it.\n",
    "- Find the number of elements greater than 15 in the whole `temp` data.\n",
    "- Find the sum of all the even and odd numbers in the $2^{nd}$ column of `temp` data.\n",
    "- Subtract mean of second column from each element in the second column.\n",
    "- After subtracting the mean from each value, divide each element by the standard deviation."
   ]
  }
 ],
 "metadata": {
  "anaconda-cloud": {},
  "kernelspec": {
   "display_name": "Python 3",
   "language": "python",
   "name": "python3"
  },
  "language_info": {
   "codemirror_mode": {
    "name": "ipython",
    "version": 3
   },
   "file_extension": ".py",
   "mimetype": "text/x-python",
   "name": "python",
   "nbconvert_exporter": "python",
   "pygments_lexer": "ipython3",
   "version": "3.6.7"
  }
 },
 "nbformat": 4,
 "nbformat_minor": 2
}
